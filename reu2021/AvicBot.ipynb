{
 "cells": [
  {
   "cell_type": "markdown",
   "metadata": {},
   "source": [
    "AvicBot\n",
    "===\n",
    "\n",
    "(currently inactive)\n"
   ]
  },
  {
   "cell_type": "markdown",
   "metadata": {},
   "source": [
    "(when me and abby went over the first 5 revisions, rev id's: 876773821, 877630206, 878854297, 878872180, 877568508)\n",
    "* on AfCCSD page (what does that mean?), adds a user for empty page, later returns page to empty state\n",
    "\n",
    "* on same page, adds draft one edit, removes 1 hour later\n",
    "\n",
    "* on AvicBot/speedy page, adding and deleting various pages, categories, and drafts. unsure about the purpose of this list\n",
    "\n",
    "* on AfCCSD page, empties page and empties again later\n",
    "\n",
    "* adding and removing drafts from AfCCSD page.\n",
    "\n",
    "note: looked at these pages and are no longer in use as of July 2020\n"
   ]
  },
  {
   "cell_type": "markdown",
   "metadata": {},
   "source": [
    "do a write-up where we go deeper on some pairs - pick 2 self reverting and 1 bot-bot reverting combination -- each take one bot. can do in spreadsheet or notebook. go beyond bullet pointed list -- write a summary of why bot exists, what it does, why it gets reverted. give us a case study. what is the thing that is trying to be done here? deepen qualitative understanding\n",
    "\n",
    "* why exist\n",
    "* how long operational\n",
    "* what percentage reverts\n",
    "* why reverts itself\n",
    "* namespaces\n",
    "* link to code of bot? -- is publicly accessible?\n",
    "* how does it work\n",
    "* look at 10, 20 revisions\n",
    "* look at 10, 20 reverted revisions\n",
    "\n",
    "What does this bot do? How long has it been operational? Look at all the revisions this bot makes (10-20 revisions) and then 10-20 of its reverted revisions. What percentage of bots does it revert the most and get reverted the most? How does it interact with reverts? Go to talk pages \n",
    "Can’t find the code? (interesting to note) \n",
    "Require an understanding of the system\n",
    "\n",
    "points not in order. collect as many links as you can. if find interesting rev, copy url and write why interesting. klepto approach - take as many as you can\n"
   ]
  },
  {
   "cell_type": "markdown",
   "metadata": {},
   "source": [
    "Why AvicBot exist?\n",
    "==\n",
    "\n",
    "https://en.wikipedia.org/wiki/User:AvicBot\n",
    "\n",
    "Source code is published, check the link above^^\n",
    "\n",
    "AvicBots taks include: \n",
    "* maintaining interiwki links\n",
    "* fixing redirects\n",
    "* tagging uncategorized pages - adding a template that will add tagged pages to Category:Uncategorized pages or dated subcategories thereof.\n",
    "* maintian a list of some categories - click the link above for exactly which caategories\n",
    "* \"category multiple merge targets\" - you can merge multiple articles together and the target article is the one who oyou want to merge to - seems to be moving and nominating certian categories to this page, which are pages that \"need attention and work by editors before the CfD request can be completed. - a similar process to the \"articles for deletion\" because a discussion is held determining whehter two or more articles shoud be merged\n",
    "* maintaining {commonscat} category - used on roughly one percent of pages, this template {{Commons category}} links to a \"Category:\" name in name in the Wikimedia Commons repository that corresponds to the article or category.  If the Commons category name is misspelled or missing, the link will still appear \"blue\" even though the link will fail\n",
    "* maintaining indef-blocked categories - user pages in this category are for users who have been indefinetely blocked and now oonly exist temporarily, usually to provide information to the users or allow them a suitable period of time to contest blocking. Indefinite does not mean \"infinite\" or \"permanent\". An indefinitely blocked user may later be unblocked in appropriate circumstances. In particularly serious cases in which no administrator would be willing to lift the block, the user is effectively banned by the community.\n",
    " * tagging {{orphan}} pages - Template:Orphan is used on pages with no incoming links from other articles or lists (orphan). The template is responsible for populating sub-categories of Category:Orphaned articles ( a hidden category). There are currently 91,740 orphaned articles.\n",
    " * merging 3+ {{multiple issues}} tags - This template tags articles or sections for multiple maintenance issues and then displays the alerts in a single box, as an alternative to using several space-consuming boxes, makes it mroe pleasant to look at, saves space.\n",
    " * assisting with WP:CFD/W\n",
    " * Maintaining CAT: UWCOI -"
   ]
  }
 ],
 "metadata": {
  "kernelspec": {
   "display_name": "Python 3",
   "language": "python",
   "name": "python3"
  },
  "language_info": {
   "codemirror_mode": {
    "name": "ipython",
    "version": 3
   },
   "file_extension": ".py",
   "mimetype": "text/x-python",
   "name": "python",
   "nbconvert_exporter": "python",
   "pygments_lexer": "ipython3",
   "version": "3.8.5"
  }
 },
 "nbformat": 4,
 "nbformat_minor": 5
}
