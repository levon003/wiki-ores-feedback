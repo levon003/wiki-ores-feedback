{
 "cells": [
  {
   "cell_type": "code",
   "execution_count": 1,
   "metadata": {
    "tags": []
   },
   "outputs": [],
   "source": [
    "%reload_ext autoreload\n",
    "%autoreload 2\n",
    "%matplotlib inline"
   ]
  },
  {
   "cell_type": "code",
   "execution_count": 2,
   "metadata": {
    "tags": []
   },
   "outputs": [],
   "source": [
    "# these three imports are aliased as np, pd, and plt by convention\n",
    "import numpy as np\n",
    "import pandas as pd\n",
    "import matplotlib.pyplot as plt\n",
    "\n",
    "# other imports can go here\n",
    "from datetime import datetime"
   ]
  },
  {
   "cell_type": "code",
   "execution_count": 3,
   "metadata": {},
   "outputs": [],
   "source": [
    "df = pd.read_csv('revs_scored_jan.tsv', sep='\\t', header=0)"
   ]
  },
  {
   "cell_type": "code",
   "execution_count": 4,
   "metadata": {},
   "outputs": [
    {
     "name": "stdout",
     "output_type": "stream",
     "text": [
      "         rev_timestamp   page_id     rev_id prev_rev_id  is_minor  \\\n",
      "0           1546300800  47649229  876227289   869530001      True   \n",
      "1           1546300801  47642850  876227292   869530006      True   \n",
      "2           1546300801  59537875  876227290        None     False   \n",
      "3           1546300801  60902958  876227291   869530004      True   \n",
      "4           1546300802  31392285  876227293   876069768      True   \n",
      "...                ...       ...        ...         ...       ...   \n",
      "4766347     1548979197   1904845  881187547   868089901      True   \n",
      "4766348     1548979198  24973891  881187550   881177866     False   \n",
      "4766349     1548979198  47592150  881187546   881187304     False   \n",
      "4766350     1548979198  57420342  881187549   881187524      True   \n",
      "4766351     1548979199  59823847  881187551   881187083     False   \n",
      "\n",
      "              user_text   user_id seconds_to_prev  curr_bytes delta_bytes  \\\n",
      "0                BD2412    196446         3696519        1195          -9   \n",
      "1                BD2412    196446         3696518        1423          -9   \n",
      "2           Twozenhauer  14955567            None        7835        None   \n",
      "3                BD2412    196446         3696519        1445          -9   \n",
      "4            Cyberbot I  16266655           86401         125          -1   \n",
      "...                 ...       ...             ...         ...         ...   \n",
      "4766347          Pi bot  30394555         7175357       21055           9   \n",
      "4766348      Eifelochse  28838097            4566        5407         420   \n",
      "4766349  174.44.107.138      None             121       67193         114   \n",
      "4766350        Donner60  12744454              11        5075         -76   \n",
      "4766351        Donner60  12744454             244        2760         572   \n",
      "\n",
      "         ...  seconds_to_revert  damaging_pred  goodfaith_pred  model_version  \\\n",
      "0        ...               None       0.021146        0.985808          0.4.0   \n",
      "1        ...               None       0.021847        0.983419          0.4.0   \n",
      "2        ...               None       0.003826        0.998177          0.4.0   \n",
      "3        ...               None       0.021797        0.983336          0.4.0   \n",
      "4        ...               None       0.011582        0.992475          0.4.0   \n",
      "...      ...                ...            ...             ...            ...   \n",
      "4766347  ...               None       0.043339        0.982132          0.5.0   \n",
      "4766348  ...               None       0.009052        0.995230          0.5.0   \n",
      "4766349  ...               None       0.809138        0.443770          0.5.0   \n",
      "4766350  ...               None       0.006672        0.997155          0.5.0   \n",
      "4766351  ...               None       0.003127        0.997950          0.5.0   \n",
      "\n",
      "         user_is_bot  user_is_trusted user_edit_count page_rev_count  \\\n",
      "0              False            False         1289980              5   \n",
      "1              False            False         1289981              5   \n",
      "2              False            False             621              7   \n",
      "3              False            False         1289980             30   \n",
      "4               True             True         1006365            337   \n",
      "...              ...              ...             ...            ...   \n",
      "4766347         True             True           30427             14   \n",
      "4766348        False            False             693             33   \n",
      "4766349        False            False               0            525   \n",
      "4766350        False             True          184263            204   \n",
      "4766351        False             True          184264              4   \n",
      "\n",
      "        page_namespace is_page_redirect  \n",
      "0                  118                0  \n",
      "1                    0                0  \n",
      "2                    0                0  \n",
      "3                    0                0  \n",
      "4                   10                0  \n",
      "...                ...              ...  \n",
      "4766347              0                0  \n",
      "4766348              1                0  \n",
      "4766349              0                0  \n",
      "4766350              0                0  \n",
      "4766351              3                0  \n",
      "\n",
      "[4766352 rows x 29 columns]\n"
     ]
    }
   ],
   "source": [
    "print(df)"
   ]
  },
  {
   "cell_type": "markdown",
   "metadata": {},
   "source": [
    "\n",
    "\n",
    "Bot revisions are those where `user_is_bot` is true. Question: How many bots made edits in January 2019? (Hint: The name of \n",
    "the user who made the revision is given in the user_text column. I am asking: how many unique 'user_text' values are there \n",
    "for rows where user_is_bot == True? There is a Pandas function that does this, but there are several reasonable approaches.)\n",
    "\n"
   ]
  },
  {
   "cell_type": "code",
   "execution_count": 7,
   "metadata": {},
   "outputs": [
    {
     "data": {
      "text/plain": [
       "False    4241207\n",
       "True      525145\n",
       "Name: user_is_bot, dtype: int64"
      ]
     },
     "execution_count": 7,
     "metadata": {},
     "output_type": "execute_result"
    }
   ],
   "source": [
    "df.user_is_bot.value_counts()"
   ]
  },
  {
   "cell_type": "code",
   "execution_count": 14,
   "metadata": {},
   "outputs": [
    {
     "data": {
      "text/plain": [
       "105"
      ]
     },
     "execution_count": 14,
     "metadata": {},
     "output_type": "execute_result"
    }
   ],
   "source": [
    "# number of unique bot ids\n",
    "\n",
    "dfnew = df[df.user_is_bot]\n",
    "len(dfnew.user_text.value_counts())"
   ]
  },
  {
   "cell_type": "markdown",
   "metadata": {},
   "source": [
    "What % of bots edits are reverted and what % of human edits are reverted?  (Hint: This is already in the notebook.  Read the documentation for the crosstab command.  The column \"is_reverted\" tells you whether a revisions was reverted or not (according to a very particular discussion of \"reverted\", which we will discuss later).)\n"
   ]
  },
  {
   "cell_type": "code",
   "execution_count": 16,
   "metadata": {},
   "outputs": [
    {
     "data": {
      "text/html": [
       "<div>\n",
       "<style scoped>\n",
       "    .dataframe tbody tr th:only-of-type {\n",
       "        vertical-align: middle;\n",
       "    }\n",
       "\n",
       "    .dataframe tbody tr th {\n",
       "        vertical-align: top;\n",
       "    }\n",
       "\n",
       "    .dataframe thead th {\n",
       "        text-align: right;\n",
       "    }\n",
       "</style>\n",
       "<table border=\"1\" class=\"dataframe\">\n",
       "  <thead>\n",
       "    <tr style=\"text-align: right;\">\n",
       "      <th>is_reverted</th>\n",
       "      <th>False</th>\n",
       "      <th>True</th>\n",
       "    </tr>\n",
       "    <tr>\n",
       "      <th>user_is_bot</th>\n",
       "      <th></th>\n",
       "      <th></th>\n",
       "    </tr>\n",
       "  </thead>\n",
       "  <tbody>\n",
       "    <tr>\n",
       "      <th>False</th>\n",
       "      <td>0.898</td>\n",
       "      <td>0.102</td>\n",
       "    </tr>\n",
       "    <tr>\n",
       "      <th>True</th>\n",
       "      <td>0.950</td>\n",
       "      <td>0.050</td>\n",
       "    </tr>\n",
       "    <tr>\n",
       "      <th>All</th>\n",
       "      <td>0.903</td>\n",
       "      <td>0.097</td>\n",
       "    </tr>\n",
       "  </tbody>\n",
       "</table>\n",
       "</div>"
      ],
      "text/plain": [
       "is_reverted  False  True \n",
       "user_is_bot              \n",
       "False        0.898  0.102\n",
       "True         0.950  0.050\n",
       "All          0.903  0.097"
      ]
     },
     "execution_count": 16,
     "metadata": {},
     "output_type": "execute_result"
    }
   ],
   "source": [
    "# percentage of bot edits reverted: 5%\n",
    "# percentage of human edits reverted: 10%\n",
    "\n",
    "pd.crosstab(df.user_is_bot, df.is_reverted, margins=True, normalize='index').round(decimals=3)"
   ]
  },
  {
   "cell_type": "markdown",
   "metadata": {},
   "source": [
    "What bot has the most revisions in the dataset? (Hint: already in the notebook. See: pd.DataFrame.value_counts.) What does Cydebot do?  Try to find the original bot approval discussion for Cydebot. (Hint: read about the bot approvals process, find the archived bot approvals list, look for Cydebot. Extra credit: Is Cydebot still running as of June 2021?  If not, what happened to it and why?)"
   ]
  },
  {
   "cell_type": "code",
   "execution_count": 17,
   "metadata": {},
   "outputs": [
    {
     "data": {
      "text/plain": [
       "Cydebot    42742\n",
       "Name: user_text, dtype: int64"
      ]
     },
     "execution_count": 17,
     "metadata": {},
     "output_type": "execute_result"
    }
   ],
   "source": [
    "dfnew.user_text.value_counts().head(1)"
   ]
  },
  {
   "cell_type": "markdown",
   "metadata": {},
   "source": [
    "Cydebot looks at discussions about category deletion, then automatically goes through and deletes mentions of those pages after discussions are concluded.\n",
    "\n",
    "https://en.wikipedia.org/wiki/Special:Contributions/Cydebot\n",
    "https://en.wikipedia.org/wiki/Wikipedia:Categories_for_discussion/Log/2020_January_2#Bunch_of_journal/magazine_people_categories\n",
    "\n",
    "Cydebot was banned because it was deleting things even though no consensus was reached in the discussion (linked).\n",
    "\n",
    "https://en.wikipedia.org/wiki/Wikipedia:Bots/Requests_for_approval/Cydebot_4\n",
    "^^ approval discussion"
   ]
  },
  {
   "cell_type": "code",
   "execution_count": null,
   "metadata": {},
   "outputs": [],
   "source": []
  }
 ],
 "metadata": {
  "kernelspec": {
   "display_name": "Python 3",
   "language": "python",
   "name": "python3"
  },
  "language_info": {
   "codemirror_mode": {
    "name": "ipython",
    "version": 3
   },
   "file_extension": ".py",
   "mimetype": "text/x-python",
   "name": "python",
   "nbconvert_exporter": "python",
   "pygments_lexer": "ipython3",
   "version": "3.8.5"
  }
 },
 "nbformat": 4,
 "nbformat_minor": 5
}
