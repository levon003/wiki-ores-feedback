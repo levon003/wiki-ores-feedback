{
 "cells": [
  {
   "cell_type": "markdown",
   "id": "2e9a017b-2be9-41e7-a8e8-c22947ed1b8d",
   "metadata": {},
   "source": [
    "# AnomieBOT\n",
    "\n",
    "https://en.wikipedia.org/wiki/User:AnomieBOT\n",
    "\n",
    "Practically endless list of tasks, operating since at least 2008, has 5 different accounts to do edits\n"
   ]
  },
  {
   "cell_type": "code",
   "execution_count": 1,
   "id": "300adba5-0e4a-4947-a870-6d8542d28371",
   "metadata": {},
   "outputs": [],
   "source": [
    "%reload_ext autoreload\n",
    "%autoreload 2\n",
    "%matplotlib inline"
   ]
  },
  {
   "cell_type": "code",
   "execution_count": 2,
   "id": "ec8439b4-0fae-471f-91f6-27b4a661875d",
   "metadata": {},
   "outputs": [],
   "source": [
    "import numpy as np\n",
    "import pandas as pd\n",
    "import matplotlib.pyplot as plt"
   ]
  },
  {
   "cell_type": "code",
   "execution_count": 3,
   "id": "5db3ff3e-a047-4fae-9a16-1304a6d3b0dc",
   "metadata": {},
   "outputs": [],
   "source": [
    "from datetime import datetime"
   ]
  },
  {
   "cell_type": "code",
   "execution_count": 4,
   "id": "94cd4935-96b6-4822-bb9b-c48c9a15dc0f",
   "metadata": {},
   "outputs": [],
   "source": [
    "df = pd.read_csv('revs_scored_jan.tsv', sep='\\t', header=0)"
   ]
  },
  {
   "cell_type": "code",
   "execution_count": 5,
   "id": "51ac47e6-eed2-421d-a3ce-9ac66729bef7",
   "metadata": {},
   "outputs": [],
   "source": [
    "days = df.rev_timestamp.map(lambda ts: datetime.utcfromtimestamp(ts).day)\n",
    "df['day'] = days"
   ]
  },
  {
   "cell_type": "code",
   "execution_count": 6,
   "id": "83c85bb9-66d6-455a-bdad-39e3a0d07ede",
   "metadata": {},
   "outputs": [],
   "source": [
    "sdf_anomiebot = df[df.day<22]\n",
    "sdf_anomiebot = sdf_anomiebot[sdf_anomiebot.user_text == \"AnomieBOT\"]\n",
    "\n",
    "sdf_reverted = sdf_anomiebot[sdf_anomiebot.is_reverted] \n",
    "sdf_reverted = sdf_reverted[sdf_reverted.seconds_to_revert.astype('str').astype('int')<86400]"
   ]
  },
  {
   "cell_type": "code",
   "execution_count": 14,
   "id": "994f925c-9d3f-4bfd-ad76-af33f79bbbe1",
   "metadata": {},
   "outputs": [],
   "source": [
    "sdf1 = sdf_reverted.loc[sdf_reverted.is_reverted, [\"rev_id\", \"user_text\", \"revert_id\", \"page_namespace\"]]\n",
    "sdf1.revert_id = sdf1.revert_id.astype('int')"
   ]
  },
  {
   "cell_type": "code",
   "execution_count": 23,
   "id": "a73c1135-fbd4-48a5-bf80-ed1c2daec37f",
   "metadata": {},
   "outputs": [],
   "source": [
    "sdf2 = df[df.user_is_bot == False]\n",
    "sdf2 = sdf2[sdf2.is_revert]\n",
    "sdf2['revert_set_size'] = sdf2.revert_set_size.astype('int')\n",
    "sdf2 = sdf2[[\"rev_id\", 'user_text', 'revert_set_size']]"
   ]
  },
  {
   "cell_type": "code",
   "execution_count": 24,
   "id": "9852afc6-8ba2-47e4-bee7-46bef79c572d",
   "metadata": {},
   "outputs": [],
   "source": [
    "reverts_by_human = pd.merge(sdf1, sdf2, \n",
    "             how='inner', \n",
    "             left_on='revert_id', \n",
    "             right_on='rev_id', \n",
    "             suffixes=('', '_reverter')\n",
    ")"
   ]
  },
  {
   "cell_type": "code",
   "execution_count": 25,
   "id": "d774f0d2-1864-4db7-9014-90e5d0339c57",
   "metadata": {},
   "outputs": [],
   "source": [
    "reverts_by_human0 = reverts_by_human[reverts_by_human.page_namespace == 0]"
   ]
  },
  {
   "cell_type": "code",
   "execution_count": 26,
   "id": "e4c3b968-4947-485e-951b-62141b54d7be",
   "metadata": {},
   "outputs": [],
   "source": [
    "# summary of variables\n",
    "#   sdf_anomiebot = all edits by anomiebot w/in time frame\n",
    "#   sdf_reverted = all reverted edits by anomiebot w/in time frame\n",
    "#   reverts_by_human = all edits of AnomieBOT's that were reverted by a human\n",
    "#   reverts_by_human0 = all edits by anomiebot in namespace 0 reverted by a human"
   ]
  },
  {
   "cell_type": "markdown",
   "id": "927732e2-04da-45b3-85d7-bee5cdad02ba",
   "metadata": {},
   "source": [
    "## sample of edits reverted by humans in namespace 0"
   ]
  },
  {
   "cell_type": "code",
   "execution_count": 27,
   "id": "fc78763f-a53f-47a4-b7bd-4165b3565427",
   "metadata": {},
   "outputs": [
    {
     "data": {
      "text/plain": [
       "214"
      ]
     },
     "execution_count": 27,
     "metadata": {},
     "output_type": "execute_result"
    }
   ],
   "source": [
    "len(reverts_by_human0)"
   ]
  },
  {
   "cell_type": "code",
   "execution_count": 28,
   "id": "622b4350-e424-4c3d-a3dd-ab841f8d5cfb",
   "metadata": {},
   "outputs": [
    {
     "data": {
      "text/html": [
       "<div>\n",
       "<style scoped>\n",
       "    .dataframe tbody tr th:only-of-type {\n",
       "        vertical-align: middle;\n",
       "    }\n",
       "\n",
       "    .dataframe tbody tr th {\n",
       "        vertical-align: top;\n",
       "    }\n",
       "\n",
       "    .dataframe thead th {\n",
       "        text-align: right;\n",
       "    }\n",
       "</style>\n",
       "<table border=\"1\" class=\"dataframe\">\n",
       "  <thead>\n",
       "    <tr style=\"text-align: right;\">\n",
       "      <th></th>\n",
       "      <th>index</th>\n",
       "      <th>rev_id</th>\n",
       "      <th>user_text</th>\n",
       "      <th>revert_id</th>\n",
       "      <th>page_namespace</th>\n",
       "      <th>rev_id_reverter</th>\n",
       "      <th>user_text_reverter</th>\n",
       "      <th>revert_set_size</th>\n",
       "    </tr>\n",
       "  </thead>\n",
       "  <tbody>\n",
       "    <tr>\n",
       "      <th>0</th>\n",
       "      <td>120</td>\n",
       "      <td>877844261</td>\n",
       "      <td>AnomieBOT</td>\n",
       "      <td>877856433</td>\n",
       "      <td>0</td>\n",
       "      <td>877856433</td>\n",
       "      <td>IndianBio</td>\n",
       "      <td>13</td>\n",
       "    </tr>\n",
       "    <tr>\n",
       "      <th>1</th>\n",
       "      <td>222</td>\n",
       "      <td>879465056</td>\n",
       "      <td>AnomieBOT</td>\n",
       "      <td>879584988</td>\n",
       "      <td>0</td>\n",
       "      <td>879584988</td>\n",
       "      <td>Mcbjmund</td>\n",
       "      <td>2</td>\n",
       "    </tr>\n",
       "    <tr>\n",
       "      <th>2</th>\n",
       "      <td>118</td>\n",
       "      <td>877789628</td>\n",
       "      <td>AnomieBOT</td>\n",
       "      <td>877792114</td>\n",
       "      <td>0</td>\n",
       "      <td>877792114</td>\n",
       "      <td>SlashFox14</td>\n",
       "      <td>3</td>\n",
       "    </tr>\n",
       "    <tr>\n",
       "      <th>3</th>\n",
       "      <td>119</td>\n",
       "      <td>877808458</td>\n",
       "      <td>AnomieBOT</td>\n",
       "      <td>877838653</td>\n",
       "      <td>0</td>\n",
       "      <td>877838653</td>\n",
       "      <td>SmartTalk</td>\n",
       "      <td>4</td>\n",
       "    </tr>\n",
       "    <tr>\n",
       "      <th>4</th>\n",
       "      <td>54</td>\n",
       "      <td>877003846</td>\n",
       "      <td>AnomieBOT</td>\n",
       "      <td>877036217</td>\n",
       "      <td>0</td>\n",
       "      <td>877036217</td>\n",
       "      <td>NPguy</td>\n",
       "      <td>2</td>\n",
       "    </tr>\n",
       "    <tr>\n",
       "      <th>5</th>\n",
       "      <td>35</td>\n",
       "      <td>876751654</td>\n",
       "      <td>AnomieBOT</td>\n",
       "      <td>876878685</td>\n",
       "      <td>0</td>\n",
       "      <td>876878685</td>\n",
       "      <td>108.51.174.100</td>\n",
       "      <td>4</td>\n",
       "    </tr>\n",
       "    <tr>\n",
       "      <th>6</th>\n",
       "      <td>64</td>\n",
       "      <td>877147243</td>\n",
       "      <td>AnomieBOT</td>\n",
       "      <td>877155583</td>\n",
       "      <td>0</td>\n",
       "      <td>877155583</td>\n",
       "      <td>Dlthewave</td>\n",
       "      <td>4</td>\n",
       "    </tr>\n",
       "    <tr>\n",
       "      <th>7</th>\n",
       "      <td>165</td>\n",
       "      <td>878689146</td>\n",
       "      <td>AnomieBOT</td>\n",
       "      <td>878825529</td>\n",
       "      <td>0</td>\n",
       "      <td>878825529</td>\n",
       "      <td>JJMC89</td>\n",
       "      <td>2</td>\n",
       "    </tr>\n",
       "    <tr>\n",
       "      <th>8</th>\n",
       "      <td>4</td>\n",
       "      <td>876274193</td>\n",
       "      <td>AnomieBOT</td>\n",
       "      <td>876315021</td>\n",
       "      <td>0</td>\n",
       "      <td>876315021</td>\n",
       "      <td>Drdpw</td>\n",
       "      <td>3</td>\n",
       "    </tr>\n",
       "    <tr>\n",
       "      <th>9</th>\n",
       "      <td>33</td>\n",
       "      <td>876737595</td>\n",
       "      <td>AnomieBOT</td>\n",
       "      <td>876819326</td>\n",
       "      <td>0</td>\n",
       "      <td>876819326</td>\n",
       "      <td>Oknazevad</td>\n",
       "      <td>3</td>\n",
       "    </tr>\n",
       "    <tr>\n",
       "      <th>10</th>\n",
       "      <td>131</td>\n",
       "      <td>878030255</td>\n",
       "      <td>AnomieBOT</td>\n",
       "      <td>878043772</td>\n",
       "      <td>0</td>\n",
       "      <td>878043772</td>\n",
       "      <td>Feminist</td>\n",
       "      <td>2</td>\n",
       "    </tr>\n",
       "    <tr>\n",
       "      <th>11</th>\n",
       "      <td>42</td>\n",
       "      <td>876865419</td>\n",
       "      <td>AnomieBOT</td>\n",
       "      <td>876866428</td>\n",
       "      <td>0</td>\n",
       "      <td>876866428</td>\n",
       "      <td>Bilorv</td>\n",
       "      <td>8</td>\n",
       "    </tr>\n",
       "    <tr>\n",
       "      <th>12</th>\n",
       "      <td>104</td>\n",
       "      <td>877638107</td>\n",
       "      <td>AnomieBOT</td>\n",
       "      <td>877736405</td>\n",
       "      <td>0</td>\n",
       "      <td>877736405</td>\n",
       "      <td>BD2412</td>\n",
       "      <td>2</td>\n",
       "    </tr>\n",
       "    <tr>\n",
       "      <th>13</th>\n",
       "      <td>77</td>\n",
       "      <td>877335896</td>\n",
       "      <td>AnomieBOT</td>\n",
       "      <td>877389055</td>\n",
       "      <td>0</td>\n",
       "      <td>877389055</td>\n",
       "      <td>Lugnuts</td>\n",
       "      <td>2</td>\n",
       "    </tr>\n",
       "    <tr>\n",
       "      <th>14</th>\n",
       "      <td>175</td>\n",
       "      <td>878860832</td>\n",
       "      <td>AnomieBOT</td>\n",
       "      <td>878926472</td>\n",
       "      <td>0</td>\n",
       "      <td>878926472</td>\n",
       "      <td>C.Fred</td>\n",
       "      <td>1</td>\n",
       "    </tr>\n",
       "    <tr>\n",
       "      <th>15</th>\n",
       "      <td>124</td>\n",
       "      <td>877899322</td>\n",
       "      <td>AnomieBOT</td>\n",
       "      <td>878020595</td>\n",
       "      <td>0</td>\n",
       "      <td>878020595</td>\n",
       "      <td>Rohitmishra183</td>\n",
       "      <td>3</td>\n",
       "    </tr>\n",
       "    <tr>\n",
       "      <th>16</th>\n",
       "      <td>105</td>\n",
       "      <td>877655493</td>\n",
       "      <td>AnomieBOT</td>\n",
       "      <td>877730872</td>\n",
       "      <td>0</td>\n",
       "      <td>877730872</td>\n",
       "      <td>Onel5969</td>\n",
       "      <td>1</td>\n",
       "    </tr>\n",
       "    <tr>\n",
       "      <th>17</th>\n",
       "      <td>108</td>\n",
       "      <td>877687214</td>\n",
       "      <td>AnomieBOT</td>\n",
       "      <td>877694401</td>\n",
       "      <td>0</td>\n",
       "      <td>877694401</td>\n",
       "      <td>David Gerard</td>\n",
       "      <td>2</td>\n",
       "    </tr>\n",
       "    <tr>\n",
       "      <th>18</th>\n",
       "      <td>164</td>\n",
       "      <td>878685382</td>\n",
       "      <td>AnomieBOT</td>\n",
       "      <td>878820126</td>\n",
       "      <td>0</td>\n",
       "      <td>878820126</td>\n",
       "      <td>Favre1fan93</td>\n",
       "      <td>4</td>\n",
       "    </tr>\n",
       "    <tr>\n",
       "      <th>19</th>\n",
       "      <td>41</td>\n",
       "      <td>876865186</td>\n",
       "      <td>AnomieBOT</td>\n",
       "      <td>876870728</td>\n",
       "      <td>0</td>\n",
       "      <td>876870728</td>\n",
       "      <td>Adoring nanny</td>\n",
       "      <td>2</td>\n",
       "    </tr>\n",
       "  </tbody>\n",
       "</table>\n",
       "</div>"
      ],
      "text/plain": [
       "    index     rev_id  user_text  revert_id  page_namespace  rev_id_reverter  \\\n",
       "0     120  877844261  AnomieBOT  877856433               0        877856433   \n",
       "1     222  879465056  AnomieBOT  879584988               0        879584988   \n",
       "2     118  877789628  AnomieBOT  877792114               0        877792114   \n",
       "3     119  877808458  AnomieBOT  877838653               0        877838653   \n",
       "4      54  877003846  AnomieBOT  877036217               0        877036217   \n",
       "5      35  876751654  AnomieBOT  876878685               0        876878685   \n",
       "6      64  877147243  AnomieBOT  877155583               0        877155583   \n",
       "7     165  878689146  AnomieBOT  878825529               0        878825529   \n",
       "8       4  876274193  AnomieBOT  876315021               0        876315021   \n",
       "9      33  876737595  AnomieBOT  876819326               0        876819326   \n",
       "10    131  878030255  AnomieBOT  878043772               0        878043772   \n",
       "11     42  876865419  AnomieBOT  876866428               0        876866428   \n",
       "12    104  877638107  AnomieBOT  877736405               0        877736405   \n",
       "13     77  877335896  AnomieBOT  877389055               0        877389055   \n",
       "14    175  878860832  AnomieBOT  878926472               0        878926472   \n",
       "15    124  877899322  AnomieBOT  878020595               0        878020595   \n",
       "16    105  877655493  AnomieBOT  877730872               0        877730872   \n",
       "17    108  877687214  AnomieBOT  877694401               0        877694401   \n",
       "18    164  878685382  AnomieBOT  878820126               0        878820126   \n",
       "19     41  876865186  AnomieBOT  876870728               0        876870728   \n",
       "\n",
       "   user_text_reverter  revert_set_size  \n",
       "0           IndianBio               13  \n",
       "1            Mcbjmund                2  \n",
       "2          SlashFox14                3  \n",
       "3           SmartTalk                4  \n",
       "4               NPguy                2  \n",
       "5      108.51.174.100                4  \n",
       "6           Dlthewave                4  \n",
       "7              JJMC89                2  \n",
       "8               Drdpw                3  \n",
       "9           Oknazevad                3  \n",
       "10           Feminist                2  \n",
       "11             Bilorv                8  \n",
       "12             BD2412                2  \n",
       "13            Lugnuts                2  \n",
       "14             C.Fred                1  \n",
       "15     Rohitmishra183                3  \n",
       "16           Onel5969                1  \n",
       "17       David Gerard                2  \n",
       "18        Favre1fan93                4  \n",
       "19      Adoring nanny                2  "
      ]
     },
     "execution_count": 28,
     "metadata": {},
     "output_type": "execute_result"
    }
   ],
   "source": [
    "reverts_by_human0.sample(n=20, random_state=1).reset_index()"
   ]
  },
  {
   "cell_type": "markdown",
   "id": "32a10961-e07e-44d5-8a4c-1713bbf54bd8",
   "metadata": {},
   "source": [
    "0. 877844261 comment: dating maintenance tags {{Cn}}, has minor flag. added date to {{cn}} template. original edit at 1am. reverting user says \"revert to last good version before the IP crap started.\" 3am. also gets rid of other intervening edits. apparently cn template is the same as citation needed template, just abbreviated. ***human conflict***\n",
    "\n",
    "1. 879465056 comment: rescuing orphaned refs. adds lots of info to a ref which only has a name, including web url, names, title, date and accessdate. reverting edit 16 hours later removes only AnomieBOT's additions. comment: this page is for the 2019 F3 Asian Championship. Ghiretti is confirmed to run in this series with Hitech, the regular series and the winter series have separate entry lists. I believe that this is ***human error***, because the ref name \"Hitech\" is left undefined.\n",
    "\n",
    "2. 877789628 comment: dating maintenance tags: {{fact}}. AnomieBOT adds date to fact tag. 20 mins later, a user comes along and deletes that whole line, including tag, saying that there is no official announcement for the info yet. ***human conflict***\n",
    "\n",
    "3. 877808458 comment: dating maintenance tags: {{Citation needed}}. AnomieBOT adds date to citation needed tag. 5 hours later, a user comes along and deletes the entire sentence, including the tag, basically saying that they couldn't find any supporting info. ***human conflict***\n",
    "\n",
    "4. 877003846 comment: Dating maintenance tags: {{Use dmy dates}}. Anomie BOT changes tag date from April 2019 to January 2019. another user 5 hours later leaves no edit summary, but changes Anomie's tag to April 2015 and changes another date in the article to 2015. I'm guessing Anomie changed the date because it hadn't happened yet, and the other user used the wrong date in the first place. it looks like this template is used to tell editors that dates in the article must have a specific format, and the date is used to show editors when the dates were last checked for the correct format by a human or a bot. I think the human user may have been incorrect about the usage of this template and shouldn't have made that change. ***human error?***\n",
    "\n",
    "5. 876751654 comment: Dating maintenance tags: {{Cn}}. AnomieBOT adds date to tag. 20 hours later, user says: removing unsourced information about palms which is simply not true. ***human conflict***\n",
    "\n",
    "6. 877147243 comment: Rescuing orphaned refs. AnomieBOT adds lots of info to ref that only had name, including url and title, and access-date. reverting edit an hour later says: as discussed on the talk page, these sources do not discuss social media addiction and are therefore WP:SYN. this edit removes multiple paragraphs, including the citation edited by the bot. ***human conflict***\n",
    "\n",
    "7. 878689146 comment: fixing reference errors. AnomieBOT removes \"\\<ref>\\</ref>\" from the page. reverting edit 20 hours later is completely unrelated, made on line 66 where Anomie's edit was on line 1. routine work.\n",
    "\n",
    "8. 876274193 comment: dating maintenance tags: {{2l}}. AnomieBOT adds date to 2l template. reverting edit 7 hours later after intervening edits, comment says: \"reverted to revision 875227896 by Drdpw (talk): All names transferred. (TW)\". 2l template appears to be short for too long, same as the {{VeryLong}} template. I think the reverting user disagreed that the template and various other edits were necessary, as the revert target was to the edit before the 2l template was added. ***human conflict***\n",
    "\n",
    "9. 876737595 comment: dating maintenance tags: {{Cn}} {{Or}}. the bot adds dates to the two tags, which are in the same paragraph. 14 hours later, a user removes the whole paragraph with the comment: remove conspiratorial BS as I have before. ***human conflict***\n",
    "\n",
    "10. 878030255 comment: fixing reference errors and rescuing orphaned refs (\"nvpi\" from rev 877888036; \"brit\" from rev 877888036). the bot adds info to 2 refs that only have a name. it also adds quotation marks to the names. 2 hours later, same user that made previous edit reverts to revision 877888036 without leaving a specific comment. the edit appears to remove both lines that AnomieBOT edited, among several other things. \n",
    "\n",
    "11. 876865419 comment: fixing reference errors. bot removes empty ref template (\\<ref>\\</ref>). reverting comment: both of these links are already in the article. reverting edit 10 mins later removes two lines from the article, not including the one AnomieBOT edited. the two edits are really unrelated. routine work.\n",
    "\n",
    "12. 877638107 comment: dating maintenance tags: {{incoming links}}. bot adds a date to the template. 17 hours later, user removes the whole template with comment: no longer incoming links. seems like routine work. \n",
    "\n",
    "13. 877335896 comment: dating maintenance tags: {{use dmy dates}}. bot changes date on template from October 2019 to January 2019, probably because it makes no sense to say October because it hadn't happened yet at the time. reverting edit 9 hours later changes date to September 2018. also changes things to say film is from 2018 rather than 2019 and other small edits. reverting comment simply reads 'lgv'. not sure what's going on here. however, AnomieBOT did not make an error and was functioning as intended. the first user made an error. ***human error***\n",
    "\n",
    "14. 878860832 comment: rescuing orphaned refs (\"rollingstone.com\" from rev 878779391). bot adds link to ref with only name. reverting edit 8 hours later  comment says: reverted to revision 878779391 by C.Fred (talk): Rvv. this revert restores the ref that AnomieBOT rescued. ***human error***\n",
    "\n",
    "15. 877899322 comment: fixing reference errors. bot removes two empty ref templates. the following edit removes some other nonsense syntax marks and changes a word, no ref summary. ***human error***\n",
    "\n",
    "16. 877655493 comment: dating maintenance tags: {{lead too short}}. bot adds date to template. reverting comment: Reverted to revision 872196374 by Cat's Tuxedo (talk): Restore redirect - no indication of notability. ***human conflict*** error here - clearly reverted with other edits as well from page history https://en.wikipedia.org/w/index.php?title=The_Ren_%26_Stimpy_Show:_Time_Warp&action=history\n",
    "\n",
    "17. 877687214 comment: dating maintenance tags: {{by whom?}}. bot adds date to template. reverting edit 2 hours later makes a LOT of changes, among which removes the entire template including the date added by the bot. reverting comment reads: rv weird grammar, links to dabs. routine work.\n",
    "\n",
    "18. 878685382 comment: rescuing orphaned refs (MaxiRole from Cloak & Dagger). bot adds url, title, author, date, accessdate, and archiveurl to a ref with only name. reverting edit 3 hours later removes a section, including this ref. revert comment: reverted to revision 878085310 by Adamstom.97 (talk): no confirmation for Maxi for THIS season, nor that O'Reilly will go by Mayhem. ***human conflict***\n",
    "\n",
    "19. 876865186 comment: rescuing orphaned refs (\"everett\" from rev 873063733). bot adds url, names, date, title to ref with only name. reverting edit 1 hour later adds in a paragraph above, including the missing ref info, and removes the bits that AnomieBOT added to the ref below. reverting comment: entirely appropriate for the lead to summarize the body. ***human conflict***\n"
   ]
  },
  {
   "cell_type": "code",
   "execution_count": 36,
   "id": "ad1e27ee-3e4a-43fe-8ebd-d3e940c0486c",
   "metadata": {},
   "outputs": [
    {
     "data": {
      "text/plain": [
       "0.5475533723786132"
      ]
     },
     "execution_count": 36,
     "metadata": {},
     "output_type": "execute_result"
    }
   ],
   "source": [
    "df_all_reverted = df[df.is_reverted]\n",
    "df_all_reverted = df_all_reverted[df_all_reverted.user_is_bot == True]\n",
    "len(df_all_reverted[(df_all_reverted.revert_set_size != '1') & (df_all_reverted.revert_set_size != 'None')]) / len(df_all_reverted)"
   ]
  },
  {
   "cell_type": "code",
   "execution_count": 38,
   "id": "0983a0dd-4aa7-479c-b495-2c9c03d918f1",
   "metadata": {},
   "outputs": [
    {
     "data": {
      "text/plain": [
       "0.31217277486910994"
      ]
     },
     "execution_count": 38,
     "metadata": {},
     "output_type": "execute_result"
    }
   ],
   "source": [
    "# percentage of reverted bot edits in namespace 0, that were reverted with at least one other edit\n",
    "df_all_reverted0 = df_all_reverted[df_all_reverted.page_namespace ==0]\n",
    "len(df_all_reverted0[(df_all_reverted0.revert_set_size != '1') & (df_all_reverted0.revert_set_size != 'None')]) / len(df_all_reverted0)"
   ]
  },
  {
   "cell_type": "code",
   "execution_count": 29,
   "id": "c7207499-78d6-495f-9d2d-a72232db2f55",
   "metadata": {},
   "outputs": [
    {
     "data": {
      "text/plain": [
       "0.897196261682243"
      ]
     },
     "execution_count": 29,
     "metadata": {},
     "output_type": "execute_result"
    }
   ],
   "source": [
    "len(reverts_by_human0[reverts_by_human0.revert_set_size > 1]) / len(reverts_by_human0) "
   ]
  },
  {
   "cell_type": "code",
   "execution_count": 34,
   "id": "6b3be598-3004-4d85-a3e8-5ceefb26331b",
   "metadata": {},
   "outputs": [
    {
     "data": {
      "text/plain": [
       "1624"
      ]
     },
     "execution_count": 34,
     "metadata": {},
     "output_type": "execute_result"
    }
   ],
   "source": [
    "reverts_by_human.size"
   ]
  },
  {
   "cell_type": "code",
   "execution_count": 35,
   "id": "6171e326-d028-4cab-8d21-87cd7373201a",
   "metadata": {},
   "outputs": [
    {
     "data": {
      "text/plain": [
       "1498"
      ]
     },
     "execution_count": 35,
     "metadata": {},
     "output_type": "execute_result"
    }
   ],
   "source": [
    "reverts_by_human0.size"
   ]
  },
  {
   "cell_type": "code",
   "execution_count": null,
   "id": "d39b162d-d507-4c21-94fe-5f4afa1fc54c",
   "metadata": {},
   "outputs": [],
   "source": []
  }
 ],
 "metadata": {
  "kernelspec": {
   "display_name": "Python 3",
   "language": "python",
   "name": "python3"
  },
  "language_info": {
   "codemirror_mode": {
    "name": "ipython",
    "version": 3
   },
   "file_extension": ".py",
   "mimetype": "text/x-python",
   "name": "python",
   "nbconvert_exporter": "python",
   "pygments_lexer": "ipython3",
   "version": "3.8.5"
  }
 },
 "nbformat": 4,
 "nbformat_minor": 5
}
