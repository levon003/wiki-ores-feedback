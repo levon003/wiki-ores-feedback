{
 "cells": [
  {
   "cell_type": "code",
   "execution_count": 1,
   "id": "6286041e-a00d-48aa-8981-c1b56cd278d4",
   "metadata": {},
   "outputs": [],
   "source": [
    "# passive reverts = times when bot was reverted by someone else\n",
    "# active reverts = times when bot reverts someone else"
   ]
  },
  {
   "cell_type": "code",
   "execution_count": 2,
   "id": "19093325-6af5-4445-bcbf-4984c1f81fa5",
   "metadata": {},
   "outputs": [],
   "source": [
    "%reload_ext autoreload\n",
    "%autoreload 2\n",
    "%matplotlib inline"
   ]
  },
  {
   "cell_type": "code",
   "execution_count": 3,
   "id": "f86370f2-8f85-4059-90d2-c5c153feae8b",
   "metadata": {},
   "outputs": [],
   "source": [
    "import numpy as np\n",
    "import pandas as pd\n",
    "import matplotlib.pyplot as plt\n",
    "\n",
    "from datetime import datetime"
   ]
  },
  {
   "cell_type": "code",
   "execution_count": 4,
   "id": "112e900b-3061-4981-81cc-a5764f923f4e",
   "metadata": {},
   "outputs": [],
   "source": [
    "df = pd.read_csv('revs_scored_jan.tsv', sep='\\t', header=0)"
   ]
  },
  {
   "cell_type": "code",
   "execution_count": 5,
   "id": "4db3f2c2-0a84-425c-a204-77d72142e41f",
   "metadata": {},
   "outputs": [],
   "source": [
    "days = df.rev_timestamp.map(lambda ts: datetime.utcfromtimestamp(ts).day)\n",
    "df['day'] = days"
   ]
  },
  {
   "cell_type": "code",
   "execution_count": 6,
   "id": "e9802952-823b-493b-b98a-0efa5dd8e0ec",
   "metadata": {},
   "outputs": [],
   "source": [
    "df_sample = df[df.day<22]\n",
    "df_bots = df_sample[df_sample.user_is_bot]"
   ]
  },
  {
   "cell_type": "code",
   "execution_count": 7,
   "id": "7f5f152d-ef3a-4756-9dec-4be8d2c7b38e",
   "metadata": {},
   "outputs": [
    {
     "name": "stderr",
     "output_type": "stream",
     "text": [
      "/Users/newcom3/miniconda3/lib/python3.8/site-packages/pandas/core/generic.py:5494: SettingWithCopyWarning: \n",
      "A value is trying to be set on a copy of a slice from a DataFrame.\n",
      "Try using .loc[row_indexer,col_indexer] = value instead\n",
      "\n",
      "See the caveats in the documentation: https://pandas.pydata.org/pandas-docs/stable/user_guide/indexing.html#returning-a-view-versus-a-copy\n",
      "  self[name] = value\n"
     ]
    }
   ],
   "source": [
    "df_reverters = df[df.is_revert]\n",
    "\n",
    "df_reverted = df[df.is_reverted]\n",
    "df_reverted.seconds_to_revert = df_reverted.seconds_to_revert.astype('str').astype('int')\n",
    "df_reverted = df_reverted[df_reverted.seconds_to_revert < 86400]\n",
    "df_reverted.revert_id = df_reverted.revert_id.astype('int')"
   ]
  },
  {
   "cell_type": "code",
   "execution_count": 8,
   "id": "106e774b-61bf-4887-940f-0c9291d1bd12",
   "metadata": {
    "tags": []
   },
   "outputs": [],
   "source": [
    "# merging df_reverted and df_reverters to get dataset of all reverted edits\n",
    "\n",
    "all_reverted_edits = pd.merge(df_reverted, df_reverters, \n",
    "             how='inner', \n",
    "             left_on='revert_id', \n",
    "             right_on='rev_id', \n",
    "             suffixes=('', '_reverter')\n",
    ")"
   ]
  },
  {
   "cell_type": "code",
   "execution_count": 9,
   "id": "f10ebc21-f12c-47f7-9211-111ae35e26b7",
   "metadata": {},
   "outputs": [],
   "source": [
    "df_bot_active_reverts = all_reverted_edits[all_reverted_edits.user_is_bot_reverter == True]\n",
    "df_bot_passive_reverts = all_reverted_edits[all_reverted_edits.user_is_bot == True]"
   ]
  },
  {
   "cell_type": "code",
   "execution_count": 10,
   "id": "70eac1d5-6070-438b-86c6-9119501eb87d",
   "metadata": {
    "tags": []
   },
   "outputs": [],
   "source": [
    "df_human_active_reverts = all_reverted_edits[all_reverted_edits.user_is_bot_reverter == False]\n",
    "df_human_passive_reverts = all_reverted_edits[all_reverted_edits.user_is_bot == False]"
   ]
  },
  {
   "cell_type": "code",
   "execution_count": 11,
   "id": "a4704e16-280e-4269-ad44-92fa6f4ed0cd",
   "metadata": {},
   "outputs": [],
   "source": [
    "# current variable summary:\n",
    "#   df_sample = all edits in our time frame\n",
    "#   df_bots = all edits made by bots in time frame\n",
    "#   df_reverters = all reverting edits in dataset (not limited to time frame)\n",
    "#   df_reverted = all revisions that were reverted w/in 24 hours in time frame\n",
    "#   all_reverted_edits = every edit reverted w/in 24 hours with reverted and revert edit info, within time frame\n",
    "#     df_bot_active_reverts = all active reverts by bots of humans and bots in time frame\n",
    "#     df_bot_passive_reverts = all revisions by bots which were reverted (by humans or bots), with reverting user info merged, in time frame\n",
    "#     df_human_active_reverts\n",
    "#     df_human_passive_reverts"
   ]
  },
  {
   "cell_type": "code",
   "execution_count": 31,
   "id": "1ac990de-3fd0-41dd-a727-7e15b67bd2d2",
   "metadata": {},
   "outputs": [],
   "source": [
    "top_bots_reverted_by_humans0 = df_bot_passive_reverts[df_bot_passive_reverts.user_is_bot_reverter == False]\n",
    "top_bots_reverted_by_humans0 = top_bots_reverted_by_humans0[top_bots_reverted_by_humans0.page_namespace == 0]\n",
    "top_bots_reverted_by_humans0 = top_bots_reverted_by_humans0.groupby(\"user_text\", as_index = False)\n",
    "top_bots_reverted_by_humans0 = top_bots_reverted_by_humans0.count().sort_values(\"rev_id\", ascending = False)\n",
    "top_bots_reverted_by_humans0 = top_bots_reverted_by_humans0.head(5)"
   ]
  },
  {
   "cell_type": "code",
   "execution_count": 40,
   "id": "504c4365-e43c-4f99-b2cd-1e2cef523de3",
   "metadata": {},
   "outputs": [
    {
     "data": {
      "text/html": [
       "<div>\n",
       "<style scoped>\n",
       "    .dataframe tbody tr th:only-of-type {\n",
       "        vertical-align: middle;\n",
       "    }\n",
       "\n",
       "    .dataframe tbody tr th {\n",
       "        vertical-align: top;\n",
       "    }\n",
       "\n",
       "    .dataframe thead th {\n",
       "        text-align: right;\n",
       "    }\n",
       "</style>\n",
       "<table border=\"1\" class=\"dataframe\">\n",
       "  <thead>\n",
       "    <tr style=\"text-align: right;\">\n",
       "      <th></th>\n",
       "      <th>user_text</th>\n",
       "      <th>rev_id</th>\n",
       "    </tr>\n",
       "  </thead>\n",
       "  <tbody>\n",
       "    <tr>\n",
       "      <th>7</th>\n",
       "      <td>ClueBot NG</td>\n",
       "      <td>757</td>\n",
       "    </tr>\n",
       "    <tr>\n",
       "      <th>32</th>\n",
       "      <td>RonBot</td>\n",
       "      <td>560</td>\n",
       "    </tr>\n",
       "    <tr>\n",
       "      <th>0</th>\n",
       "      <td>AnomieBOT</td>\n",
       "      <td>331</td>\n",
       "    </tr>\n",
       "    <tr>\n",
       "      <th>27</th>\n",
       "      <td>MusikBot</td>\n",
       "      <td>63</td>\n",
       "    </tr>\n",
       "    <tr>\n",
       "      <th>17</th>\n",
       "      <td>Ganeshbot</td>\n",
       "      <td>58</td>\n",
       "    </tr>\n",
       "  </tbody>\n",
       "</table>\n",
       "</div>"
      ],
      "text/plain": [
       "     user_text  rev_id\n",
       "7   ClueBot NG     757\n",
       "32      RonBot     560\n",
       "0    AnomieBOT     331\n",
       "27    MusikBot      63\n",
       "17   Ganeshbot      58"
      ]
     },
     "execution_count": 40,
     "metadata": {},
     "output_type": "execute_result"
    }
   ],
   "source": [
    "top_bots_reverted_by_humans0[[\"user_text\", \"rev_id\"]]"
   ]
  },
  {
   "cell_type": "code",
   "execution_count": 37,
   "id": "641994ef-627f-4847-b51d-351b47495eeb",
   "metadata": {},
   "outputs": [
    {
     "data": {
      "image/png": "[encoded data removed]",
      "text/plain": [
       "<Figure size 504x504 with 1 Axes>"
      ]
     },
     "metadata": {
      "needs_background": "light"
     },
     "output_type": "display_data"
    }
   ],
   "source": [
    "fig, axes = plt.subplots(1,1, figsize=(7, 7))\n",
    "\n",
    "y = range(len(top_bots_reverted_by_humans0))\n",
    "axes.bar(y, top_bots_reverted_by_humans0.rev_id, width=1)\n",
    "axes.set_title(\"Top 5 Bots Reverted by Humans in the Article Namespace\")\n",
    "axes.set_xlabel(\"Reverted Bot\")\n",
    "axes.set_ylabel(\"Times reverted by a human\")\n",
    "#axes.set_yscale('log')\n",
    "axes.set_xticks(y)\n",
    "axes.set_xticklabels([row.user_text for row in top_bots_reverted_by_humans0.itertuples()], rotation=0)\n",
    "\n",
    "#fig.tight_layout()\n",
    "plt.show()"
   ]
  },
  {
   "cell_type": "code",
   "execution_count": null,
   "id": "43783130-9c70-44df-9241-f117cebb91f1",
   "metadata": {},
   "outputs": [],
   "source": []
  }
 ],
 "metadata": {
  "kernelspec": {
   "display_name": "Python 3",
   "language": "python",
   "name": "python3"
  },
  "language_info": {
   "codemirror_mode": {
    "name": "ipython",
    "version": 3
   },
   "file_extension": ".py",
   "mimetype": "text/x-python",
   "name": "python",
   "nbconvert_exporter": "python",
   "pygments_lexer": "ipython3",
   "version": "3.8.5"
  }
 },
 "nbformat": 4,
 "nbformat_minor": 5
}
