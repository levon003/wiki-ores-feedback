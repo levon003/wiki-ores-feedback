{
 "cells": [
  {
   "cell_type": "markdown",
   "id": "047c04ad-dd1d-4813-993f-3cbf7428f11e",
   "metadata": {},
   "source": [
    "Cyberbot I\n",
    "===\n"
   ]
  },
  {
   "cell_type": "markdown",
   "id": "cb87d87e-5aeb-48da-894f-544ecf139235",
   "metadata": {},
   "source": [
    "do a write-up where we go deeper on some pairs - pick 2 self reverting and 1 bot-bot reverting combination -- each take one bot. can do in spreadsheet or notebook. go beyond bullet pointed list -- write a summary of why bot exists, what it does, why it gets reverted. give us a case study. what is the thing that is trying to be done here? deepen qualitative understanding\n",
    "\n",
    "* why exist\n",
    "* how long operational\n",
    "* what percentage reverts\n",
    "* why reverts itself\n",
    "* how does it work\n",
    "\n",
    "points not in order. collect as many links as you can. if find interesting rev, copy url and write why interesting. klepto approach - take as many as you can\n"
   ]
  },
  {
   "cell_type": "markdown",
   "id": "bc00fdf4-5e97-43d7-b830-433f238e2983",
   "metadata": {},
   "source": [
    "# summary of findings 7/1/21\n",
    "\n",
    "### background\n",
    "\n",
    "The oldest approval request for Cyberbot I is from March 2012, when the operator first took over a task from SoxBot. Since then the operator has added more and more tasks to Cyberbot I's agenda. Cyberbot I is unique in that all of its tasks were taken over from other bots, using those bots' original code. The code was not initially publicly available, but does now have a git repository listed below. Out of all Cyberbot's edits in the 3 weeks examined, 13.2% were reverted within 24 hours. However, only 0.3% of the total edits were reverted by users other than Cyberbot, with the remaining 12.8% being self reverts. Cyberbot performed edits in 8 different namespaces during this time, with the vast majority of edits taking place in namespaces 2, 10, 109, and 4 (User, Template, Book Talk, and Wikipedia). The vast majority of self-reverted edits were in namespace 2, User, while the vast majority of edits reverted by others were in namespace 4, Wikipedia.\n",
    "\n",
    "\n",
    "### tasks\n",
    "\n",
    "According to Cyberbot I's User page, the bot has 14 different functions. The most prevalent tasks seem to be updating Admin stats pages in the template namespace (10), BookReports in namespace Book Talk (109), and updating the RfX Tally page in the User namespace (2). However, it is difficult to isolate exactly what percentage of edits is spent on each task, so these are just educated guesses at this point.\n",
    "\n",
    "\n",
    "### reverts\n",
    "\n",
    "The vast majority of Cyberbot I's self-reverts seem to be on the User:Cyberpower678/Tally page, where Cyberbot keeps track of the current votes n RfX elections. The cause is unclear. You would think that the bot would update the numbers, but the number of votes always seem to remain the same.\n",
    "\n",
    "About half of all reverts by others happen when people delete Cyberbot's template from the sandbox. The other half are much more confusing and may indicate malfunctions of the bot, or at least mistakes. These reverts require further analysis.\n",
    "\n",
    "\n",
    "### possible malfunctions found\n",
    "\n",
    "* 879127746 - Cyberbot changes someone's admin stats, but the numbers go way down, which is impossible. Across the next few edits, the numbers back up but still decrease a bit every once in awhile.\n",
    "* 876710826 - User mentions that Cyberbot I may be broken.\n",
    "* 877919965 - Cyberbot adds an AfD template to an article whose discussion already closed.\n",
    "\n",
    "\n",
    "### fight with users\n",
    "\n",
    "In a sequence of edits starting with edit 876710826, a user changes Cyberpower678:Tally to mention another bot, presumably so that this other bot can take over the task since the user mentions that Cyberbot I needs to be fixed. Cyberbot reverts this edit. Another user makes the same edit, and Cyberbot reverts it again. The user tries a {{nobots}} template, Cyberbot reverts it again. The user decides to move the page. Interestingly, Cyberbot I never edits the page again after this."
   ]
  },
  {
   "cell_type": "markdown",
   "id": "4fec4b00-8ed5-454b-9f6b-be066fc91213",
   "metadata": {},
   "source": [
    "subsetting the data\n",
    "==="
   ]
  },
  {
   "cell_type": "code",
   "execution_count": 1,
   "id": "22be9a35-4a7f-4f0b-a445-33a9c84ee74a",
   "metadata": {},
   "outputs": [],
   "source": [
    "%reload_ext autoreload\n",
    "%autoreload 2\n",
    "%matplotlib inline"
   ]
  },
  {
   "cell_type": "code",
   "execution_count": 2,
   "id": "d6c713d4-b392-4226-87f9-58f7aa14b309",
   "metadata": {},
   "outputs": [],
   "source": [
    "import numpy as np\n",
    "import pandas as pd\n",
    "import matplotlib.pyplot as plt"
   ]
  },
  {
   "cell_type": "code",
   "execution_count": 3,
   "id": "f737c3ff-9587-4fb0-bb18-5f8f530f3c9b",
   "metadata": {},
   "outputs": [],
   "source": [
    "from datetime import datetime"
   ]
  },
  {
   "cell_type": "code",
   "execution_count": 4,
   "id": "bb245e88-53d6-4d91-ae21-e5172744ef6c",
   "metadata": {},
   "outputs": [],
   "source": [
    "df = pd.read_csv('revs_scored_jan.tsv', sep='\\t', header=0)"
   ]
  },
  {
   "cell_type": "code",
   "execution_count": 5,
   "id": "50d95ebc-459d-479b-accd-56741511ee9e",
   "metadata": {},
   "outputs": [],
   "source": [
    "days = df.rev_timestamp.map(lambda ts: datetime.utcfromtimestamp(ts).day)\n",
    "df['day'] = days"
   ]
  },
  {
   "cell_type": "code",
   "execution_count": 6,
   "id": "d4dd2701-d41d-40f5-85d1-2bcd42d38aea",
   "metadata": {},
   "outputs": [],
   "source": [
    "# isolate data to only data from Jan1-Jan21, edits by Cyberbot\n",
    "\n",
    "sdf = df[df.day<22]\n",
    "df_cyberbot = sdf[sdf.user_text == \"Cyberbot I\"]"
   ]
  },
  {
   "cell_type": "code",
   "execution_count": 7,
   "id": "a6ce1904-f3f3-4d2b-a129-01bcac2ae97f",
   "metadata": {},
   "outputs": [
    {
     "data": {
      "text/plain": [
       "7824"
      ]
     },
     "execution_count": 7,
     "metadata": {},
     "output_type": "execute_result"
    }
   ],
   "source": [
    "len(df_cyberbot)"
   ]
  },
  {
   "cell_type": "code",
   "execution_count": 8,
   "id": "07693704-b73d-49a0-bceb-80695970e382",
   "metadata": {},
   "outputs": [],
   "source": [
    "sdf_another = df[df.is_revert]\n",
    "\n",
    "cyberbot_reverted = df_cyberbot[df_cyberbot.is_reverted]\n",
    "cyberbot_reverted = cyberbot_reverted[cyberbot_reverted.seconds_to_revert.astype('str').astype('int')<86400]"
   ]
  },
  {
   "cell_type": "code",
   "execution_count": 9,
   "id": "9d26e278-ad1c-4c28-b300-ea9dd258b41a",
   "metadata": {},
   "outputs": [],
   "source": [
    "sdf1 = cyberbot_reverted.loc[cyberbot_reverted.is_reverted, [\"rev_id\", \"user_text\", \"revert_id\", \"page_namespace\", \"page_id\"]]\n",
    "sdf1.revert_id = sdf1.revert_id.astype('int')\n",
    "\n",
    "sdf2 = sdf_another[[\"rev_id\", 'user_text', \"is_self_revert\", \"user_is_bot\", \"page_id\"]]"
   ]
  },
  {
   "cell_type": "code",
   "execution_count": 10,
   "id": "2b1ab89c-7e9d-408a-b22f-7f1bbb9f0fbe",
   "metadata": {},
   "outputs": [],
   "source": [
    "all_reverts = pd.merge(sdf1, sdf2, \n",
    "             how='inner', \n",
    "             left_on='revert_id', \n",
    "             right_on='rev_id', \n",
    "             suffixes=('', '_reverter')\n",
    ")"
   ]
  },
  {
   "cell_type": "code",
   "execution_count": 11,
   "id": "b1eb3ab8-d005-4243-9cce-07a91cfcdb8c",
   "metadata": {},
   "outputs": [],
   "source": [
    "all_reverts['reverting_user_is_bot'] = all_reverts['user_is_bot']\n",
    "del all_reverts[\"user_is_bot\"]"
   ]
  },
  {
   "cell_type": "code",
   "execution_count": 12,
   "id": "bee9226e-7427-44cf-99b4-cde98ffd64e2",
   "metadata": {},
   "outputs": [],
   "source": [
    "self_reverts = all_reverts[all_reverts.user_text_reverter == \"Cyberbot I\"]\n",
    "non_self_reverts = all_reverts[all_reverts.user_text_reverter != \"Cyberbot I\"]"
   ]
  },
  {
   "cell_type": "code",
   "execution_count": 13,
   "id": "66ac6cc6-89d6-4bc2-b8fe-1e7fad09bf61",
   "metadata": {},
   "outputs": [],
   "source": [
    "# variables at this point:\n",
    "#   df\n",
    "#   df_cyberbot = all edits by cyberbot\n",
    "#   cyberbot_reverted = all of cyberbots edits which were reverted w/in 24 hours\n",
    "#   all_reverts = all of cyberbot's edits reverted w/in 24 hours, with both original rev_id and revert_id\n",
    "#     self_reverts = all of cyberbot's edits which it self-reverted w/in 24 hours\n",
    "#     non_self_reverts = all of cyberbot's edits which were reverted by someone else w/in 24 hours"
   ]
  },
  {
   "cell_type": "markdown",
   "id": "a5eb6f0b-7fe5-4e2d-83ea-2aa2b731930f",
   "metadata": {},
   "source": [
    "# what percentage of cyberbot's edits were reverted within 24 hours?\n"
   ]
  },
  {
   "cell_type": "code",
   "execution_count": 14,
   "id": "6fa0ff70-95ee-43b7-825a-2b2313ff9862",
   "metadata": {},
   "outputs": [
    {
     "data": {
      "text/plain": [
       "0.13164621676891616"
      ]
     },
     "execution_count": 14,
     "metadata": {},
     "output_type": "execute_result"
    }
   ],
   "source": [
    "len(all_reverts) / len(df_cyberbot) "
   ]
  },
  {
   "cell_type": "markdown",
   "id": "9a1b5b86-bc69-445c-a4c8-1a8adef8b8ae",
   "metadata": {},
   "source": [
    "## percentage self reverted"
   ]
  },
  {
   "cell_type": "code",
   "execution_count": 15,
   "id": "38719bad-7c43-4fc1-8b99-c6f3a8808ba8",
   "metadata": {},
   "outputs": [
    {
     "data": {
      "text/plain": [
       "0.12832310838445807"
      ]
     },
     "execution_count": 15,
     "metadata": {},
     "output_type": "execute_result"
    }
   ],
   "source": [
    "len(self_reverts) / len(df_cyberbot)"
   ]
  },
  {
   "cell_type": "markdown",
   "id": "1d68f684-58c0-4989-964f-c4d168a8020d",
   "metadata": {},
   "source": [
    "## percentage reverted by others"
   ]
  },
  {
   "cell_type": "code",
   "execution_count": 16,
   "id": "ca755bce-13c4-4a6b-9b21-be9b27307c20",
   "metadata": {},
   "outputs": [
    {
     "data": {
      "text/plain": [
       "0.0033231083844580778"
      ]
     },
     "execution_count": 16,
     "metadata": {},
     "output_type": "execute_result"
    }
   ],
   "source": [
    "len(non_self_reverts) / len(df_cyberbot)"
   ]
  },
  {
   "cell_type": "markdown",
   "id": "b47cd68d-d536-4003-85df-e7989a380400",
   "metadata": {},
   "source": [
    "percentage reverted by others is so small! 0.33%. almost all reverts are self reverts"
   ]
  },
  {
   "cell_type": "code",
   "execution_count": 17,
   "id": "36885408-8b82-4809-b7be-daae165b190a",
   "metadata": {},
   "outputs": [
    {
     "data": {
      "text/plain": [
       "26"
      ]
     },
     "execution_count": 17,
     "metadata": {},
     "output_type": "execute_result"
    }
   ],
   "source": [
    "len(non_self_reverts)"
   ]
  },
  {
   "cell_type": "markdown",
   "id": "f4dd9d73-fca6-4e78-9c7a-882141cc8072",
   "metadata": {},
   "source": [
    "## who reverted them?"
   ]
  },
  {
   "cell_type": "code",
   "execution_count": 18,
   "id": "eb47548d-8cf5-4a4c-ba41-c42e3841e956",
   "metadata": {},
   "outputs": [],
   "source": [
    "cyberbot_reverting_users = all_reverts.groupby('user_text_reverter').count().sort_values('rev_id', ascending=False).reset_index()"
   ]
  },
  {
   "cell_type": "code",
   "execution_count": 19,
   "id": "9218a5a6-ecf2-477a-8aff-da3f92a7d148",
   "metadata": {},
   "outputs": [
    {
     "data": {
      "image/png": "[encoded data removed]",
      "text/plain": [
       "<Figure size 504x504 with 1 Axes>"
      ]
     },
     "metadata": {
      "needs_background": "light"
     },
     "output_type": "display_data"
    }
   ],
   "source": [
    "fig, axes = plt.subplots(1, 1, figsize=(7, 7))\n",
    "y = range(len(cyberbot_reverting_users))\n",
    "axes.bar(y, cyberbot_reverting_users.rev_id, width=1)\n",
    "axes.set_yscale('log')\n",
    "axes.set_xticks(y)\n",
    "axes.set_xticklabels([f\"{row.user_text_reverter}\" for row in cyberbot_reverting_users.itertuples()], rotation=90)\n",
    "\n",
    "axes.set_title(\"how many times was Cyberbot I reverted by various users?\")\n",
    "axes.set_xlabel(\"user\")\n",
    "axes.set_ylabel(\"reverts of Cyberbot I\")\n",
    "plt.show()"
   ]
  },
  {
   "cell_type": "markdown",
   "id": "9b3b3ff4-07f5-4926-b149-e59a81228794",
   "metadata": {},
   "source": [
    "Cyberbot requests for approval\n",
    "===\n"
   ]
  },
  {
   "cell_type": "markdown",
   "id": "aa9c65fd-8e52-4f61-8816-c0c56da50e8d",
   "metadata": {},
   "source": [
    "zeroth request for approval: March 2012 https://en.wikipedia.org/wiki/Wikipedia:Bots/Requests_for_approval/Cyberbot_I\n",
    "* request eventually withdrawn\n",
    "* operator made mistakes in application (programming language, not specific enough about tasks)\n",
    "* trying to take over all tasks of SoxBot, old bot whose operator retired\n",
    "* people were concerned that he had bitten off more than he could chew by trying to take over all of SoxBot's tasks at once\n",
    "* source code \"coming soon\""
   ]
  },
  {
   "cell_type": "markdown",
   "id": "713cf23d-0167-48c4-bd48-c4891b7dd0e1",
   "metadata": {},
   "source": [
    "first request for approval: March 2012 https://en.wikipedia.org/wiki/Wikipedia:Bots/Requests_for_approval/Cyberbot_I_1\n",
    "* about 3 weeks after last one\n",
    "* function: taking over SoxBot's badimage task, same code\n",
    "* had trial, then extended trial before being approved\n",
    "\n",
    "note: meaning of transclusion?"
   ]
  },
  {
   "cell_type": "markdown",
   "id": "d40fcb37-e415-4830-85db-1f8df2ad7885",
   "metadata": {},
   "source": [
    "second request for approval: August 2012 https://en.wikipedia.org/wiki/Wikipedia:Bots/Requests_for_approval/Cyberbot_I_2\n",
    "* request is several months later\n",
    "* functions: \"adminstats, cratstats, RfX reporter, tally\"\n",
    "* code available \"upon request\" - not openly available\n",
    "* speedily approved"
   ]
  },
  {
   "cell_type": "markdown",
   "id": "3ab36ff2-18bb-44e0-95a6-94c383a41aad",
   "metadata": {},
   "source": [
    "third request for approval: February 2013 https://en.wikipedia.org/wiki/Wikipedia:Bots/Requests_for_approval/Cyberbot_I_3\n",
    "* again about 6 months later\n",
    "* function details: \"This is an amendment to the adminstats task based off of a couple of requests. As it currently is running, Adminstats are only providing statistics to admins because it acts as an edit counter for non admins which violates WP:BOTPOL. Another statistic that adminstats display is number of accounts being created. I want to open adminstats to account creators now. Per WP:BOTPOL that is technically allowed, but I want input from BAG.\"\n",
    "* source code available says no! not available at all I suppose... why?\n",
    "* approved\n"
   ]
  },
  {
   "cell_type": "markdown",
   "id": "22152c70-641a-46cb-a5b2-7c2a169f7158",
   "metadata": {},
   "source": [
    "fourth request: July 2013 https://en.wikipedia.org/wiki/Wikipedia:Bots/Requests_for_approval/Cyberbot_I_4\n",
    "* function: takeover of SnotBot, temporary\n",
    "* specific tasks: are snotbot 10 and 12\n",
    "* about 6 months later again\n",
    "* speedily approved"
   ]
  },
  {
   "cell_type": "markdown",
   "id": "8315b085-3623-4ccc-9153-60909c873771",
   "metadata": {},
   "source": [
    "fifth request: July 2013 https://en.wikipedia.org/wiki/Wikipedia:Bots/Requests_for_approval/Cyberbot_I_5\n",
    "* takeover of Noombot's bookreport script\n",
    "* approved"
   ]
  },
  {
   "cell_type": "markdown",
   "id": "cb01e847-ea79-407c-9993-554727f3cbbe",
   "metadata": {},
   "source": [
    "sixth request: August 2013 https://en.wikipedia.org/wiki/Wikipedia:Bots/Requests_for_approval/Cyberbot_I_6\n",
    "* function: create current events page, one of SoxBot's tasks using its original code\n",
    "* approved"
   ]
  },
  {
   "cell_type": "markdown",
   "id": "3fe2cef6-2b49-4cc5-a729-09c730795cf6",
   "metadata": {},
   "source": [
    "seventh request: July 2015 https://en.wikipedia.org/wiki/Wikipedia:Bots/Requests_for_approval/Cyberbot_I_7\n",
    "* take over clerking script from Legobot\n",
    "* approved"
   ]
  },
  {
   "cell_type": "markdown",
   "id": "026782bb-49e9-44cd-8442-13b2cce7a3cc",
   "metadata": {},
   "source": [
    "eighth (and final) request: October 2015 https://en.wikipedia.org/wiki/Wikipedia:Bots/Requests_for_approval/Cyberbot_I_8\n",
    "* function: clean the sandbox. old soxbot code, modified\n",
    "* approved\n",
    "* source code is now available!\n",
    "* runs hourly"
   ]
  },
  {
   "cell_type": "markdown",
   "id": "8a4fb2e3-a8b6-44cf-93bc-fb6c29a6254c",
   "metadata": {},
   "source": [
    "# code\n",
    "\n",
    "https://github.com/cyberpower678/\n",
    "\n",
    "note: most recent commit was 2 years ago. most of the code is from 5 years ago\n",
    "\n",
    "note: all of the code is in folders according to which bot cyberbot I took over the task for. possibly why the user lists the tasks the way he does.\n",
    "\n",
    "note: cyberbot I seems pretty unique in the fact that all of its code / tasks were originally belonging to other bots"
   ]
  },
  {
   "cell_type": "markdown",
   "id": "1206d3bf-d60a-49f5-8783-df1fc01263c7",
   "metadata": {},
   "source": [
    "# namespaces"
   ]
  },
  {
   "cell_type": "markdown",
   "id": "f372b201-8342-45df-97ea-d88c15ed627d",
   "metadata": {},
   "source": [
    "https://en.wikipedia.org/wiki/Wikipedia:Namespace"
   ]
  },
  {
   "cell_type": "code",
   "execution_count": 20,
   "id": "3e3a9996-ad8c-4fa7-85d1-df6f956e374b",
   "metadata": {},
   "outputs": [],
   "source": [
    "all_namespaces = df_cyberbot.groupby(\"page_namespace\").count().sort_values(\"rev_id\", ascending=False)"
   ]
  },
  {
   "cell_type": "code",
   "execution_count": 21,
   "id": "56b8d525-677c-4ac3-9681-f2aac1ad437a",
   "metadata": {},
   "outputs": [
    {
     "data": {
      "image/png": "[encoded data removed]",
      "text/plain": [
       "<Figure size 504x504 with 1 Axes>"
      ]
     },
     "metadata": {
      "needs_background": "light"
     },
     "output_type": "display_data"
    }
   ],
   "source": [
    "fig, axes = plt.subplots(1, 1, figsize=(7, 7))\n",
    "y = range(len(all_namespaces))\n",
    "axes.bar(y, all_namespaces.rev_id, width=1)\n",
    "axes.set_xticks(y)\n",
    "axes.set_xticklabels([f\"{row.Index}\" for row in all_namespaces.itertuples()], rotation=0)\n",
    "\n",
    "axes.set_title(\"Cyberbot I edits by namespace\")\n",
    "axes.set_xlabel(\"namespace\")\n",
    "axes.set_ylabel(\"edits\")\n",
    "plt.show()"
   ]
  },
  {
   "cell_type": "code",
   "execution_count": 22,
   "id": "82300783-e5bb-4219-a716-cb6e3a64617e",
   "metadata": {},
   "outputs": [],
   "source": [
    "rev_namespaces = cyberbot_reverted.groupby(\"page_namespace\").count().sort_values(\"rev_id\", ascending=False)"
   ]
  },
  {
   "cell_type": "code",
   "execution_count": 23,
   "id": "f2d483ec-6386-4344-b983-fc64abbb6d6e",
   "metadata": {},
   "outputs": [
    {
     "data": {
      "image/png": "[encoded data removed]",
      "text/plain": [
       "<Figure size 504x504 with 1 Axes>"
      ]
     },
     "metadata": {
      "needs_background": "light"
     },
     "output_type": "display_data"
    }
   ],
   "source": [
    "fig, axes = plt.subplots(1, 1, figsize=(7, 7))\n",
    "y = range(len(rev_namespaces))\n",
    "axes.bar(y, rev_namespaces.rev_id, width=1)\n",
    "axes.set_xticks(y)\n",
    "axes.set_xticklabels([f\"{row.Index}\" for row in rev_namespaces.itertuples()], rotation=0)\n",
    "\n",
    "axes.set_title(\"Cyberbot I reverted edits by namespace\")\n",
    "axes.set_xlabel(\"namespace\")\n",
    "axes.set_ylabel(\"reverted edits\")\n",
    "plt.show()"
   ]
  },
  {
   "cell_type": "code",
   "execution_count": 24,
   "id": "14191020-e2bf-47bd-969d-3a2eef50b666",
   "metadata": {},
   "outputs": [],
   "source": [
    "nonself_rev_namespaces = non_self_reverts.groupby(\"page_namespace\").count().sort_values(\"rev_id\", ascending=False)"
   ]
  },
  {
   "cell_type": "code",
   "execution_count": null,
   "id": "dca70eae-2776-4daf-974a-62ec29e34022",
   "metadata": {},
   "outputs": [],
   "source": [
    "fig, axes = plt.subplots(1, 1, figsize=(7, 7))\n",
    "y = range(len(nonself_rev_namespaces))\n",
    "axes.bar(y, nonself_rev_namespaces.rev_id, width=1)\n",
    "axes.set_xticks(y)\n",
    "axes.set_xticklabels([f\"{row.Index}\" for row in nonself_rev_namespaces.itertuples()], rotation=0)\n",
    "\n",
    "axes.set_title(\"Cyberbot I edits reverted by others by namespace\")\n",
    "axes.set_xlabel(\"namespace\")\n",
    "axes.set_ylabel(\"reverted edits\")\n",
    "plt.show()"
   ]
  },
  {
   "cell_type": "markdown",
   "id": "7d4e7023-5584-48e6-9b87-43e9236121c9",
   "metadata": {},
   "source": [
    "# Cyberbot functions\n"
   ]
  },
  {
   "cell_type": "markdown",
   "id": "e34d03e8-83d2-4abd-99a0-e1b6ab586a50",
   "metadata": {},
   "source": [
    "user page: https://en.wikipedia.org/wiki/User:Cyberbot_I"
   ]
  },
  {
   "cell_type": "markdown",
   "id": "bcaec0de-5396-4213-9240-fc5f7b64793c",
   "metadata": {},
   "source": [
    "listed tasks, only currently enabled ones:\n",
    "* SandBot: cleans sandbox every hour, ones on talk pages every 12 hours\n",
    "    * namespace 4\n",
    "* BadImageBot: maintains the bad image list by finding instances of https://en.wikipedia.org/wiki/Template:Badimage / https://en.wikipedia.org/wiki/Template:Restricted_use\n",
    "    * adding template does nothing, just leaves a note on the image\n",
    "    * cyberbot finds instances of the template and adds the image to the bad image list\n",
    "    * transclusion https://en.wikipedia.org/wiki/Help:Transclusion seems extremely confusing\n",
    "    * namespace 10? possibly no edits in this category in this month\n",
    "* CurrentEventsBot: generates current event pages for the next day\n",
    "* AdminStatsBot: updates the adminstats template with info about admin actions (deletes, blocks) https://en.wikipedia.org/wiki/Template:Adminstats\n",
    "    * place template on userpage or user subpage, bot creates stats page and updates it every 24 hours\n",
    "    * gives info about number of pages / revisions deleted, users blocked / unblocked, that sort of thing\n",
    "    * namespace 10\n",
    "* CratStats: updates the cratstats template with info about open AfAs, RfBs, CHU requests https://en.wikipedia.org/wiki/Template:Cratstats\n",
    "    * AfA -> RfA (request for adminship), want to become admin\n",
    "    * RfB (request for bureaucratship)\n",
    "    * CHU - no idea\n",
    "    * cratstats also shows BRFAs (bot requests for approval)\n",
    "    * namespace 10\n",
    "* RfX reporter: updates User:Cyberpower678/RfX_Report with info about current RfAs and RfBs \n",
    "    * https://en.wikipedia.org/wiki/User:Cyberpower678/RfX_Report\n",
    "    * shows candidate, time left, tally of votes\n",
    "    * namespace 2\n",
    "* RfX TallyBot: updates Cyberpower678/Tally with the current tallies of all the open RfXs\n",
    "    * visible content of page: only (?/?/?)\n",
    "    * not visible content: various usernames, all with (0/0/0) next to them. why are all the counts 0?\n",
    "    * did find one version with actual numbers, only in first loc. shows numbers matching S/O/N (Support/Oppose/Neutral) format on RfX report page?\n",
    "    * namespace 2\n",
    "* AdminHighlighterBot: creates a list of admins at User:Cyberbot_I/adminrights-admins.js for another bot? Ais523's highlighter script\n",
    "    * Ais523 is a semi-retired user who writes scripts\n",
    "    * page is literally just a list of users with admin rights\n",
    "    * namespace 2\n",
    "* DateFixBot: date fixes maintenance tags\n",
    "    * can't find much, but I assume this means tags such as ref needed or original research\n",
    "    * another approval request from March 2012: https://simple.wikipedia.org/wiki/Wikipedia:Bots/Fulfilled_requests/2012#Cyberbot_I\n",
    "* BookReportBot: generates reports for books within Category:Wikipedia_books_(community_books)\n",
    "    * https://en.wikipedia.org/wiki/Category:Wikipedia_books_(community_books)\n",
    "    * books namespace is now officially deprecated, going to be deleted. guess this won't be running anymore, but still running at the time of data\n",
    "    * namespace 109\n",
    "* AfDBot: clerks at AfDs (converted to PHP - originally SnotBot python)\n",
    "    * https://en.wikipedia.org/wiki/Wikipedia:Articles_for_deletion\n",
    "    * articles for deletion\n",
    "    * found only one cyberbot edit, transcluding something\n",
    "    * most edits pertaining to this seem to be on page: https://en.wikipedia.org/wiki/User:Cyberbot_I/Current_AfD%27s\n",
    "    * namespaces 2 and 4\n",
    "* RfPPBot: clerks and archives at RfPP (converted to PHP - originally SnotBot python)\n",
    "    * requests for page protection https://en.wikipedia.org/wiki/Wikipedia:Requests_for_page_protection\n",
    "    * several instances of bot archiving threads\n",
    "    * namespace 4\n",
    "* RfUBot: maintains unblock table for users requesting unblock (converted to PHP - originally SnotBot python)\n",
    "    * https://en.wikipedia.org/wiki/User:Cyberbot_I/Requests_for_unblock_report\n",
    "    * info about when blocked, when last edit, etc\n",
    "    * namespace 2\n",
    "* CHUBot: clerks at WP:CHUS\n",
    "    * https://en.wikipedia.org/wiki/Wikipedia:Changing_username/Simple\n",
    "    * requests to change username\n",
    "    * notes if there are any issues with the requested username (another user already has that name or contains unusable characters)\n",
    "    * namespace 4\n",
    "\n",
    "note: all of the tasks listed on this page seem to have been covered by another bot at one point and added to cyberbot I's list. user has cyberbot II for his own code possibly?"
   ]
  },
  {
   "cell_type": "code",
   "execution_count": null,
   "id": "9be03887-29a6-44ca-a793-58e1b3e83d4c",
   "metadata": {},
   "outputs": [],
   "source": [
    "len(df_cyberbot[df_cyberbot.page_id == 35159788]) / len(df_cyberbot) # 35159788 is the id of the Cyberpower678:Tally page - appx percentage of edits in RfXTally"
   ]
  },
  {
   "cell_type": "code",
   "execution_count": null,
   "id": "226d91bd-df0d-44b6-baba-fee9d605cbae",
   "metadata": {},
   "outputs": [],
   "source": [
    "len(df_cyberbot[df_cyberbot.page_namespace == 109]) / len(df_cyberbot) # 109 is the book talk namespace - appx percentage of edits on BookReport task"
   ]
  },
  {
   "cell_type": "code",
   "execution_count": null,
   "id": "1b212d17-0f35-470e-8c65-6d557a0f7a5d",
   "metadata": {},
   "outputs": [],
   "source": [
    "len(df_cyberbot[df_cyberbot.page_id == 16283969]) / len(df_cyberbot) # 16283969 is id of WP:Sandbox - appx percentage of WP:sandbox edits, but there are other sandboxes"
   ]
  },
  {
   "cell_type": "code",
   "execution_count": null,
   "id": "935ef253-3d63-4d6e-8b7b-0b455f5567f9",
   "metadata": {},
   "outputs": [],
   "source": [
    "len(df_cyberbot[df_cyberbot.page_id == 20642622]) / len(df_cyberbot) # 20642622 is cratstats page id - appx percentage of cratstats edits"
   ]
  },
  {
   "cell_type": "code",
   "execution_count": null,
   "id": "03a9272b-6355-4655-ac73-c12cff329a8b",
   "metadata": {},
   "outputs": [],
   "source": [
    "(len(df_cyberbot[df_cyberbot.page_namespace == 10]) - len(df_cyberbot[df_cyberbot.page_id == 20642622])) / len(df_cyberbot) # possible percentage of other template edits - admin stats updates, but may be less"
   ]
  },
  {
   "cell_type": "code",
   "execution_count": null,
   "id": "20922b16-70fd-48cd-a3cd-7bf9af64b1ec",
   "metadata": {},
   "outputs": [],
   "source": [
    "# other functions would be more difficult to isolate - other namespaces have multiple tasks, multiple pages"
   ]
  },
  {
   "cell_type": "markdown",
   "id": "d8fd9a3e-4624-42cd-af78-5413fee08289",
   "metadata": {},
   "source": [
    "# Cyberbot I: random sample of edits and analysis"
   ]
  },
  {
   "cell_type": "code",
   "execution_count": null,
   "id": "12d9d6b3-5fb7-4921-8bd3-5d7b62903c58",
   "metadata": {},
   "outputs": [],
   "source": [
    "df_cyberbot.sample(n=20, random_state=10)[[\"rev_id\", \"page_id\", \"is_minor\", \"is_revert\", \"is_reverted\", \"page_namespace\", \"seconds_to_prev\", \"damaging_pred\", \"goodfaith_pred\"]].reset_index()"
   ]
  },
  {
   "cell_type": "markdown",
   "id": "46de94ca-2e7d-405a-9fa4-612eaf6d7faa",
   "metadata": {},
   "source": [
    "0. 876857914 on RfPP page, re-ordered requests according to time stamps\n",
    "1. 876400051 part of bookreport task. changing article status (to what their pages currently say?) and adds \"|non-free=\" to template\n",
    "2. 876254025 updating someone's admin stats\n",
    "3. 877870409 part of bookreport task. removed a gif from the report (can't be included in a book?)\n",
    "4. 876391750 on RfX report, updated count for a vote and timestamp of latest update\n",
    "5. 879276370 updating someone's admin stats\n",
    "6. 879127746 updating someone's admin stats, except ***note: possible malfunction, stats go way down*** month long break since last edit. they later go back up in the next edit. as I skip through edits, they keep going up and down a bit, but never by as much as in the original edit\n",
    "7. 879310786 adds RfB to RfX page and deletes line that says there are no current RfXs\n",
    "8. 877101856 clears sandbox of all content, preserving header\n",
    "9. 878321999 updating admin stats\n",
    "10. 878493763 AfD report. list of AfD's which are apparently closed but remain on CAT:AfD. made no substantial changes, only updated time that page was last updated by the bot\n",
    "11. 877805941 updating current AfD's list under its own user page.\n",
    "12. 876411075 updating RfU page, time of last update and adding requests\n",
    "13. 878300940 part of bookreport task, updating the status of an article to GA and changing count accordingly\n",
    "14. 878977612 updating admin stats\n",
    "15. 879125181 updating admin stats\n",
    "16. 877860705 created bookreport for a new book\n",
    "17. 876417475 updating admin stats\n",
    "18. 876586515 updating admin stats\n",
    "19. 878843141 updating RfU page, adding users and changing time of last update"
   ]
  },
  {
   "cell_type": "markdown",
   "id": "aac41fe1-eada-46ef-9052-22db0a68d20a",
   "metadata": {},
   "source": [
    "# Cyberbot I: random sample of self-reverted edits and analysis"
   ]
  },
  {
   "cell_type": "code",
   "execution_count": null,
   "id": "17d4376d-3731-445d-a025-1ebebdd81237",
   "metadata": {},
   "outputs": [],
   "source": [
    "self_reverts.sample(n=20, random_state=10)[[\"rev_id\", \"revert_id\", \"page_namespace\", \"is_self_revert\", \"page_id\"]].reset_index()"
   ]
  },
  {
   "cell_type": "markdown",
   "id": "45da5794-36a6-4b39-8716-bd7de81caaf6",
   "metadata": {},
   "source": [
    "0. 878532936 first one deletes 2 users and counts from Cyberpower678/Tally, second adds same users, same counts again. edits are 4 hours apart\n",
    "1. 876393226 first one deletes 2 users and counts from Cyberpower678/Tally, second adds same users, same counts again. edits are in same minute\n",
    "2. 876334242 first one adds 2 users and counts to Cyberpower678/Tally, second deletes same users, same counts again. edits are 2 mins apart\n",
    "3. 876618286 first one deletes 1 user and count from Cyberpower678/Tally, second adds same user, same counts again. edits are in same minute\n",
    "4. 876713455 in Cyberpower678/RfX Report, adds an RfB candidate **in the wrong spot?** (says bureaucrat candidate but put under RfA heading). deletes candidate 3 mins later\n",
    "5. 876334450 first one adds 2 users and counts to Cyberpower678/Tally, second deletes same users, same counts again. edits are 12 mins apart\n",
    "6. 876608376 first one deletes 1 user and count from Cyberpower678/Tally, second adds same user, same counts again. edits are in same minute\n",
    "7. 876390948 first one deletes 2 users and counts from Cyberpower678/Tally, second adds same users, same counts again. edits are in same minute\n",
    "8. 876603770 first one deletes 1 user and count from Cyberpower678/Tally, second adds same user, same count again. edits are in same minute\n",
    "9. 879099269 first one adds 3 users and counts to Cyberpower678/Tally, second deletes same users, same counts again. edits are 2.5 hours apart\n",
    "10. 876236234 first one deletes 3 users and counts from Cyberpower678/Tally, second adds same users, same counts again. edits are in same minute\n",
    "11. 876398793 first one deletes 2 users and counts from Cyberpower678/Tally, second adds same users, same counts again. edits are in same minute\n",
    "12. 878554876 first one adds 2 users and counts to Cyberpower678/Tally, second deletes same users, same counts again. edits are 2 hours apart\n",
    "13. 876357917 first one adds 2 users and counts to Cyberpower678/Tally, second deletes same users, same counts again. edits are 1 minute apart\n",
    "14. 876622438 first one adds 1 user and count to Cyberpower678/Tally, second deletes same user, same count again. edits are 1 minute apart.\n",
    "15. 876607113 first one deletes 1 user and count from Cyberpower678/Tally, second adds same user, same count again. edits are in same minute\n",
    "16. 876237731 in Cyberpower678/RfX Report, deletes 2 RfB candidates **in the wrong spot?** (says bureaucrat candidate but put under RfA heading). re-adds candidates in same minute later, with same numbers\n",
    "17. 876614945 first one adds 1 user and count to Cyberpower678/Tally, second deletes same user, same count again. edits are 4 minutes apart.\n",
    "18. 876600530 first one adds 2 users and counts to Cyberpower678/Tally, second only one user and count again. edits are 10 minutes apart\n",
    "19. 876561044 first one adds 2 users and counts to Cyberpower678/Tally, second deletes same users, same counts again. edits are 1 min apart"
   ]
  },
  {
   "cell_type": "code",
   "execution_count": null,
   "id": "d00955d4-281c-47ce-b2b2-3563025c82e8",
   "metadata": {},
   "outputs": [],
   "source": [
    "self_reverts.head(5)[[\"rev_id\", \"revert_id\", \"page_namespace\", \"is_self_revert\"]]"
   ]
  },
  {
   "cell_type": "markdown",
   "id": "56a6a0b0-7a09-47a4-afc4-94a479d89f8f",
   "metadata": {},
   "source": [
    "# Cyberbot I reverts by others (non self-reverts)"
   ]
  },
  {
   "cell_type": "code",
   "execution_count": null,
   "id": "3d022b51-0a9f-4ec1-badf-e90e633f0412",
   "metadata": {},
   "outputs": [],
   "source": [
    "len(non_self_reverts)"
   ]
  },
  {
   "cell_type": "code",
   "execution_count": null,
   "id": "dfae78d6-e27e-4bca-a853-cf7d014be7ea",
   "metadata": {},
   "outputs": [],
   "source": [
    "non_self_reverts.groupby(\"user_text_reverter\").count().sort_values(\"rev_id\", ascending=False)"
   ]
  },
  {
   "cell_type": "code",
   "execution_count": null,
   "id": "27a21f1a-682b-48cd-8d23-2d36bf364b33",
   "metadata": {},
   "outputs": [],
   "source": [
    "non_self_reverts.groupby(\"page_namespace\").count().sort_values(\"rev_id\", ascending=False)"
   ]
  },
  {
   "cell_type": "markdown",
   "id": "808aa63a-21a5-4038-a637-befcf20e2bbd",
   "metadata": {},
   "source": [
    "note: user id reverter shows no pattern, but page_namespace does - 4 is where wikipedia sandbox is. also, explains high variability in user text reverter"
   ]
  },
  {
   "cell_type": "markdown",
   "id": "987ac327-3a1c-465a-868b-8ca8807ec58a",
   "metadata": {},
   "source": [
    "## random sample of namespace 4 (Wikipedia)"
   ]
  },
  {
   "cell_type": "code",
   "execution_count": null,
   "id": "04ea57bb-e151-4810-a5a1-f1cde89e92c3",
   "metadata": {},
   "outputs": [],
   "source": [
    "non_self_reverts[non_self_reverts.page_namespace == 4].sample(n=5, random_state=6)[[\"rev_id\", \"user_text_reverter\", \"revert_id\", \"page_namespace\", \"is_self_revert\", \"page_id\"]].reset_index()"
   ]
  },
  {
   "cell_type": "code",
   "execution_count": null,
   "id": "6e141323-e859-4fa7-9c3f-26b8a726452e",
   "metadata": {},
   "outputs": [],
   "source": [
    "non_self_reverts[non_self_reverts.page_namespace == 4].sample(n=5, random_state=10)[[\"rev_id\", \"user_text_reverter\", \"revert_id\", \"page_namespace\", \"is_self_revert\", \"page_id\"]].reset_index()"
   ]
  },
  {
   "cell_type": "markdown",
   "id": "d169bca5-45fd-43d9-9272-6ddbd573d4aa",
   "metadata": {},
   "source": [
    "0. 879206511 in sandbox, cydebot clears everything. in same minute, a user adds new stuff to page.\n",
    "1. 878004584 a minute after cyberbot clears everything from sandbox, someone actually undoes cyberbot's edit to restore their content\n",
    "2. 877919961 on Wikipedia:Articles for deletion/Shari Thurer, cydebot adds automated comment about not being included on another page. another user closes discussion and removes Cyberbot's comment.\n",
    "3. 877957992 on WP:CHUS, cyberbot blanks page for an unknown reason. another user undid Cyberbot's revision. **weird** 11 Jan 18:20\n",
    "4. 878282200 again on WP:CHUS, cyberbot blanks page and another user undoes it. **very weird** 13 Jan 18:40\n",
    "\n",
    "\n",
    "another random sample - need more info\n",
    "\n",
    "0. 878737151 16 Jan Wikipedia:Articles for deletion/Pradeep Chandran, cyberbot deletes template from closed AfD, another user removes some stuff from page. edits don't seem related\n",
    "1. above\n",
    "2. 877094783 in sandbox, cyberbot clears content, another user undoes the edit to get their content back\n",
    "3. 878339112 cyberbot clears content of sandbox, another user deletes template and adds their own stuff\n",
    "4. above"
   ]
  },
  {
   "cell_type": "code",
   "execution_count": null,
   "id": "cb366b05-a01b-4599-8831-15fee93f5724",
   "metadata": {},
   "outputs": [],
   "source": [
    "len(non_self_reverts[(non_self_reverts.page_namespace == 4) & (non_self_reverts.page_id == 16283969)])"
   ]
  },
  {
   "cell_type": "markdown",
   "id": "e670bd55-960d-43d4-b35c-854e41aae673",
   "metadata": {},
   "source": [
    "I was wrong - out of 26 total edits, only 14 are in the sandbox. 4 are in other namespaces, which leaves 8 edits in the WP namespace reverted by others"
   ]
  },
  {
   "cell_type": "markdown",
   "id": "5fda69d2-aa86-4ac3-a178-7e658f9518c6",
   "metadata": {},
   "source": [
    "## other namespaces (10, 0, 109)"
   ]
  },
  {
   "cell_type": "code",
   "execution_count": null,
   "id": "70432e61-15e1-4c01-b684-b1e3d2c1d169",
   "metadata": {},
   "outputs": [],
   "source": [
    "non_self_reverts[non_self_reverts.page_namespace != 4][[\"rev_id\", \"user_text_reverter\", \"revert_id\", \"page_namespace\", \"is_self_revert\", \"page_id\"]].reset_index()"
   ]
  },
  {
   "cell_type": "markdown",
   "id": "b863e472-c30c-4c49-b9a4-2817db48b009",
   "metadata": {},
   "source": [
    "0. 876559900 cyberbot updates book report, removing files. another user undoes the edit next day\n",
    "1. 876710826 on 3 january, user changes cyberbot's RfX tally to mention another bot. edit summary \"alternative until bot is fixed.\" **was cyberbot broken?** cyberbot undoes this edit, and another user undoes cyberbot's edit.\n",
    "2. 877919965 on Shari Thurer article, cyberbot adds AfD template because article is still at AfD but no template. another user deletes the template an hour later but provides no edit summary. Jan 11. found decision for AfD on talk page - keep, put there 9:08 11 Jan, hence before Cyberbot made this edit - **another malfunction.** uncertain whether Cyberbot was functioning as intended.\n",
    "    * related to 2 above https://en.wikipedia.org/w/index.php?title=Wikipedia:Articles_for_deletion/Shari_Thurer_(2nd_nomination)&action=history\n",
    "    * discussion closed 9:08 11 Jan, hence before cyberbot made this edit\n",
    "3. 879005465 continuation of 1 above, cyberbot undoes the other user undoing it. user makes edit again with a {{nobots}} flag an **interesting fight between users and bots!**"
   ]
  },
  {
   "cell_type": "code",
   "execution_count": null,
   "id": "29c2f010-6b6d-4df9-ac21-e48a2fe2c2b2",
   "metadata": {},
   "outputs": [],
   "source": []
  }
 ],
 "metadata": {
  "kernelspec": {
   "display_name": "Python 3",
   "language": "python",
   "name": "python3"
  },
  "language_info": {
   "codemirror_mode": {
    "name": "ipython",
    "version": 3
   },
   "file_extension": ".py",
   "mimetype": "text/x-python",
   "name": "python",
   "nbconvert_exporter": "python",
   "pygments_lexer": "ipython3",
   "version": "3.8.8"
  }
 },
 "nbformat": 4,
 "nbformat_minor": 5
}
