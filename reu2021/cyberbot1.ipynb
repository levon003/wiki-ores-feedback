{
 "cells": [
  {
   "cell_type": "markdown",
   "id": "047c04ad-dd1d-4813-993f-3cbf7428f11e",
   "metadata": {},
   "source": [
    "Cyberbot I\n",
    "===\n"
   ]
  },
  {
   "cell_type": "markdown",
   "id": "cb87d87e-5aeb-48da-894f-544ecf139235",
   "metadata": {},
   "source": [
    "do a write-up where we go deeper on some pairs - pick 2 self reverting and 1 bot-bot reverting combination -- each take one bot. can do in spreadsheet or notebook. go beyond bullet pointed list -- write a summary of why bot exists, what it does, why it gets reverted. give us a case study. what is the thing that is trying to be done here? deepen qualitative understanding\n",
    "\n",
    "* why exist\n",
    "* how long operational\n",
    "* what percentage reverts\n",
    "* why reverts itself\n",
    "* namespaces\n",
    "* link to code of bot? -- is publicly accessible?\n",
    "* how does it work\n",
    "* look at 10, 20 revisions\n",
    "* look at 10, 20 reverted revisions\n",
    "\n",
    "points not in order. collect as many links as you can. if find interesting rev, copy url and write why interesting. klepto approach - take as many as you can\n"
   ]
  },
  {
   "cell_type": "code",
   "execution_count": null,
   "id": "22be9a35-4a7f-4f0b-a445-33a9c84ee74a",
   "metadata": {},
   "outputs": [],
   "source": []
  }
 ],
 "metadata": {
  "kernelspec": {
   "display_name": "Python 3",
   "language": "python",
   "name": "python3"
  },
  "language_info": {
   "codemirror_mode": {
    "name": "ipython",
    "version": 3
   },
   "file_extension": ".py",
   "mimetype": "text/x-python",
   "name": "python",
   "nbconvert_exporter": "python",
   "pygments_lexer": "ipython3",
   "version": "3.8.8"
  }
 },
 "nbformat": 4,
 "nbformat_minor": 5
}
