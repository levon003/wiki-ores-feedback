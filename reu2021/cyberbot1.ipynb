{
 "cells": [
  {
   "cell_type": "markdown",
   "id": "047c04ad-dd1d-4813-993f-3cbf7428f11e",
   "metadata": {},
   "source": [
    "Cyberbot I\n",
    "===\n"
   ]
  },
  {
   "cell_type": "markdown",
   "id": "cb87d87e-5aeb-48da-894f-544ecf139235",
   "metadata": {},
   "source": [
    "do a write-up where we go deeper on some pairs - pick 2 self reverting and 1 bot-bot reverting combination -- each take one bot. can do in spreadsheet or notebook. go beyond bullet pointed list -- write a summary of why bot exists, what it does, why it gets reverted. give us a case study. what is the thing that is trying to be done here? deepen qualitative understanding\n",
    "\n",
    "* why exist\n",
    "* how long operational\n",
    "* what percentage reverts\n",
    "* why reverts itself\n",
    "* namespaces\n",
    "* link to code of bot? -- is publicly accessible?\n",
    "* how does it work\n",
    "* look at 10, 20 revisions\n",
    "* look at 10, 20 reverted revisions\n",
    "\n",
    "points not in order. collect as many links as you can. if find interesting rev, copy url and write why interesting. klepto approach - take as many as you can\n"
   ]
  },
  {
   "cell_type": "markdown",
   "id": "4fec4b00-8ed5-454b-9f6b-be066fc91213",
   "metadata": {},
   "source": [
    "subsetting the data\n",
    "==="
   ]
  },
  {
   "cell_type": "code",
   "execution_count": 1,
   "id": "22be9a35-4a7f-4f0b-a445-33a9c84ee74a",
   "metadata": {},
   "outputs": [],
   "source": [
    "%reload_ext autoreload\n",
    "%autoreload 2\n",
    "%matplotlib inline"
   ]
  },
  {
   "cell_type": "code",
   "execution_count": 2,
   "id": "d6c713d4-b392-4226-87f9-58f7aa14b309",
   "metadata": {},
   "outputs": [],
   "source": [
    "import numpy as np\n",
    "import pandas as pd\n",
    "import matplotlib.pyplot as plt"
   ]
  },
  {
   "cell_type": "code",
   "execution_count": 3,
   "id": "f737c3ff-9587-4fb0-bb18-5f8f530f3c9b",
   "metadata": {},
   "outputs": [],
   "source": [
    "from datetime import datetime"
   ]
  },
  {
   "cell_type": "code",
   "execution_count": 4,
   "id": "bb245e88-53d6-4d91-ae21-e5172744ef6c",
   "metadata": {},
   "outputs": [],
   "source": [
    "df = pd.read_csv('revs_scored_jan.tsv', sep='\\t', header=0)"
   ]
  },
  {
   "cell_type": "code",
   "execution_count": 5,
   "id": "50d95ebc-459d-479b-accd-56741511ee9e",
   "metadata": {},
   "outputs": [],
   "source": [
    "days = df.rev_timestamp.map(lambda ts: datetime.utcfromtimestamp(ts).day)\n",
    "df['day'] = days"
   ]
  },
  {
   "cell_type": "code",
   "execution_count": 14,
   "id": "d4dd2701-d41d-40f5-85d1-2bcd42d38aea",
   "metadata": {},
   "outputs": [],
   "source": [
    "# isolate data to only data from Jan1-Jan21, edits by Cyberbot\n",
    "\n",
    "sdf = df[df.day<22]\n",
    "df_cyberbot = sdf[sdf.user_text == \"Cyberbot I\"]"
   ]
  },
  {
   "cell_type": "code",
   "execution_count": 15,
   "id": "a6ce1904-f3f3-4d2b-a129-01bcac2ae97f",
   "metadata": {},
   "outputs": [
    {
     "data": {
      "text/plain": [
       "7824"
      ]
     },
     "execution_count": 15,
     "metadata": {},
     "output_type": "execute_result"
    }
   ],
   "source": [
    "len(df_cyberbot)"
   ]
  },
  {
   "cell_type": "code",
   "execution_count": 81,
   "id": "9d26e278-ad1c-4c28-b300-ea9dd258b41a",
   "metadata": {},
   "outputs": [],
   "source": [
    "sdf_another = df[df.is_revert]\n",
    "\n",
    "cyberbot_reverted = df_cyberbot[df_cyberbot.is_reverted]\n",
    "cyberbot_reverted = cyberbot_reverted[cyberbot_reverted.seconds_to_revert.astype('str').astype('int')<86400]\n",
    "\n",
    "sdf1 = df_cyberbot.loc[df_cyberbot.is_reverted, [\"rev_id\", \"user_text\", \"revert_id\", \"page_namespace\"]]\n",
    "sdf1.revert_id = sdf1.revert_id.astype('int')\n",
    "\n",
    "sdf2 = sdf_another[[\"rev_id\", 'user_text', \"is_self_revert\", \"user_is_bot\"]]"
   ]
  },
  {
   "cell_type": "code",
   "execution_count": 82,
   "id": "2b1ab89c-7e9d-408a-b22f-7f1bbb9f0fbe",
   "metadata": {},
   "outputs": [],
   "source": [
    "all_reverts = pd.merge(sdf1, sdf2, \n",
    "             how='inner', \n",
    "             left_on='revert_id', \n",
    "             right_on='rev_id', \n",
    "             suffixes=('', '_reverter')\n",
    ")"
   ]
  },
  {
   "cell_type": "code",
   "execution_count": 21,
   "id": "b1eb3ab8-d005-4243-9cce-07a91cfcdb8c",
   "metadata": {},
   "outputs": [],
   "source": [
    "all_reverts['reverting_user_is_bot'] = all_reverts['user_is_bot']\n",
    "del all_reverts[\"user_is_bot\"]"
   ]
  },
  {
   "cell_type": "code",
   "execution_count": 83,
   "id": "bee9226e-7427-44cf-99b4-cde98ffd64e2",
   "metadata": {},
   "outputs": [],
   "source": [
    "self_reverts = all_reverts[all_reverts.user_text_reverter == \"Cyberbot I\"]\n",
    "non_self_reverts = all_reverts[all_reverts.user_text_reverter != \"Cyberbot I\"]"
   ]
  },
  {
   "cell_type": "code",
   "execution_count": 50,
   "id": "66ac6cc6-89d6-4bc2-b8fe-1e7fad09bf61",
   "metadata": {},
   "outputs": [],
   "source": [
    "# variables at this point:\n",
    "#   df\n",
    "#   df_cyberbot = all edits by cyberbot\n",
    "#   cyberbot_reverted = all of cyberbots edits which were reverted w/in 24 hours\n",
    "#   all_reverts = all of cyberbot's edits reverted w/in 24 hours, with both original rev_id and revert_id\n",
    "#     self_reverts = all of cyberbot's edits which it self-reverted w/in 24 hours\n",
    "#     non_self_reverts = all of cyberbot's edits which were reverted by someone else w/in 24 hours"
   ]
  },
  {
   "cell_type": "markdown",
   "id": "a5eb6f0b-7fe5-4e2d-83ea-2aa2b731930f",
   "metadata": {},
   "source": [
    "# what percentage of cyberbot's edits were reverted within 24 hours?\n"
   ]
  },
  {
   "cell_type": "code",
   "execution_count": 51,
   "id": "6fa0ff70-95ee-43b7-825a-2b2313ff9862",
   "metadata": {},
   "outputs": [
    {
     "data": {
      "text/plain": [
       "0.14506646216768918"
      ]
     },
     "execution_count": 51,
     "metadata": {},
     "output_type": "execute_result"
    }
   ],
   "source": [
    "len(all_reverts) / len(df_cyberbot) "
   ]
  },
  {
   "cell_type": "markdown",
   "id": "9a1b5b86-bc69-445c-a4c8-1a8adef8b8ae",
   "metadata": {},
   "source": [
    "## percentage self reverted"
   ]
  },
  {
   "cell_type": "code",
   "execution_count": 53,
   "id": "38719bad-7c43-4fc1-8b99-c6f3a8808ba8",
   "metadata": {},
   "outputs": [
    {
     "data": {
      "text/plain": [
       "0.1412321063394683"
      ]
     },
     "execution_count": 53,
     "metadata": {},
     "output_type": "execute_result"
    }
   ],
   "source": [
    "len(self_reverts) / len(df_cyberbot)"
   ]
  },
  {
   "cell_type": "markdown",
   "id": "1d68f684-58c0-4989-964f-c4d168a8020d",
   "metadata": {},
   "source": [
    "## percentage reverted by others"
   ]
  },
  {
   "cell_type": "code",
   "execution_count": 52,
   "id": "ca755bce-13c4-4a6b-9b21-be9b27307c20",
   "metadata": {},
   "outputs": [
    {
     "data": {
      "text/plain": [
       "0.003834355828220859"
      ]
     },
     "execution_count": 52,
     "metadata": {},
     "output_type": "execute_result"
    }
   ],
   "source": [
    "len(non_self_reverts) / len(df_cyberbot)"
   ]
  },
  {
   "cell_type": "markdown",
   "id": "b47cd68d-d536-4003-85df-e7989a380400",
   "metadata": {},
   "source": [
    "percentage reverted by others is so small! 0.38%. almost all reverts are self reverts"
   ]
  },
  {
   "cell_type": "markdown",
   "id": "f4dd9d73-fca6-4e78-9c7a-882141cc8072",
   "metadata": {},
   "source": [
    "## who reverted them?"
   ]
  },
  {
   "cell_type": "code",
   "execution_count": 41,
   "id": "eb47548d-8cf5-4a4c-ba41-c42e3841e956",
   "metadata": {},
   "outputs": [],
   "source": [
    "cyberbot_reverting_users = all_reverts.groupby('user_text_reverter').count().sort_values('rev_id', ascending=False).reset_index()"
   ]
  },
  {
   "cell_type": "code",
   "execution_count": 44,
   "id": "9218a5a6-ecf2-477a-8aff-da3f92a7d148",
   "metadata": {},
   "outputs": [
    {
     "data": {
      "image/png": "[encoded data removed]",
      "text/plain": [
       "<Figure size 504x504 with 1 Axes>"
      ]
     },
     "metadata": {
      "needs_background": "light"
     },
     "output_type": "display_data"
    }
   ],
   "source": [
    "fig, axes = plt.subplots(1, 1, figsize=(7, 7))\n",
    "y = range(len(cyberbot_reverting_users))\n",
    "axes.bar(y, cyberbot_reverting_users.rev_id, width=1)\n",
    "axes.set_yscale('log')\n",
    "axes.set_xticks(y)\n",
    "axes.set_xticklabels([f\"{row.user_text_reverter}\" for row in cyberbot_reverting_users.itertuples()], rotation=90)\n",
    "\n",
    "axes.set_title(\"how many times was Cyberbot I reverted by various users?\")\n",
    "axes.set_xlabel(\"user\")\n",
    "axes.set_ylabel(\"reverts of Cyberbot I\")\n",
    "plt.show()"
   ]
  },
  {
   "cell_type": "markdown",
   "id": "9b3b3ff4-07f5-4926-b149-e59a81228794",
   "metadata": {},
   "source": [
    "Cyberbot requests for approval\n",
    "===\n"
   ]
  },
  {
   "cell_type": "markdown",
   "id": "aa9c65fd-8e52-4f61-8816-c0c56da50e8d",
   "metadata": {},
   "source": [
    "zeroth request for approval: March 2012 https://en.wikipedia.org/wiki/Wikipedia:Bots/Requests_for_approval/Cyberbot_I\n",
    "* request eventually withdrawn\n",
    "* operator made mistakes in application (programming language, not specific enough about tasks)\n",
    "* trying to take over all tasks of SoxBot, old bot whose operator retired\n",
    "* people were concerned that he had bitten off more than he could chew by trying to take over all of SoxBot's tasks at once\n",
    "* source code \"coming soon\""
   ]
  },
  {
   "cell_type": "markdown",
   "id": "713cf23d-0167-48c4-bd48-c4891b7dd0e1",
   "metadata": {},
   "source": [
    "first request for approval: March 2012 https://en.wikipedia.org/wiki/Wikipedia:Bots/Requests_for_approval/Cyberbot_I_1\n",
    "* about 3 weeks after last one\n",
    "* function: taking over SoxBot's badimage task, same code\n",
    "* had trial, then extended trial before being approved\n",
    "\n",
    "note: meaning of transclusion?"
   ]
  },
  {
   "cell_type": "markdown",
   "id": "d40fcb37-e415-4830-85db-1f8df2ad7885",
   "metadata": {},
   "source": [
    "second request for approval: August 2012 https://en.wikipedia.org/wiki/Wikipedia:Bots/Requests_for_approval/Cyberbot_I_2\n",
    "* request is several months later\n",
    "* functions: \"adminstats, cratstats, RfX reporter, tally\"\n",
    "* code available \"upon request\" - not openly available\n",
    "* speedily approved"
   ]
  },
  {
   "cell_type": "markdown",
   "id": "3ab36ff2-18bb-44e0-95a6-94c383a41aad",
   "metadata": {},
   "source": [
    "third request for approval: February 2013 https://en.wikipedia.org/wiki/Wikipedia:Bots/Requests_for_approval/Cyberbot_I_3\n",
    "* again about 6 months later\n",
    "* function details: \"This is an amendment to the adminstats task based off of a couple of requests. As it currently is running, Adminstats are only providing statistics to admins because it acts as an edit counter for non admins which violates WP:BOTPOL. Another statistic that adminstats display is number of accounts being created. I want to open adminstats to account creators now. Per WP:BOTPOL that is technically allowed, but I want input from BAG.\"\n",
    "* source code available says no! not available at all I suppose... why?\n",
    "* approved\n"
   ]
  },
  {
   "cell_type": "markdown",
   "id": "22152c70-641a-46cb-a5b2-7c2a169f7158",
   "metadata": {},
   "source": [
    "fourth request: July 2013 https://en.wikipedia.org/wiki/Wikipedia:Bots/Requests_for_approval/Cyberbot_I_4\n",
    "* function: takeover of SnotBot, temporary\n",
    "* specific tasks: are snotbot 10 and 12\n",
    "* about 6 months later again\n",
    "* speedily approved"
   ]
  },
  {
   "cell_type": "markdown",
   "id": "8315b085-3623-4ccc-9153-60909c873771",
   "metadata": {},
   "source": [
    "fifth request: July 2013 https://en.wikipedia.org/wiki/Wikipedia:Bots/Requests_for_approval/Cyberbot_I_5\n",
    "* takeover of Noombot's bookreport script\n",
    "* approved"
   ]
  },
  {
   "cell_type": "markdown",
   "id": "cb01e847-ea79-407c-9993-554727f3cbbe",
   "metadata": {},
   "source": [
    "sixth request: August 2013 https://en.wikipedia.org/wiki/Wikipedia:Bots/Requests_for_approval/Cyberbot_I_6\n",
    "* function: create current events page, one of SoxBot's tasks using its original code\n",
    "* approved"
   ]
  },
  {
   "cell_type": "markdown",
   "id": "3fe2cef6-2b49-4cc5-a729-09c730795cf6",
   "metadata": {},
   "source": [
    "seventh request: July 2015 https://en.wikipedia.org/wiki/Wikipedia:Bots/Requests_for_approval/Cyberbot_I_7\n",
    "* take over clerking script from Legobot\n",
    "* approved"
   ]
  },
  {
   "cell_type": "markdown",
   "id": "026782bb-49e9-44cd-8442-13b2cce7a3cc",
   "metadata": {},
   "source": [
    "eighth (and final) request: October 2015 https://en.wikipedia.org/wiki/Wikipedia:Bots/Requests_for_approval/Cyberbot_I_8\n",
    "* function: clean the sandbox. old soxbot code, modified\n",
    "* approved\n",
    "* source code is now available!\n",
    "* runs hourly"
   ]
  },
  {
   "cell_type": "markdown",
   "id": "1206d3bf-d60a-49f5-8783-df1fc01263c7",
   "metadata": {},
   "source": [
    "# namespaces"
   ]
  },
  {
   "cell_type": "code",
   "execution_count": 75,
   "id": "3e3a9996-ad8c-4fa7-85d1-df6f956e374b",
   "metadata": {},
   "outputs": [],
   "source": [
    "all_namespaces = df_cyberbot.groupby(\"page_namespace\").count().sort_values(\"rev_id\", ascending=False)"
   ]
  },
  {
   "cell_type": "code",
   "execution_count": 87,
   "id": "56b8d525-677c-4ac3-9681-f2aac1ad437a",
   "metadata": {},
   "outputs": [
    {
     "data": {
      "image/png": "[encoded data removed]",
      "text/plain": [
       "<Figure size 504x504 with 1 Axes>"
      ]
     },
     "metadata": {
      "needs_background": "light"
     },
     "output_type": "display_data"
    }
   ],
   "source": [
    "fig, axes = plt.subplots(1, 1, figsize=(7, 7))\n",
    "y = range(len(all_namespaces))\n",
    "axes.bar(y, all_namespaces.rev_id, width=1)\n",
    "axes.set_xticks(y)\n",
    "axes.set_xticklabels([f\"{row.Index}\" for row in all_namespaces.itertuples()], rotation=0)\n",
    "\n",
    "axes.set_title(\"Cyberbot I edits by namespace\")\n",
    "axes.set_xlabel(\"namespace\")\n",
    "axes.set_ylabel(\"edits\")\n",
    "plt.show()"
   ]
  },
  {
   "cell_type": "code",
   "execution_count": 78,
   "id": "82300783-e5bb-4219-a716-cb6e3a64617e",
   "metadata": {},
   "outputs": [],
   "source": [
    "rev_namespaces = cyberbot_reverted.groupby(\"page_namespace\").count().sort_values(\"rev_id\", ascending=False)"
   ]
  },
  {
   "cell_type": "code",
   "execution_count": 80,
   "id": "f2d483ec-6386-4344-b983-fc64abbb6d6e",
   "metadata": {},
   "outputs": [
    {
     "data": {
      "image/png": "[encoded data removed]",
      "text/plain": [
       "<Figure size 504x504 with 1 Axes>"
      ]
     },
     "metadata": {
      "needs_background": "light"
     },
     "output_type": "display_data"
    }
   ],
   "source": [
    "fig, axes = plt.subplots(1, 1, figsize=(7, 7))\n",
    "y = range(len(rev_namespaces))\n",
    "axes.bar(y, rev_namespaces.rev_id, width=1)\n",
    "axes.set_xticks(y)\n",
    "axes.set_xticklabels([f\"{row.Index}\" for row in rev_namespaces.itertuples()], rotation=0)\n",
    "\n",
    "axes.set_title(\"Cyberbot I reverted edits by namespace\")\n",
    "axes.set_xlabel(\"namespace\")\n",
    "axes.set_ylabel(\"reverted edits\")\n",
    "plt.show()"
   ]
  },
  {
   "cell_type": "code",
   "execution_count": 85,
   "id": "14191020-e2bf-47bd-969d-3a2eef50b666",
   "metadata": {},
   "outputs": [],
   "source": [
    "nonself_rev_namespaces = non_self_reverts.groupby(\"page_namespace\").count().sort_values(\"rev_id\", ascending=False)"
   ]
  },
  {
   "cell_type": "code",
   "execution_count": 86,
   "id": "dca70eae-2776-4daf-974a-62ec29e34022",
   "metadata": {},
   "outputs": [
    {
     "data": {
      "image/png": "[encoded data removed]",
      "text/plain": [
       "<Figure size 504x504 with 1 Axes>"
      ]
     },
     "metadata": {
      "needs_background": "light"
     },
     "output_type": "display_data"
    }
   ],
   "source": [
    "fig, axes = plt.subplots(1, 1, figsize=(7, 7))\n",
    "y = range(len(nonself_rev_namespaces))\n",
    "axes.bar(y, nonself_rev_namespaces.rev_id, width=1)\n",
    "axes.set_xticks(y)\n",
    "axes.set_xticklabels([f\"{row.Index}\" for row in nonself_rev_namespaces.itertuples()], rotation=0)\n",
    "\n",
    "axes.set_title(\"Cyberbot I edits reverted by others by namespace\")\n",
    "axes.set_xlabel(\"namespace\")\n",
    "axes.set_ylabel(\"reverted edits\")\n",
    "plt.show()"
   ]
  },
  {
   "cell_type": "markdown",
   "id": "7d4e7023-5584-48e6-9b87-43e9236121c9",
   "metadata": {},
   "source": [
    "# Cyberbot functions\n"
   ]
  },
  {
   "cell_type": "markdown",
   "id": "e34d03e8-83d2-4abd-99a0-e1b6ab586a50",
   "metadata": {},
   "source": [
    "user page: https://en.wikipedia.org/wiki/User:Cyberbot_I"
   ]
  },
  {
   "cell_type": "markdown",
   "id": "bcaec0de-5396-4213-9240-fc5f7b64793c",
   "metadata": {},
   "source": [
    "listed tasks, only currently enabled ones:\n",
    "* SandBot: cleans sandbox every hour, ones on talk pages every 12 hours\n",
    "* BadImageBot: maintains the bad image list by finding instances of https://en.wikipedia.org/wiki/Template:Badimage / https://en.wikipedia.org/wiki/Template:Restricted_use\n",
    "    * adding template does nothing, just leaves a note on the image\n",
    "    * cyberbot finds instances of the template and adds the image to the bad image list\n",
    "    * transclusion https://en.wikipedia.org/wiki/Help:Transclusion seems extremely confusing\n",
    "* CurrentEventsBot: generates current event pages for the next day\n",
    "* AdminStatsBot: updates the adminstats template with info about admin actions (deletes, blocks) https://en.wikipedia.org/wiki/Template:Adminstats\n",
    "    * place template on userpage or user subpage, bot creates stats page and updates it every 24 hours\n",
    "    * gives info about number of pages / revisions deleted, users blocked / unblocked, that sort of thing\n",
    "* CratStats: updates the cratstats template with info about open AfAs, RfBs, CHU requests https://en.wikipedia.org/wiki/Template:Cratstats\n",
    "    * AfA -> RfA (request for adminship), want to become admin\n",
    "    * RfB (request for bureaucratship)\n",
    "    * CHU - no idea\n",
    "    * cratstats also shows BRFAs (bot requests for approval)\n",
    "* RfX reporter: updates User:Cyberpower678/RfX_Report with info about current RfAs and RfBs \n",
    "    * https://en.wikipedia.org/wiki/User:Cyberpower678/RfX_Report\n",
    "    * shows candidate, time left, tally of votes\n",
    "* RfX TallyBot: updates Cyberpower678/Tally with the current tallies of all the open RfXs\n",
    "    * visible content of page: only (?/?/?)\n",
    "    * not visible content: various usernames, all with (0/0/0) next to them. why are all the counts 0?\n",
    "    * did find one version with actual numbers, only in first loc. shows numbers matching S/O/N (Support/Oppose/Neutral) format on RfX report page?\n",
    "* AdminHighlighterBot: creates a list of admins at User:Cyberbot_I/adminrights-admins.js for another bot? Ais523's highlighter script\n",
    "    * Ais523 is a semi-retired user who writes scripts\n",
    "    * page is literally just a list of users with admin rights\n",
    "* DateFixBot: date fixes maintenance tags\n",
    "    * can't find much, but I assume this means tags such as ref needed or original research\n",
    "    * another approval request from March 2012: https://simple.wikipedia.org/wiki/Wikipedia:Bots/Fulfilled_requests/2012#Cyberbot_I\n",
    "* BookReportBot: generates reports for books within Category:Wikipedia_books_(community_books)\n",
    "    * https://en.wikipedia.org/wiki/Category:Wikipedia_books_(community_books)\n",
    "    * books namespace is now officially deprecated, going to be deleted. guess this won't be running anymore\n",
    "* AfDBot: clerks at AfDs (converted to PHP - originally SnotBot python)\n",
    "    * https://en.wikipedia.org/wiki/Wikipedia:Articles_for_deletion\n",
    "    * articles for deletion\n",
    "    * found only one cyberbot edit, transcluding something\n",
    "    * most edits pertaining to this seem to be on page: https://en.wikipedia.org/wiki/User:Cyberbot_I/Current_AfD%27s\n",
    "* RfPPBot: clerks and archives at RfPP (converted to PHP - originally SnotBot python)\n",
    "    * requests for page protection https://en.wikipedia.org/wiki/Wikipedia:Requests_for_page_protection\n",
    "    * several instances of bot archiving threads\n",
    "* RfUBot: maintains unblock table for users requesting unblock (converted to PHP - originally SnotBot python)\n",
    "    * https://en.wikipedia.org/wiki/User:Cyberbot_I/Requests_for_unblock_report\n",
    "    * info about when blocked, when last edit, etc\n",
    "* CHUBot: clerks at WP:CHUS\n",
    "    * https://en.wikipedia.org/wiki/Wikipedia:Changing_username/Simple\n",
    "    * requests to change username\n",
    "    * notes if there are any issues with the requested username (another user already has that name or contains unusable characters)\n",
    "\n",
    "note: all of the tasks listed on this page seem to have been covered by another bot at one point and added to cyberbot I's list. user has cyberbot II for his own code possibly?"
   ]
  },
  {
   "cell_type": "markdown",
   "id": "d8fd9a3e-4624-42cd-af78-5413fee08289",
   "metadata": {},
   "source": [
    "# Cyberbot I: random sample of edits and analysis"
   ]
  },
  {
   "cell_type": "code",
   "execution_count": 54,
   "id": "12d9d6b3-5fb7-4921-8bd3-5d7b62903c58",
   "metadata": {},
   "outputs": [
    {
     "data": {
      "text/html": [
       "<div>\n",
       "<style scoped>\n",
       "    .dataframe tbody tr th:only-of-type {\n",
       "        vertical-align: middle;\n",
       "    }\n",
       "\n",
       "    .dataframe tbody tr th {\n",
       "        vertical-align: top;\n",
       "    }\n",
       "\n",
       "    .dataframe thead th {\n",
       "        text-align: right;\n",
       "    }\n",
       "</style>\n",
       "<table border=\"1\" class=\"dataframe\">\n",
       "  <thead>\n",
       "    <tr style=\"text-align: right;\">\n",
       "      <th></th>\n",
       "      <th>index</th>\n",
       "      <th>rev_id</th>\n",
       "      <th>page_id</th>\n",
       "      <th>is_minor</th>\n",
       "      <th>is_revert</th>\n",
       "      <th>is_reverted</th>\n",
       "      <th>page_namespace</th>\n",
       "      <th>seconds_to_prev</th>\n",
       "      <th>damaging_pred</th>\n",
       "      <th>goodfaith_pred</th>\n",
       "    </tr>\n",
       "  </thead>\n",
       "  <tbody>\n",
       "    <tr>\n",
       "      <th>0</th>\n",
       "      <td>604511</td>\n",
       "      <td>876857914</td>\n",
       "      <td>352651</td>\n",
       "      <td>False</td>\n",
       "      <td>False</td>\n",
       "      <td>False</td>\n",
       "      <td>4</td>\n",
       "      <td>73</td>\n",
       "      <td>0.006925</td>\n",
       "      <td>0.991412</td>\n",
       "    </tr>\n",
       "    <tr>\n",
       "      <th>1</th>\n",
       "      <td>166853</td>\n",
       "      <td>876400051</td>\n",
       "      <td>45514171</td>\n",
       "      <td>True</td>\n",
       "      <td>False</td>\n",
       "      <td>False</td>\n",
       "      <td>109</td>\n",
       "      <td>6431770</td>\n",
       "      <td>0.008596</td>\n",
       "      <td>0.994566</td>\n",
       "    </tr>\n",
       "    <tr>\n",
       "      <th>2</th>\n",
       "      <td>25927</td>\n",
       "      <td>876254025</td>\n",
       "      <td>39008263</td>\n",
       "      <td>True</td>\n",
       "      <td>False</td>\n",
       "      <td>False</td>\n",
       "      <td>10</td>\n",
       "      <td>85800</td>\n",
       "      <td>0.008977</td>\n",
       "      <td>0.993623</td>\n",
       "    </tr>\n",
       "    <tr>\n",
       "      <th>3</th>\n",
       "      <td>1579570</td>\n",
       "      <td>877870409</td>\n",
       "      <td>42414676</td>\n",
       "      <td>True</td>\n",
       "      <td>False</td>\n",
       "      <td>False</td>\n",
       "      <td>109</td>\n",
       "      <td>11560743</td>\n",
       "      <td>0.006855</td>\n",
       "      <td>0.995447</td>\n",
       "    </tr>\n",
       "    <tr>\n",
       "      <th>4</th>\n",
       "      <td>158789</td>\n",
       "      <td>876391750</td>\n",
       "      <td>35159700</td>\n",
       "      <td>False</td>\n",
       "      <td>False</td>\n",
       "      <td>False</td>\n",
       "      <td>2</td>\n",
       "      <td>1557</td>\n",
       "      <td>0.007126</td>\n",
       "      <td>0.990445</td>\n",
       "    </tr>\n",
       "    <tr>\n",
       "      <th>5</th>\n",
       "      <td>2928072</td>\n",
       "      <td>879276370</td>\n",
       "      <td>21083350</td>\n",
       "      <td>True</td>\n",
       "      <td>False</td>\n",
       "      <td>False</td>\n",
       "      <td>10</td>\n",
       "      <td>88589</td>\n",
       "      <td>0.010086</td>\n",
       "      <td>0.991916</td>\n",
       "    </tr>\n",
       "    <tr>\n",
       "      <th>6</th>\n",
       "      <td>2785160</td>\n",
       "      <td>879127746</td>\n",
       "      <td>48564490</td>\n",
       "      <td>True</td>\n",
       "      <td>False</td>\n",
       "      <td>True</td>\n",
       "      <td>10</td>\n",
       "      <td>3890847</td>\n",
       "      <td>0.010453</td>\n",
       "      <td>0.990951</td>\n",
       "    </tr>\n",
       "    <tr>\n",
       "      <th>7</th>\n",
       "      <td>2960799</td>\n",
       "      <td>879310786</td>\n",
       "      <td>35159700</td>\n",
       "      <td>False</td>\n",
       "      <td>False</td>\n",
       "      <td>False</td>\n",
       "      <td>2</td>\n",
       "      <td>209</td>\n",
       "      <td>0.013086</td>\n",
       "      <td>0.990231</td>\n",
       "    </tr>\n",
       "    <tr>\n",
       "      <th>8</th>\n",
       "      <td>839153</td>\n",
       "      <td>877101856</td>\n",
       "      <td>16283969</td>\n",
       "      <td>False</td>\n",
       "      <td>True</td>\n",
       "      <td>False</td>\n",
       "      <td>4</td>\n",
       "      <td>1836</td>\n",
       "      <td>0.011849</td>\n",
       "      <td>0.993206</td>\n",
       "    </tr>\n",
       "    <tr>\n",
       "      <th>9</th>\n",
       "      <td>2012462</td>\n",
       "      <td>878321999</td>\n",
       "      <td>45160445</td>\n",
       "      <td>True</td>\n",
       "      <td>False</td>\n",
       "      <td>False</td>\n",
       "      <td>10</td>\n",
       "      <td>83901</td>\n",
       "      <td>0.010055</td>\n",
       "      <td>0.992097</td>\n",
       "    </tr>\n",
       "    <tr>\n",
       "      <th>10</th>\n",
       "      <td>2176291</td>\n",
       "      <td>878493763</td>\n",
       "      <td>41055563</td>\n",
       "      <td>False</td>\n",
       "      <td>False</td>\n",
       "      <td>False</td>\n",
       "      <td>2</td>\n",
       "      <td>52664</td>\n",
       "      <td>0.004747</td>\n",
       "      <td>0.996439</td>\n",
       "    </tr>\n",
       "    <tr>\n",
       "      <th>11</th>\n",
       "      <td>1517563</td>\n",
       "      <td>877805941</td>\n",
       "      <td>42521109</td>\n",
       "      <td>False</td>\n",
       "      <td>False</td>\n",
       "      <td>False</td>\n",
       "      <td>2</td>\n",
       "      <td>16331</td>\n",
       "      <td>0.005100</td>\n",
       "      <td>0.997033</td>\n",
       "    </tr>\n",
       "    <tr>\n",
       "      <th>12</th>\n",
       "      <td>177510</td>\n",
       "      <td>876411075</td>\n",
       "      <td>41200321</td>\n",
       "      <td>False</td>\n",
       "      <td>False</td>\n",
       "      <td>False</td>\n",
       "      <td>2</td>\n",
       "      <td>925</td>\n",
       "      <td>0.003194</td>\n",
       "      <td>0.996533</td>\n",
       "    </tr>\n",
       "    <tr>\n",
       "      <th>13</th>\n",
       "      <td>1992210</td>\n",
       "      <td>878300940</td>\n",
       "      <td>27371862</td>\n",
       "      <td>True</td>\n",
       "      <td>False</td>\n",
       "      <td>False</td>\n",
       "      <td>109</td>\n",
       "      <td>48716631</td>\n",
       "      <td>0.010459</td>\n",
       "      <td>0.985428</td>\n",
       "    </tr>\n",
       "    <tr>\n",
       "      <th>14</th>\n",
       "      <td>2641000</td>\n",
       "      <td>878977612</td>\n",
       "      <td>28783349</td>\n",
       "      <td>True</td>\n",
       "      <td>False</td>\n",
       "      <td>False</td>\n",
       "      <td>10</td>\n",
       "      <td>83006</td>\n",
       "      <td>0.010607</td>\n",
       "      <td>0.990446</td>\n",
       "    </tr>\n",
       "    <tr>\n",
       "      <th>15</th>\n",
       "      <td>2782668</td>\n",
       "      <td>879125181</td>\n",
       "      <td>39268527</td>\n",
       "      <td>True</td>\n",
       "      <td>False</td>\n",
       "      <td>False</td>\n",
       "      <td>10</td>\n",
       "      <td>88711</td>\n",
       "      <td>0.010334</td>\n",
       "      <td>0.992255</td>\n",
       "    </tr>\n",
       "    <tr>\n",
       "      <th>16</th>\n",
       "      <td>1570300</td>\n",
       "      <td>877860705</td>\n",
       "      <td>59633403</td>\n",
       "      <td>False</td>\n",
       "      <td>False</td>\n",
       "      <td>False</td>\n",
       "      <td>109</td>\n",
       "      <td>None</td>\n",
       "      <td>0.004099</td>\n",
       "      <td>0.997050</td>\n",
       "    </tr>\n",
       "    <tr>\n",
       "      <th>17</th>\n",
       "      <td>183699</td>\n",
       "      <td>876417475</td>\n",
       "      <td>28229599</td>\n",
       "      <td>True</td>\n",
       "      <td>False</td>\n",
       "      <td>False</td>\n",
       "      <td>10</td>\n",
       "      <td>259699</td>\n",
       "      <td>0.009567</td>\n",
       "      <td>0.992796</td>\n",
       "    </tr>\n",
       "    <tr>\n",
       "      <th>18</th>\n",
       "      <td>345396</td>\n",
       "      <td>876586515</td>\n",
       "      <td>47696409</td>\n",
       "      <td>True</td>\n",
       "      <td>False</td>\n",
       "      <td>False</td>\n",
       "      <td>10</td>\n",
       "      <td>90017</td>\n",
       "      <td>0.008980</td>\n",
       "      <td>0.993466</td>\n",
       "    </tr>\n",
       "    <tr>\n",
       "      <th>19</th>\n",
       "      <td>2511659</td>\n",
       "      <td>878843141</td>\n",
       "      <td>41200321</td>\n",
       "      <td>False</td>\n",
       "      <td>False</td>\n",
       "      <td>False</td>\n",
       "      <td>2</td>\n",
       "      <td>934</td>\n",
       "      <td>0.003409</td>\n",
       "      <td>0.996303</td>\n",
       "    </tr>\n",
       "  </tbody>\n",
       "</table>\n",
       "</div>"
      ],
      "text/plain": [
       "      index     rev_id   page_id  is_minor  is_revert  is_reverted  \\\n",
       "0    604511  876857914    352651     False      False        False   \n",
       "1    166853  876400051  45514171      True      False        False   \n",
       "2     25927  876254025  39008263      True      False        False   \n",
       "3   1579570  877870409  42414676      True      False        False   \n",
       "4    158789  876391750  35159700     False      False        False   \n",
       "5   2928072  879276370  21083350      True      False        False   \n",
       "6   2785160  879127746  48564490      True      False         True   \n",
       "7   2960799  879310786  35159700     False      False        False   \n",
       "8    839153  877101856  16283969     False       True        False   \n",
       "9   2012462  878321999  45160445      True      False        False   \n",
       "10  2176291  878493763  41055563     False      False        False   \n",
       "11  1517563  877805941  42521109     False      False        False   \n",
       "12   177510  876411075  41200321     False      False        False   \n",
       "13  1992210  878300940  27371862      True      False        False   \n",
       "14  2641000  878977612  28783349      True      False        False   \n",
       "15  2782668  879125181  39268527      True      False        False   \n",
       "16  1570300  877860705  59633403     False      False        False   \n",
       "17   183699  876417475  28229599      True      False        False   \n",
       "18   345396  876586515  47696409      True      False        False   \n",
       "19  2511659  878843141  41200321     False      False        False   \n",
       "\n",
       "    page_namespace seconds_to_prev  damaging_pred  goodfaith_pred  \n",
       "0                4              73       0.006925        0.991412  \n",
       "1              109         6431770       0.008596        0.994566  \n",
       "2               10           85800       0.008977        0.993623  \n",
       "3              109        11560743       0.006855        0.995447  \n",
       "4                2            1557       0.007126        0.990445  \n",
       "5               10           88589       0.010086        0.991916  \n",
       "6               10         3890847       0.010453        0.990951  \n",
       "7                2             209       0.013086        0.990231  \n",
       "8                4            1836       0.011849        0.993206  \n",
       "9               10           83901       0.010055        0.992097  \n",
       "10               2           52664       0.004747        0.996439  \n",
       "11               2           16331       0.005100        0.997033  \n",
       "12               2             925       0.003194        0.996533  \n",
       "13             109        48716631       0.010459        0.985428  \n",
       "14              10           83006       0.010607        0.990446  \n",
       "15              10           88711       0.010334        0.992255  \n",
       "16             109            None       0.004099        0.997050  \n",
       "17              10          259699       0.009567        0.992796  \n",
       "18              10           90017       0.008980        0.993466  \n",
       "19               2             934       0.003409        0.996303  "
      ]
     },
     "execution_count": 54,
     "metadata": {},
     "output_type": "execute_result"
    }
   ],
   "source": [
    "df_cyberbot.sample(n=20, random_state=10)[[\"rev_id\", \"page_id\", \"is_minor\", \"is_revert\", \"is_reverted\", \"page_namespace\", \"seconds_to_prev\", \"damaging_pred\", \"goodfaith_pred\"]].reset_index()"
   ]
  },
  {
   "cell_type": "markdown",
   "id": "46de94ca-2e7d-405a-9fa4-612eaf6d7faa",
   "metadata": {},
   "source": [
    "0. 876857914 on RfPP page, re-ordered requests according to time stamps\n",
    "1. 876400051 part of bookreport task. changing article status (to what their pages currently say?) and adds \"|non-free=\" to template\n",
    "2. 876254025 updating someone's admin stats\n",
    "3. 877870409 part of bookreport task. removed a gif from the report (can't be included in a book?)\n",
    "4. 876391750 on RfX report, updated count for a vote and timestamp of latest update\n",
    "5. 879276370 updating someone's admin stats\n",
    "6. 879127746 updating someone's admin stats, except ***note: possible malfunction, stats go way down*** month long break since last edit. they later go back up in the next edit. as I skip through edits, they keep going up and down a bit, but never by as much as in the original edit\n",
    "7. 879310786 adds RfB to RfX page and deletes line that says there are no current RfXs\n",
    "8. 877101856 clears sandbox of all content, preserving header\n",
    "9. 878321999 updating admin stats\n",
    "10. 878493763 AfD report. list of AfD's which are apparently closed but remain on CAT:AfD. made no substantial changes, only updated time that page was last updated by the bot\n",
    "11. 877805941 updating current AfD's list under its own user page.\n",
    "12. 876411075 updating RfU page, time of last update and adding requests\n",
    "13. 878300940 part of bookreport task, updating the status of an article to GA and changing count accordingly\n",
    "14. 878977612 updating admin stats\n",
    "15. 879125181 updating admin stats\n",
    "16. 877860705 created bookreport for a new book\n",
    "17. 876417475 updating admin stats\n",
    "18. 876586515 updating admin stats\n",
    "19. 878843141 updating RfU page, adding users and changing time of last update"
   ]
  },
  {
   "cell_type": "markdown",
   "id": "aac41fe1-eada-46ef-9052-22db0a68d20a",
   "metadata": {},
   "source": [
    "# Cyberbot I: random sample of self-reverted edits and analysis"
   ]
  },
  {
   "cell_type": "code",
   "execution_count": 92,
   "id": "17d4376d-3731-445d-a025-1ebebdd81237",
   "metadata": {},
   "outputs": [
    {
     "data": {
      "text/html": [
       "<div>\n",
       "<style scoped>\n",
       "    .dataframe tbody tr th:only-of-type {\n",
       "        vertical-align: middle;\n",
       "    }\n",
       "\n",
       "    .dataframe tbody tr th {\n",
       "        vertical-align: top;\n",
       "    }\n",
       "\n",
       "    .dataframe thead th {\n",
       "        text-align: right;\n",
       "    }\n",
       "</style>\n",
       "<table border=\"1\" class=\"dataframe\">\n",
       "  <thead>\n",
       "    <tr style=\"text-align: right;\">\n",
       "      <th></th>\n",
       "      <th>index</th>\n",
       "      <th>rev_id</th>\n",
       "      <th>revert_id</th>\n",
       "      <th>page_namespace</th>\n",
       "      <th>is_self_revert</th>\n",
       "    </tr>\n",
       "  </thead>\n",
       "  <tbody>\n",
       "    <tr>\n",
       "      <th>0</th>\n",
       "      <td>121</td>\n",
       "      <td>876298739</td>\n",
       "      <td>876299957</td>\n",
       "      <td>2</td>\n",
       "      <td>True</td>\n",
       "    </tr>\n",
       "    <tr>\n",
       "      <th>1</th>\n",
       "      <td>386</td>\n",
       "      <td>876419906</td>\n",
       "      <td>876419911</td>\n",
       "      <td>2</td>\n",
       "      <td>True</td>\n",
       "    </tr>\n",
       "    <tr>\n",
       "      <th>2</th>\n",
       "      <td>11</td>\n",
       "      <td>876236234</td>\n",
       "      <td>876236236</td>\n",
       "      <td>2</td>\n",
       "      <td>True</td>\n",
       "    </tr>\n",
       "    <tr>\n",
       "      <th>3</th>\n",
       "      <td>1014</td>\n",
       "      <td>877964065</td>\n",
       "      <td>878327233</td>\n",
       "      <td>109</td>\n",
       "      <td>True</td>\n",
       "    </tr>\n",
       "    <tr>\n",
       "      <th>4</th>\n",
       "      <td>278</td>\n",
       "      <td>876379526</td>\n",
       "      <td>876379530</td>\n",
       "      <td>2</td>\n",
       "      <td>True</td>\n",
       "    </tr>\n",
       "    <tr>\n",
       "      <th>5</th>\n",
       "      <td>22</td>\n",
       "      <td>876244479</td>\n",
       "      <td>876244481</td>\n",
       "      <td>2</td>\n",
       "      <td>True</td>\n",
       "    </tr>\n",
       "    <tr>\n",
       "      <th>6</th>\n",
       "      <td>508</td>\n",
       "      <td>876499556</td>\n",
       "      <td>876499557</td>\n",
       "      <td>2</td>\n",
       "      <td>True</td>\n",
       "    </tr>\n",
       "    <tr>\n",
       "      <th>7</th>\n",
       "      <td>303</td>\n",
       "      <td>876389508</td>\n",
       "      <td>877836835</td>\n",
       "      <td>109</td>\n",
       "      <td>True</td>\n",
       "    </tr>\n",
       "    <tr>\n",
       "      <th>8</th>\n",
       "      <td>624</td>\n",
       "      <td>876579688</td>\n",
       "      <td>876581520</td>\n",
       "      <td>2</td>\n",
       "      <td>True</td>\n",
       "    </tr>\n",
       "    <tr>\n",
       "      <th>9</th>\n",
       "      <td>574</td>\n",
       "      <td>876560791</td>\n",
       "      <td>877832084</td>\n",
       "      <td>109</td>\n",
       "      <td>True</td>\n",
       "    </tr>\n",
       "    <tr>\n",
       "      <th>10</th>\n",
       "      <td>950</td>\n",
       "      <td>876628034</td>\n",
       "      <td>876635359</td>\n",
       "      <td>2</td>\n",
       "      <td>True</td>\n",
       "    </tr>\n",
       "    <tr>\n",
       "      <th>11</th>\n",
       "      <td>512</td>\n",
       "      <td>876502388</td>\n",
       "      <td>876502391</td>\n",
       "      <td>2</td>\n",
       "      <td>True</td>\n",
       "    </tr>\n",
       "    <tr>\n",
       "      <th>12</th>\n",
       "      <td>43</td>\n",
       "      <td>876252458</td>\n",
       "      <td>876252992</td>\n",
       "      <td>2</td>\n",
       "      <td>True</td>\n",
       "    </tr>\n",
       "    <tr>\n",
       "      <th>13</th>\n",
       "      <td>29</td>\n",
       "      <td>876248178</td>\n",
       "      <td>876248598</td>\n",
       "      <td>2</td>\n",
       "      <td>True</td>\n",
       "    </tr>\n",
       "    <tr>\n",
       "      <th>14</th>\n",
       "      <td>180</td>\n",
       "      <td>876334450</td>\n",
       "      <td>876335938</td>\n",
       "      <td>2</td>\n",
       "      <td>True</td>\n",
       "    </tr>\n",
       "    <tr>\n",
       "      <th>15</th>\n",
       "      <td>231</td>\n",
       "      <td>876353797</td>\n",
       "      <td>876357913</td>\n",
       "      <td>2</td>\n",
       "      <td>True</td>\n",
       "    </tr>\n",
       "    <tr>\n",
       "      <th>16</th>\n",
       "      <td>910</td>\n",
       "      <td>876624053</td>\n",
       "      <td>876624309</td>\n",
       "      <td>2</td>\n",
       "      <td>True</td>\n",
       "    </tr>\n",
       "    <tr>\n",
       "      <th>17</th>\n",
       "      <td>681</td>\n",
       "      <td>876604955</td>\n",
       "      <td>876604957</td>\n",
       "      <td>2</td>\n",
       "      <td>True</td>\n",
       "    </tr>\n",
       "    <tr>\n",
       "      <th>18</th>\n",
       "      <td>517</td>\n",
       "      <td>876516612</td>\n",
       "      <td>876516617</td>\n",
       "      <td>2</td>\n",
       "      <td>True</td>\n",
       "    </tr>\n",
       "    <tr>\n",
       "      <th>19</th>\n",
       "      <td>178</td>\n",
       "      <td>876334242</td>\n",
       "      <td>876334447</td>\n",
       "      <td>2</td>\n",
       "      <td>True</td>\n",
       "    </tr>\n",
       "  </tbody>\n",
       "</table>\n",
       "</div>"
      ],
      "text/plain": [
       "    index     rev_id  revert_id  page_namespace  is_self_revert\n",
       "0     121  876298739  876299957               2            True\n",
       "1     386  876419906  876419911               2            True\n",
       "2      11  876236234  876236236               2            True\n",
       "3    1014  877964065  878327233             109            True\n",
       "4     278  876379526  876379530               2            True\n",
       "5      22  876244479  876244481               2            True\n",
       "6     508  876499556  876499557               2            True\n",
       "7     303  876389508  877836835             109            True\n",
       "8     624  876579688  876581520               2            True\n",
       "9     574  876560791  877832084             109            True\n",
       "10    950  876628034  876635359               2            True\n",
       "11    512  876502388  876502391               2            True\n",
       "12     43  876252458  876252992               2            True\n",
       "13     29  876248178  876248598               2            True\n",
       "14    180  876334450  876335938               2            True\n",
       "15    231  876353797  876357913               2            True\n",
       "16    910  876624053  876624309               2            True\n",
       "17    681  876604955  876604957               2            True\n",
       "18    517  876516612  876516617               2            True\n",
       "19    178  876334242  876334447               2            True"
      ]
     },
     "execution_count": 92,
     "metadata": {},
     "output_type": "execute_result"
    }
   ],
   "source": [
    "self_reverts.sample(n=20, random_state=10)[[\"rev_id\", \"revert_id\", \"page_namespace\", \"is_self_revert\"]].reset_index()"
   ]
  },
  {
   "cell_type": "markdown",
   "id": "45da5794-36a6-4b39-8716-bd7de81caaf6",
   "metadata": {},
   "source": [
    "0. first one adds 3 users to page, second delets the same three users. 12 min apart, consecutive edits\n",
    "1. "
   ]
  },
  {
   "cell_type": "code",
   "execution_count": null,
   "id": "d00955d4-281c-47ce-b2b2-3563025c82e8",
   "metadata": {},
   "outputs": [],
   "source": []
  }
 ],
 "metadata": {
  "kernelspec": {
   "display_name": "Python 3",
   "language": "python",
   "name": "python3"
  },
  "language_info": {
   "codemirror_mode": {
    "name": "ipython",
    "version": 3
   },
   "file_extension": ".py",
   "mimetype": "text/x-python",
   "name": "python",
   "nbconvert_exporter": "python",
   "pygments_lexer": "ipython3",
   "version": "3.8.8"
  }
 },
 "nbformat": 4,
 "nbformat_minor": 5
}
