{
 "cells": [
  {
   "cell_type": "markdown",
   "id": "dcf5c84b-a191-4635-9d00-55d0d2d4bfb9",
   "metadata": {},
   "source": [
    "# Sample summary table stats"
   ]
  },
  {
   "cell_type": "code",
   "execution_count": 1,
   "id": "40711183-9f0f-4d02-b6a7-5510c193aafa",
   "metadata": {},
   "outputs": [],
   "source": [
    "# passive reverts = times when bot was reverted by someone else\n",
    "# active reverts = times when bot reverts someone else"
   ]
  },
  {
   "cell_type": "code",
   "execution_count": 2,
   "id": "3a6ccde5-93e4-426c-9ca9-60eedcfe21fc",
   "metadata": {},
   "outputs": [],
   "source": [
    "%reload_ext autoreload\n",
    "%autoreload 2\n",
    "%matplotlib inline"
   ]
  },
  {
   "cell_type": "code",
   "execution_count": 3,
   "id": "b951712a-a3bb-4e3f-ba0c-51f555558aaf",
   "metadata": {},
   "outputs": [],
   "source": [
    "import numpy as np\n",
    "import pandas as pd\n",
    "import matplotlib.pyplot as plt\n",
    "\n",
    "from datetime import datetime"
   ]
  },
  {
   "cell_type": "code",
   "execution_count": 4,
   "id": "fc904dda-9c5a-4386-9eec-2acf0bd3ec78",
   "metadata": {},
   "outputs": [],
   "source": [
    "df = pd.read_csv('revs_scored_jan.tsv', sep='\\t', header=0)"
   ]
  },
  {
   "cell_type": "code",
   "execution_count": 5,
   "id": "e9d70114-df9d-494d-ba5c-fad481a74e92",
   "metadata": {},
   "outputs": [],
   "source": [
    "days = df.rev_timestamp.map(lambda ts: datetime.utcfromtimestamp(ts).day)\n",
    "df['day'] = days"
   ]
  },
  {
   "cell_type": "code",
   "execution_count": 28,
   "id": "7987bb05-06d5-4caf-ac26-668379da3a99",
   "metadata": {},
   "outputs": [],
   "source": [
    "df_sample = df[df.day<22]\n",
    "df_bots = df_sample[df_sample.user_is_bot]"
   ]
  },
  {
   "cell_type": "code",
   "execution_count": 29,
   "id": "c2af4bba-4c5d-4923-845c-4b8272a9bc4c",
   "metadata": {},
   "outputs": [
    {
     "name": "stderr",
     "output_type": "stream",
     "text": [
      "/Users/newcom3/miniconda3/lib/python3.8/site-packages/pandas/core/generic.py:5494: SettingWithCopyWarning: \n",
      "A value is trying to be set on a copy of a slice from a DataFrame.\n",
      "Try using .loc[row_indexer,col_indexer] = value instead\n",
      "\n",
      "See the caveats in the documentation: https://pandas.pydata.org/pandas-docs/stable/user_guide/indexing.html#returning-a-view-versus-a-copy\n",
      "  self[name] = value\n"
     ]
    }
   ],
   "source": [
    "df_reverters = df[df.is_revert]\n",
    "\n",
    "df_reverted = df[df.is_reverted]\n",
    "df_reverted.seconds_to_revert = df_reverted.seconds_to_revert.astype('str').astype('int')\n",
    "df_reverted = df_reverted[df_reverted.seconds_to_revert < 86400]\n",
    "df_reverted.revert_id = df_reverted.revert_id.astype('int')"
   ]
  },
  {
   "cell_type": "code",
   "execution_count": 30,
   "id": "63a5510f-e9df-4145-8e93-2a2bf2f9dade",
   "metadata": {
    "tags": []
   },
   "outputs": [],
   "source": [
    "# merging df_reverted and df_reverters to get dataset of all reverted edits\n",
    "\n",
    "all_reverted_edits = pd.merge(df_reverted, df_reverters, \n",
    "             how='inner', \n",
    "             left_on='revert_id', \n",
    "             right_on='rev_id', \n",
    "             suffixes=('', '_reverter')\n",
    ")"
   ]
  },
  {
   "cell_type": "code",
   "execution_count": 31,
   "id": "9b630157-97cc-411e-9c88-ba7dda75ccdb",
   "metadata": {},
   "outputs": [],
   "source": [
    "df_bot_active_reverts = all_reverted_edits[all_reverted_edits.user_is_bot_reverter == True]\n",
    "df_bot_passive_reverts = all_reverted_edits[all_reverted_edits.user_is_bot == True]"
   ]
  },
  {
   "cell_type": "code",
   "execution_count": 32,
   "id": "9c7b42f3-2b11-4476-900d-9677bb77045f",
   "metadata": {
    "tags": []
   },
   "outputs": [],
   "source": [
    "df_human_active_reverts = all_reverted_edits[all_reverted_edits.user_is_bot_reverter == False]\n",
    "df_human_passive_reverts = all_reverted_edits[all_reverted_edits.user_is_bot == False]"
   ]
  },
  {
   "cell_type": "code",
   "execution_count": 33,
   "id": "4d93e436-8a73-4ec1-955e-e3afa1d6d8af",
   "metadata": {},
   "outputs": [],
   "source": [
    "# current variable summary:\n",
    "#   df_sample = all edits in our time frame\n",
    "#   df_bots = all edits made by bots in time frame\n",
    "#   df_reverters = all reverting edits in dataset (not limited to time frame)\n",
    "#   df_reverted = all revisions that were reverted w/in 24 hours in time frame\n",
    "#   all_reverted_edits = every edit reverted w/in 24 hours with reverted and revert edit info, within time frame\n",
    "#     df_bot_active_reverts = all active reverts by bots of humans and bots in time frame\n",
    "#     df_bot_passive_reverts = all revisions by bots which were reverted (by humans or bots), with reverting user info merged, in time frame\n",
    "#     df_human_active_reverts\n",
    "#     df_human_passive_reverts"
   ]
  },
  {
   "cell_type": "markdown",
   "id": "f745653e-4dca-4605-81fa-a409c3ff618b",
   "metadata": {},
   "source": [
    "## total edits\n"
   ]
  },
  {
   "cell_type": "code",
   "execution_count": 34,
   "id": "b843d624-0fbd-4866-8445-7783b54616af",
   "metadata": {},
   "outputs": [
    {
     "data": {
      "text/plain": [
       "3196890"
      ]
     },
     "execution_count": 34,
     "metadata": {},
     "output_type": "execute_result"
    }
   ],
   "source": [
    "# total edits in sample\n",
    "len(df_sample)"
   ]
  },
  {
   "cell_type": "code",
   "execution_count": 35,
   "id": "c8e02681-9462-491a-8709-17a2d8498e85",
   "metadata": {},
   "outputs": [
    {
     "data": {
      "text/plain": [
       "321025"
      ]
     },
     "execution_count": 35,
     "metadata": {},
     "output_type": "execute_result"
    }
   ],
   "source": [
    "# total bot edits\n",
    "len(df_bots)"
   ]
  },
  {
   "cell_type": "code",
   "execution_count": 36,
   "id": "80ac5914-765e-454c-833e-ff48bfcbae43",
   "metadata": {},
   "outputs": [
    {
     "data": {
      "text/plain": [
       "0.10041790615254201"
      ]
     },
     "execution_count": 36,
     "metadata": {},
     "output_type": "execute_result"
    }
   ],
   "source": [
    "# percent bot edits\n",
    "len(df_bots) / len(df_sample)"
   ]
  },
  {
   "cell_type": "code",
   "execution_count": 37,
   "id": "8157f9f2-cd09-4a32-8546-5ba3c426f191",
   "metadata": {},
   "outputs": [
    {
     "data": {
      "text/plain": [
       "2875865"
      ]
     },
     "execution_count": 37,
     "metadata": {},
     "output_type": "execute_result"
    }
   ],
   "source": [
    "# total human edits\n",
    "len(df_sample[df_sample.user_is_bot == False])"
   ]
  },
  {
   "cell_type": "markdown",
   "id": "c4d20721-6a19-4db6-82e3-4a18450ad291",
   "metadata": {},
   "source": [
    "## bot edits / bot passive reverts"
   ]
  },
  {
   "cell_type": "code",
   "execution_count": 38,
   "id": "fdac5ba4-22f2-4910-a66a-a425bc2bd5f9",
   "metadata": {},
   "outputs": [
    {
     "data": {
      "text/plain": [
       "12543"
      ]
     },
     "execution_count": 38,
     "metadata": {},
     "output_type": "execute_result"
    }
   ],
   "source": [
    "# total reverts\n",
    "len(df_bot_passive_reverts)"
   ]
  },
  {
   "cell_type": "code",
   "execution_count": 39,
   "id": "d5e543f2-7e4e-4752-b30f-14649d4d3e80",
   "metadata": {},
   "outputs": [
    {
     "data": {
      "text/plain": [
       "7884"
      ]
     },
     "execution_count": 39,
     "metadata": {},
     "output_type": "execute_result"
    }
   ],
   "source": [
    "# reverts by bots\n",
    "len(df_bot_passive_reverts[df_bot_passive_reverts.user_is_bot_reverter == True])"
   ]
  },
  {
   "cell_type": "code",
   "execution_count": 40,
   "id": "0346c100-b3f1-42a3-833e-0893bf5d6f78",
   "metadata": {},
   "outputs": [
    {
     "data": {
      "text/plain": [
       "4659"
      ]
     },
     "execution_count": 40,
     "metadata": {},
     "output_type": "execute_result"
    }
   ],
   "source": [
    "# reverts by humans\n",
    "len(df_bot_passive_reverts[df_bot_passive_reverts.user_is_bot_reverter == False])"
   ]
  },
  {
   "cell_type": "code",
   "execution_count": 41,
   "id": "557930b6-387d-4459-8664-404d2d31514f",
   "metadata": {},
   "outputs": [
    {
     "data": {
      "text/plain": [
       "7020"
      ]
     },
     "execution_count": 41,
     "metadata": {},
     "output_type": "execute_result"
    }
   ],
   "source": [
    "# self-reverts\n",
    "len(df_bot_passive_reverts[df_bot_passive_reverts.user_text == df_bot_passive_reverts.user_text_reverter])"
   ]
  },
  {
   "cell_type": "markdown",
   "id": "e64189ee-5fc3-4599-a4c0-e61823fd55f9",
   "metadata": {},
   "source": [
    "## human edits / human passive reverts"
   ]
  },
  {
   "cell_type": "code",
   "execution_count": 65,
   "id": "822943f2-4b16-4838-b447-611b6ad8b1da",
   "metadata": {},
   "outputs": [
    {
     "data": {
      "text/plain": [
       "366888"
      ]
     },
     "execution_count": 65,
     "metadata": {},
     "output_type": "execute_result"
    }
   ],
   "source": [
    "# total reverts\n",
    "len(df_human_passive_reverts)"
   ]
  },
  {
   "cell_type": "code",
   "execution_count": 42,
   "id": "b66f3454-4adc-4421-885a-1369bf824998",
   "metadata": {},
   "outputs": [
    {
     "data": {
      "text/plain": [
       "22243"
      ]
     },
     "execution_count": 42,
     "metadata": {},
     "output_type": "execute_result"
    }
   ],
   "source": [
    "# reverts by bots\n",
    "len(df_human_passive_reverts[df_human_passive_reverts.user_is_bot_reverter == True])"
   ]
  },
  {
   "cell_type": "code",
   "execution_count": 43,
   "id": "42751dae-289e-4610-bfec-c9cf2bd21113",
   "metadata": {},
   "outputs": [
    {
     "data": {
      "text/plain": [
       "344645"
      ]
     },
     "execution_count": 43,
     "metadata": {},
     "output_type": "execute_result"
    }
   ],
   "source": [
    "# reverts by humans\n",
    "len(df_human_passive_reverts[df_human_passive_reverts.user_is_bot_reverter == False])"
   ]
  },
  {
   "cell_type": "code",
   "execution_count": 54,
   "id": "9937fb0e-4f52-43c1-9bb1-980ab5a5004b",
   "metadata": {},
   "outputs": [
    {
     "data": {
      "text/plain": [
       "47397"
      ]
     },
     "execution_count": 54,
     "metadata": {},
     "output_type": "execute_result"
    }
   ],
   "source": [
    "# self-reverts\n",
    "len(df_human_passive_reverts[df_human_passive_reverts.user_text == df_human_passive_reverts.user_text_reverter])"
   ]
  },
  {
   "cell_type": "markdown",
   "id": "120a47fa-4d08-46a1-8d29-706966851ef0",
   "metadata": {},
   "source": [
    "## bot reverts / bot active reverts"
   ]
  },
  {
   "cell_type": "code",
   "execution_count": 61,
   "id": "055dedc4-f044-4726-b7ef-56bc26924540",
   "metadata": {},
   "outputs": [
    {
     "data": {
      "text/plain": [
       "22791"
      ]
     },
     "execution_count": 61,
     "metadata": {},
     "output_type": "execute_result"
    }
   ],
   "source": [
    "# total bot reverts\n",
    "len(df_bot_active_reverts.groupby(\"revert_id\").count())"
   ]
  },
  {
   "cell_type": "code",
   "execution_count": 62,
   "id": "a0782c82-59a8-4e56-b426-bfc508130d97",
   "metadata": {},
   "outputs": [
    {
     "data": {
      "text/plain": [
       "5592"
      ]
     },
     "execution_count": 62,
     "metadata": {},
     "output_type": "execute_result"
    }
   ],
   "source": [
    "# bot reverts of other bots\n",
    "a = df_bot_active_reverts[df_bot_active_reverts.user_is_bot == True]\n",
    "len(a.groupby(\"revert_id\").count())"
   ]
  },
  {
   "cell_type": "code",
   "execution_count": 63,
   "id": "81168dbf-15bb-428a-a913-52375be96038",
   "metadata": {},
   "outputs": [
    {
     "data": {
      "text/plain": [
       "18220"
      ]
     },
     "execution_count": 63,
     "metadata": {},
     "output_type": "execute_result"
    }
   ],
   "source": [
    "# bot reverts of humans\n",
    "a = df_bot_active_reverts[df_bot_active_reverts.user_is_bot == False]\n",
    "len(a.groupby(\"revert_id\").count())"
   ]
  },
  {
   "cell_type": "code",
   "execution_count": 64,
   "id": "0f288c5a-00bc-403f-98e5-1e73bf67d888",
   "metadata": {},
   "outputs": [
    {
     "data": {
      "text/plain": [
       "5040"
      ]
     },
     "execution_count": 64,
     "metadata": {},
     "output_type": "execute_result"
    }
   ],
   "source": [
    "# bot self-reverts\n",
    "a = df_bot_active_reverts[df_bot_active_reverts.user_text == df_bot_active_reverts.user_text_reverter]\n",
    "len(a.groupby(\"revert_id\").count())"
   ]
  },
  {
   "cell_type": "markdown",
   "id": "3fea54ee-7805-4bf7-bb26-ee6a197f9e30",
   "metadata": {},
   "source": [
    "## human reverts / human active reverts"
   ]
  },
  {
   "cell_type": "code",
   "execution_count": 66,
   "id": "b25e25d8-6c58-4648-8c42-5a85d2a20f30",
   "metadata": {},
   "outputs": [
    {
     "data": {
      "text/plain": [
       "255402"
      ]
     },
     "execution_count": 66,
     "metadata": {},
     "output_type": "execute_result"
    }
   ],
   "source": [
    "# total reverts\n",
    "len(df_human_active_reverts.groupby(\"revert_id\").count())"
   ]
  },
  {
   "cell_type": "code",
   "execution_count": 67,
   "id": "15d4c970-7406-483a-9dda-cdb12a4e5dea",
   "metadata": {},
   "outputs": [
    {
     "data": {
      "text/plain": [
       "4136"
      ]
     },
     "execution_count": 67,
     "metadata": {},
     "output_type": "execute_result"
    }
   ],
   "source": [
    "# human reverts of bots\n",
    "a = df_human_active_reverts[df_human_active_reverts.user_is_bot == True]\n",
    "len(a.groupby(\"revert_id\").count())"
   ]
  },
  {
   "cell_type": "code",
   "execution_count": 68,
   "id": "5faffe23-ca33-4e41-9865-335fcd3594f5",
   "metadata": {},
   "outputs": [
    {
     "data": {
      "text/plain": [
       "253128"
      ]
     },
     "execution_count": 68,
     "metadata": {},
     "output_type": "execute_result"
    }
   ],
   "source": [
    "# human reverts of other humans\n",
    "a = df_human_active_reverts[df_human_active_reverts.user_is_bot == False]\n",
    "len(a.groupby(\"revert_id\").count())"
   ]
  },
  {
   "cell_type": "code",
   "execution_count": 69,
   "id": "2133b627-268d-4747-9713-4a83154e8434",
   "metadata": {},
   "outputs": [
    {
     "data": {
      "text/plain": [
       "36844"
      ]
     },
     "execution_count": 69,
     "metadata": {},
     "output_type": "execute_result"
    }
   ],
   "source": [
    "# human reverts of other humans\n",
    "a = df_human_active_reverts[df_human_active_reverts.user_text == df_human_active_reverts.user_text_reverter]\n",
    "len(a.groupby(\"revert_id\").count())"
   ]
  },
  {
   "cell_type": "markdown",
   "id": "81ed263d-0661-4ce3-b12c-bf37c3134b48",
   "metadata": {},
   "source": [
    "## Average revert set size"
   ]
  },
  {
   "cell_type": "code",
   "execution_count": 73,
   "id": "7ba28bf1-4f30-42c0-8d85-126415481f2d",
   "metadata": {},
   "outputs": [
    {
     "data": {
      "text/plain": [
       "3.025273060671291"
      ]
     },
     "execution_count": 73,
     "metadata": {},
     "output_type": "execute_result"
    }
   ],
   "source": [
    "# bot passive reverts\n",
    "df_bot_passive_reverts.revert_set_size_reverter.astype('int').mean()"
   ]
  },
  {
   "cell_type": "code",
   "execution_count": 72,
   "id": "6ba63c1f-0533-4491-abd4-7095e2b4ed7a",
   "metadata": {},
   "outputs": [
    {
     "data": {
      "text/plain": [
       "2.199466867272846"
      ]
     },
     "execution_count": 72,
     "metadata": {},
     "output_type": "execute_result"
    }
   ],
   "source": [
    "# human passive reverts\n",
    "df_human_passive_reverts.revert_set_size_reverter.astype('int').mean()"
   ]
  },
  {
   "cell_type": "code",
   "execution_count": 87,
   "id": "6dafe2a8-6098-4ec8-a45d-24ebb47ab67e",
   "metadata": {},
   "outputs": [
    {
     "data": {
      "text/plain": [
       "1.5124391207055417"
      ]
     },
     "execution_count": 87,
     "metadata": {},
     "output_type": "execute_result"
    }
   ],
   "source": [
    "# bot active reverts\n",
    "a = df_bot_active_reverts.groupby([\"revert_id\", \"revert_set_size_reverter\"], as_index = False).count()\n",
    "a.revert_set_size_reverter.astype('int').mean()"
   ]
  },
  {
   "cell_type": "code",
   "execution_count": 88,
   "id": "679c99d8-7b5e-4570-9599-5b81beab06bf",
   "metadata": {},
   "outputs": [
    {
     "data": {
      "text/plain": [
       "1.500238839163358"
      ]
     },
     "execution_count": 88,
     "metadata": {},
     "output_type": "execute_result"
    }
   ],
   "source": [
    "# human active reverts\n",
    "a = df_human_active_reverts.groupby([\"revert_id\", \"revert_set_size_reverter\"], as_index = False).count()\n",
    "a.revert_set_size_reverter.astype('int').mean()"
   ]
  },
  {
   "cell_type": "code",
   "execution_count": 89,
   "id": "1d89edd5-c457-41ad-8d42-b05c2ee26e8a",
   "metadata": {},
   "outputs": [
    {
     "data": {
      "text/plain": [
       "2.3331721470019344"
      ]
     },
     "execution_count": 89,
     "metadata": {},
     "output_type": "execute_result"
    }
   ],
   "source": [
    "# human active bot reverts\n",
    "a = df_human_active_reverts[df_human_active_reverts.user_is_bot == True]\n",
    "a = a.groupby([\"revert_id\", \"revert_set_size_reverter\"], as_index = False).count()\n",
    "a.revert_set_size_reverter.astype('int').mean()"
   ]
  },
  {
   "cell_type": "code",
   "execution_count": 90,
   "id": "2880e424-b1d8-4f5b-b706-d603478d0a75",
   "metadata": {},
   "outputs": [
    {
     "data": {
      "text/plain": [
       "1.4997906197654942"
      ]
     },
     "execution_count": 90,
     "metadata": {},
     "output_type": "execute_result"
    }
   ],
   "source": [
    "# human active human reverts\n",
    "a = df_human_active_reverts[df_human_active_reverts.user_is_bot == False]\n",
    "a = a.groupby([\"revert_id\", \"revert_set_size_reverter\"], as_index = False).count()\n",
    "a.revert_set_size_reverter.astype('int').mean()"
   ]
  },
  {
   "cell_type": "code",
   "execution_count": null,
   "id": "b5472415-5e1f-4710-95c7-f6bfe8bcbaf7",
   "metadata": {},
   "outputs": [],
   "source": []
  }
 ],
 "metadata": {
  "kernelspec": {
   "display_name": "Python 3",
   "language": "python",
   "name": "python3"
  },
  "language_info": {
   "codemirror_mode": {
    "name": "ipython",
    "version": 3
   },
   "file_extension": ".py",
   "mimetype": "text/x-python",
   "name": "python",
   "nbconvert_exporter": "python",
   "pygments_lexer": "ipython3",
   "version": "3.8.5"
  }
 },
 "nbformat": 4,
 "nbformat_minor": 5
}
