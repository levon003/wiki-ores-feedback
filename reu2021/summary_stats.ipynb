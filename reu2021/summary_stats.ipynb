{
 "cells": [
  {
   "cell_type": "markdown",
   "id": "dcf5c84b-a191-4635-9d00-55d0d2d4bfb9",
   "metadata": {},
   "source": [
    "# Sample summary table stats"
   ]
  },
  {
   "cell_type": "code",
   "execution_count": 1,
   "id": "40711183-9f0f-4d02-b6a7-5510c193aafa",
   "metadata": {},
   "outputs": [],
   "source": [
    "# passive reverts = times when bot was reverted by someone else\n",
    "# active reverts = times when bot reverts someone else"
   ]
  },
  {
   "cell_type": "code",
   "execution_count": 2,
   "id": "3a6ccde5-93e4-426c-9ca9-60eedcfe21fc",
   "metadata": {},
   "outputs": [],
   "source": [
    "%reload_ext autoreload\n",
    "%autoreload 2\n",
    "%matplotlib inline"
   ]
  },
  {
   "cell_type": "code",
   "execution_count": 3,
   "id": "b951712a-a3bb-4e3f-ba0c-51f555558aaf",
   "metadata": {},
   "outputs": [],
   "source": [
    "import numpy as np\n",
    "import pandas as pd\n",
    "import matplotlib.pyplot as plt\n",
    "\n",
    "from datetime import datetime"
   ]
  },
  {
   "cell_type": "code",
   "execution_count": 4,
   "id": "fc904dda-9c5a-4386-9eec-2acf0bd3ec78",
   "metadata": {},
   "outputs": [],
   "source": [
    "df = pd.read_csv('revs_scored_jan.tsv', sep='\\t', header=0)"
   ]
  },
  {
   "cell_type": "code",
   "execution_count": 5,
   "id": "e9d70114-df9d-494d-ba5c-fad481a74e92",
   "metadata": {},
   "outputs": [],
   "source": [
    "days = df.rev_timestamp.map(lambda ts: datetime.utcfromtimestamp(ts).day)\n",
    "df['day'] = days"
   ]
  },
  {
   "cell_type": "code",
   "execution_count": 7,
   "id": "7987bb05-06d5-4caf-ac26-668379da3a99",
   "metadata": {},
   "outputs": [],
   "source": [
    "df_sample = df[df.day<22]\n",
    "df_bots = df_sample[df_sample.user_is_bot]\n",
    "\n",
    "df_bot_passive_reverts = df_bots[df_bots.is_reverted]\n",
    "df_bot_passive_reverts = df_bot_passive_reverts[df_bot_passive_reverts.seconds_to_revert.astype('str').astype('int')<86400]\n",
    "df_bot_passive_reverts.revert_id = df_bot_passive_reverts.revert_id.astype('int')\n",
    "\n",
    "df_reverters = df[df.is_revert]"
   ]
  },
  {
   "cell_type": "code",
   "execution_count": 8,
   "id": "a055cbe1-6add-4c95-bc9a-ba8a2e3d8a71",
   "metadata": {},
   "outputs": [],
   "source": [
    "# merging two datafraemes to create a table of nonhuman and human reverters that reverted a bot\n",
    "\n",
    "df_bot_passive_reverts = pd.merge(df_bot_passive_reverts, df_reverters, \n",
    "             how='inner', \n",
    "             left_on='revert_id', \n",
    "             right_on='rev_id', \n",
    "             suffixes=('', '_reverter')\n",
    ")"
   ]
  },
  {
   "cell_type": "code",
   "execution_count": 9,
   "id": "843ac2eb-e0c7-4126-82c6-bd8043994d25",
   "metadata": {},
   "outputs": [],
   "source": [
    "df_bot_passive_reverts = df_bot_passive_reverts[['rev_id','user_text','revert_id','user_text_reverter', 'is_self_revert_reverter','user_is_bot_reverter', 'page_namespace','day']]"
   ]
  },
  {
   "cell_type": "code",
   "execution_count": 10,
   "id": "c2af4bba-4c5d-4923-845c-4b8272a9bc4c",
   "metadata": {},
   "outputs": [],
   "source": [
    "df_bot_active_reverts = df_bots[df_bots.is_revert]\n",
    "\n",
    "df_reverted = df[df.is_reverted]\n",
    "df_reverted = df_reverted[df_reverted.seconds_to_revert.astype('str').astype('int')<86400]\n",
    "df_reverted.revert_id = df_reverted.revert_id.astype('int')"
   ]
  },
  {
   "cell_type": "code",
   "execution_count": 11,
   "id": "57f9e948-45cf-46b0-962f-f759a27df872",
   "metadata": {},
   "outputs": [],
   "source": [
    "# merging two dataframes to create list of bot active reverts with reverted edit info\n",
    "\n",
    "df_bot_active_reverts = pd.merge(df_reverted, df_bot_active_reverts, \n",
    "             how='inner', \n",
    "             left_on='revert_id', \n",
    "             right_on='rev_id', \n",
    "             suffixes=('', '_reverter')\n",
    ")"
   ]
  },
  {
   "cell_type": "code",
   "execution_count": 12,
   "id": "6483712c-65e1-46de-a383-23448b285d61",
   "metadata": {},
   "outputs": [],
   "source": [
    "df_bot_active_reverts = df_bot_active_reverts[['rev_id','user_text', 'user_is_bot','revert_id','user_text_reverter', 'is_self_revert_reverter', 'page_namespace','day']]"
   ]
  },
  {
   "cell_type": "code",
   "execution_count": 13,
   "id": "4d93e436-8a73-4ec1-955e-e3afa1d6d8af",
   "metadata": {},
   "outputs": [],
   "source": [
    "# current variable summary:\n",
    "#   df_sample = all edits in our time frame\n",
    "#   df_bots = all edits made by bots in time frame\n",
    "#   df_reverters = all reverting edits in dataset in time frame\n",
    "#   df_bot_passive_reverts = all revisions by bots which were reverted (by humans or bots), with reverting user info merged, in time frame\n",
    "#   df_reverted = all revisions that were reverted, in time frame\n",
    "#   df_bot_active_reverts = all active reverts by bots of humans and bots in time frame"
   ]
  },
  {
   "cell_type": "code",
   "execution_count": 14,
   "id": "b843d624-0fbd-4866-8445-7783b54616af",
   "metadata": {},
   "outputs": [
    {
     "data": {
      "text/plain": [
       "3196890"
      ]
     },
     "execution_count": 14,
     "metadata": {},
     "output_type": "execute_result"
    }
   ],
   "source": [
    "# total edits in sample\n",
    "len(df_sample)"
   ]
  },
  {
   "cell_type": "code",
   "execution_count": 26,
   "id": "c8e02681-9462-491a-8709-17a2d8498e85",
   "metadata": {},
   "outputs": [
    {
     "data": {
      "text/plain": [
       "3196890"
      ]
     },
     "execution_count": 26,
     "metadata": {},
     "output_type": "execute_result"
    }
   ],
   "source": [
    "# total bot edits\n",
    "len(df_sample.user_is_bot == True)"
   ]
  },
  {
   "cell_type": "code",
   "execution_count": 21,
   "id": "80ac5914-765e-454c-833e-ff48bfcbae43",
   "metadata": {},
   "outputs": [
    {
     "data": {
      "text/plain": [
       "0.10041790615254201"
      ]
     },
     "execution_count": 21,
     "metadata": {},
     "output_type": "execute_result"
    }
   ],
   "source": [
    "# percent bot edits\n",
    "len(df_bots) / len(df_sample)"
   ]
  },
  {
   "cell_type": "code",
   "execution_count": 24,
   "id": "8157f9f2-cd09-4a32-8546-5ba3c426f191",
   "metadata": {},
   "outputs": [
    {
     "data": {
      "text/plain": [
       "3196890"
      ]
     },
     "execution_count": 24,
     "metadata": {},
     "output_type": "execute_result"
    }
   ],
   "source": [
    "# total human edits\n",
    "len(df_sample.user_is_bot == False)"
   ]
  },
  {
   "cell_type": "code",
   "execution_count": 25,
   "id": "6e087d93-c35b-4fe3-8678-209e0d4cda8a",
   "metadata": {},
   "outputs": [
    {
     "data": {
      "text/plain": [
       "1.0"
      ]
     },
     "execution_count": 25,
     "metadata": {},
     "output_type": "execute_result"
    }
   ],
   "source": [
    "# percent human edits\n",
    "len(df_sample.user_is_bot == False) / len(df_sample)"
   ]
  },
  {
   "cell_type": "code",
   "execution_count": 27,
   "id": "c6caf2c6-903f-42bf-89de-3246de4bf4ab",
   "metadata": {},
   "outputs": [
    {
     "data": {
      "text/html": [
       "<div>\n",
       "<style scoped>\n",
       "    .dataframe tbody tr th:only-of-type {\n",
       "        vertical-align: middle;\n",
       "    }\n",
       "\n",
       "    .dataframe tbody tr th {\n",
       "        vertical-align: top;\n",
       "    }\n",
       "\n",
       "    .dataframe thead th {\n",
       "        text-align: right;\n",
       "    }\n",
       "</style>\n",
       "<table border=\"1\" class=\"dataframe\">\n",
       "  <thead>\n",
       "    <tr style=\"text-align: right;\">\n",
       "      <th></th>\n",
       "      <th>rev_timestamp</th>\n",
       "      <th>page_id</th>\n",
       "      <th>rev_id</th>\n",
       "      <th>prev_rev_id</th>\n",
       "      <th>is_minor</th>\n",
       "      <th>user_text</th>\n",
       "      <th>user_id</th>\n",
       "      <th>seconds_to_prev</th>\n",
       "      <th>curr_bytes</th>\n",
       "      <th>delta_bytes</th>\n",
       "      <th>...</th>\n",
       "      <th>damaging_pred</th>\n",
       "      <th>goodfaith_pred</th>\n",
       "      <th>model_version</th>\n",
       "      <th>user_is_bot</th>\n",
       "      <th>user_is_trusted</th>\n",
       "      <th>user_edit_count</th>\n",
       "      <th>page_rev_count</th>\n",
       "      <th>page_namespace</th>\n",
       "      <th>is_page_redirect</th>\n",
       "      <th>day</th>\n",
       "    </tr>\n",
       "  </thead>\n",
       "  <tbody>\n",
       "    <tr>\n",
       "      <th>0</th>\n",
       "      <td>1546300800</td>\n",
       "      <td>47649229</td>\n",
       "      <td>876227289</td>\n",
       "      <td>869530001</td>\n",
       "      <td>True</td>\n",
       "      <td>BD2412</td>\n",
       "      <td>196446</td>\n",
       "      <td>3696519</td>\n",
       "      <td>1195</td>\n",
       "      <td>-9</td>\n",
       "      <td>...</td>\n",
       "      <td>0.021146</td>\n",
       "      <td>0.985808</td>\n",
       "      <td>0.4.0</td>\n",
       "      <td>False</td>\n",
       "      <td>False</td>\n",
       "      <td>1289980</td>\n",
       "      <td>5</td>\n",
       "      <td>118</td>\n",
       "      <td>0</td>\n",
       "      <td>1</td>\n",
       "    </tr>\n",
       "    <tr>\n",
       "      <th>1</th>\n",
       "      <td>1546300801</td>\n",
       "      <td>47642850</td>\n",
       "      <td>876227292</td>\n",
       "      <td>869530006</td>\n",
       "      <td>True</td>\n",
       "      <td>BD2412</td>\n",
       "      <td>196446</td>\n",
       "      <td>3696518</td>\n",
       "      <td>1423</td>\n",
       "      <td>-9</td>\n",
       "      <td>...</td>\n",
       "      <td>0.021847</td>\n",
       "      <td>0.983419</td>\n",
       "      <td>0.4.0</td>\n",
       "      <td>False</td>\n",
       "      <td>False</td>\n",
       "      <td>1289981</td>\n",
       "      <td>5</td>\n",
       "      <td>0</td>\n",
       "      <td>0</td>\n",
       "      <td>1</td>\n",
       "    </tr>\n",
       "    <tr>\n",
       "      <th>2</th>\n",
       "      <td>1546300801</td>\n",
       "      <td>59537875</td>\n",
       "      <td>876227290</td>\n",
       "      <td>None</td>\n",
       "      <td>False</td>\n",
       "      <td>Twozenhauer</td>\n",
       "      <td>14955567</td>\n",
       "      <td>None</td>\n",
       "      <td>7835</td>\n",
       "      <td>None</td>\n",
       "      <td>...</td>\n",
       "      <td>0.003826</td>\n",
       "      <td>0.998177</td>\n",
       "      <td>0.4.0</td>\n",
       "      <td>False</td>\n",
       "      <td>False</td>\n",
       "      <td>621</td>\n",
       "      <td>7</td>\n",
       "      <td>0</td>\n",
       "      <td>0</td>\n",
       "      <td>1</td>\n",
       "    </tr>\n",
       "    <tr>\n",
       "      <th>3</th>\n",
       "      <td>1546300801</td>\n",
       "      <td>60902958</td>\n",
       "      <td>876227291</td>\n",
       "      <td>869530004</td>\n",
       "      <td>True</td>\n",
       "      <td>BD2412</td>\n",
       "      <td>196446</td>\n",
       "      <td>3696519</td>\n",
       "      <td>1445</td>\n",
       "      <td>-9</td>\n",
       "      <td>...</td>\n",
       "      <td>0.021797</td>\n",
       "      <td>0.983336</td>\n",
       "      <td>0.4.0</td>\n",
       "      <td>False</td>\n",
       "      <td>False</td>\n",
       "      <td>1289980</td>\n",
       "      <td>30</td>\n",
       "      <td>0</td>\n",
       "      <td>0</td>\n",
       "      <td>1</td>\n",
       "    </tr>\n",
       "    <tr>\n",
       "      <th>4</th>\n",
       "      <td>1546300802</td>\n",
       "      <td>31392285</td>\n",
       "      <td>876227293</td>\n",
       "      <td>876069768</td>\n",
       "      <td>True</td>\n",
       "      <td>Cyberbot I</td>\n",
       "      <td>16266655</td>\n",
       "      <td>86401</td>\n",
       "      <td>125</td>\n",
       "      <td>-1</td>\n",
       "      <td>...</td>\n",
       "      <td>0.011582</td>\n",
       "      <td>0.992475</td>\n",
       "      <td>0.4.0</td>\n",
       "      <td>True</td>\n",
       "      <td>True</td>\n",
       "      <td>1006365</td>\n",
       "      <td>337</td>\n",
       "      <td>10</td>\n",
       "      <td>0</td>\n",
       "      <td>1</td>\n",
       "    </tr>\n",
       "    <tr>\n",
       "      <th>...</th>\n",
       "      <td>...</td>\n",
       "      <td>...</td>\n",
       "      <td>...</td>\n",
       "      <td>...</td>\n",
       "      <td>...</td>\n",
       "      <td>...</td>\n",
       "      <td>...</td>\n",
       "      <td>...</td>\n",
       "      <td>...</td>\n",
       "      <td>...</td>\n",
       "      <td>...</td>\n",
       "      <td>...</td>\n",
       "      <td>...</td>\n",
       "      <td>...</td>\n",
       "      <td>...</td>\n",
       "      <td>...</td>\n",
       "      <td>...</td>\n",
       "      <td>...</td>\n",
       "      <td>...</td>\n",
       "      <td>...</td>\n",
       "      <td>...</td>\n",
       "    </tr>\n",
       "    <tr>\n",
       "      <th>3196885</th>\n",
       "      <td>1548115195</td>\n",
       "      <td>52638564</td>\n",
       "      <td>879556719</td>\n",
       "      <td>879556117</td>\n",
       "      <td>False</td>\n",
       "      <td>Zenmaster190</td>\n",
       "      <td>35619661</td>\n",
       "      <td>314</td>\n",
       "      <td>161568</td>\n",
       "      <td>-158</td>\n",
       "      <td>...</td>\n",
       "      <td>0.135811</td>\n",
       "      <td>0.919670</td>\n",
       "      <td>0.5.0</td>\n",
       "      <td>False</td>\n",
       "      <td>False</td>\n",
       "      <td>70</td>\n",
       "      <td>2630</td>\n",
       "      <td>0</td>\n",
       "      <td>0</td>\n",
       "      <td>21</td>\n",
       "    </tr>\n",
       "    <tr>\n",
       "      <th>3196886</th>\n",
       "      <td>1548115196</td>\n",
       "      <td>48708688</td>\n",
       "      <td>879556721</td>\n",
       "      <td>875645077</td>\n",
       "      <td>True</td>\n",
       "      <td>Bender the Bot</td>\n",
       "      <td>28903366</td>\n",
       "      <td>2153333</td>\n",
       "      <td>16739</td>\n",
       "      <td>2</td>\n",
       "      <td>...</td>\n",
       "      <td>0.014670</td>\n",
       "      <td>0.993471</td>\n",
       "      <td>0.5.0</td>\n",
       "      <td>True</td>\n",
       "      <td>True</td>\n",
       "      <td>829059</td>\n",
       "      <td>14</td>\n",
       "      <td>0</td>\n",
       "      <td>0</td>\n",
       "      <td>21</td>\n",
       "    </tr>\n",
       "    <tr>\n",
       "      <th>3196887</th>\n",
       "      <td>1548115196</td>\n",
       "      <td>8314839</td>\n",
       "      <td>879556720</td>\n",
       "      <td>877629722</td>\n",
       "      <td>False</td>\n",
       "      <td>Loraof</td>\n",
       "      <td>22399950</td>\n",
       "      <td>1044459</td>\n",
       "      <td>43809</td>\n",
       "      <td>7</td>\n",
       "      <td>...</td>\n",
       "      <td>0.031668</td>\n",
       "      <td>0.982230</td>\n",
       "      <td>0.5.0</td>\n",
       "      <td>False</td>\n",
       "      <td>False</td>\n",
       "      <td>20129</td>\n",
       "      <td>24</td>\n",
       "      <td>0</td>\n",
       "      <td>0</td>\n",
       "      <td>21</td>\n",
       "    </tr>\n",
       "    <tr>\n",
       "      <th>3196888</th>\n",
       "      <td>1548115197</td>\n",
       "      <td>59690858</td>\n",
       "      <td>879556722</td>\n",
       "      <td>879555191</td>\n",
       "      <td>False</td>\n",
       "      <td>Adamtt9</td>\n",
       "      <td>19993129</td>\n",
       "      <td>801</td>\n",
       "      <td>13390</td>\n",
       "      <td>33</td>\n",
       "      <td>...</td>\n",
       "      <td>0.005529</td>\n",
       "      <td>0.995818</td>\n",
       "      <td>0.5.0</td>\n",
       "      <td>False</td>\n",
       "      <td>False</td>\n",
       "      <td>64916</td>\n",
       "      <td>134</td>\n",
       "      <td>0</td>\n",
       "      <td>0</td>\n",
       "      <td>21</td>\n",
       "    </tr>\n",
       "    <tr>\n",
       "      <th>3196889</th>\n",
       "      <td>1548115198</td>\n",
       "      <td>27630639</td>\n",
       "      <td>879556724</td>\n",
       "      <td>879411465</td>\n",
       "      <td>False</td>\n",
       "      <td>Eg030507</td>\n",
       "      <td>35667699</td>\n",
       "      <td>78739</td>\n",
       "      <td>40496</td>\n",
       "      <td>116</td>\n",
       "      <td>...</td>\n",
       "      <td>0.902872</td>\n",
       "      <td>0.191879</td>\n",
       "      <td>0.5.0</td>\n",
       "      <td>False</td>\n",
       "      <td>False</td>\n",
       "      <td>0</td>\n",
       "      <td>141</td>\n",
       "      <td>0</td>\n",
       "      <td>0</td>\n",
       "      <td>21</td>\n",
       "    </tr>\n",
       "  </tbody>\n",
       "</table>\n",
       "<p>3196890 rows × 30 columns</p>\n",
       "</div>"
      ],
      "text/plain": [
       "         rev_timestamp   page_id     rev_id prev_rev_id  is_minor  \\\n",
       "0           1546300800  47649229  876227289   869530001      True   \n",
       "1           1546300801  47642850  876227292   869530006      True   \n",
       "2           1546300801  59537875  876227290        None     False   \n",
       "3           1546300801  60902958  876227291   869530004      True   \n",
       "4           1546300802  31392285  876227293   876069768      True   \n",
       "...                ...       ...        ...         ...       ...   \n",
       "3196885     1548115195  52638564  879556719   879556117     False   \n",
       "3196886     1548115196  48708688  879556721   875645077      True   \n",
       "3196887     1548115196   8314839  879556720   877629722     False   \n",
       "3196888     1548115197  59690858  879556722   879555191     False   \n",
       "3196889     1548115198  27630639  879556724   879411465     False   \n",
       "\n",
       "              user_text   user_id seconds_to_prev  curr_bytes delta_bytes  \\\n",
       "0                BD2412    196446         3696519        1195          -9   \n",
       "1                BD2412    196446         3696518        1423          -9   \n",
       "2           Twozenhauer  14955567            None        7835        None   \n",
       "3                BD2412    196446         3696519        1445          -9   \n",
       "4            Cyberbot I  16266655           86401         125          -1   \n",
       "...                 ...       ...             ...         ...         ...   \n",
       "3196885    Zenmaster190  35619661             314      161568        -158   \n",
       "3196886  Bender the Bot  28903366         2153333       16739           2   \n",
       "3196887          Loraof  22399950         1044459       43809           7   \n",
       "3196888         Adamtt9  19993129             801       13390          33   \n",
       "3196889        Eg030507  35667699           78739       40496         116   \n",
       "\n",
       "         ...  damaging_pred  goodfaith_pred  model_version  user_is_bot  \\\n",
       "0        ...       0.021146        0.985808          0.4.0        False   \n",
       "1        ...       0.021847        0.983419          0.4.0        False   \n",
       "2        ...       0.003826        0.998177          0.4.0        False   \n",
       "3        ...       0.021797        0.983336          0.4.0        False   \n",
       "4        ...       0.011582        0.992475          0.4.0         True   \n",
       "...      ...            ...             ...            ...          ...   \n",
       "3196885  ...       0.135811        0.919670          0.5.0        False   \n",
       "3196886  ...       0.014670        0.993471          0.5.0         True   \n",
       "3196887  ...       0.031668        0.982230          0.5.0        False   \n",
       "3196888  ...       0.005529        0.995818          0.5.0        False   \n",
       "3196889  ...       0.902872        0.191879          0.5.0        False   \n",
       "\n",
       "         user_is_trusted  user_edit_count page_rev_count page_namespace  \\\n",
       "0                  False          1289980              5            118   \n",
       "1                  False          1289981              5              0   \n",
       "2                  False              621              7              0   \n",
       "3                  False          1289980             30              0   \n",
       "4                   True          1006365            337             10   \n",
       "...                  ...              ...            ...            ...   \n",
       "3196885            False               70           2630              0   \n",
       "3196886             True           829059             14              0   \n",
       "3196887            False            20129             24              0   \n",
       "3196888            False            64916            134              0   \n",
       "3196889            False                0            141              0   \n",
       "\n",
       "        is_page_redirect day  \n",
       "0                      0   1  \n",
       "1                      0   1  \n",
       "2                      0   1  \n",
       "3                      0   1  \n",
       "4                      0   1  \n",
       "...                  ...  ..  \n",
       "3196885                0  21  \n",
       "3196886                0  21  \n",
       "3196887                0  21  \n",
       "3196888                0  21  \n",
       "3196889                0  21  \n",
       "\n",
       "[3196890 rows x 30 columns]"
      ]
     },
     "execution_count": 27,
     "metadata": {},
     "output_type": "execute_result"
    }
   ],
   "source": [
    "df_sample"
   ]
  },
  {
   "cell_type": "markdown",
   "id": "1d08552f-124d-4188-be4a-b44c0146ad72",
   "metadata": {},
   "source": [
    "## having issues with df_sample, numbers don't line up at all."
   ]
  },
  {
   "cell_type": "code",
   "execution_count": null,
   "id": "d5e543f2-7e4e-4752-b30f-14649d4d3e80",
   "metadata": {},
   "outputs": [],
   "source": []
  }
 ],
 "metadata": {
  "kernelspec": {
   "display_name": "Python 3",
   "language": "python",
   "name": "python3"
  },
  "language_info": {
   "codemirror_mode": {
    "name": "ipython",
    "version": 3
   },
   "file_extension": ".py",
   "mimetype": "text/x-python",
   "name": "python",
   "nbconvert_exporter": "python",
   "pygments_lexer": "ipython3",
   "version": "3.8.5"
  }
 },
 "nbformat": 4,
 "nbformat_minor": 5
}
