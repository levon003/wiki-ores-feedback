{
 "cells": [
  {
   "cell_type": "markdown",
   "id": "distinguished-planner",
   "metadata": {},
   "source": [
    "Initial Analysis\n",
    "===\n",
    "\n",
    "This notebook demonstrates loading in the data and doing basic analysis.\n",
    "\n",
    "What do ORES predictions mean?  Can be hard to interpret...\n",
    " - See ORES documentation: https://www.mediawiki.org/wiki/ORES\n",
    " - English Wikipedia has filters based on the ORES score. See the \"threshold ranges\" here: https://en.wikipedia.org/wiki/Special:ORESModels\n",
    " \n"
   ]
  },
  {
   "cell_type": "code",
   "execution_count": 1,
   "id": "contained-centre",
   "metadata": {},
   "outputs": [],
   "source": [
    "%reload_ext autoreload\n",
    "%autoreload 2\n",
    "%matplotlib inline"
   ]
  },
  {
   "cell_type": "code",
   "execution_count": 53,
   "id": "roman-spring",
   "metadata": {},
   "outputs": [],
   "source": [
    "# these three imports are aliased as np, pd, and plt by convention\n",
    "import numpy as np\n",
    "import pandas as pd\n",
    "import matplotlib.pyplot as plt\n",
    "\n",
    "# other imports can go here\n",
    "from datetime import datetime\n",
    "from tqdm import tqdm"
   ]
  },
  {
   "cell_type": "code",
   "execution_count": 3,
   "id": "transparent-flower",
   "metadata": {},
   "outputs": [
    {
     "name": "stdout",
     "output_type": "stream",
     "text": [
      "Read 4766352 rows in 0:00:14.687382.\n"
     ]
    },
    {
     "data": {
      "text/html": [
       "<div>\n",
       "<style scoped>\n",
       "    .dataframe tbody tr th:only-of-type {\n",
       "        vertical-align: middle;\n",
       "    }\n",
       "\n",
       "    .dataframe tbody tr th {\n",
       "        vertical-align: top;\n",
       "    }\n",
       "\n",
       "    .dataframe thead th {\n",
       "        text-align: right;\n",
       "    }\n",
       "</style>\n",
       "<table border=\"1\" class=\"dataframe\">\n",
       "  <thead>\n",
       "    <tr style=\"text-align: right;\">\n",
       "      <th></th>\n",
       "      <th>rev_timestamp</th>\n",
       "      <th>page_id</th>\n",
       "      <th>rev_id</th>\n",
       "      <th>prev_rev_id</th>\n",
       "      <th>is_minor</th>\n",
       "      <th>user_text</th>\n",
       "      <th>user_id</th>\n",
       "      <th>seconds_to_prev</th>\n",
       "      <th>curr_bytes</th>\n",
       "      <th>delta_bytes</th>\n",
       "      <th>...</th>\n",
       "      <th>seconds_to_revert</th>\n",
       "      <th>damaging_pred</th>\n",
       "      <th>goodfaith_pred</th>\n",
       "      <th>model_version</th>\n",
       "      <th>user_is_bot</th>\n",
       "      <th>user_is_trusted</th>\n",
       "      <th>user_edit_count</th>\n",
       "      <th>page_rev_count</th>\n",
       "      <th>page_namespace</th>\n",
       "      <th>is_page_redirect</th>\n",
       "    </tr>\n",
       "  </thead>\n",
       "  <tbody>\n",
       "    <tr>\n",
       "      <th>0</th>\n",
       "      <td>1546300800</td>\n",
       "      <td>47649229</td>\n",
       "      <td>876227289</td>\n",
       "      <td>869530001</td>\n",
       "      <td>True</td>\n",
       "      <td>BD2412</td>\n",
       "      <td>196446</td>\n",
       "      <td>3696519</td>\n",
       "      <td>1195</td>\n",
       "      <td>-9</td>\n",
       "      <td>...</td>\n",
       "      <td>None</td>\n",
       "      <td>0.021146</td>\n",
       "      <td>0.985808</td>\n",
       "      <td>0.4.0</td>\n",
       "      <td>False</td>\n",
       "      <td>False</td>\n",
       "      <td>1289980</td>\n",
       "      <td>5</td>\n",
       "      <td>118</td>\n",
       "      <td>0</td>\n",
       "    </tr>\n",
       "    <tr>\n",
       "      <th>1</th>\n",
       "      <td>1546300801</td>\n",
       "      <td>47642850</td>\n",
       "      <td>876227292</td>\n",
       "      <td>869530006</td>\n",
       "      <td>True</td>\n",
       "      <td>BD2412</td>\n",
       "      <td>196446</td>\n",
       "      <td>3696518</td>\n",
       "      <td>1423</td>\n",
       "      <td>-9</td>\n",
       "      <td>...</td>\n",
       "      <td>None</td>\n",
       "      <td>0.021847</td>\n",
       "      <td>0.983419</td>\n",
       "      <td>0.4.0</td>\n",
       "      <td>False</td>\n",
       "      <td>False</td>\n",
       "      <td>1289981</td>\n",
       "      <td>5</td>\n",
       "      <td>0</td>\n",
       "      <td>0</td>\n",
       "    </tr>\n",
       "    <tr>\n",
       "      <th>2</th>\n",
       "      <td>1546300801</td>\n",
       "      <td>59537875</td>\n",
       "      <td>876227290</td>\n",
       "      <td>None</td>\n",
       "      <td>False</td>\n",
       "      <td>Twozenhauer</td>\n",
       "      <td>14955567</td>\n",
       "      <td>None</td>\n",
       "      <td>7835</td>\n",
       "      <td>None</td>\n",
       "      <td>...</td>\n",
       "      <td>None</td>\n",
       "      <td>0.003826</td>\n",
       "      <td>0.998177</td>\n",
       "      <td>0.4.0</td>\n",
       "      <td>False</td>\n",
       "      <td>False</td>\n",
       "      <td>621</td>\n",
       "      <td>7</td>\n",
       "      <td>0</td>\n",
       "      <td>0</td>\n",
       "    </tr>\n",
       "    <tr>\n",
       "      <th>3</th>\n",
       "      <td>1546300801</td>\n",
       "      <td>60902958</td>\n",
       "      <td>876227291</td>\n",
       "      <td>869530004</td>\n",
       "      <td>True</td>\n",
       "      <td>BD2412</td>\n",
       "      <td>196446</td>\n",
       "      <td>3696519</td>\n",
       "      <td>1445</td>\n",
       "      <td>-9</td>\n",
       "      <td>...</td>\n",
       "      <td>None</td>\n",
       "      <td>0.021797</td>\n",
       "      <td>0.983336</td>\n",
       "      <td>0.4.0</td>\n",
       "      <td>False</td>\n",
       "      <td>False</td>\n",
       "      <td>1289980</td>\n",
       "      <td>30</td>\n",
       "      <td>0</td>\n",
       "      <td>0</td>\n",
       "    </tr>\n",
       "    <tr>\n",
       "      <th>4</th>\n",
       "      <td>1546300802</td>\n",
       "      <td>31392285</td>\n",
       "      <td>876227293</td>\n",
       "      <td>876069768</td>\n",
       "      <td>True</td>\n",
       "      <td>Cyberbot I</td>\n",
       "      <td>16266655</td>\n",
       "      <td>86401</td>\n",
       "      <td>125</td>\n",
       "      <td>-1</td>\n",
       "      <td>...</td>\n",
       "      <td>None</td>\n",
       "      <td>0.011582</td>\n",
       "      <td>0.992475</td>\n",
       "      <td>0.4.0</td>\n",
       "      <td>True</td>\n",
       "      <td>True</td>\n",
       "      <td>1006365</td>\n",
       "      <td>337</td>\n",
       "      <td>10</td>\n",
       "      <td>0</td>\n",
       "    </tr>\n",
       "  </tbody>\n",
       "</table>\n",
       "<p>5 rows × 29 columns</p>\n",
       "</div>"
      ],
      "text/plain": [
       "   rev_timestamp   page_id     rev_id prev_rev_id  is_minor    user_text  \\\n",
       "0     1546300800  47649229  876227289   869530001      True       BD2412   \n",
       "1     1546300801  47642850  876227292   869530006      True       BD2412   \n",
       "2     1546300801  59537875  876227290        None     False  Twozenhauer   \n",
       "3     1546300801  60902958  876227291   869530004      True       BD2412   \n",
       "4     1546300802  31392285  876227293   876069768      True   Cyberbot I   \n",
       "\n",
       "    user_id seconds_to_prev  curr_bytes delta_bytes  ...  seconds_to_revert  \\\n",
       "0    196446         3696519        1195          -9  ...               None   \n",
       "1    196446         3696518        1423          -9  ...               None   \n",
       "2  14955567            None        7835        None  ...               None   \n",
       "3    196446         3696519        1445          -9  ...               None   \n",
       "4  16266655           86401         125          -1  ...               None   \n",
       "\n",
       "   damaging_pred  goodfaith_pred  model_version  user_is_bot  user_is_trusted  \\\n",
       "0       0.021146        0.985808          0.4.0        False            False   \n",
       "1       0.021847        0.983419          0.4.0        False            False   \n",
       "2       0.003826        0.998177          0.4.0        False            False   \n",
       "3       0.021797        0.983336          0.4.0        False            False   \n",
       "4       0.011582        0.992475          0.4.0         True             True   \n",
       "\n",
       "  user_edit_count page_rev_count page_namespace is_page_redirect  \n",
       "0         1289980              5            118                0  \n",
       "1         1289981              5              0                0  \n",
       "2             621              7              0                0  \n",
       "3         1289980             30              0                0  \n",
       "4         1006365            337             10                0  \n",
       "\n",
       "[5 rows x 29 columns]"
      ]
     },
     "execution_count": 3,
     "metadata": {},
     "output_type": "execute_result"
    }
   ],
   "source": [
    "s = datetime.now()\n",
    "df = pd.read_csv('revs_scored_jan.tsv', sep='\\t', header=0)\n",
    "print(f\"Read {len(df)} rows in {datetime.now() - s}.\")\n",
    "df.head()"
   ]
  },
  {
   "cell_type": "code",
   "execution_count": 33,
   "id": "deluxe-chart",
   "metadata": {},
   "outputs": [
    {
     "data": {
      "image/png": "[encoded data removed]",
      "text/plain": [
       "<Figure size 504x504 with 1 Axes>"
      ]
     },
     "metadata": {
      "needs_background": "light"
     },
     "output_type": "display_data"
    },
    {
     "data": {
      "text/plain": [
       "page_id\n",
       "1952670     11547\n",
       "47909226     6415\n",
       "13784401     5696\n",
       "5137507      4337\n",
       "352651       4261\n",
       "52527857     3965\n",
       "11022716     3801\n",
       "45316030     3310\n",
       "34745517     3038\n",
       "16927404     2463\n",
       "Name: rev_id, dtype: int64"
      ]
     },
     "execution_count": 33,
     "metadata": {},
     "output_type": "execute_result"
    }
   ],
   "source": [
    "page_rev_counts = df.groupby('page_id').rev_id.nunique().sort_values(ascending=False)\n",
    "\n",
    "fig, ax = plt.subplots(1, 1, figsize=(7,7))\n",
    "bins = np.linspace(1, np.quantile(page_rev_counts, 0.999))\n",
    "ax.hist(page_rev_counts, bins=bins, log=True)\n",
    "ax.set_title(f\"Distribution of revisions by page (# unique pages = {df.page_id.nunique():,})\")\n",
    "ax.set_xlabel(\"Number of revisions\")\n",
    "ax.set_ylabel(\"Page count\")\n",
    "\n",
    "plt.show()\n",
    "page_rev_counts.head(10)"
   ]
  },
  {
   "cell_type": "code",
   "execution_count": 47,
   "id": "referenced-roads",
   "metadata": {},
   "outputs": [
    {
     "data": {
      "text/plain": [
       "67         876373440\n",
       "70         876290867\n",
       "115        876233143\n",
       "120        876269339\n",
       "206        876231329\n",
       "             ...    \n",
       "4766335    881190768\n",
       "4766340    881187915\n",
       "4766342    881197530\n",
       "4766344    881187572\n",
       "4766346    881270612\n",
       "Name: revert_id, Length: 460562, dtype: object"
      ]
     },
     "execution_count": 47,
     "metadata": {},
     "output_type": "execute_result"
    }
   ],
   "source": [
    "df[df.is_reverted].revert_id"
   ]
  },
  {
   "cell_type": "code",
   "execution_count": 63,
   "id": "unnecessary-netscape",
   "metadata": {},
   "outputs": [
    {
     "name": "stdout",
     "output_type": "stream",
     "text": [
      "CPU times: user 3 µs, sys: 0 ns, total: 3 µs\n",
      "Wall time: 12.6 µs\n"
     ]
    },
    {
     "data": {
      "text/plain": [
       "321225"
      ]
     },
     "execution_count": 63,
     "metadata": {},
     "output_type": "execute_result"
    }
   ],
   "source": [
    "%time\n",
    "revert_is_bot_map = {row.rev_id: row.user_is_bot for row in df[df.is_revert].itertuples()}\n",
    "len(revert_is_bot_map)"
   ]
  },
  {
   "cell_type": "code",
   "execution_count": 64,
   "id": "endangered-suspension",
   "metadata": {},
   "outputs": [
    {
     "name": "stderr",
     "output_type": "stream",
     "text": [
      "100%|██████████| 460562/460562 [00:02<00:00, 176197.37it/s]\n",
      "  2%|▏         | 8927/460562 [00:59<50:03, 150.39it/s]  \n"
     ]
    },
    {
     "ename": "KeyboardInterrupt",
     "evalue": "",
     "output_type": "error",
     "traceback": [
      "\u001b[0;31m---------------------------------------------------------------------------\u001b[0m",
      "\u001b[0;31mKeyboardInterrupt\u001b[0m                         Traceback (most recent call last)",
      "\u001b[0;32m<ipython-input-64-e215a8b54ef8>\u001b[0m in \u001b[0;36m<module>\u001b[0;34m\u001b[0m\n\u001b[1;32m     14\u001b[0m \u001b[0mis_reverting_user_a_bot\u001b[0m \u001b[0;34m=\u001b[0m \u001b[0;34m[\u001b[0m\u001b[0;34m]\u001b[0m\u001b[0;34m\u001b[0m\u001b[0;34m\u001b[0m\u001b[0m\n\u001b[1;32m     15\u001b[0m \u001b[0;32mfor\u001b[0m \u001b[0mrow\u001b[0m \u001b[0;32min\u001b[0m \u001b[0mtqdm\u001b[0m\u001b[0;34m(\u001b[0m\u001b[0msdf\u001b[0m\u001b[0;34m.\u001b[0m\u001b[0mitertuples\u001b[0m\u001b[0;34m(\u001b[0m\u001b[0;34m)\u001b[0m\u001b[0;34m,\u001b[0m \u001b[0mtotal\u001b[0m\u001b[0;34m=\u001b[0m\u001b[0mlen\u001b[0m\u001b[0;34m(\u001b[0m\u001b[0msdf\u001b[0m\u001b[0;34m)\u001b[0m\u001b[0;34m)\u001b[0m\u001b[0;34m:\u001b[0m\u001b[0;34m\u001b[0m\u001b[0;34m\u001b[0m\u001b[0m\n\u001b[0;32m---> 16\u001b[0;31m     \u001b[0mres\u001b[0m \u001b[0;34m=\u001b[0m \u001b[0mdf\u001b[0m\u001b[0;34m[\u001b[0m\u001b[0mdf\u001b[0m\u001b[0;34m.\u001b[0m\u001b[0mrev_id\u001b[0m \u001b[0;34m==\u001b[0m \u001b[0mint\u001b[0m\u001b[0;34m(\u001b[0m\u001b[0mrow\u001b[0m\u001b[0;34m.\u001b[0m\u001b[0mrevert_id\u001b[0m\u001b[0;34m)\u001b[0m\u001b[0;34m]\u001b[0m\u001b[0;34m\u001b[0m\u001b[0;34m\u001b[0m\u001b[0m\n\u001b[0m\u001b[1;32m     17\u001b[0m     \u001b[0;32mif\u001b[0m \u001b[0mlen\u001b[0m\u001b[0;34m(\u001b[0m\u001b[0mres\u001b[0m\u001b[0;34m)\u001b[0m \u001b[0;34m!=\u001b[0m \u001b[0;36m1\u001b[0m\u001b[0;34m:\u001b[0m\u001b[0;34m\u001b[0m\u001b[0;34m\u001b[0m\u001b[0m\n\u001b[1;32m     18\u001b[0m         \u001b[0;32mcontinue\u001b[0m\u001b[0;34m\u001b[0m\u001b[0;34m\u001b[0m\u001b[0m\n",
      "\u001b[0;32m/export/scratch2/levon003/bin/anaconda3/lib/python3.7/site-packages/pandas/core/ops/common.py\u001b[0m in \u001b[0;36mnew_method\u001b[0;34m(self, other)\u001b[0m\n\u001b[1;32m     63\u001b[0m         \u001b[0mother\u001b[0m \u001b[0;34m=\u001b[0m \u001b[0mitem_from_zerodim\u001b[0m\u001b[0;34m(\u001b[0m\u001b[0mother\u001b[0m\u001b[0;34m)\u001b[0m\u001b[0;34m\u001b[0m\u001b[0;34m\u001b[0m\u001b[0m\n\u001b[1;32m     64\u001b[0m \u001b[0;34m\u001b[0m\u001b[0m\n\u001b[0;32m---> 65\u001b[0;31m         \u001b[0;32mreturn\u001b[0m \u001b[0mmethod\u001b[0m\u001b[0;34m(\u001b[0m\u001b[0mself\u001b[0m\u001b[0;34m,\u001b[0m \u001b[0mother\u001b[0m\u001b[0;34m)\u001b[0m\u001b[0;34m\u001b[0m\u001b[0;34m\u001b[0m\u001b[0m\n\u001b[0m\u001b[1;32m     66\u001b[0m \u001b[0;34m\u001b[0m\u001b[0m\n\u001b[1;32m     67\u001b[0m     \u001b[0;32mreturn\u001b[0m \u001b[0mnew_method\u001b[0m\u001b[0;34m\u001b[0m\u001b[0;34m\u001b[0m\u001b[0m\n",
      "\u001b[0;32m/export/scratch2/levon003/bin/anaconda3/lib/python3.7/site-packages/pandas/core/ops/__init__.py\u001b[0m in \u001b[0;36mwrapper\u001b[0;34m(self, other)\u001b[0m\n\u001b[1;32m    368\u001b[0m         \u001b[0mrvalues\u001b[0m \u001b[0;34m=\u001b[0m \u001b[0mextract_array\u001b[0m\u001b[0;34m(\u001b[0m\u001b[0mother\u001b[0m\u001b[0;34m,\u001b[0m \u001b[0mextract_numpy\u001b[0m\u001b[0;34m=\u001b[0m\u001b[0;32mTrue\u001b[0m\u001b[0;34m)\u001b[0m\u001b[0;34m\u001b[0m\u001b[0;34m\u001b[0m\u001b[0m\n\u001b[1;32m    369\u001b[0m \u001b[0;34m\u001b[0m\u001b[0m\n\u001b[0;32m--> 370\u001b[0;31m         \u001b[0mres_values\u001b[0m \u001b[0;34m=\u001b[0m \u001b[0mcomparison_op\u001b[0m\u001b[0;34m(\u001b[0m\u001b[0mlvalues\u001b[0m\u001b[0;34m,\u001b[0m \u001b[0mrvalues\u001b[0m\u001b[0;34m,\u001b[0m \u001b[0mop\u001b[0m\u001b[0;34m)\u001b[0m\u001b[0;34m\u001b[0m\u001b[0;34m\u001b[0m\u001b[0m\n\u001b[0m\u001b[1;32m    371\u001b[0m \u001b[0;34m\u001b[0m\u001b[0m\n\u001b[1;32m    372\u001b[0m         \u001b[0;32mreturn\u001b[0m \u001b[0mself\u001b[0m\u001b[0;34m.\u001b[0m\u001b[0m_construct_result\u001b[0m\u001b[0;34m(\u001b[0m\u001b[0mres_values\u001b[0m\u001b[0;34m,\u001b[0m \u001b[0mname\u001b[0m\u001b[0;34m=\u001b[0m\u001b[0mres_name\u001b[0m\u001b[0;34m)\u001b[0m\u001b[0;34m\u001b[0m\u001b[0;34m\u001b[0m\u001b[0m\n",
      "\u001b[0;32m/export/scratch2/levon003/bin/anaconda3/lib/python3.7/site-packages/pandas/core/ops/array_ops.py\u001b[0m in \u001b[0;36mcomparison_op\u001b[0;34m(left, right, op)\u001b[0m\n\u001b[1;32m    244\u001b[0m             \u001b[0mwarnings\u001b[0m\u001b[0;34m.\u001b[0m\u001b[0msimplefilter\u001b[0m\u001b[0;34m(\u001b[0m\u001b[0;34m\"ignore\"\u001b[0m\u001b[0;34m,\u001b[0m \u001b[0mDeprecationWarning\u001b[0m\u001b[0;34m)\u001b[0m\u001b[0;34m\u001b[0m\u001b[0;34m\u001b[0m\u001b[0m\n\u001b[1;32m    245\u001b[0m             \u001b[0;32mwith\u001b[0m \u001b[0mnp\u001b[0m\u001b[0;34m.\u001b[0m\u001b[0merrstate\u001b[0m\u001b[0;34m(\u001b[0m\u001b[0mall\u001b[0m\u001b[0;34m=\u001b[0m\u001b[0;34m\"ignore\"\u001b[0m\u001b[0;34m)\u001b[0m\u001b[0;34m:\u001b[0m\u001b[0;34m\u001b[0m\u001b[0;34m\u001b[0m\u001b[0m\n\u001b[0;32m--> 246\u001b[0;31m                 \u001b[0mres_values\u001b[0m \u001b[0;34m=\u001b[0m \u001b[0mna_arithmetic_op\u001b[0m\u001b[0;34m(\u001b[0m\u001b[0mlvalues\u001b[0m\u001b[0;34m,\u001b[0m \u001b[0mrvalues\u001b[0m\u001b[0;34m,\u001b[0m \u001b[0mop\u001b[0m\u001b[0;34m,\u001b[0m \u001b[0mis_cmp\u001b[0m\u001b[0;34m=\u001b[0m\u001b[0;32mTrue\u001b[0m\u001b[0;34m)\u001b[0m\u001b[0;34m\u001b[0m\u001b[0;34m\u001b[0m\u001b[0m\n\u001b[0m\u001b[1;32m    247\u001b[0m \u001b[0;34m\u001b[0m\u001b[0m\n\u001b[1;32m    248\u001b[0m     \u001b[0;32mreturn\u001b[0m \u001b[0mres_values\u001b[0m\u001b[0;34m\u001b[0m\u001b[0;34m\u001b[0m\u001b[0m\n",
      "\u001b[0;32m/export/scratch2/levon003/bin/anaconda3/lib/python3.7/site-packages/pandas/core/ops/array_ops.py\u001b[0m in \u001b[0;36mna_arithmetic_op\u001b[0;34m(left, right, op, is_cmp)\u001b[0m\n\u001b[1;32m    140\u001b[0m \u001b[0;34m\u001b[0m\u001b[0m\n\u001b[1;32m    141\u001b[0m     \u001b[0;32mtry\u001b[0m\u001b[0;34m:\u001b[0m\u001b[0;34m\u001b[0m\u001b[0;34m\u001b[0m\u001b[0m\n\u001b[0;32m--> 142\u001b[0;31m         \u001b[0mresult\u001b[0m \u001b[0;34m=\u001b[0m \u001b[0mexpressions\u001b[0m\u001b[0;34m.\u001b[0m\u001b[0mevaluate\u001b[0m\u001b[0;34m(\u001b[0m\u001b[0mop\u001b[0m\u001b[0;34m,\u001b[0m \u001b[0mleft\u001b[0m\u001b[0;34m,\u001b[0m \u001b[0mright\u001b[0m\u001b[0;34m)\u001b[0m\u001b[0;34m\u001b[0m\u001b[0;34m\u001b[0m\u001b[0m\n\u001b[0m\u001b[1;32m    143\u001b[0m     \u001b[0;32mexcept\u001b[0m \u001b[0mTypeError\u001b[0m\u001b[0;34m:\u001b[0m\u001b[0;34m\u001b[0m\u001b[0;34m\u001b[0m\u001b[0m\n\u001b[1;32m    144\u001b[0m         \u001b[0;32mif\u001b[0m \u001b[0mis_cmp\u001b[0m\u001b[0;34m:\u001b[0m\u001b[0;34m\u001b[0m\u001b[0;34m\u001b[0m\u001b[0m\n",
      "\u001b[0;32m/export/scratch2/levon003/bin/anaconda3/lib/python3.7/site-packages/pandas/core/computation/expressions.py\u001b[0m in \u001b[0;36mevaluate\u001b[0;34m(op, a, b, use_numexpr)\u001b[0m\n\u001b[1;32m    228\u001b[0m         \u001b[0muse_numexpr\u001b[0m \u001b[0;34m=\u001b[0m \u001b[0muse_numexpr\u001b[0m \u001b[0;32mand\u001b[0m \u001b[0m_bool_arith_check\u001b[0m\u001b[0;34m(\u001b[0m\u001b[0mop_str\u001b[0m\u001b[0;34m,\u001b[0m \u001b[0ma\u001b[0m\u001b[0;34m,\u001b[0m \u001b[0mb\u001b[0m\u001b[0;34m)\u001b[0m\u001b[0;34m\u001b[0m\u001b[0;34m\u001b[0m\u001b[0m\n\u001b[1;32m    229\u001b[0m         \u001b[0;32mif\u001b[0m \u001b[0muse_numexpr\u001b[0m\u001b[0;34m:\u001b[0m\u001b[0;34m\u001b[0m\u001b[0;34m\u001b[0m\u001b[0m\n\u001b[0;32m--> 230\u001b[0;31m             \u001b[0;32mreturn\u001b[0m \u001b[0m_evaluate\u001b[0m\u001b[0;34m(\u001b[0m\u001b[0mop\u001b[0m\u001b[0;34m,\u001b[0m \u001b[0mop_str\u001b[0m\u001b[0;34m,\u001b[0m \u001b[0ma\u001b[0m\u001b[0;34m,\u001b[0m \u001b[0mb\u001b[0m\u001b[0;34m)\u001b[0m  \u001b[0;31m# type: ignore\u001b[0m\u001b[0;34m\u001b[0m\u001b[0;34m\u001b[0m\u001b[0m\n\u001b[0m\u001b[1;32m    231\u001b[0m     \u001b[0;32mreturn\u001b[0m \u001b[0m_evaluate_standard\u001b[0m\u001b[0;34m(\u001b[0m\u001b[0mop\u001b[0m\u001b[0;34m,\u001b[0m \u001b[0mop_str\u001b[0m\u001b[0;34m,\u001b[0m \u001b[0ma\u001b[0m\u001b[0;34m,\u001b[0m \u001b[0mb\u001b[0m\u001b[0;34m)\u001b[0m\u001b[0;34m\u001b[0m\u001b[0;34m\u001b[0m\u001b[0m\n\u001b[1;32m    232\u001b[0m \u001b[0;34m\u001b[0m\u001b[0m\n",
      "\u001b[0;32m/export/scratch2/levon003/bin/anaconda3/lib/python3.7/site-packages/pandas/core/computation/expressions.py\u001b[0m in \u001b[0;36m_evaluate_standard\u001b[0;34m(op, op_str, a, b)\u001b[0m\n\u001b[1;32m     66\u001b[0m         \u001b[0m_store_test_result\u001b[0m\u001b[0;34m(\u001b[0m\u001b[0;32mFalse\u001b[0m\u001b[0;34m)\u001b[0m\u001b[0;34m\u001b[0m\u001b[0;34m\u001b[0m\u001b[0m\n\u001b[1;32m     67\u001b[0m     \u001b[0;32mwith\u001b[0m \u001b[0mnp\u001b[0m\u001b[0;34m.\u001b[0m\u001b[0merrstate\u001b[0m\u001b[0;34m(\u001b[0m\u001b[0mall\u001b[0m\u001b[0;34m=\u001b[0m\u001b[0;34m\"ignore\"\u001b[0m\u001b[0;34m)\u001b[0m\u001b[0;34m:\u001b[0m\u001b[0;34m\u001b[0m\u001b[0;34m\u001b[0m\u001b[0m\n\u001b[0;32m---> 68\u001b[0;31m         \u001b[0;32mreturn\u001b[0m \u001b[0mop\u001b[0m\u001b[0;34m(\u001b[0m\u001b[0ma\u001b[0m\u001b[0;34m,\u001b[0m \u001b[0mb\u001b[0m\u001b[0;34m)\u001b[0m\u001b[0;34m\u001b[0m\u001b[0;34m\u001b[0m\u001b[0m\n\u001b[0m\u001b[1;32m     69\u001b[0m \u001b[0;34m\u001b[0m\u001b[0m\n\u001b[1;32m     70\u001b[0m \u001b[0;34m\u001b[0m\u001b[0m\n",
      "\u001b[0;31mKeyboardInterrupt\u001b[0m: "
     ]
    }
   ],
   "source": [
    "# for all reverted revisions, determine if it was reverted by a bot\n",
    "\n",
    "# fast way\n",
    "sdf = df[df.is_reverted]\n",
    "is_reverting_user_a_bot = []\n",
    "for row in tqdm(sdf.itertuples(), total=len(sdf)):\n",
    "    if row.revert_id not in revert_is_bot_map:\n",
    "        continue\n",
    "    user_is_bot = revert_is_bot_map[row.revert_id]\n",
    "    is_reverting_user_a_bot.append(user_is_bot)\n",
    "\n",
    "# slow way\n",
    "sdf = df[df.is_reverted]\n",
    "is_reverting_user_a_bot = []\n",
    "for row in tqdm(sdf.itertuples(), total=len(sdf)):\n",
    "    res = df[df.rev_id == int(row.revert_id)]\n",
    "    if len(res) != 1:\n",
    "        continue\n",
    "    user_is_bot = res.user_is_bot.iloc[0]\n",
    "    is_reverting_user_a_bot.append(user_is_bot)\n"
   ]
  },
  {
   "cell_type": "code",
   "execution_count": null,
   "id": "wireless-creator",
   "metadata": {},
   "outputs": [],
   "source": []
  },
  {
   "cell_type": "code",
   "execution_count": 4,
   "id": "front-husband",
   "metadata": {},
   "outputs": [
    {
     "data": {
      "text/plain": [
       "rev_timestamp                int64\n",
       "page_id                      int64\n",
       "rev_id                       int64\n",
       "prev_rev_id                 object\n",
       "is_minor                      bool\n",
       "user_text                   object\n",
       "user_id                     object\n",
       "seconds_to_prev             object\n",
       "curr_bytes                   int64\n",
       "delta_bytes                 object\n",
       "has_edit_summary              bool\n",
       "is_reverted                   bool\n",
       "is_revert                     bool\n",
       "is_reverted_to_by_other       bool\n",
       "is_self_reverted              bool\n",
       "is_self_revert                bool\n",
       "revert_target_id            object\n",
       "revert_set_size             object\n",
       "revert_id                   object\n",
       "seconds_to_revert           object\n",
       "damaging_pred              float64\n",
       "goodfaith_pred             float64\n",
       "model_version               object\n",
       "user_is_bot                   bool\n",
       "user_is_trusted               bool\n",
       "user_edit_count              int64\n",
       "page_rev_count               int64\n",
       "page_namespace               int64\n",
       "is_page_redirect             int64\n",
       "dtype: object"
      ]
     },
     "execution_count": 4,
     "metadata": {},
     "output_type": "execute_result"
    }
   ],
   "source": [
    "# look at the columns and their inferred data types\n",
    "df.dtypes"
   ]
  },
  {
   "cell_type": "code",
   "execution_count": 45,
   "id": "technological-registrar",
   "metadata": {},
   "outputs": [
    {
     "data": {
      "text/plain": [
       "0      3451557\n",
       "3       307144\n",
       "2       293384\n",
       "1       237689\n",
       "4       216112\n",
       "14       87390\n",
       "10       79089\n",
       "5        22984\n",
       "6        19942\n",
       "15       19004\n",
       "118       9119\n",
       "11        8934\n",
       "100       3905\n",
       "828       3575\n",
       "109       1610\n",
       "7         1151\n",
       "12         813\n",
       "13         653\n",
       "119        580\n",
       "829        395\n",
       "9          391\n",
       "101        372\n",
       "8          220\n",
       "108        200\n",
       "710        133\n",
       "447          4\n",
       "711          2\n",
       "Name: page_namespace, dtype: int64"
      ]
     },
     "execution_count": 45,
     "metadata": {},
     "output_type": "execute_result"
    }
   ],
   "source": [
    "df.page_namespace.value_counts()"
   ]
  },
  {
   "cell_type": "code",
   "execution_count": 43,
   "id": "auburn-bumper",
   "metadata": {},
   "outputs": [
    {
     "data": {
      "text/plain": [
       "0.5.0    3681914\n",
       "0.4.0    1017696\n",
       "0.5.1      66742\n",
       "Name: model_version, dtype: int64"
      ]
     },
     "execution_count": 43,
     "metadata": {},
     "output_type": "execute_result"
    }
   ],
   "source": [
    "df.model_version.value_counts()"
   ]
  },
  {
   "cell_type": "code",
   "execution_count": 38,
   "id": "fixed-romance",
   "metadata": {},
   "outputs": [
    {
     "data": {
      "text/plain": [
       "None       840852\n",
       "754619      66860\n",
       "753665      61471\n",
       "1215485     42742\n",
       "7611264     32629\n",
       "Name: user_id, dtype: int64"
      ]
     },
     "execution_count": 38,
     "metadata": {},
     "output_type": "execute_result"
    }
   ],
   "source": [
    "df.user_id.value_counts().head()"
   ]
  },
  {
   "cell_type": "code",
   "execution_count": 42,
   "id": "productive-quarterly",
   "metadata": {},
   "outputs": [
    {
     "data": {
      "text/plain": [
       "2088384    2A00:23C4:1C2B:1000:4D73:BBDB:C74C:835B\n",
       "2995677                               69.112.140.2\n",
       "547084                               185.49.74.145\n",
       "192071                              175.176.16.222\n",
       "2767342       2001:579:8108:11:1C97:B2A6:5515:E668\n",
       "3699003                             99.198.244.240\n",
       "134831       2600:6C56:6508:1E7:10D:55B0:A444:C9E3\n",
       "3454290     2001:BB6:4F12:3E58:8DF3:D260:1693:D323\n",
       "3371396                             179.176.42.187\n",
       "3409181           2409:4066:112:20BE:0:0:2ADA:A0A0\n",
       "1450289        2405:205:3:3BAB:ECE7:F284:1C77:DF8B\n",
       "2949432                             90.203.224.249\n",
       "2676456    2407:7000:9601:D605:BD10:F72F:B345:A91C\n",
       "3991218     2405:204:911A:B91D:E95A:4453:3D56:85FF\n",
       "1809323                              98.206.114.61\n",
       "2904362                              108.31.195.97\n",
       "1244321                              97.85.118.142\n",
       "911494        2601:484:180:12E:298B:6C4C:F06F:F569\n",
       "2994358                              47.147.201.44\n",
       "2913658     2601:603:4F80:10FE:5408:652A:AD3F:92A9\n",
       "Name: user_text, dtype: object"
      ]
     },
     "execution_count": 42,
     "metadata": {},
     "output_type": "execute_result"
    }
   ],
   "source": [
    "df[df.user_id == 'None'].user_text.sample(n=20)"
   ]
  },
  {
   "cell_type": "code",
   "execution_count": 5,
   "id": "static-italian",
   "metadata": {},
   "outputs": [
    {
     "data": {
      "text/plain": [
       "False    4241207\n",
       "True      525145\n",
       "Name: user_is_bot, dtype: int64"
      ]
     },
     "execution_count": 5,
     "metadata": {},
     "output_type": "execute_result"
    }
   ],
   "source": [
    "# how many revisions are made by bots?\n",
    "df.user_is_bot.value_counts()"
   ]
  },
  {
   "cell_type": "code",
   "execution_count": 6,
   "id": "nonprofit-azerbaijan",
   "metadata": {},
   "outputs": [
    {
     "data": {
      "text/html": [
       "<div>\n",
       "<style scoped>\n",
       "    .dataframe tbody tr th:only-of-type {\n",
       "        vertical-align: middle;\n",
       "    }\n",
       "\n",
       "    .dataframe tbody tr th {\n",
       "        vertical-align: top;\n",
       "    }\n",
       "\n",
       "    .dataframe thead th {\n",
       "        text-align: right;\n",
       "    }\n",
       "</style>\n",
       "<table border=\"1\" class=\"dataframe\">\n",
       "  <thead>\n",
       "    <tr style=\"text-align: right;\">\n",
       "      <th>is_reverted</th>\n",
       "      <th>False</th>\n",
       "      <th>True</th>\n",
       "    </tr>\n",
       "    <tr>\n",
       "      <th>user_is_bot</th>\n",
       "      <th></th>\n",
       "      <th></th>\n",
       "    </tr>\n",
       "  </thead>\n",
       "  <tbody>\n",
       "    <tr>\n",
       "      <th>False</th>\n",
       "      <td>0.898</td>\n",
       "      <td>0.102</td>\n",
       "    </tr>\n",
       "    <tr>\n",
       "      <th>True</th>\n",
       "      <td>0.950</td>\n",
       "      <td>0.050</td>\n",
       "    </tr>\n",
       "    <tr>\n",
       "      <th>All</th>\n",
       "      <td>0.903</td>\n",
       "      <td>0.097</td>\n",
       "    </tr>\n",
       "  </tbody>\n",
       "</table>\n",
       "</div>"
      ],
      "text/plain": [
       "is_reverted  False  True \n",
       "user_is_bot              \n",
       "False        0.898  0.102\n",
       "True         0.950  0.050\n",
       "All          0.903  0.097"
      ]
     },
     "execution_count": 6,
     "metadata": {},
     "output_type": "execute_result"
    }
   ],
   "source": [
    "# what % of revisions are reverted?\n",
    "pd.crosstab(df.user_is_bot, df.is_reverted, margins=True, normalize='index').round(decimals=3)"
   ]
  },
  {
   "cell_type": "code",
   "execution_count": 7,
   "id": "armed-action",
   "metadata": {},
   "outputs": [
    {
     "data": {
      "text/plain": [
       "525145"
      ]
     },
     "execution_count": 7,
     "metadata": {},
     "output_type": "execute_result"
    }
   ],
   "source": [
    "# let's look only at the bot revisions\n",
    "bdf = df[df.user_is_bot]\n",
    "len(bdf)"
   ]
  },
  {
   "cell_type": "code",
   "execution_count": 8,
   "id": "ultimate-darkness",
   "metadata": {},
   "outputs": [
    {
     "data": {
      "text/plain": [
       "Cydebot                       42742\n",
       "AnomieBOT                     32629\n",
       "ClueBot NG                    28683\n",
       "Pi bot                        28664\n",
       "KolbertBot                    26762\n",
       "EmausBot                      26685\n",
       "InceptionBot                  20361\n",
       "Citation bot                  18958\n",
       "AAlertBot                     17941\n",
       "ListeriaBot                   16025\n",
       "Lowercase sigmabot III        15433\n",
       "PrimeBOT                      15388\n",
       "WOSlinkerBot                  14573\n",
       "GreenC bot                    14540\n",
       "Reports bot                   12839\n",
       "RonBot                        11000\n",
       "MediaWiki message delivery     9824\n",
       "RMCD bot                       8873\n",
       "AvicBot                        8413\n",
       "HBC AIV helperbot5             8245\n",
       "Name: user_text, dtype: int64"
      ]
     },
     "execution_count": 8,
     "metadata": {},
     "output_type": "execute_result"
    }
   ],
   "source": [
    "bdf.user_text.value_counts().head(20)"
   ]
  },
  {
   "cell_type": "code",
   "execution_count": 9,
   "id": "substantial-blade",
   "metadata": {},
   "outputs": [
    {
     "data": {
      "image/png": "[encoded data removed]",
      "text/plain": [
       "<Figure size 432x288 with 1 Axes>"
      ]
     },
     "metadata": {
      "needs_background": "light"
     },
     "output_type": "display_data"
    }
   ],
   "source": [
    "plt.hist(bdf.damaging_pred, log=True)\n",
    "plt.title(\"Distribution of ORES scores for Jan 2019 bot revisions\")\n",
    "plt.xlabel(\"ORES Damaging prediction\")\n",
    "plt.ylabel(\"Revision count\")\n",
    "plt.show()"
   ]
  },
  {
   "cell_type": "code",
   "execution_count": 10,
   "id": "automatic-computer",
   "metadata": {},
   "outputs": [
    {
     "data": {
      "text/html": [
       "<div>\n",
       "<style scoped>\n",
       "    .dataframe tbody tr th:only-of-type {\n",
       "        vertical-align: middle;\n",
       "    }\n",
       "\n",
       "    .dataframe tbody tr th {\n",
       "        vertical-align: top;\n",
       "    }\n",
       "\n",
       "    .dataframe thead th {\n",
       "        text-align: right;\n",
       "    }\n",
       "</style>\n",
       "<table border=\"1\" class=\"dataframe\">\n",
       "  <thead>\n",
       "    <tr style=\"text-align: right;\">\n",
       "      <th></th>\n",
       "      <th>rev_timestamp</th>\n",
       "      <th>page_id</th>\n",
       "      <th>rev_id</th>\n",
       "      <th>prev_rev_id</th>\n",
       "      <th>is_minor</th>\n",
       "      <th>user_text</th>\n",
       "      <th>user_id</th>\n",
       "      <th>seconds_to_prev</th>\n",
       "      <th>curr_bytes</th>\n",
       "      <th>delta_bytes</th>\n",
       "      <th>...</th>\n",
       "      <th>seconds_to_revert</th>\n",
       "      <th>damaging_pred</th>\n",
       "      <th>goodfaith_pred</th>\n",
       "      <th>model_version</th>\n",
       "      <th>user_is_bot</th>\n",
       "      <th>user_is_trusted</th>\n",
       "      <th>user_edit_count</th>\n",
       "      <th>page_rev_count</th>\n",
       "      <th>page_namespace</th>\n",
       "      <th>is_page_redirect</th>\n",
       "    </tr>\n",
       "  </thead>\n",
       "  <tbody>\n",
       "    <tr>\n",
       "      <th>2001226</th>\n",
       "      <td>1547435811</td>\n",
       "      <td>59041641</td>\n",
       "      <td>878310377</td>\n",
       "      <td>868613157</td>\n",
       "      <td>True</td>\n",
       "      <td>Cydebot</td>\n",
       "      <td>1215485</td>\n",
       "      <td>5332715</td>\n",
       "      <td>533</td>\n",
       "      <td>-54</td>\n",
       "      <td>...</td>\n",
       "      <td>None</td>\n",
       "      <td>0.007676</td>\n",
       "      <td>0.994579</td>\n",
       "      <td>0.5.0</td>\n",
       "      <td>True</td>\n",
       "      <td>True</td>\n",
       "      <td>6511163</td>\n",
       "      <td>1</td>\n",
       "      <td>2</td>\n",
       "      <td>0</td>\n",
       "    </tr>\n",
       "    <tr>\n",
       "      <th>1945651</th>\n",
       "      <td>1547418032</td>\n",
       "      <td>41305918</td>\n",
       "      <td>878252045</td>\n",
       "      <td>585133544</td>\n",
       "      <td>True</td>\n",
       "      <td>Cydebot</td>\n",
       "      <td>1215485</td>\n",
       "      <td>160901742</td>\n",
       "      <td>1799</td>\n",
       "      <td>-53</td>\n",
       "      <td>...</td>\n",
       "      <td>None</td>\n",
       "      <td>0.006446</td>\n",
       "      <td>0.996278</td>\n",
       "      <td>0.5.0</td>\n",
       "      <td>True</td>\n",
       "      <td>True</td>\n",
       "      <td>6496670</td>\n",
       "      <td>1</td>\n",
       "      <td>2</td>\n",
       "      <td>0</td>\n",
       "    </tr>\n",
       "    <tr>\n",
       "      <th>2795659</th>\n",
       "      <td>1547886999</td>\n",
       "      <td>8947783</td>\n",
       "      <td>879138710</td>\n",
       "      <td>878792074</td>\n",
       "      <td>True</td>\n",
       "      <td>Cydebot</td>\n",
       "      <td>1215485</td>\n",
       "      <td>205910</td>\n",
       "      <td>408</td>\n",
       "      <td>-4</td>\n",
       "      <td>...</td>\n",
       "      <td>None</td>\n",
       "      <td>0.011277</td>\n",
       "      <td>0.990510</td>\n",
       "      <td>0.5.0</td>\n",
       "      <td>True</td>\n",
       "      <td>True</td>\n",
       "      <td>6514130</td>\n",
       "      <td>3</td>\n",
       "      <td>0</td>\n",
       "      <td>0</td>\n",
       "    </tr>\n",
       "    <tr>\n",
       "      <th>1944157</th>\n",
       "      <td>1547417528</td>\n",
       "      <td>32753905</td>\n",
       "      <td>878250480</td>\n",
       "      <td>444985850</td>\n",
       "      <td>True</td>\n",
       "      <td>Cydebot</td>\n",
       "      <td>1215485</td>\n",
       "      <td>233995623</td>\n",
       "      <td>1602</td>\n",
       "      <td>-53</td>\n",
       "      <td>...</td>\n",
       "      <td>None</td>\n",
       "      <td>0.006602</td>\n",
       "      <td>0.995982</td>\n",
       "      <td>0.5.0</td>\n",
       "      <td>True</td>\n",
       "      <td>True</td>\n",
       "      <td>6496225</td>\n",
       "      <td>1</td>\n",
       "      <td>2</td>\n",
       "      <td>0</td>\n",
       "    </tr>\n",
       "    <tr>\n",
       "      <th>1994590</th>\n",
       "      <td>1547433258</td>\n",
       "      <td>53378905</td>\n",
       "      <td>878303425</td>\n",
       "      <td>768533730</td>\n",
       "      <td>True</td>\n",
       "      <td>Cydebot</td>\n",
       "      <td>1215485</td>\n",
       "      <td>58809051</td>\n",
       "      <td>410</td>\n",
       "      <td>-54</td>\n",
       "      <td>...</td>\n",
       "      <td>None</td>\n",
       "      <td>0.009221</td>\n",
       "      <td>0.993732</td>\n",
       "      <td>0.5.0</td>\n",
       "      <td>True</td>\n",
       "      <td>True</td>\n",
       "      <td>6509360</td>\n",
       "      <td>1</td>\n",
       "      <td>2</td>\n",
       "      <td>0</td>\n",
       "    </tr>\n",
       "    <tr>\n",
       "      <th>1936260</th>\n",
       "      <td>1547414770</td>\n",
       "      <td>51390740</td>\n",
       "      <td>878241797</td>\n",
       "      <td>735695151</td>\n",
       "      <td>True</td>\n",
       "      <td>Cydebot</td>\n",
       "      <td>1215485</td>\n",
       "      <td>75541056</td>\n",
       "      <td>404</td>\n",
       "      <td>-54</td>\n",
       "      <td>...</td>\n",
       "      <td>None</td>\n",
       "      <td>0.008304</td>\n",
       "      <td>0.993848</td>\n",
       "      <td>0.5.0</td>\n",
       "      <td>True</td>\n",
       "      <td>True</td>\n",
       "      <td>6493720</td>\n",
       "      <td>1</td>\n",
       "      <td>2</td>\n",
       "      <td>0</td>\n",
       "    </tr>\n",
       "    <tr>\n",
       "      <th>1979222</th>\n",
       "      <td>1547427962</td>\n",
       "      <td>37112129</td>\n",
       "      <td>878287397</td>\n",
       "      <td>514414092</td>\n",
       "      <td>True</td>\n",
       "      <td>Cydebot</td>\n",
       "      <td>1215485</td>\n",
       "      <td>198896933</td>\n",
       "      <td>459</td>\n",
       "      <td>-53</td>\n",
       "      <td>...</td>\n",
       "      <td>None</td>\n",
       "      <td>0.008956</td>\n",
       "      <td>0.994174</td>\n",
       "      <td>0.5.0</td>\n",
       "      <td>True</td>\n",
       "      <td>True</td>\n",
       "      <td>6504641</td>\n",
       "      <td>1</td>\n",
       "      <td>2</td>\n",
       "      <td>0</td>\n",
       "    </tr>\n",
       "    <tr>\n",
       "      <th>1935124</th>\n",
       "      <td>1547414526</td>\n",
       "      <td>49545822</td>\n",
       "      <td>878240614</td>\n",
       "      <td>706863892</td>\n",
       "      <td>True</td>\n",
       "      <td>Cydebot</td>\n",
       "      <td>1215485</td>\n",
       "      <td>90988539</td>\n",
       "      <td>1258</td>\n",
       "      <td>-54</td>\n",
       "      <td>...</td>\n",
       "      <td>None</td>\n",
       "      <td>0.005957</td>\n",
       "      <td>0.995521</td>\n",
       "      <td>0.5.0</td>\n",
       "      <td>True</td>\n",
       "      <td>True</td>\n",
       "      <td>6493496</td>\n",
       "      <td>1</td>\n",
       "      <td>2</td>\n",
       "      <td>0</td>\n",
       "    </tr>\n",
       "    <tr>\n",
       "      <th>1958734</th>\n",
       "      <td>1547422068</td>\n",
       "      <td>51629805</td>\n",
       "      <td>878265826</td>\n",
       "      <td>774545513</td>\n",
       "      <td>True</td>\n",
       "      <td>Cydebot</td>\n",
       "      <td>1215485</td>\n",
       "      <td>55705886</td>\n",
       "      <td>78103</td>\n",
       "      <td>-54</td>\n",
       "      <td>...</td>\n",
       "      <td>None</td>\n",
       "      <td>0.006832</td>\n",
       "      <td>0.995397</td>\n",
       "      <td>0.5.0</td>\n",
       "      <td>True</td>\n",
       "      <td>True</td>\n",
       "      <td>6500121</td>\n",
       "      <td>1</td>\n",
       "      <td>2</td>\n",
       "      <td>0</td>\n",
       "    </tr>\n",
       "    <tr>\n",
       "      <th>1874345</th>\n",
       "      <td>1547388502</td>\n",
       "      <td>57364305</td>\n",
       "      <td>878176743</td>\n",
       "      <td>840179658</td>\n",
       "      <td>True</td>\n",
       "      <td>Cydebot</td>\n",
       "      <td>1215485</td>\n",
       "      <td>21626339</td>\n",
       "      <td>170</td>\n",
       "      <td>-54</td>\n",
       "      <td>...</td>\n",
       "      <td>None</td>\n",
       "      <td>0.009404</td>\n",
       "      <td>0.993444</td>\n",
       "      <td>0.5.0</td>\n",
       "      <td>True</td>\n",
       "      <td>True</td>\n",
       "      <td>6484471</td>\n",
       "      <td>1</td>\n",
       "      <td>2</td>\n",
       "      <td>0</td>\n",
       "    </tr>\n",
       "  </tbody>\n",
       "</table>\n",
       "<p>10 rows × 29 columns</p>\n",
       "</div>"
      ],
      "text/plain": [
       "         rev_timestamp   page_id     rev_id prev_rev_id  is_minor user_text  \\\n",
       "2001226     1547435811  59041641  878310377   868613157      True   Cydebot   \n",
       "1945651     1547418032  41305918  878252045   585133544      True   Cydebot   \n",
       "2795659     1547886999   8947783  879138710   878792074      True   Cydebot   \n",
       "1944157     1547417528  32753905  878250480   444985850      True   Cydebot   \n",
       "1994590     1547433258  53378905  878303425   768533730      True   Cydebot   \n",
       "1936260     1547414770  51390740  878241797   735695151      True   Cydebot   \n",
       "1979222     1547427962  37112129  878287397   514414092      True   Cydebot   \n",
       "1935124     1547414526  49545822  878240614   706863892      True   Cydebot   \n",
       "1958734     1547422068  51629805  878265826   774545513      True   Cydebot   \n",
       "1874345     1547388502  57364305  878176743   840179658      True   Cydebot   \n",
       "\n",
       "         user_id seconds_to_prev  curr_bytes delta_bytes  ...  \\\n",
       "2001226  1215485         5332715         533         -54  ...   \n",
       "1945651  1215485       160901742        1799         -53  ...   \n",
       "2795659  1215485          205910         408          -4  ...   \n",
       "1944157  1215485       233995623        1602         -53  ...   \n",
       "1994590  1215485        58809051         410         -54  ...   \n",
       "1936260  1215485        75541056         404         -54  ...   \n",
       "1979222  1215485       198896933         459         -53  ...   \n",
       "1935124  1215485        90988539        1258         -54  ...   \n",
       "1958734  1215485        55705886       78103         -54  ...   \n",
       "1874345  1215485        21626339         170         -54  ...   \n",
       "\n",
       "         seconds_to_revert  damaging_pred  goodfaith_pred  model_version  \\\n",
       "2001226               None       0.007676        0.994579          0.5.0   \n",
       "1945651               None       0.006446        0.996278          0.5.0   \n",
       "2795659               None       0.011277        0.990510          0.5.0   \n",
       "1944157               None       0.006602        0.995982          0.5.0   \n",
       "1994590               None       0.009221        0.993732          0.5.0   \n",
       "1936260               None       0.008304        0.993848          0.5.0   \n",
       "1979222               None       0.008956        0.994174          0.5.0   \n",
       "1935124               None       0.005957        0.995521          0.5.0   \n",
       "1958734               None       0.006832        0.995397          0.5.0   \n",
       "1874345               None       0.009404        0.993444          0.5.0   \n",
       "\n",
       "         user_is_bot  user_is_trusted user_edit_count page_rev_count  \\\n",
       "2001226         True             True         6511163              1   \n",
       "1945651         True             True         6496670              1   \n",
       "2795659         True             True         6514130              3   \n",
       "1944157         True             True         6496225              1   \n",
       "1994590         True             True         6509360              1   \n",
       "1936260         True             True         6493720              1   \n",
       "1979222         True             True         6504641              1   \n",
       "1935124         True             True         6493496              1   \n",
       "1958734         True             True         6500121              1   \n",
       "1874345         True             True         6484471              1   \n",
       "\n",
       "        page_namespace is_page_redirect  \n",
       "2001226              2                0  \n",
       "1945651              2                0  \n",
       "2795659              0                0  \n",
       "1944157              2                0  \n",
       "1994590              2                0  \n",
       "1936260              2                0  \n",
       "1979222              2                0  \n",
       "1935124              2                0  \n",
       "1958734              2                0  \n",
       "1874345              2                0  \n",
       "\n",
       "[10 rows x 29 columns]"
      ]
     },
     "execution_count": 10,
     "metadata": {},
     "output_type": "execute_result"
    }
   ],
   "source": [
    "# sample a subset of the data for futher analysis\n",
    "# e.g. https://en.wikipedia.org/w/index.php?diff=879519093\n",
    "bdf[bdf.user_text == 'Cydebot'].sample(n=10)"
   ]
  },
  {
   "cell_type": "code",
   "execution_count": null,
   "id": "necessary-treatment",
   "metadata": {},
   "outputs": [],
   "source": []
  },
  {
   "cell_type": "code",
   "execution_count": null,
   "id": "honey-bench",
   "metadata": {},
   "outputs": [],
   "source": []
  },
  {
   "cell_type": "code",
   "execution_count": null,
   "id": "romance-victory",
   "metadata": {},
   "outputs": [],
   "source": []
  }
 ],
 "metadata": {
  "kernelspec": {
   "display_name": "Flagon Python3",
   "language": "python",
   "name": "flagon-conda-env"
  },
  "language_info": {
   "codemirror_mode": {
    "name": "ipython",
    "version": 3
   },
   "file_extension": ".py",
   "mimetype": "text/x-python",
   "name": "python",
   "nbconvert_exporter": "python",
   "pygments_lexer": "ipython3",
   "version": "3.7.10"
  }
 },
 "nbformat": 4,
 "nbformat_minor": 5
}
