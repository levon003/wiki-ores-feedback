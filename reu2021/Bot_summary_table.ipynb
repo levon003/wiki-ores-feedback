{
 "cells": [
  {
   "cell_type": "code",
   "execution_count": 1,
   "metadata": {},
   "outputs": [],
   "source": [
    "# passive reverts = times when bot was reverted by someone else\n",
    "# active reverts = times when bot reverts someone else"
   ]
  },
  {
   "cell_type": "code",
   "execution_count": 2,
   "metadata": {},
   "outputs": [],
   "source": [
    "%reload_ext autoreload\n",
    "%autoreload 2\n",
    "%matplotlib inline"
   ]
  },
  {
   "cell_type": "code",
   "execution_count": 3,
   "metadata": {},
   "outputs": [],
   "source": [
    "import numpy as np\n",
    "import pandas as pd\n",
    "import matplotlib.pyplot as plt\n",
    "\n",
    "from datetime import datetime"
   ]
  },
  {
   "cell_type": "code",
   "execution_count": 4,
   "metadata": {},
   "outputs": [],
   "source": [
    "df = pd.read_csv('revs_scored_jan.tsv', sep='\\t', header=0)"
   ]
  },
  {
   "cell_type": "code",
   "execution_count": 5,
   "metadata": {},
   "outputs": [],
   "source": [
    "days = df.rev_timestamp.map(lambda ts: datetime.utcfromtimestamp(ts).day)\n",
    "df['day'] = days"
   ]
  },
  {
   "cell_type": "code",
   "execution_count": 6,
   "metadata": {},
   "outputs": [],
   "source": [
    "df_bots = df[df.day<22]\n",
    "df_bots = df_bots[df_bots.user_is_bot]\n",
    "\n",
    "df_bot_passive_reverts = df_bots[df_bots.is_reverted]\n",
    "df_bot_passive_reverts = df_bot_passive_reverts[df_bot_passive_reverts.seconds_to_revert.astype('str').astype('int')<86400]\n",
    "df_bot_passive_reverts.revert_id = df_bot_passive_reverts.revert_id.astype('int')\n",
    "\n",
    "df_reverters = df[df.is_revert]"
   ]
  },
  {
   "cell_type": "code",
   "execution_count": 7,
   "metadata": {},
   "outputs": [],
   "source": [
    "# merging two datafraemes to create a table of nonhuman and human reverters that reverted a bot\n",
    "\n",
    "df_bot_passive_reverts = pd.merge(df_bot_passive_reverts, df_reverters, \n",
    "             how='inner', \n",
    "             left_on='revert_id', \n",
    "             right_on='rev_id', \n",
    "             suffixes=('', '_reverter')\n",
    ")"
   ]
  },
  {
   "cell_type": "code",
   "execution_count": 8,
   "metadata": {},
   "outputs": [],
   "source": [
    "df_bot_passive_reverts = df_bot_passive_reverts[['rev_id','user_text','revert_id','user_text_reverter', 'is_self_revert_reverter','user_is_bot_reverter', 'page_namespace','day']]"
   ]
  },
  {
   "cell_type": "code",
   "execution_count": 9,
   "metadata": {},
   "outputs": [],
   "source": [
    "df_bot_active_reverts = df_bots[df_bots.is_revert]\n",
    "\n",
    "df_reverted = df[df.is_reverted]\n",
    "df_reverted = df_reverted[df_reverted.seconds_to_revert.astype('str').astype('int')<86400]\n",
    "df_reverted.revert_id = df_reverted.revert_id.astype('int')"
   ]
  },
  {
   "cell_type": "code",
   "execution_count": 10,
   "metadata": {},
   "outputs": [],
   "source": [
    "# merging two dataframes to create list of bot active reverts with reverted edit info\n",
    "\n",
    "df_bot_active_reverts = pd.merge(df_reverted, df_bot_active_reverts, \n",
    "             how='inner', \n",
    "             left_on='revert_id', \n",
    "             right_on='rev_id', \n",
    "             suffixes=('', '_reverter')\n",
    ")"
   ]
  },
  {
   "cell_type": "code",
   "execution_count": 11,
   "metadata": {},
   "outputs": [],
   "source": [
    "df_bot_active_reverts = df_bot_active_reverts[['rev_id','user_text', 'user_is_bot','revert_id','user_text_reverter', 'is_self_revert_reverter', 'page_namespace','day']]"
   ]
  },
  {
   "cell_type": "code",
   "execution_count": 12,
   "metadata": {},
   "outputs": [],
   "source": [
    "# current variable summary:\n",
    "#   df_bots = all edits made by bots\n",
    "#   df_reverters = all reverting edits in dataset\n",
    "#   df_bot_passive_reverts = all revisions by bots which were reverted (by humans or bots), with reverting user info merged\n",
    "#   df_reverted = all revisions that were reverted\n",
    "#   df_bot_active_reverts = all active reverts by bots of humans and bots"
   ]
  },
  {
   "cell_type": "code",
   "execution_count": 13,
   "metadata": {},
   "outputs": [],
   "source": [
    "# creating table and making total edits column\n",
    "\n",
    "bot_summary = df_bots.groupby(\"user_text\", as_index = False).count()\n",
    "bot_summary = bot_summary[['user_text','rev_id']]\n",
    "bot_summary = bot_summary.rename(columns = {'rev_id': 'total_edits'})"
   ]
  },
  {
   "cell_type": "code",
   "execution_count": 14,
   "metadata": {},
   "outputs": [],
   "source": [
    "# add passive_reverts column \n",
    "\n",
    "new_col = df_bot_passive_reverts.groupby(\"user_text\", as_index = False).count()[[\"user_text\",\"rev_id\"]]\n",
    "new_col = new_col.rename(columns = {\"rev_id\": \"passive_reverts\"})"
   ]
  },
  {
   "cell_type": "code",
   "execution_count": 15,
   "metadata": {},
   "outputs": [],
   "source": [
    "bot_summary = pd.merge(bot_summary, new_col, \n",
    "             how='outer', \n",
    "             left_on='user_text', \n",
    "             right_on='user_text', \n",
    "             suffixes=('', '')\n",
    ")"
   ]
  },
  {
   "cell_type": "code",
   "execution_count": 16,
   "metadata": {},
   "outputs": [],
   "source": [
    "bot_summary['passive_reverts'] = bot_summary['passive_reverts'].fillna(0)\n",
    "bot_summary['passive_reverts'] = bot_summary['passive_reverts'].astype(int)"
   ]
  },
  {
   "cell_type": "code",
   "execution_count": 17,
   "metadata": {},
   "outputs": [],
   "source": [
    "# add active_reverts column \n",
    "\n",
    "new_col = df_bot_active_reverts.groupby([\"user_text_reverter\",\"revert_id\"], as_index = False).count()\n",
    "new_col = new_col.groupby(\"user_text_reverter\", as_index = False).count()[[\"user_text_reverter\",\"rev_id\"]]\n",
    "new_col = new_col.rename(columns = {\"rev_id\": \"active_reverts\"})"
   ]
  },
  {
   "cell_type": "code",
   "execution_count": 18,
   "metadata": {},
   "outputs": [],
   "source": [
    "bot_summary = pd.merge(bot_summary, new_col, \n",
    "             how='outer', \n",
    "             left_on='user_text', \n",
    "             right_on='user_text_reverter', \n",
    "             suffixes=('', '')\n",
    ")"
   ]
  },
  {
   "cell_type": "code",
   "execution_count": 19,
   "metadata": {},
   "outputs": [],
   "source": [
    "del bot_summary[\"user_text_reverter\"]\n",
    "bot_summary['active_reverts'] = bot_summary['active_reverts'].fillna(0)\n",
    "bot_summary['active_reverts'] = bot_summary['active_reverts'].astype(int)"
   ]
  },
  {
   "cell_type": "code",
   "execution_count": 20,
   "metadata": {},
   "outputs": [],
   "source": [
    "# add human_active_reverts column \n",
    "\n",
    "new_col = df_bot_active_reverts[df_bot_active_reverts.user_is_bot == False].groupby([\"user_text_reverter\",\"revert_id\"], as_index = False).count()\n",
    "new_col = new_col.groupby(\"user_text_reverter\", as_index = False).count()[[\"user_text_reverter\",\"rev_id\"]]\n",
    "new_col = new_col.rename(columns = {\"rev_id\": \"human_active_reverts\"})"
   ]
  },
  {
   "cell_type": "code",
   "execution_count": 21,
   "metadata": {},
   "outputs": [],
   "source": [
    "bot_summary = pd.merge(bot_summary, new_col, \n",
    "             how='outer', \n",
    "             left_on='user_text', \n",
    "             right_on='user_text_reverter', \n",
    "             suffixes=('', '')\n",
    ")"
   ]
  },
  {
   "cell_type": "code",
   "execution_count": 22,
   "metadata": {},
   "outputs": [],
   "source": [
    "del bot_summary[\"user_text_reverter\"]\n",
    "bot_summary['human_active_reverts'] = bot_summary['human_active_reverts'].fillna(0)\n",
    "bot_summary['human_active_reverts'] = bot_summary['human_active_reverts'].astype(int)"
   ]
  },
  {
   "cell_type": "code",
   "execution_count": 23,
   "metadata": {},
   "outputs": [],
   "source": [
    "# add self_reverts column \n",
    "\n",
    "new_col = df_bot_active_reverts[df_bot_active_reverts.user_text == df_bot_active_reverts.user_text_reverter].groupby([\"user_text_reverter\",\"revert_id\"], as_index = False).count()\n",
    "new_col = new_col.groupby(\"user_text_reverter\", as_index = False).count()[[\"user_text_reverter\",\"rev_id\"]]\n",
    "new_col = new_col.rename(columns = {\"rev_id\": \"self_reverts\"})"
   ]
  },
  {
   "cell_type": "code",
   "execution_count": 24,
   "metadata": {},
   "outputs": [],
   "source": [
    "bot_summary = pd.merge(bot_summary, new_col, \n",
    "             how='outer', \n",
    "             left_on='user_text', \n",
    "             right_on='user_text_reverter', \n",
    "             suffixes=('', '')\n",
    ")"
   ]
  },
  {
   "cell_type": "code",
   "execution_count": 25,
   "metadata": {},
   "outputs": [],
   "source": [
    "del bot_summary['user_text_reverter']\n",
    "bot_summary['self_reverts'] = bot_summary['self_reverts'].fillna(0)\n",
    "bot_summary['self_reverts'] = bot_summary['self_reverts'].astype(int)"
   ]
  },
  {
   "cell_type": "code",
   "execution_count": 26,
   "metadata": {
    "tags": []
   },
   "outputs": [],
   "source": [
    "# add bot_active_reverts column - will not include self-reverts\n",
    "\n",
    "new_col = df_bot_active_reverts[df_bot_active_reverts.user_is_bot == True]\n",
    "new_col = new_col[new_col.user_text != new_col.user_text_reverter]\n",
    "\n",
    "new_col = new_col.groupby([\"user_text_reverter\",\"revert_id\"], as_index = False).count()\n",
    "new_col = new_col.groupby(\"user_text_reverter\", as_index = False).count()[[\"user_text_reverter\",\"rev_id\"]]\n",
    "new_col = new_col.rename(columns = {\"rev_id\": \"bot_active_reverts\"})"
   ]
  },
  {
   "cell_type": "code",
   "execution_count": 27,
   "metadata": {},
   "outputs": [],
   "source": [
    "bot_summary = pd.merge(bot_summary, new_col, \n",
    "             how='outer', \n",
    "             left_on='user_text', \n",
    "             right_on='user_text_reverter', \n",
    "             suffixes=('', '')\n",
    ")"
   ]
  },
  {
   "cell_type": "code",
   "execution_count": 28,
   "metadata": {},
   "outputs": [],
   "source": [
    "del bot_summary['user_text_reverter']\n",
    "bot_summary['bot_active_reverts'] = bot_summary['bot_active_reverts'].fillna(0)\n",
    "bot_summary['bot_active_reverts'] = bot_summary['bot_active_reverts'].astype(int)"
   ]
  },
  {
   "cell_type": "markdown",
   "metadata": {},
   "source": [
    "### active_reverts column could be less than sum of other active revert columns because bot may revert multiple users / types of users with one revert"
   ]
  },
  {
   "cell_type": "code",
   "execution_count": 29,
   "metadata": {},
   "outputs": [],
   "source": [
    "# add human_passive_reverts column \n",
    "\n",
    "new_col = df_bot_passive_reverts[df_bot_passive_reverts.user_is_bot_reverter == False]\n",
    "new_col = new_col.groupby(\"user_text\", as_index = False).count()[[\"user_text\",\"rev_id\"]]\n",
    "new_col = new_col.rename(columns = {\"rev_id\": \"human_passive_reverts\"})"
   ]
  },
  {
   "cell_type": "code",
   "execution_count": 30,
   "metadata": {},
   "outputs": [],
   "source": [
    "bot_summary = pd.merge(bot_summary, new_col, \n",
    "             how='outer', \n",
    "             left_on='user_text', \n",
    "             right_on='user_text', \n",
    "             suffixes=('', '')\n",
    ")"
   ]
  },
  {
   "cell_type": "code",
   "execution_count": 31,
   "metadata": {},
   "outputs": [],
   "source": [
    "bot_summary['human_passive_reverts'] = bot_summary['human_passive_reverts'].fillna(0)\n",
    "bot_summary['human_passive_reverts'] = bot_summary['human_passive_reverts'].astype(int)"
   ]
  },
  {
   "cell_type": "code",
   "execution_count": 32,
   "metadata": {},
   "outputs": [],
   "source": [
    "# add bot_passive_reverts column \n",
    "\n",
    "new_col = df_bot_passive_reverts[df_bot_passive_reverts.user_is_bot_reverter == True]\n",
    "new_col = new_col.groupby(\"user_text\", as_index = False).count()[[\"user_text\",\"rev_id\"]]\n",
    "new_col = new_col.rename(columns = {\"rev_id\": \"bot_passive_reverts\"})"
   ]
  },
  {
   "cell_type": "code",
   "execution_count": 33,
   "metadata": {},
   "outputs": [],
   "source": [
    "bot_summary = pd.merge(bot_summary, new_col, \n",
    "             how='outer', \n",
    "             left_on='user_text', \n",
    "             right_on='user_text', \n",
    "             suffixes=('', '')\n",
    ")"
   ]
  },
  {
   "cell_type": "code",
   "execution_count": 34,
   "metadata": {},
   "outputs": [],
   "source": [
    "bot_summary['bot_passive_reverts'] = bot_summary['bot_passive_reverts'].fillna(0)\n",
    "bot_summary['bot_passive_reverts'] = bot_summary['bot_passive_reverts'].astype(int)"
   ]
  },
  {
   "cell_type": "code",
   "execution_count": 35,
   "metadata": {},
   "outputs": [],
   "source": [
    "# re-order columns of table\n",
    "\n",
    "bot_summary = bot_summary[['user_text', 'total_edits', 'active_reverts', 'passive_reverts', 'self_reverts',\n",
    "       'human_active_reverts', 'bot_active_reverts', 'human_passive_reverts', 'bot_passive_reverts']]"
   ]
  },
  {
   "cell_type": "code",
   "execution_count": 36,
   "metadata": {},
   "outputs": [
    {
     "data": {
      "text/html": [
       "<div>\n",
       "<style scoped>\n",
       "    .dataframe tbody tr th:only-of-type {\n",
       "        vertical-align: middle;\n",
       "    }\n",
       "\n",
       "    .dataframe tbody tr th {\n",
       "        vertical-align: top;\n",
       "    }\n",
       "\n",
       "    .dataframe thead th {\n",
       "        text-align: right;\n",
       "    }\n",
       "</style>\n",
       "<table border=\"1\" class=\"dataframe\">\n",
       "  <thead>\n",
       "    <tr style=\"text-align: right;\">\n",
       "      <th></th>\n",
       "      <th>user_text</th>\n",
       "      <th>total_edits</th>\n",
       "      <th>active_reverts</th>\n",
       "      <th>passive_reverts</th>\n",
       "      <th>self_reverts</th>\n",
       "      <th>human_active_reverts</th>\n",
       "      <th>bot_active_reverts</th>\n",
       "      <th>human_passive_reverts</th>\n",
       "      <th>bot_passive_reverts</th>\n",
       "    </tr>\n",
       "  </thead>\n",
       "  <tbody>\n",
       "    <tr>\n",
       "      <th>0</th>\n",
       "      <td>AAlertBot</td>\n",
       "      <td>12216</td>\n",
       "      <td>4</td>\n",
       "      <td>4</td>\n",
       "      <td>4</td>\n",
       "      <td>0</td>\n",
       "      <td>0</td>\n",
       "      <td>0</td>\n",
       "      <td>4</td>\n",
       "    </tr>\n",
       "    <tr>\n",
       "      <th>1</th>\n",
       "      <td>Acebot</td>\n",
       "      <td>562</td>\n",
       "      <td>14</td>\n",
       "      <td>20</td>\n",
       "      <td>14</td>\n",
       "      <td>0</td>\n",
       "      <td>0</td>\n",
       "      <td>0</td>\n",
       "      <td>20</td>\n",
       "    </tr>\n",
       "    <tr>\n",
       "      <th>2</th>\n",
       "      <td>Amalthea (bot)</td>\n",
       "      <td>1202</td>\n",
       "      <td>9</td>\n",
       "      <td>12</td>\n",
       "      <td>9</td>\n",
       "      <td>0</td>\n",
       "      <td>0</td>\n",
       "      <td>0</td>\n",
       "      <td>12</td>\n",
       "    </tr>\n",
       "    <tr>\n",
       "      <th>3</th>\n",
       "      <td>AnomieBOT</td>\n",
       "      <td>21646</td>\n",
       "      <td>44</td>\n",
       "      <td>253</td>\n",
       "      <td>13</td>\n",
       "      <td>32</td>\n",
       "      <td>0</td>\n",
       "      <td>232</td>\n",
       "      <td>21</td>\n",
       "    </tr>\n",
       "    <tr>\n",
       "      <th>4</th>\n",
       "      <td>AnomieBOT II</td>\n",
       "      <td>21</td>\n",
       "      <td>0</td>\n",
       "      <td>0</td>\n",
       "      <td>0</td>\n",
       "      <td>0</td>\n",
       "      <td>0</td>\n",
       "      <td>0</td>\n",
       "      <td>0</td>\n",
       "    </tr>\n",
       "    <tr>\n",
       "      <th>...</th>\n",
       "      <td>...</td>\n",
       "      <td>...</td>\n",
       "      <td>...</td>\n",
       "      <td>...</td>\n",
       "      <td>...</td>\n",
       "      <td>...</td>\n",
       "      <td>...</td>\n",
       "      <td>...</td>\n",
       "      <td>...</td>\n",
       "    </tr>\n",
       "    <tr>\n",
       "      <th>99</th>\n",
       "      <td>Wiki Feed Bot</td>\n",
       "      <td>63</td>\n",
       "      <td>0</td>\n",
       "      <td>0</td>\n",
       "      <td>0</td>\n",
       "      <td>0</td>\n",
       "      <td>0</td>\n",
       "      <td>0</td>\n",
       "      <td>0</td>\n",
       "    </tr>\n",
       "    <tr>\n",
       "      <th>100</th>\n",
       "      <td>WoodwardBot</td>\n",
       "      <td>61</td>\n",
       "      <td>0</td>\n",
       "      <td>0</td>\n",
       "      <td>0</td>\n",
       "      <td>0</td>\n",
       "      <td>0</td>\n",
       "      <td>0</td>\n",
       "      <td>0</td>\n",
       "    </tr>\n",
       "    <tr>\n",
       "      <th>101</th>\n",
       "      <td>WugBot</td>\n",
       "      <td>322</td>\n",
       "      <td>1</td>\n",
       "      <td>0</td>\n",
       "      <td>0</td>\n",
       "      <td>1</td>\n",
       "      <td>0</td>\n",
       "      <td>0</td>\n",
       "      <td>0</td>\n",
       "    </tr>\n",
       "    <tr>\n",
       "      <th>102</th>\n",
       "      <td>Xqbot</td>\n",
       "      <td>2</td>\n",
       "      <td>0</td>\n",
       "      <td>0</td>\n",
       "      <td>0</td>\n",
       "      <td>0</td>\n",
       "      <td>0</td>\n",
       "      <td>0</td>\n",
       "      <td>0</td>\n",
       "    </tr>\n",
       "    <tr>\n",
       "      <th>103</th>\n",
       "      <td>YiFeiBot</td>\n",
       "      <td>78</td>\n",
       "      <td>0</td>\n",
       "      <td>1</td>\n",
       "      <td>0</td>\n",
       "      <td>0</td>\n",
       "      <td>0</td>\n",
       "      <td>1</td>\n",
       "      <td>0</td>\n",
       "    </tr>\n",
       "  </tbody>\n",
       "</table>\n",
       "<p>104 rows × 9 columns</p>\n",
       "</div>"
      ],
      "text/plain": [
       "          user_text  total_edits  active_reverts  passive_reverts  \\\n",
       "0         AAlertBot        12216               4                4   \n",
       "1            Acebot          562              14               20   \n",
       "2    Amalthea (bot)         1202               9               12   \n",
       "3         AnomieBOT        21646              44              253   \n",
       "4      AnomieBOT II           21               0                0   \n",
       "..              ...          ...             ...              ...   \n",
       "99    Wiki Feed Bot           63               0                0   \n",
       "100     WoodwardBot           61               0                0   \n",
       "101          WugBot          322               1                0   \n",
       "102           Xqbot            2               0                0   \n",
       "103        YiFeiBot           78               0                1   \n",
       "\n",
       "     self_reverts  human_active_reverts  bot_active_reverts  \\\n",
       "0               4                     0                   0   \n",
       "1              14                     0                   0   \n",
       "2               9                     0                   0   \n",
       "3              13                    32                   0   \n",
       "4               0                     0                   0   \n",
       "..            ...                   ...                 ...   \n",
       "99              0                     0                   0   \n",
       "100             0                     0                   0   \n",
       "101             0                     1                   0   \n",
       "102             0                     0                   0   \n",
       "103             0                     0                   0   \n",
       "\n",
       "     human_passive_reverts  bot_passive_reverts  \n",
       "0                        0                    4  \n",
       "1                        0                   20  \n",
       "2                        0                   12  \n",
       "3                      232                   21  \n",
       "4                        0                    0  \n",
       "..                     ...                  ...  \n",
       "99                       0                    0  \n",
       "100                      0                    0  \n",
       "101                      0                    0  \n",
       "102                      0                    0  \n",
       "103                      1                    0  \n",
       "\n",
       "[104 rows x 9 columns]"
      ]
     },
     "execution_count": 36,
     "metadata": {},
     "output_type": "execute_result"
    }
   ],
   "source": [
    "bot_summary"
   ]
  },
  {
   "cell_type": "code",
   "execution_count": 37,
   "metadata": {},
   "outputs": [
    {
     "data": {
      "text/html": [
       "<div>\n",
       "<style scoped>\n",
       "    .dataframe tbody tr th:only-of-type {\n",
       "        vertical-align: middle;\n",
       "    }\n",
       "\n",
       "    .dataframe tbody tr th {\n",
       "        vertical-align: top;\n",
       "    }\n",
       "\n",
       "    .dataframe thead th {\n",
       "        text-align: right;\n",
       "    }\n",
       "</style>\n",
       "<table border=\"1\" class=\"dataframe\">\n",
       "  <thead>\n",
       "    <tr style=\"text-align: right;\">\n",
       "      <th></th>\n",
       "      <th>user_text</th>\n",
       "      <th>total_edits</th>\n",
       "      <th>active_reverts</th>\n",
       "      <th>passive_reverts</th>\n",
       "      <th>self_reverts</th>\n",
       "      <th>human_active_reverts</th>\n",
       "      <th>bot_active_reverts</th>\n",
       "      <th>human_passive_reverts</th>\n",
       "      <th>bot_passive_reverts</th>\n",
       "    </tr>\n",
       "  </thead>\n",
       "  <tbody>\n",
       "    <tr>\n",
       "      <th>6</th>\n",
       "      <td>AvicBot</td>\n",
       "      <td>5876</td>\n",
       "      <td>229</td>\n",
       "      <td>532</td>\n",
       "      <td>229</td>\n",
       "      <td>0</td>\n",
       "      <td>0</td>\n",
       "      <td>0</td>\n",
       "      <td>532</td>\n",
       "    </tr>\n",
       "  </tbody>\n",
       "</table>\n",
       "</div>"
      ],
      "text/plain": [
       "  user_text  total_edits  active_reverts  passive_reverts  self_reverts  \\\n",
       "6   AvicBot         5876             229              532           229   \n",
       "\n",
       "   human_active_reverts  bot_active_reverts  human_passive_reverts  \\\n",
       "6                     0                   0                      0   \n",
       "\n",
       "   bot_passive_reverts  \n",
       "6                  532  "
      ]
     },
     "execution_count": 37,
     "metadata": {},
     "output_type": "execute_result"
    }
   ],
   "source": [
    "bot_summary[bot_summary.user_text == \"AvicBot\"]"
   ]
  },
  {
   "cell_type": "code",
   "execution_count": 38,
   "metadata": {},
   "outputs": [
    {
     "data": {
      "text/html": [
       "<div>\n",
       "<style scoped>\n",
       "    .dataframe tbody tr th:only-of-type {\n",
       "        vertical-align: middle;\n",
       "    }\n",
       "\n",
       "    .dataframe tbody tr th {\n",
       "        vertical-align: top;\n",
       "    }\n",
       "\n",
       "    .dataframe thead th {\n",
       "        text-align: right;\n",
       "    }\n",
       "</style>\n",
       "<table border=\"1\" class=\"dataframe\">\n",
       "  <thead>\n",
       "    <tr style=\"text-align: right;\">\n",
       "      <th></th>\n",
       "      <th>user_text</th>\n",
       "      <th>total_edits</th>\n",
       "      <th>active_reverts</th>\n",
       "      <th>passive_reverts</th>\n",
       "      <th>self_reverts</th>\n",
       "      <th>human_active_reverts</th>\n",
       "      <th>bot_active_reverts</th>\n",
       "      <th>human_passive_reverts</th>\n",
       "      <th>bot_passive_reverts</th>\n",
       "    </tr>\n",
       "  </thead>\n",
       "  <tbody>\n",
       "    <tr>\n",
       "      <th>3</th>\n",
       "      <td>AnomieBOT</td>\n",
       "      <td>21646</td>\n",
       "      <td>44</td>\n",
       "      <td>253</td>\n",
       "      <td>13</td>\n",
       "      <td>32</td>\n",
       "      <td>0</td>\n",
       "      <td>232</td>\n",
       "      <td>21</td>\n",
       "    </tr>\n",
       "  </tbody>\n",
       "</table>\n",
       "</div>"
      ],
      "text/plain": [
       "   user_text  total_edits  active_reverts  passive_reverts  self_reverts  \\\n",
       "3  AnomieBOT        21646              44              253            13   \n",
       "\n",
       "   human_active_reverts  bot_active_reverts  human_passive_reverts  \\\n",
       "3                    32                   0                    232   \n",
       "\n",
       "   bot_passive_reverts  \n",
       "3                   21  "
      ]
     },
     "execution_count": 38,
     "metadata": {},
     "output_type": "execute_result"
    }
   ],
   "source": [
    "bot_summary[bot_summary.user_text == \"AnomieBOT\"]"
   ]
  },
  {
   "cell_type": "code",
   "execution_count": 45,
   "metadata": {},
   "outputs": [
    {
     "data": {
      "text/html": [
       "<div>\n",
       "<style scoped>\n",
       "    .dataframe tbody tr th:only-of-type {\n",
       "        vertical-align: middle;\n",
       "    }\n",
       "\n",
       "    .dataframe tbody tr th {\n",
       "        vertical-align: top;\n",
       "    }\n",
       "\n",
       "    .dataframe thead th {\n",
       "        text-align: right;\n",
       "    }\n",
       "</style>\n",
       "<table border=\"1\" class=\"dataframe\">\n",
       "  <thead>\n",
       "    <tr style=\"text-align: right;\">\n",
       "      <th></th>\n",
       "      <th>user_text</th>\n",
       "      <th>total_edits</th>\n",
       "      <th>active_reverts</th>\n",
       "      <th>passive_reverts</th>\n",
       "      <th>self_reverts</th>\n",
       "      <th>human_active_reverts</th>\n",
       "      <th>bot_active_reverts</th>\n",
       "      <th>human_passive_reverts</th>\n",
       "      <th>bot_passive_reverts</th>\n",
       "    </tr>\n",
       "  </thead>\n",
       "  <tbody>\n",
       "    <tr>\n",
       "      <th>22</th>\n",
       "      <td>Cyberbot I</td>\n",
       "      <td>7824</td>\n",
       "      <td>1108</td>\n",
       "      <td>1030</td>\n",
       "      <td>911</td>\n",
       "      <td>196</td>\n",
       "      <td>51</td>\n",
       "      <td>26</td>\n",
       "      <td>1004</td>\n",
       "    </tr>\n",
       "  </tbody>\n",
       "</table>\n",
       "</div>"
      ],
      "text/plain": [
       "     user_text  total_edits  active_reverts  passive_reverts  self_reverts  \\\n",
       "22  Cyberbot I         7824            1108             1030           911   \n",
       "\n",
       "    human_active_reverts  bot_active_reverts  human_passive_reverts  \\\n",
       "22                   196                  51                     26   \n",
       "\n",
       "    bot_passive_reverts  \n",
       "22                 1004  "
      ]
     },
     "execution_count": 45,
     "metadata": {},
     "output_type": "execute_result"
    }
   ],
   "source": [
    "bot_summary[bot_summary.user_text == \"Cyberbot I\"]"
   ]
  },
  {
   "cell_type": "code",
   "execution_count": 40,
   "metadata": {},
   "outputs": [
    {
     "data": {
      "text/html": [
       "<div>\n",
       "<style scoped>\n",
       "    .dataframe tbody tr th:only-of-type {\n",
       "        vertical-align: middle;\n",
       "    }\n",
       "\n",
       "    .dataframe tbody tr th {\n",
       "        vertical-align: top;\n",
       "    }\n",
       "\n",
       "    .dataframe thead th {\n",
       "        text-align: right;\n",
       "    }\n",
       "</style>\n",
       "<table border=\"1\" class=\"dataframe\">\n",
       "  <thead>\n",
       "    <tr style=\"text-align: right;\">\n",
       "      <th></th>\n",
       "      <th>user_text</th>\n",
       "      <th>total_edits</th>\n",
       "      <th>active_reverts</th>\n",
       "      <th>passive_reverts</th>\n",
       "      <th>self_reverts</th>\n",
       "      <th>human_active_reverts</th>\n",
       "      <th>bot_active_reverts</th>\n",
       "      <th>human_passive_reverts</th>\n",
       "      <th>bot_passive_reverts</th>\n",
       "    </tr>\n",
       "  </thead>\n",
       "  <tbody>\n",
       "    <tr>\n",
       "      <th>82</th>\n",
       "      <td>RonBot</td>\n",
       "      <td>9066</td>\n",
       "      <td>5</td>\n",
       "      <td>687</td>\n",
       "      <td>2</td>\n",
       "      <td>3</td>\n",
       "      <td>0</td>\n",
       "      <td>685</td>\n",
       "      <td>2</td>\n",
       "    </tr>\n",
       "  </tbody>\n",
       "</table>\n",
       "</div>"
      ],
      "text/plain": [
       "   user_text  total_edits  active_reverts  passive_reverts  self_reverts  \\\n",
       "82    RonBot         9066               5              687             2   \n",
       "\n",
       "    human_active_reverts  bot_active_reverts  human_passive_reverts  \\\n",
       "82                     3                   0                    685   \n",
       "\n",
       "    bot_passive_reverts  \n",
       "82                    2  "
      ]
     },
     "execution_count": 40,
     "metadata": {},
     "output_type": "execute_result"
    }
   ],
   "source": [
    "bot_summary[bot_summary.user_text == \"RonBot\"]"
   ]
  },
  {
   "cell_type": "code",
   "execution_count": null,
   "metadata": {},
   "outputs": [],
   "source": []
  },
  {
   "cell_type": "code",
   "execution_count": null,
   "metadata": {},
   "outputs": [],
   "source": []
  },
  {
   "cell_type": "code",
   "execution_count": null,
   "metadata": {},
   "outputs": [],
   "source": []
  },
  {
   "cell_type": "code",
   "execution_count": null,
   "metadata": {},
   "outputs": [],
   "source": []
  },
  {
   "cell_type": "code",
   "execution_count": null,
   "metadata": {},
   "outputs": [],
   "source": []
  },
  {
   "cell_type": "code",
   "execution_count": null,
   "metadata": {},
   "outputs": [],
   "source": []
  },
  {
   "cell_type": "code",
   "execution_count": null,
   "metadata": {},
   "outputs": [],
   "source": []
  }
 ],
 "metadata": {
  "kernelspec": {
   "display_name": "Python 3",
   "language": "python",
   "name": "python3"
  },
  "language_info": {
   "codemirror_mode": {
    "name": "ipython",
    "version": 3
   },
   "file_extension": ".py",
   "mimetype": "text/x-python",
   "name": "python",
   "nbconvert_exporter": "python",
   "pygments_lexer": "ipython3",
   "version": "3.8.5"
  }
 },
 "nbformat": 4,
 "nbformat_minor": 4
}
