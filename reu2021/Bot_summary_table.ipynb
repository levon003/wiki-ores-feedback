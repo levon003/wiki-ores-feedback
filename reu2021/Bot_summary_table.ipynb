{
 "cells": [
  {
   "cell_type": "code",
   "execution_count": 1,
   "metadata": {},
   "outputs": [],
   "source": [
    "%reload_ext autoreload\n",
    "%autoreload 2\n",
    "%matplotlib inline"
   ]
  },
  {
   "cell_type": "code",
   "execution_count": 2,
   "metadata": {},
   "outputs": [],
   "source": [
    "import numpy as np\n",
    "import pandas as pd\n",
    "import matplotlib.pyplot as plt\n",
    "\n",
    "from datetime import datetime"
   ]
  },
  {
   "cell_type": "code",
   "execution_count": 3,
   "metadata": {},
   "outputs": [],
   "source": [
    "df = pd.read_csv('revs_scored_jan.tsv', sep='\\t', header=0)"
   ]
  },
  {
   "cell_type": "code",
   "execution_count": 4,
   "metadata": {},
   "outputs": [],
   "source": [
    "days = df.rev_timestamp.map(lambda ts: datetime.utcfromtimestamp(ts).day)\n",
    "df['day'] = days"
   ]
  },
  {
   "cell_type": "code",
   "execution_count": 6,
   "metadata": {},
   "outputs": [],
   "source": [
    "df_bots = df[df.day<22]\n",
    "df_bots = df_bots[df_bots.user_is_bot]\n",
    "\n",
    "df_reverted_bots = df_bots[df_bots.is_reverted]\n",
    "df_reverted_bots = df_reverted_bots[df_reverted_bots.seconds_to_revert.astype('str').astype('int')<86400]\n",
    "df_reverted_bots.revert_id = df_reverted_bots.revert_id.astype('int')\n",
    "\n",
    "df_reverters = df[df.is_revert]"
   ]
  },
  {
   "cell_type": "code",
   "execution_count": 7,
   "metadata": {},
   "outputs": [],
   "source": [
    "# merging two datafraemes to create a table of nonhuman and human reverters that reverted a bot\n",
    "\n",
    "df_reverted_bots = pd.merge(df_reverted_bots, df_reverters, \n",
    "             how='inner', \n",
    "             left_on='revert_id', \n",
    "             right_on='rev_id', \n",
    "             suffixes=('', '_reverter')\n",
    ")"
   ]
  },
  {
   "cell_type": "code",
   "execution_count": 10,
   "metadata": {},
   "outputs": [],
   "source": [
    "df_reverted_bots = df_reverted_bots[['rev_id','user_text','revert_id','user_text_reverter', 'is_self_revert_reverter','user_is_bot_reverter', 'page_namespace','day']]\n",
    "df_reverted_bots = df_reverted_bots.rename(columns={'is_self_revert_reverter': 'self_reverted', 'user_is_bot_reverter': 'reverter_is_bot'})"
   ]
  },
  {
   "cell_type": "code",
   "execution_count": 9,
   "metadata": {},
   "outputs": [],
   "source": [
    "# current variable summary:\n",
    "#   df_bots = all edits made by bots\n",
    "#   df_reverters = all reverting edits in dataset\n",
    "#   df_reverted_bots = all revisions by bots which were reverted (by humans or bots), with reverting user info merged"
   ]
  },
  {
   "cell_type": "code",
   "execution_count": null,
   "metadata": {},
   "outputs": [],
   "source": []
  }
 ],
 "metadata": {
  "kernelspec": {
   "display_name": "Python 3",
   "language": "python",
   "name": "python3"
  },
  "language_info": {
   "codemirror_mode": {
    "name": "ipython",
    "version": 3
   },
   "file_extension": ".py",
   "mimetype": "text/x-python",
   "name": "python",
   "nbconvert_exporter": "python",
   "pygments_lexer": "ipython3",
   "version": "3.8.5"
  }
 },
 "nbformat": 4,
 "nbformat_minor": 4
}
