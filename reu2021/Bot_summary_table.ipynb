{
 "cells": [
  {
   "cell_type": "code",
   "execution_count": 1,
   "metadata": {},
   "outputs": [],
   "source": [
    "# passive reverts = times when bot was reverted by someone else\n",
    "# active reverts = times when bot reverts someone else"
   ]
  },
  {
   "cell_type": "code",
   "execution_count": 2,
   "metadata": {},
   "outputs": [],
   "source": [
    "%reload_ext autoreload\n",
    "%autoreload 2\n",
    "%matplotlib inline"
   ]
  },
  {
   "cell_type": "code",
   "execution_count": 3,
   "metadata": {},
   "outputs": [],
   "source": [
    "import numpy as np\n",
    "import pandas as pd\n",
    "import matplotlib.pyplot as plt\n",
    "\n",
    "from datetime import datetime"
   ]
  },
  {
   "cell_type": "code",
   "execution_count": null,
   "metadata": {},
   "outputs": [],
   "source": [
    "df = pd.read_csv('revs_scored_jan.tsv', sep='\\t', header=0)"
   ]
  },
  {
   "cell_type": "code",
   "execution_count": null,
   "metadata": {},
   "outputs": [],
   "source": [
    "days = df.rev_timestamp.map(lambda ts: datetime.utcfromtimestamp(ts).day)\n",
    "df['day'] = days"
   ]
  },
  {
   "cell_type": "code",
   "execution_count": null,
   "metadata": {},
   "outputs": [],
   "source": [
    "df_bots = df[df.day<22]\n",
    "df_bots = df_bots[df_bots.user_is_bot]\n",
    "\n",
    "df_bot_passive_reverts = df_bots[df_bots.is_reverted]\n",
    "df_bot_passive_reverts = df_bot_passive_reverts[df_bot_passive_reverts.seconds_to_revert.astype('str').astype('int')<86400]\n",
    "df_bot_passive_reverts.revert_id = df_bot_passive_reverts.revert_id.astype('int')\n",
    "\n",
    "df_reverters = df[df.is_revert]"
   ]
  },
  {
   "cell_type": "code",
   "execution_count": null,
   "metadata": {},
   "outputs": [],
   "source": [
    "# merging two datafraemes to create a table of nonhuman and human reverters that reverted a bot\n",
    "\n",
    "df_bot_passive_reverts = pd.merge(df_bot_passive_reverts, df_reverters, \n",
    "             how='inner', \n",
    "             left_on='revert_id', \n",
    "             right_on='rev_id', \n",
    "             suffixes=('', '_reverter')\n",
    ")"
   ]
  },
  {
   "cell_type": "code",
   "execution_count": null,
   "metadata": {},
   "outputs": [],
   "source": [
    "df_bot_passive_reverts = df_bot_passive_reverts[['rev_id','user_text','revert_id','user_text_reverter', 'is_self_revert_reverter','user_is_bot_reverter', 'page_namespace','day']]"
   ]
  },
  {
   "cell_type": "code",
   "execution_count": null,
   "metadata": {},
   "outputs": [],
   "source": [
    "df_bot_active_reverts = df_bots[df_bots.is_revert]\n",
    "\n",
    "df_reverted = df[df.is_reverted]\n",
    "df_reverted = df_reverted[df_reverted.seconds_to_revert.astype('str').astype('int')<86400]\n",
    "df_reverted.revert_id = df_reverted.revert_id.astype('int')"
   ]
  },
  {
   "cell_type": "code",
   "execution_count": null,
   "metadata": {},
   "outputs": [],
   "source": [
    "# merging two dataframes to create list of bot active reverts with reverted edit info\n",
    "\n",
    "df_bot_active_reverts = pd.merge(df_reverted, df_bot_active_reverts, \n",
    "             how='inner', \n",
    "             left_on='revert_id', \n",
    "             right_on='rev_id', \n",
    "             suffixes=('', '_reverter')\n",
    ")"
   ]
  },
  {
   "cell_type": "code",
   "execution_count": null,
   "metadata": {},
   "outputs": [],
   "source": [
    "df_bot_active_reverts = df_bot_active_reverts[['rev_id','user_text', 'user_is_bot','revert_id','user_text_reverter', 'is_self_revert_reverter', 'page_namespace','day']]"
   ]
  },
  {
   "cell_type": "code",
   "execution_count": null,
   "metadata": {},
   "outputs": [],
   "source": [
    "# current variable summary:\n",
    "#   df_bots = all edits made by bots\n",
    "#   df_reverters = all reverting edits in dataset\n",
    "#   df_bot_passive_reverts = all revisions by bots which were reverted (by humans or bots), with reverting user info merged\n",
    "#   df_reverted = all revisions that were reverted\n",
    "#   df_bot_active_reverts = all active reverts by bots of humans and bots"
   ]
  },
  {
   "cell_type": "code",
   "execution_count": null,
   "metadata": {},
   "outputs": [],
   "source": [
    "# creating table and making total edits column\n",
    "\n",
    "bot_summary = df_bots.groupby(\"user_text\", as_index = False).count()\n",
    "bot_summary = bot_summary[['user_text','rev_id']]\n",
    "bot_summary = bot_summary.rename(columns = {'rev_id': 'total_edits'})"
   ]
  },
  {
   "cell_type": "code",
   "execution_count": null,
   "metadata": {},
   "outputs": [],
   "source": [
    "# add passive_reverts column \n",
    "\n",
    "new_col = df_bot_passive_reverts.groupby(\"user_text\", as_index = False).count()[[\"user_text\",\"rev_id\"]]\n",
    "new_col = new_col.rename(columns = {\"rev_id\": \"passive_reverts\"})"
   ]
  },
  {
   "cell_type": "code",
   "execution_count": null,
   "metadata": {},
   "outputs": [],
   "source": [
    "bot_summary = pd.merge(bot_summary, new_col, \n",
    "             how='outer', \n",
    "             left_on='user_text', \n",
    "             right_on='user_text', \n",
    "             suffixes=('', '')\n",
    ")"
   ]
  },
  {
   "cell_type": "code",
   "execution_count": null,
   "metadata": {},
   "outputs": [],
   "source": [
    "bot_summary['passive_reverts'] = bot_summary['passive_reverts'].fillna(0)\n",
    "bot_summary['passive_reverts'] = bot_summary['passive_reverts'].astype(int)"
   ]
  },
  {
   "cell_type": "code",
   "execution_count": null,
   "metadata": {},
   "outputs": [],
   "source": [
    "# add active_reverts column \n",
    "\n",
    "new_col = df_bot_active_reverts.groupby([\"user_text_reverter\",\"revert_id\"], as_index = False).count()\n",
    "new_col = new_col.groupby(\"user_text_reverter\", as_index = False).count()[[\"user_text_reverter\",\"rev_id\"]]\n",
    "new_col = new_col.rename(columns = {\"rev_id\": \"active_reverts\"})"
   ]
  },
  {
   "cell_type": "code",
   "execution_count": null,
   "metadata": {},
   "outputs": [],
   "source": [
    "bot_summary = pd.merge(bot_summary, new_col, \n",
    "             how='outer', \n",
    "             left_on='user_text', \n",
    "             right_on='user_text_reverter', \n",
    "             suffixes=('', '')\n",
    ")"
   ]
  },
  {
   "cell_type": "code",
   "execution_count": null,
   "metadata": {},
   "outputs": [],
   "source": [
    "del bot_summary[\"user_text_reverter\"]\n",
    "bot_summary['active_reverts'] = bot_summary['active_reverts'].fillna(0)\n",
    "bot_summary['active_reverts'] = bot_summary['active_reverts'].astype(int)"
   ]
  },
  {
   "cell_type": "code",
   "execution_count": null,
   "metadata": {},
   "outputs": [],
   "source": [
    "# add human_active_reverts column \n",
    "\n",
    "new_col = df_bot_active_reverts[df_bot_active_reverts.user_is_bot == False].groupby([\"user_text_reverter\",\"revert_id\"], as_index = False).count()\n",
    "new_col = new_col.groupby(\"user_text_reverter\", as_index = False).count()[[\"user_text_reverter\",\"rev_id\"]]\n",
    "new_col = new_col.rename(columns = {\"rev_id\": \"human_active_reverts\"})"
   ]
  },
  {
   "cell_type": "code",
   "execution_count": null,
   "metadata": {},
   "outputs": [],
   "source": [
    "bot_summary = pd.merge(bot_summary, new_col, \n",
    "             how='outer', \n",
    "             left_on='user_text', \n",
    "             right_on='user_text_reverter', \n",
    "             suffixes=('', '')\n",
    ")"
   ]
  },
  {
   "cell_type": "code",
   "execution_count": null,
   "metadata": {},
   "outputs": [],
   "source": [
    "del bot_summary[\"user_text_reverter\"]\n",
    "bot_summary['human_active_reverts'] = bot_summary['human_active_reverts'].fillna(0)\n",
    "bot_summary['human_active_reverts'] = bot_summary['human_active_reverts'].astype(int)"
   ]
  },
  {
   "cell_type": "code",
   "execution_count": null,
   "metadata": {},
   "outputs": [],
   "source": [
    "# add self_reverts column \n",
    "\n",
    "new_col = df_bot_active_reverts[df_bot_active_reverts.user_text == df_bot_active_reverts.user_text_reverter].groupby([\"user_text_reverter\",\"revert_id\"], as_index = False).count()\n",
    "new_col = new_col.groupby(\"user_text_reverter\", as_index = False).count()[[\"user_text_reverter\",\"rev_id\"]]\n",
    "new_col = new_col.rename(columns = {\"rev_id\": \"self_reverts\"})"
   ]
  },
  {
   "cell_type": "code",
   "execution_count": null,
   "metadata": {},
   "outputs": [],
   "source": [
    "bot_summary = pd.merge(bot_summary, new_col, \n",
    "             how='outer', \n",
    "             left_on='user_text', \n",
    "             right_on='user_text_reverter', \n",
    "             suffixes=('', '')\n",
    ")"
   ]
  },
  {
   "cell_type": "code",
   "execution_count": null,
   "metadata": {},
   "outputs": [],
   "source": [
    "del bot_summary['user_text_reverter']\n",
    "bot_summary['self_reverts'] = bot_summary['self_reverts'].fillna(0)\n",
    "bot_summary['self_reverts'] = bot_summary['self_reverts'].astype(int)"
   ]
  },
  {
   "cell_type": "code",
   "execution_count": null,
   "metadata": {
    "tags": []
   },
   "outputs": [],
   "source": [
    "# add bot_active_reverts column - will not include self-reverts\n",
    "\n",
    "new_col = df_bot_active_reverts[df_bot_active_reverts.user_is_bot == True]\n",
    "new_col = new_col[new_col.user_text != new_col.user_text_reverter]\n",
    "\n",
    "new_col = new_col.groupby([\"user_text_reverter\",\"revert_id\"], as_index = False).count()\n",
    "new_col = new_col.groupby(\"user_text_reverter\", as_index = False).count()[[\"user_text_reverter\",\"rev_id\"]]\n",
    "new_col = new_col.rename(columns = {\"rev_id\": \"bot_active_reverts\"})"
   ]
  },
  {
   "cell_type": "code",
   "execution_count": null,
   "metadata": {},
   "outputs": [],
   "source": [
    "bot_summary = pd.merge(bot_summary, new_col, \n",
    "             how='outer', \n",
    "             left_on='user_text', \n",
    "             right_on='user_text_reverter', \n",
    "             suffixes=('', '')\n",
    ")"
   ]
  },
  {
   "cell_type": "code",
   "execution_count": null,
   "metadata": {},
   "outputs": [],
   "source": [
    "del bot_summary['user_text_reverter']\n",
    "bot_summary['bot_active_reverts'] = bot_summary['bot_active_reverts'].fillna(0)\n",
    "bot_summary['bot_active_reverts'] = bot_summary['bot_active_reverts'].astype(int)"
   ]
  },
  {
   "cell_type": "markdown",
   "metadata": {},
   "source": [
    "### active_reverts column could be less than sum of other active revert columns because bot may revert multiple users / types of users with one revert"
   ]
  },
  {
   "cell_type": "code",
   "execution_count": null,
   "metadata": {},
   "outputs": [],
   "source": [
    "# add human_passive_reverts column \n",
    "\n",
    "new_col = df_bot_passive_reverts[df_bot_passive_reverts.user_is_bot_reverter == False]\n",
    "new_col = new_col.groupby(\"user_text\", as_index = False).count()[[\"user_text\",\"rev_id\"]]\n",
    "new_col = new_col.rename(columns = {\"rev_id\": \"human_passive_reverts\"})"
   ]
  },
  {
   "cell_type": "code",
   "execution_count": null,
   "metadata": {},
   "outputs": [],
   "source": [
    "bot_summary = pd.merge(bot_summary, new_col, \n",
    "             how='outer', \n",
    "             left_on='user_text', \n",
    "             right_on='user_text', \n",
    "             suffixes=('', '')\n",
    ")"
   ]
  },
  {
   "cell_type": "code",
   "execution_count": null,
   "metadata": {},
   "outputs": [],
   "source": [
    "bot_summary['human_passive_reverts'] = bot_summary['human_passive_reverts'].fillna(0)\n",
    "bot_summary['human_passive_reverts'] = bot_summary['human_passive_reverts'].astype(int)"
   ]
  },
  {
   "cell_type": "code",
   "execution_count": null,
   "metadata": {},
   "outputs": [],
   "source": [
    "# add bot_passive_reverts column \n",
    "\n",
    "new_col = df_bot_passive_reverts[df_bot_passive_reverts.user_is_bot_reverter == True]\n",
    "new_col = new_col.groupby(\"user_text\", as_index = False).count()[[\"user_text\",\"rev_id\"]]\n",
    "new_col = new_col.rename(columns = {\"rev_id\": \"bot_passive_reverts\"})"
   ]
  },
  {
   "cell_type": "code",
   "execution_count": null,
   "metadata": {},
   "outputs": [],
   "source": [
    "bot_summary = pd.merge(bot_summary, new_col, \n",
    "             how='outer', \n",
    "             left_on='user_text', \n",
    "             right_on='user_text', \n",
    "             suffixes=('', '')\n",
    ")"
   ]
  },
  {
   "cell_type": "code",
   "execution_count": null,
   "metadata": {},
   "outputs": [],
   "source": [
    "bot_summary['bot_passive_reverts'] = bot_summary['bot_passive_reverts'].fillna(0)\n",
    "bot_summary['bot_passive_reverts'] = bot_summary['bot_passive_reverts'].astype(int)"
   ]
  },
  {
   "cell_type": "code",
   "execution_count": null,
   "metadata": {},
   "outputs": [],
   "source": [
    "# re-order columns of table\n",
    "\n",
    "bot_summary = bot_summary[['user_text', 'total_edits', 'active_reverts', 'passive_reverts', 'self_reverts',\n",
    "       'human_active_reverts', 'bot_active_reverts', 'human_passive_reverts', 'bot_passive_reverts']]"
   ]
  },
  {
   "cell_type": "code",
   "execution_count": null,
   "metadata": {},
   "outputs": [],
   "source": [
    "bot_summary"
   ]
  },
  {
   "cell_type": "code",
   "execution_count": null,
   "metadata": {},
   "outputs": [],
   "source": [
    "bot_summary[bot_summary.user_text == \"AvicBot\"]"
   ]
  },
  {
   "cell_type": "code",
   "execution_count": null,
   "metadata": {},
   "outputs": [],
   "source": [
    "bot_summary[bot_summary.user_text == \"AnomieBOT\"]"
   ]
  },
  {
   "cell_type": "code",
   "execution_count": null,
   "metadata": {},
   "outputs": [],
   "source": [
    "bot_summary[bot_summary.user_text == \"Cyberbot I\"]"
   ]
  },
  {
   "cell_type": "code",
   "execution_count": null,
   "metadata": {},
   "outputs": [],
   "source": [
    "bot_summary[bot_summary.user_text == \"RonBot\"]"
   ]
  },
  {
   "cell_type": "code",
   "execution_count": null,
   "metadata": {},
   "outputs": [],
   "source": [
    "#creating a function to calculcate the percent of active reverts (how often does this revert?)\n",
    "def pcta(data):\n",
    "    val = data[2] / data[1]\n",
    "    return (\"%.4f\" % val) #this just limits the floats to four decimal points\n",
    "\n",
    "bot_summary[\"pct_active_reverts\"] = bot_summary.apply(pcta, axis=1)   \n",
    "bot_summary['pct_active_reverts'] = bot_summary['pct_active_reverts'].fillna(0)\n",
    "#bot_summary['pct_active_reverts'] = bot_summary['pct_active_reverts'].astype(float)"
   ]
  },
  {
   "cell_type": "code",
   "execution_count": null,
   "metadata": {},
   "outputs": [],
   "source": [
    "#creating a function to calculcate the percent of self reverts (how often does this bot revert itself?)\n",
    "def pcts(data):\n",
    "    if data[2] == 0:\n",
    "        return 0\n",
    "    else:\n",
    "        val = data[3] / data[2]\n",
    "        return (\"%.4f\" % val)\n",
    "\n",
    "bot_summary[\"pct_self_reverts\"] = bot_summary.apply(pcts, axis=1)\n",
    "bot_summary['pct_self_reverts'] = bot_summary['pct_self_reverts'].fillna(0)\n",
    "#bot_summary['pct_self_reverts'] = bot_summary['pct_self_reverts'].astype(float)"
   ]
  },
  {
   "cell_type": "code",
   "execution_count": null,
   "metadata": {},
   "outputs": [],
   "source": [
    "#creating a function to calculcate the percent of human active reverts (out of how many times this bot reverts, how often does it revert a human?)\n",
    "def pctha(data):\n",
    "    if data[2] == 0:\n",
    "        return 0\n",
    "    else:\n",
    "        val = data[4] / data[2]\n",
    "        return (\"%.4f\" % val)\n",
    "\n",
    "bot_summary[\"pct_(h)active_reverts\"] = bot_summary.apply(pctha, axis=1)\n",
    "bot_summary['pct_(h)active_reverts'] = bot_summary['pct_(h)active_reverts'].fillna(0)\n",
    "#bot_summary['pct_(h)active_reverts'] = bot_summary['pct_(h)active_reverts'].astype(float)"
   ]
  },
  {
   "cell_type": "code",
   "execution_count": null,
   "metadata": {},
   "outputs": [],
   "source": [
    "#creating a function to calculcate the percent of bot active reverts (out of how many times this bot reverts, how often does it revert a bot?)\n",
    "def pctba(data):\n",
    "    if data[2] == 0:\n",
    "        return 0\n",
    "    else:\n",
    "        val = data[4] / data[2]\n",
    "        return (\"%.4f\" % val)\n",
    "\n",
    "bot_summary[\"pct_(b)active_reverts\"] = bot_summary.apply(pctba, axis=1)\n",
    "bot_summary['pct_(b)active_reverts'] = bot_summary['pct_(b)active_reverts'].fillna(0)\n",
    "#bot_summary['pct_(b)active_reverts'] = bot_summary['pct_(b)active_reverts'].astype(int)"
   ]
  },
  {
   "cell_type": "code",
   "execution_count": null,
   "metadata": {},
   "outputs": [],
   "source": [
    "#creating a function to calculcate the percent of passive reverts (how often does this bot get reverted?)\n",
    "def pctp(data):\n",
    "    if data[2] == 0:\n",
    "        return 0\n",
    "    else:\n",
    "        val = data[3] / data[2]\n",
    "        return (\"%.4f\" % val)\n",
    "\n",
    "bot_summary[\"pct_passive_reverts\"] = bot_summary.apply(pctp, axis=1)\n",
    "bot_summary['pct_passive_reverts'] = bot_summary['pct_passive_reverts'].fillna(0)\n",
    "#bot_summary['pct_passive_reverts'] = bot_summary['pct_passive_reverts'].astype(int)"
   ]
  },
  {
   "cell_type": "code",
   "execution_count": null,
   "metadata": {},
   "outputs": [],
   "source": [
    "#creating a function to calculcate the percent of human passive reverts (out of how many times this bot get reverted, how often does it get reverted by a human?)\n",
    "def pcthp(data):\n",
    "    if data[3] == 0:\n",
    "        return 0\n",
    "    else:\n",
    "        val = data[7] / data[3]\n",
    "        return (\"%.4f\" % val)\n",
    "\n",
    "bot_summary[\"pct_(h)passive_reverts\"] = bot_summary.apply(pcthp, axis=1)\n",
    "bot_summary['pct_(h)passive_reverts'] = bot_summary['pct_(h)passive_reverts'].fillna(0)\n",
    "#bot_summary['pct_(h)passive_reverts'] = bot_summary['pct_(h)passive_reverts'].astype(float)"
   ]
  },
  {
   "cell_type": "code",
   "execution_count": null,
   "metadata": {},
   "outputs": [],
   "source": [
    "#creating a function to calculcate the percent of bot passive reverts (out of how many times this bot get reverted, how often does it get reverted by a bot?)\n",
    "def pctbp(data):\n",
    "    if data[3] == 0:\n",
    "        return 0\n",
    "    else:\n",
    "        val = data[8] / data[3]\n",
    "        return (\"%.4f\" % val)\n",
    "\n",
    "bot_summary[\"pct_(b)passive_reverts\"] = bot_summary.apply(pctbp, axis=1)\n",
    "bot_summary['pct_(b)passive_reverts'] = bot_summary['pct_(b)passive_reverts'].fillna(0)\n",
    "#bot_summary['pct_(b)passive_reverts'] = bot_summary['pct_(b)passive_reverts'].astype(float)"
   ]
  },
  {
   "cell_type": "code",
   "execution_count": null,
   "metadata": {},
   "outputs": [],
   "source": [
    "# re-order columns of table\n",
    "\n",
    "bot_summary = bot_summary[['user_text', 'total_edits', 'active_reverts', 'pct_active_reverts', 'self_reverts', 'pct_self_reverts', 'human_active_reverts', 'pct_(h)active_reverts', 'bot_active_reverts', 'pct_(b)active_reverts', 'passive_reverts', 'pct_passive_reverts', 'human_passive_reverts', 'pct_(h)passive_reverts', 'bot_passive_reverts', 'pct_(b)passive_reverts']]"
   ]
  },
  {
   "cell_type": "code",
   "execution_count": null,
   "metadata": {},
   "outputs": [],
   "source": [
    "bot_summary"
   ]
  },
  {
   "cell_type": "code",
   "execution_count": null,
   "metadata": {},
   "outputs": [],
   "source": []
  }
 ],
 "metadata": {
  "kernelspec": {
   "display_name": "Python 3",
   "language": "python",
   "name": "python3"
  },
  "language_info": {
   "codemirror_mode": {
    "name": "ipython",
    "version": 3
   },
   "file_extension": ".py",
   "mimetype": "text/x-python",
   "name": "python",
   "nbconvert_exporter": "python",
   "pygments_lexer": "ipython3",
   "version": "3.8.5"
  }
 },
 "nbformat": 4,
 "nbformat_minor": 4
}
