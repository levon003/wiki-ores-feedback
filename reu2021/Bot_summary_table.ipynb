{
 "cells": [
  {
   "cell_type": "code",
   "execution_count": 1,
   "metadata": {},
   "outputs": [],
   "source": [
    "%reload_ext autoreload\n",
    "%autoreload 2\n",
    "%matplotlib inline"
   ]
  },
  {
   "cell_type": "code",
   "execution_count": 2,
   "metadata": {},
   "outputs": [],
   "source": [
    "import numpy as np\n",
    "import pandas as pd\n",
    "import matplotlib.pyplot as plt"
   ]
  },
  {
   "cell_type": "code",
   "execution_count": 3,
   "metadata": {},
   "outputs": [],
   "source": [
    "from datetime import datetime"
   ]
  },
  {
   "cell_type": "code",
   "execution_count": 4,
   "metadata": {},
   "outputs": [],
   "source": [
    "df = pd.read_csv('revs_scored_jan.tsv', sep='\\t', header=0)"
   ]
  },
  {
   "cell_type": "code",
   "execution_count": 5,
   "metadata": {},
   "outputs": [],
   "source": [
    "days = df.rev_timestamp.map(lambda ts: datetime.utcfromtimestamp(ts).day)\n",
    "df['day'] = days"
   ]
  },
  {
   "cell_type": "code",
   "execution_count": 6,
   "metadata": {},
   "outputs": [],
   "source": [
    "dfbots = df[df.day<22]\n",
    "dfbots = dfbots[dfbots.user_is_bot]"
   ]
  },
  {
   "cell_type": "code",
   "execution_count": 7,
   "metadata": {},
   "outputs": [],
   "source": [
    "dfrevertedbots = dfbots[dfbots.is_reverted]\n",
    "dfrevertedbots = dfrevertedbots[dfrevertedbots.seconds_to_revert.astype('str').astype('int')<86400]\n",
    "dfrevertedbots.revert_id = dfrevertedbots.revert_id.astype('int')"
   ]
  },
  {
   "cell_type": "code",
   "execution_count": 8,
   "metadata": {},
   "outputs": [],
   "source": [
    "dfreverters = df[df.is_revert]"
   ]
  },
  {
   "cell_type": "code",
   "execution_count": 9,
   "metadata": {},
   "outputs": [],
   "source": [
    "# merging two datafraemes to create a table of nonhuman and human reverters that reverted a bot\n",
    "\n",
    "dfrevertedbots = pd.merge(dfrevertedbots, dfreverters, \n",
    "             how='inner', \n",
    "             left_on='revert_id', \n",
    "             right_on='rev_id', \n",
    "             suffixes=('', '_reverter')\n",
    ")\n"
   ]
  },
  {
   "cell_type": "code",
   "execution_count": 10,
   "metadata": {},
   "outputs": [
    {
     "data": {
      "text/plain": [
       "Index(['rev_timestamp', 'page_id', 'rev_id', 'prev_rev_id', 'is_minor',\n",
       "       'user_text', 'user_id', 'seconds_to_prev', 'curr_bytes', 'delta_bytes',\n",
       "       'has_edit_summary', 'is_reverted', 'is_revert',\n",
       "       'is_reverted_to_by_other', 'is_self_reverted', 'is_self_revert',\n",
       "       'revert_target_id', 'revert_set_size', 'revert_id', 'seconds_to_revert',\n",
       "       'damaging_pred', 'goodfaith_pred', 'model_version', 'user_is_bot',\n",
       "       'user_is_trusted', 'user_edit_count', 'page_rev_count',\n",
       "       'page_namespace', 'is_page_redirect', 'day', 'rev_timestamp_reverter',\n",
       "       'page_id_reverter', 'rev_id_reverter', 'prev_rev_id_reverter',\n",
       "       'is_minor_reverter', 'user_text_reverter', 'user_id_reverter',\n",
       "       'seconds_to_prev_reverter', 'curr_bytes_reverter',\n",
       "       'delta_bytes_reverter', 'has_edit_summary_reverter',\n",
       "       'is_reverted_reverter', 'is_revert_reverter',\n",
       "       'is_reverted_to_by_other_reverter', 'is_self_reverted_reverter',\n",
       "       'is_self_revert_reverter', 'revert_target_id_reverter',\n",
       "       'revert_set_size_reverter', 'revert_id_reverter',\n",
       "       'seconds_to_revert_reverter', 'damaging_pred_reverter',\n",
       "       'goodfaith_pred_reverter', 'model_version_reverter',\n",
       "       'user_is_bot_reverter', 'user_is_trusted_reverter',\n",
       "       'user_edit_count_reverter', 'page_rev_count_reverter',\n",
       "       'page_namespace_reverter', 'is_page_redirect_reverter', 'day_reverter'],\n",
       "      dtype='object')"
      ]
     },
     "execution_count": 10,
     "metadata": {},
     "output_type": "execute_result"
    }
   ],
   "source": [
    "dfrevertedbots.columns"
   ]
  },
  {
   "cell_type": "code",
   "execution_count": 20,
   "metadata": {},
   "outputs": [],
   "source": [
    "dfrevertedbots = dfrevertedbots[['rev_id','user_text','revert_id','user_text_reverter', 'is_self_revert_reverter','user_is_bot_reverter', 'page_namespace','day']]"
   ]
  },
  {
   "cell_type": "code",
   "execution_count": 21,
   "metadata": {},
   "outputs": [
    {
     "data": {
      "text/html": [
       "<div>\n",
       "<style scoped>\n",
       "    .dataframe tbody tr th:only-of-type {\n",
       "        vertical-align: middle;\n",
       "    }\n",
       "\n",
       "    .dataframe tbody tr th {\n",
       "        vertical-align: top;\n",
       "    }\n",
       "\n",
       "    .dataframe thead th {\n",
       "        text-align: right;\n",
       "    }\n",
       "</style>\n",
       "<table border=\"1\" class=\"dataframe\">\n",
       "  <thead>\n",
       "    <tr style=\"text-align: right;\">\n",
       "      <th></th>\n",
       "      <th>rev_id</th>\n",
       "      <th>user_text</th>\n",
       "      <th>revert_id</th>\n",
       "      <th>user_text_reverter</th>\n",
       "      <th>self_reverted</th>\n",
       "      <th>reverter_is_bot</th>\n",
       "      <th>page_namespace</th>\n",
       "      <th>day</th>\n",
       "    </tr>\n",
       "  </thead>\n",
       "  <tbody>\n",
       "    <tr>\n",
       "      <th>0</th>\n",
       "      <td>876227358</td>\n",
       "      <td>Cydebot</td>\n",
       "      <td>876373440</td>\n",
       "      <td>Cydebot</td>\n",
       "      <td>True</td>\n",
       "      <td>True</td>\n",
       "      <td>2</td>\n",
       "      <td>1</td>\n",
       "    </tr>\n",
       "    <tr>\n",
       "      <th>1</th>\n",
       "      <td>876264984</td>\n",
       "      <td>Cydebot</td>\n",
       "      <td>876373440</td>\n",
       "      <td>Cydebot</td>\n",
       "      <td>True</td>\n",
       "      <td>True</td>\n",
       "      <td>2</td>\n",
       "      <td>1</td>\n",
       "    </tr>\n",
       "    <tr>\n",
       "      <th>2</th>\n",
       "      <td>876274215</td>\n",
       "      <td>Cydebot</td>\n",
       "      <td>876373440</td>\n",
       "      <td>Cydebot</td>\n",
       "      <td>True</td>\n",
       "      <td>True</td>\n",
       "      <td>2</td>\n",
       "      <td>1</td>\n",
       "    </tr>\n",
       "    <tr>\n",
       "      <th>3</th>\n",
       "      <td>876274593</td>\n",
       "      <td>Cydebot</td>\n",
       "      <td>876373440</td>\n",
       "      <td>Cydebot</td>\n",
       "      <td>True</td>\n",
       "      <td>True</td>\n",
       "      <td>2</td>\n",
       "      <td>1</td>\n",
       "    </tr>\n",
       "    <tr>\n",
       "      <th>4</th>\n",
       "      <td>876275010</td>\n",
       "      <td>Cydebot</td>\n",
       "      <td>876373440</td>\n",
       "      <td>Cydebot</td>\n",
       "      <td>True</td>\n",
       "      <td>True</td>\n",
       "      <td>2</td>\n",
       "      <td>1</td>\n",
       "    </tr>\n",
       "    <tr>\n",
       "      <th>...</th>\n",
       "      <td>...</td>\n",
       "      <td>...</td>\n",
       "      <td>...</td>\n",
       "      <td>...</td>\n",
       "      <td>...</td>\n",
       "      <td>...</td>\n",
       "      <td>...</td>\n",
       "      <td>...</td>\n",
       "    </tr>\n",
       "    <tr>\n",
       "      <th>8480</th>\n",
       "      <td>879554462</td>\n",
       "      <td>SineBot</td>\n",
       "      <td>879554618</td>\n",
       "      <td>Larry Hockett</td>\n",
       "      <td>False</td>\n",
       "      <td>False</td>\n",
       "      <td>1</td>\n",
       "      <td>21</td>\n",
       "    </tr>\n",
       "    <tr>\n",
       "      <th>8481</th>\n",
       "      <td>879554569</td>\n",
       "      <td>Amalthea (bot)</td>\n",
       "      <td>879555726</td>\n",
       "      <td>Amalthea (bot)</td>\n",
       "      <td>True</td>\n",
       "      <td>True</td>\n",
       "      <td>2</td>\n",
       "      <td>21</td>\n",
       "    </tr>\n",
       "    <tr>\n",
       "      <th>8482</th>\n",
       "      <td>879555445</td>\n",
       "      <td>DatBot</td>\n",
       "      <td>879558700</td>\n",
       "      <td>HBC AIV helperbot5</td>\n",
       "      <td>False</td>\n",
       "      <td>True</td>\n",
       "      <td>4</td>\n",
       "      <td>21</td>\n",
       "    </tr>\n",
       "    <tr>\n",
       "      <th>8483</th>\n",
       "      <td>879555579</td>\n",
       "      <td>Lowercase sigmabot II</td>\n",
       "      <td>879577619</td>\n",
       "      <td>7&amp;6=thirteen</td>\n",
       "      <td>False</td>\n",
       "      <td>False</td>\n",
       "      <td>118</td>\n",
       "      <td>21</td>\n",
       "    </tr>\n",
       "    <tr>\n",
       "      <th>8484</th>\n",
       "      <td>879555710</td>\n",
       "      <td>SineBot</td>\n",
       "      <td>879583199</td>\n",
       "      <td>Peaceray</td>\n",
       "      <td>False</td>\n",
       "      <td>False</td>\n",
       "      <td>1</td>\n",
       "      <td>21</td>\n",
       "    </tr>\n",
       "  </tbody>\n",
       "</table>\n",
       "<p>8485 rows × 8 columns</p>\n",
       "</div>"
      ],
      "text/plain": [
       "         rev_id              user_text  revert_id  user_text_reverter  \\\n",
       "0     876227358                Cydebot  876373440             Cydebot   \n",
       "1     876264984                Cydebot  876373440             Cydebot   \n",
       "2     876274215                Cydebot  876373440             Cydebot   \n",
       "3     876274593                Cydebot  876373440             Cydebot   \n",
       "4     876275010                Cydebot  876373440             Cydebot   \n",
       "...         ...                    ...        ...                 ...   \n",
       "8480  879554462                SineBot  879554618       Larry Hockett   \n",
       "8481  879554569         Amalthea (bot)  879555726      Amalthea (bot)   \n",
       "8482  879555445                 DatBot  879558700  HBC AIV helperbot5   \n",
       "8483  879555579  Lowercase sigmabot II  879577619        7&6=thirteen   \n",
       "8484  879555710                SineBot  879583199            Peaceray   \n",
       "\n",
       "      self_reverted  reverter_is_bot  page_namespace  day  \n",
       "0              True             True               2    1  \n",
       "1              True             True               2    1  \n",
       "2              True             True               2    1  \n",
       "3              True             True               2    1  \n",
       "4              True             True               2    1  \n",
       "...             ...              ...             ...  ...  \n",
       "8480          False            False               1   21  \n",
       "8481           True             True               2   21  \n",
       "8482          False             True               4   21  \n",
       "8483          False            False             118   21  \n",
       "8484          False            False               1   21  \n",
       "\n",
       "[8485 rows x 8 columns]"
      ]
     },
     "execution_count": 21,
     "metadata": {},
     "output_type": "execute_result"
    }
   ],
   "source": [
    "dfrevertedbots.rename(columns={'is_self_revert_reverter': 'self_reverted', 'user_is_bot_reverter': 'reverter_is_bot'})"
   ]
  },
  {
   "cell_type": "code",
   "execution_count": 17,
   "metadata": {},
   "outputs": [],
   "source": [
    "dfrevertedbotsn"
   ]
  },
  {
   "cell_type": "code",
   "execution_count": null,
   "metadata": {},
   "outputs": [],
   "source": []
  }
 ],
 "metadata": {
  "kernelspec": {
   "display_name": "Python 3",
   "language": "python",
   "name": "python3"
  },
  "language_info": {
   "codemirror_mode": {
    "name": "ipython",
    "version": 3
   },
   "file_extension": ".py",
   "mimetype": "text/x-python",
   "name": "python",
   "nbconvert_exporter": "python",
   "pygments_lexer": "ipython3",
   "version": "3.8.5"
  }
 },
 "nbformat": 4,
 "nbformat_minor": 4
}
