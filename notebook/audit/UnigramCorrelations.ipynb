{
 "cells": [
  {
   "cell_type": "markdown",
   "metadata": {},
   "source": [
    "Unigram Correlations\n",
    "===\n",
    "\n",
    " "
   ]
  },
  {
   "cell_type": "code",
   "execution_count": 26,
   "metadata": {},
   "outputs": [],
   "source": [
    "import numpy as np\n",
    "import pandas as pd\n",
    "import matplotlib.pyplot as plt\n",
    "import matplotlib"
   ]
  },
  {
   "cell_type": "code",
   "execution_count": 27,
   "metadata": {},
   "outputs": [],
   "source": [
    "import os\n",
    "from tqdm import tqdm\n",
    "import bz2\n",
    "import sqlite3\n",
    "import difflib\n",
    "import gzip\n",
    "import json\n",
    "import re\n",
    "import hashlib\n",
    "from datetime import datetime\n",
    "from datetime import timezone\n",
    "import nltk\n",
    "import scipy.stats\n",
    "import scipy.sparse\n",
    "import para\n",
    "from itertools import groupby\n",
    "from collections import Counter"
   ]
  },
  {
   "cell_type": "code",
   "execution_count": 28,
   "metadata": {},
   "outputs": [
    {
     "data": {
      "text/plain": [
       "'/export/scratch2/levon003/repos/wiki-ores-feedback'"
      ]
     },
     "execution_count": 28,
     "metadata": {},
     "output_type": "execute_result"
    }
   ],
   "source": [
    "git_root_dir = !git rev-parse --show-toplevel\n",
    "git_root_dir = git_root_dir[0]\n",
    "git_root_dir"
   ]
  },
  {
   "cell_type": "code",
   "execution_count": 29,
   "metadata": {},
   "outputs": [
    {
     "data": {
      "text/plain": [
       "('/export/scratch2/wiki_data',\n",
       " '/export/scratch2/levon003/repos/wiki-ores-feedback/data/derived')"
      ]
     },
     "execution_count": 29,
     "metadata": {},
     "output_type": "execute_result"
    }
   ],
   "source": [
    "raw_data_dir = \"/export/scratch2/wiki_data\"\n",
    "derived_data_dir = os.path.join(git_root_dir, \"data\", \"derived\")\n",
    "raw_data_dir, derived_data_dir"
   ]
  },
  {
   "cell_type": "code",
   "execution_count": 30,
   "metadata": {},
   "outputs": [
    {
     "data": {
      "text/plain": [
       "'/export/scratch2/levon003/repos/wiki-ores-feedback/data/derived/audit'"
      ]
     },
     "execution_count": 30,
     "metadata": {},
     "output_type": "execute_result"
    }
   ],
   "source": [
    "revision_sample_dir = os.path.join(derived_data_dir, 'revision_sample')\n",
    "working_dir = os.path.join(derived_data_dir, 'audit')\n",
    "working_dir"
   ]
  },
  {
   "cell_type": "markdown",
   "metadata": {},
   "source": [
    "### Load the predictions"
   ]
  },
  {
   "cell_type": "code",
   "execution_count": 6,
   "metadata": {},
   "outputs": [
    {
     "name": "stdout",
     "output_type": "stream",
     "text": [
      "0:00:02.388819\n"
     ]
    },
    {
     "data": {
      "text/plain": [
       "11735531"
      ]
     },
     "execution_count": 6,
     "metadata": {},
     "output_type": "execute_result"
    }
   ],
   "source": [
    "# load the merged predictions dataframe\n",
    "s = datetime.now()\n",
    "audit_dir = os.path.join(derived_data_dir, 'audit')\n",
    "merged_preds_df_filepath = os.path.join(audit_dir, 'merged_preds.pkl')\n",
    "merged_preds_df = pd.read_pickle(merged_preds_df_filepath)\n",
    "print(f\"{datetime.now() - s}\")\n",
    "len(merged_preds_df)"
   ]
  },
  {
   "cell_type": "code",
   "execution_count": 7,
   "metadata": {},
   "outputs": [
    {
     "data": {
      "text/html": [
       "<div>\n",
       "<style scoped>\n",
       "    .dataframe tbody tr th:only-of-type {\n",
       "        vertical-align: middle;\n",
       "    }\n",
       "\n",
       "    .dataframe tbody tr th {\n",
       "        vertical-align: top;\n",
       "    }\n",
       "\n",
       "    .dataframe thead th {\n",
       "        text-align: right;\n",
       "    }\n",
       "</style>\n",
       "<table border=\"1\" class=\"dataframe\">\n",
       "  <thead>\n",
       "    <tr style=\"text-align: right;\">\n",
       "      <th></th>\n",
       "      <th>rev_id</th>\n",
       "      <th>damaging_prob</th>\n",
       "      <th>damaging_prob_calibrated</th>\n",
       "      <th>revert_prob</th>\n",
       "      <th>is_reverted_1week</th>\n",
       "      <th>is_reverted</th>\n",
       "    </tr>\n",
       "  </thead>\n",
       "  <tbody>\n",
       "    <tr>\n",
       "      <th>0</th>\n",
       "      <td>867368228</td>\n",
       "      <td>0.304521</td>\n",
       "      <td>0.266850</td>\n",
       "      <td>0.125768</td>\n",
       "      <td>False</td>\n",
       "      <td>False</td>\n",
       "    </tr>\n",
       "    <tr>\n",
       "      <th>1</th>\n",
       "      <td>867140549</td>\n",
       "      <td>0.121477</td>\n",
       "      <td>0.051329</td>\n",
       "      <td>0.085052</td>\n",
       "      <td>False</td>\n",
       "      <td>False</td>\n",
       "    </tr>\n",
       "    <tr>\n",
       "      <th>2</th>\n",
       "      <td>862458099</td>\n",
       "      <td>0.008124</td>\n",
       "      <td>0.016422</td>\n",
       "      <td>0.069691</td>\n",
       "      <td>True</td>\n",
       "      <td>True</td>\n",
       "    </tr>\n",
       "    <tr>\n",
       "      <th>3</th>\n",
       "      <td>866634222</td>\n",
       "      <td>0.030305</td>\n",
       "      <td>0.020573</td>\n",
       "      <td>0.021695</td>\n",
       "      <td>False</td>\n",
       "      <td>False</td>\n",
       "    </tr>\n",
       "    <tr>\n",
       "      <th>4</th>\n",
       "      <td>862308858</td>\n",
       "      <td>0.184570</td>\n",
       "      <td>0.094484</td>\n",
       "      <td>0.243350</td>\n",
       "      <td>True</td>\n",
       "      <td>True</td>\n",
       "    </tr>\n",
       "  </tbody>\n",
       "</table>\n",
       "</div>"
      ],
      "text/plain": [
       "      rev_id  damaging_prob  damaging_prob_calibrated  revert_prob  \\\n",
       "0  867368228       0.304521                  0.266850     0.125768   \n",
       "1  867140549       0.121477                  0.051329     0.085052   \n",
       "2  862458099       0.008124                  0.016422     0.069691   \n",
       "3  866634222       0.030305                  0.020573     0.021695   \n",
       "4  862308858       0.184570                  0.094484     0.243350   \n",
       "\n",
       "   is_reverted_1week  is_reverted  \n",
       "0              False        False  \n",
       "1              False        False  \n",
       "2               True         True  \n",
       "3              False        False  \n",
       "4               True         True  "
      ]
     },
     "execution_count": 7,
     "metadata": {},
     "output_type": "execute_result"
    }
   ],
   "source": [
    "merged_preds_df.head()"
   ]
  },
  {
   "cell_type": "markdown",
   "metadata": {},
   "source": [
    "### Visualize\n",
    "\n",
    "Just to sanity check what's in the data."
   ]
  },
  {
   "cell_type": "code",
   "execution_count": 8,
   "metadata": {},
   "outputs": [
    {
     "data": {
      "image/png": "[encoded data removed]",
      "text/plain": [
       "<Figure size 1008x1008 with 2 Axes>"
      ]
     },
     "metadata": {
      "needs_background": "light"
     },
     "output_type": "display_data"
    }
   ],
   "source": [
    "fig, ax = plt.subplots(1, 1, figsize=(14, 14))\n",
    "hb = plt.hexbin(merged_preds_df.revert_prob, merged_preds_df.damaging_prob_calibrated, bins='log', gridsize=(50,50), mincnt=100)\n",
    "plt.xlabel('Revert Probability')\n",
    "plt.ylabel('ORES Damaging Probability')\n",
    "\n",
    "cb = fig.colorbar(hb, ax=ax)\n",
    "cb.set_label('Bin Count')\n",
    "\n",
    "plt.show()"
   ]
  },
  {
   "cell_type": "markdown",
   "metadata": {},
   "source": [
    "### Load text data"
   ]
  },
  {
   "cell_type": "code",
   "execution_count": 9,
   "metadata": {},
   "outputs": [
    {
     "data": {
      "text/plain": [
       "['td_doc_150000_coo_500000.npz',\n",
       " 'td_doc_150000_coo_1000000.npz',\n",
       " 'td_doc_150000_coo_1500000.npz']"
      ]
     },
     "execution_count": 9,
     "metadata": {},
     "output_type": "execute_result"
    }
   ],
   "source": [
    "text_vectors_dir = os.path.join(audit_dir, 'text_vectors')\n",
    "fnames = sorted(os.listdir(text_vectors_dir), key=lambda fname: int(fname.split('.')[0].split('_')[-1]))\n",
    "fnames[:3]"
   ]
  },
  {
   "cell_type": "code",
   "execution_count": 10,
   "metadata": {},
   "outputs": [
    {
     "name": "stdout",
     "output_type": "stream",
     "text": [
      "New component matrix loaded in 0:00:31.696451.\n",
      "New component matrix loaded in 0:00:19.368880.\n",
      "Stacked new component matrix in 0:00:46.929495. (curr shape: (1000000, 150000))\n",
      "New component matrix loaded in 0:00:25.695831.\n",
      "Stacked new component matrix in 0:01:07.044650. (curr shape: (1500000, 150000))\n",
      "New component matrix loaded in 0:00:18.705438.\n",
      "Stacked new component matrix in 0:01:10.544865. (curr shape: (2000000, 150000))\n"
     ]
    }
   ],
   "source": [
    "td_mat = None\n",
    "for fname in fnames[:4]:\n",
    "    s = datetime.now()\n",
    "    mat_block = scipy.sparse.load_npz(os.path.join(text_vectors_dir, fname))\n",
    "    print(f\"New component matrix loaded in {datetime.now() - s}.\")\n",
    "    if td_mat is None:\n",
    "        td_mat = mat_block\n",
    "    else:\n",
    "        td_mat = scipy.sparse.vstack((td_mat, mat_block))\n",
    "        print(f\"Stacked new component matrix in {datetime.now() - s}. (curr shape: {td_mat.get_shape()})\")"
   ]
  },
  {
   "cell_type": "code",
   "execution_count": 13,
   "metadata": {},
   "outputs": [
    {
     "name": "stdout",
     "output_type": "stream",
     "text": [
      "0:06:21.508247\n"
     ]
    },
    {
     "data": {
      "text/plain": [
       "<2000000x150000 sparse matrix of type '<class 'numpy.bool_'>'\n",
       "\twith 3287867946 stored elements in Compressed Sparse Column format>"
      ]
     },
     "execution_count": 13,
     "metadata": {},
     "output_type": "execute_result"
    }
   ],
   "source": [
    "s = datetime.now()\n",
    "td_mat = td_mat.tocsc()\n",
    "print(f\"{datetime.now() - s}\")\n",
    "td_mat"
   ]
  },
  {
   "cell_type": "code",
   "execution_count": 34,
   "metadata": {},
   "outputs": [
    {
     "name": "stdout",
     "output_type": "stream",
     "text": [
      "0:28:48.705258\n"
     ]
    }
   ],
   "source": [
    "s = datetime.now()\n",
    "scipy.sparse.save_npz(os.path.join(audit_dir, 'td_mat_csc_2000000.npz'), td_mat)\n",
    "print(f\"{datetime.now() - s}\")"
   ]
  },
  {
   "cell_type": "code",
   "execution_count": 47,
   "metadata": {},
   "outputs": [
    {
     "name": "stdout",
     "output_type": "stream",
     "text": [
      "Constructed vocabs.\n"
     ]
    }
   ],
   "source": [
    "def get_doc_vocab(doc_counts_filepath, k=50000):\n",
    "    with open(doc_counts_filepath, 'r') as infile:\n",
    "        infile.readline()  # top line is just the total document count\n",
    "        vocab_list = []\n",
    "        for line in infile:\n",
    "            if len(vocab_list) < k:\n",
    "                token = line.strip().split(\",\")[0]\n",
    "                if token == '':\n",
    "                    token = ','\n",
    "                vocab_list.append(token)\n",
    "    assert len(vocab_list) == k\n",
    "    vocab_dict = {token: i for i, token in enumerate(vocab_list)}\n",
    "    return vocab_dict\n",
    "\n",
    "token_counts_dir = os.path.join(audit_dir, 'token_counts')\n",
    "content_doc_counts_filepath = os.path.join(token_counts_dir, 'all_content_doc_counts.csv')\n",
    "removed_doc_counts_filepath = os.path.join(token_counts_dir, 'all_removed_doc_counts.csv')\n",
    "inserted_doc_counts_filepath = os.path.join(token_counts_dir, 'all_inserted_doc_counts.csv')\n",
    "\n",
    "content_vocab_dict = get_doc_vocab(content_doc_counts_filepath)\n",
    "removed_vocab_dict = get_doc_vocab(removed_doc_counts_filepath)\n",
    "inserted_vocab_dict = get_doc_vocab(inserted_doc_counts_filepath)\n",
    "\n",
    "print(\"Constructed vocabs.\")"
   ]
  },
  {
   "cell_type": "code",
   "execution_count": 11,
   "metadata": {},
   "outputs": [
    {
     "data": {
      "text/plain": [
       "9584147"
      ]
     },
     "execution_count": 11,
     "metadata": {},
     "output_type": "execute_result"
    }
   ],
   "source": [
    "rev_id_list = []\n",
    "with open(os.path.join(audit_dir, 'rev_id_2020-08-01T05:40:00Z.txt'), 'r') as infile:\n",
    "    for line in infile:\n",
    "        if line.strip() != '':\n",
    "            rev_id = int(line.strip())\n",
    "            rev_id_list.append(rev_id)\n",
    "len(rev_id_list)"
   ]
  },
  {
   "cell_type": "code",
   "execution_count": 18,
   "metadata": {},
   "outputs": [
    {
     "data": {
      "text/plain": [
       "2000000"
      ]
     },
     "execution_count": 18,
     "metadata": {},
     "output_type": "execute_result"
    }
   ],
   "source": [
    "rev_id_list = rev_id_list[:td_mat.shape[0]]\n",
    "assert len(rev_id_list) == td_mat.shape[0]\n",
    "len(rev_id_list)"
   ]
  },
  {
   "cell_type": "code",
   "execution_count": 19,
   "metadata": {},
   "outputs": [
    {
     "data": {
      "image/png": "[encoded data removed]",
      "text/plain": [
       "<Figure size 432x288 with 1 Axes>"
      ]
     },
     "metadata": {
      "needs_background": "light"
     },
     "output_type": "display_data"
    }
   ],
   "source": [
    "misalignment = np.abs(merged_preds_df.damaging_prob_calibrated - merged_preds_df.revert_prob)\n",
    "plt.hist(misalignment, bins=50, log=True)\n",
    "plt.show()"
   ]
  },
  {
   "cell_type": "code",
   "execution_count": 21,
   "metadata": {},
   "outputs": [
    {
     "name": "stdout",
     "output_type": "stream",
     "text": [
      "0:00:09.050187\n"
     ]
    },
    {
     "data": {
      "text/plain": [
       "1999771"
      ]
     },
     "execution_count": 21,
     "metadata": {},
     "output_type": "execute_result"
    }
   ],
   "source": [
    "s = datetime.now()\n",
    "merged_preds_subset = merged_preds_df[merged_preds_df.rev_id.isin(rev_id_list)]\n",
    "print(f\"{datetime.now() - s}\")\n",
    "len(merged_preds_subset)"
   ]
  },
  {
   "cell_type": "code",
   "execution_count": 22,
   "metadata": {},
   "outputs": [],
   "source": [
    "rev_id_misalignment_dict = {row.rev_id: row.damaging_prob_calibrated - row.revert_prob for row in merged_preds_subset.itertuples()}"
   ]
  },
  {
   "cell_type": "code",
   "execution_count": 24,
   "metadata": {},
   "outputs": [
    {
     "name": "stderr",
     "output_type": "stream",
     "text": [
      "100%|██████████| 2000000/2000000 [00:02<00:00, 686727.74it/s]\n"
     ]
    }
   ],
   "source": [
    "misalignment = np.zeros(len(rev_id_list), dtype=float)\n",
    "for i, rev_id in tqdm(enumerate(rev_id_list), total=len(rev_id_list)):\n",
    "    if rev_id in rev_id_misalignment_dict:\n",
    "        misalignment[i] = rev_id_misalignment_dict[rev_id]"
   ]
  },
  {
   "cell_type": "code",
   "execution_count": 25,
   "metadata": {},
   "outputs": [
    {
     "name": "stderr",
     "output_type": "stream",
     "text": [
      "100%|█████████▉| 49999/50000 [44:35<00:00, 18.69it/s] \n"
     ]
    }
   ],
   "source": [
    "token_corr_list = []\n",
    "for token in tqdm(content_vocab_dict.keys(), total=50000):\n",
    "    ind = content_vocab_dict[token]\n",
    "    unigram_arr = td_mat[:,ind]\n",
    "    if np.sum(unigram_arr) == 0:\n",
    "        continue\n",
    "    unigram_arr = np.asarray(unigram_arr.todense()).reshape(-1)\n",
    "    r, p = scipy.stats.pearsonr(misalignment, unigram_arr)\n",
    "    token_corr_list.append((token, r))"
   ]
  },
  {
   "cell_type": "code",
   "execution_count": 26,
   "metadata": {},
   "outputs": [],
   "source": [
    "token_corr_list.sort(key=lambda tup: tup[1], reverse=True)"
   ]
  },
  {
   "cell_type": "code",
   "execution_count": 27,
   "metadata": {},
   "outputs": [
    {
     "name": "stdout",
     "output_type": "stream",
     "text": [
      "             runtime 0.0394\n",
      "      cinematography 0.0392\n",
      "          Theatrical 0.0302\n",
      "                mojo 0.0291\n",
      "         distributor 0.0287\n",
      "                 ''' 0.0284\n",
      "                Plot 0.0283\n",
      "            Tomatoes 0.0268\n",
      "              Rotten 0.0252\n",
      "            tomatoes 0.0248\n",
      "           Fictional 0.0246\n",
      "          screenplay 0.0228\n",
      "         Screenplays 0.0227\n",
      "            realizes 0.0225\n",
      "     main_ingredient 0.0218\n",
      "              rotten 0.0210\n",
      "                Cast 0.0209\n",
      "            starring 0.0204\n",
      "            FILMPLOT 0.0197\n",
      "               tcmdb 0.0196\n",
      "           discovers 0.0196\n",
      "          Wiktionary 0.0195\n",
      "              learns 0.0192\n",
      "         CinemaScore 0.0189\n",
      "              poster 0.0189\n",
      "                 Amg 0.0185\n",
      "          aggregator 0.0185\n",
      "https://www.census.gov/programs-surveys/popest/data/tables.2016.html 0.0182\n",
      "<ref name=\"USCensusEst2016\"> 0.0182\n",
      "           wikiquote 0.0181\n"
     ]
    }
   ],
   "source": [
    "for token, corr in token_corr_list[:30]:\n",
    "    print(f\"{token:>20} {corr:.4f}\")"
   ]
  },
  {
   "cell_type": "code",
   "execution_count": 28,
   "metadata": {},
   "outputs": [
    {
     "name": "stderr",
     "output_type": "stream",
     "text": [
      "100%|█████████▉| 49999/50000 [41:20<00:00, 20.16it/s]\n"
     ]
    }
   ],
   "source": [
    "removed_token_corr_list = []\n",
    "for token in tqdm(removed_vocab_dict.keys(), total=50000):\n",
    "    ind = removed_vocab_dict[token] + 50000\n",
    "    unigram_arr = td_mat[:,ind]\n",
    "    if np.sum(unigram_arr) == 0:\n",
    "        continue\n",
    "    unigram_arr = np.asarray(unigram_arr.todense()).reshape(-1)\n",
    "    r, p = scipy.stats.pearsonr(misalignment, unigram_arr)\n",
    "    removed_token_corr_list.append((token, r))"
   ]
  },
  {
   "cell_type": "code",
   "execution_count": 29,
   "metadata": {},
   "outputs": [],
   "source": [
    "removed_token_corr_list.sort(key=lambda tup: tup[1], reverse=True)"
   ]
  },
  {
   "cell_type": "code",
   "execution_count": 30,
   "metadata": {},
   "outputs": [
    {
     "name": "stdout",
     "output_type": "stream",
     "text": [
      "                pos2 0.0078\n",
      "                 Rls 0.0065\n",
      "            Faizabad 0.0053\n",
      "              Arriva 0.0053\n",
      "              Yahweh 0.0047\n",
      "         Londonderry 0.0041\n",
      "           Wikimapia 0.0038\n",
      "    pseudoscientific 0.0032\n",
      "               Desam 0.0031\n",
      "        routesonline 0.0030\n",
      "                 TOC 0.0030\n",
      "                Zulu 0.0030\n",
      "                Jeju 0.0028\n",
      "            tocright 0.0027\n",
      "               Mohun 0.0027\n",
      "             notemid 0.0025\n",
      "             Noodles 0.0025\n",
      "           Allahabad 0.0025\n",
      "               Devgn 0.0025\n",
      "             Manisha 0.0024\n",
      "          label_size 0.0024\n",
      "              Multan 0.0024\n",
      "              Mormon 0.0023\n",
      "             Koirala 0.0023\n",
      "                Uday 0.0023\n",
      "                 UBM 0.0023\n",
      "                pos3 0.0023\n",
      "                Jatt 0.0022\n",
      "             sublist 0.0022\n",
      "          wiktionary 0.0022\n"
     ]
    }
   ],
   "source": [
    "for token, corr in removed_token_corr_list[:30]:\n",
    "    print(f\"{token:>20} {corr:.4f}\")"
   ]
  },
  {
   "cell_type": "code",
   "execution_count": 31,
   "metadata": {},
   "outputs": [
    {
     "name": "stderr",
     "output_type": "stream",
     "text": [
      "100%|█████████▉| 49999/50000 [41:10<00:00, 20.24it/s]\n"
     ]
    }
   ],
   "source": [
    "inserted_token_corr_list = []\n",
    "for token in tqdm(inserted_vocab_dict.keys(), total=50000):\n",
    "    ind = inserted_vocab_dict[token] + 100000\n",
    "    unigram_arr = td_mat[:,ind]\n",
    "    if np.sum(unigram_arr) == 0:\n",
    "        continue\n",
    "    unigram_arr = np.asarray(unigram_arr.todense()).reshape(-1)\n",
    "    r, p = scipy.stats.pearsonr(misalignment, unigram_arr)\n",
    "    inserted_token_corr_list.append((token, r))"
   ]
  },
  {
   "cell_type": "code",
   "execution_count": 32,
   "metadata": {},
   "outputs": [],
   "source": [
    "inserted_token_corr_list.sort(key=lambda tup: tup[1], reverse=True)"
   ]
  },
  {
   "cell_type": "code",
   "execution_count": 33,
   "metadata": {},
   "outputs": [
    {
     "name": "stdout",
     "output_type": "stream",
     "text": [
      "       INSERTION_END 0.0279\n",
      "     INSERTION_START 0.0279\n",
      "                yeet 0.0222\n",
      "                 poo 0.0202\n",
      "                  hi 0.0190\n",
      "            fortnite 0.0185\n",
      "            Fortnite 0.0172\n",
      "                Yeet 0.0152\n",
      "                 boi 0.0152\n",
      "                 oof 0.0141\n",
      "               ligma 0.0140\n",
      "               hello 0.0130\n",
      "                jeff 0.0105\n",
      "               Ligma 0.0105\n",
      "                 bob 0.0104\n",
      "             pornhub 0.0103\n",
      "                YEET 0.0102\n",
      "                 bum 0.0098\n",
      "                  yo 0.0098\n",
      "                porn 0.0088\n",
      "               butts 0.0086\n",
      "               trump 0.0084\n",
      "                 Poo 0.0083\n",
      "                 mum 0.0077\n",
      "               poopy 0.0077\n",
      "                 pee 0.0075\n",
      "                mama 0.0074\n",
      "               sucks 0.0073\n",
      "                 !!! 0.0071\n",
      "              hitler 0.0071\n"
     ]
    }
   ],
   "source": [
    "for token, corr in inserted_token_corr_list[:30]:\n",
    "    print(f\"{token:>20} {corr:.4f}\")"
   ]
  },
  {
   "cell_type": "code",
   "execution_count": null,
   "metadata": {},
   "outputs": [],
   "source": []
  },
  {
   "cell_type": "markdown",
   "metadata": {},
   "source": [
    "### Create array for term"
   ]
  },
  {
   "cell_type": "code",
   "execution_count": 23,
   "metadata": {},
   "outputs": [],
   "source": [
    "def create_array(token_index, total=9584147):\n",
    "    db = sqlite3.connect(\n",
    "        '/export/scratch2/levon003/repos/wiki-ores-feedback/data/derived/audit/td_doc_indices.sqlite',\n",
    "        detect_types=sqlite3.PARSE_DECLTYPES\n",
    "    )\n",
    "    try:\n",
    "        token_indicator_arr = np.zeros(total, dtype=bool)\n",
    "        \n",
    "        cursor = db.execute('SELECT revision_index FROM inds WHERE token_index = ?', (token_index,))\n",
    "        inds = cursor.fetchall()\n",
    "        if len(inds) > 0:\n",
    "            inds_arr = np.array([ind[0] for ind in inds])\n",
    "            token_indicator_arr[inds_arr] = 1\n",
    "        return token_indicator_arr\n",
    "    finally:\n",
    "        db.close()"
   ]
  },
  {
   "cell_type": "code",
   "execution_count": 32,
   "metadata": {},
   "outputs": [
    {
     "data": {
      "text/plain": [
       "37"
      ]
     },
     "execution_count": 32,
     "metadata": {},
     "output_type": "execute_result"
    }
   ],
   "source": [
    "token_indicator_arr = create_array(1)\n",
    "np.sum(token_indicator_arr)"
   ]
  },
  {
   "cell_type": "code",
   "execution_count": 25,
   "metadata": {},
   "outputs": [
    {
     "name": "stderr",
     "output_type": "stream",
     "text": [
      "  0%|          | 43/150000 [04:39<270:47:55,  6.50s/it]\n"
     ]
    },
    {
     "ename": "KeyboardInterrupt",
     "evalue": "",
     "output_type": "error",
     "traceback": [
      "\u001b[0;31m---------------------------------------------------------------------------\u001b[0m",
      "\u001b[0;31mKeyboardInterrupt\u001b[0m                         Traceback (most recent call last)",
      "\u001b[0;32m<ipython-input-25-755ee9dcff8a>\u001b[0m in \u001b[0;36m<module>\u001b[0;34m\u001b[0m\n\u001b[1;32m      1\u001b[0m \u001b[0;32mfor\u001b[0m \u001b[0mi\u001b[0m \u001b[0;32min\u001b[0m \u001b[0mtqdm\u001b[0m\u001b[0;34m(\u001b[0m\u001b[0mrange\u001b[0m\u001b[0;34m(\u001b[0m\u001b[0;36m150000\u001b[0m\u001b[0;34m)\u001b[0m\u001b[0;34m)\u001b[0m\u001b[0;34m:\u001b[0m\u001b[0;34m\u001b[0m\u001b[0;34m\u001b[0m\u001b[0m\n\u001b[0;32m----> 2\u001b[0;31m     \u001b[0mtoken_indicator_arr\u001b[0m \u001b[0;34m=\u001b[0m \u001b[0mcreate_array\u001b[0m\u001b[0;34m(\u001b[0m\u001b[0mi\u001b[0m\u001b[0;34m)\u001b[0m\u001b[0;34m\u001b[0m\u001b[0;34m\u001b[0m\u001b[0m\n\u001b[0m",
      "\u001b[0;32m<ipython-input-23-a58a4439449b>\u001b[0m in \u001b[0;36mcreate_array\u001b[0;34m(token_index, total)\u001b[0m\n\u001b[1;32m      8\u001b[0m \u001b[0;34m\u001b[0m\u001b[0m\n\u001b[1;32m      9\u001b[0m         \u001b[0mcursor\u001b[0m \u001b[0;34m=\u001b[0m \u001b[0mdb\u001b[0m\u001b[0;34m.\u001b[0m\u001b[0mexecute\u001b[0m\u001b[0;34m(\u001b[0m\u001b[0;34m'SELECT revision_index FROM inds WHERE token_index = ?'\u001b[0m\u001b[0;34m,\u001b[0m \u001b[0;34m(\u001b[0m\u001b[0mtoken_index\u001b[0m\u001b[0;34m,\u001b[0m\u001b[0;34m)\u001b[0m\u001b[0;34m)\u001b[0m\u001b[0;34m\u001b[0m\u001b[0;34m\u001b[0m\u001b[0m\n\u001b[0;32m---> 10\u001b[0;31m         \u001b[0minds\u001b[0m \u001b[0;34m=\u001b[0m \u001b[0mcursor\u001b[0m\u001b[0;34m.\u001b[0m\u001b[0mfetchall\u001b[0m\u001b[0;34m(\u001b[0m\u001b[0;34m)\u001b[0m\u001b[0;34m\u001b[0m\u001b[0;34m\u001b[0m\u001b[0m\n\u001b[0m\u001b[1;32m     11\u001b[0m         \u001b[0;32mif\u001b[0m \u001b[0mlen\u001b[0m\u001b[0;34m(\u001b[0m\u001b[0minds\u001b[0m\u001b[0;34m)\u001b[0m \u001b[0;34m>\u001b[0m \u001b[0;36m0\u001b[0m\u001b[0;34m:\u001b[0m\u001b[0;34m\u001b[0m\u001b[0;34m\u001b[0m\u001b[0m\n\u001b[1;32m     12\u001b[0m             \u001b[0minds_arr\u001b[0m \u001b[0;34m=\u001b[0m \u001b[0mnp\u001b[0m\u001b[0;34m.\u001b[0m\u001b[0marray\u001b[0m\u001b[0;34m(\u001b[0m\u001b[0;34m[\u001b[0m\u001b[0mind\u001b[0m\u001b[0;34m[\u001b[0m\u001b[0;36m0\u001b[0m\u001b[0;34m]\u001b[0m \u001b[0;32mfor\u001b[0m \u001b[0mind\u001b[0m \u001b[0;32min\u001b[0m \u001b[0minds\u001b[0m\u001b[0;34m]\u001b[0m\u001b[0;34m)\u001b[0m\u001b[0;34m\u001b[0m\u001b[0;34m\u001b[0m\u001b[0m\n",
      "\u001b[0;31mKeyboardInterrupt\u001b[0m: "
     ]
    }
   ],
   "source": [
    "for i in tqdm(range(150000)):\n",
    "    token_indicator_arr = create_array(i)"
   ]
  },
  {
   "cell_type": "code",
   "execution_count": 33,
   "metadata": {},
   "outputs": [],
   "source": [
    "merged_preds_df['raw_misalignment'] = merged_preds_df.damaging_prob_calibrated - merged_preds_df.revert_prob"
   ]
  },
  {
   "cell_type": "code",
   "execution_count": 35,
   "metadata": {},
   "outputs": [
    {
     "data": {
      "image/png": "[encoded data removed]",
      "text/plain": [
       "<Figure size 432x288 with 1 Axes>"
      ]
     },
     "metadata": {
      "needs_background": "light"
     },
     "output_type": "display_data"
    }
   ],
   "source": [
    "plt.hist(merged_preds_df.raw_misalignment, bins=50, log=True)\n",
    "plt.show()"
   ]
  },
  {
   "cell_type": "code",
   "execution_count": 37,
   "metadata": {},
   "outputs": [
    {
     "data": {
      "text/plain": [
       "0.0004551136203380997"
      ]
     },
     "execution_count": 37,
     "metadata": {},
     "output_type": "execute_result"
    }
   ],
   "source": [
    "np.sum(merged_preds_df.raw_misalignment <= -0.5) / len(merged_preds_df)"
   ]
  },
  {
   "cell_type": "code",
   "execution_count": 46,
   "metadata": {},
   "outputs": [
    {
     "name": "stderr",
     "output_type": "stream",
     "text": [
      "  0%|          | 1/100000 [00:05<151:40:23,  5.46s/it]"
     ]
    },
    {
     "name": "stdout",
     "output_type": "stream",
     "text": [
      "6734706 -0.011958062721951311\n"
     ]
    },
    {
     "name": "stderr",
     "output_type": "stream",
     "text": [
      "\r",
      "  0%|          | 2/100000 [00:10<150:28:02,  5.42s/it]"
     ]
    },
    {
     "name": "stdout",
     "output_type": "stream",
     "text": [
      "6734706 -0.011958062721951311\n"
     ]
    },
    {
     "name": "stderr",
     "output_type": "stream",
     "text": [
      "\r",
      "  0%|          | 4/100000 [00:12<111:31:10,  4.01s/it]"
     ]
    },
    {
     "name": "stdout",
     "output_type": "stream",
     "text": [
      "1757253 -0.06253406336676313\n"
     ]
    },
    {
     "name": "stderr",
     "output_type": "stream",
     "text": [
      "\r",
      "  0%|          | 6/100000 [00:13<83:19:40,  3.00s/it] "
     ]
    },
    {
     "name": "stdout",
     "output_type": "stream",
     "text": [
      "1440860 -0.029219200839024385\n"
     ]
    },
    {
     "name": "stderr",
     "output_type": "stream",
     "text": [
      "\r",
      "  0%|          | 7/100000 [00:14<69:11:31,  2.49s/it]"
     ]
    },
    {
     "name": "stdout",
     "output_type": "stream",
     "text": [
      "1391497 -0.028220196567166452\n"
     ]
    },
    {
     "name": "stderr",
     "output_type": "stream",
     "text": [
      "\r",
      "  0%|          | 9/100000 [00:16<54:25:42,  1.96s/it]"
     ]
    },
    {
     "name": "stdout",
     "output_type": "stream",
     "text": [
      "1204816 -0.03557201865011078\n"
     ]
    },
    {
     "name": "stderr",
     "output_type": "stream",
     "text": [
      "\r",
      "  0%|          | 10/100000 [00:17<46:49:38,  1.69s/it]"
     ]
    },
    {
     "name": "stdout",
     "output_type": "stream",
     "text": [
      "1049757 -0.05718333908076264\n"
     ]
    },
    {
     "name": "stderr",
     "output_type": "stream",
     "text": [
      "\r",
      "  0%|          | 11/100000 [00:18<40:38:43,  1.46s/it]"
     ]
    },
    {
     "name": "stdout",
     "output_type": "stream",
     "text": [
      "982370 -0.05039008242871053\n"
     ]
    },
    {
     "name": "stderr",
     "output_type": "stream",
     "text": [
      "\r",
      "  0%|          | 12/100000 [00:19<35:55:45,  1.29s/it]"
     ]
    },
    {
     "name": "stdout",
     "output_type": "stream",
     "text": [
      "900572 -0.020720794745091337\n"
     ]
    },
    {
     "name": "stderr",
     "output_type": "stream",
     "text": [
      "\r",
      "  0%|          | 13/100000 [00:20<32:18:40,  1.16s/it]"
     ]
    },
    {
     "name": "stdout",
     "output_type": "stream",
     "text": [
      "849659 -0.03819003464500932\n"
     ]
    },
    {
     "name": "stderr",
     "output_type": "stream",
     "text": [
      "\r",
      "  0%|          | 14/100000 [00:20<29:41:10,  1.07s/it]"
     ]
    },
    {
     "name": "stdout",
     "output_type": "stream",
     "text": [
      "827829 -0.03889204531320107\n"
     ]
    },
    {
     "name": "stderr",
     "output_type": "stream",
     "text": [
      "\r",
      "  0%|          | 15/100000 [00:21<27:51:25,  1.00s/it]"
     ]
    },
    {
     "name": "stdout",
     "output_type": "stream",
     "text": [
      "825755 -0.025104077672833305\n"
     ]
    },
    {
     "name": "stderr",
     "output_type": "stream",
     "text": [
      "\r",
      "  0%|          | 16/100000 [00:22<26:07:55,  1.06it/s]"
     ]
    },
    {
     "name": "stdout",
     "output_type": "stream",
     "text": [
      "755064 -0.018316472001487696\n"
     ]
    },
    {
     "name": "stderr",
     "output_type": "stream",
     "text": [
      "\r",
      "  0%|          | 16/100000 [00:23<40:26:34,  1.46s/it]"
     ]
    },
    {
     "name": "stdout",
     "output_type": "stream",
     "text": [
      "716876 -0.03342303906253915\n"
     ]
    },
    {
     "name": "stderr",
     "output_type": "stream",
     "text": [
      "\n"
     ]
    }
   ],
   "source": [
    "for i in tqdm(range(50000,150000)):\n",
    "    token_indicator_arr = create_array(i)\n",
    "    token_count = np.sum(token_indicator_arr)\n",
    "    r, p = 0, 0\n",
    "    if token_count > 0:\n",
    "        r, p = scipy.stats.pointbiserialr(token_indicator_arr, misalignment)\n",
    "        print(token_count, r)\n",
    "    if i > 50015:\n",
    "        break"
   ]
  },
  {
   "cell_type": "code",
   "execution_count": 40,
   "metadata": {},
   "outputs": [
    {
     "data": {
      "text/plain": [
       "9584147"
      ]
     },
     "execution_count": 40,
     "metadata": {},
     "output_type": "execute_result"
    }
   ],
   "source": [
    "len(token_indicator_arr)"
   ]
  },
  {
   "cell_type": "code",
   "execution_count": 41,
   "metadata": {},
   "outputs": [
    {
     "data": {
      "text/plain": [
       "11735531"
      ]
     },
     "execution_count": 41,
     "metadata": {},
     "output_type": "execute_result"
    }
   ],
   "source": [
    "len(merged_preds_df.raw_misalignment)"
   ]
  },
  {
   "cell_type": "code",
   "execution_count": 42,
   "metadata": {},
   "outputs": [
    {
     "name": "stderr",
     "output_type": "stream",
     "text": [
      "100%|██████████| 11735531/11735531 [00:21<00:00, 545858.98it/s]\n"
     ]
    }
   ],
   "source": [
    "rev_id_misalignment_dict = {row.rev_id: row.raw_misalignment for row in tqdm(merged_preds_df.itertuples(), total=len(merged_preds_df), desc='Building misalignment dict')}"
   ]
  },
  {
   "cell_type": "code",
   "execution_count": 44,
   "metadata": {},
   "outputs": [
    {
     "name": "stderr",
     "output_type": "stream",
     "text": [
      "Building misalignment arr: 100%|██████████| 9584147/9584147 [00:10<00:00, 895338.73it/s] \n"
     ]
    }
   ],
   "source": [
    "misalignment = np.zeros(len(rev_id_list), dtype=float)\n",
    "for i, rev_id in tqdm(enumerate(rev_id_list), total=len(rev_id_list), desc='Building misalignment arr'):\n",
    "    if rev_id in rev_id_misalignment_dict:\n",
    "        misalignment[i] = rev_id_misalignment_dict[rev_id]"
   ]
  },
  {
   "cell_type": "code",
   "execution_count": null,
   "metadata": {},
   "outputs": [],
   "source": []
  },
  {
   "cell_type": "code",
   "execution_count": 52,
   "metadata": {},
   "outputs": [],
   "source": [
    "content_vocab_dict_fromIndex = {value: key for key, value in content_vocab_dict.items()}\n",
    "removed_vocab_dict_fromIndex = {value: key for key, value in removed_vocab_dict.items()}\n",
    "inserted_vocab_dict_fromIndex = {value: key for key, value in inserted_vocab_dict.items()}"
   ]
  },
  {
   "cell_type": "code",
   "execution_count": 56,
   "metadata": {},
   "outputs": [
    {
     "data": {
      "text/plain": [
       "100000"
      ]
     },
     "execution_count": 56,
     "metadata": {},
     "output_type": "execute_result"
    }
   ],
   "source": [
    "corr_list = []\n",
    "with open(os.path.join(audit_dir, 'doc_corr_2020-08-01T05:40:00Z.csv')) as infile:\n",
    "    for line in infile:\n",
    "        token_index, token_count, r, p = line.strip().split(\",\")\n",
    "        token_index, token_count, r, p = int(token_index), int(token_count), float(r), float(p)\n",
    "        if token_index < 50000:\n",
    "            token = content_vocab_dict_fromIndex[token_index] if token_index in content_vocab_dict_fromIndex else ','\n",
    "        elif token_index >= 50000 and token_index < 100000:\n",
    "            token = removed_vocab_dict_fromIndex[token_index - 50000] if token_index - 50000 in removed_vocab_dict_fromIndex else ','\n",
    "        elif token_index >= 100000 and token_index < 150000:\n",
    "            token = inserted_vocab_dict_fromIndex[token_index - 100000] if token_index - 100000 in inserted_vocab_dict_fromIndex else ','\n",
    "        else:\n",
    "            raise ValueError(f\"Token index ({token_index}) should be in [0,149999]\")\n",
    "        corr_list.append({\n",
    "            'token_index': token_index, \n",
    "            'token': token,\n",
    "            'token_count': token_count, \n",
    "            'r': r\n",
    "        })\n",
    "corr_df = pd.DataFrame(corr_list)\n",
    "len(corr_df)"
   ]
  },
  {
   "cell_type": "code",
   "execution_count": 57,
   "metadata": {},
   "outputs": [
    {
     "data": {
      "text/html": [
       "<div>\n",
       "<style scoped>\n",
       "    .dataframe tbody tr th:only-of-type {\n",
       "        vertical-align: middle;\n",
       "    }\n",
       "\n",
       "    .dataframe tbody tr th {\n",
       "        vertical-align: top;\n",
       "    }\n",
       "\n",
       "    .dataframe thead th {\n",
       "        text-align: right;\n",
       "    }\n",
       "</style>\n",
       "<table border=\"1\" class=\"dataframe\">\n",
       "  <thead>\n",
       "    <tr style=\"text-align: right;\">\n",
       "      <th></th>\n",
       "      <th>token_index</th>\n",
       "      <th>token</th>\n",
       "      <th>token_count</th>\n",
       "      <th>r</th>\n",
       "    </tr>\n",
       "  </thead>\n",
       "  <tbody>\n",
       "    <tr>\n",
       "      <th>0</th>\n",
       "      <td>50000</td>\n",
       "      <td>REMOVAL_END</td>\n",
       "      <td>6734706</td>\n",
       "      <td>-0.011958</td>\n",
       "    </tr>\n",
       "    <tr>\n",
       "      <th>1</th>\n",
       "      <td>50001</td>\n",
       "      <td>REMOVAL_START</td>\n",
       "      <td>6734706</td>\n",
       "      <td>-0.011958</td>\n",
       "    </tr>\n",
       "    <tr>\n",
       "      <th>2</th>\n",
       "      <td>50002</td>\n",
       "      <td>WHITESPACE</td>\n",
       "      <td>0</td>\n",
       "      <td>0.000000</td>\n",
       "    </tr>\n",
       "    <tr>\n",
       "      <th>3</th>\n",
       "      <td>50003</td>\n",
       "      <td>|</td>\n",
       "      <td>1757253</td>\n",
       "      <td>-0.062534</td>\n",
       "    </tr>\n",
       "    <tr>\n",
       "      <th>4</th>\n",
       "      <td>50004</td>\n",
       "      <td>NEWLINE</td>\n",
       "      <td>0</td>\n",
       "      <td>0.000000</td>\n",
       "    </tr>\n",
       "  </tbody>\n",
       "</table>\n",
       "</div>"
      ],
      "text/plain": [
       "   token_index          token  token_count         r\n",
       "0        50000    REMOVAL_END      6734706 -0.011958\n",
       "1        50001  REMOVAL_START      6734706 -0.011958\n",
       "2        50002     WHITESPACE            0  0.000000\n",
       "3        50003              |      1757253 -0.062534\n",
       "4        50004        NEWLINE            0  0.000000"
      ]
     },
     "execution_count": 57,
     "metadata": {},
     "output_type": "execute_result"
    }
   ],
   "source": [
    "corr_df.head()"
   ]
  },
  {
   "cell_type": "code",
   "execution_count": 75,
   "metadata": {},
   "outputs": [
    {
     "data": {
      "image/png": "[encoded data removed]",
      "text/plain": [
       "<Figure size 720x720 with 2 Axes>"
      ]
     },
     "metadata": {
      "needs_background": "light"
     },
     "output_type": "display_data"
    }
   ],
   "source": [
    "removed_corrs = corr_df[corr_df.token_index < 100000].sort_values(by='r')\n",
    "\n",
    "fig, ax = plt.subplots(1, 1, figsize=(10, 10))\n",
    "hb = plt.hexbin(removed_corrs.token_count, removed_corrs.r, bins='log', gridsize=(50,50), mincnt=1)\n",
    "plt.xlabel('Token Count')\n",
    "plt.ylabel('Correlation with Misalignment (P(ORES-d) - P(revert))')\n",
    "\n",
    "cb = fig.colorbar(hb, ax=ax)\n",
    "cb.set_label('Bin Count')\n",
    "\n",
    "plt.show()"
   ]
  },
  {
   "cell_type": "code",
   "execution_count": 74,
   "metadata": {},
   "outputs": [
    {
     "data": {
      "text/html": [
       "<div>\n",
       "<style scoped>\n",
       "    .dataframe tbody tr th:only-of-type {\n",
       "        vertical-align: middle;\n",
       "    }\n",
       "\n",
       "    .dataframe tbody tr th {\n",
       "        vertical-align: top;\n",
       "    }\n",
       "\n",
       "    .dataframe thead th {\n",
       "        text-align: right;\n",
       "    }\n",
       "</style>\n",
       "<table border=\"1\" class=\"dataframe\">\n",
       "  <thead>\n",
       "    <tr style=\"text-align: right;\">\n",
       "      <th></th>\n",
       "      <th>token_index</th>\n",
       "      <th>token</th>\n",
       "      <th>token_count</th>\n",
       "      <th>r</th>\n",
       "    </tr>\n",
       "  </thead>\n",
       "  <tbody>\n",
       "    <tr>\n",
       "      <th>3</th>\n",
       "      <td>50003</td>\n",
       "      <td>|</td>\n",
       "      <td>1757253</td>\n",
       "      <td>-0.062534</td>\n",
       "    </tr>\n",
       "    <tr>\n",
       "      <th>9</th>\n",
       "      <td>50009</td>\n",
       "      <td>=</td>\n",
       "      <td>1049757</td>\n",
       "      <td>-0.057183</td>\n",
       "    </tr>\n",
       "    <tr>\n",
       "      <th>10</th>\n",
       "      <td>50010</td>\n",
       "      <td>-</td>\n",
       "      <td>982370</td>\n",
       "      <td>-0.050390</td>\n",
       "    </tr>\n",
       "    <tr>\n",
       "      <th>33</th>\n",
       "      <td>50033</td>\n",
       "      <td>2</td>\n",
       "      <td>338166</td>\n",
       "      <td>-0.048558</td>\n",
       "    </tr>\n",
       "    <tr>\n",
       "      <th>31</th>\n",
       "      <td>50031</td>\n",
       "      <td>1</td>\n",
       "      <td>339574</td>\n",
       "      <td>-0.047408</td>\n",
       "    </tr>\n",
       "    <tr>\n",
       "      <th>20</th>\n",
       "      <td>50020</td>\n",
       "      <td>:</td>\n",
       "      <td>594593</td>\n",
       "      <td>-0.047175</td>\n",
       "    </tr>\n",
       "    <tr>\n",
       "      <th>43</th>\n",
       "      <td>50043</td>\n",
       "      <td>3</td>\n",
       "      <td>269409</td>\n",
       "      <td>-0.045081</td>\n",
       "    </tr>\n",
       "    <tr>\n",
       "      <th>46</th>\n",
       "      <td>50046</td>\n",
       "      <td>4</td>\n",
       "      <td>230343</td>\n",
       "      <td>-0.042644</td>\n",
       "    </tr>\n",
       "    <tr>\n",
       "      <th>50</th>\n",
       "      <td>50050</td>\n",
       "      <td>5</td>\n",
       "      <td>216495</td>\n",
       "      <td>-0.040716</td>\n",
       "    </tr>\n",
       "    <tr>\n",
       "      <th>25</th>\n",
       "      <td>50025</td>\n",
       "      <td>2018</td>\n",
       "      <td>396658</td>\n",
       "      <td>-0.039782</td>\n",
       "    </tr>\n",
       "    <tr>\n",
       "      <th>53</th>\n",
       "      <td>50053</td>\n",
       "      <td>10</td>\n",
       "      <td>207984</td>\n",
       "      <td>-0.039401</td>\n",
       "    </tr>\n",
       "    <tr>\n",
       "      <th>57</th>\n",
       "      <td>50057</td>\n",
       "      <td>6</td>\n",
       "      <td>189374</td>\n",
       "      <td>-0.039314</td>\n",
       "    </tr>\n",
       "    <tr>\n",
       "      <th>13</th>\n",
       "      <td>50013</td>\n",
       "      <td>{{</td>\n",
       "      <td>827829</td>\n",
       "      <td>-0.038892</td>\n",
       "    </tr>\n",
       "    <tr>\n",
       "      <th>62</th>\n",
       "      <td>50062</td>\n",
       "      <td>7</td>\n",
       "      <td>177490</td>\n",
       "      <td>-0.038458</td>\n",
       "    </tr>\n",
       "    <tr>\n",
       "      <th>12</th>\n",
       "      <td>50012</td>\n",
       "      <td>}}</td>\n",
       "      <td>849659</td>\n",
       "      <td>-0.038190</td>\n",
       "    </tr>\n",
       "    <tr>\n",
       "      <th>65</th>\n",
       "      <td>50065</td>\n",
       "      <td>8</td>\n",
       "      <td>169292</td>\n",
       "      <td>-0.037890</td>\n",
       "    </tr>\n",
       "    <tr>\n",
       "      <th>67</th>\n",
       "      <td>50067</td>\n",
       "      <td>11</td>\n",
       "      <td>163059</td>\n",
       "      <td>-0.036926</td>\n",
       "    </tr>\n",
       "    <tr>\n",
       "      <th>68</th>\n",
       "      <td>50068</td>\n",
       "      <td>9</td>\n",
       "      <td>160735</td>\n",
       "      <td>-0.036384</td>\n",
       "    </tr>\n",
       "    <tr>\n",
       "      <th>69</th>\n",
       "      <td>50069</td>\n",
       "      <td>12</td>\n",
       "      <td>160292</td>\n",
       "      <td>-0.036310</td>\n",
       "    </tr>\n",
       "    <tr>\n",
       "      <th>74</th>\n",
       "      <td>50074</td>\n",
       "      <td>0</td>\n",
       "      <td>154865</td>\n",
       "      <td>-0.035864</td>\n",
       "    </tr>\n",
       "    <tr>\n",
       "      <th>8</th>\n",
       "      <td>50008</td>\n",
       "      <td>.</td>\n",
       "      <td>1204816</td>\n",
       "      <td>-0.035572</td>\n",
       "    </tr>\n",
       "    <tr>\n",
       "      <th>35</th>\n",
       "      <td>50035</td>\n",
       "      <td>&lt;ref&gt;</td>\n",
       "      <td>334525</td>\n",
       "      <td>-0.034020</td>\n",
       "    </tr>\n",
       "    <tr>\n",
       "      <th>28</th>\n",
       "      <td>50028</td>\n",
       "      <td>\"</td>\n",
       "      <td>375863</td>\n",
       "      <td>-0.033967</td>\n",
       "    </tr>\n",
       "    <tr>\n",
       "      <th>24</th>\n",
       "      <td>50024</td>\n",
       "      <td>date</td>\n",
       "      <td>418965</td>\n",
       "      <td>-0.033908</td>\n",
       "    </tr>\n",
       "    <tr>\n",
       "      <th>87</th>\n",
       "      <td>50087</td>\n",
       "      <td>15</td>\n",
       "      <td>133657</td>\n",
       "      <td>-0.033776</td>\n",
       "    </tr>\n",
       "    <tr>\n",
       "      <th>16</th>\n",
       "      <td>50016</td>\n",
       "      <td>(</td>\n",
       "      <td>716876</td>\n",
       "      <td>-0.033423</td>\n",
       "    </tr>\n",
       "    <tr>\n",
       "      <th>94</th>\n",
       "      <td>50094</td>\n",
       "      <td>13</td>\n",
       "      <td>123218</td>\n",
       "      <td>-0.033170</td>\n",
       "    </tr>\n",
       "    <tr>\n",
       "      <th>96</th>\n",
       "      <td>50096</td>\n",
       "      <td>14</td>\n",
       "      <td>122560</td>\n",
       "      <td>-0.033153</td>\n",
       "    </tr>\n",
       "    <tr>\n",
       "      <th>17</th>\n",
       "      <td>50017</td>\n",
       "      <td>)</td>\n",
       "      <td>714543</td>\n",
       "      <td>-0.033046</td>\n",
       "    </tr>\n",
       "    <tr>\n",
       "      <th>86</th>\n",
       "      <td>50086</td>\n",
       "      <td>20</td>\n",
       "      <td>133955</td>\n",
       "      <td>-0.032804</td>\n",
       "    </tr>\n",
       "    <tr>\n",
       "      <th>95</th>\n",
       "      <td>50095</td>\n",
       "      <td>16</td>\n",
       "      <td>122950</td>\n",
       "      <td>-0.032464</td>\n",
       "    </tr>\n",
       "    <tr>\n",
       "      <th>100</th>\n",
       "      <td>50100</td>\n",
       "      <td>17</td>\n",
       "      <td>117314</td>\n",
       "      <td>-0.032397</td>\n",
       "    </tr>\n",
       "    <tr>\n",
       "      <th>49</th>\n",
       "      <td>50049</td>\n",
       "      <td>–</td>\n",
       "      <td>218718</td>\n",
       "      <td>-0.032065</td>\n",
       "    </tr>\n",
       "    <tr>\n",
       "      <th>39</th>\n",
       "      <td>50039</td>\n",
       "      <td>url</td>\n",
       "      <td>301483</td>\n",
       "      <td>-0.031885</td>\n",
       "    </tr>\n",
       "    <tr>\n",
       "      <th>98</th>\n",
       "      <td>50098</td>\n",
       "      <td>18</td>\n",
       "      <td>120701</td>\n",
       "      <td>-0.031552</td>\n",
       "    </tr>\n",
       "    <tr>\n",
       "      <th>54</th>\n",
       "      <td>50054</td>\n",
       "      <td>[</td>\n",
       "      <td>203012</td>\n",
       "      <td>-0.031322</td>\n",
       "    </tr>\n",
       "    <tr>\n",
       "      <th>29</th>\n",
       "      <td>50029</td>\n",
       "      <td>&lt;/ref&gt;</td>\n",
       "      <td>370845</td>\n",
       "      <td>-0.031068</td>\n",
       "    </tr>\n",
       "    <tr>\n",
       "      <th>36</th>\n",
       "      <td>50036</td>\n",
       "      <td>title</td>\n",
       "      <td>330575</td>\n",
       "      <td>-0.030971</td>\n",
       "    </tr>\n",
       "    <tr>\n",
       "      <th>102</th>\n",
       "      <td>50102</td>\n",
       "      <td>19</td>\n",
       "      <td>115355</td>\n",
       "      <td>-0.030931</td>\n",
       "    </tr>\n",
       "    <tr>\n",
       "      <th>30</th>\n",
       "      <td>50030</td>\n",
       "      <td>''</td>\n",
       "      <td>348190</td>\n",
       "      <td>-0.030912</td>\n",
       "    </tr>\n",
       "    <tr>\n",
       "      <th>79</th>\n",
       "      <td>50079</td>\n",
       "      <td>September</td>\n",
       "      <td>145347</td>\n",
       "      <td>-0.030894</td>\n",
       "    </tr>\n",
       "    <tr>\n",
       "      <th>123</th>\n",
       "      <td>50123</td>\n",
       "      <td>22</td>\n",
       "      <td>101956</td>\n",
       "      <td>-0.030549</td>\n",
       "    </tr>\n",
       "    <tr>\n",
       "      <th>101</th>\n",
       "      <td>50101</td>\n",
       "      <td>30</td>\n",
       "      <td>116695</td>\n",
       "      <td>-0.030506</td>\n",
       "    </tr>\n",
       "    <tr>\n",
       "      <th>115</th>\n",
       "      <td>50115</td>\n",
       "      <td>21</td>\n",
       "      <td>106814</td>\n",
       "      <td>-0.030486</td>\n",
       "    </tr>\n",
       "    <tr>\n",
       "      <th>13020</th>\n",
       "      <td>63020</td>\n",
       "      <td>,</td>\n",
       "      <td>1299877</td>\n",
       "      <td>-0.030464</td>\n",
       "    </tr>\n",
       "    <tr>\n",
       "      <th>122</th>\n",
       "      <td>50122</td>\n",
       "      <td>25</td>\n",
       "      <td>102912</td>\n",
       "      <td>-0.030369</td>\n",
       "    </tr>\n",
       "    <tr>\n",
       "      <th>59</th>\n",
       "      <td>50059</td>\n",
       "      <td>2017</td>\n",
       "      <td>180921</td>\n",
       "      <td>-0.030291</td>\n",
       "    </tr>\n",
       "    <tr>\n",
       "      <th>63</th>\n",
       "      <td>50063</td>\n",
       "      <td>publisher</td>\n",
       "      <td>175212</td>\n",
       "      <td>-0.030169</td>\n",
       "    </tr>\n",
       "    <tr>\n",
       "      <th>133</th>\n",
       "      <td>50133</td>\n",
       "      <td>24</td>\n",
       "      <td>97644</td>\n",
       "      <td>-0.029949</td>\n",
       "    </tr>\n",
       "    <tr>\n",
       "      <th>131</th>\n",
       "      <td>50131</td>\n",
       "      <td>23</td>\n",
       "      <td>97938</td>\n",
       "      <td>-0.029843</td>\n",
       "    </tr>\n",
       "  </tbody>\n",
       "</table>\n",
       "</div>"
      ],
      "text/plain": [
       "       token_index      token  token_count         r\n",
       "3            50003          |      1757253 -0.062534\n",
       "9            50009          =      1049757 -0.057183\n",
       "10           50010          -       982370 -0.050390\n",
       "33           50033          2       338166 -0.048558\n",
       "31           50031          1       339574 -0.047408\n",
       "20           50020          :       594593 -0.047175\n",
       "43           50043          3       269409 -0.045081\n",
       "46           50046          4       230343 -0.042644\n",
       "50           50050          5       216495 -0.040716\n",
       "25           50025       2018       396658 -0.039782\n",
       "53           50053         10       207984 -0.039401\n",
       "57           50057          6       189374 -0.039314\n",
       "13           50013         {{       827829 -0.038892\n",
       "62           50062          7       177490 -0.038458\n",
       "12           50012         }}       849659 -0.038190\n",
       "65           50065          8       169292 -0.037890\n",
       "67           50067         11       163059 -0.036926\n",
       "68           50068          9       160735 -0.036384\n",
       "69           50069         12       160292 -0.036310\n",
       "74           50074          0       154865 -0.035864\n",
       "8            50008          .      1204816 -0.035572\n",
       "35           50035      <ref>       334525 -0.034020\n",
       "28           50028          \"       375863 -0.033967\n",
       "24           50024       date       418965 -0.033908\n",
       "87           50087         15       133657 -0.033776\n",
       "16           50016          (       716876 -0.033423\n",
       "94           50094         13       123218 -0.033170\n",
       "96           50096         14       122560 -0.033153\n",
       "17           50017          )       714543 -0.033046\n",
       "86           50086         20       133955 -0.032804\n",
       "95           50095         16       122950 -0.032464\n",
       "100          50100         17       117314 -0.032397\n",
       "49           50049          –       218718 -0.032065\n",
       "39           50039        url       301483 -0.031885\n",
       "98           50098         18       120701 -0.031552\n",
       "54           50054          [       203012 -0.031322\n",
       "29           50029     </ref>       370845 -0.031068\n",
       "36           50036      title       330575 -0.030971\n",
       "102          50102         19       115355 -0.030931\n",
       "30           50030         ''       348190 -0.030912\n",
       "79           50079  September       145347 -0.030894\n",
       "123          50123         22       101956 -0.030549\n",
       "101          50101         30       116695 -0.030506\n",
       "115          50115         21       106814 -0.030486\n",
       "13020        63020          ,      1299877 -0.030464\n",
       "122          50122         25       102912 -0.030369\n",
       "59           50059       2017       180921 -0.030291\n",
       "63           50063  publisher       175212 -0.030169\n",
       "133          50133         24        97644 -0.029949\n",
       "131          50131         23        97938 -0.029843"
      ]
     },
     "execution_count": 74,
     "metadata": {},
     "output_type": "execute_result"
    }
   ],
   "source": [
    "removed_corrs.head(50)"
   ]
  },
  {
   "cell_type": "code",
   "execution_count": 73,
   "metadata": {},
   "outputs": [
    {
     "data": {
      "text/html": [
       "<div>\n",
       "<style scoped>\n",
       "    .dataframe tbody tr th:only-of-type {\n",
       "        vertical-align: middle;\n",
       "    }\n",
       "\n",
       "    .dataframe tbody tr th {\n",
       "        vertical-align: top;\n",
       "    }\n",
       "\n",
       "    .dataframe thead th {\n",
       "        text-align: right;\n",
       "    }\n",
       "</style>\n",
       "<table border=\"1\" class=\"dataframe\">\n",
       "  <thead>\n",
       "    <tr style=\"text-align: right;\">\n",
       "      <th></th>\n",
       "      <th>token_index</th>\n",
       "      <th>token</th>\n",
       "      <th>token_count</th>\n",
       "      <th>r</th>\n",
       "    </tr>\n",
       "  </thead>\n",
       "  <tbody>\n",
       "    <tr>\n",
       "      <th>6237</th>\n",
       "      <td>56237</td>\n",
       "      <td>Vijay</td>\n",
       "      <td>2409</td>\n",
       "      <td>0.001507</td>\n",
       "    </tr>\n",
       "    <tr>\n",
       "      <th>24309</th>\n",
       "      <td>74309</td>\n",
       "      <td>Sameer</td>\n",
       "      <td>430</td>\n",
       "      <td>0.001509</td>\n",
       "    </tr>\n",
       "    <tr>\n",
       "      <th>36568</th>\n",
       "      <td>86568</td>\n",
       "      <td>Vyas</td>\n",
       "      <td>237</td>\n",
       "      <td>0.001526</td>\n",
       "    </tr>\n",
       "    <tr>\n",
       "      <th>25150</th>\n",
       "      <td>75150</td>\n",
       "      <td>Rukh</td>\n",
       "      <td>410</td>\n",
       "      <td>0.001538</td>\n",
       "    </tr>\n",
       "    <tr>\n",
       "      <th>47190</th>\n",
       "      <td>97190</td>\n",
       "      <td>Roop</td>\n",
       "      <td>162</td>\n",
       "      <td>0.001589</td>\n",
       "    </tr>\n",
       "    <tr>\n",
       "      <th>46188</th>\n",
       "      <td>96188</td>\n",
       "      <td>Nidhi</td>\n",
       "      <td>167</td>\n",
       "      <td>0.001596</td>\n",
       "    </tr>\n",
       "    <tr>\n",
       "      <th>37089</th>\n",
       "      <td>87089</td>\n",
       "      <td>Sneha</td>\n",
       "      <td>232</td>\n",
       "      <td>0.001602</td>\n",
       "    </tr>\n",
       "    <tr>\n",
       "      <th>17660</th>\n",
       "      <td>67660</td>\n",
       "      <td>Pooja</td>\n",
       "      <td>684</td>\n",
       "      <td>0.001618</td>\n",
       "    </tr>\n",
       "    <tr>\n",
       "      <th>23220</th>\n",
       "      <td>73220</td>\n",
       "      <td>Anjali</td>\n",
       "      <td>461</td>\n",
       "      <td>0.001646</td>\n",
       "    </tr>\n",
       "    <tr>\n",
       "      <th>26535</th>\n",
       "      <td>76535</td>\n",
       "      <td>Mohanlal</td>\n",
       "      <td>379</td>\n",
       "      <td>0.001683</td>\n",
       "    </tr>\n",
       "    <tr>\n",
       "      <th>36995</th>\n",
       "      <td>86995</td>\n",
       "      <td>symbiote</td>\n",
       "      <td>233</td>\n",
       "      <td>0.001690</td>\n",
       "    </tr>\n",
       "    <tr>\n",
       "      <th>32725</th>\n",
       "      <td>82725</td>\n",
       "      <td>Surbhi</td>\n",
       "      <td>279</td>\n",
       "      <td>0.001697</td>\n",
       "    </tr>\n",
       "    <tr>\n",
       "      <th>18273</th>\n",
       "      <td>68273</td>\n",
       "      <td>Arriva</td>\n",
       "      <td>652</td>\n",
       "      <td>0.001705</td>\n",
       "    </tr>\n",
       "    <tr>\n",
       "      <th>39661</th>\n",
       "      <td>89661</td>\n",
       "      <td>tocright</td>\n",
       "      <td>210</td>\n",
       "      <td>0.001778</td>\n",
       "    </tr>\n",
       "    <tr>\n",
       "      <th>43645</th>\n",
       "      <td>93645</td>\n",
       "      <td>Vasu</td>\n",
       "      <td>182</td>\n",
       "      <td>0.001794</td>\n",
       "    </tr>\n",
       "    <tr>\n",
       "      <th>36168</th>\n",
       "      <td>86168</td>\n",
       "      <td>instalment</td>\n",
       "      <td>241</td>\n",
       "      <td>0.001855</td>\n",
       "    </tr>\n",
       "    <tr>\n",
       "      <th>8275</th>\n",
       "      <td>58275</td>\n",
       "      <td>Ravi</td>\n",
       "      <td>1726</td>\n",
       "      <td>0.001874</td>\n",
       "    </tr>\n",
       "    <tr>\n",
       "      <th>20233</th>\n",
       "      <td>70233</td>\n",
       "      <td>realises</td>\n",
       "      <td>563</td>\n",
       "      <td>0.001902</td>\n",
       "    </tr>\n",
       "    <tr>\n",
       "      <th>48455</th>\n",
       "      <td>98455</td>\n",
       "      <td>Kievan</td>\n",
       "      <td>155</td>\n",
       "      <td>0.001951</td>\n",
       "    </tr>\n",
       "    <tr>\n",
       "      <th>9539</th>\n",
       "      <td>59539</td>\n",
       "      <td>wiktionary</td>\n",
       "      <td>1465</td>\n",
       "      <td>0.001999</td>\n",
       "    </tr>\n",
       "    <tr>\n",
       "      <th>33197</th>\n",
       "      <td>83197</td>\n",
       "      <td>Desam</td>\n",
       "      <td>273</td>\n",
       "      <td>0.002008</td>\n",
       "    </tr>\n",
       "    <tr>\n",
       "      <th>22309</th>\n",
       "      <td>72309</td>\n",
       "      <td>pos2</td>\n",
       "      <td>488</td>\n",
       "      <td>0.002027</td>\n",
       "    </tr>\n",
       "    <tr>\n",
       "      <th>38670</th>\n",
       "      <td>88670</td>\n",
       "      <td>Sreesanth</td>\n",
       "      <td>218</td>\n",
       "      <td>0.002041</td>\n",
       "    </tr>\n",
       "    <tr>\n",
       "      <th>42133</th>\n",
       "      <td>92133</td>\n",
       "      <td>Yahweh</td>\n",
       "      <td>191</td>\n",
       "      <td>0.002086</td>\n",
       "    </tr>\n",
       "    <tr>\n",
       "      <th>35012</th>\n",
       "      <td>85012</td>\n",
       "      <td>Akkineni</td>\n",
       "      <td>253</td>\n",
       "      <td>0.002092</td>\n",
       "    </tr>\n",
       "    <tr>\n",
       "      <th>11306</th>\n",
       "      <td>61306</td>\n",
       "      <td>Babu</td>\n",
       "      <td>1189</td>\n",
       "      <td>0.002187</td>\n",
       "    </tr>\n",
       "    <tr>\n",
       "      <th>13422</th>\n",
       "      <td>63422</td>\n",
       "      <td>monk</td>\n",
       "      <td>961</td>\n",
       "      <td>0.002194</td>\n",
       "    </tr>\n",
       "    <tr>\n",
       "      <th>27722</th>\n",
       "      <td>77722</td>\n",
       "      <td>Faizabad</td>\n",
       "      <td>356</td>\n",
       "      <td>0.002238</td>\n",
       "    </tr>\n",
       "    <tr>\n",
       "      <th>41004</th>\n",
       "      <td>91004</td>\n",
       "      <td>Raghav</td>\n",
       "      <td>200</td>\n",
       "      <td>0.002287</td>\n",
       "    </tr>\n",
       "    <tr>\n",
       "      <th>47550</th>\n",
       "      <td>97550</td>\n",
       "      <td>Bhalla</td>\n",
       "      <td>160</td>\n",
       "      <td>0.002335</td>\n",
       "    </tr>\n",
       "    <tr>\n",
       "      <th>31173</th>\n",
       "      <td>81173</td>\n",
       "      <td>Badlani</td>\n",
       "      <td>300</td>\n",
       "      <td>0.002460</td>\n",
       "    </tr>\n",
       "    <tr>\n",
       "      <th>23023</th>\n",
       "      <td>73023</td>\n",
       "      <td>Londonderry</td>\n",
       "      <td>467</td>\n",
       "      <td>0.002481</td>\n",
       "    </tr>\n",
       "    <tr>\n",
       "      <th>46985</th>\n",
       "      <td>96985</td>\n",
       "      <td>Rifftrax</td>\n",
       "      <td>163</td>\n",
       "      <td>0.002517</td>\n",
       "    </tr>\n",
       "    <tr>\n",
       "      <th>34589</th>\n",
       "      <td>84589</td>\n",
       "      <td>pseudoscientific</td>\n",
       "      <td>257</td>\n",
       "      <td>0.002555</td>\n",
       "    </tr>\n",
       "    <tr>\n",
       "      <th>11156</th>\n",
       "      <td>61156</td>\n",
       "      <td>Rajput</td>\n",
       "      <td>1210</td>\n",
       "      <td>0.002575</td>\n",
       "    </tr>\n",
       "    <tr>\n",
       "      <th>47276</th>\n",
       "      <td>97276</td>\n",
       "      <td>Koli</td>\n",
       "      <td>161</td>\n",
       "      <td>0.002578</td>\n",
       "    </tr>\n",
       "    <tr>\n",
       "      <th>7937</th>\n",
       "      <td>57937</td>\n",
       "      <td>TOC</td>\n",
       "      <td>1807</td>\n",
       "      <td>0.002588</td>\n",
       "    </tr>\n",
       "    <tr>\n",
       "      <th>48129</th>\n",
       "      <td>98129</td>\n",
       "      <td>gainsboro</td>\n",
       "      <td>157</td>\n",
       "      <td>0.002688</td>\n",
       "    </tr>\n",
       "    <tr>\n",
       "      <th>10935</th>\n",
       "      <td>60935</td>\n",
       "      <td>Arjun</td>\n",
       "      <td>1240</td>\n",
       "      <td>0.002778</td>\n",
       "    </tr>\n",
       "    <tr>\n",
       "      <th>46045</th>\n",
       "      <td>96045</td>\n",
       "      <td>Mammootty</td>\n",
       "      <td>168</td>\n",
       "      <td>0.002795</td>\n",
       "    </tr>\n",
       "    <tr>\n",
       "      <th>6729</th>\n",
       "      <td>56729</td>\n",
       "      <td>Seasonal</td>\n",
       "      <td>2213</td>\n",
       "      <td>0.002952</td>\n",
       "    </tr>\n",
       "    <tr>\n",
       "      <th>48710</th>\n",
       "      <td>98710</td>\n",
       "      <td>RTO</td>\n",
       "      <td>154</td>\n",
       "      <td>0.002954</td>\n",
       "    </tr>\n",
       "    <tr>\n",
       "      <th>38668</th>\n",
       "      <td>88668</td>\n",
       "      <td>Zoya</td>\n",
       "      <td>218</td>\n",
       "      <td>0.003099</td>\n",
       "    </tr>\n",
       "    <tr>\n",
       "      <th>43500</th>\n",
       "      <td>93500</td>\n",
       "      <td>Hooda</td>\n",
       "      <td>183</td>\n",
       "      <td>0.003259</td>\n",
       "    </tr>\n",
       "    <tr>\n",
       "      <th>8624</th>\n",
       "      <td>58624</td>\n",
       "      <td>Swaziland</td>\n",
       "      <td>1648</td>\n",
       "      <td>0.003686</td>\n",
       "    </tr>\n",
       "    <tr>\n",
       "      <th>13005</th>\n",
       "      <td>63005</td>\n",
       "      <td>Allahabad</td>\n",
       "      <td>1002</td>\n",
       "      <td>0.004639</td>\n",
       "    </tr>\n",
       "    <tr>\n",
       "      <th>6695</th>\n",
       "      <td>56695</td>\n",
       "      <td>Settlement</td>\n",
       "      <td>2225</td>\n",
       "      <td>0.005137</td>\n",
       "    </tr>\n",
       "    <tr>\n",
       "      <th>35257</th>\n",
       "      <td>85257</td>\n",
       "      <td>Rls</td>\n",
       "      <td>250</td>\n",
       "      <td>0.005706</td>\n",
       "    </tr>\n",
       "    <tr>\n",
       "      <th>16550</th>\n",
       "      <td>66550</td>\n",
       "      <td>Timatic</td>\n",
       "      <td>743</td>\n",
       "      <td>0.005769</td>\n",
       "    </tr>\n",
       "    <tr>\n",
       "      <th>24293</th>\n",
       "      <td>74293</td>\n",
       "      <td>SZ</td>\n",
       "      <td>431</td>\n",
       "      <td>0.008429</td>\n",
       "    </tr>\n",
       "  </tbody>\n",
       "</table>\n",
       "</div>"
      ],
      "text/plain": [
       "       token_index             token  token_count         r\n",
       "6237         56237             Vijay         2409  0.001507\n",
       "24309        74309            Sameer          430  0.001509\n",
       "36568        86568              Vyas          237  0.001526\n",
       "25150        75150              Rukh          410  0.001538\n",
       "47190        97190              Roop          162  0.001589\n",
       "46188        96188             Nidhi          167  0.001596\n",
       "37089        87089             Sneha          232  0.001602\n",
       "17660        67660             Pooja          684  0.001618\n",
       "23220        73220            Anjali          461  0.001646\n",
       "26535        76535          Mohanlal          379  0.001683\n",
       "36995        86995          symbiote          233  0.001690\n",
       "32725        82725            Surbhi          279  0.001697\n",
       "18273        68273            Arriva          652  0.001705\n",
       "39661        89661          tocright          210  0.001778\n",
       "43645        93645              Vasu          182  0.001794\n",
       "36168        86168        instalment          241  0.001855\n",
       "8275         58275              Ravi         1726  0.001874\n",
       "20233        70233          realises          563  0.001902\n",
       "48455        98455            Kievan          155  0.001951\n",
       "9539         59539        wiktionary         1465  0.001999\n",
       "33197        83197             Desam          273  0.002008\n",
       "22309        72309              pos2          488  0.002027\n",
       "38670        88670         Sreesanth          218  0.002041\n",
       "42133        92133            Yahweh          191  0.002086\n",
       "35012        85012          Akkineni          253  0.002092\n",
       "11306        61306              Babu         1189  0.002187\n",
       "13422        63422              monk          961  0.002194\n",
       "27722        77722          Faizabad          356  0.002238\n",
       "41004        91004            Raghav          200  0.002287\n",
       "47550        97550            Bhalla          160  0.002335\n",
       "31173        81173           Badlani          300  0.002460\n",
       "23023        73023       Londonderry          467  0.002481\n",
       "46985        96985          Rifftrax          163  0.002517\n",
       "34589        84589  pseudoscientific          257  0.002555\n",
       "11156        61156            Rajput         1210  0.002575\n",
       "47276        97276              Koli          161  0.002578\n",
       "7937         57937               TOC         1807  0.002588\n",
       "48129        98129         gainsboro          157  0.002688\n",
       "10935        60935             Arjun         1240  0.002778\n",
       "46045        96045         Mammootty          168  0.002795\n",
       "6729         56729          Seasonal         2213  0.002952\n",
       "48710        98710               RTO          154  0.002954\n",
       "38668        88668              Zoya          218  0.003099\n",
       "43500        93500             Hooda          183  0.003259\n",
       "8624         58624         Swaziland         1648  0.003686\n",
       "13005        63005         Allahabad         1002  0.004639\n",
       "6695         56695        Settlement         2225  0.005137\n",
       "35257        85257               Rls          250  0.005706\n",
       "16550        66550           Timatic          743  0.005769\n",
       "24293        74293                SZ          431  0.008429"
      ]
     },
     "execution_count": 73,
     "metadata": {},
     "output_type": "execute_result"
    }
   ],
   "source": [
    "removed_corrs.tail(50)"
   ]
  },
  {
   "cell_type": "code",
   "execution_count": 65,
   "metadata": {},
   "outputs": [
    {
     "data": {
      "image/png": "[encoded data removed]",
      "text/plain": [
       "<Figure size 720x720 with 2 Axes>"
      ]
     },
     "metadata": {
      "needs_background": "light"
     },
     "output_type": "display_data"
    }
   ],
   "source": [
    "inserted_corrs = corr_df[corr_df.token_index >= 100000].sort_values(by='r')\n",
    "\n",
    "fig, ax = plt.subplots(1, 1, figsize=(10, 10))\n",
    "hb = plt.hexbin(inserted_corrs.token_count, inserted_corrs.r, bins='log', gridsize=(50,50), mincnt=1)\n",
    "plt.xlabel('Token Count')\n",
    "plt.ylabel('Correlation with Misalignment (P(ORES-d) - P(revert))')\n",
    "\n",
    "cb = fig.colorbar(hb, ax=ax)\n",
    "cb.set_label('Bin Count')\n",
    "\n",
    "plt.show()"
   ]
  },
  {
   "cell_type": "code",
   "execution_count": 72,
   "metadata": {
    "scrolled": false
   },
   "outputs": [
    {
     "data": {
      "text/html": [
       "<div>\n",
       "<style scoped>\n",
       "    .dataframe tbody tr th:only-of-type {\n",
       "        vertical-align: middle;\n",
       "    }\n",
       "\n",
       "    .dataframe tbody tr th {\n",
       "        vertical-align: top;\n",
       "    }\n",
       "\n",
       "    .dataframe thead th {\n",
       "        text-align: right;\n",
       "    }\n",
       "</style>\n",
       "<table border=\"1\" class=\"dataframe\">\n",
       "  <thead>\n",
       "    <tr style=\"text-align: right;\">\n",
       "      <th></th>\n",
       "      <th>token_index</th>\n",
       "      <th>token</th>\n",
       "      <th>token_count</th>\n",
       "      <th>r</th>\n",
       "    </tr>\n",
       "  </thead>\n",
       "  <tbody>\n",
       "    <tr>\n",
       "      <th>50003</th>\n",
       "      <td>100003</td>\n",
       "      <td>|</td>\n",
       "      <td>2853586</td>\n",
       "      <td>-0.216673</td>\n",
       "    </tr>\n",
       "    <tr>\n",
       "      <th>50004</th>\n",
       "      <td>100004</td>\n",
       "      <td>]]</td>\n",
       "      <td>2450296</td>\n",
       "      <td>-0.213512</td>\n",
       "    </tr>\n",
       "    <tr>\n",
       "      <th>50005</th>\n",
       "      <td>100005</td>\n",
       "      <td>[[</td>\n",
       "      <td>2402411</td>\n",
       "      <td>-0.213287</td>\n",
       "    </tr>\n",
       "    <tr>\n",
       "      <th>50011</th>\n",
       "      <td>100011</td>\n",
       "      <td>}}</td>\n",
       "      <td>1591427</td>\n",
       "      <td>-0.182655</td>\n",
       "    </tr>\n",
       "    <tr>\n",
       "      <th>50012</th>\n",
       "      <td>100012</td>\n",
       "      <td>{{</td>\n",
       "      <td>1569681</td>\n",
       "      <td>-0.182537</td>\n",
       "    </tr>\n",
       "    <tr>\n",
       "      <th>50009</th>\n",
       "      <td>100009</td>\n",
       "      <td>=</td>\n",
       "      <td>1691056</td>\n",
       "      <td>-0.177022</td>\n",
       "    </tr>\n",
       "    <tr>\n",
       "      <th>50010</th>\n",
       "      <td>100010</td>\n",
       "      <td>-</td>\n",
       "      <td>1631385</td>\n",
       "      <td>-0.139654</td>\n",
       "    </tr>\n",
       "    <tr>\n",
       "      <th>50026</th>\n",
       "      <td>100026</td>\n",
       "      <td>title</td>\n",
       "      <td>745313</td>\n",
       "      <td>-0.135671</td>\n",
       "    </tr>\n",
       "    <tr>\n",
       "      <th>50027</th>\n",
       "      <td>100027</td>\n",
       "      <td>url</td>\n",
       "      <td>709121</td>\n",
       "      <td>-0.133900</td>\n",
       "    </tr>\n",
       "    <tr>\n",
       "      <th>50022</th>\n",
       "      <td>100022</td>\n",
       "      <td>&lt;/ref&gt;</td>\n",
       "      <td>814991</td>\n",
       "      <td>-0.133275</td>\n",
       "    </tr>\n",
       "    <tr>\n",
       "      <th>50023</th>\n",
       "      <td>100023</td>\n",
       "      <td>date</td>\n",
       "      <td>779995</td>\n",
       "      <td>-0.132641</td>\n",
       "    </tr>\n",
       "    <tr>\n",
       "      <th>50020</th>\n",
       "      <td>100020</td>\n",
       "      <td>2018</td>\n",
       "      <td>1001254</td>\n",
       "      <td>-0.132219</td>\n",
       "    </tr>\n",
       "    <tr>\n",
       "      <th>50018</th>\n",
       "      <td>100018</td>\n",
       "      <td>:</td>\n",
       "      <td>1060931</td>\n",
       "      <td>-0.122425</td>\n",
       "    </tr>\n",
       "    <tr>\n",
       "      <th>50029</th>\n",
       "      <td>100029</td>\n",
       "      <td>&lt;ref&gt;</td>\n",
       "      <td>666765</td>\n",
       "      <td>-0.121096</td>\n",
       "    </tr>\n",
       "    <tr>\n",
       "      <th>50039</th>\n",
       "      <td>100039</td>\n",
       "      <td>web</td>\n",
       "      <td>456779</td>\n",
       "      <td>-0.109811</td>\n",
       "    </tr>\n",
       "    <tr>\n",
       "      <th>50033</th>\n",
       "      <td>100033</td>\n",
       "      <td>cite</td>\n",
       "      <td>513697</td>\n",
       "      <td>-0.109470</td>\n",
       "    </tr>\n",
       "    <tr>\n",
       "      <th>50015</th>\n",
       "      <td>100015</td>\n",
       "      <td>(</td>\n",
       "      <td>1182272</td>\n",
       "      <td>-0.098567</td>\n",
       "    </tr>\n",
       "    <tr>\n",
       "      <th>50016</th>\n",
       "      <td>100016</td>\n",
       "      <td>)</td>\n",
       "      <td>1182111</td>\n",
       "      <td>-0.098201</td>\n",
       "    </tr>\n",
       "    <tr>\n",
       "      <th>50031</th>\n",
       "      <td>100031</td>\n",
       "      <td>''</td>\n",
       "      <td>550945</td>\n",
       "      <td>-0.096108</td>\n",
       "    </tr>\n",
       "    <tr>\n",
       "      <th>50035</th>\n",
       "      <td>100035</td>\n",
       "      <td>1</td>\n",
       "      <td>496898</td>\n",
       "      <td>-0.095358</td>\n",
       "    </tr>\n",
       "    <tr>\n",
       "      <th>50036</th>\n",
       "      <td>100036</td>\n",
       "      <td>2</td>\n",
       "      <td>486447</td>\n",
       "      <td>-0.093109</td>\n",
       "    </tr>\n",
       "    <tr>\n",
       "      <th>50055</th>\n",
       "      <td>100055</td>\n",
       "      <td>publisher</td>\n",
       "      <td>320261</td>\n",
       "      <td>-0.088394</td>\n",
       "    </tr>\n",
       "    <tr>\n",
       "      <th>50049</th>\n",
       "      <td>100049</td>\n",
       "      <td>accessdate</td>\n",
       "      <td>347654</td>\n",
       "      <td>-0.088335</td>\n",
       "    </tr>\n",
       "    <tr>\n",
       "      <th>50051</th>\n",
       "      <td>100051</td>\n",
       "      <td>10</td>\n",
       "      <td>342125</td>\n",
       "      <td>-0.087672</td>\n",
       "    </tr>\n",
       "    <tr>\n",
       "      <th>50045</th>\n",
       "      <td>100045</td>\n",
       "      <td>–</td>\n",
       "      <td>420288</td>\n",
       "      <td>-0.086632</td>\n",
       "    </tr>\n",
       "    <tr>\n",
       "      <th>50046</th>\n",
       "      <td>100046</td>\n",
       "      <td>3</td>\n",
       "      <td>404716</td>\n",
       "      <td>-0.086325</td>\n",
       "    </tr>\n",
       "    <tr>\n",
       "      <th>50058</th>\n",
       "      <td>100058</td>\n",
       "      <td>website</td>\n",
       "      <td>273850</td>\n",
       "      <td>-0.085918</td>\n",
       "    </tr>\n",
       "    <tr>\n",
       "      <th>50048</th>\n",
       "      <td>100048</td>\n",
       "      <td>first</td>\n",
       "      <td>354742</td>\n",
       "      <td>-0.084925</td>\n",
       "    </tr>\n",
       "    <tr>\n",
       "      <th>50061</th>\n",
       "      <td>100061</td>\n",
       "      <td>last</td>\n",
       "      <td>272411</td>\n",
       "      <td>-0.084900</td>\n",
       "    </tr>\n",
       "    <tr>\n",
       "      <th>50085</th>\n",
       "      <td>100085</td>\n",
       "      <td>Cite</td>\n",
       "      <td>204922</td>\n",
       "      <td>-0.083620</td>\n",
       "    </tr>\n",
       "    <tr>\n",
       "      <th>50050</th>\n",
       "      <td>100050</td>\n",
       "      <td>4</td>\n",
       "      <td>344907</td>\n",
       "      <td>-0.081180</td>\n",
       "    </tr>\n",
       "    <tr>\n",
       "      <th>50081</th>\n",
       "      <td>100081</td>\n",
       "      <td>access</td>\n",
       "      <td>210971</td>\n",
       "      <td>-0.080678</td>\n",
       "    </tr>\n",
       "    <tr>\n",
       "      <th>50054</th>\n",
       "      <td>100054</td>\n",
       "      <td>5</td>\n",
       "      <td>321951</td>\n",
       "      <td>-0.078700</td>\n",
       "    </tr>\n",
       "    <tr>\n",
       "      <th>50064</th>\n",
       "      <td>100064</td>\n",
       "      <td>11</td>\n",
       "      <td>263548</td>\n",
       "      <td>-0.077441</td>\n",
       "    </tr>\n",
       "    <tr>\n",
       "      <th>50065</th>\n",
       "      <td>100065</td>\n",
       "      <td>12</td>\n",
       "      <td>263433</td>\n",
       "      <td>-0.076295</td>\n",
       "    </tr>\n",
       "    <tr>\n",
       "      <th>50078</th>\n",
       "      <td>100078</td>\n",
       "      <td>work</td>\n",
       "      <td>235008</td>\n",
       "      <td>-0.075880</td>\n",
       "    </tr>\n",
       "    <tr>\n",
       "      <th>50030</th>\n",
       "      <td>100030</td>\n",
       "      <td>*</td>\n",
       "      <td>561666</td>\n",
       "      <td>-0.075620</td>\n",
       "    </tr>\n",
       "    <tr>\n",
       "      <th>50028</th>\n",
       "      <td>100028</td>\n",
       "      <td>The</td>\n",
       "      <td>685442</td>\n",
       "      <td>-0.075375</td>\n",
       "    </tr>\n",
       "    <tr>\n",
       "      <th>50057</th>\n",
       "      <td>100057</td>\n",
       "      <td>6</td>\n",
       "      <td>290574</td>\n",
       "      <td>-0.074328</td>\n",
       "    </tr>\n",
       "    <tr>\n",
       "      <th>50091</th>\n",
       "      <td>100091</td>\n",
       "      <td>language</td>\n",
       "      <td>193105</td>\n",
       "      <td>-0.074269</td>\n",
       "    </tr>\n",
       "    <tr>\n",
       "      <th>50032</th>\n",
       "      <td>100032</td>\n",
       "      <td>\"</td>\n",
       "      <td>548358</td>\n",
       "      <td>-0.074216</td>\n",
       "    </tr>\n",
       "    <tr>\n",
       "      <th>50059</th>\n",
       "      <td>100059</td>\n",
       "      <td>'''</td>\n",
       "      <td>273410</td>\n",
       "      <td>-0.073969</td>\n",
       "    </tr>\n",
       "    <tr>\n",
       "      <th>50063</th>\n",
       "      <td>100063</td>\n",
       "      <td>7</td>\n",
       "      <td>267873</td>\n",
       "      <td>-0.071653</td>\n",
       "    </tr>\n",
       "    <tr>\n",
       "      <th>50094</th>\n",
       "      <td>100094</td>\n",
       "      <td>news</td>\n",
       "      <td>187329</td>\n",
       "      <td>-0.071305</td>\n",
       "    </tr>\n",
       "    <tr>\n",
       "      <th>66037</th>\n",
       "      <td>116037</td>\n",
       "      <td>,</td>\n",
       "      <td>1991598</td>\n",
       "      <td>-0.071165</td>\n",
       "    </tr>\n",
       "    <tr>\n",
       "      <th>50080</th>\n",
       "      <td>100080</td>\n",
       "      <td>2017</td>\n",
       "      <td>214022</td>\n",
       "      <td>-0.071074</td>\n",
       "    </tr>\n",
       "    <tr>\n",
       "      <th>50071</th>\n",
       "      <td>100071</td>\n",
       "      <td>8</td>\n",
       "      <td>248510</td>\n",
       "      <td>-0.070301</td>\n",
       "    </tr>\n",
       "    <tr>\n",
       "      <th>50060</th>\n",
       "      <td>100060</td>\n",
       "      <td>October</td>\n",
       "      <td>273141</td>\n",
       "      <td>-0.069722</td>\n",
       "    </tr>\n",
       "    <tr>\n",
       "      <th>50077</th>\n",
       "      <td>100077</td>\n",
       "      <td>9</td>\n",
       "      <td>235051</td>\n",
       "      <td>-0.069109</td>\n",
       "    </tr>\n",
       "    <tr>\n",
       "      <th>50073</th>\n",
       "      <td>100073</td>\n",
       "      <td>September</td>\n",
       "      <td>247339</td>\n",
       "      <td>-0.067934</td>\n",
       "    </tr>\n",
       "  </tbody>\n",
       "</table>\n",
       "</div>"
      ],
      "text/plain": [
       "       token_index       token  token_count         r\n",
       "50003       100003           |      2853586 -0.216673\n",
       "50004       100004          ]]      2450296 -0.213512\n",
       "50005       100005          [[      2402411 -0.213287\n",
       "50011       100011          }}      1591427 -0.182655\n",
       "50012       100012          {{      1569681 -0.182537\n",
       "50009       100009           =      1691056 -0.177022\n",
       "50010       100010           -      1631385 -0.139654\n",
       "50026       100026       title       745313 -0.135671\n",
       "50027       100027         url       709121 -0.133900\n",
       "50022       100022      </ref>       814991 -0.133275\n",
       "50023       100023        date       779995 -0.132641\n",
       "50020       100020        2018      1001254 -0.132219\n",
       "50018       100018           :      1060931 -0.122425\n",
       "50029       100029       <ref>       666765 -0.121096\n",
       "50039       100039         web       456779 -0.109811\n",
       "50033       100033        cite       513697 -0.109470\n",
       "50015       100015           (      1182272 -0.098567\n",
       "50016       100016           )      1182111 -0.098201\n",
       "50031       100031          ''       550945 -0.096108\n",
       "50035       100035           1       496898 -0.095358\n",
       "50036       100036           2       486447 -0.093109\n",
       "50055       100055   publisher       320261 -0.088394\n",
       "50049       100049  accessdate       347654 -0.088335\n",
       "50051       100051          10       342125 -0.087672\n",
       "50045       100045           –       420288 -0.086632\n",
       "50046       100046           3       404716 -0.086325\n",
       "50058       100058     website       273850 -0.085918\n",
       "50048       100048       first       354742 -0.084925\n",
       "50061       100061        last       272411 -0.084900\n",
       "50085       100085        Cite       204922 -0.083620\n",
       "50050       100050           4       344907 -0.081180\n",
       "50081       100081      access       210971 -0.080678\n",
       "50054       100054           5       321951 -0.078700\n",
       "50064       100064          11       263548 -0.077441\n",
       "50065       100065          12       263433 -0.076295\n",
       "50078       100078        work       235008 -0.075880\n",
       "50030       100030           *       561666 -0.075620\n",
       "50028       100028         The       685442 -0.075375\n",
       "50057       100057           6       290574 -0.074328\n",
       "50091       100091    language       193105 -0.074269\n",
       "50032       100032           \"       548358 -0.074216\n",
       "50059       100059         '''       273410 -0.073969\n",
       "50063       100063           7       267873 -0.071653\n",
       "50094       100094        news       187329 -0.071305\n",
       "66037       116037           ,      1991598 -0.071165\n",
       "50080       100080        2017       214022 -0.071074\n",
       "50071       100071           8       248510 -0.070301\n",
       "50060       100060     October       273141 -0.069722\n",
       "50077       100077           9       235051 -0.069109\n",
       "50073       100073   September       247339 -0.067934"
      ]
     },
     "execution_count": 72,
     "metadata": {},
     "output_type": "execute_result"
    }
   ],
   "source": [
    "inserted_corrs.head(50)"
   ]
  },
  {
   "cell_type": "code",
   "execution_count": 71,
   "metadata": {},
   "outputs": [
    {
     "data": {
      "text/html": [
       "<div>\n",
       "<style scoped>\n",
       "    .dataframe tbody tr th:only-of-type {\n",
       "        vertical-align: middle;\n",
       "    }\n",
       "\n",
       "    .dataframe tbody tr th {\n",
       "        vertical-align: top;\n",
       "    }\n",
       "\n",
       "    .dataframe thead th {\n",
       "        text-align: right;\n",
       "    }\n",
       "</style>\n",
       "<table border=\"1\" class=\"dataframe\">\n",
       "  <thead>\n",
       "    <tr style=\"text-align: right;\">\n",
       "      <th></th>\n",
       "      <th>token_index</th>\n",
       "      <th>token</th>\n",
       "      <th>token_count</th>\n",
       "      <th>r</th>\n",
       "    </tr>\n",
       "  </thead>\n",
       "  <tbody>\n",
       "    <tr>\n",
       "      <th>78978</th>\n",
       "      <td>128978</td>\n",
       "      <td>booty</td>\n",
       "      <td>446</td>\n",
       "      <td>0.005373</td>\n",
       "    </tr>\n",
       "    <tr>\n",
       "      <th>81697</th>\n",
       "      <td>131697</td>\n",
       "      <td>Poo</td>\n",
       "      <td>391</td>\n",
       "      <td>0.005385</td>\n",
       "    </tr>\n",
       "    <tr>\n",
       "      <th>72672</th>\n",
       "      <td>122672</td>\n",
       "      <td>mum</td>\n",
       "      <td>639</td>\n",
       "      <td>0.005408</td>\n",
       "    </tr>\n",
       "    <tr>\n",
       "      <th>83198</th>\n",
       "      <td>133198</td>\n",
       "      <td>lil</td>\n",
       "      <td>366</td>\n",
       "      <td>0.005413</td>\n",
       "    </tr>\n",
       "    <tr>\n",
       "      <th>88352</th>\n",
       "      <td>138352</td>\n",
       "      <td>butts</td>\n",
       "      <td>295</td>\n",
       "      <td>0.005418</td>\n",
       "    </tr>\n",
       "    <tr>\n",
       "      <th>58760</th>\n",
       "      <td>108760</td>\n",
       "      <td>amazing</td>\n",
       "      <td>2173</td>\n",
       "      <td>0.005482</td>\n",
       "    </tr>\n",
       "    <tr>\n",
       "      <th>94834</th>\n",
       "      <td>144834</td>\n",
       "      <td>hitler</td>\n",
       "      <td>233</td>\n",
       "      <td>0.005531</td>\n",
       "    </tr>\n",
       "    <tr>\n",
       "      <th>65918</th>\n",
       "      <td>115918</td>\n",
       "      <td>dumb</td>\n",
       "      <td>1049</td>\n",
       "      <td>0.005542</td>\n",
       "    </tr>\n",
       "    <tr>\n",
       "      <th>56944</th>\n",
       "      <td>106944</td>\n",
       "      <td>guy</td>\n",
       "      <td>2841</td>\n",
       "      <td>0.005590</td>\n",
       "    </tr>\n",
       "    <tr>\n",
       "      <th>91360</th>\n",
       "      <td>141360</td>\n",
       "      <td>pakistan</td>\n",
       "      <td>264</td>\n",
       "      <td>0.005663</td>\n",
       "    </tr>\n",
       "    <tr>\n",
       "      <th>64719</th>\n",
       "      <td>114719</td>\n",
       "      <td>yo</td>\n",
       "      <td>1151</td>\n",
       "      <td>0.005664</td>\n",
       "    </tr>\n",
       "    <tr>\n",
       "      <th>54851</th>\n",
       "      <td>104851</td>\n",
       "      <td>aka</td>\n",
       "      <td>4260</td>\n",
       "      <td>0.005699</td>\n",
       "    </tr>\n",
       "    <tr>\n",
       "      <th>73518</th>\n",
       "      <td>123518</td>\n",
       "      <td>!!!!</td>\n",
       "      <td>606</td>\n",
       "      <td>0.005720</td>\n",
       "    </tr>\n",
       "    <tr>\n",
       "      <th>73913</th>\n",
       "      <td>123913</td>\n",
       "      <td>singh</td>\n",
       "      <td>591</td>\n",
       "      <td>0.005813</td>\n",
       "    </tr>\n",
       "    <tr>\n",
       "      <th>91557</th>\n",
       "      <td>141557</td>\n",
       "      <td>poopy</td>\n",
       "      <td>262</td>\n",
       "      <td>0.005826</td>\n",
       "    </tr>\n",
       "    <tr>\n",
       "      <th>73428</th>\n",
       "      <td>123428</td>\n",
       "      <td>Prayagraj</td>\n",
       "      <td>610</td>\n",
       "      <td>0.006023</td>\n",
       "    </tr>\n",
       "    <tr>\n",
       "      <th>77941</th>\n",
       "      <td>127941</td>\n",
       "      <td>mama</td>\n",
       "      <td>471</td>\n",
       "      <td>0.006091</td>\n",
       "    </tr>\n",
       "    <tr>\n",
       "      <th>63393</th>\n",
       "      <td>113393</td>\n",
       "      <td>trash</td>\n",
       "      <td>1296</td>\n",
       "      <td>0.006218</td>\n",
       "    </tr>\n",
       "    <tr>\n",
       "      <th>71993</th>\n",
       "      <td>121993</td>\n",
       "      <td>trump</td>\n",
       "      <td>668</td>\n",
       "      <td>0.006219</td>\n",
       "    </tr>\n",
       "    <tr>\n",
       "      <th>63868</th>\n",
       "      <td>113868</td>\n",
       "      <td>india</td>\n",
       "      <td>1238</td>\n",
       "      <td>0.006249</td>\n",
       "    </tr>\n",
       "    <tr>\n",
       "      <th>71719</th>\n",
       "      <td>121719</td>\n",
       "      <td>indian</td>\n",
       "      <td>679</td>\n",
       "      <td>0.006448</td>\n",
       "    </tr>\n",
       "    <tr>\n",
       "      <th>85874</th>\n",
       "      <td>135874</td>\n",
       "      <td>GOAT</td>\n",
       "      <td>326</td>\n",
       "      <td>0.006544</td>\n",
       "    </tr>\n",
       "    <tr>\n",
       "      <th>89378</th>\n",
       "      <td>139378</td>\n",
       "      <td>pewdiepie</td>\n",
       "      <td>284</td>\n",
       "      <td>0.006753</td>\n",
       "    </tr>\n",
       "    <tr>\n",
       "      <th>77869</th>\n",
       "      <td>127869</td>\n",
       "      <td>kumar</td>\n",
       "      <td>473</td>\n",
       "      <td>0.007138</td>\n",
       "    </tr>\n",
       "    <tr>\n",
       "      <th>68687</th>\n",
       "      <td>118687</td>\n",
       "      <td>khan</td>\n",
       "      <td>843</td>\n",
       "      <td>0.007169</td>\n",
       "    </tr>\n",
       "    <tr>\n",
       "      <th>84309</th>\n",
       "      <td>134309</td>\n",
       "      <td>pee</td>\n",
       "      <td>349</td>\n",
       "      <td>0.007211</td>\n",
       "    </tr>\n",
       "    <tr>\n",
       "      <th>56204</th>\n",
       "      <td>106204</td>\n",
       "      <td>loves</td>\n",
       "      <td>3236</td>\n",
       "      <td>0.007679</td>\n",
       "    </tr>\n",
       "    <tr>\n",
       "      <th>69041</th>\n",
       "      <td>119041</td>\n",
       "      <td>daddy</td>\n",
       "      <td>821</td>\n",
       "      <td>0.007732</td>\n",
       "    </tr>\n",
       "    <tr>\n",
       "      <th>78579</th>\n",
       "      <td>128579</td>\n",
       "      <td>SZ</td>\n",
       "      <td>456</td>\n",
       "      <td>0.007866</td>\n",
       "    </tr>\n",
       "    <tr>\n",
       "      <th>94830</th>\n",
       "      <td>144830</td>\n",
       "      <td>pornhub</td>\n",
       "      <td>233</td>\n",
       "      <td>0.007894</td>\n",
       "    </tr>\n",
       "    <tr>\n",
       "      <th>75351</th>\n",
       "      <td>125351</td>\n",
       "      <td>bob</td>\n",
       "      <td>542</td>\n",
       "      <td>0.007897</td>\n",
       "    </tr>\n",
       "    <tr>\n",
       "      <th>63591</th>\n",
       "      <td>113591</td>\n",
       "      <td>porn</td>\n",
       "      <td>1270</td>\n",
       "      <td>0.007937</td>\n",
       "    </tr>\n",
       "    <tr>\n",
       "      <th>65848</th>\n",
       "      <td>115848</td>\n",
       "      <td>sucks</td>\n",
       "      <td>1054</td>\n",
       "      <td>0.008103</td>\n",
       "    </tr>\n",
       "    <tr>\n",
       "      <th>94686</th>\n",
       "      <td>144686</td>\n",
       "      <td>YEET</td>\n",
       "      <td>234</td>\n",
       "      <td>0.008300</td>\n",
       "    </tr>\n",
       "    <tr>\n",
       "      <th>86287</th>\n",
       "      <td>136287</td>\n",
       "      <td>Ligma</td>\n",
       "      <td>320</td>\n",
       "      <td>0.008687</td>\n",
       "    </tr>\n",
       "    <tr>\n",
       "      <th>85683</th>\n",
       "      <td>135683</td>\n",
       "      <td>jeff</td>\n",
       "      <td>328</td>\n",
       "      <td>0.008830</td>\n",
       "    </tr>\n",
       "    <tr>\n",
       "      <th>80753</th>\n",
       "      <td>130753</td>\n",
       "      <td>Timatic</td>\n",
       "      <td>409</td>\n",
       "      <td>0.008908</td>\n",
       "    </tr>\n",
       "    <tr>\n",
       "      <th>74613</th>\n",
       "      <td>124613</td>\n",
       "      <td>bum</td>\n",
       "      <td>567</td>\n",
       "      <td>0.008984</td>\n",
       "    </tr>\n",
       "    <tr>\n",
       "      <th>61268</th>\n",
       "      <td>111268</td>\n",
       "      <td>Fortnite</td>\n",
       "      <td>1609</td>\n",
       "      <td>0.010143</td>\n",
       "    </tr>\n",
       "    <tr>\n",
       "      <th>83200</th>\n",
       "      <td>133200</td>\n",
       "      <td>ligma</td>\n",
       "      <td>366</td>\n",
       "      <td>0.010891</td>\n",
       "    </tr>\n",
       "    <tr>\n",
       "      <th>63174</th>\n",
       "      <td>113174</td>\n",
       "      <td>hello</td>\n",
       "      <td>1323</td>\n",
       "      <td>0.011173</td>\n",
       "    </tr>\n",
       "    <tr>\n",
       "      <th>83695</th>\n",
       "      <td>133695</td>\n",
       "      <td>Yeet</td>\n",
       "      <td>358</td>\n",
       "      <td>0.011559</td>\n",
       "    </tr>\n",
       "    <tr>\n",
       "      <th>82554</th>\n",
       "      <td>132554</td>\n",
       "      <td>oof</td>\n",
       "      <td>376</td>\n",
       "      <td>0.011800</td>\n",
       "    </tr>\n",
       "    <tr>\n",
       "      <th>66643</th>\n",
       "      <td>116643</td>\n",
       "      <td>boi</td>\n",
       "      <td>989</td>\n",
       "      <td>0.013314</td>\n",
       "    </tr>\n",
       "    <tr>\n",
       "      <th>66712</th>\n",
       "      <td>116712</td>\n",
       "      <td>fortnite</td>\n",
       "      <td>985</td>\n",
       "      <td>0.014188</td>\n",
       "    </tr>\n",
       "    <tr>\n",
       "      <th>50001</th>\n",
       "      <td>100001</td>\n",
       "      <td>INSERTION_START</td>\n",
       "      <td>8338367</td>\n",
       "      <td>0.014197</td>\n",
       "    </tr>\n",
       "    <tr>\n",
       "      <th>50000</th>\n",
       "      <td>100000</td>\n",
       "      <td>INSERTION_END</td>\n",
       "      <td>8338367</td>\n",
       "      <td>0.014197</td>\n",
       "    </tr>\n",
       "    <tr>\n",
       "      <th>55045</th>\n",
       "      <td>105045</td>\n",
       "      <td>hi</td>\n",
       "      <td>4091</td>\n",
       "      <td>0.014510</td>\n",
       "    </tr>\n",
       "    <tr>\n",
       "      <th>70552</th>\n",
       "      <td>120552</td>\n",
       "      <td>yeet</td>\n",
       "      <td>734</td>\n",
       "      <td>0.017228</td>\n",
       "    </tr>\n",
       "    <tr>\n",
       "      <th>67908</th>\n",
       "      <td>117908</td>\n",
       "      <td>poo</td>\n",
       "      <td>894</td>\n",
       "      <td>0.017333</td>\n",
       "    </tr>\n",
       "  </tbody>\n",
       "</table>\n",
       "</div>"
      ],
      "text/plain": [
       "       token_index            token  token_count         r\n",
       "78978       128978            booty          446  0.005373\n",
       "81697       131697              Poo          391  0.005385\n",
       "72672       122672              mum          639  0.005408\n",
       "83198       133198              lil          366  0.005413\n",
       "88352       138352            butts          295  0.005418\n",
       "58760       108760          amazing         2173  0.005482\n",
       "94834       144834           hitler          233  0.005531\n",
       "65918       115918             dumb         1049  0.005542\n",
       "56944       106944              guy         2841  0.005590\n",
       "91360       141360         pakistan          264  0.005663\n",
       "64719       114719               yo         1151  0.005664\n",
       "54851       104851              aka         4260  0.005699\n",
       "73518       123518             !!!!          606  0.005720\n",
       "73913       123913            singh          591  0.005813\n",
       "91557       141557            poopy          262  0.005826\n",
       "73428       123428        Prayagraj          610  0.006023\n",
       "77941       127941             mama          471  0.006091\n",
       "63393       113393            trash         1296  0.006218\n",
       "71993       121993            trump          668  0.006219\n",
       "63868       113868            india         1238  0.006249\n",
       "71719       121719           indian          679  0.006448\n",
       "85874       135874             GOAT          326  0.006544\n",
       "89378       139378        pewdiepie          284  0.006753\n",
       "77869       127869            kumar          473  0.007138\n",
       "68687       118687             khan          843  0.007169\n",
       "84309       134309              pee          349  0.007211\n",
       "56204       106204            loves         3236  0.007679\n",
       "69041       119041            daddy          821  0.007732\n",
       "78579       128579               SZ          456  0.007866\n",
       "94830       144830          pornhub          233  0.007894\n",
       "75351       125351              bob          542  0.007897\n",
       "63591       113591             porn         1270  0.007937\n",
       "65848       115848            sucks         1054  0.008103\n",
       "94686       144686             YEET          234  0.008300\n",
       "86287       136287            Ligma          320  0.008687\n",
       "85683       135683             jeff          328  0.008830\n",
       "80753       130753          Timatic          409  0.008908\n",
       "74613       124613              bum          567  0.008984\n",
       "61268       111268         Fortnite         1609  0.010143\n",
       "83200       133200            ligma          366  0.010891\n",
       "63174       113174            hello         1323  0.011173\n",
       "83695       133695             Yeet          358  0.011559\n",
       "82554       132554              oof          376  0.011800\n",
       "66643       116643              boi          989  0.013314\n",
       "66712       116712         fortnite          985  0.014188\n",
       "50001       100001  INSERTION_START      8338367  0.014197\n",
       "50000       100000    INSERTION_END      8338367  0.014197\n",
       "55045       105045               hi         4091  0.014510\n",
       "70552       120552             yeet          734  0.017228\n",
       "67908       117908              poo          894  0.017333"
      ]
     },
     "execution_count": 71,
     "metadata": {},
     "output_type": "execute_result"
    }
   ],
   "source": [
    "inserted_corrs.tail(50)"
   ]
  },
  {
   "cell_type": "code",
   "execution_count": 70,
   "metadata": {},
   "outputs": [
    {
     "data": {
      "text/html": [
       "<div>\n",
       "<style scoped>\n",
       "    .dataframe tbody tr th:only-of-type {\n",
       "        vertical-align: middle;\n",
       "    }\n",
       "\n",
       "    .dataframe tbody tr th {\n",
       "        vertical-align: top;\n",
       "    }\n",
       "\n",
       "    .dataframe thead th {\n",
       "        text-align: right;\n",
       "    }\n",
       "</style>\n",
       "<table border=\"1\" class=\"dataframe\">\n",
       "  <thead>\n",
       "    <tr style=\"text-align: right;\">\n",
       "      <th></th>\n",
       "      <th>token_index</th>\n",
       "      <th>token</th>\n",
       "      <th>token_count</th>\n",
       "      <th>r</th>\n",
       "    </tr>\n",
       "  </thead>\n",
       "  <tbody>\n",
       "    <tr>\n",
       "      <th>63480</th>\n",
       "      <td>113480</td>\n",
       "      <td>Prayer</td>\n",
       "      <td>1285</td>\n",
       "      <td>-0.006478</td>\n",
       "    </tr>\n",
       "    <tr>\n",
       "      <th>81127</th>\n",
       "      <td>131127</td>\n",
       "      <td>Pray</td>\n",
       "      <td>402</td>\n",
       "      <td>-0.003318</td>\n",
       "    </tr>\n",
       "    <tr>\n",
       "      <th>93304</th>\n",
       "      <td>143304</td>\n",
       "      <td>Prayers</td>\n",
       "      <td>246</td>\n",
       "      <td>-0.002972</td>\n",
       "    </tr>\n",
       "    <tr>\n",
       "      <th>73428</th>\n",
       "      <td>123428</td>\n",
       "      <td>Prayagraj</td>\n",
       "      <td>610</td>\n",
       "      <td>0.006023</td>\n",
       "    </tr>\n",
       "  </tbody>\n",
       "</table>\n",
       "</div>"
      ],
      "text/plain": [
       "       token_index      token  token_count         r\n",
       "63480       113480     Prayer         1285 -0.006478\n",
       "81127       131127       Pray          402 -0.003318\n",
       "93304       143304    Prayers          246 -0.002972\n",
       "73428       123428  Prayagraj          610  0.006023"
      ]
     },
     "execution_count": 70,
     "metadata": {},
     "output_type": "execute_result"
    }
   ],
   "source": [
    "inserted_corrs[inserted_corrs.token.str.startswith('Pray')]"
   ]
  },
  {
   "cell_type": "code",
   "execution_count": null,
   "metadata": {},
   "outputs": [],
   "source": []
  },
  {
   "cell_type": "code",
   "execution_count": null,
   "metadata": {},
   "outputs": [],
   "source": []
  },
  {
   "cell_type": "code",
   "execution_count": 76,
   "metadata": {},
   "outputs": [],
   "source": [
    "def arcsin_transformation(p):\n",
    "    return 2 * np.arcsin(np.sqrt(p))\n",
    "\n",
    "def cohen_h(p1, p2):\n",
    "    return arcsin_transformation(p1) - arcsin_transformation(p2)"
   ]
  },
  {
   "cell_type": "code",
   "execution_count": 78,
   "metadata": {},
   "outputs": [
    {
     "data": {
      "text/plain": [
       "1.1286531387919432"
      ]
     },
     "execution_count": 78,
     "metadata": {},
     "output_type": "execute_result"
    }
   ],
   "source": [
    "cohen_h(0.6, 0.1)"
   ]
  },
  {
   "cell_type": "code",
   "execution_count": 79,
   "metadata": {},
   "outputs": [
    {
     "data": {
      "text/plain": [
       "0.4431662664701652"
      ]
     },
     "execution_count": 79,
     "metadata": {},
     "output_type": "execute_result"
    }
   ],
   "source": [
    "cohen_h(0.99, 0.9)"
   ]
  },
  {
   "cell_type": "code",
   "execution_count": 83,
   "metadata": {},
   "outputs": [
    {
     "data": {
      "text/plain": [
       "0.18098645124654755"
      ]
     },
     "execution_count": 83,
     "metadata": {},
     "output_type": "execute_result"
    }
   ],
   "source": [
    "cohen_h(0.59, 0.5)"
   ]
  },
  {
   "cell_type": "markdown",
   "metadata": {},
   "source": [
    "Predict: \n",
    "    \n",
    "Features:\n",
    "    - ORES - p(revert) > 0.9?\n",
    "    - p(revert) - ORES > 0.9?\n",
    "    \n",
    "    - x1: max(h(ORES) - h(p(revert)), 0) ==> exp(beta) = 0.998\n",
    "           1 unit increase in 0.998 * odds (conditional on x2 == 0)\n",
    "    - x2: max(p(revert) - ORES, 0)\n",
    "    \n",
    "\n",
    "Outcome: \n",
    "y1: max(h(ORES) - h(p(revert)), 0)\n",
    "    x1: word inserted? b1\n",
    "    #x2?: word 2 inserted? b2\n",
    "    #x2: word removed? b2\n",
    "    #x3: word swapped?  b3\n",
    "y2: max(p(revert) - ORES, 0)\n",
    "    x2: word inserted?\n",
    "\n"
   ]
  },
  {
   "cell_type": "code",
   "execution_count": 88,
   "metadata": {},
   "outputs": [
    {
     "data": {
      "text/plain": [
       "1609"
      ]
     },
     "execution_count": 88,
     "metadata": {},
     "output_type": "execute_result"
    }
   ],
   "source": [
    "fortnite_insertions = []\n",
    "db = sqlite3.connect(\n",
    "    '/export/scratch2/levon003/repos/wiki-ores-feedback/data/derived/audit/td_doc_indices.sqlite',\n",
    "    detect_types=sqlite3.PARSE_DECLTYPES\n",
    ")\n",
    "try:\n",
    "    cursor = db.execute('SELECT revision_index FROM inds WHERE token_index = ?', (111268,))\n",
    "    inds = cursor.fetchall()\n",
    "    if len(inds) > 0:\n",
    "        for ind in [ind[0] for ind in inds]:\n",
    "            fortnite_insertions.append(rev_id_list[ind])\n",
    "finally:\n",
    "    db.close()\n",
    "len(fortnite_insertions)"
   ]
  },
  {
   "cell_type": "code",
   "execution_count": 89,
   "metadata": {},
   "outputs": [
    {
     "data": {
      "text/plain": [
       "1609"
      ]
     },
     "execution_count": 89,
     "metadata": {},
     "output_type": "execute_result"
    }
   ],
   "source": [
    "fortnite_insertions_df = merged_preds_df[merged_preds_df.rev_id.isin(fortnite_insertions)]\n",
    "len(fortnite_insertions_df)"
   ]
  },
  {
   "cell_type": "code",
   "execution_count": 90,
   "metadata": {},
   "outputs": [
    {
     "data": {
      "text/html": [
       "<div>\n",
       "<style scoped>\n",
       "    .dataframe tbody tr th:only-of-type {\n",
       "        vertical-align: middle;\n",
       "    }\n",
       "\n",
       "    .dataframe tbody tr th {\n",
       "        vertical-align: top;\n",
       "    }\n",
       "\n",
       "    .dataframe thead th {\n",
       "        text-align: right;\n",
       "    }\n",
       "</style>\n",
       "<table border=\"1\" class=\"dataframe\">\n",
       "  <thead>\n",
       "    <tr style=\"text-align: right;\">\n",
       "      <th></th>\n",
       "      <th>rev_id</th>\n",
       "      <th>damaging_prob</th>\n",
       "      <th>damaging_prob_calibrated</th>\n",
       "      <th>revert_prob</th>\n",
       "      <th>is_reverted_1week</th>\n",
       "      <th>is_reverted</th>\n",
       "      <th>raw_misalignment</th>\n",
       "    </tr>\n",
       "  </thead>\n",
       "  <tbody>\n",
       "    <tr>\n",
       "      <th>1627562</th>\n",
       "      <td>860488257</td>\n",
       "      <td>0.017862</td>\n",
       "      <td>0.018132</td>\n",
       "      <td>0.169568</td>\n",
       "      <td>False</td>\n",
       "      <td>False</td>\n",
       "      <td>-0.151437</td>\n",
       "    </tr>\n",
       "    <tr>\n",
       "      <th>7513852</th>\n",
       "      <td>868064565</td>\n",
       "      <td>0.302522</td>\n",
       "      <td>0.262805</td>\n",
       "      <td>0.517430</td>\n",
       "      <td>True</td>\n",
       "      <td>True</td>\n",
       "      <td>-0.254625</td>\n",
       "    </tr>\n",
       "    <tr>\n",
       "      <th>6016111</th>\n",
       "      <td>865223033</td>\n",
       "      <td>0.782449</td>\n",
       "      <td>0.979192</td>\n",
       "      <td>0.689643</td>\n",
       "      <td>True</td>\n",
       "      <td>True</td>\n",
       "      <td>0.289549</td>\n",
       "    </tr>\n",
       "    <tr>\n",
       "      <th>10033435</th>\n",
       "      <td>872963182</td>\n",
       "      <td>0.006856</td>\n",
       "      <td>0.016211</td>\n",
       "      <td>0.084347</td>\n",
       "      <td>False</td>\n",
       "      <td>False</td>\n",
       "      <td>-0.068136</td>\n",
       "    </tr>\n",
       "    <tr>\n",
       "      <th>7248326</th>\n",
       "      <td>867568109</td>\n",
       "      <td>0.673079</td>\n",
       "      <td>0.939811</td>\n",
       "      <td>0.278329</td>\n",
       "      <td>True</td>\n",
       "      <td>True</td>\n",
       "      <td>0.661481</td>\n",
       "    </tr>\n",
       "    <tr>\n",
       "      <th>286154</th>\n",
       "      <td>861123001</td>\n",
       "      <td>0.419648</td>\n",
       "      <td>0.544499</td>\n",
       "      <td>0.336512</td>\n",
       "      <td>True</td>\n",
       "      <td>True</td>\n",
       "      <td>0.207987</td>\n",
       "    </tr>\n",
       "    <tr>\n",
       "      <th>8866886</th>\n",
       "      <td>870641271</td>\n",
       "      <td>0.027205</td>\n",
       "      <td>0.019936</td>\n",
       "      <td>0.139488</td>\n",
       "      <td>True</td>\n",
       "      <td>True</td>\n",
       "      <td>-0.119551</td>\n",
       "    </tr>\n",
       "    <tr>\n",
       "      <th>3369386</th>\n",
       "      <td>860142104</td>\n",
       "      <td>0.875029</td>\n",
       "      <td>0.991706</td>\n",
       "      <td>0.272584</td>\n",
       "      <td>True</td>\n",
       "      <td>True</td>\n",
       "      <td>0.719122</td>\n",
       "    </tr>\n",
       "    <tr>\n",
       "      <th>10319998</th>\n",
       "      <td>873526782</td>\n",
       "      <td>0.010807</td>\n",
       "      <td>0.016876</td>\n",
       "      <td>0.027057</td>\n",
       "      <td>False</td>\n",
       "      <td>False</td>\n",
       "      <td>-0.010181</td>\n",
       "    </tr>\n",
       "    <tr>\n",
       "      <th>6244755</th>\n",
       "      <td>865660308</td>\n",
       "      <td>0.894536</td>\n",
       "      <td>0.993174</td>\n",
       "      <td>0.636143</td>\n",
       "      <td>True</td>\n",
       "      <td>True</td>\n",
       "      <td>0.357030</td>\n",
       "    </tr>\n",
       "    <tr>\n",
       "      <th>8135846</th>\n",
       "      <td>869212699</td>\n",
       "      <td>0.015454</td>\n",
       "      <td>0.017693</td>\n",
       "      <td>0.029664</td>\n",
       "      <td>False</td>\n",
       "      <td>False</td>\n",
       "      <td>-0.011971</td>\n",
       "    </tr>\n",
       "    <tr>\n",
       "      <th>2929010</th>\n",
       "      <td>859267317</td>\n",
       "      <td>0.666449</td>\n",
       "      <td>0.935912</td>\n",
       "      <td>0.509279</td>\n",
       "      <td>True</td>\n",
       "      <td>True</td>\n",
       "      <td>0.426633</td>\n",
       "    </tr>\n",
       "    <tr>\n",
       "      <th>57036</th>\n",
       "      <td>858948928</td>\n",
       "      <td>0.013891</td>\n",
       "      <td>0.017414</td>\n",
       "      <td>0.033178</td>\n",
       "      <td>False</td>\n",
       "      <td>False</td>\n",
       "      <td>-0.015764</td>\n",
       "    </tr>\n",
       "    <tr>\n",
       "      <th>10200360</th>\n",
       "      <td>873288281</td>\n",
       "      <td>0.490230</td>\n",
       "      <td>0.710681</td>\n",
       "      <td>0.380280</td>\n",
       "      <td>True</td>\n",
       "      <td>True</td>\n",
       "      <td>0.330401</td>\n",
       "    </tr>\n",
       "    <tr>\n",
       "      <th>5508948</th>\n",
       "      <td>864233715</td>\n",
       "      <td>0.007926</td>\n",
       "      <td>0.016389</td>\n",
       "      <td>0.030815</td>\n",
       "      <td>False</td>\n",
       "      <td>False</td>\n",
       "      <td>-0.014426</td>\n",
       "    </tr>\n",
       "    <tr>\n",
       "      <th>3859980</th>\n",
       "      <td>861064750</td>\n",
       "      <td>0.451791</td>\n",
       "      <td>0.624157</td>\n",
       "      <td>0.266939</td>\n",
       "      <td>True</td>\n",
       "      <td>True</td>\n",
       "      <td>0.357217</td>\n",
       "    </tr>\n",
       "    <tr>\n",
       "      <th>466435</th>\n",
       "      <td>870042342</td>\n",
       "      <td>0.503310</td>\n",
       "      <td>0.737217</td>\n",
       "      <td>0.258469</td>\n",
       "      <td>True</td>\n",
       "      <td>True</td>\n",
       "      <td>0.478749</td>\n",
       "    </tr>\n",
       "    <tr>\n",
       "      <th>740631</th>\n",
       "      <td>866747454</td>\n",
       "      <td>0.947676</td>\n",
       "      <td>0.995987</td>\n",
       "      <td>0.980374</td>\n",
       "      <td>True</td>\n",
       "      <td>True</td>\n",
       "      <td>0.015614</td>\n",
       "    </tr>\n",
       "    <tr>\n",
       "      <th>7458076</th>\n",
       "      <td>867963130</td>\n",
       "      <td>0.532941</td>\n",
       "      <td>0.791172</td>\n",
       "      <td>0.291871</td>\n",
       "      <td>True</td>\n",
       "      <td>True</td>\n",
       "      <td>0.499301</td>\n",
       "    </tr>\n",
       "    <tr>\n",
       "      <th>5796315</th>\n",
       "      <td>864805605</td>\n",
       "      <td>0.878691</td>\n",
       "      <td>0.992003</td>\n",
       "      <td>0.820571</td>\n",
       "      <td>True</td>\n",
       "      <td>True</td>\n",
       "      <td>0.171432</td>\n",
       "    </tr>\n",
       "  </tbody>\n",
       "</table>\n",
       "</div>"
      ],
      "text/plain": [
       "             rev_id  damaging_prob  damaging_prob_calibrated  revert_prob  \\\n",
       "1627562   860488257       0.017862                  0.018132     0.169568   \n",
       "7513852   868064565       0.302522                  0.262805     0.517430   \n",
       "6016111   865223033       0.782449                  0.979192     0.689643   \n",
       "10033435  872963182       0.006856                  0.016211     0.084347   \n",
       "7248326   867568109       0.673079                  0.939811     0.278329   \n",
       "286154    861123001       0.419648                  0.544499     0.336512   \n",
       "8866886   870641271       0.027205                  0.019936     0.139488   \n",
       "3369386   860142104       0.875029                  0.991706     0.272584   \n",
       "10319998  873526782       0.010807                  0.016876     0.027057   \n",
       "6244755   865660308       0.894536                  0.993174     0.636143   \n",
       "8135846   869212699       0.015454                  0.017693     0.029664   \n",
       "2929010   859267317       0.666449                  0.935912     0.509279   \n",
       "57036     858948928       0.013891                  0.017414     0.033178   \n",
       "10200360  873288281       0.490230                  0.710681     0.380280   \n",
       "5508948   864233715       0.007926                  0.016389     0.030815   \n",
       "3859980   861064750       0.451791                  0.624157     0.266939   \n",
       "466435    870042342       0.503310                  0.737217     0.258469   \n",
       "740631    866747454       0.947676                  0.995987     0.980374   \n",
       "7458076   867963130       0.532941                  0.791172     0.291871   \n",
       "5796315   864805605       0.878691                  0.992003     0.820571   \n",
       "\n",
       "          is_reverted_1week  is_reverted  raw_misalignment  \n",
       "1627562               False        False         -0.151437  \n",
       "7513852                True         True         -0.254625  \n",
       "6016111                True         True          0.289549  \n",
       "10033435              False        False         -0.068136  \n",
       "7248326                True         True          0.661481  \n",
       "286154                 True         True          0.207987  \n",
       "8866886                True         True         -0.119551  \n",
       "3369386                True         True          0.719122  \n",
       "10319998              False        False         -0.010181  \n",
       "6244755                True         True          0.357030  \n",
       "8135846               False        False         -0.011971  \n",
       "2929010                True         True          0.426633  \n",
       "57036                 False        False         -0.015764  \n",
       "10200360               True         True          0.330401  \n",
       "5508948               False        False         -0.014426  \n",
       "3859980                True         True          0.357217  \n",
       "466435                 True         True          0.478749  \n",
       "740631                 True         True          0.015614  \n",
       "7458076                True         True          0.499301  \n",
       "5796315                True         True          0.171432  "
      ]
     },
     "execution_count": 90,
     "metadata": {},
     "output_type": "execute_result"
    }
   ],
   "source": [
    "fortnite_insertions_df.sample(n=20)"
   ]
  },
  {
   "cell_type": "code",
   "execution_count": 92,
   "metadata": {},
   "outputs": [
    {
     "data": {
      "image/png": "[encoded data removed]",
      "text/plain": [
       "<Figure size 432x288 with 1 Axes>"
      ]
     },
     "metadata": {
      "needs_background": "light"
     },
     "output_type": "display_data"
    }
   ],
   "source": [
    "\n",
    "plt.hist(fortnite_insertions_df.raw_misalignment, bins=20)\n",
    "plt.title(\"Misalignment for revisions that insert 'Fortnite'\")\n",
    "plt.show()"
   ]
  },
  {
   "cell_type": "code",
   "execution_count": 93,
   "metadata": {},
   "outputs": [
    {
     "data": {
      "text/html": [
       "<div>\n",
       "<style scoped>\n",
       "    .dataframe tbody tr th:only-of-type {\n",
       "        vertical-align: middle;\n",
       "    }\n",
       "\n",
       "    .dataframe tbody tr th {\n",
       "        vertical-align: top;\n",
       "    }\n",
       "\n",
       "    .dataframe thead th {\n",
       "        text-align: right;\n",
       "    }\n",
       "</style>\n",
       "<table border=\"1\" class=\"dataframe\">\n",
       "  <thead>\n",
       "    <tr style=\"text-align: right;\">\n",
       "      <th></th>\n",
       "      <th>rev_id</th>\n",
       "      <th>damaging_prob</th>\n",
       "      <th>damaging_prob_calibrated</th>\n",
       "      <th>revert_prob</th>\n",
       "      <th>is_reverted_1week</th>\n",
       "      <th>is_reverted</th>\n",
       "      <th>raw_misalignment</th>\n",
       "    </tr>\n",
       "  </thead>\n",
       "  <tbody>\n",
       "    <tr>\n",
       "      <th>21196</th>\n",
       "      <td>858301367</td>\n",
       "      <td>0.771606</td>\n",
       "      <td>0.976844</td>\n",
       "      <td>0.375343</td>\n",
       "      <td>True</td>\n",
       "      <td>True</td>\n",
       "      <td>0.601502</td>\n",
       "    </tr>\n",
       "    <tr>\n",
       "      <th>43436</th>\n",
       "      <td>864464571</td>\n",
       "      <td>0.497620</td>\n",
       "      <td>0.725871</td>\n",
       "      <td>0.092794</td>\n",
       "      <td>True</td>\n",
       "      <td>True</td>\n",
       "      <td>0.633077</td>\n",
       "    </tr>\n",
       "    <tr>\n",
       "      <th>65919</th>\n",
       "      <td>867869926</td>\n",
       "      <td>0.840289</td>\n",
       "      <td>0.988274</td>\n",
       "      <td>0.253381</td>\n",
       "      <td>True</td>\n",
       "      <td>True</td>\n",
       "      <td>0.734893</td>\n",
       "    </tr>\n",
       "    <tr>\n",
       "      <th>71067</th>\n",
       "      <td>865200956</td>\n",
       "      <td>0.910896</td>\n",
       "      <td>0.994203</td>\n",
       "      <td>0.386532</td>\n",
       "      <td>True</td>\n",
       "      <td>True</td>\n",
       "      <td>0.607671</td>\n",
       "    </tr>\n",
       "    <tr>\n",
       "      <th>101867</th>\n",
       "      <td>861869319</td>\n",
       "      <td>0.815725</td>\n",
       "      <td>0.985031</td>\n",
       "      <td>0.456813</td>\n",
       "      <td>True</td>\n",
       "      <td>True</td>\n",
       "      <td>0.528218</td>\n",
       "    </tr>\n",
       "    <tr>\n",
       "      <th>...</th>\n",
       "      <td>...</td>\n",
       "      <td>...</td>\n",
       "      <td>...</td>\n",
       "      <td>...</td>\n",
       "      <td>...</td>\n",
       "      <td>...</td>\n",
       "      <td>...</td>\n",
       "    </tr>\n",
       "    <tr>\n",
       "      <th>11074712</th>\n",
       "      <td>875006792</td>\n",
       "      <td>0.900643</td>\n",
       "      <td>0.993578</td>\n",
       "      <td>0.449986</td>\n",
       "      <td>True</td>\n",
       "      <td>True</td>\n",
       "      <td>0.543591</td>\n",
       "    </tr>\n",
       "    <tr>\n",
       "      <th>11250647</th>\n",
       "      <td>875341478</td>\n",
       "      <td>0.629517</td>\n",
       "      <td>0.909571</td>\n",
       "      <td>0.229850</td>\n",
       "      <td>False</td>\n",
       "      <td>False</td>\n",
       "      <td>0.679721</td>\n",
       "    </tr>\n",
       "    <tr>\n",
       "      <th>11419335</th>\n",
       "      <td>875645472</td>\n",
       "      <td>0.665855</td>\n",
       "      <td>0.935552</td>\n",
       "      <td>0.397760</td>\n",
       "      <td>True</td>\n",
       "      <td>True</td>\n",
       "      <td>0.537792</td>\n",
       "    </tr>\n",
       "    <tr>\n",
       "      <th>11477967</th>\n",
       "      <td>875750292</td>\n",
       "      <td>0.900707</td>\n",
       "      <td>0.993582</td>\n",
       "      <td>0.372110</td>\n",
       "      <td>True</td>\n",
       "      <td>True</td>\n",
       "      <td>0.621472</td>\n",
       "    </tr>\n",
       "    <tr>\n",
       "      <th>11511855</th>\n",
       "      <td>875810179</td>\n",
       "      <td>0.733541</td>\n",
       "      <td>0.966373</td>\n",
       "      <td>0.361754</td>\n",
       "      <td>True</td>\n",
       "      <td>True</td>\n",
       "      <td>0.604619</td>\n",
       "    </tr>\n",
       "  </tbody>\n",
       "</table>\n",
       "<p>278 rows × 7 columns</p>\n",
       "</div>"
      ],
      "text/plain": [
       "             rev_id  damaging_prob  damaging_prob_calibrated  revert_prob  \\\n",
       "21196     858301367       0.771606                  0.976844     0.375343   \n",
       "43436     864464571       0.497620                  0.725871     0.092794   \n",
       "65919     867869926       0.840289                  0.988274     0.253381   \n",
       "71067     865200956       0.910896                  0.994203     0.386532   \n",
       "101867    861869319       0.815725                  0.985031     0.456813   \n",
       "...             ...            ...                       ...          ...   \n",
       "11074712  875006792       0.900643                  0.993578     0.449986   \n",
       "11250647  875341478       0.629517                  0.909571     0.229850   \n",
       "11419335  875645472       0.665855                  0.935552     0.397760   \n",
       "11477967  875750292       0.900707                  0.993582     0.372110   \n",
       "11511855  875810179       0.733541                  0.966373     0.361754   \n",
       "\n",
       "          is_reverted_1week  is_reverted  raw_misalignment  \n",
       "21196                  True         True          0.601502  \n",
       "43436                  True         True          0.633077  \n",
       "65919                  True         True          0.734893  \n",
       "71067                  True         True          0.607671  \n",
       "101867                 True         True          0.528218  \n",
       "...                     ...          ...               ...  \n",
       "11074712               True         True          0.543591  \n",
       "11250647              False        False          0.679721  \n",
       "11419335               True         True          0.537792  \n",
       "11477967               True         True          0.621472  \n",
       "11511855               True         True          0.604619  \n",
       "\n",
       "[278 rows x 7 columns]"
      ]
     },
     "execution_count": 93,
     "metadata": {},
     "output_type": "execute_result"
    }
   ],
   "source": [
    "fortnite_insertions_df[fortnite_insertions_df.raw_misalignment>=0.5]"
   ]
  },
  {
   "cell_type": "code",
   "execution_count": 96,
   "metadata": {},
   "outputs": [
    {
     "data": {
      "text/plain": [
       "0.6768178993163455"
      ]
     },
     "execution_count": 96,
     "metadata": {},
     "output_type": "execute_result"
    }
   ],
   "source": [
    "np.sum((fortnite_insertions_df.revert_prob >= 0.5) == fortnite_insertions_df.is_reverted) / len(fortnite_insertions_df)"
   ]
  },
  {
   "cell_type": "code",
   "execution_count": 99,
   "metadata": {},
   "outputs": [
    {
     "name": "stdout",
     "output_type": "stream",
     "text": [
      "0.03414149969935021\n"
     ]
    },
    {
     "data": {
      "image/png": "[encoded data removed]",
      "text/plain": [
       "<Figure size 432x288 with 1 Axes>"
      ]
     },
     "metadata": {
      "needs_background": "light"
     },
     "output_type": "display_data"
    }
   ],
   "source": [
    "print(np.median(fortnite_insertions_df[(fortnite_insertions_df.revert_prob >= 0.5) == fortnite_insertions_df.is_reverted].raw_misalignment))\n",
    "\n",
    "plt.hist(fortnite_insertions_df[(fortnite_insertions_df.revert_prob >= 0.5) == fortnite_insertions_df.is_reverted].raw_misalignment, bins=20)\n",
    "plt.title(\"Misalignment for revisions that insert 'Fortnite'\")\n",
    "plt.show()"
   ]
  },
  {
   "cell_type": "code",
   "execution_count": 101,
   "metadata": {},
   "outputs": [
    {
     "data": {
      "text/html": [
       "<div>\n",
       "<style scoped>\n",
       "    .dataframe tbody tr th:only-of-type {\n",
       "        vertical-align: middle;\n",
       "    }\n",
       "\n",
       "    .dataframe tbody tr th {\n",
       "        vertical-align: top;\n",
       "    }\n",
       "\n",
       "    .dataframe thead th {\n",
       "        text-align: right;\n",
       "    }\n",
       "</style>\n",
       "<table border=\"1\" class=\"dataframe\">\n",
       "  <thead>\n",
       "    <tr style=\"text-align: right;\">\n",
       "      <th></th>\n",
       "      <th>rev_id</th>\n",
       "      <th>damaging_prob</th>\n",
       "      <th>damaging_prob_calibrated</th>\n",
       "      <th>revert_prob</th>\n",
       "      <th>is_reverted_1week</th>\n",
       "      <th>is_reverted</th>\n",
       "      <th>raw_misalignment</th>\n",
       "    </tr>\n",
       "  </thead>\n",
       "  <tbody>\n",
       "    <tr>\n",
       "      <th>2562</th>\n",
       "      <td>862326039</td>\n",
       "      <td>0.765009</td>\n",
       "      <td>0.975291</td>\n",
       "      <td>0.739676</td>\n",
       "      <td>True</td>\n",
       "      <td>True</td>\n",
       "      <td>0.235615</td>\n",
       "    </tr>\n",
       "    <tr>\n",
       "      <th>6577</th>\n",
       "      <td>874495639</td>\n",
       "      <td>0.258366</td>\n",
       "      <td>0.183768</td>\n",
       "      <td>0.509025</td>\n",
       "      <td>True</td>\n",
       "      <td>True</td>\n",
       "      <td>-0.325257</td>\n",
       "    </tr>\n",
       "    <tr>\n",
       "      <th>12381</th>\n",
       "      <td>864414773</td>\n",
       "      <td>0.865132</td>\n",
       "      <td>0.990845</td>\n",
       "      <td>0.775611</td>\n",
       "      <td>True</td>\n",
       "      <td>True</td>\n",
       "      <td>0.215234</td>\n",
       "    </tr>\n",
       "    <tr>\n",
       "      <th>25778</th>\n",
       "      <td>862621571</td>\n",
       "      <td>0.794255</td>\n",
       "      <td>0.981483</td>\n",
       "      <td>0.940366</td>\n",
       "      <td>True</td>\n",
       "      <td>True</td>\n",
       "      <td>0.041117</td>\n",
       "    </tr>\n",
       "    <tr>\n",
       "      <th>57036</th>\n",
       "      <td>858948928</td>\n",
       "      <td>0.013891</td>\n",
       "      <td>0.017414</td>\n",
       "      <td>0.033178</td>\n",
       "      <td>False</td>\n",
       "      <td>False</td>\n",
       "      <td>-0.015764</td>\n",
       "    </tr>\n",
       "    <tr>\n",
       "      <th>...</th>\n",
       "      <td>...</td>\n",
       "      <td>...</td>\n",
       "      <td>...</td>\n",
       "      <td>...</td>\n",
       "      <td>...</td>\n",
       "      <td>...</td>\n",
       "      <td>...</td>\n",
       "    </tr>\n",
       "    <tr>\n",
       "      <th>11580504</th>\n",
       "      <td>875940642</td>\n",
       "      <td>0.294754</td>\n",
       "      <td>0.247460</td>\n",
       "      <td>0.811501</td>\n",
       "      <td>True</td>\n",
       "      <td>True</td>\n",
       "      <td>-0.564042</td>\n",
       "    </tr>\n",
       "    <tr>\n",
       "      <th>11581068</th>\n",
       "      <td>875941715</td>\n",
       "      <td>0.863907</td>\n",
       "      <td>0.990732</td>\n",
       "      <td>0.739471</td>\n",
       "      <td>True</td>\n",
       "      <td>True</td>\n",
       "      <td>0.251261</td>\n",
       "    </tr>\n",
       "    <tr>\n",
       "      <th>11581152</th>\n",
       "      <td>875941873</td>\n",
       "      <td>0.856375</td>\n",
       "      <td>0.990010</td>\n",
       "      <td>0.777822</td>\n",
       "      <td>True</td>\n",
       "      <td>True</td>\n",
       "      <td>0.212187</td>\n",
       "    </tr>\n",
       "    <tr>\n",
       "      <th>11583620</th>\n",
       "      <td>875946205</td>\n",
       "      <td>0.003320</td>\n",
       "      <td>0.015638</td>\n",
       "      <td>0.030560</td>\n",
       "      <td>False</td>\n",
       "      <td>False</td>\n",
       "      <td>-0.014922</td>\n",
       "    </tr>\n",
       "    <tr>\n",
       "      <th>11589282</th>\n",
       "      <td>875956422</td>\n",
       "      <td>0.915026</td>\n",
       "      <td>0.994438</td>\n",
       "      <td>0.737601</td>\n",
       "      <td>True</td>\n",
       "      <td>True</td>\n",
       "      <td>0.256837</td>\n",
       "    </tr>\n",
       "  </tbody>\n",
       "</table>\n",
       "<p>1089 rows × 7 columns</p>\n",
       "</div>"
      ],
      "text/plain": [
       "             rev_id  damaging_prob  damaging_prob_calibrated  revert_prob  \\\n",
       "2562      862326039       0.765009                  0.975291     0.739676   \n",
       "6577      874495639       0.258366                  0.183768     0.509025   \n",
       "12381     864414773       0.865132                  0.990845     0.775611   \n",
       "25778     862621571       0.794255                  0.981483     0.940366   \n",
       "57036     858948928       0.013891                  0.017414     0.033178   \n",
       "...             ...            ...                       ...          ...   \n",
       "11580504  875940642       0.294754                  0.247460     0.811501   \n",
       "11581068  875941715       0.863907                  0.990732     0.739471   \n",
       "11581152  875941873       0.856375                  0.990010     0.777822   \n",
       "11583620  875946205       0.003320                  0.015638     0.030560   \n",
       "11589282  875956422       0.915026                  0.994438     0.737601   \n",
       "\n",
       "          is_reverted_1week  is_reverted  raw_misalignment  \n",
       "2562                   True         True          0.235615  \n",
       "6577                   True         True         -0.325257  \n",
       "12381                  True         True          0.215234  \n",
       "25778                  True         True          0.041117  \n",
       "57036                 False        False         -0.015764  \n",
       "...                     ...          ...               ...  \n",
       "11580504               True         True         -0.564042  \n",
       "11581068               True         True          0.251261  \n",
       "11581152               True         True          0.212187  \n",
       "11583620              False        False         -0.014922  \n",
       "11589282               True         True          0.256837  \n",
       "\n",
       "[1089 rows x 7 columns]"
      ]
     },
     "execution_count": 101,
     "metadata": {},
     "output_type": "execute_result"
    }
   ],
   "source": [
    "fortnite_insertions_df[(fortnite_insertions_df.revert_prob >= 0.5) == fortnite_insertions_df.is_reverted]"
   ]
  },
  {
   "cell_type": "code",
   "execution_count": 102,
   "metadata": {},
   "outputs": [
    {
     "data": {
      "text/plain": [
       "610"
      ]
     },
     "execution_count": 102,
     "metadata": {},
     "output_type": "execute_result"
    }
   ],
   "source": [
    "prayagraj_insertions = []\n",
    "db = sqlite3.connect(\n",
    "    '/export/scratch2/levon003/repos/wiki-ores-feedback/data/derived/audit/td_doc_indices.sqlite',\n",
    "    detect_types=sqlite3.PARSE_DECLTYPES\n",
    ")\n",
    "try:\n",
    "    cursor = db.execute('SELECT revision_index FROM inds WHERE token_index = ?', (123428,))\n",
    "    inds = cursor.fetchall()\n",
    "    if len(inds) > 0:\n",
    "        for ind in [ind[0] for ind in inds]:\n",
    "            prayagraj_insertions.append(rev_id_list[ind])\n",
    "finally:\n",
    "    db.close()\n",
    "len(prayagraj_insertions)"
   ]
  },
  {
   "cell_type": "code",
   "execution_count": 104,
   "metadata": {},
   "outputs": [
    {
     "data": {
      "image/png": "[encoded data removed]",
      "text/plain": [
       "<Figure size 432x288 with 1 Axes>"
      ]
     },
     "metadata": {
      "needs_background": "light"
     },
     "output_type": "display_data"
    }
   ],
   "source": [
    "prayagraj_insertions_df = merged_preds_df[merged_preds_df.rev_id.isin(prayagraj_insertions)]\n",
    "plt.hist(prayagraj_insertions_df.raw_misalignment, bins=20)\n",
    "plt.title(\"Misalignment for revisions that insert 'Prayagraj'\")\n",
    "plt.show()"
   ]
  },
  {
   "cell_type": "code",
   "execution_count": 106,
   "metadata": {},
   "outputs": [
    {
     "data": {
      "text/plain": [
       "0.460655737704918"
      ]
     },
     "execution_count": 106,
     "metadata": {},
     "output_type": "execute_result"
    }
   ],
   "source": [
    "np.sum((prayagraj_insertions_df.revert_prob >= 0.5) == prayagraj_insertions_df.is_reverted) / len(prayagraj_insertions_df)"
   ]
  },
  {
   "cell_type": "code",
   "execution_count": 107,
   "metadata": {},
   "outputs": [
    {
     "data": {
      "image/png": "[encoded data removed]",
      "text/plain": [
       "<Figure size 432x288 with 1 Axes>"
      ]
     },
     "metadata": {
      "needs_background": "light"
     },
     "output_type": "display_data"
    }
   ],
   "source": [
    "plt.hist(prayagraj_insertions_df.damaging_prob_calibrated, bins=20)\n",
    "plt.title(\"ORES-d for revisions that insert 'Prayagraj'\")\n",
    "plt.show()"
   ]
  },
  {
   "cell_type": "code",
   "execution_count": null,
   "metadata": {},
   "outputs": [],
   "source": []
  }
 ],
 "metadata": {
  "kernelspec": {
   "display_name": "Flagon Python3",
   "language": "python",
   "name": "flagon-conda-env"
  },
  "language_info": {
   "codemirror_mode": {
    "name": "ipython",
    "version": 3
   },
   "file_extension": ".py",
   "mimetype": "text/x-python",
   "name": "python",
   "nbconvert_exporter": "python",
   "pygments_lexer": "ipython3",
   "version": "3.7.7"
  }
 },
 "nbformat": 4,
 "nbformat_minor": 4
}
