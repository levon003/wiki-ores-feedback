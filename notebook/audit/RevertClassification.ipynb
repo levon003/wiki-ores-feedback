{
 "cells": [
  {
   "cell_type": "markdown",
   "metadata": {},
   "source": [
    "Revert Classification\n",
    "===\n",
    "\n",
    "Building a classifier to predict reverts and produce calibrated propensity scores for being reverted."
   ]
  },
  {
   "cell_type": "code",
   "execution_count": 2,
   "metadata": {},
   "outputs": [],
   "source": [
    "import numpy as np\n",
    "import pandas as pd\n",
    "import matplotlib.pyplot as plt\n",
    "import matplotlib"
   ]
  },
  {
   "cell_type": "code",
   "execution_count": 3,
   "metadata": {},
   "outputs": [],
   "source": [
    "import os\n",
    "from tqdm import tqdm\n",
    "import bz2\n",
    "import sqlite3\n",
    "import difflib\n",
    "import gzip\n",
    "import json\n",
    "import re\n",
    "import hashlib\n",
    "from datetime import datetime\n",
    "from datetime import timezone\n",
    "import nltk\n",
    "import scipy.stats\n",
    "import para\n",
    "from itertools import groupby\n",
    "from collections import Counter"
   ]
  },
  {
   "cell_type": "code",
   "execution_count": 4,
   "metadata": {},
   "outputs": [],
   "source": [
    "import sklearn\n",
    "import sklearn.ensemble\n",
    "import sklearn.metrics\n",
    "import sklearn.calibration"
   ]
  },
  {
   "cell_type": "code",
   "execution_count": 5,
   "metadata": {},
   "outputs": [
    {
     "data": {
      "text/plain": [
       "'/export/scratch2/levon003/repos/wiki-ores-feedback'"
      ]
     },
     "execution_count": 5,
     "metadata": {},
     "output_type": "execute_result"
    }
   ],
   "source": [
    "git_root_dir = !git rev-parse --show-toplevel\n",
    "git_root_dir = git_root_dir[0]\n",
    "git_root_dir"
   ]
  },
  {
   "cell_type": "code",
   "execution_count": 6,
   "metadata": {},
   "outputs": [
    {
     "data": {
      "text/plain": [
       "('/export/scratch2/wiki_data',\n",
       " '/export/scratch2/levon003/repos/wiki-ores-feedback/data/derived')"
      ]
     },
     "execution_count": 6,
     "metadata": {},
     "output_type": "execute_result"
    }
   ],
   "source": [
    "raw_data_dir = \"/export/scratch2/wiki_data\"\n",
    "derived_data_dir = os.path.join(git_root_dir, \"data\", \"derived\")\n",
    "raw_data_dir, derived_data_dir"
   ]
  },
  {
   "cell_type": "code",
   "execution_count": 7,
   "metadata": {},
   "outputs": [
    {
     "data": {
      "text/plain": [
       "'/export/scratch2/levon003/repos/wiki-ores-feedback/data/derived/stub-history-all-revisions'"
      ]
     },
     "execution_count": 7,
     "metadata": {},
     "output_type": "execute_result"
    }
   ],
   "source": [
    "stub_history_dir = os.path.join(derived_data_dir, 'stub-history-all-revisions')\n",
    "stub_history_dir"
   ]
  },
  {
   "cell_type": "code",
   "execution_count": 8,
   "metadata": {},
   "outputs": [
    {
     "data": {
      "text/plain": [
       "'/export/scratch2/levon003/repos/wiki-ores-feedback/data/derived/audit'"
      ]
     },
     "execution_count": 8,
     "metadata": {},
     "output_type": "execute_result"
    }
   ],
   "source": [
    "revision_sample_dir = os.path.join(derived_data_dir, 'revision_sample')\n",
    "working_dir = os.path.join(derived_data_dir, 'audit')\n",
    "working_dir"
   ]
  },
  {
   "cell_type": "markdown",
   "metadata": {},
   "source": [
    "### Data loading and cleaning"
   ]
  },
  {
   "cell_type": "code",
   "execution_count": 9,
   "metadata": {},
   "outputs": [
    {
     "name": "stdout",
     "output_type": "stream",
     "text": [
      "Sample 3 data loaded in 0:00:28.275384.\n"
     ]
    },
    {
     "data": {
      "text/plain": [
       "33964442"
      ]
     },
     "execution_count": 9,
     "metadata": {},
     "output_type": "execute_result"
    }
   ],
   "source": [
    "# read in the sample dataframe\n",
    "s = datetime.now()\n",
    "revision_sample_dir = os.path.join(derived_data_dir, 'revision_sample')\n",
    "sample3_filepath = os.path.join(revision_sample_dir, 'sample3_all.pkl')\n",
    "rev_df = pd.read_pickle(sample3_filepath)\n",
    "print(f\"Sample 3 data loaded in {datetime.now() - s}.\")\n",
    "len(rev_df)"
   ]
  },
  {
   "cell_type": "code",
   "execution_count": 10,
   "metadata": {
    "scrolled": true
   },
   "outputs": [
    {
     "data": {
      "text/html": [
       "<div>\n",
       "<style scoped>\n",
       "    .dataframe tbody tr th:only-of-type {\n",
       "        vertical-align: middle;\n",
       "    }\n",
       "\n",
       "    .dataframe tbody tr th {\n",
       "        vertical-align: top;\n",
       "    }\n",
       "\n",
       "    .dataframe thead th {\n",
       "        text-align: right;\n",
       "    }\n",
       "</style>\n",
       "<table border=\"1\" class=\"dataframe\">\n",
       "  <thead>\n",
       "    <tr style=\"text-align: right;\">\n",
       "      <th></th>\n",
       "      <th>page_id</th>\n",
       "      <th>rev_id</th>\n",
       "      <th>rev_timestamp</th>\n",
       "      <th>is_revert_target</th>\n",
       "      <th>is_reverted</th>\n",
       "      <th>is_reverting</th>\n",
       "      <th>is_sample_eligible</th>\n",
       "      <th>prev_rev_id</th>\n",
       "      <th>next_rev_id</th>\n",
       "      <th>prev_rev_timestamp</th>\n",
       "      <th>next_rev_timestamp</th>\n",
       "      <th>reverted_rev_ids</th>\n",
       "      <th>reverting_rev_id</th>\n",
       "      <th>reverting_rev_timestamp</th>\n",
       "    </tr>\n",
       "  </thead>\n",
       "  <tbody>\n",
       "    <tr>\n",
       "      <th>1</th>\n",
       "      <td>12</td>\n",
       "      <td>818613649</td>\n",
       "      <td>1515102279</td>\n",
       "      <td>0</td>\n",
       "      <td>0</td>\n",
       "      <td>0</td>\n",
       "      <td>True</td>\n",
       "      <td>818611292</td>\n",
       "      <td>818624114</td>\n",
       "      <td>1515101356</td>\n",
       "      <td>1515106953</td>\n",
       "      <td>[]</td>\n",
       "      <td>-1</td>\n",
       "      <td>-1</td>\n",
       "    </tr>\n",
       "    <tr>\n",
       "      <th>2</th>\n",
       "      <td>12</td>\n",
       "      <td>818624114</td>\n",
       "      <td>1515106953</td>\n",
       "      <td>1</td>\n",
       "      <td>0</td>\n",
       "      <td>0</td>\n",
       "      <td>True</td>\n",
       "      <td>818613649</td>\n",
       "      <td>820024812</td>\n",
       "      <td>1515102279</td>\n",
       "      <td>1515798752</td>\n",
       "      <td>[]</td>\n",
       "      <td>-1</td>\n",
       "      <td>-1</td>\n",
       "    </tr>\n",
       "    <tr>\n",
       "      <th>3</th>\n",
       "      <td>12</td>\n",
       "      <td>820024812</td>\n",
       "      <td>1515798752</td>\n",
       "      <td>0</td>\n",
       "      <td>1</td>\n",
       "      <td>0</td>\n",
       "      <td>True</td>\n",
       "      <td>818624114</td>\n",
       "      <td>820025687</td>\n",
       "      <td>1515106953</td>\n",
       "      <td>1515799060</td>\n",
       "      <td>[]</td>\n",
       "      <td>820025687</td>\n",
       "      <td>1515799060</td>\n",
       "    </tr>\n",
       "    <tr>\n",
       "      <th>4</th>\n",
       "      <td>12</td>\n",
       "      <td>820025687</td>\n",
       "      <td>1515799060</td>\n",
       "      <td>0</td>\n",
       "      <td>0</td>\n",
       "      <td>1</td>\n",
       "      <td>True</td>\n",
       "      <td>820024812</td>\n",
       "      <td>820703495</td>\n",
       "      <td>1515798752</td>\n",
       "      <td>1516095884</td>\n",
       "      <td>[820024812]</td>\n",
       "      <td>-1</td>\n",
       "      <td>-1</td>\n",
       "    </tr>\n",
       "    <tr>\n",
       "      <th>5</th>\n",
       "      <td>12</td>\n",
       "      <td>820703495</td>\n",
       "      <td>1516095884</td>\n",
       "      <td>0</td>\n",
       "      <td>0</td>\n",
       "      <td>0</td>\n",
       "      <td>True</td>\n",
       "      <td>820025687</td>\n",
       "      <td>821673418</td>\n",
       "      <td>1515799060</td>\n",
       "      <td>1516597634</td>\n",
       "      <td>[]</td>\n",
       "      <td>-1</td>\n",
       "      <td>-1</td>\n",
       "    </tr>\n",
       "  </tbody>\n",
       "</table>\n",
       "</div>"
      ],
      "text/plain": [
       "   page_id     rev_id  rev_timestamp  is_revert_target  is_reverted  \\\n",
       "1       12  818613649     1515102279                 0            0   \n",
       "2       12  818624114     1515106953                 1            0   \n",
       "3       12  820024812     1515798752                 0            1   \n",
       "4       12  820025687     1515799060                 0            0   \n",
       "5       12  820703495     1516095884                 0            0   \n",
       "\n",
       "   is_reverting  is_sample_eligible  prev_rev_id  next_rev_id  \\\n",
       "1             0                True    818611292    818624114   \n",
       "2             0                True    818613649    820024812   \n",
       "3             0                True    818624114    820025687   \n",
       "4             1                True    820024812    820703495   \n",
       "5             0                True    820025687    821673418   \n",
       "\n",
       "   prev_rev_timestamp  next_rev_timestamp reverted_rev_ids  reverting_rev_id  \\\n",
       "1          1515101356          1515106953               []                -1   \n",
       "2          1515102279          1515798752               []                -1   \n",
       "3          1515106953          1515799060               []         820025687   \n",
       "4          1515798752          1516095884      [820024812]                -1   \n",
       "5          1515799060          1516597634               []                -1   \n",
       "\n",
       "   reverting_rev_timestamp  \n",
       "1                       -1  \n",
       "2                       -1  \n",
       "3               1515799060  \n",
       "4                       -1  \n",
       "5                       -1  "
      ]
     },
     "execution_count": 10,
     "metadata": {},
     "output_type": "execute_result"
    }
   ],
   "source": [
    "rev_df.head()"
   ]
  },
  {
   "cell_type": "code",
   "execution_count": 11,
   "metadata": {},
   "outputs": [
    {
     "name": "stdout",
     "output_type": "stream",
     "text": [
      "Features data loaded in 0:00:39.050684.\n"
     ]
    },
    {
     "data": {
      "text/plain": [
       "4005652"
      ]
     },
     "execution_count": 11,
     "metadata": {},
     "output_type": "execute_result"
    }
   ],
   "source": [
    "# Load the features\n",
    "s = datetime.now()\n",
    "labeled_revs_dir = os.path.join(derived_data_dir, 'labeled-revs')\n",
    "#sample2_damaging_filepath = os.path.join(labeled_revs_dir, 'sample2.mock.damaging.tsv')\n",
    "sample3_damaging_filepath = os.path.join(labeled_revs_dir, 'sample3-features', 'sample3.damaging.2020-07-11T15:11:15Z.tsv')\n",
    "features_df = pd.read_csv(sample3_damaging_filepath, sep='\\t', header=0)\n",
    "print(f\"Features data loaded in {datetime.now() - s}.\")\n",
    "len(features_df)"
   ]
  },
  {
   "cell_type": "code",
   "execution_count": 12,
   "metadata": {},
   "outputs": [],
   "source": [
    "# drop the useless 'damaging' column\n",
    "features_df = features_df.drop(columns='damaging')"
   ]
  },
  {
   "cell_type": "code",
   "execution_count": 13,
   "metadata": {},
   "outputs": [
    {
     "name": "stderr",
     "output_type": "stream",
     "text": [
      "100%|██████████| 4005652/4005652 [02:13<00:00, 29902.51it/s]\n"
     ]
    }
   ],
   "source": [
    "# load in the rev_ids that correspond to the feature data\n",
    "#cache_filepath = os.path.join(labeled_revs_dir, 'sample2.mock.w_cache.json')\n",
    "cache_filepath = os.path.join(labeled_revs_dir, 'sample3-features', 'sample3.mock.w_cache.2020-07-11T15:11:15Z.json')\n",
    "cache_rev_id_list = []\n",
    "with open(cache_filepath, 'r') as infile:\n",
    "    for line in tqdm(infile, total=len(features_df)):\n",
    "        rev = json.loads(line)\n",
    "        rev_id = rev['rev_id']\n",
    "        cache_rev_id_list.append(rev_id)"
   ]
  },
  {
   "cell_type": "code",
   "execution_count": 14,
   "metadata": {},
   "outputs": [],
   "source": [
    "assert len(cache_rev_id_list) == len(features_df)"
   ]
  },
  {
   "cell_type": "code",
   "execution_count": 15,
   "metadata": {},
   "outputs": [
    {
     "data": {
      "text/plain": [
       "4005602"
      ]
     },
     "execution_count": 15,
     "metadata": {},
     "output_type": "execute_result"
    }
   ],
   "source": [
    "cache_rev_id_set = set(cache_rev_id_list)\n",
    "len(cache_rev_id_set)"
   ]
  },
  {
   "cell_type": "code",
   "execution_count": 16,
   "metadata": {},
   "outputs": [
    {
     "data": {
      "text/plain": [
       "826425205"
      ]
     },
     "execution_count": 16,
     "metadata": {},
     "output_type": "execute_result"
    }
   ],
   "source": [
    "last_rev = cache_rev_id_list[-1]\n",
    "last_rev"
   ]
  },
  {
   "cell_type": "code",
   "execution_count": 17,
   "metadata": {},
   "outputs": [],
   "source": [
    "# every rev_id in the cache should ALSO be in the rev_df\n",
    "assert len(cache_rev_id_set & set(rev_df.rev_id)) == len(cache_rev_id_set), len(cache_rev_id_set & set(rev_df.rev_id))"
   ]
  },
  {
   "cell_type": "code",
   "execution_count": 18,
   "metadata": {},
   "outputs": [
    {
     "name": "stdout",
     "output_type": "stream",
     "text": [
      "Starting analysis from 2018-01-01 00:00:00\n"
     ]
    }
   ],
   "source": [
    "# set the analysis start time to be the beginning of 2018\n",
    "analysis_start_date = datetime.fromisoformat('2018-01-01')\n",
    "analysis_start_date = analysis_start_date.replace(tzinfo=timezone.utc)\n",
    "analysis_start_timestamp = int(analysis_start_date.timestamp())\n",
    "print(f\"Starting analysis from {datetime.utcfromtimestamp(analysis_start_timestamp)}\")"
   ]
  },
  {
   "cell_type": "code",
   "execution_count": 19,
   "metadata": {},
   "outputs": [
    {
     "name": "stdout",
     "output_type": "stream",
     "text": [
      "Using revisions up to 2018-02-19 07:18:15\n"
     ]
    }
   ],
   "source": [
    "analysis_end_timestamp = rev_df[rev_df.rev_id == last_rev].rev_timestamp.iloc[0]\n",
    "#analysis_end_timestamp = np.max(rev_df[rev_df.rev_id.isin(cache_rev_id_set)].rev_timestamp)\n",
    "print(f\"Using revisions up to {datetime.utcfromtimestamp(analysis_end_timestamp)}\")"
   ]
  },
  {
   "cell_type": "code",
   "execution_count": 20,
   "metadata": {},
   "outputs": [
    {
     "data": {
      "text/plain": [
       "4025634"
      ]
     },
     "execution_count": 20,
     "metadata": {},
     "output_type": "execute_result"
    }
   ],
   "source": [
    "# mostly to save memory, we trim out unneeded data in the rev_df\n",
    "rev_df = rev_df[(rev_df.rev_timestamp <= analysis_end_timestamp)&(rev_df.rev_timestamp >= analysis_start_timestamp)]\n",
    "len(rev_df)"
   ]
  },
  {
   "cell_type": "code",
   "execution_count": 21,
   "metadata": {},
   "outputs": [
    {
     "name": "stdout",
     "output_type": "stream",
     "text": [
      "Loaded revert data in 0:00:27.189379.\n"
     ]
    },
    {
     "data": {
      "text/plain": [
       "5992682"
      ]
     },
     "execution_count": 21,
     "metadata": {},
     "output_type": "execute_result"
    }
   ],
   "source": [
    "# Read the revert info\n",
    "s = datetime.now()\n",
    "stub_history_reverts_dir = os.path.join(derived_data_dir, 'stub-history-reverts')\n",
    "revert_df_filepath = os.path.join(stub_history_reverts_dir, 'revert_df.pkl')\n",
    "revert_df = pd.read_pickle(revert_df_filepath)\n",
    "print(f\"Loaded revert data in {datetime.now() - s}.\")\n",
    "len(revert_df)"
   ]
  },
  {
   "cell_type": "code",
   "execution_count": 22,
   "metadata": {},
   "outputs": [
    {
     "data": {
      "text/html": [
       "<div>\n",
       "<style scoped>\n",
       "    .dataframe tbody tr th:only-of-type {\n",
       "        vertical-align: middle;\n",
       "    }\n",
       "\n",
       "    .dataframe tbody tr th {\n",
       "        vertical-align: top;\n",
       "    }\n",
       "\n",
       "    .dataframe thead th {\n",
       "        text-align: right;\n",
       "    }\n",
       "</style>\n",
       "<table border=\"1\" class=\"dataframe\">\n",
       "  <thead>\n",
       "    <tr style=\"text-align: right;\">\n",
       "      <th></th>\n",
       "      <th>page_id</th>\n",
       "      <th>reverted_count</th>\n",
       "      <th>reverting_rev_id</th>\n",
       "      <th>reverting_timestamp</th>\n",
       "      <th>reverting_user_text</th>\n",
       "      <th>reverting_user_id</th>\n",
       "      <th>reverted_to_rev_id</th>\n",
       "      <th>reverted_to_timestamp</th>\n",
       "      <th>reverted_to_user_text</th>\n",
       "      <th>reverted_to_user_id</th>\n",
       "      <th>reverted_rev_ids</th>\n",
       "      <th>reverted_timestamps</th>\n",
       "      <th>reverted_user_texts</th>\n",
       "      <th>reverted_user_ids</th>\n",
       "      <th>reverting_user_is_anonymous</th>\n",
       "      <th>reverted_to_user_is_anonymous</th>\n",
       "      <th>reverted_users_is_anonymous</th>\n",
       "    </tr>\n",
       "  </thead>\n",
       "  <tbody>\n",
       "    <tr>\n",
       "      <th>0</th>\n",
       "      <td>18754764</td>\n",
       "      <td>1</td>\n",
       "      <td>902766646</td>\n",
       "      <td>1561105801</td>\n",
       "      <td>Malcolmxl5</td>\n",
       "      <td>4076676.0</td>\n",
       "      <td>874884880</td>\n",
       "      <td>1545481829</td>\n",
       "      <td>Hmains</td>\n",
       "      <td>508734.0</td>\n",
       "      <td>[900328973]</td>\n",
       "      <td>[1559706521]</td>\n",
       "      <td>[2601:199:417F:8EED:A0B0:A6B5:3457:A9B4]</td>\n",
       "      <td>[None]</td>\n",
       "      <td>False</td>\n",
       "      <td>False</td>\n",
       "      <td>[True]</td>\n",
       "    </tr>\n",
       "    <tr>\n",
       "      <th>1</th>\n",
       "      <td>18754831</td>\n",
       "      <td>2</td>\n",
       "      <td>818980415</td>\n",
       "      <td>1515284429</td>\n",
       "      <td>BrownHairedGirl</td>\n",
       "      <td>754619.0</td>\n",
       "      <td>743241620</td>\n",
       "      <td>1475970276</td>\n",
       "      <td>Emir of Wikipedia</td>\n",
       "      <td>28856560.0</td>\n",
       "      <td>[757539852, 775847398]</td>\n",
       "      <td>[1483188655, 1492452285]</td>\n",
       "      <td>[Ser Amantio di Nicolao, Emir of Wikipedia]</td>\n",
       "      <td>[753665, 28856560]</td>\n",
       "      <td>False</td>\n",
       "      <td>False</td>\n",
       "      <td>[False, False]</td>\n",
       "    </tr>\n",
       "    <tr>\n",
       "      <th>2</th>\n",
       "      <td>18754831</td>\n",
       "      <td>1</td>\n",
       "      <td>932235094</td>\n",
       "      <td>1577204938</td>\n",
       "      <td>UA3</td>\n",
       "      <td>25923702.0</td>\n",
       "      <td>918313790</td>\n",
       "      <td>1569654385</td>\n",
       "      <td>Monkbot</td>\n",
       "      <td>20483999.0</td>\n",
       "      <td>[932233860]</td>\n",
       "      <td>[1577204033]</td>\n",
       "      <td>[Qowa]</td>\n",
       "      <td>[37692801]</td>\n",
       "      <td>False</td>\n",
       "      <td>False</td>\n",
       "      <td>[False]</td>\n",
       "    </tr>\n",
       "    <tr>\n",
       "      <th>3</th>\n",
       "      <td>18754864</td>\n",
       "      <td>1</td>\n",
       "      <td>853153047</td>\n",
       "      <td>1533256539</td>\n",
       "      <td>Beetstra</td>\n",
       "      <td>855858.0</td>\n",
       "      <td>831996274</td>\n",
       "      <td>1521801439</td>\n",
       "      <td>KolbertBot</td>\n",
       "      <td>31691822.0</td>\n",
       "      <td>[846149041]</td>\n",
       "      <td>[1529188413]</td>\n",
       "      <td>[Lepidoptera~plwiki]</td>\n",
       "      <td>[24892933]</td>\n",
       "      <td>False</td>\n",
       "      <td>False</td>\n",
       "      <td>[False]</td>\n",
       "    </tr>\n",
       "    <tr>\n",
       "      <th>4</th>\n",
       "      <td>18754916</td>\n",
       "      <td>1</td>\n",
       "      <td>882182106</td>\n",
       "      <td>1549557841</td>\n",
       "      <td>Number 57</td>\n",
       "      <td>327289.0</td>\n",
       "      <td>847748130</td>\n",
       "      <td>1530126769</td>\n",
       "      <td>CitationCleanerBot</td>\n",
       "      <td>15270283.0</td>\n",
       "      <td>[882125775]</td>\n",
       "      <td>[1549520001]</td>\n",
       "      <td>[Huldra]</td>\n",
       "      <td>[410653]</td>\n",
       "      <td>False</td>\n",
       "      <td>False</td>\n",
       "      <td>[False]</td>\n",
       "    </tr>\n",
       "  </tbody>\n",
       "</table>\n",
       "</div>"
      ],
      "text/plain": [
       "    page_id  reverted_count  reverting_rev_id  reverting_timestamp  \\\n",
       "0  18754764               1         902766646           1561105801   \n",
       "1  18754831               2         818980415           1515284429   \n",
       "2  18754831               1         932235094           1577204938   \n",
       "3  18754864               1         853153047           1533256539   \n",
       "4  18754916               1         882182106           1549557841   \n",
       "\n",
       "  reverting_user_text  reverting_user_id  reverted_to_rev_id  \\\n",
       "0          Malcolmxl5          4076676.0           874884880   \n",
       "1     BrownHairedGirl           754619.0           743241620   \n",
       "2                 UA3         25923702.0           918313790   \n",
       "3            Beetstra           855858.0           831996274   \n",
       "4           Number 57           327289.0           847748130   \n",
       "\n",
       "   reverted_to_timestamp reverted_to_user_text  reverted_to_user_id  \\\n",
       "0             1545481829                Hmains             508734.0   \n",
       "1             1475970276     Emir of Wikipedia           28856560.0   \n",
       "2             1569654385               Monkbot           20483999.0   \n",
       "3             1521801439            KolbertBot           31691822.0   \n",
       "4             1530126769    CitationCleanerBot           15270283.0   \n",
       "\n",
       "         reverted_rev_ids       reverted_timestamps  \\\n",
       "0             [900328973]              [1559706521]   \n",
       "1  [757539852, 775847398]  [1483188655, 1492452285]   \n",
       "2             [932233860]              [1577204033]   \n",
       "3             [846149041]              [1529188413]   \n",
       "4             [882125775]              [1549520001]   \n",
       "\n",
       "                           reverted_user_texts   reverted_user_ids  \\\n",
       "0     [2601:199:417F:8EED:A0B0:A6B5:3457:A9B4]              [None]   \n",
       "1  [Ser Amantio di Nicolao, Emir of Wikipedia]  [753665, 28856560]   \n",
       "2                                       [Qowa]          [37692801]   \n",
       "3                         [Lepidoptera~plwiki]          [24892933]   \n",
       "4                                     [Huldra]            [410653]   \n",
       "\n",
       "   reverting_user_is_anonymous  reverted_to_user_is_anonymous  \\\n",
       "0                        False                          False   \n",
       "1                        False                          False   \n",
       "2                        False                          False   \n",
       "3                        False                          False   \n",
       "4                        False                          False   \n",
       "\n",
       "  reverted_users_is_anonymous  \n",
       "0                      [True]  \n",
       "1              [False, False]  \n",
       "2                     [False]  \n",
       "3                     [False]  \n",
       "4                     [False]  "
      ]
     },
     "execution_count": 22,
     "metadata": {},
     "output_type": "execute_result"
    }
   ],
   "source": [
    "revert_df.head()"
   ]
  },
  {
   "cell_type": "code",
   "execution_count": 23,
   "metadata": {},
   "outputs": [
    {
     "name": "stderr",
     "output_type": "stream",
     "text": [
      "100%|██████████| 5992682/5992682 [00:19<00:00, 311734.57it/s]\n"
     ]
    }
   ],
   "source": [
    "is_self_revert_list = []\n",
    "for row in tqdm(revert_df.itertuples(), total=len(revert_df)):\n",
    "    is_self_revert = row.reverting_user_text in row.reverted_user_texts\n",
    "    is_self_revert_list.append(is_self_revert)\n",
    "revert_df['is_self_revert'] = is_self_revert_list"
   ]
  },
  {
   "cell_type": "code",
   "execution_count": 24,
   "metadata": {},
   "outputs": [
    {
     "data": {
      "text/plain": [
       "(427375, 0.07131614859590414)"
      ]
     },
     "execution_count": 24,
     "metadata": {},
     "output_type": "execute_result"
    }
   ],
   "source": [
    "analysis_rev_ids = set(rev_df.rev_id)\n",
    "revert_subset = revert_df[revert_df.reverting_rev_id.isin(analysis_rev_ids)].copy()\n",
    "len(revert_subset), len(revert_subset) / len(revert_df)"
   ]
  },
  {
   "cell_type": "code",
   "execution_count": 25,
   "metadata": {},
   "outputs": [
    {
     "name": "stderr",
     "output_type": "stream",
     "text": [
      "100%|██████████| 377374/377374 [00:01<00:00, 199358.54it/s]\n"
     ]
    },
    {
     "data": {
      "text/plain": [
       "501159"
      ]
     },
     "execution_count": 25,
     "metadata": {},
     "output_type": "execute_result"
    }
   ],
   "source": [
    "reverted_rev_ids = set()\n",
    "# only count it as a reverted revision if it was not a self-revert\n",
    "# and it was reverted within one week\n",
    "threshold = 60 * 60 * 24 * 7 \n",
    "rs = revert_subset[~revert_subset.is_self_revert]\n",
    "for row in tqdm(rs.itertuples(), total=len(rs)):\n",
    "    reverting_timestamp = row.reverting_timestamp\n",
    "    for rev_id, timestamp in zip(row.reverted_rev_ids, row.reverted_timestamps):\n",
    "        if reverting_timestamp - timestamp <= threshold:\n",
    "            reverted_rev_ids.add(rev_id)\n",
    "len(reverted_rev_ids)"
   ]
  },
  {
   "cell_type": "code",
   "execution_count": 26,
   "metadata": {},
   "outputs": [
    {
     "data": {
      "text/plain": [
       "(411650, 0.10276728981948506)"
      ]
     },
     "execution_count": 26,
     "metadata": {},
     "output_type": "execute_result"
    }
   ],
   "source": [
    "is_reverted = [rev_id in reverted_rev_ids for rev_id in cache_rev_id_list]\n",
    "features_df['is_reverted'] = is_reverted\n",
    "np.sum(features_df.is_reverted), np.sum(features_df.is_reverted) / len(features_df)"
   ]
  },
  {
   "cell_type": "markdown",
   "metadata": {},
   "source": [
    "### Fit classification models"
   ]
  },
  {
   "cell_type": "code",
   "execution_count": null,
   "metadata": {},
   "outputs": [],
   "source": [
    "df = features_df.sample(frac=1)"
   ]
  },
  {
   "cell_type": "code",
   "execution_count": 44,
   "metadata": {},
   "outputs": [],
   "source": [
    "# define the classifier based on the enwiki tuning report\n",
    "# hyperparameters set from: https://github.com/wikimedia/editquality/blob/master/tuning_reports/enwiki.damaging.md\n",
    "clf = sklearn.ensemble.GradientBoostingClassifier(\n",
    "    learning_rate=0.01, \n",
    "    n_estimators=700, \n",
    "    max_features='log2', \n",
    "    max_depth=5\n",
    ")"
   ]
  },
  {
   "cell_type": "code",
   "execution_count": 42,
   "metadata": {},
   "outputs": [],
   "source": [
    "clf = sklearn.linear_model.LogisticRegression(\n",
    "    C=1.0,\n",
    "    solver='lbfgs'\n",
    ")"
   ]
  },
  {
   "cell_type": "code",
   "execution_count": 45,
   "metadata": {},
   "outputs": [
    {
     "name": "stdout",
     "output_type": "stream",
     "text": [
      "Train: 91.945%; test: 92.052%; test ROC AUC: 0.8355\n",
      "Train: 91.937%; test: 92.054%; test ROC AUC: 0.8330\n",
      "Train: 91.974%; test: 91.908%; test ROC AUC: 0.8331\n",
      "Train: 92.009%; test: 91.800%; test ROC AUC: 0.8379\n",
      "Train: 92.002%; test: 91.795%; test ROC AUC: 0.8353\n",
      "CV train accuracy: 91.973%; CV test accuracy: 91.922%; test ROC AUC: 0.8350\n"
     ]
    }
   ],
   "source": [
    "kf = sklearn.model_selection.KFold(n_splits=5)\n",
    "train_accs = []\n",
    "test_accs = []\n",
    "roc_auc_list = []\n",
    "\n",
    "train_label_list = []\n",
    "test_label_list = []\n",
    "train_proba_list = []\n",
    "test_proba_list = []\n",
    "\n",
    "for train_idx, test_idx in kf.split(df):\n",
    "    train = df.loc[train_idx]\n",
    "    test = df.loc[test_idx]\n",
    "    \n",
    "    # store the labels for future calibration\n",
    "    train_label_list.append(train.iloc[:,-1].to_numpy())\n",
    "    test_label_list.append(test.iloc[:,-1].to_numpy())\n",
    "    \n",
    "    # train the model\n",
    "    md = clf.fit(train.iloc[:,:-1], train.iloc[:,-1])\n",
    "    \n",
    "    # predict with the model\n",
    "    y_pred_train = md.predict(train.iloc[:,:-1])\n",
    "    y_pred_train_proba = md.predict_proba(train.iloc[:,:-1])[:,1]\n",
    "    y_pred_test = md.predict(test.iloc[:,:-1])\n",
    "    y_pred_test_proba = md.predict_proba(test.iloc[:,:-1])[:,1]\n",
    "    train_proba_list.append(y_pred_train_proba)\n",
    "    test_proba_list.append(y_pred_test_proba)\n",
    "    \n",
    "    # compute metrics\n",
    "    acc_train = np.sum(y_pred_train == train.is_reverted) / len(y_pred_train)\n",
    "    acc_test = np.sum(y_pred_test == test.is_reverted) / len(y_pred_test)\n",
    "    roc_auc = sklearn.metrics.roc_auc_score(test.is_reverted, y_pred_test_proba)\n",
    "    \n",
    "    # save and print metrics\n",
    "    train_accs.append(acc_train)\n",
    "    test_accs.append(acc_test)\n",
    "    roc_auc_list.append(roc_auc)\n",
    "    print(f\"Train: {acc_train*100:.3f}%; test: {acc_test*100:.3f}%; test ROC AUC: {roc_auc:.4f}\")\n",
    "print(f\"CV train accuracy: {np.mean(train_accs)*100:.3f}%; CV test accuracy: {np.mean(test_accs)*100:.3f}%; test ROC AUC: {np.mean(roc_auc_list):.4f}\")"
   ]
  },
  {
   "cell_type": "code",
   "execution_count": 29,
   "metadata": {},
   "outputs": [
    {
     "name": "stdout",
     "output_type": "stream",
     "text": [
      "LogisticRegression(max_iter=1000, penalty='none')\n",
      "Training completed in 0:02:14.465535.\n",
      "LogisticRegression()\n"
     ]
    },
    {
     "name": "stderr",
     "output_type": "stream",
     "text": [
      "/export/scratch2/levon003/bin/anaconda3/lib/python3.7/site-packages/sklearn/linear_model/_logistic.py:764: ConvergenceWarning: lbfgs failed to converge (status=1):\n",
      "STOP: TOTAL NO. of ITERATIONS REACHED LIMIT.\n",
      "\n",
      "Increase the number of iterations (max_iter) or scale the data as shown in:\n",
      "    https://scikit-learn.org/stable/modules/preprocessing.html\n",
      "Please also refer to the documentation for alternative solver options:\n",
      "    https://scikit-learn.org/stable/modules/linear_model.html#logistic-regression\n",
      "  extra_warning_msg=_LOGISTIC_SOLVER_CONVERGENCE_MSG)\n"
     ]
    },
    {
     "name": "stdout",
     "output_type": "stream",
     "text": [
      "Training completed in 0:00:42.751321.\n",
      "GradientBoostingClassifier(learning_rate=0.01, max_depth=5, max_features='log2',\n",
      "                           n_estimators=700)\n",
      "Training completed in 0:19:39.882873.\n"
     ]
    }
   ],
   "source": [
    "clf1 = sklearn.ensemble.GradientBoostingClassifier(\n",
    "    learning_rate=0.01, \n",
    "    n_estimators=700, \n",
    "    max_features='log2', \n",
    "    max_depth=5\n",
    ")\n",
    "\n",
    "clf2 = sklearn.linear_model.LogisticRegression(\n",
    "    penalty='l2',\n",
    "    C=1.0,\n",
    "    solver='lbfgs'\n",
    ")\n",
    "\n",
    "clf3 = sklearn.linear_model.LogisticRegression(\n",
    "    penalty='none',\n",
    "    solver='lbfgs', # TODO try saga\n",
    "    max_iter=1000\n",
    ")\n",
    "\n",
    "train, test = sklearn.model_selection.train_test_split(df, test_size=0.2)\n",
    "#train = df.loc[train_idx]\n",
    "#test = df.loc[test_idx]\n",
    "X_train = sklearn.preprocessing.scale(train.iloc[:,:-1])\n",
    "X_test = sklearn.preprocessing.scale(test.iloc[:,:-1])\n",
    "\n",
    "clf_results = []\n",
    "for clf in [clf3, clf2, clf1]:\n",
    "    s = datetime.now()\n",
    "    print(clf)\n",
    "\n",
    "    \n",
    "    # train the model\n",
    "    md = clf.fit(X_train, train.iloc[:,-1])\n",
    "    \n",
    "    # predict with the model\n",
    "    y_pred_test = md.predict(X_test)\n",
    "    y_pred_test_proba = md.predict_proba(X_test)[:,1]\n",
    "    y_test = test.is_reverted\n",
    "    clf_results.append([y_pred_test, y_pred_test_proba, y_test])\n",
    "    print(f\"Training completed in {datetime.now() - s}.\")\n"
   ]
  },
  {
   "cell_type": "code",
   "execution_count": 35,
   "metadata": {},
   "outputs": [
    {
     "name": "stdout",
     "output_type": "stream",
     "text": [
      "KR (no reg); accuracy: 90.114%; test ROC AUC: 0.8407; % damaging; 0.015849626966106024\n",
      "              precision    recall  f1-score   support\n",
      "\n",
      "       False       0.91      0.99      0.95    260438\n",
      "        True       0.58      0.09      0.16     29348\n",
      "\n",
      "    accuracy                           0.90    289786\n",
      "   macro avg       0.74      0.54      0.55    289786\n",
      "weighted avg       0.87      0.90      0.87    289786\n",
      "\n",
      "\n",
      "LR (L2 reg); accuracy: 90.127%; test ROC AUC: 0.8406; % damaging; 0.015614971047600644\n",
      "              precision    recall  f1-score   support\n",
      "\n",
      "       False       0.91      0.99      0.95    260438\n",
      "        True       0.58      0.09      0.16     29348\n",
      "\n",
      "    accuracy                           0.90    289786\n",
      "   macro avg       0.74      0.54      0.55    289786\n",
      "weighted avg       0.87      0.90      0.87    289786\n",
      "\n",
      "\n",
      "GB Tree; accuracy: 90.983%; test ROC AUC: 0.8556; % damaging; 0.03081239259315495\n",
      "              precision    recall  f1-score   support\n",
      "\n",
      "       False       0.92      0.99      0.95    260438\n",
      "        True       0.68      0.21      0.32     29348\n",
      "\n",
      "    accuracy                           0.91    289786\n",
      "   macro avg       0.80      0.60      0.63    289786\n",
      "weighted avg       0.89      0.91      0.89    289786\n",
      "\n",
      "\n"
     ]
    },
    {
     "data": {
      "image/png": "[encoded data removed]",
      "text/plain": [
       "<Figure size 720x720 with 2 Axes>"
      ]
     },
     "metadata": {
      "needs_background": "light"
     },
     "output_type": "display_data"
    }
   ],
   "source": [
    "fig = plt.figure(0, figsize=(10, 10))\n",
    "ax1 = plt.subplot2grid((3, 1), (0, 0), rowspan=2)\n",
    "ax2 = plt.subplot2grid((3, 1), (2, 0))\n",
    "\n",
    "ax1.plot([0, 1], [0, 1], \"k:\", label=\"Perfectly calibrated\")\n",
    "\n",
    "for label, tup in zip(['LR (no reg)', 'LR (L2 reg)', 'GB Tree'], clf_results):\n",
    "    y_pred_test, y_pred_test_proba, y_test = tup\n",
    "    frac_of_pos, mean_pred_value = sklearn.calibration.calibration_curve(y_test, y_pred_test_proba, n_bins=20)\n",
    "\n",
    "    ax1.plot(mean_pred_value, frac_of_pos, \"s-\", label=label)\n",
    "    ax1.set_ylabel(\"Fraction of positives\")\n",
    "    ax2.hist(y_pred_test_proba, range=(0, 1), bins=20, histtype=\"step\", lw=2, log=False)\n",
    "    \n",
    "    acc_test = np.sum(y_pred_test == y_test) / len(y_pred_test)\n",
    "    roc_auc = sklearn.metrics.roc_auc_score(y_test, y_pred_test_proba)\n",
    "    print(f\"{label}; accuracy: {acc_test*100:.3f}%; test ROC AUC: {roc_auc:.4f}; % reverted; {np.sum(y_pred_test) / len(y_test)}\")\n",
    "    print(sklearn.metrics.classification_report(y_test, y_pred_test))\n",
    "    print()\n",
    "    \n",
    "ax1.set_ylim([-0.05, 1.05])\n",
    "ax1.legend(loc=\"lower right\")\n",
    "\n",
    "ax2.set_xlabel(\"Mean predicted value\")\n",
    "ax2.set_ylabel(\"Count\")\n",
    "\n",
    "plt.show()"
   ]
  },
  {
   "cell_type": "code",
   "execution_count": 32,
   "metadata": {},
   "outputs": [
    {
     "data": {
      "image/png": "[encoded data removed]",
      "text/plain": [
       "<Figure size 432x288 with 1 Axes>"
      ]
     },
     "metadata": {
      "needs_background": "light"
     },
     "output_type": "display_data"
    }
   ],
   "source": [
    "plt.hist(clf_results[0][1], bins=50, log=True)\n",
    "plt.xlabel(\"Predicted probability\")\n",
    "plt.ylabel(\"Revision count\")\n",
    "plt.show()"
   ]
  },
  {
   "cell_type": "code",
   "execution_count": 59,
   "metadata": {},
   "outputs": [
    {
     "data": {
      "image/png": "[encoded data removed]",
      "text/plain": [
       "<Figure size 720x720 with 2 Axes>"
      ]
     },
     "metadata": {
      "needs_background": "light"
     },
     "output_type": "display_data"
    }
   ],
   "source": [
    "\n",
    "frac_of_pos, mean_pred_value = sklearn.calibration.calibration_curve(test.iloc[:,-1], y_pred_test_proba, \n",
    "                                                                     n_bins=20)\n",
    "\n",
    "fig = plt.figure(0, figsize=(10, 10))\n",
    "ax1 = plt.subplot2grid((3, 1), (0, 0), rowspan=2)\n",
    "ax2 = plt.subplot2grid((3, 1), (2, 0))\n",
    "\n",
    "ax1.plot([0, 1], [0, 1], \"k:\", label=\"Perfectly calibrated\")\n",
    "\n",
    "ax1.plot(mean_pred_value, frac_of_pos, \"s-\", label='GB Tree')\n",
    "ax1.set_ylabel(\"Fraction of positives\")\n",
    "ax1.set_ylim([-0.05, 1.05])\n",
    "ax1.legend(loc=\"lower right\")\n",
    "\n",
    "ax2.hist(y_pred_test_proba, range=(0, 1), bins=20, histtype=\"step\", lw=2, log=False)\n",
    "ax2.set_xlabel(\"Mean predicted value\")\n",
    "ax2.set_ylabel(\"Count\")\n",
    "\n",
    "plt.show()"
   ]
  },
  {
   "cell_type": "code",
   "execution_count": null,
   "metadata": {},
   "outputs": [],
   "source": []
  },
  {
   "cell_type": "code",
   "execution_count": 64,
   "metadata": {},
   "outputs": [
    {
     "name": "stdout",
     "output_type": "stream",
     "text": [
      "              precision    recall  f1-score   support\n",
      "\n",
      "       False       0.92      0.99      0.96    182307\n",
      "        True       0.57      0.08      0.15     16663\n",
      "\n",
      "   micro avg       0.92      0.92      0.92    198970\n",
      "   macro avg       0.75      0.54      0.55    198970\n",
      "weighted avg       0.89      0.92      0.89    198970\n",
      "\n"
     ]
    }
   ],
   "source": [
    "print(sklearn.metrics.classification_report(test.iloc[:,-1], y_pred_test))"
   ]
  },
  {
   "cell_type": "code",
   "execution_count": null,
   "metadata": {},
   "outputs": [],
   "source": []
  },
  {
   "cell_type": "code",
   "execution_count": null,
   "metadata": {},
   "outputs": [],
   "source": [
    "ores_df = pd.read_csv(\"/export/scratch2/levon003/repos/wiki-ores-feedback/data/derived/audit/sample3_ores_scores_calibrated.csv\", header=0, index=None)\n",
    "len(ores_df)"
   ]
  },
  {
   "cell_type": "markdown",
   "metadata": {},
   "source": [
    "### Logistic regression classification"
   ]
  },
  {
   "cell_type": "code",
   "execution_count": 72,
   "metadata": {},
   "outputs": [],
   "source": [
    "clf = sklearn.linear_model.LogisticRegression(\n",
    "    penalty='none',\n",
    "    solver='lbfgs', # TODO try saga\n",
    "    max_iter=1000\n",
    ")"
   ]
  },
  {
   "cell_type": "code",
   "execution_count": 73,
   "metadata": {},
   "outputs": [],
   "source": [
    "df = features_df.sample(frac=1)\n",
    "train, test = sklearn.model_selection.train_test_split(df, test_size=0.2)"
   ]
  },
  {
   "cell_type": "code",
   "execution_count": 74,
   "metadata": {},
   "outputs": [
    {
     "name": "stdout",
     "output_type": "stream",
     "text": [
      "Training completed in 0:09:46.366340.\n"
     ]
    }
   ],
   "source": [
    "s = datetime.now()\n",
    "\n",
    "X_train = sklearn.preprocessing.scale(train.iloc[:,:-1])\n",
    "X_test = sklearn.preprocessing.scale(test.iloc[:,:-1])\n",
    "\n",
    "# train the model\n",
    "md = clf.fit(X_train, train.iloc[:,-1])\n",
    "\n",
    "# predict with the model\n",
    "y_pred_test = md.predict(X_test)\n",
    "y_pred_test_proba = md.predict_proba(X_test)[:,1]\n",
    "y_test = test.is_reverted\n",
    "\n",
    "print(f\"Training completed in {datetime.now() - s}.\")"
   ]
  },
  {
   "cell_type": "code",
   "execution_count": 75,
   "metadata": {},
   "outputs": [
    {
     "data": {
      "image/png": "[encoded data removed]",
      "text/plain": [
       "<Figure size 432x288 with 1 Axes>"
      ]
     },
     "metadata": {
      "needs_background": "light"
     },
     "output_type": "display_data"
    }
   ],
   "source": [
    "plt.hist(y_pred_test_proba, bins=50, log=True)\n",
    "plt.xlabel(\"Predicted probability\")\n",
    "plt.ylabel(\"Revision count\")\n",
    "plt.show()"
   ]
  },
  {
   "cell_type": "code",
   "execution_count": 76,
   "metadata": {},
   "outputs": [
    {
     "data": {
      "text/plain": [
       "0.0181243766624934"
      ]
     },
     "execution_count": 76,
     "metadata": {},
     "output_type": "execute_result"
    }
   ],
   "source": [
    "np.sum(y_pred_test) / len(y_pred_test)"
   ]
  },
  {
   "cell_type": "code",
   "execution_count": 78,
   "metadata": {},
   "outputs": [
    {
     "data": {
      "text/plain": [
       "0.8497455770241475"
      ]
     },
     "execution_count": 78,
     "metadata": {},
     "output_type": "execute_result"
    }
   ],
   "source": [
    "roc_auc = sklearn.metrics.roc_auc_score(y_test, y_pred_test_proba)\n",
    "roc_auc"
   ]
  },
  {
   "cell_type": "code",
   "execution_count": null,
   "metadata": {},
   "outputs": [],
   "source": []
  },
  {
   "cell_type": "code",
   "execution_count": null,
   "metadata": {},
   "outputs": [],
   "source": []
  },
  {
   "cell_type": "code",
   "execution_count": null,
   "metadata": {},
   "outputs": [],
   "source": []
  },
  {
   "cell_type": "code",
   "execution_count": null,
   "metadata": {},
   "outputs": [],
   "source": []
  },
  {
   "cell_type": "code",
   "execution_count": 28,
   "metadata": {},
   "outputs": [],
   "source": [
    "features_df['rev_id'] = cache_rev_id_list"
   ]
  },
  {
   "cell_type": "code",
   "execution_count": 41,
   "metadata": {},
   "outputs": [
    {
     "name": "stdout",
     "output_type": "stream",
     "text": [
      "0:01:42.495778; test acc: 90.263%; test ROC AUC: 0.8366\n",
      "0:03:24.146148; test acc: 89.768%; test ROC AUC: 0.8412\n",
      "0:01:42.880837; test acc: 89.457%; test ROC AUC: 0.8451\n"
     ]
    },
    {
     "name": "stderr",
     "output_type": "stream",
     "text": [
      "/export/scratch2/levon003/bin/anaconda3/lib/python3.7/site-packages/sklearn/linear_model/_logistic.py:764: ConvergenceWarning: lbfgs failed to converge (status=1):\n",
      "STOP: TOTAL NO. of ITERATIONS REACHED LIMIT.\n",
      "\n",
      "Increase the number of iterations (max_iter) or scale the data as shown in:\n",
      "    https://scikit-learn.org/stable/modules/preprocessing.html\n",
      "Please also refer to the documentation for alternative solver options:\n",
      "    https://scikit-learn.org/stable/modules/linear_model.html#logistic-regression\n",
      "  extra_warning_msg=_LOGISTIC_SOLVER_CONVERGENCE_MSG)\n"
     ]
    },
    {
     "name": "stdout",
     "output_type": "stream",
     "text": [
      "0:03:50.910636; test acc: 89.276%; test ROC AUC: 0.8492\n",
      "0:02:21.200266; test acc: 91.125%; test ROC AUC: 0.8610\n",
      "0:13:27.432114\n"
     ]
    }
   ],
   "source": [
    "clf = sklearn.linear_model.LogisticRegression(\n",
    "    penalty='none',\n",
    "    solver='lbfgs',\n",
    "    max_iter=1000\n",
    ")\n",
    "\n",
    "revert_prob_list = []\n",
    "\n",
    "df = features_df.sample(frac=1)\n",
    "kf = sklearn.model_selection.KFold(n_splits=5)\n",
    "all_start = datetime.now()\n",
    "for train_idx, test_idx in kf.split(df):\n",
    "    train = df.loc[train_idx].sample(n=1000000)\n",
    "    test = df.loc[test_idx]\n",
    "    s = datetime.now()\n",
    "    \n",
    "    X_train = sklearn.preprocessing.scale(train.iloc[:,:-2])\n",
    "    X_test = sklearn.preprocessing.scale(test.iloc[:,:-2])\n",
    "    \n",
    "    # train the model\n",
    "    md = clf.fit(X_train, train.iloc[:,-2])\n",
    "    \n",
    "    # predict with the model\n",
    "    y_pred_test = md.predict(X_test)\n",
    "    y_pred_test_proba = md.predict_proba(X_test)[:,1]\n",
    "    \n",
    "    # compute metrics\n",
    "    #acc_train = np.sum(y_pred_train == train.is_reverted) / len(y_pred_train)\n",
    "    acc_test = np.sum(y_pred_test == test.is_reverted) / len(y_pred_test)\n",
    "    roc_auc = sklearn.metrics.roc_auc_score(test.is_reverted, y_pred_test_proba)\n",
    "    revert_prob_list.extend([{'rev_id': rev_id, 'revert_prob': revert_prob} for rev_id, revert_prob in zip(test.rev_id, y_pred_test_proba)])\n",
    "    print(f\"{datetime.now() - s}; test acc: {acc_test*100:.3f}%; test ROC AUC: {roc_auc:.4f}\")\n",
    "print(f\"{datetime.now() - all_start}\")"
   ]
  },
  {
   "cell_type": "code",
   "execution_count": 42,
   "metadata": {},
   "outputs": [
    {
     "data": {
      "text/plain": [
       "4005652"
      ]
     },
     "execution_count": 42,
     "metadata": {},
     "output_type": "execute_result"
    }
   ],
   "source": [
    "revert_score_df = pd.DataFrame(revert_prob_list)\n",
    "len(revert_score_df)"
   ]
  },
  {
   "cell_type": "code",
   "execution_count": 49,
   "metadata": {},
   "outputs": [],
   "source": [
    "revert_score_df = pd.merge(revert_score_df, features_df[['rev_id', 'is_reverted']], on='rev_id', how='left')"
   ]
  },
  {
   "cell_type": "code",
   "execution_count": 50,
   "metadata": {},
   "outputs": [
    {
     "data": {
      "text/html": [
       "<div>\n",
       "<style scoped>\n",
       "    .dataframe tbody tr th:only-of-type {\n",
       "        vertical-align: middle;\n",
       "    }\n",
       "\n",
       "    .dataframe tbody tr th {\n",
       "        vertical-align: top;\n",
       "    }\n",
       "\n",
       "    .dataframe thead th {\n",
       "        text-align: right;\n",
       "    }\n",
       "</style>\n",
       "<table border=\"1\" class=\"dataframe\">\n",
       "  <thead>\n",
       "    <tr style=\"text-align: right;\">\n",
       "      <th></th>\n",
       "      <th>rev_id</th>\n",
       "      <th>revert_prob</th>\n",
       "      <th>is_reverted</th>\n",
       "    </tr>\n",
       "  </thead>\n",
       "  <tbody>\n",
       "    <tr>\n",
       "      <th>0</th>\n",
       "      <td>872415232</td>\n",
       "      <td>0.053284</td>\n",
       "      <td>False</td>\n",
       "    </tr>\n",
       "    <tr>\n",
       "      <th>1</th>\n",
       "      <td>872415234</td>\n",
       "      <td>0.215013</td>\n",
       "      <td>False</td>\n",
       "    </tr>\n",
       "    <tr>\n",
       "      <th>2</th>\n",
       "      <td>872415235</td>\n",
       "      <td>0.008344</td>\n",
       "      <td>False</td>\n",
       "    </tr>\n",
       "    <tr>\n",
       "      <th>3</th>\n",
       "      <td>872415236</td>\n",
       "      <td>0.050808</td>\n",
       "      <td>False</td>\n",
       "    </tr>\n",
       "    <tr>\n",
       "      <th>4</th>\n",
       "      <td>872415237</td>\n",
       "      <td>0.009443</td>\n",
       "      <td>False</td>\n",
       "    </tr>\n",
       "  </tbody>\n",
       "</table>\n",
       "</div>"
      ],
      "text/plain": [
       "      rev_id  revert_prob  is_reverted\n",
       "0  872415232     0.053284        False\n",
       "1  872415234     0.215013        False\n",
       "2  872415235     0.008344        False\n",
       "3  872415236     0.050808        False\n",
       "4  872415237     0.009443        False"
      ]
     },
     "execution_count": 50,
     "metadata": {},
     "output_type": "execute_result"
    }
   ],
   "source": [
    "revert_score_df.head()"
   ]
  },
  {
   "cell_type": "code",
   "execution_count": 51,
   "metadata": {},
   "outputs": [
    {
     "data": {
      "text/plain": [
       "'/export/scratch2/levon003/repos/wiki-ores-feedback/data/derived/audit/sample3_revert_scores.csv'"
      ]
     },
     "execution_count": 51,
     "metadata": {},
     "output_type": "execute_result"
    }
   ],
   "source": [
    "# save the scores\n",
    "audit_dir = os.path.join(derived_data_dir, 'audit')\n",
    "revert_score_filepath = os.path.join(audit_dir, 'sample3_revert_scores.csv')\n",
    "revert_score_df.to_csv(revert_score_filepath, index=False)\n",
    "revert_score_filepath"
   ]
  },
  {
   "cell_type": "code",
   "execution_count": null,
   "metadata": {},
   "outputs": [],
   "source": []
  },
  {
   "cell_type": "code",
   "execution_count": null,
   "metadata": {},
   "outputs": [],
   "source": []
  }
 ],
 "metadata": {
  "kernelspec": {
   "display_name": "Flagon Python3",
   "language": "python",
   "name": "flagon-conda-env"
  },
  "language_info": {
   "codemirror_mode": {
    "name": "ipython",
    "version": 3
   },
   "file_extension": ".py",
   "mimetype": "text/x-python",
   "name": "python",
   "nbconvert_exporter": "python",
   "pygments_lexer": "ipython3",
   "version": "3.7.7"
  }
 },
 "nbformat": 4,
 "nbformat_minor": 4
}
