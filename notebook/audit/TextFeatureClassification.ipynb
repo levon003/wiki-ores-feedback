{
 "cells": [
  {
   "cell_type": "markdown",
   "metadata": {},
   "source": [
    "Text Feature Classification\n",
    "===\n",
    "\n",
    "Text feature classification of reverts. Messing around with large linear models of text features."
   ]
  },
  {
   "cell_type": "code",
   "execution_count": 2,
   "metadata": {},
   "outputs": [],
   "source": [
    "import numpy as np\n",
    "import pandas as pd\n",
    "import matplotlib.pyplot as plt\n",
    "import matplotlib"
   ]
  },
  {
   "cell_type": "code",
   "execution_count": 3,
   "metadata": {},
   "outputs": [],
   "source": [
    "import os\n",
    "from tqdm import tqdm\n",
    "import bz2\n",
    "import sqlite3\n",
    "import difflib\n",
    "import gzip\n",
    "import json\n",
    "import base64\n",
    "import pickle\n",
    "import re\n",
    "import hashlib\n",
    "from datetime import datetime\n",
    "from datetime import timezone\n",
    "import nltk\n",
    "import scipy.stats\n",
    "import para\n",
    "from itertools import groupby\n",
    "from collections import Counter"
   ]
  },
  {
   "cell_type": "code",
   "execution_count": 4,
   "metadata": {},
   "outputs": [],
   "source": [
    "import deltas"
   ]
  },
  {
   "cell_type": "code",
   "execution_count": 5,
   "metadata": {},
   "outputs": [],
   "source": [
    "import sklearn\n",
    "import sklearn.ensemble\n",
    "import sklearn.metrics\n",
    "import sklearn.calibration"
   ]
  },
  {
   "cell_type": "code",
   "execution_count": 6,
   "metadata": {},
   "outputs": [
    {
     "data": {
      "text/plain": [
       "'/export/scratch2/levon003/repos/wiki-ores-feedback'"
      ]
     },
     "execution_count": 6,
     "metadata": {},
     "output_type": "execute_result"
    }
   ],
   "source": [
    "git_root_dir = !git rev-parse --show-toplevel\n",
    "git_root_dir = git_root_dir[0]\n",
    "git_root_dir"
   ]
  },
  {
   "cell_type": "code",
   "execution_count": 7,
   "metadata": {},
   "outputs": [
    {
     "data": {
      "text/plain": [
       "('/export/scratch2/wiki_data',\n",
       " '/export/scratch2/levon003/repos/wiki-ores-feedback/data/derived')"
      ]
     },
     "execution_count": 7,
     "metadata": {},
     "output_type": "execute_result"
    }
   ],
   "source": [
    "raw_data_dir = \"/export/scratch2/wiki_data\"\n",
    "derived_data_dir = os.path.join(git_root_dir, \"data\", \"derived\")\n",
    "raw_data_dir, derived_data_dir"
   ]
  },
  {
   "cell_type": "code",
   "execution_count": 8,
   "metadata": {},
   "outputs": [
    {
     "data": {
      "text/plain": [
       "'/export/scratch2/levon003/repos/wiki-ores-feedback/data/derived/stub-history-all-revisions'"
      ]
     },
     "execution_count": 8,
     "metadata": {},
     "output_type": "execute_result"
    }
   ],
   "source": [
    "stub_history_dir = os.path.join(derived_data_dir, 'stub-history-all-revisions')\n",
    "stub_history_dir"
   ]
  },
  {
   "cell_type": "code",
   "execution_count": 9,
   "metadata": {},
   "outputs": [
    {
     "data": {
      "text/plain": [
       "'/export/scratch2/levon003/repos/wiki-ores-feedback/data/derived/audit'"
      ]
     },
     "execution_count": 9,
     "metadata": {},
     "output_type": "execute_result"
    }
   ],
   "source": [
    "revision_sample_dir = os.path.join(derived_data_dir, 'revision_sample')\n",
    "working_dir = os.path.join(derived_data_dir, 'audit')\n",
    "working_dir"
   ]
  },
  {
   "cell_type": "markdown",
   "metadata": {},
   "source": [
    "### Read sample data"
   ]
  },
  {
   "cell_type": "code",
   "execution_count": 10,
   "metadata": {},
   "outputs": [
    {
     "name": "stdout",
     "output_type": "stream",
     "text": [
      "Sample 3 data loaded in 0:00:28.941707.\n"
     ]
    },
    {
     "data": {
      "text/plain": [
       "33964442"
      ]
     },
     "execution_count": 10,
     "metadata": {},
     "output_type": "execute_result"
    }
   ],
   "source": [
    "# read in the sample dataframe\n",
    "s = datetime.now()\n",
    "revision_sample_dir = os.path.join(derived_data_dir, 'revision_sample')\n",
    "sample3_filepath = os.path.join(revision_sample_dir, 'sample3_all.pkl')\n",
    "rev_df = pd.read_pickle(sample3_filepath)\n",
    "print(f\"Sample 3 data loaded in {datetime.now() - s}.\")\n",
    "len(rev_df)"
   ]
  },
  {
   "cell_type": "code",
   "execution_count": 11,
   "metadata": {},
   "outputs": [
    {
     "data": {
      "text/html": [
       "<div>\n",
       "<style scoped>\n",
       "    .dataframe tbody tr th:only-of-type {\n",
       "        vertical-align: middle;\n",
       "    }\n",
       "\n",
       "    .dataframe tbody tr th {\n",
       "        vertical-align: top;\n",
       "    }\n",
       "\n",
       "    .dataframe thead th {\n",
       "        text-align: right;\n",
       "    }\n",
       "</style>\n",
       "<table border=\"1\" class=\"dataframe\">\n",
       "  <thead>\n",
       "    <tr style=\"text-align: right;\">\n",
       "      <th></th>\n",
       "      <th>page_id</th>\n",
       "      <th>rev_id</th>\n",
       "      <th>rev_timestamp</th>\n",
       "      <th>is_revert_target</th>\n",
       "      <th>is_reverted</th>\n",
       "      <th>is_reverting</th>\n",
       "      <th>is_sample_eligible</th>\n",
       "      <th>prev_rev_id</th>\n",
       "      <th>next_rev_id</th>\n",
       "      <th>prev_rev_timestamp</th>\n",
       "      <th>next_rev_timestamp</th>\n",
       "      <th>reverted_rev_ids</th>\n",
       "      <th>reverting_rev_id</th>\n",
       "      <th>reverting_rev_timestamp</th>\n",
       "    </tr>\n",
       "  </thead>\n",
       "  <tbody>\n",
       "    <tr>\n",
       "      <th>1</th>\n",
       "      <td>12</td>\n",
       "      <td>818613649</td>\n",
       "      <td>1515102279</td>\n",
       "      <td>0</td>\n",
       "      <td>0</td>\n",
       "      <td>0</td>\n",
       "      <td>True</td>\n",
       "      <td>818611292</td>\n",
       "      <td>818624114</td>\n",
       "      <td>1515101356</td>\n",
       "      <td>1515106953</td>\n",
       "      <td>[]</td>\n",
       "      <td>-1</td>\n",
       "      <td>-1</td>\n",
       "    </tr>\n",
       "    <tr>\n",
       "      <th>2</th>\n",
       "      <td>12</td>\n",
       "      <td>818624114</td>\n",
       "      <td>1515106953</td>\n",
       "      <td>1</td>\n",
       "      <td>0</td>\n",
       "      <td>0</td>\n",
       "      <td>True</td>\n",
       "      <td>818613649</td>\n",
       "      <td>820024812</td>\n",
       "      <td>1515102279</td>\n",
       "      <td>1515798752</td>\n",
       "      <td>[]</td>\n",
       "      <td>-1</td>\n",
       "      <td>-1</td>\n",
       "    </tr>\n",
       "    <tr>\n",
       "      <th>3</th>\n",
       "      <td>12</td>\n",
       "      <td>820024812</td>\n",
       "      <td>1515798752</td>\n",
       "      <td>0</td>\n",
       "      <td>1</td>\n",
       "      <td>0</td>\n",
       "      <td>True</td>\n",
       "      <td>818624114</td>\n",
       "      <td>820025687</td>\n",
       "      <td>1515106953</td>\n",
       "      <td>1515799060</td>\n",
       "      <td>[]</td>\n",
       "      <td>820025687</td>\n",
       "      <td>1515799060</td>\n",
       "    </tr>\n",
       "    <tr>\n",
       "      <th>4</th>\n",
       "      <td>12</td>\n",
       "      <td>820025687</td>\n",
       "      <td>1515799060</td>\n",
       "      <td>0</td>\n",
       "      <td>0</td>\n",
       "      <td>1</td>\n",
       "      <td>True</td>\n",
       "      <td>820024812</td>\n",
       "      <td>820703495</td>\n",
       "      <td>1515798752</td>\n",
       "      <td>1516095884</td>\n",
       "      <td>[820024812]</td>\n",
       "      <td>-1</td>\n",
       "      <td>-1</td>\n",
       "    </tr>\n",
       "    <tr>\n",
       "      <th>5</th>\n",
       "      <td>12</td>\n",
       "      <td>820703495</td>\n",
       "      <td>1516095884</td>\n",
       "      <td>0</td>\n",
       "      <td>0</td>\n",
       "      <td>0</td>\n",
       "      <td>True</td>\n",
       "      <td>820025687</td>\n",
       "      <td>821673418</td>\n",
       "      <td>1515799060</td>\n",
       "      <td>1516597634</td>\n",
       "      <td>[]</td>\n",
       "      <td>-1</td>\n",
       "      <td>-1</td>\n",
       "    </tr>\n",
       "  </tbody>\n",
       "</table>\n",
       "</div>"
      ],
      "text/plain": [
       "   page_id     rev_id  rev_timestamp  is_revert_target  is_reverted  \\\n",
       "1       12  818613649     1515102279                 0            0   \n",
       "2       12  818624114     1515106953                 1            0   \n",
       "3       12  820024812     1515798752                 0            1   \n",
       "4       12  820025687     1515799060                 0            0   \n",
       "5       12  820703495     1516095884                 0            0   \n",
       "\n",
       "   is_reverting  is_sample_eligible  prev_rev_id  next_rev_id  \\\n",
       "1             0                True    818611292    818624114   \n",
       "2             0                True    818613649    820024812   \n",
       "3             0                True    818624114    820025687   \n",
       "4             1                True    820024812    820703495   \n",
       "5             0                True    820025687    821673418   \n",
       "\n",
       "   prev_rev_timestamp  next_rev_timestamp reverted_rev_ids  reverting_rev_id  \\\n",
       "1          1515101356          1515106953               []                -1   \n",
       "2          1515102279          1515798752               []                -1   \n",
       "3          1515106953          1515799060               []         820025687   \n",
       "4          1515798752          1516095884      [820024812]                -1   \n",
       "5          1515799060          1516597634               []                -1   \n",
       "\n",
       "   reverting_rev_timestamp  \n",
       "1                       -1  \n",
       "2                       -1  \n",
       "3               1515799060  \n",
       "4                       -1  \n",
       "5                       -1  "
      ]
     },
     "execution_count": 11,
     "metadata": {},
     "output_type": "execute_result"
    }
   ],
   "source": [
    "rev_df.head()"
   ]
  },
  {
   "cell_type": "markdown",
   "metadata": {},
   "source": [
    "### Load texts into memory"
   ]
  },
  {
   "cell_type": "code",
   "execution_count": 12,
   "metadata": {},
   "outputs": [],
   "source": [
    "audit_dir = os.path.join(derived_data_dir, 'audit')\n",
    "text_db_filepath = os.path.join(audit_dir, 'text_2020-07-23T13:08:38Z.sqlite')"
   ]
  },
  {
   "cell_type": "code",
   "execution_count": 13,
   "metadata": {},
   "outputs": [],
   "source": [
    "def get_db(db_filename):\n",
    "    db = sqlite3.connect(\n",
    "            db_filename,\n",
    "            detect_types=sqlite3.PARSE_DECLTYPES\n",
    "        )\n",
    "    db.row_factory = sqlite3.Row\n",
    "    return db"
   ]
  },
  {
   "cell_type": "code",
   "execution_count": 15,
   "metadata": {},
   "outputs": [
    {
     "name": "stderr",
     "output_type": "stream",
     "text": [
      "100%|██████████| 1106018/1106018 [01:50<00:00, 9973.98it/s] \n"
     ]
    },
    {
     "data": {
      "text/plain": [
       "1106018"
      ]
     },
     "execution_count": 15,
     "metadata": {},
     "output_type": "execute_result"
    }
   ],
   "source": [
    "text_dict_list = []\n",
    "try:\n",
    "    db = get_db(text_db_filepath)\n",
    "    cursor = db.execute(\"SELECT rev_id, content, comment FROM revisionText\")\n",
    "    for result in tqdm(cursor, total=1106018):\n",
    "        rev_id = result['rev_id']\n",
    "        comment = result['comment']\n",
    "        content = result['content']\n",
    "        text_dict_list.append({\n",
    "            'rev_id': rev_id,\n",
    "            'content': content,\n",
    "            'comment': comment\n",
    "        })\n",
    "finally:\n",
    "    db.close()\n",
    "len(text_dict_list)"
   ]
  },
  {
   "cell_type": "code",
   "execution_count": 16,
   "metadata": {},
   "outputs": [
    {
     "data": {
      "text/plain": [
       "1106018"
      ]
     },
     "execution_count": 16,
     "metadata": {},
     "output_type": "execute_result"
    }
   ],
   "source": [
    "text_df = pd.DataFrame(text_dict_list)\n",
    "len(text_df)"
   ]
  },
  {
   "cell_type": "code",
   "execution_count": null,
   "metadata": {},
   "outputs": [],
   "source": []
  },
  {
   "cell_type": "code",
   "execution_count": 13,
   "metadata": {},
   "outputs": [],
   "source": [
    "# Set the text feature filepath\n",
    "labeled_revs_dir = os.path.join(derived_data_dir, 'labeled-revs')\n",
    "sample3_dir = os.path.join(labeled_revs_dir, 'sample3-features')\n",
    "sample3_damaging_filepath = os.path.join(sample3_dir, 'sample3.mock.w_cache.text.2020-07-23T13:08:38Z.json')\n",
    "assert os.path.exists(sample3_damaging_filepath)"
   ]
  },
  {
   "cell_type": "code",
   "execution_count": 16,
   "metadata": {},
   "outputs": [
    {
     "name": "stderr",
     "output_type": "stream",
     "text": [
      "100%|██████████| 23157371/23157371 [4:40:49<00:00, 1374.40it/s] \n"
     ]
    },
    {
     "data": {
      "text/plain": [
       "1106018"
      ]
     },
     "execution_count": 16,
     "metadata": {},
     "output_type": "execute_result"
    }
   ],
   "source": [
    "text_dict_list = []\n",
    "with open(sample3_damaging_filepath, 'r') as infile:\n",
    "    for line in tqdm(infile, total=23157371):  # hard-coded length of input data\n",
    "        observation = json.loads(line)\n",
    "        if 'cache' not in observation:\n",
    "            continue\n",
    "        cache = pickle.loads(base64.b85decode(bytes(observation['cache'], 'ascii')))\n",
    "        rev_id = observation['rev_id']\n",
    "        content_key = 'feature.enwiki.revision.text.content'\n",
    "        comment_key = 'feature.enwiki.revision.text.comment'\n",
    "        obs_dict = {\n",
    "            'rev_id': rev_id,\n",
    "            'content': \"\",\n",
    "            'comment': \"\"\n",
    "        }\n",
    "        if content_key in cache:\n",
    "            content = cache[content_key]\n",
    "            obs_dict['content'] = content\n",
    "        if comment_key in cache:\n",
    "            comment = cache[comment_key]\n",
    "            obs_dict['comment'] = comment\n",
    "        text_dict_list.append(obs_dict)\n",
    "len(text_dict_list)"
   ]
  },
  {
   "cell_type": "code",
   "execution_count": null,
   "metadata": {},
   "outputs": [],
   "source": [
    "# TODO will need to write a multiprocessing implementation that takes the texts and puts them in a sqlite database"
   ]
  },
  {
   "cell_type": "code",
   "execution_count": 17,
   "metadata": {},
   "outputs": [],
   "source": []
  },
  {
   "cell_type": "code",
   "execution_count": 18,
   "metadata": {},
   "outputs": [
    {
     "data": {
      "text/plain": [
       "1106018"
      ]
     },
     "execution_count": 18,
     "metadata": {},
     "output_type": "execute_result"
    }
   ],
   "source": [
    "del text_dict_list\n",
    "len(text_df)"
   ]
  },
  {
   "cell_type": "code",
   "execution_count": 19,
   "metadata": {},
   "outputs": [
    {
     "data": {
      "text/html": [
       "<div>\n",
       "<style scoped>\n",
       "    .dataframe tbody tr th:only-of-type {\n",
       "        vertical-align: middle;\n",
       "    }\n",
       "\n",
       "    .dataframe tbody tr th {\n",
       "        vertical-align: top;\n",
       "    }\n",
       "\n",
       "    .dataframe thead th {\n",
       "        text-align: right;\n",
       "    }\n",
       "</style>\n",
       "<table border=\"1\" class=\"dataframe\">\n",
       "  <thead>\n",
       "    <tr style=\"text-align: right;\">\n",
       "      <th></th>\n",
       "      <th>rev_id</th>\n",
       "      <th>content</th>\n",
       "      <th>comment</th>\n",
       "    </tr>\n",
       "  </thead>\n",
       "  <tbody>\n",
       "    <tr>\n",
       "      <th>0</th>\n",
       "      <td>857219031</td>\n",
       "      <td>{{pp-vandalism|small=yes}}\\n{{good article}}\\n...</td>\n",
       "      <td></td>\n",
       "    </tr>\n",
       "    <tr>\n",
       "      <th>1</th>\n",
       "      <td>857219035</td>\n",
       "      <td>{{main article|Toyota RAV4}}\\n{{Infobox electr...</td>\n",
       "      <td></td>\n",
       "    </tr>\n",
       "    <tr>\n",
       "      <th>2</th>\n",
       "      <td>857219034</td>\n",
       "      <td>{{For|the film of the same name|Loose Women (f...</td>\n",
       "      <td></td>\n",
       "    </tr>\n",
       "    <tr>\n",
       "      <th>3</th>\n",
       "      <td>857219036</td>\n",
       "      <td>[[File:Georges Marty.jpg|thumb|Georges Marty]]...</td>\n",
       "      <td>/* External links */</td>\n",
       "    </tr>\n",
       "    <tr>\n",
       "      <th>4</th>\n",
       "      <td>857219037</td>\n",
       "      <td>{{Infobox country at games\\n| NOC          = I...</td>\n",
       "      <td>/* Judo */</td>\n",
       "    </tr>\n",
       "  </tbody>\n",
       "</table>\n",
       "</div>"
      ],
      "text/plain": [
       "      rev_id                                            content  \\\n",
       "0  857219031  {{pp-vandalism|small=yes}}\\n{{good article}}\\n...   \n",
       "1  857219035  {{main article|Toyota RAV4}}\\n{{Infobox electr...   \n",
       "2  857219034  {{For|the film of the same name|Loose Women (f...   \n",
       "3  857219036  [[File:Georges Marty.jpg|thumb|Georges Marty]]...   \n",
       "4  857219037  {{Infobox country at games\\n| NOC          = I...   \n",
       "\n",
       "                comment  \n",
       "0                        \n",
       "1                        \n",
       "2                        \n",
       "3  /* External links */  \n",
       "4            /* Judo */  "
      ]
     },
     "execution_count": 19,
     "metadata": {},
     "output_type": "execute_result"
    }
   ],
   "source": [
    "text_df.head()"
   ]
  },
  {
   "cell_type": "code",
   "execution_count": null,
   "metadata": {},
   "outputs": [],
   "source": [
    "s = datetime.now()\n",
    "text_df_filepath = os.path.join(working_dir, 'text_2020-07-23T13:08:38Z.h5')\n",
    "text_df.to_hdf(text_df_filepath, 'text_df', mode='w', format='fixed')\n",
    "print(f\"{datetime.now() - s}\")"
   ]
  },
  {
   "cell_type": "code",
   "execution_count": null,
   "metadata": {},
   "outputs": [],
   "source": [
    "# read the text data from the pickle file\n",
    "s = datetime.now()\n",
    "text_df_filepath = os.path.join(working_dir, 'text_2020-07-23T13:08:38Z.pickle')\n",
    "text_df = pd.read_pickle(text_df_filepath)\n",
    "print(f\"{datetime.now() - s}\")\n",
    "len(text_df)"
   ]
  },
  {
   "cell_type": "markdown",
   "metadata": {},
   "source": [
    "### Join "
   ]
  },
  {
   "cell_type": "code",
   "execution_count": null,
   "metadata": {},
   "outputs": [],
   "source": []
  },
  {
   "cell_type": "code",
   "execution_count": null,
   "metadata": {},
   "outputs": [],
   "source": []
  },
  {
   "cell_type": "code",
   "execution_count": null,
   "metadata": {},
   "outputs": [],
   "source": []
  }
 ],
 "metadata": {
  "kernelspec": {
   "display_name": "Flagon Python3",
   "language": "python",
   "name": "flagon-conda-env"
  },
  "language_info": {
   "codemirror_mode": {
    "name": "ipython",
    "version": 3
   },
   "file_extension": ".py",
   "mimetype": "text/x-python",
   "name": "python",
   "nbconvert_exporter": "python",
   "pygments_lexer": "ipython3",
   "version": "3.7.7"
  }
 },
 "nbformat": 4,
 "nbformat_minor": 4
}
