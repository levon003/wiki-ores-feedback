{
 "cells": [
  {
   "cell_type": "markdown",
   "metadata": {},
   "source": [
    "Revert Classification - Demo\n",
    "===\n",
    "\n",
    "Building a classifier to predict reverts and produce calibrated propensity scores for being reverted.\n",
    "\n",
    "This notebook is a pared-down demo notebook created for Solvejg."
   ]
  },
  {
   "cell_type": "code",
   "execution_count": 2,
   "metadata": {},
   "outputs": [],
   "source": [
    "import numpy as np\n",
    "import pandas as pd\n",
    "import matplotlib.pyplot as plt\n",
    "import matplotlib"
   ]
  },
  {
   "cell_type": "code",
   "execution_count": 3,
   "metadata": {},
   "outputs": [],
   "source": [
    "import os\n",
    "from tqdm import tqdm\n",
    "import bz2\n",
    "import sqlite3\n",
    "import difflib\n",
    "import gzip\n",
    "import json\n",
    "import re\n",
    "import hashlib\n",
    "from datetime import datetime\n",
    "from datetime import timezone\n",
    "import nltk\n",
    "import scipy.stats\n",
    "import para\n",
    "from itertools import groupby\n",
    "from collections import Counter"
   ]
  },
  {
   "cell_type": "code",
   "execution_count": 4,
   "metadata": {},
   "outputs": [],
   "source": [
    "import sklearn\n",
    "import sklearn.ensemble\n",
    "import sklearn.metrics\n",
    "import sklearn.calibration"
   ]
  },
  {
   "cell_type": "code",
   "execution_count": 5,
   "metadata": {},
   "outputs": [
    {
     "data": {
      "text/plain": [
       "('/export/scratch2/wiki_data',\n",
       " '/export/scratch2/levon003/repos/wiki-ores-feedback/data/derived')"
      ]
     },
     "execution_count": 5,
     "metadata": {},
     "output_type": "execute_result"
    }
   ],
   "source": [
    "raw_data_dir = \"/export/scratch2/wiki_data\"\n",
    "derived_data_dir = os.path.join('/export/scratch2/levon003/repos/wiki-ores-feedback', \"data\", \"derived\")\n",
    "raw_data_dir, derived_data_dir"
   ]
  },
  {
   "cell_type": "code",
   "execution_count": 6,
   "metadata": {},
   "outputs": [
    {
     "data": {
      "text/plain": [
       "'/export/scratch2/levon003/repos/wiki-ores-feedback/data/derived/stub-history-all-revisions'"
      ]
     },
     "execution_count": 6,
     "metadata": {},
     "output_type": "execute_result"
    }
   ],
   "source": [
    "stub_history_dir = os.path.join(derived_data_dir, 'stub-history-all-revisions')\n",
    "stub_history_dir"
   ]
  },
  {
   "cell_type": "code",
   "execution_count": 7,
   "metadata": {},
   "outputs": [
    {
     "data": {
      "text/plain": [
       "'/export/scratch2/levon003/repos/wiki-ores-feedback/data/derived/audit'"
      ]
     },
     "execution_count": 7,
     "metadata": {},
     "output_type": "execute_result"
    }
   ],
   "source": [
    "revision_sample_dir = os.path.join(derived_data_dir, 'revision_sample')\n",
    "working_dir = os.path.join(derived_data_dir, 'audit')\n",
    "working_dir"
   ]
  },
  {
   "cell_type": "markdown",
   "metadata": {},
   "source": [
    "### Data loading and cleaning"
   ]
  },
  {
   "cell_type": "code",
   "execution_count": 8,
   "metadata": {},
   "outputs": [
    {
     "name": "stdout",
     "output_type": "stream",
     "text": [
      "Sample 3 data loaded in 0:00:52.243535.\n"
     ]
    },
    {
     "data": {
      "text/plain": [
       "33964442"
      ]
     },
     "execution_count": 8,
     "metadata": {},
     "output_type": "execute_result"
    }
   ],
   "source": [
    "# read in the sample dataframe\n",
    "s = datetime.now()\n",
    "revision_sample_dir = os.path.join(derived_data_dir, 'revision_sample')\n",
    "sample3_filepath = os.path.join(revision_sample_dir, 'sample3_all.pkl')\n",
    "rev_df = pd.read_pickle(sample3_filepath)\n",
    "print(f\"Sample 3 data loaded in {datetime.now() - s}.\")\n",
    "len(rev_df)"
   ]
  },
  {
   "cell_type": "code",
   "execution_count": 9,
   "metadata": {
    "scrolled": true
   },
   "outputs": [
    {
     "data": {
      "text/html": [
       "<div>\n",
       "<style scoped>\n",
       "    .dataframe tbody tr th:only-of-type {\n",
       "        vertical-align: middle;\n",
       "    }\n",
       "\n",
       "    .dataframe tbody tr th {\n",
       "        vertical-align: top;\n",
       "    }\n",
       "\n",
       "    .dataframe thead th {\n",
       "        text-align: right;\n",
       "    }\n",
       "</style>\n",
       "<table border=\"1\" class=\"dataframe\">\n",
       "  <thead>\n",
       "    <tr style=\"text-align: right;\">\n",
       "      <th></th>\n",
       "      <th>page_id</th>\n",
       "      <th>rev_id</th>\n",
       "      <th>rev_timestamp</th>\n",
       "      <th>is_revert_target</th>\n",
       "      <th>is_reverted</th>\n",
       "      <th>is_reverting</th>\n",
       "      <th>is_sample_eligible</th>\n",
       "      <th>prev_rev_id</th>\n",
       "      <th>next_rev_id</th>\n",
       "      <th>prev_rev_timestamp</th>\n",
       "      <th>next_rev_timestamp</th>\n",
       "      <th>reverted_rev_ids</th>\n",
       "      <th>reverting_rev_id</th>\n",
       "      <th>reverting_rev_timestamp</th>\n",
       "    </tr>\n",
       "  </thead>\n",
       "  <tbody>\n",
       "    <tr>\n",
       "      <th>1</th>\n",
       "      <td>12</td>\n",
       "      <td>818613649</td>\n",
       "      <td>1515102279</td>\n",
       "      <td>0</td>\n",
       "      <td>0</td>\n",
       "      <td>0</td>\n",
       "      <td>True</td>\n",
       "      <td>818611292</td>\n",
       "      <td>818624114</td>\n",
       "      <td>1515101356</td>\n",
       "      <td>1515106953</td>\n",
       "      <td>[]</td>\n",
       "      <td>-1</td>\n",
       "      <td>-1</td>\n",
       "    </tr>\n",
       "    <tr>\n",
       "      <th>2</th>\n",
       "      <td>12</td>\n",
       "      <td>818624114</td>\n",
       "      <td>1515106953</td>\n",
       "      <td>1</td>\n",
       "      <td>0</td>\n",
       "      <td>0</td>\n",
       "      <td>True</td>\n",
       "      <td>818613649</td>\n",
       "      <td>820024812</td>\n",
       "      <td>1515102279</td>\n",
       "      <td>1515798752</td>\n",
       "      <td>[]</td>\n",
       "      <td>-1</td>\n",
       "      <td>-1</td>\n",
       "    </tr>\n",
       "    <tr>\n",
       "      <th>3</th>\n",
       "      <td>12</td>\n",
       "      <td>820024812</td>\n",
       "      <td>1515798752</td>\n",
       "      <td>0</td>\n",
       "      <td>1</td>\n",
       "      <td>0</td>\n",
       "      <td>True</td>\n",
       "      <td>818624114</td>\n",
       "      <td>820025687</td>\n",
       "      <td>1515106953</td>\n",
       "      <td>1515799060</td>\n",
       "      <td>[]</td>\n",
       "      <td>820025687</td>\n",
       "      <td>1515799060</td>\n",
       "    </tr>\n",
       "    <tr>\n",
       "      <th>4</th>\n",
       "      <td>12</td>\n",
       "      <td>820025687</td>\n",
       "      <td>1515799060</td>\n",
       "      <td>0</td>\n",
       "      <td>0</td>\n",
       "      <td>1</td>\n",
       "      <td>True</td>\n",
       "      <td>820024812</td>\n",
       "      <td>820703495</td>\n",
       "      <td>1515798752</td>\n",
       "      <td>1516095884</td>\n",
       "      <td>[820024812]</td>\n",
       "      <td>-1</td>\n",
       "      <td>-1</td>\n",
       "    </tr>\n",
       "    <tr>\n",
       "      <th>5</th>\n",
       "      <td>12</td>\n",
       "      <td>820703495</td>\n",
       "      <td>1516095884</td>\n",
       "      <td>0</td>\n",
       "      <td>0</td>\n",
       "      <td>0</td>\n",
       "      <td>True</td>\n",
       "      <td>820025687</td>\n",
       "      <td>821673418</td>\n",
       "      <td>1515799060</td>\n",
       "      <td>1516597634</td>\n",
       "      <td>[]</td>\n",
       "      <td>-1</td>\n",
       "      <td>-1</td>\n",
       "    </tr>\n",
       "  </tbody>\n",
       "</table>\n",
       "</div>"
      ],
      "text/plain": [
       "   page_id     rev_id  rev_timestamp  is_revert_target  is_reverted  \\\n",
       "1       12  818613649     1515102279                 0            0   \n",
       "2       12  818624114     1515106953                 1            0   \n",
       "3       12  820024812     1515798752                 0            1   \n",
       "4       12  820025687     1515799060                 0            0   \n",
       "5       12  820703495     1516095884                 0            0   \n",
       "\n",
       "   is_reverting  is_sample_eligible  prev_rev_id  next_rev_id  \\\n",
       "1             0                True    818611292    818624114   \n",
       "2             0                True    818613649    820024812   \n",
       "3             0                True    818624114    820025687   \n",
       "4             1                True    820024812    820703495   \n",
       "5             0                True    820025687    821673418   \n",
       "\n",
       "   prev_rev_timestamp  next_rev_timestamp reverted_rev_ids  reverting_rev_id  \\\n",
       "1          1515101356          1515106953               []                -1   \n",
       "2          1515102279          1515798752               []                -1   \n",
       "3          1515106953          1515799060               []         820025687   \n",
       "4          1515798752          1516095884      [820024812]                -1   \n",
       "5          1515799060          1516597634               []                -1   \n",
       "\n",
       "   reverting_rev_timestamp  \n",
       "1                       -1  \n",
       "2                       -1  \n",
       "3               1515799060  \n",
       "4                       -1  \n",
       "5                       -1  "
      ]
     },
     "execution_count": 9,
     "metadata": {},
     "output_type": "execute_result"
    }
   ],
   "source": [
    "rev_df.head()"
   ]
  },
  {
   "cell_type": "code",
   "execution_count": 10,
   "metadata": {},
   "outputs": [
    {
     "name": "stdout",
     "output_type": "stream",
     "text": [
      "Features data loaded in 0:02:10.167396.\n"
     ]
    },
    {
     "data": {
      "text/plain": [
       "4005652"
      ]
     },
     "execution_count": 10,
     "metadata": {},
     "output_type": "execute_result"
    }
   ],
   "source": [
    "# Load the features\n",
    "s = datetime.now()\n",
    "labeled_revs_dir = os.path.join(derived_data_dir, 'labeled-revs')\n",
    "sample3_features_dir = os.path.join(labeled_revs_dir, 'sample3-features')\n",
    "sample3_damaging_filepath = os.path.join(sample3_features_dir, 'sample3.damaging.2020-07-11T15:11:15Z.tsv')\n",
    "features_df = pd.read_csv(sample3_damaging_filepath, sep='\\t', header=0)\n",
    "print(f\"Features data loaded in {datetime.now() - s}.\")\n",
    "len(features_df)"
   ]
  },
  {
   "cell_type": "code",
   "execution_count": 11,
   "metadata": {},
   "outputs": [],
   "source": [
    "# drop the useless 'damaging' column (it is auto-generated)\n",
    "features_df = features_df.drop(columns='damaging')"
   ]
  },
  {
   "cell_type": "code",
   "execution_count": 12,
   "metadata": {},
   "outputs": [
    {
     "name": "stderr",
     "output_type": "stream",
     "text": [
      "100%|██████████| 4005652/4005652 [03:34<00:00, 18674.65it/s]\n"
     ]
    }
   ],
   "source": [
    "# load in the rev_ids that correspond to the feature data\n",
    "# this is really slow, because it requires JSON decoding\n",
    "# this could be made faster by caching the result\n",
    "cache_filepath = os.path.join(labeled_revs_dir, 'sample3-features', 'sample3.mock.w_cache.2020-07-11T15:11:15Z.json')\n",
    "cache_rev_id_list = []\n",
    "with open(cache_filepath, 'r') as infile:\n",
    "    for line in tqdm(infile, total=len(features_df)):\n",
    "        rev = json.loads(line)\n",
    "        rev_id = rev['rev_id']\n",
    "        cache_rev_id_list.append(rev_id)"
   ]
  },
  {
   "cell_type": "code",
   "execution_count": 13,
   "metadata": {},
   "outputs": [],
   "source": [
    "assert len(cache_rev_id_list) == len(features_df)"
   ]
  },
  {
   "cell_type": "code",
   "execution_count": 14,
   "metadata": {},
   "outputs": [
    {
     "data": {
      "text/plain": [
       "4005602"
      ]
     },
     "execution_count": 14,
     "metadata": {},
     "output_type": "execute_result"
    }
   ],
   "source": [
    "cache_rev_id_set = set(cache_rev_id_list)\n",
    "len(cache_rev_id_set)"
   ]
  },
  {
   "cell_type": "code",
   "execution_count": 15,
   "metadata": {},
   "outputs": [
    {
     "data": {
      "text/plain": [
       "826425205"
      ]
     },
     "execution_count": 15,
     "metadata": {},
     "output_type": "execute_result"
    }
   ],
   "source": [
    "# use use the last revision in this same to figure out when the analysis end time should be\n",
    "last_rev = cache_rev_id_list[-1]\n",
    "last_rev"
   ]
  },
  {
   "cell_type": "code",
   "execution_count": 16,
   "metadata": {},
   "outputs": [],
   "source": [
    "# every rev_id in the cache should ALSO be in the rev_df\n",
    "assert len(cache_rev_id_set & set(rev_df.rev_id)) == len(cache_rev_id_set), len(cache_rev_id_set & set(rev_df.rev_id))"
   ]
  },
  {
   "cell_type": "code",
   "execution_count": 17,
   "metadata": {},
   "outputs": [
    {
     "name": "stdout",
     "output_type": "stream",
     "text": [
      "Starting analysis from 2018-01-01 00:00:00\n"
     ]
    }
   ],
   "source": [
    "# set the analysis start time to be the beginning of 2018\n",
    "analysis_start_date = datetime.fromisoformat('2018-01-01')\n",
    "analysis_start_date = analysis_start_date.replace(tzinfo=timezone.utc)\n",
    "analysis_start_timestamp = int(analysis_start_date.timestamp())\n",
    "print(f\"Starting analysis from {datetime.utcfromtimestamp(analysis_start_timestamp)}\")"
   ]
  },
  {
   "cell_type": "code",
   "execution_count": 18,
   "metadata": {},
   "outputs": [
    {
     "name": "stdout",
     "output_type": "stream",
     "text": [
      "Using revisions up to 2018-02-19 07:18:15\n"
     ]
    }
   ],
   "source": [
    "# note that this is less than 2 months of data right now!\n",
    "# we have 20-25 million downloaded, but this 4 million set should be enough to get going\n",
    "analysis_end_timestamp = rev_df[rev_df.rev_id == last_rev].rev_timestamp.iloc[0]\n",
    "print(f\"Using revisions up to {datetime.utcfromtimestamp(analysis_end_timestamp)}\")"
   ]
  },
  {
   "cell_type": "code",
   "execution_count": 19,
   "metadata": {},
   "outputs": [
    {
     "data": {
      "text/plain": [
       "4025634"
      ]
     },
     "execution_count": 19,
     "metadata": {},
     "output_type": "execute_result"
    }
   ],
   "source": [
    "# mostly to save memory, we trim out unneeded data in the rev_df\n",
    "rev_df = rev_df[(rev_df.rev_timestamp <= analysis_end_timestamp)&(rev_df.rev_timestamp >= analysis_start_timestamp)]\n",
    "len(rev_df)"
   ]
  },
  {
   "cell_type": "code",
   "execution_count": 20,
   "metadata": {},
   "outputs": [
    {
     "name": "stdout",
     "output_type": "stream",
     "text": [
      "Loaded revert data in 0:01:08.067346.\n"
     ]
    },
    {
     "data": {
      "text/plain": [
       "5992682"
      ]
     },
     "execution_count": 20,
     "metadata": {},
     "output_type": "execute_result"
    }
   ],
   "source": [
    "# Read the revert info\n",
    "# This dataframe contains additional data beyond what is in the rev_df\n",
    "s = datetime.now()\n",
    "stub_history_reverts_dir = os.path.join(derived_data_dir, 'stub-history-reverts')\n",
    "revert_df_filepath = os.path.join(stub_history_reverts_dir, 'revert_df.pkl')\n",
    "revert_df = pd.read_pickle(revert_df_filepath)\n",
    "print(f\"Loaded revert data in {datetime.now() - s}.\")\n",
    "len(revert_df)"
   ]
  },
  {
   "cell_type": "markdown",
   "metadata": {},
   "source": [
    "The most important info in the `revert_df` that isn't in the `rev_df` is the username info, which enables the identification of self-reverts.\n",
    "\n",
    "`revert_df` has one line per **revert** revision, compared to the `rev_df` which has one line per revision."
   ]
  },
  {
   "cell_type": "code",
   "execution_count": 21,
   "metadata": {},
   "outputs": [
    {
     "data": {
      "text/html": [
       "<div>\n",
       "<style scoped>\n",
       "    .dataframe tbody tr th:only-of-type {\n",
       "        vertical-align: middle;\n",
       "    }\n",
       "\n",
       "    .dataframe tbody tr th {\n",
       "        vertical-align: top;\n",
       "    }\n",
       "\n",
       "    .dataframe thead th {\n",
       "        text-align: right;\n",
       "    }\n",
       "</style>\n",
       "<table border=\"1\" class=\"dataframe\">\n",
       "  <thead>\n",
       "    <tr style=\"text-align: right;\">\n",
       "      <th></th>\n",
       "      <th>page_id</th>\n",
       "      <th>reverted_count</th>\n",
       "      <th>reverting_rev_id</th>\n",
       "      <th>reverting_timestamp</th>\n",
       "      <th>reverting_user_text</th>\n",
       "      <th>reverting_user_id</th>\n",
       "      <th>reverted_to_rev_id</th>\n",
       "      <th>reverted_to_timestamp</th>\n",
       "      <th>reverted_to_user_text</th>\n",
       "      <th>reverted_to_user_id</th>\n",
       "      <th>reverted_rev_ids</th>\n",
       "      <th>reverted_timestamps</th>\n",
       "      <th>reverted_user_texts</th>\n",
       "      <th>reverted_user_ids</th>\n",
       "      <th>reverting_user_is_anonymous</th>\n",
       "      <th>reverted_to_user_is_anonymous</th>\n",
       "      <th>reverted_users_is_anonymous</th>\n",
       "    </tr>\n",
       "  </thead>\n",
       "  <tbody>\n",
       "    <tr>\n",
       "      <th>0</th>\n",
       "      <td>18754764</td>\n",
       "      <td>1</td>\n",
       "      <td>902766646</td>\n",
       "      <td>1561105801</td>\n",
       "      <td>Malcolmxl5</td>\n",
       "      <td>4076676.0</td>\n",
       "      <td>874884880</td>\n",
       "      <td>1545481829</td>\n",
       "      <td>Hmains</td>\n",
       "      <td>508734.0</td>\n",
       "      <td>[900328973]</td>\n",
       "      <td>[1559706521]</td>\n",
       "      <td>[2601:199:417F:8EED:A0B0:A6B5:3457:A9B4]</td>\n",
       "      <td>[None]</td>\n",
       "      <td>False</td>\n",
       "      <td>False</td>\n",
       "      <td>[True]</td>\n",
       "    </tr>\n",
       "    <tr>\n",
       "      <th>1</th>\n",
       "      <td>18754831</td>\n",
       "      <td>2</td>\n",
       "      <td>818980415</td>\n",
       "      <td>1515284429</td>\n",
       "      <td>BrownHairedGirl</td>\n",
       "      <td>754619.0</td>\n",
       "      <td>743241620</td>\n",
       "      <td>1475970276</td>\n",
       "      <td>Emir of Wikipedia</td>\n",
       "      <td>28856560.0</td>\n",
       "      <td>[757539852, 775847398]</td>\n",
       "      <td>[1483188655, 1492452285]</td>\n",
       "      <td>[Ser Amantio di Nicolao, Emir of Wikipedia]</td>\n",
       "      <td>[753665, 28856560]</td>\n",
       "      <td>False</td>\n",
       "      <td>False</td>\n",
       "      <td>[False, False]</td>\n",
       "    </tr>\n",
       "    <tr>\n",
       "      <th>2</th>\n",
       "      <td>18754831</td>\n",
       "      <td>1</td>\n",
       "      <td>932235094</td>\n",
       "      <td>1577204938</td>\n",
       "      <td>UA3</td>\n",
       "      <td>25923702.0</td>\n",
       "      <td>918313790</td>\n",
       "      <td>1569654385</td>\n",
       "      <td>Monkbot</td>\n",
       "      <td>20483999.0</td>\n",
       "      <td>[932233860]</td>\n",
       "      <td>[1577204033]</td>\n",
       "      <td>[Qowa]</td>\n",
       "      <td>[37692801]</td>\n",
       "      <td>False</td>\n",
       "      <td>False</td>\n",
       "      <td>[False]</td>\n",
       "    </tr>\n",
       "    <tr>\n",
       "      <th>3</th>\n",
       "      <td>18754864</td>\n",
       "      <td>1</td>\n",
       "      <td>853153047</td>\n",
       "      <td>1533256539</td>\n",
       "      <td>Beetstra</td>\n",
       "      <td>855858.0</td>\n",
       "      <td>831996274</td>\n",
       "      <td>1521801439</td>\n",
       "      <td>KolbertBot</td>\n",
       "      <td>31691822.0</td>\n",
       "      <td>[846149041]</td>\n",
       "      <td>[1529188413]</td>\n",
       "      <td>[Lepidoptera~plwiki]</td>\n",
       "      <td>[24892933]</td>\n",
       "      <td>False</td>\n",
       "      <td>False</td>\n",
       "      <td>[False]</td>\n",
       "    </tr>\n",
       "    <tr>\n",
       "      <th>4</th>\n",
       "      <td>18754916</td>\n",
       "      <td>1</td>\n",
       "      <td>882182106</td>\n",
       "      <td>1549557841</td>\n",
       "      <td>Number 57</td>\n",
       "      <td>327289.0</td>\n",
       "      <td>847748130</td>\n",
       "      <td>1530126769</td>\n",
       "      <td>CitationCleanerBot</td>\n",
       "      <td>15270283.0</td>\n",
       "      <td>[882125775]</td>\n",
       "      <td>[1549520001]</td>\n",
       "      <td>[Huldra]</td>\n",
       "      <td>[410653]</td>\n",
       "      <td>False</td>\n",
       "      <td>False</td>\n",
       "      <td>[False]</td>\n",
       "    </tr>\n",
       "  </tbody>\n",
       "</table>\n",
       "</div>"
      ],
      "text/plain": [
       "    page_id  reverted_count  reverting_rev_id  reverting_timestamp  \\\n",
       "0  18754764               1         902766646           1561105801   \n",
       "1  18754831               2         818980415           1515284429   \n",
       "2  18754831               1         932235094           1577204938   \n",
       "3  18754864               1         853153047           1533256539   \n",
       "4  18754916               1         882182106           1549557841   \n",
       "\n",
       "  reverting_user_text  reverting_user_id  reverted_to_rev_id  \\\n",
       "0          Malcolmxl5          4076676.0           874884880   \n",
       "1     BrownHairedGirl           754619.0           743241620   \n",
       "2                 UA3         25923702.0           918313790   \n",
       "3            Beetstra           855858.0           831996274   \n",
       "4           Number 57           327289.0           847748130   \n",
       "\n",
       "   reverted_to_timestamp reverted_to_user_text  reverted_to_user_id  \\\n",
       "0             1545481829                Hmains             508734.0   \n",
       "1             1475970276     Emir of Wikipedia           28856560.0   \n",
       "2             1569654385               Monkbot           20483999.0   \n",
       "3             1521801439            KolbertBot           31691822.0   \n",
       "4             1530126769    CitationCleanerBot           15270283.0   \n",
       "\n",
       "         reverted_rev_ids       reverted_timestamps  \\\n",
       "0             [900328973]              [1559706521]   \n",
       "1  [757539852, 775847398]  [1483188655, 1492452285]   \n",
       "2             [932233860]              [1577204033]   \n",
       "3             [846149041]              [1529188413]   \n",
       "4             [882125775]              [1549520001]   \n",
       "\n",
       "                           reverted_user_texts   reverted_user_ids  \\\n",
       "0     [2601:199:417F:8EED:A0B0:A6B5:3457:A9B4]              [None]   \n",
       "1  [Ser Amantio di Nicolao, Emir of Wikipedia]  [753665, 28856560]   \n",
       "2                                       [Qowa]          [37692801]   \n",
       "3                         [Lepidoptera~plwiki]          [24892933]   \n",
       "4                                     [Huldra]            [410653]   \n",
       "\n",
       "   reverting_user_is_anonymous  reverted_to_user_is_anonymous  \\\n",
       "0                        False                          False   \n",
       "1                        False                          False   \n",
       "2                        False                          False   \n",
       "3                        False                          False   \n",
       "4                        False                          False   \n",
       "\n",
       "  reverted_users_is_anonymous  \n",
       "0                      [True]  \n",
       "1              [False, False]  \n",
       "2                     [False]  \n",
       "3                     [False]  \n",
       "4                     [False]  "
      ]
     },
     "execution_count": 21,
     "metadata": {},
     "output_type": "execute_result"
    }
   ],
   "source": [
    "revert_df.head()"
   ]
  },
  {
   "cell_type": "code",
   "execution_count": 22,
   "metadata": {},
   "outputs": [
    {
     "name": "stderr",
     "output_type": "stream",
     "text": [
      "100%|██████████| 5992682/5992682 [00:20<00:00, 292460.22it/s]\n"
     ]
    }
   ],
   "source": [
    "# identify self-reverts\n",
    "is_self_revert_list = []\n",
    "for row in tqdm(revert_df.itertuples(), total=len(revert_df)):\n",
    "    is_self_revert = row.reverting_user_text in row.reverted_user_texts\n",
    "    is_self_revert_list.append(is_self_revert)\n",
    "revert_df['is_self_revert'] = is_self_revert_list"
   ]
  },
  {
   "cell_type": "code",
   "execution_count": 23,
   "metadata": {},
   "outputs": [
    {
     "data": {
      "text/plain": [
       "(427375, 0.07131614859590414)"
      ]
     },
     "execution_count": 23,
     "metadata": {},
     "output_type": "execute_result"
    }
   ],
   "source": [
    "# only keep reverts that appear in the (filtered) rev_df\n",
    "analysis_rev_ids = set(rev_df.rev_id)\n",
    "revert_subset = revert_df[revert_df.reverting_rev_id.isin(analysis_rev_ids)].copy()\n",
    "len(revert_subset), len(revert_subset) / len(revert_df)"
   ]
  },
  {
   "cell_type": "code",
   "execution_count": 24,
   "metadata": {},
   "outputs": [
    {
     "name": "stderr",
     "output_type": "stream",
     "text": [
      "100%|██████████| 377374/377374 [00:02<00:00, 178143.07it/s]\n"
     ]
    },
    {
     "data": {
      "text/plain": [
       "501159"
      ]
     },
     "execution_count": 24,
     "metadata": {},
     "output_type": "execute_result"
    }
   ],
   "source": [
    "# now compute the outcome, which is a variant of `rev_df.is_reverted`\n",
    "reverted_rev_ids = set()\n",
    "# only count it as a reverted revision if it was not a self-revert\n",
    "# and it was reverted within one week\n",
    "threshold = 60 * 60 * 24 * 7 \n",
    "rs = revert_subset[~revert_subset.is_self_revert]\n",
    "for row in tqdm(rs.itertuples(), total=len(rs)):\n",
    "    reverting_timestamp = row.reverting_timestamp\n",
    "    for rev_id, timestamp in zip(row.reverted_rev_ids, row.reverted_timestamps):\n",
    "        if reverting_timestamp - timestamp <= threshold:\n",
    "            reverted_rev_ids.add(rev_id)\n",
    "len(reverted_rev_ids)"
   ]
  },
  {
   "cell_type": "code",
   "execution_count": 25,
   "metadata": {},
   "outputs": [],
   "source": [
    "# just for fun, we'll compare how the revised revert outcome we computed in the cell above compares to \n",
    "# the broader definition of reverting\n",
    "rev_df['is_reverted_for_damage'] = rev_df.rev_id.map(lambda rev_id: rev_id in reverted_rev_ids)"
   ]
  },
  {
   "cell_type": "code",
   "execution_count": 26,
   "metadata": {},
   "outputs": [
    {
     "data": {
      "text/html": [
       "<div>\n",
       "<style scoped>\n",
       "    .dataframe tbody tr th:only-of-type {\n",
       "        vertical-align: middle;\n",
       "    }\n",
       "\n",
       "    .dataframe tbody tr th {\n",
       "        vertical-align: top;\n",
       "    }\n",
       "\n",
       "    .dataframe thead th {\n",
       "        text-align: right;\n",
       "    }\n",
       "</style>\n",
       "<table border=\"1\" class=\"dataframe\">\n",
       "  <thead>\n",
       "    <tr style=\"text-align: right;\">\n",
       "      <th>is_reverted_for_damage</th>\n",
       "      <th>False</th>\n",
       "      <th>True</th>\n",
       "      <th>All</th>\n",
       "    </tr>\n",
       "    <tr>\n",
       "      <th>is_reverted</th>\n",
       "      <th></th>\n",
       "      <th></th>\n",
       "      <th></th>\n",
       "    </tr>\n",
       "  </thead>\n",
       "  <tbody>\n",
       "    <tr>\n",
       "      <th>0</th>\n",
       "      <td>3526287</td>\n",
       "      <td>0</td>\n",
       "      <td>3526287</td>\n",
       "    </tr>\n",
       "    <tr>\n",
       "      <th>1</th>\n",
       "      <td>84251</td>\n",
       "      <td>415096</td>\n",
       "      <td>499347</td>\n",
       "    </tr>\n",
       "    <tr>\n",
       "      <th>All</th>\n",
       "      <td>3610538</td>\n",
       "      <td>415096</td>\n",
       "      <td>4025634</td>\n",
       "    </tr>\n",
       "  </tbody>\n",
       "</table>\n",
       "</div>"
      ],
      "text/plain": [
       "is_reverted_for_damage    False    True      All\n",
       "is_reverted                                     \n",
       "0                       3526287       0  3526287\n",
       "1                         84251  415096   499347\n",
       "All                     3610538  415096  4025634"
      ]
     },
     "execution_count": 26,
     "metadata": {},
     "output_type": "execute_result"
    }
   ],
   "source": [
    "# our revised revert measure trims off 84251 of 499347 (16.9%) of the total reverts\n",
    "# as expected, all revisions with is_reverted == 0 also have is_reverted_for_damage == 1\n",
    "pd.crosstab(rev_df.is_reverted, rev_df.is_reverted_for_damage, margins=True)"
   ]
  },
  {
   "cell_type": "code",
   "execution_count": 27,
   "metadata": {},
   "outputs": [
    {
     "data": {
      "text/plain": [
       "0.16872235139091654"
      ]
     },
     "execution_count": 27,
     "metadata": {},
     "output_type": "execute_result"
    }
   ],
   "source": [
    "84251 / 499347"
   ]
  },
  {
   "cell_type": "markdown",
   "metadata": {},
   "source": [
    "#### Create the actual outcome variable and add it to the features dataframe\n",
    "\n",
    "`features_df` contains only the features, not the revision ids. We create a binary outcome column based on the order of the revisions as they were read from the cache (and stored in `cache_rev_id_list`)."
   ]
  },
  {
   "cell_type": "code",
   "execution_count": 28,
   "metadata": {},
   "outputs": [
    {
     "data": {
      "text/plain": [
       "(411650, 0.10276728981948506)"
      ]
     },
     "execution_count": 28,
     "metadata": {},
     "output_type": "execute_result"
    }
   ],
   "source": [
    "is_reverted = [rev_id in reverted_rev_ids for rev_id in cache_rev_id_list]\n",
    "features_df['is_reverted'] = is_reverted\n",
    "np.sum(features_df.is_reverted), np.sum(features_df.is_reverted) / len(features_df)"
   ]
  },
  {
   "cell_type": "markdown",
   "metadata": {},
   "source": [
    "### Fit classification models"
   ]
  },
  {
   "cell_type": "code",
   "execution_count": 29,
   "metadata": {},
   "outputs": [
    {
     "name": "stdout",
     "output_type": "stream",
     "text": [
      "LogisticRegression(max_iter=1000, penalty='none')\n",
      "Training completed in 0:00:02.002144.\n",
      "LogisticRegression()\n"
     ]
    },
    {
     "name": "stderr",
     "output_type": "stream",
     "text": [
      "/export/scratch2/levon003/bin/anaconda3/lib/python3.7/site-packages/sklearn/linear_model/_logistic.py:764: ConvergenceWarning: lbfgs failed to converge (status=1):\n",
      "STOP: TOTAL NO. of ITERATIONS REACHED LIMIT.\n",
      "\n",
      "Increase the number of iterations (max_iter) or scale the data as shown in:\n",
      "    https://scikit-learn.org/stable/modules/preprocessing.html\n",
      "Please also refer to the documentation for alternative solver options:\n",
      "    https://scikit-learn.org/stable/modules/linear_model.html#logistic-regression\n",
      "  extra_warning_msg=_LOGISTIC_SOLVER_CONVERGENCE_MSG)\n"
     ]
    },
    {
     "name": "stdout",
     "output_type": "stream",
     "text": [
      "Training completed in 0:00:00.771137.\n",
      "GradientBoostingClassifier(learning_rate=0.01, max_depth=5, max_features='log2',\n",
      "                           n_estimators=700)\n",
      "Training completed in 0:00:54.616343.\n"
     ]
    }
   ],
   "source": [
    "clf1 = sklearn.ensemble.GradientBoostingClassifier(\n",
    "    learning_rate=0.01, \n",
    "    n_estimators=700, \n",
    "    max_features='log2', \n",
    "    max_depth=5\n",
    ")\n",
    "\n",
    "clf2 = sklearn.linear_model.LogisticRegression(\n",
    "    penalty='l2',\n",
    "    C=1.0,\n",
    "    solver='lbfgs'\n",
    ")\n",
    "\n",
    "clf3 = sklearn.linear_model.LogisticRegression(\n",
    "    penalty='none',\n",
    "    solver='lbfgs',\n",
    "    max_iter=1000\n",
    ")\n",
    "\n",
    "# shuffle the data and give it a shorter name\n",
    "df = features_df.sample(frac=1)\n",
    "\n",
    "# for this demonstration, not using cross validation\n",
    "# just using a random train/test split\n",
    "train, test = sklearn.model_selection.train_test_split(df, test_size=0.2)\n",
    "\n",
    "# for the demo, using just a subset of the data\n",
    "# even with only 4 million revisions, training the GB model takes a full 20 minutes! (and we're not even cross-validating...)\n",
    "# note that number of samples probably also affects number of required iterations for gradient-descent based models (like logistic regression)\n",
    "train = train.sample(n=10000)\n",
    "\n",
    "# in my experience so far, scaling is very important for the Gradient-Boosting model...\n",
    "X_train = sklearn.preprocessing.scale(train.iloc[:,:-1])\n",
    "X_test = sklearn.preprocessing.scale(test.iloc[:,:-1])\n",
    "\n",
    "clf_results = []\n",
    "for clf in [clf3, clf2, clf1]:\n",
    "    s = datetime.now()\n",
    "    print(clf)\n",
    "\n",
    "    \n",
    "    # train the model\n",
    "    md = clf.fit(X_train, train.iloc[:,-1])\n",
    "    \n",
    "    # predict with the model\n",
    "    y_pred_test = md.predict(X_test)\n",
    "    y_pred_test_proba = md.predict_proba(X_test)[:,1]\n",
    "    y_test = test.is_reverted\n",
    "    # save the results so we can do things with them\n",
    "    clf_results.append([y_pred_test, y_pred_test_proba, y_test])\n",
    "    print(f\"Training completed in {datetime.now() - s}.\")\n"
   ]
  },
  {
   "cell_type": "code",
   "execution_count": 194,
   "metadata": {},
   "outputs": [
    {
     "data": {
      "text/plain": [
       "3120180    False\n",
       "425606      True\n",
       "2188783     True\n",
       "749084      True\n",
       "3418499    False\n",
       "           ...  \n",
       "1669383    False\n",
       "3634197    False\n",
       "1396314    False\n",
       "1285690    False\n",
       "3671191    False\n",
       "Name: is_reverted, Length: 10000, dtype: bool"
      ]
     },
     "execution_count": 194,
     "metadata": {},
     "output_type": "execute_result"
    }
   ],
   "source": [
    "train.iloc[:,-1]"
   ]
  },
  {
   "cell_type": "code",
   "execution_count": 220,
   "metadata": {},
   "outputs": [
    {
     "name": "stdout",
     "output_type": "stream",
     "text": [
      "                           Logit Regression Results                           \n",
      "==============================================================================\n",
      "Dep. Variable:            is_reverted   No. Observations:                10000\n",
      "Model:                          Logit   Df Residuals:                     9937\n",
      "Method:                           MLE   Df Model:                           62\n",
      "Date:                Fri, 31 Jul 2020   Pseudo R-squ.:                 -0.8213\n",
      "Time:                        11:52:40   Log-Likelihood:                -6035.9\n",
      "converged:                       True   LL-Null:                       -3314.1\n",
      "Covariance Type:            nonrobust   LLR p-value:                     1.000\n",
      "==============================================================================\n",
      "                 coef    std err          z      P>|z|      [0.025      0.975]\n",
      "------------------------------------------------------------------------------\n",
      "x1             0.0036        nan        nan        nan         nan         nan\n",
      "x2             0.0049        nan        nan        nan         nan         nan\n",
      "x3            -0.0035        nan        nan        nan         nan         nan\n",
      "x4            -0.1116        nan        nan        nan         nan         nan\n",
      "x5             0.8868        nan        nan        nan         nan         nan\n",
      "x6            -0.8316        nan        nan        nan         nan         nan\n",
      "x7            -0.0260        nan        nan        nan         nan         nan\n",
      "x8            -0.0310        nan        nan        nan         nan         nan\n",
      "x9             0.0308        nan        nan        nan         nan         nan\n",
      "x10            0.0445        nan        nan        nan         nan         nan\n",
      "x11            0.0348        nan        nan        nan         nan         nan\n",
      "x12            0.0885        nan        nan        nan         nan         nan\n",
      "x13           -0.0019        nan        nan        nan         nan         nan\n",
      "x14            0.1834        nan        nan        nan         nan         nan\n",
      "x15           -0.0316        nan        nan        nan         nan         nan\n",
      "x16            0.0243        nan        nan        nan         nan         nan\n",
      "x17           -1.0400        nan        nan        nan         nan         nan\n",
      "x18            0.9893        nan        nan        nan         nan         nan\n",
      "x19           -3.4262        nan        nan        nan         nan         nan\n",
      "x20            0.3111        nan        nan        nan         nan         nan\n",
      "x21            0.3081        nan        nan        nan         nan         nan\n",
      "x22            0.3196        nan        nan        nan         nan         nan\n",
      "x23            0.1297        nan        nan        nan         nan         nan\n",
      "x24           -0.2061        nan        nan        nan         nan         nan\n",
      "x25            0.4585        nan        nan        nan         nan         nan\n",
      "x26           -0.0858        nan        nan        nan         nan         nan\n",
      "x27            0.0470        nan        nan        nan         nan         nan\n",
      "x28           -0.4762        nan        nan        nan         nan         nan\n",
      "x29           -0.1763        nan        nan        nan         nan         nan\n",
      "x30            0.1309        nan        nan        nan         nan         nan\n",
      "x31           -0.3986        nan        nan        nan         nan         nan\n",
      "x32            0.1690        nan        nan        nan         nan         nan\n",
      "x33            0.1220        nan        nan        nan         nan         nan\n",
      "x34            0.1877        nan        nan        nan         nan         nan\n",
      "x35            0.2298        nan        nan        nan         nan         nan\n",
      "x36            1.0306        nan        nan        nan         nan         nan\n",
      "x37           -2.9956        nan        nan        nan         nan         nan\n",
      "x38           -1.0400        nan        nan        nan         nan         nan\n",
      "x39           -0.1622        nan        nan        nan         nan         nan\n",
      "x40           -0.1053        nan        nan        nan         nan         nan\n",
      "x41            0.4838        nan        nan        nan         nan         nan\n",
      "x42            0.0309        nan        nan        nan         nan         nan\n",
      "x43           -0.1481        nan        nan        nan         nan         nan\n",
      "x44           -0.0977        nan        nan        nan         nan         nan\n",
      "x45            2.8608        nan        nan        nan         nan         nan\n",
      "x46            0.0540        nan        nan        nan         nan         nan\n",
      "x47           -0.0690        nan        nan        nan         nan         nan\n",
      "x48            0.0087        nan        nan        nan         nan         nan\n",
      "x49           -0.0089        nan        nan        nan         nan         nan\n",
      "x50           -0.0106        nan        nan        nan         nan         nan\n",
      "x51           -0.0426        nan        nan        nan         nan         nan\n",
      "x52           -0.0215        nan        nan        nan         nan         nan\n",
      "x53           -0.4678        nan        nan        nan         nan         nan\n",
      "x54           -0.9483        nan        nan        nan         nan         nan\n",
      "x55           -0.1325        nan        nan        nan         nan         nan\n",
      "x56            0.0025        nan        nan        nan         nan         nan\n",
      "x57            0.1069        nan        nan        nan         nan         nan\n",
      "x58           -0.1880        nan        nan        nan         nan         nan\n",
      "x59            0.2860        nan        nan        nan         nan         nan\n",
      "x60            0.0469        nan        nan        nan         nan         nan\n",
      "x61            0.0697        nan        nan        nan         nan         nan\n",
      "x62           -0.0871        nan        nan        nan         nan         nan\n",
      "x63           -0.0374        nan        nan        nan         nan         nan\n",
      "x64           -0.0822        nan        nan        nan         nan         nan\n",
      "x65            0.0738        nan        nan        nan         nan         nan\n",
      "x66            0.0901        nan        nan        nan         nan         nan\n",
      "x67            0.0931        nan        nan        nan         nan         nan\n",
      "x68           -0.0039        nan        nan        nan         nan         nan\n",
      "x69           -3.5197        nan        nan        nan         nan         nan\n",
      "x70            4.7251        nan        nan        nan         nan         nan\n",
      "x71          -11.8373        nan        nan        nan         nan         nan\n",
      "x72            0.3763        nan        nan        nan         nan         nan\n",
      "x73           -1.1934        nan        nan        nan         nan         nan\n",
      "x74            6.6331        nan        nan        nan         nan         nan\n",
      "x75            1.4851        nan        nan        nan         nan         nan\n",
      "x76           -0.8285        nan        nan        nan         nan         nan\n",
      "x77            4.4099        nan        nan        nan         nan         nan\n",
      "x78           -0.3940        nan        nan        nan         nan         nan\n",
      "x79            0.3694        nan        nan        nan         nan         nan\n",
      "x80           -2.4761        nan        nan        nan         nan         nan\n",
      "==============================================================================\n"
     ]
    },
    {
     "name": "stderr",
     "output_type": "stream",
     "text": [
      "/export/scratch2/levon003/bin/anaconda3/lib/python3.7/site-packages/statsmodels/base/model.py:548: HessianInversionWarning: Inverting hessian failed, no bse or cov_params available\n",
      "  'available', HessianInversionWarning)\n"
     ]
    }
   ],
   "source": [
    "# re-train logistic regression with statsmodels so we can get diagnostics\n",
    "import statsmodels.api as sm\n",
    "LR_shw = sm.Logit(train.iloc[:,-1], X_train).fit(method = 'lbfgs', maxiter = 1000)\n",
    "print(LR_shw.summary())"
   ]
  },
  {
   "cell_type": "code",
   "execution_count": 221,
   "metadata": {},
   "outputs": [
    {
     "name": "stdout",
     "output_type": "stream",
     "text": [
      "                           Logit Regression Results                           \n",
      "==============================================================================\n",
      "Dep. Variable:            is_reverted   No. Observations:                10000\n",
      "Model:                          Logit   Df Residuals:                     9999\n",
      "Method:                           MLE   Df Model:                            0\n",
      "Date:                Fri, 31 Jul 2020   Pseudo R-squ.:                  0.1320\n",
      "Time:                        11:53:13   Log-Likelihood:                -2876.6\n",
      "converged:                       True   LL-Null:                       -3314.1\n",
      "Covariance Type:            nonrobust   LLR p-value:                       nan\n",
      "==============================================================================\n",
      "                 coef    std err          z      P>|z|      [0.025      0.975]\n",
      "------------------------------------------------------------------------------\n",
      "x1            -0.1833      0.004    -51.780      0.000      -0.190      -0.176\n",
      "==============================================================================\n"
     ]
    }
   ],
   "source": [
    "LR_shw2 = sm.Logit(train.iloc[:,-1], np.asarray(train.iloc[:,53])).fit(method = 'lbfgs')\n",
    "print(LR_shw2.summary())"
   ]
  },
  {
   "cell_type": "code",
   "execution_count": 191,
   "metadata": {},
   "outputs": [
    {
     "name": "stdout",
     "output_type": "stream",
     "text": [
      "LR (no reg); accuracy: 90.121%; test ROC AUC: 0.8450; % reverted; 0.02316849553943113\n",
      "              precision    recall  f1-score   support\n",
      "\n",
      "       False       0.91      0.99      0.95    718665\n",
      "        True       0.59      0.13      0.22     82466\n",
      "\n",
      "    accuracy                           0.90    801131\n",
      "   macro avg       0.75      0.56      0.58    801131\n",
      "weighted avg       0.88      0.90      0.87    801131\n",
      "\n",
      "\n",
      "LR (L2 reg); accuracy: 90.121%; test ROC AUC: 0.8457; % reverted; 0.021303631990273752\n",
      "              precision    recall  f1-score   support\n",
      "\n",
      "       False       0.91      0.99      0.95    718665\n",
      "        True       0.60      0.12      0.20     82466\n",
      "\n",
      "    accuracy                           0.90    801131\n",
      "   macro avg       0.75      0.56      0.58    801131\n",
      "weighted avg       0.88      0.90      0.87    801131\n",
      "\n",
      "\n",
      "GB Tree; accuracy: 90.085%; test ROC AUC: 0.8468; % reverted; 0.006540753010431503\n",
      "              precision    recall  f1-score   support\n",
      "\n",
      "       False       0.90      1.00      0.95    718665\n",
      "        True       0.79      0.05      0.09     82466\n",
      "\n",
      "    accuracy                           0.90    801131\n",
      "   macro avg       0.85      0.52      0.52    801131\n",
      "weighted avg       0.89      0.90      0.86    801131\n",
      "\n",
      "\n"
     ]
    },
    {
     "data": {
      "image/png": "[encoded data removed]",
      "text/plain": [
       "<Figure size 720x720 with 2 Axes>"
      ]
     },
     "metadata": {
      "needs_background": "light"
     },
     "output_type": "display_data"
    }
   ],
   "source": [
    "fig = plt.figure(0, figsize=(10, 10))\n",
    "ax1 = plt.subplot2grid((3, 1), (0, 0), rowspan=2)\n",
    "ax2 = plt.subplot2grid((3, 1), (2, 0))\n",
    "\n",
    "ax1.plot([0, 1], [0, 1], \"k:\", label=\"Perfectly calibrated\")\n",
    "\n",
    "for label, tup in zip(['LR (no reg)', 'LR (L2 reg)', 'GB Tree'], clf_results):\n",
    "    y_pred_test, y_pred_test_proba, y_test = tup\n",
    "    frac_of_pos, mean_pred_value = sklearn.calibration.calibration_curve(y_test, y_pred_test_proba, n_bins=20)\n",
    "\n",
    "    ax1.plot(mean_pred_value, frac_of_pos, \"s-\", label=label)\n",
    "    ax1.set_ylabel(\"Fraction of positives\")\n",
    "    ax2.hist(y_pred_test_proba, range=(0, 1), bins=20, histtype=\"step\", lw=2, log=False)\n",
    "    \n",
    "    acc_test = np.sum(y_pred_test == y_test) / len(y_pred_test)\n",
    "    roc_auc = sklearn.metrics.roc_auc_score(y_test, y_pred_test_proba)\n",
    "    print(f\"{label}; accuracy: {acc_test*100:.3f}%; test ROC AUC: {roc_auc:.4f}; % reverted; {np.sum(y_pred_test) / len(y_test)}\")\n",
    "    print(sklearn.metrics.classification_report(y_test, y_pred_test))\n",
    "    print()\n",
    "    \n",
    "ax1.set_ylim([-0.05, 1.05])\n",
    "ax1.legend(loc=\"lower right\")\n",
    "\n",
    "ax2.set_xlabel(\"Mean predicted value\")\n",
    "ax2.set_ylabel(\"Count\")\n",
    "\n",
    "plt.show()"
   ]
  },
  {
   "cell_type": "code",
   "execution_count": 31,
   "metadata": {},
   "outputs": [
    {
     "data": {
      "image/png": "[encoded data removed]",
      "text/plain": [
       "<Figure size 1080x360 with 3 Axes>"
      ]
     },
     "metadata": {
      "needs_background": "light"
     },
     "output_type": "display_data"
    }
   ],
   "source": [
    "fig, axes = plt.subplots(1, 3, figsize=(15, 5))\n",
    "for i, ax_title_tup in enumerate(zip(axes, ['LR (no regularization)', 'LR (L2 regularization)', 'GB Tree'])):    \n",
    "    ax, title = ax_title_tup\n",
    "    ax.hist(clf_results[i][1], bins=50, log=True)\n",
    "    ax.set_xlabel(\"Predicted probability\")\n",
    "    ax.set_ylabel(\"Revision count\")\n",
    "    ax.set_title(title)\n",
    "plt.show()"
   ]
  },
  {
   "cell_type": "code",
   "execution_count": 173,
   "metadata": {},
   "outputs": [],
   "source": [
    "# Check logistic regression model assumptions\n",
    "# Hosmer-Lemeshow goodness of fit test\n",
    "# https://jbhender.github.io/Stats506/F18/GP/Group13.html\n",
    "from scipy.stats import chi2, norm\n",
    "def hl_test(pred_prob, label, g):\n",
    "    '''\n",
    "    Hosmer-Lemeshow test to judge the goodness of fit for binary data\n",
    "\n",
    "    Input: dataframe(data), integer(num of subgroups divided)\n",
    "    \n",
    "    Output: float\n",
    "    '''\n",
    "    data = pd.concat([pd.Series(pred_prob).rename('pred_prob'), label.rename('label')], axis = 1)\n",
    "    data_st = data.sort_values('pred_prob')\n",
    "    data_st['dcl'] = pd.cut(data_st['pred_prob'], g)\n",
    "    \n",
    "    ys = data_st['label'].groupby(data_st.dcl).sum()\n",
    "    #count() gives count of non-NA cells\n",
    "    yt = data_st['label'].groupby(data_st.dcl).count()\n",
    "    yn = yt - ys\n",
    "    print('Observed y=1')\n",
    "    print(ys)\n",
    "    print('Observed Total')\n",
    "    print(yt)\n",
    "    print('Total \"True\" labels: {}'.format(ys.sum()))\n",
    "    print('Total \"False\" labels: {}'.format(yn.sum()))\n",
    "    print('Total observations: {}'.format(yt.sum()))\n",
    "    \n",
    "    yps = data_st['pred_prob'].groupby(data_st.dcl).sum()\n",
    "    ypt = data_st['pred_prob'].groupby(data_st.dcl).count()\n",
    "    ypn = ypt - yps\n",
    "    \n",
    "    hltest_list = ( ((ys - yps)**2 / yps) + ((yn - ypn)**2 / ypn) )\n",
    "    #print('Group HL test statistic')\n",
    "    #print(hltest_list)\n",
    "    hltest = hltest_list.sum()\n",
    "    pval = 1 - chi2.cdf(hltest, g-2)\n",
    "    \n",
    "    df = g-2\n",
    "    \n",
    "    print('\\n HL-chi2({}): {}, p-value: {}\\n'.format(df, hltest, pval))"
   ]
  },
  {
   "cell_type": "markdown",
   "metadata": {},
   "source": [
    "Here is the puzzle. I am relatively sure this is some small Python error due to my being rusty, but can't pin it down.\n",
    "\n",
    "The H-L test function removes \"NA\" labels, which is why the overall totals in cell 223 are lower than those in cell 222.\n",
    "\n",
    "But why are the total counts of \"True\" labels lower in 223 than 222? Aren't we using the same series? Is there something with the way numpy bincount works?\n",
    "(`bin_true = np.bincount(binids, weights=y_test, minlength=len(bins))`) \n",
    "The only difference between the two functions seems to be that one uses pandas (H-L) and the other numpy (sklearn loop). This is where I'm probably missing something obvious.\n",
    "\n",
    "The H-L test stats are way higher than is reasonable because there is an approximately portion of \"True\" labels in each bin. This is not the case in the calibration curve bins, even though they are supposedly the same bins. The share of \"True\" labels approaches 90% in the top calibration curve bins, but is ~10% in all H-L test bins."
   ]
  },
  {
   "cell_type": "code",
   "execution_count": 222,
   "metadata": {
    "scrolled": true
   },
   "outputs": [
    {
     "name": "stdout",
     "output_type": "stream",
     "text": [
      "LR (no reg)\n",
      "[10775.  6303.  5232.  6540.  7519.  7971.  7773.  6982.  6500.  5929.\n",
      "  4006.  2234.  1172.   855.   631.   388.   230.   172.   177.  1077.\n",
      "     0.]\n",
      "Total \"True\" labels: 82466.0\n",
      "Total \"False\" labels: 718665.0\n",
      "[487707  81581  38718  36148  34306  30667  25735  19813  15538  12357\n",
      "   7698   4005   1921   1285    915    514    304    247    270   1402\n",
      "      0]\n",
      "Total observations: 801131\n",
      "LR (L2 reg)\n",
      "[10692.  6336.  5234.  6664.  7754.  8063.  7870.  7181.  6647.  5830.\n",
      "  3781.  2077.  1050.   798.   578.   322.   192.   172.   149.  1076.\n",
      "     0.]\n",
      "Total \"True\" labels: 82466.0\n",
      "Total \"False\" labels: 718665.0\n",
      "[487610  81470  38736  36869  35034  30832  25961  20002  15564  11986\n",
      "   7157   3680   1734   1171    794    439    268    229    233   1362\n",
      "      0]\n",
      "Total observations: 801131\n",
      "GB Tree\n",
      "[1.1963e+04 9.4520e+03 1.1705e+04 1.1311e+04 8.5020e+03 8.0310e+03\n",
      " 5.6070e+03 4.6680e+03 4.3420e+03 2.7500e+03 1.1920e+03 6.0600e+02\n",
      " 4.1600e+02 3.6900e+02 3.3000e+02 2.7100e+02 2.7700e+02 3.5700e+02\n",
      " 3.0800e+02 9.0000e+00 0.0000e+00]\n",
      "Total \"True\" labels: 82466.0\n",
      "Total \"False\" labels: 718665.0\n",
      "[506755  96268  63095  45655  27913  22046  12505   9271   7922   4461\n",
      "   1771    846    536    440    365    296    291    375    311      9\n",
      "      0]\n",
      "Total observations: 801131\n"
     ]
    }
   ],
   "source": [
    "# Replicate code used to produce the calibration curves above (sklearn calibration_curve)\n",
    "# Loop prints number of \"True\" labels in each bin, followed by total True, total False, number of observations per bin, and total observations\n",
    "for label, tup in zip(['LR (no reg)', 'LR (L2 reg)', 'GB Tree'], clf_results):\n",
    "    y_pred_test, y_pred_test_proba, y_test = tup\n",
    "    bins = np.linspace(0., 1. + 1e-8, 20 + 1)\n",
    "    binids = np.digitize(y_pred_test_proba, bins) - 1\n",
    "    bin_sums = np.bincount(binids, weights=y_pred_test_proba, minlength=len(bins))\n",
    "    bin_true = np.bincount(binids, weights=y_test, minlength=len(bins))\n",
    "    bin_false = np.bincount(binids, weights=1-y_test, minlength=len(bins))\n",
    "    bin_total = np.bincount(binids, minlength=len(bins))\n",
    "    \n",
    "    print(label)\n",
    "    print(bin_true)\n",
    "    print('Total \"True\" labels: {}'.format(bin_true.sum()))\n",
    "    print('Total \"False\" labels: {}'.format(bin_false.sum()))\n",
    "    print(bin_total)\n",
    "    print('Total observations: {}'.format(bin_total.sum()))\n",
    "\n",
    "    nonzero = bin_total != 0\n",
    "    avg_true = bin_true[nonzero] / bin_total[nonzero]\n",
    "    avg_pred = bin_sums[nonzero] / bin_total[nonzero]"
   ]
  },
  {
   "cell_type": "code",
   "execution_count": 223,
   "metadata": {},
   "outputs": [
    {
     "name": "stdout",
     "output_type": "stream",
     "text": [
      "LR (no reg)\n",
      "Observed y=1\n",
      "dcl\n",
      "(-0.001, 0.05]    9837\n",
      "(0.05, 0.1]       1654\n",
      "(0.1, 0.15]        796\n",
      "(0.15, 0.2]        742\n",
      "(0.2, 0.25]        694\n",
      "(0.25, 0.3]        644\n",
      "(0.3, 0.35]        544\n",
      "(0.35, 0.4]        397\n",
      "(0.4, 0.45]        330\n",
      "(0.45, 0.5]        250\n",
      "(0.5, 0.55]        173\n",
      "(0.55, 0.6]         80\n",
      "(0.6, 0.65]         36\n",
      "(0.65, 0.7]         19\n",
      "(0.7, 0.75]         23\n",
      "(0.75, 0.8]          7\n",
      "(0.8, 0.85]          5\n",
      "(0.85, 0.9]          6\n",
      "(0.9, 0.95]          4\n",
      "(0.95, 1.0]         23\n",
      "Name: label, dtype: int64\n",
      "Observed Total\n",
      "dcl\n",
      "(-0.001, 0.05]    97577\n",
      "(0.05, 0.1]       16399\n",
      "(0.1, 0.15]        7748\n",
      "(0.15, 0.2]        7262\n",
      "(0.2, 0.25]        6996\n",
      "(0.25, 0.3]        6163\n",
      "(0.3, 0.35]        5067\n",
      "(0.35, 0.4]        3957\n",
      "(0.4, 0.45]        3178\n",
      "(0.45, 0.5]        2471\n",
      "(0.5, 0.55]        1594\n",
      "(0.55, 0.6]         808\n",
      "(0.6, 0.65]         358\n",
      "(0.65, 0.7]         256\n",
      "(0.7, 0.75]         174\n",
      "(0.75, 0.8]         102\n",
      "(0.8, 0.85]          71\n",
      "(0.85, 0.9]          47\n",
      "(0.9, 0.95]          49\n",
      "(0.95, 1.0]         274\n",
      "Name: label, dtype: int64\n",
      "Total \"True\" labels: 16264\n",
      "Total \"False\" labels: 144287\n",
      "Total observations: 160551\n",
      "\n",
      " HL-chi2(18): 527683.1618015154, p-value: 0.0\n",
      "\n",
      "LR (L2 reg)\n",
      "Observed y=1\n",
      "dcl\n",
      "(-0.001, 0.05]    9842\n",
      "(0.05, 0.1]       1655\n",
      "(0.1, 0.15]        791\n",
      "(0.15, 0.2]        735\n",
      "(0.2, 0.25]        728\n",
      "(0.25, 0.3]        642\n",
      "(0.3, 0.35]        541\n",
      "(0.35, 0.4]        428\n",
      "(0.4, 0.45]        321\n",
      "(0.45, 0.5]        240\n",
      "(0.5, 0.55]        161\n",
      "(0.55, 0.6]         66\n",
      "(0.6, 0.65]         32\n",
      "(0.65, 0.7]         18\n",
      "(0.7, 0.75]         21\n",
      "(0.75, 0.8]          6\n",
      "(0.8, 0.85]          6\n",
      "(0.85, 0.9]          5\n",
      "(0.9, 0.95]          4\n",
      "(0.95, 1.0]         22\n",
      "Name: label, dtype: int64\n",
      "Observed Total\n",
      "dcl\n",
      "(-0.001, 0.05]    97590\n",
      "(0.05, 0.1]       16387\n",
      "(0.1, 0.15]        7725\n",
      "(0.15, 0.2]        7374\n",
      "(0.2, 0.25]        7160\n",
      "(0.25, 0.3]        6225\n",
      "(0.3, 0.35]        5083\n",
      "(0.35, 0.4]        4015\n",
      "(0.4, 0.45]        3171\n",
      "(0.45, 0.5]        2415\n",
      "(0.5, 0.55]        1458\n",
      "(0.55, 0.6]         721\n",
      "(0.6, 0.65]         343\n",
      "(0.65, 0.7]         219\n",
      "(0.7, 0.75]         173\n",
      "(0.75, 0.8]          86\n",
      "(0.8, 0.85]          49\n",
      "(0.85, 0.9]          50\n",
      "(0.9, 0.95]          43\n",
      "(0.95, 1.0]         264\n",
      "Name: label, dtype: int64\n",
      "Total \"True\" labels: 16264\n",
      "Total \"False\" labels: 144287\n",
      "Total observations: 160551\n",
      "\n",
      " HL-chi2(18): 527271.145077042, p-value: 0.0\n",
      "\n",
      "GB Tree\n",
      "Observed y=1\n",
      "dcl\n",
      "(0.00427, 0.0532]    10439\n",
      "(0.0532, 0.101]       1759\n",
      "(0.101, 0.149]        1250\n",
      "(0.149, 0.197]         924\n",
      "(0.197, 0.245]         576\n",
      "(0.245, 0.293]         456\n",
      "(0.293, 0.341]         278\n",
      "(0.341, 0.389]         165\n",
      "(0.389, 0.437]         191\n",
      "(0.437, 0.485]         102\n",
      "(0.485, 0.533]          48\n",
      "(0.533, 0.581]          18\n",
      "(0.581, 0.629]          12\n",
      "(0.629, 0.677]          12\n",
      "(0.677, 0.725]           9\n",
      "(0.725, 0.773]           6\n",
      "(0.773, 0.82]            7\n",
      "(0.82, 0.868]            3\n",
      "(0.868, 0.916]           8\n",
      "(0.916, 0.964]           1\n",
      "Name: label, dtype: int64\n",
      "Observed Total\n",
      "dcl\n",
      "(0.00427, 0.0532]    103408\n",
      "(0.0532, 0.101]       17625\n",
      "(0.101, 0.149]        12182\n",
      "(0.149, 0.197]         9021\n",
      "(0.197, 0.245]         5593\n",
      "(0.245, 0.293]         4284\n",
      "(0.293, 0.341]         2599\n",
      "(0.341, 0.389]         1789\n",
      "(0.389, 0.437]         1668\n",
      "(0.437, 0.485]         1130\n",
      "(0.485, 0.533]          463\n",
      "(0.533, 0.581]          196\n",
      "(0.581, 0.629]          121\n",
      "(0.629, 0.677]          114\n",
      "(0.677, 0.725]           81\n",
      "(0.725, 0.773]           69\n",
      "(0.773, 0.82]            46\n",
      "(0.82, 0.868]            52\n",
      "(0.868, 0.916]           74\n",
      "(0.916, 0.964]           36\n",
      "Name: label, dtype: int64\n",
      "Total \"True\" labels: 16264\n",
      "Total \"False\" labels: 144287\n",
      "Total observations: 160551\n",
      "\n",
      " HL-chi2(18): 518804.43287471595, p-value: 0.0\n",
      "\n"
     ]
    }
   ],
   "source": [
    "# Hosmer-Lemeshow test for each model.\n",
    "# H-L test function prints number of \"True\" labels in each bin, followed by total in each bin and total True, total Observations\n",
    "for label, tup in zip(['LR (no reg)', 'LR (L2 reg)', 'GB Tree'], clf_results):\n",
    "    y_pred_test, y_pred_test_proba, y_test = tup\n",
    "    print(label)\n",
    "    hl_test(y_pred_test_proba, y_test, 20)\n"
   ]
  },
  {
   "cell_type": "code",
   "execution_count": null,
   "metadata": {},
   "outputs": [],
   "source": []
  },
  {
   "cell_type": "code",
   "execution_count": null,
   "metadata": {},
   "outputs": [],
   "source": []
  }
 ],
 "metadata": {
  "kernelspec": {
   "display_name": "Flagon Python3",
   "language": "python",
   "name": "flagon-conda-env"
  },
  "language_info": {
   "codemirror_mode": {
    "name": "ipython",
    "version": 3
   },
   "file_extension": ".py",
   "mimetype": "text/x-python",
   "name": "python",
   "nbconvert_exporter": "python",
   "pygments_lexer": "ipython3",
   "version": "3.7.7"
  }
 },
 "nbformat": 4,
 "nbformat_minor": 4
}
