{
 "cells": [
  {
   "cell_type": "markdown",
   "metadata": {},
   "source": [
    "Revert Classification - Demo\n",
    "===\n",
    "\n",
    "Building a classifier to predict reverts and produce calibrated propensity scores for being reverted.\n",
    "\n",
    "This notebook is a pared-down demo notebook created for Solvejg."
   ]
  },
  {
   "cell_type": "code",
   "execution_count": 1,
   "metadata": {},
   "outputs": [],
   "source": [
    "import numpy as np\n",
    "import pandas as pd\n",
    "import matplotlib.pyplot as plt\n",
    "import matplotlib"
   ]
  },
  {
   "cell_type": "code",
   "execution_count": 2,
   "metadata": {},
   "outputs": [],
   "source": [
    "import os\n",
    "from tqdm import tqdm\n",
    "import bz2\n",
    "import sqlite3\n",
    "import difflib\n",
    "import gzip\n",
    "import json\n",
    "import re\n",
    "import hashlib\n",
    "from datetime import datetime\n",
    "from datetime import timezone\n",
    "import nltk\n",
    "import scipy.stats\n",
    "import para\n",
    "from itertools import groupby\n",
    "from collections import Counter"
   ]
  },
  {
   "cell_type": "code",
   "execution_count": 3,
   "metadata": {},
   "outputs": [],
   "source": [
    "import sklearn\n",
    "import sklearn.ensemble\n",
    "import sklearn.metrics\n",
    "import sklearn.calibration\n",
    "from sklearn.model_selection import cross_val_score"
   ]
  },
  {
   "cell_type": "code",
   "execution_count": 4,
   "metadata": {},
   "outputs": [],
   "source": [
    "from statistics import mean\n",
    "import math"
   ]
  },
  {
   "cell_type": "code",
   "execution_count": 5,
   "metadata": {},
   "outputs": [
    {
     "data": {
      "text/plain": [
       "('/export/scratch2/wiki_data',\n",
       " '/export/scratch2/levon003/repos/wiki-ores-feedback/data/derived')"
      ]
     },
     "execution_count": 5,
     "metadata": {},
     "output_type": "execute_result"
    }
   ],
   "source": [
    "raw_data_dir = \"/export/scratch2/wiki_data\"\n",
    "derived_data_dir = os.path.join('/export/scratch2/levon003/repos/wiki-ores-feedback', \"data\", \"derived\")\n",
    "raw_data_dir, derived_data_dir"
   ]
  },
  {
   "cell_type": "code",
   "execution_count": 6,
   "metadata": {},
   "outputs": [
    {
     "data": {
      "text/plain": [
       "'/export/scratch2/levon003/repos/wiki-ores-feedback/data/derived/stub-history-all-revisions'"
      ]
     },
     "execution_count": 6,
     "metadata": {},
     "output_type": "execute_result"
    }
   ],
   "source": [
    "stub_history_dir = os.path.join(derived_data_dir, 'stub-history-all-revisions')\n",
    "stub_history_dir"
   ]
  },
  {
   "cell_type": "code",
   "execution_count": 7,
   "metadata": {},
   "outputs": [
    {
     "data": {
      "text/plain": [
       "'/export/scratch2/levon003/repos/wiki-ores-feedback/data/derived/audit'"
      ]
     },
     "execution_count": 7,
     "metadata": {},
     "output_type": "execute_result"
    }
   ],
   "source": [
    "revision_sample_dir = os.path.join(derived_data_dir, 'revision_sample')\n",
    "working_dir = os.path.join(derived_data_dir, 'audit')\n",
    "working_dir"
   ]
  },
  {
   "cell_type": "markdown",
   "metadata": {},
   "source": [
    "### Data loading and cleaning"
   ]
  },
  {
   "cell_type": "code",
   "execution_count": 8,
   "metadata": {},
   "outputs": [
    {
     "name": "stdout",
     "output_type": "stream",
     "text": [
      "Sample 3 data loaded in 0:00:52.243535.\n"
     ]
    },
    {
     "data": {
      "text/plain": [
       "33964442"
      ]
     },
     "execution_count": 8,
     "metadata": {},
     "output_type": "execute_result"
    }
   ],
   "source": [
    "# read in the sample dataframe\n",
    "s = datetime.now()\n",
    "revision_sample_dir = os.path.join(derived_data_dir, 'revision_sample')\n",
    "sample3_filepath = os.path.join(revision_sample_dir, 'sample3_all.pkl')\n",
    "rev_df = pd.read_pickle(sample3_filepath)\n",
    "print(f\"Sample 3 data loaded in {datetime.now() - s}.\")\n",
    "len(rev_df)"
   ]
  },
  {
   "cell_type": "code",
   "execution_count": 9,
   "metadata": {
    "scrolled": true
   },
   "outputs": [
    {
     "data": {
      "text/html": [
       "<div>\n",
       "<style scoped>\n",
       "    .dataframe tbody tr th:only-of-type {\n",
       "        vertical-align: middle;\n",
       "    }\n",
       "\n",
       "    .dataframe tbody tr th {\n",
       "        vertical-align: top;\n",
       "    }\n",
       "\n",
       "    .dataframe thead th {\n",
       "        text-align: right;\n",
       "    }\n",
       "</style>\n",
       "<table border=\"1\" class=\"dataframe\">\n",
       "  <thead>\n",
       "    <tr style=\"text-align: right;\">\n",
       "      <th></th>\n",
       "      <th>page_id</th>\n",
       "      <th>rev_id</th>\n",
       "      <th>rev_timestamp</th>\n",
       "      <th>is_revert_target</th>\n",
       "      <th>is_reverted</th>\n",
       "      <th>is_reverting</th>\n",
       "      <th>is_sample_eligible</th>\n",
       "      <th>prev_rev_id</th>\n",
       "      <th>next_rev_id</th>\n",
       "      <th>prev_rev_timestamp</th>\n",
       "      <th>next_rev_timestamp</th>\n",
       "      <th>reverted_rev_ids</th>\n",
       "      <th>reverting_rev_id</th>\n",
       "      <th>reverting_rev_timestamp</th>\n",
       "    </tr>\n",
       "  </thead>\n",
       "  <tbody>\n",
       "    <tr>\n",
       "      <th>1</th>\n",
       "      <td>12</td>\n",
       "      <td>818613649</td>\n",
       "      <td>1515102279</td>\n",
       "      <td>0</td>\n",
       "      <td>0</td>\n",
       "      <td>0</td>\n",
       "      <td>True</td>\n",
       "      <td>818611292</td>\n",
       "      <td>818624114</td>\n",
       "      <td>1515101356</td>\n",
       "      <td>1515106953</td>\n",
       "      <td>[]</td>\n",
       "      <td>-1</td>\n",
       "      <td>-1</td>\n",
       "    </tr>\n",
       "    <tr>\n",
       "      <th>2</th>\n",
       "      <td>12</td>\n",
       "      <td>818624114</td>\n",
       "      <td>1515106953</td>\n",
       "      <td>1</td>\n",
       "      <td>0</td>\n",
       "      <td>0</td>\n",
       "      <td>True</td>\n",
       "      <td>818613649</td>\n",
       "      <td>820024812</td>\n",
       "      <td>1515102279</td>\n",
       "      <td>1515798752</td>\n",
       "      <td>[]</td>\n",
       "      <td>-1</td>\n",
       "      <td>-1</td>\n",
       "    </tr>\n",
       "    <tr>\n",
       "      <th>3</th>\n",
       "      <td>12</td>\n",
       "      <td>820024812</td>\n",
       "      <td>1515798752</td>\n",
       "      <td>0</td>\n",
       "      <td>1</td>\n",
       "      <td>0</td>\n",
       "      <td>True</td>\n",
       "      <td>818624114</td>\n",
       "      <td>820025687</td>\n",
       "      <td>1515106953</td>\n",
       "      <td>1515799060</td>\n",
       "      <td>[]</td>\n",
       "      <td>820025687</td>\n",
       "      <td>1515799060</td>\n",
       "    </tr>\n",
       "    <tr>\n",
       "      <th>4</th>\n",
       "      <td>12</td>\n",
       "      <td>820025687</td>\n",
       "      <td>1515799060</td>\n",
       "      <td>0</td>\n",
       "      <td>0</td>\n",
       "      <td>1</td>\n",
       "      <td>True</td>\n",
       "      <td>820024812</td>\n",
       "      <td>820703495</td>\n",
       "      <td>1515798752</td>\n",
       "      <td>1516095884</td>\n",
       "      <td>[820024812]</td>\n",
       "      <td>-1</td>\n",
       "      <td>-1</td>\n",
       "    </tr>\n",
       "    <tr>\n",
       "      <th>5</th>\n",
       "      <td>12</td>\n",
       "      <td>820703495</td>\n",
       "      <td>1516095884</td>\n",
       "      <td>0</td>\n",
       "      <td>0</td>\n",
       "      <td>0</td>\n",
       "      <td>True</td>\n",
       "      <td>820025687</td>\n",
       "      <td>821673418</td>\n",
       "      <td>1515799060</td>\n",
       "      <td>1516597634</td>\n",
       "      <td>[]</td>\n",
       "      <td>-1</td>\n",
       "      <td>-1</td>\n",
       "    </tr>\n",
       "  </tbody>\n",
       "</table>\n",
       "</div>"
      ],
      "text/plain": [
       "   page_id     rev_id  rev_timestamp  is_revert_target  is_reverted  \\\n",
       "1       12  818613649     1515102279                 0            0   \n",
       "2       12  818624114     1515106953                 1            0   \n",
       "3       12  820024812     1515798752                 0            1   \n",
       "4       12  820025687     1515799060                 0            0   \n",
       "5       12  820703495     1516095884                 0            0   \n",
       "\n",
       "   is_reverting  is_sample_eligible  prev_rev_id  next_rev_id  \\\n",
       "1             0                True    818611292    818624114   \n",
       "2             0                True    818613649    820024812   \n",
       "3             0                True    818624114    820025687   \n",
       "4             1                True    820024812    820703495   \n",
       "5             0                True    820025687    821673418   \n",
       "\n",
       "   prev_rev_timestamp  next_rev_timestamp reverted_rev_ids  reverting_rev_id  \\\n",
       "1          1515101356          1515106953               []                -1   \n",
       "2          1515102279          1515798752               []                -1   \n",
       "3          1515106953          1515799060               []         820025687   \n",
       "4          1515798752          1516095884      [820024812]                -1   \n",
       "5          1515799060          1516597634               []                -1   \n",
       "\n",
       "   reverting_rev_timestamp  \n",
       "1                       -1  \n",
       "2                       -1  \n",
       "3               1515799060  \n",
       "4                       -1  \n",
       "5                       -1  "
      ]
     },
     "execution_count": 9,
     "metadata": {},
     "output_type": "execute_result"
    }
   ],
   "source": [
    "rev_df.head()"
   ]
  },
  {
   "cell_type": "code",
   "execution_count": 10,
   "metadata": {},
   "outputs": [
    {
     "name": "stdout",
     "output_type": "stream",
     "text": [
      "Features data loaded in 0:02:10.167396.\n"
     ]
    },
    {
     "data": {
      "text/plain": [
       "4005652"
      ]
     },
     "execution_count": 10,
     "metadata": {},
     "output_type": "execute_result"
    }
   ],
   "source": [
    "# Load the features\n",
    "s = datetime.now()\n",
    "labeled_revs_dir = os.path.join(derived_data_dir, 'labeled-revs')\n",
    "sample3_features_dir = os.path.join(labeled_revs_dir, 'sample3-features')\n",
    "sample3_damaging_filepath = os.path.join(sample3_features_dir, 'sample3.damaging.2020-07-11T15:11:15Z.tsv')\n",
    "features_df = pd.read_csv(sample3_damaging_filepath, sep='\\t', header=0)\n",
    "print(f\"Features data loaded in {datetime.now() - s}.\")\n",
    "len(features_df)"
   ]
  },
  {
   "cell_type": "code",
   "execution_count": 11,
   "metadata": {},
   "outputs": [],
   "source": [
    "# drop the useless 'damaging' column (it is auto-generated)\n",
    "features_df = features_df.drop(columns='damaging')"
   ]
  },
  {
   "cell_type": "code",
   "execution_count": 641,
   "metadata": {},
   "outputs": [
    {
     "data": {
      "text/html": [
       "<div>\n",
       "<style scoped>\n",
       "    .dataframe tbody tr th:only-of-type {\n",
       "        vertical-align: middle;\n",
       "    }\n",
       "\n",
       "    .dataframe tbody tr th {\n",
       "        vertical-align: top;\n",
       "    }\n",
       "\n",
       "    .dataframe thead th {\n",
       "        text-align: right;\n",
       "    }\n",
       "</style>\n",
       "<table border=\"1\" class=\"dataframe\">\n",
       "  <thead>\n",
       "    <tr style=\"text-align: right;\">\n",
       "      <th></th>\n",
       "      <th>feature.revision.page.is_articleish</th>\n",
       "      <th>feature.revision.page.is_mainspace</th>\n",
       "      <th>feature.revision.page.is_draftspace</th>\n",
       "      <th>feature.log((wikitext.revision.parent.chars + 1))</th>\n",
       "      <th>feature.log((len(&lt;datasource.tokenized(datasource.revision.parent.text)&gt;) + 1))</th>\n",
       "      <th>feature.log((len(&lt;datasource.wikitext.revision.parent.words&gt;) + 1))</th>\n",
       "      <th>feature.log((len(&lt;datasource.wikitext.revision.parent.uppercase_words&gt;) + 1))</th>\n",
       "      <th>feature.log((wikitext.revision.parent.headings + 1))</th>\n",
       "      <th>feature.log((wikitext.revision.parent.wikilinks + 1))</th>\n",
       "      <th>feature.log((wikitext.revision.parent.external_links + 1))</th>\n",
       "      <th>...</th>\n",
       "      <th>feature.english.dictionary.revision.diff.dict_word_prop_delta_sum</th>\n",
       "      <th>feature.english.dictionary.revision.diff.dict_word_prop_delta_increase</th>\n",
       "      <th>feature.english.dictionary.revision.diff.dict_word_prop_delta_decrease</th>\n",
       "      <th>feature.english.dictionary.revision.diff.non_dict_word_delta_sum</th>\n",
       "      <th>feature.english.dictionary.revision.diff.non_dict_word_delta_increase</th>\n",
       "      <th>feature.english.dictionary.revision.diff.non_dict_word_delta_decrease</th>\n",
       "      <th>feature.english.dictionary.revision.diff.non_dict_word_prop_delta_sum</th>\n",
       "      <th>feature.english.dictionary.revision.diff.non_dict_word_prop_delta_increase</th>\n",
       "      <th>feature.english.dictionary.revision.diff.non_dict_word_prop_delta_decrease</th>\n",
       "      <th>is_reverted</th>\n",
       "    </tr>\n",
       "  </thead>\n",
       "  <tbody>\n",
       "    <tr>\n",
       "      <th>0</th>\n",
       "      <td>True</td>\n",
       "      <td>True</td>\n",
       "      <td>False</td>\n",
       "      <td>10.887885</td>\n",
       "      <td>9.786729</td>\n",
       "      <td>8.711773</td>\n",
       "      <td>5.252273</td>\n",
       "      <td>3.091042</td>\n",
       "      <td>5.817111</td>\n",
       "      <td>4.532599</td>\n",
       "      <td>...</td>\n",
       "      <td>4.333333</td>\n",
       "      <td>4.333333</td>\n",
       "      <td>0.000000</td>\n",
       "      <td>2</td>\n",
       "      <td>2</td>\n",
       "      <td>0</td>\n",
       "      <td>2.0</td>\n",
       "      <td>2.0</td>\n",
       "      <td>0.0</td>\n",
       "      <td>False</td>\n",
       "    </tr>\n",
       "    <tr>\n",
       "      <th>1</th>\n",
       "      <td>True</td>\n",
       "      <td>True</td>\n",
       "      <td>False</td>\n",
       "      <td>9.173676</td>\n",
       "      <td>7.996654</td>\n",
       "      <td>6.970730</td>\n",
       "      <td>2.833213</td>\n",
       "      <td>2.302585</td>\n",
       "      <td>4.262680</td>\n",
       "      <td>2.944439</td>\n",
       "      <td>...</td>\n",
       "      <td>0.000000</td>\n",
       "      <td>0.000000</td>\n",
       "      <td>0.000000</td>\n",
       "      <td>0</td>\n",
       "      <td>0</td>\n",
       "      <td>0</td>\n",
       "      <td>0.0</td>\n",
       "      <td>0.0</td>\n",
       "      <td>0.0</td>\n",
       "      <td>False</td>\n",
       "    </tr>\n",
       "    <tr>\n",
       "      <th>2</th>\n",
       "      <td>True</td>\n",
       "      <td>True</td>\n",
       "      <td>False</td>\n",
       "      <td>7.193686</td>\n",
       "      <td>6.049733</td>\n",
       "      <td>5.123964</td>\n",
       "      <td>2.197225</td>\n",
       "      <td>0.693147</td>\n",
       "      <td>2.564949</td>\n",
       "      <td>0.693147</td>\n",
       "      <td>...</td>\n",
       "      <td>1.333333</td>\n",
       "      <td>1.333333</td>\n",
       "      <td>0.000000</td>\n",
       "      <td>0</td>\n",
       "      <td>0</td>\n",
       "      <td>0</td>\n",
       "      <td>0.0</td>\n",
       "      <td>0.0</td>\n",
       "      <td>0.0</td>\n",
       "      <td>False</td>\n",
       "    </tr>\n",
       "    <tr>\n",
       "      <th>3</th>\n",
       "      <td>True</td>\n",
       "      <td>True</td>\n",
       "      <td>False</td>\n",
       "      <td>10.229440</td>\n",
       "      <td>9.153453</td>\n",
       "      <td>8.204672</td>\n",
       "      <td>2.944439</td>\n",
       "      <td>2.890372</td>\n",
       "      <td>4.605170</td>\n",
       "      <td>3.295837</td>\n",
       "      <td>...</td>\n",
       "      <td>-3.663679</td>\n",
       "      <td>1.015873</td>\n",
       "      <td>-4.679552</td>\n",
       "      <td>-1</td>\n",
       "      <td>0</td>\n",
       "      <td>-1</td>\n",
       "      <td>-0.2</td>\n",
       "      <td>0.0</td>\n",
       "      <td>-0.2</td>\n",
       "      <td>False</td>\n",
       "    </tr>\n",
       "    <tr>\n",
       "      <th>4</th>\n",
       "      <td>True</td>\n",
       "      <td>True</td>\n",
       "      <td>False</td>\n",
       "      <td>10.255763</td>\n",
       "      <td>9.185535</td>\n",
       "      <td>7.865188</td>\n",
       "      <td>4.812184</td>\n",
       "      <td>2.484907</td>\n",
       "      <td>4.836282</td>\n",
       "      <td>4.248495</td>\n",
       "      <td>...</td>\n",
       "      <td>-0.084034</td>\n",
       "      <td>0.058824</td>\n",
       "      <td>-0.142857</td>\n",
       "      <td>0</td>\n",
       "      <td>0</td>\n",
       "      <td>0</td>\n",
       "      <td>0.0</td>\n",
       "      <td>0.0</td>\n",
       "      <td>0.0</td>\n",
       "      <td>False</td>\n",
       "    </tr>\n",
       "  </tbody>\n",
       "</table>\n",
       "<p>5 rows × 81 columns</p>\n",
       "</div>"
      ],
      "text/plain": [
       "   feature.revision.page.is_articleish  feature.revision.page.is_mainspace  \\\n",
       "0                                 True                                True   \n",
       "1                                 True                                True   \n",
       "2                                 True                                True   \n",
       "3                                 True                                True   \n",
       "4                                 True                                True   \n",
       "\n",
       "   feature.revision.page.is_draftspace  \\\n",
       "0                                False   \n",
       "1                                False   \n",
       "2                                False   \n",
       "3                                False   \n",
       "4                                False   \n",
       "\n",
       "   feature.log((wikitext.revision.parent.chars + 1))  \\\n",
       "0                                          10.887885   \n",
       "1                                           9.173676   \n",
       "2                                           7.193686   \n",
       "3                                          10.229440   \n",
       "4                                          10.255763   \n",
       "\n",
       "   feature.log((len(<datasource.tokenized(datasource.revision.parent.text)>) + 1))  \\\n",
       "0                                           9.786729                                 \n",
       "1                                           7.996654                                 \n",
       "2                                           6.049733                                 \n",
       "3                                           9.153453                                 \n",
       "4                                           9.185535                                 \n",
       "\n",
       "   feature.log((len(<datasource.wikitext.revision.parent.words>) + 1))  \\\n",
       "0                                           8.711773                     \n",
       "1                                           6.970730                     \n",
       "2                                           5.123964                     \n",
       "3                                           8.204672                     \n",
       "4                                           7.865188                     \n",
       "\n",
       "   feature.log((len(<datasource.wikitext.revision.parent.uppercase_words>) + 1))  \\\n",
       "0                                           5.252273                               \n",
       "1                                           2.833213                               \n",
       "2                                           2.197225                               \n",
       "3                                           2.944439                               \n",
       "4                                           4.812184                               \n",
       "\n",
       "   feature.log((wikitext.revision.parent.headings + 1))  \\\n",
       "0                                           3.091042      \n",
       "1                                           2.302585      \n",
       "2                                           0.693147      \n",
       "3                                           2.890372      \n",
       "4                                           2.484907      \n",
       "\n",
       "   feature.log((wikitext.revision.parent.wikilinks + 1))  \\\n",
       "0                                           5.817111       \n",
       "1                                           4.262680       \n",
       "2                                           2.564949       \n",
       "3                                           4.605170       \n",
       "4                                           4.836282       \n",
       "\n",
       "   feature.log((wikitext.revision.parent.external_links + 1))  ...  \\\n",
       "0                                           4.532599           ...   \n",
       "1                                           2.944439           ...   \n",
       "2                                           0.693147           ...   \n",
       "3                                           3.295837           ...   \n",
       "4                                           4.248495           ...   \n",
       "\n",
       "   feature.english.dictionary.revision.diff.dict_word_prop_delta_sum  \\\n",
       "0                                           4.333333                   \n",
       "1                                           0.000000                   \n",
       "2                                           1.333333                   \n",
       "3                                          -3.663679                   \n",
       "4                                          -0.084034                   \n",
       "\n",
       "   feature.english.dictionary.revision.diff.dict_word_prop_delta_increase  \\\n",
       "0                                           4.333333                        \n",
       "1                                           0.000000                        \n",
       "2                                           1.333333                        \n",
       "3                                           1.015873                        \n",
       "4                                           0.058824                        \n",
       "\n",
       "   feature.english.dictionary.revision.diff.dict_word_prop_delta_decrease  \\\n",
       "0                                           0.000000                        \n",
       "1                                           0.000000                        \n",
       "2                                           0.000000                        \n",
       "3                                          -4.679552                        \n",
       "4                                          -0.142857                        \n",
       "\n",
       "   feature.english.dictionary.revision.diff.non_dict_word_delta_sum  \\\n",
       "0                                                  2                  \n",
       "1                                                  0                  \n",
       "2                                                  0                  \n",
       "3                                                 -1                  \n",
       "4                                                  0                  \n",
       "\n",
       "   feature.english.dictionary.revision.diff.non_dict_word_delta_increase  \\\n",
       "0                                                  2                       \n",
       "1                                                  0                       \n",
       "2                                                  0                       \n",
       "3                                                  0                       \n",
       "4                                                  0                       \n",
       "\n",
       "   feature.english.dictionary.revision.diff.non_dict_word_delta_decrease  \\\n",
       "0                                                  0                       \n",
       "1                                                  0                       \n",
       "2                                                  0                       \n",
       "3                                                 -1                       \n",
       "4                                                  0                       \n",
       "\n",
       "   feature.english.dictionary.revision.diff.non_dict_word_prop_delta_sum  \\\n",
       "0                                                2.0                       \n",
       "1                                                0.0                       \n",
       "2                                                0.0                       \n",
       "3                                               -0.2                       \n",
       "4                                                0.0                       \n",
       "\n",
       "   feature.english.dictionary.revision.diff.non_dict_word_prop_delta_increase  \\\n",
       "0                                                2.0                            \n",
       "1                                                0.0                            \n",
       "2                                                0.0                            \n",
       "3                                                0.0                            \n",
       "4                                                0.0                            \n",
       "\n",
       "   feature.english.dictionary.revision.diff.non_dict_word_prop_delta_decrease  \\\n",
       "0                                                0.0                            \n",
       "1                                                0.0                            \n",
       "2                                                0.0                            \n",
       "3                                               -0.2                            \n",
       "4                                                0.0                            \n",
       "\n",
       "   is_reverted  \n",
       "0        False  \n",
       "1        False  \n",
       "2        False  \n",
       "3        False  \n",
       "4        False  \n",
       "\n",
       "[5 rows x 81 columns]"
      ]
     },
     "execution_count": 641,
     "metadata": {},
     "output_type": "execute_result"
    }
   ],
   "source": [
    "features_df.head()"
   ]
  },
  {
   "cell_type": "code",
   "execution_count": 12,
   "metadata": {},
   "outputs": [
    {
     "name": "stderr",
     "output_type": "stream",
     "text": [
      "100%|██████████| 4005652/4005652 [03:34<00:00, 18674.65it/s]\n"
     ]
    }
   ],
   "source": [
    "# load in the rev_ids that correspond to the feature data\n",
    "# this is really slow, because it requires JSON decoding\n",
    "# this could be made faster by caching the result\n",
    "cache_filepath = os.path.join(labeled_revs_dir, 'sample3-features', 'sample3.mock.w_cache.2020-07-11T15:11:15Z.json')\n",
    "cache_rev_id_list = []\n",
    "with open(cache_filepath, 'r') as infile:\n",
    "    for line in tqdm(infile, total=len(features_df)):\n",
    "        rev = json.loads(line)\n",
    "        rev_id = rev['rev_id']\n",
    "        cache_rev_id_list.append(rev_id)"
   ]
  },
  {
   "cell_type": "code",
   "execution_count": 13,
   "metadata": {},
   "outputs": [],
   "source": [
    "assert len(cache_rev_id_list) == len(features_df)"
   ]
  },
  {
   "cell_type": "code",
   "execution_count": 14,
   "metadata": {},
   "outputs": [
    {
     "data": {
      "text/plain": [
       "4005602"
      ]
     },
     "execution_count": 14,
     "metadata": {},
     "output_type": "execute_result"
    }
   ],
   "source": [
    "cache_rev_id_set = set(cache_rev_id_list)\n",
    "len(cache_rev_id_set)"
   ]
  },
  {
   "cell_type": "code",
   "execution_count": 15,
   "metadata": {},
   "outputs": [
    {
     "data": {
      "text/plain": [
       "826425205"
      ]
     },
     "execution_count": 15,
     "metadata": {},
     "output_type": "execute_result"
    }
   ],
   "source": [
    "# use use the last revision in this same to figure out when the analysis end time should be\n",
    "last_rev = cache_rev_id_list[-1]\n",
    "last_rev"
   ]
  },
  {
   "cell_type": "code",
   "execution_count": 16,
   "metadata": {},
   "outputs": [],
   "source": [
    "# every rev_id in the cache should ALSO be in the rev_df\n",
    "assert len(cache_rev_id_set & set(rev_df.rev_id)) == len(cache_rev_id_set), len(cache_rev_id_set & set(rev_df.rev_id))"
   ]
  },
  {
   "cell_type": "code",
   "execution_count": 17,
   "metadata": {},
   "outputs": [
    {
     "name": "stdout",
     "output_type": "stream",
     "text": [
      "Starting analysis from 2018-01-01 00:00:00\n"
     ]
    }
   ],
   "source": [
    "# set the analysis start time to be the beginning of 2018\n",
    "analysis_start_date = datetime.fromisoformat('2018-01-01')\n",
    "analysis_start_date = analysis_start_date.replace(tzinfo=timezone.utc)\n",
    "analysis_start_timestamp = int(analysis_start_date.timestamp())\n",
    "print(f\"Starting analysis from {datetime.utcfromtimestamp(analysis_start_timestamp)}\")"
   ]
  },
  {
   "cell_type": "code",
   "execution_count": 18,
   "metadata": {},
   "outputs": [
    {
     "name": "stdout",
     "output_type": "stream",
     "text": [
      "Using revisions up to 2018-02-19 07:18:15\n"
     ]
    }
   ],
   "source": [
    "# note that this is less than 2 months of data right now!\n",
    "# we have 20-25 million downloaded, but this 4 million set should be enough to get going\n",
    "analysis_end_timestamp = rev_df[rev_df.rev_id == last_rev].rev_timestamp.iloc[0]\n",
    "print(f\"Using revisions up to {datetime.utcfromtimestamp(analysis_end_timestamp)}\")"
   ]
  },
  {
   "cell_type": "code",
   "execution_count": 19,
   "metadata": {},
   "outputs": [
    {
     "data": {
      "text/plain": [
       "4025634"
      ]
     },
     "execution_count": 19,
     "metadata": {},
     "output_type": "execute_result"
    }
   ],
   "source": [
    "# mostly to save memory, we trim out unneeded data in the rev_df\n",
    "rev_df = rev_df[(rev_df.rev_timestamp <= analysis_end_timestamp)&(rev_df.rev_timestamp >= analysis_start_timestamp)]\n",
    "len(rev_df)"
   ]
  },
  {
   "cell_type": "code",
   "execution_count": 20,
   "metadata": {},
   "outputs": [
    {
     "name": "stdout",
     "output_type": "stream",
     "text": [
      "Loaded revert data in 0:01:08.067346.\n"
     ]
    },
    {
     "data": {
      "text/plain": [
       "5992682"
      ]
     },
     "execution_count": 20,
     "metadata": {},
     "output_type": "execute_result"
    }
   ],
   "source": [
    "# Read the revert info\n",
    "# This dataframe contains additional data beyond what is in the rev_df\n",
    "s = datetime.now()\n",
    "stub_history_reverts_dir = os.path.join(derived_data_dir, 'stub-history-reverts')\n",
    "revert_df_filepath = os.path.join(stub_history_reverts_dir, 'revert_df.pkl')\n",
    "revert_df = pd.read_pickle(revert_df_filepath)\n",
    "print(f\"Loaded revert data in {datetime.now() - s}.\")\n",
    "len(revert_df)"
   ]
  },
  {
   "cell_type": "markdown",
   "metadata": {},
   "source": [
    "The most important info in the `revert_df` that isn't in the `rev_df` is the username info, which enables the identification of self-reverts.\n",
    "\n",
    "`revert_df` has one line per **revert** revision, compared to the `rev_df` which has one line per revision."
   ]
  },
  {
   "cell_type": "code",
   "execution_count": 21,
   "metadata": {},
   "outputs": [
    {
     "data": {
      "text/html": [
       "<div>\n",
       "<style scoped>\n",
       "    .dataframe tbody tr th:only-of-type {\n",
       "        vertical-align: middle;\n",
       "    }\n",
       "\n",
       "    .dataframe tbody tr th {\n",
       "        vertical-align: top;\n",
       "    }\n",
       "\n",
       "    .dataframe thead th {\n",
       "        text-align: right;\n",
       "    }\n",
       "</style>\n",
       "<table border=\"1\" class=\"dataframe\">\n",
       "  <thead>\n",
       "    <tr style=\"text-align: right;\">\n",
       "      <th></th>\n",
       "      <th>page_id</th>\n",
       "      <th>reverted_count</th>\n",
       "      <th>reverting_rev_id</th>\n",
       "      <th>reverting_timestamp</th>\n",
       "      <th>reverting_user_text</th>\n",
       "      <th>reverting_user_id</th>\n",
       "      <th>reverted_to_rev_id</th>\n",
       "      <th>reverted_to_timestamp</th>\n",
       "      <th>reverted_to_user_text</th>\n",
       "      <th>reverted_to_user_id</th>\n",
       "      <th>reverted_rev_ids</th>\n",
       "      <th>reverted_timestamps</th>\n",
       "      <th>reverted_user_texts</th>\n",
       "      <th>reverted_user_ids</th>\n",
       "      <th>reverting_user_is_anonymous</th>\n",
       "      <th>reverted_to_user_is_anonymous</th>\n",
       "      <th>reverted_users_is_anonymous</th>\n",
       "    </tr>\n",
       "  </thead>\n",
       "  <tbody>\n",
       "    <tr>\n",
       "      <th>0</th>\n",
       "      <td>18754764</td>\n",
       "      <td>1</td>\n",
       "      <td>902766646</td>\n",
       "      <td>1561105801</td>\n",
       "      <td>Malcolmxl5</td>\n",
       "      <td>4076676.0</td>\n",
       "      <td>874884880</td>\n",
       "      <td>1545481829</td>\n",
       "      <td>Hmains</td>\n",
       "      <td>508734.0</td>\n",
       "      <td>[900328973]</td>\n",
       "      <td>[1559706521]</td>\n",
       "      <td>[2601:199:417F:8EED:A0B0:A6B5:3457:A9B4]</td>\n",
       "      <td>[None]</td>\n",
       "      <td>False</td>\n",
       "      <td>False</td>\n",
       "      <td>[True]</td>\n",
       "    </tr>\n",
       "    <tr>\n",
       "      <th>1</th>\n",
       "      <td>18754831</td>\n",
       "      <td>2</td>\n",
       "      <td>818980415</td>\n",
       "      <td>1515284429</td>\n",
       "      <td>BrownHairedGirl</td>\n",
       "      <td>754619.0</td>\n",
       "      <td>743241620</td>\n",
       "      <td>1475970276</td>\n",
       "      <td>Emir of Wikipedia</td>\n",
       "      <td>28856560.0</td>\n",
       "      <td>[757539852, 775847398]</td>\n",
       "      <td>[1483188655, 1492452285]</td>\n",
       "      <td>[Ser Amantio di Nicolao, Emir of Wikipedia]</td>\n",
       "      <td>[753665, 28856560]</td>\n",
       "      <td>False</td>\n",
       "      <td>False</td>\n",
       "      <td>[False, False]</td>\n",
       "    </tr>\n",
       "    <tr>\n",
       "      <th>2</th>\n",
       "      <td>18754831</td>\n",
       "      <td>1</td>\n",
       "      <td>932235094</td>\n",
       "      <td>1577204938</td>\n",
       "      <td>UA3</td>\n",
       "      <td>25923702.0</td>\n",
       "      <td>918313790</td>\n",
       "      <td>1569654385</td>\n",
       "      <td>Monkbot</td>\n",
       "      <td>20483999.0</td>\n",
       "      <td>[932233860]</td>\n",
       "      <td>[1577204033]</td>\n",
       "      <td>[Qowa]</td>\n",
       "      <td>[37692801]</td>\n",
       "      <td>False</td>\n",
       "      <td>False</td>\n",
       "      <td>[False]</td>\n",
       "    </tr>\n",
       "    <tr>\n",
       "      <th>3</th>\n",
       "      <td>18754864</td>\n",
       "      <td>1</td>\n",
       "      <td>853153047</td>\n",
       "      <td>1533256539</td>\n",
       "      <td>Beetstra</td>\n",
       "      <td>855858.0</td>\n",
       "      <td>831996274</td>\n",
       "      <td>1521801439</td>\n",
       "      <td>KolbertBot</td>\n",
       "      <td>31691822.0</td>\n",
       "      <td>[846149041]</td>\n",
       "      <td>[1529188413]</td>\n",
       "      <td>[Lepidoptera~plwiki]</td>\n",
       "      <td>[24892933]</td>\n",
       "      <td>False</td>\n",
       "      <td>False</td>\n",
       "      <td>[False]</td>\n",
       "    </tr>\n",
       "    <tr>\n",
       "      <th>4</th>\n",
       "      <td>18754916</td>\n",
       "      <td>1</td>\n",
       "      <td>882182106</td>\n",
       "      <td>1549557841</td>\n",
       "      <td>Number 57</td>\n",
       "      <td>327289.0</td>\n",
       "      <td>847748130</td>\n",
       "      <td>1530126769</td>\n",
       "      <td>CitationCleanerBot</td>\n",
       "      <td>15270283.0</td>\n",
       "      <td>[882125775]</td>\n",
       "      <td>[1549520001]</td>\n",
       "      <td>[Huldra]</td>\n",
       "      <td>[410653]</td>\n",
       "      <td>False</td>\n",
       "      <td>False</td>\n",
       "      <td>[False]</td>\n",
       "    </tr>\n",
       "  </tbody>\n",
       "</table>\n",
       "</div>"
      ],
      "text/plain": [
       "    page_id  reverted_count  reverting_rev_id  reverting_timestamp  \\\n",
       "0  18754764               1         902766646           1561105801   \n",
       "1  18754831               2         818980415           1515284429   \n",
       "2  18754831               1         932235094           1577204938   \n",
       "3  18754864               1         853153047           1533256539   \n",
       "4  18754916               1         882182106           1549557841   \n",
       "\n",
       "  reverting_user_text  reverting_user_id  reverted_to_rev_id  \\\n",
       "0          Malcolmxl5          4076676.0           874884880   \n",
       "1     BrownHairedGirl           754619.0           743241620   \n",
       "2                 UA3         25923702.0           918313790   \n",
       "3            Beetstra           855858.0           831996274   \n",
       "4           Number 57           327289.0           847748130   \n",
       "\n",
       "   reverted_to_timestamp reverted_to_user_text  reverted_to_user_id  \\\n",
       "0             1545481829                Hmains             508734.0   \n",
       "1             1475970276     Emir of Wikipedia           28856560.0   \n",
       "2             1569654385               Monkbot           20483999.0   \n",
       "3             1521801439            KolbertBot           31691822.0   \n",
       "4             1530126769    CitationCleanerBot           15270283.0   \n",
       "\n",
       "         reverted_rev_ids       reverted_timestamps  \\\n",
       "0             [900328973]              [1559706521]   \n",
       "1  [757539852, 775847398]  [1483188655, 1492452285]   \n",
       "2             [932233860]              [1577204033]   \n",
       "3             [846149041]              [1529188413]   \n",
       "4             [882125775]              [1549520001]   \n",
       "\n",
       "                           reverted_user_texts   reverted_user_ids  \\\n",
       "0     [2601:199:417F:8EED:A0B0:A6B5:3457:A9B4]              [None]   \n",
       "1  [Ser Amantio di Nicolao, Emir of Wikipedia]  [753665, 28856560]   \n",
       "2                                       [Qowa]          [37692801]   \n",
       "3                         [Lepidoptera~plwiki]          [24892933]   \n",
       "4                                     [Huldra]            [410653]   \n",
       "\n",
       "   reverting_user_is_anonymous  reverted_to_user_is_anonymous  \\\n",
       "0                        False                          False   \n",
       "1                        False                          False   \n",
       "2                        False                          False   \n",
       "3                        False                          False   \n",
       "4                        False                          False   \n",
       "\n",
       "  reverted_users_is_anonymous  \n",
       "0                      [True]  \n",
       "1              [False, False]  \n",
       "2                     [False]  \n",
       "3                     [False]  \n",
       "4                     [False]  "
      ]
     },
     "execution_count": 21,
     "metadata": {},
     "output_type": "execute_result"
    }
   ],
   "source": [
    "revert_df.head()"
   ]
  },
  {
   "cell_type": "code",
   "execution_count": 22,
   "metadata": {},
   "outputs": [
    {
     "name": "stderr",
     "output_type": "stream",
     "text": [
      "100%|██████████| 5992682/5992682 [00:20<00:00, 292460.22it/s]\n"
     ]
    }
   ],
   "source": [
    "# identify self-reverts\n",
    "is_self_revert_list = []\n",
    "for row in tqdm(revert_df.itertuples(), total=len(revert_df)):\n",
    "    is_self_revert = row.reverting_user_text in row.reverted_user_texts\n",
    "    is_self_revert_list.append(is_self_revert)\n",
    "revert_df['is_self_revert'] = is_self_revert_list"
   ]
  },
  {
   "cell_type": "code",
   "execution_count": 23,
   "metadata": {},
   "outputs": [
    {
     "data": {
      "text/plain": [
       "(427375, 0.07131614859590414)"
      ]
     },
     "execution_count": 23,
     "metadata": {},
     "output_type": "execute_result"
    }
   ],
   "source": [
    "# only keep reverts that appear in the (filtered) rev_df\n",
    "analysis_rev_ids = set(rev_df.rev_id)\n",
    "revert_subset = revert_df[revert_df.reverting_rev_id.isin(analysis_rev_ids)].copy()\n",
    "len(revert_subset), len(revert_subset) / len(revert_df)"
   ]
  },
  {
   "cell_type": "code",
   "execution_count": 24,
   "metadata": {},
   "outputs": [
    {
     "name": "stderr",
     "output_type": "stream",
     "text": [
      "100%|██████████| 377374/377374 [00:02<00:00, 178143.07it/s]\n"
     ]
    },
    {
     "data": {
      "text/plain": [
       "501159"
      ]
     },
     "execution_count": 24,
     "metadata": {},
     "output_type": "execute_result"
    }
   ],
   "source": [
    "# now compute the outcome, which is a variant of `rev_df.is_reverted`\n",
    "reverted_rev_ids = set()\n",
    "# only count it as a reverted revision if it was not a self-revert\n",
    "# and it was reverted within one week\n",
    "threshold = 60 * 60 * 24 * 7 \n",
    "rs = revert_subset[~revert_subset.is_self_revert]\n",
    "for row in tqdm(rs.itertuples(), total=len(rs)):\n",
    "    reverting_timestamp = row.reverting_timestamp\n",
    "    for rev_id, timestamp in zip(row.reverted_rev_ids, row.reverted_timestamps):\n",
    "        if reverting_timestamp - timestamp <= threshold:\n",
    "            reverted_rev_ids.add(rev_id)\n",
    "len(reverted_rev_ids)"
   ]
  },
  {
   "cell_type": "code",
   "execution_count": 25,
   "metadata": {},
   "outputs": [],
   "source": [
    "# just for fun, we'll compare how the revised revert outcome we computed in the cell above compares to \n",
    "# the broader definition of reverting\n",
    "rev_df['is_reverted_for_damage'] = rev_df.rev_id.map(lambda rev_id: rev_id in reverted_rev_ids)"
   ]
  },
  {
   "cell_type": "code",
   "execution_count": 26,
   "metadata": {},
   "outputs": [
    {
     "data": {
      "text/html": [
       "<div>\n",
       "<style scoped>\n",
       "    .dataframe tbody tr th:only-of-type {\n",
       "        vertical-align: middle;\n",
       "    }\n",
       "\n",
       "    .dataframe tbody tr th {\n",
       "        vertical-align: top;\n",
       "    }\n",
       "\n",
       "    .dataframe thead th {\n",
       "        text-align: right;\n",
       "    }\n",
       "</style>\n",
       "<table border=\"1\" class=\"dataframe\">\n",
       "  <thead>\n",
       "    <tr style=\"text-align: right;\">\n",
       "      <th>is_reverted_for_damage</th>\n",
       "      <th>False</th>\n",
       "      <th>True</th>\n",
       "      <th>All</th>\n",
       "    </tr>\n",
       "    <tr>\n",
       "      <th>is_reverted</th>\n",
       "      <th></th>\n",
       "      <th></th>\n",
       "      <th></th>\n",
       "    </tr>\n",
       "  </thead>\n",
       "  <tbody>\n",
       "    <tr>\n",
       "      <th>0</th>\n",
       "      <td>3526287</td>\n",
       "      <td>0</td>\n",
       "      <td>3526287</td>\n",
       "    </tr>\n",
       "    <tr>\n",
       "      <th>1</th>\n",
       "      <td>84251</td>\n",
       "      <td>415096</td>\n",
       "      <td>499347</td>\n",
       "    </tr>\n",
       "    <tr>\n",
       "      <th>All</th>\n",
       "      <td>3610538</td>\n",
       "      <td>415096</td>\n",
       "      <td>4025634</td>\n",
       "    </tr>\n",
       "  </tbody>\n",
       "</table>\n",
       "</div>"
      ],
      "text/plain": [
       "is_reverted_for_damage    False    True      All\n",
       "is_reverted                                     \n",
       "0                       3526287       0  3526287\n",
       "1                         84251  415096   499347\n",
       "All                     3610538  415096  4025634"
      ]
     },
     "execution_count": 26,
     "metadata": {},
     "output_type": "execute_result"
    }
   ],
   "source": [
    "# our revised revert measure trims off 84251 of 499347 (16.9%) of the total reverts\n",
    "# as expected, all revisions with is_reverted == 0 also have is_reverted_for_damage == 1\n",
    "pd.crosstab(rev_df.is_reverted, rev_df.is_reverted_for_damage, margins=True)"
   ]
  },
  {
   "cell_type": "code",
   "execution_count": 27,
   "metadata": {},
   "outputs": [
    {
     "data": {
      "text/plain": [
       "0.16872235139091654"
      ]
     },
     "execution_count": 27,
     "metadata": {},
     "output_type": "execute_result"
    }
   ],
   "source": [
    "84251 / 499347"
   ]
  },
  {
   "cell_type": "markdown",
   "metadata": {},
   "source": [
    "#### Create the actual outcome variable and add it to the features dataframe\n",
    "\n",
    "`features_df` contains only the features, not the revision ids. We create a binary outcome column based on the order of the revisions as they were read from the cache (and stored in `cache_rev_id_list`)."
   ]
  },
  {
   "cell_type": "code",
   "execution_count": 28,
   "metadata": {},
   "outputs": [
    {
     "data": {
      "text/plain": [
       "(411650, 0.10276728981948506)"
      ]
     },
     "execution_count": 28,
     "metadata": {},
     "output_type": "execute_result"
    }
   ],
   "source": [
    "is_reverted = [rev_id in reverted_rev_ids for rev_id in cache_rev_id_list]\n",
    "features_df['is_reverted'] = is_reverted\n",
    "np.sum(features_df.is_reverted), np.sum(features_df.is_reverted) / len(features_df)"
   ]
  },
  {
   "cell_type": "code",
   "execution_count": 652,
   "metadata": {},
   "outputs": [
    {
     "data": {
      "text/plain": [
       "4005652"
      ]
     },
     "execution_count": 652,
     "metadata": {},
     "output_type": "execute_result"
    }
   ],
   "source": [
    "len(features_df)"
   ]
  },
  {
   "cell_type": "markdown",
   "metadata": {},
   "source": [
    "### Fit classification models"
   ]
  },
  {
   "cell_type": "markdown",
   "metadata": {},
   "source": [
    "#### Training and test data: first trying with test as last 20% of revisions"
   ]
  },
  {
   "cell_type": "code",
   "execution_count": 649,
   "metadata": {},
   "outputs": [],
   "source": [
    "#Train/test split: test_a is last 20% of revisions, test_b is first 20%\n",
    "train_a = features_df.head(math.floor(len(features_df)*.8))\n",
    "test_a = features_df.tail(math.ceil(len(features_df)*.2))\n",
    "\n",
    "train_b = features_df.tail(math.floor(len(features_df)*.8))\n",
    "test_b = features_df.head(math.ceil(len(features_df)*.2))"
   ]
  },
  {
   "cell_type": "code",
   "execution_count": 651,
   "metadata": {},
   "outputs": [
    {
     "name": "stdout",
     "output_type": "stream",
     "text": [
      "(3204521, 81)\n",
      "(801131, 81)\n",
      "(3204521, 81)\n",
      "(801131, 81)\n"
     ]
    }
   ],
   "source": [
    "print(train_a.shape)\n",
    "print(test_a.shape)\n",
    "print(train_b.shape)\n",
    "print(test_b.shape)"
   ]
  },
  {
   "cell_type": "code",
   "execution_count": 653,
   "metadata": {},
   "outputs": [],
   "source": [
    "# for the notebook use a sample of 10,000 from train_a\n",
    "train_a_sample = train_a.sample(n=10000)\n",
    "\n",
    "# scale X vars for all four data sets and sample\n",
    "X_train_a_sample = sklearn.preprocessing.scale(train_a_sample.iloc[:,:-1])\n",
    "X_train_a = sklearn.preprocessing.scale(train_a.iloc[:,:-1])\n",
    "X_test_a = sklearn.preprocessing.scale(test_a.iloc[:,:-1])\n",
    "X_train_b = sklearn.preprocessing.scale(train_b.iloc[:,:-1])\n",
    "X_test_b = sklearn.preprocessing.scale(test_b.iloc[:,:-1])"
   ]
  },
  {
   "cell_type": "code",
   "execution_count": 656,
   "metadata": {},
   "outputs": [
    {
     "data": {
      "text/plain": [
       "(10000, 81)"
      ]
     },
     "execution_count": 656,
     "metadata": {},
     "output_type": "execute_result"
    }
   ],
   "source": [
    "train_a_sample.shape"
   ]
  },
  {
   "cell_type": "markdown",
   "metadata": {},
   "source": [
    "#### Manually trying a few combinations of hyperparameters"
   ]
  },
  {
   "cell_type": "code",
   "execution_count": 719,
   "metadata": {},
   "outputs": [],
   "source": [
    "# Zach's parameters\n",
    "clfGB_a = sklearn.ensemble.GradientBoostingClassifier(\n",
    "    learning_rate=0.01, \n",
    "    n_estimators=700, \n",
    "    max_features='log2', \n",
    "    max_depth=5\n",
    ")\n",
    "clfLR_a = sklearn.linear_model.LogisticRegression(\n",
    "    penalty='l2',\n",
    "    C=1.0,\n",
    "    solver='lbfgs',\n",
    "    max_iter = 1000\n",
    ")\n",
    "\n",
    "# GB: max depth 10\n",
    "clfGB_1 = sklearn.ensemble.GradientBoostingClassifier(\n",
    "    learning_rate=0.01, \n",
    "    n_estimators=700, \n",
    "    max_features='log2',\n",
    "    max_depth=10\n",
    ")\n",
    "# GB: max depth = 5, max_features = 25\n",
    "clfGB_2 = sklearn.ensemble.GradientBoostingClassifier(\n",
    "    learning_rate=0.01, \n",
    "    n_estimators=700, \n",
    "    max_features=25,\n",
    "    max_depth=5\n",
    ")\n",
    "# GB: max depth = 5, max_features = 50\n",
    "clfGB_3 = sklearn.ensemble.GradientBoostingClassifier(\n",
    "    learning_rate=0.01, \n",
    "    n_estimators=700, \n",
    "    max_features=50,\n",
    "    max_depth=5\n",
    ")\n",
    "\n",
    "#### 8/16/20 Try these again if needed -- 'none' penalty did not work in old version of scikit-learn\n",
    "# LR: C = 1, penalty = none\n",
    "clfLR_1 = sklearn.linear_model.LogisticRegression(\n",
    "    penalty='none',\n",
    "    C=1,\n",
    "    solver='lbfgs',\n",
    "    max_iter = 1000\n",
    ")\n",
    "# LR: C = 0.25\n",
    "clfLR_2 = sklearn.linear_model.LogisticRegression(\n",
    "    penalty='l2',\n",
    "    C=0.25,\n",
    "    solver='lbfgs',\n",
    "    max_iter = 1000\n",
    ")"
   ]
  },
  {
   "cell_type": "code",
   "execution_count": 720,
   "metadata": {
    "scrolled": true
   },
   "outputs": [],
   "source": [
    "#Use train_a_sample and test_a\n",
    "X_train = X_train_a_sample\n",
    "train = train_a_sample\n",
    "X_test = X_test_a\n",
    "test = test_a"
   ]
  },
  {
   "cell_type": "code",
   "execution_count": 721,
   "metadata": {
    "collapsed": true
   },
   "outputs": [
    {
     "name": "stdout",
     "output_type": "stream",
     "text": [
      "GradientBoostingClassifier(learning_rate=0.01, max_depth=5, max_features='log2',\n",
      "                           n_estimators=700)\n",
      "Training completed in 0:00:42.440083.\n",
      "Calibration completed in 0:02:42.629070.\n",
      "   test_pred  test_proba  test_label  test_calib\n",
      "0      False    0.283173       False    0.212092\n",
      "1      False    0.066261       False    0.055570\n",
      "2      False    0.213318       False    0.205605\n",
      "3      False    0.026192       False    0.025705\n",
      "4      False    0.015213       False    0.008328\n",
      "/export/scratch2/wastv004/wiki-ores-feedback/GB_a.pkl\n",
      "GradientBoostingClassifier(learning_rate=0.01, max_depth=10,\n",
      "                           max_features='log2', n_estimators=700)\n",
      "Training completed in 0:01:29.603636.\n",
      "Calibration completed in 0:06:07.854522.\n",
      "   test_pred  test_proba  test_label  test_calib\n",
      "0      False    0.102765       False    0.222500\n",
      "1      False    0.015715       False    0.043577\n",
      "2      False    0.114356       False    0.211867\n",
      "3      False    0.005167       False    0.014488\n",
      "4      False    0.003174       False    0.005069\n",
      "/export/scratch2/wastv004/wiki-ores-feedback/GB_1.pkl\n",
      "GradientBoostingClassifier(learning_rate=0.01, max_depth=5, max_features=25,\n",
      "                           n_estimators=700)\n",
      "Training completed in 0:00:59.355919.\n",
      "Calibration completed in 0:04:10.622192.\n",
      "   test_pred  test_proba  test_label  test_calib\n",
      "0      False    0.287169       False    0.263992\n",
      "1      False    0.052777       False    0.057345\n",
      "2      False    0.214823       False    0.240922\n",
      "3      False    0.025365       False    0.031752\n",
      "4      False    0.013888       False    0.007942\n",
      "/export/scratch2/wastv004/wiki-ores-feedback/GB_2.pkl\n",
      "GradientBoostingClassifier(learning_rate=0.01, max_depth=5, max_features=50,\n",
      "                           n_estimators=700)\n",
      "Training completed in 0:01:21.399406.\n",
      "Calibration completed in 0:06:00.005983.\n",
      "   test_pred  test_proba  test_label  test_calib\n",
      "0      False    0.152693       False    0.233144\n",
      "1      False    0.053728       False    0.057971\n",
      "2      False    0.332970       False    0.237595\n",
      "3      False    0.021763       False    0.043665\n",
      "4      False    0.013767       False    0.007843\n",
      "/export/scratch2/wastv004/wiki-ores-feedback/GB_3.pkl\n"
     ]
    }
   ],
   "source": [
    "# Train GB models\n",
    "# Use CalibratedClassifierCV, isotonic regression, to produce calibrated probability predictions for the test data\n",
    "for clf, fname in [[clfGB_a, 'GB_a_sample'], [clfGB_1, 'GB_1_sample'], [clfGB_2, 'GB_2_sample'], [clfGB_3, 'GB_3_sample']]:\n",
    "    clf_results = pd.DataFrame()\n",
    "    s = datetime.now()\n",
    "    print(clf)\n",
    "\n",
    "    # train the model\n",
    "    md = clf.fit(X_train, train.iloc[:,-1])\n",
    "    \n",
    "    \n",
    "    # predict with the model\n",
    "    y_pred_test = md.predict(X_test)\n",
    "    y_pred_test_proba = md.predict_proba(X_test)[:,1]\n",
    "    print(f\"Training completed in {datetime.now() - s}.\")\n",
    "    \n",
    "    # obtain calibrated probabilities\n",
    "    ccCV = sklearn.calibration.CalibratedClassifierCV(md, method = 'isotonic', cv = 5)\n",
    "    md_cc = ccCV.fit(X_train, train.iloc[:,-1])\n",
    "    y_pred_test_calib = md_cc.predict_proba(X_test)[:,1]\n",
    "    print(f\"Calibration completed in {datetime.now() - s}.\")\n",
    "\n",
    "    # save results for this classifier in a dataframe\n",
    "    clf_results['test_pred'] = y_pred_test\n",
    "    clf_results['test_proba'] = y_pred_test_proba\n",
    "    clf_results['test_label'] = np.array(test['is_reverted'])\n",
    "    clf_results['test_calib'] = y_pred_test_calib\n",
    "    print(clf_results.head())\n",
    "    \n",
    "    # save results dataframe to file\n",
    "    clf_filepath = os.path.join('/export/scratch2/wastv004/wiki-ores-feedback/', fname + '.pkl')\n",
    "    print(clf_filepath)\n",
    "    \n",
    "    clf_results.to_pickle(clf_filepath)"
   ]
  },
  {
   "cell_type": "code",
   "execution_count": 722,
   "metadata": {
    "collapsed": true
   },
   "outputs": [
    {
     "name": "stdout",
     "output_type": "stream",
     "text": [
      "LogisticRegression(max_iter=1000)\n",
      "Training completed in 0:00:00.474241.\n",
      "   test_pred  test_calib  test_label\n",
      "0      False    0.345328       False\n",
      "1      False    0.038675       False\n",
      "2      False    0.252290       False\n",
      "3      False    0.024526       False\n",
      "4      False    0.008796       False\n",
      "/export/scratch2/wastv004/wiki-ores-feedback/LR_a.pkl\n",
      "LogisticRegression(C=0.5, max_iter=1000)\n",
      "Training completed in 0:00:00.331411.\n",
      "   test_pred  test_calib  test_label\n",
      "0      False    0.335969       False\n",
      "1      False    0.038130       False\n",
      "2      False    0.256969       False\n",
      "3      False    0.023922       False\n",
      "4      False    0.008849       False\n",
      "/export/scratch2/wastv004/wiki-ores-feedback/LR_1.pkl\n",
      "LogisticRegression(C=0.25, max_iter=1000)\n",
      "Training completed in 0:00:00.308575.\n",
      "   test_pred  test_calib  test_label\n",
      "0      False    0.329970       False\n",
      "1      False    0.038437       False\n",
      "2      False    0.254584       False\n",
      "3      False    0.023642       False\n",
      "4      False    0.009013       False\n",
      "/export/scratch2/wastv004/wiki-ores-feedback/LR_2.pkl\n"
     ]
    }
   ],
   "source": [
    "# Train LR models\n",
    "for clf, fname in [[clfLR_a, 'LR_a_sample'], [clfLR_1, 'LR_1_sample'], [clfLR_2, 'LR_2_sample']]:\n",
    "    clf_results = pd.DataFrame()\n",
    "    s = datetime.now()\n",
    "    print(clf)\n",
    "    \n",
    "    # train the model\n",
    "    md = clf.fit(X_train, train.iloc[:,-1])\n",
    "    \n",
    "    # predict with the model\n",
    "    y_pred_test = md.predict(X_test)\n",
    "    y_pred_test_proba = md.predict_proba(X_test)[:,1]\n",
    "    \n",
    "    print(f\"Training completed in {datetime.now() - s}.\")\n",
    "\n",
    "    # save results for this classifier in a dataframe\n",
    "    clf_results['test_pred'] = y_pred_test\n",
    "    clf_results['test_calib'] = y_pred_test_proba\n",
    "    clf_results['test_label'] = np.array(test['is_reverted'])\n",
    "    \n",
    "    print(clf_results.head())\n",
    "    \n",
    "    # save results dataframe to file\n",
    "    clf_filepath = os.path.join('/export/scratch2/wastv004/wiki-ores-feedback/', fname + '.pkl')\n",
    "    print(clf_filepath)\n",
    "    \n",
    "    clf_results.to_pickle(clf_filepath)"
   ]
  },
  {
   "cell_type": "markdown",
   "metadata": {},
   "source": [
    "### Calibration, F-measure, AUC, Hosmer-Lemeshow test\n",
    "Importing saved data"
   ]
  },
  {
   "cell_type": "code",
   "execution_count": 748,
   "metadata": {},
   "outputs": [],
   "source": [
    "GBa_results = pd.read_pickle('/export/scratch2/wastv004/wiki-ores-feedback/GB_a.pkl')\n",
    "GB1_results = pd.read_pickle('/export/scratch2/wastv004/wiki-ores-feedback/GB_1.pkl')\n",
    "GB2_results = pd.read_pickle('/export/scratch2/wastv004/wiki-ores-feedback/GB_2.pkl')\n",
    "GB3_results = pd.read_pickle('/export/scratch2/wastv004/wiki-ores-feedback/GB_3.pkl')\n",
    "\n",
    "LRa_results = pd.read_pickle('/export/scratch2/wastv004/wiki-ores-feedback/LR_a.pkl')\n",
    "#LR1_results = pd.read_pickle('/export/scratch2/wastv004/wiki-ores-feedback/LR_1_sample.pkl')\n",
    "#LR2_results = pd.read_pickle('/export/scratch2/wastv004/wiki-ores-feedback/LR_2_sample.pkl')"
   ]
  },
  {
   "cell_type": "code",
   "execution_count": 749,
   "metadata": {},
   "outputs": [
    {
     "data": {
      "text/html": [
       "<div>\n",
       "<style scoped>\n",
       "    .dataframe tbody tr th:only-of-type {\n",
       "        vertical-align: middle;\n",
       "    }\n",
       "\n",
       "    .dataframe tbody tr th {\n",
       "        vertical-align: top;\n",
       "    }\n",
       "\n",
       "    .dataframe thead th {\n",
       "        text-align: right;\n",
       "    }\n",
       "</style>\n",
       "<table border=\"1\" class=\"dataframe\">\n",
       "  <thead>\n",
       "    <tr style=\"text-align: right;\">\n",
       "      <th></th>\n",
       "      <th>test_pred</th>\n",
       "      <th>test_proba</th>\n",
       "      <th>test_label</th>\n",
       "      <th>test_calib</th>\n",
       "    </tr>\n",
       "  </thead>\n",
       "  <tbody>\n",
       "    <tr>\n",
       "      <th>0</th>\n",
       "      <td>False</td>\n",
       "      <td>0.172227</td>\n",
       "      <td>False</td>\n",
       "      <td>0.163061</td>\n",
       "    </tr>\n",
       "    <tr>\n",
       "      <th>1</th>\n",
       "      <td>False</td>\n",
       "      <td>0.053503</td>\n",
       "      <td>False</td>\n",
       "      <td>0.057279</td>\n",
       "    </tr>\n",
       "    <tr>\n",
       "      <th>2</th>\n",
       "      <td>False</td>\n",
       "      <td>0.216023</td>\n",
       "      <td>False</td>\n",
       "      <td>0.228405</td>\n",
       "    </tr>\n",
       "    <tr>\n",
       "      <th>3</th>\n",
       "      <td>False</td>\n",
       "      <td>0.060946</td>\n",
       "      <td>False</td>\n",
       "      <td>0.065177</td>\n",
       "    </tr>\n",
       "    <tr>\n",
       "      <th>4</th>\n",
       "      <td>False</td>\n",
       "      <td>0.011038</td>\n",
       "      <td>False</td>\n",
       "      <td>0.004507</td>\n",
       "    </tr>\n",
       "  </tbody>\n",
       "</table>\n",
       "</div>"
      ],
      "text/plain": [
       "   test_pred  test_proba  test_label  test_calib\n",
       "0      False    0.172227       False    0.163061\n",
       "1      False    0.053503       False    0.057279\n",
       "2      False    0.216023       False    0.228405\n",
       "3      False    0.060946       False    0.065177\n",
       "4      False    0.011038       False    0.004507"
      ]
     },
     "execution_count": 749,
     "metadata": {},
     "output_type": "execute_result"
    }
   ],
   "source": [
    "GB3_results.head()"
   ]
  },
  {
   "cell_type": "code",
   "execution_count": 757,
   "metadata": {},
   "outputs": [],
   "source": [
    "# Hosmer-Lemeshow goodness of fit test\n",
    "from scipy.stats import chi2, norm\n",
    "def hl_test_b(data, g):\n",
    "    '''\n",
    "    Input: dataframe(data), integer(num of subgroups divided)\n",
    "    \n",
    "    Output: float\n",
    "    '''\n",
    "    data_st = data.sort_values('test_calib')\n",
    "    data_st['dcl'] = pd.qcut(data_st['test_calib'], g)\n",
    "    \n",
    "    \n",
    "    o_true = data_st['test_label'].groupby(data_st.dcl).sum()\n",
    "    #count() gives count of non-NA cells\n",
    "    o_t = data_st['test_label'].groupby(data_st.dcl).count()\n",
    "    o_false = o_t - o_true\n",
    "    #print('Observed True')\n",
    "    #print(o_true)\n",
    "    #print('Observed Total')\n",
    "    #print(o_t)\n",
    "    #print('Total \"True\" labels: {}'.format(o_true.sum()))\n",
    "    #print('Total \"False\" labels: {}'.format(o_false.sum()))\n",
    "    #print('Total observations: {}'.format(o_t.sum()))\n",
    "    \n",
    "    e_true = data_st['test_calib'].groupby(data_st.dcl).sum()\n",
    "    e_t = data_st['test_calib'].groupby(data_st.dcl).count()\n",
    "    e_false = e_t - e_true\n",
    "    #print('Expected True')\n",
    "    #print(e_true)\n",
    "    #print('Expected Total')\n",
    "    #print(e_t)\n",
    "    \n",
    "    hltest_list = ( ((o_true - e_true)**2 / e_true) + ((o_false - e_false)**2 / e_false) )\n",
    "    hltest = hltest_list.sum()\n",
    "    pval = 1 - chi2.cdf(hltest, g-2)\n",
    "    \n",
    "    degfree = g-2\n",
    "    \n",
    "    #print('\\n HL-chi2({}): {}, p-value: {}\\n'.format(degfree, hltest, pval))\n",
    "    return hltest"
   ]
  },
  {
   "cell_type": "code",
   "execution_count": 768,
   "metadata": {},
   "outputs": [
    {
     "name": "stdout",
     "output_type": "stream",
     "text": [
      "GBa (maxfeatures: ~6, maxdepth: 5)\n",
      "              precision    recall  f1-score   support\n",
      "\n",
      "       False       0.92      0.99      0.96    727656\n",
      "        True       0.77      0.19      0.31     73475\n",
      "\n",
      "    accuracy                           0.92    801131\n",
      "   macro avg       0.85      0.59      0.63    801131\n",
      "weighted avg       0.91      0.92      0.90    801131\n",
      "\n",
      "GB1 (maxfeatures: ~6, maxdepth: 10)\n",
      "              precision    recall  f1-score   support\n",
      "\n",
      "       False       0.93      0.98      0.96    727656\n",
      "        True       0.67      0.32      0.43     73475\n",
      "\n",
      "    accuracy                           0.92    801131\n",
      "   macro avg       0.80      0.65      0.69    801131\n",
      "weighted avg       0.91      0.92      0.91    801131\n",
      "\n",
      "GB2 (maxfeatures: 25, maxdepth: 5)\n",
      "              precision    recall  f1-score   support\n",
      "\n",
      "       False       0.93      0.99      0.96    727656\n",
      "        True       0.74      0.24      0.36     73475\n",
      "\n",
      "    accuracy                           0.92    801131\n",
      "   macro avg       0.84      0.61      0.66    801131\n",
      "weighted avg       0.91      0.92      0.90    801131\n",
      "\n",
      "GB3 (maxfeatures: 50, maxdepth: 5)\n",
      "              precision    recall  f1-score   support\n",
      "\n",
      "       False       0.93      0.99      0.96    727656\n",
      "        True       0.74      0.24      0.37     73475\n",
      "\n",
      "    accuracy                           0.92    801131\n",
      "   macro avg       0.83      0.62      0.66    801131\n",
      "weighted avg       0.91      0.92      0.90    801131\n",
      "\n",
      "LRa\n",
      "              precision    recall  f1-score   support\n",
      "\n",
      "       False       0.92      0.99      0.95    727656\n",
      "        True       0.57      0.16      0.25     73475\n",
      "\n",
      "    accuracy                           0.91    801131\n",
      "   macro avg       0.75      0.57      0.60    801131\n",
      "weighted avg       0.89      0.91      0.89    801131\n",
      "\n"
     ]
    }
   ],
   "source": [
    "clf_eval_results = {}\n",
    "#[clfLR_1, LR1_results, 'LR1'], [clfLR_2, LR2_results, 'LR2']\n",
    "for clf, results, label in [[clfGB_a, GBa_results, 'GBa (maxfeatures: ~6, maxdepth: 5)'], [clfGB_1, GB1_results, 'GB1 (maxfeatures: ~6, maxdepth: 10)'], [clfGB_2, GB2_results, 'GB2 (maxfeatures: 25, maxdepth: 5)'], [clfGB_3, GB3_results, 'GB3 (maxfeatures: 50, maxdepth: 5)'],\n",
    "                            [clfLR_a, LRa_results, 'LRa']]:\n",
    "    print(label)\n",
    "    # calibration statistic, F1 score, and AUC\n",
    "    auc = sklearn.metrics.roc_auc_score(results['test_label'], results['test_calib'])\n",
    "    prf1 = sklearn.metrics.precision_recall_fscore_support(results['test_label'], results['test_pred'])\n",
    "    #hl = hl_test_b(results, 5)\n",
    "    print(sklearn.metrics.classification_report(results['test_label'], results['test_pred']))\n",
    "\n",
    "    clf_eval_results[label] = {'auc': auc, 'prf1': prf1}"
   ]
  },
  {
   "cell_type": "code",
   "execution_count": 769,
   "metadata": {},
   "outputs": [
    {
     "name": "stdout",
     "output_type": "stream",
     "text": [
      "GBa (maxfeatures: ~6, maxdepth: 5); validation ROC AUC: 0.8798; % reverted; 0.10199259115265978\n",
      "GB1 (maxfeatures: ~6, maxdepth: 10); validation ROC AUC: 0.8871; % reverted; 0.12271254629342729\n",
      "GB2 (maxfeatures: 25, maxdepth: 5); validation ROC AUC: 0.8811; % reverted; 0.10172537067594671\n",
      "GB3 (maxfeatures: 50, maxdepth: 5); validation ROC AUC: 0.8819; % reverted; 0.10254216827158859\n",
      "LRa; validation ROC AUC: 0.8633; % reverted; 0.10636279630018411\n"
     ]
    },
    {
     "data": {
      "image/png": "[encoded data removed]",
      "text/plain": [
       "<Figure size 720x720 with 1 Axes>"
      ]
     },
     "metadata": {
      "needs_background": "light"
     },
     "output_type": "display_data"
    }
   ],
   "source": [
    "fig = plt.figure(0, figsize=(10, 10))\n",
    "ax = plt.subplot2grid((1, 1), (0, 0), rowspan=1)\n",
    "\n",
    "ax.plot([0, 1], [0, 1], \"k:\", label=\"Perfectly calibrated\")\n",
    "#[LR1_results, 'LR1'], [LR2_results, 'LR2'], \n",
    "for results, clf in [[GBa_results, 'GBa (maxfeatures: ~6, maxdepth: 5)'], [GB1_results, 'GB1 (maxfeatures: ~6, maxdepth: 10)'], [GB2_results, 'GB2 (maxfeatures: 25, maxdepth: 5)'], [GB3_results, 'GB3 (maxfeatures: 50, maxdepth: 5)'], \n",
    "                     [LRa_results, 'LRa']]:\n",
    "    labels = results['test_label']\n",
    "    pred = results['test_calib']\n",
    "    frac_of_pos, mean_pred_value = sklearn.calibration.calibration_curve(labels, pred, n_bins=20)\n",
    "\n",
    "    ax.plot(mean_pred_value, frac_of_pos, \"s-\", label=clf)\n",
    "    ax.set_ylabel(\"Fraction of positives\")\n",
    "    \n",
    "    acc_test = np.sum(pred == labels) / len(pred)\n",
    "    roc_auc = sklearn.metrics.roc_auc_score(labels, pred)\n",
    "    print(f\"{clf}; validation ROC AUC: {roc_auc:.4f}; % reverted; {np.sum(pred) / len(labels)}\")\n",
    "    \n",
    "ax.set_ylim([-0.05, 1.05])\n",
    "ax.legend(loc=\"lower right\")\n",
    "\n",
    "plt.show()"
   ]
  },
  {
   "cell_type": "code",
   "execution_count": 770,
   "metadata": {},
   "outputs": [
    {
     "name": "stdout",
     "output_type": "stream",
     "text": [
      "GB2 (maxfeatures: 25, maxdepth: 5); validation ROC AUC: 0.8811; % reverted; 0.10172537067594671\n",
      "GB3 (maxfeatures: 50, maxdepth: 5); validation ROC AUC: 0.8819; % reverted; 0.10254216827158859\n"
     ]
    },
    {
     "data": {
      "image/png": "[encoded data removed]",
      "text/plain": [
       "<Figure size 720x720 with 1 Axes>"
      ]
     },
     "metadata": {
      "needs_background": "light"
     },
     "output_type": "display_data"
    }
   ],
   "source": [
    "fig = plt.figure(0, figsize=(10, 10))\n",
    "ax = plt.subplot2grid((1, 1), (0, 0), rowspan=1)\n",
    "\n",
    "ax.plot([0, 1], [0, 1], \"k:\", label=\"Perfectly calibrated\")\n",
    "for results, clf in [[GB2_results, 'GB2 (maxfeatures: 25, maxdepth: 5)'], [GB3_results, 'GB3 (maxfeatures: 50, maxdepth: 5)']]:\n",
    "    labels = results['test_label']\n",
    "    pred = results['test_calib']\n",
    "    frac_of_pos, mean_pred_value = sklearn.calibration.calibration_curve(labels, pred, n_bins=20)\n",
    "\n",
    "    ax.plot(mean_pred_value, frac_of_pos, \"s-\", label=clf)\n",
    "    ax.set_ylabel(\"Fraction of positives\")\n",
    "    \n",
    "    acc_test = np.sum(pred == labels) / len(pred)\n",
    "    roc_auc = sklearn.metrics.roc_auc_score(labels, pred)\n",
    "    print(f\"{clf}; validation ROC AUC: {roc_auc:.4f}; % reverted; {np.sum(pred) / len(labels)}\")\n",
    "    \n",
    "ax.set_ylim([-0.05, 1.05])\n",
    "ax.legend(loc=\"lower right\")\n",
    "\n",
    "plt.show()"
   ]
  },
  {
   "cell_type": "code",
   "execution_count": 6,
   "metadata": {},
   "outputs": [
    {
     "data": {
      "text/html": [
       "<div>\n",
       "<style scoped>\n",
       "    .dataframe tbody tr th:only-of-type {\n",
       "        vertical-align: middle;\n",
       "    }\n",
       "\n",
       "    .dataframe tbody tr th {\n",
       "        vertical-align: top;\n",
       "    }\n",
       "\n",
       "    .dataframe thead th {\n",
       "        text-align: right;\n",
       "    }\n",
       "</style>\n",
       "<table border=\"1\" class=\"dataframe\">\n",
       "  <thead>\n",
       "    <tr style=\"text-align: right;\">\n",
       "      <th></th>\n",
       "      <th>0</th>\n",
       "    </tr>\n",
       "  </thead>\n",
       "  <tbody>\n",
       "    <tr>\n",
       "      <th>0</th>\n",
       "      <td>857219031</td>\n",
       "    </tr>\n",
       "    <tr>\n",
       "      <th>1</th>\n",
       "      <td>857219035</td>\n",
       "    </tr>\n",
       "    <tr>\n",
       "      <th>2</th>\n",
       "      <td>857219034</td>\n",
       "    </tr>\n",
       "    <tr>\n",
       "      <th>3</th>\n",
       "      <td>857219036</td>\n",
       "    </tr>\n",
       "    <tr>\n",
       "      <th>4</th>\n",
       "      <td>857219037</td>\n",
       "    </tr>\n",
       "  </tbody>\n",
       "</table>\n",
       "</div>"
      ],
      "text/plain": [
       "           0\n",
       "0  857219031\n",
       "1  857219035\n",
       "2  857219034\n",
       "3  857219036\n",
       "4  857219037"
      ]
     },
     "execution_count": 6,
     "metadata": {},
     "output_type": "execute_result"
    }
   ],
   "source": [
    "derived_data_dir = os.path.join('/export/scratch2/levon003/repos/wiki-ores-feedback', \"data\", \"derived\")\n",
    "labeled_revs_dir = os.path.join(derived_data_dir, 'labeled-revs')\n",
    "revid_filepath = os.path.join(labeled_revs_dir, 'sample3-features', 'rev_id_2020-08-01T05:40:00Z.txt')\n",
    "\n",
    "rev_id_list = pd.read_csv(revid_filepath, header=None)\n",
    "rev_id_list.head()\n"
   ]
  },
  {
   "cell_type": "markdown",
   "metadata": {},
   "source": [
    "### Evaluation of prediction on 08-01-2020 data"
   ]
  },
  {
   "cell_type": "code",
   "execution_count": 11,
   "metadata": {},
   "outputs": [],
   "source": [
    "results_0801 = pd.read_pickle('/export/scratch2/wastv004/wiki-ores-feedback/prediction_2020-08-01.pkl')"
   ]
  },
  {
   "cell_type": "code",
   "execution_count": 14,
   "metadata": {},
   "outputs": [],
   "source": [
    "# label probabilities >= 0.5 as true\n",
    "def label_pred (row):\n",
    "    if row['test_calib'] >= 0.5:\n",
    "        return True\n",
    "    else:\n",
    "        return False\n",
    "\n",
    "results_0801['test_pred'] = results_0801.apply(lambda row: label_pred(row), axis = 1)"
   ]
  },
  {
   "cell_type": "code",
   "execution_count": 15,
   "metadata": {},
   "outputs": [
    {
     "name": "stdout",
     "output_type": "stream",
     "text": [
      "GB3 (maxfeatures: 50, maxdepth: 5); validation ROC AUC: 0.8773; % reverted; 0.09653282261655155\n",
      "              precision    recall  f1-score   support\n",
      "\n",
      "       False       0.92      0.99      0.96  10571172\n",
      "        True       0.75      0.24      0.37   1167173\n",
      "\n",
      "    accuracy                           0.92  11738345\n",
      "   macro avg       0.84      0.62      0.66  11738345\n",
      "weighted avg       0.91      0.92      0.90  11738345\n",
      "\n"
     ]
    },
    {
     "data": {
      "image/png": "[encoded data removed]",
      "text/plain": [
       "<Figure size 720x720 with 1 Axes>"
      ]
     },
     "metadata": {
      "needs_background": "light"
     },
     "output_type": "display_data"
    }
   ],
   "source": [
    "fig = plt.figure(0, figsize=(10, 10))\n",
    "ax = plt.subplot2grid((1, 1), (0, 0), rowspan=1)\n",
    "\n",
    "ax.plot([0, 1], [0, 1], \"k:\", label=\"Perfectly calibrated\")\n",
    "\n",
    "for results, clf in [[results_0801, 'GB3 (maxfeatures: 50, maxdepth: 5)']]:\n",
    "    labels = results['test_label']\n",
    "    pred = results['test_calib']\n",
    "    frac_of_pos, mean_pred_value = sklearn.calibration.calibration_curve(labels, pred, n_bins=20)\n",
    "\n",
    "    ax.plot(mean_pred_value, frac_of_pos, \"s-\", label=clf)\n",
    "    ax.set_ylabel(\"Fraction of positives\")\n",
    "    \n",
    "    acc_test = np.sum(pred == labels) / len(pred)\n",
    "    roc_auc = sklearn.metrics.roc_auc_score(labels, pred)\n",
    "    print(f\"{clf}; validation ROC AUC: {roc_auc:.4f}; % reverted; {np.sum(pred) / len(labels)}\")\n",
    "    print(sklearn.metrics.classification_report(results['test_label'], results['test_pred']))\n",
    "    \n",
    "ax.set_ylim([-0.05, 1.05])\n",
    "ax.legend(loc=\"lower right\")\n",
    "\n",
    "plt.show()"
   ]
  },
  {
   "cell_type": "markdown",
   "metadata": {},
   "source": [
    "### Other models\n",
    "Random forest"
   ]
  },
  {
   "cell_type": "code",
   "execution_count": 16,
   "metadata": {},
   "outputs": [],
   "source": [
    "RF1_results = pd.read_pickle('/export/scratch2/wastv004/wiki-ores-feedback/RF_100_10_10_1.pkl')\n",
    "RF2_results = pd.read_pickle('/export/scratch2/wastv004/wiki-ores-feedback/RF_100_50_10_1.pkl')\n",
    "RF3_results = pd.read_pickle('/export/scratch2/wastv004/wiki-ores-feedback/RF_100_50_10_50.pkl')"
   ]
  },
  {
   "cell_type": "code",
   "execution_count": 18,
   "metadata": {},
   "outputs": [
    {
     "name": "stdout",
     "output_type": "stream",
     "text": [
      "RF 1 (maxfeatures: 10, maxdepth: 10, min per leaf: 1); validation ROC AUC: 0.8769; % reverted; 0.10271334785390167\n",
      "              precision    recall  f1-score   support\n",
      "\n",
      "       False       0.92      1.00      0.96    727656\n",
      "        True       0.83      0.14      0.24     73475\n",
      "\n",
      "    accuracy                           0.92    801131\n",
      "   macro avg       0.87      0.57      0.60    801131\n",
      "weighted avg       0.91      0.92      0.89    801131\n",
      "\n",
      "RF 2 (maxfeatures: 50, maxdepth: 10, min per leaf: 1); validation ROC AUC: 0.8676; % reverted; 0.10775900146074498\n",
      "              precision    recall  f1-score   support\n",
      "\n",
      "       False       0.93      0.99      0.96    727656\n",
      "        True       0.72      0.23      0.35     73475\n",
      "\n",
      "    accuracy                           0.92    801131\n",
      "   macro avg       0.82      0.61      0.65    801131\n",
      "weighted avg       0.91      0.92      0.90    801131\n",
      "\n",
      "RF 3 (maxfeatures: 50, maxdepth: 10, min per leaf: 50); validation ROC AUC: 0.8765; % reverted; 0.10221493388028374\n",
      "              precision    recall  f1-score   support\n",
      "\n",
      "       False       0.93      0.99      0.96    727656\n",
      "        True       0.72      0.23      0.35     73475\n",
      "\n",
      "    accuracy                           0.92    801131\n",
      "   macro avg       0.82      0.61      0.65    801131\n",
      "weighted avg       0.91      0.92      0.90    801131\n",
      "\n"
     ]
    },
    {
     "data": {
      "image/png": "[encoded data removed]",
      "text/plain": [
       "<Figure size 720x720 with 1 Axes>"
      ]
     },
     "metadata": {
      "needs_background": "light"
     },
     "output_type": "display_data"
    }
   ],
   "source": [
    "fig = plt.figure(0, figsize=(10, 10))\n",
    "ax = plt.subplot2grid((1, 1), (0, 0), rowspan=1)\n",
    "\n",
    "ax.plot([0, 1], [0, 1], \"k:\", label=\"Perfectly calibrated\")\n",
    "\n",
    "for results, clf in [[RF1_results, 'RF 1 (maxfeatures: 10, maxdepth: 10, min per leaf: 1)'],\n",
    "                    [RF2_results, 'RF 2 (maxfeatures: 50, maxdepth: 10, min per leaf: 1)'],\n",
    "                    [RF3_results, 'RF 3 (maxfeatures: 50, maxdepth: 10, min per leaf: 50)']]:\n",
    "    labels = results['test_label']\n",
    "    pred = results['test_calib']\n",
    "    frac_of_pos, mean_pred_value = sklearn.calibration.calibration_curve(labels, pred, n_bins=20)\n",
    "\n",
    "    ax.plot(mean_pred_value, frac_of_pos, \"s-\", label=clf)\n",
    "    ax.set_ylabel(\"Fraction of positives\")\n",
    "    \n",
    "    acc_test = np.sum(pred == labels) / len(pred)\n",
    "    roc_auc = sklearn.metrics.roc_auc_score(labels, pred)\n",
    "    print(f\"{clf}; validation ROC AUC: {roc_auc:.4f}; % reverted; {np.sum(pred) / len(labels)}\")\n",
    "    print(sklearn.metrics.classification_report(results['test_label'], results['test_pred']))\n",
    "    \n",
    "ax.set_ylim([-0.05, 1.05])\n",
    "ax.legend(loc=\"lower right\")\n",
    "\n",
    "plt.show()"
   ]
  }
 ],
 "metadata": {
  "kernelspec": {
   "display_name": "Flagon Python3",
   "language": "python",
   "name": "flagon-conda-env"
  },
  "language_info": {
   "codemirror_mode": {
    "name": "ipython",
    "version": 3
   },
   "file_extension": ".py",
   "mimetype": "text/x-python",
   "name": "python",
   "nbconvert_exporter": "python",
   "pygments_lexer": "ipython3",
   "version": "3.7.7"
  }
 },
 "nbformat": 4,
 "nbformat_minor": 4
}
