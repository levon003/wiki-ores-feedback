{
 "cells": [
  {
   "cell_type": "markdown",
   "id": "4cbdf167",
   "metadata": {},
   "source": [
    "Create Sorted Category List\n",
    "==="
   ]
  },
  {
   "cell_type": "code",
   "execution_count": 2,
   "id": "7f82efb6",
   "metadata": {},
   "outputs": [],
   "source": [
    "import numpy as np\n",
    "import pandas as pd\n",
    "import matplotlib.pyplot as plt"
   ]
  },
  {
   "cell_type": "code",
   "execution_count": 3,
   "id": "71c90772",
   "metadata": {},
   "outputs": [
    {
     "name": "stdout",
     "output_type": "stream",
     "text": [
      "lgbt_history_pages.tsv\tpage.tsv\r\n"
     ]
    }
   ],
   "source": [
    "!ls data"
   ]
  },
  {
   "cell_type": "code",
   "execution_count": 4,
   "id": "d8ffd366",
   "metadata": {},
   "outputs": [
    {
     "data": {
      "text/plain": [
       "9485287"
      ]
     },
     "execution_count": 4,
     "metadata": {},
     "output_type": "execute_result"
    }
   ],
   "source": [
    "page_df = pd.read_csv('data/page.tsv', sep='\\t')\n",
    "len(page_df)"
   ]
  },
  {
   "cell_type": "code",
   "execution_count": 5,
   "id": "f5eeead6",
   "metadata": {},
   "outputs": [
    {
     "data": {
      "text/html": [
       "<div>\n",
       "<style scoped>\n",
       "    .dataframe tbody tr th:only-of-type {\n",
       "        vertical-align: middle;\n",
       "    }\n",
       "\n",
       "    .dataframe tbody tr th {\n",
       "        vertical-align: top;\n",
       "    }\n",
       "\n",
       "    .dataframe thead th {\n",
       "        text-align: right;\n",
       "    }\n",
       "</style>\n",
       "<table border=\"1\" class=\"dataframe\">\n",
       "  <thead>\n",
       "    <tr style=\"text-align: right;\">\n",
       "      <th></th>\n",
       "      <th>page_id</th>\n",
       "      <th>wiki_namespace</th>\n",
       "      <th>page_title</th>\n",
       "      <th>is_redirect</th>\n",
       "      <th>rev_count</th>\n",
       "    </tr>\n",
       "  </thead>\n",
       "  <tbody>\n",
       "    <tr>\n",
       "      <th>1303105</th>\n",
       "      <td>7083016</td>\n",
       "      <td>0</td>\n",
       "      <td>Han Dayuan</td>\n",
       "      <td>0</td>\n",
       "      <td>2</td>\n",
       "    </tr>\n",
       "  </tbody>\n",
       "</table>\n",
       "</div>"
      ],
      "text/plain": [
       "         page_id  wiki_namespace  page_title  is_redirect  rev_count\n",
       "1303105  7083016               0  Han Dayuan            0          2"
      ]
     },
     "execution_count": 5,
     "metadata": {},
     "output_type": "execute_result"
    }
   ],
   "source": [
    "page_df.sample(n=1)"
   ]
  },
  {
   "cell_type": "code",
   "execution_count": 12,
   "id": "5c1e30de",
   "metadata": {},
   "outputs": [
    {
     "data": {
      "text/plain": [
       "18578"
      ]
     },
     "execution_count": 12,
     "metadata": {},
     "output_type": "execute_result"
    }
   ],
   "source": [
    "cat_df = pd.read_csv('data/lgbt_history_pages.tsv', sep='\\t')\n",
    "len(cat_df)"
   ]
  },
  {
   "cell_type": "code",
   "execution_count": 13,
   "id": "a225b9d1",
   "metadata": {},
   "outputs": [
    {
     "data": {
      "text/html": [
       "<div>\n",
       "<style scoped>\n",
       "    .dataframe tbody tr th:only-of-type {\n",
       "        vertical-align: middle;\n",
       "    }\n",
       "\n",
       "    .dataframe tbody tr th {\n",
       "        vertical-align: top;\n",
       "    }\n",
       "\n",
       "    .dataframe thead th {\n",
       "        text-align: right;\n",
       "    }\n",
       "</style>\n",
       "<table border=\"1\" class=\"dataframe\">\n",
       "  <thead>\n",
       "    <tr style=\"text-align: right;\">\n",
       "      <th></th>\n",
       "      <th>page_id</th>\n",
       "      <th>parent_category</th>\n",
       "      <th>depth</th>\n",
       "    </tr>\n",
       "  </thead>\n",
       "  <tbody>\n",
       "    <tr>\n",
       "      <th>711</th>\n",
       "      <td>41006017</td>\n",
       "      <td>LGBT_history_in_Australia</td>\n",
       "      <td>2</td>\n",
       "    </tr>\n",
       "  </tbody>\n",
       "</table>\n",
       "</div>"
      ],
      "text/plain": [
       "      page_id            parent_category  depth\n",
       "711  41006017  LGBT_history_in_Australia      2"
      ]
     },
     "execution_count": 13,
     "metadata": {},
     "output_type": "execute_result"
    }
   ],
   "source": [
    "cat_df.sample(n=1)"
   ]
  },
  {
   "cell_type": "code",
   "execution_count": 14,
   "id": "9c3766f7",
   "metadata": {},
   "outputs": [
    {
     "data": {
      "text/plain": [
       "14595"
      ]
     },
     "execution_count": 14,
     "metadata": {},
     "output_type": "execute_result"
    }
   ],
   "source": [
    "df = cat_df.merge(page_df, on='page_id', how='inner', validate='one_to_one')\n",
    "len(df)"
   ]
  },
  {
   "cell_type": "code",
   "execution_count": 15,
   "id": "f9695f43",
   "metadata": {},
   "outputs": [
    {
     "data": {
      "text/html": [
       "<div>\n",
       "<style scoped>\n",
       "    .dataframe tbody tr th:only-of-type {\n",
       "        vertical-align: middle;\n",
       "    }\n",
       "\n",
       "    .dataframe tbody tr th {\n",
       "        vertical-align: top;\n",
       "    }\n",
       "\n",
       "    .dataframe thead th {\n",
       "        text-align: right;\n",
       "    }\n",
       "</style>\n",
       "<table border=\"1\" class=\"dataframe\">\n",
       "  <thead>\n",
       "    <tr style=\"text-align: right;\">\n",
       "      <th></th>\n",
       "      <th>page_id</th>\n",
       "      <th>parent_category</th>\n",
       "      <th>depth</th>\n",
       "      <th>wiki_namespace</th>\n",
       "      <th>page_title</th>\n",
       "      <th>is_redirect</th>\n",
       "      <th>rev_count</th>\n",
       "    </tr>\n",
       "  </thead>\n",
       "  <tbody>\n",
       "    <tr>\n",
       "      <th>11372</th>\n",
       "      <td>25867813</td>\n",
       "      <td>2000s_LGBT_literature</td>\n",
       "      <td>5</td>\n",
       "      <td>0</td>\n",
       "      <td>What Did You Eat Yesterday?</td>\n",
       "      <td>0</td>\n",
       "      <td>72</td>\n",
       "    </tr>\n",
       "  </tbody>\n",
       "</table>\n",
       "</div>"
      ],
      "text/plain": [
       "        page_id        parent_category  depth  wiki_namespace  \\\n",
       "11372  25867813  2000s_LGBT_literature      5               0   \n",
       "\n",
       "                        page_title  is_redirect  rev_count  \n",
       "11372  What Did You Eat Yesterday?            0         72  "
      ]
     },
     "execution_count": 15,
     "metadata": {},
     "output_type": "execute_result"
    }
   ],
   "source": [
    "df.sample(n=1)"
   ]
  },
  {
   "cell_type": "code",
   "execution_count": 18,
   "id": "0462da06",
   "metadata": {},
   "outputs": [
    {
     "data": {
      "image/png": "[encoded data removed]",
      "text/plain": [
       "<Figure size 432x432 with 1 Axes>"
      ]
     },
     "metadata": {
      "needs_background": "light"
     },
     "output_type": "display_data"
    }
   ],
   "source": [
    "fig, ax = plt.subplots(1, 1, figsize=(6, 6))\n",
    "\n",
    "ax.hist(df.depth)\n",
    "ax.set_title(\"Number of pages in 'LGBT_history' by depth\")\n",
    "ax.set_xlabel(\"Depth under 'LGBT_history'\")\n",
    "ax.set_ylabel(\"Number of pages\")\n",
    "\n",
    "plt.show()"
   ]
  },
  {
   "cell_type": "code",
   "execution_count": 20,
   "id": "9a711cc5",
   "metadata": {},
   "outputs": [
    {
     "data": {
      "text/plain": [
       "20th-century_LGBT_people                               2550\n",
       "21st-century_LGBT_people                               2236\n",
       "LGBT_rights_activists_from_the_United_States            652\n",
       "2010s_American_LGBT-related_drama_television_series     170\n",
       "2015_LGBT-related_films                                 102\n",
       "Name: parent_category, dtype: int64"
      ]
     },
     "execution_count": 20,
     "metadata": {},
     "output_type": "execute_result"
    }
   ],
   "source": [
    "df.parent_category.value_counts().head()"
   ]
  },
  {
   "cell_type": "code",
   "execution_count": 30,
   "id": "b1b84f05",
   "metadata": {},
   "outputs": [
    {
     "data": {
      "text/html": [
       "<div>\n",
       "<style scoped>\n",
       "    .dataframe tbody tr th:only-of-type {\n",
       "        vertical-align: middle;\n",
       "    }\n",
       "\n",
       "    .dataframe tbody tr th {\n",
       "        vertical-align: top;\n",
       "    }\n",
       "\n",
       "    .dataframe thead th {\n",
       "        text-align: right;\n",
       "    }\n",
       "</style>\n",
       "<table border=\"1\" class=\"dataframe\">\n",
       "  <thead>\n",
       "    <tr style=\"text-align: right;\">\n",
       "      <th></th>\n",
       "      <th>category</th>\n",
       "      <th>num_pages</th>\n",
       "    </tr>\n",
       "  </thead>\n",
       "  <tbody>\n",
       "    <tr>\n",
       "      <th>0</th>\n",
       "      <td>20th-century_LGBT_people</td>\n",
       "      <td>2550</td>\n",
       "    </tr>\n",
       "    <tr>\n",
       "      <th>1</th>\n",
       "      <td>21st-century_LGBT_people</td>\n",
       "      <td>2236</td>\n",
       "    </tr>\n",
       "    <tr>\n",
       "      <th>2</th>\n",
       "      <td>LGBT_rights_activists_from_the_United_States</td>\n",
       "      <td>652</td>\n",
       "    </tr>\n",
       "    <tr>\n",
       "      <th>3</th>\n",
       "      <td>2010s_American_LGBT-related_drama_television_s...</td>\n",
       "      <td>170</td>\n",
       "    </tr>\n",
       "    <tr>\n",
       "      <th>4</th>\n",
       "      <td>2015_LGBT-related_films</td>\n",
       "      <td>102</td>\n",
       "    </tr>\n",
       "    <tr>\n",
       "      <th>5</th>\n",
       "      <td>Transgender_rights_activists</td>\n",
       "      <td>99</td>\n",
       "    </tr>\n",
       "    <tr>\n",
       "      <th>6</th>\n",
       "      <td>2016_LGBT-related_films</td>\n",
       "      <td>98</td>\n",
       "    </tr>\n",
       "    <tr>\n",
       "      <th>7</th>\n",
       "      <td>2014_LGBT-related_films</td>\n",
       "      <td>98</td>\n",
       "    </tr>\n",
       "    <tr>\n",
       "      <th>8</th>\n",
       "      <td>2017_LGBT-related_films</td>\n",
       "      <td>96</td>\n",
       "    </tr>\n",
       "    <tr>\n",
       "      <th>9</th>\n",
       "      <td>2018_LGBT-related_films</td>\n",
       "      <td>89</td>\n",
       "    </tr>\n",
       "  </tbody>\n",
       "</table>\n",
       "</div>"
      ],
      "text/plain": [
       "                                            category  num_pages\n",
       "0                           20th-century_LGBT_people       2550\n",
       "1                           21st-century_LGBT_people       2236\n",
       "2       LGBT_rights_activists_from_the_United_States        652\n",
       "3  2010s_American_LGBT-related_drama_television_s...        170\n",
       "4                            2015_LGBT-related_films        102\n",
       "5                       Transgender_rights_activists         99\n",
       "6                            2016_LGBT-related_films         98\n",
       "7                            2014_LGBT-related_films         98\n",
       "8                            2017_LGBT-related_films         96\n",
       "9                            2018_LGBT-related_films         89"
      ]
     },
     "execution_count": 30,
     "metadata": {},
     "output_type": "execute_result"
    }
   ],
   "source": [
    "cat_counts = df.parent_category.value_counts().reset_index(name='num_pages').rename(columns={'index': 'category'})\n",
    "cat_counts.to_csv('data/cat_counts.tsv', sep='\\t')\n",
    "cat_counts.head(n=10)"
   ]
  },
  {
   "cell_type": "code",
   "execution_count": 32,
   "id": "9923a266",
   "metadata": {},
   "outputs": [
    {
     "data": {
      "text/html": [
       "<div>\n",
       "<style scoped>\n",
       "    .dataframe tbody tr th:only-of-type {\n",
       "        vertical-align: middle;\n",
       "    }\n",
       "\n",
       "    .dataframe tbody tr th {\n",
       "        vertical-align: top;\n",
       "    }\n",
       "\n",
       "    .dataframe thead th {\n",
       "        text-align: right;\n",
       "    }\n",
       "</style>\n",
       "<table border=\"1\" class=\"dataframe\">\n",
       "  <thead>\n",
       "    <tr style=\"text-align: right;\">\n",
       "      <th></th>\n",
       "      <th>page_id</th>\n",
       "      <th>parent_category</th>\n",
       "      <th>depth</th>\n",
       "      <th>wiki_namespace</th>\n",
       "      <th>page_title</th>\n",
       "      <th>is_redirect</th>\n",
       "      <th>rev_count</th>\n",
       "    </tr>\n",
       "  </thead>\n",
       "  <tbody>\n",
       "    <tr>\n",
       "      <th>9632</th>\n",
       "      <td>50733124</td>\n",
       "      <td>2019_LGBT-related_films</td>\n",
       "      <td>4</td>\n",
       "      <td>0</td>\n",
       "      <td>It Chapter Two</td>\n",
       "      <td>0</td>\n",
       "      <td>2214</td>\n",
       "    </tr>\n",
       "    <tr>\n",
       "      <th>1978</th>\n",
       "      <td>56609437</td>\n",
       "      <td>2019_in_LGBT_history</td>\n",
       "      <td>3</td>\n",
       "      <td>0</td>\n",
       "      <td>RuPaul's Drag Race (season 11)</td>\n",
       "      <td>0</td>\n",
       "      <td>1806</td>\n",
       "    </tr>\n",
       "    <tr>\n",
       "      <th>13456</th>\n",
       "      <td>53470508</td>\n",
       "      <td>Game_of_Thrones_seasons</td>\n",
       "      <td>9</td>\n",
       "      <td>0</td>\n",
       "      <td>Game of Thrones (season 8)</td>\n",
       "      <td>0</td>\n",
       "      <td>1748</td>\n",
       "    </tr>\n",
       "    <tr>\n",
       "      <th>9535</th>\n",
       "      <td>54978069</td>\n",
       "      <td>2018_LGBT-related_films</td>\n",
       "      <td>4</td>\n",
       "      <td>0</td>\n",
       "      <td>Bohemian Rhapsody (film)</td>\n",
       "      <td>0</td>\n",
       "      <td>1517</td>\n",
       "    </tr>\n",
       "    <tr>\n",
       "      <th>10893</th>\n",
       "      <td>54885332</td>\n",
       "      <td>LGBT_rights_activists_from_the_United_States</td>\n",
       "      <td>4</td>\n",
       "      <td>0</td>\n",
       "      <td>Alexandria Ocasio-Cortez</td>\n",
       "      <td>0</td>\n",
       "      <td>1426</td>\n",
       "    </tr>\n",
       "    <tr>\n",
       "      <th>1971</th>\n",
       "      <td>57960290</td>\n",
       "      <td>2018_in_LGBT_history</td>\n",
       "      <td>3</td>\n",
       "      <td>0</td>\n",
       "      <td>RuPaul's Drag Race All Stars (season 4)</td>\n",
       "      <td>0</td>\n",
       "      <td>1381</td>\n",
       "    </tr>\n",
       "    <tr>\n",
       "      <th>1979</th>\n",
       "      <td>61888185</td>\n",
       "      <td>2019_in_LGBT_history</td>\n",
       "      <td>3</td>\n",
       "      <td>0</td>\n",
       "      <td>RuPaul's Drag Race UK (series 1)</td>\n",
       "      <td>0</td>\n",
       "      <td>1179</td>\n",
       "    </tr>\n",
       "    <tr>\n",
       "      <th>9655</th>\n",
       "      <td>57172797</td>\n",
       "      <td>2019_LGBT-related_films</td>\n",
       "      <td>4</td>\n",
       "      <td>0</td>\n",
       "      <td>Rocketman (film)</td>\n",
       "      <td>0</td>\n",
       "      <td>1137</td>\n",
       "    </tr>\n",
       "    <tr>\n",
       "      <th>10408</th>\n",
       "      <td>415036</td>\n",
       "      <td>LGBT_rights_activists_from_the_United_Kingdom</td>\n",
       "      <td>4</td>\n",
       "      <td>0</td>\n",
       "      <td>Jeremy Corbyn</td>\n",
       "      <td>0</td>\n",
       "      <td>1046</td>\n",
       "    </tr>\n",
       "    <tr>\n",
       "      <th>3480</th>\n",
       "      <td>60292990</td>\n",
       "      <td>20th-century_LGBT_people</td>\n",
       "      <td>3</td>\n",
       "      <td>0</td>\n",
       "      <td>Lil Nas X</td>\n",
       "      <td>0</td>\n",
       "      <td>994</td>\n",
       "    </tr>\n",
       "  </tbody>\n",
       "</table>\n",
       "</div>"
      ],
      "text/plain": [
       "        page_id                                parent_category  depth  \\\n",
       "9632   50733124                        2019_LGBT-related_films      4   \n",
       "1978   56609437                           2019_in_LGBT_history      3   \n",
       "13456  53470508                        Game_of_Thrones_seasons      9   \n",
       "9535   54978069                        2018_LGBT-related_films      4   \n",
       "10893  54885332   LGBT_rights_activists_from_the_United_States      4   \n",
       "1971   57960290                           2018_in_LGBT_history      3   \n",
       "1979   61888185                           2019_in_LGBT_history      3   \n",
       "9655   57172797                        2019_LGBT-related_films      4   \n",
       "10408    415036  LGBT_rights_activists_from_the_United_Kingdom      4   \n",
       "3480   60292990                       20th-century_LGBT_people      3   \n",
       "\n",
       "       wiki_namespace                               page_title  is_redirect  \\\n",
       "9632                0                           It Chapter Two            0   \n",
       "1978                0           RuPaul's Drag Race (season 11)            0   \n",
       "13456               0               Game of Thrones (season 8)            0   \n",
       "9535                0                 Bohemian Rhapsody (film)            0   \n",
       "10893               0                 Alexandria Ocasio-Cortez            0   \n",
       "1971                0  RuPaul's Drag Race All Stars (season 4)            0   \n",
       "1979                0         RuPaul's Drag Race UK (series 1)            0   \n",
       "9655                0                         Rocketman (film)            0   \n",
       "10408               0                            Jeremy Corbyn            0   \n",
       "3480                0                                Lil Nas X            0   \n",
       "\n",
       "       rev_count  \n",
       "9632        2214  \n",
       "1978        1806  \n",
       "13456       1748  \n",
       "9535        1517  \n",
       "10893       1426  \n",
       "1971        1381  \n",
       "1979        1179  \n",
       "9655        1137  \n",
       "10408       1046  \n",
       "3480         994  "
      ]
     },
     "execution_count": 32,
     "metadata": {},
     "output_type": "execute_result"
    }
   ],
   "source": [
    "df = df.sort_values(by='rev_count', ascending=False)\n",
    "df.head(n=10)"
   ]
  },
  {
   "cell_type": "code",
   "execution_count": 33,
   "id": "47d4968d",
   "metadata": {},
   "outputs": [],
   "source": [
    "df.head(n=500).to_csv('data/lgbt_history_pages_by_rev_count.tsv', sep='\\t')"
   ]
  },
  {
   "cell_type": "code",
   "execution_count": null,
   "id": "67b963b7",
   "metadata": {},
   "outputs": [],
   "source": []
  },
  {
   "cell_type": "code",
   "execution_count": null,
   "id": "b5dc8d34",
   "metadata": {},
   "outputs": [],
   "source": []
  },
  {
   "cell_type": "code",
   "execution_count": null,
   "id": "8669f484",
   "metadata": {},
   "outputs": [],
   "source": []
  },
  {
   "cell_type": "code",
   "execution_count": null,
   "id": "941dd2b3",
   "metadata": {},
   "outputs": [],
   "source": []
  }
 ],
 "metadata": {
  "kernelspec": {
   "display_name": "Python 3",
   "language": "python",
   "name": "python3"
  },
  "language_info": {
   "codemirror_mode": {
    "name": "ipython",
    "version": 3
   },
   "file_extension": ".py",
   "mimetype": "text/x-python",
   "name": "python",
   "nbconvert_exporter": "python",
   "pygments_lexer": "ipython3",
   "version": "3.7.10"
  }
 },
 "nbformat": 4,
 "nbformat_minor": 5
}
