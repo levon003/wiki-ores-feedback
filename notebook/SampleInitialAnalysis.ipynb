{
 "cells": [
  {
   "cell_type": "markdown",
   "metadata": {},
   "source": [
    "Sample Initial Analysis\n",
    "===\n",
    "\n",
    "Attempting to identify misclassifications."
   ]
  },
  {
   "cell_type": "code",
   "execution_count": 1,
   "metadata": {},
   "outputs": [],
   "source": [
    "import mwapi\n",
    "import mwxml\n",
    "import mwxml.utilities\n",
    "import mwcli\n",
    "import mwreverts\n",
    "import oresapi\n",
    "import mwparserfromhell"
   ]
  },
  {
   "cell_type": "code",
   "execution_count": 2,
   "metadata": {},
   "outputs": [],
   "source": [
    "import numpy as np\n",
    "import pandas as pd\n",
    "import matplotlib.pyplot as plt\n",
    "import matplotlib"
   ]
  },
  {
   "cell_type": "code",
   "execution_count": 3,
   "metadata": {},
   "outputs": [],
   "source": [
    "import os\n",
    "from tqdm import tqdm\n",
    "import bz2\n",
    "import gzip\n",
    "import json\n",
    "import re\n",
    "import hashlib\n",
    "from datetime import datetime\n",
    "import nltk\n",
    "import scipy.stats\n",
    "import para\n",
    "from itertools import groupby\n",
    "from collections import Counter"
   ]
  },
  {
   "cell_type": "code",
   "execution_count": 64,
   "metadata": {},
   "outputs": [],
   "source": [
    "from IPython.display import HTML, display"
   ]
  },
  {
   "cell_type": "code",
   "execution_count": 4,
   "metadata": {},
   "outputs": [
    {
     "data": {
      "text/plain": [
       "'/export/scratch2/levon003/repos/wiki-ores-feedback'"
      ]
     },
     "execution_count": 4,
     "metadata": {},
     "output_type": "execute_result"
    }
   ],
   "source": [
    "git_root_dir = !git rev-parse --show-toplevel\n",
    "git_root_dir = git_root_dir[0]\n",
    "git_root_dir"
   ]
  },
  {
   "cell_type": "code",
   "execution_count": 5,
   "metadata": {},
   "outputs": [
    {
     "data": {
      "text/plain": [
       "('/export/scratch2/wiki_data',\n",
       " '/export/scratch2/levon003/repos/wiki-ores-feedback/data/derived')"
      ]
     },
     "execution_count": 5,
     "metadata": {},
     "output_type": "execute_result"
    }
   ],
   "source": [
    "raw_data_dir = \"/export/scratch2/wiki_data\"\n",
    "derived_data_dir = os.path.join(git_root_dir, \"data\", \"derived\")\n",
    "raw_data_dir, derived_data_dir"
   ]
  },
  {
   "cell_type": "code",
   "execution_count": 6,
   "metadata": {},
   "outputs": [
    {
     "data": {
      "text/plain": [
       "'/export/scratch2/levon003/repos/wiki-ores-feedback/data/derived/revision_sample'"
      ]
     },
     "execution_count": 6,
     "metadata": {},
     "output_type": "execute_result"
    }
   ],
   "source": [
    "working_dir = os.path.join(derived_data_dir, 'revision_sample')\n",
    "os.makedirs(working_dir, exist_ok=True)\n",
    "working_dir"
   ]
  },
  {
   "cell_type": "code",
   "execution_count": 7,
   "metadata": {},
   "outputs": [
    {
     "data": {
      "text/plain": [
       "(1514786400, 1577858400)"
      ]
     },
     "execution_count": 7,
     "metadata": {},
     "output_type": "execute_result"
    }
   ],
   "source": [
    "start_date = datetime.fromisoformat('2018-01-01')\n",
    "start_timestamp = int(start_date.timestamp())\n",
    "end_date = datetime.fromisoformat('2020-01-01')\n",
    "end_timestamp = int(end_date.timestamp())\n",
    "start_timestamp, end_timestamp"
   ]
  },
  {
   "cell_type": "code",
   "execution_count": 8,
   "metadata": {},
   "outputs": [],
   "source": [
    "sample_start_timestamp = start_timestamp\n",
    "sample_end_date = datetime.fromisoformat('2019-01-01')\n",
    "sample_end_timestamp = int(end_date.timestamp())"
   ]
  },
  {
   "cell_type": "code",
   "execution_count": 41,
   "metadata": {},
   "outputs": [],
   "source": [
    "cmap = matplotlib.cm.Set2"
   ]
  },
  {
   "cell_type": "markdown",
   "metadata": {},
   "source": [
    "### Load the sample"
   ]
  },
  {
   "cell_type": "code",
   "execution_count": 9,
   "metadata": {},
   "outputs": [
    {
     "data": {
      "text/plain": [
       "1000000"
      ]
     },
     "execution_count": 9,
     "metadata": {},
     "output_type": "execute_result"
    }
   ],
   "source": [
    "# read in the sample dataframe\n",
    "revision_sample_dir = os.path.join(derived_data_dir, 'revision_sample')\n",
    "sample1_filepath = os.path.join(revision_sample_dir, 'sample1_1M.pkl')\n",
    "rev_df = pd.read_pickle(sample1_filepath)\n",
    "len(rev_df)"
   ]
  },
  {
   "cell_type": "code",
   "execution_count": 10,
   "metadata": {},
   "outputs": [
    {
     "data": {
      "text/html": [
       "<div>\n",
       "<style scoped>\n",
       "    .dataframe tbody tr th:only-of-type {\n",
       "        vertical-align: middle;\n",
       "    }\n",
       "\n",
       "    .dataframe tbody tr th {\n",
       "        vertical-align: top;\n",
       "    }\n",
       "\n",
       "    .dataframe thead th {\n",
       "        text-align: right;\n",
       "    }\n",
       "</style>\n",
       "<table border=\"1\" class=\"dataframe\">\n",
       "  <thead>\n",
       "    <tr style=\"text-align: right;\">\n",
       "      <th></th>\n",
       "      <th>page_id</th>\n",
       "      <th>rev_id</th>\n",
       "      <th>rev_timestamp</th>\n",
       "      <th>is_revert_target</th>\n",
       "      <th>is_reverted</th>\n",
       "      <th>is_reverting</th>\n",
       "      <th>is_sample_eligible</th>\n",
       "      <th>prev_rev_id</th>\n",
       "      <th>next_rev_id</th>\n",
       "      <th>prev_rev_timestamp</th>\n",
       "      <th>next_rev_timestamp</th>\n",
       "      <th>reverted_rev_ids</th>\n",
       "      <th>reverting_rev_id</th>\n",
       "      <th>reverting_rev_timestamp</th>\n",
       "    </tr>\n",
       "  </thead>\n",
       "  <tbody>\n",
       "    <tr>\n",
       "      <th>29999548</th>\n",
       "      <td>9516095</td>\n",
       "      <td>846835190</td>\n",
       "      <td>1529576038</td>\n",
       "      <td>0</td>\n",
       "      <td>0</td>\n",
       "      <td>0</td>\n",
       "      <td>True</td>\n",
       "      <td>846835009</td>\n",
       "      <td>850539656</td>\n",
       "      <td>1529575914</td>\n",
       "      <td>1531769146</td>\n",
       "      <td>[]</td>\n",
       "      <td>-1</td>\n",
       "      <td>-1</td>\n",
       "    </tr>\n",
       "    <tr>\n",
       "      <th>12474631</th>\n",
       "      <td>876872</td>\n",
       "      <td>923997118</td>\n",
       "      <td>1572595746</td>\n",
       "      <td>0</td>\n",
       "      <td>0</td>\n",
       "      <td>0</td>\n",
       "      <td>True</td>\n",
       "      <td>923211396</td>\n",
       "      <td>924618182</td>\n",
       "      <td>1572162918</td>\n",
       "      <td>1572930319</td>\n",
       "      <td>[]</td>\n",
       "      <td>-1</td>\n",
       "      <td>-1</td>\n",
       "    </tr>\n",
       "    <tr>\n",
       "      <th>62536703</th>\n",
       "      <td>53465104</td>\n",
       "      <td>867368228</td>\n",
       "      <td>1541425108</td>\n",
       "      <td>0</td>\n",
       "      <td>0</td>\n",
       "      <td>0</td>\n",
       "      <td>True</td>\n",
       "      <td>867366487</td>\n",
       "      <td>867663184</td>\n",
       "      <td>1541423455</td>\n",
       "      <td>1541590304</td>\n",
       "      <td>[]</td>\n",
       "      <td>-1</td>\n",
       "      <td>-1</td>\n",
       "    </tr>\n",
       "    <tr>\n",
       "      <th>73902987</th>\n",
       "      <td>60096152</td>\n",
       "      <td>888337768</td>\n",
       "      <td>1552936050</td>\n",
       "      <td>0</td>\n",
       "      <td>0</td>\n",
       "      <td>0</td>\n",
       "      <td>True</td>\n",
       "      <td>888337457</td>\n",
       "      <td>888338754</td>\n",
       "      <td>1552935890</td>\n",
       "      <td>1552936561</td>\n",
       "      <td>[]</td>\n",
       "      <td>-1</td>\n",
       "      <td>-1</td>\n",
       "    </tr>\n",
       "    <tr>\n",
       "      <th>43843955</th>\n",
       "      <td>28063274</td>\n",
       "      <td>917010365</td>\n",
       "      <td>1569117229</td>\n",
       "      <td>0</td>\n",
       "      <td>0</td>\n",
       "      <td>0</td>\n",
       "      <td>True</td>\n",
       "      <td>915190631</td>\n",
       "      <td>-1</td>\n",
       "      <td>1568247118</td>\n",
       "      <td>-1</td>\n",
       "      <td>[]</td>\n",
       "      <td>-1</td>\n",
       "      <td>-1</td>\n",
       "    </tr>\n",
       "  </tbody>\n",
       "</table>\n",
       "</div>"
      ],
      "text/plain": [
       "           page_id     rev_id  rev_timestamp  is_revert_target  is_reverted  \\\n",
       "29999548   9516095  846835190     1529576038                 0            0   \n",
       "12474631    876872  923997118     1572595746                 0            0   \n",
       "62536703  53465104  867368228     1541425108                 0            0   \n",
       "73902987  60096152  888337768     1552936050                 0            0   \n",
       "43843955  28063274  917010365     1569117229                 0            0   \n",
       "\n",
       "          is_reverting  is_sample_eligible  prev_rev_id  next_rev_id  \\\n",
       "29999548             0                True    846835009    850539656   \n",
       "12474631             0                True    923211396    924618182   \n",
       "62536703             0                True    867366487    867663184   \n",
       "73902987             0                True    888337457    888338754   \n",
       "43843955             0                True    915190631           -1   \n",
       "\n",
       "          prev_rev_timestamp  next_rev_timestamp reverted_rev_ids  \\\n",
       "29999548          1529575914          1531769146               []   \n",
       "12474631          1572162918          1572930319               []   \n",
       "62536703          1541423455          1541590304               []   \n",
       "73902987          1552935890          1552936561               []   \n",
       "43843955          1568247118                  -1               []   \n",
       "\n",
       "          reverting_rev_id  reverting_rev_timestamp  \n",
       "29999548                -1                       -1  \n",
       "12474631                -1                       -1  \n",
       "62536703                -1                       -1  \n",
       "73902987                -1                       -1  \n",
       "43843955                -1                       -1  "
      ]
     },
     "execution_count": 10,
     "metadata": {},
     "output_type": "execute_result"
    }
   ],
   "source": [
    "rev_df.head()"
   ]
  },
  {
   "cell_type": "markdown",
   "metadata": {},
   "source": [
    "### Load ORES scores"
   ]
  },
  {
   "cell_type": "code",
   "execution_count": 11,
   "metadata": {},
   "outputs": [
    {
     "data": {
      "text/plain": [
       "903870"
      ]
     },
     "execution_count": 11,
     "metadata": {},
     "output_type": "execute_result"
    }
   ],
   "source": [
    "# read in the ORES scores\n",
    "revision_sample_dir = os.path.join(derived_data_dir, 'revision_sample')\n",
    "sample1_filepath = os.path.join(revision_sample_dir, 'sample1_ores_scores.csv')\n",
    "ores_df = pd.read_csv(sample1_filepath, header=None, names=['rev_id', 'damaging_prob', 'damaging_pred', 'goodfaith_prob', 'goodfaith_pred'])\n",
    "len(ores_df)"
   ]
  },
  {
   "cell_type": "code",
   "execution_count": 14,
   "metadata": {},
   "outputs": [
    {
     "data": {
      "text/plain": [
       "Counter({False: 807097, True: 92017, nan: 4756})"
      ]
     },
     "execution_count": 14,
     "metadata": {},
     "output_type": "execute_result"
    }
   ],
   "source": [
    "Counter(ores_df.damaging_pred)"
   ]
  },
  {
   "cell_type": "code",
   "execution_count": 16,
   "metadata": {},
   "outputs": [],
   "source": [
    "# drop all rows without predictions\n",
    "ores_df = ores_df.dropna(axis='index')"
   ]
  },
  {
   "cell_type": "code",
   "execution_count": 26,
   "metadata": {},
   "outputs": [
    {
     "data": {
      "image/png": "[encoded data removed]",
      "text/plain": [
       "<Figure size 432x288 with 1 Axes>"
      ]
     },
     "metadata": {
      "needs_background": "light"
     },
     "output_type": "display_data"
    }
   ],
   "source": [
    "plt.hist(ores_df.damaging_prob, bins=np.linspace(0, 1, num=100), log=True)\n",
    "plt.title(\"Distribution of ORES damaging predictions (1M sample)\")\n",
    "plt.xlabel(\"ORES 'damaging' prediction\")\n",
    "plt.ylabel(\"Revision count\")\n",
    "plt.show()"
   ]
  },
  {
   "cell_type": "code",
   "execution_count": 28,
   "metadata": {},
   "outputs": [
    {
     "data": {
      "text/plain": [
       "899114"
      ]
     },
     "execution_count": 28,
     "metadata": {},
     "output_type": "execute_result"
    }
   ],
   "source": [
    "rev_df = pd.merge(rev_df, ores_df, on='rev_id', how='inner')\n",
    "len(rev_df)"
   ]
  },
  {
   "cell_type": "code",
   "execution_count": 30,
   "metadata": {},
   "outputs": [
    {
     "data": {
      "image/png": "[encoded data removed]",
      "text/plain": [
       "<Figure size 432x288 with 1 Axes>"
      ]
     },
     "metadata": {
      "needs_background": "light"
     },
     "output_type": "display_data"
    }
   ],
   "source": [
    "x = rev_df[rev_df.is_reverted==1].damaging_prob\n",
    "plt.hist(x, bins=np.linspace(0, 1, num=50), log=False)\n",
    "plt.title(f\"Distribution of damaging predictions for reverted edits (n={len(x)})\")\n",
    "plt.xlabel(\"Probability of damaging edit\")\n",
    "plt.ylabel(\"Revert count\")\n",
    "plt.show()"
   ]
  },
  {
   "cell_type": "code",
   "execution_count": 32,
   "metadata": {},
   "outputs": [],
   "source": [
    "reverted_subset = rev_df[rev_df.is_reverted==1].copy()\n",
    "reverted_subset['time_to_revert'] = reverted_subset.reverting_rev_timestamp - reverted_subset.rev_timestamp"
   ]
  },
  {
   "cell_type": "code",
   "execution_count": 46,
   "metadata": {},
   "outputs": [
    {
     "data": {
      "image/png": "[encoded data removed]",
      "text/plain": [
       "<Figure size 432x288 with 1 Axes>"
      ]
     },
     "metadata": {
      "needs_background": "light"
     },
     "output_type": "display_data"
    }
   ],
   "source": [
    "num_bins=50\n",
    "base = 2\n",
    "x = np.clip(reverted_subset.time_to_revert, 1, None)\n",
    "logbins = np.logspace(np.log2(min(x)), np.log2(max(x)), num=num_bins, base=base, endpoint=True)\n",
    "plt.hist(x, bins=logbins, log=False, label='All', color=cmap(0))\n",
    "plt.hist(x[reverted_subset.damaging_prob >= 0.1], bins=logbins, log=False, label='Prob. damaging 10%+', alpha=1, color=cmap(0.2))\n",
    "plt.xscale('log', nonposx='clip', basex=base)\n",
    "\n",
    "ax = plt.gca()\n",
    "# add semantically interpretable time moments\n",
    "ax.axvline(1 * 60, color='black', alpha=0.6)\n",
    "ax.axvline(1 * 60 * 60, color='black', alpha=0.6)\n",
    "ax.axvline(1 * 60 * 60 * 24, color='black', alpha=0.6)\n",
    "ax.axvline(1 * 60 * 60 * 24 * 30, color='black', alpha=0.6)\n",
    "text_y = ax.transData.inverted().transform((0, ax.transAxes.transform((0, 0.90))[1]))[1]  # https://matplotlib.org/users/transforms_tutorial.html\n",
    "ax.text(1 * 60 * 1.2, text_y, 'Minute', color='darkgray')\n",
    "ax.text(1 * 60 * 60 * 1.2, text_y, 'Hour', color='darkgray')\n",
    "ax.text(1 * 60 * 60 * 24 * 1.2, text_y, 'Day', color='darkgray')\n",
    "ax.text(1 * 60 * 60 * 24 * 30 * 1.2, text_y, 'Month', color='darkgray')\n",
    "\n",
    "plt.legend(loc='center right')\n",
    "plt.title(\"Distribution of time to revert\")\n",
    "plt.xlabel(\"Time to revert (seconds)\")\n",
    "plt.ylabel(\"Revert count\")\n",
    "plt.show()"
   ]
  },
  {
   "cell_type": "code",
   "execution_count": 48,
   "metadata": {},
   "outputs": [
    {
     "data": {
      "image/png": "[encoded data removed]",
      "text/plain": [
       "<Figure size 432x288 with 1 Axes>"
      ]
     },
     "metadata": {
      "needs_background": "light"
     },
     "output_type": "display_data"
    }
   ],
   "source": [
    "num_bins=50\n",
    "base = 2\n",
    "x = np.clip(reverted_subset.time_to_revert, 1, None)\n",
    "logbins = np.logspace(np.log2(min(x)), np.log2(max(x)), num=num_bins, base=base, endpoint=True)\n",
    "plt.hist(x[reverted_subset.damaging_prob <= 0.1], bins=logbins, log=False, label='Likely not damaging')\n",
    "plt.hist(x[reverted_subset.damaging_prob >= 0.9], bins=logbins, log=False, label='Likely damaging', alpha=0.9)\n",
    "plt.xscale('log', nonposx='clip', basex=base)\n",
    "\n",
    "ax = plt.gca()\n",
    "# add semantically interpretable time moments\n",
    "ax.axvline(1 * 60, color='black', alpha=0.6)\n",
    "ax.axvline(1 * 60 * 60, color='black', alpha=0.6)\n",
    "ax.axvline(1 * 60 * 60 * 24, color='black', alpha=0.6)\n",
    "ax.axvline(1 * 60 * 60 * 24 * 30, color='black', alpha=0.6)\n",
    "text_y = ax.transData.inverted().transform((0, ax.transAxes.transform((0, 0.90))[1]))[1]  # https://matplotlib.org/users/transforms_tutorial.html\n",
    "ax.text(1 * 60 * 1.2, text_y, 'Minute', color='darkgray')\n",
    "ax.text(1 * 60 * 60 * 1.2, text_y, 'Hour', color='darkgray')\n",
    "ax.text(1 * 60 * 60 * 24 * 1.2, text_y, 'Day', color='darkgray')\n",
    "ax.text(1 * 60 * 60 * 24 * 30 * 1.2, text_y, 'Month', color='darkgray')\n",
    "\n",
    "plt.legend(loc='center right')\n",
    "plt.title(\"Time to revert by ORES prediction\")\n",
    "plt.xlabel(\"Time to revert (seconds)\")\n",
    "plt.ylabel(\"Revert count\")\n",
    "plt.show()"
   ]
  },
  {
   "cell_type": "code",
   "execution_count": 49,
   "metadata": {},
   "outputs": [
    {
     "data": {
      "text/plain": [
       "'The median likely-damaging revert is reverted in 30.0 seconds, while the median likely-non-damaging revert is reverted in 113.2 minutes.'"
      ]
     },
     "execution_count": 49,
     "metadata": {},
     "output_type": "execute_result"
    }
   ],
   "source": [
    "f\"The median likely-damaging revert is reverted in {np.quantile(x[reverted_subset.damaging_prob >= 0.9], 0.5):.1f} seconds, while the median likely-non-damaging revert is reverted in {np.quantile(x[reverted_subset.damaging_prob <= 0.1], 0.5)/60:.1f} minutes.\""
   ]
  },
  {
   "cell_type": "code",
   "execution_count": 51,
   "metadata": {},
   "outputs": [
    {
     "data": {
      "text/plain": [
       "(-0.37750188713616134, 0.0)"
      ]
     },
     "execution_count": 51,
     "metadata": {},
     "output_type": "execute_result"
    }
   ],
   "source": [
    "# the expected negative correlation exists\n",
    "scipy.stats.pearsonr(reverted_subset.damaging_prob, np.log(np.clip(reverted_subset.time_to_revert, 1, None)))"
   ]
  },
  {
   "cell_type": "markdown",
   "metadata": {},
   "source": [
    "### Text retrieval functions"
   ]
  },
  {
   "cell_type": "code",
   "execution_count": 65,
   "metadata": {},
   "outputs": [],
   "source": [
    "def get_comparison_html(prev_rev_id, rev_id):\n",
    "    session = mwapi.Session(\"https://en.wikipedia.org/w/api.php\", user_agent=\"levon003@umn.edu - revision text retrieval\")\n",
    "    params = {\n",
    "        'action': 'compare',\n",
    "        'format': 'json',\n",
    "        'formatversion': '2',\n",
    "        'fromrev': prev_rev_id,\n",
    "        'torev': rev_id,\n",
    "    }\n",
    "    result = session.get(params)\n",
    "    return result['compare']['body']\n",
    "\n",
    "def display_comparison_html(prev_rev_id, rev_id):\n",
    "    display(HTML(get_comparison_html(prev_rev_id, rev_id)))"
   ]
  },
  {
   "cell_type": "code",
   "execution_count": null,
   "metadata": {},
   "outputs": [],
   "source": []
  },
  {
   "cell_type": "markdown",
   "metadata": {},
   "source": [
    "### False Positives analysis\n",
    "\n",
    "Looking at cases where ORES prediction is high, but (a) revision was only reverted after a long period of time or (b) a long period of time separates this revision from the next."
   ]
  },
  {
   "cell_type": "code",
   "execution_count": 59,
   "metadata": {},
   "outputs": [],
   "source": [
    "one_day = 60 * 60 * 24  # in seconds\n",
    "fp_time_threshold = one_day\n",
    "fp_predicted_prob_threshold = 0.9"
   ]
  },
  {
   "cell_type": "code",
   "execution_count": 60,
   "metadata": {},
   "outputs": [
    {
     "data": {
      "text/plain": [
       "0.13209107490648284"
      ]
     },
     "execution_count": 60,
     "metadata": {},
     "output_type": "execute_result"
    }
   ],
   "source": [
    "np.sum(reverted_subset.time_to_revert >= fp_time_threshold) / len(reverted_subset)"
   ]
  },
  {
   "cell_type": "code",
   "execution_count": 61,
   "metadata": {},
   "outputs": [
    {
     "data": {
      "text/plain": [
       "0.055669768448387794"
      ]
     },
     "execution_count": 61,
     "metadata": {},
     "output_type": "execute_result"
    }
   ],
   "source": [
    "np.sum(reverted_subset.damaging_prob >= fp_predicted_prob_threshold) / len(reverted_subset)"
   ]
  },
  {
   "cell_type": "code",
   "execution_count": 63,
   "metadata": {},
   "outputs": [
    {
     "data": {
      "text/plain": [
       "(135, 0.0010433734194824867)"
      ]
     },
     "execution_count": 63,
     "metadata": {},
     "output_type": "execute_result"
    }
   ],
   "source": [
    "reverted_potential_false_positives = reverted_subset[(reverted_subset.time_to_revert >= fp_time_threshold)&(reverted_subset.damaging_prob >= fp_predicted_prob_threshold)]\n",
    "len(reverted_potential_false_positives), len(reverted_potential_false_positives) / len(reverted_subset)"
   ]
  },
  {
   "cell_type": "markdown",
   "metadata": {},
   "source": [
    "Only 135 (0.1% of the reverts!) reverted revisions were reverted after more than a day and have a predicted ORES damaging probability of $\\ge 0.9$."
   ]
  },
  {
   "cell_type": "code",
   "execution_count": 67,
   "metadata": {},
   "outputs": [],
   "source": [
    "import ipywidgets as widgets"
   ]
  },
  {
   "cell_type": "code",
   "execution_count": 96,
   "metadata": {
    "scrolled": false
   },
   "outputs": [
    {
     "data": {
      "application/vnd.jupyter.widget-view+json": {
       "model_id": "d7bdf553902a4ba39e0c23a6660a90e2",
       "version_major": 2,
       "version_minor": 0
      },
      "text/plain": [
       "Button(description='Damaging (True Positive)', layout=Layout(overflow='visible', width='100%'), style=ButtonSt…"
      ]
     },
     "metadata": {},
     "output_type": "display_data"
    },
    {
     "data": {
      "application/vnd.jupyter.widget-view+json": {
       "model_id": "af3403df943a408289b1e118bddcfed1",
       "version_major": 2,
       "version_minor": 0
      },
      "text/plain": [
       "Button(description='Unknown', layout=Layout(overflow='visible', width='100%'), style=ButtonStyle())"
      ]
     },
     "metadata": {},
     "output_type": "display_data"
    },
    {
     "data": {
      "application/vnd.jupyter.widget-view+json": {
       "model_id": "32ca1799aab74d0fa98b2167a8a9c359",
       "version_major": 2,
       "version_minor": 0
      },
      "text/plain": [
       "Button(description='Not Damaging (False Positive)', layout=Layout(overflow='visible', width='100%'), style=But…"
      ]
     },
     "metadata": {},
     "output_type": "display_data"
    },
    {
     "data": {
      "application/vnd.jupyter.widget-view+json": {
       "model_id": "bfe549130ea74c70b1181e5182f4951d",
       "version_major": 2,
       "version_minor": 0
      },
      "text/plain": [
       "Button(description='Back', layout=Layout(overflow='visible', width='100%'), style=ButtonStyle())"
      ]
     },
     "metadata": {},
     "output_type": "display_data"
    },
    {
     "data": {
      "application/vnd.jupyter.widget-view+json": {
       "model_id": "ac3369c8adff47378acbf913bac19725",
       "version_major": 2,
       "version_minor": 0
      },
      "text/plain": [
       "Output(layout=Layout(overflow='visible', width='100%'))"
      ]
     },
     "metadata": {},
     "output_type": "display_data"
    }
   ],
   "source": [
    "from IPython.display import display\n",
    "damaging_button = widgets.Button(description=\"Damaging (True Positive)\", layout={\n",
    "    'width': '100%',\n",
    "    'overflow': 'visible',\n",
    "})\n",
    "unknown_button = widgets.Button(description=\"Unknown\", layout={\n",
    "    'width': '100%',\n",
    "    'overflow': 'visible',\n",
    "})\n",
    "not_damaging_button = widgets.Button(description=\"Not Damaging (False Positive)\", layout={\n",
    "    'width': '100%',\n",
    "    'overflow': 'visible',\n",
    "})\n",
    "back_button = widgets.Button(description=\"Back\", layout={\n",
    "    'width': '100%',\n",
    "    'overflow': 'visible',\n",
    "})\n",
    "output = widgets.Output(layout={\n",
    "    'width': '100%',\n",
    "    'overflow': 'visible',\n",
    "})\n",
    "\n",
    "display(damaging_button, unknown_button, not_damaging_button, back_button, output)\n",
    "\n",
    "global annotation_index\n",
    "annotation_index = -1\n",
    "def on_button_clicked(b):\n",
    "    global annotation_index\n",
    "    backward = False\n",
    "    record_annotation = True\n",
    "    annotation = \"\"\n",
    "    if b.description.startswith('Back'):\n",
    "        backward = True  # we are going back\n",
    "        record_annotation = False\n",
    "    elif b.description.startswith('Not'):\n",
    "        annotation = \"not_damaging\"\n",
    "    elif b.description.startswith('Unknown'):\n",
    "        annotation = 'unknown'\n",
    "    else:\n",
    "        annotation = \"damaging\"\n",
    "    \n",
    "    if record_annotation and annotation_index >= 0:\n",
    "        with open(os.path.join(working_dir, 'fp_revert_annotation.csv'), 'a') as outfile:\n",
    "            tup = reverted_potential_false_positives.iloc[annotation_index]\n",
    "            rev_id = tup.rev_id\n",
    "            curr_time = int(datetime.now().timestamp())\n",
    "            outfile.write(f\"{rev_id},{annotation},{curr_time}\\n\")\n",
    "    \n",
    "    with output:\n",
    "        output.clear_output()\n",
    "        if backward:\n",
    "            annotation_index -= 1\n",
    "        else:\n",
    "            annotation_index += 1\n",
    "        tup = reverted_potential_false_positives.iloc[annotation_index]\n",
    "        display_comparison_html(tup.prev_rev_id, tup.rev_id)\n",
    "\n",
    "damaging_button.on_click(on_button_clicked)\n",
    "unknown_button.on_click(on_button_clicked)\n",
    "not_damaging_button.on_click(on_button_clicked)\n",
    "back_button.on_click(on_button_clicked)"
   ]
  },
  {
   "cell_type": "code",
   "execution_count": 92,
   "metadata": {},
   "outputs": [
    {
     "data": {
      "text/plain": [
       "139"
      ]
     },
     "execution_count": 92,
     "metadata": {},
     "output_type": "execute_result"
    }
   ],
   "source": [
    "annotations = pd.read_csv(os.path.join(working_dir, 'fp_revert_annotation.csv'), header=None, names=['rev_id', 'annotation', 'annotation_time'])\n",
    "len(annotations)"
   ]
  },
  {
   "cell_type": "code",
   "execution_count": 94,
   "metadata": {},
   "outputs": [
    {
     "data": {
      "text/plain": [
       "135"
      ]
     },
     "execution_count": 94,
     "metadata": {},
     "output_type": "execute_result"
    }
   ],
   "source": [
    "annotations = annotations.drop_duplicates(subset='rev_id', keep='last')\n",
    "len(annotations)"
   ]
  },
  {
   "cell_type": "code",
   "execution_count": 95,
   "metadata": {},
   "outputs": [
    {
     "data": {
      "text/plain": [
       "[('damaging', 119), ('unknown', 13), ('not_damaging', 3)]"
      ]
     },
     "execution_count": 95,
     "metadata": {},
     "output_type": "execute_result"
    }
   ],
   "source": [
    "Counter(annotations.annotation).most_common()"
   ]
  },
  {
   "cell_type": "code",
   "execution_count": null,
   "metadata": {},
   "outputs": [],
   "source": []
  },
  {
   "cell_type": "code",
   "execution_count": null,
   "metadata": {},
   "outputs": [],
   "source": []
  },
  {
   "cell_type": "code",
   "execution_count": null,
   "metadata": {},
   "outputs": [],
   "source": []
  },
  {
   "cell_type": "markdown",
   "metadata": {},
   "source": [
    "### False Negatives analysis\n",
    "\n",
    "Low ORES score but a rapid revision."
   ]
  },
  {
   "cell_type": "code",
   "execution_count": 100,
   "metadata": {},
   "outputs": [],
   "source": [
    "fn_time_threshold = 60  # 60 seconds\n",
    "fn_predicted_prob_threshold = 0.1"
   ]
  },
  {
   "cell_type": "code",
   "execution_count": 101,
   "metadata": {},
   "outputs": [
    {
     "data": {
      "text/plain": [
       "0.19808637586174915"
      ]
     },
     "execution_count": 101,
     "metadata": {},
     "output_type": "execute_result"
    }
   ],
   "source": [
    "np.sum(reverted_subset.time_to_revert <= fn_time_threshold) / len(reverted_subset)"
   ]
  },
  {
   "cell_type": "code",
   "execution_count": 102,
   "metadata": {},
   "outputs": [
    {
     "data": {
      "text/plain": [
       "0.23963582403314063"
      ]
     },
     "execution_count": 102,
     "metadata": {},
     "output_type": "execute_result"
    }
   ],
   "source": [
    "np.sum(reverted_subset.damaging_prob <= fn_predicted_prob_threshold) / len(reverted_subset)"
   ]
  },
  {
   "cell_type": "code",
   "execution_count": 103,
   "metadata": {},
   "outputs": [
    {
     "data": {
      "text/plain": [
       "(3092, 0.02389711565214703)"
      ]
     },
     "execution_count": 103,
     "metadata": {},
     "output_type": "execute_result"
    }
   ],
   "source": [
    "reverted_potential_false_negatives = reverted_subset[(reverted_subset.time_to_revert <= fn_time_threshold)&(reverted_subset.damaging_prob <= fn_predicted_prob_threshold)]\n",
    "len(reverted_potential_false_negatives), len(reverted_potential_false_negatives) / len(reverted_subset)"
   ]
  },
  {
   "cell_type": "code",
   "execution_count": null,
   "metadata": {},
   "outputs": [],
   "source": []
  },
  {
   "cell_type": "code",
   "execution_count": 104,
   "metadata": {},
   "outputs": [
    {
     "data": {
      "application/vnd.jupyter.widget-view+json": {
       "model_id": "c5368decfbe4414899844a460bb3c0ce",
       "version_major": 2,
       "version_minor": 0
      },
      "text/plain": [
       "Button(description='Not Damaging (True Negative)', layout=Layout(overflow='visible', width='100%'), style=Butt…"
      ]
     },
     "metadata": {},
     "output_type": "display_data"
    },
    {
     "data": {
      "application/vnd.jupyter.widget-view+json": {
       "model_id": "80cdb9332d5b4276a59e478dbcfd0c24",
       "version_major": 2,
       "version_minor": 0
      },
      "text/plain": [
       "Button(description='Unknown', layout=Layout(overflow='visible', width='100%'), style=ButtonStyle())"
      ]
     },
     "metadata": {},
     "output_type": "display_data"
    },
    {
     "data": {
      "application/vnd.jupyter.widget-view+json": {
       "model_id": "32f6f0a61737448a816a9d50e72308cd",
       "version_major": 2,
       "version_minor": 0
      },
      "text/plain": [
       "Button(description='Damaging (False Negative)', layout=Layout(overflow='visible', width='100%'), style=ButtonS…"
      ]
     },
     "metadata": {},
     "output_type": "display_data"
    },
    {
     "data": {
      "application/vnd.jupyter.widget-view+json": {
       "model_id": "5b017c5d767e4855a7849ad0b47ad8e9",
       "version_major": 2,
       "version_minor": 0
      },
      "text/plain": [
       "Button(description='Back', layout=Layout(overflow='visible', width='100%'), style=ButtonStyle())"
      ]
     },
     "metadata": {},
     "output_type": "display_data"
    },
    {
     "data": {
      "application/vnd.jupyter.widget-view+json": {
       "model_id": "18b69ec8b5884b6fa3cd7a91f6381ff7",
       "version_major": 2,
       "version_minor": 0
      },
      "text/plain": [
       "Output(layout=Layout(overflow='visible', width='100%'))"
      ]
     },
     "metadata": {},
     "output_type": "display_data"
    }
   ],
   "source": [
    "from IPython.display import display\n",
    "damaging_button = widgets.Button(description=\"Damaging (False Negative)\", layout={\n",
    "    'width': '100%',\n",
    "    'overflow': 'visible',\n",
    "})\n",
    "unknown_button = widgets.Button(description=\"Unknown\", layout={\n",
    "    'width': '100%',\n",
    "    'overflow': 'visible',\n",
    "})\n",
    "not_damaging_button = widgets.Button(description=\"Not Damaging (True Negative)\", layout={\n",
    "    'width': '100%',\n",
    "    'overflow': 'visible',\n",
    "})\n",
    "back_button = widgets.Button(description=\"Back\", layout={\n",
    "    'width': '100%',\n",
    "    'overflow': 'visible',\n",
    "})\n",
    "output = widgets.Output(layout={\n",
    "    'width': '100%',\n",
    "    'overflow': 'visible',\n",
    "})\n",
    "\n",
    "display(not_damaging_button, unknown_button, damaging_button, back_button, output)\n",
    "\n",
    "global annotation_index\n",
    "annotation_index = -1\n",
    "def on_button_clicked(b):\n",
    "    global annotation_index\n",
    "    backward = False\n",
    "    record_annotation = True\n",
    "    annotation = \"\"\n",
    "    if b.description.startswith('Back'):\n",
    "        backward = True  # we are going back\n",
    "        record_annotation = False\n",
    "    elif b.description.startswith('Not'):\n",
    "        annotation = \"not_damaging\"\n",
    "    elif b.description.startswith('Unknown'):\n",
    "        annotation = 'unknown'\n",
    "    else:\n",
    "        annotation = \"damaging\"\n",
    "    \n",
    "    if record_annotation and annotation_index >= 0:\n",
    "        with open(os.path.join(working_dir, 'fn_revert_annotation.csv'), 'a') as outfile:\n",
    "            tup = reverted_potential_false_negatives.iloc[annotation_index]\n",
    "            rev_id = tup.rev_id\n",
    "            curr_time = int(datetime.now().timestamp())\n",
    "            outfile.write(f\"{rev_id},{annotation},{curr_time}\\n\")\n",
    "    \n",
    "    with output:\n",
    "        output.clear_output()\n",
    "        if backward:\n",
    "            annotation_index -= 1\n",
    "        else:\n",
    "            annotation_index += 1\n",
    "        tup = reverted_potential_false_negatives.iloc[annotation_index]\n",
    "        display_comparison_html(tup.prev_rev_id, tup.rev_id)\n",
    "\n",
    "damaging_button.on_click(on_button_clicked)\n",
    "unknown_button.on_click(on_button_clicked)\n",
    "not_damaging_button.on_click(on_button_clicked)\n",
    "back_button.on_click(on_button_clicked)"
   ]
  },
  {
   "cell_type": "code",
   "execution_count": 108,
   "metadata": {},
   "outputs": [
    {
     "data": {
      "text/plain": [
       "20"
      ]
     },
     "execution_count": 108,
     "metadata": {},
     "output_type": "execute_result"
    }
   ],
   "source": [
    "annotations = pd.read_csv(os.path.join(working_dir, 'fn_revert_annotation.csv'), header=None, names=['rev_id', 'annotation', 'annotation_time'])\n",
    "len(annotations)"
   ]
  },
  {
   "cell_type": "code",
   "execution_count": 109,
   "metadata": {},
   "outputs": [
    {
     "data": {
      "text/plain": [
       "20"
      ]
     },
     "execution_count": 109,
     "metadata": {},
     "output_type": "execute_result"
    }
   ],
   "source": [
    "annotations = annotations.drop_duplicates(subset='rev_id', keep='last')\n",
    "len(annotations)"
   ]
  },
  {
   "cell_type": "code",
   "execution_count": 110,
   "metadata": {},
   "outputs": [
    {
     "data": {
      "text/plain": [
       "[('unknown', 10), ('not_damaging', 8), ('damaging', 2)]"
      ]
     },
     "execution_count": 110,
     "metadata": {},
     "output_type": "execute_result"
    }
   ],
   "source": [
    "Counter(annotations.annotation).most_common()"
   ]
  },
  {
   "cell_type": "code",
   "execution_count": null,
   "metadata": {},
   "outputs": [],
   "source": []
  },
  {
   "cell_type": "code",
   "execution_count": null,
   "metadata": {},
   "outputs": [],
   "source": []
  },
  {
   "cell_type": "code",
   "execution_count": null,
   "metadata": {},
   "outputs": [],
   "source": []
  },
  {
   "cell_type": "code",
   "execution_count": null,
   "metadata": {},
   "outputs": [],
   "source": []
  },
  {
   "cell_type": "code",
   "execution_count": 11,
   "metadata": {},
   "outputs": [
    {
     "data": {
      "text/plain": [
       "1000000"
      ]
     },
     "execution_count": 11,
     "metadata": {},
     "output_type": "execute_result"
    }
   ],
   "source": [
    "rev_id_list = rev_df.rev_id\n",
    "len(rev_id_list)"
   ]
  },
  {
   "cell_type": "code",
   "execution_count": 15,
   "metadata": {},
   "outputs": [],
   "source": [
    "session = mwapi.Session(\"https://en.wikipedia.org/w/api.php\", user_agent=\"levon003@umn.edu - revision text retrieval\")"
   ]
  },
  {
   "cell_type": "code",
   "execution_count": 16,
   "metadata": {},
   "outputs": [
    {
     "data": {
      "text/plain": [
       "{'batchcomplete': '',\n",
       " 'query': {'pages': {'43825897': {'pageid': 43825897,\n",
       "    'ns': 0,\n",
       "    'title': 'Bethel Church, Mansfield Woodhouse',\n",
       "    'contentmodel': 'wikitext',\n",
       "    'pagelanguage': 'en',\n",
       "    'pagelanguagehtmlcode': 'en',\n",
       "    'pagelanguagedir': 'ltr',\n",
       "    'touched': '2020-02-09T10:07:54Z',\n",
       "    'lastrevid': 870460930,\n",
       "    'length': 20559,\n",
       "    'fullurl': 'https://en.wikipedia.org/wiki/Bethel_Church,_Mansfield_Woodhouse',\n",
       "    'editurl': 'https://en.wikipedia.org/w/index.php?title=Bethel_Church,_Mansfield_Woodhouse&action=edit',\n",
       "    'canonicalurl': 'https://en.wikipedia.org/wiki/Bethel_Church,_Mansfield_Woodhouse'}}}}"
      ]
     },
     "execution_count": 16,
     "metadata": {},
     "output_type": "execute_result"
    }
   ],
   "source": [
    "params = {\n",
    "    'action': 'query',\n",
    "    'format': 'json',\n",
    "    'pageids': str(43825897),\n",
    "    'prop': 'info',\n",
    "    'inprop': 'url'\n",
    "}\n",
    "session.get(params)"
   ]
  },
  {
   "cell_type": "code",
   "execution_count": 57,
   "metadata": {},
   "outputs": [],
   "source": [
    "params = {\n",
    "    'action': 'query',\n",
    "    'format': 'json',\n",
    "    'formatversion': '2',\n",
    "    'revids': \"|\".join([str(rev_id) for rev_id in rev_id_list[:50]]),\n",
    "    'prop': 'revisions',\n",
    "    'rvprop': 'timestamp|user|comment|content',\n",
    "    'rvslots': 'main',\n",
    "}\n",
    "result = session.get(params)"
   ]
  },
  {
   "cell_type": "code",
   "execution_count": 58,
   "metadata": {},
   "outputs": [
    {
     "data": {
      "text/plain": [
       "dict_keys(['batchcomplete', 'query'])"
      ]
     },
     "execution_count": 58,
     "metadata": {},
     "output_type": "execute_result"
    }
   ],
   "source": [
    "result.keys()"
   ]
  },
  {
   "cell_type": "code",
   "execution_count": 59,
   "metadata": {},
   "outputs": [
    {
     "data": {
      "text/plain": [
       "True"
      ]
     },
     "execution_count": 59,
     "metadata": {},
     "output_type": "execute_result"
    }
   ],
   "source": [
    "result['batchcomplete']"
   ]
  },
  {
   "cell_type": "code",
   "execution_count": 60,
   "metadata": {},
   "outputs": [
    {
     "data": {
      "text/plain": [
       "dict_keys(['pageid', 'ns', 'title', 'revisions'])"
      ]
     },
     "execution_count": 60,
     "metadata": {},
     "output_type": "execute_result"
    }
   ],
   "source": [
    "result['query']['pages'][0].keys()"
   ]
  },
  {
   "cell_type": "code",
   "execution_count": 61,
   "metadata": {},
   "outputs": [
    {
     "data": {
      "text/plain": [
       "dict_keys(['user', 'anon', 'timestamp', 'slots', 'comment'])"
      ]
     },
     "execution_count": 61,
     "metadata": {},
     "output_type": "execute_result"
    }
   ],
   "source": [
    "result['query']['pages'][0]['revisions'][0].keys()"
   ]
  },
  {
   "cell_type": "code",
   "execution_count": 62,
   "metadata": {},
   "outputs": [
    {
     "data": {
      "text/plain": [
       "dict_keys(['contentmodel', 'contentformat', 'content'])"
      ]
     },
     "execution_count": 62,
     "metadata": {},
     "output_type": "execute_result"
    }
   ],
   "source": [
    "result['query']['pages'][0]['revisions'][0]['slots']['main'].keys()"
   ]
  },
  {
   "cell_type": "code",
   "execution_count": 63,
   "metadata": {},
   "outputs": [
    {
     "data": {
      "text/plain": [
       "'{{distinguish|text=the [[Qing dynasty]], the last dynasty of Imperial China}}\\n{{redirect|Qin Empire||Qin Empire (disambiguation)}}\\n{{pp-pc1}}\\n{{Use dmy dates|date=November 2013}}\\n{{Use British English|date=August 2017}}\\n{{Infobox former country\\n|native_name = {{big|{{nobold|{{lang|zh|秦}}}}}}\\n|conventional_long_name = Qin\\n|common_name = Qin dynasty\\n|continent = Asia\\n|region = East Asia\\n|era = [[Imperial era of Chinese history|Imperial]]\\n|status = Empire\\n|status_text =\\n|government_type = [[Absolute monarchy]]\\n|p1 = Zhou dynasty\\n|p2 = Qin (state)\\n|s1 = Eighteen Kingdoms\\n|s2 = Han dynasty\\n|s3 = Nanyue\\n|event_start = {{nowrap|[[Qin\\'s wars of unification|Unification of China]]}}\\n|year_start = 221 BC\\n|event1 = {{nowrap|Death of [[Qin Shi Huang]]}}\\n|date_event1 = 210 BC\\n|event2 = |date_event2 = |event3 = |date_event3 = |event4 = |date_event4 = |event5 = |date_event5 = \\n|event_end = {{nowrap|Surrender to [[Liu Bang]]}}\\n|year_end = 206 BC\\n|image_map2 = Qin Dynasty.png\\n|image_map2_caption = Commanderies of the Qin dynasty\\n|capital = [[Xianyang]]\\n|common_languages = [[Old Chinese]]\\n|religion = [[Chinese folk religion]]\\n|currency = [[Ban Liang]]\\n|leader1 = [[Qin Shi Huang]]\\n|leader2 = [[Qin Er Shi]]\\n|year_leader1 = 221–210 BC\\n|year_leader2 = 210–207 BC\\n|title_leader = [[List of rulers of China#Qin dynasty|Emperor]]\\n|deputy1 = [[Li Si]]\\n|year_deputy1 = 221–208 BC\\n|title_deputy = [[Grand councilor#List of chancellors of Qin dynasty since 251 BC|Chancellor]]\\n|deputy2 = [[Zhao Gao]]\\n|year_deputy2 = 208–207 BC\\n|stat_year1 = 210 BC\\n|stat_area1 =\\n|stat_pop1 = 20,000,000\\n|stat_year2= 220 BC<ref name=\"Taagepera\">{{cite journal|last1=Taagepera|first1=Rein|title=Size and Duration of Empires: Growth-Decline Curves, 600 B.C. to 600 A.D|journal=Social Science History|date=1979|volume=3|issue=3/4|page=121|doi=10.2307/1170959|jstor=1170959}}</ref>\\n|stat_area2= 2300000\\n|today = China\\n}}\\n{{infobox Chinese\\n|pic=Qin dynasty (Chinese characters).svg\\n|piccap=\"Qin dynasty\" in Qin-era [[seal script]] (top) and modern (bottom) [[Chinese characters]]\\n|picsize=130px\\n|c={{linktext|秦朝}}\\n|w=Chʻin<sup>2</sup>-chʻao<sup>2</sup>\\n|p=Qíncháo\\n|bpmf=ㄑㄧㄣˊ&nbsp;&nbsp;&nbsp;ㄔㄠˊ\\n|mi={{IPAc-cmn|q|in|2|.|ch|ao|2}}\\n|gr=Chynchaur\\n|tp=Cíncháo\\n|myr=Chíncháu\\n|showflag=p\\n|suz=Zín záu\\n|y=Chèuhnchìuh\\n|ci={{IPAc-yue|c|eon|4|.|c|iu|4}}\\n|j=Ceon4ciu4\\n|poj=Chîn-tiâu\\n|tl=Tsîn-tiâu\\n|oc-bs=&#42;{{IPA|[dz]i[n] m-t<r>aw}}\\n}}\\n{{Chinese Legalism}}\\n{{History of China|BC=1}}\\n\\nThe \\'\\'\\'Qin dynasty\\'\\'\\' ({{zh|c={{linktext|秦朝}}|w=Chʻin²-chʻao²|p=Qíncháo}}) was the first [[Dynasties in Chinese history|dynasty]] of [[Imperial China]],<ref>\"...The collapse of the Western Zhou state in 771 BC and the lack of a true central authority thereafter opened ways to ﬁerce inter-state warfare that continued over the next ﬁve hundred years until the Qin uniﬁcation of China in 221 BC, \\'\\'\\'thus giving China her ﬁrst empire.\\'\\'\\'\" \\n\\nEarly China A Social and Cultural History, Cambridge University Press, 2013, page 6.</ref> lasting from 221 to 206 BC. Named for its heartland in [[Qin (state)|Qin state]] (modern [[Gansu]] and [[Shaanxi]]), the dynasty was founded by [[Qin Shi Huang]], the First Emperor of Qin. The strength of the Qin state was greatly increased by the [[Legalism (Chinese philosophy)|Legalist]] reforms of [[Shang Yang]] in the fourth century BC, during the [[Warring States period]]. In the mid and late third century BC, the Qin state carried out a series of swift conquests, first ending the powerless [[Zhou dynasty]], and eventually conquering the other six of the [[Seven Warring States]]. Its 15 years was the shortest major dynasty in Chinese history, consisting of only two emperors, but inaugurated an imperial system that lasted, with interruption and adaptation, until 1912 CE.\\n\\nThe Qin sought to create a state unified by structured political power and a large military supported by a stable economy.<ref name=\"Tanner\">Tanner 2010, p. 85-89</ref> The central government moved to undercut aristocrats and landowners to gain direct administrative control over the peasantry, who comprised the overwhelming majority of the population and labour force. This allowed ambitious projects involving three hundred thousand peasants and convicts, such as connecting walls along the northern border, eventually developing into the [[Great Wall of China]].<ref>{{Cite book|title=Ancient World History-Patterns of Interaction|last=Beck|first=B, Black L, Krager, S, et al.|publisher=Mc Dougal Little|year=2003|isbn=0-618-18393-0|location=Evanston, IL|pages=187|quote=|via=}}</ref>\\n\\nThe Qin introduced a range of reforms such as standardized currency, weights, measures, and a uniform system of writing, which aimed to unify the state and promote commerce. Additionally, its military used the most recent weaponry, transportation, and tactics, though the government was heavy-handedly bureaucratic. Han dynasty Confucians portrayed the dynasty as a monolithic tyranny, notably citing a purge known as the [[burning of books and burying of scholars]] although some modern scholars dispute the veracity of these accounts.\\n\\nWhen the first emperor died in 210 BC, two of his advisers placed an heir on the throne in an attempt to influence and control the administration of the dynasty. These advisors squabbled among themselves, resulting in both of their deaths and that of the second Qin Emperor. Popular revolt broke out and the weakened empire soon fell to a [[Chu (state)|Chu]] general, [[Xiang Yu]], who was proclaimed Hegemon-King of Western Chu, and [[Liu Bang]], who later founded the [[Han dynasty]]. Despite its short reign, the dynasty greatly influenced the future of China, particularly the Han, and its name is thought to be the origin of the [[China#Etymology|European name]] for China.\\n\\n==History==\\n{{see also|Qin (state)|Timeline of the Warring States and the Qin dynasty}}\\n\\n===Origins and early development===\\n\\n[[File:States of Zhou Dynasty.png|thumb|left|Map showing major states of Eastern Zhou]]\\n\\nIn the 9th century BC, [[Feizi]], a supposed descendant of the ancient political advisor [[Gao Yao (Xia dynasty)|Gao Yao]], was granted rule over Qin City. The modern city of [[Tianshui]] stands where this city once was. During the rule of [[King Xiao of Zhou]], the eighth king of the Zhou dynasty, this area became known as the state of Qin. In 897 BC, under the [[Gonghe Regency]], the area became a dependency allotted for the purpose of raising and breeding horses.<ref name=\"lewis17\">Lewis 2007, p. 17</ref> One of Feizi\\'s descendants, [[Duke Zhuang of Qin|Duke Zhuang]], became favoured by [[King Ping of Zhou]], the thirteenth king in that line. As a reward, Zhuang\\'s son, Duke Xiang, was sent eastward as the leader of a war expedition, during which he formally established the Qin.<ref name=\"peopledailyonline\">{{cite web|url=http://english.people.com.cn/200602/20/eng20060220_244270.html|title=Chinese surname history: Qin|publisher=[[People\\'s Daily]]|accessdate=28 June 2008|deadurl=no|archiveurl=https://web.archive.org/web/20080510043425/http://english.people.com.cn/200602/20/eng20060220_244270.html|archivedate=10 May 2008|df=dmy-all}}</ref>\\n\\nThe state of Qin first began a military expedition into central China in 672 BC, though it did not engage in any serious incursions due to the threat from neighbouring tribesmen. By the dawn of the fourth century BC, however, the neighbouring tribes had all been either subdued or conquered, and the stage was set for the rise of Qin expansionism.<ref name=\"lewis1718\">Lewis 2007, pp. 17–18</ref>\\n\\n===Growth of power===\\n\\n[[File:Streitende-Reiche2.jpg|thumb|left|Map of the Warring States. Qin is shown in pink]]\\n[[File:EN-QIN260BCE.jpg|thumb|left|Map of the Growth of Qin]]\\n\\nLord [[Shang Yang]], a Qin statesman of the [[Warring States period]], advocated a philosophy of [[Legalism (Chinese philosophy)|Legalism]], introducing a number of militarily advantageous reforms from 361 BC until his death in 338 BC. \\nYang also helped construct the Qin capital, commencing in the mid-fourth century BC [[Xianyang]]. The resulting city greatly resembled the capitals of other Warring States.<ref>Lewis 2007, p. 88</ref>\\n\\nNotably, Qin Legalism encouraged practical and ruthless warfare.<ref name=\"morton45\">Morton 1995, p. 45</ref> During the [[Spring and Autumn period]],<ref name=\"Origins of Statecraft in China\">Origins of Statecraft in China</ref> the prevalent philosophy had dictated war as a gentleman\\'s activity; military commanders were instructed to respect what they perceived to be Heaven\\'s laws in battle.<ref name=\"morton26\">Morton 1995, p. 26</ref> For example, when [[Duke Xiang of Song]]<ref group=\"note\">Not to be confused with any Duke of the [[Song dynasty]] of a later period.</ref> was at war with the state of Chu during the Warring States period, he declined an opportunity to attack the enemy force, commanded by Zhu, while they were crossing a river. After allowing them to cross and marshal their forces, he was decisively defeated in the ensuing battle. When his advisors later admonished him for such excessive courtesy to the enemy, he retorted, \"The sage does not crush the feeble, nor give the order for attack until the enemy have formed their ranks.\"<ref name=autogenerated2>Morton 1995, pg. 26</ref>\\n\\nThe Qin disregarded this military tradition, taking advantage of their enemy\\'s weaknesses. A nobleman in the [[Wei (state)|state of Wei]] accused the Qin state of being \"avaricious, perverse, eager for profit, and without sincerity. It knows nothing about etiquette, proper relationships, and virtuous conduct, and if there be an opportunity for material gain, it will disregard its relatives as if they were animals.\"<ref>Time-Life Books 1993, p. 86</ref> It was this Legalist thought combined with strong leadership from long-lived rulers, openness to employ talented men from other states, and little internal opposition that gave the Qin such a strong political base.<ref name=\"kinney10\">Kinney and Clark 2005, p. 10</ref>\\n\\nAnother advantage of the Qin was that they had a large, efficient army<ref group=\"note\">This was due to the large workforce available as a result of their landowning policies (implemented by Shang Yang), described in the [[#Culture and society|culture and society]] section.</ref> and capable generals. They utilised the [[#Government and military|newest developments in weaponry and transportation]] as well, which many of their enemies lacked. These latter developments allowed greater mobility over several different terrain types which were most common in many regions of China. Thus, in both ideology and practice, the Qin were militarily superior.<ref name=\"morton45\" />\\n\\nFinally, the Qin Empire had a geographical advantage due to its fertility and strategic position, protected by mountains that made the state a natural stronghold.<ref group=\"note\">This was the heart of the [[Guanzhong]] region, as opposed to the region of the [[Yangtze River]] drainage basin, known as Guandong. The warlike nature of the Qin in Guanzhong evolved into a Han dynasty adage: \"Guanzhong produces generals, while Guandong produces ministers.\" (Lewis 2007, p. 17)</ref> Its expanded agricultural output helped sustain Qin\\'s large army with food and natural resources;<ref name=\"kinney10\"/> the [[Wei River]] canal built in 246 BC was particularly significant in this respect.<ref name=\"lewis1819\">Lewis 2007, pp. 18–19</ref>\\n\\n===Conquest of the Warring States===\\n{{Main|Qin\\'s wars of unification}}\\n\\n[[File:Qin Unification.png|thumb|left|Map showing the unification of Qin during 230–211 BC]]\\n\\nDuring the Warring States period preceding the Qin dynasty, the major states vying for dominance were [[Yan (state)|Yan]], [[Zhao (state)|Zhao]], [[Qi (state)|Qi]], [[Chu (state)|Chu]], [[Han (state)|Han]], [[Wei (state)|Wei]] and Qin. The rulers of these states styled themselves as kings, rather than using the titles of lower nobility they had previously held. However, none elevated himself to believe that he had the \"Mandate of Heaven\", as the Zhou kings had claimed, nor that he had the right to offer sacrifices—they left this to the Zhou rulers.<ref name=\"morton25\">Morton 1995, p. 25</ref>\\n\\nBefore their conquest in the fourth and third centuries BC, the Qin suffered several setbacks. Shang Yang was executed in 338 BC by [[King Huiwen of Qin|King Huiwen]] due to a personal grudge harboured from his youth. There was also internal strife over the Qin succession in 307 BC, which decentralised Qin authority somewhat. Qin was defeated by an alliance of the other states in 295 BC, and shortly after suffered another defeat by the state of Zhao, because the majority of their army was then defending against the Qi. The aggressive statesman Fan Sui ([[:zh:范雎|范雎]]), however, soon came to power as prime minister even as the problem of the succession was resolved, and he began an expansionist policy that had originated in [[Jin (Chinese state)|Jin]] and Qi, which prompted the Qin to attempt to conquer the other states.<ref name=\"lewis10\">Lewis 2007, pp. 38–39</ref>\\n\\nThe Qin were swift in their assault on the other states. They first attacked the Han, directly east, and took their capital city of Xinzheng in 230 BC. They then struck northward; the state of Zhao surrendered in 228 BC, and the northernmost state of Yan followed, falling in 226 BC. Next, Qin armies launched assaults to the east, and later the south as well; they took the Wei city of [[Kaifeng|Daliang]] (now called Kaifeng) in 225 BC and forced the Chu to surrender by 223 BC. Lastly, they deposed the Zhou dynasty\\'s remnants in [[Luoyang]] and conquered the Qi, taking the city of [[Ancient Linzi|Linzi]] in 221 BC.<ref name=autogenerated1>Lewis 2007, p. 10</ref>\\n\\nWhen the conquests were complete in 221 BC, [[King Zheng]]{{spaced ndash}}who had first assumed the throne of the Qin state at age 9<ref name=\"bai\"/>{{spaced ndash}}became the effective ruler of China.<ref name=\":0\">{{Cite web|url=http://www.historytoday.com/michael-loewe/china%E2%80%99s-first-empire|title=China\\'s First Empire {{!}} History Today|website=www.historytoday.com|access-date=2017-04-17|deadurl=no|archiveurl=https://web.archive.org/web/20170417235658/http://www.historytoday.com/michael-loewe/china%E2%80%99s-first-empire|archivedate=17 April 2017|df=dmy-all}}</ref> The subjugation of the six states was done by King Zheng who had used efficient persuasion and exemplary stratagem. He solidified his position as sole ruler with the abdication of his prime minister, [[Lü Buwei]]. The states made by the emperor were assigned to officials dedicated to the task rather than place the burden on people from the royal family.<ref name=\":0\" /> He then combined the titles of the earlier [[Three Sovereigns and Five Emperors]] into his new name: Shi Huangdi ({{linktext|始|皇帝}}) or \"First Emperor\".<ref name=WIP:ESA36>World and Its Peoples: Eastern and Southern Asia, p. 36</ref><ref group=\"note\">As the modern Chinese habit is to include dynasty names as a surname, this became Qin Shi Huangdi. Later, this was abridged to Qin Shi Huang, because it is uncommon for Chinese names to have four characters.</ref> The newly declared emperor ordered all weapons not in the possession of the Qin to be confiscated and melted down. The resulting metal was sufficient to build twelve large ornamental statues at the Qin\\'s newly declared capital, [[Xianyang]].<ref name=\"Morton47\">Morton 1995, p. 47</ref>\\n\\n===Southward expansion===\\n{{main|Qin\\'s campaign against the southern tribes}}\\n\\nIn 214 BC, Qin Shi Huang secured his boundaries to the north with a fraction (100,000 men) of his large army, and sent the majority (500,000 men) of his army south to [[Qin\\'s campaign against the southern tribes|conquer the territory of the southern tribes]]. Prior to the events leading to Qin dominance over China, they had gained possession of much of [[Sichuan]] to the southwest. The Qin army was unfamiliar with the jungle terrain, and it was defeated by the southern tribes\\' [[guerrilla warfare]] tactics with over 100,000 men lost. However, in the defeat Qin was successful in building a canal to the south, which they used heavily for supplying and reinforcing their troops during their second attack to the south. Building on these gains, the Qin armies conquered the coastal lands surrounding [[Guangzhou]],<ref group=\"note\">Formerly known as Canton.</ref> and took the provinces of [[Fuzhou]] and [[Guilin]]. They struck as far south as [[Hanoi]]. After these victories in the south, Qin Shi Huang moved over 100,000 prisoners and exiles to colonize the newly conquered area. In terms of extending the boundaries of his empire, the First Emperor was extremely successful in the south.<ref name=\"Morton47\" />\\n\\n===Campaigns against the Xiongnu===\\n{YO MOM IS SO STUPID HIT OR MIS hold on to the land for long. The tribes of these locations, collectively called the [[Five Barbarians|Hu]] by the Qin, were free from Chinese rule during the majority of the dynasty.<ref name=\"lewis129\">Lewis 2007, p. 129</ref> Prohibited from trading with Qin dynasty peasants, the [[Xiongnu]] tribe living in the [[Ordos Desert|Ordos]] region in northwest China often raided them instead, prompting the Qin to retaliate. After a [[Qin\\'s campaign against the Xiongnu|military campaign led by General Meng Tian]], the region was conquered in 215 BC and agriculture was established; the peasants, however, were discontented and later revolted. The succeeding Han dynasty also expanded into the Ordos due to overpopulation, but depleted their resources in the process. Indeed, this was true of the dynasty\\'s borders in multiple directions; modern [[Xinjiang]], Tibet, [[Manchuria]], Inner Mongolia, and regions to the southeast were foreign to the Qin, and even areas over which they had military control were culturally distinct.<ref>Lewis 2007, p. 5</ref>\\n\\n===Fall from power===\\n\\n[[File:Assassination attempt on Qin Shi Huang.jpg|thumb|300px|A stone rubbing of a carved relief from the [[Han dynasty]] depicting Jin Ke\\'s assassination attempt on Qin Shi Huang; [[Jing Ke]] (left) is held by one of Qin Shi Huang\\'s physicians (left, background). The dagger used in the assassination attempt is seen stuck in the pillar. Qin Shi Huang (right) is seen holding an imperial jade disc. One of his soldiers (far right) rushes to save his emperor.]]\\n\\nThree assassination attempts were made on Qin Shi Huang\\'s life,<ref>Borthwick, p. 10</ref> leading him to become paranoid and obsessed with immortality. He died in 210 BC, while on a trip to the far eastern reaches of his empire in an attempt to procure an [[elixir]] of immortality from [[Taoism|Taoist]] magicians, who claimed the elixir was stuck on an island guarded by a sea monster. The chief [[eunuch]], [[Zhao Gao]], and the prime minister, [[Li Si]], hid the news of his death upon their return until they were able to alter his will to place on the throne the dead emperor\\'s most pliable son, Huhai, who took the name of [[Qin Er Shi]].<ref name=\"bai\">{{cite book|author=Bai Yang|title=Records of the Genealogy of Chinese Emperors, Empresses, and Their Descendants (中国帝王皇后亲王公主世系录) |publisher=Friendship Publishing Corporation of China (中国友谊出版公司)|volume=1|pages=134–135|language=Chinese}}</ref> They believed that they would be able to manipulate him to their own ends, and thus effectively control the empire. Qin Er Shi was, indeed, inept and pliable. He executed many ministers and imperial princes, continued massive building projects (one of his most extravagant projects was lacquering the city walls), enlarged the army, increased taxes, and arrested messengers who brought him bad news. As a result, men from all over China revolted, attacking officials, raising armies, and declaring themselves kings of seized territories.<ref name=\"kinney13\">Kinney and Hardy 2005, p. 13-15</ref>\\n\\nDuring this time, Li Si and Zhao Gao fell out, and Li Si was executed. Zhao Gao decided to force Qin Er Shi to commit suicide due to Qin Er Shi\\'s incompetence. Upon this, [[Ziying]], a nephew of Qin Er Shi, ascended the throne, and immediately executed Zhao Gao.<ref name=\"kinney13\"/> Ziying, seeing that increasing unrest was growing among the people<ref group=\"note\">This was largely caused by regional differences which survived despite the Qin\\'s attempt to impose uniformity.</ref> and that many local officials had declared themselves kings, attempted to cling to his throne by declaring himself one king among all the others.<ref name=\"lewis1819\"/> He was undermined by his ineptitude, however, and popular revolt broke out in 209 BC. When Chu rebels under the lieutenant [[Liu Bang]] attacked, a state in such turmoil could not hold for long. Ziying was defeated near the [[Wei River]] in 207 BC and surrendered shortly after; he was executed by the Chu leader [[Xiang Yu]]. The Qin capital was destroyed the next year, and this is considered by historians to be the end of the Qin Empire.<ref>Bodde 1986, p. 84</ref><ref group=\"note\" name=\"boast\">The first emperor of the Qin had boasted that the dynasty would last 10,000 generations; it lasted only about 15 years. (Morton 1995, p. 49)</ref> Liu Bang then betrayed and defeated Xiang Yu, declaring himself Emperor Gaozu<ref group=\"note\">Meaning \"High Progenitor\".</ref> of the new [[Han dynasty]] on 28 February 202 BC.<ref name=\"morton49and50\">Morton 1995, pp. 49–50</ref> Despite the short duration of the Qin dynasty, it was very influential on the structure of future dynasties.\\n\\n==Culture and society==\\n\\n===Domestic life===\\nThe aristocracy of the Qin were largely similar in their culture and daily life. Regional variations in culture were considered a symbol of the lower classes. This stemmed from the Zhou and was seized upon by the Qin, as such variations were seen as contrary to the unification that the government strove to achieve.<ref name=\"lewis11\">Lewis 2007, p. 11</ref> <!-- write more about daily life of aristocracy here! notes to self: aristocracy was non-hereditary, government discouraged merchant wealth, \"landlord\" class abolished -->\\n\\nCommoners and rural villagers, who made up over 90% of the population,<ref name=\"lewis102\">Lewis 2007, p. 102</ref> very rarely left the villages or farmsteads where they were born. Common forms of employment differed by region, though farming was almost universally common. Professions were hereditary; a father\\'s employment was passed to his eldest son after he died.<ref name=\"lewis15\">Lewis 2007, p. 15</ref> The \\'\\'[[Lüshi Chunqiu]]\\'\\'<ref group=\"note\">A text named for its sponsor [[Lü Buwei]]; the prime minister of the Qin directly preceding the conquest of the other states.</ref> gave examples of how, when commoners are obsessed with material wealth, instead of the idealism of a man who \"makes things serve him\", they were \"reduced to the service of things\".<ref name=\"lewis16\">Lewis 2007, p. 16</ref>\\n\\nPeasants were rarely figured in literature during the Qin dynasty and afterwards; scholars and others of more elite status preferred the excitement of cities and the lure of politics. One notable exception to this was [[Shen Nong]], the so-called \"Divine Father\", who taught that households should grow their own food. \"If in one\\'s prime he does not plow, someone in the world will grow hungry. If in one\\'s prime she does not weave, someone in the world will be cold.\" The Qin encouraged this; a ritual was performed once every few years that consisted of important government officials taking turns with the plow on a special field, to create a simulation of government interest and activity within agriculture.<ref name=\"lewis15\" />\\n\\n===Architecture===\\n\\n[[File:南桥 02.jpg|thumb|300px|[[Dujiangyan]], an irrigation project completed in 256 BC during the Warring States period of China by the State of Qin. It is located on the [[Min River (Sichuan)|Min River]] in [[Sichuan]], near the provincial capital of [[Chengdu]]. Although a reinforced [[concrete]] [[weir]] has replaced Li Bing\\'s original weighted bamboo baskets, the layout of the infrastructure remains the same and is still in use today to irrigate over 5,300 square kilometers of land in the region.]]\\n\\nWarring States-era architecture had several definitive aspects. City walls, used for defense, were made longer, and indeed several secondary walls were also sometimes built to separate the different districts. Versatility in federal structures was emphasized, to create a sense of authority and absolute power. Architectural elements such as high towers, pillar gates, terraces, and high buildings amply conveyed this.<ref>Lewis 2007, p. 75–78</ref>\\n\\n===Philosophy and literature===\\n[[File:CMOC Treasures of Ancient China exhibit - stone slab with twelve small seal characters.jpg|thumb|left|Stone slab with twelve small seal characters. Qin Dynasty (221 – 207 BC). The 12 characters on this slab of floor brick affirm that it is an auspicious moment for the First Emperor to ascend the throne, as the country is united and no men will be dying along the road. Small seal scripts were standardized by the First Emperor of China after he gained control of the country, and evolved from the larger seal scripts of previous dynasties. The text on it is \"{{lang|zh|海内皆臣，歲登成熟，道毋飢人}}\".]]\\n\\nThe written language of the Qin was [[Logogram|logographic]], as that of the Zhou had been.<ref>World and its Peoples: Eastern and Southern Asia, p. 34</ref> As one of his most influential achievements in life, prime minister [[Li Si]] standardized the writing system to be of uniform size and shape across the whole country. This would have a unifying effect on the Chinese culture for thousands of years. He is also credited with creating the \"lesser-seal\" ({{zh|c=小篆, |p=xiǎozhuàn}}) style of calligraphy, which serves as a basis for modern Chinese and is still used in cards, posters, and advertising.<ref>Bedini 1994, p. 83</ref>\\n\\nDuring the Warring States period, the [[Hundred Schools of Thought]] comprised many different philosophies proposed by Chinese scholars. In 221 BC, however, the First Emperor conquered all of the states and governed with a single philosophy, [[Legalism (Chinese philosophy)|Legalism]]. At least one school of thought, [[Mohism]], was eradicated, though the reason is not known. Despite the Qin\\'s state ideology and Mohism being similar in certain regards, it is possible that Mohists were sought and killed by the state\\'s armies due to paramilitary activities.<ref>Readings in Classical Chinese Philosophy, p. 61</ref>\\n\\n[[Confucius]]\\'s school of thought, called [[Confucianism]], was also influential during the Warring States period, as well as throughout much of the later Zhou dynasty and early imperial periods.<ref group=\"note\">The term \"Confucian\" is rather ill-defined in this context—many self-dubbed Confucians in fact rejected tenets of what was known as \"the Way of Confucius\", and were disorganized, unlike the later Confucians of the [[Song dynasty|Song]] and [[Yuan dynasty|Yuan]] dynasties.</ref> This school of thought had a so-called Confucian canon of literature, known as the \"six classics\": the Odes, Documents, Ritual, Music, [[Spring and Autumn Annals]], and Changes, which embodied Chinese literature at the time.<ref name=\"lewis206\">Lewis 2007, p. 206</ref>\\n<!-- more on literature/philosophy in a similar vein to the previous paragraph needs to go here! -->\\n\\nDuring the Qin dynasty, Confucianism—along with all other non-Legalist philosophies, such as Daoism—were suppressed by the First Emperor; early Han dynasty emperors did the same. Legalism denounced the feudal system and encouraged severe punishments, particularly when the emperor was disobeyed. Individuals\\' rights were devalued when they conflicted with the government\\'s or the ruler\\'s wishes, and merchants and scholars were considered unproductive, fit for elimination.<ref name=\"Borthwick17\">Borthwick, p. 17</ref>\\n\\nOne of the more drastic allegations, however the infamous [[burning of books and burying of scholars]] incident, does not appear to be true, as it was not mentioned until many years later.<ref>{{citation\\n |title       = The five \"Confucian\" classics\\n |first       = Michael\\n |last        = Nylan\\n |publisher   = Yale University Press\\n |year        = 2001\\n |url         = http://yalepress.yale.edu/YupBooks/pdf/0300081855.pdf?winOpen=true\\n |isbn        = 978-0-300-08185-5\\n |ref         = harv\\n |postscript  = .\\n |deadurl     = yes\\n |archiveurl  = https://web.archive.org/web/20140611132550/http://yalepress.yale.edu/YupBooks/pdf/0300081855.pdf?winOpen=true\\n |archivedate = 11 June 2014\\n |df          = dmy-all\\n}} pp. 29-30.</ref> The Han dynasty historian, [[Sima Qian]] wrote that First Emperor, in an attempt to consolidate power, in 213 BC ordered the burning of all books advocating viewpoints that challenged Legalism or the state, and also stipulated that all scholars who refused to submit their books to be burned would be executed by [[premature burial]].<ref name=\"Morton47\"/> Only texts considered productive were to be preserved, mostly those that discussed pragmatic subjects, such as agriculture, divination, and medicine.<ref name=\"Borthwick11\">Borthwick, p. 11</ref> However, Sinologists now argue that the \"burying of scholars\" is not literally true, as the term probably meant simply \"put to death\".{{sfnb|Bodde|1986| p = [https://books.google.com/books?id=5zjsyMivru4C&pg=PA72&lpg=PA72&dq=qin+bury+scholars+alive&source=web&ots=3oKmMu3Kn8&sig=N95WS2MQPravMkahTDfSIq5cQt4&hl=en&sa=X&oi=book_result&resnum=7&ct=result#v=onepage&q&f=false 72]}}\\n\\n===Government and military===\\n\\nThe Qin government was highly [[Bureaucracy|bureaucratic]], and was administered by a hierarchy of officials, all serving the First Emperor. The Qin put into practice the teachings of [[Han Feizi]], allowing the First Emperor to control all of his territories, including those recently conquered. All aspects of life were standardized, from measurements and language to more practical details, such as the length of chariot axles.<ref name=\"WIP:ESA36\"/>\\n\\n[[File:2015-09-22-091227 - Museum der Grabanlage des Qin Shi Huangdi.jpg|thumb|300px|[[Terracotta Army]], museum of the grave of Qin Shi Huang.]]\\n[[File:01 terracottawarriorsgroup.jpg|thumb|300px|Qin warriors of the [[Terracotta Army]].]]\\n\\nThe states made by the emperor were assigned to officials dedicated to the task rather than place the burden on people from the royal family. Zheng and his advisers also introduced new laws and practices that ended feudalism in China, replacing it with a centralized, bureaucratic government. The form of government created by the first emperor and his advisors was used by later dynasties to structure their own government.<ref name=\":0\" /> Under this system, both the military and government thrived, as talented individuals could be more easily identified in the transformed society. Later Chinese dynasties emulated the Qin government for its efficiency, despite its being condemned by [[Confucian]] philosophy.<ref name=\"WIP:ESA36\"/><ref>Borthwick 2006, pp. 9–10</ref> There were incidences of abuse, however, with one example having been recorded in the \"Records of Officialdom\". A commander named Hu ordered his men to attack peasants in an attempt to increase the number of \"bandits\" he had killed; his superiors, likely eager to inflate their records as well, allowed this.<ref>Chen, pp. 180–81</ref>\\n\\n{{multiple image| align = left | direction = horizontal | header = | header_align = left/right/center | footer = Terracotta Army General (Left), Mid-rank officer of the terracotta army in Xi\\'an (Right)| footer_align = left | image1 = Terrakotta general 2010.jpg | width1 = 150| caption1  = | image2 = Terrakottaarmén-13.jpg | width2 = 135| caption2  = }}\\n\\nQin Shi Huang also improved the strong military, despite the fact that it had already undergone extensive reforms.<ref name=\"Borthwick10\">Borthwick 2006, p. 10</ref> The military used the most advanced weaponry of the time. The invention of the [[sword]] during the Warring States period was a great advance. It was first used mostly in bronze form, but by the third century BC, the Qin were using stronger iron swords. The demand for this metal resulted in improved [[metal bellows|bellows]]. The [[crossbow]] had been introduced in the fifth century BC and was more powerful and accurate than the [[composite bow]]s used earlier. It could also be rendered ineffective by removing two pins, which prevented enemies from capturing a working crossbow.<ref name=\"morton26\" />\\n\\n[[File:Qinacruballistabolts.jpg|thumb|right|Qin dynasty composite bow arrows (top) and crossbow bolts (bottom)<br />\\'\\'Credit: Liang Jieming\\'\\']]\\n\\nThe Qin also used improved methods of transportation and tactics. The state of Zhao had first replaced [[chariot]]s with [[cavalry]] in 307 BC, but the change was swiftly adopted by the other states because cavalry had greater mobility over the terrain of China.<ref name=\"morton27\">Morton 1995, p. 27</ref>\\n\\nThe First Emperor developed plans to fortify his northern border, to protect against nomadic invasions. The result was the initial construction of what later became the [[Great Wall of China]], which was built by joining and strengthening the walls made by the feudal lords, which would be expanded and rebuilt multiple times by later dynasties, also in response to threats from the north. Another project built during Qin Shi Huang\\'s rule was the [[Terracotta army|Terracotta Army]], intended to protect the emperor after his death.<ref name=\"Borthwick10\"/> The Terracotta Army was inconspicuous due to its underground location, and was not discovered until 1974.<ref>{{cite web|url=http://whc.unesco.org/pg.cfm?cid=31&id_site=441|title=Mausoleum of the First Qin Emperor|publisher=[[UNESCO]]|accessdate=3 July 2008|deadurl=no|archiveurl=https://web.archive.org/web/20080807052557/http://whc.unesco.org/pg.cfm?cid=31&id_site=441|archivedate=7 August 2008|df=dmy-all}}</ref>\\n\\n===Religion===\\n{{quote box|align=right|size=200px|quote=Floating on high in every direction,<br />Music fills the hall and court.<br />The incense sticks are a forest of feathers,<br />The cloudy scene an obscure darkness.<br />Metal stalks with elegant blossoms,<br />A host of flags and kingfisher banners.<br />The music of the \"Seven Origins\" and \"Blossoming Origins\"<br />Are intoned as harmonious sounds.<br />Thus one can almost hear<br />The spirits coming to feast and frolic.<br />The spirits are seen off to the \\'\\'zhu zhu\\'\\' of the musics,<br />Which purifies and refines human feelings.<br />Suddenly the spirits ride off on the darkness,<br />And the brilliant event finishes.<br />Purified thoughts grow hidden and still,<br />And the warp and weft of the world fall dark.|source=\\'\\'Han shu\\'\\', p. 1046}}\\nThe dominant religious belief in China during the reign of the Qin, and, in fact, during much of early imperial China, was focused on the \\'\\'[[Shen (Chinese religion)|shen]]\\'\\' (roughly translating to \"spirits\" or \"gods\"), \\'\\'yin\\'\\' (\"shadows\"), and the realm they were said to live in. The Chinese offered animal sacrifices in an attempt to contact this other world, which they believed to be parallel to the earthly one. The dead were said to have simply moved from one world to the other. The rituals mentioned, as well as others, served two purposes: to ensure that the dead journeyed and stayed in the other realm, and to receive blessings from the spirit realm.<ref group=\"note\">Mystics from the state of Qi, however, saw sacrifices differently—as a way to become immortal.</ref><ref name=\"lewis178\">Lewis 2007, p. 178</ref><ref name=\"lewis186\">Lewis 2007, p. 186</ref>\\n\\nReligious practices were usually held in local shrines and sacred areas, which contained sacrificial altars. During a sacrifice or other ritual, the senses of all participants and witnesses would be dulled and blurred with smoke, incense, and music. The lead sacrificer would [[fasting|fast]] and [[meditation|meditate]] before a sacrifice to further blur his senses and increase the likelihood of perceiving otherworldly phenomena. Other participants were similarly prepared, though not as rigorously.\\n\\nSuch blurring of the senses was also a factor in the practice of spirit intermediaries, or [[mediumship]]. Practitioners of the art would fall into trances or dance to perform supernatural tasks. These people would often rise to power as a result of their art—[[Luan Da]], a Han dynasty medium, was granted rule over 2,000 households. Noted Han historian [[Sima Qian]] was scornful of such practices, dismissing them as foolish trickery.<ref name=\"lewis180\">Lewis 2007, p. 180</ref>\\n\\n[[Divination]]—to predict and/or influence the future—was yet another form of religious practice. An ancient practice that was common during the Qin dynasty was cracking bones or turtle shells to gain knowledge of the future. The forms of divination which sprang up during early imperial China were diverse, though observing natural phenomena was a common method. [[Comet]]s, [[eclipse]]s, and droughts were considered omens of things to come.<ref name=\"lewis181\">Lewis 2007, p. 181</ref>\\n\\n===Etymology of China===\\nThe name \\'Qin\\' (pronounced as \\'Chin\\') is believed to be the etymological ancestor of the modern-day European name of the country, China. The word probably made its way into the [[Indo-Aryan languages]] first as \\'Cina\\' or \\'Sina\\' and then into [[Greek language|Greek]] and [[Latin]] as \\'Sinai\\' or \\'Thinai\\'. It was then transliterated into English and French as \\'China\\' and \\'Chine\\'. This etymology is dismissed by some scholars, who suggest that \\'Sina\\' in [[Sanskrit]] evolved much earlier before the Qin dynasty. \\'[[Jin (Chinese state)|Jin]]\\' (pronounced as \\'Zhin\\'), a state controlled by the [[Zhou dynasty]] in seventh century BC, is another possible origin.<ref name=\"Keay98\">Keay 2009, p.&nbsp;98.</ref> Others argued for the state of [[Chu (state)|Jing]] (荆, another name for [[Chu (state)|Chu]]), as well other polities in the early period as the source of the name.<ref>{{cite journal |author=Wade, Geoff |url=http://www.sino-platonic.org/complete/spp188_yelang_china.pdf |title=The Polity of Yelang and the Origin of the Name \\'China\\' |journal=Sino-Platonic Papers |volume=188 |date=May 2009 |accessdate=4 October 2011 |deadurl=no |archiveurl=https://web.archive.org/web/20110930070227/http://www.sino-platonic.org/complete/spp188_yelang_china.pdf |archivedate=30 September 2011 |df=dmy-all }} \"This thesis also helps explain the existence of Cīna in the Indic \\'\\'Laws of Manu\\'\\' and the \\'\\'Mahabharata\\'\\', likely dating well before Qin Shihuangdi.\"</ref>\\n\\n==Sovereigns of Qin dynasty==\\n[[Image:BronzePlaque-EdictOfSecondEmperor-Qin-ROM-May8-08.png|thumb|right|An edict in bronze from the reign of the second Qin Emperor]]\\nNote: [[King Zhaoxiang of Qin]] (秦昭襄王) had already been ruling Qin for 51 years when Qin annihilated the Zhou dynasty; however the other six warring states were still independent regimes. Some Chinese historiographers thus used the next year (the 52nd year of King Zhaoxiang of Qin) as the official succession from the [[Zhou dynasty]].\\n\\nQin Shi Huang was the first Chinese sovereign to proclaim himself \"Emperor\", after unifying China in 221 BC. That year is therefore generally taken by Western historians to be the start of the \"Qin dynasty\" which lasted for fifteen years until 207 when it was cut short by civil wars.<ref>Bodde 1986, p. 20</ref>\\n\\n{| class=\"wikitable\"\\n|-----\\n! [[Posthumous name]]s / title\\n! [[Chinese family name]]s and [[Chinese name|given name]]s\\n! Period of Reigns\\n|-----\\n| colspan=4 align=\"center\" | \\'\\'Convention: \"Qin\" + posthumous name\\'\\'\\n|-----\\n| [[King Zhaoxiang of Qin|Zhaoxiang (昭襄 Zhāoxiāng)]]\\n| Ying Ze (嬴則 yíng zé) or Ying Ji (嬴稷 yíng jì) || 306 – 250 BC\\n|-----\\n| [[King Xiaowen of Qin|Xiaowen (孝文 Xiàowén)]]\\n| Ying Zhu (嬴柱 yíng zhù) || 250 BC\\n|-----\\n| [[King Zhuangxiang of Qin|Zhuangxiang (莊襄 Zhuāngxiāng)]]\\n| Ying Zichu (嬴子楚 yíng zǐ chǔ) || 249 – 247 BC\\n|-----\\n| colspan=4 align=\"center\" | \\'\\'\\'Qin dynasty (221 – 207 BC)\\'\\'\\'\\n|-\\n| [[Shi Huangdi]] (始皇帝 Shǐ Huángdì) || Ying Zheng (嬴政 yíng zhèng)\\n| 246 – 210 BC\\n|-----\\n| [[Qin Er Shi|Er Shi Huangdi]] (二世皇帝 Èr Shì Huángdì)\\n| Ying Huhai (嬴胡亥 yíng hú hài) || 210 – 207 BC\\n|-----\\n| colspan=4 align=\"center\" | \\'\\'Ziying was often referred using personal name or\\nZiying, King of Qin (秦王子嬰 qín wáng zi yīng)\\'\\'\\n|-----\\n| \\'\\'Did not exist\\'\\' || Ying [[Ziying]] (嬴子嬰 yíng zi yīng)\\n| 207 BC\\n|}\\n\\n==Imperial family tree==\\n{{chart top|collapsed=yes|width=30%|Qin Dynasty}}\\n{{chart/start|align=center|style=font-size:112%;| summary=Boxes and lines diagram with 7 boxes}}\\n{{chart |border=1| | | | | QQQ |QQQ=\\'\\'See: [[Family tree of ancient Chinese emperors#Qin|family tree of<br /> the Kings of Qin]]\\'\\'}}\\n{{chart |border=1| | | | | |!}}\\n{{chart |border=1| | | | |Qin  |Qin=<small>Zheng 政 259–210 BC<br />{{nowrap|King of Qin 秦王 247–221 BC}}</small><br />\\'\\'\\'[[Qin Shi Huang]] 秦始皇\\'\\'\\'<br />221–210 BC|boxstyle_Qin=border-width:2px}}\\n{{chart |border=1| |,|-|-|-|^|-|-|-|.| }}\\n{{chart |border=1|s1   | | | | | |s18  |s1=<small>1|boxstyle_s1=border-width:0px|s18=<small>18 or 25 (disputed)|boxstyle_s18=border-width:0px}}\\n{{chart |border=1| Fus | | | | | |Erq  |Fus=[[Fusu]] 扶蘇<br /><small>d. 210 BC|Erq=<small>{{nowrap|Huhai 胡亥 229–207 BC}}</small><br />\\'\\'\\'[[Qin Er Shi]] 秦二世\\'\\'\\'<br />210–207 BC|boxstyle_Erq=border-width:2px}}\\n{{chart |border=1| |!}}\\n{{chart |border=1|Ziy  |Ziy=<small>Ziying 子嬰 d. 206 BC</small><br />{{nowrap|\\'\\'\\'[[Ziying|Qin San Shi]] 秦三世\\'\\'\\'}}<br />207 BC|boxstyle_Ziy=border-width:2px}}\\n{{chart/end}}\\n{{chart bottom}}\\n\\n== See also ==\\n* [[Chinese sovereign]]\\n* [[Emperor of China]]\\n* [[Hata clan]]\\n* \\'\\'[[The Legend of Qin (disambiguation)|The Legend of Qin]]\\'\\'\\n\\n==Notes==\\n<references group=\"note\" />\\n\\n== References ==\\n=== Citations ===\\n{{Reflist}}\\n\\n=== Sources ===\\n{{refbegin}}\\n* {{cite book |title = World and Its Peoples: Eastern and Southern Asia |publisher=[[Marshall Cavendish]] |year=2007 |url = https://books.google.com/books?id=cKh2KL5LqEsC&printsec=frontcover |ISBN = 978-0-7614-7631-3 }}\\n* {{cite book |title = Readings in Classical Chinese Philosophy |editors = Philip J. Ivanhoe and Bryan W. Van Norden |publisher=[[Hackett Publishing]] |year=2005 |ISBN = 0-87220-780-3 |url = https://books.google.com/books?id=5PL9hSUiVEoC&printsec=frontcover}}\\n* {{cite book |title=Beyond Pain: The Role of Pleasure and Culture in the Making of Foreign Affairs |last=Breslin |first=Thomas A. |publisher=[[Greenwood Publishing Group]] |year = 2001 |ISBN = 0-275-97430-8 |url = https://books.google.com/books?id=AD5Lx-kJsMEC&printsec=frontcover }}\\n* {{cite book |url = https://books.google.com/books?id=xdVkzs6iI1YC&printsec=frontcover#PPA183,M1 |title = The Trail of Time: Shih-chien Ti Tsu-chi : Time Measurement with Incense in East Asia |last=Bedini |first=Silvio |publisher=[[Cambridge University Press]] |ISBN = 0-521-37482-0 |year = 1994 }}\\n* {{cite book |first=Derk |last=Bodde |chapter=The State and Empire of Ch\\'in |editor-first1=Denis |editor-last1=Twitchett |editor-first2=Michael |editor-last2=Loewe |title=The Cambridge History of China, Volume I: the Ch\\'in and Han Empires, 221 B.C. – A.D. 220 |location=Cambridge |publisher=Cambridge University Press |year=1986 |ref=harv |ISBN = 0-521-24327-0 }}\\n* {{cite book |title=Pacific Century: The Emergence of Modern Pacific Asia |last=Borthwick |first=Mark |publisher=[[Westview Press]] |year=2006 |ISBN = 0-8133-4355-0 |url = https://books.google.com/books?id=Wbd-Eonn70cC&printsec=frontcover }}\\n* {{cite book |last=Kinney |first=Anne Behnke |first2=Grant |last2=Hardy |title = The Establishment of the Han Empire and Imperial China |publisher=[[Greenwood Press]] |location=[[Westport, Connecticut]] |year = 2005 |ISBN = 0-313-32588-X }}\\n* {{cite book |last=Keay |first=John |author-link=John Keay |title = China A History |publisher = Harper Press |year = 2009 |ISBN = 9780007221783 }}\\n* {{cite book |title = The Early Chinese Empires: Qin and Han |first=Mark Edward |last=Lewis |publisher = Belknap Press |location=London |year = 2007 |ISBN = 978-0-674-02477-9 }}\\n* {{cite book |title = Will the Boat Sink the Water?: The Life of China\\'s Peasants |author1 = Chen Guidi |author2=Wu Chuntao |translator = Zhu Hong |publisher=[[PublicAffairs]] |year = 2007 |ISBN = 1-58648-441-9 |url = https://books.google.com/books?id=gFEK1pLNqqMC&printsec=frontcover }}\\n* {{cite book |title = China: Its History and Culture |first = W. Scott |last = Morton |edition=3rd |publisher=[[McGraw-Hill]] |ISBN = 0-07-043424-7 |year = 1995 }}\\n* {{cite book |title = China: A History |first = Harold |last = Tanner |publisher=[[Hackett Publishing Company|Hackett]] |ISBN = 978-1-60384-203-7 |year = 2010 }}\\n{{refend}}\\n\\n==Further reading==\\n* {{cite book | author=Cotterell, Arthur. | title=The Imperial Capitals of China&nbsp;– An Inside View of the Celestial Empire| location=London | publisher=Pimlico | year=2007 | isbn=978-1-84595-009-5 | pages = 304 pages.}}\\n* {{cite book | editor-surname = Fong | editor-given = Wen | title = The great bronze age of China: an exhibition from the People\\'s Republic of China | location = New York | publisher = The Metropolitan Museum of Art | year = 1980 | isbn = 978-0-87099-226-1 | url = http://cdm16028.contentdm.oclc.org/cdm/compoundobject/collection/p15324coll10/id/107906 }}\\n* {{cite book | author=Paludan, Ann. | title=Chronicle of the China Emperors| location=London | publisher=Thames & Hudson | year=1998 | isbn=0-500-05090-2 | pages = 224 pages.}}\\n* Yap, Joseph P. (2009). \\'\\'Wars with the Xiongnu, A Translation from [[Zizhitongjian|Zizhi tongjian]]\\'\\'. AuthorHouse, Bloomington, Indiana, U.S.A. {{ISBN|978-1-4490-0604-4}}.\\n\\n==External links==\\n* {{Commons category inline}}\\n\\n{{S-start}}\\n{{s-bef|before=[[Zhou dynasty]]}} \\n{{s-ttl|title=[[Dynasties in Chinese history]]|years=221–207 BC}} \\n{{s-aft|after=[[Han dynasty]]}}\\n{{s-end}}\\n{{Qin dynasty topics}}\\n{{Empires}}\\n{{Portal bar|History of Imperial China}}\\n{{Authority control}}\\n[[Category:Qin dynasty| 01]]\\n[[Category:Dynasties in Chinese history]]\\n[[Category:Iron Age Asia]]\\n[[Category:Former countries in East Asia]]\\n[[Category:States and territories established in the 3rd century BC]]\\n[[Category:221 BC]]\\n[[Category:220s BC establishments]]\\n[[Category:States and territories disestablished in the 3rd century BC]]\\n[[Category:1st-millennium BC disestablishments in China]]\\n[[Category:Qin Shi Huang]]\\n[[Category:Former monarchies of East Asia]]'"
      ]
     },
     "execution_count": 63,
     "metadata": {},
     "output_type": "execute_result"
    }
   ],
   "source": [
    "result['query']['pages'][0]['revisions'][0]['slots']['main']['content']"
   ]
  },
  {
   "cell_type": "code",
   "execution_count": 42,
   "metadata": {},
   "outputs": [
    {
     "data": {
      "text/plain": [
       "page_id                       9516095\n",
       "rev_id                      846835190\n",
       "rev_timestamp              1529576038\n",
       "is_revert_target                    0\n",
       "is_reverted                         0\n",
       "is_reverting                        0\n",
       "is_sample_eligible               True\n",
       "prev_rev_id                 846835009\n",
       "next_rev_id                 850539656\n",
       "prev_rev_timestamp         1529575914\n",
       "next_rev_timestamp         1531769146\n",
       "reverted_rev_ids                   []\n",
       "reverting_rev_id                   -1\n",
       "reverting_rev_timestamp            -1\n",
       "Name: 29999548, dtype: object"
      ]
     },
     "execution_count": 42,
     "metadata": {},
     "output_type": "execute_result"
    }
   ],
   "source": [
    "tup = rev_df.iloc[0]\n",
    "tup"
   ]
  },
  {
   "cell_type": "markdown",
   "metadata": {},
   "source": [
    "### Comparing"
   ]
  },
  {
   "cell_type": "code",
   "execution_count": 54,
   "metadata": {},
   "outputs": [
    {
     "data": {
      "text/plain": [
       "{'compare': {'fromid': 9516095,\n",
       "  'fromrevid': 846835009,\n",
       "  'fromns': 0,\n",
       "  'fromtitle': 'Weihai Dashuibo Airport',\n",
       "  'toid': 9516095,\n",
       "  'torevid': 846835190,\n",
       "  'tons': 0,\n",
       "  'totitle': 'Weihai Dashuibo Airport',\n",
       "  'body': '<tr>\\n  <td colspan=\"2\" class=\"diff-lineno\">Line 47:</td>\\n  <td colspan=\"2\" class=\"diff-lineno\">Line 47:</td>\\n</tr>\\n<tr>\\n  <td class=\"diff-marker\">&#160;</td>\\n  <td class=\"diff-context\"><div>| [[Chengdu Airlines]] | [[Changchun Longjia International Airport|Changchun]]</div></td>\\n  <td class=\"diff-marker\">&#160;</td>\\n  <td class=\"diff-context\"><div>| [[Chengdu Airlines]] | [[Changchun Longjia International Airport|Changchun]]</div></td>\\n</tr>\\n<tr>\\n  <td class=\"diff-marker\">&#160;</td>\\n  <td class=\"diff-context\"><div>| [[China Airlines]] | [[Taiwan Taoyuan International Airport|Taipei–Taoyuan]]</div></td>\\n  <td class=\"diff-marker\">&#160;</td>\\n  <td class=\"diff-context\"><div>| [[China Airlines]] | [[Taiwan Taoyuan International Airport|Taipei–Taoyuan]]</div></td>\\n</tr>\\n<tr>\\n  <td class=\"diff-marker\">−</td>\\n  <td class=\"diff-deletedline\"><div>| [[China Eastern Airlines]] | [[Changchun Longjia International Airport|Changchun]], [[Guangzhou Baiyun International Airport|Guangzhou]],&lt;ref name=\"2018summer\"&gt;[https://mp.weixin.qq.com/s/aFcqUr9g9DbFzEHwjb_49g 承让！东航烟台16个新目的地直飞时刻来了]&lt;/ref&gt; [[Incheon International Airport|Seoul–Incheon]], [[Nanjing Lukou International Airport|Nanjing]]&lt;ref name=\"<del class=\"diffchange diffchange-inline\">2018summer</del>\"&gt;[http://news.carnoc.com/list/450/450821.html 东航江苏公司7月新增南京至大庆、牡丹江航线]&lt;/ref&gt;, [[Shanghai Hongqiao International Airport|Shanghai–Hongqiao]]</div></td>\\n  <td class=\"diff-marker\">+</td>\\n  <td class=\"diff-addedline\"><div>| [[China Eastern Airlines]] | [[Changchun Longjia International Airport|Changchun]],<ins class=\"diffchange diffchange-inline\"> [[Daqing Sartu Airport|Daqing]],&lt;ref name=\"2018jssummer\"/&gt;</ins> [[Guangzhou Baiyun International Airport|Guangzhou]],&lt;ref name=\"2018summer\"&gt;[https://mp.weixin.qq.com/s/aFcqUr9g9DbFzEHwjb_49g 承让！东航烟台16个新目的地直飞时刻来了]&lt;/ref&gt; [[Incheon International Airport|Seoul–Incheon]],<ins class=\"diffchange diffchange-inline\"> [[Mudanjiang Hailang International Airport|Mudanjiang]],&lt;ref name=\"2018summer\"/&gt;</ins> [[Nanjing Lukou International Airport|Nanjing]]&lt;ref name=\"<ins class=\"diffchange diffchange-inline\">2018jssummer</ins>\"&gt;[http://news.carnoc.com/list/450/450821.html 东航江苏公司7月新增南京至大庆、牡丹江航线]&lt;/ref&gt;, [[Shanghai Hongqiao International Airport|Shanghai–Hongqiao]]</div></td>\\n</tr>\\n<tr>\\n  <td class=\"diff-marker\">&#160;</td>\\n  <td class=\"diff-context\"><div>| China Eastern Airlines&lt;br/&gt;operated by [[Shanghai Airlines]] | [[Changchun Longjia International Airport|Changchun]], [[Shanghai Pudong International Airport|Shanghai–Pudong]]</div></td>\\n  <td class=\"diff-marker\">&#160;</td>\\n  <td class=\"diff-context\"><div>| China Eastern Airlines&lt;br/&gt;operated by [[Shanghai Airlines]] | [[Changchun Longjia International Airport|Changchun]], [[Shanghai Pudong International Airport|Shanghai–Pudong]]</div></td>\\n</tr>\\n<tr>\\n  <td class=\"diff-marker\">&#160;</td>\\n  <td class=\"diff-context\"><div>| [[China Express Airlines]] | [[Chongqing Jiangbei International Airport|Chongqing]]</div></td>\\n  <td class=\"diff-marker\">&#160;</td>\\n  <td class=\"diff-context\"><div>| [[China Express Airlines]] | [[Chongqing Jiangbei International Airport|Chongqing]]</div></td>\\n</tr>\\n'}}"
      ]
     },
     "execution_count": 54,
     "metadata": {},
     "output_type": "execute_result"
    }
   ],
   "source": [
    "params = {\n",
    "    'action': 'compare',\n",
    "    'format': 'json',\n",
    "    'formatversion': '2',\n",
    "    'fromrev': tup.prev_rev_id,\n",
    "    'torev': tup.rev_id,\n",
    "}\n",
    "session.get(params)"
   ]
  },
  {
   "cell_type": "code",
   "execution_count": 51,
   "metadata": {},
   "outputs": [],
   "source": []
  },
  {
   "cell_type": "code",
   "execution_count": 55,
   "metadata": {},
   "outputs": [
    {
     "data": {
      "text/html": [
       "<tr>\n",
       "  <td colspan=\"2\" class=\"diff-lineno\">Line 47:</td>\n",
       "  <td colspan=\"2\" class=\"diff-lineno\">Line 47:</td>\n",
       "</tr>\n",
       "<tr>\n",
       "  <td class=\"diff-marker\">&#160;</td>\n",
       "  <td class=\"diff-context\"><div>| [[Chengdu Airlines]] | [[Changchun Longjia International Airport|Changchun]]</div></td>\n",
       "  <td class=\"diff-marker\">&#160;</td>\n",
       "  <td class=\"diff-context\"><div>| [[Chengdu Airlines]] | [[Changchun Longjia International Airport|Changchun]]</div></td>\n",
       "</tr>\n",
       "<tr>\n",
       "  <td class=\"diff-marker\">&#160;</td>\n",
       "  <td class=\"diff-context\"><div>| [[China Airlines]] | [[Taiwan Taoyuan International Airport|Taipei–Taoyuan]]</div></td>\n",
       "  <td class=\"diff-marker\">&#160;</td>\n",
       "  <td class=\"diff-context\"><div>| [[China Airlines]] | [[Taiwan Taoyuan International Airport|Taipei–Taoyuan]]</div></td>\n",
       "</tr>\n",
       "<tr>\n",
       "  <td class=\"diff-marker\">−</td>\n",
       "  <td class=\"diff-deletedline\"><div>| [[China Eastern Airlines]] | [[Changchun Longjia International Airport|Changchun]], [[Guangzhou Baiyun International Airport|Guangzhou]],&lt;ref name=\"2018summer\"&gt;[https://mp.weixin.qq.com/s/aFcqUr9g9DbFzEHwjb_49g 承让！东航烟台16个新目的地直飞时刻来了]&lt;/ref&gt; [[Incheon International Airport|Seoul–Incheon]], [[Nanjing Lukou International Airport|Nanjing]]&lt;ref name=\"<del class=\"diffchange diffchange-inline\">2018summer</del>\"&gt;[http://news.carnoc.com/list/450/450821.html 东航江苏公司7月新增南京至大庆、牡丹江航线]&lt;/ref&gt;, [[Shanghai Hongqiao International Airport|Shanghai–Hongqiao]]</div></td>\n",
       "  <td class=\"diff-marker\">+</td>\n",
       "  <td class=\"diff-addedline\"><div>| [[China Eastern Airlines]] | [[Changchun Longjia International Airport|Changchun]],<ins class=\"diffchange diffchange-inline\"> [[Daqing Sartu Airport|Daqing]],&lt;ref name=\"2018jssummer\"/&gt;</ins> [[Guangzhou Baiyun International Airport|Guangzhou]],&lt;ref name=\"2018summer\"&gt;[https://mp.weixin.qq.com/s/aFcqUr9g9DbFzEHwjb_49g 承让！东航烟台16个新目的地直飞时刻来了]&lt;/ref&gt; [[Incheon International Airport|Seoul–Incheon]],<ins class=\"diffchange diffchange-inline\"> [[Mudanjiang Hailang International Airport|Mudanjiang]],&lt;ref name=\"2018summer\"/&gt;</ins> [[Nanjing Lukou International Airport|Nanjing]]&lt;ref name=\"<ins class=\"diffchange diffchange-inline\">2018jssummer</ins>\"&gt;[http://news.carnoc.com/list/450/450821.html 东航江苏公司7月新增南京至大庆、牡丹江航线]&lt;/ref&gt;, [[Shanghai Hongqiao International Airport|Shanghai–Hongqiao]]</div></td>\n",
       "</tr>\n",
       "<tr>\n",
       "  <td class=\"diff-marker\">&#160;</td>\n",
       "  <td class=\"diff-context\"><div>| China Eastern Airlines&lt;br/&gt;operated by [[Shanghai Airlines]] | [[Changchun Longjia International Airport|Changchun]], [[Shanghai Pudong International Airport|Shanghai–Pudong]]</div></td>\n",
       "  <td class=\"diff-marker\">&#160;</td>\n",
       "  <td class=\"diff-context\"><div>| China Eastern Airlines&lt;br/&gt;operated by [[Shanghai Airlines]] | [[Changchun Longjia International Airport|Changchun]], [[Shanghai Pudong International Airport|Shanghai–Pudong]]</div></td>\n",
       "</tr>\n",
       "<tr>\n",
       "  <td class=\"diff-marker\">&#160;</td>\n",
       "  <td class=\"diff-context\"><div>| [[China Express Airlines]] | [[Chongqing Jiangbei International Airport|Chongqing]]</div></td>\n",
       "  <td class=\"diff-marker\">&#160;</td>\n",
       "  <td class=\"diff-context\"><div>| [[China Express Airlines]] | [[Chongqing Jiangbei International Airport|Chongqing]]</div></td>\n",
       "</tr>\n",
       "\n",
       "<!-- diff cache key enwiki:diff:wikidiff2:1.12:old-846835009:rev-846835190:1.10.0 -->\n"
      ],
      "text/plain": [
       "<IPython.core.display.HTML object>"
      ]
     },
     "metadata": {},
     "output_type": "display_data"
    }
   ],
   "source": [
    "display(HTML(session.get(params)['compare']['body']  ))"
   ]
  },
  {
   "cell_type": "code",
   "execution_count": null,
   "metadata": {},
   "outputs": [],
   "source": []
  }
 ],
 "metadata": {
  "kernelspec": {
   "display_name": "Flagon Python3",
   "language": "python",
   "name": "flagon-conda-env"
  },
  "language_info": {
   "codemirror_mode": {
    "name": "ipython",
    "version": 3
   },
   "file_extension": ".py",
   "mimetype": "text/x-python",
   "name": "python",
   "nbconvert_exporter": "python",
   "pygments_lexer": "ipython3",
   "version": "3.7.6"
  }
 },
 "nbformat": 4,
 "nbformat_minor": 4
}
