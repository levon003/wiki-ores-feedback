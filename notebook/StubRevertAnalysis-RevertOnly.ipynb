{
 "cells": [
  {
   "cell_type": "markdown",
   "metadata": {},
   "source": [
    "Revert Extraction Analysis\n",
    "===\n",
    "\n",
    "Do some analysis on reverts."
   ]
  },
  {
   "cell_type": "code",
   "execution_count": 1,
   "metadata": {},
   "outputs": [],
   "source": [
    "import mwapi\n",
    "import mwxml\n",
    "import mwxml.utilities\n",
    "import mwcli\n",
    "import mwreverts\n",
    "import oresapi\n",
    "import mwparserfromhell"
   ]
  },
  {
   "cell_type": "code",
   "execution_count": 2,
   "metadata": {},
   "outputs": [],
   "source": [
    "import numpy as np\n",
    "import pandas as pd\n",
    "import matplotlib.pyplot as plt\n",
    "import matplotlib"
   ]
  },
  {
   "cell_type": "code",
   "execution_count": 3,
   "metadata": {},
   "outputs": [],
   "source": [
    "import os\n",
    "from tqdm import tqdm\n",
    "import bz2\n",
    "import gzip\n",
    "import json\n",
    "import re\n",
    "import hashlib\n",
    "from datetime import datetime\n",
    "import nltk\n",
    "import scipy.stats\n",
    "import para\n",
    "from itertools import groupby\n",
    "from collections import Counter"
   ]
  },
  {
   "cell_type": "code",
   "execution_count": 266,
   "metadata": {},
   "outputs": [],
   "source": [
    "import statsmodels.api as sm\n",
    "import statsmodels.formula.api as smf"
   ]
  },
  {
   "cell_type": "code",
   "execution_count": 4,
   "metadata": {},
   "outputs": [
    {
     "data": {
      "text/plain": [
       "'/export/scratch2/levon003/repos/wiki-ores-feedback'"
      ]
     },
     "execution_count": 4,
     "metadata": {},
     "output_type": "execute_result"
    }
   ],
   "source": [
    "git_root_dir = !git rev-parse --show-toplevel\n",
    "git_root_dir = git_root_dir[0]\n",
    "git_root_dir"
   ]
  },
  {
   "cell_type": "code",
   "execution_count": 229,
   "metadata": {},
   "outputs": [
    {
     "data": {
      "text/plain": [
       "'/export/scratch2/levon003/repos/wiki-ores-feedback/figures'"
      ]
     },
     "execution_count": 229,
     "metadata": {},
     "output_type": "execute_result"
    }
   ],
   "source": [
    "figures_dir = os.path.join(git_root_dir, \"figures\")\n",
    "figures_dir"
   ]
  },
  {
   "cell_type": "code",
   "execution_count": 5,
   "metadata": {},
   "outputs": [
    {
     "data": {
      "text/plain": [
       "('/export/scratch2/wiki_data',\n",
       " '/export/scratch2/levon003/repos/wiki-ores-feedback/data/derived')"
      ]
     },
     "execution_count": 5,
     "metadata": {},
     "output_type": "execute_result"
    }
   ],
   "source": [
    "raw_data_dir = \"/export/scratch2/wiki_data\"\n",
    "derived_data_dir = os.path.join(git_root_dir, \"data\", \"derived\")\n",
    "raw_data_dir, derived_data_dir"
   ]
  },
  {
   "cell_type": "code",
   "execution_count": 6,
   "metadata": {},
   "outputs": [
    {
     "data": {
      "text/plain": [
       "'/export/scratch2/levon003/repos/wiki-ores-feedback/data/derived/stub-history-reverts'"
      ]
     },
     "execution_count": 6,
     "metadata": {},
     "output_type": "execute_result"
    }
   ],
   "source": [
    "working_dir = os.path.join(derived_data_dir, 'stub-history-reverts')\n",
    "os.makedirs(working_dir, exist_ok=True)\n",
    "working_dir"
   ]
  },
  {
   "cell_type": "code",
   "execution_count": 7,
   "metadata": {},
   "outputs": [
    {
     "data": {
      "text/plain": [
       "19881980"
      ]
     },
     "execution_count": 7,
     "metadata": {},
     "output_type": "execute_result"
    }
   ],
   "source": [
    "article_index_path = os.path.join(raw_data_dir, \"enwiki-20200101-pages-articles-multistream-index.txt\")\n",
    "article_index = open(article_index_path).readlines()\n",
    "len(article_index)"
   ]
  },
  {
   "cell_type": "code",
   "execution_count": 8,
   "metadata": {},
   "outputs": [
    {
     "name": "stderr",
     "output_type": "stream",
     "text": [
      "100%|██████████| 19881980/19881980 [00:33<00:00, 584793.38it/s]\n"
     ]
    },
    {
     "data": {
      "text/plain": [
       "19881980"
      ]
     },
     "execution_count": 8,
     "metadata": {},
     "output_type": "execute_result"
    }
   ],
   "source": [
    "page_title_dict = {}\n",
    "for line in tqdm(article_index):\n",
    "    tokens = line.strip().split(\":\")\n",
    "    #page_start_bytes = int(tokens[0])\n",
    "    page_id = int(tokens[1])\n",
    "    page_title = \"\".join(tokens[2:])\n",
    "    page_title_dict[page_id] = page_title\n",
    "len(page_title_dict)"
   ]
  },
  {
   "cell_type": "code",
   "execution_count": 9,
   "metadata": {},
   "outputs": [],
   "source": [
    "stub_history_dir = os.path.join(raw_data_dir, \"enwiki-20200101-stub-meta-history-gz\")\n",
    "assert os.path.exists(stub_history_dir)"
   ]
  },
  {
   "cell_type": "code",
   "execution_count": 10,
   "metadata": {},
   "outputs": [
    {
     "data": {
      "text/plain": [
       "27"
      ]
     },
     "execution_count": 10,
     "metadata": {},
     "output_type": "execute_result"
    }
   ],
   "source": [
    "paths = [os.path.join(stub_history_dir, stub_history_filename) \n",
    "         for stub_history_filename in os.listdir(stub_history_dir)\n",
    "         if stub_history_filename.endswith(\".xml.gz\")]\n",
    "len(paths)"
   ]
  },
  {
   "cell_type": "code",
   "execution_count": 11,
   "metadata": {},
   "outputs": [
    {
     "data": {
      "text/plain": [
       "(1514786400, 1577858400)"
      ]
     },
     "execution_count": 11,
     "metadata": {},
     "output_type": "execute_result"
    }
   ],
   "source": [
    "start_date = datetime.fromisoformat('2018-01-01')\n",
    "start_timestamp = int(start_date.timestamp())\n",
    "end_date = datetime.fromisoformat('2020-01-01')\n",
    "end_timestamp = int(end_date.timestamp())\n",
    "start_timestamp, end_timestamp"
   ]
  },
  {
   "cell_type": "markdown",
   "metadata": {},
   "source": [
    "### Load in all revisions\n",
    "\n",
    "Which excludes revisions outside of 2018-2020 and only for pages in ns0 and non-redirects."
   ]
  },
  {
   "cell_type": "code",
   "execution_count": 12,
   "metadata": {},
   "outputs": [
    {
     "name": "stdout",
     "output_type": "stream",
     "text": [
      "0:00:32.284334\n"
     ]
    },
    {
     "data": {
      "text/plain": [
       "77287697"
      ]
     },
     "execution_count": 12,
     "metadata": {},
     "output_type": "execute_result"
    }
   ],
   "source": [
    "start = datetime.now()\n",
    "rev_ids_filepath = os.path.join(working_dir, 'rev_ids_sorted.csv')\n",
    "df = pd.read_csv(rev_ids_filepath,\n",
    "                 header=None, \n",
    "                 names=['page_id', 'rev_id', 'rev_timestamp', 'is_revert_target', 'is_reverted', 'is_reverting']\n",
    ")\n",
    "print(f\"{datetime.now() - start}\")\n",
    "len(df)"
   ]
  },
  {
   "cell_type": "code",
   "execution_count": 13,
   "metadata": {},
   "outputs": [
    {
     "data": {
      "text/html": [
       "<div>\n",
       "<style scoped>\n",
       "    .dataframe tbody tr th:only-of-type {\n",
       "        vertical-align: middle;\n",
       "    }\n",
       "\n",
       "    .dataframe tbody tr th {\n",
       "        vertical-align: top;\n",
       "    }\n",
       "\n",
       "    .dataframe thead th {\n",
       "        text-align: right;\n",
       "    }\n",
       "</style>\n",
       "<table border=\"1\" class=\"dataframe\">\n",
       "  <thead>\n",
       "    <tr style=\"text-align: right;\">\n",
       "      <th></th>\n",
       "      <th>page_id</th>\n",
       "      <th>rev_id</th>\n",
       "      <th>rev_timestamp</th>\n",
       "      <th>is_revert_target</th>\n",
       "      <th>is_reverted</th>\n",
       "      <th>is_reverting</th>\n",
       "    </tr>\n",
       "  </thead>\n",
       "  <tbody>\n",
       "    <tr>\n",
       "      <th>0</th>\n",
       "      <td>12</td>\n",
       "      <td>818611292</td>\n",
       "      <td>1515101356</td>\n",
       "      <td>0</td>\n",
       "      <td>0</td>\n",
       "      <td>0</td>\n",
       "    </tr>\n",
       "    <tr>\n",
       "      <th>1</th>\n",
       "      <td>12</td>\n",
       "      <td>818613649</td>\n",
       "      <td>1515102279</td>\n",
       "      <td>0</td>\n",
       "      <td>0</td>\n",
       "      <td>0</td>\n",
       "    </tr>\n",
       "    <tr>\n",
       "      <th>2</th>\n",
       "      <td>12</td>\n",
       "      <td>818624114</td>\n",
       "      <td>1515106953</td>\n",
       "      <td>1</td>\n",
       "      <td>0</td>\n",
       "      <td>0</td>\n",
       "    </tr>\n",
       "    <tr>\n",
       "      <th>3</th>\n",
       "      <td>12</td>\n",
       "      <td>820024812</td>\n",
       "      <td>1515798752</td>\n",
       "      <td>0</td>\n",
       "      <td>1</td>\n",
       "      <td>0</td>\n",
       "    </tr>\n",
       "    <tr>\n",
       "      <th>4</th>\n",
       "      <td>12</td>\n",
       "      <td>820025687</td>\n",
       "      <td>1515799060</td>\n",
       "      <td>0</td>\n",
       "      <td>0</td>\n",
       "      <td>1</td>\n",
       "    </tr>\n",
       "  </tbody>\n",
       "</table>\n",
       "</div>"
      ],
      "text/plain": [
       "   page_id     rev_id  rev_timestamp  is_revert_target  is_reverted  \\\n",
       "0       12  818611292     1515101356                 0            0   \n",
       "1       12  818613649     1515102279                 0            0   \n",
       "2       12  818624114     1515106953                 1            0   \n",
       "3       12  820024812     1515798752                 0            1   \n",
       "4       12  820025687     1515799060                 0            0   \n",
       "\n",
       "   is_reverting  \n",
       "0             0  \n",
       "1             0  \n",
       "2             0  \n",
       "3             0  \n",
       "4             1  "
      ]
     },
     "execution_count": 13,
     "metadata": {},
     "output_type": "execute_result"
    }
   ],
   "source": [
    "df.head()"
   ]
  },
  {
   "cell_type": "code",
   "execution_count": 14,
   "metadata": {},
   "outputs": [
    {
     "data": {
      "text/plain": [
       "5338582"
      ]
     },
     "execution_count": 14,
     "metadata": {},
     "output_type": "execute_result"
    }
   ],
   "source": [
    "# number of unique pages in this sample\n",
    "page_ids_set = set(df.page_id)\n",
    "len(page_ids_set)"
   ]
  },
  {
   "cell_type": "code",
   "execution_count": 257,
   "metadata": {},
   "outputs": [
    {
     "data": {
      "text/html": [
       "<div>\n",
       "<style scoped>\n",
       "    .dataframe tbody tr th:only-of-type {\n",
       "        vertical-align: middle;\n",
       "    }\n",
       "\n",
       "    .dataframe tbody tr th {\n",
       "        vertical-align: top;\n",
       "    }\n",
       "\n",
       "    .dataframe thead th {\n",
       "        text-align: right;\n",
       "    }\n",
       "</style>\n",
       "<table border=\"1\" class=\"dataframe\">\n",
       "  <thead>\n",
       "    <tr style=\"text-align: right;\">\n",
       "      <th></th>\n",
       "      <th>page_id</th>\n",
       "      <th>page_title</th>\n",
       "    </tr>\n",
       "  </thead>\n",
       "  <tbody>\n",
       "    <tr>\n",
       "      <th>0</th>\n",
       "      <td>16777218</td>\n",
       "      <td>Eduardo Pitta</td>\n",
       "    </tr>\n",
       "    <tr>\n",
       "      <th>1</th>\n",
       "      <td>12</td>\n",
       "      <td>Anarchism</td>\n",
       "    </tr>\n",
       "    <tr>\n",
       "      <th>2</th>\n",
       "      <td>50331663</td>\n",
       "      <td>Abdullah Mostafa</td>\n",
       "    </tr>\n",
       "    <tr>\n",
       "      <th>3</th>\n",
       "      <td>16777236</td>\n",
       "      <td>2011 Pacific Games</td>\n",
       "    </tr>\n",
       "    <tr>\n",
       "      <th>4</th>\n",
       "      <td>25</td>\n",
       "      <td>Autism</td>\n",
       "    </tr>\n",
       "  </tbody>\n",
       "</table>\n",
       "</div>"
      ],
      "text/plain": [
       "    page_id          page_title\n",
       "0  16777218       Eduardo Pitta\n",
       "1        12           Anarchism\n",
       "2  50331663    Abdullah Mostafa\n",
       "3  16777236  2011 Pacific Games\n",
       "4        25              Autism"
      ]
     },
     "execution_count": 257,
     "metadata": {},
     "output_type": "execute_result"
    }
   ],
   "source": [
    "page_id_list = list(page_ids_set)\n",
    "page_title_list = [page_title_dict[page_id] for page_id in page_ids_set]\n",
    "page_title_df = pd.DataFrame({'page_id': page_id_list, 'page_title': page_title_list})\n",
    "page_title_df.head()"
   ]
  },
  {
   "cell_type": "code",
   "execution_count": 27,
   "metadata": {},
   "outputs": [
    {
     "name": "stderr",
     "output_type": "stream",
     "text": [
      "  0%|          | 0/27 [00:00<?, ?it/s]"
     ]
    },
    {
     "name": "stdout",
     "output_type": "stream",
     "text": [
      "Loading reverts from 27 ndjson files.\n"
     ]
    },
    {
     "name": "stderr",
     "output_type": "stream",
     "text": [
      "100%|██████████| 27/27 [27:36<00:00, 61.34s/it] \n"
     ]
    },
    {
     "data": {
      "text/plain": [
       "5992682"
      ]
     },
     "execution_count": 27,
     "metadata": {},
     "output_type": "execute_result"
    }
   ],
   "source": [
    "reverts = []\n",
    "paths = [os.path.join(working_dir, fname) for fname in os.listdir(working_dir) if fname.endswith(\"-reverts.ndjson\")]\n",
    "print(f\"Loading reverts from {len(paths)} ndjson files.\")\n",
    "for path in tqdm(paths):\n",
    "    with open(path, 'r') as infile:\n",
    "        for line in infile:\n",
    "            if line.strip() == \"\":\n",
    "                continue\n",
    "            revert = eval(line.strip())\n",
    "            reverts.append(revert)\n",
    "len(reverts)"
   ]
  },
  {
   "cell_type": "code",
   "execution_count": 29,
   "metadata": {},
   "outputs": [
    {
     "data": {
      "text/plain": [
       "25"
      ]
     },
     "execution_count": 29,
     "metadata": {},
     "output_type": "execute_result"
    }
   ],
   "source": [
    "bins = []\n",
    "bins.append(int(start_date.timestamp()))\n",
    "year = 2018\n",
    "month = 1\n",
    "while not (year == 2020 and month == 1):\n",
    "    if month == 12:\n",
    "        year += 1\n",
    "        month = 1\n",
    "    else:\n",
    "        month += 1\n",
    "    bins.append(int(datetime.fromisoformat(f\"{year}-{month:02}-01\").timestamp()))\n",
    "len(bins)"
   ]
  },
  {
   "cell_type": "code",
   "execution_count": 30,
   "metadata": {},
   "outputs": [],
   "source": [
    "cmap = matplotlib.cm.Set2"
   ]
  },
  {
   "cell_type": "code",
   "execution_count": 31,
   "metadata": {},
   "outputs": [
    {
     "data": {
      "text/plain": [
       "1163799"
      ]
     },
     "execution_count": 31,
     "metadata": {},
     "output_type": "execute_result"
    }
   ],
   "source": [
    "page_revert_counts = np.array([\n",
    "        len(list(page_reverts)) for page, page_reverts in groupby(reverts, lambda revert: revert['reverting']['page']['id'])\n",
    "    ])\n",
    "len(page_revert_counts)"
   ]
  },
  {
   "cell_type": "code",
   "execution_count": 33,
   "metadata": {},
   "outputs": [
    {
     "data": {
      "image/png": "[encoded data removed]",
      "text/plain": [
       "<Figure size 432x288 with 1 Axes>"
      ]
     },
     "metadata": {
      "needs_background": "light"
     },
     "output_type": "display_data"
    },
    {
     "data": {
      "text/plain": [
       "1163799"
      ]
     },
     "execution_count": 33,
     "metadata": {},
     "output_type": "execute_result"
    }
   ],
   "source": [
    "plt.hist(page_revert_counts, bins=50, log=True)\n",
    "plt.title(\"Total reverts per page\")\n",
    "plt.xlabel(\"Number of reverts\")\n",
    "plt.ylabel(\"Page count\")\n",
    "plt.show()\n",
    "len(page_revert_counts)"
   ]
  },
  {
   "cell_type": "code",
   "execution_count": 36,
   "metadata": {},
   "outputs": [
    {
     "data": {
      "text/plain": [
       "1163799"
      ]
     },
     "execution_count": 36,
     "metadata": {},
     "output_type": "execute_result"
    }
   ],
   "source": [
    "revert_counts_list = [\n",
    "        (page, len(list(page_reverts))) \n",
    "    for page, page_reverts in groupby(reverts, lambda revert: revert['reverting']['page']['id']) \n",
    "]\n",
    "len(revert_counts_list)"
   ]
  },
  {
   "cell_type": "code",
   "execution_count": 38,
   "metadata": {},
   "outputs": [
    {
     "data": {
      "text/plain": [
       "[(47069739, 765), (52179698, 755), (44254295, 701)]"
      ]
     },
     "execution_count": 38,
     "metadata": {},
     "output_type": "execute_result"
    }
   ],
   "source": [
    "revert_counts_list.sort(key=lambda t: t[1], reverse=True)\n",
    "revert_counts_list[:3]"
   ]
  },
  {
   "cell_type": "code",
   "execution_count": 43,
   "metadata": {},
   "outputs": [
    {
     "name": "stdout",
     "output_type": "stream",
     "text": [
      "                  Spider-Man Into the Spider-Verse 765\n",
      "                          Spider-Man Far From Home 755\n",
      "                                  Avengers Endgame 701\n",
      "                  List of current champions in WWE 688\n",
      "                                          Jungkook 682\n",
      "  List of countries and dependencies by population 682\n",
      "      2020 Democratic Party presidential primaries 658\n",
      "           List of Marvel Cinematic Universe films 649\n",
      "                             Avengers Infinity War 624\n",
      "            Kasautii Zindagii Kay (2018 TV series) 602\n",
      "                                              2019 599\n",
      "                                     Carl Benjamin 594\n",
      "                         Ralph Breaks the Internet 577\n",
      "                List of most-liked Instagram posts 574\n",
      "                                       Toy Story 4 571\n",
      "                   Star Wars The Rise of Skywalker 558\n",
      "                                        2.0 (film) 556\n",
      "                      Prince Harry, Duke of Sussex 548\n",
      "                                          Bepannah 545\n",
      "                      Eurovision Song Contest 2019 537\n",
      "                                           Sridevi 532\n",
      "                                   Ang Probinsyano 529\n",
      "                                      Rohit Sharma 523\n",
      "                             Red Dead Redemption 2 512\n",
      "                                              2018 493\n",
      "              America's Next Top Model (season 24) 484\n",
      "                                      Donald Trump 482\n",
      "                               ATK (football club) 480\n",
      "                        2018 in South Korean music 470\n",
      "                                   Jennie (singer) 467\n"
     ]
    }
   ],
   "source": [
    "for page_id, revert_count in revert_counts_list[:30]:\n",
    "    print(f\"{page_title_dict[page_id]:>50} {revert_count}\")"
   ]
  },
  {
   "cell_type": "markdown",
   "metadata": {},
   "source": [
    "Observations about the list:\n",
    " - Very popular pop-culture pages have lots of reverts\n",
    " - US politics pages\n",
    " - BTS stans lol"
   ]
  },
  {
   "cell_type": "code",
   "execution_count": 49,
   "metadata": {},
   "outputs": [],
   "source": [
    "total_revision_counts = df.groupby('page_id').count().rev_id.rename('total_revisions')"
   ]
  },
  {
   "cell_type": "code",
   "execution_count": 53,
   "metadata": {},
   "outputs": [],
   "source": [
    "page_total_revision_counts_dict = total_revision_counts.to_dict()"
   ]
  },
  {
   "cell_type": "code",
   "execution_count": 56,
   "metadata": {},
   "outputs": [
    {
     "data": {
      "text/html": [
       "<div>\n",
       "<style scoped>\n",
       "    .dataframe tbody tr th:only-of-type {\n",
       "        vertical-align: middle;\n",
       "    }\n",
       "\n",
       "    .dataframe tbody tr th {\n",
       "        vertical-align: top;\n",
       "    }\n",
       "\n",
       "    .dataframe thead th {\n",
       "        text-align: right;\n",
       "    }\n",
       "</style>\n",
       "<table border=\"1\" class=\"dataframe\">\n",
       "  <thead>\n",
       "    <tr style=\"text-align: right;\">\n",
       "      <th></th>\n",
       "      <th>page_id</th>\n",
       "      <th>revert_count</th>\n",
       "    </tr>\n",
       "  </thead>\n",
       "  <tbody>\n",
       "    <tr>\n",
       "      <th>0</th>\n",
       "      <td>47069739</td>\n",
       "      <td>765</td>\n",
       "    </tr>\n",
       "    <tr>\n",
       "      <th>1</th>\n",
       "      <td>52179698</td>\n",
       "      <td>755</td>\n",
       "    </tr>\n",
       "    <tr>\n",
       "      <th>2</th>\n",
       "      <td>44254295</td>\n",
       "      <td>701</td>\n",
       "    </tr>\n",
       "    <tr>\n",
       "      <th>3</th>\n",
       "      <td>12767523</td>\n",
       "      <td>688</td>\n",
       "    </tr>\n",
       "    <tr>\n",
       "      <th>4</th>\n",
       "      <td>57703645</td>\n",
       "      <td>682</td>\n",
       "    </tr>\n",
       "  </tbody>\n",
       "</table>\n",
       "</div>"
      ],
      "text/plain": [
       "    page_id  revert_count\n",
       "0  47069739           765\n",
       "1  52179698           755\n",
       "2  44254295           701\n",
       "3  12767523           688\n",
       "4  57703645           682"
      ]
     },
     "execution_count": 56,
     "metadata": {},
     "output_type": "execute_result"
    }
   ],
   "source": [
    "page_df = pd.DataFrame(revert_counts_list, columns=['page_id', 'revert_count'])\n",
    "page_df.head()"
   ]
  },
  {
   "cell_type": "code",
   "execution_count": 57,
   "metadata": {},
   "outputs": [],
   "source": [
    "page_df['revision_count'] = [page_total_revision_counts_dict[page_id] for page_id in page_df.page_id]"
   ]
  },
  {
   "cell_type": "code",
   "execution_count": 59,
   "metadata": {},
   "outputs": [],
   "source": [
    "page_df['pct_reverts'] = page_df.revert_count / page_df.revision_count"
   ]
  },
  {
   "cell_type": "code",
   "execution_count": 95,
   "metadata": {},
   "outputs": [
    {
     "data": {
      "image/png": "[encoded data removed]",
      "text/plain": [
       "<Figure size 432x288 with 1 Axes>"
      ]
     },
     "metadata": {
      "needs_background": "light"
     },
     "output_type": "display_data"
    }
   ],
   "source": [
    "plt.scatter(page_df.revert_count, page_df.pct_reverts, color='black', alpha=0.1)\n",
    "\n",
    "plt.xlabel(\"Total reverts\")\n",
    "plt.ylabel(\"% of page revisions that are reverts\")\n",
    "\n",
    "for i, tup in enumerate(page_df[(page_df.revert_count > 200)&(page_df.pct_reverts > 0.82)].itertuples()):\n",
    "    plt.text(tup.revert_count, tup.pct_reverts, f\"{page_title_dict[tup.page_id]}\", va='top' if i == 0 else 'bottom')\n",
    "for tup in page_df[(page_df.revert_count > 320)&(page_df.pct_reverts > 0.6)].itertuples():\n",
    "    plt.text(tup.revert_count, tup.pct_reverts, f\"{page_title_dict[tup.page_id]}\")\n",
    "for tup in page_df[(page_df.revert_count > 400)&(page_df.pct_reverts > 0.385)].itertuples():\n",
    "    plt.text(tup.revert_count, tup.pct_reverts, f\"{page_title_dict[tup.page_id]}\")\n",
    "for i, tup in enumerate(page_df[(page_df.revert_count > 590)&(page_df.pct_reverts > 0.25)].itertuples()):\n",
    "    plt.text(tup.revert_count, tup.pct_reverts, f\"{page_title_dict[tup.page_id]}\", va='top' if i == 0 else 'bottom')\n",
    "for i, tup in enumerate(page_df[(page_df.revert_count > 750)&(page_df.pct_reverts > 0.1)].itertuples()):\n",
    "    plt.text(tup.revert_count, tup.pct_reverts, f\"{page_title_dict[tup.page_id]}\", va='top' if i == 0 else 'bottom')\n",
    "for tup in page_df[(page_df.revert_count > 6)&(page_df.pct_reverts >= 1)].itertuples():\n",
    "    plt.text(tup.revert_count, tup.pct_reverts, f\"{page_title_dict[tup.page_id]}\")\n",
    "\n",
    "    \n",
    "plt.show()"
   ]
  },
  {
   "cell_type": "markdown",
   "metadata": {},
   "source": [
    "Retniowiec: \"Revert an apparently malfunctioning bot\".  User and bot do a small edit war, so all edit up identified as reverts.  https://en.wikipedia.org/w/index.php?title=Retniowiec&action=history\n",
    "\n",
    "Tangled Up: \"Protected [page]: Persistent sock puppetry\" A user with multiple sock puppets was vandalizing this page in early Sept 2019. https://en.wikipedia.org/w/index.php?title=Tangled_Up_(Thomas_Rhett_album)&action=history\n",
    "\n",
    "The American Dollar: Some kind of weird edit-war. Several sockpuppets, likely controlled by the band themselves. \"Wikipedia is a lame dictatorship of brown nosing nerds and losers.\" https://en.wikipedia.org/wiki/Talk:The_American_Dollar_(band)\n",
    "\n",
    "Dan Quayle: Disagreement about how much discussion of Quayle's gaffes is appropriate. Lots of partisans trying to remove extensive discussion of gaffes. https://en.wikipedia.org/wiki/Talk:Dan_Quayle\n",
    "\n",
    "List of presidents of the United States: I'm not really sure why this is such an outlier.  It is related to politics?  See figure below, no obvious temporal spikes except in Feb 2018. \n",
    "\n",
    "Jungkook: BTS stans.  \"There have been attempts to recruit editors of specific viewpoints to this article\". https://en.wikipedia.org/wiki/Talk:Jungkook\n",
    "\n",
    "Carl Benjamin:  (FYI, this is Sargon of Akkad).  So this is GamerGate and gender controversy.  It seems msot of the controversy is related to whether or not it is fair to say Sargon is anti-feminist and associated with the alt-right in the lede.  https://en.wikipedia.org/w/index.php?title=Carl_Benjamin&offset=20191111155136&action=history\n",
    "\n",
    "Spider-Man Far From Home: Persistent vandalism, lots of original research (seemingly related to easter eggs in the film). https://en.wikipedia.org/w/index.php?title=Spider-Man:_Far_From_Home&offset=20200101012016&action=history\n",
    "\n",
    "Spider-man Into the Spider-Verse: This is one of the most-viewed Wikipedia articles.  Seemingly normal percentage of reverts."
   ]
  },
  {
   "cell_type": "code",
   "execution_count": 110,
   "metadata": {
    "scrolled": true
   },
   "outputs": [
    {
     "data": {
      "image/png": "[encoded data removed]",
      "text/plain": [
       "<Figure size 864x216 with 1 Axes>"
      ]
     },
     "metadata": {
      "needs_background": "light"
     },
     "output_type": "display_data"
    },
    {
     "data": {
      "text/plain": [
       "('List of presidents of the United States', 19908980.0)"
      ]
     },
     "execution_count": 110,
     "metadata": {},
     "output_type": "execute_result"
    }
   ],
   "source": [
    "target_page_id = page_df[(page_df.revert_count > 400)&(page_df.pct_reverts > 0.385)].iloc[0].page_id\n",
    "target_page_title = page_title_dict[target_page_id]\n",
    "# count only revisions on this page\n",
    "sdf = df[df.page_id == target_page_id]\n",
    "\n",
    "fig, ax = plt.subplots(1, 1, figsize=(12, 3))\n",
    "\n",
    "hist, bin_edges = np.histogram(sdf.rev_timestamp, bins=bins)\n",
    "ln1 = ax.plot(bin_edges[:-1], hist, linestyle='-', linewidth=1, label='All Revisions', color=cmap(0.2))\n",
    "hist, bin_edges = np.histogram(sdf[sdf.is_reverting == 1].rev_timestamp, bins=bins)\n",
    "ln2 = ax.plot(bin_edges[:-1], hist, linestyle='--', linewidth=1, label='Reverts', color=cmap(0))\n",
    "ax.set_xticks(bins)\n",
    "ax.set_xticklabels([datetime.utcfromtimestamp(ts).strftime('%Y\\n%m') for ts in bins])\n",
    "ax.set_title(f\"Revisions and reverts over time for '{target_page_title}'\")\n",
    "ax.set_ylabel(\"Revision count\")\n",
    "\n",
    "lns = ln1 + ln2\n",
    "labs = [l.get_label() for l in lns]\n",
    "ax.legend(lns, labs)\n",
    "\n",
    "plt.show()\n",
    "\n",
    "target_page_title, target_page_id"
   ]
  },
  {
   "cell_type": "code",
   "execution_count": 104,
   "metadata": {},
   "outputs": [
    {
     "data": {
      "text/html": [
       "<div>\n",
       "<style scoped>\n",
       "    .dataframe tbody tr th:only-of-type {\n",
       "        vertical-align: middle;\n",
       "    }\n",
       "\n",
       "    .dataframe tbody tr th {\n",
       "        vertical-align: top;\n",
       "    }\n",
       "\n",
       "    .dataframe thead th {\n",
       "        text-align: right;\n",
       "    }\n",
       "</style>\n",
       "<table border=\"1\" class=\"dataframe\">\n",
       "  <thead>\n",
       "    <tr style=\"text-align: right;\">\n",
       "      <th></th>\n",
       "      <th>page_id</th>\n",
       "      <th>rev_id</th>\n",
       "      <th>rev_timestamp</th>\n",
       "      <th>is_revert_target</th>\n",
       "      <th>is_reverted</th>\n",
       "      <th>is_reverting</th>\n",
       "    </tr>\n",
       "  </thead>\n",
       "  <tbody>\n",
       "    <tr>\n",
       "      <th>0</th>\n",
       "      <td>12</td>\n",
       "      <td>818611292</td>\n",
       "      <td>1515101356</td>\n",
       "      <td>0</td>\n",
       "      <td>0</td>\n",
       "      <td>0</td>\n",
       "    </tr>\n",
       "    <tr>\n",
       "      <th>1</th>\n",
       "      <td>12</td>\n",
       "      <td>818613649</td>\n",
       "      <td>1515102279</td>\n",
       "      <td>0</td>\n",
       "      <td>0</td>\n",
       "      <td>0</td>\n",
       "    </tr>\n",
       "    <tr>\n",
       "      <th>2</th>\n",
       "      <td>12</td>\n",
       "      <td>818624114</td>\n",
       "      <td>1515106953</td>\n",
       "      <td>1</td>\n",
       "      <td>0</td>\n",
       "      <td>0</td>\n",
       "    </tr>\n",
       "    <tr>\n",
       "      <th>3</th>\n",
       "      <td>12</td>\n",
       "      <td>820024812</td>\n",
       "      <td>1515798752</td>\n",
       "      <td>0</td>\n",
       "      <td>1</td>\n",
       "      <td>0</td>\n",
       "    </tr>\n",
       "    <tr>\n",
       "      <th>4</th>\n",
       "      <td>12</td>\n",
       "      <td>820025687</td>\n",
       "      <td>1515799060</td>\n",
       "      <td>0</td>\n",
       "      <td>0</td>\n",
       "      <td>1</td>\n",
       "    </tr>\n",
       "    <tr>\n",
       "      <th>...</th>\n",
       "      <td>...</td>\n",
       "      <td>...</td>\n",
       "      <td>...</td>\n",
       "      <td>...</td>\n",
       "      <td>...</td>\n",
       "      <td>...</td>\n",
       "    </tr>\n",
       "    <tr>\n",
       "      <th>77287692</th>\n",
       "      <td>62715690</td>\n",
       "      <td>933353502</td>\n",
       "      <td>1577815795</td>\n",
       "      <td>0</td>\n",
       "      <td>0</td>\n",
       "      <td>0</td>\n",
       "    </tr>\n",
       "    <tr>\n",
       "      <th>77287693</th>\n",
       "      <td>62715690</td>\n",
       "      <td>933353698</td>\n",
       "      <td>1577815916</td>\n",
       "      <td>0</td>\n",
       "      <td>0</td>\n",
       "      <td>0</td>\n",
       "    </tr>\n",
       "    <tr>\n",
       "      <th>77287694</th>\n",
       "      <td>62715690</td>\n",
       "      <td>933354601</td>\n",
       "      <td>1577816437</td>\n",
       "      <td>0</td>\n",
       "      <td>0</td>\n",
       "      <td>0</td>\n",
       "    </tr>\n",
       "    <tr>\n",
       "      <th>77287695</th>\n",
       "      <td>62715690</td>\n",
       "      <td>933421734</td>\n",
       "      <td>1577848192</td>\n",
       "      <td>0</td>\n",
       "      <td>0</td>\n",
       "      <td>0</td>\n",
       "    </tr>\n",
       "    <tr>\n",
       "      <th>77287696</th>\n",
       "      <td>62715690</td>\n",
       "      <td>933436443</td>\n",
       "      <td>1577856373</td>\n",
       "      <td>0</td>\n",
       "      <td>0</td>\n",
       "      <td>0</td>\n",
       "    </tr>\n",
       "  </tbody>\n",
       "</table>\n",
       "<p>77287697 rows × 6 columns</p>\n",
       "</div>"
      ],
      "text/plain": [
       "           page_id     rev_id  rev_timestamp  is_revert_target  is_reverted  \\\n",
       "0               12  818611292     1515101356                 0            0   \n",
       "1               12  818613649     1515102279                 0            0   \n",
       "2               12  818624114     1515106953                 1            0   \n",
       "3               12  820024812     1515798752                 0            1   \n",
       "4               12  820025687     1515799060                 0            0   \n",
       "...            ...        ...            ...               ...          ...   \n",
       "77287692  62715690  933353502     1577815795                 0            0   \n",
       "77287693  62715690  933353698     1577815916                 0            0   \n",
       "77287694  62715690  933354601     1577816437                 0            0   \n",
       "77287695  62715690  933421734     1577848192                 0            0   \n",
       "77287696  62715690  933436443     1577856373                 0            0   \n",
       "\n",
       "          is_reverting  \n",
       "0                    0  \n",
       "1                    0  \n",
       "2                    0  \n",
       "3                    0  \n",
       "4                    1  \n",
       "...                ...  \n",
       "77287692             0  \n",
       "77287693             0  \n",
       "77287694             0  \n",
       "77287695             0  \n",
       "77287696             0  \n",
       "\n",
       "[77287697 rows x 6 columns]"
      ]
     },
     "execution_count": 104,
     "metadata": {},
     "output_type": "execute_result"
    }
   ],
   "source": [
    "df"
   ]
  },
  {
   "cell_type": "code",
   "execution_count": 69,
   "metadata": {},
   "outputs": [
    {
     "name": "stdout",
     "output_type": "stream",
     "text": [
      "                                           Biduino 111 / 119 (93.28%)\n",
      "                   Tangled Up (Thomas Rhett album) 206 / 237 (86.92%)\n",
      "                                   Hazel-Ann Regis 117 / 137 (85.40%)\n",
      "                        The American Dollar (band) 268 / 314 (85.35%)\n",
      "                                  Progressive scan 115 / 137 (83.94%)\n",
      "                                Battle of Shanggao 91 / 109 (83.49%)\n",
      "                                 Totally Hits 2003 153 / 186 (82.26%)\n",
      "                        Thor Ragnarok (soundtrack) 104 / 127 (81.89%)\n",
      "Dragon Quest Heroes The World Tree's Woe and the Blight Below 207 / 253 (81.82%)\n",
      "                      2005 Cleveland Browns season 108 / 132 (81.82%)\n",
      "                            Battle of Pingxingguan 100 / 124 (80.65%)\n",
      "                                      John Barrard 103 / 128 (80.47%)\n",
      "                                Kotromanić dynasty 181 / 226 (80.09%)\n",
      "                                   Market! Market! 84 / 105 (80.00%)\n",
      "                         Battle of Zaoyang–Yichang 142 / 178 (79.78%)\n",
      "                      2013 Cleveland Browns season 97 / 123 (78.86%)\n",
      "                                   AJ (given name) 138 / 176 (78.41%)\n",
      "  Viet Cong attack on Tan Son Nhut Air Base (1966) 138 / 178 (77.53%)\n",
      "                                Langrisser Schwarz 89 / 115 (77.39%)\n",
      "                                       Project Mc2 213 / 276 (77.17%)\n",
      "                                     Taal Basilica 90 / 118 (76.27%)\n",
      "                                Fire Emblem Gaiden 109 / 143 (76.22%)\n",
      "                                       The Dualers 89 / 117 (76.07%)\n",
      "                                          Big King 108 / 143 (75.52%)\n",
      "                 Richard H. Anderson (businessman) 205 / 273 (75.09%)\n",
      "                           Fire Emblem Thracia 776 211 / 283 (74.56%)\n",
      "                          Santa Teresita, Batangas 121 / 163 (74.23%)\n",
      "                         Totally Hits 2004, Vol. 2 136 / 184 (73.91%)\n",
      "      List of World Heritage Sites in Western Asia 95 / 129 (73.64%)\n",
      "                      2002–03 Aberdeen F.C. season 126 / 172 (73.26%)\n",
      "                                       Yuri Lowell 163 / 223 (73.09%)\n",
      "                                     Doreen Mantle 163 / 223 (73.09%)\n"
     ]
    }
   ],
   "source": [
    "for i, t in enumerate(page_df[page_df.revision_count >= 100].sort_values(by='pct_reverts', ascending=False).itertuples()):\n",
    "    print(f\"{page_title_dict[t.page_id]:>50} {t.revert_count} / {t.revision_count} ({t.pct_reverts*100:.2f}%)\")\n",
    "    if i > 30:\n",
    "        break"
   ]
  },
  {
   "cell_type": "markdown",
   "metadata": {},
   "source": [
    "Biduino: A single new user made added and removed a single period over a single day in July 2018.  So, nearly all are reverts.\n",
    "\n",
    "Thor Ragnarok (soundtrack): Seems like a lot of fighting about genre? Interestingly, it looks like the same troll/sockpuppet as on the Tangled Up page."
   ]
  },
  {
   "cell_type": "code",
   "execution_count": 112,
   "metadata": {
    "scrolled": true
   },
   "outputs": [
    {
     "data": {
      "image/png": "[encoded data removed]",
      "text/plain": [
       "<Figure size 432x288 with 1 Axes>"
      ]
     },
     "metadata": {
      "needs_background": "light"
     },
     "output_type": "display_data"
    }
   ],
   "source": [
    "# Total revisions vs percentage reverts\n",
    "plt.scatter(page_df.revision_count, page_df.pct_reverts, color='black', alpha=0.1)\n",
    "plt.xscale('log')\n",
    "\n",
    "plt.xlabel(\"Total revisions\")\n",
    "plt.ylabel(\"% of page revisions that are reverts\")\n",
    "    \n",
    "plt.show()"
   ]
  },
  {
   "cell_type": "markdown",
   "metadata": {},
   "source": [
    "### Protected page analysis\n",
    "\n",
    "Brings in data for protected pages and does some computing to assess the impact of page protection on reverts."
   ]
  },
  {
   "cell_type": "code",
   "execution_count": 240,
   "metadata": {},
   "outputs": [
    {
     "data": {
      "text/plain": [
       "70286"
      ]
     },
     "execution_count": 240,
     "metadata": {},
     "output_type": "execute_result"
    }
   ],
   "source": [
    "repo_raw_data_dir = os.path.join(git_root_dir, \"data\", \"raw\")\n",
    "protected_pages_filepath = os.path.join(repo_raw_data_dir, 'protected_pages', 'quarry-42681-edit-protected-pages.csv')\n",
    "editprotected_df = pd.read_csv(protected_pages_filepath, header=0)\n",
    "len(editprotected_df)"
   ]
  },
  {
   "cell_type": "code",
   "execution_count": 249,
   "metadata": {},
   "outputs": [
    {
     "data": {
      "text/html": [
       "<div>\n",
       "<style scoped>\n",
       "    .dataframe tbody tr th:only-of-type {\n",
       "        vertical-align: middle;\n",
       "    }\n",
       "\n",
       "    .dataframe tbody tr th {\n",
       "        vertical-align: top;\n",
       "    }\n",
       "\n",
       "    .dataframe thead th {\n",
       "        text-align: right;\n",
       "    }\n",
       "</style>\n",
       "<table border=\"1\" class=\"dataframe\">\n",
       "  <thead>\n",
       "    <tr style=\"text-align: right;\">\n",
       "      <th></th>\n",
       "      <th>page_id</th>\n",
       "      <th>revert_count</th>\n",
       "      <th>revision_count</th>\n",
       "      <th>pct_reverts</th>\n",
       "      <th>pr_level</th>\n",
       "      <th>is_edit_protected</th>\n",
       "    </tr>\n",
       "  </thead>\n",
       "  <tbody>\n",
       "    <tr>\n",
       "      <th>0</th>\n",
       "      <td>47069739</td>\n",
       "      <td>765</td>\n",
       "      <td>4540</td>\n",
       "      <td>0.168502</td>\n",
       "      <td>NaN</td>\n",
       "      <td>False</td>\n",
       "    </tr>\n",
       "    <tr>\n",
       "      <th>1</th>\n",
       "      <td>52179698</td>\n",
       "      <td>755</td>\n",
       "      <td>3739</td>\n",
       "      <td>0.201926</td>\n",
       "      <td>NaN</td>\n",
       "      <td>False</td>\n",
       "    </tr>\n",
       "    <tr>\n",
       "      <th>2</th>\n",
       "      <td>44254295</td>\n",
       "      <td>701</td>\n",
       "      <td>4847</td>\n",
       "      <td>0.144626</td>\n",
       "      <td>autoconfirmed</td>\n",
       "      <td>True</td>\n",
       "    </tr>\n",
       "    <tr>\n",
       "      <th>3</th>\n",
       "      <td>12767523</td>\n",
       "      <td>688</td>\n",
       "      <td>3779</td>\n",
       "      <td>0.182059</td>\n",
       "      <td>autoconfirmed</td>\n",
       "      <td>True</td>\n",
       "    </tr>\n",
       "    <tr>\n",
       "      <th>4</th>\n",
       "      <td>57703645</td>\n",
       "      <td>682</td>\n",
       "      <td>1784</td>\n",
       "      <td>0.382287</td>\n",
       "      <td>autoconfirmed</td>\n",
       "      <td>True</td>\n",
       "    </tr>\n",
       "  </tbody>\n",
       "</table>\n",
       "</div>"
      ],
      "text/plain": [
       "    page_id  revert_count  revision_count  pct_reverts       pr_level  \\\n",
       "0  47069739           765            4540     0.168502            NaN   \n",
       "1  52179698           755            3739     0.201926            NaN   \n",
       "2  44254295           701            4847     0.144626  autoconfirmed   \n",
       "3  12767523           688            3779     0.182059  autoconfirmed   \n",
       "4  57703645           682            1784     0.382287  autoconfirmed   \n",
       "\n",
       "   is_edit_protected  \n",
       "0              False  \n",
       "1              False  \n",
       "2               True  \n",
       "3               True  \n",
       "4               True  "
      ]
     },
     "execution_count": 249,
     "metadata": {},
     "output_type": "execute_result"
    }
   ],
   "source": [
    "# Merge in page protection data\n",
    "page_df = page_df.merge(editprotected_df[['pr_level', 'page_id']], how='left', on='page_id')\n",
    "page_df['is_edit_protected'] = ~pd.isna(res.pr_level)\n",
    "page_df.head()"
   ]
  },
  {
   "cell_type": "code",
   "execution_count": 253,
   "metadata": {},
   "outputs": [
    {
     "data": {
      "text/plain": [
       "'0.81% of pages are edit-protected as of March 02, 2020'"
      ]
     },
     "execution_count": 253,
     "metadata": {},
     "output_type": "execute_result"
    }
   ],
   "source": [
    "f\"{np.sum(page_df.is_edit_protected) / len(page_df)*100:.2f}% of pages are edit-protected as of March 02, 2020\""
   ]
  },
  {
   "cell_type": "code",
   "execution_count": 254,
   "metadata": {},
   "outputs": [
    {
     "data": {
      "text/plain": [
       "[(nan, 1154369),\n",
       " ('autoconfirmed', 8557),\n",
       " ('extendedconfirmed', 859),\n",
       " ('sysop', 14)]"
      ]
     },
     "execution_count": 254,
     "metadata": {},
     "output_type": "execute_result"
    }
   ],
   "source": [
    "Counter(page_df.pr_level).most_common()"
   ]
  },
  {
   "cell_type": "code",
   "execution_count": 258,
   "metadata": {},
   "outputs": [
    {
     "data": {
      "text/html": [
       "<div>\n",
       "<style scoped>\n",
       "    .dataframe tbody tr th:only-of-type {\n",
       "        vertical-align: middle;\n",
       "    }\n",
       "\n",
       "    .dataframe tbody tr th {\n",
       "        vertical-align: top;\n",
       "    }\n",
       "\n",
       "    .dataframe thead th {\n",
       "        text-align: right;\n",
       "    }\n",
       "</style>\n",
       "<table border=\"1\" class=\"dataframe\">\n",
       "  <thead>\n",
       "    <tr style=\"text-align: right;\">\n",
       "      <th></th>\n",
       "      <th>page_id</th>\n",
       "      <th>revert_count</th>\n",
       "      <th>revision_count</th>\n",
       "      <th>pct_reverts</th>\n",
       "      <th>pr_level</th>\n",
       "      <th>is_edit_protected</th>\n",
       "      <th>page_title</th>\n",
       "    </tr>\n",
       "  </thead>\n",
       "  <tbody>\n",
       "    <tr>\n",
       "      <th>0</th>\n",
       "      <td>57063312</td>\n",
       "      <td>225</td>\n",
       "      <td>1674</td>\n",
       "      <td>0.134409</td>\n",
       "      <td>sysop</td>\n",
       "      <td>True</td>\n",
       "      <td>Douma chemical attack</td>\n",
       "    </tr>\n",
       "    <tr>\n",
       "      <th>1</th>\n",
       "      <td>13425260</td>\n",
       "      <td>191</td>\n",
       "      <td>1142</td>\n",
       "      <td>0.167250</td>\n",
       "      <td>sysop</td>\n",
       "      <td>True</td>\n",
       "      <td>List of programs broadcast by Nicktoons</td>\n",
       "    </tr>\n",
       "    <tr>\n",
       "      <th>2</th>\n",
       "      <td>7651709</td>\n",
       "      <td>88</td>\n",
       "      <td>210</td>\n",
       "      <td>0.419048</td>\n",
       "      <td>sysop</td>\n",
       "      <td>True</td>\n",
       "      <td>Siddha medicine</td>\n",
       "    </tr>\n",
       "    <tr>\n",
       "      <th>3</th>\n",
       "      <td>28721</td>\n",
       "      <td>80</td>\n",
       "      <td>808</td>\n",
       "      <td>0.099010</td>\n",
       "      <td>sysop</td>\n",
       "      <td>True</td>\n",
       "      <td>Amsterdam Airport Schiphol</td>\n",
       "    </tr>\n",
       "    <tr>\n",
       "      <th>4</th>\n",
       "      <td>1351345</td>\n",
       "      <td>60</td>\n",
       "      <td>341</td>\n",
       "      <td>0.175953</td>\n",
       "      <td>sysop</td>\n",
       "      <td>True</td>\n",
       "      <td>Momo (food)</td>\n",
       "    </tr>\n",
       "    <tr>\n",
       "      <th>5</th>\n",
       "      <td>24470851</td>\n",
       "      <td>29</td>\n",
       "      <td>113</td>\n",
       "      <td>0.256637</td>\n",
       "      <td>sysop</td>\n",
       "      <td>True</td>\n",
       "      <td>List of Republic Records artists</td>\n",
       "    </tr>\n",
       "    <tr>\n",
       "      <th>6</th>\n",
       "      <td>2314027</td>\n",
       "      <td>26</td>\n",
       "      <td>169</td>\n",
       "      <td>0.153846</td>\n",
       "      <td>sysop</td>\n",
       "      <td>True</td>\n",
       "      <td>Religion in Albania</td>\n",
       "    </tr>\n",
       "    <tr>\n",
       "      <th>7</th>\n",
       "      <td>16766071</td>\n",
       "      <td>17</td>\n",
       "      <td>166</td>\n",
       "      <td>0.102410</td>\n",
       "      <td>sysop</td>\n",
       "      <td>True</td>\n",
       "      <td>Richard Grenell</td>\n",
       "    </tr>\n",
       "    <tr>\n",
       "      <th>8</th>\n",
       "      <td>4558855</td>\n",
       "      <td>12</td>\n",
       "      <td>56</td>\n",
       "      <td>0.214286</td>\n",
       "      <td>sysop</td>\n",
       "      <td>True</td>\n",
       "      <td>Selman Akbulut</td>\n",
       "    </tr>\n",
       "    <tr>\n",
       "      <th>9</th>\n",
       "      <td>15580374</td>\n",
       "      <td>11</td>\n",
       "      <td>34</td>\n",
       "      <td>0.323529</td>\n",
       "      <td>sysop</td>\n",
       "      <td>True</td>\n",
       "      <td>Main Page</td>\n",
       "    </tr>\n",
       "    <tr>\n",
       "      <th>10</th>\n",
       "      <td>8451030</td>\n",
       "      <td>6</td>\n",
       "      <td>50</td>\n",
       "      <td>0.120000</td>\n",
       "      <td>sysop</td>\n",
       "      <td>True</td>\n",
       "      <td>Indigenous Aryans</td>\n",
       "    </tr>\n",
       "    <tr>\n",
       "      <th>11</th>\n",
       "      <td>57383875</td>\n",
       "      <td>4</td>\n",
       "      <td>37</td>\n",
       "      <td>0.108108</td>\n",
       "      <td>sysop</td>\n",
       "      <td>True</td>\n",
       "      <td>Elohim (musician)</td>\n",
       "    </tr>\n",
       "    <tr>\n",
       "      <th>12</th>\n",
       "      <td>35531461</td>\n",
       "      <td>3</td>\n",
       "      <td>35</td>\n",
       "      <td>0.085714</td>\n",
       "      <td>sysop</td>\n",
       "      <td>True</td>\n",
       "      <td>Theeyar</td>\n",
       "    </tr>\n",
       "    <tr>\n",
       "      <th>13</th>\n",
       "      <td>4480471</td>\n",
       "      <td>1</td>\n",
       "      <td>19</td>\n",
       "      <td>0.052632</td>\n",
       "      <td>sysop</td>\n",
       "      <td>True</td>\n",
       "      <td>Smell the Glove</td>\n",
       "    </tr>\n",
       "  </tbody>\n",
       "</table>\n",
       "</div>"
      ],
      "text/plain": [
       "     page_id  revert_count  revision_count  pct_reverts pr_level  \\\n",
       "0   57063312           225            1674     0.134409    sysop   \n",
       "1   13425260           191            1142     0.167250    sysop   \n",
       "2    7651709            88             210     0.419048    sysop   \n",
       "3      28721            80             808     0.099010    sysop   \n",
       "4    1351345            60             341     0.175953    sysop   \n",
       "5   24470851            29             113     0.256637    sysop   \n",
       "6    2314027            26             169     0.153846    sysop   \n",
       "7   16766071            17             166     0.102410    sysop   \n",
       "8    4558855            12              56     0.214286    sysop   \n",
       "9   15580374            11              34     0.323529    sysop   \n",
       "10   8451030             6              50     0.120000    sysop   \n",
       "11  57383875             4              37     0.108108    sysop   \n",
       "12  35531461             3              35     0.085714    sysop   \n",
       "13   4480471             1              19     0.052632    sysop   \n",
       "\n",
       "    is_edit_protected                               page_title  \n",
       "0                True                    Douma chemical attack  \n",
       "1                True  List of programs broadcast by Nicktoons  \n",
       "2                True                          Siddha medicine  \n",
       "3                True               Amsterdam Airport Schiphol  \n",
       "4                True                              Momo (food)  \n",
       "5                True         List of Republic Records artists  \n",
       "6                True                      Religion in Albania  \n",
       "7                True                          Richard Grenell  \n",
       "8                True                           Selman Akbulut  \n",
       "9                True                                Main Page  \n",
       "10               True                        Indigenous Aryans  \n",
       "11               True                        Elohim (musician)  \n",
       "12               True                                  Theeyar  \n",
       "13               True                          Smell the Glove  "
      ]
     },
     "execution_count": 258,
     "metadata": {},
     "output_type": "execute_result"
    }
   ],
   "source": [
    "page_df[page_df.pr_level == 'sysop'].merge(page_title_df, on='page_id')"
   ]
  },
  {
   "cell_type": "markdown",
   "metadata": {},
   "source": [
    "Sysop-level protections seem to be temporary.\n",
    "\n",
    " - Religion in Albania was locked for 7 days following a small edit war. https://en.wikipedia.org/w/index.php?title=Religion_in_Albania&type=revision&diff=942624806&oldid=942624759\n",
    " - Amsterdam Airport Schiphol: 7 days for edit war. https://en.wikipedia.org/w/index.php?title=Amsterdam_Airport_Schiphol&type=revision&diff=942631083&oldid=942610530\n",
    " - Douma chemical attack. 30 day due to edit war. Investigating a particular section within the article during the locked period.\n",
    " - List of programs broadcast by Nicktoons: 6 month lock. Admin: \"Protection will be resolved once an agreement is reached on the talk page regarding how to handle christmas episodes. Ping me when you have fixed that problem.\" https://en.wikipedia.org/w/index.php?title=List_of_programs_broadcast_by_Nicktoons&oldid=940130429\n",
    " - Siddha medicine. 30 days.  \"Edit warring / content dispute: a long breather while the next steps are considered.\" https://en.wikipedia.org/w/index.php?title=Siddha_medicine&oldid=940614411\n",
    " - Momo (food): 7 days. Edit war.\n",
    " - List of Republic Records artists: 7 days. Edit war.\n",
    " - Richard Grenell: 7 days. Content dispute.\n",
    " - Selman Akbulut: 15 days. \"There appears to be an ongoing dispute between subject and their employer, with editors apparently changing content to benefit one side or another. Attempting to bring some impartiality/neutrality to this page.\"  Discussion centers on allegations that resulted in loss of tenure.\n",
    " - Main Page: It's the main page of Wikipedia!\n",
    " - Indigenous Aryans: Indefinite.  \"per WP:PREFER - when consensus established can be lowered back to autoconfirmed\" https://en.wikipedia.org/w/index.php?title=Indigenous_Aryans&oldid=942044035\n",
    " - Elohim (musician): 30 days. Edit war related to revealing the real name of this artist.  \n",
    " - Theeyar: Redirect, protected due to [\"persistent sock puppetry: see also protection at Thiyya\"](https://en.wikipedia.org/w/index.php?title=Theeyar&oldid=936088985). Now redirects to [Ezhava](https://en.wikipedia.org/wiki/Ezhava).\n",
    " - Smell the Glove: Redirect, protected after a request for deletione finished processing.  [\"Protected \"Smell the Glove\": Per Wikipedia:Articles for deletion/Smell the Glove (3rd nomination) and past restorations of the article following earlier AFDs.\"](https://en.wikipedia.org/w/index.php?title=Smell_the_Glove&oldid=934819569)"
   ]
  },
  {
   "cell_type": "code",
   "execution_count": 264,
   "metadata": {},
   "outputs": [
    {
     "data": {
      "text/html": [
       "<div>\n",
       "<style scoped>\n",
       "    .dataframe tbody tr th:only-of-type {\n",
       "        vertical-align: middle;\n",
       "    }\n",
       "\n",
       "    .dataframe tbody tr th {\n",
       "        vertical-align: top;\n",
       "    }\n",
       "\n",
       "    .dataframe thead th {\n",
       "        text-align: right;\n",
       "    }\n",
       "</style>\n",
       "<table border=\"1\" class=\"dataframe\">\n",
       "  <thead>\n",
       "    <tr style=\"text-align: right;\">\n",
       "      <th></th>\n",
       "      <th>page_id</th>\n",
       "      <th>revert_count</th>\n",
       "      <th>revision_count</th>\n",
       "      <th>pct_reverts</th>\n",
       "      <th>pr_level</th>\n",
       "      <th>is_edit_protected</th>\n",
       "      <th>page_title</th>\n",
       "    </tr>\n",
       "  </thead>\n",
       "  <tbody>\n",
       "    <tr>\n",
       "      <th>0</th>\n",
       "      <td>7451511</td>\n",
       "      <td>187</td>\n",
       "      <td>731</td>\n",
       "      <td>0.255814</td>\n",
       "      <td>extendedconfirmed</td>\n",
       "      <td>True</td>\n",
       "      <td>Jaggi Vasudev</td>\n",
       "    </tr>\n",
       "    <tr>\n",
       "      <th>1</th>\n",
       "      <td>5179641</td>\n",
       "      <td>186</td>\n",
       "      <td>755</td>\n",
       "      <td>0.246358</td>\n",
       "      <td>extendedconfirmed</td>\n",
       "      <td>True</td>\n",
       "      <td>InfoWars</td>\n",
       "    </tr>\n",
       "    <tr>\n",
       "      <th>2</th>\n",
       "      <td>16454727</td>\n",
       "      <td>1</td>\n",
       "      <td>10</td>\n",
       "      <td>0.100000</td>\n",
       "      <td>extendedconfirmed</td>\n",
       "      <td>True</td>\n",
       "      <td>Bhumihar</td>\n",
       "    </tr>\n",
       "    <tr>\n",
       "      <th>3</th>\n",
       "      <td>1645949</td>\n",
       "      <td>1</td>\n",
       "      <td>95</td>\n",
       "      <td>0.010526</td>\n",
       "      <td>extendedconfirmed</td>\n",
       "      <td>True</td>\n",
       "      <td>Arab Jews</td>\n",
       "    </tr>\n",
       "    <tr>\n",
       "      <th>4</th>\n",
       "      <td>12548719</td>\n",
       "      <td>1</td>\n",
       "      <td>23</td>\n",
       "      <td>0.043478</td>\n",
       "      <td>extendedconfirmed</td>\n",
       "      <td>True</td>\n",
       "      <td>Deir Dibwan</td>\n",
       "    </tr>\n",
       "  </tbody>\n",
       "</table>\n",
       "</div>"
      ],
      "text/plain": [
       "    page_id  revert_count  revision_count  pct_reverts           pr_level  \\\n",
       "0   7451511           187             731     0.255814  extendedconfirmed   \n",
       "1   5179641           186             755     0.246358  extendedconfirmed   \n",
       "2  16454727             1              10     0.100000  extendedconfirmed   \n",
       "3   1645949             1              95     0.010526  extendedconfirmed   \n",
       "4  12548719             1              23     0.043478  extendedconfirmed   \n",
       "\n",
       "   is_edit_protected     page_title  \n",
       "0               True  Jaggi Vasudev  \n",
       "1               True       InfoWars  \n",
       "2               True       Bhumihar  \n",
       "3               True      Arab Jews  \n",
       "4               True    Deir Dibwan  "
      ]
     },
     "execution_count": 264,
     "metadata": {},
     "output_type": "execute_result"
    }
   ],
   "source": [
    "page_df[page_df.pr_level == 'extendedconfirmed'].sample(n=5, random_state=5).merge(page_title_df, on='page_id')"
   ]
  },
  {
   "cell_type": "markdown",
   "metadata": {},
   "source": [
    " - Jaggi Vasudev: \"Changed protection level for \"Jaggi Vasudev\": Arbitration enforcement: Up, extend protection: suspected paid editing or editing by Isha Foundation members ([Edit=Require extended confirmed access] (indefinite)\""
   ]
  },
  {
   "cell_type": "code",
   "execution_count": 277,
   "metadata": {},
   "outputs": [
    {
     "data": {
      "image/png": "[encoded data removed]",
      "text/plain": [
       "<Figure size 432x288 with 1 Axes>"
      ]
     },
     "metadata": {
      "needs_background": "light"
     },
     "output_type": "display_data"
    }
   ],
   "source": [
    "# Total revisions vs percentage reverts\n",
    "plt.scatter(page_df.revision_count, page_df.pct_reverts, color='black', alpha=0.1)\n",
    "subset = page_df[page_df.is_edit_protected]\n",
    "plt.scatter(subset.revision_count, subset.pct_reverts, color=cmap(0.4), alpha=0.2)\n",
    "plt.xscale('log')\n",
    "\n",
    "plt.xlabel(\"Total revisions\")\n",
    "plt.ylabel(\"% of page revisions that are reverts\")\n",
    "    \n",
    "plt.show()"
   ]
  },
  {
   "cell_type": "code",
   "execution_count": 272,
   "metadata": {},
   "outputs": [],
   "source": [
    "page_df['is_edit_protected_int'] = page_df.is_edit_protected.astype(int)\n",
    "page_df['pct_reverts_pts'] = page_df.pct_reverts * 100"
   ]
  },
  {
   "cell_type": "code",
   "execution_count": 273,
   "metadata": {},
   "outputs": [
    {
     "name": "stdout",
     "output_type": "stream",
     "text": [
      "Optimization terminated successfully.\n",
      "         Current function value: 0.043629\n",
      "         Iterations 9\n"
     ]
    },
    {
     "data": {
      "text/html": [
       "<table class=\"simpletable\">\n",
       "<caption>Logit Regression Results</caption>\n",
       "<tr>\n",
       "  <th>Dep. Variable:</th>   <td>is_edit_protected_int</td> <th>  No. Observations:  </th>  <td>1163799</td>\n",
       "</tr>\n",
       "<tr>\n",
       "  <th>Model:</th>                   <td>Logit</td>         <th>  Df Residuals:      </th>  <td>1163796</td>\n",
       "</tr>\n",
       "<tr>\n",
       "  <th>Method:</th>                   <td>MLE</td>          <th>  Df Model:          </th>  <td>     2</td> \n",
       "</tr>\n",
       "<tr>\n",
       "  <th>Date:</th>              <td>Tue, 03 Mar 2020</td>    <th>  Pseudo R-squ.:     </th>  <td>0.07349</td>\n",
       "</tr>\n",
       "<tr>\n",
       "  <th>Time:</th>                  <td>09:01:11</td>        <th>  Log-Likelihood:    </th> <td> -50775.</td>\n",
       "</tr>\n",
       "<tr>\n",
       "  <th>converged:</th>               <td>True</td>          <th>  LL-Null:           </th> <td> -54802.</td>\n",
       "</tr>\n",
       "<tr>\n",
       "  <th>Covariance Type:</th>       <td>nonrobust</td>       <th>  LLR p-value:       </th>  <td> 0.000</td> \n",
       "</tr>\n",
       "</table>\n",
       "<table class=\"simpletable\">\n",
       "<tr>\n",
       "         <td></td>            <th>coef</th>     <th>std err</th>      <th>z</th>      <th>P>|z|</th>  <th>[0.025</th>    <th>0.975]</th>  \n",
       "</tr>\n",
       "<tr>\n",
       "  <th>Intercept</th>       <td>   -5.2298</td> <td>    0.017</td> <td> -305.162</td> <td> 0.000</td> <td>   -5.263</td> <td>   -5.196</td>\n",
       "</tr>\n",
       "<tr>\n",
       "  <th>revision_count</th>  <td>    0.0035</td> <td> 3.69e-05</td> <td>   93.653</td> <td> 0.000</td> <td>    0.003</td> <td>    0.004</td>\n",
       "</tr>\n",
       "<tr>\n",
       "  <th>pct_reverts_pts</th> <td>    0.0085</td> <td>    0.001</td> <td>   11.338</td> <td> 0.000</td> <td>    0.007</td> <td>    0.010</td>\n",
       "</tr>\n",
       "</table>"
      ],
      "text/plain": [
       "<class 'statsmodels.iolib.summary.Summary'>\n",
       "\"\"\"\n",
       "                             Logit Regression Results                            \n",
       "=================================================================================\n",
       "Dep. Variable:     is_edit_protected_int   No. Observations:              1163799\n",
       "Model:                             Logit   Df Residuals:                  1163796\n",
       "Method:                              MLE   Df Model:                            2\n",
       "Date:                   Tue, 03 Mar 2020   Pseudo R-squ.:                 0.07349\n",
       "Time:                           09:01:11   Log-Likelihood:                -50775.\n",
       "converged:                          True   LL-Null:                       -54802.\n",
       "Covariance Type:               nonrobust   LLR p-value:                     0.000\n",
       "===================================================================================\n",
       "                      coef    std err          z      P>|z|      [0.025      0.975]\n",
       "-----------------------------------------------------------------------------------\n",
       "Intercept          -5.2298      0.017   -305.162      0.000      -5.263      -5.196\n",
       "revision_count      0.0035   3.69e-05     93.653      0.000       0.003       0.004\n",
       "pct_reverts_pts     0.0085      0.001     11.338      0.000       0.007       0.010\n",
       "===================================================================================\n",
       "\"\"\""
      ]
     },
     "execution_count": 273,
     "metadata": {},
     "output_type": "execute_result"
    }
   ],
   "source": [
    "formula = \"\"\"\n",
    "is_edit_protected_int ~ \n",
    "    revision_count \n",
    "    + pct_reverts_pts\n",
    "    + 1\n",
    "\"\"\"\n",
    "# + num_sites OR is_multisite_author\n",
    "# + health_condition\n",
    "model = smf.logit(formula=formula, \n",
    "                  data=page_df)\n",
    "res = model.fit(maxiter=100)\n",
    "res.summary()"
   ]
  },
  {
   "cell_type": "code",
   "execution_count": 274,
   "metadata": {},
   "outputs": [
    {
     "data": {
      "text/plain": [
       "Intercept         -0.994645\n",
       "revision_count     0.003464\n",
       "pct_reverts_pts    0.008520\n",
       "dtype: float64"
      ]
     },
     "execution_count": 274,
     "metadata": {},
     "output_type": "execute_result"
    }
   ],
   "source": [
    "np.exp(res.params)-1"
   ]
  },
  {
   "cell_type": "markdown",
   "metadata": {},
   "source": [
    "Each additional percentage point of revisions that are reverts is associated with a 0.8% increase in the odds of a page being protected."
   ]
  },
  {
   "cell_type": "code",
   "execution_count": 275,
   "metadata": {},
   "outputs": [
    {
     "data": {
      "text/html": [
       "<table class=\"simpletable\">\n",
       "<caption>OLS Regression Results</caption>\n",
       "<tr>\n",
       "  <th>Dep. Variable:</th>      <td>revert_count</td>   <th>  R-squared:         </th>  <td>   0.576</td>  \n",
       "</tr>\n",
       "<tr>\n",
       "  <th>Model:</th>                   <td>OLS</td>       <th>  Adj. R-squared:    </th>  <td>   0.576</td>  \n",
       "</tr>\n",
       "<tr>\n",
       "  <th>Method:</th>             <td>Least Squares</td>  <th>  F-statistic:       </th>  <td>7.914e+05</td> \n",
       "</tr>\n",
       "<tr>\n",
       "  <th>Date:</th>             <td>Tue, 03 Mar 2020</td> <th>  Prob (F-statistic):</th>   <td>  0.00</td>   \n",
       "</tr>\n",
       "<tr>\n",
       "  <th>Time:</th>                 <td>09:02:17</td>     <th>  Log-Likelihood:    </th> <td>-4.2622e+06</td>\n",
       "</tr>\n",
       "<tr>\n",
       "  <th>No. Observations:</th>      <td>1163799</td>     <th>  AIC:               </th>  <td>8.524e+06</td> \n",
       "</tr>\n",
       "<tr>\n",
       "  <th>Df Residuals:</th>          <td>1163796</td>     <th>  BIC:               </th>  <td>8.524e+06</td> \n",
       "</tr>\n",
       "<tr>\n",
       "  <th>Df Model:</th>              <td>     2</td>      <th>                     </th>      <td> </td>     \n",
       "</tr>\n",
       "<tr>\n",
       "  <th>Covariance Type:</th>      <td>nonrobust</td>    <th>                     </th>      <td> </td>     \n",
       "</tr>\n",
       "</table>\n",
       "<table class=\"simpletable\">\n",
       "<tr>\n",
       "            <td></td>               <th>coef</th>     <th>std err</th>      <th>t</th>      <th>P>|t|</th>  <th>[0.025</th>    <th>0.975]</th>  \n",
       "</tr>\n",
       "<tr>\n",
       "  <th>Intercept</th>             <td>    0.3873</td> <td>    0.010</td> <td>   40.658</td> <td> 0.000</td> <td>    0.369</td> <td>    0.406</td>\n",
       "</tr>\n",
       "<tr>\n",
       "  <th>revision_count</th>        <td>    0.1069</td> <td> 8.87e-05</td> <td> 1205.066</td> <td> 0.000</td> <td>    0.107</td> <td>    0.107</td>\n",
       "</tr>\n",
       "<tr>\n",
       "  <th>is_edit_protected_int</th> <td>   12.8395</td> <td>    0.099</td> <td>  129.424</td> <td> 0.000</td> <td>   12.645</td> <td>   13.034</td>\n",
       "</tr>\n",
       "</table>\n",
       "<table class=\"simpletable\">\n",
       "<tr>\n",
       "  <th>Omnibus:</th>       <td>849243.596</td> <th>  Durbin-Watson:     </th>    <td>   1.035</td>   \n",
       "</tr>\n",
       "<tr>\n",
       "  <th>Prob(Omnibus):</th>   <td> 0.000</td>   <th>  Jarque-Bera (JB):  </th> <td>2715540425.475</td>\n",
       "</tr>\n",
       "<tr>\n",
       "  <th>Skew:</th>            <td> 1.906</td>   <th>  Prob(JB):          </th>    <td>    0.00</td>   \n",
       "</tr>\n",
       "<tr>\n",
       "  <th>Kurtosis:</th>        <td>239.613</td>  <th>  Cond. No.          </th>    <td>1.24e+03</td>   \n",
       "</tr>\n",
       "</table><br/><br/>Warnings:<br/>[1] Standard Errors assume that the covariance matrix of the errors is correctly specified.<br/>[2] The condition number is large, 1.24e+03. This might indicate that there are<br/>strong multicollinearity or other numerical problems."
      ],
      "text/plain": [
       "<class 'statsmodels.iolib.summary.Summary'>\n",
       "\"\"\"\n",
       "                            OLS Regression Results                            \n",
       "==============================================================================\n",
       "Dep. Variable:           revert_count   R-squared:                       0.576\n",
       "Model:                            OLS   Adj. R-squared:                  0.576\n",
       "Method:                 Least Squares   F-statistic:                 7.914e+05\n",
       "Date:                Tue, 03 Mar 2020   Prob (F-statistic):               0.00\n",
       "Time:                        09:02:17   Log-Likelihood:            -4.2622e+06\n",
       "No. Observations:             1163799   AIC:                         8.524e+06\n",
       "Df Residuals:                 1163796   BIC:                         8.524e+06\n",
       "Df Model:                           2                                         \n",
       "Covariance Type:            nonrobust                                         \n",
       "=========================================================================================\n",
       "                            coef    std err          t      P>|t|      [0.025      0.975]\n",
       "-----------------------------------------------------------------------------------------\n",
       "Intercept                 0.3873      0.010     40.658      0.000       0.369       0.406\n",
       "revision_count            0.1069   8.87e-05   1205.066      0.000       0.107       0.107\n",
       "is_edit_protected_int    12.8395      0.099    129.424      0.000      12.645      13.034\n",
       "==============================================================================\n",
       "Omnibus:                   849243.596   Durbin-Watson:                   1.035\n",
       "Prob(Omnibus):                  0.000   Jarque-Bera (JB):       2715540425.475\n",
       "Skew:                           1.906   Prob(JB):                         0.00\n",
       "Kurtosis:                     239.613   Cond. No.                     1.24e+03\n",
       "==============================================================================\n",
       "\n",
       "Warnings:\n",
       "[1] Standard Errors assume that the covariance matrix of the errors is correctly specified.\n",
       "[2] The condition number is large, 1.24e+03. This might indicate that there are\n",
       "strong multicollinearity or other numerical problems.\n",
       "\"\"\""
      ]
     },
     "execution_count": 275,
     "metadata": {},
     "output_type": "execute_result"
    }
   ],
   "source": [
    "formula = \"\"\"\n",
    "revert_count ~ \n",
    "    revision_count \n",
    "    + is_edit_protected_int\n",
    "    + 1\n",
    "\"\"\"\n",
    "# + num_sites OR is_multisite_author\n",
    "# + health_condition\n",
    "model = smf.ols(formula=formula, \n",
    "                  data=page_df)\n",
    "res = model.fit(maxiter=100)\n",
    "res.summary()"
   ]
  },
  {
   "cell_type": "markdown",
   "metadata": {},
   "source": [
    "The regression above shows that, controlling for total number of revisions, a page being protected in March 2020 is associated with 12.8 additional revert revisions on average."
   ]
  },
  {
   "cell_type": "code",
   "execution_count": null,
   "metadata": {},
   "outputs": [],
   "source": []
  },
  {
   "cell_type": "markdown",
   "metadata": {},
   "source": [
    "#### 2d histograms of articles with high % of reverts for their size\n",
    "\n",
    "With explicit labels to make it easier to investigate some of the outliers from above."
   ]
  },
  {
   "cell_type": "code",
   "execution_count": 154,
   "metadata": {},
   "outputs": [
    {
     "data": {
      "image/png": "[encoded data removed]",
      "text/plain": [
       "<Figure size 864x432 with 2 Axes>"
      ]
     },
     "metadata": {
      "needs_background": "light"
     },
     "output_type": "display_data"
    }
   ],
   "source": [
    "fig, ax = plt.subplots(1, 1, figsize=(12, 6))\n",
    "\n",
    "x = page_df.revision_count\n",
    "num_bins=50\n",
    "base = 2\n",
    "logbins = np.logspace(np.log2(min(x)), np.log2(max(x)), num=num_bins, base=base, endpoint=True)\n",
    "#plt.hist(x, bins=logbins, color='gray')\n",
    "_,_,_,im = plt.hist2d(x, page_df.pct_reverts, bins=[logbins, np.linspace(0, 1.0, num=20)], norm=matplotlib.colors.LogNorm())\n",
    "plt.colorbar(im)\n",
    "plt.xscale('log', nonposx='clip', basex=base)\n",
    "plt.xlim(1, 2**20)\n",
    "\n",
    "plt.xlabel(\"Total revisions\")\n",
    "plt.ylabel(\"% of page revisions that are reverts\")\n",
    "\n",
    "\n",
    "for i, pct_revert in enumerate(np.linspace(0, 1.0, num=20)):\n",
    "    if i >= 0 and i != 19:\n",
    "        subset = page_df[(page_df.pct_reverts >= pct_revert)&(page_df.pct_reverts <= pct_revert + 1/20)]\n",
    "        tup = subset.sort_values('revision_count', ascending=False).iloc[0]\n",
    "        idx = np.searchsorted(np.linspace(0, 1.0, num=20), tup.pct_reverts)\n",
    "        #idx = (np.abs(np.linspace(0, 1.0, num=20) - tup.pct_reverts)).argmin()\n",
    "        text_y = np.linspace(0, 1.0, num=20)[idx]\n",
    "        plt.text(tup.revision_count * 1.2, text_y, f\"{page_title_dict[tup.page_id]} ({int(tup.revision_count)})\", va='top')\n",
    "\n",
    "\n",
    "plt.show()"
   ]
  },
  {
   "cell_type": "code",
   "execution_count": 181,
   "metadata": {},
   "outputs": [
    {
     "data": {
      "image/png": "[encoded data removed]",
      "text/plain": [
       "<Figure size 864x432 with 2 Axes>"
      ]
     },
     "metadata": {
      "needs_background": "light"
     },
     "output_type": "display_data"
    }
   ],
   "source": [
    "fig, ax = plt.subplots(1, 1, figsize=(12, 6))\n",
    "\n",
    "y = page_df.revision_count\n",
    "num_bins=20\n",
    "base = 2\n",
    "logbins = np.logspace(np.log2(min(y)), np.log2(max(y)), num=num_bins, base=base, endpoint=True)\n",
    "#plt.hist(x, bins=logbins, color='gray')\n",
    "_,_,_,im = plt.hist2d(page_df.pct_reverts, y, bins=[np.linspace(0, 1.0, num=40), logbins], norm=matplotlib.colors.LogNorm())\n",
    "plt.colorbar(im)\n",
    "plt.yscale('log', nonposy='clip', basey=base)\n",
    "plt.xlim(0, 1.8)\n",
    "\n",
    "plt.xlabel(\"% of page revisions that are reverts\")\n",
    "plt.ylabel(\"Total revisions\")\n",
    "ax.set_yticklabels([int(ytick) for ytick in ax.get_yticks()])\n",
    "ax.set_xticks([0.0, 0.2, 0.4, 0.6, 0.8, 1])\n",
    "ax.set_xticklabels([f\"{int(xtick*100)}%\" for xtick in [0.0, 0.2, 0.4, 0.6, 0.8, 1]])\n",
    "\n",
    "for i, right_edge in enumerate(logbins[1:]):\n",
    "    left_edge = logbins[i]\n",
    "    subset = page_df[(page_df.revision_count >= left_edge)&(page_df.revision_count <= right_edge)]\n",
    "    tup = subset.sort_values('pct_reverts', ascending=False).iloc[0]\n",
    "    idx = np.searchsorted(logbins, tup.revision_count)\n",
    "    text_y = logbins[idx] * 0.95\n",
    "    if i == 0:  # because of how log-scaling works around 1, need to manually adjust the bottom-most label\n",
    "        text_y += 0.5\n",
    "    plt.text(tup.pct_reverts + 0.03, text_y, f\"{page_title_dict[tup.page_id]} ({int(tup.revert_count)} / {int(tup.revision_count)})\", va='top')\n",
    "\n",
    "\n",
    "plt.show()"
   ]
  },
  {
   "cell_type": "markdown",
   "metadata": {},
   "source": [
    "### Requesting restriction info about pages\n",
    "\n",
    "Brief aside exploring using the API to identify if a page is restricted or not."
   ]
  },
  {
   "cell_type": "code",
   "execution_count": 182,
   "metadata": {},
   "outputs": [],
   "source": [
    "import requests"
   ]
  },
  {
   "cell_type": "code",
   "execution_count": 188,
   "metadata": {},
   "outputs": [
    {
     "name": "stdout",
     "output_type": "stream",
     "text": [
      "<Response [200]>\n",
      "{'batchcomplete': '', 'query': {'pages': {'19908980': {'pageid': 19908980, 'ns': 0, 'title': 'List of presidents of the United States', 'contentmodel': 'wikitext', 'pagelanguage': 'en', 'pagelanguagehtmlcode': 'en', 'pagelanguagedir': 'ltr', 'touched': '2020-02-28T12:49:12Z', 'lastrevid': 943037223, 'length': 41496, 'protection': [], 'restrictiontypes': ['edit', 'move'], 'fullurl': 'https://en.wikipedia.org/wiki/List_of_presidents_of_the_United_States', 'editurl': 'https://en.wikipedia.org/w/index.php?title=List_of_presidents_of_the_United_States&action=edit', 'canonicalurl': 'https://en.wikipedia.org/wiki/List_of_presidents_of_the_United_States'}}}}\n"
     ]
    }
   ],
   "source": [
    "params = {\n",
    "    'action': 'query',\n",
    "    'format': 'json',\n",
    "    'pageids': str(int(target_page_id)),\n",
    "    'prop': 'info',\n",
    "    'inprop': 'url|protection'\n",
    "}\n",
    "resp = requests.get(\"https://en.wikipedia.org/w/api.php\", params=params)\n",
    "print(resp)\n",
    "print(resp.json())"
   ]
  },
  {
   "cell_type": "code",
   "execution_count": 189,
   "metadata": {},
   "outputs": [
    {
     "name": "stdout",
     "output_type": "stream",
     "text": [
      "43825897 Bethel Church, Mansfield Woodhouse\n",
      "47944032 Bethel Church, Aleppo\n"
     ]
    }
   ],
   "source": [
    "for key in page_title_dict:\n",
    "    value = page_title_dict[key]\n",
    "    if value.startswith(\"Bethel Church,\"):\n",
    "        print(key, value)"
   ]
  },
  {
   "cell_type": "code",
   "execution_count": 190,
   "metadata": {},
   "outputs": [
    {
     "name": "stdout",
     "output_type": "stream",
     "text": [
      "<Response [200]>\n",
      "{'batchcomplete': '', 'query': {'pages': {'43825897': {'pageid': 43825897, 'ns': 0, 'title': 'Bethel Church, Mansfield Woodhouse', 'contentmodel': 'wikitext', 'pagelanguage': 'en', 'pagelanguagehtmlcode': 'en', 'pagelanguagedir': 'ltr', 'touched': '2020-02-09T10:07:54Z', 'lastrevid': 870460930, 'length': 20559, 'protection': [{'type': 'edit', 'level': 'autoconfirmed', 'expiry': 'infinity'}, {'type': 'move', 'level': 'autoconfirmed', 'expiry': 'infinity'}], 'restrictiontypes': ['edit', 'move'], 'fullurl': 'https://en.wikipedia.org/wiki/Bethel_Church,_Mansfield_Woodhouse', 'editurl': 'https://en.wikipedia.org/w/index.php?title=Bethel_Church,_Mansfield_Woodhouse&action=edit', 'canonicalurl': 'https://en.wikipedia.org/wiki/Bethel_Church,_Mansfield_Woodhouse'}}}}\n"
     ]
    }
   ],
   "source": [
    "params = {\n",
    "    'action': 'query',\n",
    "    'format': 'json',\n",
    "    'pageids': str(43825897),\n",
    "    'prop': 'info',\n",
    "    'inprop': 'url|protection'\n",
    "}\n",
    "resp = requests.get(\"https://en.wikipedia.org/w/api.php\", params=params)\n",
    "print(resp)\n",
    "print(resp.json())"
   ]
  },
  {
   "cell_type": "markdown",
   "metadata": {},
   "source": [
    "### BTS-specific analysis\n",
    "\n",
    "As Jungkook was a clear outlier in the above, I decided to investigate other BTS members' pages.\n",
    "\n",
    "https://twitter.com/zwlevonian/status/1234533913000849408"
   ]
  },
  {
   "cell_type": "code",
   "execution_count": 193,
   "metadata": {},
   "outputs": [],
   "source": [
    "# BTSARMY\n",
    "# We identify the page-ids for 8 BTS-related pages\n",
    "bts_page_titles = [\n",
    "    'J-Hope',\n",
    "    'Jimin (singer, born 1995)',\n",
    "    'Jungkook',\n",
    "    'Kim Seok-jin',\n",
    "    'RM (rapper)',\n",
    "    'Suga (rapper)',\n",
    "    'V (singer)',\n",
    "    'BTS (band)'\n",
    "]\n",
    "bts_page_ids = [-1 for title in bts_page_titles]\n",
    "for key in page_title_dict:\n",
    "    if key not in page_ids_set:\n",
    "        continue\n",
    "    value = page_title_dict[key]\n",
    "    for i, bts_page in enumerate(bts_page_titles):\n",
    "        if value.startswith(bts_page):\n",
    "            bts_page_ids[i] = key\n",
    "            #print(key, value)\n",
    "assert np.all([page_id != -1 for page_id in bts_page_ids])"
   ]
  },
  {
   "cell_type": "code",
   "execution_count": 196,
   "metadata": {},
   "outputs": [],
   "source": [
    "bts_page_ids = set(bts_page_ids)"
   ]
  },
  {
   "cell_type": "code",
   "execution_count": 233,
   "metadata": {},
   "outputs": [
    {
     "name": "stdout",
     "output_type": "stream",
     "text": [
      "Mean percentage of revert revisions: 10.67%\n",
      "Jungkook 0.38228699551569506 False\n",
      "Kim Seok-jin 0.2865853658536585 False\n",
      "J-Hope 0.2644135188866799 False\n",
      "Jimin (singer, born 1995) 0.21921641791044777 False\n",
      "Suga (rapper) 0.25128865979381443 False\n",
      "BTS (band) 0.09994655264564405 True\n",
      "RM (rapper) 0.1592775041050903 False\n",
      "V (singer) 0.11818181818181818 False\n"
     ]
    },
    {
     "data": {
      "image/png": "[encoded data removed]",
      "text/plain": [
       "<Figure size 432x288 with 1 Axes>"
      ]
     },
     "metadata": {
      "needs_background": "light"
     },
     "output_type": "display_data"
    }
   ],
   "source": [
    "# Plot the BTS members as total revisions vs pct reverts\n",
    "subset = page_df[page_df.revision_count >= 28]\n",
    "# 28 is the 90th percentile revision count, so we visualize here only the top-10% of Enwiki pages\n",
    "plt.scatter(subset.revision_count, subset.pct_reverts, color='black', alpha=0.1)\n",
    "mean_revert = np.mean(subset.pct_reverts)\n",
    "print(f\"Mean percentage of revert revisions: {mean_revert*100:.2f}%\")\n",
    "bts_subset = subset[subset.page_id.isin(bts_page_ids)]\n",
    "plt.scatter(bts_subset.revision_count, bts_subset.pct_reverts, color=cmap(0), alpha=1)\n",
    "\n",
    "for i, tup in enumerate(bts_subset.itertuples()):\n",
    "    x = tup.revision_count * 1.15 if i < 7 and i != 4 else tup.revision_count * 0.85\n",
    "    plt.text(x, tup.pct_reverts, f\"{page_title_dict[tup.page_id]}\", \n",
    "             va='bottom' if i <= 1 else 'top', color='black',\n",
    "             ha='left' if i < 7 and i != 4 else 'right',\n",
    "            bbox=dict(facecolor='white', alpha=0.7, linewidth=0))\n",
    "    # Only the band page is below the mean number of reverts\n",
    "    print(page_title_dict[tup.page_id], tup.pct_reverts, tup.pct_reverts < mean_revert)\n",
    "\n",
    "\n",
    "plt.xscale('log')\n",
    "\n",
    "plt.title(\"BTS Enwiki pages by total revision count\")\n",
    "plt.xlabel(\"Total page revisions in 2018/2019\")\n",
    "plt.ylabel(\"% of page revisions that are reverts\")\n",
    "\n",
    "plt.savefig(os.path.join(figures_dir, \"bts_rev_count.png\"), dpi=150)\n",
    "plt.show()"
   ]
  },
  {
   "cell_type": "markdown",
   "metadata": {},
   "source": [
    "### Time-to-revert and user analysis"
   ]
  },
  {
   "cell_type": "code",
   "execution_count": 279,
   "metadata": {},
   "outputs": [
    {
     "name": "stderr",
     "output_type": "stream",
     "text": [
      "100%|██████████| 1163799/1163799 [05:44<00:00, 3382.29it/s]\n"
     ]
    }
   ],
   "source": [
    "time_to_most_recent_reverted_list = []\n",
    "is_multirevert_list = []\n",
    "for page, page_reverts in tqdm(groupby(reverts, lambda revert: revert['reverting']['page']['id']), total=len(page_df)):\n",
    "    page_reverts = list(page_reverts)\n",
    "    for revert in page_reverts:\n",
    "        reverted_at_timestamp = int(datetime.strptime(revert['reverting']['timestamp'], \"%Y-%m-%dT%H:%M:%SZ\").timestamp())\n",
    "        reverted_to_timestamp = int(datetime.strptime(revert['reverted_to']['timestamp'], \"%Y-%m-%dT%H:%M:%SZ\").timestamp())\n",
    "\n",
    "        reverteds = sorted(revert['reverteds'], key=lambda r: (r.get('timestamp'), r.get('id')))\n",
    "        is_multirevert = len(reverteds) > 1\n",
    "        revert_timestamp = int(datetime.strptime(reverteds[-1]['timestamp'], \"%Y-%m-%dT%H:%M:%SZ\").timestamp())\n",
    "        time_to_most_recent_reverted = reverted_at_timestamp - revert_timestamp\n",
    "        time_to_most_recent_reverted_list.append(time_to_most_recent_reverted)\n",
    "        is_multirevert_list.append(is_multirevert)"
   ]
  },
  {
   "cell_type": "code",
   "execution_count": 281,
   "metadata": {},
   "outputs": [
    {
     "data": {
      "text/plain": [
       "(484, 8.076517325631495e-05)"
      ]
     },
     "execution_count": 281,
     "metadata": {},
     "output_type": "execute_result"
    }
   ],
   "source": [
    "# shows degenerate timings; hopefully this rarely happens\n",
    "np.sum(np.array(time_to_most_recent_reverted_list) <= 0), \\\n",
    "np.sum(np.array(time_to_most_recent_reverted_list) <= 0) / len(time_to_most_recent_reverted_list)"
   ]
  },
  {
   "cell_type": "code",
   "execution_count": 282,
   "metadata": {},
   "outputs": [
    {
     "data": {
      "text/plain": [
       "0.11357652550227093"
      ]
     },
     "execution_count": 282,
     "metadata": {},
     "output_type": "execute_result"
    }
   ],
   "source": [
    "# percent of reverts that occur after more than a day\n",
    "np.sum(np.array(time_to_most_recent_reverted_list) >= 60 * 60 * 24) / len(time_to_most_recent_reverted_list)"
   ]
  },
  {
   "cell_type": "code",
   "execution_count": 285,
   "metadata": {},
   "outputs": [
    {
     "data": {
      "text/plain": [
       "0.7186421705673687"
      ]
     },
     "execution_count": 285,
     "metadata": {},
     "output_type": "execute_result"
    }
   ],
   "source": [
    "# percent of reverts that occur after more than a minute\n",
    "np.sum(np.array(time_to_most_recent_reverted_list) >= 60) / len(time_to_most_recent_reverted_list)"
   ]
  },
  {
   "cell_type": "code",
   "execution_count": 283,
   "metadata": {},
   "outputs": [
    {
     "data": {
      "image/png": "[encoded data removed]",
      "text/plain": [
       "<Figure size 432x288 with 1 Axes>"
      ]
     },
     "metadata": {
      "needs_background": "light"
     },
     "output_type": "display_data"
    }
   ],
   "source": [
    "x = np.array(time_to_most_recent_reverted_list)\n",
    "qs = np.linspace(0, 1)\n",
    "ys = [np.quantile(x, q) for q in qs]\n",
    "plt.plot(qs, ys, color='black')\n",
    "plt.yscale('log', nonposy='clip', basey=2)\n",
    "\n",
    "ax = plt.gca()\n",
    "# add semantically interpretable time moments\n",
    "ax.axhline(1 * 60, alpha=0.6, label='Minute')\n",
    "ax.axhline(1 * 60 * 60, alpha=0.6, label='Hour', color='orange')\n",
    "ax.axhline(1 * 60 * 60 * 24, alpha=0.6, label='Day', color='green')\n",
    "ax.axhline(1 * 60 * 60 * 24 * 30, alpha=0.6, label='Month', color='maroon')\n",
    "\n",
    "plt.legend()\n",
    "\n",
    "plt.xlabel(\"Quantile\")\n",
    "plt.ylabel(\"Time to revert\")\n",
    "plt.title(\"% reverted within certain amount of time\")\n",
    "\n",
    "plt.show()"
   ]
  },
  {
   "cell_type": "code",
   "execution_count": 284,
   "metadata": {},
   "outputs": [
    {
     "data": {
      "image/png": "[encoded data removed]",
      "text/plain": [
       "<Figure size 432x288 with 1 Axes>"
      ]
     },
     "metadata": {
      "needs_background": "light"
     },
     "output_type": "display_data"
    }
   ],
   "source": [
    "x = np.clip(np.array(time_to_most_recent_reverted_list), 1, None)\n",
    "num_bins=50\n",
    "base = 2\n",
    "logbins = np.logspace(np.log2(min(x)), np.log2(max(x)), num=num_bins, base=base, endpoint=True)\n",
    "plt.hist(x, bins=logbins, color='gray')\n",
    "plt.hist(x[np.array(is_multirevert_list)], bins=logbins, color='darkgreen', label='Most recent of multi-reverted')\n",
    "plt.xscale('log', nonposx='clip', basex=base)\n",
    "\n",
    "ax = plt.gca()\n",
    "# add semantically interpretable time moments\n",
    "ax.axvline(1 * 60, color='black', alpha=0.6)\n",
    "ax.axvline(1 * 60 * 60, color='black', alpha=0.6)\n",
    "ax.axvline(1 * 60 * 60 * 24, color='black', alpha=0.6)\n",
    "ax.axvline(1 * 60 * 60 * 24 * 30, color='black', alpha=0.6)\n",
    "text_y = ax.transData.inverted().transform((0, ax.transAxes.transform((0, 0.90))[1]))[1]  # https://matplotlib.org/users/transforms_tutorial.html\n",
    "ax.text(1 * 60 * 1.2, text_y, 'Minute', color='darkgray')\n",
    "ax.text(1 * 60 * 60 * 1.2, text_y, 'Hour', color='darkgray')\n",
    "ax.text(1 * 60 * 60 * 24 * 1.2, text_y, 'Day', color='darkgray')\n",
    "ax.text(1 * 60 * 60 * 24 * 30 * 1.2, text_y, 'Month', color='darkgray')\n",
    "\n",
    "plt.title(\"Time between revert and reverted revision\")\n",
    "plt.xlabel(\"Number of seconds\")\n",
    "plt.ylabel(\"Number of reverts\")\n",
    "\n",
    "#plt.legend()\n",
    "\n",
    "plt.show()"
   ]
  },
  {
   "cell_type": "markdown",
   "metadata": {},
   "source": [
    "### Self-reverts and user analysis"
   ]
  },
  {
   "cell_type": "code",
   "execution_count": 286,
   "metadata": {},
   "outputs": [
    {
     "name": "stderr",
     "output_type": "stream",
     "text": [
      "100%|██████████| 1163799/1163799 [00:44<00:00, 26308.16it/s]\n"
     ]
    },
    {
     "data": {
      "text/plain": [
       "169"
      ]
     },
     "execution_count": 286,
     "metadata": {},
     "output_type": "execute_result"
    }
   ],
   "source": [
    "is_self_revert_list = []\n",
    "is_multiuser_revert_list = []\n",
    "unique_reverted_user_counts = []\n",
    "no_reverting_user_count = 0\n",
    "for page, page_reverts in tqdm(groupby(reverts, lambda revert: revert['reverting']['page']['id']), total=len(page_df)):\n",
    "    page_reverts = list(page_reverts)\n",
    "    for revert in page_reverts:\n",
    "        if 'user' not in revert['reverting']:\n",
    "            no_reverting_user_count += 1\n",
    "            continue\n",
    "        reverting_user = revert['reverting']['user']['text']\n",
    "        reverted_users = set([revert['user']['text'] for revert in revert['reverteds'] if 'user' in revert])\n",
    "        \n",
    "        is_self_revert = reverting_user in reverted_users\n",
    "        is_self_revert_list.append(is_self_revert)\n",
    "        is_multiuser_revert = len(reverted_users) > 1\n",
    "        is_multiuser_revert_list.append(is_multiuser_revert)\n",
    "        unique_reverted_user_counts.append(len(reverted_users))\n",
    "            \n",
    "is_self_revert_list = np.array(is_self_revert_list)\n",
    "is_multiuser_revert_list = np.array(is_multiuser_revert_list)\n",
    "unique_reverted_user_counts = np.array(unique_reverted_user_counts)\n",
    "no_reverting_user_count"
   ]
  },
  {
   "cell_type": "code",
   "execution_count": 287,
   "metadata": {},
   "outputs": [
    {
     "data": {
      "text/plain": [
       "(661185, 0.11033517991533769)"
      ]
     },
     "execution_count": 287,
     "metadata": {},
     "output_type": "execute_result"
    }
   ],
   "source": [
    "# 11% of reverts revert the users own work\n",
    "np.sum(is_self_revert_list), np.sum(is_self_revert_list) / len(is_self_revert_list)"
   ]
  },
  {
   "cell_type": "code",
   "execution_count": 288,
   "metadata": {},
   "outputs": [
    {
     "data": {
      "text/plain": [
       "0.06784899757413959"
      ]
     },
     "execution_count": 288,
     "metadata": {},
     "output_type": "execute_result"
    }
   ],
   "source": [
    "# 6.8% of reverts have multiple reverted users\n",
    "np.sum(is_multiuser_revert_list) / len(is_multiuser_revert_list)"
   ]
  },
  {
   "cell_type": "code",
   "execution_count": 289,
   "metadata": {},
   "outputs": [
    {
     "data": {
      "text/plain": [
       "0.3715745254386526"
      ]
     },
     "execution_count": 289,
     "metadata": {},
     "output_type": "execute_result"
    }
   ],
   "source": [
    "# 37.2% of multi-user reverts involve the self\n",
    "np.sum(is_self_revert_list&is_multiuser_revert_list) / np.sum(is_multiuser_revert_list)"
   ]
  },
  {
   "cell_type": "code",
   "execution_count": 290,
   "metadata": {},
   "outputs": [
    {
     "data": {
      "image/png": "[encoded data removed]",
      "text/plain": [
       "<Figure size 432x288 with 1 Axes>"
      ]
     },
     "metadata": {
      "needs_background": "light"
     },
     "output_type": "display_data"
    }
   ],
   "source": [
    "plt.hist(unique_reverted_user_counts, bins=range(0, 20), log=True)\n",
    "plt.xticks(range(0, 21))\n",
    "plt.title(\"Distribution of reverts by number of reverted users\")\n",
    "plt.xlabel(\"Number of unique users in revert\")\n",
    "plt.ylabel(\"Revert count\")\n",
    "plt.show()"
   ]
  },
  {
   "cell_type": "code",
   "execution_count": null,
   "metadata": {},
   "outputs": [],
   "source": []
  },
  {
   "cell_type": "markdown",
   "metadata": {},
   "source": [
    "### Compute and save reduced reverts data\n",
    "\n",
    "Reduced version contains only page_id, rev_id, user identifier, and timestamp of the revisions."
   ]
  },
  {
   "cell_type": "code",
   "execution_count": 303,
   "metadata": {},
   "outputs": [
    {
     "name": "stderr",
     "output_type": "stream",
     "text": [
      "100%|██████████| 1163799/1163799 [08:31<00:00, 2275.32it/s] \n"
     ]
    }
   ],
   "source": [
    "revert_info_tups = []\n",
    "for page, page_reverts in tqdm(groupby(reverts, lambda revert: revert['reverting']['page']['id']), total=len(page_df)):\n",
    "    page_reverts = list(page_reverts)\n",
    "    for revert in page_reverts:\n",
    "        reverting_rev_id = revert['reverting']['id']\n",
    "        reverted_to_rev_id = revert['reverted_to']['id']\n",
    "        \n",
    "        reverting_timestamp = int(datetime.strptime(revert['reverting']['timestamp'], \"%Y-%m-%dT%H:%M:%SZ\").timestamp())\n",
    "        reverted_to_timestamp = int(datetime.strptime(revert['reverted_to']['timestamp'], \"%Y-%m-%dT%H:%M:%SZ\").timestamp())\n",
    "\n",
    "        reverting_user = revert['reverting']['user']['text'] if 'user' in revert['reverting'] else None\n",
    "        reverted_to_user = revert['reverted_to']['user']['text'] if 'user' in revert['reverted_to'] else None\n",
    "        \n",
    "        reverting_user_id = revert['reverting']['user']['id'] if 'user' in revert['reverting'] and 'id' in revert['reverting']['user'] else None\n",
    "        reverted_to_user_id = revert['reverted_to']['user']['id'] if 'user' in revert['reverted_to'] and 'id' in revert['reverted_to']['user'] else None\n",
    "        \n",
    "        reverteds = sorted(revert['reverteds'], key=lambda r: (r.get('timestamp'), r.get('id')))\n",
    "        reverteds_count = len(reverteds)\n",
    "        reverteds_rev_ids = [rev['id'] for rev in reverteds]\n",
    "        reverteds_timestamps = [\n",
    "            int(datetime.strptime(rev['timestamp'], \"%Y-%m-%dT%H:%M:%SZ\").timestamp())\n",
    "            for rev in reverteds\n",
    "        ]\n",
    "        reverteds_users = [\n",
    "            rev['user']['text'] if 'user' in rev else None\n",
    "            for rev in reverteds\n",
    "        ]\n",
    "        reverteds_user_ids = [\n",
    "            rev['user']['id'] if 'user' in rev and 'id' in rev['user'] else None\n",
    "            for rev in reverteds\n",
    "        ]\n",
    "        \n",
    "        tup = (\n",
    "            page, reverteds_count,\n",
    "            reverting_rev_id, reverting_timestamp, reverting_user, reverting_user_id, \n",
    "            reverted_to_rev_id, reverted_to_timestamp, reverted_to_user, reverted_to_user_id, \n",
    "            reverteds_rev_ids, reverteds_timestamps, reverteds_users, reverteds_user_ids\n",
    "        )\n",
    "        revert_info_tups.append(tup)"
   ]
  },
  {
   "cell_type": "code",
   "execution_count": 304,
   "metadata": {},
   "outputs": [
    {
     "data": {
      "text/plain": [
       "5992682"
      ]
     },
     "execution_count": 304,
     "metadata": {},
     "output_type": "execute_result"
    }
   ],
   "source": [
    "column_names = [\n",
    "            'page_id', 'reverted_count',\n",
    "            'reverting_rev_id', 'reverting_timestamp', 'reverting_user_text', 'reverting_user_id',\n",
    "            'reverted_to_rev_id', 'reverted_to_timestamp', 'reverted_to_user_text', 'reverted_to_user_id',\n",
    "            'reverted_rev_ids', 'reverted_timestamps', 'reverted_user_texts', 'reverted_user_ids'\n",
    "]\n",
    "revert_df = pd.DataFrame(revert_info_tups, columns=column_names)\n",
    "len(revert_df)"
   ]
  },
  {
   "cell_type": "code",
   "execution_count": 316,
   "metadata": {},
   "outputs": [],
   "source": [
    "# identify anonymous users\n",
    "revert_df['reverting_user_is_anonymous'] = pd.isna(revert_df.reverting_user_id)\n",
    "revert_df['reverted_to_user_is_anonymous'] = pd.isna(revert_df.reverted_to_user_id)\n",
    "revert_df['reverted_users_is_anonymous'] = revert_df.reverted_user_ids.map(lambda id_list: pd.isna(id_list))"
   ]
  },
  {
   "cell_type": "code",
   "execution_count": 317,
   "metadata": {},
   "outputs": [
    {
     "data": {
      "text/html": [
       "<div>\n",
       "<style scoped>\n",
       "    .dataframe tbody tr th:only-of-type {\n",
       "        vertical-align: middle;\n",
       "    }\n",
       "\n",
       "    .dataframe tbody tr th {\n",
       "        vertical-align: top;\n",
       "    }\n",
       "\n",
       "    .dataframe thead th {\n",
       "        text-align: right;\n",
       "    }\n",
       "</style>\n",
       "<table border=\"1\" class=\"dataframe\">\n",
       "  <thead>\n",
       "    <tr style=\"text-align: right;\">\n",
       "      <th></th>\n",
       "      <th>page_id</th>\n",
       "      <th>reverted_count</th>\n",
       "      <th>reverting_rev_id</th>\n",
       "      <th>reverting_timestamp</th>\n",
       "      <th>reverting_user_text</th>\n",
       "      <th>reverting_user_id</th>\n",
       "      <th>reverted_to_rev_id</th>\n",
       "      <th>reverted_to_timestamp</th>\n",
       "      <th>reverted_to_user_text</th>\n",
       "      <th>reverted_to_user_id</th>\n",
       "      <th>reverted_rev_ids</th>\n",
       "      <th>reverted_timestamps</th>\n",
       "      <th>reverted_user_texts</th>\n",
       "      <th>reverted_user_ids</th>\n",
       "      <th>reverting_user_is_anonymous</th>\n",
       "      <th>reverted_to_user_is_anonymous</th>\n",
       "      <th>reverted_users_is_anonymous</th>\n",
       "    </tr>\n",
       "  </thead>\n",
       "  <tbody>\n",
       "    <tr>\n",
       "      <th>0</th>\n",
       "      <td>18754764</td>\n",
       "      <td>1</td>\n",
       "      <td>902766646</td>\n",
       "      <td>1561105801</td>\n",
       "      <td>Malcolmxl5</td>\n",
       "      <td>4076676.0</td>\n",
       "      <td>874884880</td>\n",
       "      <td>1545481829</td>\n",
       "      <td>Hmains</td>\n",
       "      <td>508734.0</td>\n",
       "      <td>[900328973]</td>\n",
       "      <td>[1559706521]</td>\n",
       "      <td>[2601:199:417F:8EED:A0B0:A6B5:3457:A9B4]</td>\n",
       "      <td>[None]</td>\n",
       "      <td>False</td>\n",
       "      <td>False</td>\n",
       "      <td>[True]</td>\n",
       "    </tr>\n",
       "    <tr>\n",
       "      <th>1</th>\n",
       "      <td>18754831</td>\n",
       "      <td>2</td>\n",
       "      <td>818980415</td>\n",
       "      <td>1515284429</td>\n",
       "      <td>BrownHairedGirl</td>\n",
       "      <td>754619.0</td>\n",
       "      <td>743241620</td>\n",
       "      <td>1475970276</td>\n",
       "      <td>Emir of Wikipedia</td>\n",
       "      <td>28856560.0</td>\n",
       "      <td>[757539852, 775847398]</td>\n",
       "      <td>[1483188655, 1492452285]</td>\n",
       "      <td>[Ser Amantio di Nicolao, Emir of Wikipedia]</td>\n",
       "      <td>[753665, 28856560]</td>\n",
       "      <td>False</td>\n",
       "      <td>False</td>\n",
       "      <td>[False, False]</td>\n",
       "    </tr>\n",
       "    <tr>\n",
       "      <th>2</th>\n",
       "      <td>18754831</td>\n",
       "      <td>1</td>\n",
       "      <td>932235094</td>\n",
       "      <td>1577204938</td>\n",
       "      <td>UA3</td>\n",
       "      <td>25923702.0</td>\n",
       "      <td>918313790</td>\n",
       "      <td>1569654385</td>\n",
       "      <td>Monkbot</td>\n",
       "      <td>20483999.0</td>\n",
       "      <td>[932233860]</td>\n",
       "      <td>[1577204033]</td>\n",
       "      <td>[Qowa]</td>\n",
       "      <td>[37692801]</td>\n",
       "      <td>False</td>\n",
       "      <td>False</td>\n",
       "      <td>[False]</td>\n",
       "    </tr>\n",
       "    <tr>\n",
       "      <th>3</th>\n",
       "      <td>18754864</td>\n",
       "      <td>1</td>\n",
       "      <td>853153047</td>\n",
       "      <td>1533256539</td>\n",
       "      <td>Beetstra</td>\n",
       "      <td>855858.0</td>\n",
       "      <td>831996274</td>\n",
       "      <td>1521801439</td>\n",
       "      <td>KolbertBot</td>\n",
       "      <td>31691822.0</td>\n",
       "      <td>[846149041]</td>\n",
       "      <td>[1529188413]</td>\n",
       "      <td>[Lepidoptera~plwiki]</td>\n",
       "      <td>[24892933]</td>\n",
       "      <td>False</td>\n",
       "      <td>False</td>\n",
       "      <td>[False]</td>\n",
       "    </tr>\n",
       "    <tr>\n",
       "      <th>4</th>\n",
       "      <td>18754916</td>\n",
       "      <td>1</td>\n",
       "      <td>882182106</td>\n",
       "      <td>1549557841</td>\n",
       "      <td>Number 57</td>\n",
       "      <td>327289.0</td>\n",
       "      <td>847748130</td>\n",
       "      <td>1530126769</td>\n",
       "      <td>CitationCleanerBot</td>\n",
       "      <td>15270283.0</td>\n",
       "      <td>[882125775]</td>\n",
       "      <td>[1549520001]</td>\n",
       "      <td>[Huldra]</td>\n",
       "      <td>[410653]</td>\n",
       "      <td>False</td>\n",
       "      <td>False</td>\n",
       "      <td>[False]</td>\n",
       "    </tr>\n",
       "  </tbody>\n",
       "</table>\n",
       "</div>"
      ],
      "text/plain": [
       "    page_id  reverted_count  reverting_rev_id  reverting_timestamp  \\\n",
       "0  18754764               1         902766646           1561105801   \n",
       "1  18754831               2         818980415           1515284429   \n",
       "2  18754831               1         932235094           1577204938   \n",
       "3  18754864               1         853153047           1533256539   \n",
       "4  18754916               1         882182106           1549557841   \n",
       "\n",
       "  reverting_user_text  reverting_user_id  reverted_to_rev_id  \\\n",
       "0          Malcolmxl5          4076676.0           874884880   \n",
       "1     BrownHairedGirl           754619.0           743241620   \n",
       "2                 UA3         25923702.0           918313790   \n",
       "3            Beetstra           855858.0           831996274   \n",
       "4           Number 57           327289.0           847748130   \n",
       "\n",
       "   reverted_to_timestamp reverted_to_user_text  reverted_to_user_id  \\\n",
       "0             1545481829                Hmains             508734.0   \n",
       "1             1475970276     Emir of Wikipedia           28856560.0   \n",
       "2             1569654385               Monkbot           20483999.0   \n",
       "3             1521801439            KolbertBot           31691822.0   \n",
       "4             1530126769    CitationCleanerBot           15270283.0   \n",
       "\n",
       "         reverted_rev_ids       reverted_timestamps  \\\n",
       "0             [900328973]              [1559706521]   \n",
       "1  [757539852, 775847398]  [1483188655, 1492452285]   \n",
       "2             [932233860]              [1577204033]   \n",
       "3             [846149041]              [1529188413]   \n",
       "4             [882125775]              [1549520001]   \n",
       "\n",
       "                           reverted_user_texts   reverted_user_ids  \\\n",
       "0     [2601:199:417F:8EED:A0B0:A6B5:3457:A9B4]              [None]   \n",
       "1  [Ser Amantio di Nicolao, Emir of Wikipedia]  [753665, 28856560]   \n",
       "2                                       [Qowa]          [37692801]   \n",
       "3                         [Lepidoptera~plwiki]          [24892933]   \n",
       "4                                     [Huldra]            [410653]   \n",
       "\n",
       "   reverting_user_is_anonymous  reverted_to_user_is_anonymous  \\\n",
       "0                        False                          False   \n",
       "1                        False                          False   \n",
       "2                        False                          False   \n",
       "3                        False                          False   \n",
       "4                        False                          False   \n",
       "\n",
       "  reverted_users_is_anonymous  \n",
       "0                      [True]  \n",
       "1              [False, False]  \n",
       "2                     [False]  \n",
       "3                     [False]  \n",
       "4                     [False]  "
      ]
     },
     "execution_count": 317,
     "metadata": {},
     "output_type": "execute_result"
    }
   ],
   "source": [
    "revert_df.head()"
   ]
  },
  {
   "cell_type": "code",
   "execution_count": 320,
   "metadata": {},
   "outputs": [
    {
     "name": "stdout",
     "output_type": "stream",
     "text": [
      "Finished.\n"
     ]
    }
   ],
   "source": [
    "revert_df_filepath = os.path.join(working_dir, 'revert_df.pkl')\n",
    "revert_df.to_pickle(revert_df_filepath)\n",
    "print(\"Finished.\")"
   ]
  },
  {
   "cell_type": "code",
   "execution_count": null,
   "metadata": {},
   "outputs": [],
   "source": [
    "# Read the revert info\n",
    "derived_data_dir = os.path.join(git_root_dir, \"data\", \"derived\")\n",
    "stub_history_reverts_dir = os.path.join(derived_data_dir, 'stub-history-reverts')\n",
    "revert_df_filepath = os.path.join(stub_history_reverts_dir, 'revert_df.pkl')\n",
    "revert_df = pd.read_pickle(revert_df_filepath)\n",
    "len(revert_df)"
   ]
  },
  {
   "cell_type": "code",
   "execution_count": 327,
   "metadata": {},
   "outputs": [
    {
     "data": {
      "image/png": "[encoded data removed]",
      "text/plain": [
       "<Figure size 432x288 with 1 Axes>"
      ]
     },
     "metadata": {
      "needs_background": "light"
     },
     "output_type": "display_data"
    },
    {
     "data": {
      "text/plain": [
       "0.7846620261178551"
      ]
     },
     "execution_count": 327,
     "metadata": {},
     "output_type": "execute_result"
    }
   ],
   "source": [
    "# distribution of multi-reverts\n",
    "plt.hist(revert_df.reverted_count, bins=range(1,16), log=True)\n",
    "plt.xticks(range(1,16))\n",
    "plt.title(\"Distribution of reverts by # of revisions reverted\")\n",
    "plt.ylabel(\"Count\")\n",
    "plt.xlabel(\"# of revisions reverted\")\n",
    "plt.show()\n",
    "# 78.5% of reverts target only a single revision\n",
    "np.sum(revert_df.reverted_count == 1) / len(revert_df)"
   ]
  },
  {
   "cell_type": "code",
   "execution_count": null,
   "metadata": {},
   "outputs": [],
   "source": []
  },
  {
   "cell_type": "code",
   "execution_count": null,
   "metadata": {},
   "outputs": [],
   "source": []
  }
 ],
 "metadata": {
  "kernelspec": {
   "display_name": "Flagon Python3",
   "language": "python",
   "name": "flagon-conda-env"
  },
  "language_info": {
   "codemirror_mode": {
    "name": "ipython",
    "version": 3
   },
   "file_extension": ".py",
   "mimetype": "text/x-python",
   "name": "python",
   "nbconvert_exporter": "python",
   "pygments_lexer": "ipython3",
   "version": "3.7.9"
  }
 },
 "nbformat": 4,
 "nbformat_minor": 4
}
