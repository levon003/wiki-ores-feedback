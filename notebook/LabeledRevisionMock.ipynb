{
 "cells": [
  {
   "cell_type": "markdown",
   "metadata": {},
   "source": [
    "Labeled Revision Mock\n",
    "===\n",
    "\n",
    "Mocking labeled revisions so that rev-scoring can be applied.\n",
    "\n",
    "See also: CrossTimeSampling2.ipynb"
   ]
  },
  {
   "cell_type": "code",
   "execution_count": 9,
   "metadata": {},
   "outputs": [],
   "source": [
    "import numpy as np\n",
    "import pandas as pd\n",
    "import matplotlib.pyplot as plt\n",
    "import matplotlib"
   ]
  },
  {
   "cell_type": "code",
   "execution_count": 10,
   "metadata": {},
   "outputs": [],
   "source": [
    "import mwapi\n",
    "import mwxml\n",
    "import mwxml.utilities\n",
    "import mwcli\n",
    "import mwreverts\n",
    "import oresapi\n",
    "import mwparserfromhell"
   ]
  },
  {
   "cell_type": "code",
   "execution_count": 11,
   "metadata": {},
   "outputs": [],
   "source": [
    "import os\n",
    "import requests\n",
    "from tqdm import tqdm\n",
    "import bz2\n",
    "import gzip\n",
    "import json\n",
    "import re\n",
    "import hashlib\n",
    "from datetime import datetime\n",
    "import nltk\n",
    "import scipy.stats\n",
    "import para\n",
    "from itertools import groupby\n",
    "from collections import Counter\n",
    "import time"
   ]
  },
  {
   "cell_type": "code",
   "execution_count": 4,
   "metadata": {},
   "outputs": [
    {
     "data": {
      "text/plain": [
       "'/export/scratch2/levon003/repos/wiki-ores-feedback'"
      ]
     },
     "execution_count": 4,
     "metadata": {},
     "output_type": "execute_result"
    }
   ],
   "source": [
    "git_root_dir = !git rev-parse --show-toplevel\n",
    "git_root_dir = git_root_dir[0]\n",
    "git_root_dir"
   ]
  },
  {
   "cell_type": "code",
   "execution_count": 5,
   "metadata": {},
   "outputs": [],
   "source": [
    "labeled_revisions_filepath = os.path.join(git_root_dir, \"data/raw/editquality/datasets/enwiki.labeled_revisions.20k_2015.json\")\n",
    "assert os.path.exists(labeled_revisions_filepath)"
   ]
  },
  {
   "cell_type": "code",
   "execution_count": 92,
   "metadata": {},
   "outputs": [
    {
     "name": "stdout",
     "output_type": "stream",
     "text": [
      "{\"rev_id\": 644933637, \"auto_labeled\": false, \"damaging\": false, \"goodfaith\": true, \"autolabel\": {}}\r\n",
      "{\"rev_id\": 629393521, \"auto_labeled\": false, \"damaging\": false, \"goodfaith\": true, \"autolabel\": {}}\r\n",
      "{\"rev_id\": 655365754, \"auto_labeled\": false, \"damaging\": false, \"goodfaith\": true, \"autolabel\": {}}\r\n"
     ]
    }
   ],
   "source": [
    "!head -n 3 {labeled_revisions_filepath}"
   ]
  },
  {
   "cell_type": "code",
   "execution_count": 6,
   "metadata": {},
   "outputs": [],
   "source": [
    "revisions_features_filepath = os.path.join(git_root_dir, \"data/raw/editquality/datasets/enwiki.labeled_revisions.20k_2015.damaging.tsv\")\n",
    "assert os.path.exists(labeled_revisions_filepath)"
   ]
  },
  {
   "cell_type": "code",
   "execution_count": 7,
   "metadata": {},
   "outputs": [
    {
     "data": {
      "text/plain": [
       "19898"
      ]
     },
     "execution_count": 7,
     "metadata": {},
     "output_type": "execute_result"
    }
   ],
   "source": [
    "training_data_rev_ids = []\n",
    "with open(labeled_revisions_filepath, 'r') as infile:\n",
    "    for line in infile:\n",
    "        rev = json.loads(line)\n",
    "        rev_id = rev['rev_id']\n",
    "        training_data_rev_ids.append(rev_id)\n",
    "len(training_data_rev_ids)"
   ]
  },
  {
   "cell_type": "code",
   "execution_count": null,
   "metadata": {},
   "outputs": [],
   "source": [
    "# labeled_revisions.20k_2015 text retrieval\n",
    "# This approach uses mwapi, but it seems not to work for some reason\n",
    "assert False\n",
    "session = mwapi.Session(\"https://en.wikipedia.org/w/api.php\", \n",
    "                        timeout=5.0,\n",
    "                        user_agent=\"LabeledRevisionMock/0.0 (github.com/levon003/wiki-ores-feedback; levon003@umn.edu) mwapi/0.5.1\")\n",
    "splits = np.array_split(training_data_rev_ids, int(len(training_data_rev_ids) / 50) + 1)\n",
    "results = []\n",
    "for rev_id_list in tqdm(splits):\n",
    "    assert len(rev_id_list) <= 50\n",
    "    params = {\n",
    "        'action': 'query',\n",
    "        'format': 'json',\n",
    "        'formatversion': '2',\n",
    "        'revids': \"|\".join([str(rev_id) for rev_id in rev_id_list]),\n",
    "        'prop': 'revisions',\n",
    "        'rvprop': 'ids|timestamp|user|comment|content|tags',\n",
    "        'rvslots': 'main',\n",
    "#        'maxlag': 5\n",
    "    }\n",
    "    awaiting_result = True\n",
    "    while awaiting_result:\n",
    "        try:\n",
    "            result = session.get(params)\n",
    "        except requests.exceptions.Timeout as timeout_ex:\n",
    "            print(timeout_ex)\n",
    "            print(\"Timeout waiting for response. Waiting and trying again...\")\n",
    "            time.sleep(5)\n",
    "        except mwapi.errors.APIError as ex:\n",
    "            print(ex)\n",
    "            print(\"Maxlag at:\", datetime.now())\n",
    "            # https://www.mediawiki.org/wiki/Manual:Maxlag_parameter\n",
    "            print(\"Server response exceeded maxlag time; waiting before retry.\")\n",
    "            time.sleep(5)\n",
    "        results.append(result)\n",
    "    time.sleep(0.01)"
   ]
  },
  {
   "cell_type": "code",
   "execution_count": null,
   "metadata": {
    "scrolled": true
   },
   "outputs": [],
   "source": [
    "# labeled_revisions.20k_2015 text retrieval\n",
    "headers = {\n",
    "    'User-Agent': 'LabeledRevisionMock/0.0 (github.com/levon003/wiki-ores-feedback; levon003@umn.edu) requests/2.22.0',\n",
    "    'From': 'levon003@umn.edu'\n",
    "}\n",
    "splits = np.array_split(training_data_rev_ids, int(len(training_data_rev_ids) / 50) + 1)\n",
    "results = []\n",
    "for rev_id_list in tqdm(splits):\n",
    "    assert len(rev_id_list) <= 50\n",
    "    params = {\n",
    "        'action': 'query',\n",
    "        'format': 'json',\n",
    "        'formatversion': '2',\n",
    "        'revids': \"|\".join([str(rev_id) for rev_id in rev_id_list]),\n",
    "        'prop': 'revisions',\n",
    "        'rvprop': 'ids|timestamp|user|comment|content|tags',\n",
    "        'rvslots': 'main',\n",
    "        'maxlag': 5\n",
    "    }\n",
    "    awaiting_result = True\n",
    "    while awaiting_result:\n",
    "            response = requests.get(\"https://en.wikipedia.org/w/api.php\", params=params, headers=headers)\n",
    "            if response.ok:\n",
    "                result = response.json()\n",
    "                if 'error' in result:\n",
    "                    print(result['error'])\n",
    "                    print(\"Maxlag at:\", datetime.now())\n",
    "                    # https://www.mediawiki.org/wiki/Manual:Maxlag_parameter\n",
    "                else:\n",
    "                    results.append(result)\n",
    "                    break\n",
    "            else:\n",
    "                print(\"Error:\", response)\n",
    "            print(\"Server response error; waiting before retry.\")\n",
    "            time.sleep(5)\n",
    "    time.sleep(0.01)  # this is completely unnecessary I think; sequential requests without waiting is fine"
   ]
  },
  {
   "cell_type": "code",
   "execution_count": 25,
   "metadata": {},
   "outputs": [],
   "source": [
    "# all batches complete?\n",
    "assert np.all([result['batchcomplete'] for result in results])"
   ]
  },
  {
   "cell_type": "code",
   "execution_count": 26,
   "metadata": {},
   "outputs": [
    {
     "data": {
      "text/plain": [
       "398"
      ]
     },
     "execution_count": 26,
     "metadata": {},
     "output_type": "execute_result"
    }
   ],
   "source": [
    "results = [result['query'] for result in results]\n",
    "len(results)"
   ]
  },
  {
   "cell_type": "code",
   "execution_count": 60,
   "metadata": {},
   "outputs": [
    {
     "name": "stdout",
     "output_type": "stream",
     "text": [
      "Finished.\n"
     ]
    }
   ],
   "source": [
    "# Save the retrieved data\n",
    "working_dir = os.path.join(git_root_dir, \"data/derived/labeled-revs\")\n",
    "os.makedirs(working_dir, exist_ok=True)\n",
    "output_filepath = os.path.join(working_dir, 'labeled_revisions.20k_2015.content.ndjson')\n",
    "with open(output_filepath, 'w') as outfile:\n",
    "    for result in results:\n",
    "        outfile.write(json.dumps(result) + \"\\n\")\n",
    "print(\"Finished.\")"
   ]
  },
  {
   "cell_type": "code",
   "execution_count": 61,
   "metadata": {},
   "outputs": [
    {
     "data": {
      "text/plain": [
       "398"
      ]
     },
     "execution_count": 61,
     "metadata": {},
     "output_type": "execute_result"
    }
   ],
   "source": [
    "# Load in the labeled revisions content data\n",
    "labeled_revs_dir = os.path.join(git_root_dir, \"data/derived/labeled-revs\")\n",
    "labeled_revs_filepath = os.path.join(labeled_revs_dir, 'labeled_revisions.20k_2015.content.ndjson')\n",
    "results = []\n",
    "with open(labeled_revs_filepath, 'r') as infile:\n",
    "    for line in infile:\n",
    "        result = json.loads(line)\n",
    "        results.append(result)\n",
    "len(results)"
   ]
  },
  {
   "cell_type": "code",
   "execution_count": 62,
   "metadata": {},
   "outputs": [
    {
     "data": {
      "text/plain": [
       "dict_keys(['badrevids', 'pages'])"
      ]
     },
     "execution_count": 62,
     "metadata": {},
     "output_type": "execute_result"
    }
   ],
   "source": [
    "results[0].keys()"
   ]
  },
  {
   "cell_type": "code",
   "execution_count": 63,
   "metadata": {},
   "outputs": [
    {
     "data": {
      "text/plain": [
       "(520, 0.7336683417085427)"
      ]
     },
     "execution_count": 63,
     "metadata": {},
     "output_type": "execute_result"
    }
   ],
   "source": [
    "# 520 total \"bad\" rev_ids, with bad revisions appearing in 73% of query batches\n",
    "len(results[0]['badrevids'].keys())\n",
    "badrevids_count_list = []\n",
    "badrevids_total = 0\n",
    "for result in results:\n",
    "    if 'badrevids' in result:\n",
    "        badrevids_count = len(result['badrevids'].keys())\n",
    "        badrevids_total += badrevids_count\n",
    "        badrevids_count_list.append(badrevids_count)\n",
    "    else:\n",
    "        badrevids_count_list.append(0)\n",
    "badrevids_count_list = np.array(badrevids_count_list)\n",
    "badrevids_total, np.sum(badrevids_count_list > 0) / len(results)"
   ]
  },
  {
   "cell_type": "code",
   "execution_count": 64,
   "metadata": {},
   "outputs": [],
   "source": [
    "revision_timestamps = []\n",
    "for result in results:\n",
    "    for page in result['pages']:\n",
    "        for rev in page['revisions']:\n",
    "            page_id = page['pageid']\n",
    "            rev_id = rev['revid']\n",
    "            rev_timestamp_str = rev['timestamp']\n",
    "            rev_timestamp = int(datetime.strptime(rev_timestamp_str, \"%Y-%m-%dT%H:%M:%SZ\").timestamp())\n",
    "            revision_timestamps.append(rev_timestamp)\n",
    "revision_timestamps = np.array(revision_timestamps)"
   ]
  },
  {
   "cell_type": "code",
   "execution_count": 65,
   "metadata": {},
   "outputs": [
    {
     "data": {
      "image/png": "[encoded data removed]",
      "text/plain": [
       "<Figure size 432x288 with 1 Axes>"
      ]
     },
     "metadata": {
      "needs_background": "light"
     },
     "output_type": "display_data"
    }
   ],
   "source": [
    "plt.hist(revision_timestamps, bins=100)\n",
    "\n",
    "xticks, _ = plt.xticks()\n",
    "plt.xticks(xticks, \n",
    "           [datetime.utcfromtimestamp(xtick).strftime(\"%Y-%m-%d\") for xtick in xticks], \n",
    "           rotation='vertical')\n",
    "plt.show()"
   ]
  },
  {
   "cell_type": "code",
   "execution_count": 66,
   "metadata": {},
   "outputs": [],
   "source": [
    "days = [int(datetime.utcfromtimestamp(rt).strftime(\"%Y%m%d\")) for rt in revision_timestamps]\n",
    "mc = Counter(days).most_common()"
   ]
  },
  {
   "cell_type": "code",
   "execution_count": 67,
   "metadata": {
    "scrolled": false
   },
   "outputs": [
    {
     "name": "stdout",
     "output_type": "stream",
     "text": [
      "20140415 (36) ====================================\n",
      "20140416 (48) ================================================\n",
      "20140417 (55) =======================================================\n",
      "20140418 (57) =========================================================\n",
      "20140419 (45) =============================================\n",
      "20140420 (52) ====================================================\n",
      "20140421 (53) =====================================================\n",
      "20140422 (58) ==========================================================\n",
      "20140423 (57) =========================================================\n",
      "20140424 (54) ======================================================\n",
      "<snip>\n",
      "20150406 (55) =======================================================\n",
      "20150407 (50) ==================================================\n",
      "20150408 (60) ============================================================\n",
      "20150409 (50) ==================================================\n",
      "20150410 (44) ============================================\n",
      "20150411 (56) ========================================================\n",
      "20150412 (56) ========================================================\n",
      "20150413 (43) ===========================================\n",
      "20150414 (67) ===================================================================\n",
      "20150415 (15) ===============\n"
     ]
    }
   ],
   "source": [
    "for day, count in sorted(mc, key=lambda tup: tup[0])[:10]:\n",
    "    print(f\"{day} ({count}) \" + \"=\"*count)\n",
    "print(\"<snip>\")\n",
    "for day, count in sorted(mc, key=lambda tup: tup[0])[-10:]:\n",
    "    print(f\"{day} ({count}) \" + \"=\"*count)"
   ]
  },
  {
   "cell_type": "code",
   "execution_count": 68,
   "metadata": {},
   "outputs": [
    {
     "data": {
      "text/plain": [
       "[(20150320, 266),\n",
       " (20150301, 79),\n",
       " (20150210, 77),\n",
       " (20150221, 75),\n",
       " (20141031, 72),\n",
       " (20140520, 71),\n",
       " (20140519, 71),\n",
       " (20150331, 70),\n",
       " (20140729, 70),\n",
       " (20141014, 69)]"
      ]
     },
     "execution_count": 68,
     "metadata": {},
     "output_type": "execute_result"
    }
   ],
   "source": [
    "mc[:10]"
   ]
  },
  {
   "cell_type": "code",
   "execution_count": 74,
   "metadata": {},
   "outputs": [
    {
     "data": {
      "text/plain": [
       "19348"
      ]
     },
     "execution_count": 74,
     "metadata": {},
     "output_type": "execute_result"
    }
   ],
   "source": [
    "features_df = pd.read_csv(revisions_features_filepath, sep='\\t', header=0)\n",
    "len(features_df)"
   ]
  },
  {
   "cell_type": "code",
   "execution_count": 77,
   "metadata": {},
   "outputs": [
    {
     "data": {
      "text/plain": [
       "19348"
      ]
     },
     "execution_count": 77,
     "metadata": {},
     "output_type": "execute_result"
    }
   ],
   "source": [
    "rev_list = []\n",
    "revisions_with_cache_filepath = os.path.join(git_root_dir, \"data/raw/editquality/datasets/enwiki.labeled_revisions.w_cache.20k_2015.json\")\n",
    "with open(revisions_with_cache_filepath, 'r') as infile:\n",
    "    for line in infile:\n",
    "        rev = json.loads(line)\n",
    "        rev_list.append({\n",
    "            'rev_id': rev['rev_id'],\n",
    "            'damaging': rev['damaging'],\n",
    "            'goodfaith': rev['goodfaith']\n",
    "        })\n",
    "df = pd.DataFrame(rev_list)\n",
    "len(df)"
   ]
  },
  {
   "cell_type": "code",
   "execution_count": 78,
   "metadata": {},
   "outputs": [
    {
     "data": {
      "text/html": [
       "<div>\n",
       "<style scoped>\n",
       "    .dataframe tbody tr th:only-of-type {\n",
       "        vertical-align: middle;\n",
       "    }\n",
       "\n",
       "    .dataframe tbody tr th {\n",
       "        vertical-align: top;\n",
       "    }\n",
       "\n",
       "    .dataframe thead th {\n",
       "        text-align: right;\n",
       "    }\n",
       "</style>\n",
       "<table border=\"1\" class=\"dataframe\">\n",
       "  <thead>\n",
       "    <tr style=\"text-align: right;\">\n",
       "      <th></th>\n",
       "      <th>rev_id</th>\n",
       "      <th>damaging</th>\n",
       "      <th>goodfaith</th>\n",
       "    </tr>\n",
       "  </thead>\n",
       "  <tbody>\n",
       "    <tr>\n",
       "      <th>0</th>\n",
       "      <td>644933637</td>\n",
       "      <td>False</td>\n",
       "      <td>True</td>\n",
       "    </tr>\n",
       "    <tr>\n",
       "      <th>1</th>\n",
       "      <td>629393521</td>\n",
       "      <td>False</td>\n",
       "      <td>True</td>\n",
       "    </tr>\n",
       "    <tr>\n",
       "      <th>2</th>\n",
       "      <td>655365754</td>\n",
       "      <td>False</td>\n",
       "      <td>True</td>\n",
       "    </tr>\n",
       "    <tr>\n",
       "      <th>3</th>\n",
       "      <td>616502017</td>\n",
       "      <td>False</td>\n",
       "      <td>True</td>\n",
       "    </tr>\n",
       "    <tr>\n",
       "      <th>4</th>\n",
       "      <td>651762922</td>\n",
       "      <td>False</td>\n",
       "      <td>True</td>\n",
       "    </tr>\n",
       "  </tbody>\n",
       "</table>\n",
       "</div>"
      ],
      "text/plain": [
       "      rev_id  damaging  goodfaith\n",
       "0  644933637     False       True\n",
       "1  629393521     False       True\n",
       "2  655365754     False       True\n",
       "3  616502017     False       True\n",
       "4  651762922     False       True"
      ]
     },
     "execution_count": 78,
     "metadata": {},
     "output_type": "execute_result"
    }
   ],
   "source": [
    "df.head()"
   ]
  },
  {
   "cell_type": "code",
   "execution_count": 83,
   "metadata": {},
   "outputs": [],
   "source": [
    "df = pd.concat([df, features_df], axis=1)"
   ]
  },
  {
   "cell_type": "code",
   "execution_count": 84,
   "metadata": {},
   "outputs": [
    {
     "data": {
      "text/html": [
       "<div>\n",
       "<style scoped>\n",
       "    .dataframe tbody tr th:only-of-type {\n",
       "        vertical-align: middle;\n",
       "    }\n",
       "\n",
       "    .dataframe tbody tr th {\n",
       "        vertical-align: top;\n",
       "    }\n",
       "\n",
       "    .dataframe thead th {\n",
       "        text-align: right;\n",
       "    }\n",
       "</style>\n",
       "<table border=\"1\" class=\"dataframe\">\n",
       "  <thead>\n",
       "    <tr style=\"text-align: right;\">\n",
       "      <th></th>\n",
       "      <th>rev_id</th>\n",
       "      <th>damaging</th>\n",
       "      <th>goodfaith</th>\n",
       "      <th>feature.revision.page.is_articleish</th>\n",
       "      <th>feature.revision.page.is_mainspace</th>\n",
       "      <th>feature.revision.page.is_draftspace</th>\n",
       "      <th>feature.log((wikitext.revision.parent.chars + 1))</th>\n",
       "      <th>feature.log((len(&lt;datasource.tokenized(datasource.revision.parent.text)&gt;) + 1))</th>\n",
       "      <th>feature.log((len(&lt;datasource.wikitext.revision.parent.words&gt;) + 1))</th>\n",
       "      <th>feature.log((len(&lt;datasource.wikitext.revision.parent.uppercase_words&gt;) + 1))</th>\n",
       "      <th>...</th>\n",
       "      <th>feature.english.dictionary.revision.diff.dict_word_prop_delta_sum</th>\n",
       "      <th>feature.english.dictionary.revision.diff.dict_word_prop_delta_increase</th>\n",
       "      <th>feature.english.dictionary.revision.diff.dict_word_prop_delta_decrease</th>\n",
       "      <th>feature.english.dictionary.revision.diff.non_dict_word_delta_sum</th>\n",
       "      <th>feature.english.dictionary.revision.diff.non_dict_word_delta_increase</th>\n",
       "      <th>feature.english.dictionary.revision.diff.non_dict_word_delta_decrease</th>\n",
       "      <th>feature.english.dictionary.revision.diff.non_dict_word_prop_delta_sum</th>\n",
       "      <th>feature.english.dictionary.revision.diff.non_dict_word_prop_delta_increase</th>\n",
       "      <th>feature.english.dictionary.revision.diff.non_dict_word_prop_delta_decrease</th>\n",
       "      <th>damaging</th>\n",
       "    </tr>\n",
       "  </thead>\n",
       "  <tbody>\n",
       "    <tr>\n",
       "      <th>0</th>\n",
       "      <td>644933637</td>\n",
       "      <td>False</td>\n",
       "      <td>True</td>\n",
       "      <td>False</td>\n",
       "      <td>False</td>\n",
       "      <td>False</td>\n",
       "      <td>11.487669</td>\n",
       "      <td>9.673949</td>\n",
       "      <td>8.289037</td>\n",
       "      <td>2.890372</td>\n",
       "      <td>...</td>\n",
       "      <td>2.597872</td>\n",
       "      <td>2.597872</td>\n",
       "      <td>0.0</td>\n",
       "      <td>12</td>\n",
       "      <td>12</td>\n",
       "      <td>0</td>\n",
       "      <td>11.027027</td>\n",
       "      <td>11.027027</td>\n",
       "      <td>0.0</td>\n",
       "      <td>False</td>\n",
       "    </tr>\n",
       "    <tr>\n",
       "      <th>1</th>\n",
       "      <td>629393521</td>\n",
       "      <td>False</td>\n",
       "      <td>True</td>\n",
       "      <td>True</td>\n",
       "      <td>True</td>\n",
       "      <td>False</td>\n",
       "      <td>9.782336</td>\n",
       "      <td>8.767173</td>\n",
       "      <td>7.884953</td>\n",
       "      <td>3.218876</td>\n",
       "      <td>...</td>\n",
       "      <td>0.000000</td>\n",
       "      <td>0.000000</td>\n",
       "      <td>0.0</td>\n",
       "      <td>0</td>\n",
       "      <td>0</td>\n",
       "      <td>0</td>\n",
       "      <td>0.000000</td>\n",
       "      <td>0.000000</td>\n",
       "      <td>0.0</td>\n",
       "      <td>False</td>\n",
       "    </tr>\n",
       "    <tr>\n",
       "      <th>2</th>\n",
       "      <td>655365754</td>\n",
       "      <td>False</td>\n",
       "      <td>True</td>\n",
       "      <td>False</td>\n",
       "      <td>False</td>\n",
       "      <td>False</td>\n",
       "      <td>8.696009</td>\n",
       "      <td>7.963112</td>\n",
       "      <td>6.218600</td>\n",
       "      <td>1.098612</td>\n",
       "      <td>...</td>\n",
       "      <td>0.000000</td>\n",
       "      <td>0.000000</td>\n",
       "      <td>0.0</td>\n",
       "      <td>0</td>\n",
       "      <td>0</td>\n",
       "      <td>0</td>\n",
       "      <td>0.000000</td>\n",
       "      <td>0.000000</td>\n",
       "      <td>0.0</td>\n",
       "      <td>False</td>\n",
       "    </tr>\n",
       "    <tr>\n",
       "      <th>3</th>\n",
       "      <td>616502017</td>\n",
       "      <td>False</td>\n",
       "      <td>True</td>\n",
       "      <td>True</td>\n",
       "      <td>True</td>\n",
       "      <td>False</td>\n",
       "      <td>9.205629</td>\n",
       "      <td>8.144969</td>\n",
       "      <td>7.152269</td>\n",
       "      <td>3.496508</td>\n",
       "      <td>...</td>\n",
       "      <td>1.000000</td>\n",
       "      <td>1.000000</td>\n",
       "      <td>0.0</td>\n",
       "      <td>0</td>\n",
       "      <td>0</td>\n",
       "      <td>0</td>\n",
       "      <td>0.000000</td>\n",
       "      <td>0.000000</td>\n",
       "      <td>0.0</td>\n",
       "      <td>False</td>\n",
       "    </tr>\n",
       "    <tr>\n",
       "      <th>4</th>\n",
       "      <td>651762922</td>\n",
       "      <td>False</td>\n",
       "      <td>True</td>\n",
       "      <td>False</td>\n",
       "      <td>False</td>\n",
       "      <td>False</td>\n",
       "      <td>7.603898</td>\n",
       "      <td>6.356108</td>\n",
       "      <td>5.323010</td>\n",
       "      <td>2.484907</td>\n",
       "      <td>...</td>\n",
       "      <td>16.596429</td>\n",
       "      <td>16.596429</td>\n",
       "      <td>0.0</td>\n",
       "      <td>7</td>\n",
       "      <td>7</td>\n",
       "      <td>0</td>\n",
       "      <td>5.342857</td>\n",
       "      <td>5.342857</td>\n",
       "      <td>0.0</td>\n",
       "      <td>False</td>\n",
       "    </tr>\n",
       "  </tbody>\n",
       "</table>\n",
       "<p>5 rows × 84 columns</p>\n",
       "</div>"
      ],
      "text/plain": [
       "      rev_id  damaging  goodfaith  feature.revision.page.is_articleish  \\\n",
       "0  644933637     False       True                                False   \n",
       "1  629393521     False       True                                 True   \n",
       "2  655365754     False       True                                False   \n",
       "3  616502017     False       True                                 True   \n",
       "4  651762922     False       True                                False   \n",
       "\n",
       "   feature.revision.page.is_mainspace  feature.revision.page.is_draftspace  \\\n",
       "0                               False                                False   \n",
       "1                                True                                False   \n",
       "2                               False                                False   \n",
       "3                                True                                False   \n",
       "4                               False                                False   \n",
       "\n",
       "   feature.log((wikitext.revision.parent.chars + 1))  \\\n",
       "0                                          11.487669   \n",
       "1                                           9.782336   \n",
       "2                                           8.696009   \n",
       "3                                           9.205629   \n",
       "4                                           7.603898   \n",
       "\n",
       "   feature.log((len(<datasource.tokenized(datasource.revision.parent.text)>) + 1))  \\\n",
       "0                                           9.673949                                 \n",
       "1                                           8.767173                                 \n",
       "2                                           7.963112                                 \n",
       "3                                           8.144969                                 \n",
       "4                                           6.356108                                 \n",
       "\n",
       "   feature.log((len(<datasource.wikitext.revision.parent.words>) + 1))  \\\n",
       "0                                           8.289037                     \n",
       "1                                           7.884953                     \n",
       "2                                           6.218600                     \n",
       "3                                           7.152269                     \n",
       "4                                           5.323010                     \n",
       "\n",
       "   feature.log((len(<datasource.wikitext.revision.parent.uppercase_words>) + 1))  \\\n",
       "0                                           2.890372                               \n",
       "1                                           3.218876                               \n",
       "2                                           1.098612                               \n",
       "3                                           3.496508                               \n",
       "4                                           2.484907                               \n",
       "\n",
       "   ...  feature.english.dictionary.revision.diff.dict_word_prop_delta_sum  \\\n",
       "0  ...                                           2.597872                   \n",
       "1  ...                                           0.000000                   \n",
       "2  ...                                           0.000000                   \n",
       "3  ...                                           1.000000                   \n",
       "4  ...                                          16.596429                   \n",
       "\n",
       "   feature.english.dictionary.revision.diff.dict_word_prop_delta_increase  \\\n",
       "0                                           2.597872                        \n",
       "1                                           0.000000                        \n",
       "2                                           0.000000                        \n",
       "3                                           1.000000                        \n",
       "4                                          16.596429                        \n",
       "\n",
       "   feature.english.dictionary.revision.diff.dict_word_prop_delta_decrease  \\\n",
       "0                                                0.0                        \n",
       "1                                                0.0                        \n",
       "2                                                0.0                        \n",
       "3                                                0.0                        \n",
       "4                                                0.0                        \n",
       "\n",
       "   feature.english.dictionary.revision.diff.non_dict_word_delta_sum  \\\n",
       "0                                                 12                  \n",
       "1                                                  0                  \n",
       "2                                                  0                  \n",
       "3                                                  0                  \n",
       "4                                                  7                  \n",
       "\n",
       "   feature.english.dictionary.revision.diff.non_dict_word_delta_increase  \\\n",
       "0                                                 12                       \n",
       "1                                                  0                       \n",
       "2                                                  0                       \n",
       "3                                                  0                       \n",
       "4                                                  7                       \n",
       "\n",
       "   feature.english.dictionary.revision.diff.non_dict_word_delta_decrease  \\\n",
       "0                                                  0                       \n",
       "1                                                  0                       \n",
       "2                                                  0                       \n",
       "3                                                  0                       \n",
       "4                                                  0                       \n",
       "\n",
       "   feature.english.dictionary.revision.diff.non_dict_word_prop_delta_sum  \\\n",
       "0                                          11.027027                       \n",
       "1                                           0.000000                       \n",
       "2                                           0.000000                       \n",
       "3                                           0.000000                       \n",
       "4                                           5.342857                       \n",
       "\n",
       "   feature.english.dictionary.revision.diff.non_dict_word_prop_delta_increase  \\\n",
       "0                                          11.027027                            \n",
       "1                                           0.000000                            \n",
       "2                                           0.000000                            \n",
       "3                                           0.000000                            \n",
       "4                                           5.342857                            \n",
       "\n",
       "   feature.english.dictionary.revision.diff.non_dict_word_prop_delta_decrease  \\\n",
       "0                                                0.0                            \n",
       "1                                                0.0                            \n",
       "2                                                0.0                            \n",
       "3                                                0.0                            \n",
       "4                                                0.0                            \n",
       "\n",
       "   damaging  \n",
       "0     False  \n",
       "1     False  \n",
       "2     False  \n",
       "3     False  \n",
       "4     False  \n",
       "\n",
       "[5 rows x 84 columns]"
      ]
     },
     "execution_count": 84,
     "metadata": {},
     "output_type": "execute_result"
    }
   ],
   "source": [
    "df.head()"
   ]
  },
  {
   "cell_type": "code",
   "execution_count": 89,
   "metadata": {},
   "outputs": [
    {
     "data": {
      "text/plain": [
       "19378"
      ]
     },
     "execution_count": 89,
     "metadata": {},
     "output_type": "execute_result"
    }
   ],
   "source": [
    "rev_ids_with_content = set()\n",
    "for result in results:\n",
    "    for page in result['pages']:\n",
    "        for rev in page['revisions']:\n",
    "            rev_id = rev['revid']\n",
    "            rev_ids_with_content.add(rev_id)\n",
    "df['has_content'] = df.rev_id.map(lambda rev_id: rev_id in rev_ids_with_content)\n",
    "len(rev_ids_with_content)"
   ]
  },
  {
   "cell_type": "code",
   "execution_count": 90,
   "metadata": {},
   "outputs": [
    {
     "data": {
      "text/plain": [
       "'19344 / 19348 (99.98%) training revisions have associated content.'"
      ]
     },
     "execution_count": 90,
     "metadata": {},
     "output_type": "execute_result"
    }
   ],
   "source": [
    "f\"{np.sum(df.has_content)} / {len(df)} ({np.sum(df.has_content) / len(df)*100:.2f}%) training revisions have associated content.\""
   ]
  },
  {
   "cell_type": "code",
   "execution_count": null,
   "metadata": {},
   "outputs": [],
   "source": []
  },
  {
   "cell_type": "markdown",
   "metadata": {},
   "source": [
    "### Construct rev_id sample"
   ]
  },
  {
   "cell_type": "code",
   "execution_count": 96,
   "metadata": {},
   "outputs": [],
   "source": [
    "raw_data_dir = \"/export/scratch2/wiki_data\"\n",
    "derived_data_dir = os.path.join(git_root_dir, \"data\", \"derived\")"
   ]
  },
  {
   "cell_type": "code",
   "execution_count": 97,
   "metadata": {},
   "outputs": [
    {
     "data": {
      "text/plain": [
       "1000000"
      ]
     },
     "execution_count": 97,
     "metadata": {},
     "output_type": "execute_result"
    }
   ],
   "source": [
    "# read in the sample dataframe\n",
    "revision_sample_dir = os.path.join(derived_data_dir, 'revision_sample')\n",
    "sample1_filepath = os.path.join(revision_sample_dir, 'sample1_1M.pkl')\n",
    "rev_df = pd.read_pickle(sample1_filepath)\n",
    "len(rev_df)"
   ]
  },
  {
   "cell_type": "code",
   "execution_count": 99,
   "metadata": {},
   "outputs": [
    {
     "data": {
      "text/html": [
       "<div>\n",
       "<style scoped>\n",
       "    .dataframe tbody tr th:only-of-type {\n",
       "        vertical-align: middle;\n",
       "    }\n",
       "\n",
       "    .dataframe tbody tr th {\n",
       "        vertical-align: top;\n",
       "    }\n",
       "\n",
       "    .dataframe thead th {\n",
       "        text-align: right;\n",
       "    }\n",
       "</style>\n",
       "<table border=\"1\" class=\"dataframe\">\n",
       "  <thead>\n",
       "    <tr style=\"text-align: right;\">\n",
       "      <th></th>\n",
       "      <th>page_id</th>\n",
       "      <th>rev_id</th>\n",
       "      <th>rev_timestamp</th>\n",
       "      <th>is_revert_target</th>\n",
       "      <th>is_reverted</th>\n",
       "      <th>is_reverting</th>\n",
       "      <th>is_sample_eligible</th>\n",
       "      <th>prev_rev_id</th>\n",
       "      <th>next_rev_id</th>\n",
       "      <th>prev_rev_timestamp</th>\n",
       "      <th>next_rev_timestamp</th>\n",
       "      <th>reverted_rev_ids</th>\n",
       "      <th>reverting_rev_id</th>\n",
       "      <th>reverting_rev_timestamp</th>\n",
       "    </tr>\n",
       "  </thead>\n",
       "  <tbody>\n",
       "    <tr>\n",
       "      <th>29999548</th>\n",
       "      <td>9516095</td>\n",
       "      <td>846835190</td>\n",
       "      <td>1529576038</td>\n",
       "      <td>0</td>\n",
       "      <td>0</td>\n",
       "      <td>0</td>\n",
       "      <td>True</td>\n",
       "      <td>846835009</td>\n",
       "      <td>850539656</td>\n",
       "      <td>1529575914</td>\n",
       "      <td>1531769146</td>\n",
       "      <td>[]</td>\n",
       "      <td>-1</td>\n",
       "      <td>-1</td>\n",
       "    </tr>\n",
       "    <tr>\n",
       "      <th>12474631</th>\n",
       "      <td>876872</td>\n",
       "      <td>923997118</td>\n",
       "      <td>1572595746</td>\n",
       "      <td>0</td>\n",
       "      <td>0</td>\n",
       "      <td>0</td>\n",
       "      <td>True</td>\n",
       "      <td>923211396</td>\n",
       "      <td>924618182</td>\n",
       "      <td>1572162918</td>\n",
       "      <td>1572930319</td>\n",
       "      <td>[]</td>\n",
       "      <td>-1</td>\n",
       "      <td>-1</td>\n",
       "    </tr>\n",
       "    <tr>\n",
       "      <th>62536703</th>\n",
       "      <td>53465104</td>\n",
       "      <td>867368228</td>\n",
       "      <td>1541425108</td>\n",
       "      <td>0</td>\n",
       "      <td>0</td>\n",
       "      <td>0</td>\n",
       "      <td>True</td>\n",
       "      <td>867366487</td>\n",
       "      <td>867663184</td>\n",
       "      <td>1541423455</td>\n",
       "      <td>1541590304</td>\n",
       "      <td>[]</td>\n",
       "      <td>-1</td>\n",
       "      <td>-1</td>\n",
       "    </tr>\n",
       "    <tr>\n",
       "      <th>73902987</th>\n",
       "      <td>60096152</td>\n",
       "      <td>888337768</td>\n",
       "      <td>1552936050</td>\n",
       "      <td>0</td>\n",
       "      <td>0</td>\n",
       "      <td>0</td>\n",
       "      <td>True</td>\n",
       "      <td>888337457</td>\n",
       "      <td>888338754</td>\n",
       "      <td>1552935890</td>\n",
       "      <td>1552936561</td>\n",
       "      <td>[]</td>\n",
       "      <td>-1</td>\n",
       "      <td>-1</td>\n",
       "    </tr>\n",
       "    <tr>\n",
       "      <th>43843955</th>\n",
       "      <td>28063274</td>\n",
       "      <td>917010365</td>\n",
       "      <td>1569117229</td>\n",
       "      <td>0</td>\n",
       "      <td>0</td>\n",
       "      <td>0</td>\n",
       "      <td>True</td>\n",
       "      <td>915190631</td>\n",
       "      <td>-1</td>\n",
       "      <td>1568247118</td>\n",
       "      <td>-1</td>\n",
       "      <td>[]</td>\n",
       "      <td>-1</td>\n",
       "      <td>-1</td>\n",
       "    </tr>\n",
       "  </tbody>\n",
       "</table>\n",
       "</div>"
      ],
      "text/plain": [
       "           page_id     rev_id  rev_timestamp  is_revert_target  is_reverted  \\\n",
       "29999548   9516095  846835190     1529576038                 0            0   \n",
       "12474631    876872  923997118     1572595746                 0            0   \n",
       "62536703  53465104  867368228     1541425108                 0            0   \n",
       "73902987  60096152  888337768     1552936050                 0            0   \n",
       "43843955  28063274  917010365     1569117229                 0            0   \n",
       "\n",
       "          is_reverting  is_sample_eligible  prev_rev_id  next_rev_id  \\\n",
       "29999548             0                True    846835009    850539656   \n",
       "12474631             0                True    923211396    924618182   \n",
       "62536703             0                True    867366487    867663184   \n",
       "73902987             0                True    888337457    888338754   \n",
       "43843955             0                True    915190631           -1   \n",
       "\n",
       "          prev_rev_timestamp  next_rev_timestamp reverted_rev_ids  \\\n",
       "29999548          1529575914          1531769146               []   \n",
       "12474631          1572162918          1572930319               []   \n",
       "62536703          1541423455          1541590304               []   \n",
       "73902987          1552935890          1552936561               []   \n",
       "43843955          1568247118                  -1               []   \n",
       "\n",
       "          reverting_rev_id  reverting_rev_timestamp  \n",
       "29999548                -1                       -1  \n",
       "12474631                -1                       -1  \n",
       "62536703                -1                       -1  \n",
       "73902987                -1                       -1  \n",
       "43843955                -1                       -1  "
      ]
     },
     "execution_count": 99,
     "metadata": {},
     "output_type": "execute_result"
    }
   ],
   "source": [
    "rev_df.head()"
   ]
  },
  {
   "cell_type": "code",
   "execution_count": 94,
   "metadata": {},
   "outputs": [
    {
     "data": {
      "text/plain": [
       "'{\"rev_id\": 23, \"auto_labeled\": false, \"damaging\": false, \"goodfaith\": true, \"autolabel\": {}}'"
      ]
     },
     "execution_count": 94,
     "metadata": {},
     "output_type": "execute_result"
    }
   ],
   "source": [
    "\n",
    "mock_template = '{\"rev_id\": %d, \"auto_labeled\": false, \"damaging\": false, \"goodfaith\": true, \"autolabel\": {}}'\n"
   ]
  },
  {
   "cell_type": "code",
   "execution_count": 101,
   "metadata": {},
   "outputs": [
    {
     "name": "stdout",
     "output_type": "stream",
     "text": [
      "Finished.\n"
     ]
    }
   ],
   "source": [
    "working_dir = os.path.join(git_root_dir, \"data/derived/labeled-revs\")\n",
    "mock_rev_filepath = os.path.join(working_dir, \"sample1.mock.json\")\n",
    "with open(mock_rev_filepath, 'w') as outfile:\n",
    "    for rev_id in rev_df.rev_id:\n",
    "        line = mock_template % rev_id\n",
    "        outfile.write(line + \"\\n\")\n",
    "print(\"Finished.\")"
   ]
  },
  {
   "cell_type": "code",
   "execution_count": 102,
   "metadata": {},
   "outputs": [
    {
     "name": "stdout",
     "output_type": "stream",
     "text": [
      "{\"rev_id\": 846835190, \"auto_labeled\": false, \"damaging\": false, \"goodfaith\": true, \"autolabel\": {}}\r\n",
      "{\"rev_id\": 923997118, \"auto_labeled\": false, \"damaging\": false, \"goodfaith\": true, \"autolabel\": {}}\r\n",
      "{\"rev_id\": 867368228, \"auto_labeled\": false, \"damaging\": false, \"goodfaith\": true, \"autolabel\": {}}\r\n"
     ]
    }
   ],
   "source": [
    "!head -n 3 {mock_rev_filepath}"
   ]
  },
  {
   "cell_type": "code",
   "execution_count": 103,
   "metadata": {},
   "outputs": [
    {
     "data": {
      "text/plain": [
       "'/export/scratch2/levon003/repos/wiki-ores-feedback/data/derived/labeled-revs/sample1.mock.json'"
      ]
     },
     "execution_count": 103,
     "metadata": {},
     "output_type": "execute_result"
    }
   ],
   "source": [
    "mock_rev_filepath"
   ]
  },
  {
   "cell_type": "markdown",
   "metadata": {},
   "source": [
    "From the `revscoring` repo, using the `wiki-revscoring` conda environment, I ran:\n",
    "\n",
    "```\n",
    "cat /export/scratch2/levon003/repos/wiki-ores-feedback/data/derived/labeled-revs/sample1.mock.json | revscoring extract editquality.feature_lists.enwiki.damaging editquality.feature_lists.enwiki.goodfaith --host https://en.wikipedia.org --extractors 32 --verbose > /export/scratch2/levon003/repos/wiki-ores-feedback/data/derived/labeled-revs/sample1.mock.w_cache.json\n",
    "\n",
    "revscoring dump_cache --input /export/scratch2/levon003/repos/wiki-ores-feedback/data/derived/labeled-revs/sample1.mock.w_cache.json --output /export/scratch2/levon003/repos/wiki-ores-feedback/data/derived/labeled-revs/sample1.mock.damaging.tsv --verbose editquality.feature_lists.enwiki.damaging damaging\n",
    "\n",
    "```"
   ]
  },
  {
   "cell_type": "code",
   "execution_count": 104,
   "metadata": {},
   "outputs": [],
   "source": [
    "# copied from bash commands above\n",
    "mock_features_filepath = \"/export/scratch2/levon003/repos/wiki-ores-feedback/data/derived/labeled-revs/sample1.mock.damaging.tsv\""
   ]
  },
  {
   "cell_type": "code",
   "execution_count": 105,
   "metadata": {},
   "outputs": [
    {
     "data": {
      "text/plain": [
       "458449"
      ]
     },
     "execution_count": 105,
     "metadata": {},
     "output_type": "execute_result"
    }
   ],
   "source": [
    "mock_features_df = pd.read_csv(mock_features_filepath, sep='\\t', header=0)\n",
    "len(mock_features_df)"
   ]
  },
  {
   "cell_type": "code",
   "execution_count": 1,
   "metadata": {},
   "outputs": [
    {
     "ename": "NameError",
     "evalue": "name 'features_df' is not defined",
     "output_type": "error",
     "traceback": [
      "\u001b[0;31m---------------------------------------------------------------------------\u001b[0m",
      "\u001b[0;31mNameError\u001b[0m                                 Traceback (most recent call last)",
      "\u001b[0;32m<ipython-input-1-70b89abb75ee>\u001b[0m in \u001b[0;36m<module>\u001b[0;34m\u001b[0m\n\u001b[0;32m----> 1\u001b[0;31m \u001b[0mfeatures_df\u001b[0m\u001b[0;34m.\u001b[0m\u001b[0mshape\u001b[0m\u001b[0;34m\u001b[0m\u001b[0;34m\u001b[0m\u001b[0m\n\u001b[0m",
      "\u001b[0;31mNameError\u001b[0m: name 'features_df' is not defined"
     ]
    }
   ],
   "source": [
    "features_df.shape"
   ]
  },
  {
   "cell_type": "code",
   "execution_count": null,
   "metadata": {},
   "outputs": [],
   "source": []
  },
  {
   "cell_type": "code",
   "execution_count": null,
   "metadata": {},
   "outputs": [],
   "source": []
  }
 ],
 "metadata": {
  "kernelspec": {
   "display_name": "Flagon Python3",
   "language": "python",
   "name": "flagon-conda-env"
  },
  "language_info": {
   "codemirror_mode": {
    "name": "ipython",
    "version": 3
   },
   "file_extension": ".py",
   "mimetype": "text/x-python",
   "name": "python",
   "nbconvert_exporter": "python",
   "pygments_lexer": "ipython3",
   "version": "3.7.6"
  }
 },
 "nbformat": 4,
 "nbformat_minor": 4
}
