{
 "cells": [
  {
   "cell_type": "markdown",
   "metadata": {},
   "source": [
    "Damaging Classification\n",
    "===\n",
    "\n",
    "Messing around with understanding the revscoring approach.\n",
    "\n",
    "I generated the data like so:\n",
    "```\n",
    "cat /export/scratch2/levon003/repos/wiki-ores-feedback/data/raw/editquality/datasets/enwiki.labeled_revisions.20k_2015.json | revscoring extract editquality.feature_lists.enwiki.damaging editquality.feature_lists.enwiki.goodfaith --host https://en.wikipedia.org --extractors 32 --verbose > enwiki.labeled_revisions.w_cache.20k_2015.json\n",
    "\n",
    "revscoring dump_cache --input enwiki.labeled_revisions.w_cache.20k_2015.json --output enwiki.labeled_revisions.20k_2015.damaging.tsv --verbose editquality.feature_lists.enwiki.damaging damaging\n",
    "\n",
    "```\n"
   ]
  },
  {
   "cell_type": "code",
   "execution_count": 1,
   "metadata": {},
   "outputs": [],
   "source": [
    "import numpy as np\n",
    "import pandas as pd\n",
    "import matplotlib.pyplot as plt"
   ]
  },
  {
   "cell_type": "code",
   "execution_count": 27,
   "metadata": {},
   "outputs": [],
   "source": [
    "import matplotlib.colors"
   ]
  },
  {
   "cell_type": "code",
   "execution_count": 2,
   "metadata": {},
   "outputs": [],
   "source": [
    "import os\n",
    "from collections import Counter"
   ]
  },
  {
   "cell_type": "code",
   "execution_count": 3,
   "metadata": {},
   "outputs": [],
   "source": [
    "import sklearn\n",
    "import sklearn.ensemble\n",
    "import sklearn.metrics"
   ]
  },
  {
   "cell_type": "code",
   "execution_count": 4,
   "metadata": {},
   "outputs": [
    {
     "data": {
      "text/plain": [
       "'/export/scratch2/levon003/repos/wiki-ores-feedback'"
      ]
     },
     "execution_count": 4,
     "metadata": {},
     "output_type": "execute_result"
    }
   ],
   "source": [
    "git_root_dir = !git rev-parse --show-toplevel\n",
    "git_root_dir = git_root_dir[0]\n",
    "git_root_dir"
   ]
  },
  {
   "cell_type": "code",
   "execution_count": 5,
   "metadata": {},
   "outputs": [],
   "source": [
    "editquality_data_dir = os.path.join(git_root_dir, \"data\", \"raw\", \"editquality\", \"datasets\")"
   ]
  },
  {
   "cell_type": "code",
   "execution_count": 6,
   "metadata": {},
   "outputs": [
    {
     "data": {
      "text/plain": [
       "19348"
      ]
     },
     "execution_count": 6,
     "metadata": {},
     "output_type": "execute_result"
    }
   ],
   "source": [
    "df = pd.read_csv(os.path.join(editquality_data_dir, \"enwiki.labeled_revisions.20k_2015.damaging.tsv\"), sep='\\t', header=0)\n",
    "len(df)"
   ]
  },
  {
   "cell_type": "code",
   "execution_count": 7,
   "metadata": {},
   "outputs": [
    {
     "data": {
      "text/html": [
       "<div>\n",
       "<style scoped>\n",
       "    .dataframe tbody tr th:only-of-type {\n",
       "        vertical-align: middle;\n",
       "    }\n",
       "\n",
       "    .dataframe tbody tr th {\n",
       "        vertical-align: top;\n",
       "    }\n",
       "\n",
       "    .dataframe thead th {\n",
       "        text-align: right;\n",
       "    }\n",
       "</style>\n",
       "<table border=\"1\" class=\"dataframe\">\n",
       "  <thead>\n",
       "    <tr style=\"text-align: right;\">\n",
       "      <th></th>\n",
       "      <th>feature.revision.page.is_articleish</th>\n",
       "      <th>feature.revision.page.is_mainspace</th>\n",
       "      <th>feature.revision.page.is_draftspace</th>\n",
       "      <th>feature.log((wikitext.revision.parent.chars + 1))</th>\n",
       "      <th>feature.log((len(&lt;datasource.tokenized(datasource.revision.parent.text)&gt;) + 1))</th>\n",
       "      <th>feature.log((len(&lt;datasource.wikitext.revision.parent.words&gt;) + 1))</th>\n",
       "      <th>feature.log((len(&lt;datasource.wikitext.revision.parent.uppercase_words&gt;) + 1))</th>\n",
       "      <th>feature.log((wikitext.revision.parent.headings + 1))</th>\n",
       "      <th>feature.log((wikitext.revision.parent.wikilinks + 1))</th>\n",
       "      <th>feature.log((wikitext.revision.parent.external_links + 1))</th>\n",
       "      <th>...</th>\n",
       "      <th>feature.english.dictionary.revision.diff.dict_word_prop_delta_sum</th>\n",
       "      <th>feature.english.dictionary.revision.diff.dict_word_prop_delta_increase</th>\n",
       "      <th>feature.english.dictionary.revision.diff.dict_word_prop_delta_decrease</th>\n",
       "      <th>feature.english.dictionary.revision.diff.non_dict_word_delta_sum</th>\n",
       "      <th>feature.english.dictionary.revision.diff.non_dict_word_delta_increase</th>\n",
       "      <th>feature.english.dictionary.revision.diff.non_dict_word_delta_decrease</th>\n",
       "      <th>feature.english.dictionary.revision.diff.non_dict_word_prop_delta_sum</th>\n",
       "      <th>feature.english.dictionary.revision.diff.non_dict_word_prop_delta_increase</th>\n",
       "      <th>feature.english.dictionary.revision.diff.non_dict_word_prop_delta_decrease</th>\n",
       "      <th>damaging</th>\n",
       "    </tr>\n",
       "  </thead>\n",
       "  <tbody>\n",
       "    <tr>\n",
       "      <th>0</th>\n",
       "      <td>False</td>\n",
       "      <td>False</td>\n",
       "      <td>False</td>\n",
       "      <td>11.487669</td>\n",
       "      <td>9.673949</td>\n",
       "      <td>8.289037</td>\n",
       "      <td>2.890372</td>\n",
       "      <td>4.804021</td>\n",
       "      <td>5.924256</td>\n",
       "      <td>6.354370</td>\n",
       "      <td>...</td>\n",
       "      <td>2.597872</td>\n",
       "      <td>2.597872</td>\n",
       "      <td>0.0</td>\n",
       "      <td>12</td>\n",
       "      <td>12</td>\n",
       "      <td>0</td>\n",
       "      <td>11.027027</td>\n",
       "      <td>11.027027</td>\n",
       "      <td>0.0</td>\n",
       "      <td>False</td>\n",
       "    </tr>\n",
       "    <tr>\n",
       "      <th>1</th>\n",
       "      <td>True</td>\n",
       "      <td>True</td>\n",
       "      <td>False</td>\n",
       "      <td>9.782336</td>\n",
       "      <td>8.767173</td>\n",
       "      <td>7.884953</td>\n",
       "      <td>3.218876</td>\n",
       "      <td>2.639057</td>\n",
       "      <td>3.806662</td>\n",
       "      <td>0.693147</td>\n",
       "      <td>...</td>\n",
       "      <td>0.000000</td>\n",
       "      <td>0.000000</td>\n",
       "      <td>0.0</td>\n",
       "      <td>0</td>\n",
       "      <td>0</td>\n",
       "      <td>0</td>\n",
       "      <td>0.000000</td>\n",
       "      <td>0.000000</td>\n",
       "      <td>0.0</td>\n",
       "      <td>False</td>\n",
       "    </tr>\n",
       "    <tr>\n",
       "      <th>2</th>\n",
       "      <td>False</td>\n",
       "      <td>False</td>\n",
       "      <td>False</td>\n",
       "      <td>8.696009</td>\n",
       "      <td>7.963112</td>\n",
       "      <td>6.218600</td>\n",
       "      <td>1.098612</td>\n",
       "      <td>1.098612</td>\n",
       "      <td>4.304065</td>\n",
       "      <td>0.000000</td>\n",
       "      <td>...</td>\n",
       "      <td>0.000000</td>\n",
       "      <td>0.000000</td>\n",
       "      <td>0.0</td>\n",
       "      <td>0</td>\n",
       "      <td>0</td>\n",
       "      <td>0</td>\n",
       "      <td>0.000000</td>\n",
       "      <td>0.000000</td>\n",
       "      <td>0.0</td>\n",
       "      <td>False</td>\n",
       "    </tr>\n",
       "    <tr>\n",
       "      <th>3</th>\n",
       "      <td>True</td>\n",
       "      <td>True</td>\n",
       "      <td>False</td>\n",
       "      <td>9.205629</td>\n",
       "      <td>8.144969</td>\n",
       "      <td>7.152269</td>\n",
       "      <td>3.496508</td>\n",
       "      <td>1.945910</td>\n",
       "      <td>4.094345</td>\n",
       "      <td>2.564949</td>\n",
       "      <td>...</td>\n",
       "      <td>1.000000</td>\n",
       "      <td>1.000000</td>\n",
       "      <td>0.0</td>\n",
       "      <td>0</td>\n",
       "      <td>0</td>\n",
       "      <td>0</td>\n",
       "      <td>0.000000</td>\n",
       "      <td>0.000000</td>\n",
       "      <td>0.0</td>\n",
       "      <td>False</td>\n",
       "    </tr>\n",
       "    <tr>\n",
       "      <th>4</th>\n",
       "      <td>False</td>\n",
       "      <td>False</td>\n",
       "      <td>False</td>\n",
       "      <td>7.603898</td>\n",
       "      <td>6.356108</td>\n",
       "      <td>5.323010</td>\n",
       "      <td>2.484907</td>\n",
       "      <td>0.693147</td>\n",
       "      <td>2.833213</td>\n",
       "      <td>0.693147</td>\n",
       "      <td>...</td>\n",
       "      <td>16.596429</td>\n",
       "      <td>16.596429</td>\n",
       "      <td>0.0</td>\n",
       "      <td>7</td>\n",
       "      <td>7</td>\n",
       "      <td>0</td>\n",
       "      <td>5.342857</td>\n",
       "      <td>5.342857</td>\n",
       "      <td>0.0</td>\n",
       "      <td>False</td>\n",
       "    </tr>\n",
       "  </tbody>\n",
       "</table>\n",
       "<p>5 rows × 81 columns</p>\n",
       "</div>"
      ],
      "text/plain": [
       "   feature.revision.page.is_articleish  feature.revision.page.is_mainspace  \\\n",
       "0                                False                               False   \n",
       "1                                 True                                True   \n",
       "2                                False                               False   \n",
       "3                                 True                                True   \n",
       "4                                False                               False   \n",
       "\n",
       "   feature.revision.page.is_draftspace  \\\n",
       "0                                False   \n",
       "1                                False   \n",
       "2                                False   \n",
       "3                                False   \n",
       "4                                False   \n",
       "\n",
       "   feature.log((wikitext.revision.parent.chars + 1))  \\\n",
       "0                                          11.487669   \n",
       "1                                           9.782336   \n",
       "2                                           8.696009   \n",
       "3                                           9.205629   \n",
       "4                                           7.603898   \n",
       "\n",
       "   feature.log((len(<datasource.tokenized(datasource.revision.parent.text)>) + 1))  \\\n",
       "0                                           9.673949                                 \n",
       "1                                           8.767173                                 \n",
       "2                                           7.963112                                 \n",
       "3                                           8.144969                                 \n",
       "4                                           6.356108                                 \n",
       "\n",
       "   feature.log((len(<datasource.wikitext.revision.parent.words>) + 1))  \\\n",
       "0                                           8.289037                     \n",
       "1                                           7.884953                     \n",
       "2                                           6.218600                     \n",
       "3                                           7.152269                     \n",
       "4                                           5.323010                     \n",
       "\n",
       "   feature.log((len(<datasource.wikitext.revision.parent.uppercase_words>) + 1))  \\\n",
       "0                                           2.890372                               \n",
       "1                                           3.218876                               \n",
       "2                                           1.098612                               \n",
       "3                                           3.496508                               \n",
       "4                                           2.484907                               \n",
       "\n",
       "   feature.log((wikitext.revision.parent.headings + 1))  \\\n",
       "0                                           4.804021      \n",
       "1                                           2.639057      \n",
       "2                                           1.098612      \n",
       "3                                           1.945910      \n",
       "4                                           0.693147      \n",
       "\n",
       "   feature.log((wikitext.revision.parent.wikilinks + 1))  \\\n",
       "0                                           5.924256       \n",
       "1                                           3.806662       \n",
       "2                                           4.304065       \n",
       "3                                           4.094345       \n",
       "4                                           2.833213       \n",
       "\n",
       "   feature.log((wikitext.revision.parent.external_links + 1))  ...  \\\n",
       "0                                           6.354370           ...   \n",
       "1                                           0.693147           ...   \n",
       "2                                           0.000000           ...   \n",
       "3                                           2.564949           ...   \n",
       "4                                           0.693147           ...   \n",
       "\n",
       "   feature.english.dictionary.revision.diff.dict_word_prop_delta_sum  \\\n",
       "0                                           2.597872                   \n",
       "1                                           0.000000                   \n",
       "2                                           0.000000                   \n",
       "3                                           1.000000                   \n",
       "4                                          16.596429                   \n",
       "\n",
       "   feature.english.dictionary.revision.diff.dict_word_prop_delta_increase  \\\n",
       "0                                           2.597872                        \n",
       "1                                           0.000000                        \n",
       "2                                           0.000000                        \n",
       "3                                           1.000000                        \n",
       "4                                          16.596429                        \n",
       "\n",
       "   feature.english.dictionary.revision.diff.dict_word_prop_delta_decrease  \\\n",
       "0                                                0.0                        \n",
       "1                                                0.0                        \n",
       "2                                                0.0                        \n",
       "3                                                0.0                        \n",
       "4                                                0.0                        \n",
       "\n",
       "   feature.english.dictionary.revision.diff.non_dict_word_delta_sum  \\\n",
       "0                                                 12                  \n",
       "1                                                  0                  \n",
       "2                                                  0                  \n",
       "3                                                  0                  \n",
       "4                                                  7                  \n",
       "\n",
       "   feature.english.dictionary.revision.diff.non_dict_word_delta_increase  \\\n",
       "0                                                 12                       \n",
       "1                                                  0                       \n",
       "2                                                  0                       \n",
       "3                                                  0                       \n",
       "4                                                  7                       \n",
       "\n",
       "   feature.english.dictionary.revision.diff.non_dict_word_delta_decrease  \\\n",
       "0                                                  0                       \n",
       "1                                                  0                       \n",
       "2                                                  0                       \n",
       "3                                                  0                       \n",
       "4                                                  0                       \n",
       "\n",
       "   feature.english.dictionary.revision.diff.non_dict_word_prop_delta_sum  \\\n",
       "0                                          11.027027                       \n",
       "1                                           0.000000                       \n",
       "2                                           0.000000                       \n",
       "3                                           0.000000                       \n",
       "4                                           5.342857                       \n",
       "\n",
       "   feature.english.dictionary.revision.diff.non_dict_word_prop_delta_increase  \\\n",
       "0                                          11.027027                            \n",
       "1                                           0.000000                            \n",
       "2                                           0.000000                            \n",
       "3                                           0.000000                            \n",
       "4                                           5.342857                            \n",
       "\n",
       "   feature.english.dictionary.revision.diff.non_dict_word_prop_delta_decrease  \\\n",
       "0                                                0.0                            \n",
       "1                                                0.0                            \n",
       "2                                                0.0                            \n",
       "3                                                0.0                            \n",
       "4                                                0.0                            \n",
       "\n",
       "   damaging  \n",
       "0     False  \n",
       "1     False  \n",
       "2     False  \n",
       "3     False  \n",
       "4     False  \n",
       "\n",
       "[5 rows x 81 columns]"
      ]
     },
     "execution_count": 7,
     "metadata": {},
     "output_type": "execute_result"
    }
   ],
   "source": [
    "df.head()"
   ]
  },
  {
   "cell_type": "code",
   "execution_count": 8,
   "metadata": {},
   "outputs": [
    {
     "data": {
      "text/plain": [
       "[(False, 18599), (True, 749)]"
      ]
     },
     "execution_count": 8,
     "metadata": {},
     "output_type": "execute_result"
    }
   ],
   "source": [
    "Counter(df.damaging).most_common()"
   ]
  },
  {
   "cell_type": "code",
   "execution_count": 9,
   "metadata": {},
   "outputs": [
    {
     "data": {
      "text/plain": [
       "0.03871201157742402"
      ]
     },
     "execution_count": 9,
     "metadata": {},
     "output_type": "execute_result"
    }
   ],
   "source": [
    "# only 3.87% of the reverts in this set are damaging\n",
    "np.sum(df.damaging) / len(df)"
   ]
  },
  {
   "cell_type": "markdown",
   "metadata": {},
   "source": [
    "### Use sklearn to train a classifier\n",
    "\n",
    "Using basic cross-validation to evaluate it."
   ]
  },
  {
   "cell_type": "code",
   "execution_count": 10,
   "metadata": {},
   "outputs": [],
   "source": [
    "# shuffle the data\n",
    "df = df.sample(frac=1)"
   ]
  },
  {
   "cell_type": "code",
   "execution_count": 11,
   "metadata": {},
   "outputs": [],
   "source": [
    "# define the classifier based on the enwiki tuning report\n",
    "# hyperparameters set from: https://github.com/wikimedia/editquality/blob/master/tuning_reports/enwiki.damaging.md\n",
    "clf = sklearn.ensemble.GradientBoostingClassifier(\n",
    "    learning_rate=0.01, \n",
    "    n_estimators=700, \n",
    "    max_features='log2', \n",
    "    max_depth=5\n",
    ")"
   ]
  },
  {
   "cell_type": "code",
   "execution_count": 12,
   "metadata": {},
   "outputs": [
    {
     "name": "stdout",
     "output_type": "stream",
     "text": [
      "Train: 97.635%; test: 96.408%; test ROC AUC: 0.9120\n",
      "Train: 97.442%; test: 96.899%; test ROC AUC: 0.9439\n",
      "Train: 97.519%; test: 96.796%; test ROC AUC: 0.9226\n",
      "Train: 97.435%; test: 96.898%; test ROC AUC: 0.9336\n",
      "Train: 97.571%; test: 96.666%; test ROC AUC: 0.9417\n",
      "CV train accuracy: 97.520%; CV test accuracy: 96.734%; test ROC AUC: 0.9308\n"
     ]
    }
   ],
   "source": [
    "kf = sklearn.model_selection.KFold(n_splits=5)\n",
    "train_accs = []\n",
    "test_accs = []\n",
    "roc_auc_list = []\n",
    "for train_idx, test_idx in kf.split(df):\n",
    "    train = df.loc[train_idx]\n",
    "    test = df.loc[test_idx]\n",
    "    \n",
    "    # train the model\n",
    "    md = clf.fit(train.iloc[:,:-1], train.iloc[:,-1])\n",
    "    \n",
    "    # predict with the model\n",
    "    y_pred_train = md.predict(train.iloc[:,:-1])\n",
    "    y_pred_test = md.predict(test.iloc[:,:-1])\n",
    "    y_pred_test_proba = md.predict_proba(test.iloc[:,:-1])[:,1]\n",
    "    \n",
    "    # compute metrics\n",
    "    acc_train = np.sum(y_pred_train == train.damaging) / len(y_pred_train)\n",
    "    acc_test = np.sum(y_pred_test == test.damaging) / len(y_pred_test)\n",
    "    roc_auc = sklearn.metrics.roc_auc_score(test.damaging, y_pred_test_proba)\n",
    "    \n",
    "    # save and print metrics\n",
    "    train_accs.append(acc_train)\n",
    "    test_accs.append(acc_test)\n",
    "    roc_auc_list.append(roc_auc)\n",
    "    print(f\"Train: {acc_train*100:.3f}%; test: {acc_test*100:.3f}%; test ROC AUC: {roc_auc:.4f}\")\n",
    "print(f\"CV train accuracy: {np.mean(train_accs)*100:.3f}%; CV test accuracy: {np.mean(test_accs)*100:.3f}%; test ROC AUC: {np.mean(roc_auc_list):.4f}\")"
   ]
  },
  {
   "cell_type": "markdown",
   "metadata": {},
   "source": [
    "#### Results:\n",
    "\n",
    "Dataset: 20k_2015 labeled revisions (n=19348)\n",
    "\n",
    "5-fold Cross Validation:\n",
    " - 96.759% test accuracy\n",
    " - Test ROC AUC: 0.9302\n",
    "\n",
    "The damaging model reported in the model tuning report [here](https://github.com/wikimedia/editquality/blob/master/tuning_reports/enwiki.damaging.md) reports an \"roc_auc.labels.true\" score of 0.9189. (n=19446)\n",
    "\n",
    "\n",
    "#### Old results using a buggy ROC AUC computation (but correct accuracy):\n",
    "\n",
    "20-fold Cross Validation:\n",
    " - 96.754% test accuracy\n",
    " - Test ROC AUC: 0.6053\n",
    " \n",
    "5-fold Cross Validation:\n",
    " - 96.515% test accuracy\n",
    " - Test ROC AUC: 0.6074\n"
   ]
  },
  {
   "cell_type": "code",
   "execution_count": 13,
   "metadata": {},
   "outputs": [
    {
     "name": "stdout",
     "output_type": "stream",
     "text": [
      "              precision    recall  f1-score   support\n",
      "\n",
      "       False       1.00      0.97      0.98      3827\n",
      "        True       0.20      0.67      0.30        42\n",
      "\n",
      "   micro avg       0.97      0.97      0.97      3869\n",
      "   macro avg       0.60      0.82      0.64      3869\n",
      "weighted avg       0.99      0.97      0.98      3869\n",
      "\n"
     ]
    }
   ],
   "source": [
    "# this is the classification report on the test data for the last fold\n",
    "# recall on damaging edits is terrible\n",
    "print(sklearn.metrics.classification_report(y_pred_test, test.damaging))"
   ]
  },
  {
   "cell_type": "markdown",
   "metadata": {},
   "source": [
    "### Plotting the distribution of predictions\n",
    "\n",
    "On the last fold of cross validation"
   ]
  },
  {
   "cell_type": "code",
   "execution_count": 19,
   "metadata": {},
   "outputs": [
    {
     "data": {
      "image/png": "[encoded data removed]",
      "text/plain": [
       "<Figure size 864x360 with 2 Axes>"
      ]
     },
     "metadata": {
      "needs_background": "light"
     },
     "output_type": "display_data"
    }
   ],
   "source": [
    "y_pred_train_proba = md.predict_proba(train.iloc[:,:-1])[:,1]\n",
    "y_pred_test_proba = md.predict_proba(test.iloc[:,:-1])[:,1]\n",
    "\n",
    "fig, axes = plt.subplots(1, 2, figsize=(12, 5))\n",
    "\n",
    "bins = np.linspace(0, 1, num=50)\n",
    "\n",
    "ax = axes[0]\n",
    "ax.hist(y_pred_train_proba, bins=bins, log=True)\n",
    "ax.set_title(\"Train\")\n",
    "\n",
    "ax = axes[1]\n",
    "ax.hist(y_pred_test_proba, bins=bins, log=True)\n",
    "ax.set_title(\"Test\")\n",
    "plt.axvline(0.919, color='red', alpha=0.6, linestyle='--', label='Very Likely Bad threshold')\n",
    "plt.axvline(0.329, color='green', alpha=0.6, linestyle='--', label='Likely Good threshold')\n",
    "plt.legend()\n",
    "\n",
    "plt.show()"
   ]
  },
  {
   "cell_type": "code",
   "execution_count": 23,
   "metadata": {},
   "outputs": [
    {
     "data": {
      "text/plain": [
       "Index(['feature.revision.page.is_articleish',\n",
       "       'feature.revision.page.is_mainspace',\n",
       "       'feature.revision.page.is_draftspace',\n",
       "       'feature.log((wikitext.revision.parent.chars + 1))',\n",
       "       'feature.log((len(<datasource.tokenized(datasource.revision.parent.text)>) + 1))',\n",
       "       'feature.log((len(<datasource.wikitext.revision.parent.words>) + 1))',\n",
       "       'feature.log((len(<datasource.wikitext.revision.parent.uppercase_words>) + 1))',\n",
       "       'feature.log((wikitext.revision.parent.headings + 1))',\n",
       "       'feature.log((wikitext.revision.parent.wikilinks + 1))',\n",
       "       'feature.log((wikitext.revision.parent.external_links + 1))',\n",
       "       'feature.log((wikitext.revision.parent.templates + 1))',\n",
       "       'feature.log((wikitext.revision.parent.ref_tags + 1))',\n",
       "       'feature.revision.parent.chars_per_word',\n",
       "       'feature.revision.parent.words_per_token',\n",
       "       'feature.revision.parent.uppercase_words_per_word',\n",
       "       'feature.revision.parent.markups_per_token',\n",
       "       'feature.wikitext.revision.diff.markup_delta_sum',\n",
       "       'feature.wikitext.revision.diff.markup_delta_increase',\n",
       "       'feature.wikitext.revision.diff.markup_delta_decrease',\n",
       "       'feature.wikitext.revision.diff.markup_prop_delta_sum',\n",
       "       'feature.wikitext.revision.diff.markup_prop_delta_increase',\n",
       "       'feature.wikitext.revision.diff.markup_prop_delta_decrease',\n",
       "       'feature.wikitext.revision.diff.number_delta_sum',\n",
       "       'feature.wikitext.revision.diff.number_delta_increase',\n",
       "       'feature.wikitext.revision.diff.number_delta_decrease',\n",
       "       'feature.wikitext.revision.diff.number_prop_delta_sum',\n",
       "       'feature.wikitext.revision.diff.number_prop_delta_increase',\n",
       "       'feature.wikitext.revision.diff.number_prop_delta_decrease',\n",
       "       'feature.wikitext.revision.diff.uppercase_word_delta_sum',\n",
       "       'feature.wikitext.revision.diff.uppercase_word_delta_increase',\n",
       "       'feature.wikitext.revision.diff.uppercase_word_delta_decrease',\n",
       "       'feature.wikitext.revision.diff.uppercase_word_prop_delta_sum',\n",
       "       'feature.wikitext.revision.diff.uppercase_word_prop_delta_increase',\n",
       "       'feature.wikitext.revision.diff.uppercase_word_prop_delta_decrease',\n",
       "       'feature.revision.diff.chars_change',\n",
       "       'feature.revision.diff.tokens_change',\n",
       "       'feature.revision.diff.words_change',\n",
       "       'feature.revision.diff.markups_change',\n",
       "       'feature.revision.diff.headings_change',\n",
       "       'feature.revision.diff.external_links_change',\n",
       "       'feature.revision.diff.wikilinks_change',\n",
       "       'feature.revision.diff.templates_change',\n",
       "       'feature.revision.diff.tags_change',\n",
       "       'feature.revision.diff.ref_tags_change',\n",
       "       'feature.revision.diff.longest_new_token',\n",
       "       'feature.revision.diff.longest_new_repeated_char',\n",
       "       'feature.revision.user.is_bot',\n",
       "       'feature.revision.user.has_advanced_rights',\n",
       "       'feature.revision.user.is_admin', 'feature.revision.user.is_trusted',\n",
       "       'feature.revision.user.is_patroller',\n",
       "       'feature.revision.user.is_curator', 'feature.revision.user.is_anon',\n",
       "       'feature.log((temporal.revision.user.seconds_since_registration + 1))',\n",
       "       'feature.revision.comment.suggests_section_edit',\n",
       "       'feature.revision.comment.has_link',\n",
       "       'feature.english.badwords.revision.diff.match_delta_sum',\n",
       "       'feature.english.badwords.revision.diff.match_delta_increase',\n",
       "       'feature.english.badwords.revision.diff.match_delta_decrease',\n",
       "       'feature.english.badwords.revision.diff.match_prop_delta_sum',\n",
       "       'feature.english.badwords.revision.diff.match_prop_delta_increase',\n",
       "       'feature.english.badwords.revision.diff.match_prop_delta_decrease',\n",
       "       'feature.english.informals.revision.diff.match_delta_sum',\n",
       "       'feature.english.informals.revision.diff.match_delta_increase',\n",
       "       'feature.english.informals.revision.diff.match_delta_decrease',\n",
       "       'feature.english.informals.revision.diff.match_prop_delta_sum',\n",
       "       'feature.english.informals.revision.diff.match_prop_delta_increase',\n",
       "       'feature.english.informals.revision.diff.match_prop_delta_decrease',\n",
       "       'feature.english.dictionary.revision.diff.dict_word_delta_sum',\n",
       "       'feature.english.dictionary.revision.diff.dict_word_delta_increase',\n",
       "       'feature.english.dictionary.revision.diff.dict_word_delta_decrease',\n",
       "       'feature.english.dictionary.revision.diff.dict_word_prop_delta_sum',\n",
       "       'feature.english.dictionary.revision.diff.dict_word_prop_delta_increase',\n",
       "       'feature.english.dictionary.revision.diff.dict_word_prop_delta_decrease',\n",
       "       'feature.english.dictionary.revision.diff.non_dict_word_delta_sum',\n",
       "       'feature.english.dictionary.revision.diff.non_dict_word_delta_increase',\n",
       "       'feature.english.dictionary.revision.diff.non_dict_word_delta_decrease',\n",
       "       'feature.english.dictionary.revision.diff.non_dict_word_prop_delta_sum',\n",
       "       'feature.english.dictionary.revision.diff.non_dict_word_prop_delta_increase',\n",
       "       'feature.english.dictionary.revision.diff.non_dict_word_prop_delta_decrease',\n",
       "       'damaging'],\n",
       "      dtype='object')"
      ]
     },
     "execution_count": 23,
     "metadata": {},
     "output_type": "execute_result"
    }
   ],
   "source": [
    "train.columns"
   ]
  },
  {
   "cell_type": "code",
   "execution_count": 36,
   "metadata": {},
   "outputs": [
    {
     "data": {
      "image/png": "[encoded data removed]",
      "text/plain": [
       "<Figure size 360x360 with 1 Axes>"
      ]
     },
     "metadata": {
      "needs_background": "light"
     },
     "output_type": "display_data"
    }
   ],
   "source": [
    "x = train['feature.log((len(<datasource.tokenized(datasource.revision.parent.text)>) + 1))']\n",
    "y = train['feature.log((wikitext.revision.parent.wikilinks + 1))']\n",
    "fig, ax = plt.subplots(1, 1, figsize=(5,5))\n",
    "plt.hist2d(x, y, bins=25, norm=matplotlib.colors.LogNorm())\n",
    "plt.xlabel(\"Parent Token Count (log)\")\n",
    "plt.ylabel(\"Parent Wikilink Count (log)\")\n",
    "plt.show()"
   ]
  },
  {
   "cell_type": "code",
   "execution_count": null,
   "metadata": {},
   "outputs": [],
   "source": []
  }
 ],
 "metadata": {
  "kernelspec": {
   "display_name": "Flagon Python3",
   "language": "python",
   "name": "flagon-conda-env"
  },
  "language_info": {
   "codemirror_mode": {
    "name": "ipython",
    "version": 3
   },
   "file_extension": ".py",
   "mimetype": "text/x-python",
   "name": "python",
   "nbconvert_exporter": "python",
   "pygments_lexer": "ipython3",
   "version": "3.7.6"
  }
 },
 "nbformat": 4,
 "nbformat_minor": 4
}
