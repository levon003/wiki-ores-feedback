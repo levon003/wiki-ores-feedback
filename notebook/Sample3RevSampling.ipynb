{
 "cells": [
  {
   "cell_type": "markdown",
   "metadata": {},
   "source": [
    "Sample 3 Revision Sampling\n",
    "===\n",
    "\n",
    "Includes all but the first 2018 revision in namespace 0.\n",
    "\n",
    "We're sampling only in 2018 (so that we have all of 2019 to observe reverts)"
   ]
  },
  {
   "cell_type": "code",
   "execution_count": 1,
   "metadata": {},
   "outputs": [],
   "source": [
    "import mwapi\n",
    "import mwxml\n",
    "import mwxml.utilities\n",
    "import mwcli\n",
    "import mwreverts\n",
    "import oresapi\n",
    "import mwparserfromhell"
   ]
  },
  {
   "cell_type": "code",
   "execution_count": 2,
   "metadata": {},
   "outputs": [],
   "source": [
    "import numpy as np\n",
    "import pandas as pd\n",
    "import matplotlib.pyplot as plt\n",
    "import matplotlib"
   ]
  },
  {
   "cell_type": "code",
   "execution_count": 3,
   "metadata": {},
   "outputs": [],
   "source": [
    "import os\n",
    "from tqdm import tqdm\n",
    "import bz2\n",
    "import gzip\n",
    "import json\n",
    "import re\n",
    "import hashlib\n",
    "from datetime import datetime\n",
    "import nltk\n",
    "import scipy.stats\n",
    "import para\n",
    "from itertools import groupby\n",
    "from collections import Counter"
   ]
  },
  {
   "cell_type": "code",
   "execution_count": 4,
   "metadata": {},
   "outputs": [
    {
     "data": {
      "text/plain": [
       "'/export/scratch2/levon003/repos/wiki-ores-feedback'"
      ]
     },
     "execution_count": 4,
     "metadata": {},
     "output_type": "execute_result"
    }
   ],
   "source": [
    "git_root_dir = !git rev-parse --show-toplevel\n",
    "git_root_dir = git_root_dir[0]\n",
    "git_root_dir"
   ]
  },
  {
   "cell_type": "code",
   "execution_count": 5,
   "metadata": {},
   "outputs": [
    {
     "data": {
      "text/plain": [
       "('/export/scratch2/wiki_data',\n",
       " '/export/scratch2/levon003/repos/wiki-ores-feedback/data/derived')"
      ]
     },
     "execution_count": 5,
     "metadata": {},
     "output_type": "execute_result"
    }
   ],
   "source": [
    "raw_data_dir = \"/export/scratch2/wiki_data\"\n",
    "derived_data_dir = os.path.join(git_root_dir, \"data\", \"derived\")\n",
    "raw_data_dir, derived_data_dir"
   ]
  },
  {
   "cell_type": "code",
   "execution_count": 6,
   "metadata": {},
   "outputs": [
    {
     "data": {
      "text/plain": [
       "'/export/scratch2/levon003/repos/wiki-ores-feedback/data/derived/revision_sample'"
      ]
     },
     "execution_count": 6,
     "metadata": {},
     "output_type": "execute_result"
    }
   ],
   "source": [
    "working_dir = os.path.join(derived_data_dir, 'revision_sample')\n",
    "os.makedirs(working_dir, exist_ok=True)\n",
    "working_dir"
   ]
  },
  {
   "cell_type": "code",
   "execution_count": 7,
   "metadata": {},
   "outputs": [
    {
     "data": {
      "text/plain": [
       "(1514786400, 1577858400)"
      ]
     },
     "execution_count": 7,
     "metadata": {},
     "output_type": "execute_result"
    }
   ],
   "source": [
    "# NOTE TIMESTAMP BUG\n",
    "# These incorrectly use CT, rather than UTC, as the boundaries for the data collection period\n",
    "# This is completely fine, but it's probably not what most analysts would think\n",
    "start_date = datetime.fromisoformat('2018-01-01')\n",
    "start_timestamp = int(start_date.timestamp())\n",
    "end_date = datetime.fromisoformat('2020-01-01')\n",
    "end_timestamp = int(end_date.timestamp())\n",
    "start_timestamp, end_timestamp"
   ]
  },
  {
   "cell_type": "code",
   "execution_count": 8,
   "metadata": {},
   "outputs": [],
   "source": [
    "sample_start_timestamp = start_timestamp\n",
    "sample_end_date = datetime.fromisoformat('2019-01-01')\n",
    "sample_end_timestamp = int(sample_end_date.timestamp())"
   ]
  },
  {
   "cell_type": "markdown",
   "metadata": {},
   "source": [
    "### Load in all revisions\n",
    "\n",
    "Which excludes revisions outside of 2018-2020 and only for pages in ns0 and non-redirects."
   ]
  },
  {
   "cell_type": "code",
   "execution_count": 9,
   "metadata": {},
   "outputs": [
    {
     "name": "stdout",
     "output_type": "stream",
     "text": [
      "0:00:34.623254\n"
     ]
    },
    {
     "data": {
      "text/plain": [
       "77287697"
      ]
     },
     "execution_count": 9,
     "metadata": {},
     "output_type": "execute_result"
    }
   ],
   "source": [
    "start = datetime.now()\n",
    "stub_history_reverts_dir = os.path.join(derived_data_dir, 'stub-history-reverts')\n",
    "rev_ids_filepath = os.path.join(stub_history_reverts_dir, 'rev_ids_sorted.csv')\n",
    "df = pd.read_csv(rev_ids_filepath,\n",
    "                 header=None, \n",
    "                 names=['page_id', 'rev_id', 'rev_timestamp', 'is_revert_target', 'is_reverted', 'is_reverting']\n",
    ")\n",
    "print(f\"{datetime.now() - start}\")\n",
    "len(df)"
   ]
  },
  {
   "cell_type": "code",
   "execution_count": 10,
   "metadata": {},
   "outputs": [
    {
     "data": {
      "text/html": [
       "<div>\n",
       "<style scoped>\n",
       "    .dataframe tbody tr th:only-of-type {\n",
       "        vertical-align: middle;\n",
       "    }\n",
       "\n",
       "    .dataframe tbody tr th {\n",
       "        vertical-align: top;\n",
       "    }\n",
       "\n",
       "    .dataframe thead th {\n",
       "        text-align: right;\n",
       "    }\n",
       "</style>\n",
       "<table border=\"1\" class=\"dataframe\">\n",
       "  <thead>\n",
       "    <tr style=\"text-align: right;\">\n",
       "      <th></th>\n",
       "      <th>page_id</th>\n",
       "      <th>rev_id</th>\n",
       "      <th>rev_timestamp</th>\n",
       "      <th>is_revert_target</th>\n",
       "      <th>is_reverted</th>\n",
       "      <th>is_reverting</th>\n",
       "    </tr>\n",
       "  </thead>\n",
       "  <tbody>\n",
       "    <tr>\n",
       "      <th>0</th>\n",
       "      <td>12</td>\n",
       "      <td>818611292</td>\n",
       "      <td>1515101356</td>\n",
       "      <td>0</td>\n",
       "      <td>0</td>\n",
       "      <td>0</td>\n",
       "    </tr>\n",
       "    <tr>\n",
       "      <th>1</th>\n",
       "      <td>12</td>\n",
       "      <td>818613649</td>\n",
       "      <td>1515102279</td>\n",
       "      <td>0</td>\n",
       "      <td>0</td>\n",
       "      <td>0</td>\n",
       "    </tr>\n",
       "    <tr>\n",
       "      <th>2</th>\n",
       "      <td>12</td>\n",
       "      <td>818624114</td>\n",
       "      <td>1515106953</td>\n",
       "      <td>1</td>\n",
       "      <td>0</td>\n",
       "      <td>0</td>\n",
       "    </tr>\n",
       "    <tr>\n",
       "      <th>3</th>\n",
       "      <td>12</td>\n",
       "      <td>820024812</td>\n",
       "      <td>1515798752</td>\n",
       "      <td>0</td>\n",
       "      <td>1</td>\n",
       "      <td>0</td>\n",
       "    </tr>\n",
       "    <tr>\n",
       "      <th>4</th>\n",
       "      <td>12</td>\n",
       "      <td>820025687</td>\n",
       "      <td>1515799060</td>\n",
       "      <td>0</td>\n",
       "      <td>0</td>\n",
       "      <td>1</td>\n",
       "    </tr>\n",
       "  </tbody>\n",
       "</table>\n",
       "</div>"
      ],
      "text/plain": [
       "   page_id     rev_id  rev_timestamp  is_revert_target  is_reverted  \\\n",
       "0       12  818611292     1515101356                 0            0   \n",
       "1       12  818613649     1515102279                 0            0   \n",
       "2       12  818624114     1515106953                 1            0   \n",
       "3       12  820024812     1515798752                 0            1   \n",
       "4       12  820025687     1515799060                 0            0   \n",
       "\n",
       "   is_reverting  \n",
       "0             0  \n",
       "1             0  \n",
       "2             0  \n",
       "3             0  \n",
       "4             1  "
      ]
     },
     "execution_count": 10,
     "metadata": {},
     "output_type": "execute_result"
    }
   ],
   "source": [
    "df.head()"
   ]
  },
  {
   "cell_type": "code",
   "execution_count": 11,
   "metadata": {},
   "outputs": [
    {
     "data": {
      "text/plain": [
       "5338582"
      ]
     },
     "execution_count": 11,
     "metadata": {},
     "output_type": "execute_result"
    }
   ],
   "source": [
    "# number of unique pages in this sample\n",
    "page_ids_set = set(df.page_id)\n",
    "len(page_ids_set)"
   ]
  },
  {
   "cell_type": "code",
   "execution_count": 12,
   "metadata": {},
   "outputs": [
    {
     "data": {
      "text/plain": [
       "5992682"
      ]
     },
     "execution_count": 12,
     "metadata": {},
     "output_type": "execute_result"
    }
   ],
   "source": [
    "# Read the revert info\n",
    "stub_history_reverts_dir = os.path.join(derived_data_dir, 'stub-history-reverts')\n",
    "revert_df_filepath = os.path.join(stub_history_reverts_dir, 'revert_df.pkl')\n",
    "revert_df = pd.read_pickle(revert_df_filepath)\n",
    "len(revert_df)"
   ]
  },
  {
   "cell_type": "code",
   "execution_count": 13,
   "metadata": {},
   "outputs": [
    {
     "data": {
      "text/html": [
       "<div>\n",
       "<style scoped>\n",
       "    .dataframe tbody tr th:only-of-type {\n",
       "        vertical-align: middle;\n",
       "    }\n",
       "\n",
       "    .dataframe tbody tr th {\n",
       "        vertical-align: top;\n",
       "    }\n",
       "\n",
       "    .dataframe thead th {\n",
       "        text-align: right;\n",
       "    }\n",
       "</style>\n",
       "<table border=\"1\" class=\"dataframe\">\n",
       "  <thead>\n",
       "    <tr style=\"text-align: right;\">\n",
       "      <th></th>\n",
       "      <th>page_id</th>\n",
       "      <th>reverted_count</th>\n",
       "      <th>reverting_rev_id</th>\n",
       "      <th>reverting_timestamp</th>\n",
       "      <th>reverting_user_text</th>\n",
       "      <th>reverting_user_id</th>\n",
       "      <th>reverted_to_rev_id</th>\n",
       "      <th>reverted_to_timestamp</th>\n",
       "      <th>reverted_to_user_text</th>\n",
       "      <th>reverted_to_user_id</th>\n",
       "      <th>reverted_rev_ids</th>\n",
       "      <th>reverted_timestamps</th>\n",
       "      <th>reverted_user_texts</th>\n",
       "      <th>reverted_user_ids</th>\n",
       "      <th>reverting_user_is_anonymous</th>\n",
       "      <th>reverted_to_user_is_anonymous</th>\n",
       "      <th>reverted_users_is_anonymous</th>\n",
       "    </tr>\n",
       "  </thead>\n",
       "  <tbody>\n",
       "    <tr>\n",
       "      <th>0</th>\n",
       "      <td>18754764</td>\n",
       "      <td>1</td>\n",
       "      <td>902766646</td>\n",
       "      <td>1561105801</td>\n",
       "      <td>Malcolmxl5</td>\n",
       "      <td>4076676.0</td>\n",
       "      <td>874884880</td>\n",
       "      <td>1545481829</td>\n",
       "      <td>Hmains</td>\n",
       "      <td>508734.0</td>\n",
       "      <td>[900328973]</td>\n",
       "      <td>[1559706521]</td>\n",
       "      <td>[2601:199:417F:8EED:A0B0:A6B5:3457:A9B4]</td>\n",
       "      <td>[None]</td>\n",
       "      <td>False</td>\n",
       "      <td>False</td>\n",
       "      <td>[True]</td>\n",
       "    </tr>\n",
       "    <tr>\n",
       "      <th>1</th>\n",
       "      <td>18754831</td>\n",
       "      <td>2</td>\n",
       "      <td>818980415</td>\n",
       "      <td>1515284429</td>\n",
       "      <td>BrownHairedGirl</td>\n",
       "      <td>754619.0</td>\n",
       "      <td>743241620</td>\n",
       "      <td>1475970276</td>\n",
       "      <td>Emir of Wikipedia</td>\n",
       "      <td>28856560.0</td>\n",
       "      <td>[757539852, 775847398]</td>\n",
       "      <td>[1483188655, 1492452285]</td>\n",
       "      <td>[Ser Amantio di Nicolao, Emir of Wikipedia]</td>\n",
       "      <td>[753665, 28856560]</td>\n",
       "      <td>False</td>\n",
       "      <td>False</td>\n",
       "      <td>[False, False]</td>\n",
       "    </tr>\n",
       "    <tr>\n",
       "      <th>2</th>\n",
       "      <td>18754831</td>\n",
       "      <td>1</td>\n",
       "      <td>932235094</td>\n",
       "      <td>1577204938</td>\n",
       "      <td>UA3</td>\n",
       "      <td>25923702.0</td>\n",
       "      <td>918313790</td>\n",
       "      <td>1569654385</td>\n",
       "      <td>Monkbot</td>\n",
       "      <td>20483999.0</td>\n",
       "      <td>[932233860]</td>\n",
       "      <td>[1577204033]</td>\n",
       "      <td>[Qowa]</td>\n",
       "      <td>[37692801]</td>\n",
       "      <td>False</td>\n",
       "      <td>False</td>\n",
       "      <td>[False]</td>\n",
       "    </tr>\n",
       "  </tbody>\n",
       "</table>\n",
       "</div>"
      ],
      "text/plain": [
       "    page_id  reverted_count  reverting_rev_id  reverting_timestamp  \\\n",
       "0  18754764               1         902766646           1561105801   \n",
       "1  18754831               2         818980415           1515284429   \n",
       "2  18754831               1         932235094           1577204938   \n",
       "\n",
       "  reverting_user_text  reverting_user_id  reverted_to_rev_id  \\\n",
       "0          Malcolmxl5          4076676.0           874884880   \n",
       "1     BrownHairedGirl           754619.0           743241620   \n",
       "2                 UA3         25923702.0           918313790   \n",
       "\n",
       "   reverted_to_timestamp reverted_to_user_text  reverted_to_user_id  \\\n",
       "0             1545481829                Hmains             508734.0   \n",
       "1             1475970276     Emir of Wikipedia           28856560.0   \n",
       "2             1569654385               Monkbot           20483999.0   \n",
       "\n",
       "         reverted_rev_ids       reverted_timestamps  \\\n",
       "0             [900328973]              [1559706521]   \n",
       "1  [757539852, 775847398]  [1483188655, 1492452285]   \n",
       "2             [932233860]              [1577204033]   \n",
       "\n",
       "                           reverted_user_texts   reverted_user_ids  \\\n",
       "0     [2601:199:417F:8EED:A0B0:A6B5:3457:A9B4]              [None]   \n",
       "1  [Ser Amantio di Nicolao, Emir of Wikipedia]  [753665, 28856560]   \n",
       "2                                       [Qowa]          [37692801]   \n",
       "\n",
       "   reverting_user_is_anonymous  reverted_to_user_is_anonymous  \\\n",
       "0                        False                          False   \n",
       "1                        False                          False   \n",
       "2                        False                          False   \n",
       "\n",
       "  reverted_users_is_anonymous  \n",
       "0                      [True]  \n",
       "1              [False, False]  \n",
       "2                     [False]  "
      ]
     },
     "execution_count": 13,
     "metadata": {},
     "output_type": "execute_result"
    }
   ],
   "source": [
    "revert_df.head(3)"
   ]
  },
  {
   "cell_type": "code",
   "execution_count": 14,
   "metadata": {},
   "outputs": [
    {
     "name": "stdout",
     "output_type": "stream",
     "text": [
      "0:00:36.341802\n"
     ]
    },
    {
     "data": {
      "text/plain": [
       "5338582"
      ]
     },
     "execution_count": 14,
     "metadata": {},
     "output_type": "execute_result"
    }
   ],
   "source": [
    "start = datetime.now()\n",
    "page_df = df.groupby('page_id').agg({\n",
    "    'rev_id': len,\n",
    "    'is_reverted': np.sum,\n",
    "    'is_reverting': np.sum\n",
    "}).rename(columns={\n",
    "    'rev_id': 'revision_count',\n",
    "    'is_reverted': 'reverted_count',\n",
    "    'is_reverting': 'revert_count'\n",
    "})\n",
    "print(f\"{datetime.now() - start}\")\n",
    "len(page_df)"
   ]
  },
  {
   "cell_type": "code",
   "execution_count": 15,
   "metadata": {},
   "outputs": [
    {
     "data": {
      "text/html": [
       "<div>\n",
       "<style scoped>\n",
       "    .dataframe tbody tr th:only-of-type {\n",
       "        vertical-align: middle;\n",
       "    }\n",
       "\n",
       "    .dataframe tbody tr th {\n",
       "        vertical-align: top;\n",
       "    }\n",
       "\n",
       "    .dataframe thead th {\n",
       "        text-align: right;\n",
       "    }\n",
       "</style>\n",
       "<table border=\"1\" class=\"dataframe\">\n",
       "  <thead>\n",
       "    <tr style=\"text-align: right;\">\n",
       "      <th></th>\n",
       "      <th>revision_count</th>\n",
       "      <th>reverted_count</th>\n",
       "      <th>revert_count</th>\n",
       "    </tr>\n",
       "    <tr>\n",
       "      <th>page_id</th>\n",
       "      <th></th>\n",
       "      <th></th>\n",
       "      <th></th>\n",
       "    </tr>\n",
       "  </thead>\n",
       "  <tbody>\n",
       "    <tr>\n",
       "      <th>1311775</th>\n",
       "      <td>1</td>\n",
       "      <td>0</td>\n",
       "      <td>0</td>\n",
       "    </tr>\n",
       "    <tr>\n",
       "      <th>3442760</th>\n",
       "      <td>3</td>\n",
       "      <td>0</td>\n",
       "      <td>0</td>\n",
       "    </tr>\n",
       "    <tr>\n",
       "      <th>1192891</th>\n",
       "      <td>12</td>\n",
       "      <td>0</td>\n",
       "      <td>0</td>\n",
       "    </tr>\n",
       "  </tbody>\n",
       "</table>\n",
       "</div>"
      ],
      "text/plain": [
       "         revision_count  reverted_count  revert_count\n",
       "page_id                                              \n",
       "1311775               1               0             0\n",
       "3442760               3               0             0\n",
       "1192891              12               0             0"
      ]
     },
     "execution_count": 15,
     "metadata": {},
     "output_type": "execute_result"
    }
   ],
   "source": [
    "page_df.sample(3)"
   ]
  },
  {
   "cell_type": "code",
   "execution_count": 23,
   "metadata": {},
   "outputs": [
    {
     "name": "stderr",
     "output_type": "stream",
     "text": [
      "100%|██████████| 77287697/77287697 [02:40<00:00, 480639.23it/s]\n"
     ]
    },
    {
     "data": {
      "text/plain": [
       "4351583"
      ]
     },
     "execution_count": 23,
     "metadata": {},
     "output_type": "execute_result"
    }
   ],
   "source": [
    "eligible_for_sampling = []\n",
    "curr_page_id = -1\n",
    "first_page_omitted_in_2018_count = 0\n",
    "for tup in tqdm(df.itertuples(), total=len(df)):\n",
    "    if tup.page_id != curr_page_id:\n",
    "        curr_page_id = tup.page_id\n",
    "        # can never sample the FIRST post-2018 revision\n",
    "        eligible_for_sampling.append(False)\n",
    "        # keep track of the number of revisions that are omitted entirely because they are the first\n",
    "        # (should be <= the number of unique pages)\n",
    "        if tup.rev_timestamp <= sample_end_timestamp:\n",
    "            first_page_omitted_in_2018_count += 1\n",
    "    else:\n",
    "        is_eligible = tup.rev_timestamp <= sample_end_timestamp\n",
    "        eligible_for_sampling.append(is_eligible)\n",
    "first_page_omitted_in_2018_count"
   ]
  },
  {
   "cell_type": "code",
   "execution_count": 17,
   "metadata": {},
   "outputs": [
    {
     "data": {
      "text/plain": [
       "(33964442, 0.43945470389679225)"
      ]
     },
     "execution_count": 17,
     "metadata": {},
     "output_type": "execute_result"
    }
   ],
   "source": [
    "df['is_sample_eligible'] = eligible_for_sampling\n",
    "# after filtering, only 43.9% are actually eligible...\n",
    "np.sum(df.is_sample_eligible), np.sum(df.is_sample_eligible) / len(df)"
   ]
  },
  {
   "cell_type": "code",
   "execution_count": 18,
   "metadata": {},
   "outputs": [],
   "source": [
    "df = df.reset_index().rename(columns={'index': 'full_index'})"
   ]
  },
  {
   "cell_type": "markdown",
   "metadata": {},
   "source": [
    "## Sample version 3\n",
    "\n",
    "Includes all revisions that meet the sampling criteria."
   ]
  },
  {
   "cell_type": "code",
   "execution_count": 19,
   "metadata": {},
   "outputs": [
    {
     "data": {
      "text/plain": [
       "33964442"
      ]
     },
     "execution_count": 19,
     "metadata": {},
     "output_type": "execute_result"
    }
   ],
   "source": [
    "sample = df[df.is_sample_eligible]\n",
    "len(sample)"
   ]
  },
  {
   "cell_type": "code",
   "execution_count": 20,
   "metadata": {},
   "outputs": [
    {
     "data": {
      "text/plain": [
       "(4026444, 0.11854880465870749)"
      ]
     },
     "execution_count": 20,
     "metadata": {},
     "output_type": "execute_result"
    }
   ],
   "source": [
    "# 11.9% of the sample are reverted\n",
    "np.sum(sample.is_reverted), np.sum(sample.is_reverted) / len(sample)"
   ]
  },
  {
   "cell_type": "code",
   "execution_count": 21,
   "metadata": {},
   "outputs": [
    {
     "data": {
      "text/plain": [
       "(3043796, 0.08961713547362268)"
      ]
     },
     "execution_count": 21,
     "metadata": {},
     "output_type": "execute_result"
    }
   ],
   "source": [
    "# 9.0% of the sample are reverts\n",
    "np.sum(sample.is_reverting), np.sum(sample.is_reverting) / len(sample)"
   ]
  },
  {
   "cell_type": "code",
   "execution_count": 22,
   "metadata": {},
   "outputs": [
    {
     "data": {
      "text/plain": [
       "(3279818, 0.6143612667183908)"
      ]
     },
     "execution_count": 22,
     "metadata": {},
     "output_type": "execute_result"
    }
   ],
   "source": [
    "# 6.1% of pages with 1+ revision are included in the sample\n",
    "len(set(sample.page_id)), len(set(sample.page_id)) / len(page_ids_set)"
   ]
  },
  {
   "cell_type": "code",
   "execution_count": 32,
   "metadata": {},
   "outputs": [],
   "source": [
    "matched_sample = df.loc[sample.index - 1]\n",
    "assert len(matched_sample) == len(sample)\n",
    "assert np.all(sample.page_id.reset_index(drop=True) == matched_sample.page_id.reset_index(drop=True))"
   ]
  },
  {
   "cell_type": "code",
   "execution_count": 33,
   "metadata": {},
   "outputs": [
    {
     "data": {
      "text/html": [
       "<div>\n",
       "<style scoped>\n",
       "    .dataframe tbody tr th:only-of-type {\n",
       "        vertical-align: middle;\n",
       "    }\n",
       "\n",
       "    .dataframe tbody tr th {\n",
       "        vertical-align: top;\n",
       "    }\n",
       "\n",
       "    .dataframe thead th {\n",
       "        text-align: right;\n",
       "    }\n",
       "</style>\n",
       "<table border=\"1\" class=\"dataframe\">\n",
       "  <thead>\n",
       "    <tr style=\"text-align: right;\">\n",
       "      <th></th>\n",
       "      <th>full_index</th>\n",
       "      <th>page_id</th>\n",
       "      <th>rev_id</th>\n",
       "      <th>rev_timestamp</th>\n",
       "      <th>is_revert_target</th>\n",
       "      <th>is_reverted</th>\n",
       "      <th>is_reverting</th>\n",
       "      <th>is_sample_eligible</th>\n",
       "      <th>prev_rev_id</th>\n",
       "    </tr>\n",
       "  </thead>\n",
       "  <tbody>\n",
       "    <tr>\n",
       "      <th>1</th>\n",
       "      <td>1</td>\n",
       "      <td>12</td>\n",
       "      <td>818613649</td>\n",
       "      <td>1515102279</td>\n",
       "      <td>0</td>\n",
       "      <td>0</td>\n",
       "      <td>0</td>\n",
       "      <td>True</td>\n",
       "      <td>818611292</td>\n",
       "    </tr>\n",
       "    <tr>\n",
       "      <th>2</th>\n",
       "      <td>2</td>\n",
       "      <td>12</td>\n",
       "      <td>818624114</td>\n",
       "      <td>1515106953</td>\n",
       "      <td>1</td>\n",
       "      <td>0</td>\n",
       "      <td>0</td>\n",
       "      <td>True</td>\n",
       "      <td>818613649</td>\n",
       "    </tr>\n",
       "    <tr>\n",
       "      <th>3</th>\n",
       "      <td>3</td>\n",
       "      <td>12</td>\n",
       "      <td>820024812</td>\n",
       "      <td>1515798752</td>\n",
       "      <td>0</td>\n",
       "      <td>1</td>\n",
       "      <td>0</td>\n",
       "      <td>True</td>\n",
       "      <td>818624114</td>\n",
       "    </tr>\n",
       "  </tbody>\n",
       "</table>\n",
       "</div>"
      ],
      "text/plain": [
       "   full_index  page_id     rev_id  rev_timestamp  is_revert_target  \\\n",
       "1           1       12  818613649     1515102279                 0   \n",
       "2           2       12  818624114     1515106953                 1   \n",
       "3           3       12  820024812     1515798752                 0   \n",
       "\n",
       "   is_reverted  is_reverting  is_sample_eligible  prev_rev_id  \n",
       "1            0             0                True    818611292  \n",
       "2            0             0                True    818613649  \n",
       "3            1             0                True    818624114  "
      ]
     },
     "execution_count": 33,
     "metadata": {},
     "output_type": "execute_result"
    }
   ],
   "source": [
    "sample = sample.assign(prev_rev_id=matched_sample.rev_id.tolist())\n",
    "sample.head(3)"
   ]
  },
  {
   "cell_type": "code",
   "execution_count": 34,
   "metadata": {},
   "outputs": [
    {
     "name": "stdout",
     "output_type": "stream",
     "text": [
      "33424856 / 33964442 sampled revisions have 1+ subsequent revision in 2018 or 2019.\n"
     ]
    }
   ],
   "source": [
    "matched_sample = df.loc[sample.index + 1]\n",
    "assert len(matched_sample) == len(sample)\n",
    "sample['next_rev_id'] = -1\n",
    "idx = np.array(sample.page_id.tolist()) == np.array(matched_sample.page_id.tolist())\n",
    "print(f\"{np.sum(idx)} / {len(sample)} sampled revisions have 1+ subsequent revision in 2018 or 2019.\")\n",
    "sample.loc[idx, 'next_rev_id'] = matched_sample[idx].rev_id.tolist()"
   ]
  },
  {
   "cell_type": "code",
   "execution_count": 35,
   "metadata": {},
   "outputs": [
    {
     "name": "stderr",
     "output_type": "stream",
     "text": [
      "100%|██████████| 77287697/77287697 [02:43<00:00, 473897.81it/s]\n"
     ]
    }
   ],
   "source": [
    "# get the timestamp of the previous and next revisions\n",
    "rev_id_timestamp_dict = {tup.rev_id: tup.rev_timestamp for tup in tqdm(df.itertuples(), total=len(df))}\n",
    "sample['prev_rev_timestamp'] = sample.prev_rev_id.map(lambda prev_rev_id: rev_id_timestamp_dict[prev_rev_id])\n",
    "sample['next_rev_timestamp'] = sample.next_rev_id.map(lambda next_rev_id: rev_id_timestamp_dict[next_rev_id] if next_rev_id != -1 else -1)"
   ]
  },
  {
   "cell_type": "code",
   "execution_count": 36,
   "metadata": {},
   "outputs": [
    {
     "name": "stdout",
     "output_type": "stream",
     "text": [
      "539586 sample revisions (1.59%) have no next revision in the collected data range.\n"
     ]
    }
   ],
   "source": [
    "no_next_rev_count = np.sum(sample.next_rev_timestamp == -1)\n",
    "print(f\"{no_next_rev_count} sample revisions ({no_next_rev_count / len(sample)*100:.2f}%) have no next revision in the collected data range.\")"
   ]
  },
  {
   "cell_type": "code",
   "execution_count": 37,
   "metadata": {},
   "outputs": [
    {
     "data": {
      "text/html": [
       "<div>\n",
       "<style scoped>\n",
       "    .dataframe tbody tr th:only-of-type {\n",
       "        vertical-align: middle;\n",
       "    }\n",
       "\n",
       "    .dataframe tbody tr th {\n",
       "        vertical-align: top;\n",
       "    }\n",
       "\n",
       "    .dataframe thead th {\n",
       "        text-align: right;\n",
       "    }\n",
       "</style>\n",
       "<table border=\"1\" class=\"dataframe\">\n",
       "  <thead>\n",
       "    <tr style=\"text-align: right;\">\n",
       "      <th></th>\n",
       "      <th>full_index</th>\n",
       "      <th>page_id</th>\n",
       "      <th>rev_id</th>\n",
       "      <th>rev_timestamp</th>\n",
       "      <th>is_revert_target</th>\n",
       "      <th>is_reverted</th>\n",
       "      <th>is_reverting</th>\n",
       "      <th>is_sample_eligible</th>\n",
       "      <th>prev_rev_id</th>\n",
       "      <th>next_rev_id</th>\n",
       "      <th>prev_rev_timestamp</th>\n",
       "      <th>next_rev_timestamp</th>\n",
       "    </tr>\n",
       "  </thead>\n",
       "  <tbody>\n",
       "    <tr>\n",
       "      <th>1</th>\n",
       "      <td>1</td>\n",
       "      <td>12</td>\n",
       "      <td>818613649</td>\n",
       "      <td>1515102279</td>\n",
       "      <td>0</td>\n",
       "      <td>0</td>\n",
       "      <td>0</td>\n",
       "      <td>True</td>\n",
       "      <td>818611292</td>\n",
       "      <td>818624114</td>\n",
       "      <td>1515101356</td>\n",
       "      <td>1515106953</td>\n",
       "    </tr>\n",
       "    <tr>\n",
       "      <th>2</th>\n",
       "      <td>2</td>\n",
       "      <td>12</td>\n",
       "      <td>818624114</td>\n",
       "      <td>1515106953</td>\n",
       "      <td>1</td>\n",
       "      <td>0</td>\n",
       "      <td>0</td>\n",
       "      <td>True</td>\n",
       "      <td>818613649</td>\n",
       "      <td>820024812</td>\n",
       "      <td>1515102279</td>\n",
       "      <td>1515798752</td>\n",
       "    </tr>\n",
       "    <tr>\n",
       "      <th>3</th>\n",
       "      <td>3</td>\n",
       "      <td>12</td>\n",
       "      <td>820024812</td>\n",
       "      <td>1515798752</td>\n",
       "      <td>0</td>\n",
       "      <td>1</td>\n",
       "      <td>0</td>\n",
       "      <td>True</td>\n",
       "      <td>818624114</td>\n",
       "      <td>820025687</td>\n",
       "      <td>1515106953</td>\n",
       "      <td>1515799060</td>\n",
       "    </tr>\n",
       "    <tr>\n",
       "      <th>4</th>\n",
       "      <td>4</td>\n",
       "      <td>12</td>\n",
       "      <td>820025687</td>\n",
       "      <td>1515799060</td>\n",
       "      <td>0</td>\n",
       "      <td>0</td>\n",
       "      <td>1</td>\n",
       "      <td>True</td>\n",
       "      <td>820024812</td>\n",
       "      <td>820703495</td>\n",
       "      <td>1515798752</td>\n",
       "      <td>1516095884</td>\n",
       "    </tr>\n",
       "    <tr>\n",
       "      <th>5</th>\n",
       "      <td>5</td>\n",
       "      <td>12</td>\n",
       "      <td>820703495</td>\n",
       "      <td>1516095884</td>\n",
       "      <td>0</td>\n",
       "      <td>0</td>\n",
       "      <td>0</td>\n",
       "      <td>True</td>\n",
       "      <td>820025687</td>\n",
       "      <td>821673418</td>\n",
       "      <td>1515799060</td>\n",
       "      <td>1516597634</td>\n",
       "    </tr>\n",
       "  </tbody>\n",
       "</table>\n",
       "</div>"
      ],
      "text/plain": [
       "   full_index  page_id     rev_id  rev_timestamp  is_revert_target  \\\n",
       "1           1       12  818613649     1515102279                 0   \n",
       "2           2       12  818624114     1515106953                 1   \n",
       "3           3       12  820024812     1515798752                 0   \n",
       "4           4       12  820025687     1515799060                 0   \n",
       "5           5       12  820703495     1516095884                 0   \n",
       "\n",
       "   is_reverted  is_reverting  is_sample_eligible  prev_rev_id  next_rev_id  \\\n",
       "1            0             0                True    818611292    818624114   \n",
       "2            0             0                True    818613649    820024812   \n",
       "3            1             0                True    818624114    820025687   \n",
       "4            0             1                True    820024812    820703495   \n",
       "5            0             0                True    820025687    821673418   \n",
       "\n",
       "   prev_rev_timestamp  next_rev_timestamp  \n",
       "1          1515101356          1515106953  \n",
       "2          1515102279          1515798752  \n",
       "3          1515106953          1515799060  \n",
       "4          1515798752          1516095884  \n",
       "5          1515799060          1516597634  "
      ]
     },
     "execution_count": 37,
     "metadata": {},
     "output_type": "execute_result"
    }
   ],
   "source": [
    "sample.head()"
   ]
  },
  {
   "cell_type": "code",
   "execution_count": 38,
   "metadata": {},
   "outputs": [
    {
     "name": "stderr",
     "output_type": "stream",
     "text": [
      "100%|██████████| 5992682/5992682 [00:24<00:00, 246557.92it/s]\n"
     ]
    }
   ],
   "source": [
    "sample_reverting_rev_ids = set(sample[sample.is_reverting==1].rev_id)\n",
    "reverting_rev_id_to_reverted_ids_dict = {\n",
    "    row.reverting_rev_id: row.reverted_rev_ids\n",
    "    for row in tqdm(revert_df.itertuples(), total=len(revert_df))\n",
    "    if row.reverting_rev_id in sample_reverting_rev_ids\n",
    "}"
   ]
  },
  {
   "cell_type": "code",
   "execution_count": 39,
   "metadata": {},
   "outputs": [],
   "source": [
    "# for reverting revisions in the sample, merge in the list of reverted_rev_ids\n",
    "# using the dictionary computed in the cell above\n",
    "reverted_rev_ids_list = []\n",
    "for tup in sample.itertuples(): \n",
    "    if tup.is_reverting == 1:\n",
    "        reverted_rev_ids = reverting_rev_id_to_reverted_ids_dict[tup.rev_id]\n",
    "        reverted_rev_ids_list.append(reverted_rev_ids)\n",
    "    else:\n",
    "        reverted_rev_ids_list.append([])\n",
    "sample['reverted_rev_ids'] = reverted_rev_ids_list"
   ]
  },
  {
   "cell_type": "code",
   "execution_count": 40,
   "metadata": {},
   "outputs": [
    {
     "name": "stderr",
     "output_type": "stream",
     "text": [
      "100%|██████████| 5992682/5992682 [00:26<00:00, 223455.47it/s]\n"
     ]
    }
   ],
   "source": [
    "reverted_to_reverting_rev_id_dict = {}\n",
    "for tup in tqdm(revert_df.itertuples(), total=len(revert_df)):\n",
    "    for rev_id in tup.reverted_rev_ids:\n",
    "        reverted_to_reverting_rev_id_dict[rev_id] = tup.reverting_rev_id"
   ]
  },
  {
   "cell_type": "code",
   "execution_count": 41,
   "metadata": {},
   "outputs": [],
   "source": [
    "# grab the reverting id for reverted revisions\n",
    "sample['reverting_rev_id'] = -1\n",
    "sample.loc[sample.is_reverted==1,'reverting_rev_id'] = [\n",
    "    reverted_to_reverting_rev_id_dict[rev_id] for rev_id in sample.loc[sample.is_reverted==1].rev_id\n",
    "]"
   ]
  },
  {
   "cell_type": "code",
   "execution_count": 42,
   "metadata": {},
   "outputs": [],
   "source": [
    "# merge in the time of the reverting revision\n",
    "sample['reverting_rev_timestamp'] = -1\n",
    "reverting_rev_timestamp_dict = {tup.rev_id: tup.rev_timestamp for tup in df[df.is_reverting==1].itertuples()}\n",
    "sample.loc[sample.is_reverted==1,'reverting_rev_timestamp'] = [\n",
    "    reverting_rev_timestamp_dict[rev_id] for rev_id in sample.loc[sample.is_reverted==1].reverting_rev_id\n",
    "]"
   ]
  },
  {
   "cell_type": "code",
   "execution_count": 43,
   "metadata": {},
   "outputs": [
    {
     "data": {
      "text/html": [
       "<div>\n",
       "<style scoped>\n",
       "    .dataframe tbody tr th:only-of-type {\n",
       "        vertical-align: middle;\n",
       "    }\n",
       "\n",
       "    .dataframe tbody tr th {\n",
       "        vertical-align: top;\n",
       "    }\n",
       "\n",
       "    .dataframe thead th {\n",
       "        text-align: right;\n",
       "    }\n",
       "</style>\n",
       "<table border=\"1\" class=\"dataframe\">\n",
       "  <thead>\n",
       "    <tr style=\"text-align: right;\">\n",
       "      <th></th>\n",
       "      <th>full_index</th>\n",
       "      <th>page_id</th>\n",
       "      <th>rev_id</th>\n",
       "      <th>rev_timestamp</th>\n",
       "      <th>is_revert_target</th>\n",
       "      <th>is_reverted</th>\n",
       "      <th>is_reverting</th>\n",
       "      <th>is_sample_eligible</th>\n",
       "      <th>prev_rev_id</th>\n",
       "      <th>next_rev_id</th>\n",
       "      <th>prev_rev_timestamp</th>\n",
       "      <th>next_rev_timestamp</th>\n",
       "      <th>reverted_rev_ids</th>\n",
       "      <th>reverting_rev_id</th>\n",
       "      <th>reverting_rev_timestamp</th>\n",
       "    </tr>\n",
       "  </thead>\n",
       "  <tbody>\n",
       "    <tr>\n",
       "      <th>3</th>\n",
       "      <td>3</td>\n",
       "      <td>12</td>\n",
       "      <td>820024812</td>\n",
       "      <td>1515798752</td>\n",
       "      <td>0</td>\n",
       "      <td>1</td>\n",
       "      <td>0</td>\n",
       "      <td>True</td>\n",
       "      <td>818624114</td>\n",
       "      <td>820025687</td>\n",
       "      <td>1515106953</td>\n",
       "      <td>1515799060</td>\n",
       "      <td>[]</td>\n",
       "      <td>820025687</td>\n",
       "      <td>1515799060</td>\n",
       "    </tr>\n",
       "    <tr>\n",
       "      <th>10</th>\n",
       "      <td>10</td>\n",
       "      <td>12</td>\n",
       "      <td>823350009</td>\n",
       "      <td>1517446536</td>\n",
       "      <td>0</td>\n",
       "      <td>1</td>\n",
       "      <td>0</td>\n",
       "      <td>True</td>\n",
       "      <td>822837753</td>\n",
       "      <td>823354824</td>\n",
       "      <td>1517192137</td>\n",
       "      <td>1517448629</td>\n",
       "      <td>[]</td>\n",
       "      <td>823354824</td>\n",
       "      <td>1517448629</td>\n",
       "    </tr>\n",
       "    <tr>\n",
       "      <th>12</th>\n",
       "      <td>12</td>\n",
       "      <td>12</td>\n",
       "      <td>824519722</td>\n",
       "      <td>1518058732</td>\n",
       "      <td>0</td>\n",
       "      <td>1</td>\n",
       "      <td>0</td>\n",
       "      <td>True</td>\n",
       "      <td>823354824</td>\n",
       "      <td>824519733</td>\n",
       "      <td>1517448629</td>\n",
       "      <td>1518058739</td>\n",
       "      <td>[]</td>\n",
       "      <td>824519733</td>\n",
       "      <td>1518058739</td>\n",
       "    </tr>\n",
       "    <tr>\n",
       "      <th>15</th>\n",
       "      <td>15</td>\n",
       "      <td>12</td>\n",
       "      <td>825641740</td>\n",
       "      <td>1518642861</td>\n",
       "      <td>0</td>\n",
       "      <td>1</td>\n",
       "      <td>0</td>\n",
       "      <td>True</td>\n",
       "      <td>824867074</td>\n",
       "      <td>825644123</td>\n",
       "      <td>1518243924</td>\n",
       "      <td>1518643933</td>\n",
       "      <td>[]</td>\n",
       "      <td>825644123</td>\n",
       "      <td>1518643933</td>\n",
       "    </tr>\n",
       "    <tr>\n",
       "      <th>21</th>\n",
       "      <td>21</td>\n",
       "      <td>12</td>\n",
       "      <td>827021220</td>\n",
       "      <td>1519311846</td>\n",
       "      <td>0</td>\n",
       "      <td>1</td>\n",
       "      <td>0</td>\n",
       "      <td>True</td>\n",
       "      <td>826532523</td>\n",
       "      <td>827022627</td>\n",
       "      <td>1519084253</td>\n",
       "      <td>1519312376</td>\n",
       "      <td>[]</td>\n",
       "      <td>827025661</td>\n",
       "      <td>1519314642</td>\n",
       "    </tr>\n",
       "  </tbody>\n",
       "</table>\n",
       "</div>"
      ],
      "text/plain": [
       "    full_index  page_id     rev_id  rev_timestamp  is_revert_target  \\\n",
       "3            3       12  820024812     1515798752                 0   \n",
       "10          10       12  823350009     1517446536                 0   \n",
       "12          12       12  824519722     1518058732                 0   \n",
       "15          15       12  825641740     1518642861                 0   \n",
       "21          21       12  827021220     1519311846                 0   \n",
       "\n",
       "    is_reverted  is_reverting  is_sample_eligible  prev_rev_id  next_rev_id  \\\n",
       "3             1             0                True    818624114    820025687   \n",
       "10            1             0                True    822837753    823354824   \n",
       "12            1             0                True    823354824    824519733   \n",
       "15            1             0                True    824867074    825644123   \n",
       "21            1             0                True    826532523    827022627   \n",
       "\n",
       "    prev_rev_timestamp  next_rev_timestamp reverted_rev_ids  reverting_rev_id  \\\n",
       "3           1515106953          1515799060               []         820025687   \n",
       "10          1517192137          1517448629               []         823354824   \n",
       "12          1517448629          1518058739               []         824519733   \n",
       "15          1518243924          1518643933               []         825644123   \n",
       "21          1519084253          1519312376               []         827025661   \n",
       "\n",
       "    reverting_rev_timestamp  \n",
       "3                1515799060  \n",
       "10               1517448629  \n",
       "12               1518058739  \n",
       "15               1518643933  \n",
       "21               1519314642  "
      ]
     },
     "execution_count": 43,
     "metadata": {},
     "output_type": "execute_result"
    }
   ],
   "source": [
    "sample[sample.is_reverted==1].head()"
   ]
  },
  {
   "cell_type": "code",
   "execution_count": 44,
   "metadata": {},
   "outputs": [
    {
     "data": {
      "text/html": [
       "<div>\n",
       "<style scoped>\n",
       "    .dataframe tbody tr th:only-of-type {\n",
       "        vertical-align: middle;\n",
       "    }\n",
       "\n",
       "    .dataframe tbody tr th {\n",
       "        vertical-align: top;\n",
       "    }\n",
       "\n",
       "    .dataframe thead th {\n",
       "        text-align: right;\n",
       "    }\n",
       "</style>\n",
       "<table border=\"1\" class=\"dataframe\">\n",
       "  <thead>\n",
       "    <tr style=\"text-align: right;\">\n",
       "      <th></th>\n",
       "      <th>page_id</th>\n",
       "      <th>rev_id</th>\n",
       "      <th>rev_timestamp</th>\n",
       "      <th>is_revert_target</th>\n",
       "      <th>is_reverted</th>\n",
       "      <th>is_reverting</th>\n",
       "      <th>is_sample_eligible</th>\n",
       "      <th>prev_rev_id</th>\n",
       "      <th>next_rev_id</th>\n",
       "      <th>prev_rev_timestamp</th>\n",
       "      <th>next_rev_timestamp</th>\n",
       "      <th>reverted_rev_ids</th>\n",
       "      <th>reverting_rev_id</th>\n",
       "      <th>reverting_rev_timestamp</th>\n",
       "    </tr>\n",
       "  </thead>\n",
       "  <tbody>\n",
       "    <tr>\n",
       "      <th>1</th>\n",
       "      <td>12</td>\n",
       "      <td>818613649</td>\n",
       "      <td>1515102279</td>\n",
       "      <td>0</td>\n",
       "      <td>0</td>\n",
       "      <td>0</td>\n",
       "      <td>True</td>\n",
       "      <td>818611292</td>\n",
       "      <td>818624114</td>\n",
       "      <td>1515101356</td>\n",
       "      <td>1515106953</td>\n",
       "      <td>[]</td>\n",
       "      <td>-1</td>\n",
       "      <td>-1</td>\n",
       "    </tr>\n",
       "  </tbody>\n",
       "</table>\n",
       "</div>"
      ],
      "text/plain": [
       "   page_id     rev_id  rev_timestamp  is_revert_target  is_reverted  \\\n",
       "1       12  818613649     1515102279                 0            0   \n",
       "\n",
       "   is_reverting  is_sample_eligible  prev_rev_id  next_rev_id  \\\n",
       "1             0                True    818611292    818624114   \n",
       "\n",
       "   prev_rev_timestamp  next_rev_timestamp reverted_rev_ids  reverting_rev_id  \\\n",
       "1          1515101356          1515106953               []                -1   \n",
       "\n",
       "   reverting_rev_timestamp  \n",
       "1                       -1  "
      ]
     },
     "execution_count": 44,
     "metadata": {},
     "output_type": "execute_result"
    }
   ],
   "source": [
    "sample = sample.drop(columns='full_index')\n",
    "sample.head(1)"
   ]
  },
  {
   "cell_type": "code",
   "execution_count": 45,
   "metadata": {},
   "outputs": [
    {
     "name": "stdout",
     "output_type": "stream",
     "text": [
      "Finished.\n"
     ]
    }
   ],
   "source": [
    "# save the sample\n",
    "sample_filepath = os.path.join(working_dir, 'sample3_all.pkl')\n",
    "sample.to_pickle(sample_filepath)\n",
    "print(\"Finished.\")"
   ]
  },
  {
   "cell_type": "code",
   "execution_count": 46,
   "metadata": {},
   "outputs": [
    {
     "data": {
      "text/plain": [
       "33964442"
      ]
     },
     "execution_count": 46,
     "metadata": {},
     "output_type": "execute_result"
    }
   ],
   "source": [
    "# read in the sample dataframe\n",
    "revision_sample_dir = os.path.join(derived_data_dir, 'revision_sample')\n",
    "sample_filepath = os.path.join(revision_sample_dir, 'sample3_all.pkl')\n",
    "rev_df = pd.read_pickle(sample_filepath)\n",
    "len(rev_df)"
   ]
  },
  {
   "cell_type": "code",
   "execution_count": 47,
   "metadata": {},
   "outputs": [
    {
     "data": {
      "text/html": [
       "<div>\n",
       "<style scoped>\n",
       "    .dataframe tbody tr th:only-of-type {\n",
       "        vertical-align: middle;\n",
       "    }\n",
       "\n",
       "    .dataframe tbody tr th {\n",
       "        vertical-align: top;\n",
       "    }\n",
       "\n",
       "    .dataframe thead th {\n",
       "        text-align: right;\n",
       "    }\n",
       "</style>\n",
       "<table border=\"1\" class=\"dataframe\">\n",
       "  <thead>\n",
       "    <tr style=\"text-align: right;\">\n",
       "      <th></th>\n",
       "      <th>page_id</th>\n",
       "      <th>rev_id</th>\n",
       "      <th>rev_timestamp</th>\n",
       "      <th>is_revert_target</th>\n",
       "      <th>is_reverted</th>\n",
       "      <th>is_reverting</th>\n",
       "      <th>is_sample_eligible</th>\n",
       "      <th>prev_rev_id</th>\n",
       "      <th>next_rev_id</th>\n",
       "      <th>prev_rev_timestamp</th>\n",
       "      <th>next_rev_timestamp</th>\n",
       "      <th>reverted_rev_ids</th>\n",
       "      <th>reverting_rev_id</th>\n",
       "      <th>reverting_rev_timestamp</th>\n",
       "    </tr>\n",
       "  </thead>\n",
       "  <tbody>\n",
       "    <tr>\n",
       "      <th>1</th>\n",
       "      <td>12</td>\n",
       "      <td>818613649</td>\n",
       "      <td>1515102279</td>\n",
       "      <td>0</td>\n",
       "      <td>0</td>\n",
       "      <td>0</td>\n",
       "      <td>True</td>\n",
       "      <td>818611292</td>\n",
       "      <td>818624114</td>\n",
       "      <td>1515101356</td>\n",
       "      <td>1515106953</td>\n",
       "      <td>[]</td>\n",
       "      <td>-1</td>\n",
       "      <td>-1</td>\n",
       "    </tr>\n",
       "    <tr>\n",
       "      <th>2</th>\n",
       "      <td>12</td>\n",
       "      <td>818624114</td>\n",
       "      <td>1515106953</td>\n",
       "      <td>1</td>\n",
       "      <td>0</td>\n",
       "      <td>0</td>\n",
       "      <td>True</td>\n",
       "      <td>818613649</td>\n",
       "      <td>820024812</td>\n",
       "      <td>1515102279</td>\n",
       "      <td>1515798752</td>\n",
       "      <td>[]</td>\n",
       "      <td>-1</td>\n",
       "      <td>-1</td>\n",
       "    </tr>\n",
       "    <tr>\n",
       "      <th>3</th>\n",
       "      <td>12</td>\n",
       "      <td>820024812</td>\n",
       "      <td>1515798752</td>\n",
       "      <td>0</td>\n",
       "      <td>1</td>\n",
       "      <td>0</td>\n",
       "      <td>True</td>\n",
       "      <td>818624114</td>\n",
       "      <td>820025687</td>\n",
       "      <td>1515106953</td>\n",
       "      <td>1515799060</td>\n",
       "      <td>[]</td>\n",
       "      <td>820025687</td>\n",
       "      <td>1515799060</td>\n",
       "    </tr>\n",
       "    <tr>\n",
       "      <th>4</th>\n",
       "      <td>12</td>\n",
       "      <td>820025687</td>\n",
       "      <td>1515799060</td>\n",
       "      <td>0</td>\n",
       "      <td>0</td>\n",
       "      <td>1</td>\n",
       "      <td>True</td>\n",
       "      <td>820024812</td>\n",
       "      <td>820703495</td>\n",
       "      <td>1515798752</td>\n",
       "      <td>1516095884</td>\n",
       "      <td>[820024812]</td>\n",
       "      <td>-1</td>\n",
       "      <td>-1</td>\n",
       "    </tr>\n",
       "    <tr>\n",
       "      <th>5</th>\n",
       "      <td>12</td>\n",
       "      <td>820703495</td>\n",
       "      <td>1516095884</td>\n",
       "      <td>0</td>\n",
       "      <td>0</td>\n",
       "      <td>0</td>\n",
       "      <td>True</td>\n",
       "      <td>820025687</td>\n",
       "      <td>821673418</td>\n",
       "      <td>1515799060</td>\n",
       "      <td>1516597634</td>\n",
       "      <td>[]</td>\n",
       "      <td>-1</td>\n",
       "      <td>-1</td>\n",
       "    </tr>\n",
       "  </tbody>\n",
       "</table>\n",
       "</div>"
      ],
      "text/plain": [
       "   page_id     rev_id  rev_timestamp  is_revert_target  is_reverted  \\\n",
       "1       12  818613649     1515102279                 0            0   \n",
       "2       12  818624114     1515106953                 1            0   \n",
       "3       12  820024812     1515798752                 0            1   \n",
       "4       12  820025687     1515799060                 0            0   \n",
       "5       12  820703495     1516095884                 0            0   \n",
       "\n",
       "   is_reverting  is_sample_eligible  prev_rev_id  next_rev_id  \\\n",
       "1             0                True    818611292    818624114   \n",
       "2             0                True    818613649    820024812   \n",
       "3             0                True    818624114    820025687   \n",
       "4             1                True    820024812    820703495   \n",
       "5             0                True    820025687    821673418   \n",
       "\n",
       "   prev_rev_timestamp  next_rev_timestamp reverted_rev_ids  reverting_rev_id  \\\n",
       "1          1515101356          1515106953               []                -1   \n",
       "2          1515102279          1515798752               []                -1   \n",
       "3          1515106953          1515799060               []         820025687   \n",
       "4          1515798752          1516095884      [820024812]                -1   \n",
       "5          1515799060          1516597634               []                -1   \n",
       "\n",
       "   reverting_rev_timestamp  \n",
       "1                       -1  \n",
       "2                       -1  \n",
       "3               1515799060  \n",
       "4                       -1  \n",
       "5                       -1  "
      ]
     },
     "execution_count": 47,
     "metadata": {},
     "output_type": "execute_result"
    }
   ],
   "source": [
    "rev_df.head()"
   ]
  },
  {
   "cell_type": "code",
   "execution_count": null,
   "metadata": {},
   "outputs": [],
   "source": []
  }
 ],
 "metadata": {
  "kernelspec": {
   "display_name": "Flagon Python3",
   "language": "python",
   "name": "flagon-conda-env"
  },
  "language_info": {
   "codemirror_mode": {
    "name": "ipython",
    "version": 3
   },
   "file_extension": ".py",
   "mimetype": "text/x-python",
   "name": "python",
   "nbconvert_exporter": "python",
   "pygments_lexer": "ipython3",
   "version": "3.7.9"
  }
 },
 "nbformat": 4,
 "nbformat_minor": 4
}
