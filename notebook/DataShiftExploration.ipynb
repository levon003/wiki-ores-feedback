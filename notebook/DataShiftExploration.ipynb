{
 "cells": [
  {
   "cell_type": "markdown",
   "metadata": {},
   "source": [
    "## Data Shift Exploration\n",
    "\n",
    "Mocking labeled revisions so that rev-scoring can be applied.\n",
    "\n",
    "\n",
    "#### More on ORES filters:\n",
    "\n",
    "https://www.mediawiki.org/wiki/ORES/RCFilters\n",
    "\n",
    "[Enwiki ORES model statistics and filter settings](https://en.wikipedia.org/wiki/Special:ORESModels)\n",
    "\n",
    "#### Analysis plan:\n",
    "\n",
    "Basic intuition:\n",
    "\n",
    "For continuous variables, use the two-sample K-S test.\n",
    "For binary variables, use the two-sample Chi Squared.  (Could consider a G-test instead...)\n",
    "\n",
    "To compare source and target distribution, conduct a test for each variable independently.  Then, apply Bonf. correction for the multiple comparisons (Bonf. correction equal to the number of variables.)\n",
    "Then, reject the null hypothesis if the minimum p-value among all tests is less than 0.05/K (K is number of tests).\n",
    "Thus, ANY significant difference after correction is taken to be evidence of distribution shift.\n",
    "\n",
    "\n",
    "How to measure magnitude?\n",
    "This is a hard problem... Could sum the Earth Mover's Distance, perhaps?  But, would want to normalize by the range of the feature in some way.\n",
    "I need to do more reading about how to quantify the magnitude of a data shift.\n",
    "Could use multivariate KL divergence?\n",
    "\n",
    "Could also use a Multivariate test:\n",
    "Consider either Maximum Mean Discrepancy (as Lipton used) or Cramer's test: https://cran.r-project.org/web/packages/cramer/cramer.pdf\n",
    "\n",
    "Should also train a classifier "
   ]
  },
  {
   "cell_type": "code",
   "execution_count": 1,
   "metadata": {},
   "outputs": [],
   "source": [
    "import numpy as np\n",
    "import pandas as pd\n",
    "import matplotlib.pyplot as plt\n",
    "import matplotlib"
   ]
  },
  {
   "cell_type": "code",
   "execution_count": 2,
   "metadata": {},
   "outputs": [],
   "source": [
    "import mwapi\n",
    "import mwxml\n",
    "import mwxml.utilities\n",
    "import mwcli\n",
    "import mwreverts\n",
    "import oresapi\n",
    "import mwparserfromhell"
   ]
  },
  {
   "cell_type": "code",
   "execution_count": 3,
   "metadata": {},
   "outputs": [],
   "source": [
    "import os\n",
    "import requests\n",
    "from tqdm import tqdm\n",
    "import bz2\n",
    "import gzip\n",
    "import json\n",
    "import re\n",
    "import hashlib\n",
    "from datetime import datetime\n",
    "import nltk\n",
    "import scipy.stats\n",
    "import para\n",
    "from itertools import groupby\n",
    "from collections import Counter\n",
    "import time"
   ]
  },
  {
   "cell_type": "code",
   "execution_count": 4,
   "metadata": {},
   "outputs": [
    {
     "data": {
      "text/plain": [
       "'/export/scratch2/levon003/repos/wiki-ores-feedback'"
      ]
     },
     "execution_count": 4,
     "metadata": {},
     "output_type": "execute_result"
    }
   ],
   "source": [
    "git_root_dir = !git rev-parse --show-toplevel\n",
    "git_root_dir = git_root_dir[0]\n",
    "git_root_dir"
   ]
  },
  {
   "cell_type": "code",
   "execution_count": 5,
   "metadata": {},
   "outputs": [],
   "source": [
    "working_dir = os.path.join(git_root_dir, 'data/derived/data-shifts')\n",
    "os.makedirs(working_dir, exist_ok=True)"
   ]
  },
  {
   "cell_type": "code",
   "execution_count": 6,
   "metadata": {},
   "outputs": [],
   "source": [
    "revisions_features_filepath = os.path.join(git_root_dir, \"data/raw/editquality/datasets/enwiki.labeled_revisions.20k_2015.damaging.tsv\")\n",
    "assert os.path.exists(revisions_features_filepath)"
   ]
  },
  {
   "cell_type": "markdown",
   "metadata": {},
   "source": [
    "### Load training features"
   ]
  },
  {
   "cell_type": "code",
   "execution_count": 7,
   "metadata": {},
   "outputs": [
    {
     "data": {
      "text/plain": [
       "19348"
      ]
     },
     "execution_count": 7,
     "metadata": {},
     "output_type": "execute_result"
    }
   ],
   "source": [
    "features_df = pd.read_csv(revisions_features_filepath, sep='\\t', header=0)\n",
    "len(features_df)"
   ]
  },
  {
   "cell_type": "code",
   "execution_count": 8,
   "metadata": {},
   "outputs": [
    {
     "data": {
      "text/plain": [
       "19348"
      ]
     },
     "execution_count": 8,
     "metadata": {},
     "output_type": "execute_result"
    }
   ],
   "source": [
    "rev_list = []\n",
    "revisions_with_cache_filepath = os.path.join(git_root_dir, \"data/raw/editquality/datasets/enwiki.labeled_revisions.w_cache.20k_2015.json\")\n",
    "with open(revisions_with_cache_filepath, 'r') as infile:\n",
    "    for line in infile:\n",
    "        rev = json.loads(line)\n",
    "        rev_list.append({\n",
    "            'rev_id': rev['rev_id'],\n",
    "            'damaging': rev['damaging'],\n",
    "            'goodfaith': rev['goodfaith']\n",
    "        })\n",
    "df = pd.DataFrame(rev_list)\n",
    "len(df)"
   ]
  },
  {
   "cell_type": "code",
   "execution_count": 9,
   "metadata": {},
   "outputs": [],
   "source": [
    "df = pd.concat([df, features_df], axis=1)"
   ]
  },
  {
   "cell_type": "code",
   "execution_count": 10,
   "metadata": {},
   "outputs": [
    {
     "data": {
      "text/plain": [
       "'19344 / 19348 (99.98%) training revisions have associated content.'"
      ]
     },
     "execution_count": 10,
     "metadata": {},
     "output_type": "execute_result"
    }
   ],
   "source": [
    "# Load in the labeled revisions content data\n",
    "labeled_revs_dir = os.path.join(git_root_dir, \"data/derived/labeled-revs\")\n",
    "labeled_revs_filepath = os.path.join(labeled_revs_dir, 'labeled_revisions.20k_2015.content.ndjson')\n",
    "results = []\n",
    "with open(labeled_revs_filepath, 'r') as infile:\n",
    "    for line in infile:\n",
    "        result = json.loads(line)\n",
    "        results.append(result)\n",
    "\n",
    "#Identify revision ids for which content is available\n",
    "rev_ids_with_content = set()\n",
    "for result in results:\n",
    "    for page in result['pages']:\n",
    "        for rev in page['revisions']:\n",
    "            rev_id = rev['revid']\n",
    "            rev_ids_with_content.add(rev_id)\n",
    "df['has_content'] = df.rev_id.map(lambda rev_id: rev_id in rev_ids_with_content)\n",
    "f\"{np.sum(df.has_content)} / {len(df)} ({np.sum(df.has_content) / len(df)*100:.2f}%) training revisions have associated content.\""
   ]
  },
  {
   "cell_type": "code",
   "execution_count": 11,
   "metadata": {},
   "outputs": [
    {
     "data": {
      "text/plain": [
       "(19348, 81)"
      ]
     },
     "execution_count": 11,
     "metadata": {},
     "output_type": "execute_result"
    }
   ],
   "source": [
    "#features_df = df.loc[df.has_content,features_df.columns]\n",
    "features_df.shape"
   ]
  },
  {
   "cell_type": "code",
   "execution_count": 11,
   "metadata": {},
   "outputs": [
    {
     "data": {
      "text/plain": [
       "13559"
      ]
     },
     "execution_count": 11,
     "metadata": {},
     "output_type": "execute_result"
    }
   ],
   "source": [
    "should_filter_to_sample1_criteria = False\n",
    "if should_filter_to_sample1_criteria:\n",
    "    rev_ids_meeting_criteria = set()\n",
    "    for result in results:\n",
    "        for page in result['pages']:\n",
    "            if page['ns'] != 0 or 'redirect' in page:\n",
    "                continue\n",
    "            for rev in page['revisions']:\n",
    "                rev_id = rev['revid']\n",
    "                rev_ids_meeting_criteria.add(rev_id)\n",
    "    df['meets_criteria'] = df.rev_id.map(lambda rev_id: rev_id in rev_ids_meeting_criteria)\n",
    "    print(len(rev_ids_meeting_criteria))\n",
    "    \n",
    "    features_df = df.loc[df.meets_criteria,features_df.columns]\n",
    "    print(features_df.shape)"
   ]
  },
  {
   "cell_type": "markdown",
   "metadata": {},
   "source": [
    "### Load sample1 features"
   ]
  },
  {
   "cell_type": "code",
   "execution_count": 12,
   "metadata": {},
   "outputs": [],
   "source": [
    "raw_data_dir = \"/export/scratch2/wiki_data\"\n",
    "derived_data_dir = os.path.join(git_root_dir, \"data\", \"derived\")\n",
    "mock_features_filepath = os.path.join(git_root_dir, \"data/derived/labeled-revs/sample1.mock.damaging.tsv\")"
   ]
  },
  {
   "cell_type": "code",
   "execution_count": 13,
   "metadata": {},
   "outputs": [
    {
     "data": {
      "text/plain": [
       "458449"
      ]
     },
     "execution_count": 13,
     "metadata": {},
     "output_type": "execute_result"
    }
   ],
   "source": [
    "mock_features_df = pd.read_csv(mock_features_filepath, sep='\\t', header=0)\n",
    "len(mock_features_df)"
   ]
  },
  {
   "cell_type": "markdown",
   "metadata": {},
   "source": [
    "### Load month_sample features"
   ]
  },
  {
   "cell_type": "code",
   "execution_count": 14,
   "metadata": {},
   "outputs": [],
   "source": [
    "month_sample_features_dir = \"/export/scratch2/levon003/repos/wiki-ores-feedback/data/derived/stub-history-all-revisions/month_sample/revscoring_features\"\n",
    "month_sample_filepath = os.path.join(month_sample_features_dir, \"rev_ids_month_sample_2015_01.mock.damaging.tsv\")"
   ]
  },
  {
   "cell_type": "code",
   "execution_count": 15,
   "metadata": {},
   "outputs": [
    {
     "data": {
      "text/plain": [
       "99789"
      ]
     },
     "execution_count": 15,
     "metadata": {},
     "output_type": "execute_result"
    }
   ],
   "source": [
    "month_sample_df = pd.read_csv(month_sample_filepath, sep='\\t', header=0)\n",
    "len(month_sample_df)"
   ]
  },
  {
   "cell_type": "code",
   "execution_count": 12,
   "metadata": {},
   "outputs": [],
   "source": [
    "# load all the month feature dataframes\n",
    "month_sample_features_dir = \"/export/scratch2/levon003/repos/wiki-ores-feedback/data/derived/stub-history-all-revisions/month_sample/revscoring_features\"\n",
    "year = 2014\n",
    "month = 4\n",
    "month_id_list = []\n",
    "month_feature_df_list = []\n",
    "while year != 2020:\n",
    "    month_sample_filepath = os.path.join(month_sample_features_dir, \n",
    "                                         f\"rev_ids_month_sample_{year}_{month:0>2}.mock.damaging.tsv\")\n",
    "    assert os.path.exists(month_sample_filepath), f\"Path '{month_sample_filepath}' not found.\"\n",
    "    month_features_df = pd.read_csv(month_sample_filepath, sep='\\t', header=0)\n",
    "    assert len(month_features_df >= 19800)\n",
    "    month_id_list.append(int(f\"{year}{month:0>2}\"))\n",
    "    month_feature_df_list.append(month_features_df)\n",
    "    month += 1\n",
    "    if month == 13:\n",
    "        month = 1\n",
    "        year += 1"
   ]
  },
  {
   "cell_type": "code",
   "execution_count": 13,
   "metadata": {},
   "outputs": [
    {
     "data": {
      "text/plain": [
       "1374901"
      ]
     },
     "execution_count": 13,
     "metadata": {},
     "output_type": "execute_result"
    }
   ],
   "source": [
    "# total revisions across the month sample\n",
    "sum(map(len, month_feature_df_list))"
   ]
  },
  {
   "cell_type": "markdown",
   "metadata": {},
   "source": [
    "### Multiple Univariate Testing"
   ]
  },
  {
   "cell_type": "code",
   "execution_count": 69,
   "metadata": {},
   "outputs": [],
   "source": [
    "# define source and target dataframes\n",
    "sdf = features_df.drop(columns='damaging')\n",
    "#tdf = month_sample_df.drop(columns='damaging')\n",
    "tdf = mock_features_df.drop(columns='damaging')"
   ]
  },
  {
   "cell_type": "code",
   "execution_count": 70,
   "metadata": {},
   "outputs": [
    {
     "data": {
      "text/plain": [
       "((13529, 80), (458449, 80))"
      ]
     },
     "execution_count": 70,
     "metadata": {},
     "output_type": "execute_result"
    }
   ],
   "source": [
    "sdf.shape, tdf.shape"
   ]
  },
  {
   "cell_type": "code",
   "execution_count": 56,
   "metadata": {},
   "outputs": [
    {
     "data": {
      "text/plain": [
       "feature.revision.page.is_articleish                                                   bool\n",
       "feature.revision.page.is_mainspace                                                    bool\n",
       "feature.revision.page.is_draftspace                                                   bool\n",
       "feature.log((wikitext.revision.parent.chars + 1))                                  float64\n",
       "feature.log((len(<datasource.tokenized(datasource.revision.parent.text)>) + 1))    float64\n",
       "                                                                                    ...   \n",
       "feature.english.dictionary.revision.diff.non_dict_word_delta_increase                int64\n",
       "feature.english.dictionary.revision.diff.non_dict_word_delta_decrease                int64\n",
       "feature.english.dictionary.revision.diff.non_dict_word_prop_delta_sum              float64\n",
       "feature.english.dictionary.revision.diff.non_dict_word_prop_delta_increase         float64\n",
       "feature.english.dictionary.revision.diff.non_dict_word_prop_delta_decrease         float64\n",
       "Length: 80, dtype: object"
      ]
     },
     "execution_count": 56,
     "metadata": {},
     "output_type": "execute_result"
    }
   ],
   "source": [
    "sdf.dtypes"
   ]
  },
  {
   "cell_type": "code",
   "execution_count": 57,
   "metadata": {},
   "outputs": [
    {
     "name": "stderr",
     "output_type": "stream",
     "text": [
      "/export/scratch2/levon003/bin/anaconda3/lib/python3.7/site-packages/ipykernel_launcher.py:31: RuntimeWarning: divide by zero encountered in double_scalars\n"
     ]
    },
    {
     "name": "stdout",
     "output_type": "stream",
     "text": [
      "Feature Name                                                            Feat. Type p-value S T   Diff\n",
      "====================================================================================================\n",
      "log((wikitext.revision.parent.ref_tags + 1))                            continuous   0.000 Y Y   0.92 (2.32) 39.7%\n",
      "log((wikitext.revision.parent.external_links + 1))                      continuous   0.000 Y Y   0.87 (2.28) 38.1%\n",
      "log((wikitext.revision.parent.templates + 1))                           continuous   0.000 Y Y   0.98 (3.02) 32.4%\n",
      "log((wikitext.revision.parent.headings + 1))                            continuous   0.000 Y Y   0.47 (2.11) 22.2%\n",
      "log((wikitext.revision.parent.wikilinks + 1))                           continuous   0.000 Y Y   0.73 (4.12) 17.7%\n",
      "log((len(<datasource.wikitext.revision.parent.words>) + 1))             continuous   0.000 Y Y   0.90 (6.97) 12.9%\n",
      "log((len(<datasource.tokenized(datasource.revision.parent.text)>) + 1)) continuous   0.000 Y Y   0.93 (8.01) 11.6%\n",
      "log((wikitext.revision.parent.chars + 1))                               continuous   0.000 Y Y   0.98 (9.08) 10.7%\n",
      "log((temporal.revision.user.seconds_since_registration + 1))            continuous   0.000 Y Y  -0.47 (13.50) -3.5%\n",
      "log((len(<datasource.wikitext.revision.parent.uppercase_words>) + 1))   continuous   0.000 Y Y   0.62 (3.13) 19.7%\n",
      "revision.parent.chars_per_word                                          continuous   0.000 Y -   0.20 (8.92) 2.3%\n",
      "wikitext.revision.diff.markup_prop_delta_increase                       continuous   0.000 Y -  -0.99 (1.90) -52.0%\n",
      "wikitext.revision.diff.markup_prop_delta_sum                            continuous   0.000 Y -  -0.96 (1.82) -52.8%\n",
      "revision.parent.uppercase_words_per_word                                continuous   0.000 Y Y  -0.01 (0.03) -20.5%\n",
      "revision.parent.markups_per_token                                       continuous   0.000 Y -   0.00 (0.09) 1.2%\n",
      "english.dictionary.revision.diff.dict_word_prop_delta_increase          continuous   0.000 Y -  -2.71 (12.22) -22.1%\n",
      "english.dictionary.revision.diff.dict_word_prop_delta_sum               continuous   0.000 Y -  -2.40 (8.33) -28.8%\n",
      "revision.parent.words_per_token                                         continuous   0.000 Y Y   0.00 (0.34) 1.3%\n",
      "wikitext.revision.diff.number_delta_decrease                            continuous   0.000 Y -  -0.33 (-1.53) 21.7%\n",
      "wikitext.revision.diff.number_prop_delta_decrease                       continuous   0.000 Y -  -0.06 (-0.45) 13.7%\n",
      "revision.diff.words_change                                              continuous   0.000 Y -  -2.17 (8.93) -24.4%\n",
      "wikitext.revision.diff.number_delta_increase                            continuous   0.000 Y -   0.45 (2.50) 17.9%\n",
      "revision.diff.chars_change                                              continuous   0.000 Y - -13.86 (77.97) -17.8%\n",
      "english.dictionary.revision.diff.dict_word_delta_sum                    continuous   0.000 Y -  -2.16 (7.71) -28.1%\n",
      "revision.diff.longest_new_token                                         continuous   0.000 Y -  -0.58 (4.93) -11.8%\n",
      "wikitext.revision.diff.number_prop_delta_increase                       continuous   0.000 Y -  -0.19 (1.58) -11.8%\n",
      "revision.diff.tokens_change                                             continuous   0.000 Y -  -5.70 (26.11) -21.8%\n",
      "revision.diff.wikilinks_change                                          continuous   0.000 Y -  -0.10 (0.38) -27.3%\n",
      "wikitext.revision.diff.markup_delta_increase                            continuous   0.000 Y -   0.31 (4.92) 6.2%\n",
      "wikitext.revision.diff.markup_delta_sum                                 continuous   0.000 Y -  -0.31 (2.32) -13.2%\n",
      "revision.diff.markups_change                                            continuous   0.000 Y -  -0.31 (2.32) -13.2%\n",
      "english.dictionary.revision.diff.dict_word_delta_increase               continuous   0.000 Y -  -0.29 (19.32) -1.5%\n",
      "english.dictionary.revision.diff.non_dict_word_prop_delta_increase      continuous   0.000 Y -  -0.05 (2.09) -2.4%\n",
      "wikitext.revision.diff.markup_prop_delta_decrease                       continuous   0.000 Y Y   0.03 (-0.08) -34.6%\n",
      "english.dictionary.revision.diff.non_dict_word_prop_delta_sum           continuous   0.001 - -  -0.11 (1.34) -7.9%\n",
      "wikitext.revision.diff.number_prop_delta_sum                            continuous   0.001 - -  -0.25 (1.13) -21.9%\n",
      "revision.diff.longest_new_repeated_char                                 continuous   0.002 - -   0.40 (1.19) 33.4%\n",
      "wikitext.revision.diff.uppercase_word_prop_delta_increase               continuous   0.011 - -  -0.24 (0.61) -39.9%\n",
      "english.dictionary.revision.diff.dict_word_delta_decrease               continuous   0.027 - -  -1.87 (-11.60) 16.1%\n",
      "english.dictionary.revision.diff.dict_word_prop_delta_decrease          continuous   0.027 - -   0.30 (-3.89) -7.8%\n",
      "wikitext.revision.diff.uppercase_word_prop_delta_sum                    continuous   0.033 - -  -0.23 (0.47) -49.9%\n",
      "wikitext.revision.diff.number_delta_sum                                 continuous   0.060 - -   0.12 (0.98) 11.9%\n",
      "revision.diff.headings_change                                           continuous   0.150 - -  -0.03 (0.05) -59.2%\n",
      "english.dictionary.revision.diff.non_dict_word_delta_decrease           continuous   1.517 - -  -0.49 (-1.60) 30.2%\n",
      "english.dictionary.revision.diff.non_dict_word_delta_increase           continuous   2.412 - -   0.48 (2.82) 16.8%\n",
      "english.dictionary.revision.diff.non_dict_word_delta_sum                continuous   4.258 - -  -0.01 (1.22) -0.8%\n",
      "english.dictionary.revision.diff.non_dict_word_prop_delta_decrease      continuous   4.930 - -  -0.06 (-0.74) 7.4%\n",
      "wikitext.revision.diff.markup_delta_decrease                            continuous  21.719 - -  -0.61 (-2.60) 23.5%\n",
      "revision.diff.tags_change                                               continuous  29.784 - -  -0.04 (0.73) -5.6%\n",
      "wikitext.revision.diff.uppercase_word_prop_delta_decrease               continuous  44.384 - -   0.01 (-0.14) -7.1%\n",
      "revision.diff.templates_change                                          continuous  55.005 - -   0.01 (0.23) 4.4%\n",
      "english.informals.revision.diff.match_prop_delta_increase               continuous  67.120 - -   0.00 (0.06) 7.7%\n",
      "revision.diff.ref_tags_change                                           continuous  67.310 - -  -0.04 (0.12) -30.6%\n",
      "english.informals.revision.diff.match_prop_delta_sum                    continuous  69.626 - -   0.00 (0.04) 8.3%\n",
      "revision.diff.external_links_change                                     continuous  71.616 - -   0.01 (0.09) 16.0%\n",
      "wikitext.revision.diff.uppercase_word_delta_increase                    continuous  76.069 - -  -0.15 (0.76) -19.5%\n",
      "wikitext.revision.diff.uppercase_word_delta_sum                         continuous  79.937 - -  -0.20 (0.44) -45.9%\n",
      "english.informals.revision.diff.match_delta_decrease                    continuous  80.000 - -  -0.03 (-0.05) 51.9%\n",
      "english.informals.revision.diff.match_prop_delta_decrease               continuous  80.000 - -  -0.00 (-0.02) 6.5%\n",
      "english.informals.revision.diff.match_delta_sum                         continuous  80.000 - -  -0.02 (0.05) -29.5%\n",
      "english.badwords.revision.diff.match_delta_sum                          continuous  80.000 - -  -0.03 (0.00) -704.4%\n",
      "english.badwords.revision.diff.match_delta_decrease                     continuous  80.000 - -  -0.04 (-0.01) 246.3%\n",
      "wikitext.revision.diff.uppercase_word_delta_decrease                    continuous  80.000 - -  -0.05 (-0.33) 16.1%\n",
      "english.badwords.revision.diff.match_prop_delta_decrease                continuous  80.000 - -   0.00 (-0.01) -11.0%\n",
      "english.informals.revision.diff.match_delta_increase                    continuous  80.000 - -   0.01 (0.11) 9.8%\n",
      "english.badwords.revision.diff.match_prop_delta_increase                continuous  80.000 - -  -0.00 (0.02) -5.9%\n",
      "english.badwords.revision.diff.match_delta_increase                     continuous  80.000 - -   0.00 (0.02) 4.0%\n",
      "english.badwords.revision.diff.match_prop_delta_sum                     continuous  80.000 - -  -0.00 (0.01) -0.5%\n",
      "revision.comment.has_link                                                   binary   0.000 Y Y  -0.07 (0.24) -30.1%\n",
      "revision.user.is_patroller                                                  binary   0.000 Y Y  -0.06 (0.30) -19.1%\n",
      "revision.comment.suggests_section_edit                                      binary   0.000 Y Y   0.06 (0.39) 15.8%\n",
      "revision.user.is_bot                                                        binary   0.000 Y Y  -0.02 (0.06) -30.3%\n",
      "revision.user.is_admin                                                      binary   0.000 Y Y  -0.02 (0.07) -29.2%\n",
      "revision.user.is_anon                                                       binary   0.000 Y Y   0.04 (0.24) 15.7%\n",
      "revision.user.is_trusted                                                    binary   0.911 - -   0.00 (0.02) 17.1%\n",
      "revision.user.has_advanced_rights                                           binary   2.814 - -   0.00 (0.00) 33.1%\n",
      "revision.user.is_curator                                                    binary  36.982 - -   0.00 (0.02) 4.4%\n",
      "revision.page.is_draftspace                                                 binary  80.000 - Y   0.00 (0.00) inf%\n",
      "revision.page.is_mainspace                                                  binary  80.000 - Y  -0.00 (1.00) -0.0%\n",
      "revision.page.is_articleish                                                 binary  80.000 - -  -0.00 (1.00) -0.0%\n"
     ]
    }
   ],
   "source": [
    "n_features = len(sdf.columns)\n",
    "univariate_results = []\n",
    "for col_name, col_dtype in zip(sdf.columns, sdf.dtypes):\n",
    "    is_feature_binary = False\n",
    "    std = 0\n",
    "    if col_dtype == bool:\n",
    "        is_feature_binary  = True\n",
    "        s_true_count = np.sum(sdf[col_name])\n",
    "        s_false_count = len(sdf) - s_true_count\n",
    "        t_true_count = np.sum(tdf[col_name])\n",
    "        t_false_count = len(tdf) - t_true_count\n",
    "        if s_true_count == 0 or s_false_count == 0 or t_true_count == 0 or t_false_count == 0:\n",
    "            p = n_features\n",
    "            diff = (t_true_count / len(tdf)) - (s_true_count / len(sdf))\n",
    "        else:\n",
    "            cont = np.array(\n",
    "                [[s_true_count, s_false_count],\n",
    "                 [t_true_count, t_false_count]]\n",
    "            )\n",
    "            chi2, p, dof, expctd = scipy.stats.chi2_contingency(cont)\n",
    "            p = p * n_features\n",
    "        diff = (t_true_count / len(tdf)) - (s_true_count / len(sdf))\n",
    "    else:\n",
    "        D, p = scipy.stats.ks_2samp(sdf[col_name], tdf[col_name])\n",
    "        p = p * n_features\n",
    "        diff = np.mean(tdf[col_name]) - np.mean(sdf[col_name])\n",
    "        std = np.std(np.concatenate((sdf[col_name], tdf[col_name])))\n",
    "    pre_mean = np.mean(sdf[col_name])\n",
    "    _, mean_diff_p = scipy.stats.ttest_ind(sdf[col_name], tdf[col_name], equal_var=False)\n",
    "    mean_diff_p *= n_features\n",
    "    tup = (col_name, is_feature_binary, p, diff, std, pre_mean, diff / pre_mean, mean_diff_p)\n",
    "    univariate_results.append(tup)\n",
    "univariate_results.sort(key=lambda tup: (tup[1], abs(tup[2]), -abs(tup[6])), reverse=False)\n",
    "print(f\"{'Feature Name':<71} {'Feat. Type':>10} {'p-value':>7} {'S'} {'T'} {'Diff':>6}\")\n",
    "print(\"=\"*100)\n",
    "for tup in univariate_results:\n",
    "    col_name, is_feature_binary, p, diff, std, pre_mean, pct_change, mean_diff_p = tup\n",
    "    print(f\"{col_name[8:]:<71} {'binary' if is_feature_binary else 'continuous':>10} {p:7.3f} {'Y' if p < 0.001 else '-'} {'Y' if mean_diff_p < 0.001 else '-'} {diff:6.2f} ({pre_mean:.2f}) {pct_change*100:.1f}%\")\n"
   ]
  },
  {
   "cell_type": "code",
   "execution_count": null,
   "metadata": {},
   "outputs": [],
   "source": []
  },
  {
   "cell_type": "markdown",
   "metadata": {},
   "source": [
    "### Multivariate testing\n",
    "\n",
    "Multivariate kernel two-sample tests\n",
    "\n",
    "To get a p-value directly comparing the two samples, using Maximum Mean Discrepancy or some other test.\n",
    "\n",
    "TODO Do this in R lol, no fast Python implementation exists as far as I can tell.\n",
    "\n",
    "We could also use Hotelling's $T^2$ test, which is implemented in the Hotelling R package, and basically serves as a high-level difference in mean."
   ]
  },
  {
   "cell_type": "code",
   "execution_count": 67,
   "metadata": {},
   "outputs": [
    {
     "data": {
      "text/plain": [
       "'/export/scratch2/levon003/repos/wiki-ores-feedback/data/derived/data-shifts'"
      ]
     },
     "execution_count": 67,
     "metadata": {},
     "output_type": "execute_result"
    }
   ],
   "source": [
    "working_dir"
   ]
  },
  {
   "cell_type": "code",
   "execution_count": 76,
   "metadata": {},
   "outputs": [
    {
     "name": "stdout",
     "output_type": "stream",
     "text": [
      "Finished writing in 0:00:01.645008.\n"
     ]
    }
   ],
   "source": [
    "start = datetime.now()\n",
    "(sdf.sample(n=10000)*1).to_csv(os.path.join(working_dir, 'sdf.csv'), index=False, header=True)\n",
    "(tdf.sample(n=10000)*1).to_csv(os.path.join(working_dir, 'tdf.csv'), index=False, header=True)\n",
    "print(f\"Finished writing in {datetime.now() - start}.\")"
   ]
  },
  {
   "cell_type": "code",
   "execution_count": null,
   "metadata": {},
   "outputs": [],
   "source": []
  },
  {
   "cell_type": "markdown",
   "metadata": {},
   "source": [
    "### Compute level of difference"
   ]
  },
  {
   "cell_type": "code",
   "execution_count": 14,
   "metadata": {},
   "outputs": [],
   "source": [
    "def KLdivergence(x, y):\n",
    "    \"\"\"Compute the Kullback-Leibler divergence between two multivariate samples.\n",
    "    Parameters\n",
    "    ----------\n",
    "    x : 2D array (n,d)\n",
    "    Samples from distribution P, which typically represents the true\n",
    "    distribution.\n",
    "    y : 2D array (m,d)\n",
    "    Samples from distribution Q, which typically represents the approximate\n",
    "    distribution.\n",
    "    Returns\n",
    "    -------\n",
    "    out : float\n",
    "    The estimated Kullback-Leibler divergence D(P||Q).\n",
    "    References\n",
    "    ----------\n",
    "    Pérez-Cruz, F. Kullback-Leibler divergence estimation of\n",
    "    continuous distributions IEEE International Symposium on Information\n",
    "    Theory, 2008.\n",
    "    \n",
    "    https://gist.github.com/atabakd/ed0f7581f8510c8587bc2f41a094b518\n",
    "    \"\"\"\n",
    "    from scipy.spatial import cKDTree as KDTree\n",
    "\n",
    "    # Check the dimensions are consistent\n",
    "    x = np.atleast_2d(x)\n",
    "    y = np.atleast_2d(y)\n",
    "\n",
    "    n,d = x.shape\n",
    "    m,dy = y.shape\n",
    "\n",
    "    assert(d == dy)\n",
    "\n",
    "\n",
    "    # Build a KD tree representation of the samples and find the nearest neighbour\n",
    "    # of each point in x.\n",
    "    xtree = KDTree(x)\n",
    "    ytree = KDTree(y)\n",
    "\n",
    "    # Get the first two nearest neighbours for x, since the closest one is the\n",
    "    # sample itself.\n",
    "    r = xtree.query(x, k=2, eps=.01, p=2)[0][:,1]\n",
    "    s = ytree.query(x, k=1, eps=.01, p=2)[0]\n",
    "\n",
    "    # There is a mistake in the paper. In Eq. 14, the right side misses a negative sign\n",
    "    # on the first term of the right hand side.\n",
    "    return -np.log(r/s).sum() * d / n + np.log(m / (n - 1.))"
   ]
  },
  {
   "cell_type": "code",
   "execution_count": 15,
   "metadata": {},
   "outputs": [
    {
     "data": {
      "text/plain": [
       "(19348, 80)"
      ]
     },
     "execution_count": 15,
     "metadata": {},
     "output_type": "execute_result"
    }
   ],
   "source": [
    "sdf = features_df.drop(columns='damaging')\n",
    "sdf.to_numpy().shape"
   ]
  },
  {
   "cell_type": "code",
   "execution_count": 45,
   "metadata": {},
   "outputs": [
    {
     "name": "stderr",
     "output_type": "stream",
     "text": [
      "100%|██████████| 69/69 [1:12:15<00:00, 62.83s/it] \n"
     ]
    }
   ],
   "source": [
    "# compute K-L divergence between the training data and each of the months in the month sample\n",
    "month_sample_kld_mean_list = []\n",
    "month_sample_kld_std_list = []\n",
    "for month_features_df in tqdm(month_feature_df_list):\n",
    "    tdf = month_features_df.drop(columns='damaging')\n",
    "    kl_sample_n = 10000\n",
    "    n_iters = 3\n",
    "    kld_list = []\n",
    "    for i in range(n_iters):\n",
    "        kld = KLdivergence(sdf.sample(n=kl_sample_n).to_numpy(), (tdf.sample(n=kl_sample_n) + 0.0000000001).to_numpy())\n",
    "        kld_list.append(kld)\n",
    "    month_sample_kld_mean_list.append(np.mean(kld_list))\n",
    "    month_sample_kld_std_list.append(np.std(kld_list))"
   ]
  },
  {
   "cell_type": "code",
   "execution_count": 50,
   "metadata": {},
   "outputs": [
    {
     "data": {
      "image/png": "[encoded data removed]",
      "text/plain": [
       "<Figure size 864x360 with 1 Axes>"
      ]
     },
     "metadata": {
      "needs_background": "light"
     },
     "output_type": "display_data"
    }
   ],
   "source": [
    "fig, ax = plt.subplots(1, 1, figsize=(12, 5))\n",
    "\n",
    "x = range(len(month_sample_kld_mean_list))\n",
    "assert len(x) == len(month_id_list)\n",
    "ax.plot(x, month_sample_kld_mean_list, color='black', linewidth=1)\n",
    "\n",
    "bottom = np.array(month_sample_kld_mean_list) - np.array(month_sample_kld_std_list)\n",
    "top = np.array(month_sample_kld_mean_list) + np.array(month_sample_kld_std_list)\n",
    "ax.fill_between(x, bottom, top)\n",
    "\n",
    "xticks = x[::6]\n",
    "xtick_labels = [str(month_id)[4:] + \"/\" + str(month_id)[2:4] for month_id in month_id_list[::6]]\n",
    "assert len(xticks) == len(xtick_labels), len(xtick_labels)\n",
    "ax.set_xticks(xticks)\n",
    "ax.set_xticklabels(xtick_labels)\n",
    "\n",
    "ax.set_title(\"KL Divergence between ORES Damaging training data and each subsequent month\")\n",
    "ax.set_ylabel(\"Kullback-Leibler Divergence\")\n",
    "plt.show()"
   ]
  },
  {
   "cell_type": "code",
   "execution_count": 52,
   "metadata": {},
   "outputs": [
    {
     "data": {
      "text/plain": [
       "4.5622410381974605"
      ]
     },
     "execution_count": 52,
     "metadata": {},
     "output_type": "execute_result"
    }
   ],
   "source": [
    "min(month_sample_kld_mean_list)"
   ]
  },
  {
   "cell_type": "code",
   "execution_count": 50,
   "metadata": {},
   "outputs": [
    {
     "data": {
      "text/html": [
       "<div>\n",
       "<style scoped>\n",
       "    .dataframe tbody tr th:only-of-type {\n",
       "        vertical-align: middle;\n",
       "    }\n",
       "\n",
       "    .dataframe tbody tr th {\n",
       "        vertical-align: top;\n",
       "    }\n",
       "\n",
       "    .dataframe thead th {\n",
       "        text-align: right;\n",
       "    }\n",
       "</style>\n",
       "<table border=\"1\" class=\"dataframe\">\n",
       "  <thead>\n",
       "    <tr style=\"text-align: right;\">\n",
       "      <th></th>\n",
       "      <th>month_id</th>\n",
       "      <th>1</th>\n",
       "      <th>2</th>\n",
       "      <th>3</th>\n",
       "      <th>4</th>\n",
       "      <th>5</th>\n",
       "      <th>6</th>\n",
       "      <th>7</th>\n",
       "      <th>8</th>\n",
       "      <th>9</th>\n",
       "      <th>...</th>\n",
       "      <th>91</th>\n",
       "      <th>92</th>\n",
       "      <th>93</th>\n",
       "      <th>94</th>\n",
       "      <th>95</th>\n",
       "      <th>96</th>\n",
       "      <th>97</th>\n",
       "      <th>98</th>\n",
       "      <th>99</th>\n",
       "      <th>100</th>\n",
       "    </tr>\n",
       "  </thead>\n",
       "  <tbody>\n",
       "    <tr>\n",
       "      <th>0</th>\n",
       "      <td>201404</td>\n",
       "      <td>21.037454</td>\n",
       "      <td>17.210126</td>\n",
       "      <td>19.567396</td>\n",
       "      <td>19.055749</td>\n",
       "      <td>18.771487</td>\n",
       "      <td>19.044875</td>\n",
       "      <td>18.838193</td>\n",
       "      <td>18.454050</td>\n",
       "      <td>18.703005</td>\n",
       "      <td>...</td>\n",
       "      <td>18.782197</td>\n",
       "      <td>19.824913</td>\n",
       "      <td>19.972965</td>\n",
       "      <td>19.226841</td>\n",
       "      <td>19.214092</td>\n",
       "      <td>18.137879</td>\n",
       "      <td>17.578106</td>\n",
       "      <td>19.235859</td>\n",
       "      <td>17.971226</td>\n",
       "      <td>18.404071</td>\n",
       "    </tr>\n",
       "    <tr>\n",
       "      <th>1</th>\n",
       "      <td>201405</td>\n",
       "      <td>20.233406</td>\n",
       "      <td>16.378007</td>\n",
       "      <td>20.665039</td>\n",
       "      <td>16.725724</td>\n",
       "      <td>17.629825</td>\n",
       "      <td>17.042177</td>\n",
       "      <td>17.585749</td>\n",
       "      <td>18.124163</td>\n",
       "      <td>17.957113</td>\n",
       "      <td>...</td>\n",
       "      <td>16.886185</td>\n",
       "      <td>19.908486</td>\n",
       "      <td>18.567806</td>\n",
       "      <td>18.217750</td>\n",
       "      <td>20.193569</td>\n",
       "      <td>18.003000</td>\n",
       "      <td>17.409095</td>\n",
       "      <td>18.310904</td>\n",
       "      <td>18.086647</td>\n",
       "      <td>17.608563</td>\n",
       "    </tr>\n",
       "  </tbody>\n",
       "</table>\n",
       "<p>2 rows × 101 columns</p>\n",
       "</div>"
      ],
      "text/plain": [
       "   month_id          1          2          3          4          5          6  \\\n",
       "0    201404  21.037454  17.210126  19.567396  19.055749  18.771487  19.044875   \n",
       "1    201405  20.233406  16.378007  20.665039  16.725724  17.629825  17.042177   \n",
       "\n",
       "           7          8          9  ...         91         92         93  \\\n",
       "0  18.838193  18.454050  18.703005  ...  18.782197  19.824913  19.972965   \n",
       "1  17.585749  18.124163  17.957113  ...  16.886185  19.908486  18.567806   \n",
       "\n",
       "          94         95         96         97         98         99        100  \n",
       "0  19.226841  19.214092  18.137879  17.578106  19.235859  17.971226  18.404071  \n",
       "1  18.217750  20.193569  18.003000  17.409095  18.310904  18.086647  17.608563  \n",
       "\n",
       "[2 rows x 101 columns]"
      ]
     },
     "execution_count": 50,
     "metadata": {},
     "output_type": "execute_result"
    }
   ],
   "source": [
    "# load from file\n",
    "training_kld_filepath = os.path.join(working_dir, \"month_sample_training_kld.csv\")\n",
    "kld_df = pd.read_csv(training_kld_filepath, header=None).rename(columns={0: 'month_id'})\n",
    "kld_df.head(n=2)"
   ]
  },
  {
   "cell_type": "code",
   "execution_count": 51,
   "metadata": {},
   "outputs": [
    {
     "data": {
      "text/plain": [
       "(69, 201)"
      ]
     },
     "execution_count": 51,
     "metadata": {},
     "output_type": "execute_result"
    }
   ],
   "source": [
    "# load from second file\n",
    "training_kld_filepath = os.path.join(working_dir, \"month_sample_training_kld_200.csv\")\n",
    "kld_df2 = pd.read_csv(training_kld_filepath, header=None).rename(columns={0: 'month_id'})\n",
    "kld_df2.shape"
   ]
  },
  {
   "cell_type": "code",
   "execution_count": 52,
   "metadata": {},
   "outputs": [],
   "source": [
    "kld_df = kld_df.merge(kld_df2, on='month_id')"
   ]
  },
  {
   "cell_type": "code",
   "execution_count": 53,
   "metadata": {},
   "outputs": [
    {
     "data": {
      "text/plain": [
       "(69, 300)"
      ]
     },
     "execution_count": 53,
     "metadata": {},
     "output_type": "execute_result"
    }
   ],
   "source": [
    "# remove the month_id identifier column\n",
    "kld_df = kld_df.iloc[:,1:]\n",
    "kld_df.shape"
   ]
  },
  {
   "cell_type": "code",
   "execution_count": 56,
   "metadata": {},
   "outputs": [
    {
     "data": {
      "image/png": "[encoded data removed]",
      "text/plain": [
       "<Figure size 864x360 with 1 Axes>"
      ]
     },
     "metadata": {
      "needs_background": "light"
     },
     "output_type": "display_data"
    }
   ],
   "source": [
    "fig, ax = plt.subplots(1, 1, figsize=(12, 5))\n",
    "\n",
    "x = range(len(kld_df))\n",
    "assert len(x) == len(month_id_list)\n",
    "means = kld_df.mean(axis=1)\n",
    "ax.plot(x, means, color='black', linewidth=1)\n",
    "\n",
    "bottom = kld_df.quantile(q=0.05, axis=1)\n",
    "top = kld_df.quantile(q=0.95, axis=1)\n",
    "ax.fill_between(x, bottom, top)\n",
    "\n",
    "# mark the end of the training period with a line\n",
    "plt.axvline(12.5, color='black', linestyle='--', alpha=0.5)\n",
    "\n",
    "xticks = x[::6]\n",
    "xtick_labels = [str(month_id)[4:] + \"/\" + str(month_id)[2:4] for month_id in month_id_list[::6]]\n",
    "assert len(xticks) == len(xtick_labels), len(xtick_labels)\n",
    "ax.set_xticks(xticks)\n",
    "ax.set_xticklabels(xtick_labels)\n",
    "\n",
    "ax.set_title(\"KL Divergence between ORES Damaging training data and each subsequent month\")\n",
    "ax.set_ylabel(\"Kullback-Leibler Divergence\")\n",
    "plt.show()"
   ]
  },
  {
   "cell_type": "markdown",
   "metadata": {},
   "source": [
    "#### Downsampled data"
   ]
  },
  {
   "cell_type": "code",
   "execution_count": 64,
   "metadata": {},
   "outputs": [
    {
     "data": {
      "text/plain": [
       "(69, 200)"
      ]
     },
     "execution_count": 64,
     "metadata": {},
     "output_type": "execute_result"
    }
   ],
   "source": [
    "# load from file\n",
    "training_kld_filepath = os.path.join(working_dir, \"month_sample_training_downsampled_kld_20.csv\")\n",
    "kld_df = pd.read_csv(training_kld_filepath, header=None).rename(columns={0: 'month_id'})\n",
    "\n",
    "# load from second file\n",
    "training_kld_filepath = os.path.join(working_dir, \"month_sample_training_downsampled_kld_180.csv\")\n",
    "kld_df2 = pd.read_csv(training_kld_filepath, header=None).rename(columns={0: 'month_id'})\n",
    "\n",
    "#merge the files\n",
    "kld_df = kld_df.merge(kld_df2, on='month_id')\n",
    "\n",
    "# remove the month_id identifier column\n",
    "kld_df = kld_df.iloc[:,1:]\n",
    "kld_df.shape"
   ]
  },
  {
   "cell_type": "code",
   "execution_count": 65,
   "metadata": {},
   "outputs": [
    {
     "data": {
      "image/png": "[encoded data removed]",
      "text/plain": [
       "<Figure size 864x360 with 1 Axes>"
      ]
     },
     "metadata": {
      "needs_background": "light"
     },
     "output_type": "display_data"
    }
   ],
   "source": [
    "fig, ax = plt.subplots(1, 1, figsize=(12, 5))\n",
    "\n",
    "x = range(len(kld_df))\n",
    "assert len(x) == len(month_id_list)\n",
    "means = kld_df.mean(axis=1)\n",
    "ax.plot(x, means, color='black', linewidth=1)\n",
    "\n",
    "bottom = kld_df.quantile(q=0.05, axis=1)\n",
    "top = kld_df.quantile(q=0.95, axis=1)\n",
    "ax.fill_between(x, bottom, top)\n",
    "\n",
    "# mark the end of the training period with a line\n",
    "plt.axvline(12.5, color='black', linestyle='--', alpha=0.5)\n",
    "\n",
    "xticks = x[::6]\n",
    "xtick_labels = [str(month_id)[4:] + \"/\" + str(month_id)[2:4] for month_id in month_id_list[::6]]\n",
    "assert len(xticks) == len(xtick_labels), len(xtick_labels)\n",
    "ax.set_xticks(xticks)\n",
    "ax.set_xticklabels(xtick_labels)\n",
    "\n",
    "ax.set_title(\"KL Divergence between downsampled ORES Damaging training data and each subsequent month\")\n",
    "ax.set_ylabel(\"Kullback-Leibler Divergence\")\n",
    "plt.show()"
   ]
  },
  {
   "cell_type": "code",
   "execution_count": null,
   "metadata": {},
   "outputs": [],
   "source": []
  },
  {
   "cell_type": "code",
   "execution_count": 66,
   "metadata": {},
   "outputs": [
    {
     "data": {
      "text/plain": [
       "69"
      ]
     },
     "execution_count": 66,
     "metadata": {},
     "output_type": "execute_result"
    }
   ],
   "source": [
    "len(month_feature_df_list)"
   ]
  },
  {
   "cell_type": "code",
   "execution_count": 67,
   "metadata": {},
   "outputs": [
    {
     "name": "stderr",
     "output_type": "stream",
     "text": [
      "/export/scratch2/levon003/bin/anaconda3/lib/python3.7/site-packages/ipykernel_launcher.py:27: RuntimeWarning: divide by zero encountered in true_divide\n"
     ]
    },
    {
     "data": {
      "text/plain": [
       "-inf"
      ]
     },
     "execution_count": 67,
     "metadata": {},
     "output_type": "execute_result"
    }
   ],
   "source": [
    "from scipy.spatial import cKDTree as KDTree\n",
    "\n",
    "x = month_feature_df_list[0].drop(columns='damaging').sample(n=1000)\n",
    "y = month_feature_df_list[0].drop(columns='damaging').sample(n=1000)\n",
    "\n",
    "# Check the dimensions are consistent\n",
    "x = np.atleast_2d(x)\n",
    "y = np.atleast_2d(y)\n",
    "\n",
    "n,d = x.shape\n",
    "m,dy = y.shape\n",
    "\n",
    "assert(d == dy)\n",
    "\n",
    "# Build a KD tree representation of the samples and find the nearest neighbour\n",
    "# of each point in x.\n",
    "xtree = KDTree(x)\n",
    "ytree = KDTree(y)\n",
    "\n",
    "# Get the first two nearest neighbours for x, since the closest one is the\n",
    "# sample itself.\n",
    "r = xtree.query(x, k=2, eps=.01, p=2)[0][:,1]\n",
    "s = ytree.query(x, k=1, eps=.01, p=2)[0]\n",
    "\n",
    "# There is a mistake in the paper. In Eq. 14, the right side misses a negative sign\n",
    "# on the first term of the right hand side.\n",
    "kld = -np.log(r/s).sum() * d / n + np.log(m / (n - 1.))\n",
    "kld"
   ]
  },
  {
   "cell_type": "code",
   "execution_count": 80,
   "metadata": {},
   "outputs": [
    {
     "data": {
      "text/plain": [
       "array([ 1.09885141e-01, -3.01573405e-02,  0.00000000e+00, -9.77272266e-02,\n",
       "       -3.94693462e-01, -2.62552344e-01,  3.05517667e-01, -3.25491022e-02,\n",
       "        3.07091250e+01,  3.49838235e-02,  2.14082574e-01, -1.73617577e-01,\n",
       "       -1.32708523e-01, -8.17316512e-01, -2.34114163e-01, -5.99857651e-01,\n",
       "        9.89097434e-01, -5.83680686e-02,  1.00301164e-02,  5.11171536e-01,\n",
       "        3.01570960e-01, -1.58420455e-01,  2.91070948e+01, -3.52111525e-01,\n",
       "       -8.57147257e-02,  8.03514308e-02,  2.95673417e+01, -2.57938082e-02,\n",
       "       -2.58466091e-02, -3.70104013e-01,  1.79436278e-01,  6.44644224e-02,\n",
       "       -2.33817845e-01, -1.40052788e-01, -3.09335360e-01,  6.69077885e-02,\n",
       "        6.18409266e-02, -5.42081225e-02, -2.85222090e-01, -2.48555164e-02,\n",
       "       -3.20307379e-02, -2.42877345e-01,  3.71627024e-01,  1.59864179e-01,\n",
       "       -2.11766050e-01,  3.75635451e-01,  9.06158283e-02, -3.92722570e-02,\n",
       "        1.40574108e-01,  1.60541767e+00, -1.30689309e-01,  5.24156201e-02,\n",
       "        2.89462685e+01,  3.55056239e-01, -4.19431129e-02, -5.19806771e-01,\n",
       "        2.96607873e+01,  3.10746075e+01,  1.70429218e-02,  1.90584103e-01,\n",
       "        4.21936708e-02, -7.72823756e-02, -2.20998179e-01, -1.07225403e+00,\n",
       "       -2.11573401e-01, -2.64576106e-01, -1.46506477e-01,  3.64976308e-01,\n",
       "       -1.39508594e-01,  1.12276555e-01, -7.78955550e-01, -9.74768764e-02,\n",
       "       -7.32296560e-02, -1.52926934e-02,  1.59105924e-01,  3.38854742e-01,\n",
       "        5.38164079e-02,  5.98260075e-01,  5.59035855e-01,  1.99843179e-01,\n",
       "       -2.21775883e-02,  2.89859059e+01,  2.93967991e+01,  1.11543896e-01,\n",
       "        5.70717683e-02, -1.03067939e-01,  1.34346085e-01,  7.69234893e-01,\n",
       "       -2.23556483e-01, -1.08958189e+00,  1.21209841e-01,  1.59307771e-02,\n",
       "        3.09674432e-02, -4.91313237e-02, -2.34144175e-01,  4.60329370e-02,\n",
       "       -5.30165512e-02,  7.53949693e-02,  3.35367720e-01, -2.82379386e-02,\n",
       "       -1.13488594e-01, -5.64048650e-02, -1.02893903e-01,  7.20608500e-02,\n",
       "       -1.69506804e-01,  3.28876887e-01,  5.80949695e-02, -1.73457415e-01,\n",
       "        2.83131982e-01,  8.53672177e-02,  3.15247084e+00,  1.95180667e-01,\n",
       "        9.25291869e-02, -2.16015169e-01,  4.87397890e-01, -5.41137611e-02,\n",
       "       -3.03579889e-01,  0.00000000e+00,  3.01712909e-02, -1.71260968e-01,\n",
       "       -5.09716752e-01, -1.22584750e-01,  2.42648588e-01,  1.09606515e-02,\n",
       "        2.62161686e-01, -2.84513034e-02, -1.39749024e-01, -4.56951344e-01,\n",
       "        1.17548509e-01,  5.76749237e+00, -1.12729458e-01,  5.12700028e-01,\n",
       "       -2.08697614e-02,  3.65768094e-01, -8.75075897e-02,  5.18503370e-02,\n",
       "        1.10565436e-01, -9.69264505e-03,  4.12005513e-02,  1.88871905e-01,\n",
       "        6.23501391e-02, -1.14332816e-01,  1.70213219e-01,  2.96597363e-01,\n",
       "       -1.16709466e-01, -3.35083558e-02,  7.84180667e-02,  0.00000000e+00,\n",
       "        5.89712577e-01,  1.81330805e+00,  3.18891118e+01, -8.42919088e-02,\n",
       "       -8.17426311e-02, -1.18590931e-01,  7.26575467e-03,  1.85773847e-01,\n",
       "        1.29947181e-01,  4.32409429e-02, -1.01557841e-01, -1.36731989e-02,\n",
       "       -1.17559719e-01, -2.45132694e-01,  2.91096142e+01, -2.37110388e-01,\n",
       "        2.84649797e-01,  2.18450987e-01, -2.23800773e-01, -1.03898209e-01,\n",
       "        1.52916978e-01, -5.13573266e-02, -1.54480138e-01,  2.95038961e+01,\n",
       "       -1.53729050e-01,  7.40616487e-02,  5.57752135e-02,  2.84504762e-01,\n",
       "        8.96498522e-02,  4.53923287e-01,  1.49506573e-01,  3.38758598e-01,\n",
       "        1.63530852e-01,  4.42848541e-02, -3.92691134e-01,  2.22212489e-01,\n",
       "        1.13488176e-01, -9.41274003e-02, -1.54531075e-01, -1.15798549e-01,\n",
       "        2.12240777e-01, -7.90799465e-02,  4.56639616e-02, -2.97060003e-01,\n",
       "        3.26484280e-02,  4.21940488e-01, -1.79007159e-01, -1.51126150e-01,\n",
       "        2.60610610e-01, -1.24413740e+00,  2.90674089e+01,  1.10337693e+00,\n",
       "       -2.69878699e-01,  2.53495059e-01,  6.14830787e-02,  3.27097567e-01,\n",
       "       -3.10319264e-01,  3.45310648e+01, -7.13135527e-02, -8.27300199e-01,\n",
       "        2.51257970e-01,  4.23434641e-02, -1.01492714e-01,  5.63330349e-01,\n",
       "        1.96029370e-01,  2.38866567e-02, -2.70685436e-01, -1.48909360e-01,\n",
       "        3.03686111e+01,  1.73230550e-01,  1.26182724e-01, -3.47879908e-01,\n",
       "       -4.82867281e-01, -2.36462347e-01,  6.88841123e-01, -9.43830113e-02,\n",
       "        1.49307918e-01, -6.85360200e-02, -9.20538243e-02,  2.79999899e-01,\n",
       "       -3.10719510e-02,  2.34646007e-01, -2.82740852e-01, -1.43720352e-01,\n",
       "       -8.07311354e-02, -1.56265890e-01,  5.47636732e-01,  6.15238920e-02,\n",
       "       -1.94172123e-01, -2.76707987e-02,  0.00000000e+00,  6.09366152e-01,\n",
       "        1.72070509e-02, -2.01654377e-01,  7.76495621e-02, -1.78952039e-01,\n",
       "       -1.77751085e-01, -9.44020245e-02,  1.23178238e-02,  9.06766738e-04,\n",
       "        2.61112136e-01, -2.28646267e-01, -2.70499486e-02, -2.12194492e-01,\n",
       "        5.41252033e-03,  8.03374039e-02,  6.15353009e-02, -1.43241636e-01,\n",
       "        1.00143725e+00, -4.66715446e-02, -1.78180770e-02, -1.15395979e-01,\n",
       "        6.27460200e-01,  2.38048627e-02, -3.33353045e-02,  0.00000000e+00,\n",
       "       -3.25230835e-01, -1.40760791e-01,  1.53016428e-01, -1.03111551e-01,\n",
       "        6.12854407e-02,  1.46088677e-02, -3.12401218e-01, -1.07985425e-03,\n",
       "        9.98221483e-03, -5.18291891e-01, -2.08284907e-01,  2.38700185e-01,\n",
       "       -1.67691705e-01,  6.90499957e-01, -9.14723910e-02,  0.00000000e+00,\n",
       "       -2.08172247e-01,  5.37549699e-01, -1.02588407e-01,  2.17275214e-01,\n",
       "        9.64776300e-02, -1.14482320e-01,  1.05509588e+00, -2.59326321e-01,\n",
       "        2.55220214e-02,  0.00000000e+00, -3.37576440e-01,  2.07442358e-01,\n",
       "        4.33327385e-01,  4.93126969e-02, -2.24073514e-01,  5.37736093e-01,\n",
       "        5.31398244e-02, -1.22959048e-02, -2.06362675e-01, -7.37094869e-01,\n",
       "       -3.65756849e-01,  2.00074100e-01, -2.23170059e-01, -5.47748070e-01,\n",
       "       -2.99083052e-02, -1.00727769e+00,  1.12562205e-01,  5.39331447e-02,\n",
       "       -4.30509449e-01,  1.88444598e+00,  3.48383381e-01,  2.82811176e-01,\n",
       "       -3.76431541e-02, -8.57025410e-02,  1.93924851e-01,  1.74136956e-01,\n",
       "       -7.05054145e-02,  2.50416856e-01,  8.42896893e-02,  4.63171575e-02,\n",
       "       -2.75061455e-01,  4.13247281e-02,  2.03579515e-02, -5.86766851e-02,\n",
       "       -4.42476176e-01, -4.21130088e-01, -1.63083267e-01,  1.49330901e-02,\n",
       "       -3.63141337e-01,  1.36520189e-01,  2.01837358e-01,  2.32354493e-01,\n",
       "       -5.44155492e-01, -2.32162751e-03,  3.58789338e-02,  1.04014162e-01,\n",
       "        3.74207254e-01,  1.23219943e+00, -2.54261743e-02,  9.39098279e-01,\n",
       "       -3.01371114e-01, -8.21767574e-02, -1.82695540e-01,  1.05551850e+00,\n",
       "       -2.68702288e-01,  4.06711260e-01,  2.61718483e-01, -5.82196166e-02,\n",
       "        7.42268449e-02,  3.65943633e-01,  3.61173940e-01, -1.10071879e+00,\n",
       "       -2.10646513e-01, -3.17121498e-01, -1.58227910e-01, -4.10981468e-01,\n",
       "       -2.00439544e-01, -1.26167507e+00,  0.00000000e+00, -8.36122628e-01,\n",
       "       -6.78330469e-02,  2.87579812e+01,  3.15365053e+01, -6.96849364e-02,\n",
       "        3.49519870e-02,  8.23441978e-01,  2.60248038e-01,  5.85113583e-02,\n",
       "       -2.16581739e+00, -3.98488573e-02,  4.01936445e-01, -7.61088473e-02,\n",
       "       -2.93428909e-01, -3.09322283e-01,  1.67589048e-02, -4.96001055e-01,\n",
       "       -3.24265178e-01,  6.26038217e-02, -5.62828828e-02,  2.35972587e-01,\n",
       "        5.58071236e-02,  2.85509489e+01, -3.81458124e-02, -1.54187564e-01,\n",
       "        3.43820442e-02, -1.24208320e-01, -8.43686653e-02, -7.96703890e-02,\n",
       "        1.98095417e-01,  1.52845513e-02,  3.07951482e+01, -2.81789294e-01,\n",
       "       -4.95249177e-01,  1.05507988e+00,  2.86172358e-01, -6.92121539e-01,\n",
       "        7.62349261e-02, -5.47801134e-02, -2.14826779e-01, -1.84687819e-01,\n",
       "        1.18105956e-01,  1.88322743e-01,  3.65271677e-02, -3.39564198e-01,\n",
       "       -1.38905334e-01, -2.53026520e-02, -2.69087984e-01, -1.92675697e-01,\n",
       "       -5.51863576e-01, -1.76219804e-01,  1.40410639e-02,  2.37380579e-01,\n",
       "       -3.52597445e-01,  2.34667814e-01, -2.33827965e-01,  2.19144307e-01,\n",
       "        2.02678473e-01, -7.66999518e-01,  8.06363600e-02, -8.75498649e-02,\n",
       "        2.11379936e-01,  6.92630100e-02, -2.11643067e-01, -2.04719740e-01,\n",
       "       -4.98394776e-02, -2.84784063e-01, -2.77062259e-02, -6.92234143e-01,\n",
       "       -4.30718034e-02, -1.90342929e-01,  7.28729599e-01,  2.74960594e-01,\n",
       "        1.06106715e-01,  7.94763097e-03,  1.17127904e-01, -1.03553096e-01,\n",
       "        1.52279999e-01, -4.25616342e-02, -8.23220171e-02,  4.37966684e-01,\n",
       "       -4.13917546e-01,  3.49385066e-01,  2.40670393e-02, -2.55998298e-01,\n",
       "       -1.49343861e-01,  0.00000000e+00, -1.68157237e-01,  1.20112597e-01,\n",
       "       -3.44023585e-01,  6.50074184e-02,  3.12461850e+01, -1.36961411e-01,\n",
       "       -1.55808442e-01,  3.93963335e-01, -3.36215535e-02, -5.65394239e-02,\n",
       "        3.88260460e-01,  3.13676604e-01, -2.20888278e-01, -4.38004201e-01,\n",
       "       -3.10710544e-01,  2.12524017e-01,  7.26375693e-01, -6.47871811e-02,\n",
       "       -4.33338992e-02, -4.94596507e-01,  4.86611858e-01,  5.11458022e-01,\n",
       "        2.28520463e-01, -2.08186804e-01, -5.57547503e-01,  4.52995737e-01,\n",
       "        1.76332031e-01,  8.76676166e-02, -3.24956410e-01, -1.92666229e-01,\n",
       "        2.92283630e+01, -1.67473346e-01, -2.04407975e-01, -2.53212270e-01,\n",
       "        3.00149571e+01,  1.22811024e-01, -3.13660017e-01,  2.26492228e-01,\n",
       "       -2.97397879e-01,  3.94652088e-01, -1.98354601e-01, -2.86008366e-01,\n",
       "       -1.05866089e-01, -2.38068948e-01, -5.99800295e-01, -8.19654204e-03,\n",
       "       -2.06400139e-01,  3.36738460e-01,  8.62403280e-02,  3.16452468e+01,\n",
       "       -2.40374622e+00,  1.86421328e-02,  1.70854698e-01,  1.51750209e-01,\n",
       "        1.49068341e-01,  1.68633100e-01,  1.37524271e-01,  1.18816836e-01,\n",
       "       -1.36165881e-01,  1.49008015e-01, -1.54599377e-01, -7.80364538e-01,\n",
       "        2.34277724e-02, -2.09976388e-01,  1.75112701e-01, -2.36266145e-01,\n",
       "       -1.00209259e-01,  0.00000000e+00,  1.20305744e-01, -1.84290365e-01,\n",
       "        1.20235271e-01, -2.90018981e-01,  6.66367157e-02, -1.14923008e-01,\n",
       "        9.64260188e-02, -3.71152332e-01, -1.50213739e-01,  2.58065360e-01,\n",
       "        3.16209329e+01,  0.00000000e+00, -6.17916847e-04,  2.06925436e-01,\n",
       "       -8.67215532e-02, -6.02029982e-01, -2.15801537e+00,  1.71542137e-01,\n",
       "        4.66502965e-02, -3.61516567e-01, -2.22599869e-01, -1.82617526e+00,\n",
       "       -3.72136795e-01, -3.02572947e-02,  1.96496320e-01,  1.51593268e-01,\n",
       "       -3.99312923e-01,  2.26369387e-01, -1.24322604e-01,  7.59595150e-02,\n",
       "       -2.52383107e-01,  3.81198304e-01, -1.82227760e+00, -3.96290462e-01,\n",
       "       -1.04600980e-01,  4.17383854e-03,  0.00000000e+00, -1.15155278e-02,\n",
       "        9.86481741e-02,  8.41739599e-02,  1.71109325e-02,  5.88363292e-01,\n",
       "        3.15499165e-01,  1.88190261e-01,  8.20746179e-02, -6.67844920e-02,\n",
       "        3.06794178e+01, -7.07659195e-03, -7.20848528e-02,  2.72041532e-01,\n",
       "       -1.37952922e+00, -1.15403704e-01, -6.45242004e-02, -2.30499162e-01,\n",
       "        3.22813660e+01,  5.52808782e-01,  5.67712602e-02, -1.33727123e-01,\n",
       "       -2.30810038e-01, -2.29883343e-01, -4.29876600e-01, -2.00894009e-01,\n",
       "       -7.85000408e-01, -2.33023604e-01, -7.03425316e-01, -1.14647095e-01,\n",
       "       -2.24992753e-01, -1.83191744e-01, -3.25647129e-02,  2.16883354e-01,\n",
       "        5.27521526e-03, -6.85829179e-02, -5.86230895e-01, -5.45567008e-02,\n",
       "        1.64149761e-01,  3.46878426e-02,  5.86238931e-01, -2.24418538e-01,\n",
       "       -1.92027778e-01, -2.97843367e-01, -4.21338513e-02, -4.61455320e-01,\n",
       "        4.39783476e-01,  2.85750401e+01, -1.75004219e-01, -5.91007439e-02,\n",
       "        1.93942340e-02, -4.81512145e-01,  3.77993783e-02, -1.86252483e-01,\n",
       "       -1.36234856e-02, -5.48918407e-03,  3.04027526e+01,  2.91052703e+01,\n",
       "       -1.92530001e-02,  4.59745855e+00,  2.45121598e-01,  2.92144743e+01,\n",
       "        3.68612524e-01,  2.40425579e-02,  1.13440348e-01,  3.92752916e-01,\n",
       "        6.82792943e-02,  1.12540747e-01,  0.00000000e+00,  6.86255840e-02,\n",
       "        2.93514036e+01, -1.84863370e+00, -8.22012310e-02, -6.93733494e-02,\n",
       "       -3.13590662e-02,  3.03856667e+01,  4.80489546e-01, -5.20986299e-02,\n",
       "        5.97202309e-01,  1.48629813e-02,  9.72001418e-03,  2.53432896e-01,\n",
       "        8.95818974e-01,  1.10641053e-01,  7.04866466e-01, -8.04199985e-02,\n",
       "       -1.15607536e-01, -1.19099759e-01, -8.24292023e-02,  3.03143702e+01,\n",
       "       -4.90901106e-01, -1.53914085e-01, -1.55923689e-01,  1.07549939e-01,\n",
       "        5.00290442e-01,  2.18501599e-02,  1.06103452e-01, -3.74604349e-01,\n",
       "       -2.85335191e-02,  8.95132352e-02,  3.90387861e-02,  2.94288778e-01,\n",
       "       -3.78981424e-02,  2.91176901e+01,  4.01395564e-01, -1.08001198e-02,\n",
       "        6.52743944e-02, -8.53584202e-02,  2.28293624e-01, -3.17419460e-01,\n",
       "        2.44845109e-01, -3.66246120e-01, -2.43729688e-01, -1.66817344e-01,\n",
       "        6.40935031e-03,  2.42467433e-01, -8.95990857e-03, -3.23288854e-01,\n",
       "       -2.70612771e-02,  1.21328216e-01, -3.47466737e-01,  5.04022219e-02,\n",
       "        1.94301310e-01,  8.51452460e-02,  4.56074319e-02, -9.80493789e-03,\n",
       "        3.71664042e-01, -1.62656599e-01, -2.41306016e-01,  2.90408920e+01,\n",
       "       -2.38042016e-01,  1.85871476e-01, -3.86741467e-01,  9.53284021e-02,\n",
       "       -7.31281693e-01,  8.09263319e-03,  2.52284917e-02, -3.91558768e-01,\n",
       "        2.09623720e-02,  3.07887090e-01,  3.47826749e-02, -1.08801543e+00,\n",
       "        1.00403845e-01, -1.40421738e-01, -2.27174780e-01, -7.77897129e-02,\n",
       "        1.88982902e+00,  7.13575061e-03, -7.08086993e-01, -5.63331358e-02,\n",
       "       -9.18900000e-02, -8.20863823e-02,  3.17165571e-01, -4.40591041e-01,\n",
       "       -2.21578262e-01, -1.43444785e-01, -1.08089247e-01, -2.61397727e-02,\n",
       "       -1.08452347e-01,  2.72912281e-01,  2.03253841e-01, -1.42588244e-01,\n",
       "       -5.02209714e-01,  7.97931302e-02, -9.05319463e-01,  2.89895337e+01,\n",
       "        9.89547488e-01, -2.17912112e-02, -7.83478561e-02,  1.79113765e-01,\n",
       "       -3.77227422e-01,  1.27899656e-03,  8.64276410e-02, -1.14820137e-03,\n",
       "        4.87998942e-01, -2.99664780e-01,  6.91387082e-01,  2.98361988e-01,\n",
       "       -7.26214346e-02, -3.18715256e-01,  1.61951561e-01,  8.22140414e-02,\n",
       "        2.50068220e-02,  4.20976131e-01, -1.06395449e-01,  3.83696505e-01,\n",
       "       -2.38034261e-03, -1.41989408e-01, -4.56482215e-01,  1.16911390e-01,\n",
       "        3.69472787e-03,  1.22148327e-01,  2.23133140e-01,  1.75290628e-01,\n",
       "        5.56126125e-02, -1.78328543e-01,  2.94982845e-01, -1.96522256e-01,\n",
       "       -3.40549832e-01, -9.05572226e-02, -1.18733412e-01,  1.62230460e-01,\n",
       "        6.76859782e-02, -5.26204362e-01,  3.35219919e+01,  1.61688227e-01,\n",
       "       -1.33405836e-01,  2.11170191e-01,  0.00000000e+00, -2.34612156e-01,\n",
       "        9.23532876e-02,  1.07622393e-01,  4.45768124e-01,  2.50824789e-01,\n",
       "        3.69022277e-02, -6.31165150e-02,  2.49240745e-01, -2.19817961e+00,\n",
       "       -1.03822291e+00, -2.82026363e-02, -6.22649279e-02, -2.42109093e+00,\n",
       "       -1.20681137e-01,  2.58085370e-02,  2.44346058e-01, -2.46247123e-01,\n",
       "        2.19542702e-01, -9.10761198e-02, -2.18144190e-01, -1.74247485e-01,\n",
       "        3.05456034e+01,  1.05893327e+00, -3.62063212e-01, -9.82427624e-01,\n",
       "        5.70090999e-02,  6.83747416e-01,  2.95743883e-02, -1.52886985e-01,\n",
       "        1.57699837e-01,  4.01197101e-01,  2.92630336e+01, -4.38112287e-02,\n",
       "       -2.05371236e-01, -4.68226620e-01, -4.84306686e-01, -5.95495377e-01,\n",
       "       -3.49150059e-01, -1.95250395e-01,  1.86040054e-01,  2.88018720e+01,\n",
       "       -2.83976247e-01,  0.00000000e+00,  4.80125140e-02, -5.44859380e-02,\n",
       "        3.03901151e-01, -6.94256316e-01,  3.18292348e-01,  2.01426859e-01,\n",
       "        1.33156163e-01, -5.73626609e-01, -5.64036927e-02, -1.13183011e+00,\n",
       "        1.96420838e-01, -2.03956745e-01, -6.49255461e-02, -2.62529834e-02,\n",
       "        3.91825253e-01,  2.92911403e+01,  2.38101445e-01, -2.97352701e-01,\n",
       "       -3.68183097e-01, -2.89873122e-01,  3.40729995e-01, -3.74655011e-02,\n",
       "       -5.29563957e-01,  3.62263322e-02, -1.78049321e-01, -3.31526437e-02,\n",
       "        1.54139844e-01,  3.16572970e-01,  4.40921860e-02, -4.37888084e-01,\n",
       "        4.66828877e-01,  1.39342562e+00,  6.40370466e-02, -1.81938969e-01,\n",
       "       -2.18121604e+00, -1.26532124e-01, -6.58118297e-02, -8.36647637e-02,\n",
       "        2.92112902e+01,  2.92865113e-02, -2.73370912e-02,  1.90228337e-01,\n",
       "       -5.81656665e-02,  1.51183400e-01,  4.33284657e-01,  3.26551014e-01,\n",
       "       -8.20443131e-02,  5.44216498e-04, -5.24034370e-01,  5.87893061e-02,\n",
       "       -2.17505407e-01, -2.53484630e-02,  1.58365369e-01, -9.21663257e-03,\n",
       "        3.17099673e-01,  9.12115173e-02, -8.61953477e-02,  8.39979712e-02,\n",
       "       -2.15213389e-01,  2.00673789e-01,  2.27864013e-01,  4.32640148e-01,\n",
       "        3.71883673e-02, -8.97333978e-01, -5.36136405e-01,  3.44622987e+01,\n",
       "        6.34131690e-01,  7.71568396e-02,  3.12161900e-01,  9.19972861e-03,\n",
       "       -8.35191617e-03,  3.03392625e+01, -3.73213085e-01, -2.83350755e-01,\n",
       "        3.02101905e+01,  0.00000000e+00, -2.96497647e-02, -5.04982409e-01,\n",
       "       -5.10646774e-01,  2.95102938e+01, -1.36935873e-02,  2.11403457e-01,\n",
       "       -2.53912644e-01, -1.96703588e-01,  3.10611838e+01,  1.43143807e-02,\n",
       "        3.40604611e-02,  1.44987997e-01,  2.30626587e-01, -2.35661772e-01,\n",
       "        1.04635625e-01,  5.23726275e-01,  5.07377392e-03,  1.26675230e-01,\n",
       "        3.33996491e-02, -1.79391475e-01,  3.26342873e-01,  4.10237666e-01,\n",
       "        2.80972937e-01,  6.19771082e-02,  1.18131579e-01, -5.43343216e-01,\n",
       "        8.11356017e-02,  2.04022688e-01,  3.99941821e-01,  0.00000000e+00,\n",
       "       -1.00179106e-01,  3.93185939e-01,  2.87416674e+01, -2.36268973e-01,\n",
       "        1.00828910e-01,  1.33023790e-01,  8.05220433e-01, -4.70987709e-02,\n",
       "        6.47183056e-01, -3.42517742e-02, -1.05057663e-01,  2.51472138e-02,\n",
       "        1.01389157e-01,  1.39719253e-02,  6.93622619e-02,  4.46846039e-01,\n",
       "        2.95782405e+01,  3.03278345e-01,  2.19004367e-01,  2.85205528e-01,\n",
       "        7.58184048e-02,  3.65730366e-02, -5.67100073e-02,  2.07443022e-01,\n",
       "        5.63184368e-01,  3.41953747e-01, -1.07960139e+00, -4.08677473e-01,\n",
       "       -3.58054911e-01,  0.00000000e+00,  4.82381146e-01,  4.22076545e-01,\n",
       "        1.15750847e-01, -4.52843515e-01,  2.82751457e+01, -3.97243342e-02,\n",
       "        2.44263889e-01,  1.63937860e-01, -4.31030799e-01, -3.85400400e-01,\n",
       "        0.00000000e+00,  2.91337150e+01, -1.68157957e-01, -1.09020012e-01,\n",
       "        1.75021109e-01, -1.80780346e+00,  2.91458911e+01,  1.82848373e-02,\n",
       "       -1.14588448e-01, -4.92995506e-01,  4.86881285e-01,  1.36406170e-02,\n",
       "       -1.59373385e-01, -6.68298105e-02, -2.53247094e-01, -1.42594279e-01,\n",
       "        1.91227535e-01,  1.26205744e-01, -6.65225496e-01, -1.86507473e-01,\n",
       "        8.37661780e-01, -3.47817901e-01,  7.34890225e-02, -4.16959965e-01,\n",
       "        1.21453522e-02, -1.11238115e+00,  1.96094187e-01,  5.99636297e-02,\n",
       "        9.94561681e-03,  3.50908292e+00,  9.84979906e-01,  3.22848978e+01,\n",
       "       -3.68086374e-02, -2.71899018e-01, -1.61760935e-01, -9.58507415e-03,\n",
       "        1.82309051e-03,  5.66406914e-02, -7.49459771e-02,  3.24283012e+01,\n",
       "        3.14066157e+01, -5.23940047e-01, -2.30321228e-01,  3.48411912e-02,\n",
       "       -2.93675532e-01,  1.08633870e-01,  0.00000000e+00, -1.68979292e-01,\n",
       "        3.47400102e-02,  4.21930628e-02,  1.73978931e+00,  3.05018516e-01])"
      ]
     },
     "execution_count": 80,
     "metadata": {},
     "output_type": "execute_result"
    }
   ],
   "source": [
    "eta = 0.000000000001\n",
    "r = xtree.query(x, k=2, eps=.01, p=2)[0][:,1]\n",
    "s = ytree.query(x, k=1, eps=.01, p=2)[0]\n",
    "s[s==0] = eta\n",
    "assert np.all(s != 0)\n",
    "np.log(r/s, )"
   ]
  },
  {
   "cell_type": "code",
   "execution_count": 99,
   "metadata": {},
   "outputs": [
    {
     "name": "stdout",
     "output_type": "stream",
     "text": [
      "[0. 1. 2. 3.]\n",
      "[0.         0.         0.69314718 1.09861229]\n"
     ]
    }
   ],
   "source": [
    "x = np.array([0.0, 1, 2, 3])\n",
    "print(x)\n",
    "x = np.log(x, where=x > 0)\n",
    "print(x)"
   ]
  },
  {
   "cell_type": "code",
   "execution_count": 53,
   "metadata": {},
   "outputs": [
    {
     "name": "stderr",
     "output_type": "stream",
     "text": [
      "3it [01:53, 36.60s/it]/export/scratch2/levon003/bin/anaconda3/lib/python3.7/site-packages/ipykernel_launcher.py:47: RuntimeWarning: divide by zero encountered in log\n",
      "/export/scratch2/levon003/bin/anaconda3/lib/python3.7/site-packages/numpy/core/_methods.py:117: RuntimeWarning: invalid value encountered in subtract\n",
      "  x = asanyarray(arr - arrmean)\n",
      "15it [13:59, 58.34s/it]/export/scratch2/levon003/bin/anaconda3/lib/python3.7/site-packages/ipykernel_launcher.py:47: RuntimeWarning: divide by zero encountered in true_divide\n",
      "24it [24:35, 72.53s/it]/export/scratch2/levon003/bin/anaconda3/lib/python3.7/site-packages/numpy/core/_methods.py:75: RuntimeWarning: invalid value encountered in reduce\n",
      "  ret = umr_sum(arr, axis, dtype, out, keepdims)\n",
      "/export/scratch2/levon003/bin/anaconda3/lib/python3.7/site-packages/numpy/core/_methods.py:107: RuntimeWarning: invalid value encountered in reduce\n",
      "  arrmean = umr_sum(arr, axis, dtype, keepdims=True)\n",
      "42it [48:03, 87.04s/it]/export/scratch2/levon003/bin/anaconda3/lib/python3.7/site-packages/numpy/core/_methods.py:36: RuntimeWarning: invalid value encountered in reduce\n",
      "  return umr_sum(a, axis, dtype, out, keepdims, initial)\n",
      "69it [1:33:26, 81.26s/it] \n"
     ]
    }
   ],
   "source": [
    "# compute K-L divergence between the training data and each of the months in the month sample\n",
    "month_sample_adjacent_kld_mean_list = []\n",
    "month_sample_adjacent_kld_std_list = []\n",
    "prev_month_features_df = None\n",
    "eta =  0.0000000001\n",
    "for i, month_features_df in tqdm(enumerate(month_feature_df_list)):\n",
    "    if i == 0:\n",
    "        prev_month_features_df = month_features_df\n",
    "        continue\n",
    "    sdf = prev_month_features_df.drop(columns='damaging')\n",
    "    tdf = month_features_df.drop(columns='damaging')\n",
    "    kl_sample_n = 10000\n",
    "    n_iters = 4\n",
    "    kld_list = []\n",
    "    for i in range(n_iters):\n",
    "        kld = KLdivergence((sdf.sample(n=kl_sample_n) + eta).to_numpy(), (tdf.sample(n=kl_sample_n) + eta).to_numpy())\n",
    "        kld_list.append(kld)\n",
    "    month_sample_adjacent_kld_mean_list.append(np.mean(kld_list))\n",
    "    month_sample_adjacent_kld_std_list.append(np.std(kld_list))\n",
    "    prev_month_features_df = month_features_df"
   ]
  },
  {
   "cell_type": "code",
   "execution_count": 54,
   "metadata": {},
   "outputs": [
    {
     "data": {
      "text/plain": [
       "[8.41227702689142,\n",
       " 15.118815855753331,\n",
       " inf,\n",
       " 14.151507207223283,\n",
       " 17.10798847718152,\n",
       " 14.331139309060335,\n",
       " inf,\n",
       " 9.026313967310086,\n",
       " inf,\n",
       " 19.59833865308581,\n",
       " inf,\n",
       " inf,\n",
       " inf,\n",
       " inf,\n",
       " -inf,\n",
       " inf,\n",
       " inf,\n",
       " 11.413548852467912,\n",
       " inf,\n",
       " 12.057084154207995,\n",
       " 13.247930944340977,\n",
       " -inf,\n",
       " 18.537034110783196,\n",
       " nan,\n",
       " -inf,\n",
       " inf,\n",
       " inf,\n",
       " -inf,\n",
       " 9.773313147880655,\n",
       " 16.10044135985374,\n",
       " 25.645735236408722,\n",
       " inf,\n",
       " 18.303414497654842,\n",
       " 14.662470560371707,\n",
       " 20.78110668408081,\n",
       " inf,\n",
       " 11.040098211294433,\n",
       " 26.103956392457434,\n",
       " 24.883486654933563,\n",
       " 12.455116985332031,\n",
       " 27.506570197915735,\n",
       " nan,\n",
       " inf,\n",
       " 6.276954272346201,\n",
       " 11.93451906133297,\n",
       " inf,\n",
       " 10.005179200737722,\n",
       " 15.079055994414503,\n",
       " 12.255396597986712,\n",
       " 9.929064680597476,\n",
       " inf,\n",
       " 24.912621461875155,\n",
       " nan,\n",
       " 14.875657522669481,\n",
       " inf,\n",
       " 15.200750948128922,\n",
       " 18.75201976965478,\n",
       " nan,\n",
       " inf,\n",
       " inf,\n",
       " 10.358084255224965,\n",
       " 16.704013676878553,\n",
       " 14.826800604409819,\n",
       " inf,\n",
       " nan,\n",
       " 17.776629147636417,\n",
       " -inf,\n",
       " 11.860784137573681]"
      ]
     },
     "execution_count": 54,
     "metadata": {},
     "output_type": "execute_result"
    }
   ],
   "source": [
    "month_sample_adjacent_kld_mean_list"
   ]
  },
  {
   "cell_type": "code",
   "execution_count": 52,
   "metadata": {},
   "outputs": [
    {
     "name": "stdout",
     "output_type": "stream",
     "text": [
      "0:03:47.998024\n",
      "2.02 w std. 0.50\n"
     ]
    }
   ],
   "source": [
    "# KL divergence comparing the training data to the April 2015 data\n",
    "tdf = month_sample_df.drop(columns='damaging')\n",
    "start = datetime.now()\n",
    "kl_sample_n = 10000\n",
    "n_iters = 10\n",
    "kld_list = []\n",
    "for i in range(n_iters):\n",
    "    kld = KLdivergence(sdf.sample(n=kl_sample_n).to_numpy(), (tdf.sample(n=kl_sample_n) + 0.0000000001).to_numpy())\n",
    "    kld_list.append(kld)\n",
    "print(f\"{datetime.now() - start}\")\n",
    "print(f\"{np.mean(kld_list):.2f} w std. {np.std(kld_list):.2f}\")"
   ]
  },
  {
   "cell_type": "code",
   "execution_count": 53,
   "metadata": {},
   "outputs": [
    {
     "name": "stdout",
     "output_type": "stream",
     "text": [
      "0:04:16.450829\n",
      "6.37 w std. 0.31\n"
     ]
    }
   ],
   "source": [
    "# KL divergence comparing the training data to the sample1 data\n",
    "tdf = mock_features_df.drop(columns='damaging')\n",
    "start = datetime.now()\n",
    "kl_sample_n = 10000\n",
    "n_iters = 10\n",
    "kld_list = []\n",
    "for i in range(n_iters):\n",
    "    kld = KLdivergence(sdf.sample(n=kl_sample_n).to_numpy(), (tdf.sample(n=kl_sample_n) + 0.0000000001).to_numpy())\n",
    "    kld_list.append(kld)\n",
    "print(f\"{datetime.now() - start}\")\n",
    "print(f\"{np.mean(kld_list):.2f} w std. {np.std(kld_list):.2f}\")"
   ]
  },
  {
   "cell_type": "code",
   "execution_count": null,
   "metadata": {},
   "outputs": [],
   "source": []
  }
 ],
 "metadata": {
  "kernelspec": {
   "display_name": "Flagon Python3",
   "language": "python",
   "name": "flagon-conda-env"
  },
  "language_info": {
   "codemirror_mode": {
    "name": "ipython",
    "version": 3
   },
   "file_extension": ".py",
   "mimetype": "text/x-python",
   "name": "python",
   "nbconvert_exporter": "python",
   "pygments_lexer": "ipython3",
   "version": "3.7.6"
  }
 },
 "nbformat": 4,
 "nbformat_minor": 4
}
