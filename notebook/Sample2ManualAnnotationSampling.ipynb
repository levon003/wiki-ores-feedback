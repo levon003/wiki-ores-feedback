{
 "cells": [
  {
   "cell_type": "markdown",
   "metadata": {},
   "source": [
    "Sample 2 Manual Annotation Sampling\n",
    "===\n",
    "\n"
   ]
  },
  {
   "cell_type": "code",
   "execution_count": 1,
   "metadata": {},
   "outputs": [],
   "source": [
    "import numpy as np\n",
    "import pandas as pd\n",
    "import matplotlib.pyplot as plt\n",
    "import matplotlib"
   ]
  },
  {
   "cell_type": "code",
   "execution_count": 2,
   "metadata": {},
   "outputs": [],
   "source": [
    "import os\n",
    "from tqdm import tqdm\n",
    "import bz2\n",
    "import gzip\n",
    "import json\n",
    "import re\n",
    "import hashlib\n",
    "from datetime import datetime\n",
    "import nltk\n",
    "import scipy.stats\n",
    "import para\n",
    "from itertools import groupby\n",
    "from collections import Counter"
   ]
  },
  {
   "cell_type": "code",
   "execution_count": 3,
   "metadata": {},
   "outputs": [
    {
     "data": {
      "text/plain": [
       "'/export/scratch2/levon003/repos/wiki-ores-feedback'"
      ]
     },
     "execution_count": 3,
     "metadata": {},
     "output_type": "execute_result"
    }
   ],
   "source": [
    "git_root_dir = !git rev-parse --show-toplevel\n",
    "git_root_dir = git_root_dir[0]\n",
    "git_root_dir"
   ]
  },
  {
   "cell_type": "code",
   "execution_count": 4,
   "metadata": {},
   "outputs": [
    {
     "data": {
      "text/plain": [
       "('/export/scratch2/wiki_data',\n",
       " '/export/scratch2/levon003/repos/wiki-ores-feedback/data/derived')"
      ]
     },
     "execution_count": 4,
     "metadata": {},
     "output_type": "execute_result"
    }
   ],
   "source": [
    "raw_data_dir = \"/export/scratch2/wiki_data\"\n",
    "derived_data_dir = os.path.join(git_root_dir, \"data\", \"derived\")\n",
    "raw_data_dir, derived_data_dir"
   ]
  },
  {
   "cell_type": "code",
   "execution_count": 5,
   "metadata": {},
   "outputs": [
    {
     "data": {
      "text/plain": [
       "'/export/scratch2/levon003/repos/wiki-ores-feedback/data/derived/stub-history-all-revisions'"
      ]
     },
     "execution_count": 5,
     "metadata": {},
     "output_type": "execute_result"
    }
   ],
   "source": [
    "stub_history_dir = os.path.join(derived_data_dir, 'stub-history-all-revisions')\n",
    "stub_history_dir"
   ]
  },
  {
   "cell_type": "code",
   "execution_count": 6,
   "metadata": {},
   "outputs": [
    {
     "data": {
      "text/plain": [
       "'/export/scratch2/levon003/repos/wiki-ores-feedback/data/derived/sample2-manual-annotation-samples'"
      ]
     },
     "execution_count": 6,
     "metadata": {},
     "output_type": "execute_result"
    }
   ],
   "source": [
    "working_dir = os.path.join(derived_data_dir, 'sample2-manual-annotation-samples')\n",
    "os.makedirs(working_dir, exist_ok=True)\n",
    "working_dir"
   ]
  },
  {
   "cell_type": "code",
   "execution_count": 7,
   "metadata": {},
   "outputs": [
    {
     "data": {
      "text/plain": [
       "(1396328400, 1577858400)"
      ]
     },
     "execution_count": 7,
     "metadata": {},
     "output_type": "execute_result"
    }
   ],
   "source": [
    "start_date = datetime.fromisoformat('2014-04-01')\n",
    "start_timestamp = int(start_date.timestamp())\n",
    "end_date = datetime.fromisoformat('2020-01-01')\n",
    "end_timestamp = int(end_date.timestamp())\n",
    "start_timestamp, end_timestamp"
   ]
  },
  {
   "cell_type": "markdown",
   "metadata": {},
   "source": [
    "### Load sample 2\n"
   ]
  },
  {
   "cell_type": "code",
   "execution_count": 8,
   "metadata": {},
   "outputs": [
    {
     "data": {
      "text/plain": [
       "1000000"
      ]
     },
     "execution_count": 8,
     "metadata": {},
     "output_type": "execute_result"
    }
   ],
   "source": [
    "# read in the sample dataframe\n",
    "revision_sample_dir = os.path.join(derived_data_dir, 'revision_sample')\n",
    "sample2_filepath = os.path.join(revision_sample_dir, 'sample2_1M.pkl')\n",
    "rev_df = pd.read_pickle(sample2_filepath)\n",
    "len(rev_df)"
   ]
  },
  {
   "cell_type": "code",
   "execution_count": 9,
   "metadata": {},
   "outputs": [
    {
     "data": {
      "text/plain": [
       "1000000"
      ]
     },
     "execution_count": 9,
     "metadata": {},
     "output_type": "execute_result"
    }
   ],
   "source": [
    "# read in the ORES scores\n",
    "revision_sample_dir = os.path.join(derived_data_dir, 'revision_sample')\n",
    "sample2_filepath = os.path.join(revision_sample_dir, 'sample2_ores_scores.csv')\n",
    "ores_df = pd.read_csv(sample2_filepath, header=None, names=['rev_id', 'damaging_prob', 'damaging_pred', 'goodfaith_prob', 'goodfaith_pred'])\n",
    "len(ores_df)"
   ]
  },
  {
   "cell_type": "code",
   "execution_count": 10,
   "metadata": {},
   "outputs": [
    {
     "data": {
      "text/plain": [
       "1000000"
      ]
     },
     "execution_count": 10,
     "metadata": {},
     "output_type": "execute_result"
    }
   ],
   "source": [
    "rev_df = pd.merge(rev_df, ores_df, on='rev_id', how='inner')\n",
    "len(rev_df)"
   ]
  },
  {
   "cell_type": "code",
   "execution_count": 11,
   "metadata": {},
   "outputs": [
    {
     "data": {
      "text/html": [
       "<div>\n",
       "<style scoped>\n",
       "    .dataframe tbody tr th:only-of-type {\n",
       "        vertical-align: middle;\n",
       "    }\n",
       "\n",
       "    .dataframe tbody tr th {\n",
       "        vertical-align: top;\n",
       "    }\n",
       "\n",
       "    .dataframe thead th {\n",
       "        text-align: right;\n",
       "    }\n",
       "</style>\n",
       "<table border=\"1\" class=\"dataframe\">\n",
       "  <thead>\n",
       "    <tr style=\"text-align: right;\">\n",
       "      <th></th>\n",
       "      <th>page_id</th>\n",
       "      <th>rev_id</th>\n",
       "      <th>rev_timestamp</th>\n",
       "      <th>is_revert_target</th>\n",
       "      <th>is_reverted</th>\n",
       "      <th>is_reverting</th>\n",
       "      <th>is_sample_eligible</th>\n",
       "      <th>prev_rev_id</th>\n",
       "      <th>next_rev_id</th>\n",
       "      <th>prev_rev_timestamp</th>\n",
       "      <th>next_rev_timestamp</th>\n",
       "      <th>reverted_rev_ids</th>\n",
       "      <th>reverting_rev_id</th>\n",
       "      <th>reverting_rev_timestamp</th>\n",
       "      <th>damaging_prob</th>\n",
       "      <th>damaging_pred</th>\n",
       "      <th>goodfaith_prob</th>\n",
       "      <th>goodfaith_pred</th>\n",
       "    </tr>\n",
       "  </thead>\n",
       "  <tbody>\n",
       "    <tr>\n",
       "      <th>0</th>\n",
       "      <td>52232058</td>\n",
       "      <td>831517149</td>\n",
       "      <td>1521608836</td>\n",
       "      <td>0</td>\n",
       "      <td>0</td>\n",
       "      <td>0</td>\n",
       "      <td>True</td>\n",
       "      <td>831516744</td>\n",
       "      <td>831528824</td>\n",
       "      <td>1521608698</td>\n",
       "      <td>1521614309</td>\n",
       "      <td>[]</td>\n",
       "      <td>-1</td>\n",
       "      <td>-1</td>\n",
       "      <td>0.340084</td>\n",
       "      <td>False</td>\n",
       "      <td>0.746885</td>\n",
       "      <td>True</td>\n",
       "    </tr>\n",
       "    <tr>\n",
       "      <th>1</th>\n",
       "      <td>1501758</td>\n",
       "      <td>841712258</td>\n",
       "      <td>1526588824</td>\n",
       "      <td>0</td>\n",
       "      <td>0</td>\n",
       "      <td>0</td>\n",
       "      <td>True</td>\n",
       "      <td>841712075</td>\n",
       "      <td>841712410</td>\n",
       "      <td>1526588726</td>\n",
       "      <td>1526588897</td>\n",
       "      <td>[]</td>\n",
       "      <td>-1</td>\n",
       "      <td>-1</td>\n",
       "      <td>0.021781</td>\n",
       "      <td>False</td>\n",
       "      <td>0.984908</td>\n",
       "      <td>True</td>\n",
       "    </tr>\n",
       "    <tr>\n",
       "      <th>2</th>\n",
       "      <td>25239</td>\n",
       "      <td>844335926</td>\n",
       "      <td>1528115396</td>\n",
       "      <td>0</td>\n",
       "      <td>0</td>\n",
       "      <td>0</td>\n",
       "      <td>True</td>\n",
       "      <td>844335334</td>\n",
       "      <td>844343345</td>\n",
       "      <td>1528114910</td>\n",
       "      <td>1528120731</td>\n",
       "      <td>[]</td>\n",
       "      <td>-1</td>\n",
       "      <td>-1</td>\n",
       "      <td>0.068573</td>\n",
       "      <td>False</td>\n",
       "      <td>0.941672</td>\n",
       "      <td>True</td>\n",
       "    </tr>\n",
       "    <tr>\n",
       "      <th>3</th>\n",
       "      <td>46695824</td>\n",
       "      <td>846301278</td>\n",
       "      <td>1529286250</td>\n",
       "      <td>0</td>\n",
       "      <td>0</td>\n",
       "      <td>0</td>\n",
       "      <td>True</td>\n",
       "      <td>845230648</td>\n",
       "      <td>846302881</td>\n",
       "      <td>1528645143</td>\n",
       "      <td>1529287006</td>\n",
       "      <td>[]</td>\n",
       "      <td>-1</td>\n",
       "      <td>-1</td>\n",
       "      <td>0.021797</td>\n",
       "      <td>False</td>\n",
       "      <td>0.978803</td>\n",
       "      <td>True</td>\n",
       "    </tr>\n",
       "    <tr>\n",
       "      <th>4</th>\n",
       "      <td>1664084</td>\n",
       "      <td>838201915</td>\n",
       "      <td>1524687382</td>\n",
       "      <td>0</td>\n",
       "      <td>0</td>\n",
       "      <td>0</td>\n",
       "      <td>True</td>\n",
       "      <td>838077319</td>\n",
       "      <td>838203213</td>\n",
       "      <td>1524617329</td>\n",
       "      <td>1524687976</td>\n",
       "      <td>[]</td>\n",
       "      <td>-1</td>\n",
       "      <td>-1</td>\n",
       "      <td>0.029711</td>\n",
       "      <td>False</td>\n",
       "      <td>0.988456</td>\n",
       "      <td>True</td>\n",
       "    </tr>\n",
       "  </tbody>\n",
       "</table>\n",
       "</div>"
      ],
      "text/plain": [
       "    page_id     rev_id  rev_timestamp  is_revert_target  is_reverted  \\\n",
       "0  52232058  831517149     1521608836                 0            0   \n",
       "1   1501758  841712258     1526588824                 0            0   \n",
       "2     25239  844335926     1528115396                 0            0   \n",
       "3  46695824  846301278     1529286250                 0            0   \n",
       "4   1664084  838201915     1524687382                 0            0   \n",
       "\n",
       "   is_reverting  is_sample_eligible  prev_rev_id  next_rev_id  \\\n",
       "0             0                True    831516744    831528824   \n",
       "1             0                True    841712075    841712410   \n",
       "2             0                True    844335334    844343345   \n",
       "3             0                True    845230648    846302881   \n",
       "4             0                True    838077319    838203213   \n",
       "\n",
       "   prev_rev_timestamp  next_rev_timestamp reverted_rev_ids  reverting_rev_id  \\\n",
       "0          1521608698          1521614309               []                -1   \n",
       "1          1526588726          1526588897               []                -1   \n",
       "2          1528114910          1528120731               []                -1   \n",
       "3          1528645143          1529287006               []                -1   \n",
       "4          1524617329          1524687976               []                -1   \n",
       "\n",
       "   reverting_rev_timestamp  damaging_prob damaging_pred  goodfaith_prob  \\\n",
       "0                       -1       0.340084         False        0.746885   \n",
       "1                       -1       0.021781         False        0.984908   \n",
       "2                       -1       0.068573         False        0.941672   \n",
       "3                       -1       0.021797         False        0.978803   \n",
       "4                       -1       0.029711         False        0.988456   \n",
       "\n",
       "  goodfaith_pred  \n",
       "0           True  \n",
       "1           True  \n",
       "2           True  \n",
       "3           True  \n",
       "4           True  "
      ]
     },
     "execution_count": 11,
     "metadata": {},
     "output_type": "execute_result"
    }
   ],
   "source": [
    "rev_df.head()"
   ]
  },
  {
   "cell_type": "markdown",
   "metadata": {},
   "source": [
    "## Sample for Bruce Liu\n",
    "\n",
    "Response to Haiyi's email on Wed, Apr 8, 12:08 PM.\n",
    "\n",
    "\"Would you please share the revision dataset you generated (the revision id, the ORES score, and the community response - whether the revision was reverted or not) with Bruce?\""
   ]
  },
  {
   "cell_type": "code",
   "execution_count": 14,
   "metadata": {},
   "outputs": [
    {
     "name": "stderr",
     "output_type": "stream",
     "text": [
      "100%|██████████| 1000000/1000000 [00:08<00:00, 124728.00it/s]\n"
     ]
    }
   ],
   "source": [
    "# write out the full sample as a CSV\n",
    "sample_subset_filepath = os.path.join(working_dir, f\"sample2_2018_bruceliu.csv\")\n",
    "with open(sample_subset_filepath, 'w') as outfile:\n",
    "    outfile.write(\"page_id,rev_id,rev_timestamp,is_reverted,is_reverting,damaging_prob,goodfaith_prob\\n\")\n",
    "    for t in tqdm(rev_df.itertuples(), total=len(rev_df)):\n",
    "        url = f\"https://en.wikipedia.org/wiki/?diff={t.rev_id}\"\n",
    "        line = f\"{t.page_id},{t.rev_id},{t.rev_timestamp},{t.is_reverted},{t.is_reverting},{t.damaging_prob},{t.goodfaith_prob}\\n\"\n",
    "        outfile.write(line)"
   ]
  },
  {
   "cell_type": "markdown",
   "metadata": {},
   "source": [
    "### Samples from expected corners"
   ]
  },
  {
   "cell_type": "code",
   "execution_count": 12,
   "metadata": {},
   "outputs": [
    {
     "name": "stdout",
     "output_type": "stream",
     "text": [
      "67971 likelygood reverted revisions\n"
     ]
    }
   ],
   "source": [
    "# write out a sample of likelygood reverted revisions\n",
    "n = 100\n",
    "\n",
    "likelygood_threshold = 0.329\n",
    "verylikelybad_threshold = 0.919\n",
    "likelybad_threshold = 0.641\n",
    "\n",
    "sample_subset_filepath = os.path.join(working_dir, f\"sample2_likelygood_reverted_random{n}.csv\")\n",
    "with open(sample_subset_filepath, 'w') as outfile:\n",
    "    outfile.write(\"page_id,rev_id,rev_timestamp,rev_date,is_reverted,is_reverting,damaging_prob,diff_url\\n\")\n",
    "    subset = rev_df[(rev_df.damaging_prob <= likelygood_threshold)&(rev_df.is_reverted == 1)]\n",
    "    print(f\"{len(subset)} likelygood reverted revisions\")\n",
    "    subset = subset.sample(n=n, random_state=2)\n",
    "    for t in subset.itertuples():\n",
    "        url = f\"https://en.wikipedia.org/wiki/?diff={t.rev_id}\"\n",
    "        rev_date = datetime.utcfromtimestamp(t.rev_timestamp).strftime(\"%Y-%m-%d\")\n",
    "        line = f\"{t.page_id},{t.rev_id},{t.rev_timestamp},{rev_date},{t.is_reverted},{t.is_reverting},{t.damaging_prob},{url}\\n\"\n",
    "        outfile.write(line)"
   ]
  },
  {
   "cell_type": "code",
   "execution_count": 15,
   "metadata": {},
   "outputs": [
    {
     "name": "stdout",
     "output_type": "stream",
     "text": [
      "303 verylikelybad nonreverted revisions\n"
     ]
    }
   ],
   "source": [
    "# write out a sample of verylikelybad reverted revisions\n",
    "n = 100\n",
    "\n",
    "likelygood_threshold = 0.329\n",
    "verylikelybad_threshold = 0.919\n",
    "likelybad_threshold = 0.641\n",
    "\n",
    "sample_subset_filepath = os.path.join(working_dir, f\"sample2_verylikelybad_nonreverted_random{n}.csv\")\n",
    "with open(sample_subset_filepath, 'w') as outfile:\n",
    "    outfile.write(\"page_id,rev_id,rev_timestamp,rev_date,is_reverted,is_reverting,damaging_prob,diff_url\\n\")\n",
    "    subset = rev_df[(rev_df.damaging_prob >= verylikelybad_threshold)&(rev_df.is_reverted == 0)]\n",
    "    print(f\"{len(subset)} verylikelybad nonreverted revisions\")\n",
    "    subset = subset.sample(n=n, random_state=2)\n",
    "    for t in subset.itertuples():\n",
    "        url = f\"https://en.wikipedia.org/wiki/?diff={t.rev_id}\"\n",
    "        rev_date = datetime.utcfromtimestamp(t.rev_timestamp).strftime(\"%Y-%m-%d\")\n",
    "        line = f\"{t.page_id},{t.rev_id},{t.rev_timestamp},{rev_date},{t.is_reverted},{t.is_reverting},{t.damaging_prob},{url}\\n\"\n",
    "        outfile.write(line)"
   ]
  },
  {
   "cell_type": "code",
   "execution_count": null,
   "metadata": {},
   "outputs": [],
   "source": []
  },
  {
   "cell_type": "code",
   "execution_count": null,
   "metadata": {},
   "outputs": [],
   "source": []
  }
 ],
 "metadata": {
  "kernelspec": {
   "display_name": "Flagon Python3",
   "language": "python",
   "name": "flagon-conda-env"
  },
  "language_info": {
   "codemirror_mode": {
    "name": "ipython",
    "version": 3
   },
   "file_extension": ".py",
   "mimetype": "text/x-python",
   "name": "python",
   "nbconvert_exporter": "python",
   "pygments_lexer": "ipython3",
   "version": "3.7.6"
  }
 },
 "nbformat": 4,
 "nbformat_minor": 4
}
