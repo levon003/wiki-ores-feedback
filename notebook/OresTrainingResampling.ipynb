{
 "cells": [
  {
   "cell_type": "markdown",
   "metadata": {},
   "source": [
    "ORES Training Resampling\n",
    "===\n",
    "\n",
    "TODO implement resampling"
   ]
  },
  {
   "cell_type": "code",
   "execution_count": 1,
   "metadata": {},
   "outputs": [],
   "source": [
    "import numpy as np\n",
    "import pandas as pd\n",
    "import matplotlib.pyplot as plt\n",
    "import matplotlib"
   ]
  },
  {
   "cell_type": "code",
   "execution_count": 2,
   "metadata": {},
   "outputs": [],
   "source": [
    "import os\n",
    "from tqdm import tqdm\n",
    "import bz2\n",
    "import gzip\n",
    "import json\n",
    "import re\n",
    "import hashlib\n",
    "from datetime import datetime\n",
    "import nltk\n",
    "import scipy.stats\n",
    "import para\n",
    "from itertools import groupby\n",
    "from collections import Counter"
   ]
  },
  {
   "cell_type": "code",
   "execution_count": 3,
   "metadata": {},
   "outputs": [
    {
     "data": {
      "text/plain": [
       "'/export/scratch2/levon003/repos/wiki-ores-feedback'"
      ]
     },
     "execution_count": 3,
     "metadata": {},
     "output_type": "execute_result"
    }
   ],
   "source": [
    "git_root_dir = !git rev-parse --show-toplevel\n",
    "git_root_dir = git_root_dir[0]\n",
    "git_root_dir"
   ]
  },
  {
   "cell_type": "code",
   "execution_count": 4,
   "metadata": {},
   "outputs": [
    {
     "data": {
      "text/plain": [
       "('/export/scratch2/wiki_data',\n",
       " '/export/scratch2/levon003/repos/wiki-ores-feedback/data/derived')"
      ]
     },
     "execution_count": 4,
     "metadata": {},
     "output_type": "execute_result"
    }
   ],
   "source": [
    "raw_data_dir = \"/export/scratch2/wiki_data\"\n",
    "derived_data_dir = os.path.join(git_root_dir, \"data\", \"derived\")\n",
    "raw_data_dir, derived_data_dir"
   ]
  },
  {
   "cell_type": "code",
   "execution_count": 6,
   "metadata": {},
   "outputs": [
    {
     "data": {
      "text/plain": [
       "'/export/scratch2/levon003/repos/wiki-ores-feedback/data/derived/stub-history-all-revisions'"
      ]
     },
     "execution_count": 6,
     "metadata": {},
     "output_type": "execute_result"
    }
   ],
   "source": [
    "stub_history_dir = os.path.join(derived_data_dir, 'stub-history-all-revisions')\n",
    "stub_history_dir"
   ]
  },
  {
   "cell_type": "code",
   "execution_count": 7,
   "metadata": {},
   "outputs": [
    {
     "data": {
      "text/plain": [
       "'/export/scratch2/levon003/repos/wiki-ores-feedback/data/derived/ores-train-resampling'"
      ]
     },
     "execution_count": 7,
     "metadata": {},
     "output_type": "execute_result"
    }
   ],
   "source": [
    "working_dir = os.path.join(derived_data_dir, 'ores-train-resampling')\n",
    "os.makedirs(working_dir, exist_ok=True)\n",
    "working_dir"
   ]
  },
  {
   "cell_type": "code",
   "execution_count": 8,
   "metadata": {},
   "outputs": [
    {
     "data": {
      "text/plain": [
       "(1396328400, 1577858400)"
      ]
     },
     "execution_count": 8,
     "metadata": {},
     "output_type": "execute_result"
    }
   ],
   "source": [
    "start_date = datetime.fromisoformat('2014-04-01')\n",
    "start_timestamp = int(start_date.timestamp())\n",
    "end_date = datetime.fromisoformat('2020-01-01')\n",
    "end_timestamp = int(end_date.timestamp())\n",
    "start_timestamp, end_timestamp"
   ]
  },
  {
   "cell_type": "markdown",
   "metadata": {},
   "source": [
    "### Load in all ns3 revisions\n",
    "\n",
    "First, we use awk to extract only the ns3 revisions from the full revisions file."
   ]
  },
  {
   "cell_type": "code",
   "execution_count": 13,
   "metadata": {},
   "outputs": [
    {
     "name": "stdout",
     "output_type": "stream",
     "text": [
      "/export/scratch2/levon003/repos/wiki-ores-feedback/data/derived/stub-history-all-revisions/rev_ids_2010to2019.csv\n",
      "/export/scratch2/levon003/repos/wiki-ores-feedback/data/derived/stub-history-all-revisions/rev_ids_2010to2019_ns3.csv\n"
     ]
    }
   ],
   "source": [
    "rev_ids_filepath = os.path.join(stub_history_dir, 'rev_ids_2010to2019.csv')\n",
    "rev_ids_ns3_filepath = os.path.join(stub_history_dir, 'rev_ids_2010to2019_ns3.csv')\n",
    "print(rev_ids_filepath)\n",
    "print(rev_ids_ns3_filepath)"
   ]
  },
  {
   "cell_type": "code",
   "execution_count": 14,
   "metadata": {},
   "outputs": [],
   "source": [
    "!awk -F,  'BEGIN {OFS=\",\"} { if ($2 == \"3\")  print}' /export/scratch2/levon003/repos/wiki-ores-feedback/data/derived/stub-history-all-revisions/rev_ids_2010to2019.csv > /export/scratch2/levon003/repos/wiki-ores-feedback/data/derived/stub-history-all-revisions/rev_ids_2010to2019_ns3.csv"
   ]
  },
  {
   "cell_type": "code",
   "execution_count": 15,
   "metadata": {},
   "outputs": [
    {
     "name": "stdout",
     "output_type": "stream",
     "text": [
      "39429426 /export/scratch2/levon003/repos/wiki-ores-feedback/data/derived/stub-history-all-revisions/rev_ids_2010to2019_ns3.csv\r\n"
     ]
    }
   ],
   "source": [
    "!wc -l {rev_ids_ns3_filepath}"
   ]
  },
  {
   "cell_type": "code",
   "execution_count": 59,
   "metadata": {},
   "outputs": [
    {
     "name": "stderr",
     "output_type": "stream",
     "text": [
      "/export/scratch2/levon003/bin/anaconda3/lib/python3.7/site-packages/IPython/core/interactiveshell.py:3063: DtypeWarning: Columns (7,8,9) have mixed types. Specify dtype option on import or set low_memory=False.\n",
      "  interactivity=interactivity, compiler=compiler, result=result)\n"
     ]
    },
    {
     "name": "stdout",
     "output_type": "stream",
     "text": [
      "0:00:29.597418\n"
     ]
    },
    {
     "data": {
      "text/plain": [
       "39309254"
      ]
     },
     "execution_count": 59,
     "metadata": {},
     "output_type": "execute_result"
    }
   ],
   "source": [
    "# read in the namespace-3 revisions\n",
    "start = datetime.now()\n",
    "df = pd.read_csv(rev_ids_ns3_filepath,\n",
    "                 header=None, \n",
    "                 names=['page_id', 'namespace', 'is_redirect', 'rev_id', 'rev_timestamp', 'user_text', 'user_id', 'is_revert_target', 'is_reverted', 'is_reverting']\n",
    ")\n",
    "print(f\"{datetime.now() - start}\")\n",
    "len(df)"
   ]
  },
  {
   "cell_type": "code",
   "execution_count": 60,
   "metadata": {},
   "outputs": [
    {
     "name": "stdout",
     "output_type": "stream",
     "text": [
      "0:00:16.466559\n"
     ]
    }
   ],
   "source": [
    "start = datetime.now()\n",
    "df = df.sort_values(by='rev_timestamp')\n",
    "print(f\"{datetime.now() - start}\")"
   ]
  },
  {
   "cell_type": "code",
   "execution_count": 61,
   "metadata": {},
   "outputs": [
    {
     "data": {
      "text/html": [
       "<div>\n",
       "<style scoped>\n",
       "    .dataframe tbody tr th:only-of-type {\n",
       "        vertical-align: middle;\n",
       "    }\n",
       "\n",
       "    .dataframe tbody tr th {\n",
       "        vertical-align: top;\n",
       "    }\n",
       "\n",
       "    .dataframe thead th {\n",
       "        text-align: right;\n",
       "    }\n",
       "</style>\n",
       "<table border=\"1\" class=\"dataframe\">\n",
       "  <thead>\n",
       "    <tr style=\"text-align: right;\">\n",
       "      <th></th>\n",
       "      <th>page_id</th>\n",
       "      <th>namespace</th>\n",
       "      <th>is_redirect</th>\n",
       "      <th>rev_id</th>\n",
       "      <th>rev_timestamp</th>\n",
       "      <th>user_text</th>\n",
       "      <th>user_id</th>\n",
       "      <th>is_revert_target</th>\n",
       "      <th>is_reverted</th>\n",
       "      <th>is_reverting</th>\n",
       "    </tr>\n",
       "  </thead>\n",
       "  <tbody>\n",
       "    <tr>\n",
       "      <th>18080918</th>\n",
       "      <td>20907938</td>\n",
       "      <td>3</td>\n",
       "      <td>0</td>\n",
       "      <td>335202627</td>\n",
       "      <td>1262325609</td>\n",
       "      <td>Philip Stevens</td>\n",
       "      <td>411183</td>\n",
       "      <td>0</td>\n",
       "      <td>0</td>\n",
       "      <td>0</td>\n",
       "    </tr>\n",
       "    <tr>\n",
       "      <th>14735690</th>\n",
       "      <td>25638779</td>\n",
       "      <td>3</td>\n",
       "      <td>0</td>\n",
       "      <td>335202628</td>\n",
       "      <td>1262325609</td>\n",
       "      <td>Philip Stevens</td>\n",
       "      <td>411183</td>\n",
       "      <td>0</td>\n",
       "      <td>0</td>\n",
       "      <td>0</td>\n",
       "    </tr>\n",
       "    <tr>\n",
       "      <th>12273844</th>\n",
       "      <td>22737741</td>\n",
       "      <td>3</td>\n",
       "      <td>0</td>\n",
       "      <td>335202655</td>\n",
       "      <td>1262325615</td>\n",
       "      <td>XLinkBot</td>\n",
       "      <td>6163802</td>\n",
       "      <td>1</td>\n",
       "      <td>0</td>\n",
       "      <td>0</td>\n",
       "    </tr>\n",
       "    <tr>\n",
       "      <th>1080314</th>\n",
       "      <td>24048656</td>\n",
       "      <td>3</td>\n",
       "      <td>0</td>\n",
       "      <td>335202682</td>\n",
       "      <td>1262325624</td>\n",
       "      <td>Bigweeboy</td>\n",
       "      <td>9166188</td>\n",
       "      <td>0</td>\n",
       "      <td>0</td>\n",
       "      <td>0</td>\n",
       "    </tr>\n",
       "    <tr>\n",
       "      <th>16147253</th>\n",
       "      <td>2914299</td>\n",
       "      <td>3</td>\n",
       "      <td>0</td>\n",
       "      <td>335202684</td>\n",
       "      <td>1262325624</td>\n",
       "      <td>TonyTheTiger</td>\n",
       "      <td>1426328</td>\n",
       "      <td>0</td>\n",
       "      <td>0</td>\n",
       "      <td>0</td>\n",
       "    </tr>\n",
       "  </tbody>\n",
       "</table>\n",
       "</div>"
      ],
      "text/plain": [
       "           page_id  namespace  is_redirect     rev_id  rev_timestamp  \\\n",
       "18080918  20907938          3            0  335202627     1262325609   \n",
       "14735690  25638779          3            0  335202628     1262325609   \n",
       "12273844  22737741          3            0  335202655     1262325615   \n",
       "1080314   24048656          3            0  335202682     1262325624   \n",
       "16147253   2914299          3            0  335202684     1262325624   \n",
       "\n",
       "               user_text  user_id is_revert_target is_reverted is_reverting  \n",
       "18080918  Philip Stevens   411183                0           0            0  \n",
       "14735690  Philip Stevens   411183                0           0            0  \n",
       "12273844        XLinkBot  6163802                1           0            0  \n",
       "1080314        Bigweeboy  9166188                0           0            0  \n",
       "16147253    TonyTheTiger  1426328                0           0            0  "
      ]
     },
     "execution_count": 61,
     "metadata": {},
     "output_type": "execute_result"
    }
   ],
   "source": [
    "df.head()"
   ]
  },
  {
   "cell_type": "markdown",
   "metadata": {},
   "source": [
    "### Range analysis\n",
    "\n",
    "Analyzing the two specific periods during which the ns-3 revision anomaly is observed."
   ]
  },
  {
   "cell_type": "code",
   "execution_count": 37,
   "metadata": {
    "scrolled": true
   },
   "outputs": [
    {
     "name": "stdout",
     "output_type": "stream",
     "text": [
      "537792\n"
     ]
    },
    {
     "data": {
      "text/plain": [
       "[(20150320, 526831), (20150319, 8319), (20150321, 2642)]"
      ]
     },
     "execution_count": 37,
     "metadata": {},
     "output_type": "execute_result"
    }
   ],
   "source": [
    "range1_start_timestamp = int(datetime.fromisoformat('2015-03-19').timestamp())\n",
    "range1_end_timestamp = int(datetime.fromisoformat('2015-03-21').timestamp())\n",
    "\n",
    "subset = df[(df.rev_timestamp >= range1_start_timestamp)&(df.rev_timestamp <= range1_end_timestamp)]\n",
    "print(len(subset))\n",
    "\n",
    "days = [int(datetime.utcfromtimestamp(rt).strftime(\"%Y%m%d\")) for rt in subset.rev_timestamp]\n",
    "mc = Counter(days)\n",
    "mc.most_common(10)"
   ]
  },
  {
   "cell_type": "code",
   "execution_count": 38,
   "metadata": {},
   "outputs": [
    {
     "data": {
      "text/plain": [
       "[('MediaWiki message delivery', 516152),\n",
       " ('ClueBot NG', 1632),\n",
       " ('Stefan2', 1171),\n",
       " ('Lowercase sigmabot III', 618),\n",
       " ('Materialscientist', 386),\n",
       " ('HasteurBot', 384),\n",
       " ('L235', 308),\n",
       " ('DPL bot', 304),\n",
       " ('Gilliam', 284),\n",
       " ('Onel5969', 277)]"
      ]
     },
     "execution_count": 38,
     "metadata": {},
     "output_type": "execute_result"
    }
   ],
   "source": [
    "Counter(subset.user_text).most_common(10)"
   ]
  },
  {
   "cell_type": "code",
   "execution_count": 39,
   "metadata": {},
   "outputs": [
    {
     "data": {
      "text/plain": [
       "0.9597613947399738"
      ]
     },
     "execution_count": 39,
     "metadata": {},
     "output_type": "execute_result"
    }
   ],
   "source": [
    "mwmd_subset = subset[subset.user_text == 'MediaWiki message delivery']\n",
    "len(mwmd_subset) / len(subset)"
   ]
  },
  {
   "cell_type": "code",
   "execution_count": 41,
   "metadata": {},
   "outputs": [
    {
     "name": "stdout",
     "output_type": "stream",
     "text": [
      "https://en.wikipedia.org/w/index.php?diff=prev&oldid=652450594\n",
      "https://en.wikipedia.org/w/index.php?diff=prev&oldid=652154679\n",
      "https://en.wikipedia.org/w/index.php?diff=prev&oldid=652541631\n",
      "https://en.wikipedia.org/w/index.php?diff=prev&oldid=652354277\n",
      "https://en.wikipedia.org/w/index.php?diff=prev&oldid=652669220\n"
     ]
    }
   ],
   "source": [
    "# notifications are related to a multi-wiki account reunification process\n",
    "for rev_id in mwmd_subset.sample(n=5).rev_id:\n",
    "    url = f\"https://en.wikipedia.org/w/index.php?diff=prev&oldid={rev_id}\"\n",
    "    print(url)"
   ]
  },
  {
   "cell_type": "code",
   "execution_count": 32,
   "metadata": {},
   "outputs": [
    {
     "name": "stdout",
     "output_type": "stream",
     "text": [
      "1068340\n"
     ]
    },
    {
     "data": {
      "text/plain": [
       "[(20150422, 747689),\n",
       " (20150421, 208689),\n",
       " (20150423, 100223),\n",
       " (20150420, 8478),\n",
       " (20150424, 3261)]"
      ]
     },
     "execution_count": 32,
     "metadata": {},
     "output_type": "execute_result"
    }
   ],
   "source": [
    "range2_start_timestamp = int(datetime.fromisoformat('2015-04-20').timestamp())\n",
    "range2_end_timestamp = int(datetime.fromisoformat('2015-04-24').timestamp())\n",
    "\n",
    "subset = df[(df.rev_timestamp >= range2_start_timestamp)&(df.rev_timestamp <= range2_end_timestamp)]\n",
    "print(len(subset))\n",
    "\n",
    "days = [int(datetime.utcfromtimestamp(rt).strftime(\"%Y%m%d\")) for rt in subset.rev_timestamp]\n",
    "mc = Counter(days)\n",
    "mc.most_common(10)"
   ]
  },
  {
   "cell_type": "code",
   "execution_count": 33,
   "metadata": {},
   "outputs": [
    {
     "data": {
      "text/plain": [
       "[('Maintenance script', 511600),\n",
       " ('MediaWiki message delivery', 511028),\n",
       " ('ClueBot NG', 4054),\n",
       " ('Legobot', 1595),\n",
       " ('Lowercase sigmabot III', 1223),\n",
       " ('Materialscientist', 960),\n",
       " ('Winner 42', 857),\n",
       " ('I dream of horses', 736),\n",
       " ('DPL bot', 706),\n",
       " ('Gilliam', 585)]"
      ]
     },
     "execution_count": 33,
     "metadata": {},
     "output_type": "execute_result"
    }
   ],
   "source": [
    "Counter(subset.user_text).most_common(10)"
   ]
  },
  {
   "cell_type": "code",
   "execution_count": 43,
   "metadata": {},
   "outputs": [
    {
     "data": {
      "text/plain": [
       "(2158539, 0.054911726383817916)"
      ]
     },
     "execution_count": 43,
     "metadata": {},
     "output_type": "execute_result"
    }
   ],
   "source": [
    "# 5% of total ns3 revisions in the 2010s were by user 'MediaWiki message delivery'\n",
    "mwmd_subset = df[df.user_text == 'MediaWiki message delivery']\n",
    "len(mwmd_subset), len(mwmd_subset) / len(df)"
   ]
  },
  {
   "cell_type": "code",
   "execution_count": 45,
   "metadata": {},
   "outputs": [
    {
     "data": {
      "image/png": "[encoded data removed]",
      "text/plain": [
       "<Figure size 432x288 with 1 Axes>"
      ]
     },
     "metadata": {
      "needs_background": "light"
     },
     "output_type": "display_data"
    }
   ],
   "source": [
    "ut_start_timestamp = int(datetime.fromisoformat('2015-03-01').timestamp())\n",
    "ut_end_timestamp = int(datetime.fromisoformat('2015-05-01').timestamp())\n",
    "\n",
    "mwmd_subset_window = mwmd_subset[(mwmd_subset.rev_timestamp >= ut_start_timestamp)&(mwmd_subset.rev_timestamp <= ut_end_timestamp)]\n",
    "plt.hist(mwmd_subset_window.rev_timestamp, bins=100, log=True)\n",
    "\n",
    "xticks, _ = plt.xticks()\n",
    "plt.xticks(xticks, \n",
    "           [datetime.utcfromtimestamp(xtick).strftime(\"%Y-%m-%d\") for xtick in xticks], \n",
    "           rotation='vertical')\n",
    "plt.title(\"User talk (namespace 3) revision counts by day\")\n",
    "plt.xlabel(\"Revision Date\")\n",
    "plt.ylabel(\"Revision Count\")\n",
    "plt.show()"
   ]
  },
  {
   "cell_type": "code",
   "execution_count": 47,
   "metadata": {},
   "outputs": [
    {
     "data": {
      "text/plain": [
       "126319"
      ]
     },
     "execution_count": 47,
     "metadata": {},
     "output_type": "execute_result"
    }
   ],
   "source": [
    "# over the course of the training window but NOT during the spikes, what's the average number of MassMessage revisions...\n",
    "ut_start_timestamp = int(datetime.fromisoformat('2014-04-15').timestamp())\n",
    "ut_end_timestamp = int(datetime.fromisoformat('2015-04-15').timestamp())\n",
    "\n",
    "mwmd_subset_window = mwmd_subset[(mwmd_subset.rev_timestamp >= ut_start_timestamp)\n",
    "                                 &(mwmd_subset.rev_timestamp <= ut_end_timestamp)\n",
    "                                 &((mwmd_subset.rev_timestamp <= range1_start_timestamp)\n",
    "                                 |(mwmd_subset.rev_timestamp >= range1_end_timestamp))]\n",
    "len(mwmd_subset_window)"
   ]
  },
  {
   "cell_type": "code",
   "execution_count": 51,
   "metadata": {},
   "outputs": [
    {
     "data": {
      "image/png": "[encoded data removed]",
      "text/plain": [
       "<Figure size 432x288 with 1 Axes>"
      ]
     },
     "metadata": {
      "needs_background": "light"
     },
     "output_type": "display_data"
    }
   ],
   "source": [
    "plt.hist(mwmd_subset_window.rev_timestamp, bins=365, log=False)\n",
    "\n",
    "xticks, _ = plt.xticks()\n",
    "plt.xticks(xticks, \n",
    "           [datetime.utcfromtimestamp(xtick).strftime(\"%Y-%m-%d\") for xtick in xticks], \n",
    "           rotation='vertical')\n",
    "plt.title(\"User talk MassMessage revision counts by day, excluding the rename spike\")\n",
    "plt.xlabel(\"Revision Date\")\n",
    "plt.ylabel(\"Revision Count\")\n",
    "plt.show()"
   ]
  },
  {
   "cell_type": "code",
   "execution_count": 52,
   "metadata": {},
   "outputs": [
    {
     "data": {
      "text/plain": [
       "[(20140906, 3132),\n",
       " (20141207, 2497),\n",
       " (20140924, 2224),\n",
       " (20140604, 2167),\n",
       " (20150414, 1756),\n",
       " (20150227, 1696),\n",
       " (20150103, 1621),\n",
       " (20141208, 1606),\n",
       " (20150327, 1577),\n",
       " (20141107, 1530)]"
      ]
     },
     "execution_count": 52,
     "metadata": {},
     "output_type": "execute_result"
    }
   ],
   "source": [
    "days = [int(datetime.utcfromtimestamp(rt).strftime(\"%Y%m%d\")) for rt in mwmd_subset_window.rev_timestamp]\n",
    "mc = Counter(days)\n",
    "mc.most_common(10)"
   ]
  },
  {
   "cell_type": "code",
   "execution_count": 54,
   "metadata": {},
   "outputs": [
    {
     "data": {
      "text/plain": [
       "491.5136186770428"
      ]
     },
     "execution_count": 54,
     "metadata": {},
     "output_type": "execute_result"
    }
   ],
   "source": [
    "# within the training period, excluding the spike, an everage of 492 MassMessage revisions per day\n",
    "np.mean(list(mc.values()))"
   ]
  },
  {
   "cell_type": "markdown",
   "metadata": {},
   "source": [
    "### Load and subsample the training data\n",
    "\n",
    "From the training rev_ids, identify and remove some of the 'MediaWiki message delivery' revs."
   ]
  },
  {
   "cell_type": "code",
   "execution_count": 55,
   "metadata": {},
   "outputs": [],
   "source": [
    "revisions_features_filepath = os.path.join(git_root_dir, \"data/raw/editquality/datasets/enwiki.labeled_revisions.20k_2015.damaging.tsv\")\n",
    "assert os.path.exists(revisions_features_filepath)"
   ]
  },
  {
   "cell_type": "code",
   "execution_count": 56,
   "metadata": {},
   "outputs": [
    {
     "data": {
      "text/plain": [
       "19348"
      ]
     },
     "execution_count": 56,
     "metadata": {},
     "output_type": "execute_result"
    }
   ],
   "source": [
    "features_df = pd.read_csv(revisions_features_filepath, sep='\\t', header=0)\n",
    "len(features_df)"
   ]
  },
  {
   "cell_type": "code",
   "execution_count": 62,
   "metadata": {},
   "outputs": [
    {
     "data": {
      "text/plain": [
       "19348"
      ]
     },
     "execution_count": 62,
     "metadata": {},
     "output_type": "execute_result"
    }
   ],
   "source": [
    "rev_list = []\n",
    "revisions_with_cache_filepath = os.path.join(git_root_dir, \"data/raw/editquality/datasets/enwiki.labeled_revisions.w_cache.20k_2015.json\")\n",
    "with open(revisions_with_cache_filepath, 'r') as infile:\n",
    "    for line in infile:\n",
    "        rev = json.loads(line)\n",
    "        rev_list.append({\n",
    "            'rev_id': rev['rev_id'],\n",
    "            'damaging': rev['damaging'],\n",
    "            'goodfaith': rev['goodfaith']\n",
    "        })\n",
    "train_df = pd.DataFrame(rev_list)\n",
    "len(train_df)"
   ]
  },
  {
   "cell_type": "code",
   "execution_count": 63,
   "metadata": {},
   "outputs": [],
   "source": [
    "train_df = pd.concat([train_df, features_df], axis=1)"
   ]
  },
  {
   "cell_type": "code",
   "execution_count": 64,
   "metadata": {},
   "outputs": [
    {
     "data": {
      "text/html": [
       "<div>\n",
       "<style scoped>\n",
       "    .dataframe tbody tr th:only-of-type {\n",
       "        vertical-align: middle;\n",
       "    }\n",
       "\n",
       "    .dataframe tbody tr th {\n",
       "        vertical-align: top;\n",
       "    }\n",
       "\n",
       "    .dataframe thead th {\n",
       "        text-align: right;\n",
       "    }\n",
       "</style>\n",
       "<table border=\"1\" class=\"dataframe\">\n",
       "  <thead>\n",
       "    <tr style=\"text-align: right;\">\n",
       "      <th></th>\n",
       "      <th>rev_id</th>\n",
       "      <th>damaging</th>\n",
       "      <th>goodfaith</th>\n",
       "      <th>feature.revision.page.is_articleish</th>\n",
       "      <th>feature.revision.page.is_mainspace</th>\n",
       "      <th>feature.revision.page.is_draftspace</th>\n",
       "      <th>feature.log((wikitext.revision.parent.chars + 1))</th>\n",
       "      <th>feature.log((len(&lt;datasource.tokenized(datasource.revision.parent.text)&gt;) + 1))</th>\n",
       "      <th>feature.log((len(&lt;datasource.wikitext.revision.parent.words&gt;) + 1))</th>\n",
       "      <th>feature.log((len(&lt;datasource.wikitext.revision.parent.uppercase_words&gt;) + 1))</th>\n",
       "      <th>...</th>\n",
       "      <th>feature.english.dictionary.revision.diff.dict_word_prop_delta_sum</th>\n",
       "      <th>feature.english.dictionary.revision.diff.dict_word_prop_delta_increase</th>\n",
       "      <th>feature.english.dictionary.revision.diff.dict_word_prop_delta_decrease</th>\n",
       "      <th>feature.english.dictionary.revision.diff.non_dict_word_delta_sum</th>\n",
       "      <th>feature.english.dictionary.revision.diff.non_dict_word_delta_increase</th>\n",
       "      <th>feature.english.dictionary.revision.diff.non_dict_word_delta_decrease</th>\n",
       "      <th>feature.english.dictionary.revision.diff.non_dict_word_prop_delta_sum</th>\n",
       "      <th>feature.english.dictionary.revision.diff.non_dict_word_prop_delta_increase</th>\n",
       "      <th>feature.english.dictionary.revision.diff.non_dict_word_prop_delta_decrease</th>\n",
       "      <th>damaging</th>\n",
       "    </tr>\n",
       "  </thead>\n",
       "  <tbody>\n",
       "    <tr>\n",
       "      <th>0</th>\n",
       "      <td>644933637</td>\n",
       "      <td>False</td>\n",
       "      <td>True</td>\n",
       "      <td>False</td>\n",
       "      <td>False</td>\n",
       "      <td>False</td>\n",
       "      <td>11.487669</td>\n",
       "      <td>9.673949</td>\n",
       "      <td>8.289037</td>\n",
       "      <td>2.890372</td>\n",
       "      <td>...</td>\n",
       "      <td>2.597872</td>\n",
       "      <td>2.597872</td>\n",
       "      <td>0.0</td>\n",
       "      <td>12</td>\n",
       "      <td>12</td>\n",
       "      <td>0</td>\n",
       "      <td>11.027027</td>\n",
       "      <td>11.027027</td>\n",
       "      <td>0.0</td>\n",
       "      <td>False</td>\n",
       "    </tr>\n",
       "    <tr>\n",
       "      <th>1</th>\n",
       "      <td>629393521</td>\n",
       "      <td>False</td>\n",
       "      <td>True</td>\n",
       "      <td>True</td>\n",
       "      <td>True</td>\n",
       "      <td>False</td>\n",
       "      <td>9.782336</td>\n",
       "      <td>8.767173</td>\n",
       "      <td>7.884953</td>\n",
       "      <td>3.218876</td>\n",
       "      <td>...</td>\n",
       "      <td>0.000000</td>\n",
       "      <td>0.000000</td>\n",
       "      <td>0.0</td>\n",
       "      <td>0</td>\n",
       "      <td>0</td>\n",
       "      <td>0</td>\n",
       "      <td>0.000000</td>\n",
       "      <td>0.000000</td>\n",
       "      <td>0.0</td>\n",
       "      <td>False</td>\n",
       "    </tr>\n",
       "    <tr>\n",
       "      <th>2</th>\n",
       "      <td>655365754</td>\n",
       "      <td>False</td>\n",
       "      <td>True</td>\n",
       "      <td>False</td>\n",
       "      <td>False</td>\n",
       "      <td>False</td>\n",
       "      <td>8.696009</td>\n",
       "      <td>7.963112</td>\n",
       "      <td>6.218600</td>\n",
       "      <td>1.098612</td>\n",
       "      <td>...</td>\n",
       "      <td>0.000000</td>\n",
       "      <td>0.000000</td>\n",
       "      <td>0.0</td>\n",
       "      <td>0</td>\n",
       "      <td>0</td>\n",
       "      <td>0</td>\n",
       "      <td>0.000000</td>\n",
       "      <td>0.000000</td>\n",
       "      <td>0.0</td>\n",
       "      <td>False</td>\n",
       "    </tr>\n",
       "    <tr>\n",
       "      <th>3</th>\n",
       "      <td>616502017</td>\n",
       "      <td>False</td>\n",
       "      <td>True</td>\n",
       "      <td>True</td>\n",
       "      <td>True</td>\n",
       "      <td>False</td>\n",
       "      <td>9.205629</td>\n",
       "      <td>8.144969</td>\n",
       "      <td>7.152269</td>\n",
       "      <td>3.496508</td>\n",
       "      <td>...</td>\n",
       "      <td>1.000000</td>\n",
       "      <td>1.000000</td>\n",
       "      <td>0.0</td>\n",
       "      <td>0</td>\n",
       "      <td>0</td>\n",
       "      <td>0</td>\n",
       "      <td>0.000000</td>\n",
       "      <td>0.000000</td>\n",
       "      <td>0.0</td>\n",
       "      <td>False</td>\n",
       "    </tr>\n",
       "    <tr>\n",
       "      <th>4</th>\n",
       "      <td>651762922</td>\n",
       "      <td>False</td>\n",
       "      <td>True</td>\n",
       "      <td>False</td>\n",
       "      <td>False</td>\n",
       "      <td>False</td>\n",
       "      <td>7.603898</td>\n",
       "      <td>6.356108</td>\n",
       "      <td>5.323010</td>\n",
       "      <td>2.484907</td>\n",
       "      <td>...</td>\n",
       "      <td>16.596429</td>\n",
       "      <td>16.596429</td>\n",
       "      <td>0.0</td>\n",
       "      <td>7</td>\n",
       "      <td>7</td>\n",
       "      <td>0</td>\n",
       "      <td>5.342857</td>\n",
       "      <td>5.342857</td>\n",
       "      <td>0.0</td>\n",
       "      <td>False</td>\n",
       "    </tr>\n",
       "  </tbody>\n",
       "</table>\n",
       "<p>5 rows × 84 columns</p>\n",
       "</div>"
      ],
      "text/plain": [
       "      rev_id  damaging  goodfaith  feature.revision.page.is_articleish  \\\n",
       "0  644933637     False       True                                False   \n",
       "1  629393521     False       True                                 True   \n",
       "2  655365754     False       True                                False   \n",
       "3  616502017     False       True                                 True   \n",
       "4  651762922     False       True                                False   \n",
       "\n",
       "   feature.revision.page.is_mainspace  feature.revision.page.is_draftspace  \\\n",
       "0                               False                                False   \n",
       "1                                True                                False   \n",
       "2                               False                                False   \n",
       "3                                True                                False   \n",
       "4                               False                                False   \n",
       "\n",
       "   feature.log((wikitext.revision.parent.chars + 1))  \\\n",
       "0                                          11.487669   \n",
       "1                                           9.782336   \n",
       "2                                           8.696009   \n",
       "3                                           9.205629   \n",
       "4                                           7.603898   \n",
       "\n",
       "   feature.log((len(<datasource.tokenized(datasource.revision.parent.text)>) + 1))  \\\n",
       "0                                           9.673949                                 \n",
       "1                                           8.767173                                 \n",
       "2                                           7.963112                                 \n",
       "3                                           8.144969                                 \n",
       "4                                           6.356108                                 \n",
       "\n",
       "   feature.log((len(<datasource.wikitext.revision.parent.words>) + 1))  \\\n",
       "0                                           8.289037                     \n",
       "1                                           7.884953                     \n",
       "2                                           6.218600                     \n",
       "3                                           7.152269                     \n",
       "4                                           5.323010                     \n",
       "\n",
       "   feature.log((len(<datasource.wikitext.revision.parent.uppercase_words>) + 1))  \\\n",
       "0                                           2.890372                               \n",
       "1                                           3.218876                               \n",
       "2                                           1.098612                               \n",
       "3                                           3.496508                               \n",
       "4                                           2.484907                               \n",
       "\n",
       "   ...  feature.english.dictionary.revision.diff.dict_word_prop_delta_sum  \\\n",
       "0  ...                                           2.597872                   \n",
       "1  ...                                           0.000000                   \n",
       "2  ...                                           0.000000                   \n",
       "3  ...                                           1.000000                   \n",
       "4  ...                                          16.596429                   \n",
       "\n",
       "   feature.english.dictionary.revision.diff.dict_word_prop_delta_increase  \\\n",
       "0                                           2.597872                        \n",
       "1                                           0.000000                        \n",
       "2                                           0.000000                        \n",
       "3                                           1.000000                        \n",
       "4                                          16.596429                        \n",
       "\n",
       "   feature.english.dictionary.revision.diff.dict_word_prop_delta_decrease  \\\n",
       "0                                                0.0                        \n",
       "1                                                0.0                        \n",
       "2                                                0.0                        \n",
       "3                                                0.0                        \n",
       "4                                                0.0                        \n",
       "\n",
       "   feature.english.dictionary.revision.diff.non_dict_word_delta_sum  \\\n",
       "0                                                 12                  \n",
       "1                                                  0                  \n",
       "2                                                  0                  \n",
       "3                                                  0                  \n",
       "4                                                  7                  \n",
       "\n",
       "   feature.english.dictionary.revision.diff.non_dict_word_delta_increase  \\\n",
       "0                                                 12                       \n",
       "1                                                  0                       \n",
       "2                                                  0                       \n",
       "3                                                  0                       \n",
       "4                                                  7                       \n",
       "\n",
       "   feature.english.dictionary.revision.diff.non_dict_word_delta_decrease  \\\n",
       "0                                                  0                       \n",
       "1                                                  0                       \n",
       "2                                                  0                       \n",
       "3                                                  0                       \n",
       "4                                                  0                       \n",
       "\n",
       "   feature.english.dictionary.revision.diff.non_dict_word_prop_delta_sum  \\\n",
       "0                                          11.027027                       \n",
       "1                                           0.000000                       \n",
       "2                                           0.000000                       \n",
       "3                                           0.000000                       \n",
       "4                                           5.342857                       \n",
       "\n",
       "   feature.english.dictionary.revision.diff.non_dict_word_prop_delta_increase  \\\n",
       "0                                          11.027027                            \n",
       "1                                           0.000000                            \n",
       "2                                           0.000000                            \n",
       "3                                           0.000000                            \n",
       "4                                           5.342857                            \n",
       "\n",
       "   feature.english.dictionary.revision.diff.non_dict_word_prop_delta_decrease  \\\n",
       "0                                                0.0                            \n",
       "1                                                0.0                            \n",
       "2                                                0.0                            \n",
       "3                                                0.0                            \n",
       "4                                                0.0                            \n",
       "\n",
       "   damaging  \n",
       "0     False  \n",
       "1     False  \n",
       "2     False  \n",
       "3     False  \n",
       "4     False  \n",
       "\n",
       "[5 rows x 84 columns]"
      ]
     },
     "execution_count": 64,
     "metadata": {},
     "output_type": "execute_result"
    }
   ],
   "source": [
    "train_df.head()"
   ]
  },
  {
   "cell_type": "code",
   "execution_count": 70,
   "metadata": {},
   "outputs": [
    {
     "data": {
      "text/html": [
       "<div>\n",
       "<style scoped>\n",
       "    .dataframe tbody tr th:only-of-type {\n",
       "        vertical-align: middle;\n",
       "    }\n",
       "\n",
       "    .dataframe tbody tr th {\n",
       "        vertical-align: top;\n",
       "    }\n",
       "\n",
       "    .dataframe thead th {\n",
       "        text-align: right;\n",
       "    }\n",
       "</style>\n",
       "<table border=\"1\" class=\"dataframe\">\n",
       "  <thead>\n",
       "    <tr style=\"text-align: right;\">\n",
       "      <th></th>\n",
       "      <th>rev_id</th>\n",
       "      <th>damaging</th>\n",
       "      <th>goodfaith</th>\n",
       "      <th>feature.revision.page.is_articleish</th>\n",
       "      <th>feature.revision.page.is_mainspace</th>\n",
       "      <th>feature.revision.page.is_draftspace</th>\n",
       "      <th>feature.log((wikitext.revision.parent.chars + 1))</th>\n",
       "      <th>feature.log((len(&lt;datasource.tokenized(datasource.revision.parent.text)&gt;) + 1))</th>\n",
       "      <th>feature.log((len(&lt;datasource.wikitext.revision.parent.words&gt;) + 1))</th>\n",
       "      <th>feature.log((len(&lt;datasource.wikitext.revision.parent.uppercase_words&gt;) + 1))</th>\n",
       "      <th>...</th>\n",
       "      <th>damaging</th>\n",
       "      <th>page_id</th>\n",
       "      <th>namespace</th>\n",
       "      <th>is_redirect</th>\n",
       "      <th>rev_timestamp</th>\n",
       "      <th>user_text</th>\n",
       "      <th>user_id</th>\n",
       "      <th>is_revert_target</th>\n",
       "      <th>is_reverted</th>\n",
       "      <th>is_reverting</th>\n",
       "    </tr>\n",
       "  </thead>\n",
       "  <tbody>\n",
       "    <tr>\n",
       "      <th>0</th>\n",
       "      <td>644933637</td>\n",
       "      <td>False</td>\n",
       "      <td>True</td>\n",
       "      <td>False</td>\n",
       "      <td>False</td>\n",
       "      <td>False</td>\n",
       "      <td>11.487669</td>\n",
       "      <td>9.673949</td>\n",
       "      <td>8.289037</td>\n",
       "      <td>2.890372</td>\n",
       "      <td>...</td>\n",
       "      <td>False</td>\n",
       "      <td>NaN</td>\n",
       "      <td>NaN</td>\n",
       "      <td>NaN</td>\n",
       "      <td>NaN</td>\n",
       "      <td>NaN</td>\n",
       "      <td>NaN</td>\n",
       "      <td>NaN</td>\n",
       "      <td>NaN</td>\n",
       "      <td>NaN</td>\n",
       "    </tr>\n",
       "    <tr>\n",
       "      <th>1</th>\n",
       "      <td>629393521</td>\n",
       "      <td>False</td>\n",
       "      <td>True</td>\n",
       "      <td>True</td>\n",
       "      <td>True</td>\n",
       "      <td>False</td>\n",
       "      <td>9.782336</td>\n",
       "      <td>8.767173</td>\n",
       "      <td>7.884953</td>\n",
       "      <td>3.218876</td>\n",
       "      <td>...</td>\n",
       "      <td>False</td>\n",
       "      <td>NaN</td>\n",
       "      <td>NaN</td>\n",
       "      <td>NaN</td>\n",
       "      <td>NaN</td>\n",
       "      <td>NaN</td>\n",
       "      <td>NaN</td>\n",
       "      <td>NaN</td>\n",
       "      <td>NaN</td>\n",
       "      <td>NaN</td>\n",
       "    </tr>\n",
       "    <tr>\n",
       "      <th>2</th>\n",
       "      <td>655365754</td>\n",
       "      <td>False</td>\n",
       "      <td>True</td>\n",
       "      <td>False</td>\n",
       "      <td>False</td>\n",
       "      <td>False</td>\n",
       "      <td>8.696009</td>\n",
       "      <td>7.963112</td>\n",
       "      <td>6.218600</td>\n",
       "      <td>1.098612</td>\n",
       "      <td>...</td>\n",
       "      <td>False</td>\n",
       "      <td>NaN</td>\n",
       "      <td>NaN</td>\n",
       "      <td>NaN</td>\n",
       "      <td>NaN</td>\n",
       "      <td>NaN</td>\n",
       "      <td>NaN</td>\n",
       "      <td>NaN</td>\n",
       "      <td>NaN</td>\n",
       "      <td>NaN</td>\n",
       "    </tr>\n",
       "    <tr>\n",
       "      <th>3</th>\n",
       "      <td>616502017</td>\n",
       "      <td>False</td>\n",
       "      <td>True</td>\n",
       "      <td>True</td>\n",
       "      <td>True</td>\n",
       "      <td>False</td>\n",
       "      <td>9.205629</td>\n",
       "      <td>8.144969</td>\n",
       "      <td>7.152269</td>\n",
       "      <td>3.496508</td>\n",
       "      <td>...</td>\n",
       "      <td>False</td>\n",
       "      <td>NaN</td>\n",
       "      <td>NaN</td>\n",
       "      <td>NaN</td>\n",
       "      <td>NaN</td>\n",
       "      <td>NaN</td>\n",
       "      <td>NaN</td>\n",
       "      <td>NaN</td>\n",
       "      <td>NaN</td>\n",
       "      <td>NaN</td>\n",
       "    </tr>\n",
       "    <tr>\n",
       "      <th>4</th>\n",
       "      <td>651762922</td>\n",
       "      <td>False</td>\n",
       "      <td>True</td>\n",
       "      <td>False</td>\n",
       "      <td>False</td>\n",
       "      <td>False</td>\n",
       "      <td>7.603898</td>\n",
       "      <td>6.356108</td>\n",
       "      <td>5.323010</td>\n",
       "      <td>2.484907</td>\n",
       "      <td>...</td>\n",
       "      <td>False</td>\n",
       "      <td>NaN</td>\n",
       "      <td>NaN</td>\n",
       "      <td>NaN</td>\n",
       "      <td>NaN</td>\n",
       "      <td>NaN</td>\n",
       "      <td>NaN</td>\n",
       "      <td>NaN</td>\n",
       "      <td>NaN</td>\n",
       "      <td>NaN</td>\n",
       "    </tr>\n",
       "  </tbody>\n",
       "</table>\n",
       "<p>5 rows × 93 columns</p>\n",
       "</div>"
      ],
      "text/plain": [
       "      rev_id  damaging  goodfaith  feature.revision.page.is_articleish  \\\n",
       "0  644933637     False       True                                False   \n",
       "1  629393521     False       True                                 True   \n",
       "2  655365754     False       True                                False   \n",
       "3  616502017     False       True                                 True   \n",
       "4  651762922     False       True                                False   \n",
       "\n",
       "   feature.revision.page.is_mainspace  feature.revision.page.is_draftspace  \\\n",
       "0                               False                                False   \n",
       "1                                True                                False   \n",
       "2                               False                                False   \n",
       "3                                True                                False   \n",
       "4                               False                                False   \n",
       "\n",
       "   feature.log((wikitext.revision.parent.chars + 1))  \\\n",
       "0                                          11.487669   \n",
       "1                                           9.782336   \n",
       "2                                           8.696009   \n",
       "3                                           9.205629   \n",
       "4                                           7.603898   \n",
       "\n",
       "   feature.log((len(<datasource.tokenized(datasource.revision.parent.text)>) + 1))  \\\n",
       "0                                           9.673949                                 \n",
       "1                                           8.767173                                 \n",
       "2                                           7.963112                                 \n",
       "3                                           8.144969                                 \n",
       "4                                           6.356108                                 \n",
       "\n",
       "   feature.log((len(<datasource.wikitext.revision.parent.words>) + 1))  \\\n",
       "0                                           8.289037                     \n",
       "1                                           7.884953                     \n",
       "2                                           6.218600                     \n",
       "3                                           7.152269                     \n",
       "4                                           5.323010                     \n",
       "\n",
       "   feature.log((len(<datasource.wikitext.revision.parent.uppercase_words>) + 1))  \\\n",
       "0                                           2.890372                               \n",
       "1                                           3.218876                               \n",
       "2                                           1.098612                               \n",
       "3                                           3.496508                               \n",
       "4                                           2.484907                               \n",
       "\n",
       "   ...  damaging  page_id  namespace  is_redirect  rev_timestamp  user_text  \\\n",
       "0  ...     False      NaN        NaN          NaN            NaN        NaN   \n",
       "1  ...     False      NaN        NaN          NaN            NaN        NaN   \n",
       "2  ...     False      NaN        NaN          NaN            NaN        NaN   \n",
       "3  ...     False      NaN        NaN          NaN            NaN        NaN   \n",
       "4  ...     False      NaN        NaN          NaN            NaN        NaN   \n",
       "\n",
       "   user_id  is_revert_target  is_reverted  is_reverting  \n",
       "0      NaN               NaN          NaN           NaN  \n",
       "1      NaN               NaN          NaN           NaN  \n",
       "2      NaN               NaN          NaN           NaN  \n",
       "3      NaN               NaN          NaN           NaN  \n",
       "4      NaN               NaN          NaN           NaN  \n",
       "\n",
       "[5 rows x 93 columns]"
      ]
     },
     "execution_count": 70,
     "metadata": {},
     "output_type": "execute_result"
    }
   ],
   "source": [
    "# merge in revision info to the train df\n",
    "# note this only works for ns3 revisions\n",
    "train_df = train_df.merge(df, on='rev_id', how='left', validate='one_to_one')\n",
    "train_df.head()"
   ]
  },
  {
   "cell_type": "code",
   "execution_count": 71,
   "metadata": {},
   "outputs": [
    {
     "data": {
      "text/plain": [
       "(269, 0.013903245813520777)"
      ]
     },
     "execution_count": 71,
     "metadata": {},
     "output_type": "execute_result"
    }
   ],
   "source": [
    "mwmd_train_df = train_df[train_df.user_text == 'MediaWiki message delivery']\n",
    "len(mwmd_train_df), len(mwmd_train_df) / len(train_df)"
   ]
  },
  {
   "cell_type": "code",
   "execution_count": 73,
   "metadata": {},
   "outputs": [
    {
     "data": {
      "text/plain": [
       "(53, 0.1970260223048327)"
      ]
     },
     "execution_count": 73,
     "metadata": {},
     "output_type": "execute_result"
    }
   ],
   "source": [
    "mwmd_train_df_nonspike = mwmd_train_df[(mwmd_train_df.rev_timestamp <= range1_start_timestamp)\n",
    "                                 |(mwmd_train_df.rev_timestamp >= range1_end_timestamp)]\n",
    "len(mwmd_train_df_nonspike), len(mwmd_train_df_nonspike) / len(mwmd_train_df)"
   ]
  },
  {
   "cell_type": "code",
   "execution_count": 75,
   "metadata": {},
   "outputs": [
    {
     "data": {
      "text/plain": [
       "0.14520547945205478"
      ]
     },
     "execution_count": 75,
     "metadata": {},
     "output_type": "execute_result"
    }
   ],
   "source": [
    "# less than one MassMessage revision per day is included in the sample\n",
    "len(mwmd_train_df_nonspike) / 365"
   ]
  },
  {
   "cell_type": "code",
   "execution_count": null,
   "metadata": {},
   "outputs": [],
   "source": [
    "# there are few non-spike MassMessage revisions; 80% are from the range\n",
    "# as the range is a 2-day period, and there are on average less than one MassMessage in the training data per day,\n",
    "# we will sample a single revision at random from within the range and discard the rest"
   ]
  },
  {
   "cell_type": "code",
   "execution_count": 78,
   "metadata": {},
   "outputs": [
    {
     "data": {
      "text/plain": [
       "(216, 0.8029739776951673)"
      ]
     },
     "execution_count": 78,
     "metadata": {},
     "output_type": "execute_result"
    }
   ],
   "source": [
    "mwmd_train_df_spike = mwmd_train_df[(mwmd_train_df.rev_timestamp >= range1_start_timestamp)\n",
    "                                 &(mwmd_train_df.rev_timestamp <= range1_end_timestamp)]\n",
    "len(mwmd_train_df_spike), len(mwmd_train_df_spike) / len(mwmd_train_df)"
   ]
  },
  {
   "cell_type": "code",
   "execution_count": 83,
   "metadata": {},
   "outputs": [
    {
     "data": {
      "text/plain": [
       "215"
      ]
     },
     "execution_count": 83,
     "metadata": {},
     "output_type": "execute_result"
    }
   ],
   "source": [
    "to_keep = mwmd_train_df_spike.sample(n=1, random_state=365).rev_id\n",
    "to_discard = set(mwmd_train_df_spike.rev_id)\n",
    "for rev_id in to_keep:\n",
    "    to_discard.remove(rev_id)\n",
    "len(to_discard)"
   ]
  },
  {
   "cell_type": "code",
   "execution_count": 84,
   "metadata": {},
   "outputs": [
    {
     "data": {
      "text/plain": [
       "(19133, 215)"
      ]
     },
     "execution_count": 84,
     "metadata": {},
     "output_type": "execute_result"
    }
   ],
   "source": [
    "# Discard the removed rev_ids from the training data\n",
    "train_df_downsampled = train_df[~train_df.rev_id.isin(to_discard)]\n",
    "len(train_df_downsampled), len(train_df) - len(train_df_downsampled)"
   ]
  },
  {
   "cell_type": "code",
   "execution_count": 86,
   "metadata": {},
   "outputs": [
    {
     "data": {
      "text/plain": [
       "(19133, 82)"
      ]
     },
     "execution_count": 86,
     "metadata": {},
     "output_type": "execute_result"
    }
   ],
   "source": [
    "features_df_downsampled = train_df.loc[train_df_downsampled.index, features_df.columns]\n",
    "features_df_downsampled.shape"
   ]
  },
  {
   "cell_type": "code",
   "execution_count": 88,
   "metadata": {},
   "outputs": [
    {
     "data": {
      "text/plain": [
       "(19133, 81)"
      ]
     },
     "execution_count": 88,
     "metadata": {},
     "output_type": "execute_result"
    }
   ],
   "source": [
    "features_df_downsampled = features_df_downsampled.loc[:,~features_df_downsampled.columns.duplicated()]\n",
    "features_df_downsampled.shape"
   ]
  },
  {
   "cell_type": "code",
   "execution_count": 89,
   "metadata": {},
   "outputs": [
    {
     "data": {
      "text/html": [
       "<div>\n",
       "<style scoped>\n",
       "    .dataframe tbody tr th:only-of-type {\n",
       "        vertical-align: middle;\n",
       "    }\n",
       "\n",
       "    .dataframe tbody tr th {\n",
       "        vertical-align: top;\n",
       "    }\n",
       "\n",
       "    .dataframe thead th {\n",
       "        text-align: right;\n",
       "    }\n",
       "</style>\n",
       "<table border=\"1\" class=\"dataframe\">\n",
       "  <thead>\n",
       "    <tr style=\"text-align: right;\">\n",
       "      <th></th>\n",
       "      <th>feature.revision.page.is_articleish</th>\n",
       "      <th>feature.revision.page.is_mainspace</th>\n",
       "      <th>feature.revision.page.is_draftspace</th>\n",
       "      <th>feature.log((wikitext.revision.parent.chars + 1))</th>\n",
       "      <th>feature.log((len(&lt;datasource.tokenized(datasource.revision.parent.text)&gt;) + 1))</th>\n",
       "      <th>feature.log((len(&lt;datasource.wikitext.revision.parent.words&gt;) + 1))</th>\n",
       "      <th>feature.log((len(&lt;datasource.wikitext.revision.parent.uppercase_words&gt;) + 1))</th>\n",
       "      <th>feature.log((wikitext.revision.parent.headings + 1))</th>\n",
       "      <th>feature.log((wikitext.revision.parent.wikilinks + 1))</th>\n",
       "      <th>feature.log((wikitext.revision.parent.external_links + 1))</th>\n",
       "      <th>...</th>\n",
       "      <th>feature.english.dictionary.revision.diff.dict_word_prop_delta_sum</th>\n",
       "      <th>feature.english.dictionary.revision.diff.dict_word_prop_delta_increase</th>\n",
       "      <th>feature.english.dictionary.revision.diff.dict_word_prop_delta_decrease</th>\n",
       "      <th>feature.english.dictionary.revision.diff.non_dict_word_delta_sum</th>\n",
       "      <th>feature.english.dictionary.revision.diff.non_dict_word_delta_increase</th>\n",
       "      <th>feature.english.dictionary.revision.diff.non_dict_word_delta_decrease</th>\n",
       "      <th>feature.english.dictionary.revision.diff.non_dict_word_prop_delta_sum</th>\n",
       "      <th>feature.english.dictionary.revision.diff.non_dict_word_prop_delta_increase</th>\n",
       "      <th>feature.english.dictionary.revision.diff.non_dict_word_prop_delta_decrease</th>\n",
       "      <th>damaging</th>\n",
       "    </tr>\n",
       "  </thead>\n",
       "  <tbody>\n",
       "    <tr>\n",
       "      <th>0</th>\n",
       "      <td>False</td>\n",
       "      <td>False</td>\n",
       "      <td>False</td>\n",
       "      <td>11.487669</td>\n",
       "      <td>9.673949</td>\n",
       "      <td>8.289037</td>\n",
       "      <td>2.890372</td>\n",
       "      <td>4.804021</td>\n",
       "      <td>5.924256</td>\n",
       "      <td>6.354370</td>\n",
       "      <td>...</td>\n",
       "      <td>2.597872</td>\n",
       "      <td>2.597872</td>\n",
       "      <td>0.0</td>\n",
       "      <td>12</td>\n",
       "      <td>12</td>\n",
       "      <td>0</td>\n",
       "      <td>11.027027</td>\n",
       "      <td>11.027027</td>\n",
       "      <td>0.0</td>\n",
       "      <td>False</td>\n",
       "    </tr>\n",
       "    <tr>\n",
       "      <th>1</th>\n",
       "      <td>True</td>\n",
       "      <td>True</td>\n",
       "      <td>False</td>\n",
       "      <td>9.782336</td>\n",
       "      <td>8.767173</td>\n",
       "      <td>7.884953</td>\n",
       "      <td>3.218876</td>\n",
       "      <td>2.639057</td>\n",
       "      <td>3.806662</td>\n",
       "      <td>0.693147</td>\n",
       "      <td>...</td>\n",
       "      <td>0.000000</td>\n",
       "      <td>0.000000</td>\n",
       "      <td>0.0</td>\n",
       "      <td>0</td>\n",
       "      <td>0</td>\n",
       "      <td>0</td>\n",
       "      <td>0.000000</td>\n",
       "      <td>0.000000</td>\n",
       "      <td>0.0</td>\n",
       "      <td>False</td>\n",
       "    </tr>\n",
       "    <tr>\n",
       "      <th>2</th>\n",
       "      <td>False</td>\n",
       "      <td>False</td>\n",
       "      <td>False</td>\n",
       "      <td>8.696009</td>\n",
       "      <td>7.963112</td>\n",
       "      <td>6.218600</td>\n",
       "      <td>1.098612</td>\n",
       "      <td>1.098612</td>\n",
       "      <td>4.304065</td>\n",
       "      <td>0.000000</td>\n",
       "      <td>...</td>\n",
       "      <td>0.000000</td>\n",
       "      <td>0.000000</td>\n",
       "      <td>0.0</td>\n",
       "      <td>0</td>\n",
       "      <td>0</td>\n",
       "      <td>0</td>\n",
       "      <td>0.000000</td>\n",
       "      <td>0.000000</td>\n",
       "      <td>0.0</td>\n",
       "      <td>False</td>\n",
       "    </tr>\n",
       "    <tr>\n",
       "      <th>3</th>\n",
       "      <td>True</td>\n",
       "      <td>True</td>\n",
       "      <td>False</td>\n",
       "      <td>9.205629</td>\n",
       "      <td>8.144969</td>\n",
       "      <td>7.152269</td>\n",
       "      <td>3.496508</td>\n",
       "      <td>1.945910</td>\n",
       "      <td>4.094345</td>\n",
       "      <td>2.564949</td>\n",
       "      <td>...</td>\n",
       "      <td>1.000000</td>\n",
       "      <td>1.000000</td>\n",
       "      <td>0.0</td>\n",
       "      <td>0</td>\n",
       "      <td>0</td>\n",
       "      <td>0</td>\n",
       "      <td>0.000000</td>\n",
       "      <td>0.000000</td>\n",
       "      <td>0.0</td>\n",
       "      <td>False</td>\n",
       "    </tr>\n",
       "    <tr>\n",
       "      <th>4</th>\n",
       "      <td>False</td>\n",
       "      <td>False</td>\n",
       "      <td>False</td>\n",
       "      <td>7.603898</td>\n",
       "      <td>6.356108</td>\n",
       "      <td>5.323010</td>\n",
       "      <td>2.484907</td>\n",
       "      <td>0.693147</td>\n",
       "      <td>2.833213</td>\n",
       "      <td>0.693147</td>\n",
       "      <td>...</td>\n",
       "      <td>16.596429</td>\n",
       "      <td>16.596429</td>\n",
       "      <td>0.0</td>\n",
       "      <td>7</td>\n",
       "      <td>7</td>\n",
       "      <td>0</td>\n",
       "      <td>5.342857</td>\n",
       "      <td>5.342857</td>\n",
       "      <td>0.0</td>\n",
       "      <td>False</td>\n",
       "    </tr>\n",
       "  </tbody>\n",
       "</table>\n",
       "<p>5 rows × 81 columns</p>\n",
       "</div>"
      ],
      "text/plain": [
       "   feature.revision.page.is_articleish  feature.revision.page.is_mainspace  \\\n",
       "0                                False                               False   \n",
       "1                                 True                                True   \n",
       "2                                False                               False   \n",
       "3                                 True                                True   \n",
       "4                                False                               False   \n",
       "\n",
       "   feature.revision.page.is_draftspace  \\\n",
       "0                                False   \n",
       "1                                False   \n",
       "2                                False   \n",
       "3                                False   \n",
       "4                                False   \n",
       "\n",
       "   feature.log((wikitext.revision.parent.chars + 1))  \\\n",
       "0                                          11.487669   \n",
       "1                                           9.782336   \n",
       "2                                           8.696009   \n",
       "3                                           9.205629   \n",
       "4                                           7.603898   \n",
       "\n",
       "   feature.log((len(<datasource.tokenized(datasource.revision.parent.text)>) + 1))  \\\n",
       "0                                           9.673949                                 \n",
       "1                                           8.767173                                 \n",
       "2                                           7.963112                                 \n",
       "3                                           8.144969                                 \n",
       "4                                           6.356108                                 \n",
       "\n",
       "   feature.log((len(<datasource.wikitext.revision.parent.words>) + 1))  \\\n",
       "0                                           8.289037                     \n",
       "1                                           7.884953                     \n",
       "2                                           6.218600                     \n",
       "3                                           7.152269                     \n",
       "4                                           5.323010                     \n",
       "\n",
       "   feature.log((len(<datasource.wikitext.revision.parent.uppercase_words>) + 1))  \\\n",
       "0                                           2.890372                               \n",
       "1                                           3.218876                               \n",
       "2                                           1.098612                               \n",
       "3                                           3.496508                               \n",
       "4                                           2.484907                               \n",
       "\n",
       "   feature.log((wikitext.revision.parent.headings + 1))  \\\n",
       "0                                           4.804021      \n",
       "1                                           2.639057      \n",
       "2                                           1.098612      \n",
       "3                                           1.945910      \n",
       "4                                           0.693147      \n",
       "\n",
       "   feature.log((wikitext.revision.parent.wikilinks + 1))  \\\n",
       "0                                           5.924256       \n",
       "1                                           3.806662       \n",
       "2                                           4.304065       \n",
       "3                                           4.094345       \n",
       "4                                           2.833213       \n",
       "\n",
       "   feature.log((wikitext.revision.parent.external_links + 1))  ...  \\\n",
       "0                                           6.354370           ...   \n",
       "1                                           0.693147           ...   \n",
       "2                                           0.000000           ...   \n",
       "3                                           2.564949           ...   \n",
       "4                                           0.693147           ...   \n",
       "\n",
       "   feature.english.dictionary.revision.diff.dict_word_prop_delta_sum  \\\n",
       "0                                           2.597872                   \n",
       "1                                           0.000000                   \n",
       "2                                           0.000000                   \n",
       "3                                           1.000000                   \n",
       "4                                          16.596429                   \n",
       "\n",
       "   feature.english.dictionary.revision.diff.dict_word_prop_delta_increase  \\\n",
       "0                                           2.597872                        \n",
       "1                                           0.000000                        \n",
       "2                                           0.000000                        \n",
       "3                                           1.000000                        \n",
       "4                                          16.596429                        \n",
       "\n",
       "   feature.english.dictionary.revision.diff.dict_word_prop_delta_decrease  \\\n",
       "0                                                0.0                        \n",
       "1                                                0.0                        \n",
       "2                                                0.0                        \n",
       "3                                                0.0                        \n",
       "4                                                0.0                        \n",
       "\n",
       "   feature.english.dictionary.revision.diff.non_dict_word_delta_sum  \\\n",
       "0                                                 12                  \n",
       "1                                                  0                  \n",
       "2                                                  0                  \n",
       "3                                                  0                  \n",
       "4                                                  7                  \n",
       "\n",
       "   feature.english.dictionary.revision.diff.non_dict_word_delta_increase  \\\n",
       "0                                                 12                       \n",
       "1                                                  0                       \n",
       "2                                                  0                       \n",
       "3                                                  0                       \n",
       "4                                                  7                       \n",
       "\n",
       "   feature.english.dictionary.revision.diff.non_dict_word_delta_decrease  \\\n",
       "0                                                  0                       \n",
       "1                                                  0                       \n",
       "2                                                  0                       \n",
       "3                                                  0                       \n",
       "4                                                  0                       \n",
       "\n",
       "   feature.english.dictionary.revision.diff.non_dict_word_prop_delta_sum  \\\n",
       "0                                          11.027027                       \n",
       "1                                           0.000000                       \n",
       "2                                           0.000000                       \n",
       "3                                           0.000000                       \n",
       "4                                           5.342857                       \n",
       "\n",
       "   feature.english.dictionary.revision.diff.non_dict_word_prop_delta_increase  \\\n",
       "0                                          11.027027                            \n",
       "1                                           0.000000                            \n",
       "2                                           0.000000                            \n",
       "3                                           0.000000                            \n",
       "4                                           5.342857                            \n",
       "\n",
       "   feature.english.dictionary.revision.diff.non_dict_word_prop_delta_decrease  \\\n",
       "0                                                0.0                            \n",
       "1                                                0.0                            \n",
       "2                                                0.0                            \n",
       "3                                                0.0                            \n",
       "4                                                0.0                            \n",
       "\n",
       "   damaging  \n",
       "0     False  \n",
       "1     False  \n",
       "2     False  \n",
       "3     False  \n",
       "4     False  \n",
       "\n",
       "[5 rows x 81 columns]"
      ]
     },
     "execution_count": 89,
     "metadata": {},
     "output_type": "execute_result"
    }
   ],
   "source": [
    "features_df_downsampled.head()"
   ]
  },
  {
   "cell_type": "code",
   "execution_count": 91,
   "metadata": {},
   "outputs": [
    {
     "name": "stdout",
     "output_type": "stream",
     "text": [
      "Finished.\n"
     ]
    }
   ],
   "source": [
    "downsampled_train_filepath = os.path.join(working_dir, \"enwiki.labeled_revisions.20k_2015.downsampled.damaging.tsv\")\n",
    "features_df_downsampled.to_csv(downsampled_train_filepath, sep='\\t', header=True, index=False)\n",
    "print(\"Finished.\")"
   ]
  },
  {
   "cell_type": "markdown",
   "metadata": {},
   "source": [
    "### Train revised classifier with the downsampled features"
   ]
  },
  {
   "cell_type": "code",
   "execution_count": 95,
   "metadata": {},
   "outputs": [],
   "source": [
    "import sklearn\n",
    "import sklearn.ensemble\n",
    "import sklearn.metrics"
   ]
  },
  {
   "cell_type": "code",
   "execution_count": 92,
   "metadata": {},
   "outputs": [
    {
     "data": {
      "text/plain": [
       "19133"
      ]
     },
     "execution_count": 92,
     "metadata": {},
     "output_type": "execute_result"
    }
   ],
   "source": [
    "# read the downsampled training features\n",
    "downsampled_train_filepath = os.path.join(working_dir, \"enwiki.labeled_revisions.20k_2015.downsampled.damaging.tsv\")\n",
    "df = pd.read_csv(downsampled_train_filepath, sep='\\t', header=0)\n",
    "len(df)"
   ]
  },
  {
   "cell_type": "code",
   "execution_count": 93,
   "metadata": {},
   "outputs": [
    {
     "data": {
      "text/html": [
       "<div>\n",
       "<style scoped>\n",
       "    .dataframe tbody tr th:only-of-type {\n",
       "        vertical-align: middle;\n",
       "    }\n",
       "\n",
       "    .dataframe tbody tr th {\n",
       "        vertical-align: top;\n",
       "    }\n",
       "\n",
       "    .dataframe thead th {\n",
       "        text-align: right;\n",
       "    }\n",
       "</style>\n",
       "<table border=\"1\" class=\"dataframe\">\n",
       "  <thead>\n",
       "    <tr style=\"text-align: right;\">\n",
       "      <th></th>\n",
       "      <th>feature.revision.page.is_articleish</th>\n",
       "      <th>feature.revision.page.is_mainspace</th>\n",
       "      <th>feature.revision.page.is_draftspace</th>\n",
       "      <th>feature.log((wikitext.revision.parent.chars + 1))</th>\n",
       "      <th>feature.log((len(&lt;datasource.tokenized(datasource.revision.parent.text)&gt;) + 1))</th>\n",
       "      <th>feature.log((len(&lt;datasource.wikitext.revision.parent.words&gt;) + 1))</th>\n",
       "      <th>feature.log((len(&lt;datasource.wikitext.revision.parent.uppercase_words&gt;) + 1))</th>\n",
       "      <th>feature.log((wikitext.revision.parent.headings + 1))</th>\n",
       "      <th>feature.log((wikitext.revision.parent.wikilinks + 1))</th>\n",
       "      <th>feature.log((wikitext.revision.parent.external_links + 1))</th>\n",
       "      <th>...</th>\n",
       "      <th>feature.english.dictionary.revision.diff.dict_word_prop_delta_sum</th>\n",
       "      <th>feature.english.dictionary.revision.diff.dict_word_prop_delta_increase</th>\n",
       "      <th>feature.english.dictionary.revision.diff.dict_word_prop_delta_decrease</th>\n",
       "      <th>feature.english.dictionary.revision.diff.non_dict_word_delta_sum</th>\n",
       "      <th>feature.english.dictionary.revision.diff.non_dict_word_delta_increase</th>\n",
       "      <th>feature.english.dictionary.revision.diff.non_dict_word_delta_decrease</th>\n",
       "      <th>feature.english.dictionary.revision.diff.non_dict_word_prop_delta_sum</th>\n",
       "      <th>feature.english.dictionary.revision.diff.non_dict_word_prop_delta_increase</th>\n",
       "      <th>feature.english.dictionary.revision.diff.non_dict_word_prop_delta_decrease</th>\n",
       "      <th>damaging</th>\n",
       "    </tr>\n",
       "  </thead>\n",
       "  <tbody>\n",
       "    <tr>\n",
       "      <th>0</th>\n",
       "      <td>False</td>\n",
       "      <td>False</td>\n",
       "      <td>False</td>\n",
       "      <td>11.487669</td>\n",
       "      <td>9.673949</td>\n",
       "      <td>8.289037</td>\n",
       "      <td>2.890372</td>\n",
       "      <td>4.804021</td>\n",
       "      <td>5.924256</td>\n",
       "      <td>6.354370</td>\n",
       "      <td>...</td>\n",
       "      <td>2.597872</td>\n",
       "      <td>2.597872</td>\n",
       "      <td>0.0</td>\n",
       "      <td>12</td>\n",
       "      <td>12</td>\n",
       "      <td>0</td>\n",
       "      <td>11.027027</td>\n",
       "      <td>11.027027</td>\n",
       "      <td>0.0</td>\n",
       "      <td>False</td>\n",
       "    </tr>\n",
       "    <tr>\n",
       "      <th>1</th>\n",
       "      <td>True</td>\n",
       "      <td>True</td>\n",
       "      <td>False</td>\n",
       "      <td>9.782336</td>\n",
       "      <td>8.767173</td>\n",
       "      <td>7.884953</td>\n",
       "      <td>3.218876</td>\n",
       "      <td>2.639057</td>\n",
       "      <td>3.806662</td>\n",
       "      <td>0.693147</td>\n",
       "      <td>...</td>\n",
       "      <td>0.000000</td>\n",
       "      <td>0.000000</td>\n",
       "      <td>0.0</td>\n",
       "      <td>0</td>\n",
       "      <td>0</td>\n",
       "      <td>0</td>\n",
       "      <td>0.000000</td>\n",
       "      <td>0.000000</td>\n",
       "      <td>0.0</td>\n",
       "      <td>False</td>\n",
       "    </tr>\n",
       "    <tr>\n",
       "      <th>2</th>\n",
       "      <td>False</td>\n",
       "      <td>False</td>\n",
       "      <td>False</td>\n",
       "      <td>8.696009</td>\n",
       "      <td>7.963112</td>\n",
       "      <td>6.218600</td>\n",
       "      <td>1.098612</td>\n",
       "      <td>1.098612</td>\n",
       "      <td>4.304065</td>\n",
       "      <td>0.000000</td>\n",
       "      <td>...</td>\n",
       "      <td>0.000000</td>\n",
       "      <td>0.000000</td>\n",
       "      <td>0.0</td>\n",
       "      <td>0</td>\n",
       "      <td>0</td>\n",
       "      <td>0</td>\n",
       "      <td>0.000000</td>\n",
       "      <td>0.000000</td>\n",
       "      <td>0.0</td>\n",
       "      <td>False</td>\n",
       "    </tr>\n",
       "    <tr>\n",
       "      <th>3</th>\n",
       "      <td>True</td>\n",
       "      <td>True</td>\n",
       "      <td>False</td>\n",
       "      <td>9.205629</td>\n",
       "      <td>8.144969</td>\n",
       "      <td>7.152269</td>\n",
       "      <td>3.496508</td>\n",
       "      <td>1.945910</td>\n",
       "      <td>4.094345</td>\n",
       "      <td>2.564949</td>\n",
       "      <td>...</td>\n",
       "      <td>1.000000</td>\n",
       "      <td>1.000000</td>\n",
       "      <td>0.0</td>\n",
       "      <td>0</td>\n",
       "      <td>0</td>\n",
       "      <td>0</td>\n",
       "      <td>0.000000</td>\n",
       "      <td>0.000000</td>\n",
       "      <td>0.0</td>\n",
       "      <td>False</td>\n",
       "    </tr>\n",
       "    <tr>\n",
       "      <th>4</th>\n",
       "      <td>False</td>\n",
       "      <td>False</td>\n",
       "      <td>False</td>\n",
       "      <td>7.603898</td>\n",
       "      <td>6.356108</td>\n",
       "      <td>5.323010</td>\n",
       "      <td>2.484907</td>\n",
       "      <td>0.693147</td>\n",
       "      <td>2.833213</td>\n",
       "      <td>0.693147</td>\n",
       "      <td>...</td>\n",
       "      <td>16.596429</td>\n",
       "      <td>16.596429</td>\n",
       "      <td>0.0</td>\n",
       "      <td>7</td>\n",
       "      <td>7</td>\n",
       "      <td>0</td>\n",
       "      <td>5.342857</td>\n",
       "      <td>5.342857</td>\n",
       "      <td>0.0</td>\n",
       "      <td>False</td>\n",
       "    </tr>\n",
       "  </tbody>\n",
       "</table>\n",
       "<p>5 rows × 81 columns</p>\n",
       "</div>"
      ],
      "text/plain": [
       "   feature.revision.page.is_articleish  feature.revision.page.is_mainspace  \\\n",
       "0                                False                               False   \n",
       "1                                 True                                True   \n",
       "2                                False                               False   \n",
       "3                                 True                                True   \n",
       "4                                False                               False   \n",
       "\n",
       "   feature.revision.page.is_draftspace  \\\n",
       "0                                False   \n",
       "1                                False   \n",
       "2                                False   \n",
       "3                                False   \n",
       "4                                False   \n",
       "\n",
       "   feature.log((wikitext.revision.parent.chars + 1))  \\\n",
       "0                                          11.487669   \n",
       "1                                           9.782336   \n",
       "2                                           8.696009   \n",
       "3                                           9.205629   \n",
       "4                                           7.603898   \n",
       "\n",
       "   feature.log((len(<datasource.tokenized(datasource.revision.parent.text)>) + 1))  \\\n",
       "0                                           9.673949                                 \n",
       "1                                           8.767173                                 \n",
       "2                                           7.963112                                 \n",
       "3                                           8.144969                                 \n",
       "4                                           6.356108                                 \n",
       "\n",
       "   feature.log((len(<datasource.wikitext.revision.parent.words>) + 1))  \\\n",
       "0                                           8.289037                     \n",
       "1                                           7.884953                     \n",
       "2                                           6.218600                     \n",
       "3                                           7.152269                     \n",
       "4                                           5.323010                     \n",
       "\n",
       "   feature.log((len(<datasource.wikitext.revision.parent.uppercase_words>) + 1))  \\\n",
       "0                                           2.890372                               \n",
       "1                                           3.218876                               \n",
       "2                                           1.098612                               \n",
       "3                                           3.496508                               \n",
       "4                                           2.484907                               \n",
       "\n",
       "   feature.log((wikitext.revision.parent.headings + 1))  \\\n",
       "0                                           4.804021      \n",
       "1                                           2.639057      \n",
       "2                                           1.098612      \n",
       "3                                           1.945910      \n",
       "4                                           0.693147      \n",
       "\n",
       "   feature.log((wikitext.revision.parent.wikilinks + 1))  \\\n",
       "0                                           5.924256       \n",
       "1                                           3.806662       \n",
       "2                                           4.304065       \n",
       "3                                           4.094345       \n",
       "4                                           2.833213       \n",
       "\n",
       "   feature.log((wikitext.revision.parent.external_links + 1))  ...  \\\n",
       "0                                           6.354370           ...   \n",
       "1                                           0.693147           ...   \n",
       "2                                           0.000000           ...   \n",
       "3                                           2.564949           ...   \n",
       "4                                           0.693147           ...   \n",
       "\n",
       "   feature.english.dictionary.revision.diff.dict_word_prop_delta_sum  \\\n",
       "0                                           2.597872                   \n",
       "1                                           0.000000                   \n",
       "2                                           0.000000                   \n",
       "3                                           1.000000                   \n",
       "4                                          16.596429                   \n",
       "\n",
       "   feature.english.dictionary.revision.diff.dict_word_prop_delta_increase  \\\n",
       "0                                           2.597872                        \n",
       "1                                           0.000000                        \n",
       "2                                           0.000000                        \n",
       "3                                           1.000000                        \n",
       "4                                          16.596429                        \n",
       "\n",
       "   feature.english.dictionary.revision.diff.dict_word_prop_delta_decrease  \\\n",
       "0                                                0.0                        \n",
       "1                                                0.0                        \n",
       "2                                                0.0                        \n",
       "3                                                0.0                        \n",
       "4                                                0.0                        \n",
       "\n",
       "   feature.english.dictionary.revision.diff.non_dict_word_delta_sum  \\\n",
       "0                                                 12                  \n",
       "1                                                  0                  \n",
       "2                                                  0                  \n",
       "3                                                  0                  \n",
       "4                                                  7                  \n",
       "\n",
       "   feature.english.dictionary.revision.diff.non_dict_word_delta_increase  \\\n",
       "0                                                 12                       \n",
       "1                                                  0                       \n",
       "2                                                  0                       \n",
       "3                                                  0                       \n",
       "4                                                  7                       \n",
       "\n",
       "   feature.english.dictionary.revision.diff.non_dict_word_delta_decrease  \\\n",
       "0                                                  0                       \n",
       "1                                                  0                       \n",
       "2                                                  0                       \n",
       "3                                                  0                       \n",
       "4                                                  0                       \n",
       "\n",
       "   feature.english.dictionary.revision.diff.non_dict_word_prop_delta_sum  \\\n",
       "0                                          11.027027                       \n",
       "1                                           0.000000                       \n",
       "2                                           0.000000                       \n",
       "3                                           0.000000                       \n",
       "4                                           5.342857                       \n",
       "\n",
       "   feature.english.dictionary.revision.diff.non_dict_word_prop_delta_increase  \\\n",
       "0                                          11.027027                            \n",
       "1                                           0.000000                            \n",
       "2                                           0.000000                            \n",
       "3                                           0.000000                            \n",
       "4                                           5.342857                            \n",
       "\n",
       "   feature.english.dictionary.revision.diff.non_dict_word_prop_delta_decrease  \\\n",
       "0                                                0.0                            \n",
       "1                                                0.0                            \n",
       "2                                                0.0                            \n",
       "3                                                0.0                            \n",
       "4                                                0.0                            \n",
       "\n",
       "   damaging  \n",
       "0     False  \n",
       "1     False  \n",
       "2     False  \n",
       "3     False  \n",
       "4     False  \n",
       "\n",
       "[5 rows x 81 columns]"
      ]
     },
     "execution_count": 93,
     "metadata": {},
     "output_type": "execute_result"
    }
   ],
   "source": [
    "df.head()"
   ]
  },
  {
   "cell_type": "code",
   "execution_count": 94,
   "metadata": {},
   "outputs": [
    {
     "data": {
      "text/plain": [
       "0.03914702346730779"
      ]
     },
     "execution_count": 94,
     "metadata": {},
     "output_type": "execute_result"
    }
   ],
   "source": [
    "# only 3.9% of the reverts in this set are damaging\n",
    "np.sum(df.damaging) / len(df)"
   ]
  },
  {
   "cell_type": "code",
   "execution_count": 96,
   "metadata": {},
   "outputs": [],
   "source": [
    "# shuffle the data\n",
    "df = df.sample(frac=1)"
   ]
  },
  {
   "cell_type": "code",
   "execution_count": 97,
   "metadata": {},
   "outputs": [],
   "source": [
    "# define the classifier based on the enwiki tuning report\n",
    "# hyperparameters set from: https://github.com/wikimedia/editquality/blob/master/tuning_reports/enwiki.damaging.md\n",
    "clf = sklearn.ensemble.GradientBoostingClassifier(\n",
    "    learning_rate=0.01, \n",
    "    n_estimators=700, \n",
    "    max_features='log2', \n",
    "    max_depth=5\n",
    ")"
   ]
  },
  {
   "cell_type": "code",
   "execution_count": 98,
   "metadata": {},
   "outputs": [
    {
     "name": "stdout",
     "output_type": "stream",
     "text": [
      "Train: 97.570%; test: 96.394%; test ROC AUC: 0.9120\n",
      "Train: 97.400%; test: 96.812%; test ROC AUC: 0.9430\n",
      "Train: 97.517%; test: 96.760%; test ROC AUC: 0.9221\n",
      "Train: 97.459%; test: 96.916%; test ROC AUC: 0.9330\n",
      "Train: 97.531%; test: 96.628%; test ROC AUC: 0.9414\n",
      "CV train accuracy: 97.495%; CV test accuracy: 96.702%; test ROC AUC: 0.9303\n"
     ]
    }
   ],
   "source": [
    "kf = sklearn.model_selection.KFold(n_splits=5)\n",
    "train_accs = []\n",
    "test_accs = []\n",
    "roc_auc_list = []\n",
    "for train_idx, test_idx in kf.split(df):\n",
    "    train = df.loc[train_idx]\n",
    "    test = df.loc[test_idx]\n",
    "    \n",
    "    # train the model\n",
    "    md = clf.fit(train.iloc[:,:-1], train.iloc[:,-1])\n",
    "    \n",
    "    # predict with the model\n",
    "    y_pred_train = md.predict(train.iloc[:,:-1])\n",
    "    y_pred_test = md.predict(test.iloc[:,:-1])\n",
    "    y_pred_test_proba = md.predict_proba(test.iloc[:,:-1])[:,1]\n",
    "    \n",
    "    # compute metrics\n",
    "    acc_train = np.sum(y_pred_train == train.damaging) / len(y_pred_train)\n",
    "    acc_test = np.sum(y_pred_test == test.damaging) / len(y_pred_test)\n",
    "    roc_auc = sklearn.metrics.roc_auc_score(test.damaging, y_pred_test_proba)\n",
    "    \n",
    "    # save and print metrics\n",
    "    train_accs.append(acc_train)\n",
    "    test_accs.append(acc_test)\n",
    "    roc_auc_list.append(roc_auc)\n",
    "    print(f\"Train: {acc_train*100:.3f}%; test: {acc_test*100:.3f}%; test ROC AUC: {roc_auc:.4f}\")\n",
    "print(f\"CV train accuracy: {np.mean(train_accs)*100:.3f}%; CV test accuracy: {np.mean(test_accs)*100:.3f}%; test ROC AUC: {np.mean(roc_auc_list):.4f}\")"
   ]
  },
  {
   "cell_type": "markdown",
   "metadata": {},
   "source": [
    "Accuracy and ROC AUC results match those achieved on the non-downsampled data."
   ]
  },
  {
   "cell_type": "code",
   "execution_count": 99,
   "metadata": {},
   "outputs": [
    {
     "data": {
      "text/plain": [
       "0.9744943291694977"
      ]
     },
     "execution_count": 99,
     "metadata": {},
     "output_type": "execute_result"
    }
   ],
   "source": [
    "# train a classifier on the full data\n",
    "md = clf.fit(df.iloc[:,:-1], df.iloc[:,-1])\n",
    "acc_train = np.sum(md.predict(df.iloc[:,:-1]) == df.damaging) / len(df)\n",
    "acc_train"
   ]
  },
  {
   "cell_type": "markdown",
   "metadata": {},
   "source": [
    "Now we'll use a classifier trained on the full data to classify sample1 points."
   ]
  },
  {
   "cell_type": "code",
   "execution_count": 101,
   "metadata": {},
   "outputs": [
    {
     "data": {
      "text/plain": [
       "1000000"
      ]
     },
     "execution_count": 101,
     "metadata": {},
     "output_type": "execute_result"
    }
   ],
   "source": [
    "# read in the sample dataframe\n",
    "revision_sample_dir = os.path.join(derived_data_dir, 'revision_sample')\n",
    "sample1_filepath = os.path.join(revision_sample_dir, 'sample1_1M.pkl')\n",
    "rev_df = pd.read_pickle(sample1_filepath)\n",
    "len(rev_df)"
   ]
  },
  {
   "cell_type": "code",
   "execution_count": 102,
   "metadata": {},
   "outputs": [
    {
     "data": {
      "text/plain": [
       "1000000"
      ]
     },
     "execution_count": 102,
     "metadata": {},
     "output_type": "execute_result"
    }
   ],
   "source": [
    "# read in the ORES scores\n",
    "revision_sample_dir = os.path.join(derived_data_dir, 'revision_sample')\n",
    "sample1_filepath = os.path.join(revision_sample_dir, 'sample1_ores_scores.csv')\n",
    "ores_df = pd.read_csv(sample1_filepath, header=None, names=['rev_id', 'damaging_prob', 'damaging_pred', 'goodfaith_prob', 'goodfaith_pred'])\n",
    "len(ores_df)"
   ]
  },
  {
   "cell_type": "code",
   "execution_count": 103,
   "metadata": {},
   "outputs": [
    {
     "data": {
      "text/plain": [
       "1000000"
      ]
     },
     "execution_count": 103,
     "metadata": {},
     "output_type": "execute_result"
    }
   ],
   "source": [
    "rev_df = pd.merge(rev_df, ores_df, on='rev_id', how='inner')\n",
    "len(rev_df)"
   ]
  },
  {
   "cell_type": "code",
   "execution_count": 107,
   "metadata": {},
   "outputs": [
    {
     "data": {
      "text/plain": [
       "(458449, 81)"
      ]
     },
     "execution_count": 107,
     "metadata": {},
     "output_type": "execute_result"
    }
   ],
   "source": [
    "# load in the features\n",
    "labeled_revs_dir = os.path.join(derived_data_dir, 'labeled-revs')\n",
    "sample1_features_filepath = os.path.join(labeled_revs_dir, 'sample1.mock.damaging.tsv')\n",
    "sample1_feature_df = pd.read_csv(sample1_features_filepath, header=0, sep='\\t')\n",
    "sample1_feature_df.shape"
   ]
  },
  {
   "cell_type": "code",
   "execution_count": 108,
   "metadata": {},
   "outputs": [
    {
     "data": {
      "text/plain": [
       "(458449, 80)"
      ]
     },
     "execution_count": 108,
     "metadata": {},
     "output_type": "execute_result"
    }
   ],
   "source": [
    "sample1_feature_df = sample1_feature_df.drop(columns='damaging')\n",
    "sample1_feature_df.shape"
   ]
  },
  {
   "cell_type": "code",
   "execution_count": 109,
   "metadata": {},
   "outputs": [
    {
     "data": {
      "text/plain": [
       "458449"
      ]
     },
     "execution_count": 109,
     "metadata": {},
     "output_type": "execute_result"
    }
   ],
   "source": [
    "sample1_cache_df = None\n",
    "rev_list = []\n",
    "revisions_with_cache_filepath = os.path.join(labeled_revs_dir, \"sample1.mock.w_cache.json\")\n",
    "with open(revisions_with_cache_filepath, 'r') as infile:\n",
    "    for line in infile:\n",
    "        rev = json.loads(line)\n",
    "        rev_list.append({\n",
    "            'rev_id': rev['rev_id'],\n",
    "            'damaging': rev['damaging'],\n",
    "            'goodfaith': rev['goodfaith']\n",
    "        })\n",
    "sample1_cache_df = pd.DataFrame(rev_list)\n",
    "len(sample1_cache_df)"
   ]
  },
  {
   "cell_type": "code",
   "execution_count": 110,
   "metadata": {},
   "outputs": [],
   "source": [
    "sample1_identified_feature_df = pd.concat([sample1_cache_df, sample1_feature_df], axis=1)"
   ]
  },
  {
   "cell_type": "code",
   "execution_count": 111,
   "metadata": {},
   "outputs": [
    {
     "data": {
      "text/plain": [
       "458449"
      ]
     },
     "execution_count": 111,
     "metadata": {},
     "output_type": "execute_result"
    }
   ],
   "source": [
    "# now, apply the classifier to the sample so that predictions can be compared to ORES\n",
    "rev_df = pd.merge(rev_df, sample1_identified_feature_df, on='rev_id', how='inner')\n",
    "len(rev_df)"
   ]
  },
  {
   "cell_type": "code",
   "execution_count": 125,
   "metadata": {},
   "outputs": [
    {
     "data": {
      "text/plain": [
       "(458340, 101)"
      ]
     },
     "execution_count": 125,
     "metadata": {},
     "output_type": "execute_result"
    }
   ],
   "source": [
    "rev_df = rev_df[rev_df.damaging_prob != -1]\n",
    "rev_df.shape"
   ]
  },
  {
   "cell_type": "code",
   "execution_count": 126,
   "metadata": {},
   "outputs": [
    {
     "data": {
      "text/html": [
       "<div>\n",
       "<style scoped>\n",
       "    .dataframe tbody tr th:only-of-type {\n",
       "        vertical-align: middle;\n",
       "    }\n",
       "\n",
       "    .dataframe tbody tr th {\n",
       "        vertical-align: top;\n",
       "    }\n",
       "\n",
       "    .dataframe thead th {\n",
       "        text-align: right;\n",
       "    }\n",
       "</style>\n",
       "<table border=\"1\" class=\"dataframe\">\n",
       "  <thead>\n",
       "    <tr style=\"text-align: right;\">\n",
       "      <th></th>\n",
       "      <th>page_id</th>\n",
       "      <th>rev_id</th>\n",
       "      <th>rev_timestamp</th>\n",
       "      <th>is_revert_target</th>\n",
       "      <th>is_reverted</th>\n",
       "      <th>is_reverting</th>\n",
       "      <th>is_sample_eligible</th>\n",
       "      <th>prev_rev_id</th>\n",
       "      <th>next_rev_id</th>\n",
       "      <th>prev_rev_timestamp</th>\n",
       "      <th>...</th>\n",
       "      <th>feature.english.dictionary.revision.diff.dict_word_prop_delta_sum</th>\n",
       "      <th>feature.english.dictionary.revision.diff.dict_word_prop_delta_increase</th>\n",
       "      <th>feature.english.dictionary.revision.diff.dict_word_prop_delta_decrease</th>\n",
       "      <th>feature.english.dictionary.revision.diff.non_dict_word_delta_sum</th>\n",
       "      <th>feature.english.dictionary.revision.diff.non_dict_word_delta_increase</th>\n",
       "      <th>feature.english.dictionary.revision.diff.non_dict_word_delta_decrease</th>\n",
       "      <th>feature.english.dictionary.revision.diff.non_dict_word_prop_delta_sum</th>\n",
       "      <th>feature.english.dictionary.revision.diff.non_dict_word_prop_delta_increase</th>\n",
       "      <th>feature.english.dictionary.revision.diff.non_dict_word_prop_delta_decrease</th>\n",
       "      <th>downsampled_damaging_prob</th>\n",
       "    </tr>\n",
       "  </thead>\n",
       "  <tbody>\n",
       "    <tr>\n",
       "      <th>0</th>\n",
       "      <td>9516095</td>\n",
       "      <td>846835190</td>\n",
       "      <td>1529576038</td>\n",
       "      <td>0</td>\n",
       "      <td>0</td>\n",
       "      <td>0</td>\n",
       "      <td>True</td>\n",
       "      <td>846835009</td>\n",
       "      <td>850539656</td>\n",
       "      <td>1529575914</td>\n",
       "      <td>...</td>\n",
       "      <td>0.734954</td>\n",
       "      <td>0.734954</td>\n",
       "      <td>0.000000</td>\n",
       "      <td>4</td>\n",
       "      <td>4</td>\n",
       "      <td>0</td>\n",
       "      <td>3.500000</td>\n",
       "      <td>3.500000</td>\n",
       "      <td>0.0</td>\n",
       "      <td>0.005383</td>\n",
       "    </tr>\n",
       "    <tr>\n",
       "      <th>1</th>\n",
       "      <td>876872</td>\n",
       "      <td>923997118</td>\n",
       "      <td>1572595746</td>\n",
       "      <td>0</td>\n",
       "      <td>0</td>\n",
       "      <td>0</td>\n",
       "      <td>True</td>\n",
       "      <td>923211396</td>\n",
       "      <td>924618182</td>\n",
       "      <td>1572162918</td>\n",
       "      <td>...</td>\n",
       "      <td>-0.500000</td>\n",
       "      <td>0.000000</td>\n",
       "      <td>-0.500000</td>\n",
       "      <td>0</td>\n",
       "      <td>0</td>\n",
       "      <td>0</td>\n",
       "      <td>0.000000</td>\n",
       "      <td>0.000000</td>\n",
       "      <td>0.0</td>\n",
       "      <td>0.128249</td>\n",
       "    </tr>\n",
       "    <tr>\n",
       "      <th>2</th>\n",
       "      <td>53465104</td>\n",
       "      <td>867368228</td>\n",
       "      <td>1541425108</td>\n",
       "      <td>0</td>\n",
       "      <td>0</td>\n",
       "      <td>0</td>\n",
       "      <td>True</td>\n",
       "      <td>867366487</td>\n",
       "      <td>867663184</td>\n",
       "      <td>1541423455</td>\n",
       "      <td>...</td>\n",
       "      <td>-3.643590</td>\n",
       "      <td>0.000000</td>\n",
       "      <td>-3.643590</td>\n",
       "      <td>-1</td>\n",
       "      <td>0</td>\n",
       "      <td>-1</td>\n",
       "      <td>-1.000000</td>\n",
       "      <td>0.000000</td>\n",
       "      <td>-1.0</td>\n",
       "      <td>0.060454</td>\n",
       "    </tr>\n",
       "    <tr>\n",
       "      <th>3</th>\n",
       "      <td>60096152</td>\n",
       "      <td>888337768</td>\n",
       "      <td>1552936050</td>\n",
       "      <td>0</td>\n",
       "      <td>0</td>\n",
       "      <td>0</td>\n",
       "      <td>True</td>\n",
       "      <td>888337457</td>\n",
       "      <td>888338754</td>\n",
       "      <td>1552935890</td>\n",
       "      <td>...</td>\n",
       "      <td>2.316390</td>\n",
       "      <td>3.405428</td>\n",
       "      <td>-1.089037</td>\n",
       "      <td>9</td>\n",
       "      <td>9</td>\n",
       "      <td>0</td>\n",
       "      <td>6.012659</td>\n",
       "      <td>6.012659</td>\n",
       "      <td>0.0</td>\n",
       "      <td>0.003914</td>\n",
       "    </tr>\n",
       "    <tr>\n",
       "      <th>4</th>\n",
       "      <td>28063274</td>\n",
       "      <td>917010365</td>\n",
       "      <td>1569117229</td>\n",
       "      <td>0</td>\n",
       "      <td>0</td>\n",
       "      <td>0</td>\n",
       "      <td>True</td>\n",
       "      <td>915190631</td>\n",
       "      <td>-1</td>\n",
       "      <td>1568247118</td>\n",
       "      <td>...</td>\n",
       "      <td>1.333333</td>\n",
       "      <td>2.333333</td>\n",
       "      <td>-1.000000</td>\n",
       "      <td>0</td>\n",
       "      <td>1</td>\n",
       "      <td>-1</td>\n",
       "      <td>-0.909091</td>\n",
       "      <td>0.090909</td>\n",
       "      <td>-1.0</td>\n",
       "      <td>0.005864</td>\n",
       "    </tr>\n",
       "  </tbody>\n",
       "</table>\n",
       "<p>5 rows × 101 columns</p>\n",
       "</div>"
      ],
      "text/plain": [
       "    page_id     rev_id  rev_timestamp  is_revert_target  is_reverted  \\\n",
       "0   9516095  846835190     1529576038                 0            0   \n",
       "1    876872  923997118     1572595746                 0            0   \n",
       "2  53465104  867368228     1541425108                 0            0   \n",
       "3  60096152  888337768     1552936050                 0            0   \n",
       "4  28063274  917010365     1569117229                 0            0   \n",
       "\n",
       "   is_reverting  is_sample_eligible  prev_rev_id  next_rev_id  \\\n",
       "0             0                True    846835009    850539656   \n",
       "1             0                True    923211396    924618182   \n",
       "2             0                True    867366487    867663184   \n",
       "3             0                True    888337457    888338754   \n",
       "4             0                True    915190631           -1   \n",
       "\n",
       "   prev_rev_timestamp  ...  \\\n",
       "0          1529575914  ...   \n",
       "1          1572162918  ...   \n",
       "2          1541423455  ...   \n",
       "3          1552935890  ...   \n",
       "4          1568247118  ...   \n",
       "\n",
       "   feature.english.dictionary.revision.diff.dict_word_prop_delta_sum  \\\n",
       "0                                           0.734954                   \n",
       "1                                          -0.500000                   \n",
       "2                                          -3.643590                   \n",
       "3                                           2.316390                   \n",
       "4                                           1.333333                   \n",
       "\n",
       "  feature.english.dictionary.revision.diff.dict_word_prop_delta_increase  \\\n",
       "0                                           0.734954                       \n",
       "1                                           0.000000                       \n",
       "2                                           0.000000                       \n",
       "3                                           3.405428                       \n",
       "4                                           2.333333                       \n",
       "\n",
       "   feature.english.dictionary.revision.diff.dict_word_prop_delta_decrease  \\\n",
       "0                                           0.000000                        \n",
       "1                                          -0.500000                        \n",
       "2                                          -3.643590                        \n",
       "3                                          -1.089037                        \n",
       "4                                          -1.000000                        \n",
       "\n",
       "   feature.english.dictionary.revision.diff.non_dict_word_delta_sum  \\\n",
       "0                                                  4                  \n",
       "1                                                  0                  \n",
       "2                                                 -1                  \n",
       "3                                                  9                  \n",
       "4                                                  0                  \n",
       "\n",
       "   feature.english.dictionary.revision.diff.non_dict_word_delta_increase  \\\n",
       "0                                                  4                       \n",
       "1                                                  0                       \n",
       "2                                                  0                       \n",
       "3                                                  9                       \n",
       "4                                                  1                       \n",
       "\n",
       "  feature.english.dictionary.revision.diff.non_dict_word_delta_decrease  \\\n",
       "0                                                  0                      \n",
       "1                                                  0                      \n",
       "2                                                 -1                      \n",
       "3                                                  0                      \n",
       "4                                                 -1                      \n",
       "\n",
       "   feature.english.dictionary.revision.diff.non_dict_word_prop_delta_sum  \\\n",
       "0                                           3.500000                       \n",
       "1                                           0.000000                       \n",
       "2                                          -1.000000                       \n",
       "3                                           6.012659                       \n",
       "4                                          -0.909091                       \n",
       "\n",
       "  feature.english.dictionary.revision.diff.non_dict_word_prop_delta_increase  \\\n",
       "0                                           3.500000                           \n",
       "1                                           0.000000                           \n",
       "2                                           0.000000                           \n",
       "3                                           6.012659                           \n",
       "4                                           0.090909                           \n",
       "\n",
       "   feature.english.dictionary.revision.diff.non_dict_word_prop_delta_decrease  \\\n",
       "0                                                0.0                            \n",
       "1                                                0.0                            \n",
       "2                                               -1.0                            \n",
       "3                                                0.0                            \n",
       "4                                               -1.0                            \n",
       "\n",
       "   downsampled_damaging_prob  \n",
       "0                   0.005383  \n",
       "1                   0.128249  \n",
       "2                   0.060454  \n",
       "3                   0.003914  \n",
       "4                   0.005864  \n",
       "\n",
       "[5 rows x 101 columns]"
      ]
     },
     "execution_count": 126,
     "metadata": {},
     "output_type": "execute_result"
    }
   ],
   "source": [
    "rev_df.head()"
   ]
  },
  {
   "cell_type": "code",
   "execution_count": 128,
   "metadata": {},
   "outputs": [
    {
     "name": "stdout",
     "output_type": "stream",
     "text": [
      "0:00:14.511623\n"
     ]
    },
    {
     "name": "stderr",
     "output_type": "stream",
     "text": [
      "/export/scratch2/levon003/bin/anaconda3/lib/python3.7/site-packages/pandas/core/indexing.py:494: SettingWithCopyWarning: \n",
      "A value is trying to be set on a copy of a slice from a DataFrame.\n",
      "Try using .loc[row_indexer,col_indexer] = value instead\n",
      "\n",
      "See the caveats in the documentation: http://pandas.pydata.org/pandas-docs/stable/user_guide/indexing.html#returning-a-view-versus-a-copy\n",
      "  self.obj[item] = s\n"
     ]
    }
   ],
   "source": [
    "start = datetime.now()\n",
    "downsampled_damaging_prob = md.predict_proba(rev_df.loc[:,sample1_feature_df.columns])\n",
    "rev_df.loc[:,'downsampled_damaging_prob'] = downsampled_damaging_prob[:,1]\n",
    "print(f\"{datetime.now() - start}\")"
   ]
  },
  {
   "cell_type": "markdown",
   "metadata": {},
   "source": [
    "### Analyze and compare the predictions made by the two models"
   ]
  },
  {
   "cell_type": "code",
   "execution_count": 163,
   "metadata": {},
   "outputs": [
    {
     "data": {
      "text/plain": [
       "(0.10187197277130515, 0.02025570537155823)"
      ]
     },
     "execution_count": 163,
     "metadata": {},
     "output_type": "execute_result"
    }
   ],
   "source": [
    "# the two models diverge substantially in the degree to which they predict that revisions are damaging\n",
    "# it seems likely that the normal model over-predicts Damaging revisions, whereas the downsampled model may underpredict...\n",
    "np.sum(rev_df.damaging_prob >= 0.5) / len(rev_df), np.sum(rev_df.downsampled_damaging_prob >= 0.5) / len(rev_df)"
   ]
  },
  {
   "cell_type": "code",
   "execution_count": 130,
   "metadata": {},
   "outputs": [
    {
     "name": "stderr",
     "output_type": "stream",
     "text": [
      "/export/scratch2/levon003/bin/anaconda3/lib/python3.7/site-packages/ipykernel_launcher.py:1: SettingWithCopyWarning: \n",
      "A value is trying to be set on a copy of a slice from a DataFrame.\n",
      "Try using .loc[row_indexer,col_indexer] = value instead\n",
      "\n",
      "See the caveats in the documentation: http://pandas.pydata.org/pandas-docs/stable/user_guide/indexing.html#returning-a-view-versus-a-copy\n",
      "  \"\"\"Entry point for launching an IPython kernel.\n"
     ]
    },
    {
     "data": {
      "image/png": "[encoded data removed]",
      "text/plain": [
       "<Figure size 432x288 with 1 Axes>"
      ]
     },
     "metadata": {
      "needs_background": "light"
     },
     "output_type": "display_data"
    }
   ],
   "source": [
    "rev_df['damaging_prob_delta'] = rev_df.downsampled_damaging_prob - rev_df.damaging_prob\n",
    "plt.hist(rev_df.damaging_prob_delta, bins=100, log=True)\n",
    "plt.show()"
   ]
  },
  {
   "cell_type": "code",
   "execution_count": 177,
   "metadata": {},
   "outputs": [
    {
     "name": "stdout",
     "output_type": "stream",
     "text": [
      "513 / 458340 (0.11%) revisions shifted +0.1 or more\n"
     ]
    }
   ],
   "source": [
    "large_damaging_prob_delta_count = np.sum(rev_df.damaging_prob_delta >= 0.1)\n",
    "print(f\"{large_damaging_prob_delta_count} / {len(rev_df)} ({large_damaging_prob_delta_count / len(rev_df) * 100:.2f}%) revisions shifted +0.1 or more\")"
   ]
  },
  {
   "cell_type": "code",
   "execution_count": 178,
   "metadata": {},
   "outputs": [
    {
     "name": "stdout",
     "output_type": "stream",
     "text": [
      "136718 / 458340 (29.83%) revisions shifted -0.1 or more\n"
     ]
    }
   ],
   "source": [
    "large_damaging_prob_delta_count = np.sum(rev_df.damaging_prob_delta <= -0.1)\n",
    "print(f\"{large_damaging_prob_delta_count} / {len(rev_df)} ({large_damaging_prob_delta_count / len(rev_df) * 100:.2f}%) revisions shifted -0.1 or more\")"
   ]
  },
  {
   "cell_type": "code",
   "execution_count": 180,
   "metadata": {},
   "outputs": [
    {
     "name": "stdout",
     "output_type": "stream",
     "text": [
      "321109 / 458340 (70.06%) revisions shifted less than +/-0.1\n"
     ]
    }
   ],
   "source": [
    "small_damaging_prob_delta_count = np.sum(abs(rev_df.damaging_prob_delta) <= 0.1)\n",
    "print(f\"{small_damaging_prob_delta_count} / {len(rev_df)} ({small_damaging_prob_delta_count / len(rev_df) * 100:.2f}%) revisions shifted less than +/-0.1\")"
   ]
  },
  {
   "cell_type": "code",
   "execution_count": 184,
   "metadata": {},
   "outputs": [
    {
     "name": "stdout",
     "output_type": "stream",
     "text": [
      "140305 / 458340 (30.61%) revisions shifted less than 0.01\n"
     ]
    }
   ],
   "source": [
    "small_change_eta = 0.01\n",
    "small_damaging_prob_delta_count = np.sum(abs(rev_df.damaging_prob_delta) <= small_change_eta)\n",
    "print(f\"{small_damaging_prob_delta_count} / {len(rev_df)} ({small_damaging_prob_delta_count / len(rev_df) * 100:.2f}%) revisions shifted less than {small_change_eta}\")"
   ]
  },
  {
   "cell_type": "code",
   "execution_count": 147,
   "metadata": {},
   "outputs": [
    {
     "data": {
      "text/plain": [
       "(458340, 102)"
      ]
     },
     "execution_count": 147,
     "metadata": {},
     "output_type": "execute_result"
    }
   ],
   "source": [
    "rev_df.shape"
   ]
  },
  {
   "cell_type": "code",
   "execution_count": 140,
   "metadata": {},
   "outputs": [],
   "source": [
    "# Construct colorplot for matrix plotting\n",
    "# This sets the colormap that will be used for the matrix plots below\n",
    "def truncate_colormap(cmap, minval=0.0, maxval=1.0, n=100):\n",
    "    new_cmap = matplotlib.colors.LinearSegmentedColormap.from_list(\n",
    "        'trunc({n},{a:.2f},{b:.2f})'.format(n=cmap.name, a=minval, b=maxval),\n",
    "        cmap(np.linspace(minval, maxval, n)))\n",
    "    return new_cmap\n",
    "new_cmap = truncate_colormap(plt.cm.Purples, 0, 0.6)"
   ]
  },
  {
   "cell_type": "code",
   "execution_count": 138,
   "metadata": {},
   "outputs": [
    {
     "data": {
      "text/plain": [
       "array([[376737.,  78865.,   2738.],\n",
       "       [439306.,  18174.,    860.]])"
      ]
     },
     "execution_count": 138,
     "metadata": {},
     "output_type": "execute_result"
    }
   ],
   "source": [
    "# while few shifted a large amount, one relevant question is: how many change buckets?\n",
    "# i.e. https://en.wikipedia.org/wiki/Special:ORESModels\n",
    "likelygood_threshold = 0.329\n",
    "verylikelybad_threshold = 0.919\n",
    "\n",
    "rev_counts = np.zeros((2, 3))\n",
    "for i in [0, 1]:\n",
    "    if i == 0:\n",
    "        probs = rev_df.damaging_prob\n",
    "    else:\n",
    "        probs = rev_df.downsampled_damaging_prob\n",
    "    for j in [0, 1, 2]:\n",
    "        ores_bucket_idx = None\n",
    "        if j == 0:  # verylikelygood\n",
    "            ores_bucket_idx = probs <= likelygood_threshold\n",
    "        elif j == 1:  # neither\n",
    "            ores_bucket_idx = (probs > likelygood_threshold)&(probs < verylikelybad_threshold)\n",
    "        elif j == 2:  # likelybad\n",
    "            ores_bucket_idx = probs >= verylikelybad_threshold\n",
    "        rev_counts[i,j] = np.sum(ores_bucket_idx)\n",
    "rev_counts"
   ]
  },
  {
   "cell_type": "code",
   "execution_count": 148,
   "metadata": {},
   "outputs": [
    {
     "data": {
      "image/png": "[encoded data removed]",
      "text/plain": [
       "<Figure size 432x288 with 1 Axes>"
      ]
     },
     "metadata": {
      "needs_background": "light"
     },
     "output_type": "display_data"
    }
   ],
   "source": [
    "# ORES model X ORES prediction bucket\n",
    "fig, ax = plt.subplots(1, 1, figsize=(6, 4))\n",
    "\n",
    "rev_pcts = rev_counts.copy()\n",
    "for i in range(2):\n",
    "    model_total = rev_pcts[i,:].sum()\n",
    "    rev_pcts[i,:] = rev_pcts[i,:] / model_total * 100\n",
    "ax.matshow(rev_pcts, cmap=new_cmap)\n",
    "plt.xlabel(\"ORES Filter\")\n",
    "plt.ylabel(\"ORES Damaging Model\")\n",
    "ores_filter_labels = [f\"{display_label}\"\n",
    "               for i, display_label\n",
    "               in enumerate(['verylikelygood', 'other', 'likelybad'])\n",
    "              ]\n",
    "model_labels = [f\"{display_label}\"\n",
    "               for i, display_label\n",
    "               in enumerate(['Default/Current', 'Zach\\'s Downsampled'])\n",
    "              ]\n",
    "plt.xticks(ticks=[0, 1, 2], labels=ores_filter_labels)\n",
    "plt.yticks(ticks=[0, 1], labels=model_labels)\n",
    "for i in range(2):  # which model\n",
    "    for j in range(3):  # ores filter\n",
    "        pct = f\"{rev_pcts[i, j]:.2f}%\"\n",
    "        plt.text(j, i, pct, verticalalignment='bottom', horizontalalignment='center')\n",
    "        count = f\"{int(rev_counts[i, j]):,}\"\n",
    "        plt.text(j, i, count, verticalalignment='top', horizontalalignment='center')\n",
    "plt.axhline(0.5, color='black', linewidth=1)\n",
    "\n",
    "plt.show()"
   ]
  },
  {
   "cell_type": "code",
   "execution_count": 162,
   "metadata": {},
   "outputs": [
    {
     "data": {
      "image/png": "[encoded data removed]",
      "text/plain": [
       "<Figure size 432x288 with 1 Axes>"
      ]
     },
     "metadata": {
      "needs_background": "light"
     },
     "output_type": "display_data"
    }
   ],
   "source": [
    "cmap = matplotlib.cm.Set2\n",
    "plt.hist(rev_df.damaging_prob, bins=np.linspace(0, 1, num=100), color='black', log=True, label='Default Model')\n",
    "plt.hist(rev_df.downsampled_damaging_prob, bins=np.linspace(0, 1, num=100), log=True, color=cmap(0), alpha=0.5, label='Zach\\'s Downsampled')\n",
    "plt.axvline(likelygood_threshold, linestyle='--', color='black', alpha=0.2)\n",
    "plt.axvline(verylikelybad_threshold, linestyle='--', color='black', alpha=0.2)\n",
    "plt.title(f\"Distribution of ORES damaging predictions (n={len(rev_df):,})\")\n",
    "plt.xlabel(\"ORES 'damaging' prediction\")\n",
    "plt.ylabel(\"Revision count\")\n",
    "plt.legend()\n",
    "plt.show()"
   ]
  },
  {
   "cell_type": "code",
   "execution_count": 169,
   "metadata": {},
   "outputs": [
    {
     "data": {
      "image/png": "[encoded data removed]",
      "text/plain": [
       "<Figure size 432x288 with 1 Axes>"
      ]
     },
     "metadata": {
      "needs_background": "light"
     },
     "output_type": "display_data"
    }
   ],
   "source": [
    "cmap = matplotlib.cm.Set2\n",
    "plt.hist(rev_df.damaging_prob, bins=np.linspace(0, 1, num=100), color='black', log=True, label='Default Model')\n",
    "lpd_df = rev_df[rev_df.downsampled_damaging_prob - rev_df.damaging_prob >= 0.1]\n",
    "plt.hist(lpd_df.damaging_prob, bins=np.linspace(0, 1, num=100), color=cmap(0), alpha=0.5, log=True, label=f'Large Positive Delta (n={len(lpd_df):,})')\n",
    "lnd_df = rev_df[rev_df.damaging_prob - rev_df.downsampled_damaging_prob >= 0.1]\n",
    "plt.hist(lnd_df.damaging_prob, bins=np.linspace(0, 1, num=100), color=cmap(0.2), alpha=0.5, log=True, label=f'Large Negative Delta (n={len(lnd_df):,})')\n",
    "plt.axvline(likelygood_threshold, linestyle='--', color='black', alpha=0.2)\n",
    "plt.axvline(verylikelybad_threshold, linestyle='--', color='black', alpha=0.2)\n",
    "plt.title(f\"Distribution of ORES damaging predictions (n={len(rev_df):,})\")\n",
    "plt.xlabel(\"ORES 'damaging' prediction\")\n",
    "plt.ylabel(\"Revision count\")\n",
    "plt.legend()\n",
    "plt.show()"
   ]
  },
  {
   "cell_type": "code",
   "execution_count": 192,
   "metadata": {},
   "outputs": [],
   "source": [
    "# for annotation, write out the small set of revisions with a large increase in Damaging probability\n",
    "large_damaging_prob_delta_subset = rev_df[rev_df.damaging_prob_delta >= 0.1]\n",
    "large_damaging_prob_delta_filepath = os.path.join(working_dir, \"large_damaging_prob_delta.csv\")\n",
    "with open(large_damaging_prob_delta_filepath, 'w') as outfile:\n",
    "    outfile.write(\"page_id,rev_id,rev_timestamp,rev_date,damaging_prob,downsampled_damaging_prob,damaging_prob_delta,diff_url\\n\")\n",
    "    for t in large_damaging_prob_delta_subset.sample(frac=1, random_state=0).itertuples():\n",
    "        url = f\"https://en.wikipedia.org/wiki/?diff={t.rev_id}\"\n",
    "        rev_date = datetime.utcfromtimestamp(t.rev_timestamp).strftime(\"%Y-%m-%d\")\n",
    "        line = f\"{t.page_id},{t.rev_id},{t.rev_timestamp},{rev_date},{t.damaging_prob},{t.downsampled_damaging_prob},{t.damaging_prob_delta},{url}\\n\"\n",
    "        outfile.write(line)"
   ]
  },
  {
   "cell_type": "code",
   "execution_count": null,
   "metadata": {},
   "outputs": [],
   "source": []
  },
  {
   "cell_type": "code",
   "execution_count": 201,
   "metadata": {},
   "outputs": [
    {
     "name": "stdout",
     "output_type": "stream",
     "text": [
      "Identified 140 newly-damaging revisions and 37548 no longer considered damaging.\n",
      "100\n"
     ]
    }
   ],
   "source": [
    "# write out a sample of revisions that changed classifications\n",
    "newly_damaging = rev_df[(rev_df.damaging_prob < 0.5)&(rev_df.downsampled_damaging_prob >= 0.5)]\n",
    "newly_not_damaging = rev_df[(rev_df.damaging_prob >= 0.5)&(rev_df.downsampled_damaging_prob < 0.5)]\n",
    "print(f\"Identified {len(newly_damaging)} newly-damaging revisions and {len(newly_not_damaging)} no longer considered damaging.\")\n",
    "subset = pd.concat((newly_damaging.sample(n=50), newly_not_damaging.sample(n=50)))\n",
    "print(len(subset))\n",
    "\n",
    "sample_subset_filepath = os.path.join(working_dir, f\"sample1_changed_classification_random100.csv\")\n",
    "with open(sample_subset_filepath, 'w') as outfile:\n",
    "    outfile.write(\"page_id,rev_id,rev_timestamp,rev_date,damaging_prob,downsampled_damaging_prob,damaging_prob_delta,diff_url\\n\")\n",
    "    for t in subset.itertuples():\n",
    "        url = f\"https://en.wikipedia.org/wiki/?diff={t.rev_id}\"\n",
    "        rev_date = datetime.utcfromtimestamp(t.rev_timestamp).strftime(\"%Y-%m-%d\")\n",
    "        line = f\"{t.page_id},{t.rev_id},{t.rev_timestamp},{rev_date},{t.damaging_prob},{t.downsampled_damaging_prob},{t.damaging_prob_delta},{url}\\n\"\n",
    "        outfile.write(line)"
   ]
  },
  {
   "cell_type": "code",
   "execution_count": 200,
   "metadata": {},
   "outputs": [],
   "source": [
    "# write out a completely random sample of the revisions for annotation\n",
    "n = 100\n",
    "sample_subset_filepath = os.path.join(working_dir, f\"sample1_random{n}.csv\")\n",
    "with open(sample_subset_filepath, 'w') as outfile:\n",
    "    outfile.write(\"page_id,rev_id,rev_timestamp,rev_date,damaging_prob,downsampled_damaging_prob,damaging_prob_delta,diff_url\\n\")\n",
    "    subset = rev_df.sample(n=n, random_state=2)\n",
    "    for t in subset.itertuples():\n",
    "        url = f\"https://en.wikipedia.org/wiki/?diff={t.rev_id}\"\n",
    "        rev_date = datetime.utcfromtimestamp(t.rev_timestamp).strftime(\"%Y-%m-%d\")\n",
    "        line = f\"{t.page_id},{t.rev_id},{t.rev_timestamp},{rev_date},{t.damaging_prob},{t.downsampled_damaging_prob},{t.damaging_prob_delta},{url}\\n\"\n",
    "        outfile.write(line)"
   ]
  },
  {
   "cell_type": "code",
   "execution_count": null,
   "metadata": {},
   "outputs": [],
   "source": []
  }
 ],
 "metadata": {
  "kernelspec": {
   "display_name": "Flagon Python3",
   "language": "python",
   "name": "flagon-conda-env"
  },
  "language_info": {
   "codemirror_mode": {
    "name": "ipython",
    "version": 3
   },
   "file_extension": ".py",
   "mimetype": "text/x-python",
   "name": "python",
   "nbconvert_exporter": "python",
   "pygments_lexer": "ipython3",
   "version": "3.7.6"
  }
 },
 "nbformat": 4,
 "nbformat_minor": 4
}
