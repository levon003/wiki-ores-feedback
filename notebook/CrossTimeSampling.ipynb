{
 "cells": [
  {
   "cell_type": "markdown",
   "metadata": {},
   "source": [
    "Cross Time Sampling\n",
    "===\n",
    "\n",
    "Sampling from April 2014 (start of the training data period) to December 2019.\n",
    "\n",
    "A sample is generated for each month. (n=50000)\n",
    "\n",
    "Each sample is saved in a mock json file to be used for `revscoring extract`.\n",
    "\n",
    "Then, `revscoring extract` and `revscoring dump` are used to generate TSV feature files for each of the samples.\n",
    "\n",
    "Note that each section of this notebook is designed to be run independently, with no dependencies from other sections other than this intro section."
   ]
  },
  {
   "cell_type": "code",
   "execution_count": 1,
   "metadata": {},
   "outputs": [],
   "source": [
    "import numpy as np\n",
    "import pandas as pd\n",
    "import matplotlib.pyplot as plt\n",
    "import matplotlib"
   ]
  },
  {
   "cell_type": "code",
   "execution_count": 2,
   "metadata": {},
   "outputs": [],
   "source": [
    "import os\n",
    "from tqdm import tqdm\n",
    "import bz2\n",
    "import gzip\n",
    "import json\n",
    "import re\n",
    "import hashlib\n",
    "from datetime import datetime\n",
    "import nltk\n",
    "import scipy.stats\n",
    "import para\n",
    "from itertools import groupby\n",
    "from collections import Counter"
   ]
  },
  {
   "cell_type": "code",
   "execution_count": 3,
   "metadata": {},
   "outputs": [
    {
     "data": {
      "text/plain": [
       "'/export/scratch2/levon003/repos/wiki-ores-feedback'"
      ]
     },
     "execution_count": 3,
     "metadata": {},
     "output_type": "execute_result"
    }
   ],
   "source": [
    "git_root_dir = !git rev-parse --show-toplevel\n",
    "git_root_dir = git_root_dir[0]\n",
    "git_root_dir"
   ]
  },
  {
   "cell_type": "code",
   "execution_count": 4,
   "metadata": {},
   "outputs": [
    {
     "data": {
      "text/plain": [
       "('/export/scratch2/wiki_data',\n",
       " '/export/scratch2/levon003/repos/wiki-ores-feedback/data/derived')"
      ]
     },
     "execution_count": 4,
     "metadata": {},
     "output_type": "execute_result"
    }
   ],
   "source": [
    "raw_data_dir = \"/export/scratch2/wiki_data\"\n",
    "derived_data_dir = os.path.join(git_root_dir, \"data\", \"derived\")\n",
    "raw_data_dir, derived_data_dir"
   ]
  },
  {
   "cell_type": "code",
   "execution_count": 5,
   "metadata": {},
   "outputs": [
    {
     "data": {
      "text/plain": [
       "'/export/scratch2/levon003/repos/wiki-ores-feedback/data/derived/stub-history-all-revisions'"
      ]
     },
     "execution_count": 5,
     "metadata": {},
     "output_type": "execute_result"
    }
   ],
   "source": [
    "working_dir = os.path.join(derived_data_dir, 'stub-history-all-revisions')\n",
    "os.makedirs(working_dir, exist_ok=True)\n",
    "working_dir"
   ]
  },
  {
   "cell_type": "code",
   "execution_count": 6,
   "metadata": {},
   "outputs": [
    {
     "data": {
      "text/plain": [
       "(1388556000, 1577858400)"
      ]
     },
     "execution_count": 6,
     "metadata": {},
     "output_type": "execute_result"
    }
   ],
   "source": [
    "start_date = datetime.fromisoformat('2014-01-01')\n",
    "start_timestamp = int(start_date.timestamp())\n",
    "end_date = datetime.fromisoformat('2020-01-01')\n",
    "end_timestamp = int(end_date.timestamp())\n",
    "start_timestamp, end_timestamp"
   ]
  },
  {
   "cell_type": "markdown",
   "metadata": {},
   "source": [
    "### Load in all revisions\n",
    "\n",
    "This is a 29GB text file!\n",
    "\n",
    "We load it in, before sorting and filtering it and saving it back to a more efficient format.  "
   ]
  },
  {
   "cell_type": "code",
   "execution_count": 9,
   "metadata": {},
   "outputs": [
    {
     "name": "stdout",
     "output_type": "stream",
     "text": [
      "0:03:53.790723\n"
     ]
    },
    {
     "data": {
      "text/plain": [
       "580918565"
      ]
     },
     "execution_count": 9,
     "metadata": {},
     "output_type": "execute_result"
    }
   ],
   "source": [
    "start = datetime.now()\n",
    "rev_ids_filepath = os.path.join(working_dir, 'rev_ids.csv')\n",
    "df = pd.read_csv(rev_ids_filepath,\n",
    "                 header=None, \n",
    "                 names=['page_id', 'rev_id', 'rev_timestamp', 'user_text', 'user_id', 'is_revert_target', 'is_reverted', 'is_reverting'],\n",
    "                 usecols=['rev_id', 'rev_timestamp']\n",
    ")\n",
    "print(f\"{datetime.now() - start}\")\n",
    "len(df)"
   ]
  },
  {
   "cell_type": "code",
   "execution_count": 11,
   "metadata": {},
   "outputs": [
    {
     "name": "stdout",
     "output_type": "stream",
     "text": [
      "0:04:39.691056\n"
     ]
    }
   ],
   "source": [
    "start = datetime.now()\n",
    "df = df.sort_values(by='rev_timestamp')\n",
    "print(f\"{datetime.now() - start}\")"
   ]
  },
  {
   "cell_type": "code",
   "execution_count": 14,
   "metadata": {},
   "outputs": [
    {
     "name": "stdout",
     "output_type": "stream",
     "text": [
      "224308373 / 580918565 (38.61%) revisions in the sample period.\n"
     ]
    }
   ],
   "source": [
    "total_revisions = len(df)\n",
    "df = df[(df.rev_timestamp >= start_timestamp)&(df.rev_timestamp <= end_timestamp)]\n",
    "revisions_in_sample_period = len(df)\n",
    "print(f\"{revisions_in_sample_period} / {total_revisions} ({revisions_in_sample_period / total_revisions * 100:.2f}%) revisions in the sample period.\")"
   ]
  },
  {
   "cell_type": "code",
   "execution_count": 17,
   "metadata": {},
   "outputs": [
    {
     "name": "stdout",
     "output_type": "stream",
     "text": [
      "0:00:12.304733\n",
      "Finished.\n"
     ]
    }
   ],
   "source": [
    "# save the dataframe as a pickle file\n",
    "start = datetime.now()\n",
    "revisions_filepath = os.path.join(working_dir, 'rev_ids_2014to2019.pkl')\n",
    "df.to_pickle(revisions_filepath)\n",
    "print(f\"{datetime.now() - start}\")\n",
    "print(\"Finished.\")"
   ]
  },
  {
   "cell_type": "code",
   "execution_count": 19,
   "metadata": {},
   "outputs": [
    {
     "name": "stdout",
     "output_type": "stream",
     "text": [
      "0:11:17.141400\n",
      "Finished.\n"
     ]
    }
   ],
   "source": [
    "# save the dataframe as a csv file\n",
    "start = datetime.now()\n",
    "revisions_filepath = os.path.join(working_dir, 'rev_ids_2014to2019_sorted.csv')\n",
    "df.to_csv(revisions_filepath, index=False)\n",
    "print(f\"{datetime.now() - start}\")\n",
    "print(\"Finished.\")"
   ]
  },
  {
   "cell_type": "markdown",
   "metadata": {},
   "source": [
    "### Process the data to generate the samples"
   ]
  },
  {
   "cell_type": "code",
   "execution_count": 20,
   "metadata": {},
   "outputs": [
    {
     "name": "stdout",
     "output_type": "stream",
     "text": [
      "0:00:08.090601\n"
     ]
    },
    {
     "data": {
      "text/plain": [
       "224308373"
      ]
     },
     "execution_count": 20,
     "metadata": {},
     "output_type": "execute_result"
    }
   ],
   "source": [
    "# read the dataframe with the revision ids and timestamps\n",
    "start = datetime.now()\n",
    "revisions_filepath = os.path.join(working_dir, 'rev_ids_2014to2019.pkl')\n",
    "df = pd.read_pickle(revisions_filepath)\n",
    "print(f\"{datetime.now() - start}\")\n",
    "len(df)"
   ]
  },
  {
   "cell_type": "code",
   "execution_count": 21,
   "metadata": {},
   "outputs": [
    {
     "data": {
      "text/html": [
       "<div>\n",
       "<style scoped>\n",
       "    .dataframe tbody tr th:only-of-type {\n",
       "        vertical-align: middle;\n",
       "    }\n",
       "\n",
       "    .dataframe tbody tr th {\n",
       "        vertical-align: top;\n",
       "    }\n",
       "\n",
       "    .dataframe thead th {\n",
       "        text-align: right;\n",
       "    }\n",
       "</style>\n",
       "<table border=\"1\" class=\"dataframe\">\n",
       "  <thead>\n",
       "    <tr style=\"text-align: right;\">\n",
       "      <th></th>\n",
       "      <th>rev_id</th>\n",
       "      <th>rev_timestamp</th>\n",
       "    </tr>\n",
       "  </thead>\n",
       "  <tbody>\n",
       "    <tr>\n",
       "      <th>407122457</th>\n",
       "      <td>588591995</td>\n",
       "      <td>1388556000</td>\n",
       "    </tr>\n",
       "    <tr>\n",
       "      <th>61694927</th>\n",
       "      <td>588591993</td>\n",
       "      <td>1388556000</td>\n",
       "    </tr>\n",
       "    <tr>\n",
       "      <th>407121471</th>\n",
       "      <td>588591991</td>\n",
       "      <td>1388556000</td>\n",
       "    </tr>\n",
       "    <tr>\n",
       "      <th>383458999</th>\n",
       "      <td>588591992</td>\n",
       "      <td>1388556000</td>\n",
       "    </tr>\n",
       "    <tr>\n",
       "      <th>440838181</th>\n",
       "      <td>588592002</td>\n",
       "      <td>1388556001</td>\n",
       "    </tr>\n",
       "  </tbody>\n",
       "</table>\n",
       "</div>"
      ],
      "text/plain": [
       "              rev_id  rev_timestamp\n",
       "407122457  588591995     1388556000\n",
       "61694927   588591993     1388556000\n",
       "407121471  588591991     1388556000\n",
       "383458999  588591992     1388556000\n",
       "440838181  588592002     1388556001"
      ]
     },
     "execution_count": 21,
     "metadata": {},
     "output_type": "execute_result"
    }
   ],
   "source": [
    "df.head()"
   ]
  },
  {
   "cell_type": "code",
   "execution_count": 22,
   "metadata": {},
   "outputs": [
    {
     "name": "stdout",
     "output_type": "stream",
     "text": [
      "0:20:00.859671\n"
     ]
    }
   ],
   "source": [
    "# TODO if this process will be repeated, it would greatly benefit from parallelization\n",
    "start = datetime.now()\n",
    "df['month_id'] = df.rev_timestamp.map(lambda ts: int(datetime.utcfromtimestamp(ts).strftime('%Y%m')))\n",
    "print(f\"{datetime.now() - start}\")"
   ]
  },
  {
   "cell_type": "code",
   "execution_count": 23,
   "metadata": {},
   "outputs": [
    {
     "data": {
      "text/plain": [
       "73"
      ]
     },
     "execution_count": 23,
     "metadata": {},
     "output_type": "execute_result"
    }
   ],
   "source": [
    "month_ids_in_sample = set(df.month_id)\n",
    "len(month_ids_in_sample)"
   ]
  },
  {
   "cell_type": "code",
   "execution_count": 25,
   "metadata": {},
   "outputs": [
    {
     "data": {
      "text/plain": [
       "3039372"
      ]
     },
     "execution_count": 25,
     "metadata": {},
     "output_type": "execute_result"
    }
   ],
   "source": [
    "# the first month in the sample (Jan 2014) has approximately 3 million revisions\n",
    "len(df[df.month_id == 201401])"
   ]
  },
  {
   "cell_type": "code",
   "execution_count": 28,
   "metadata": {
    "scrolled": true
   },
   "outputs": [
    {
     "name": "stderr",
     "output_type": "stream",
     "text": [
      "\n",
      "  0%|          | 0/73 [00:00<?, ?it/s]\u001b[A\n",
      "  1%|▏         | 1/73 [00:17<20:25, 17.02s/it]\u001b[A\n",
      "  3%|▎         | 2/73 [00:17<14:11, 11.99s/it]\u001b[A\n",
      "  4%|▍         | 3/73 [00:17<09:54,  8.50s/it]\u001b[A\n",
      "  5%|▌         | 4/73 [00:17<06:53,  6.00s/it]\u001b[A\n",
      "  7%|▋         | 5/73 [00:17<04:48,  4.24s/it]\u001b[A\n",
      "  8%|▊         | 6/73 [00:18<03:21,  3.01s/it]\u001b[A\n",
      " 10%|▉         | 7/73 [00:18<02:22,  2.15s/it]\u001b[A\n",
      " 11%|█         | 8/73 [00:18<01:40,  1.55s/it]\u001b[A\n",
      " 12%|█▏        | 9/73 [00:18<01:12,  1.13s/it]\u001b[A\n",
      " 14%|█▎        | 10/73 [00:18<00:52,  1.20it/s]\u001b[A\n",
      " 15%|█▌        | 11/73 [00:18<00:38,  1.60it/s]\u001b[A\n",
      " 16%|█▋        | 12/73 [00:18<00:29,  2.09it/s]\u001b[A\n",
      " 18%|█▊        | 13/73 [00:19<00:22,  2.63it/s]\u001b[A\n",
      " 19%|█▉        | 14/73 [00:19<00:18,  3.24it/s]\u001b[A\n",
      " 21%|██        | 15/73 [00:19<00:15,  3.83it/s]\u001b[A\n",
      " 22%|██▏       | 16/73 [00:19<00:13,  4.37it/s]\u001b[A\n",
      " 23%|██▎       | 17/73 [00:19<00:11,  4.81it/s]\u001b[A\n",
      " 25%|██▍       | 18/73 [00:19<00:10,  5.20it/s]\u001b[A\n",
      " 26%|██▌       | 19/73 [00:19<00:09,  5.51it/s]\u001b[A\n",
      " 27%|██▋       | 20/73 [00:20<00:09,  5.69it/s]\u001b[A\n",
      " 29%|██▉       | 21/73 [00:20<00:08,  5.87it/s]\u001b[A\n",
      " 30%|███       | 22/73 [00:20<00:08,  5.96it/s]\u001b[A\n",
      " 32%|███▏      | 23/73 [00:20<00:08,  6.09it/s]\u001b[A\n",
      " 33%|███▎      | 24/73 [00:20<00:07,  6.20it/s]\u001b[A\n",
      " 34%|███▍      | 25/73 [00:20<00:07,  6.17it/s]\u001b[A\n",
      " 36%|███▌      | 26/73 [00:21<00:07,  6.10it/s]\u001b[A\n",
      " 37%|███▋      | 27/73 [00:21<00:07,  5.99it/s]\u001b[A\n",
      " 38%|███▊      | 28/73 [00:21<00:07,  6.01it/s]\u001b[A\n",
      " 40%|███▉      | 29/73 [00:21<00:07,  5.98it/s]\u001b[A\n",
      " 41%|████      | 30/73 [00:21<00:07,  6.05it/s]\u001b[A\n",
      " 42%|████▏     | 31/73 [00:21<00:06,  6.11it/s]\u001b[A\n",
      " 44%|████▍     | 32/73 [00:22<00:06,  6.13it/s]\u001b[A\n",
      " 45%|████▌     | 33/73 [00:22<00:06,  6.09it/s]\u001b[A\n",
      " 47%|████▋     | 34/73 [00:22<00:06,  6.05it/s]\u001b[A\n",
      " 48%|████▊     | 35/73 [00:22<00:06,  6.00it/s]\u001b[A\n",
      " 49%|████▉     | 36/73 [00:22<00:06,  5.93it/s]\u001b[A\n",
      " 51%|█████     | 37/73 [00:22<00:06,  5.78it/s]\u001b[A\n",
      " 52%|█████▏    | 38/73 [00:23<00:06,  5.79it/s]\u001b[A\n",
      " 53%|█████▎    | 39/73 [00:23<00:06,  5.59it/s]\u001b[A\n",
      " 55%|█████▍    | 40/73 [00:23<00:05,  5.70it/s]\u001b[A\n",
      " 56%|█████▌    | 41/73 [00:23<00:05,  5.76it/s]\u001b[A\n",
      " 58%|█████▊    | 42/73 [00:23<00:05,  5.73it/s]\u001b[A\n",
      " 59%|█████▉    | 43/73 [00:24<00:05,  5.78it/s]\u001b[A\n",
      " 60%|██████    | 44/73 [00:24<00:05,  5.79it/s]\u001b[A\n",
      " 62%|██████▏   | 45/73 [00:24<00:04,  5.82it/s]\u001b[A\n",
      " 63%|██████▎   | 46/73 [00:24<00:04,  5.79it/s]\u001b[A\n",
      " 64%|██████▍   | 47/73 [00:24<00:04,  5.77it/s]\u001b[A\n",
      " 66%|██████▌   | 48/73 [00:24<00:04,  5.73it/s]\u001b[A\n",
      " 67%|██████▋   | 49/73 [00:25<00:04,  5.62it/s]\u001b[A\n",
      " 68%|██████▊   | 50/73 [00:25<00:04,  5.66it/s]\u001b[A\n",
      " 70%|██████▉   | 51/73 [00:25<00:03,  5.60it/s]\u001b[A\n",
      " 71%|███████   | 52/73 [00:25<00:03,  5.64it/s]\u001b[A\n",
      " 73%|███████▎  | 53/73 [00:25<00:03,  5.69it/s]\u001b[A\n",
      " 74%|███████▍  | 54/73 [00:25<00:03,  5.81it/s]\u001b[A\n",
      " 75%|███████▌  | 55/73 [00:26<00:03,  5.90it/s]\u001b[A\n",
      " 77%|███████▋  | 56/73 [00:26<00:02,  5.96it/s]\u001b[A\n",
      " 78%|███████▊  | 57/73 [00:26<00:02,  6.06it/s]\u001b[A\n",
      " 79%|███████▉  | 58/73 [00:26<00:02,  6.04it/s]\u001b[A\n",
      " 81%|████████  | 59/73 [00:26<00:02,  6.06it/s]\u001b[A\n",
      " 82%|████████▏ | 60/73 [00:26<00:02,  6.04it/s]\u001b[A\n",
      " 84%|████████▎ | 61/73 [00:27<00:02,  5.97it/s]\u001b[A\n",
      " 85%|████████▍ | 62/73 [00:27<00:01,  6.07it/s]\u001b[A\n",
      " 86%|████████▋ | 63/73 [00:27<00:01,  6.03it/s]\u001b[A\n",
      " 88%|████████▊ | 64/73 [00:27<00:01,  6.02it/s]\u001b[A\n",
      " 89%|████████▉ | 65/73 [00:27<00:01,  5.92it/s]\u001b[A\n",
      " 90%|█████████ | 66/73 [00:27<00:01,  5.88it/s]\u001b[A\n",
      " 92%|█████████▏| 67/73 [00:28<00:01,  5.85it/s]\u001b[A\n",
      " 93%|█████████▎| 68/73 [00:28<00:00,  5.84it/s]\u001b[A\n",
      " 95%|█████████▍| 69/73 [00:28<00:00,  5.45it/s]\u001b[A\n",
      " 96%|█████████▌| 70/73 [00:28<00:00,  5.43it/s]\u001b[A\n",
      " 97%|█████████▋| 71/73 [00:28<00:00,  5.54it/s]\u001b[A\n",
      "100%|██████████| 73/73 [00:29<00:00,  2.50it/s]\u001b[A"
     ]
    },
    {
     "name": "stdout",
     "output_type": "stream",
     "text": [
      "Not sampling for month 01/2020, which only has 30571 revisions.\n"
     ]
    },
    {
     "name": "stderr",
     "output_type": "stream",
     "text": [
      "\n"
     ]
    }
   ],
   "source": [
    "month_sample_n = 100000\n",
    "for month_id, group in tqdm(df.groupby(by='month_id'), total=len(month_ids_in_sample)):\n",
    "    month_id_str = str(month_id)\n",
    "    year = month_id_str[:4]\n",
    "    month = month_id_str[4:]\n",
    "    if len(group) < month_sample_n:\n",
    "        print(f\"Not sampling for month {month}/{year}, which only has {len(group)} revisions.\")\n",
    "        continue\n",
    "    month_sample = group.sample(n=month_sample_n)\n",
    "    sample_rev_ids_filepath = os.path.join(working_dir, f\"month_sample/rev_ids/rev_ids_month_sample_{year}_{month}.txt\")\n",
    "    with open(sample_rev_ids_filepath, 'w') as outfile:\n",
    "        for rev_id in month_sample.rev_id:\n",
    "            outfile.write(str(rev_id) + \"\\n\")"
   ]
  },
  {
   "cell_type": "code",
   "execution_count": 29,
   "metadata": {},
   "outputs": [
    {
     "name": "stderr",
     "output_type": "stream",
     "text": [
      "\n",
      "  0%|          | 0/73 [00:00<?, ?it/s]\u001b[A\n",
      "100%|██████████| 73/73 [00:11<00:00,  6.10it/s][A\n"
     ]
    }
   ],
   "source": [
    "xtick_labels = []\n",
    "month_revisions_list = []\n",
    "for month_id, group in tqdm(df.groupby(by='month_id'), total=len(month_ids_in_sample)):\n",
    "    month_id_str = str(month_id)\n",
    "    year = month_id_str[:4]\n",
    "    month = month_id_str[4:]\n",
    "    xtick_labels.append(f\"{month}/{year[2:]}\")\n",
    "    month_revisions_list.append(len(group))"
   ]
  },
  {
   "cell_type": "code",
   "execution_count": 42,
   "metadata": {},
   "outputs": [
    {
     "data": {
      "image/png": "[encoded data removed]",
      "text/plain": [
       "<Figure size 720x360 with 1 Axes>"
      ]
     },
     "metadata": {
      "needs_background": "light"
     },
     "output_type": "display_data"
    }
   ],
   "source": [
    "fig, ax = plt.subplots(1, 1, figsize=(10,5))\n",
    "plt.plot(range(len(month_revisions_list)-1), month_revisions_list[:-1])\n",
    "plt.xticks(range(0, len(month_revisions_list)-1, 6), xtick_labels[:-1][::6])\n",
    "plt.title(\"Enwiki revision counts by month\")\n",
    "plt.xlabel(\"Month\")\n",
    "plt.ylabel(\"Total revisions\")\n",
    "plt.show()"
   ]
  },
  {
   "cell_type": "markdown",
   "metadata": {},
   "source": [
    "### Generate mock JSON\n",
    "\n",
    "Generate mock JSON for use with `revscoring` and generate the appropriate revscoring bash script.\n"
   ]
  },
  {
   "cell_type": "code",
   "execution_count": 7,
   "metadata": {},
   "outputs": [
    {
     "name": "stderr",
     "output_type": "stream",
     "text": [
      "100%|██████████| 72/72 [00:10<00:00,  7.04it/s]\n"
     ]
    }
   ],
   "source": [
    "# now generate mock JSON for month samples\n",
    "rev_ids_dir = os.path.join(working_dir, 'month_sample/rev_ids')\n",
    "mock_json_dir = os.path.join(working_dir, 'month_sample/mock_json')\n",
    "revscoring_scripts_dir = os.path.join(working_dir, 'month_sample/revscoring_scripts')\n",
    "revscoring_cache_dir = os.path.join(working_dir, 'month_sample/revscoring_cache')\n",
    "revscoring_features_dir = os.path.join(working_dir, 'month_sample/revscoring_features')\n",
    "\n",
    "mock_template = '{\"rev_id\": %d, \"auto_labeled\": false, \"damaging\": false, \"goodfaith\": true, \"autolabel\": {}}'\n",
    "script_template = \"\"\"#!/bin/bash\n",
    "# Auto-generated script to use revscoring to extract features for a set of revisions\n",
    "\n",
    "if [ -f {revscoring_features_filepath} ]; then\n",
    "    echo \"Skipping '$(basename {mock_json_filepath})' with existing features file.\"\n",
    "else\n",
    "    cat {mock_json_filepath} | revscoring extract editquality.feature_lists.enwiki.damaging editquality.feature_lists.enwiki.goodfaith --host https://en.wikipedia.org --extractors 32 --verbose > {revscoring_cache_filepath} \\\\\n",
    "        || (echo \"Failed to build feature caches\" && exit 1)\n",
    "    revscoring dump_cache --input {revscoring_cache_filepath} --output {revscoring_features_filepath} editquality.feature_lists.enwiki.damaging damaging \\\\\n",
    "        || (echo \"Failed to dump cache\" && exit 1)\n",
    "    echo \"Successfully extracted '$(basename {mock_json_filepath})'.\"\n",
    "fi\n",
    "\"\"\"\n",
    "\n",
    "\n",
    "revscoring_script_filepaths = []\n",
    "for filename in tqdm(os.listdir(rev_ids_dir), total=72):\n",
    "    if not filename.endswith(\".txt\"):\n",
    "        continue\n",
    "    rev_ids_filepath = os.path.join(rev_ids_dir, filename)\n",
    "    rev_ids_list = []\n",
    "    with open(rev_ids_filepath) as infile:\n",
    "        for line in infile:\n",
    "            if line.strip() != \"\":\n",
    "                rev_ids_list.append(int(line.strip()))\n",
    "    fname_base = os.path.splitext(filename)[0]\n",
    "    mock_json_filepath = os.path.join(mock_json_dir, fname_base + \".mock.json\")\n",
    "    revscoring_script_filepath = os.path.join(revscoring_scripts_dir, fname_base + '_revscoring.sh')\n",
    "    revscoring_cache_filepath = os.path.join(revscoring_cache_dir, fname_base + \".mock.w_cache.json\")\n",
    "    revscoring_features_filepath = os.path.join(revscoring_features_dir, fname_base + \".mock.damaging.tsv\")\n",
    "    with open(mock_json_filepath, 'w') as outfile:\n",
    "        for rev_id in rev_ids_list:\n",
    "            line = mock_template % rev_id\n",
    "            outfile.write(line + \"\\n\")\n",
    "    \n",
    "    script_text = script_template.format(\n",
    "        mock_json_filepath=mock_json_filepath,\n",
    "        revscoring_cache_filepath=revscoring_cache_filepath,\n",
    "        revscoring_features_filepath=revscoring_features_filepath\n",
    "    )\n",
    "    with open(revscoring_script_filepath, 'w') as outfile:\n",
    "        outfile.write(script_text)\n",
    "    revscoring_script_filepaths.append(revscoring_script_filepath)"
   ]
  },
  {
   "cell_type": "code",
   "execution_count": 9,
   "metadata": {},
   "outputs": [
    {
     "name": "stdout",
     "output_type": "stream",
     "text": [
      "Finished.\n"
     ]
    }
   ],
   "source": [
    "revscoring_all_script_base = \"\"\"#!/bin/bash\n",
    "# Auto-generated script that calls the sub-scripts to extract features for all month samples\n",
    "\n",
    "cd /export/scratch2/levon003/repos/revscoring && conda activate wiki-revscoring\n",
    "\"\"\"\n",
    "\n",
    "revscoring_all_script = revscoring_all_script_base\n",
    "for revscoring_script_filepath in revscoring_script_filepaths:\n",
    "    revscoring_all_script += revscoring_script_filepath + \" && \\\\ \\n\"\n",
    "revscoring_all_script += 'echo \"Success.\" && exit 0\\n'\n",
    "revscoring_all_script += 'echo \"Failure.\" && exit 1\\n'\n",
    "revscoring_all_script_filepath = os.path.join(working_dir, \"month_sample/revscoring_extract_all.sh\")\n",
    "with open(revscoring_all_script_filepath, 'w') as outfile:\n",
    "    outfile.write(revscoring_all_script)\n",
    "print(\"Finished.\")"
   ]
  },
  {
   "cell_type": "markdown",
   "metadata": {},
   "source": [
    "Then, the permissions on all of these scripts should be manually set.\n",
    "\n",
    "i.e. `chmod +x *.sh`"
   ]
  },
  {
   "cell_type": "code",
   "execution_count": null,
   "metadata": {},
   "outputs": [],
   "source": []
  },
  {
   "cell_type": "code",
   "execution_count": null,
   "metadata": {},
   "outputs": [],
   "source": []
  },
  {
   "cell_type": "code",
   "execution_count": null,
   "metadata": {},
   "outputs": [],
   "source": []
  }
 ],
 "metadata": {
  "kernelspec": {
   "display_name": "Flagon Python3",
   "language": "python",
   "name": "flagon-conda-env"
  },
  "language_info": {
   "codemirror_mode": {
    "name": "ipython",
    "version": 3
   },
   "file_extension": ".py",
   "mimetype": "text/x-python",
   "name": "python",
   "nbconvert_exporter": "python",
   "pygments_lexer": "ipython3",
   "version": "3.7.6"
  }
 },
 "nbformat": 4,
 "nbformat_minor": 4
}
