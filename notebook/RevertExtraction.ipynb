{
 "cells": [
  {
   "cell_type": "markdown",
   "metadata": {},
   "source": [
    "Initial Revert Extraction\n",
    "===\n",
    "\n",
    "TODO update me\n"
   ]
  },
  {
   "cell_type": "code",
   "execution_count": 1,
   "metadata": {},
   "outputs": [],
   "source": [
    "import mwapi\n",
    "import mwxml\n",
    "import mwxml.utilities\n",
    "import mwcli\n",
    "import mwreverts\n",
    "import oresapi\n",
    "import mwparserfromhell"
   ]
  },
  {
   "cell_type": "code",
   "execution_count": 2,
   "metadata": {},
   "outputs": [],
   "source": [
    "import numpy as np\n",
    "import pandas as pd\n",
    "import matplotlib.pyplot as plt"
   ]
  },
  {
   "cell_type": "code",
   "execution_count": 3,
   "metadata": {},
   "outputs": [],
   "source": [
    "import os\n",
    "from tqdm import tqdm\n",
    "import bz2\n",
    "import json\n",
    "import re\n",
    "import hashlib\n",
    "from datetime import datetime\n",
    "import nltk\n",
    "import scipy.stats"
   ]
  },
  {
   "cell_type": "code",
   "execution_count": 4,
   "metadata": {},
   "outputs": [
    {
     "data": {
      "text/plain": [
       "'/export/scratch2/levon003/repos/wiki-ores-feedback'"
      ]
     },
     "execution_count": 4,
     "metadata": {},
     "output_type": "execute_result"
    }
   ],
   "source": [
    "git_root_dir = !git rev-parse --show-toplevel\n",
    "git_root_dir = git_root_dir[0]\n",
    "git_root_dir"
   ]
  },
  {
   "cell_type": "code",
   "execution_count": 5,
   "metadata": {},
   "outputs": [
    {
     "data": {
      "text/plain": [
       "('/export/scratch2/wiki_data',\n",
       " '/export/scratch2/levon003/repos/wiki-ores-feedback/data/derived')"
      ]
     },
     "execution_count": 5,
     "metadata": {},
     "output_type": "execute_result"
    }
   ],
   "source": [
    "raw_data_dir = \"/export/scratch2/wiki_data\"\n",
    "derived_data_dir = os.path.join(git_root_dir, \"data\", \"derived\")\n",
    "raw_data_dir, derived_data_dir"
   ]
  },
  {
   "cell_type": "code",
   "execution_count": 6,
   "metadata": {},
   "outputs": [
    {
     "data": {
      "text/plain": [
       "14975823"
      ]
     },
     "execution_count": 6,
     "metadata": {},
     "output_type": "execute_result"
    }
   ],
   "source": [
    "ns0_filenames_path = os.path.join(raw_data_dir, \"enwiki-20200101-all-titles-in-ns0\")\n",
    "ns0_filenames = open(ns0_filenames_path).readlines()\n",
    "len(ns0_filenames)"
   ]
  },
  {
   "cell_type": "code",
   "execution_count": 7,
   "metadata": {},
   "outputs": [
    {
     "data": {
      "text/plain": [
       "19881980"
      ]
     },
     "execution_count": 7,
     "metadata": {},
     "output_type": "execute_result"
    }
   ],
   "source": [
    "article_index_path = os.path.join(raw_data_dir, \"enwiki-20200101-pages-articles-multistream-index.txt\")\n",
    "article_index = open(article_index_path).readlines()\n",
    "len(article_index)"
   ]
  },
  {
   "cell_type": "code",
   "execution_count": 8,
   "metadata": {},
   "outputs": [
    {
     "name": "stderr",
     "output_type": "stream",
     "text": [
      "100%|██████████| 19881980/19881980 [00:32<00:00, 603590.82it/s]\n"
     ]
    },
    {
     "data": {
      "text/plain": [
       "19881980"
      ]
     },
     "execution_count": 8,
     "metadata": {},
     "output_type": "execute_result"
    }
   ],
   "source": [
    "page_title_dict = {}\n",
    "for line in tqdm(article_index):\n",
    "    tokens = line.strip().split(\":\")\n",
    "    #page_start_bytes = int(tokens[0])\n",
    "    page_id = int(tokens[1])\n",
    "    page_title = \"\".join(tokens[2:])\n",
    "    page_title_dict[page_id] = page_title\n",
    "len(page_title_dict)"
   ]
  },
  {
   "cell_type": "code",
   "execution_count": 9,
   "metadata": {},
   "outputs": [],
   "source": [
    "# this is one of approximately 100 files containing full revision history\n",
    "dump_filepath = os.path.join(raw_data_dir, \"enwiki-20200101-pages-meta-history1.xml-p10p1036.bz2\")"
   ]
  },
  {
   "cell_type": "code",
   "execution_count": 6,
   "metadata": {},
   "outputs": [],
   "source": [
    "# this is the article multistream\n",
    "# which contains only the most recent revision\n",
    "dump_filepath = os.path.join(raw_data_dir, \"enwiki-20191020-pages-articles-multistream.xml.bz2\")"
   ]
  },
  {
   "cell_type": "code",
   "execution_count": 10,
   "metadata": {
    "scrolled": false
   },
   "outputs": [
    {
     "name": "stdout",
     "output_type": "stream",
     "text": [
      "<class 'mwxml.iteration.page.Page'>\n",
      "<class 'mwxml.iteration.revision.Revision'>\n",
      "Revision(id=233192, timestamp=Timestamp('2001-01-21T02:12:21Z'), user=User(id=99, text='RoseParks'), page=Page(id=10, title='AccessibleComputing', namespace=0, redirect='Computer accessibility', restrictions=[]), minor=False, comment='*', text='This subject covers\\n\\n* AssistiveTechnology\\n\\n* AccessibleSoftware\\n\\n* AccessibleWeb\\n\\n* LegalIssuesInAccessibleComputing\\n\\n', bytes=None, sha1='8kul9tlwjm9oxgvqzbwuegt9b2830vw', parent_id=None, model='wikitext', format='text/x-wiki', deleted=Deleted(text=False, comment=False, user=False, restricted=None))\n",
      "{'id': 233192, 'timestamp': '2001-01-21T02:12:21Z', 'user': {'id': 99, 'text': 'RoseParks'}, 'page': {'id': 10, 'title': 'AccessibleComputing', 'namespace': 0, 'redirect': 'Computer accessibility', 'restrictions': []}, 'minor': False, 'comment': '*', 'text': 'This subject covers\\n\\n* AssistiveTechnology\\n\\n* AccessibleSoftware\\n\\n* AccessibleWeb\\n\\n* LegalIssuesInAccessibleComputing\\n\\n', 'sha1': '8kul9tlwjm9oxgvqzbwuegt9b2830vw', 'model': 'wikitext', 'format': 'text/x-wiki', 'deleted': {'text': False, 'comment': False, 'user': False}}\n"
     ]
    }
   ],
   "source": [
    "dump = mwxml.Dump.from_file(bz2.open(dump_filepath, 'rt'))\n",
    "for page in dump:\n",
    "    print(type(page))\n",
    "    for revision in page:\n",
    "        print(type(revision))\n",
    "        print(revision)\n",
    "        print(revision.to_json())\n",
    "        break\n",
    "    break"
   ]
  },
  {
   "cell_type": "code",
   "execution_count": 11,
   "metadata": {},
   "outputs": [],
   "source": [
    "# https://github.com/mediawiki-utilities/python-mwxml/blob/master/mwxml/utilities/dump2revdocs.py\n",
    "def dump2revdocs(dump, verbose=False):\n",
    "    for page in dump:\n",
    "        if page.namespace == 0 and page.redirect is None:\n",
    "            for revision in page:\n",
    "                yield revision.to_json()"
   ]
  },
  {
   "cell_type": "code",
   "execution_count": 12,
   "metadata": {},
   "outputs": [],
   "source": [
    "dump = mwxml.Dump.from_file(bz2.open(dump_filepath, 'rt'))"
   ]
  },
  {
   "cell_type": "code",
   "execution_count": 13,
   "metadata": {},
   "outputs": [],
   "source": [
    "rev_docs = dump2revdocs(dump)"
   ]
  },
  {
   "cell_type": "code",
   "execution_count": 14,
   "metadata": {},
   "outputs": [],
   "source": [
    "from itertools import groupby\n",
    "page_rev_docs = groupby(rev_docs, lambda rd: rd.get('page'))"
   ]
  },
  {
   "cell_type": "code",
   "execution_count": 15,
   "metadata": {
    "scrolled": true
   },
   "outputs": [
    {
     "name": "stderr",
     "output_type": "stream",
     "text": [
      "  0%|          | 232/5200000 [31:33<11786:15:09,  8.16s/it]\n"
     ]
    }
   ],
   "source": [
    "should_resort = True\n",
    "use_sha1 = False\n",
    "total_pages_count = 0\n",
    "no_text_count = 0\n",
    "pages_with_reverts_count = 0\n",
    "reverts = []\n",
    "page_rev_doc_counts = []\n",
    "page_rev_revert_counts = []\n",
    "page_rev_noText_counts = []\n",
    "for page_doc, rev_docs in tqdm(page_rev_docs, total=5200000):\n",
    "    total_pages_count += 1\n",
    "    \n",
    "    if should_resort:\n",
    "        rev_docs = sorted(rev_docs, key=lambda r: (r.get('timestamp'), r.get('id')))\n",
    "    \n",
    "    #print(page_doc.get('title'))\n",
    "    \n",
    "    detector = mwreverts.Detector(radius=15)\n",
    "    page_had_revert = False\n",
    "    page_rev_doc_count = 0\n",
    "    page_rev_noText_count = 0\n",
    "    page_rev_revert_count = 0\n",
    "    for rev_doc in rev_docs:\n",
    "        page_rev_doc_count += 1\n",
    "        if not use_sha1 and 'text' not in rev_doc:\n",
    "            no_text_count += 1\n",
    "            page_rev_noText_count += 1\n",
    "            continue\n",
    "\n",
    "        if use_sha1:\n",
    "            checksum = rev_doc.get('sha1') or mwreverts.DummyChecksum()\n",
    "        elif 'text' in rev_doc:\n",
    "            text_bytes = bytes(rev_doc['text'], 'utf8', 'replace')\n",
    "            checksum = hashlib.sha1(text_bytes).digest()\n",
    "\n",
    "        revert = detector.process(checksum, rev_doc)\n",
    "\n",
    "        if revert:\n",
    "            page_had_revert = True\n",
    "            page_rev_revert_count += 1\n",
    "            revert_json = revert.to_json()\n",
    "            reverts.append(revert_json)\n",
    "    page_rev_doc_counts.append(page_rev_doc_count)\n",
    "    page_rev_noText_counts.append(page_rev_noText_count)\n",
    "    page_rev_revert_counts.append(page_rev_revert_count)\n",
    "    if page_had_revert:\n",
    "        pages_with_reverts_count += 1"
   ]
  },
  {
   "cell_type": "markdown",
   "metadata": {},
   "source": [
    "Without using sha1, an estimate (based on the first 142 pages) would seem to suggest that, if 24 separate IO processes were run to identify reverts, then it would take more than 25 days to identify all reverts in Wikipedia history.\n",
    "\n",
    "Without using sha1, processes 231 pages in 33:16, which is an average of 8.6 seconds per page.\n",
    "\n",
    "\n",
    "27 total files in \"history1\".\n",
    "\n",
    "With sha1, processes 231 pages in 28:57.\n",
    "With sha1, takes 7.5 seconds on average (over 231 pages in the first dump file) to process each page."
   ]
  },
  {
   "cell_type": "code",
   "execution_count": 16,
   "metadata": {},
   "outputs": [],
   "source": [
    "page_rev_doc_counts = np.array(page_rev_doc_counts)\n",
    "page_rev_revert_counts = np.array(page_rev_revert_counts)"
   ]
  },
  {
   "cell_type": "code",
   "execution_count": 17,
   "metadata": {},
   "outputs": [
    {
     "data": {
      "text/plain": [
       "1820"
      ]
     },
     "execution_count": 17,
     "metadata": {},
     "output_type": "execute_result"
    }
   ],
   "source": [
    "# how many revisions had no text?\n",
    "no_text_count"
   ]
  },
  {
   "cell_type": "code",
   "execution_count": 18,
   "metadata": {},
   "outputs": [
    {
     "data": {
      "text/plain": [
       "(163, 0.7025862068965517)"
      ]
     },
     "execution_count": 18,
     "metadata": {},
     "output_type": "execute_result"
    }
   ],
   "source": [
    "# what pct of pages had no-text revisions?\n",
    "page_rev_noText_counts = np.array(page_rev_noText_counts)\n",
    "np.sum(page_rev_noText_counts > 0), np.sum(page_rev_noText_counts > 0) / len(page_rev_noText_counts)"
   ]
  },
  {
   "cell_type": "code",
   "execution_count": 19,
   "metadata": {},
   "outputs": [
    {
     "data": {
      "image/png": "[encoded data removed]",
      "text/plain": [
       "<Figure size 432x288 with 1 Axes>"
      ]
     },
     "metadata": {
      "needs_background": "light"
     },
     "output_type": "display_data"
    }
   ],
   "source": [
    "# distribution of pages by percentage of noText revisions\n",
    "page_rev_pct_noText = page_rev_noText_counts / page_rev_doc_counts\n",
    "plt.hist(page_rev_pct_noText, bins=50)\n",
    "plt.title(\"Percentage of page revisions that lack text\")\n",
    "plt.xlabel(\"% of page revisions without text\")\n",
    "plt.ylabel(\"Page count\")\n",
    "plt.show()"
   ]
  },
  {
   "cell_type": "code",
   "execution_count": 20,
   "metadata": {},
   "outputs": [
    {
     "data": {
      "text/plain": [
       "(232, 230)"
      ]
     },
     "execution_count": 20,
     "metadata": {},
     "output_type": "execute_result"
    }
   ],
   "source": [
    "total_pages_count, pages_with_reverts_count"
   ]
  },
  {
   "cell_type": "code",
   "execution_count": 21,
   "metadata": {},
   "outputs": [
    {
     "data": {
      "text/plain": [
       "150202"
      ]
     },
     "execution_count": 21,
     "metadata": {},
     "output_type": "execute_result"
    }
   ],
   "source": [
    "len(reverts)"
   ]
  },
  {
   "cell_type": "code",
   "execution_count": 22,
   "metadata": {},
   "outputs": [
    {
     "data": {
      "image/png": "[encoded data removed]",
      "text/plain": [
       "<Figure size 432x288 with 1 Axes>"
      ]
     },
     "metadata": {
      "needs_background": "light"
     },
     "output_type": "display_data"
    },
    {
     "data": {
      "text/plain": [
       "232"
      ]
     },
     "execution_count": 22,
     "metadata": {},
     "output_type": "execute_result"
    }
   ],
   "source": [
    "plt.hist(page_rev_doc_counts, bins=50)\n",
    "plt.title(\"Total revisions per page\")\n",
    "plt.xlabel(\"Number of revisions\")\n",
    "plt.ylabel(\"Page count\")\n",
    "plt.show()\n",
    "len(page_rev_doc_counts)"
   ]
  },
  {
   "cell_type": "code",
   "execution_count": 23,
   "metadata": {},
   "outputs": [
    {
     "data": {
      "text/plain": [
       "(230, 232)"
      ]
     },
     "execution_count": 23,
     "metadata": {},
     "output_type": "execute_result"
    }
   ],
   "source": [
    "page_revert_counts = np.array([\n",
    "        len(list(page_reverts)) for page, page_reverts in groupby(reverts, lambda revert: revert['reverting']['page']['id'])\n",
    "    ])\n",
    "assert len(page_revert_counts) == pages_with_reverts_count\n",
    "len(page_revert_counts), len(page_rev_doc_counts)"
   ]
  },
  {
   "cell_type": "code",
   "execution_count": 24,
   "metadata": {},
   "outputs": [
    {
     "data": {
      "image/png": "[encoded data removed]",
      "text/plain": [
       "<Figure size 432x288 with 1 Axes>"
      ]
     },
     "metadata": {
      "needs_background": "light"
     },
     "output_type": "display_data"
    },
    {
     "data": {
      "text/plain": [
       "230"
      ]
     },
     "execution_count": 24,
     "metadata": {},
     "output_type": "execute_result"
    }
   ],
   "source": [
    "plt.hist(page_revert_counts, bins=50)\n",
    "plt.title(\"Total reverts per page\")\n",
    "plt.xlabel(\"Number of reverts\")\n",
    "plt.ylabel(\"Page count\")\n",
    "plt.show()\n",
    "len(page_revert_counts)"
   ]
  },
  {
   "cell_type": "code",
   "execution_count": 25,
   "metadata": {},
   "outputs": [
    {
     "data": {
      "image/png": "[encoded data removed]",
      "text/plain": [
       "<Figure size 432x288 with 1 Axes>"
      ]
     },
     "metadata": {
      "needs_background": "light"
     },
     "output_type": "display_data"
    }
   ],
   "source": [
    "plt.hist(page_rev_revert_counts / page_rev_doc_counts * 100, bins=50, log=False)\n",
    "plt.title(\"Percentage of reverts by page\")\n",
    "plt.xlabel(\"% revisions that are reverts\")\n",
    "plt.ylabel(\"Page count\")\n",
    "plt.show()"
   ]
  },
  {
   "cell_type": "code",
   "execution_count": 26,
   "metadata": {
    "scrolled": true
   },
   "outputs": [
    {
     "data": {
      "text/plain": [
       "271.0"
      ]
     },
     "execution_count": 26,
     "metadata": {},
     "output_type": "execute_result"
    }
   ],
   "source": [
    "np.quantile(page_rev_revert_counts, 0.5)"
   ]
  },
  {
   "cell_type": "code",
   "execution_count": 27,
   "metadata": {},
   "outputs": [
    {
     "data": {
      "image/png": "[encoded data removed]",
      "text/plain": [
       "<Figure size 432x288 with 1 Axes>"
      ]
     },
     "metadata": {
      "needs_background": "light"
     },
     "output_type": "display_data"
    },
    {
     "data": {
      "text/plain": [
       "(0.46773870282250096, 5.165611125133268e-14)"
      ]
     },
     "execution_count": 27,
     "metadata": {},
     "output_type": "execute_result"
    }
   ],
   "source": [
    "# Pages with more revisions are more likely to have a large percentage of reverts\n",
    "plt.scatter(page_rev_doc_counts, page_rev_revert_counts / page_rev_doc_counts, alpha=0.8, color='black', marker='.')\n",
    "plt.xlabel(\"Total number of revisions\")\n",
    "plt.ylabel(\"Percentage of revert revisions\")\n",
    "plt.show()\n",
    "scipy.stats.pearsonr(page_rev_doc_counts, page_rev_revert_counts / page_rev_doc_counts)"
   ]
  },
  {
   "cell_type": "code",
   "execution_count": 28,
   "metadata": {},
   "outputs": [
    {
     "data": {
      "text/plain": [
       "150202"
      ]
     },
     "execution_count": 28,
     "metadata": {},
     "output_type": "execute_result"
    }
   ],
   "source": [
    "len(reverts)"
   ]
  },
  {
   "cell_type": "code",
   "execution_count": 29,
   "metadata": {},
   "outputs": [
    {
     "data": {
      "image/png": "[encoded data removed]",
      "text/plain": [
       "<Figure size 432x288 with 1 Axes>"
      ]
     },
     "metadata": {
      "needs_background": "light"
     },
     "output_type": "display_data"
    }
   ],
   "source": [
    "num_revs_reverted = np.array([len(revert['reverteds']) for revert in reverts])\n",
    "assert np.all(num_revs_reverted > 0)\n",
    "plt.hist(num_revs_reverted, bins=range(0,16), log=True, align='left')\n",
    "plt.xticks(range(0, 16))\n",
    "plt.title(\"Number of revisions reverted at once\")\n",
    "plt.xlabel(\"Number of revisions reverted\")\n",
    "plt.ylabel(\"Revert count\")\n",
    "plt.show()"
   ]
  },
  {
   "cell_type": "code",
   "execution_count": 30,
   "metadata": {},
   "outputs": [
    {
     "data": {
      "text/plain": [
       "0.18288038774450407"
      ]
     },
     "execution_count": 30,
     "metadata": {},
     "output_type": "execute_result"
    }
   ],
   "source": [
    "# 18.3% of reverts role back multiple revisions\n",
    "# this is absurdly high...\n",
    "np.sum(num_revs_reverted > 1) / len(num_revs_reverted)"
   ]
  },
  {
   "cell_type": "code",
   "execution_count": 31,
   "metadata": {},
   "outputs": [
    {
     "data": {
      "text/plain": [
       "dict_keys(['reverting', 'reverteds', 'reverted_to'])"
      ]
     },
     "execution_count": 31,
     "metadata": {},
     "output_type": "execute_result"
    }
   ],
   "source": [
    "reverts[0].keys()"
   ]
  },
  {
   "cell_type": "code",
   "execution_count": 32,
   "metadata": {},
   "outputs": [
    {
     "data": {
      "text/plain": [
       "dict_keys(['id', 'timestamp', 'user', 'page', 'minor', 'comment', 'text', 'sha1', 'parent_id', 'model', 'format', 'deleted'])"
      ]
     },
     "execution_count": 32,
     "metadata": {},
     "output_type": "execute_result"
    }
   ],
   "source": [
    "reverts[0]['reverting'].keys()"
   ]
  },
  {
   "cell_type": "markdown",
   "metadata": {},
   "source": [
    "### Temporal analysis of reverts"
   ]
  },
  {
   "cell_type": "code",
   "execution_count": 33,
   "metadata": {},
   "outputs": [
    {
     "data": {
      "text/plain": [
       "('2002-04-02T09:54:12Z', datetime.datetime(2002, 4, 2, 9, 54, 12))"
      ]
     },
     "execution_count": 33,
     "metadata": {},
     "output_type": "execute_result"
    }
   ],
   "source": [
    "reverts[0]['reverting']['timestamp'],\\\n",
    "datetime.strptime(reverts[0]['reverting']['timestamp'], \"%Y-%m-%dT%H:%M:%SZ\")"
   ]
  },
  {
   "cell_type": "code",
   "execution_count": 34,
   "metadata": {},
   "outputs": [
    {
     "data": {
      "text/plain": [
       "(['2001-11-26T07:33:47Z', '2001-11-26T07:37:33Z', '2001-11-29T19:33:50Z'],\n",
       " ['2020-01-01T03:41:34Z', '2020-01-01T13:40:57Z', '2020-01-01T14:35:08Z'])"
      ]
     },
     "execution_count": 34,
     "metadata": {},
     "output_type": "execute_result"
    }
   ],
   "source": [
    "revert_revision_datestrings = sorted([revert['reverting']['timestamp'] for revert in reverts])\n",
    "revert_revision_datestrings[:3], revert_revision_datestrings[-3:]"
   ]
  },
  {
   "cell_type": "code",
   "execution_count": 35,
   "metadata": {},
   "outputs": [
    {
     "data": {
      "image/png": "[encoded data removed]",
      "text/plain": [
       "<Figure size 432x288 with 1 Axes>"
      ]
     },
     "metadata": {
      "needs_background": "light"
     },
     "output_type": "display_data"
    }
   ],
   "source": [
    "revert_revision_years = sorted([int(revert['reverting']['timestamp'][:4]) for revert in reverts])\n",
    "plt.hist(revert_revision_years, bins=range(2001, 2021))\n",
    "plt.xticks(range(2001,2021), [\"'\" + str(v)[2:] for v in range(2001,2021)])\n",
    "plt.title(\"Distribution of revert revisions by year\")\n",
    "plt.show()"
   ]
  },
  {
   "cell_type": "code",
   "execution_count": 36,
   "metadata": {
    "scrolled": false
   },
   "outputs": [],
   "source": [
    "time_to_most_recent_reverted_list = []\n",
    "is_multirevert_list = []\n",
    "for page, page_reverts in groupby(reverts, lambda revert: revert['reverting']['page']['id']):\n",
    "    page_reverts = list(page_reverts)\n",
    "    #print(page_title_dict[page])\n",
    "    #print(len(page_reverts))\n",
    "    for revert in page_reverts:\n",
    "        reverted_at_timestamp = int(datetime.strptime(revert['reverting']['timestamp'], \"%Y-%m-%dT%H:%M:%SZ\").timestamp())\n",
    "        reverted_to_timestamp = int(datetime.strptime(revert['reverted_to']['timestamp'], \"%Y-%m-%dT%H:%M:%SZ\").timestamp())\n",
    "\n",
    "        reverteds = sorted(revert['reverteds'], key=lambda r: (r.get('timestamp'), r.get('id')))\n",
    "        is_multirevert = len(reverteds) > 1\n",
    "        revert_timestamp = int(datetime.strptime(reverteds[-1]['timestamp'], \"%Y-%m-%dT%H:%M:%SZ\").timestamp())\n",
    "        time_to_most_recent_reverted = reverted_at_timestamp - revert_timestamp\n",
    "        time_to_most_recent_reverted_list.append(time_to_most_recent_reverted)\n",
    "        is_multirevert_list.append(is_multirevert)\n",
    "        #for reverted_revert in revert['reverteds']:\n",
    "        #    revert_timestamp = int(datetime.strptime(reverted_revert['timestamp'], \"%Y-%m-%dT%H:%M:%SZ\").timestamp())\n",
    "        #    time_to_revert = reverted_at_timestamp - revert_timestamp\n",
    "        #    assert time_to_revert >= time_to_most_recent_reverted, time_to_most_recent_reverted\n",
    "        #    time_to_most_recent_reverted = time_to_revert\n",
    "        #     assert time_to_revert >= 0, time_to_revert\n",
    "        "
   ]
  },
  {
   "cell_type": "code",
   "execution_count": 39,
   "metadata": {},
   "outputs": [
    {
     "data": {
      "text/plain": [
       "0.00012649631829136763"
      ]
     },
     "execution_count": 39,
     "metadata": {},
     "output_type": "execute_result"
    }
   ],
   "source": [
    "np.sum(np.array(time_to_most_recent_reverted_list) <= 0) / len(time_to_most_recent_reverted_list)"
   ]
  },
  {
   "cell_type": "code",
   "execution_count": 40,
   "metadata": {},
   "outputs": [
    {
     "data": {
      "text/plain": [
       "0.017023741361633"
      ]
     },
     "execution_count": 40,
     "metadata": {},
     "output_type": "execute_result"
    }
   ],
   "source": [
    "# percent of reverts that occur after more than a day\n",
    "np.sum(np.array(time_to_most_recent_reverted_list) >= 60 * 60 * 24) / len(time_to_most_recent_reverted_list)"
   ]
  },
  {
   "cell_type": "code",
   "execution_count": 41,
   "metadata": {},
   "outputs": [
    {
     "data": {
      "image/png": "[encoded data removed]",
      "text/plain": [
       "<Figure size 432x288 with 1 Axes>"
      ]
     },
     "metadata": {
      "needs_background": "light"
     },
     "output_type": "display_data"
    }
   ],
   "source": [
    "x = np.array(time_to_most_recent_reverted_list)\n",
    "qs = np.linspace(0, 1)\n",
    "ys = [np.quantile(x, q) for q in qs]\n",
    "plt.plot(qs, ys, color='black')\n",
    "plt.yscale('log', nonposy='clip', basey=2)\n",
    "\n",
    "ax = plt.gca()\n",
    "# add semantically interpretable time moments\n",
    "ax.axhline(1 * 60, alpha=0.6, label='Minute')\n",
    "ax.axhline(1 * 60 * 60, alpha=0.6, label='Hour', color='orange')\n",
    "ax.axhline(1 * 60 * 60 * 24, alpha=0.6, label='Day', color='green')\n",
    "ax.axhline(1 * 60 * 60 * 24 * 30, alpha=0.6, label='Month', color='maroon')\n",
    "\n",
    "plt.legend()\n",
    "\n",
    "plt.xlabel(\"Quantile\")\n",
    "plt.ylabel(\"Time to revert\")\n",
    "plt.title(\"% reverted within certain amount of time\")\n",
    "\n",
    "plt.show()"
   ]
  },
  {
   "cell_type": "code",
   "execution_count": 42,
   "metadata": {},
   "outputs": [
    {
     "data": {
      "image/png": "[encoded data removed]",
      "text/plain": [
       "<Figure size 432x288 with 1 Axes>"
      ]
     },
     "metadata": {
      "needs_background": "light"
     },
     "output_type": "display_data"
    }
   ],
   "source": [
    "x = np.clip(np.array(time_to_most_recent_reverted_list), 1, None)\n",
    "num_bins=50\n",
    "base = 2\n",
    "logbins = np.logspace(np.log2(min(x)), np.log2(max(x)), num=num_bins, base=base, endpoint=True)\n",
    "plt.hist(x, bins=logbins, color='gray')\n",
    "plt.hist(x[np.array(is_multirevert_list)], bins=logbins, color='darkgreen', label='Most recent of multi-reverted')\n",
    "plt.xscale('log', nonposx='clip', basex=base)\n",
    "\n",
    "ax = plt.gca()\n",
    "# add semantically interpretable time moments\n",
    "ax.axvline(1 * 60, color='black', alpha=0.6)\n",
    "ax.axvline(1 * 60 * 60, color='black', alpha=0.6)\n",
    "ax.axvline(1 * 60 * 60 * 24, color='black', alpha=0.6)\n",
    "ax.axvline(1 * 60 * 60 * 24 * 30, color='black', alpha=0.6)\n",
    "text_y = ax.transData.inverted().transform((0, ax.transAxes.transform((0, 0.90))[1]))[1]  # https://matplotlib.org/users/transforms_tutorial.html\n",
    "ax.text(1 * 60 * 1.2, text_y, 'Minute', color='darkgray')\n",
    "ax.text(1 * 60 * 60 * 1.2, text_y, 'Hour', color='darkgray')\n",
    "ax.text(1 * 60 * 60 * 24 * 1.2, text_y, 'Day', color='darkgray')\n",
    "ax.text(1 * 60 * 60 * 24 * 30 * 1.2, text_y, 'Month', color='darkgray')\n",
    "\n",
    "plt.title(\"Time between revert and reverted revision\")\n",
    "plt.xlabel(\"Number of seconds\")\n",
    "plt.ylabel(\"Number of reverts\")\n",
    "\n",
    "#plt.legend()\n",
    "\n",
    "plt.show()"
   ]
  },
  {
   "cell_type": "markdown",
   "metadata": {},
   "source": [
    "### Self-reverts\n",
    "\n",
    "And intersection with multi-reverts"
   ]
  },
  {
   "cell_type": "code",
   "execution_count": 43,
   "metadata": {},
   "outputs": [
    {
     "data": {
      "text/plain": [
       "1"
      ]
     },
     "execution_count": 43,
     "metadata": {},
     "output_type": "execute_result"
    }
   ],
   "source": [
    "is_self_revert_list = []\n",
    "is_multiuser_revert_list = []\n",
    "unique_reverted_user_counts = []\n",
    "no_reverting_user_count = 0\n",
    "for page, page_reverts in groupby(reverts, lambda revert: revert['reverting']['page']['id']):\n",
    "    page_reverts = list(page_reverts)\n",
    "    for revert in page_reverts:\n",
    "        if 'user' not in revert['reverting']:\n",
    "            no_reverting_user_count += 1\n",
    "            continue\n",
    "        reverting_user = revert['reverting']['user']['text']\n",
    "        reverted_users = set([revert['user']['text'] for revert in revert['reverteds'] if 'user' in revert])\n",
    "        \n",
    "        is_self_revert = reverting_user in reverted_users\n",
    "        is_self_revert_list.append(is_self_revert)\n",
    "        is_multiuser_revert = len(reverted_users) > 1\n",
    "        is_multiuser_revert_list.append(is_multiuser_revert)\n",
    "        unique_reverted_user_counts.append(len(reverted_users))\n",
    "            \n",
    "is_self_revert_list = np.array(is_self_revert_list)\n",
    "is_multiuser_revert_list = np.array(is_multiuser_revert_list)\n",
    "unique_reverted_user_counts = np.array(unique_reverted_user_counts)\n",
    "no_reverting_user_count"
   ]
  },
  {
   "cell_type": "code",
   "execution_count": 44,
   "metadata": {},
   "outputs": [
    {
     "data": {
      "text/plain": [
       "(10363, 0.06899421441934475)"
      ]
     },
     "execution_count": 44,
     "metadata": {},
     "output_type": "execute_result"
    }
   ],
   "source": [
    "# 7% of reverts revert the users own work\n",
    "np.sum(is_self_revert_list), np.sum(is_self_revert_list) / len(is_self_revert_list)"
   ]
  },
  {
   "cell_type": "code",
   "execution_count": 45,
   "metadata": {},
   "outputs": [
    {
     "data": {
      "text/plain": [
       "0.05866805147768657"
      ]
     },
     "execution_count": 45,
     "metadata": {},
     "output_type": "execute_result"
    }
   ],
   "source": [
    "# 6% of reverts have multiple reverted users\n",
    "np.sum(is_multiuser_revert_list) / len(is_multiuser_revert_list)"
   ]
  },
  {
   "cell_type": "code",
   "execution_count": 46,
   "metadata": {},
   "outputs": [
    {
     "data": {
      "text/plain": [
       "0.28188833408987746"
      ]
     },
     "execution_count": 46,
     "metadata": {},
     "output_type": "execute_result"
    }
   ],
   "source": [
    "# 28% of multi-user reverts involve the self\n",
    "np.sum(is_self_revert_list&is_multiuser_revert_list) / np.sum(is_multiuser_revert_list)"
   ]
  },
  {
   "cell_type": "code",
   "execution_count": 47,
   "metadata": {},
   "outputs": [
    {
     "data": {
      "image/png": "[encoded data removed]",
      "text/plain": [
       "<Figure size 432x288 with 1 Axes>"
      ]
     },
     "metadata": {
      "needs_background": "light"
     },
     "output_type": "display_data"
    }
   ],
   "source": [
    "plt.hist(unique_reverted_user_counts, bins=range(0, 20), log=True)\n",
    "plt.xticks(range(0, 21))\n",
    "plt.title(\"Distribution of reverts by number of reverted users\")\n",
    "plt.xlabel(\"Number of unique users in revert\")\n",
    "plt.ylabel(\"Revert count\")\n",
    "plt.show()"
   ]
  },
  {
   "cell_type": "code",
   "execution_count": null,
   "metadata": {},
   "outputs": [],
   "source": []
  },
  {
   "cell_type": "code",
   "execution_count": null,
   "metadata": {},
   "outputs": [],
   "source": []
  },
  {
   "cell_type": "markdown",
   "metadata": {},
   "source": [
    "### Examination of the edit distance of reverts\n",
    "\n",
    "And the correlation between edit distance and speed of revert"
   ]
  },
  {
   "cell_type": "code",
   "execution_count": null,
   "metadata": {},
   "outputs": [
    {
     "name": "stderr",
     "output_type": "stream",
     "text": [
      "Pages:   0%|          | 0/230 [00:00<?, ?it/s]\n",
      "Reverts:   0%|          | 0/2 [00:00<?, ?it/s]\u001b[A"
     ]
    }
   ],
   "source": [
    "#import editdistance\n",
    "time_to_most_recent_reverted_list = []\n",
    "is_multirevert_list = []\n",
    "text_diff_length_difference_list = []\n",
    "edit_distance_list = []\n",
    "for page, page_reverts in tqdm(groupby(reverts, lambda revert: revert['reverting']['page']['id']), desc='Pages', total=pages_with_reverts_count):\n",
    "    page_reverts = list(page_reverts)\n",
    "    page_reverts_subset = np.random.choice(page_reverts, size=2, replace=False)\n",
    "    for revert in tqdm(page_reverts_subset, desc='Reverts'):\n",
    "        reverted_at_timestamp = int(datetime.strptime(revert['reverting']['timestamp'], \"%Y-%m-%dT%H:%M:%SZ\").timestamp())\n",
    "        reverted_to_timestamp = int(datetime.strptime(revert['reverted_to']['timestamp'], \"%Y-%m-%dT%H:%M:%SZ\").timestamp())\n",
    "\n",
    "        reverteds = sorted(revert['reverteds'], key=lambda r: (r.get('timestamp'), r.get('id')))\n",
    "        is_multirevert = len(reverteds) > 1\n",
    "        revert_timestamp = int(datetime.strptime(reverteds[-1]['timestamp'], \"%Y-%m-%dT%H:%M:%SZ\").timestamp())\n",
    "        time_to_most_recent_reverted = reverted_at_timestamp - revert_timestamp\n",
    "        time_to_most_recent_reverted_list.append(time_to_most_recent_reverted)\n",
    "        is_multirevert_list.append(is_multirevert)\n",
    "        \n",
    "        reverted_text = reverteds[-1]['text']\n",
    "        reverted_to_text = revert['reverted_to']['text']\n",
    "        assert reverted_text != reverted_to_text\n",
    "        text_diff_length_difference = len(reverted_text) - len(reverted_to_text)\n",
    "        text_diff_length_difference_list.append(text_diff_length_difference)\n",
    "        \n",
    "        #edit_distance = editdistance.eval(reverted_text, reverted_to_text)\n",
    "        edit_distance = nltk.edit_distance(reverted_text, reverted_to_text)\n",
    "        edit_distance_list.append(edit_distance)\n",
    "        \n",
    "text_diff_length_difference_list = np.array(text_diff_length_difference_list)\n",
    "edit_distance_list = np.array(edit_distance_list)"
   ]
  },
  {
   "cell_type": "code",
   "execution_count": 152,
   "metadata": {},
   "outputs": [
    {
     "data": {
      "image/png": "[encoded data removed]",
      "text/plain": [
       "<Figure size 432x288 with 1 Axes>"
      ]
     },
     "metadata": {
      "needs_background": "light"
     },
     "output_type": "display_data"
    }
   ],
   "source": [
    "plt.hist(text_diff_length_difference_list, bins=50, log=True)\n",
    "plt.title(\"Distribution of difference in article length pre- and post-revert\")\n",
    "plt.show()"
   ]
  },
  {
   "cell_type": "code",
   "execution_count": 155,
   "metadata": {},
   "outputs": [
    {
     "data": {
      "text/plain": [
       "0.6637756154014992"
      ]
     },
     "execution_count": 155,
     "metadata": {},
     "output_type": "execute_result"
    }
   ],
   "source": [
    "# a majority of reverts result in a shorter text\n",
    "np.sum(text_diff_length_difference_list >= 0) / len(text_diff_length_difference_list)"
   ]
  },
  {
   "cell_type": "code",
   "execution_count": 161,
   "metadata": {},
   "outputs": [],
   "source": [
    "plt.hist(edit_distance_list, bins=50, log=True)\n",
    "plt.title(\"Distribution of revert edit distance\")\n",
    "plt.show()"
   ]
  },
  {
   "cell_type": "code",
   "execution_count": null,
   "metadata": {},
   "outputs": [],
   "source": []
  },
  {
   "cell_type": "code",
   "execution_count": null,
   "metadata": {},
   "outputs": [],
   "source": []
  },
  {
   "cell_type": "markdown",
   "metadata": {},
   "source": [
    "### Bringing in ORES predictions\n",
    "\n",
    "```\n",
    "$ python\n",
    "Python 3.5.1+ (default, Mar 30 2016, 22:46:26)\n",
    "[GCC 5.3.1 20160330] on linux\n",
    "Type \"help\", \"copyright\", \"credits\" or \"license\" for more information.\n",
    ">>> import oresapi\n",
    ">>> session = oresapi.Session(\"https://ores.wikimedia.org\", user_agent=\"ahalfaker@wikimedia.org - demo of oresapi\")\n",
    ">>> big_list_of_revisions = [931598377, 929255488]\n",
    ">>> for rev_id, score in zip(big_list_of_revisions, session.score(\"enwiki\", [\"damaging\"], big_list_of_revisions)):\n",
    "...   print(rev_id, score)\n",
    "...\n",
    "931598377 {'damaging': {'score': {'probability': {'false': 0.043583591787328735, 'true': 0.9564164082126713}, 'prediction': True}}}\n",
    "929255488 {'damaging': {'score': {'probability': {'false': 0.9811560511086881, 'true': 0.01884394889131194}, 'prediction': False}}}\n",
    "```"
   ]
  },
  {
   "cell_type": "code",
   "execution_count": 42,
   "metadata": {},
   "outputs": [],
   "source": [
    "session = oresapi.Session(\"https://ores.wikimedia.org\", user_agent=\"levon003@umn.edu - oresapi for revert analysis\")"
   ]
  },
  {
   "cell_type": "code",
   "execution_count": 50,
   "metadata": {},
   "outputs": [
    {
     "data": {
      "text/plain": [
       "150349"
      ]
     },
     "execution_count": 50,
     "metadata": {},
     "output_type": "execute_result"
    }
   ],
   "source": [
    "rev_id_list = [\n",
    "    revert['reverteds'][-1]['id']\n",
    "    for revert in reverts\n",
    "]\n",
    "len(rev_id_list)"
   ]
  },
  {
   "cell_type": "code",
   "execution_count": 51,
   "metadata": {},
   "outputs": [
    {
     "data": {
      "text/plain": [
       "10000"
      ]
     },
     "execution_count": 51,
     "metadata": {},
     "output_type": "execute_result"
    }
   ],
   "source": [
    "rev_id_list = np.random.choice(rev_id_list, size=10000, replace=False)\n",
    "len(rev_id_list)"
   ]
  },
  {
   "cell_type": "code",
   "execution_count": 68,
   "metadata": {},
   "outputs": [
    {
     "data": {
      "text/plain": [
       "9661"
      ]
     },
     "execution_count": 68,
     "metadata": {},
     "output_type": "execute_result"
    }
   ],
   "source": [
    "len(set(rev_id_list))"
   ]
  },
  {
   "cell_type": "code",
   "execution_count": 52,
   "metadata": {},
   "outputs": [],
   "source": [
    "scores = session.score(\"enwiki\", [\"damaging\"], rev_id_list)"
   ]
  },
  {
   "cell_type": "code",
   "execution_count": null,
   "metadata": {},
   "outputs": [],
   "source": [
    "scores_list = []\n",
    "for rev_id, score in tqdm(zip(rev_id_list, scores), total=len(rev_id_list)):\n",
    "    score['rev_id'] = rev_id\n",
    "    scores_list.append(score)"
   ]
  },
  {
   "cell_type": "code",
   "execution_count": 61,
   "metadata": {},
   "outputs": [
    {
     "data": {
      "text/plain": [
       "{'damaging': {'score': {'prediction': True,\n",
       "   'probability': {'false': 0.38971540792801107, 'true': 0.6102845920719889}}},\n",
       " 'rev_id': 642325930}"
      ]
     },
     "execution_count": 61,
     "metadata": {},
     "output_type": "execute_result"
    }
   ],
   "source": [
    "scores_list[0]"
   ]
  },
  {
   "cell_type": "code",
   "execution_count": 57,
   "metadata": {},
   "outputs": [
    {
     "data": {
      "text/plain": [
       "3465"
      ]
     },
     "execution_count": 57,
     "metadata": {},
     "output_type": "execute_result"
    }
   ],
   "source": [
    "np.sum(['error' in score['damaging'] for score in scores_list])"
   ]
  },
  {
   "cell_type": "code",
   "execution_count": 66,
   "metadata": {},
   "outputs": [
    {
     "data": {
      "image/png": "[encoded data removed]",
      "text/plain": [
       "<Figure size 432x288 with 1 Axes>"
      ]
     },
     "metadata": {
      "needs_background": "light"
     },
     "output_type": "display_data"
    }
   ],
   "source": [
    "x = [score['damaging']['score']['probability']['true'] for score in scores_list if 'score' in score['damaging']]\n",
    "plt.hist(x, bins=np.linspace(0, 1, num=50), log=False)\n",
    "plt.title(f\"Distribution of damaging predictions for reverted edits (n={len(x)})\")\n",
    "plt.xlabel(\"Probability of damaging edit\")\n",
    "plt.ylabel(\"Revert count\")\n",
    "plt.show()"
   ]
  },
  {
   "cell_type": "code",
   "execution_count": 70,
   "metadata": {},
   "outputs": [
    {
     "data": {
      "text/plain": [
       "6405"
      ]
     },
     "execution_count": 70,
     "metadata": {},
     "output_type": "execute_result"
    }
   ],
   "source": [
    "# Is there a correlation between ORES score and amount of time before revert?\n",
    "rev_id_score_dict = {score['rev_id']: score['damaging']['score']['probability']['true'] for score in scores_list if 'score' in score['damaging']}\n",
    "len(rev_id_score_dict)"
   ]
  },
  {
   "cell_type": "code",
   "execution_count": 71,
   "metadata": {},
   "outputs": [
    {
     "data": {
      "text/plain": [
       "6405"
      ]
     },
     "execution_count": 71,
     "metadata": {},
     "output_type": "execute_result"
    }
   ],
   "source": [
    "damaging_scores_list = []\n",
    "time_to_revert_list = []\n",
    "for page, page_reverts in groupby(reverts, lambda revert: revert['reverting']['page']['id']):\n",
    "    page_reverts = list(page_reverts)\n",
    "    #print(page_title_dict[page])\n",
    "    #print(len(page_reverts))\n",
    "    for revert in page_reverts:\n",
    "        reverted = revert['reverteds'][-1]\n",
    "        if reverted['id'] in rev_id_score_dict:\n",
    "            damaging_score = rev_id_score_dict[reverted['id']]\n",
    "            \n",
    "            reverted_at_timestamp = int(datetime.strptime(revert['reverting']['timestamp'], \"%Y-%m-%dT%H:%M:%SZ\").timestamp())\n",
    "            revert_timestamp = int(datetime.strptime(reverted['timestamp'], \"%Y-%m-%dT%H:%M:%SZ\").timestamp())\n",
    "            time_to_most_recent_reverted = reverted_at_timestamp - revert_timestamp\n",
    "            \n",
    "            damaging_scores_list.append(damaging_score)\n",
    "            time_to_revert_list.append(time_to_most_recent_reverted)\n",
    "damaging_scores_list = np.array(damaging_scores_list)\n",
    "time_to_revert_list = np.array(time_to_revert_list)\n",
    "len(damaging_scores_list)"
   ]
  },
  {
   "cell_type": "code",
   "execution_count": 89,
   "metadata": {},
   "outputs": [
    {
     "data": {
      "image/png": "[encoded data removed]",
      "text/plain": [
       "<Figure size 432x288 with 1 Axes>"
      ]
     },
     "metadata": {
      "needs_background": "light"
     },
     "output_type": "display_data"
    }
   ],
   "source": [
    "plt.scatter(damaging_scores_list, np.log(np.clip(time_to_revert_list, 1, None)), marker='.', color='black', alpha=0.5)\n",
    "plt.xlabel(\"ORES predicted damaging probability\")\n",
    "plt.ylabel(\"log(seconds to revert)\")\n",
    "plt.show()"
   ]
  },
  {
   "cell_type": "code",
   "execution_count": 79,
   "metadata": {},
   "outputs": [
    {
     "data": {
      "text/plain": [
       "0.18891491022638562"
      ]
     },
     "execution_count": 79,
     "metadata": {},
     "output_type": "execute_result"
    }
   ],
   "source": [
    "np.sum(damaging_scores_list >= 0.9) / len(damaging_scores_list)"
   ]
  },
  {
   "cell_type": "code",
   "execution_count": 90,
   "metadata": {},
   "outputs": [
    {
     "data": {
      "text/plain": [
       "0.1501951600312256"
      ]
     },
     "execution_count": 90,
     "metadata": {},
     "output_type": "execute_result"
    }
   ],
   "source": [
    "np.sum(damaging_scores_list <= 0.1) / len(damaging_scores_list)"
   ]
  },
  {
   "cell_type": "code",
   "execution_count": 95,
   "metadata": {},
   "outputs": [
    {
     "data": {
      "image/png": "[encoded data removed]",
      "text/plain": [
       "<Figure size 432x288 with 1 Axes>"
      ]
     },
     "metadata": {
      "needs_background": "light"
     },
     "output_type": "display_data"
    }
   ],
   "source": [
    "num_bins=50\n",
    "base = 2\n",
    "x = np.clip(time_to_revert_list, 1, None)\n",
    "logbins = np.logspace(np.log2(min(x)), np.log2(max(x)), num=num_bins, base=base, endpoint=True)\n",
    "plt.hist(x[damaging_scores_list >= 0.9], bins=logbins, log=False, label='Likely damaging')\n",
    "plt.hist(x[damaging_scores_list <= 0.1], bins=logbins, log=False, label='Likely not damaging')\n",
    "plt.xscale('log', nonposx='clip', basex=base)\n",
    "\n",
    "ax = plt.gca()\n",
    "# add semantically interpretable time moments\n",
    "ax.axvline(1 * 60, color='black', alpha=0.6)\n",
    "ax.axvline(1 * 60 * 60, color='black', alpha=0.6)\n",
    "ax.axvline(1 * 60 * 60 * 24, color='black', alpha=0.6)\n",
    "ax.axvline(1 * 60 * 60 * 24 * 30, color='black', alpha=0.6)\n",
    "text_y = ax.transData.inverted().transform((0, ax.transAxes.transform((0, 0.90))[1]))[1]  # https://matplotlib.org/users/transforms_tutorial.html\n",
    "ax.text(1 * 60 * 1.2, text_y, 'Minute', color='darkgray')\n",
    "ax.text(1 * 60 * 60 * 1.2, text_y, 'Hour', color='darkgray')\n",
    "ax.text(1 * 60 * 60 * 24 * 1.2, text_y, 'Day', color='darkgray')\n",
    "ax.text(1 * 60 * 60 * 24 * 30 * 1.2, text_y, 'Month', color='darkgray')\n",
    "\n",
    "plt.legend(loc='center right')\n",
    "plt.title(\"Time to revert by ORES prediction\")\n",
    "plt.xlabel(\"Time to revert (seconds)\")\n",
    "plt.ylabel(\"Revert count\")\n",
    "plt.show()"
   ]
  },
  {
   "cell_type": "code",
   "execution_count": 104,
   "metadata": {},
   "outputs": [
    {
     "data": {
      "text/plain": [
       "'The median likely-damaging revert is reverted in 44.0 seconds, while the median likely-non-damaging revert is reverted in 33.3 minutes.'"
      ]
     },
     "execution_count": 104,
     "metadata": {},
     "output_type": "execute_result"
    }
   ],
   "source": [
    "f\"The median likely-damaging revert is reverted in {np.quantile(x[damaging_scores_list >= 0.9], 0.5):.1f} seconds, while the median likely-non-damaging revert is reverted in {np.quantile(x[damaging_scores_list <= 0.1], 0.5)/60:.1f} minutes.\""
   ]
  },
  {
   "cell_type": "code",
   "execution_count": 78,
   "metadata": {},
   "outputs": [
    {
     "data": {
      "text/plain": [
       "(-0.40113431067185923, 2.952856866100556e-246)"
      ]
     },
     "execution_count": 78,
     "metadata": {},
     "output_type": "execute_result"
    }
   ],
   "source": [
    "# the expected negative correlation exists\n",
    "scipy.stats.pearsonr(damaging_scores_list, np.log(np.clip(time_to_revert_list, 1, None)))"
   ]
  },
  {
   "cell_type": "markdown",
   "metadata": {},
   "source": [
    "### Examining given reason for a revert"
   ]
  },
  {
   "cell_type": "code",
   "execution_count": 148,
   "metadata": {
    "scrolled": false
   },
   "outputs": [
    {
     "name": "stdout",
     "output_type": "stream",
     "text": [
      "Albedo\n",
      "\n",
      "2012-09-17T23:01:20Z\n",
      "Reverting user: Vsmith\n",
      "[[Help:Reverting|Reverted]] edits by [[Special:Contributions/128.157.160.13|128.157.160.13]] ([[User talk:128.157.160.13|talk]]) to last version by Peaceray\n",
      "Reverted user: 128.157.160.13\n",
      "NO COMMENT\n",
      "\n",
      "2010-10-20T22:51:04Z\n",
      "Reverting user: ClueBot\n",
      "Reverting possible vandalism by [[Special:Contributions/68.179.116.157|68.179.116.157]] to version by Leyo. False positive? [[User:ClueBot/FalsePositives|Report it]]. Thanks, [[User:ClueBot|ClueBot]]. (236) (Bot)\n",
      "Reverted user: 68.179.116.157\n",
      "/* Astronomical albedo */\n",
      "\n",
      "2008-04-20T18:25:43Z\n",
      "Reverting user: Chesnok\n",
      "[[WP:UNDO|Undid]] revision 206903804 by [[Special:Contributions/69.123.113.139|69.123.113.139]] ([[User talk:69.123.113.139|talk]])\n",
      "Reverted user: 69.123.113.139\n",
      "NO COMMENT\n",
      "\n",
      "Alabama\n",
      "\n",
      "2008-11-16T15:44:58Z\n",
      "Reverting user: Capricorn42\n",
      "Reverted edits by [[Special:Contributions/Yippi yi yo yo|Yippi yi yo yo]] to last version by Tedickey ([[WP:HG|HG]])\n",
      "Reverted user: Yippi yi yo yo\n",
      "[[WP:AES|←]]Replaced content with 'i like cherry pie'\n",
      "\n",
      "2009-04-23T18:31:38Z\n",
      "Reverting user: AuburnPilot\n",
      "[[WP:RBK|Reverted]] edits by [[Special:Contributions/65.51.145.146|65.51.145.146]] ([[User talk:65.51.145.146|talk]]) to last version by Fnlayson\n",
      "Reverted user: 65.51.145.146\n",
      "NO COMMENT\n",
      "\n",
      "2008-04-05T02:24:17Z\n",
      "Reverting user: Civilengtiger\n",
      "[[WP:UNDO|Undid]] revision 203429305 by [[Special:Contributions/76.211.122.115|76.211.122.115]] rv change - removal of wikilink re ABC states unnecessary as it provides further info about state govt\n",
      "Reverted user: 76.211.122.115\n",
      "/* Local and county government */\n",
      "\n",
      "Achilles\n",
      "\n",
      "2007-05-28T03:54:34Z\n",
      "Reverting user: 72.26.94.154\n",
      "/* The fate of Achilles' armor */\n",
      "Reverted user: 141.157.248.31\n",
      "/* Achilles in the Trojan War */\n",
      "\n",
      "2007-04-07T20:42:06Z\n",
      "Reverting user: Wetman\n",
      "[[WP:UNDO|Undid]] revision 121007525 by [[Special:Contributions/71.134.210.223|71.134.210.223]] ([[User talk:71.134.210.223|talk]])\n",
      "Reverted user: 71.134.210.223\n",
      "/* Achilles and Patroclus */\n",
      "\n",
      "2007-08-25T20:06:03Z\n",
      "Reverting user: Akhilleus\n",
      "Revert to revision 152893175 dated 2007-08-22 10:34:34 by Wiki alf using [[:en:Wikipedia:Tools/Navigation_popups|popups]]\n",
      "Reverted user: Sergiomeister\n",
      "/* Achilles in the Trojan War */\n",
      "\n",
      "Abraham Lincoln\n",
      "\n",
      "2006-04-22T22:01:05Z\n",
      "Reverting user: Jpgordon\n",
      "Reverted edits by [[Special:Contributions/75.3.55.173|75.3.55.173]] ([[User talk:75.3.55.173|talk]]) to last version by 64.12.116.72\n",
      "Reverted user: 75.3.55.173\n",
      "/* Early life */\n",
      "\n",
      "2006-08-09T00:42:47Z\n",
      "Reverting user: BabyStabber\n",
      "NO COMMENT\n",
      "Reverted user: Wcquidditch\n",
      "Revert to revision 68432361 dated 2006-08-08 17:02:45 by 24.94.189.11 using [[:en:Wikipedia:Tools/Navigation_popups|popups]]\n",
      "\n",
      "2006-04-24T19:29:19Z\n",
      "Reverting user: Sango123\n",
      "Reverted edits by [[Special:Contributions/63.199.34.15|63.199.34.15]] ([[User talk:63.199.34.15|talk]]) to last version by Sango123\n",
      "Reverted user: 63.199.34.15\n",
      "NO COMMENT\n",
      "\n",
      "An American in Paris\n",
      "\n",
      "2016-09-28T14:40:22Z\n",
      "Reverting user: Stevietheman\n",
      "Reverted [[WP:AGF|good faith]] edits by [[Special:Contributions/Tim1357|Tim1357]]: Rv per [[Talk:Academy Awards#Added Archives]]; deadurl needs to be set to no where appropriate so that readers can link to live sites. ([[WP:TW|TW]])\n",
      "Reverted user: Tim1357\n",
      "See [[Talk:An American in Paris#Added_Archives|Talk page]] for details\n",
      "\n",
      "2016-03-13T22:22:40Z\n",
      "Reverting user: Bhaskarhf\n",
      "/* Recordings */\n",
      "Reverted user: Bhaskarhf\n",
      "/* Recordings */\n",
      "\n",
      "2017-07-11T15:32:31Z\n",
      "Reverting user: Deskford\n",
      "Rv: see [[Wikipedia talk:WikiProject Classical music#Return of a problematic editor]].\n",
      "Reverted user: 2600:1017:B12E:89EF:4DBC:B47:2698:18D0\n",
      "/* Instrumentation */\n",
      "\n",
      "Academy Awards\n",
      "\n",
      "2018-07-18T15:40:19Z\n",
      "Reverting user: 95.93.201.166\n",
      "NO COMMENT\n",
      "Reverted user: 1.42.39.16\n",
      "NO COMMENT\n",
      "\n",
      "2008-04-21T06:42:45Z\n",
      "Reverting user: Hut 8.5\n",
      "Reverted edits by [[Special:Contributions/Ozone009|Ozone009]] ([[User talk:Ozone009|talk]]) to last version by Birdienest81\n",
      "Reverted user: Ozone009\n",
      "NO COMMENT\n",
      "\n",
      "2007-12-02T02:35:54Z\n",
      "Reverting user: Loonymonkey\n",
      "Reverted 3 edits by [[Special:Contributions/75.45.200.10|75.45.200.10]]; Not correct. The 1935 version is not a remake.. using [[WP:TWINKLE|TW]]\n",
      "Reverted user: 75.45.200.10\n",
      "/* Film records */\n",
      "\n",
      "Animalia (book)\n",
      "\n",
      "2013-09-28T13:45:52Z\n",
      "Reverting user: Pratyya Ghosh\n",
      "Reverted 1 edit by [[Special:Contributions/60.225.90.121|60.225.90.121]] identified as test/vandalism using [[WP:STiki|STiki]]\n",
      "Reverted user: 60.225.90.121\n",
      "/* Related products */\n",
      "\n",
      "2012-07-18T13:12:46Z\n",
      "Reverting user: WikiLeon\n",
      "Reverted 1 edit by [[Special:Contributions/UnsourcedBlanker222|UnsourcedBlanker222]] ([[User talk:UnsourcedBlanker222|talk]]) identified as [[WP:VAND|vandalism]] to last revision by JustPotteringAround. ([[WP:TW|TW]])\n",
      "Reverted user: UnsourcedBlanker222\n",
      "Unsourced content\n",
      "\n",
      "2017-05-07T12:18:50Z\n",
      "Reverting user: Rrburke\n",
      "Reverted edits by [[Special:Contributions/79.79.93.50|79.79.93.50]] ([[User talk:79.79.93.50|talk]]) ([[WP:HG|HG]]) (3.1.22)\n",
      "Reverted user: 79.79.93.50\n",
      "NO COMMENT\n",
      "\n",
      "International Atomic Time\n",
      "\n",
      "2012-11-29T01:27:31Z\n",
      "Reverting user: ClueBot NG\n",
      "Reverting possible vandalism by [[Special:Contributions/103.4.100.166|103.4.100.166]] to version by EmausBot. False positive? [[User:ClueBot NG/FalsePositives|Report it]]. Thanks, [[User:ClueBot NG|ClueBot NG]]. (1365584) (Bot)\n",
      "Reverted user: 103.4.100.166\n",
      "NO COMMENT\n",
      "\n",
      "2011-05-29T13:04:59Z\n",
      "Reverting user: Jc3s5h\n",
      "Undid revision 431478031 by [[Special:Contributions/49.138.251.157|49.138.251.157]] ([[User talk:49.138.251.157|talk]]). Error.\n",
      "Reverted user: 49.138.251.157\n",
      "NO COMMENT\n",
      "\n",
      "2008-07-27T10:50:59Z\n",
      "Reverting user: Mathew5000\n",
      "[[WP:UNDO|Undid]] revision 228149028 by [[Special:Contributions/65.89.61.15|65.89.61.15]] ([[User talk:65.89.61.15|talk]])\n",
      "Reverted user: 65.89.61.15\n",
      "/* Operation */\n",
      "\n",
      "Altruism\n",
      "\n",
      "2006-04-02T20:28:12Z\n",
      "Reverting user: Alienus\n",
      "Revert to revision 46542548 using [[:en:Wikipedia:Tools/Navigation_popups|popups]]\n",
      "Reverted user: 66.72.39.27\n",
      "NO COMMENT\n",
      "\n",
      "2009-10-04T21:56:00Z\n",
      "Reverting user: NewEnglandYankee\n",
      "[[WP:RBK|Reverted]] edits by [[Special:Contributions/77.99.179.16|77.99.179.16]] ([[User talk:77.99.179.16|talk]]) to last version by Tim bates\n",
      "Reverted user: 77.99.179.16\n",
      "NO COMMENT\n",
      "\n",
      "2011-01-30T08:49:53Z\n",
      "Reverting user: Johnuniq\n",
      "Undid revision 410899912 by [[Special:Contributions/173.23.73.2|173.23.73.2]] ([[User talk:173.23.73.2|talk]]) per [[WP:EL]]\n",
      "Reverted user: 173.23.73.2\n",
      "/* See also */\n",
      "\n",
      "Ayn Rand\n",
      "\n",
      "2007-04-08T07:36:01Z\n",
      "Reverting user: SteveWolfer\n",
      "rv - influenced necessarily means  \"accepted her ideas\" - anyone who starts a religion didn't accept Rand's ideas - wackos can \"say\" anything.\n",
      "Reverted user: Lancombz\n",
      "LaVey is notable and Rand's influence on him is major.  She didn't just inspire him, she provided him with the basis of a religion.\n",
      "\n",
      "2011-11-05T18:38:33Z\n",
      "Reverting user: Velella\n",
      "Reverted edits by [[Special:Contributions/Hjsdf|Hjsdf]] ([[User talk:Hjsdf|talk]]) to last revision by ClueBot NG ([[WP:HG|HG]])\n",
      "Reverted user: Hjsdf\n",
      "NO COMMENT\n",
      "\n",
      "2009-01-10T08:52:12Z\n",
      "Reverting user: Snowded\n",
      "compromise was to include the statement that she founded a \"popular\" philosophy\n",
      "Reverted user: TallNapoleon\n",
      "again removing homosexuality section, as that seems to be the majority opinion.\n",
      "\n"
     ]
    }
   ],
   "source": [
    "page_count = 0\n",
    "for page, page_reverts in groupby(reverts, lambda revert: revert['reverting']['page']['id']):\n",
    "    if np.random.random() >= 0.5:\n",
    "        continue\n",
    "    page_count += 1\n",
    "    if page_count > 10:\n",
    "        break\n",
    "    page_reverts = list(page_reverts)\n",
    "    page_title = page_title_dict[page]\n",
    "    print(page_title)\n",
    "    print()\n",
    "    page_reverts_subset = np.random.choice(page_reverts, size=3, replace=False)\n",
    "    for revert in page_reverts_subset:\n",
    "        reverting = revert['reverting']\n",
    "        reverted = revert['reverteds'][-1]\n",
    "        print(reverting['timestamp'])\n",
    "        print(\"Reverting user:\", reverting['user']['text'])\n",
    "        print(reverting['comment'] if 'comment' in reverting else \"NO COMMENT\")\n",
    "        print(\"Reverted user:\", reverted['user']['text'])\n",
    "        print(reverted['comment'] if 'comment' in reverted else \"NO COMMENT\")\n",
    "        print()"
   ]
  },
  {
   "cell_type": "code",
   "execution_count": null,
   "metadata": {},
   "outputs": [],
   "source": []
  },
  {
   "cell_type": "code",
   "execution_count": null,
   "metadata": {},
   "outputs": [],
   "source": []
  },
  {
   "cell_type": "markdown",
   "metadata": {},
   "source": [
    "### Test extraction of revision info from dump file"
   ]
  },
  {
   "cell_type": "code",
   "execution_count": 33,
   "metadata": {
    "scrolled": false
   },
   "outputs": [
    {
     "name": "stdout",
     "output_type": "stream",
     "text": [
      "dict_keys(['id', 'timestamp', 'user', 'page', 'minor', 'comment', 'text', 'sha1', 'parent_id', 'model', 'format', 'deleted'])\n",
      "id ::: 920223784\n",
      "timestamp ::: 2019-10-08T11:27:20Z\n",
      "user ::: {'id': 23085006, 'text': 'Rubbish computer'}\n",
      "page ::: {'id': 12, 'title': 'Anarchism', 'namespace': 0, 'restrictions': []}\n",
      "minor ::: True\n",
      "comment ::: Reverted edits by [[Special:Contributions/194.168.162.21|194.168.162.21]] ([[User talk:194.168.162.21|talk]]): [[WP:SANDBOX|editing tests]] ([[WP:HG|HG]]) (3.4.9)\n",
      "sha1 ::: owe1w0l4rmdrhp2w7cji3zazxklru08\n",
      "parent_id ::: 920223323\n",
      "model ::: wikitext\n",
      "format ::: text/x-wiki\n",
      "deleted ::: {'text': False, 'comment': False, 'user': False}\n",
      "\n",
      "dict_keys(['id', 'timestamp', 'user', 'page', 'minor', 'comment', 'text', 'sha1', 'parent_id', 'model', 'format', 'deleted'])\n",
      "id ::: 922132190\n",
      "timestamp ::: 2019-10-20T04:34:06Z\n",
      "user ::: {'id': 3810835, 'text': 'Doc James'}\n",
      "page ::: {'id': 25, 'title': 'Autism', 'namespace': 0, 'restrictions': []}\n",
      "minor ::: False\n",
      "comment ::: not a complication\n",
      "sha1 ::: tdkjcbu5xkchavz5qn3y7ms6hduzf5n\n",
      "parent_id ::: 921970299\n",
      "model ::: wikitext\n",
      "format ::: text/x-wiki\n",
      "deleted ::: {'text': False, 'comment': False, 'user': False}\n",
      "\n",
      "dict_keys(['id', 'timestamp', 'user', 'page', 'minor', 'comment', 'text', 'sha1', 'parent_id', 'model', 'format', 'deleted'])\n",
      "id ::: 920410295\n",
      "timestamp ::: 2019-10-09T16:29:40Z\n",
      "user ::: {'id': 2900194, 'text': 'IceDragon64'}\n",
      "page ::: {'id': 39, 'title': 'Albedo', 'namespace': 0, 'restrictions': []}\n",
      "minor ::: False\n",
      "comment ::: Plainer language\n",
      "sha1 ::: mkjdjfhn013z2luh00dp7ktwql05ht2\n",
      "parent_id ::: 920409640\n",
      "model ::: wikitext\n",
      "format ::: text/x-wiki\n",
      "deleted ::: {'text': False, 'comment': False, 'user': False}\n",
      "\n",
      "dict_keys(['id', 'timestamp', 'user', 'page', 'minor', 'text', 'sha1', 'parent_id', 'model', 'format', 'deleted'])\n",
      "id ::: 921981703\n",
      "timestamp ::: 2019-10-19T03:24:28Z\n",
      "user ::: {'id': 36653647, 'text': 'FIGHTERSOVIET wpedia'}\n",
      "page ::: {'id': 290, 'title': 'A', 'namespace': 0, 'restrictions': []}\n",
      "minor ::: False\n",
      "sha1 ::: 3588226a4uamxvungkhjfhoa214apm0\n",
      "parent_id ::: 921686614\n",
      "model ::: wikitext\n",
      "format ::: text/x-wiki\n",
      "deleted ::: {'text': False, 'comment': False, 'user': False}\n",
      "\n",
      "dict_keys(['id', 'timestamp', 'user', 'page', 'minor', 'comment', 'text', 'sha1', 'parent_id', 'model', 'format', 'deleted'])\n",
      "id ::: 921775959\n",
      "timestamp ::: 2019-10-17T20:31:00Z\n",
      "user ::: {'id': 1216158, 'text': 'Fnlayson'}\n",
      "page ::: {'id': 303, 'title': 'Alabama', 'namespace': 0, 'restrictions': []}\n",
      "minor ::: False\n",
      "comment ::: Partial revert unexplained/unclear removal by [[Special:Contributions/Freekhou5|Freekhou5]] ([[User talk:Freekhou5|talk]])\n",
      "sha1 ::: s12oa7ji3sjxzmw5292romuu7cqtll1\n",
      "parent_id ::: 921768840\n",
      "model ::: wikitext\n",
      "format ::: text/x-wiki\n",
      "deleted ::: {'text': False, 'comment': False, 'user': False}\n",
      "\n",
      "dict_keys(['id', 'timestamp', 'user', 'page', 'minor', 'comment', 'text', 'sha1', 'parent_id', 'model', 'format', 'deleted'])\n",
      "id ::: 922032316\n",
      "timestamp ::: 2019-10-19T13:38:51Z\n",
      "user ::: {'id': 3022076, 'text': 'Deor'}\n",
      "page ::: {'id': 305, 'title': 'Achilles', 'namespace': 0, 'restrictions': []}\n",
      "minor ::: False\n",
      "comment ::: Undid revision 922025590 by [[Special:Contributions/77.96.81.73|77.96.81.73]] ([[User talk:77.96.81.73|talk]])\n",
      "sha1 ::: d7wnqjgfte4rvbmu974nm2kzmifig3s\n",
      "parent_id ::: 922025590\n",
      "model ::: wikitext\n",
      "format ::: text/x-wiki\n",
      "deleted ::: {'text': False, 'comment': False, 'user': False}\n",
      "\n",
      "dict_keys(['id', 'timestamp', 'user', 'page', 'minor', 'comment', 'text', 'sha1', 'parent_id', 'model', 'format', 'deleted'])\n",
      "id ::: 920869100\n",
      "timestamp ::: 2019-10-12T12:05:47Z\n",
      "user ::: {'id': 17631563, 'text': 'Rupert loup'}\n",
      "page ::: {'id': 307, 'title': 'Abraham Lincoln', 'namespace': 0, 'restrictions': []}\n",
      "minor ::: False\n",
      "comment ::: added [[Category:American abolitionists]] using [[WP:HC|HotCat]]\n",
      "sha1 ::: 15eubdfyzgpm8g9c0j7ydvma4izb2q8\n",
      "parent_id ::: 920484464\n",
      "model ::: wikitext\n",
      "format ::: text/x-wiki\n",
      "deleted ::: {'text': False, 'comment': False, 'user': False}\n",
      "\n",
      "dict_keys(['id', 'timestamp', 'user', 'page', 'minor', 'comment', 'text', 'sha1', 'parent_id', 'model', 'format', 'deleted'])\n",
      "id ::: 922143569\n",
      "timestamp ::: 2019-10-20T06:51:07Z\n",
      "user ::: {'id': 12414093, 'text': 'Jkellner6504'}\n",
      "page ::: {'id': 308, 'title': 'Aristotle', 'namespace': 0, 'restrictions': []}\n",
      "minor ::: True\n",
      "comment ::: /* Economics */\n",
      "sha1 ::: lw7ciaxepiig4aejvd4qgmplqbcxn9l\n",
      "parent_id ::: 919870771\n",
      "model ::: wikitext\n",
      "format ::: text/x-wiki\n",
      "deleted ::: {'text': False, 'comment': False, 'user': False}\n",
      "\n",
      "dict_keys(['id', 'timestamp', 'user', 'page', 'minor', 'comment', 'text', 'sha1', 'parent_id', 'model', 'format', 'deleted'])\n",
      "id ::: 918607053\n",
      "timestamp ::: 2019-09-29T14:33:28Z\n",
      "user ::: {'id': 800198, 'text': 'Michael Bednarek'}\n",
      "page ::: {'id': 309, 'title': 'An American in Paris', 'namespace': 0, 'restrictions': []}\n",
      "minor ::: False\n",
      "comment ::: +wl [[Richard Freed]] & [[David Schiff]] & [[Edward Jablonski]] & [[Howard Pollack]].\n",
      "sha1 ::: qogfneo0ciuy81cugc1hjl5u0baizuk\n",
      "parent_id ::: 915182776\n",
      "model ::: wikitext\n",
      "format ::: text/x-wiki\n",
      "deleted ::: {'text': False, 'comment': False, 'user': False}\n",
      "\n",
      "dict_keys(['id', 'timestamp', 'user', 'page', 'minor', 'comment', 'text', 'sha1', 'parent_id', 'model', 'format', 'deleted'])\n",
      "id ::: 919574150\n",
      "timestamp ::: 2019-10-04T13:14:53Z\n",
      "user ::: {'id': 35567013, 'text': 'TMProofreader'}\n",
      "page ::: {'id': 316, 'title': 'Academy Award for Best Production Design', 'namespace': 0, 'restrictions': []}\n",
      "minor ::: True\n",
      "comment ::: /* 1960s */\n",
      "sha1 ::: gxuk5aayo1tv17wmc6gmnvhbg9nlemv\n",
      "parent_id ::: 915948829\n",
      "model ::: wikitext\n",
      "format ::: text/x-wiki\n",
      "deleted ::: {'text': False, 'comment': False, 'user': False}\n",
      "\n",
      "dict_keys(['id', 'timestamp', 'user', 'page', 'minor', 'comment', 'text', 'sha1', 'parent_id', 'model', 'format', 'deleted'])\n",
      "id ::: 921908481\n",
      "timestamp ::: 2019-10-18T17:57:03Z\n",
      "user ::: {'id': 412108, 'text': 'KNHaw'}\n",
      "page ::: {'id': 324, 'title': 'Academy Awards', 'namespace': 0, 'restrictions': []}\n",
      "minor ::: True\n",
      "comment ::: Reverted 1 edit by [[Special:Contributions/Eloscra|Eloscra]] ([[User talk:Eloscra|talk]]) to last revision by 95.252.174.148 ([[WP:TW|TW]])\n",
      "sha1 ::: o7352jgd867b2hknc895r0s10mnfmhz\n",
      "parent_id ::: 921908075\n",
      "model ::: wikitext\n",
      "format ::: text/x-wiki\n",
      "deleted ::: {'text': False, 'comment': False, 'user': False}\n",
      "\n"
     ]
    }
   ],
   "source": [
    "page_rev_doc_counts = []\n",
    "dump = mwxml.Dump.from_file(bz2.open(dump_filepath, 'rt'))\n",
    "c = 0\n",
    "for page in dump:\n",
    "    if page.namespace == 0 and page.redirect is None:\n",
    "        c+=1\n",
    "        revs = [rev for rev in page]\n",
    "        assert len(revs) == 1\n",
    "        rev = revs[-1]\n",
    "        rev_json = rev.to_json()\n",
    "        print(rev_json.keys())\n",
    "        for key in rev_json.keys():\n",
    "            if key == 'text':\n",
    "                continue\n",
    "            print(key, \":::\", rev_json[key])\n",
    "        print()\n",
    "    if c > 3:\n",
    "        break"
   ]
  },
  {
   "cell_type": "code",
   "execution_count": null,
   "metadata": {},
   "outputs": [],
   "source": []
  }
 ],
 "metadata": {
  "kernelspec": {
   "display_name": "Flagon Python3",
   "language": "python",
   "name": "flagon-conda-env"
  },
  "language_info": {
   "codemirror_mode": {
    "name": "ipython",
    "version": 3
   },
   "file_extension": ".py",
   "mimetype": "text/x-python",
   "name": "python",
   "nbconvert_exporter": "python",
   "pygments_lexer": "ipython3",
   "version": "3.7.6"
  }
 },
 "nbformat": 4,
 "nbformat_minor": 4
}
