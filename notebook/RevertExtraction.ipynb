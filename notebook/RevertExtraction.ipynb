{
 "cells": [
  {
   "cell_type": "markdown",
   "metadata": {},
   "source": [
    "Initial Revert Extraction\n",
    "===\n",
    "\n",
    "TODO update me\n"
   ]
  },
  {
   "cell_type": "code",
   "execution_count": 1,
   "metadata": {},
   "outputs": [],
   "source": [
    "import mwapi\n",
    "import mwxml\n",
    "import mwxml.utilities\n",
    "import mwcli\n",
    "import mwreverts\n",
    "import oresapi\n",
    "import mwparserfromhell"
   ]
  },
  {
   "cell_type": "code",
   "execution_count": 2,
   "metadata": {},
   "outputs": [],
   "source": [
    "import numpy as np\n",
    "import pandas as pd\n",
    "import matplotlib.pyplot as plt"
   ]
  },
  {
   "cell_type": "code",
   "execution_count": 72,
   "metadata": {},
   "outputs": [],
   "source": [
    "import os\n",
    "from tqdm import tqdm\n",
    "import bz2\n",
    "import json\n",
    "import re\n",
    "import hashlib\n",
    "from datetime import datetime"
   ]
  },
  {
   "cell_type": "code",
   "execution_count": 4,
   "metadata": {},
   "outputs": [
    {
     "data": {
      "text/plain": [
       "'/export/scratch2/levon003/repos/wiki-ores-feedback'"
      ]
     },
     "execution_count": 4,
     "metadata": {},
     "output_type": "execute_result"
    }
   ],
   "source": [
    "git_root_dir = !git rev-parse --show-toplevel\n",
    "git_root_dir = git_root_dir[0]\n",
    "git_root_dir"
   ]
  },
  {
   "cell_type": "code",
   "execution_count": 5,
   "metadata": {},
   "outputs": [
    {
     "data": {
      "text/plain": [
       "('/export/scratch2/wiki_data',\n",
       " '/export/scratch2/levon003/repos/wiki-ores-feedback/data/derived')"
      ]
     },
     "execution_count": 5,
     "metadata": {},
     "output_type": "execute_result"
    }
   ],
   "source": [
    "raw_data_dir = \"/export/scratch2/wiki_data\"\n",
    "derived_data_dir = os.path.join(git_root_dir, \"data\", \"derived\")\n",
    "raw_data_dir, derived_data_dir"
   ]
  },
  {
   "cell_type": "code",
   "execution_count": 6,
   "metadata": {},
   "outputs": [
    {
     "data": {
      "text/plain": [
       "14975823"
      ]
     },
     "execution_count": 6,
     "metadata": {},
     "output_type": "execute_result"
    }
   ],
   "source": [
    "ns0_filenames_path = os.path.join(raw_data_dir, \"enwiki-20200101-all-titles-in-ns0\")\n",
    "ns0_filenames = open(ns0_filenames_path).readlines()\n",
    "len(ns0_filenames)"
   ]
  },
  {
   "cell_type": "code",
   "execution_count": 7,
   "metadata": {},
   "outputs": [
    {
     "data": {
      "text/plain": [
       "19881980"
      ]
     },
     "execution_count": 7,
     "metadata": {},
     "output_type": "execute_result"
    }
   ],
   "source": [
    "article_index_path = os.path.join(raw_data_dir, \"enwiki-20200101-pages-articles-multistream-index.txt\")\n",
    "article_index = open(article_index_path).readlines()\n",
    "len(article_index)"
   ]
  },
  {
   "cell_type": "code",
   "execution_count": 59,
   "metadata": {},
   "outputs": [
    {
     "name": "stderr",
     "output_type": "stream",
     "text": [
      "100%|██████████| 19881980/19881980 [00:34<00:00, 569899.85it/s]\n"
     ]
    },
    {
     "data": {
      "text/plain": [
       "19881980"
      ]
     },
     "execution_count": 59,
     "metadata": {},
     "output_type": "execute_result"
    }
   ],
   "source": [
    "page_title_dict = {}\n",
    "for line in tqdm(article_index):\n",
    "    tokens = line.strip().split(\":\")\n",
    "    #page_start_bytes = int(tokens[0])\n",
    "    page_id = int(tokens[1])\n",
    "    page_title = \"\".join(tokens[2:])\n",
    "    page_title_dict[page_id] = page_title\n",
    "len(page_title_dict)"
   ]
  },
  {
   "cell_type": "code",
   "execution_count": 8,
   "metadata": {},
   "outputs": [],
   "source": [
    "# this is one of approximately 100 files containing full revision history\n",
    "dump_filepath = os.path.join(raw_data_dir, \"enwiki-20200101-pages-meta-history1.xml-p10p1036.bz2\")"
   ]
  },
  {
   "cell_type": "code",
   "execution_count": 6,
   "metadata": {},
   "outputs": [],
   "source": [
    "# this is the article multistream\n",
    "# which contains only the most recent revision\n",
    "dump_filepath = os.path.join(raw_data_dir, \"enwiki-20191020-pages-articles-multistream.xml.bz2\")"
   ]
  },
  {
   "cell_type": "code",
   "execution_count": 9,
   "metadata": {
    "scrolled": false
   },
   "outputs": [
    {
     "name": "stdout",
     "output_type": "stream",
     "text": [
      "<class 'mwxml.iteration.page.Page'>\n",
      "<class 'mwxml.iteration.revision.Revision'>\n",
      "Revision(id=233192, timestamp=Timestamp('2001-01-21T02:12:21Z'), user=User(id=99, text='RoseParks'), page=Page(id=10, title='AccessibleComputing', namespace=0, redirect='Computer accessibility', restrictions=[]), minor=False, comment='*', text='This subject covers\\n\\n* AssistiveTechnology\\n\\n* AccessibleSoftware\\n\\n* AccessibleWeb\\n\\n* LegalIssuesInAccessibleComputing\\n\\n', bytes=None, sha1='8kul9tlwjm9oxgvqzbwuegt9b2830vw', parent_id=None, model='wikitext', format='text/x-wiki', deleted=Deleted(text=False, comment=False, user=False, restricted=None))\n",
      "{'id': 233192, 'timestamp': '2001-01-21T02:12:21Z', 'user': {'id': 99, 'text': 'RoseParks'}, 'page': {'id': 10, 'title': 'AccessibleComputing', 'namespace': 0, 'redirect': 'Computer accessibility', 'restrictions': []}, 'minor': False, 'comment': '*', 'text': 'This subject covers\\n\\n* AssistiveTechnology\\n\\n* AccessibleSoftware\\n\\n* AccessibleWeb\\n\\n* LegalIssuesInAccessibleComputing\\n\\n', 'sha1': '8kul9tlwjm9oxgvqzbwuegt9b2830vw', 'model': 'wikitext', 'format': 'text/x-wiki', 'deleted': {'text': False, 'comment': False, 'user': False}}\n"
     ]
    }
   ],
   "source": [
    "dump = mwxml.Dump.from_file(bz2.open(dump_filepath, 'rt'))\n",
    "for page in dump:\n",
    "    print(type(page))\n",
    "    for revision in page:\n",
    "        print(type(revision))\n",
    "        print(revision)\n",
    "        print(revision.to_json())\n",
    "        break\n",
    "    break"
   ]
  },
  {
   "cell_type": "code",
   "execution_count": 10,
   "metadata": {},
   "outputs": [],
   "source": [
    "# https://github.com/mediawiki-utilities/python-mwxml/blob/master/mwxml/utilities/dump2revdocs.py\n",
    "def dump2revdocs(dump, verbose=False):\n",
    "    for page in dump:\n",
    "        if page.namespace == 0 and page.redirect is None:\n",
    "            for revision in page:\n",
    "                yield revision.to_json()"
   ]
  },
  {
   "cell_type": "code",
   "execution_count": 11,
   "metadata": {},
   "outputs": [],
   "source": [
    "dump = mwxml.Dump.from_file(bz2.open(dump_filepath, 'rt'))"
   ]
  },
  {
   "cell_type": "code",
   "execution_count": 12,
   "metadata": {},
   "outputs": [],
   "source": [
    "rev_docs = dump2revdocs(dump)"
   ]
  },
  {
   "cell_type": "code",
   "execution_count": 13,
   "metadata": {},
   "outputs": [],
   "source": [
    "from itertools import groupby\n",
    "page_rev_docs = groupby(rev_docs, lambda rd: rd.get('page'))"
   ]
  },
  {
   "cell_type": "code",
   "execution_count": 14,
   "metadata": {
    "scrolled": true
   },
   "outputs": [
    {
     "name": "stderr",
     "output_type": "stream",
     "text": [
      "  0%|          | 232/5200000 [33:16<12432:35:12,  8.61s/it]\n"
     ]
    }
   ],
   "source": [
    "should_resort = False\n",
    "use_sha1 = False\n",
    "total_pages_count = 0\n",
    "no_text_count = 0\n",
    "pages_with_reverts_count = 0\n",
    "reverts = []\n",
    "page_rev_doc_counts = []\n",
    "page_rev_revert_counts = []\n",
    "page_rev_noText_counts = []\n",
    "for page_doc, rev_docs in tqdm(page_rev_docs, total=5200000):\n",
    "    total_pages_count += 1\n",
    "    \n",
    "    if should_resort:\n",
    "        rev_docs = sorted(rev_docs, key=lambda r: (r.get('timestamp'), r.get('id')))\n",
    "    \n",
    "    #print(page_doc.get('title'))\n",
    "    \n",
    "    detector = mwreverts.Detector(radius=15)\n",
    "    page_had_revert = False\n",
    "    page_rev_doc_count = 0\n",
    "    page_rev_noText_count = 0\n",
    "    page_rev_revert_count = 0\n",
    "    for rev_doc in rev_docs:\n",
    "        page_rev_doc_count += 1\n",
    "        if not use_sha1 and 'text' not in rev_doc:\n",
    "            no_text_count += 1\n",
    "            page_rev_noText_count += 1\n",
    "            continue\n",
    "\n",
    "        if use_sha1:\n",
    "            checksum = rev_doc.get('sha1') or mwreverts.DummyChecksum()\n",
    "        elif 'text' in rev_doc:\n",
    "            text_bytes = bytes(rev_doc['text'], 'utf8', 'replace')\n",
    "            checksum = hashlib.sha1(text_bytes).digest()\n",
    "\n",
    "        revert = detector.process(checksum, rev_doc)\n",
    "\n",
    "        if revert:\n",
    "            page_had_revert = True\n",
    "            page_rev_revert_count += 1\n",
    "            revert_json = revert.to_json()\n",
    "            reverts.append(revert_json)\n",
    "    page_rev_doc_counts.append(page_rev_doc_count)\n",
    "    page_rev_noText_counts.append(page_rev_noText_count)\n",
    "    page_rev_revert_counts.append(page_rev_revert_count)\n",
    "    if page_had_revert:\n",
    "        pages_with_reverts_count += 1"
   ]
  },
  {
   "cell_type": "markdown",
   "metadata": {},
   "source": [
    "Without using sha1, an estimate (based on the first 142 pages) would seem to suggest that, if 24 separate IO processes were run to identify reverts, then it would take more than 25 days to identify all reverts in Wikipedia history.\n",
    "\n",
    "Without using sha1, processes 231 pages in 33:16, which is an average of 8.6 seconds per page.\n",
    "\n",
    "\n",
    "27 total files in \"history1\".\n",
    "\n",
    "With sha1, processes 231 pages in 28:57.\n",
    "With sha1, takes 7.5 seconds on average (over 231 pages in the first dump file) to process each page."
   ]
  },
  {
   "cell_type": "code",
   "execution_count": 26,
   "metadata": {},
   "outputs": [],
   "source": [
    "page_rev_doc_counts = np.array(page_rev_doc_counts)\n",
    "page_rev_revert_counts = np.array(page_rev_revert_counts)"
   ]
  },
  {
   "cell_type": "code",
   "execution_count": 19,
   "metadata": {},
   "outputs": [
    {
     "data": {
      "text/plain": [
       "1820"
      ]
     },
     "execution_count": 19,
     "metadata": {},
     "output_type": "execute_result"
    }
   ],
   "source": [
    "# how many revisions had no text?\n",
    "no_text_count"
   ]
  },
  {
   "cell_type": "code",
   "execution_count": 20,
   "metadata": {},
   "outputs": [
    {
     "data": {
      "text/plain": [
       "(163, 0.7025862068965517)"
      ]
     },
     "execution_count": 20,
     "metadata": {},
     "output_type": "execute_result"
    }
   ],
   "source": [
    "# what pct of pages had no-text revisions?\n",
    "page_rev_noText_counts = np.array(page_rev_noText_counts)\n",
    "np.sum(page_rev_noText_counts > 0), np.sum(page_rev_noText_counts > 0) / len(page_rev_noText_counts)"
   ]
  },
  {
   "cell_type": "code",
   "execution_count": 21,
   "metadata": {},
   "outputs": [
    {
     "data": {
      "image/png": "[encoded data removed]",
      "text/plain": [
       "<Figure size 432x288 with 1 Axes>"
      ]
     },
     "metadata": {
      "needs_background": "light"
     },
     "output_type": "display_data"
    }
   ],
   "source": [
    "# distribution of pages by percentage of noText revisions\n",
    "page_rev_pct_noText = page_rev_noText_counts / page_rev_doc_counts\n",
    "plt.hist(page_rev_pct_noText, bins=50)\n",
    "plt.title(\"Percentage of page revisions that lack text\")\n",
    "plt.xlabel(\"% of page revisions without text\")\n",
    "plt.ylabel(\"Page count\")\n",
    "plt.show()"
   ]
  },
  {
   "cell_type": "code",
   "execution_count": 22,
   "metadata": {},
   "outputs": [
    {
     "data": {
      "text/plain": [
       "(232, 230)"
      ]
     },
     "execution_count": 22,
     "metadata": {},
     "output_type": "execute_result"
    }
   ],
   "source": [
    "total_pages_count, pages_with_reverts_count"
   ]
  },
  {
   "cell_type": "code",
   "execution_count": 23,
   "metadata": {},
   "outputs": [
    {
     "data": {
      "text/plain": [
       "150349"
      ]
     },
     "execution_count": 23,
     "metadata": {},
     "output_type": "execute_result"
    }
   ],
   "source": [
    "len(reverts)"
   ]
  },
  {
   "cell_type": "code",
   "execution_count": 24,
   "metadata": {},
   "outputs": [
    {
     "data": {
      "image/png": "[encoded data removed]",
      "text/plain": [
       "<Figure size 432x288 with 1 Axes>"
      ]
     },
     "metadata": {
      "needs_background": "light"
     },
     "output_type": "display_data"
    },
    {
     "data": {
      "text/plain": [
       "232"
      ]
     },
     "execution_count": 24,
     "metadata": {},
     "output_type": "execute_result"
    }
   ],
   "source": [
    "plt.hist(page_rev_doc_counts, bins=50)\n",
    "plt.title(\"Total revisions per page\")\n",
    "plt.xlabel(\"Number of revisions\")\n",
    "plt.ylabel(\"Page count\")\n",
    "plt.show()\n",
    "len(page_rev_doc_counts)"
   ]
  },
  {
   "cell_type": "code",
   "execution_count": 27,
   "metadata": {},
   "outputs": [
    {
     "data": {
      "text/plain": [
       "(230, 232)"
      ]
     },
     "execution_count": 27,
     "metadata": {},
     "output_type": "execute_result"
    }
   ],
   "source": [
    "page_revert_counts = np.array([\n",
    "        len(list(page_reverts)) for page, page_reverts in groupby(reverts, lambda revert: revert['reverting']['page']['id'])\n",
    "    ])\n",
    "assert len(page_revert_counts) == pages_with_reverts_count\n",
    "len(page_revert_counts), len(page_rev_doc_counts)"
   ]
  },
  {
   "cell_type": "code",
   "execution_count": 28,
   "metadata": {},
   "outputs": [
    {
     "data": {
      "image/png": "[encoded data removed]",
      "text/plain": [
       "<Figure size 432x288 with 1 Axes>"
      ]
     },
     "metadata": {
      "needs_background": "light"
     },
     "output_type": "display_data"
    },
    {
     "data": {
      "text/plain": [
       "230"
      ]
     },
     "execution_count": 28,
     "metadata": {},
     "output_type": "execute_result"
    }
   ],
   "source": [
    "plt.hist(page_revert_counts, bins=50)\n",
    "plt.title(\"Total reverts per page\")\n",
    "plt.xlabel(\"Number of reverts\")\n",
    "plt.ylabel(\"Page count\")\n",
    "plt.show()\n",
    "len(page_revert_counts)"
   ]
  },
  {
   "cell_type": "code",
   "execution_count": 31,
   "metadata": {},
   "outputs": [
    {
     "data": {
      "image/png": "[encoded data removed]",
      "text/plain": [
       "<Figure size 432x288 with 1 Axes>"
      ]
     },
     "metadata": {
      "needs_background": "light"
     },
     "output_type": "display_data"
    }
   ],
   "source": [
    "plt.hist(page_rev_revert_counts / page_rev_doc_counts * 100, bins=50, log=False)\n",
    "plt.title(\"Percentage of reverts by page\")\n",
    "plt.xlabel(\"% revisions that are reverts\")\n",
    "plt.ylabel(\"Page count\")\n",
    "plt.show()"
   ]
  },
  {
   "cell_type": "code",
   "execution_count": 32,
   "metadata": {},
   "outputs": [
    {
     "data": {
      "text/plain": [
       "150349"
      ]
     },
     "execution_count": 32,
     "metadata": {},
     "output_type": "execute_result"
    }
   ],
   "source": [
    "len(reverts)"
   ]
  },
  {
   "cell_type": "code",
   "execution_count": 48,
   "metadata": {},
   "outputs": [
    {
     "data": {
      "image/png": "[encoded data removed]",
      "text/plain": [
       "<Figure size 432x288 with 1 Axes>"
      ]
     },
     "metadata": {
      "needs_background": "light"
     },
     "output_type": "display_data"
    }
   ],
   "source": [
    "num_revs_reverted = np.array([len(revert['reverteds']) for revert in reverts])\n",
    "assert np.all(num_revs_reverted > 0)\n",
    "plt.hist(num_revs_reverted, bins=range(0,16), log=True, align='left')\n",
    "plt.xticks(range(0, 16))\n",
    "plt.title(\"Number of revisions reverted at once\")\n",
    "plt.xlabel(\"Number of revisions reverted\")\n",
    "plt.ylabel(\"Revert count\")\n",
    "plt.show()"
   ]
  },
  {
   "cell_type": "code",
   "execution_count": 50,
   "metadata": {},
   "outputs": [
    {
     "data": {
      "text/plain": [
       "0.1829410238844289"
      ]
     },
     "execution_count": 50,
     "metadata": {},
     "output_type": "execute_result"
    }
   ],
   "source": [
    "# 18.3% of reverts role back multiple revisions\n",
    "np.sum(num_revs_reverted > 1) / len(num_revs_reverted)"
   ]
  },
  {
   "cell_type": "code",
   "execution_count": 67,
   "metadata": {},
   "outputs": [
    {
     "data": {
      "text/plain": [
       "dict_keys(['reverting', 'reverteds', 'reverted_to'])"
      ]
     },
     "execution_count": 67,
     "metadata": {},
     "output_type": "execute_result"
    }
   ],
   "source": [
    "reverts[0].keys()"
   ]
  },
  {
   "cell_type": "code",
   "execution_count": 68,
   "metadata": {},
   "outputs": [
    {
     "data": {
      "text/plain": [
       "dict_keys(['id', 'timestamp', 'user', 'page', 'minor', 'comment', 'text', 'sha1', 'parent_id', 'model', 'format', 'deleted'])"
      ]
     },
     "execution_count": 68,
     "metadata": {},
     "output_type": "execute_result"
    }
   ],
   "source": [
    "reverts[0]['reverting'].keys()"
   ]
  },
  {
   "cell_type": "code",
   "execution_count": 81,
   "metadata": {},
   "outputs": [
    {
     "data": {
      "text/plain": [
       "('2002-04-02T09:54:12Z', datetime.datetime(2002, 4, 2, 9, 54, 12))"
      ]
     },
     "execution_count": 81,
     "metadata": {},
     "output_type": "execute_result"
    }
   ],
   "source": [
    "reverts[0]['reverting']['timestamp'],\\\n",
    "datetime.strptime(reverts[0]['reverting']['timestamp'], \"%Y-%m-%dT%H:%M:%SZ\")"
   ]
  },
  {
   "cell_type": "code",
   "execution_count": 108,
   "metadata": {
    "scrolled": false
   },
   "outputs": [],
   "source": [
    "time_to_most_recent_reverted_list = []\n",
    "is_multirevert_list = []\n",
    "for page, page_reverts in groupby(reverts, lambda revert: revert['reverting']['page']['id']):\n",
    "    page_reverts = list(page_reverts)\n",
    "    #print(page_title_dict[page])\n",
    "    #print(len(page_reverts))\n",
    "    for revert in page_reverts:\n",
    "        reverted_at_timestamp = int(datetime.strptime(revert['reverting']['timestamp'], \"%Y-%m-%dT%H:%M:%SZ\").timestamp())\n",
    "        reverted_to_timestamp = int(datetime.strptime(revert['reverted_to']['timestamp'], \"%Y-%m-%dT%H:%M:%SZ\").timestamp())\n",
    "\n",
    "        reverteds = sorted(revert['reverteds'], key=lambda r: (r.get('timestamp'), r.get('id')))\n",
    "        is_multirevert = len(reverteds) > 1\n",
    "        revert_timestamp = int(datetime.strptime(reverteds[-1]['timestamp'], \"%Y-%m-%dT%H:%M:%SZ\").timestamp())\n",
    "        time_to_most_recent_reverted = reverted_at_timestamp - revert_timestamp\n",
    "        time_to_most_recent_reverted_list.append(time_to_most_recent_reverted)\n",
    "        is_multirevert_list.append(is_multirevert)\n",
    "        #for reverted_revert in revert['reverteds']:\n",
    "        #    revert_timestamp = int(datetime.strptime(reverted_revert['timestamp'], \"%Y-%m-%dT%H:%M:%SZ\").timestamp())\n",
    "        #    time_to_revert = reverted_at_timestamp - revert_timestamp\n",
    "        #    assert time_to_revert >= time_to_most_recent_reverted, time_to_most_recent_reverted\n",
    "        #    time_to_most_recent_reverted = time_to_revert\n",
    "        #     assert time_to_revert >= 0, time_to_revert\n",
    "        "
   ]
  },
  {
   "cell_type": "code",
   "execution_count": 109,
   "metadata": {},
   "outputs": [
    {
     "data": {
      "text/plain": [
       "0.00021283812995098072"
      ]
     },
     "execution_count": 109,
     "metadata": {},
     "output_type": "execute_result"
    }
   ],
   "source": [
    "np.sum(np.array(time_to_most_recent_reverted_list) <= 0) / len(time_to_most_recent_reverted_list)"
   ]
  },
  {
   "cell_type": "code",
   "execution_count": 116,
   "metadata": {},
   "outputs": [
    {
     "data": {
      "text/plain": [
       "0.017924961256809157"
      ]
     },
     "execution_count": 116,
     "metadata": {},
     "output_type": "execute_result"
    }
   ],
   "source": [
    "# percent of reverts that occur after more than a day\n",
    "np.sum(np.array(time_to_most_recent_reverted_list) >= 60 * 60 * 24) / len(time_to_most_recent_reverted_list)"
   ]
  },
  {
   "cell_type": "code",
   "execution_count": 126,
   "metadata": {},
   "outputs": [
    {
     "data": {
      "image/png": "[encoded data removed]",
      "text/plain": [
       "<Figure size 432x288 with 1 Axes>"
      ]
     },
     "metadata": {
      "needs_background": "light"
     },
     "output_type": "display_data"
    }
   ],
   "source": [
    "x = np.array(time_to_most_recent_reverted_list)\n",
    "qs = np.linspace(0, 1)\n",
    "ys = [np.quantile(x, q) for q in qs]\n",
    "plt.plot(qs, ys, color='black')\n",
    "plt.yscale('log', nonposy='clip', basey=2)\n",
    "\n",
    "ax = plt.gca()\n",
    "# add semantically interpretable time moments\n",
    "ax.axhline(1 * 60, alpha=0.6, label='Minute')\n",
    "ax.axhline(1 * 60 * 60, alpha=0.6, label='Hour', color='orange')\n",
    "ax.axhline(1 * 60 * 60 * 24, alpha=0.6, label='Day', color='green')\n",
    "ax.axhline(1 * 60 * 60 * 24 * 30, alpha=0.6, label='Month', color='maroon')\n",
    "\n",
    "plt.legend()\n",
    "\n",
    "plt.xlabel(\"Quantile\")\n",
    "plt.ylabel(\"Time to revert\")\n",
    "plt.title(\"% reverted within certain amount of time\")\n",
    "\n",
    "plt.show()"
   ]
  },
  {
   "cell_type": "code",
   "execution_count": 114,
   "metadata": {},
   "outputs": [
    {
     "data": {
      "image/png": "[encoded data removed]",
      "text/plain": [
       "<Figure size 432x288 with 1 Axes>"
      ]
     },
     "metadata": {
      "needs_background": "light"
     },
     "output_type": "display_data"
    }
   ],
   "source": [
    "x = np.clip(np.array(time_to_most_recent_reverted_list), 1, None)\n",
    "num_bins=50\n",
    "base = 2\n",
    "logbins = np.logspace(np.log2(min(x)), np.log2(max(x)), num=num_bins, base=base, endpoint=True)\n",
    "plt.hist(x, bins=logbins, color='gray')\n",
    "plt.hist(x[np.array(is_multirevert_list)], bins=logbins, color='darkgreen', label='Most recent of multi-reverted')\n",
    "plt.xscale('log', nonposx='clip', basex=base)\n",
    "\n",
    "ax = plt.gca()\n",
    "# add semantically interpretable time moments\n",
    "ax.axvline(1 * 60, color='black', alpha=0.6)\n",
    "ax.axvline(1 * 60 * 60, color='black', alpha=0.6)\n",
    "ax.axvline(1 * 60 * 60 * 24, color='black', alpha=0.6)\n",
    "ax.axvline(1 * 60 * 60 * 24 * 30, color='black', alpha=0.6)\n",
    "text_y = ax.transData.inverted().transform((0, ax.transAxes.transform((0, 0.90))[1]))[1]  # https://matplotlib.org/users/transforms_tutorial.html\n",
    "ax.text(1 * 60 * 1.2, text_y, 'Minute', color='darkgray')\n",
    "ax.text(1 * 60 * 60 * 1.2, text_y, 'Hour', color='darkgray')\n",
    "ax.text(1 * 60 * 60 * 24 * 1.2, text_y, 'Day', color='darkgray')\n",
    "ax.text(1 * 60 * 60 * 24 * 30 * 1.2, text_y, 'Month', color='darkgray')\n",
    "\n",
    "plt.title(\"Time between revert and reverted revision\")\n",
    "plt.xlabel(\"Number of seconds\")\n",
    "plt.ylabel(\"Number of reverts\")\n",
    "\n",
    "#plt.legend()\n",
    "\n",
    "plt.show()"
   ]
  },
  {
   "cell_type": "code",
   "execution_count": 140,
   "metadata": {},
   "outputs": [
    {
     "data": {
      "text/plain": [
       "1"
      ]
     },
     "execution_count": 140,
     "metadata": {},
     "output_type": "execute_result"
    }
   ],
   "source": [
    "is_self_revert_list = []\n",
    "is_multiuser_revert_list = []\n",
    "unique_reverted_user_counts = []\n",
    "no_reverting_user_count = 0\n",
    "for page, page_reverts in groupby(reverts, lambda revert: revert['reverting']['page']['id']):\n",
    "    page_reverts = list(page_reverts)\n",
    "    for revert in page_reverts:\n",
    "        if 'user' not in revert['reverting']:\n",
    "            no_reverting_user_count += 1\n",
    "            continue\n",
    "        reverting_user = revert['reverting']['user']['text']\n",
    "        reverted_users = set([revert['user']['text'] for revert in revert['reverteds'] if 'user' in revert])\n",
    "        \n",
    "        is_self_revert = reverting_user in reverted_users\n",
    "        is_self_revert_list.append(is_self_revert)\n",
    "        is_multiuser_revert = len(reverted_users) > 1\n",
    "        is_multiuser_revert_list.append(is_multiuser_revert)\n",
    "        unique_reverted_user_counts.append(len(reverted_users))\n",
    "            \n",
    "is_self_revert_list = np.array(is_self_revert_list)\n",
    "is_multiuser_revert_list = np.array(is_multiuser_revert_list)\n",
    "unique_reverted_user_counts = np.array(unique_reverted_user_counts)\n",
    "no_reverting_user_count"
   ]
  },
  {
   "cell_type": "code",
   "execution_count": 137,
   "metadata": {},
   "outputs": [
    {
     "data": {
      "text/plain": [
       "(10359, 0.06890015164817623)"
      ]
     },
     "execution_count": 137,
     "metadata": {},
     "output_type": "execute_result"
    }
   ],
   "source": [
    "# 7% of reverts revert the users own work\n",
    "np.sum(is_self_revert_list), np.sum(is_self_revert_list) / len(is_self_revert_list)"
   ]
  },
  {
   "cell_type": "code",
   "execution_count": 146,
   "metadata": {},
   "outputs": [
    {
     "data": {
      "text/plain": [
       "0.05884348311916354"
      ]
     },
     "execution_count": 146,
     "metadata": {},
     "output_type": "execute_result"
    }
   ],
   "source": [
    "# 6% of reverts have multiple reverted users\n",
    "np.sum(is_multiuser_revert_list) / len(is_multiuser_revert_list)"
   ]
  },
  {
   "cell_type": "code",
   "execution_count": 139,
   "metadata": {},
   "outputs": [
    {
     "data": {
      "text/plain": [
       "0.2803210127726913"
      ]
     },
     "execution_count": 139,
     "metadata": {},
     "output_type": "execute_result"
    }
   ],
   "source": [
    "# 28% of multi-user reverts involve the self\n",
    "np.sum(is_self_revert_list&is_multiuser_revert_list) / np.sum(is_multiuser_revert_list)"
   ]
  },
  {
   "cell_type": "code",
   "execution_count": 145,
   "metadata": {},
   "outputs": [
    {
     "data": {
      "image/png": "[encoded data removed]",
      "text/plain": [
       "<Figure size 432x288 with 1 Axes>"
      ]
     },
     "metadata": {
      "needs_background": "light"
     },
     "output_type": "display_data"
    }
   ],
   "source": [
    "plt.hist(unique_reverted_user_counts, bins=range(0, 20), log=True)\n",
    "plt.xticks(range(0, 21))\n",
    "plt.title(\"Distribution of reverts by number of reverted users\")\n",
    "plt.xlabel(\"Number of unique users in revert\")\n",
    "plt.ylabel(\"Revert count\")\n",
    "plt.show()"
   ]
  },
  {
   "cell_type": "code",
   "execution_count": null,
   "metadata": {},
   "outputs": [],
   "source": []
  },
  {
   "cell_type": "code",
   "execution_count": null,
   "metadata": {},
   "outputs": [],
   "source": []
  },
  {
   "cell_type": "markdown",
   "metadata": {},
   "source": [
    "### Examination of the edit distance of reverts\n",
    "\n",
    "And the correlation between edit distance and speed of revert"
   ]
  },
  {
   "cell_type": "code",
   "execution_count": null,
   "metadata": {},
   "outputs": [],
   "source": []
  },
  {
   "cell_type": "code",
   "execution_count": null,
   "metadata": {},
   "outputs": [],
   "source": []
  },
  {
   "cell_type": "code",
   "execution_count": null,
   "metadata": {},
   "outputs": [],
   "source": []
  },
  {
   "cell_type": "code",
   "execution_count": null,
   "metadata": {},
   "outputs": [],
   "source": []
  },
  {
   "cell_type": "markdown",
   "metadata": {},
   "source": [
    "### Test extraction of revision info from dump file"
   ]
  },
  {
   "cell_type": "code",
   "execution_count": 33,
   "metadata": {
    "scrolled": false
   },
   "outputs": [
    {
     "name": "stdout",
     "output_type": "stream",
     "text": [
      "dict_keys(['id', 'timestamp', 'user', 'page', 'minor', 'comment', 'text', 'sha1', 'parent_id', 'model', 'format', 'deleted'])\n",
      "id ::: 920223784\n",
      "timestamp ::: 2019-10-08T11:27:20Z\n",
      "user ::: {'id': 23085006, 'text': 'Rubbish computer'}\n",
      "page ::: {'id': 12, 'title': 'Anarchism', 'namespace': 0, 'restrictions': []}\n",
      "minor ::: True\n",
      "comment ::: Reverted edits by [[Special:Contributions/194.168.162.21|194.168.162.21]] ([[User talk:194.168.162.21|talk]]): [[WP:SANDBOX|editing tests]] ([[WP:HG|HG]]) (3.4.9)\n",
      "sha1 ::: owe1w0l4rmdrhp2w7cji3zazxklru08\n",
      "parent_id ::: 920223323\n",
      "model ::: wikitext\n",
      "format ::: text/x-wiki\n",
      "deleted ::: {'text': False, 'comment': False, 'user': False}\n",
      "\n",
      "dict_keys(['id', 'timestamp', 'user', 'page', 'minor', 'comment', 'text', 'sha1', 'parent_id', 'model', 'format', 'deleted'])\n",
      "id ::: 922132190\n",
      "timestamp ::: 2019-10-20T04:34:06Z\n",
      "user ::: {'id': 3810835, 'text': 'Doc James'}\n",
      "page ::: {'id': 25, 'title': 'Autism', 'namespace': 0, 'restrictions': []}\n",
      "minor ::: False\n",
      "comment ::: not a complication\n",
      "sha1 ::: tdkjcbu5xkchavz5qn3y7ms6hduzf5n\n",
      "parent_id ::: 921970299\n",
      "model ::: wikitext\n",
      "format ::: text/x-wiki\n",
      "deleted ::: {'text': False, 'comment': False, 'user': False}\n",
      "\n",
      "dict_keys(['id', 'timestamp', 'user', 'page', 'minor', 'comment', 'text', 'sha1', 'parent_id', 'model', 'format', 'deleted'])\n",
      "id ::: 920410295\n",
      "timestamp ::: 2019-10-09T16:29:40Z\n",
      "user ::: {'id': 2900194, 'text': 'IceDragon64'}\n",
      "page ::: {'id': 39, 'title': 'Albedo', 'namespace': 0, 'restrictions': []}\n",
      "minor ::: False\n",
      "comment ::: Plainer language\n",
      "sha1 ::: mkjdjfhn013z2luh00dp7ktwql05ht2\n",
      "parent_id ::: 920409640\n",
      "model ::: wikitext\n",
      "format ::: text/x-wiki\n",
      "deleted ::: {'text': False, 'comment': False, 'user': False}\n",
      "\n",
      "dict_keys(['id', 'timestamp', 'user', 'page', 'minor', 'text', 'sha1', 'parent_id', 'model', 'format', 'deleted'])\n",
      "id ::: 921981703\n",
      "timestamp ::: 2019-10-19T03:24:28Z\n",
      "user ::: {'id': 36653647, 'text': 'FIGHTERSOVIET wpedia'}\n",
      "page ::: {'id': 290, 'title': 'A', 'namespace': 0, 'restrictions': []}\n",
      "minor ::: False\n",
      "sha1 ::: 3588226a4uamxvungkhjfhoa214apm0\n",
      "parent_id ::: 921686614\n",
      "model ::: wikitext\n",
      "format ::: text/x-wiki\n",
      "deleted ::: {'text': False, 'comment': False, 'user': False}\n",
      "\n",
      "dict_keys(['id', 'timestamp', 'user', 'page', 'minor', 'comment', 'text', 'sha1', 'parent_id', 'model', 'format', 'deleted'])\n",
      "id ::: 921775959\n",
      "timestamp ::: 2019-10-17T20:31:00Z\n",
      "user ::: {'id': 1216158, 'text': 'Fnlayson'}\n",
      "page ::: {'id': 303, 'title': 'Alabama', 'namespace': 0, 'restrictions': []}\n",
      "minor ::: False\n",
      "comment ::: Partial revert unexplained/unclear removal by [[Special:Contributions/Freekhou5|Freekhou5]] ([[User talk:Freekhou5|talk]])\n",
      "sha1 ::: s12oa7ji3sjxzmw5292romuu7cqtll1\n",
      "parent_id ::: 921768840\n",
      "model ::: wikitext\n",
      "format ::: text/x-wiki\n",
      "deleted ::: {'text': False, 'comment': False, 'user': False}\n",
      "\n",
      "dict_keys(['id', 'timestamp', 'user', 'page', 'minor', 'comment', 'text', 'sha1', 'parent_id', 'model', 'format', 'deleted'])\n",
      "id ::: 922032316\n",
      "timestamp ::: 2019-10-19T13:38:51Z\n",
      "user ::: {'id': 3022076, 'text': 'Deor'}\n",
      "page ::: {'id': 305, 'title': 'Achilles', 'namespace': 0, 'restrictions': []}\n",
      "minor ::: False\n",
      "comment ::: Undid revision 922025590 by [[Special:Contributions/77.96.81.73|77.96.81.73]] ([[User talk:77.96.81.73|talk]])\n",
      "sha1 ::: d7wnqjgfte4rvbmu974nm2kzmifig3s\n",
      "parent_id ::: 922025590\n",
      "model ::: wikitext\n",
      "format ::: text/x-wiki\n",
      "deleted ::: {'text': False, 'comment': False, 'user': False}\n",
      "\n",
      "dict_keys(['id', 'timestamp', 'user', 'page', 'minor', 'comment', 'text', 'sha1', 'parent_id', 'model', 'format', 'deleted'])\n",
      "id ::: 920869100\n",
      "timestamp ::: 2019-10-12T12:05:47Z\n",
      "user ::: {'id': 17631563, 'text': 'Rupert loup'}\n",
      "page ::: {'id': 307, 'title': 'Abraham Lincoln', 'namespace': 0, 'restrictions': []}\n",
      "minor ::: False\n",
      "comment ::: added [[Category:American abolitionists]] using [[WP:HC|HotCat]]\n",
      "sha1 ::: 15eubdfyzgpm8g9c0j7ydvma4izb2q8\n",
      "parent_id ::: 920484464\n",
      "model ::: wikitext\n",
      "format ::: text/x-wiki\n",
      "deleted ::: {'text': False, 'comment': False, 'user': False}\n",
      "\n",
      "dict_keys(['id', 'timestamp', 'user', 'page', 'minor', 'comment', 'text', 'sha1', 'parent_id', 'model', 'format', 'deleted'])\n",
      "id ::: 922143569\n",
      "timestamp ::: 2019-10-20T06:51:07Z\n",
      "user ::: {'id': 12414093, 'text': 'Jkellner6504'}\n",
      "page ::: {'id': 308, 'title': 'Aristotle', 'namespace': 0, 'restrictions': []}\n",
      "minor ::: True\n",
      "comment ::: /* Economics */\n",
      "sha1 ::: lw7ciaxepiig4aejvd4qgmplqbcxn9l\n",
      "parent_id ::: 919870771\n",
      "model ::: wikitext\n",
      "format ::: text/x-wiki\n",
      "deleted ::: {'text': False, 'comment': False, 'user': False}\n",
      "\n",
      "dict_keys(['id', 'timestamp', 'user', 'page', 'minor', 'comment', 'text', 'sha1', 'parent_id', 'model', 'format', 'deleted'])\n",
      "id ::: 918607053\n",
      "timestamp ::: 2019-09-29T14:33:28Z\n",
      "user ::: {'id': 800198, 'text': 'Michael Bednarek'}\n",
      "page ::: {'id': 309, 'title': 'An American in Paris', 'namespace': 0, 'restrictions': []}\n",
      "minor ::: False\n",
      "comment ::: +wl [[Richard Freed]] & [[David Schiff]] & [[Edward Jablonski]] & [[Howard Pollack]].\n",
      "sha1 ::: qogfneo0ciuy81cugc1hjl5u0baizuk\n",
      "parent_id ::: 915182776\n",
      "model ::: wikitext\n",
      "format ::: text/x-wiki\n",
      "deleted ::: {'text': False, 'comment': False, 'user': False}\n",
      "\n",
      "dict_keys(['id', 'timestamp', 'user', 'page', 'minor', 'comment', 'text', 'sha1', 'parent_id', 'model', 'format', 'deleted'])\n",
      "id ::: 919574150\n",
      "timestamp ::: 2019-10-04T13:14:53Z\n",
      "user ::: {'id': 35567013, 'text': 'TMProofreader'}\n",
      "page ::: {'id': 316, 'title': 'Academy Award for Best Production Design', 'namespace': 0, 'restrictions': []}\n",
      "minor ::: True\n",
      "comment ::: /* 1960s */\n",
      "sha1 ::: gxuk5aayo1tv17wmc6gmnvhbg9nlemv\n",
      "parent_id ::: 915948829\n",
      "model ::: wikitext\n",
      "format ::: text/x-wiki\n",
      "deleted ::: {'text': False, 'comment': False, 'user': False}\n",
      "\n",
      "dict_keys(['id', 'timestamp', 'user', 'page', 'minor', 'comment', 'text', 'sha1', 'parent_id', 'model', 'format', 'deleted'])\n",
      "id ::: 921908481\n",
      "timestamp ::: 2019-10-18T17:57:03Z\n",
      "user ::: {'id': 412108, 'text': 'KNHaw'}\n",
      "page ::: {'id': 324, 'title': 'Academy Awards', 'namespace': 0, 'restrictions': []}\n",
      "minor ::: True\n",
      "comment ::: Reverted 1 edit by [[Special:Contributions/Eloscra|Eloscra]] ([[User talk:Eloscra|talk]]) to last revision by 95.252.174.148 ([[WP:TW|TW]])\n",
      "sha1 ::: o7352jgd867b2hknc895r0s10mnfmhz\n",
      "parent_id ::: 921908075\n",
      "model ::: wikitext\n",
      "format ::: text/x-wiki\n",
      "deleted ::: {'text': False, 'comment': False, 'user': False}\n",
      "\n"
     ]
    }
   ],
   "source": [
    "page_rev_doc_counts = []\n",
    "dump = mwxml.Dump.from_file(bz2.open(dump_filepath, 'rt'))\n",
    "c = 0\n",
    "for page in dump:\n",
    "    if page.namespace == 0 and page.redirect is None:\n",
    "        c+=1\n",
    "        revs = [rev for rev in page]\n",
    "        assert len(revs) == 1\n",
    "        rev = revs[-1]\n",
    "        rev_json = rev.to_json()\n",
    "        print(rev_json.keys())\n",
    "        for key in rev_json.keys():\n",
    "            if key == 'text':\n",
    "                continue\n",
    "            print(key, \":::\", rev_json[key])\n",
    "        print()\n",
    "    if c > 3:\n",
    "        break"
   ]
  },
  {
   "cell_type": "code",
   "execution_count": null,
   "metadata": {},
   "outputs": [],
   "source": []
  }
 ],
 "metadata": {
  "kernelspec": {
   "display_name": "Flagon Python3",
   "language": "python",
   "name": "flagon-conda-env"
  },
  "language_info": {
   "codemirror_mode": {
    "name": "ipython",
    "version": 3
   },
   "file_extension": ".py",
   "mimetype": "text/x-python",
   "name": "python",
   "nbconvert_exporter": "python",
   "pygments_lexer": "ipython3",
   "version": "3.7.6"
  }
 },
 "nbformat": 4,
 "nbformat_minor": 4
}
