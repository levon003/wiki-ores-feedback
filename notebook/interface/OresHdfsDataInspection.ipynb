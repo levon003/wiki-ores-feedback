{
 "cells": [
  {
   "cell_type": "markdown",
   "id": "polar-ukraine",
   "metadata": {},
   "source": [
    "ORES HDFS Data Inspection\n",
    "===\n",
    "\n",
    "See https://phabricator.wikimedia.org/T277609\n"
   ]
  },
  {
   "cell_type": "code",
   "execution_count": 2,
   "id": "bright-jungle",
   "metadata": {},
   "outputs": [],
   "source": [
    "import numpy as np\n",
    "import pandas as pd\n",
    "import matplotlib.pyplot as plt"
   ]
  },
  {
   "cell_type": "code",
   "execution_count": 3,
   "id": "boolean-component",
   "metadata": {},
   "outputs": [],
   "source": [
    "import os\n",
    "import json\n",
    "from datetime import datetime\n",
    "import dateutil\n",
    "import pytz\n",
    "from tqdm import tqdm"
   ]
  },
  {
   "cell_type": "code",
   "execution_count": 4,
   "id": "figured-tennis",
   "metadata": {},
   "outputs": [],
   "source": [
    "ores_preds_2019_filepath = \"/export/scratch2/levon003/repos/wiki-ores-feedback/data/raw/editquality/hdfs/ores_scores_damaging-goodfaith_enwiki_2019_01-12.json\"\n",
    "TRUSTED_GROUPS = ['sysops','oversight','bot','rollbacker','checkuser','abusefilter','bureaucrat']"
   ]
  },
  {
   "cell_type": "code",
   "execution_count": 5,
   "id": "cosmetic-exercise",
   "metadata": {},
   "outputs": [
    {
     "data": {
      "text/plain": [
       "(datetime.datetime(2019, 12, 31, 23, 59, 59, tzinfo=tzutc()),\n",
       " 1577836799.0,\n",
       " 1577858399)"
      ]
     },
     "execution_count": 5,
     "metadata": {},
     "output_type": "execute_result"
    }
   ],
   "source": [
    "iso_string = \"2019-12-31T23:59:59Z\"\n",
    "dt = dateutil.parser.isoparse(iso_string)\n",
    "dt, dt.timestamp(), int(datetime.strptime(iso_string, \"%Y-%m-%dT%H:%M:%SZ\").timestamp())"
   ]
  },
  {
   "cell_type": "code",
   "execution_count": 19,
   "id": "settled-studio",
   "metadata": {},
   "outputs": [
    {
     "name": "stderr",
     "output_type": "stream",
     "text": [
      "100%|██████████| 54683129/54683129 [1:04:30<00:00, 14128.64it/s]\n"
     ]
    }
   ],
   "source": [
    "missing_registration_date_count = 0\n",
    "with open(ores_preds_2019_filepath, 'r') as infile:\n",
    "    lines = []\n",
    "    for line in tqdm(infile, total=54683129):\n",
    "        op = json.loads(line)\n",
    "        rev_id = op['rev_id']\n",
    "        pred_timestamp = dateutil.parser.isoparse(op['pred_dt']).timestamp()\n",
    "\n",
    "        user = op['performer']\n",
    "        user_text = user['user_text']\n",
    "        user_is_bot = user['user_is_bot']\n",
    "        user_id = user['user_id'] if 'user_id' in user else None\n",
    "        user_groups = set(user['user_groups'])\n",
    "        if user_id:\n",
    "            user_is_trusted = np.any([group in TRUSTED_GROUPS for group in user_groups])\n",
    "            user_edit_count = user['user_edit_count']\n",
    "            if 'user_registration_dt' not in user:\n",
    "                missing_registration_date_count += 1\n",
    "            #else:\n",
    "                #user_registration_timestamp = dateutil.parser.isoparse(user['user_registration_dt']).timestamp()\n",
    "        else:\n",
    "            user_is_trusted = False\n",
    "            user_edit_count = 0\n",
    "\n",
    "\n",
    "        dinfo = op['damaging_info']\n",
    "        model_version = dinfo['model_version']\n",
    "        damaging_pred = dinfo['probability']['true']\n",
    "\n",
    "        gfinfo = op['goodfaith_info']\n",
    "        #assert gfinfo['model_version'] == model_version\n",
    "        goodfaith_pred = dinfo['probability']['true']\n",
    "\n",
    "        lines.append({\n",
    "            'rev_id': rev_id,\n",
    "            'pred_timestamp': pred_timestamp,\n",
    "            'user_text': user_text,\n",
    "            'user_is_bot': user_is_bot,\n",
    "            'user_is_trusted': user_is_trusted,\n",
    "            'user_edit_count': user_edit_count,\n",
    "            'model_version': model_version,\n",
    "            'damaging_pred': damaging_pred,\n",
    "            'goodfaith_pred': goodfaith_pred,\n",
    "        })"
   ]
  },
  {
   "cell_type": "code",
   "execution_count": 20,
   "id": "second-bristol",
   "metadata": {},
   "outputs": [
    {
     "data": {
      "text/plain": [
       "(54683129, datetime.timedelta(seconds=165, microseconds=48004))"
      ]
     },
     "execution_count": 20,
     "metadata": {},
     "output_type": "execute_result"
    }
   ],
   "source": [
    "s = datetime.now()\n",
    "df = pd.DataFrame(lines)\n",
    "len(df), datetime.now() - s"
   ]
  },
  {
   "cell_type": "code",
   "execution_count": 21,
   "id": "desirable-speed",
   "metadata": {},
   "outputs": [
    {
     "data": {
      "text/html": [
       "<div>\n",
       "<style scoped>\n",
       "    .dataframe tbody tr th:only-of-type {\n",
       "        vertical-align: middle;\n",
       "    }\n",
       "\n",
       "    .dataframe tbody tr th {\n",
       "        vertical-align: top;\n",
       "    }\n",
       "\n",
       "    .dataframe thead th {\n",
       "        text-align: right;\n",
       "    }\n",
       "</style>\n",
       "<table border=\"1\" class=\"dataframe\">\n",
       "  <thead>\n",
       "    <tr style=\"text-align: right;\">\n",
       "      <th></th>\n",
       "      <th>rev_id</th>\n",
       "      <th>pred_timestamp</th>\n",
       "      <th>user_text</th>\n",
       "      <th>user_is_bot</th>\n",
       "      <th>user_is_trusted</th>\n",
       "      <th>user_edit_count</th>\n",
       "      <th>model_version</th>\n",
       "      <th>damaging_pred</th>\n",
       "      <th>goodfaith_pred</th>\n",
       "    </tr>\n",
       "  </thead>\n",
       "  <tbody>\n",
       "    <tr>\n",
       "      <th>0</th>\n",
       "      <td>876227280</td>\n",
       "      <td>1.546301e+09</td>\n",
       "      <td>InternetArchiveBot</td>\n",
       "      <td>True</td>\n",
       "      <td>True</td>\n",
       "      <td>3109800</td>\n",
       "      <td>0.4.0</td>\n",
       "      <td>0.005061</td>\n",
       "      <td>0.005061</td>\n",
       "    </tr>\n",
       "    <tr>\n",
       "      <th>1</th>\n",
       "      <td>876227282</td>\n",
       "      <td>1.546301e+09</td>\n",
       "      <td>DynamoDegsy</td>\n",
       "      <td>False</td>\n",
       "      <td>False</td>\n",
       "      <td>158278</td>\n",
       "      <td>0.4.0</td>\n",
       "      <td>0.011485</td>\n",
       "      <td>0.011485</td>\n",
       "    </tr>\n",
       "    <tr>\n",
       "      <th>2</th>\n",
       "      <td>876227283</td>\n",
       "      <td>1.546301e+09</td>\n",
       "      <td>TerribleTy2727</td>\n",
       "      <td>False</td>\n",
       "      <td>False</td>\n",
       "      <td>46</td>\n",
       "      <td>0.4.0</td>\n",
       "      <td>0.221970</td>\n",
       "      <td>0.221970</td>\n",
       "    </tr>\n",
       "    <tr>\n",
       "      <th>3</th>\n",
       "      <td>876227281</td>\n",
       "      <td>1.546301e+09</td>\n",
       "      <td>175.36.4.199</td>\n",
       "      <td>False</td>\n",
       "      <td>False</td>\n",
       "      <td>0</td>\n",
       "      <td>0.4.0</td>\n",
       "      <td>0.265990</td>\n",
       "      <td>0.265990</td>\n",
       "    </tr>\n",
       "    <tr>\n",
       "      <th>4</th>\n",
       "      <td>876227286</td>\n",
       "      <td>1.546301e+09</td>\n",
       "      <td>InceptionBot</td>\n",
       "      <td>True</td>\n",
       "      <td>True</td>\n",
       "      <td>1156474</td>\n",
       "      <td>0.4.0</td>\n",
       "      <td>0.005774</td>\n",
       "      <td>0.005774</td>\n",
       "    </tr>\n",
       "  </tbody>\n",
       "</table>\n",
       "</div>"
      ],
      "text/plain": [
       "      rev_id  pred_timestamp           user_text  user_is_bot  \\\n",
       "0  876227280    1.546301e+09  InternetArchiveBot         True   \n",
       "1  876227282    1.546301e+09         DynamoDegsy        False   \n",
       "2  876227283    1.546301e+09      TerribleTy2727        False   \n",
       "3  876227281    1.546301e+09        175.36.4.199        False   \n",
       "4  876227286    1.546301e+09        InceptionBot         True   \n",
       "\n",
       "   user_is_trusted  user_edit_count model_version  damaging_pred  \\\n",
       "0             True          3109800         0.4.0       0.005061   \n",
       "1            False           158278         0.4.0       0.011485   \n",
       "2            False               46         0.4.0       0.221970   \n",
       "3            False                0         0.4.0       0.265990   \n",
       "4             True          1156474         0.4.0       0.005774   \n",
       "\n",
       "   goodfaith_pred  \n",
       "0        0.005061  \n",
       "1        0.011485  \n",
       "2        0.221970  \n",
       "3        0.265990  \n",
       "4        0.005774  "
      ]
     },
     "execution_count": 21,
     "metadata": {},
     "output_type": "execute_result"
    }
   ],
   "source": [
    "df.head()"
   ]
  },
  {
   "cell_type": "code",
   "execution_count": 22,
   "id": "union-sheet",
   "metadata": {},
   "outputs": [
    {
     "data": {
      "text/plain": [
       "0.5.0    53626234\n",
       "0.4.0     1056895\n",
       "Name: model_version, dtype: int64"
      ]
     },
     "execution_count": 22,
     "metadata": {},
     "output_type": "execute_result"
    }
   ],
   "source": [
    "df.model_version.value_counts()"
   ]
  },
  {
   "cell_type": "code",
   "execution_count": 24,
   "id": "alternate-convert",
   "metadata": {},
   "outputs": [
    {
     "name": "stdout",
     "output_type": "stream",
     "text": [
      "Finished saving to feather in 0:00:16.917394.\n"
     ]
    }
   ],
   "source": [
    "oidb_dir = \"/export/scratch2/levon003/repos/wiki-ores-feedback/data/derived/stub-history-all-revisions/oidb\"\n",
    "s = datetime.now()\n",
    "df.to_feather(os.path.join(oidb_dir, 'ores_2019.feather'))\n",
    "print(f\"Finished saving to feather in {datetime.now() - s}.\")"
   ]
  },
  {
   "cell_type": "code",
   "execution_count": 28,
   "id": "endangered-imaging",
   "metadata": {},
   "outputs": [],
   "source": [
    "# free up some memory\n",
    "del lines"
   ]
  },
  {
   "cell_type": "code",
   "execution_count": 6,
   "id": "british-meter",
   "metadata": {},
   "outputs": [
    {
     "name": "stdout",
     "output_type": "stream",
     "text": [
      "Loaded 54683129 rows from feather in 0:00:16.972204.\n"
     ]
    },
    {
     "data": {
      "text/html": [
       "<div>\n",
       "<style scoped>\n",
       "    .dataframe tbody tr th:only-of-type {\n",
       "        vertical-align: middle;\n",
       "    }\n",
       "\n",
       "    .dataframe tbody tr th {\n",
       "        vertical-align: top;\n",
       "    }\n",
       "\n",
       "    .dataframe thead th {\n",
       "        text-align: right;\n",
       "    }\n",
       "</style>\n",
       "<table border=\"1\" class=\"dataframe\">\n",
       "  <thead>\n",
       "    <tr style=\"text-align: right;\">\n",
       "      <th></th>\n",
       "      <th>rev_id</th>\n",
       "      <th>pred_timestamp</th>\n",
       "      <th>user_text</th>\n",
       "      <th>user_is_bot</th>\n",
       "      <th>user_is_trusted</th>\n",
       "      <th>user_edit_count</th>\n",
       "      <th>model_version</th>\n",
       "      <th>damaging_pred</th>\n",
       "      <th>goodfaith_pred</th>\n",
       "    </tr>\n",
       "  </thead>\n",
       "  <tbody>\n",
       "    <tr>\n",
       "      <th>0</th>\n",
       "      <td>876227280</td>\n",
       "      <td>1.546301e+09</td>\n",
       "      <td>InternetArchiveBot</td>\n",
       "      <td>True</td>\n",
       "      <td>True</td>\n",
       "      <td>3109800</td>\n",
       "      <td>0.4.0</td>\n",
       "      <td>0.005061</td>\n",
       "      <td>0.005061</td>\n",
       "    </tr>\n",
       "    <tr>\n",
       "      <th>1</th>\n",
       "      <td>876227282</td>\n",
       "      <td>1.546301e+09</td>\n",
       "      <td>DynamoDegsy</td>\n",
       "      <td>False</td>\n",
       "      <td>False</td>\n",
       "      <td>158278</td>\n",
       "      <td>0.4.0</td>\n",
       "      <td>0.011485</td>\n",
       "      <td>0.011485</td>\n",
       "    </tr>\n",
       "    <tr>\n",
       "      <th>2</th>\n",
       "      <td>876227283</td>\n",
       "      <td>1.546301e+09</td>\n",
       "      <td>TerribleTy2727</td>\n",
       "      <td>False</td>\n",
       "      <td>False</td>\n",
       "      <td>46</td>\n",
       "      <td>0.4.0</td>\n",
       "      <td>0.221970</td>\n",
       "      <td>0.221970</td>\n",
       "    </tr>\n",
       "    <tr>\n",
       "      <th>3</th>\n",
       "      <td>876227281</td>\n",
       "      <td>1.546301e+09</td>\n",
       "      <td>175.36.4.199</td>\n",
       "      <td>False</td>\n",
       "      <td>False</td>\n",
       "      <td>0</td>\n",
       "      <td>0.4.0</td>\n",
       "      <td>0.265990</td>\n",
       "      <td>0.265990</td>\n",
       "    </tr>\n",
       "    <tr>\n",
       "      <th>4</th>\n",
       "      <td>876227286</td>\n",
       "      <td>1.546301e+09</td>\n",
       "      <td>InceptionBot</td>\n",
       "      <td>True</td>\n",
       "      <td>True</td>\n",
       "      <td>1156474</td>\n",
       "      <td>0.4.0</td>\n",
       "      <td>0.005774</td>\n",
       "      <td>0.005774</td>\n",
       "    </tr>\n",
       "  </tbody>\n",
       "</table>\n",
       "</div>"
      ],
      "text/plain": [
       "      rev_id  pred_timestamp           user_text  user_is_bot  \\\n",
       "0  876227280    1.546301e+09  InternetArchiveBot         True   \n",
       "1  876227282    1.546301e+09         DynamoDegsy        False   \n",
       "2  876227283    1.546301e+09      TerribleTy2727        False   \n",
       "3  876227281    1.546301e+09        175.36.4.199        False   \n",
       "4  876227286    1.546301e+09        InceptionBot         True   \n",
       "\n",
       "   user_is_trusted  user_edit_count model_version  damaging_pred  \\\n",
       "0             True          3109800         0.4.0       0.005061   \n",
       "1            False           158278         0.4.0       0.011485   \n",
       "2            False               46         0.4.0       0.221970   \n",
       "3            False                0         0.4.0       0.265990   \n",
       "4             True          1156474         0.4.0       0.005774   \n",
       "\n",
       "   goodfaith_pred  \n",
       "0        0.005061  \n",
       "1        0.011485  \n",
       "2        0.221970  \n",
       "3        0.265990  \n",
       "4        0.005774  "
      ]
     },
     "execution_count": 6,
     "metadata": {},
     "output_type": "execute_result"
    }
   ],
   "source": [
    "# read in the ores predictions\n",
    "oidb_dir = \"/export/scratch2/levon003/repos/wiki-ores-feedback/data/derived/stub-history-all-revisions/oidb\"\n",
    "s = datetime.now()\n",
    "ores_df = pd.read_feather(os.path.join(oidb_dir, 'ores_2019.feather'))\n",
    "print(f\"Loaded {len(ores_df)} rows from feather in {datetime.now() - s}.\")\n",
    "ores_df.head()"
   ]
  },
  {
   "cell_type": "code",
   "execution_count": 7,
   "id": "atmospheric-guinea",
   "metadata": {},
   "outputs": [
    {
     "data": {
      "text/html": [
       "<div>\n",
       "<style scoped>\n",
       "    .dataframe tbody tr th:only-of-type {\n",
       "        vertical-align: middle;\n",
       "    }\n",
       "\n",
       "    .dataframe tbody tr th {\n",
       "        vertical-align: top;\n",
       "    }\n",
       "\n",
       "    .dataframe thead th {\n",
       "        text-align: right;\n",
       "    }\n",
       "</style>\n",
       "<table border=\"1\" class=\"dataframe\">\n",
       "  <thead>\n",
       "    <tr style=\"text-align: right;\">\n",
       "      <th></th>\n",
       "      <th>rev_id</th>\n",
       "      <th>pred_timestamp</th>\n",
       "      <th>user_text</th>\n",
       "      <th>user_is_bot</th>\n",
       "      <th>user_is_trusted</th>\n",
       "      <th>user_edit_count</th>\n",
       "      <th>model_version</th>\n",
       "      <th>damaging_pred</th>\n",
       "      <th>goodfaith_pred</th>\n",
       "    </tr>\n",
       "  </thead>\n",
       "  <tbody>\n",
       "    <tr>\n",
       "      <th>35246567</th>\n",
       "      <td>913054647</td>\n",
       "      <td>1.567094e+09</td>\n",
       "      <td>2.247.249.186</td>\n",
       "      <td>False</td>\n",
       "      <td>False</td>\n",
       "      <td>0</td>\n",
       "      <td>0.5.0</td>\n",
       "      <td>0.239383</td>\n",
       "      <td>0.239383</td>\n",
       "    </tr>\n",
       "    <tr>\n",
       "      <th>28216418</th>\n",
       "      <td>905034672</td>\n",
       "      <td>1.562411e+09</td>\n",
       "      <td>Beevest</td>\n",
       "      <td>False</td>\n",
       "      <td>False</td>\n",
       "      <td>51</td>\n",
       "      <td>0.5.0</td>\n",
       "      <td>0.440418</td>\n",
       "      <td>0.440418</td>\n",
       "    </tr>\n",
       "    <tr>\n",
       "      <th>1594552</th>\n",
       "      <td>877850814</td>\n",
       "      <td>1.547195e+09</td>\n",
       "      <td>24.23.186.89</td>\n",
       "      <td>False</td>\n",
       "      <td>False</td>\n",
       "      <td>0</td>\n",
       "      <td>0.5.0</td>\n",
       "      <td>0.158283</td>\n",
       "      <td>0.158283</td>\n",
       "    </tr>\n",
       "    <tr>\n",
       "      <th>38944150</th>\n",
       "      <td>916810976</td>\n",
       "      <td>1.569007e+09</td>\n",
       "      <td>Zigzig20s</td>\n",
       "      <td>False</td>\n",
       "      <td>False</td>\n",
       "      <td>178104</td>\n",
       "      <td>0.5.0</td>\n",
       "      <td>0.004293</td>\n",
       "      <td>0.004293</td>\n",
       "    </tr>\n",
       "    <tr>\n",
       "      <th>3500069</th>\n",
       "      <td>879786362</td>\n",
       "      <td>1.548242e+09</td>\n",
       "      <td>Diannaa</td>\n",
       "      <td>False</td>\n",
       "      <td>False</td>\n",
       "      <td>245323</td>\n",
       "      <td>0.5.0</td>\n",
       "      <td>0.004084</td>\n",
       "      <td>0.004084</td>\n",
       "    </tr>\n",
       "    <tr>\n",
       "      <th>53043954</th>\n",
       "      <td>931773050</td>\n",
       "      <td>1.576898e+09</td>\n",
       "      <td>Apollinaire93</td>\n",
       "      <td>False</td>\n",
       "      <td>False</td>\n",
       "      <td>266</td>\n",
       "      <td>0.5.0</td>\n",
       "      <td>0.056603</td>\n",
       "      <td>0.056603</td>\n",
       "    </tr>\n",
       "    <tr>\n",
       "      <th>33291569</th>\n",
       "      <td>911057691</td>\n",
       "      <td>1.565944e+09</td>\n",
       "      <td>RichieBlondet</td>\n",
       "      <td>False</td>\n",
       "      <td>False</td>\n",
       "      <td>35</td>\n",
       "      <td>0.5.0</td>\n",
       "      <td>0.033426</td>\n",
       "      <td>0.033426</td>\n",
       "    </tr>\n",
       "    <tr>\n",
       "      <th>53144964</th>\n",
       "      <td>931875585</td>\n",
       "      <td>1.576964e+09</td>\n",
       "      <td>SchreiberBike</td>\n",
       "      <td>False</td>\n",
       "      <td>False</td>\n",
       "      <td>242221</td>\n",
       "      <td>0.5.0</td>\n",
       "      <td>0.005067</td>\n",
       "      <td>0.005067</td>\n",
       "    </tr>\n",
       "    <tr>\n",
       "      <th>42671571</th>\n",
       "      <td>921209481</td>\n",
       "      <td>1.571066e+09</td>\n",
       "      <td>Sagar The Editor</td>\n",
       "      <td>False</td>\n",
       "      <td>False</td>\n",
       "      <td>31</td>\n",
       "      <td>0.5.0</td>\n",
       "      <td>0.051141</td>\n",
       "      <td>0.051141</td>\n",
       "    </tr>\n",
       "    <tr>\n",
       "      <th>11189652</th>\n",
       "      <td>887635373</td>\n",
       "      <td>1.552514e+09</td>\n",
       "      <td>Mramoeba</td>\n",
       "      <td>False</td>\n",
       "      <td>False</td>\n",
       "      <td>3969</td>\n",
       "      <td>0.5.0</td>\n",
       "      <td>0.007930</td>\n",
       "      <td>0.007930</td>\n",
       "    </tr>\n",
       "  </tbody>\n",
       "</table>\n",
       "</div>"
      ],
      "text/plain": [
       "             rev_id  pred_timestamp         user_text  user_is_bot  \\\n",
       "35246567  913054647    1.567094e+09     2.247.249.186        False   \n",
       "28216418  905034672    1.562411e+09           Beevest        False   \n",
       "1594552   877850814    1.547195e+09      24.23.186.89        False   \n",
       "38944150  916810976    1.569007e+09         Zigzig20s        False   \n",
       "3500069   879786362    1.548242e+09           Diannaa        False   \n",
       "53043954  931773050    1.576898e+09     Apollinaire93        False   \n",
       "33291569  911057691    1.565944e+09     RichieBlondet        False   \n",
       "53144964  931875585    1.576964e+09     SchreiberBike        False   \n",
       "42671571  921209481    1.571066e+09  Sagar The Editor        False   \n",
       "11189652  887635373    1.552514e+09          Mramoeba        False   \n",
       "\n",
       "          user_is_trusted  user_edit_count model_version  damaging_pred  \\\n",
       "35246567            False                0         0.5.0       0.239383   \n",
       "28216418            False               51         0.5.0       0.440418   \n",
       "1594552             False                0         0.5.0       0.158283   \n",
       "38944150            False           178104         0.5.0       0.004293   \n",
       "3500069             False           245323         0.5.0       0.004084   \n",
       "53043954            False              266         0.5.0       0.056603   \n",
       "33291569            False               35         0.5.0       0.033426   \n",
       "53144964            False           242221         0.5.0       0.005067   \n",
       "42671571            False               31         0.5.0       0.051141   \n",
       "11189652            False             3969         0.5.0       0.007930   \n",
       "\n",
       "          goodfaith_pred  \n",
       "35246567        0.239383  \n",
       "28216418        0.440418  \n",
       "1594552         0.158283  \n",
       "38944150        0.004293  \n",
       "3500069         0.004084  \n",
       "53043954        0.056603  \n",
       "33291569        0.033426  \n",
       "53144964        0.005067  \n",
       "42671571        0.051141  \n",
       "11189652        0.007930  "
      ]
     },
     "execution_count": 7,
     "metadata": {},
     "output_type": "execute_result"
    }
   ],
   "source": [
    "ores_df.sample(n=10)"
   ]
  },
  {
   "cell_type": "code",
   "execution_count": 15,
   "id": "municipal-adolescent",
   "metadata": {},
   "outputs": [
    {
     "name": "stdout",
     "output_type": "stream",
     "text": [
      "Finished sort in 0:00:09.172891.\n"
     ]
    }
   ],
   "source": [
    "s = datetime.now()\n",
    "ores_df = ores_df.sort_values(by='pred_timestamp', ascending=True)\n",
    "print(f\"Finished sort in {datetime.now() - s}.\")"
   ]
  },
  {
   "cell_type": "code",
   "execution_count": 16,
   "id": "interstate-alarm",
   "metadata": {},
   "outputs": [
    {
     "name": "stdout",
     "output_type": "stream",
     "text": [
      "Identified 54681789 unique rev_ids of which 1277 are duplicated at least once. Done in 0:00:18.882783.\n"
     ]
    },
    {
     "data": {
      "text/plain": [
       "899529828    5\n",
       "920236003    4\n",
       "920235961    4\n",
       "920235996    4\n",
       "895233079    3\n",
       "920236002    3\n",
       "897298148    3\n",
       "924403009    3\n",
       "920236006    3\n",
       "920235990    3\n",
       "931428681    3\n",
       "899514155    3\n",
       "914334321    3\n",
       "916183612    3\n",
       "914334401    3\n",
       "924403016    3\n",
       "896140848    3\n",
       "920235992    3\n",
       "900656693    3\n",
       "919177360    3\n",
       "Name: rev_id, dtype: int64"
      ]
     },
     "execution_count": 16,
     "metadata": {},
     "output_type": "execute_result"
    }
   ],
   "source": [
    "# 1277 duplicate rev_ids\n",
    "s = datetime.now()\n",
    "rev_counts = ores_df.rev_id.value_counts()\n",
    "print(f\"Identified {len(rev_counts)} unique rev_ids of which {np.sum(rev_counts > 1)} are duplicated at least once. Done in {datetime.now() - s}.\")\n",
    "rev_counts[rev_counts > 1].head(20)"
   ]
  },
  {
   "cell_type": "code",
   "execution_count": null,
   "id": "identical-highway",
   "metadata": {},
   "outputs": [],
   "source": []
  },
  {
   "cell_type": "code",
   "execution_count": 8,
   "id": "described-prize",
   "metadata": {
    "tags": []
   },
   "outputs": [
    {
     "name": "stderr",
     "output_type": "stream",
     "text": [
      "100%|██████████| 54683129/54683129 [00:29<00:00, 1877645.94it/s]\n"
     ]
    },
    {
     "data": {
      "text/plain": [
       "54681789"
      ]
     },
     "execution_count": 8,
     "metadata": {},
     "output_type": "execute_result"
    }
   ],
   "source": [
    "rev_id_pred_timestamp_dict = {\n",
    "    rev_id: pred_timestamp\n",
    "    for rev_id, pred_timestamp in tqdm(zip(ores_df.rev_id, ores_df.pred_timestamp), total=len(ores_df))\n",
    "}\n",
    "len(rev_id_pred_timestamp_dict)"
   ]
  },
  {
   "cell_type": "code",
   "execution_count": 10,
   "id": "silent-chapter",
   "metadata": {
    "tags": []
   },
   "outputs": [
    {
     "name": "stderr",
     "output_type": "stream",
     "text": [
      "Reading revision data: 117579242it [07:15, 270151.42it/s]                               \n"
     ]
    },
    {
     "data": {
      "text/plain": [
       "(64785418, 117579242)"
      ]
     },
     "execution_count": 10,
     "metadata": {},
     "output_type": "execute_result"
    }
   ],
   "source": [
    "start_date = datetime.fromisoformat('2019-01-01').replace(tzinfo=pytz.UTC)  # start of 2019\n",
    "start_timestamp = int(start_date.timestamp())\n",
    "midpoint_date = datetime.fromisoformat('2020-01-01').replace(tzinfo=pytz.UTC)\n",
    "midpoint_timestamp = int(midpoint_date.timestamp())\n",
    "end_date = datetime.fromisoformat('2021-01-01').replace(tzinfo=pytz.UTC)\n",
    "end_timestamp = int(end_date.timestamp())\n",
    "with open(os.path.join(oidb_dir, 'revs.tsv'), 'r') as infile:\n",
    "    processed_count = 0\n",
    "    missing_rev_count = 0\n",
    "    missing_in_2019_count = 0\n",
    "    missing_rev_ids = set()\n",
    "    pred_delay_list = []\n",
    "    for line in tqdm(infile, total=117569278, desc='Reading revision data'):\n",
    "        processed_count += 1\n",
    "        tokens = line.strip().split('\\t')\n",
    "        assert len(tokens) == 20\n",
    "        rev_timestamp, page_id, rev_id, prev_rev_id, is_minor, user_text, user_id, seconds_to_prev, curr_bytes, delta_bytes, has_edit_summary, is_reverted, is_revert, is_reverted_to_by_other, is_self_reverted, is_self_revert, revert_target_id, revert_set_size, revert_id, seconds_to_revert = tokens\n",
    "        rev_id = int(rev_id)\n",
    "        rev_timestamp = int(rev_timestamp)\n",
    "        if rev_id not in rev_id_pred_timestamp_dict:\n",
    "            missing_rev_count += 1\n",
    "            if rev_timestamp >= start_timestamp and rev_timestamp <= midpoint_timestamp:\n",
    "                missing_in_2019_count += 1\n",
    "                missing_rev_ids.add(rev_id)\n",
    "        else:\n",
    "            pred_timestamp = rev_id_pred_timestamp_dict[rev_id]\n",
    "            pred_delay_list.append(pred_timestamp - int(rev_timestamp))\n",
    "missing_rev_count, processed_count"
   ]
  },
  {
   "cell_type": "code",
   "execution_count": 11,
   "id": "satellite-samba",
   "metadata": {},
   "outputs": [
    {
     "data": {
      "text/plain": [
       "0.5509936694437952"
      ]
     },
     "execution_count": 11,
     "metadata": {},
     "output_type": "execute_result"
    }
   ],
   "source": [
    "missing_rev_count / processed_count"
   ]
  },
  {
   "cell_type": "code",
   "execution_count": 14,
   "id": "paperback-eleven",
   "metadata": {},
   "outputs": [
    {
     "data": {
      "text/plain": [
       "(2336608, 0.019872623434670552)"
      ]
     },
     "execution_count": 14,
     "metadata": {},
     "output_type": "execute_result"
    }
   ],
   "source": [
    "# 2% of the missing revisions are from 2019.\n",
    "missing_in_2019_count, missing_in_2019_count / processed_count"
   ]
  },
  {
   "cell_type": "code",
   "execution_count": 17,
   "id": "fourth-action",
   "metadata": {},
   "outputs": [
    {
     "name": "stdout",
     "output_type": "stream",
     "text": [
      "Finished.\n"
     ]
    }
   ],
   "source": [
    "# save the missing revisions\n",
    "oidb_dir = \"/export/scratch2/levon003/repos/wiki-ores-feedback/data/derived/stub-history-all-revisions/oidb\"\n",
    "missing_rev_id_list = sorted(list(missing_rev_ids))\n",
    "with open(os.path.join(oidb_dir, 'rev_ids_missing_scores.txt'), 'w') as outfile:\n",
    "    for rev_id in missing_rev_id_list:\n",
    "        outfile.write(str(rev_id) + \"\\n\")\n",
    "print(\"Finished.\")"
   ]
  },
  {
   "cell_type": "code",
   "execution_count": 20,
   "id": "distinguished-canberra",
   "metadata": {},
   "outputs": [
    {
     "data": {
      "text/plain": [
       "933439940"
      ]
     },
     "execution_count": 20,
     "metadata": {},
     "output_type": "execute_result"
    }
   ],
   "source": [
    "list(rev_id_pred_timestamp_dict)[-1]"
   ]
  },
  {
   "cell_type": "code",
   "execution_count": 25,
   "id": "innovative-amateur",
   "metadata": {},
   "outputs": [
    {
     "data": {
      "text/plain": [
       "52793834"
      ]
     },
     "execution_count": 25,
     "metadata": {},
     "output_type": "execute_result"
    }
   ],
   "source": [
    "pred_delay_list = np.array(pred_delay_list)\n",
    "len(pred_delay_list)"
   ]
  },
  {
   "cell_type": "code",
   "execution_count": 33,
   "id": "constitutional-longitude",
   "metadata": {},
   "outputs": [],
   "source": [
    "pred_delay_list += 18000"
   ]
  },
  {
   "cell_type": "code",
   "execution_count": 34,
   "id": "retained-granny",
   "metadata": {},
   "outputs": [
    {
     "data": {
      "text/plain": [
       "(-3599.4960000514984,\n",
       " -3598.4749999046326,\n",
       " 2.4809999465942383,\n",
       " 80.54600992441713,\n",
       " 486387.1930000782)"
      ]
     },
     "execution_count": 34,
     "metadata": {},
     "output_type": "execute_result"
    }
   ],
   "source": [
    "np.min(pred_delay_list), \\\n",
    "np.quantile(pred_delay_list, 0.01), \\\n",
    "np.quantile(pred_delay_list, 0.5), \\\n",
    "np.quantile(pred_delay_list, 0.99),\\\n",
    "np.max(pred_delay_list)"
   ]
  },
  {
   "cell_type": "code",
   "execution_count": 35,
   "id": "drawn-thirty",
   "metadata": {},
   "outputs": [
    {
     "data": {
      "image/png": "[encoded data removed]",
      "text/plain": [
       "<Figure size 432x288 with 1 Axes>"
      ]
     },
     "metadata": {
      "needs_background": "light"
     },
     "output_type": "display_data"
    }
   ],
   "source": [
    "fig, ax = plt.subplots()\n",
    "\n",
    "bins= np.linspace(np.quantile(pred_delay_list, 0.01), np.quantile(pred_delay_list, 0.99), num=20)\n",
    "ax.hist(pred_delay_list, bins=bins, log=True)\n",
    "\n",
    "plt.show()"
   ]
  },
  {
   "cell_type": "code",
   "execution_count": null,
   "id": "neural-variation",
   "metadata": {},
   "outputs": [],
   "source": []
  },
  {
   "cell_type": "code",
   "execution_count": null,
   "id": "smaller-medicaid",
   "metadata": {},
   "outputs": [],
   "source": []
  }
 ],
 "metadata": {
  "kernelspec": {
   "display_name": "Flagon Python3",
   "language": "python",
   "name": "flagon-conda-env"
  },
  "language_info": {
   "codemirror_mode": {
    "name": "ipython",
    "version": 3
   },
   "file_extension": ".py",
   "mimetype": "text/x-python",
   "name": "python",
   "nbconvert_exporter": "python",
   "pygments_lexer": "ipython3",
   "version": "3.7.10"
  }
 },
 "nbformat": 4,
 "nbformat_minor": 5
}
