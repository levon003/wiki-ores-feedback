{
 "cells": [
  {
   "cell_type": "markdown",
   "id": "powered-diameter",
   "metadata": {},
   "source": [
    "ORES HDFS Data Inspection\n",
    "===\n",
    "\n",
    "See https://phabricator.wikimedia.org/T277609\n"
   ]
  },
  {
   "cell_type": "code",
   "execution_count": 1,
   "id": "piano-hardware",
   "metadata": {},
   "outputs": [],
   "source": [
    "import numpy as np\n",
    "import pandas as pd\n",
    "import matplotlib.pyplot as plt"
   ]
  },
  {
   "cell_type": "code",
   "execution_count": 2,
   "id": "placed-sunrise",
   "metadata": {},
   "outputs": [],
   "source": [
    "import os\n",
    "import json\n",
    "from datetime import datetime\n",
    "import dateutil\n",
    "import pytz\n",
    "from tqdm import tqdm"
   ]
  },
  {
   "cell_type": "code",
   "execution_count": 3,
   "id": "expensive-skiing",
   "metadata": {},
   "outputs": [],
   "source": [
    "ores_preds_2019_filepath = \"/export/scratch2/levon003/repos/wiki-ores-feedback/data/raw/editquality/hdfs/ores_scores_damaging-goodfaith_enwiki_2019_01-12.json\"\n",
    "TRUSTED_GROUPS = ['sysops','oversight','bot','rollbacker','checkuser','abusefilter','bureaucrat']"
   ]
  },
  {
   "cell_type": "code",
   "execution_count": 4,
   "id": "musical-geometry",
   "metadata": {},
   "outputs": [
    {
     "data": {
      "text/plain": [
       "(datetime.datetime(2019, 12, 31, 23, 59, 59, tzinfo=tzutc()),\n",
       " 1577836799.0,\n",
       " 1577858399)"
      ]
     },
     "execution_count": 4,
     "metadata": {},
     "output_type": "execute_result"
    }
   ],
   "source": [
    "iso_string = \"2019-12-31T23:59:59Z\"\n",
    "dt = dateutil.parser.isoparse(iso_string)\n",
    "dt, dt.timestamp(), int(datetime.strptime(iso_string, \"%Y-%m-%dT%H:%M:%SZ\").timestamp())"
   ]
  },
  {
   "cell_type": "code",
   "execution_count": 19,
   "id": "satisfactory-compilation",
   "metadata": {},
   "outputs": [
    {
     "name": "stderr",
     "output_type": "stream",
     "text": [
      "100%|██████████| 54683129/54683129 [1:04:30<00:00, 14128.64it/s]\n"
     ]
    }
   ],
   "source": [
    "missing_registration_date_count = 0\n",
    "with open(ores_preds_2019_filepath, 'r') as infile:\n",
    "    lines = []\n",
    "    for line in tqdm(infile, total=54683129):\n",
    "        op = json.loads(line)\n",
    "        rev_id = op['rev_id']\n",
    "        pred_timestamp = dateutil.parser.isoparse(op['pred_dt']).timestamp()\n",
    "\n",
    "        user = op['performer']\n",
    "        user_text = user['user_text']\n",
    "        user_is_bot = user['user_is_bot']\n",
    "        user_id = user['user_id'] if 'user_id' in user else None\n",
    "        user_groups = set(user['user_groups'])\n",
    "        if user_id:\n",
    "            user_is_trusted = np.any([group in TRUSTED_GROUPS for group in user_groups])\n",
    "            user_edit_count = user['user_edit_count']\n",
    "            if 'user_registration_dt' not in user:\n",
    "                missing_registration_date_count += 1\n",
    "            #else:\n",
    "                #user_registration_timestamp = dateutil.parser.isoparse(user['user_registration_dt']).timestamp()\n",
    "        else:\n",
    "            user_is_trusted = False\n",
    "            user_edit_count = 0\n",
    "\n",
    "\n",
    "        dinfo = op['damaging_info']\n",
    "        model_version = dinfo['model_version']\n",
    "        damaging_pred = dinfo['probability']['true']\n",
    "\n",
    "        gfinfo = op['goodfaith_info']\n",
    "        #assert gfinfo['model_version'] == model_version\n",
    "        goodfaith_pred = dinfo['probability']['true']\n",
    "\n",
    "        lines.append({\n",
    "            'rev_id': rev_id,\n",
    "            'pred_timestamp': pred_timestamp,\n",
    "            'user_text': user_text,\n",
    "            'user_is_bot': user_is_bot,\n",
    "            'user_is_trusted': user_is_trusted,\n",
    "            'user_edit_count': user_edit_count,\n",
    "            'model_version': model_version,\n",
    "            'damaging_pred': damaging_pred,\n",
    "            'goodfaith_pred': goodfaith_pred,\n",
    "        })"
   ]
  },
  {
   "cell_type": "code",
   "execution_count": 20,
   "id": "thousand-denver",
   "metadata": {},
   "outputs": [
    {
     "data": {
      "text/plain": [
       "(54683129, datetime.timedelta(seconds=165, microseconds=48004))"
      ]
     },
     "execution_count": 20,
     "metadata": {},
     "output_type": "execute_result"
    }
   ],
   "source": [
    "s = datetime.now()\n",
    "df = pd.DataFrame(lines)\n",
    "len(df), datetime.now() - s"
   ]
  },
  {
   "cell_type": "code",
   "execution_count": 21,
   "id": "finnish-eleven",
   "metadata": {},
   "outputs": [
    {
     "data": {
      "text/html": [
       "<div>\n",
       "<style scoped>\n",
       "    .dataframe tbody tr th:only-of-type {\n",
       "        vertical-align: middle;\n",
       "    }\n",
       "\n",
       "    .dataframe tbody tr th {\n",
       "        vertical-align: top;\n",
       "    }\n",
       "\n",
       "    .dataframe thead th {\n",
       "        text-align: right;\n",
       "    }\n",
       "</style>\n",
       "<table border=\"1\" class=\"dataframe\">\n",
       "  <thead>\n",
       "    <tr style=\"text-align: right;\">\n",
       "      <th></th>\n",
       "      <th>rev_id</th>\n",
       "      <th>pred_timestamp</th>\n",
       "      <th>user_text</th>\n",
       "      <th>user_is_bot</th>\n",
       "      <th>user_is_trusted</th>\n",
       "      <th>user_edit_count</th>\n",
       "      <th>model_version</th>\n",
       "      <th>damaging_pred</th>\n",
       "      <th>goodfaith_pred</th>\n",
       "    </tr>\n",
       "  </thead>\n",
       "  <tbody>\n",
       "    <tr>\n",
       "      <th>0</th>\n",
       "      <td>876227280</td>\n",
       "      <td>1.546301e+09</td>\n",
       "      <td>InternetArchiveBot</td>\n",
       "      <td>True</td>\n",
       "      <td>True</td>\n",
       "      <td>3109800</td>\n",
       "      <td>0.4.0</td>\n",
       "      <td>0.005061</td>\n",
       "      <td>0.005061</td>\n",
       "    </tr>\n",
       "    <tr>\n",
       "      <th>1</th>\n",
       "      <td>876227282</td>\n",
       "      <td>1.546301e+09</td>\n",
       "      <td>DynamoDegsy</td>\n",
       "      <td>False</td>\n",
       "      <td>False</td>\n",
       "      <td>158278</td>\n",
       "      <td>0.4.0</td>\n",
       "      <td>0.011485</td>\n",
       "      <td>0.011485</td>\n",
       "    </tr>\n",
       "    <tr>\n",
       "      <th>2</th>\n",
       "      <td>876227283</td>\n",
       "      <td>1.546301e+09</td>\n",
       "      <td>TerribleTy2727</td>\n",
       "      <td>False</td>\n",
       "      <td>False</td>\n",
       "      <td>46</td>\n",
       "      <td>0.4.0</td>\n",
       "      <td>0.221970</td>\n",
       "      <td>0.221970</td>\n",
       "    </tr>\n",
       "    <tr>\n",
       "      <th>3</th>\n",
       "      <td>876227281</td>\n",
       "      <td>1.546301e+09</td>\n",
       "      <td>175.36.4.199</td>\n",
       "      <td>False</td>\n",
       "      <td>False</td>\n",
       "      <td>0</td>\n",
       "      <td>0.4.0</td>\n",
       "      <td>0.265990</td>\n",
       "      <td>0.265990</td>\n",
       "    </tr>\n",
       "    <tr>\n",
       "      <th>4</th>\n",
       "      <td>876227286</td>\n",
       "      <td>1.546301e+09</td>\n",
       "      <td>InceptionBot</td>\n",
       "      <td>True</td>\n",
       "      <td>True</td>\n",
       "      <td>1156474</td>\n",
       "      <td>0.4.0</td>\n",
       "      <td>0.005774</td>\n",
       "      <td>0.005774</td>\n",
       "    </tr>\n",
       "  </tbody>\n",
       "</table>\n",
       "</div>"
      ],
      "text/plain": [
       "      rev_id  pred_timestamp           user_text  user_is_bot  \\\n",
       "0  876227280    1.546301e+09  InternetArchiveBot         True   \n",
       "1  876227282    1.546301e+09         DynamoDegsy        False   \n",
       "2  876227283    1.546301e+09      TerribleTy2727        False   \n",
       "3  876227281    1.546301e+09        175.36.4.199        False   \n",
       "4  876227286    1.546301e+09        InceptionBot         True   \n",
       "\n",
       "   user_is_trusted  user_edit_count model_version  damaging_pred  \\\n",
       "0             True          3109800         0.4.0       0.005061   \n",
       "1            False           158278         0.4.0       0.011485   \n",
       "2            False               46         0.4.0       0.221970   \n",
       "3            False                0         0.4.0       0.265990   \n",
       "4             True          1156474         0.4.0       0.005774   \n",
       "\n",
       "   goodfaith_pred  \n",
       "0        0.005061  \n",
       "1        0.011485  \n",
       "2        0.221970  \n",
       "3        0.265990  \n",
       "4        0.005774  "
      ]
     },
     "execution_count": 21,
     "metadata": {},
     "output_type": "execute_result"
    }
   ],
   "source": [
    "df.head()"
   ]
  },
  {
   "cell_type": "code",
   "execution_count": 22,
   "id": "accessible-hollywood",
   "metadata": {},
   "outputs": [
    {
     "data": {
      "text/plain": [
       "0.5.0    53626234\n",
       "0.4.0     1056895\n",
       "Name: model_version, dtype: int64"
      ]
     },
     "execution_count": 22,
     "metadata": {},
     "output_type": "execute_result"
    }
   ],
   "source": [
    "df.model_version.value_counts()"
   ]
  },
  {
   "cell_type": "code",
   "execution_count": 24,
   "id": "promotional-subject",
   "metadata": {},
   "outputs": [
    {
     "name": "stdout",
     "output_type": "stream",
     "text": [
      "Finished saving to feather in 0:00:16.917394.\n"
     ]
    }
   ],
   "source": [
    "oidb_dir = \"/export/scratch2/levon003/repos/wiki-ores-feedback/data/derived/stub-history-all-revisions/oidb\"\n",
    "s = datetime.now()\n",
    "df.to_feather(os.path.join(oidb_dir, 'ores_2019.feather'))\n",
    "print(f\"Finished saving to feather in {datetime.now() - s}.\")"
   ]
  },
  {
   "cell_type": "code",
   "execution_count": 28,
   "id": "listed-match",
   "metadata": {},
   "outputs": [],
   "source": [
    "# free up some memory\n",
    "del lines"
   ]
  },
  {
   "cell_type": "code",
   "execution_count": 5,
   "id": "american-matthew",
   "metadata": {},
   "outputs": [
    {
     "name": "stdout",
     "output_type": "stream",
     "text": [
      "Loaded 54683129 rows from feather in 0:00:09.924108.\n"
     ]
    },
    {
     "data": {
      "text/html": [
       "<div>\n",
       "<style scoped>\n",
       "    .dataframe tbody tr th:only-of-type {\n",
       "        vertical-align: middle;\n",
       "    }\n",
       "\n",
       "    .dataframe tbody tr th {\n",
       "        vertical-align: top;\n",
       "    }\n",
       "\n",
       "    .dataframe thead th {\n",
       "        text-align: right;\n",
       "    }\n",
       "</style>\n",
       "<table border=\"1\" class=\"dataframe\">\n",
       "  <thead>\n",
       "    <tr style=\"text-align: right;\">\n",
       "      <th></th>\n",
       "      <th>rev_id</th>\n",
       "      <th>pred_timestamp</th>\n",
       "      <th>user_text</th>\n",
       "      <th>user_is_bot</th>\n",
       "      <th>user_is_trusted</th>\n",
       "      <th>user_edit_count</th>\n",
       "      <th>model_version</th>\n",
       "      <th>damaging_pred</th>\n",
       "      <th>goodfaith_pred</th>\n",
       "    </tr>\n",
       "  </thead>\n",
       "  <tbody>\n",
       "    <tr>\n",
       "      <th>0</th>\n",
       "      <td>876227280</td>\n",
       "      <td>1.546301e+09</td>\n",
       "      <td>InternetArchiveBot</td>\n",
       "      <td>True</td>\n",
       "      <td>True</td>\n",
       "      <td>3109800</td>\n",
       "      <td>0.4.0</td>\n",
       "      <td>0.005061</td>\n",
       "      <td>0.005061</td>\n",
       "    </tr>\n",
       "    <tr>\n",
       "      <th>1</th>\n",
       "      <td>876227282</td>\n",
       "      <td>1.546301e+09</td>\n",
       "      <td>DynamoDegsy</td>\n",
       "      <td>False</td>\n",
       "      <td>False</td>\n",
       "      <td>158278</td>\n",
       "      <td>0.4.0</td>\n",
       "      <td>0.011485</td>\n",
       "      <td>0.011485</td>\n",
       "    </tr>\n",
       "    <tr>\n",
       "      <th>2</th>\n",
       "      <td>876227283</td>\n",
       "      <td>1.546301e+09</td>\n",
       "      <td>TerribleTy2727</td>\n",
       "      <td>False</td>\n",
       "      <td>False</td>\n",
       "      <td>46</td>\n",
       "      <td>0.4.0</td>\n",
       "      <td>0.221970</td>\n",
       "      <td>0.221970</td>\n",
       "    </tr>\n",
       "    <tr>\n",
       "      <th>3</th>\n",
       "      <td>876227281</td>\n",
       "      <td>1.546301e+09</td>\n",
       "      <td>175.36.4.199</td>\n",
       "      <td>False</td>\n",
       "      <td>False</td>\n",
       "      <td>0</td>\n",
       "      <td>0.4.0</td>\n",
       "      <td>0.265990</td>\n",
       "      <td>0.265990</td>\n",
       "    </tr>\n",
       "    <tr>\n",
       "      <th>4</th>\n",
       "      <td>876227286</td>\n",
       "      <td>1.546301e+09</td>\n",
       "      <td>InceptionBot</td>\n",
       "      <td>True</td>\n",
       "      <td>True</td>\n",
       "      <td>1156474</td>\n",
       "      <td>0.4.0</td>\n",
       "      <td>0.005774</td>\n",
       "      <td>0.005774</td>\n",
       "    </tr>\n",
       "  </tbody>\n",
       "</table>\n",
       "</div>"
      ],
      "text/plain": [
       "      rev_id  pred_timestamp           user_text  user_is_bot  \\\n",
       "0  876227280    1.546301e+09  InternetArchiveBot         True   \n",
       "1  876227282    1.546301e+09         DynamoDegsy        False   \n",
       "2  876227283    1.546301e+09      TerribleTy2727        False   \n",
       "3  876227281    1.546301e+09        175.36.4.199        False   \n",
       "4  876227286    1.546301e+09        InceptionBot         True   \n",
       "\n",
       "   user_is_trusted  user_edit_count model_version  damaging_pred  \\\n",
       "0             True          3109800         0.4.0       0.005061   \n",
       "1            False           158278         0.4.0       0.011485   \n",
       "2            False               46         0.4.0       0.221970   \n",
       "3            False                0         0.4.0       0.265990   \n",
       "4             True          1156474         0.4.0       0.005774   \n",
       "\n",
       "   goodfaith_pred  \n",
       "0        0.005061  \n",
       "1        0.011485  \n",
       "2        0.221970  \n",
       "3        0.265990  \n",
       "4        0.005774  "
      ]
     },
     "execution_count": 5,
     "metadata": {},
     "output_type": "execute_result"
    }
   ],
   "source": [
    "# read in the ores predictions\n",
    "oidb_dir = \"/export/scratch2/levon003/repos/wiki-ores-feedback/data/derived/stub-history-all-revisions/oidb\"\n",
    "s = datetime.now()\n",
    "ores_df = pd.read_feather(os.path.join(oidb_dir, 'ores_2019.feather'))\n",
    "print(f\"Loaded {len(ores_df)} rows from feather in {datetime.now() - s}.\")\n",
    "ores_df.head()"
   ]
  },
  {
   "cell_type": "code",
   "execution_count": 6,
   "id": "accompanied-veteran",
   "metadata": {},
   "outputs": [
    {
     "data": {
      "text/html": [
       "<div>\n",
       "<style scoped>\n",
       "    .dataframe tbody tr th:only-of-type {\n",
       "        vertical-align: middle;\n",
       "    }\n",
       "\n",
       "    .dataframe tbody tr th {\n",
       "        vertical-align: top;\n",
       "    }\n",
       "\n",
       "    .dataframe thead th {\n",
       "        text-align: right;\n",
       "    }\n",
       "</style>\n",
       "<table border=\"1\" class=\"dataframe\">\n",
       "  <thead>\n",
       "    <tr style=\"text-align: right;\">\n",
       "      <th></th>\n",
       "      <th>rev_id</th>\n",
       "      <th>pred_timestamp</th>\n",
       "      <th>user_text</th>\n",
       "      <th>user_is_bot</th>\n",
       "      <th>user_is_trusted</th>\n",
       "      <th>user_edit_count</th>\n",
       "      <th>model_version</th>\n",
       "      <th>damaging_pred</th>\n",
       "      <th>goodfaith_pred</th>\n",
       "    </tr>\n",
       "  </thead>\n",
       "  <tbody>\n",
       "    <tr>\n",
       "      <th>17385052</th>\n",
       "      <td>893960226</td>\n",
       "      <td>1.556128e+09</td>\n",
       "      <td>GMoney0805</td>\n",
       "      <td>False</td>\n",
       "      <td>False</td>\n",
       "      <td>515</td>\n",
       "      <td>0.5.0</td>\n",
       "      <td>0.053693</td>\n",
       "      <td>0.053693</td>\n",
       "    </tr>\n",
       "    <tr>\n",
       "      <th>40008719</th>\n",
       "      <td>917889788</td>\n",
       "      <td>1.569456e+09</td>\n",
       "      <td>Flyer22 Reborn</td>\n",
       "      <td>False</td>\n",
       "      <td>True</td>\n",
       "      <td>326081</td>\n",
       "      <td>0.5.0</td>\n",
       "      <td>0.002537</td>\n",
       "      <td>0.002537</td>\n",
       "    </tr>\n",
       "    <tr>\n",
       "      <th>22874420</th>\n",
       "      <td>899575132</td>\n",
       "      <td>1.559259e+09</td>\n",
       "      <td>77.106.172.249</td>\n",
       "      <td>False</td>\n",
       "      <td>False</td>\n",
       "      <td>0</td>\n",
       "      <td>0.5.0</td>\n",
       "      <td>0.217945</td>\n",
       "      <td>0.217945</td>\n",
       "    </tr>\n",
       "    <tr>\n",
       "      <th>38153090</th>\n",
       "      <td>916007970</td>\n",
       "      <td>1.568641e+09</td>\n",
       "      <td>161.69.123.10</td>\n",
       "      <td>False</td>\n",
       "      <td>False</td>\n",
       "      <td>0</td>\n",
       "      <td>0.5.0</td>\n",
       "      <td>0.131778</td>\n",
       "      <td>0.131778</td>\n",
       "    </tr>\n",
       "    <tr>\n",
       "      <th>329174</th>\n",
       "      <td>876563502</td>\n",
       "      <td>1.546483e+09</td>\n",
       "      <td>BrownHairedGirl</td>\n",
       "      <td>False</td>\n",
       "      <td>False</td>\n",
       "      <td>998619</td>\n",
       "      <td>0.4.0</td>\n",
       "      <td>0.020797</td>\n",
       "      <td>0.020797</td>\n",
       "    </tr>\n",
       "    <tr>\n",
       "      <th>6148892</th>\n",
       "      <td>882481907</td>\n",
       "      <td>1.549714e+09</td>\n",
       "      <td>DreamLinker</td>\n",
       "      <td>False</td>\n",
       "      <td>False</td>\n",
       "      <td>1403</td>\n",
       "      <td>0.5.0</td>\n",
       "      <td>0.005265</td>\n",
       "      <td>0.005265</td>\n",
       "    </tr>\n",
       "    <tr>\n",
       "      <th>25132818</th>\n",
       "      <td>901886421</td>\n",
       "      <td>1.560556e+09</td>\n",
       "      <td>JGabbard</td>\n",
       "      <td>False</td>\n",
       "      <td>False</td>\n",
       "      <td>36561</td>\n",
       "      <td>0.5.0</td>\n",
       "      <td>0.081306</td>\n",
       "      <td>0.081306</td>\n",
       "    </tr>\n",
       "    <tr>\n",
       "      <th>19340484</th>\n",
       "      <td>895955715</td>\n",
       "      <td>1.557240e+09</td>\n",
       "      <td>96.93.126.17</td>\n",
       "      <td>False</td>\n",
       "      <td>False</td>\n",
       "      <td>0</td>\n",
       "      <td>0.5.0</td>\n",
       "      <td>0.054216</td>\n",
       "      <td>0.054216</td>\n",
       "    </tr>\n",
       "    <tr>\n",
       "      <th>48393589</th>\n",
       "      <td>927037879</td>\n",
       "      <td>1.574207e+09</td>\n",
       "      <td>John M Wolfson</td>\n",
       "      <td>False</td>\n",
       "      <td>False</td>\n",
       "      <td>13171</td>\n",
       "      <td>0.5.0</td>\n",
       "      <td>0.006740</td>\n",
       "      <td>0.006740</td>\n",
       "    </tr>\n",
       "    <tr>\n",
       "      <th>34158504</th>\n",
       "      <td>911947173</td>\n",
       "      <td>1.566455e+09</td>\n",
       "      <td>Sir Joseph</td>\n",
       "      <td>False</td>\n",
       "      <td>True</td>\n",
       "      <td>16360</td>\n",
       "      <td>0.5.0</td>\n",
       "      <td>0.003701</td>\n",
       "      <td>0.003701</td>\n",
       "    </tr>\n",
       "  </tbody>\n",
       "</table>\n",
       "</div>"
      ],
      "text/plain": [
       "             rev_id  pred_timestamp        user_text  user_is_bot  \\\n",
       "17385052  893960226    1.556128e+09       GMoney0805        False   \n",
       "40008719  917889788    1.569456e+09   Flyer22 Reborn        False   \n",
       "22874420  899575132    1.559259e+09   77.106.172.249        False   \n",
       "38153090  916007970    1.568641e+09    161.69.123.10        False   \n",
       "329174    876563502    1.546483e+09  BrownHairedGirl        False   \n",
       "6148892   882481907    1.549714e+09      DreamLinker        False   \n",
       "25132818  901886421    1.560556e+09         JGabbard        False   \n",
       "19340484  895955715    1.557240e+09     96.93.126.17        False   \n",
       "48393589  927037879    1.574207e+09   John M Wolfson        False   \n",
       "34158504  911947173    1.566455e+09       Sir Joseph        False   \n",
       "\n",
       "          user_is_trusted  user_edit_count model_version  damaging_pred  \\\n",
       "17385052            False              515         0.5.0       0.053693   \n",
       "40008719             True           326081         0.5.0       0.002537   \n",
       "22874420            False                0         0.5.0       0.217945   \n",
       "38153090            False                0         0.5.0       0.131778   \n",
       "329174              False           998619         0.4.0       0.020797   \n",
       "6148892             False             1403         0.5.0       0.005265   \n",
       "25132818            False            36561         0.5.0       0.081306   \n",
       "19340484            False                0         0.5.0       0.054216   \n",
       "48393589            False            13171         0.5.0       0.006740   \n",
       "34158504             True            16360         0.5.0       0.003701   \n",
       "\n",
       "          goodfaith_pred  \n",
       "17385052        0.053693  \n",
       "40008719        0.002537  \n",
       "22874420        0.217945  \n",
       "38153090        0.131778  \n",
       "329174          0.020797  \n",
       "6148892         0.005265  \n",
       "25132818        0.081306  \n",
       "19340484        0.054216  \n",
       "48393589        0.006740  \n",
       "34158504        0.003701  "
      ]
     },
     "execution_count": 6,
     "metadata": {},
     "output_type": "execute_result"
    }
   ],
   "source": [
    "ores_df.sample(n=10)"
   ]
  },
  {
   "cell_type": "code",
   "execution_count": 7,
   "id": "military-exemption",
   "metadata": {},
   "outputs": [
    {
     "name": "stdout",
     "output_type": "stream",
     "text": [
      "Finished sort in 0:00:06.254784.\n"
     ]
    }
   ],
   "source": [
    "s = datetime.now()\n",
    "ores_df = ores_df.sort_values(by='pred_timestamp', ascending=True)\n",
    "print(f\"Finished sort in {datetime.now() - s}.\")"
   ]
  },
  {
   "cell_type": "code",
   "execution_count": 8,
   "id": "cosmetic-sunday",
   "metadata": {},
   "outputs": [
    {
     "name": "stdout",
     "output_type": "stream",
     "text": [
      "Identified 54681789 unique rev_ids of which 1277 are duplicated at least once. Done in 0:00:11.845057.\n"
     ]
    },
    {
     "data": {
      "text/plain": [
       "899529828    5\n",
       "920236003    4\n",
       "920235961    4\n",
       "920235996    4\n",
       "895233079    3\n",
       "920236002    3\n",
       "897298148    3\n",
       "924403009    3\n",
       "920236006    3\n",
       "920235990    3\n",
       "931428681    3\n",
       "899514155    3\n",
       "914334321    3\n",
       "916183612    3\n",
       "914334401    3\n",
       "924403016    3\n",
       "896140848    3\n",
       "920235992    3\n",
       "900656693    3\n",
       "919177360    3\n",
       "Name: rev_id, dtype: int64"
      ]
     },
     "execution_count": 8,
     "metadata": {},
     "output_type": "execute_result"
    }
   ],
   "source": [
    "# 1277 duplicate rev_ids\n",
    "s = datetime.now()\n",
    "rev_counts = ores_df.rev_id.value_counts()\n",
    "print(f\"Identified {len(rev_counts)} unique rev_ids of which {np.sum(rev_counts > 1)} are duplicated at least once. Done in {datetime.now() - s}.\")\n",
    "rev_counts[rev_counts > 1].head(20)"
   ]
  },
  {
   "cell_type": "code",
   "execution_count": 10,
   "id": "wireless-senator",
   "metadata": {},
   "outputs": [
    {
     "data": {
      "text/plain": [
       "54681789"
      ]
     },
     "execution_count": 10,
     "metadata": {},
     "output_type": "execute_result"
    }
   ],
   "source": [
    "# drop duplicate rev_ids\n",
    "ores_df = ores_df.drop_duplicates(subset='rev_id', keep='first')\n",
    "len(ores_df)"
   ]
  },
  {
   "cell_type": "code",
   "execution_count": 18,
   "id": "explicit-intranet",
   "metadata": {},
   "outputs": [],
   "source": [
    "# make rev_id the index\n",
    "ores_df = ores_df.set_index('rev_id')"
   ]
  },
  {
   "cell_type": "code",
   "execution_count": null,
   "id": "regular-consultation",
   "metadata": {},
   "outputs": [],
   "source": []
  },
  {
   "cell_type": "code",
   "execution_count": 31,
   "id": "happy-event",
   "metadata": {},
   "outputs": [
    {
     "name": "stderr",
     "output_type": "stream",
     "text": [
      "100%|██████████| 3874852/3874852 [44:34<00:00, 1448.85it/s]\n"
     ]
    }
   ],
   "source": [
    "user_text_dict = {}\n",
    "on_newcomer_crux_count = 0\n",
    "on_max_edit_crux_count = 0\n",
    "for user_text, group in tqdm(ores_df.groupby(by='user_text', sort=False)):\n",
    "    user_is_bot = np.any(group.user_is_bot)\n",
    "    user_is_trusted = np.any(group.user_is_trusted)\n",
    "    min_edits = np.min(group.user_edit_count)\n",
    "    max_edits = np.min(group.user_edit_count)\n",
    "    if min_edits < 10 and max_edits > 10:\n",
    "        #print(f\"User on the 10-edit crux; {user_text}\")\n",
    "        #print(group)\n",
    "        #break\n",
    "        on_newcomer_crux_count += 1\n",
    "    elif min_edits < 500 and max_edits > 500:\n",
    "        #print(f\"User on the 500-edit crux; {user_text}\")\n",
    "        #print(group)\n",
    "        #break\n",
    "        on_max_edit_crux_count += 1\n",
    "    user_edit_count = int(np.median(group.user_edit_count))\n",
    "    user_text_dict[user_text] = (user_is_bot, user_is_trusted, user_edit_count)"
   ]
  },
  {
   "cell_type": "code",
   "execution_count": 33,
   "id": "consolidated-expense",
   "metadata": {},
   "outputs": [
    {
     "data": {
      "text/plain": [
       "(0, 0)"
      ]
     },
     "execution_count": 33,
     "metadata": {},
     "output_type": "execute_result"
    }
   ],
   "source": [
    "on_newcomer_crux_count, on_max_edit_crux_count"
   ]
  },
  {
   "cell_type": "code",
   "execution_count": 22,
   "id": "focused-better",
   "metadata": {},
   "outputs": [
    {
     "name": "stderr",
     "output_type": "stream",
     "text": [
      "  1%|          | 324622/54681789 [00:13<38:01, 23826.86it/s] \n"
     ]
    },
    {
     "ename": "KeyboardInterrupt",
     "evalue": "",
     "output_type": "error",
     "traceback": [
      "\u001b[0;31m---------------------------------------------------------------------------\u001b[0m",
      "\u001b[0;31mKeyboardInterrupt\u001b[0m                         Traceback (most recent call last)",
      "\u001b[0;32m<ipython-input-22-224ad34b6eca>\u001b[0m in \u001b[0;36m<module>\u001b[0;34m\u001b[0m\n\u001b[1;32m      2\u001b[0m \u001b[0;32mfor\u001b[0m \u001b[0mrev_id\u001b[0m \u001b[0;32min\u001b[0m \u001b[0mtqdm\u001b[0m\u001b[0;34m(\u001b[0m\u001b[0mores_df\u001b[0m\u001b[0;34m.\u001b[0m\u001b[0mindex\u001b[0m\u001b[0;34m)\u001b[0m\u001b[0;34m:\u001b[0m\u001b[0;34m\u001b[0m\u001b[0;34m\u001b[0m\u001b[0m\n\u001b[1;32m      3\u001b[0m     \u001b[0;31m#row = ores_df.loc[rev_id]\u001b[0m\u001b[0;34m\u001b[0m\u001b[0;34m\u001b[0m\u001b[0;34m\u001b[0m\u001b[0m\n\u001b[0;32m----> 4\u001b[0;31m     \u001b[0mdamaging_pred\u001b[0m \u001b[0;34m=\u001b[0m \u001b[0mores_df\u001b[0m\u001b[0;34m.\u001b[0m\u001b[0mat\u001b[0m\u001b[0;34m[\u001b[0m\u001b[0mrev_id\u001b[0m\u001b[0;34m,\u001b[0m \u001b[0;34m'damaging_pred'\u001b[0m\u001b[0;34m]\u001b[0m\u001b[0;34m\u001b[0m\u001b[0;34m\u001b[0m\u001b[0m\n\u001b[0m\u001b[1;32m      5\u001b[0m     \u001b[0mgoodfaith_pred\u001b[0m \u001b[0;34m=\u001b[0m \u001b[0mores_df\u001b[0m\u001b[0;34m.\u001b[0m\u001b[0mat\u001b[0m\u001b[0;34m[\u001b[0m\u001b[0mrev_id\u001b[0m\u001b[0;34m,\u001b[0m \u001b[0;34m'goodfaith_pred'\u001b[0m\u001b[0;34m]\u001b[0m\u001b[0;34m\u001b[0m\u001b[0;34m\u001b[0m\u001b[0m\n\u001b[1;32m      6\u001b[0m     \u001b[0mmodel_version\u001b[0m \u001b[0;34m=\u001b[0m \u001b[0mores_df\u001b[0m\u001b[0;34m.\u001b[0m\u001b[0mat\u001b[0m\u001b[0;34m[\u001b[0m\u001b[0mrev_id\u001b[0m\u001b[0;34m,\u001b[0m \u001b[0;34m'model_version'\u001b[0m\u001b[0;34m]\u001b[0m\u001b[0;34m\u001b[0m\u001b[0;34m\u001b[0m\u001b[0m\n",
      "\u001b[0;32m/export/scratch2/levon003/bin/anaconda3/lib/python3.7/site-packages/pandas/core/indexing.py\u001b[0m in \u001b[0;36m__getitem__\u001b[0;34m(self, key)\u001b[0m\n\u001b[1;32m   2078\u001b[0m             \u001b[0;32mreturn\u001b[0m \u001b[0mself\u001b[0m\u001b[0;34m.\u001b[0m\u001b[0mobj\u001b[0m\u001b[0;34m.\u001b[0m\u001b[0mloc\u001b[0m\u001b[0;34m[\u001b[0m\u001b[0mkey\u001b[0m\u001b[0;34m]\u001b[0m\u001b[0;34m\u001b[0m\u001b[0;34m\u001b[0m\u001b[0m\n\u001b[1;32m   2079\u001b[0m \u001b[0;34m\u001b[0m\u001b[0m\n\u001b[0;32m-> 2080\u001b[0;31m         \u001b[0;32mreturn\u001b[0m \u001b[0msuper\u001b[0m\u001b[0;34m(\u001b[0m\u001b[0;34m)\u001b[0m\u001b[0;34m.\u001b[0m\u001b[0m__getitem__\u001b[0m\u001b[0;34m(\u001b[0m\u001b[0mkey\u001b[0m\u001b[0;34m)\u001b[0m\u001b[0;34m\u001b[0m\u001b[0;34m\u001b[0m\u001b[0m\n\u001b[0m\u001b[1;32m   2081\u001b[0m \u001b[0;34m\u001b[0m\u001b[0m\n\u001b[1;32m   2082\u001b[0m     \u001b[0;32mdef\u001b[0m \u001b[0m__setitem__\u001b[0m\u001b[0;34m(\u001b[0m\u001b[0mself\u001b[0m\u001b[0;34m,\u001b[0m \u001b[0mkey\u001b[0m\u001b[0;34m,\u001b[0m \u001b[0mvalue\u001b[0m\u001b[0;34m)\u001b[0m\u001b[0;34m:\u001b[0m\u001b[0;34m\u001b[0m\u001b[0;34m\u001b[0m\u001b[0m\n",
      "\u001b[0;32m/export/scratch2/levon003/bin/anaconda3/lib/python3.7/site-packages/pandas/core/indexing.py\u001b[0m in \u001b[0;36m__getitem__\u001b[0;34m(self, key)\u001b[0m\n\u001b[1;32m   2025\u001b[0m \u001b[0;34m\u001b[0m\u001b[0m\n\u001b[1;32m   2026\u001b[0m         \u001b[0mkey\u001b[0m \u001b[0;34m=\u001b[0m \u001b[0mself\u001b[0m\u001b[0;34m.\u001b[0m\u001b[0m_convert_key\u001b[0m\u001b[0;34m(\u001b[0m\u001b[0mkey\u001b[0m\u001b[0;34m)\u001b[0m\u001b[0;34m\u001b[0m\u001b[0;34m\u001b[0m\u001b[0m\n\u001b[0;32m-> 2027\u001b[0;31m         \u001b[0;32mreturn\u001b[0m \u001b[0mself\u001b[0m\u001b[0;34m.\u001b[0m\u001b[0mobj\u001b[0m\u001b[0;34m.\u001b[0m\u001b[0m_get_value\u001b[0m\u001b[0;34m(\u001b[0m\u001b[0;34m*\u001b[0m\u001b[0mkey\u001b[0m\u001b[0;34m,\u001b[0m \u001b[0mtakeable\u001b[0m\u001b[0;34m=\u001b[0m\u001b[0mself\u001b[0m\u001b[0;34m.\u001b[0m\u001b[0m_takeable\u001b[0m\u001b[0;34m)\u001b[0m\u001b[0;34m\u001b[0m\u001b[0;34m\u001b[0m\u001b[0m\n\u001b[0m\u001b[1;32m   2028\u001b[0m \u001b[0;34m\u001b[0m\u001b[0m\n\u001b[1;32m   2029\u001b[0m     \u001b[0;32mdef\u001b[0m \u001b[0m__setitem__\u001b[0m\u001b[0;34m(\u001b[0m\u001b[0mself\u001b[0m\u001b[0;34m,\u001b[0m \u001b[0mkey\u001b[0m\u001b[0;34m,\u001b[0m \u001b[0mvalue\u001b[0m\u001b[0;34m)\u001b[0m\u001b[0;34m:\u001b[0m\u001b[0;34m\u001b[0m\u001b[0;34m\u001b[0m\u001b[0m\n",
      "\u001b[0;32m/export/scratch2/levon003/bin/anaconda3/lib/python3.7/site-packages/pandas/core/frame.py\u001b[0m in \u001b[0;36m_get_value\u001b[0;34m(self, index, col, takeable)\u001b[0m\n\u001b[1;32m   3006\u001b[0m         \u001b[0;32mtry\u001b[0m\u001b[0;34m:\u001b[0m\u001b[0;34m\u001b[0m\u001b[0;34m\u001b[0m\u001b[0m\n\u001b[1;32m   3007\u001b[0m             \u001b[0mloc\u001b[0m \u001b[0;34m=\u001b[0m \u001b[0mengine\u001b[0m\u001b[0;34m.\u001b[0m\u001b[0mget_loc\u001b[0m\u001b[0;34m(\u001b[0m\u001b[0mindex\u001b[0m\u001b[0;34m)\u001b[0m\u001b[0;34m\u001b[0m\u001b[0;34m\u001b[0m\u001b[0m\n\u001b[0;32m-> 3008\u001b[0;31m             \u001b[0;32mreturn\u001b[0m \u001b[0mseries\u001b[0m\u001b[0;34m.\u001b[0m\u001b[0m_values\u001b[0m\u001b[0;34m[\u001b[0m\u001b[0mloc\u001b[0m\u001b[0;34m]\u001b[0m\u001b[0;34m\u001b[0m\u001b[0;34m\u001b[0m\u001b[0m\n\u001b[0m\u001b[1;32m   3009\u001b[0m         \u001b[0;32mexcept\u001b[0m \u001b[0mKeyError\u001b[0m\u001b[0;34m:\u001b[0m\u001b[0;34m\u001b[0m\u001b[0;34m\u001b[0m\u001b[0m\n\u001b[1;32m   3010\u001b[0m             \u001b[0;31m# GH 20629\u001b[0m\u001b[0;34m\u001b[0m\u001b[0;34m\u001b[0m\u001b[0;34m\u001b[0m\u001b[0m\n",
      "\u001b[0;31mKeyboardInterrupt\u001b[0m: "
     ]
    }
   ],
   "source": [
    "# speed-test: using .at is fast, much faster than .loc, still slower than dicts but fine\n",
    "for rev_id in tqdm(ores_df.index):\n",
    "    #row = ores_df.loc[rev_id]\n",
    "    damaging_pred = ores_df.at[rev_id, 'damaging_pred']\n",
    "    goodfaith_pred = ores_df.at[rev_id, 'goodfaith_pred']\n",
    "    model_version = ores_df.at[rev_id, 'model_version']\n",
    "    user_is_bot = ores_df.at[rev_id, 'user_is_bot']\n",
    "    user_is_trusted = ores_df.at[rev_id, 'user_is_trusted']\n",
    "    user_edit_count = ores_df.at[rev_id, 'user_edit_count']"
   ]
  },
  {
   "cell_type": "code",
   "execution_count": null,
   "id": "instructional-privacy",
   "metadata": {},
   "outputs": [],
   "source": []
  },
  {
   "cell_type": "code",
   "execution_count": 11,
   "id": "focused-knight",
   "metadata": {},
   "outputs": [
    {
     "data": {
      "text/plain": [
       "2277346"
      ]
     },
     "execution_count": 11,
     "metadata": {},
     "output_type": "execute_result"
    }
   ],
   "source": [
    "oidb_dir = \"/export/scratch2/levon003/repos/wiki-ores-feedback/data/derived/stub-history-all-revisions/oidb\"\n",
    "missing_ores_df = pd.read_csv(os.path.join(oidb_dir, 'rev_ids_missing_scores_available.csv'), \n",
    "                             header=None,\n",
    "                             names=['rev_id', 'damaging_pred', 'damaging_label', 'd_model_version', 'goodfaith_pred', 'goodfaith_label', 'gf_model_version']\n",
    "                             )\n",
    "len(missing_ores_df)"
   ]
  },
  {
   "cell_type": "code",
   "execution_count": 14,
   "id": "unlike-tuesday",
   "metadata": {},
   "outputs": [
    {
     "data": {
      "text/html": [
       "<div>\n",
       "<style scoped>\n",
       "    .dataframe tbody tr th:only-of-type {\n",
       "        vertical-align: middle;\n",
       "    }\n",
       "\n",
       "    .dataframe tbody tr th {\n",
       "        vertical-align: top;\n",
       "    }\n",
       "\n",
       "    .dataframe thead th {\n",
       "        text-align: right;\n",
       "    }\n",
       "</style>\n",
       "<table border=\"1\" class=\"dataframe\">\n",
       "  <thead>\n",
       "    <tr style=\"text-align: right;\">\n",
       "      <th></th>\n",
       "      <th>rev_id</th>\n",
       "      <th>damaging_pred</th>\n",
       "      <th>damaging_label</th>\n",
       "      <th>d_model_version</th>\n",
       "      <th>goodfaith_pred</th>\n",
       "      <th>goodfaith_label</th>\n",
       "      <th>gf_model_version</th>\n",
       "    </tr>\n",
       "  </thead>\n",
       "  <tbody>\n",
       "    <tr>\n",
       "      <th>0</th>\n",
       "      <td>880647041</td>\n",
       "      <td>0.008813</td>\n",
       "      <td>False</td>\n",
       "      <td>0.5.1</td>\n",
       "      <td>0.989774</td>\n",
       "      <td>True</td>\n",
       "      <td>0.5.1</td>\n",
       "    </tr>\n",
       "    <tr>\n",
       "      <th>1</th>\n",
       "      <td>879351281</td>\n",
       "      <td>0.006221</td>\n",
       "      <td>False</td>\n",
       "      <td>0.5.1</td>\n",
       "      <td>0.996597</td>\n",
       "      <td>True</td>\n",
       "      <td>0.5.1</td>\n",
       "    </tr>\n",
       "    <tr>\n",
       "      <th>2</th>\n",
       "      <td>883544619</td>\n",
       "      <td>0.003113</td>\n",
       "      <td>False</td>\n",
       "      <td>0.5.1</td>\n",
       "      <td>0.998540</td>\n",
       "      <td>True</td>\n",
       "      <td>0.5.1</td>\n",
       "    </tr>\n",
       "    <tr>\n",
       "      <th>3</th>\n",
       "      <td>880306481</td>\n",
       "      <td>0.021600</td>\n",
       "      <td>False</td>\n",
       "      <td>0.5.1</td>\n",
       "      <td>0.980105</td>\n",
       "      <td>True</td>\n",
       "      <td>0.5.1</td>\n",
       "    </tr>\n",
       "    <tr>\n",
       "      <th>4</th>\n",
       "      <td>884600289</td>\n",
       "      <td>0.008411</td>\n",
       "      <td>False</td>\n",
       "      <td>0.5.1</td>\n",
       "      <td>0.992072</td>\n",
       "      <td>True</td>\n",
       "      <td>0.5.1</td>\n",
       "    </tr>\n",
       "  </tbody>\n",
       "</table>\n",
       "</div>"
      ],
      "text/plain": [
       "      rev_id  damaging_pred  damaging_label d_model_version  goodfaith_pred  \\\n",
       "0  880647041       0.008813           False           0.5.1        0.989774   \n",
       "1  879351281       0.006221           False           0.5.1        0.996597   \n",
       "2  883544619       0.003113           False           0.5.1        0.998540   \n",
       "3  880306481       0.021600           False           0.5.1        0.980105   \n",
       "4  884600289       0.008411           False           0.5.1        0.992072   \n",
       "\n",
       "   goodfaith_label gf_model_version  \n",
       "0             True            0.5.1  \n",
       "1             True            0.5.1  \n",
       "2             True            0.5.1  \n",
       "3             True            0.5.1  \n",
       "4             True            0.5.1  "
      ]
     },
     "execution_count": 14,
     "metadata": {},
     "output_type": "execute_result"
    }
   ],
   "source": [
    "missing_ores_df.head()"
   ]
  },
  {
   "cell_type": "code",
   "execution_count": 27,
   "id": "automatic-consequence",
   "metadata": {},
   "outputs": [],
   "source": [
    "# make rev_id the index\n",
    "missing_ores_df = missing_ores_df.set_index('rev_id')"
   ]
  },
  {
   "cell_type": "code",
   "execution_count": 34,
   "id": "sufficient-finding",
   "metadata": {},
   "outputs": [
    {
     "name": "stderr",
     "output_type": "stream",
     "text": [
      "Reading revision data:   0%|          | 1657/117569278 [00:00<1:58:20, 16557.46it/s]"
     ]
    },
    {
     "name": "stdout",
     "output_type": "stream",
     "text": [
      "Identified first completely missing score. 876227356\n",
      "Identified first available 'missing' score.\n",
      "Identified first 'missing' rev with available user info. 876227372 AnomieBOT\n"
     ]
    },
    {
     "name": "stderr",
     "output_type": "stream",
     "text": [
      "Reading revision data:  47%|████▋     | 55130432/117569278 [51:49<58:41, 17731.62it/s]  \n"
     ]
    },
    {
     "data": {
      "text/plain": [
       "(59262, 55130433, 0.0010749416751361267)"
      ]
     },
     "execution_count": 34,
     "metadata": {},
     "output_type": "execute_result"
    }
   ],
   "source": [
    "start_date = datetime.fromisoformat('2019-01-01').replace(tzinfo=pytz.UTC)  # start of 2019\n",
    "start_timestamp = int(start_date.timestamp())\n",
    "midpoint_date = datetime.fromisoformat('2020-01-01').replace(tzinfo=pytz.UTC)\n",
    "midpoint_timestamp = int(midpoint_date.timestamp())\n",
    "end_date = datetime.fromisoformat('2021-01-01').replace(tzinfo=pytz.UTC)\n",
    "end_timestamp = int(end_date.timestamp())\n",
    "with open(os.path.join(oidb_dir, 'revs.tsv'), 'r') as infile, open(os.path.join(oidb_dir, 'revs_scored.tsv'), 'w') as outfile:\n",
    "    processed_count = 0\n",
    "    missing_rev_ids = set()\n",
    "    missing_score_count = 0\n",
    "    existing_user_available_count = 0\n",
    "    for line in tqdm(infile, total=117569278, desc='Reading revision data'):\n",
    "        processed_count += 1\n",
    "        tokens = line.strip().split('\\t')\n",
    "        assert len(tokens) == 20\n",
    "        rev_timestamp, page_id, rev_id, prev_rev_id, is_minor, user_text, user_id, seconds_to_prev, curr_bytes, delta_bytes, has_edit_summary, is_reverted, is_revert, is_reverted_to_by_other, is_self_reverted, is_self_revert, revert_target_id, revert_set_size, revert_id, seconds_to_revert = tokens\n",
    "        rev_id = int(rev_id)\n",
    "        rev_timestamp = int(rev_timestamp)\n",
    "        if rev_timestamp > midpoint_timestamp:\n",
    "            break\n",
    "        if rev_id in ores_df.index:\n",
    "            damaging_pred = ores_df.at[rev_id, 'damaging_pred']\n",
    "            goodfaith_pred = ores_df.at[rev_id, 'goodfaith_pred']\n",
    "            model_version = ores_df.at[rev_id, 'model_version']\n",
    "            user_is_bot = ores_df.at[rev_id, 'user_is_bot']\n",
    "            user_is_trusted = ores_df.at[rev_id, 'user_is_trusted']\n",
    "            user_edit_count = ores_df.at[rev_id, 'user_edit_count']\n",
    "        elif rev_id in missing_ores_df.index:\n",
    "            missing_score_count += 1\n",
    "            if missing_score_count == 1:\n",
    "                print(\"Identified first available 'missing' score.\")\n",
    "            damaging_pred = missing_ores_df.at[rev_id, 'damaging_pred']\n",
    "            goodfaith_pred = missing_ores_df.at[rev_id, 'goodfaith_pred']\n",
    "            model_version = missing_ores_df.at[rev_id, 'd_model_version']\n",
    "            \n",
    "            #user_group = ores_df[ores_df.user_text == user_text]\n",
    "            #if len(user_group) == 0:\n",
    "            if user_text not in user_text_dict:\n",
    "                user_is_bot = False\n",
    "                user_is_trusted = False\n",
    "                user_edit_count = 0\n",
    "            else:\n",
    "                existing_user_available_count += 1\n",
    "                if existing_user_available_count == 1:\n",
    "                    print(f\"Identified first 'missing' rev with available user info. {rev_id} {user_text}\")\n",
    "                user_is_bot, user_is_trusted, user_edit_count = user_text_dict[user_text]\n",
    "                #user_is_bot = np.any(user_group.user_is_bot)\n",
    "                #user_is_trusted = np.any(user_group.user_is_trusted)\n",
    "                #user_edit_count = int(np.median(user_group.user_edit_count))\n",
    "        else:\n",
    "            # rev id just plain missing\n",
    "            missing_rev_ids.add(rev_id)\n",
    "            if len(missing_rev_ids) == 1:\n",
    "                print(f\"Identified first completely missing score. {rev_id}\")\n",
    "            continue\n",
    "        new_line = line.strip() + f\"\\t{damaging_pred}\\t{goodfaith_pred}\\t{model_version}\\t{user_is_bot}\\t{user_is_trusted}\\t{user_edit_count}\\n\"\n",
    "        outfile.write(new_line)\n",
    "len(missing_rev_ids), processed_count, len(missing_rev_ids) / processed_count"
   ]
  },
  {
   "cell_type": "code",
   "execution_count": null,
   "id": "decreased-wrestling",
   "metadata": {},
   "outputs": [],
   "source": [
    "missing_score_count, existing_user_available_count"
   ]
  },
  {
   "cell_type": "code",
   "execution_count": 25,
   "id": "violent-context",
   "metadata": {},
   "outputs": [
    {
     "data": {
      "text/plain": [
       "[918552576, 918552577, 918552578, 918552579, 918552580]"
      ]
     },
     "execution_count": 25,
     "metadata": {},
     "output_type": "execute_result"
    }
   ],
   "source": [
    "list(missing_rev_ids)[:5]"
   ]
  },
  {
   "cell_type": "code",
   "execution_count": 29,
   "id": "western-briefing",
   "metadata": {},
   "outputs": [
    {
     "data": {
      "text/plain": [
       "0.0892422651534001"
      ]
     },
     "execution_count": 29,
     "metadata": {},
     "output_type": "execute_result"
    }
   ],
   "source": [
    "missing_ores_df.at[918552576, 'damaging_pred']"
   ]
  },
  {
   "cell_type": "code",
   "execution_count": null,
   "id": "hired-sailing",
   "metadata": {},
   "outputs": [],
   "source": []
  },
  {
   "cell_type": "code",
   "execution_count": null,
   "id": "beautiful-leonard",
   "metadata": {},
   "outputs": [],
   "source": []
  },
  {
   "cell_type": "code",
   "execution_count": null,
   "id": "tired-sauce",
   "metadata": {},
   "outputs": [],
   "source": []
  },
  {
   "cell_type": "code",
   "execution_count": 8,
   "id": "demographic-corner",
   "metadata": {
    "tags": []
   },
   "outputs": [
    {
     "name": "stderr",
     "output_type": "stream",
     "text": [
      "100%|██████████| 54683129/54683129 [00:29<00:00, 1877645.94it/s]\n"
     ]
    },
    {
     "data": {
      "text/plain": [
       "54681789"
      ]
     },
     "execution_count": 8,
     "metadata": {},
     "output_type": "execute_result"
    }
   ],
   "source": [
    "rev_id_pred_timestamp_dict = {\n",
    "    rev_id: pred_timestamp\n",
    "    for rev_id, pred_timestamp in tqdm(zip(ores_df.rev_id, ores_df.pred_timestamp), total=len(ores_df))\n",
    "}\n",
    "len(rev_id_pred_timestamp_dict)"
   ]
  },
  {
   "cell_type": "code",
   "execution_count": 10,
   "id": "legitimate-browser",
   "metadata": {
    "tags": []
   },
   "outputs": [
    {
     "name": "stderr",
     "output_type": "stream",
     "text": [
      "Reading revision data: 117579242it [07:15, 270151.42it/s]                               \n"
     ]
    },
    {
     "data": {
      "text/plain": [
       "(64785418, 117579242)"
      ]
     },
     "execution_count": 10,
     "metadata": {},
     "output_type": "execute_result"
    }
   ],
   "source": [
    "start_date = datetime.fromisoformat('2019-01-01').replace(tzinfo=pytz.UTC)  # start of 2019\n",
    "start_timestamp = int(start_date.timestamp())\n",
    "midpoint_date = datetime.fromisoformat('2020-01-01').replace(tzinfo=pytz.UTC)\n",
    "midpoint_timestamp = int(midpoint_date.timestamp())\n",
    "end_date = datetime.fromisoformat('2021-01-01').replace(tzinfo=pytz.UTC)\n",
    "end_timestamp = int(end_date.timestamp())\n",
    "with open(os.path.join(oidb_dir, 'revs.tsv'), 'r') as infile:\n",
    "    processed_count = 0\n",
    "    missing_rev_count = 0\n",
    "    missing_in_2019_count = 0\n",
    "    missing_rev_ids = set()\n",
    "    pred_delay_list = []\n",
    "    for line in tqdm(infile, total=117569278, desc='Reading revision data'):\n",
    "        processed_count += 1\n",
    "        tokens = line.strip().split('\\t')\n",
    "        assert len(tokens) == 20\n",
    "        rev_timestamp, page_id, rev_id, prev_rev_id, is_minor, user_text, user_id, seconds_to_prev, curr_bytes, delta_bytes, has_edit_summary, is_reverted, is_revert, is_reverted_to_by_other, is_self_reverted, is_self_revert, revert_target_id, revert_set_size, revert_id, seconds_to_revert = tokens\n",
    "        rev_id = int(rev_id)\n",
    "        rev_timestamp = int(rev_timestamp)\n",
    "        if rev_id not in rev_id_pred_timestamp_dict:\n",
    "            missing_rev_count += 1\n",
    "            if rev_timestamp >= start_timestamp and rev_timestamp <= midpoint_timestamp:\n",
    "                missing_in_2019_count += 1\n",
    "                missing_rev_ids.add(rev_id)\n",
    "        else:\n",
    "            pred_timestamp = rev_id_pred_timestamp_dict[rev_id]\n",
    "            pred_delay_list.append(pred_timestamp - int(rev_timestamp))\n",
    "missing_rev_count, processed_count"
   ]
  },
  {
   "cell_type": "code",
   "execution_count": 11,
   "id": "capable-archive",
   "metadata": {},
   "outputs": [
    {
     "data": {
      "text/plain": [
       "0.5509936694437952"
      ]
     },
     "execution_count": 11,
     "metadata": {},
     "output_type": "execute_result"
    }
   ],
   "source": [
    "missing_rev_count / processed_count"
   ]
  },
  {
   "cell_type": "code",
   "execution_count": 14,
   "id": "silver-excess",
   "metadata": {},
   "outputs": [
    {
     "data": {
      "text/plain": [
       "(2336608, 0.019872623434670552)"
      ]
     },
     "execution_count": 14,
     "metadata": {},
     "output_type": "execute_result"
    }
   ],
   "source": [
    "# 2% of the missing revisions are from 2019.\n",
    "missing_in_2019_count, missing_in_2019_count / processed_count"
   ]
  },
  {
   "cell_type": "code",
   "execution_count": 17,
   "id": "respective-trinidad",
   "metadata": {},
   "outputs": [
    {
     "name": "stdout",
     "output_type": "stream",
     "text": [
      "Finished.\n"
     ]
    }
   ],
   "source": [
    "# save the missing revisions\n",
    "oidb_dir = \"/export/scratch2/levon003/repos/wiki-ores-feedback/data/derived/stub-history-all-revisions/oidb\"\n",
    "missing_rev_id_list = sorted(list(missing_rev_ids))\n",
    "with open(os.path.join(oidb_dir, 'rev_ids_missing_scores.txt'), 'w') as outfile:\n",
    "    for rev_id in missing_rev_id_list:\n",
    "        outfile.write(str(rev_id) + \"\\n\")\n",
    "print(\"Finished.\")"
   ]
  },
  {
   "cell_type": "code",
   "execution_count": 20,
   "id": "documentary-going",
   "metadata": {},
   "outputs": [
    {
     "data": {
      "text/plain": [
       "933439940"
      ]
     },
     "execution_count": 20,
     "metadata": {},
     "output_type": "execute_result"
    }
   ],
   "source": [
    "list(rev_id_pred_timestamp_dict)[-1]"
   ]
  },
  {
   "cell_type": "code",
   "execution_count": 25,
   "id": "inner-vancouver",
   "metadata": {},
   "outputs": [
    {
     "data": {
      "text/plain": [
       "52793834"
      ]
     },
     "execution_count": 25,
     "metadata": {},
     "output_type": "execute_result"
    }
   ],
   "source": [
    "pred_delay_list = np.array(pred_delay_list)\n",
    "len(pred_delay_list)"
   ]
  },
  {
   "cell_type": "code",
   "execution_count": 33,
   "id": "occupational-harvard",
   "metadata": {},
   "outputs": [],
   "source": [
    "pred_delay_list += 18000"
   ]
  },
  {
   "cell_type": "code",
   "execution_count": 34,
   "id": "interested-probability",
   "metadata": {},
   "outputs": [
    {
     "data": {
      "text/plain": [
       "(-3599.4960000514984,\n",
       " -3598.4749999046326,\n",
       " 2.4809999465942383,\n",
       " 80.54600992441713,\n",
       " 486387.1930000782)"
      ]
     },
     "execution_count": 34,
     "metadata": {},
     "output_type": "execute_result"
    }
   ],
   "source": [
    "np.min(pred_delay_list), \\\n",
    "np.quantile(pred_delay_list, 0.01), \\\n",
    "np.quantile(pred_delay_list, 0.5), \\\n",
    "np.quantile(pred_delay_list, 0.99),\\\n",
    "np.max(pred_delay_list)"
   ]
  },
  {
   "cell_type": "code",
   "execution_count": 35,
   "id": "catholic-channel",
   "metadata": {},
   "outputs": [
    {
     "data": {
      "image/png": "[encoded data removed]",
      "text/plain": [
       "<Figure size 432x288 with 1 Axes>"
      ]
     },
     "metadata": {
      "needs_background": "light"
     },
     "output_type": "display_data"
    }
   ],
   "source": [
    "fig, ax = plt.subplots()\n",
    "\n",
    "bins= np.linspace(np.quantile(pred_delay_list, 0.01), np.quantile(pred_delay_list, 0.99), num=20)\n",
    "ax.hist(pred_delay_list, bins=bins, log=True)\n",
    "\n",
    "plt.show()"
   ]
  },
  {
   "cell_type": "code",
   "execution_count": null,
   "id": "ongoing-sixth",
   "metadata": {},
   "outputs": [],
   "source": []
  },
  {
   "cell_type": "code",
   "execution_count": null,
   "id": "another-pound",
   "metadata": {},
   "outputs": [],
   "source": []
  }
 ],
 "metadata": {
  "kernelspec": {
   "display_name": "Flagon Python3",
   "language": "python",
   "name": "flagon-conda-env"
  },
  "language_info": {
   "codemirror_mode": {
    "name": "ipython",
    "version": 3
   },
   "file_extension": ".py",
   "mimetype": "text/x-python",
   "name": "python",
   "nbconvert_exporter": "python",
   "pygments_lexer": "ipython3",
   "version": "3.7.10"
  }
 },
 "nbformat": 4,
 "nbformat_minor": 5
}
