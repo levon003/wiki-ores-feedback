{
 "cells": [
  {
   "cell_type": "markdown",
   "id": "massive-sitting",
   "metadata": {},
   "source": [
    "ORES HDFS Data Inspection\n",
    "===\n",
    "\n",
    "See https://phabricator.wikimedia.org/T277609\n"
   ]
  },
  {
   "cell_type": "code",
   "execution_count": 1,
   "id": "sealed-thanksgiving",
   "metadata": {},
   "outputs": [],
   "source": [
    "import numpy as np\n",
    "import pandas as pd\n",
    "import matplotlib.pyplot as plt"
   ]
  },
  {
   "cell_type": "code",
   "execution_count": 2,
   "id": "located-seattle",
   "metadata": {},
   "outputs": [],
   "source": [
    "import os\n",
    "import json\n",
    "from datetime import datetime\n",
    "import dateutil\n",
    "import pytz\n",
    "from tqdm import tqdm"
   ]
  },
  {
   "cell_type": "code",
   "execution_count": 3,
   "id": "matched-phone",
   "metadata": {},
   "outputs": [],
   "source": [
    "ores_preds_2019_filepath = \"/export/scratch2/levon003/repos/wiki-ores-feedback/data/raw/editquality/hdfs/ores_scores_damaging-goodfaith_enwiki_2019_01-12.json\"\n",
    "TRUSTED_GROUPS = ['sysops','oversight','bot','rollbacker','checkuser','abusefilter','bureaucrat']"
   ]
  },
  {
   "cell_type": "code",
   "execution_count": 4,
   "id": "fourth-canyon",
   "metadata": {},
   "outputs": [
    {
     "data": {
      "text/plain": [
       "(datetime.datetime(2019, 12, 31, 23, 59, 59, tzinfo=tzutc()),\n",
       " 1577836799.0,\n",
       " 1577858399)"
      ]
     },
     "execution_count": 4,
     "metadata": {},
     "output_type": "execute_result"
    }
   ],
   "source": [
    "iso_string = \"2019-12-31T23:59:59Z\"\n",
    "dt = dateutil.parser.isoparse(iso_string)\n",
    "dt, dt.timestamp(), int(datetime.strptime(iso_string, \"%Y-%m-%dT%H:%M:%SZ\").timestamp())"
   ]
  },
  {
   "cell_type": "code",
   "execution_count": 5,
   "id": "latter-scout",
   "metadata": {},
   "outputs": [
    {
     "name": "stderr",
     "output_type": "stream",
     "text": [
      "100%|██████████| 54683129/54683129 [1:07:03<00:00, 13590.48it/s]\n"
     ]
    },
    {
     "data": {
      "text/plain": [
       "183887"
      ]
     },
     "execution_count": 5,
     "metadata": {},
     "output_type": "execute_result"
    }
   ],
   "source": [
    "missing_registration_date_count = 0\n",
    "with open(ores_preds_2019_filepath, 'r') as infile:\n",
    "    lines = []\n",
    "    for line in tqdm(infile, total=54683129):\n",
    "        op = json.loads(line)\n",
    "        rev_id = op['rev_id']\n",
    "        pred_timestamp = dateutil.parser.isoparse(op['pred_dt']).timestamp()\n",
    "\n",
    "        user = op['performer']\n",
    "        user_text = user['user_text']\n",
    "        user_is_bot = user['user_is_bot']\n",
    "        user_id = user['user_id'] if 'user_id' in user else None\n",
    "        user_groups = set(user['user_groups'])\n",
    "        if user_id:\n",
    "            user_is_trusted = np.any([group in TRUSTED_GROUPS for group in user_groups])\n",
    "            user_edit_count = user['user_edit_count']\n",
    "            if 'user_registration_dt' not in user:\n",
    "                missing_registration_date_count += 1\n",
    "            #else:\n",
    "                #user_registration_timestamp = dateutil.parser.isoparse(user['user_registration_dt']).timestamp()\n",
    "        else:\n",
    "            user_is_trusted = False\n",
    "            user_edit_count = 0\n",
    "\n",
    "\n",
    "        dinfo = op['damaging_info']\n",
    "        model_version = dinfo['model_version']\n",
    "        damaging_pred = dinfo['probability']['true']\n",
    "\n",
    "        gfinfo = op['goodfaith_info']\n",
    "        #assert gfinfo['model_version'] == model_version\n",
    "        goodfaith_pred = gfinfo['probability']['true']\n",
    "\n",
    "        lines.append({\n",
    "            'rev_id': rev_id,\n",
    "            'pred_timestamp': pred_timestamp,\n",
    "            'user_text': user_text,\n",
    "            'user_is_bot': user_is_bot,\n",
    "            'user_is_trusted': user_is_trusted,\n",
    "            'user_edit_count': user_edit_count,\n",
    "            'model_version': model_version,\n",
    "            'damaging_pred': damaging_pred,\n",
    "            'goodfaith_pred': goodfaith_pred,\n",
    "        })\n",
    "missing_registration_date_count"
   ]
  },
  {
   "cell_type": "code",
   "execution_count": 6,
   "id": "confirmed-scene",
   "metadata": {},
   "outputs": [
    {
     "data": {
      "text/plain": [
       "(54683129, datetime.timedelta(seconds=162, microseconds=70796))"
      ]
     },
     "execution_count": 6,
     "metadata": {},
     "output_type": "execute_result"
    }
   ],
   "source": [
    "s = datetime.now()\n",
    "df = pd.DataFrame(lines)\n",
    "len(df), datetime.now() - s"
   ]
  },
  {
   "cell_type": "code",
   "execution_count": 7,
   "id": "republican-provision",
   "metadata": {},
   "outputs": [
    {
     "data": {
      "text/html": [
       "<div>\n",
       "<style scoped>\n",
       "    .dataframe tbody tr th:only-of-type {\n",
       "        vertical-align: middle;\n",
       "    }\n",
       "\n",
       "    .dataframe tbody tr th {\n",
       "        vertical-align: top;\n",
       "    }\n",
       "\n",
       "    .dataframe thead th {\n",
       "        text-align: right;\n",
       "    }\n",
       "</style>\n",
       "<table border=\"1\" class=\"dataframe\">\n",
       "  <thead>\n",
       "    <tr style=\"text-align: right;\">\n",
       "      <th></th>\n",
       "      <th>rev_id</th>\n",
       "      <th>pred_timestamp</th>\n",
       "      <th>user_text</th>\n",
       "      <th>user_is_bot</th>\n",
       "      <th>user_is_trusted</th>\n",
       "      <th>user_edit_count</th>\n",
       "      <th>model_version</th>\n",
       "      <th>damaging_pred</th>\n",
       "      <th>goodfaith_pred</th>\n",
       "    </tr>\n",
       "  </thead>\n",
       "  <tbody>\n",
       "    <tr>\n",
       "      <th>0</th>\n",
       "      <td>876227280</td>\n",
       "      <td>1.546301e+09</td>\n",
       "      <td>InternetArchiveBot</td>\n",
       "      <td>True</td>\n",
       "      <td>True</td>\n",
       "      <td>3109800</td>\n",
       "      <td>0.4.0</td>\n",
       "      <td>0.005061</td>\n",
       "      <td>0.996423</td>\n",
       "    </tr>\n",
       "    <tr>\n",
       "      <th>1</th>\n",
       "      <td>876227282</td>\n",
       "      <td>1.546301e+09</td>\n",
       "      <td>DynamoDegsy</td>\n",
       "      <td>False</td>\n",
       "      <td>False</td>\n",
       "      <td>158278</td>\n",
       "      <td>0.4.0</td>\n",
       "      <td>0.011485</td>\n",
       "      <td>0.991927</td>\n",
       "    </tr>\n",
       "    <tr>\n",
       "      <th>2</th>\n",
       "      <td>876227283</td>\n",
       "      <td>1.546301e+09</td>\n",
       "      <td>TerribleTy2727</td>\n",
       "      <td>False</td>\n",
       "      <td>False</td>\n",
       "      <td>46</td>\n",
       "      <td>0.4.0</td>\n",
       "      <td>0.221970</td>\n",
       "      <td>0.935729</td>\n",
       "    </tr>\n",
       "    <tr>\n",
       "      <th>3</th>\n",
       "      <td>876227281</td>\n",
       "      <td>1.546301e+09</td>\n",
       "      <td>175.36.4.199</td>\n",
       "      <td>False</td>\n",
       "      <td>False</td>\n",
       "      <td>0</td>\n",
       "      <td>0.4.0</td>\n",
       "      <td>0.265990</td>\n",
       "      <td>0.944493</td>\n",
       "    </tr>\n",
       "    <tr>\n",
       "      <th>4</th>\n",
       "      <td>876227286</td>\n",
       "      <td>1.546301e+09</td>\n",
       "      <td>InceptionBot</td>\n",
       "      <td>True</td>\n",
       "      <td>True</td>\n",
       "      <td>1156474</td>\n",
       "      <td>0.4.0</td>\n",
       "      <td>0.005774</td>\n",
       "      <td>0.996814</td>\n",
       "    </tr>\n",
       "  </tbody>\n",
       "</table>\n",
       "</div>"
      ],
      "text/plain": [
       "      rev_id  pred_timestamp           user_text  user_is_bot  \\\n",
       "0  876227280    1.546301e+09  InternetArchiveBot         True   \n",
       "1  876227282    1.546301e+09         DynamoDegsy        False   \n",
       "2  876227283    1.546301e+09      TerribleTy2727        False   \n",
       "3  876227281    1.546301e+09        175.36.4.199        False   \n",
       "4  876227286    1.546301e+09        InceptionBot         True   \n",
       "\n",
       "   user_is_trusted  user_edit_count model_version  damaging_pred  \\\n",
       "0             True          3109800         0.4.0       0.005061   \n",
       "1            False           158278         0.4.0       0.011485   \n",
       "2            False               46         0.4.0       0.221970   \n",
       "3            False                0         0.4.0       0.265990   \n",
       "4             True          1156474         0.4.0       0.005774   \n",
       "\n",
       "   goodfaith_pred  \n",
       "0        0.996423  \n",
       "1        0.991927  \n",
       "2        0.935729  \n",
       "3        0.944493  \n",
       "4        0.996814  "
      ]
     },
     "execution_count": 7,
     "metadata": {},
     "output_type": "execute_result"
    }
   ],
   "source": [
    "df.head()"
   ]
  },
  {
   "cell_type": "code",
   "execution_count": 8,
   "id": "revolutionary-aside",
   "metadata": {},
   "outputs": [
    {
     "data": {
      "text/plain": [
       "0.5.0    53626234\n",
       "0.4.0     1056895\n",
       "Name: model_version, dtype: int64"
      ]
     },
     "execution_count": 8,
     "metadata": {},
     "output_type": "execute_result"
    }
   ],
   "source": [
    "df.model_version.value_counts()"
   ]
  },
  {
   "cell_type": "code",
   "execution_count": 9,
   "id": "checked-board",
   "metadata": {},
   "outputs": [
    {
     "name": "stdout",
     "output_type": "stream",
     "text": [
      "Finished saving to feather in 0:00:21.492500.\n"
     ]
    }
   ],
   "source": [
    "oidb_dir = \"/export/scratch2/levon003/repos/wiki-ores-feedback/data/derived/stub-history-all-revisions/oidb\"\n",
    "s = datetime.now()\n",
    "df.to_feather(os.path.join(oidb_dir, 'ores_2019.feather'))\n",
    "print(f\"Finished saving to feather in {datetime.now() - s}.\")"
   ]
  },
  {
   "cell_type": "code",
   "execution_count": 10,
   "id": "vietnamese-colors",
   "metadata": {},
   "outputs": [],
   "source": [
    "# free up some memory\n",
    "del lines"
   ]
  },
  {
   "cell_type": "code",
   "execution_count": 5,
   "id": "subsequent-voice",
   "metadata": {},
   "outputs": [
    {
     "name": "stdout",
     "output_type": "stream",
     "text": [
      "Loaded 54683129 rows from feather in 0:00:10.147248.\n"
     ]
    },
    {
     "data": {
      "text/html": [
       "<div>\n",
       "<style scoped>\n",
       "    .dataframe tbody tr th:only-of-type {\n",
       "        vertical-align: middle;\n",
       "    }\n",
       "\n",
       "    .dataframe tbody tr th {\n",
       "        vertical-align: top;\n",
       "    }\n",
       "\n",
       "    .dataframe thead th {\n",
       "        text-align: right;\n",
       "    }\n",
       "</style>\n",
       "<table border=\"1\" class=\"dataframe\">\n",
       "  <thead>\n",
       "    <tr style=\"text-align: right;\">\n",
       "      <th></th>\n",
       "      <th>rev_id</th>\n",
       "      <th>pred_timestamp</th>\n",
       "      <th>user_text</th>\n",
       "      <th>user_is_bot</th>\n",
       "      <th>user_is_trusted</th>\n",
       "      <th>user_edit_count</th>\n",
       "      <th>model_version</th>\n",
       "      <th>damaging_pred</th>\n",
       "      <th>goodfaith_pred</th>\n",
       "    </tr>\n",
       "  </thead>\n",
       "  <tbody>\n",
       "    <tr>\n",
       "      <th>0</th>\n",
       "      <td>876227280</td>\n",
       "      <td>1.546301e+09</td>\n",
       "      <td>InternetArchiveBot</td>\n",
       "      <td>True</td>\n",
       "      <td>True</td>\n",
       "      <td>3109800</td>\n",
       "      <td>0.4.0</td>\n",
       "      <td>0.005061</td>\n",
       "      <td>0.996423</td>\n",
       "    </tr>\n",
       "    <tr>\n",
       "      <th>1</th>\n",
       "      <td>876227282</td>\n",
       "      <td>1.546301e+09</td>\n",
       "      <td>DynamoDegsy</td>\n",
       "      <td>False</td>\n",
       "      <td>False</td>\n",
       "      <td>158278</td>\n",
       "      <td>0.4.0</td>\n",
       "      <td>0.011485</td>\n",
       "      <td>0.991927</td>\n",
       "    </tr>\n",
       "    <tr>\n",
       "      <th>2</th>\n",
       "      <td>876227283</td>\n",
       "      <td>1.546301e+09</td>\n",
       "      <td>TerribleTy2727</td>\n",
       "      <td>False</td>\n",
       "      <td>False</td>\n",
       "      <td>46</td>\n",
       "      <td>0.4.0</td>\n",
       "      <td>0.221970</td>\n",
       "      <td>0.935729</td>\n",
       "    </tr>\n",
       "    <tr>\n",
       "      <th>3</th>\n",
       "      <td>876227281</td>\n",
       "      <td>1.546301e+09</td>\n",
       "      <td>175.36.4.199</td>\n",
       "      <td>False</td>\n",
       "      <td>False</td>\n",
       "      <td>0</td>\n",
       "      <td>0.4.0</td>\n",
       "      <td>0.265990</td>\n",
       "      <td>0.944493</td>\n",
       "    </tr>\n",
       "    <tr>\n",
       "      <th>4</th>\n",
       "      <td>876227286</td>\n",
       "      <td>1.546301e+09</td>\n",
       "      <td>InceptionBot</td>\n",
       "      <td>True</td>\n",
       "      <td>True</td>\n",
       "      <td>1156474</td>\n",
       "      <td>0.4.0</td>\n",
       "      <td>0.005774</td>\n",
       "      <td>0.996814</td>\n",
       "    </tr>\n",
       "  </tbody>\n",
       "</table>\n",
       "</div>"
      ],
      "text/plain": [
       "      rev_id  pred_timestamp           user_text  user_is_bot  \\\n",
       "0  876227280    1.546301e+09  InternetArchiveBot         True   \n",
       "1  876227282    1.546301e+09         DynamoDegsy        False   \n",
       "2  876227283    1.546301e+09      TerribleTy2727        False   \n",
       "3  876227281    1.546301e+09        175.36.4.199        False   \n",
       "4  876227286    1.546301e+09        InceptionBot         True   \n",
       "\n",
       "   user_is_trusted  user_edit_count model_version  damaging_pred  \\\n",
       "0             True          3109800         0.4.0       0.005061   \n",
       "1            False           158278         0.4.0       0.011485   \n",
       "2            False               46         0.4.0       0.221970   \n",
       "3            False                0         0.4.0       0.265990   \n",
       "4             True          1156474         0.4.0       0.005774   \n",
       "\n",
       "   goodfaith_pred  \n",
       "0        0.996423  \n",
       "1        0.991927  \n",
       "2        0.935729  \n",
       "3        0.944493  \n",
       "4        0.996814  "
      ]
     },
     "execution_count": 5,
     "metadata": {},
     "output_type": "execute_result"
    }
   ],
   "source": [
    "# read in the ores predictions\n",
    "oidb_dir = \"/export/scratch2/levon003/repos/wiki-ores-feedback/data/derived/stub-history-all-revisions/oidb\"\n",
    "s = datetime.now()\n",
    "ores_df = pd.read_feather(os.path.join(oidb_dir, 'ores_2019.feather'))\n",
    "print(f\"Loaded {len(ores_df)} rows from feather in {datetime.now() - s}.\")\n",
    "ores_df.head()"
   ]
  },
  {
   "cell_type": "code",
   "execution_count": 6,
   "id": "incomplete-permit",
   "metadata": {},
   "outputs": [
    {
     "data": {
      "text/html": [
       "<div>\n",
       "<style scoped>\n",
       "    .dataframe tbody tr th:only-of-type {\n",
       "        vertical-align: middle;\n",
       "    }\n",
       "\n",
       "    .dataframe tbody tr th {\n",
       "        vertical-align: top;\n",
       "    }\n",
       "\n",
       "    .dataframe thead th {\n",
       "        text-align: right;\n",
       "    }\n",
       "</style>\n",
       "<table border=\"1\" class=\"dataframe\">\n",
       "  <thead>\n",
       "    <tr style=\"text-align: right;\">\n",
       "      <th></th>\n",
       "      <th>rev_id</th>\n",
       "      <th>pred_timestamp</th>\n",
       "      <th>user_text</th>\n",
       "      <th>user_is_bot</th>\n",
       "      <th>user_is_trusted</th>\n",
       "      <th>user_edit_count</th>\n",
       "      <th>model_version</th>\n",
       "      <th>damaging_pred</th>\n",
       "      <th>goodfaith_pred</th>\n",
       "    </tr>\n",
       "  </thead>\n",
       "  <tbody>\n",
       "    <tr>\n",
       "      <th>24408525</th>\n",
       "      <td>901148879</td>\n",
       "      <td>1.560127e+09</td>\n",
       "      <td>Everedux</td>\n",
       "      <td>False</td>\n",
       "      <td>True</td>\n",
       "      <td>16013</td>\n",
       "      <td>0.5.0</td>\n",
       "      <td>0.028979</td>\n",
       "      <td>0.993628</td>\n",
       "    </tr>\n",
       "    <tr>\n",
       "      <th>6831422</th>\n",
       "      <td>883177355</td>\n",
       "      <td>1.550086e+09</td>\n",
       "      <td>Abdotorg</td>\n",
       "      <td>False</td>\n",
       "      <td>True</td>\n",
       "      <td>15842</td>\n",
       "      <td>0.5.0</td>\n",
       "      <td>0.008631</td>\n",
       "      <td>0.991590</td>\n",
       "    </tr>\n",
       "    <tr>\n",
       "      <th>38166024</th>\n",
       "      <td>916021145</td>\n",
       "      <td>1.568647e+09</td>\n",
       "      <td>Bluesangrel</td>\n",
       "      <td>False</td>\n",
       "      <td>False</td>\n",
       "      <td>120669</td>\n",
       "      <td>0.5.0</td>\n",
       "      <td>0.032846</td>\n",
       "      <td>0.975894</td>\n",
       "    </tr>\n",
       "    <tr>\n",
       "      <th>29427568</th>\n",
       "      <td>906267830</td>\n",
       "      <td>1.563134e+09</td>\n",
       "      <td>The Man in Question</td>\n",
       "      <td>False</td>\n",
       "      <td>False</td>\n",
       "      <td>39237</td>\n",
       "      <td>0.5.0</td>\n",
       "      <td>0.003961</td>\n",
       "      <td>0.997817</td>\n",
       "    </tr>\n",
       "    <tr>\n",
       "      <th>53918793</th>\n",
       "      <td>932663265</td>\n",
       "      <td>1.577452e+09</td>\n",
       "      <td>Kleool</td>\n",
       "      <td>False</td>\n",
       "      <td>False</td>\n",
       "      <td>1394</td>\n",
       "      <td>0.5.0</td>\n",
       "      <td>0.014921</td>\n",
       "      <td>0.994792</td>\n",
       "    </tr>\n",
       "    <tr>\n",
       "      <th>15054827</th>\n",
       "      <td>891578377</td>\n",
       "      <td>1.554758e+09</td>\n",
       "      <td>Imtiyaz3333</td>\n",
       "      <td>False</td>\n",
       "      <td>False</td>\n",
       "      <td>45</td>\n",
       "      <td>0.5.0</td>\n",
       "      <td>0.021867</td>\n",
       "      <td>0.990273</td>\n",
       "    </tr>\n",
       "    <tr>\n",
       "      <th>17119149</th>\n",
       "      <td>893688996</td>\n",
       "      <td>1.555977e+09</td>\n",
       "      <td>Legende Legende</td>\n",
       "      <td>False</td>\n",
       "      <td>False</td>\n",
       "      <td>371</td>\n",
       "      <td>0.5.0</td>\n",
       "      <td>0.390158</td>\n",
       "      <td>0.793651</td>\n",
       "    </tr>\n",
       "    <tr>\n",
       "      <th>3134588</th>\n",
       "      <td>879415019</td>\n",
       "      <td>1.548039e+09</td>\n",
       "      <td>Riccckyyy</td>\n",
       "      <td>False</td>\n",
       "      <td>False</td>\n",
       "      <td>5057</td>\n",
       "      <td>0.5.0</td>\n",
       "      <td>0.022409</td>\n",
       "      <td>0.992371</td>\n",
       "    </tr>\n",
       "    <tr>\n",
       "      <th>16695846</th>\n",
       "      <td>893250736</td>\n",
       "      <td>1.555728e+09</td>\n",
       "      <td>JJMC89</td>\n",
       "      <td>False</td>\n",
       "      <td>True</td>\n",
       "      <td>180252</td>\n",
       "      <td>0.5.0</td>\n",
       "      <td>0.006380</td>\n",
       "      <td>0.993517</td>\n",
       "    </tr>\n",
       "    <tr>\n",
       "      <th>14439460</th>\n",
       "      <td>890950077</td>\n",
       "      <td>1.554396e+09</td>\n",
       "      <td>Xqbot</td>\n",
       "      <td>True</td>\n",
       "      <td>True</td>\n",
       "      <td>1690108</td>\n",
       "      <td>0.5.0</td>\n",
       "      <td>0.008237</td>\n",
       "      <td>0.994945</td>\n",
       "    </tr>\n",
       "  </tbody>\n",
       "</table>\n",
       "</div>"
      ],
      "text/plain": [
       "             rev_id  pred_timestamp            user_text  user_is_bot  \\\n",
       "24408525  901148879    1.560127e+09             Everedux        False   \n",
       "6831422   883177355    1.550086e+09             Abdotorg        False   \n",
       "38166024  916021145    1.568647e+09          Bluesangrel        False   \n",
       "29427568  906267830    1.563134e+09  The Man in Question        False   \n",
       "53918793  932663265    1.577452e+09               Kleool        False   \n",
       "15054827  891578377    1.554758e+09          Imtiyaz3333        False   \n",
       "17119149  893688996    1.555977e+09      Legende Legende        False   \n",
       "3134588   879415019    1.548039e+09            Riccckyyy        False   \n",
       "16695846  893250736    1.555728e+09               JJMC89        False   \n",
       "14439460  890950077    1.554396e+09                Xqbot         True   \n",
       "\n",
       "          user_is_trusted  user_edit_count model_version  damaging_pred  \\\n",
       "24408525             True            16013         0.5.0       0.028979   \n",
       "6831422              True            15842         0.5.0       0.008631   \n",
       "38166024            False           120669         0.5.0       0.032846   \n",
       "29427568            False            39237         0.5.0       0.003961   \n",
       "53918793            False             1394         0.5.0       0.014921   \n",
       "15054827            False               45         0.5.0       0.021867   \n",
       "17119149            False              371         0.5.0       0.390158   \n",
       "3134588             False             5057         0.5.0       0.022409   \n",
       "16695846             True           180252         0.5.0       0.006380   \n",
       "14439460             True          1690108         0.5.0       0.008237   \n",
       "\n",
       "          goodfaith_pred  \n",
       "24408525        0.993628  \n",
       "6831422         0.991590  \n",
       "38166024        0.975894  \n",
       "29427568        0.997817  \n",
       "53918793        0.994792  \n",
       "15054827        0.990273  \n",
       "17119149        0.793651  \n",
       "3134588         0.992371  \n",
       "16695846        0.993517  \n",
       "14439460        0.994945  "
      ]
     },
     "execution_count": 6,
     "metadata": {},
     "output_type": "execute_result"
    }
   ],
   "source": [
    "ores_df.sample(n=10)"
   ]
  },
  {
   "cell_type": "code",
   "execution_count": 7,
   "id": "electric-kingdom",
   "metadata": {},
   "outputs": [
    {
     "name": "stdout",
     "output_type": "stream",
     "text": [
      "Finished sort in 0:00:10.325627.\n"
     ]
    }
   ],
   "source": [
    "s = datetime.now()\n",
    "ores_df = ores_df.sort_values(by='pred_timestamp', ascending=True)\n",
    "print(f\"Finished sort in {datetime.now() - s}.\")"
   ]
  },
  {
   "cell_type": "code",
   "execution_count": 8,
   "id": "medical-registration",
   "metadata": {},
   "outputs": [
    {
     "name": "stdout",
     "output_type": "stream",
     "text": [
      "Identified 54681789 unique rev_ids of which 1277 are duplicated at least once. Done in 0:00:22.592790.\n"
     ]
    },
    {
     "data": {
      "text/plain": [
       "899529828    5\n",
       "920236003    4\n",
       "920235961    4\n",
       "920235996    4\n",
       "895233079    3\n",
       "920236002    3\n",
       "897298148    3\n",
       "924403009    3\n",
       "920236006    3\n",
       "920235990    3\n",
       "931428681    3\n",
       "899514155    3\n",
       "914334321    3\n",
       "916183612    3\n",
       "914334401    3\n",
       "924403016    3\n",
       "896140848    3\n",
       "920235992    3\n",
       "900656693    3\n",
       "919177360    3\n",
       "Name: rev_id, dtype: int64"
      ]
     },
     "execution_count": 8,
     "metadata": {},
     "output_type": "execute_result"
    }
   ],
   "source": [
    "# 1277 duplicate rev_ids\n",
    "s = datetime.now()\n",
    "rev_counts = ores_df.rev_id.value_counts()\n",
    "print(f\"Identified {len(rev_counts)} unique rev_ids of which {np.sum(rev_counts > 1)} are duplicated at least once. Done in {datetime.now() - s}.\")\n",
    "rev_counts[rev_counts > 1].head(20)"
   ]
  },
  {
   "cell_type": "code",
   "execution_count": 9,
   "id": "impossible-milan",
   "metadata": {},
   "outputs": [
    {
     "data": {
      "text/plain": [
       "(54681789, '0:00:36.144979')"
      ]
     },
     "execution_count": 9,
     "metadata": {},
     "output_type": "execute_result"
    }
   ],
   "source": [
    "# drop duplicate rev_ids\n",
    "s = datetime.now()\n",
    "ores_df = ores_df.drop_duplicates(subset='rev_id', keep='first')\n",
    "len(ores_df), str(datetime.now() - s)"
   ]
  },
  {
   "cell_type": "code",
   "execution_count": 10,
   "id": "closing-doubt",
   "metadata": {},
   "outputs": [],
   "source": [
    "# make rev_id the index\n",
    "ores_df = ores_df.set_index('rev_id')"
   ]
  },
  {
   "cell_type": "code",
   "execution_count": null,
   "id": "victorian-redhead",
   "metadata": {},
   "outputs": [],
   "source": []
  },
  {
   "cell_type": "code",
   "execution_count": 17,
   "id": "quantitative-hammer",
   "metadata": {},
   "outputs": [
    {
     "name": "stderr",
     "output_type": "stream",
     "text": [
      "100%|██████████| 3874852/3874852 [44:35<00:00, 1448.19it/s]\n"
     ]
    },
    {
     "data": {
      "text/plain": [
       "(0, 0)"
      ]
     },
     "execution_count": 17,
     "metadata": {},
     "output_type": "execute_result"
    }
   ],
   "source": [
    "# generate the user_text_dict\n",
    "# needed in order to \n",
    "user_text_dict = {}\n",
    "on_newcomer_crux_count = 0\n",
    "on_max_edit_crux_count = 0\n",
    "for user_text, group in tqdm(ores_df.groupby(by='user_text', sort=False)):\n",
    "    user_is_bot = np.any(group.user_is_bot)\n",
    "    user_is_trusted = np.any(group.user_is_trusted)\n",
    "    min_edits = np.min(group.user_edit_count)\n",
    "    max_edits = np.min(group.user_edit_count)\n",
    "    if min_edits < 10 and max_edits > 10:\n",
    "        #print(f\"User on the 10-edit crux; {user_text}\")\n",
    "        #print(group)\n",
    "        #break\n",
    "        on_newcomer_crux_count += 1\n",
    "    elif min_edits < 500 and max_edits > 500:\n",
    "        #print(f\"User on the 500-edit crux; {user_text}\")\n",
    "        #print(group)\n",
    "        #break\n",
    "        on_max_edit_crux_count += 1\n",
    "    user_edit_count = int(np.median(group.user_edit_count))\n",
    "    user_text_dict[user_text] = (user_is_bot, user_is_trusted, user_edit_count)\n",
    "on_newcomer_crux_count, on_max_edit_crux_count"
   ]
  },
  {
   "cell_type": "code",
   "execution_count": null,
   "id": "improved-valley",
   "metadata": {},
   "outputs": [],
   "source": []
  },
  {
   "cell_type": "code",
   "execution_count": 11,
   "id": "selective-paraguay",
   "metadata": {},
   "outputs": [
    {
     "data": {
      "text/plain": [
       "2277346"
      ]
     },
     "execution_count": 11,
     "metadata": {},
     "output_type": "execute_result"
    }
   ],
   "source": [
    "oidb_dir = \"/export/scratch2/levon003/repos/wiki-ores-feedback/data/derived/stub-history-all-revisions/oidb\"\n",
    "missing_ores_df = pd.read_csv(os.path.join(oidb_dir, 'rev_ids_missing_scores_available.csv'), \n",
    "                             header=None,\n",
    "                             names=['rev_id', 'damaging_pred', 'damaging_label', 'd_model_version', 'goodfaith_pred', 'goodfaith_label', 'gf_model_version']\n",
    "                             )\n",
    "len(missing_ores_df)"
   ]
  },
  {
   "cell_type": "code",
   "execution_count": 12,
   "id": "consecutive-hampshire",
   "metadata": {},
   "outputs": [
    {
     "data": {
      "text/html": [
       "<div>\n",
       "<style scoped>\n",
       "    .dataframe tbody tr th:only-of-type {\n",
       "        vertical-align: middle;\n",
       "    }\n",
       "\n",
       "    .dataframe tbody tr th {\n",
       "        vertical-align: top;\n",
       "    }\n",
       "\n",
       "    .dataframe thead th {\n",
       "        text-align: right;\n",
       "    }\n",
       "</style>\n",
       "<table border=\"1\" class=\"dataframe\">\n",
       "  <thead>\n",
       "    <tr style=\"text-align: right;\">\n",
       "      <th></th>\n",
       "      <th>rev_id</th>\n",
       "      <th>damaging_pred</th>\n",
       "      <th>damaging_label</th>\n",
       "      <th>d_model_version</th>\n",
       "      <th>goodfaith_pred</th>\n",
       "      <th>goodfaith_label</th>\n",
       "      <th>gf_model_version</th>\n",
       "    </tr>\n",
       "  </thead>\n",
       "  <tbody>\n",
       "    <tr>\n",
       "      <th>0</th>\n",
       "      <td>880647041</td>\n",
       "      <td>0.008813</td>\n",
       "      <td>False</td>\n",
       "      <td>0.5.1</td>\n",
       "      <td>0.989774</td>\n",
       "      <td>True</td>\n",
       "      <td>0.5.1</td>\n",
       "    </tr>\n",
       "    <tr>\n",
       "      <th>1</th>\n",
       "      <td>879351281</td>\n",
       "      <td>0.006221</td>\n",
       "      <td>False</td>\n",
       "      <td>0.5.1</td>\n",
       "      <td>0.996597</td>\n",
       "      <td>True</td>\n",
       "      <td>0.5.1</td>\n",
       "    </tr>\n",
       "    <tr>\n",
       "      <th>2</th>\n",
       "      <td>883544619</td>\n",
       "      <td>0.003113</td>\n",
       "      <td>False</td>\n",
       "      <td>0.5.1</td>\n",
       "      <td>0.998540</td>\n",
       "      <td>True</td>\n",
       "      <td>0.5.1</td>\n",
       "    </tr>\n",
       "    <tr>\n",
       "      <th>3</th>\n",
       "      <td>880306481</td>\n",
       "      <td>0.021600</td>\n",
       "      <td>False</td>\n",
       "      <td>0.5.1</td>\n",
       "      <td>0.980105</td>\n",
       "      <td>True</td>\n",
       "      <td>0.5.1</td>\n",
       "    </tr>\n",
       "    <tr>\n",
       "      <th>4</th>\n",
       "      <td>884600289</td>\n",
       "      <td>0.008411</td>\n",
       "      <td>False</td>\n",
       "      <td>0.5.1</td>\n",
       "      <td>0.992072</td>\n",
       "      <td>True</td>\n",
       "      <td>0.5.1</td>\n",
       "    </tr>\n",
       "  </tbody>\n",
       "</table>\n",
       "</div>"
      ],
      "text/plain": [
       "      rev_id  damaging_pred  damaging_label d_model_version  goodfaith_pred  \\\n",
       "0  880647041       0.008813           False           0.5.1        0.989774   \n",
       "1  879351281       0.006221           False           0.5.1        0.996597   \n",
       "2  883544619       0.003113           False           0.5.1        0.998540   \n",
       "3  880306481       0.021600           False           0.5.1        0.980105   \n",
       "4  884600289       0.008411           False           0.5.1        0.992072   \n",
       "\n",
       "   goodfaith_label gf_model_version  \n",
       "0             True            0.5.1  \n",
       "1             True            0.5.1  \n",
       "2             True            0.5.1  \n",
       "3             True            0.5.1  \n",
       "4             True            0.5.1  "
      ]
     },
     "execution_count": 12,
     "metadata": {},
     "output_type": "execute_result"
    }
   ],
   "source": [
    "missing_ores_df.head()"
   ]
  },
  {
   "cell_type": "code",
   "execution_count": 13,
   "id": "choice-recipient",
   "metadata": {},
   "outputs": [],
   "source": [
    "# make rev_id the index\n",
    "missing_ores_df = missing_ores_df.set_index('rev_id')"
   ]
  },
  {
   "cell_type": "code",
   "execution_count": 15,
   "id": "electronic-sleeping",
   "metadata": {},
   "outputs": [
    {
     "name": "stderr",
     "output_type": "stream",
     "text": [
      "100%|██████████| 15570615/15570615 [02:08<00:00, 120903.43it/s]\n"
     ]
    }
   ],
   "source": [
    "page_info_dict = {}\n",
    "with open(os.path.join(oidb_dir, 'page.ndjson'), 'r') as infile:\n",
    "    for line in tqdm(infile, total=15570615):\n",
    "        page = json.loads(line)\n",
    "        page_id = page['page_id']\n",
    "        page_info = page['range_rev_count'], page['wiki_namespace'], page['is_page_redirect']\n",
    "        page_info_dict[page_id] = page_info"
   ]
  },
  {
   "cell_type": "code",
   "execution_count": null,
   "id": "solar-movement",
   "metadata": {},
   "outputs": [],
   "source": []
  },
  {
   "cell_type": "code",
   "execution_count": 18,
   "id": "thrown-berkeley",
   "metadata": {},
   "outputs": [
    {
     "name": "stderr",
     "output_type": "stream",
     "text": [
      "Reading revision data:   0%|          | 2876/117569278 [00:00<2:15:31, 14458.79it/s]"
     ]
    },
    {
     "name": "stdout",
     "output_type": "stream",
     "text": [
      "Identified first completely missing score. 876227356\n",
      "Identified first available 'missing' score.\n",
      "Identified first 'missing' rev with available user info. 876227372 AnomieBOT\n"
     ]
    },
    {
     "name": "stderr",
     "output_type": "stream",
     "text": [
      "Reading revision data:  47%|████▋     | 55130432/117569278 [58:47<1:06:34, 15629.80it/s]\n"
     ]
    },
    {
     "data": {
      "text/plain": [
       "(59262, 55130433, 0.0010749416751361267)"
      ]
     },
     "execution_count": 18,
     "metadata": {},
     "output_type": "execute_result"
    }
   ],
   "source": [
    "start_date = datetime.fromisoformat('2019-01-01').replace(tzinfo=pytz.UTC)  # start of 2019\n",
    "start_timestamp = int(start_date.timestamp())\n",
    "midpoint_date = datetime.fromisoformat('2020-01-01').replace(tzinfo=pytz.UTC)\n",
    "midpoint_timestamp = int(midpoint_date.timestamp())\n",
    "end_date = datetime.fromisoformat('2021-01-01').replace(tzinfo=pytz.UTC)\n",
    "end_timestamp = int(end_date.timestamp())\n",
    "with open(os.path.join(oidb_dir, 'revs.tsv'), 'r') as infile, open(os.path.join(oidb_dir, 'revs_scored.tsv'), 'w') as outfile:\n",
    "    processed_count = 0\n",
    "    missing_rev_ids = set()\n",
    "    missing_score_count = 0\n",
    "    existing_user_available_count = 0\n",
    "    for line in tqdm(infile, total=117569278, desc='Reading revision data'):\n",
    "        processed_count += 1\n",
    "        tokens = line.strip().split('\\t')\n",
    "        assert len(tokens) == 20\n",
    "        rev_timestamp, page_id, rev_id, prev_rev_id, is_minor, user_text, user_id, seconds_to_prev, curr_bytes, delta_bytes, has_edit_summary, is_reverted, is_revert, is_reverted_to_by_other, is_self_reverted, is_self_revert, revert_target_id, revert_set_size, revert_id, seconds_to_revert = tokens\n",
    "        rev_id = int(rev_id)\n",
    "        page_id = int(page_id)\n",
    "        rev_timestamp = int(rev_timestamp)\n",
    "        if rev_timestamp > midpoint_timestamp:\n",
    "            break\n",
    "        # speed note: using .at is fast, much faster than .loc, still slower than dicts but fine\n",
    "        if rev_id in ores_df.index:\n",
    "            damaging_pred = ores_df.at[rev_id, 'damaging_pred']\n",
    "            goodfaith_pred = ores_df.at[rev_id, 'goodfaith_pred']\n",
    "            model_version = ores_df.at[rev_id, 'model_version']\n",
    "            user_is_bot = ores_df.at[rev_id, 'user_is_bot']\n",
    "            user_is_trusted = ores_df.at[rev_id, 'user_is_trusted']\n",
    "            user_edit_count = ores_df.at[rev_id, 'user_edit_count']\n",
    "        elif rev_id in missing_ores_df.index:\n",
    "            missing_score_count += 1\n",
    "            if missing_score_count == 1:\n",
    "                print(\"Identified first available 'missing' score.\")\n",
    "            damaging_pred = missing_ores_df.at[rev_id, 'damaging_pred']\n",
    "            goodfaith_pred = missing_ores_df.at[rev_id, 'goodfaith_pred']\n",
    "            model_version = missing_ores_df.at[rev_id, 'd_model_version']\n",
    "            \n",
    "            #user_group = ores_df[ores_df.user_text == user_text]\n",
    "            #if len(user_group) == 0:\n",
    "            if user_text not in user_text_dict:\n",
    "                user_is_bot = False\n",
    "                user_is_trusted = False\n",
    "                user_edit_count = 0\n",
    "            else:\n",
    "                existing_user_available_count += 1\n",
    "                if existing_user_available_count == 1:\n",
    "                    print(f\"Identified first 'missing' rev with available user info. {rev_id} {user_text}\")\n",
    "                user_is_bot, user_is_trusted, user_edit_count = user_text_dict[user_text]\n",
    "                #user_is_bot = np.any(user_group.user_is_bot)\n",
    "                #user_is_trusted = np.any(user_group.user_is_trusted)\n",
    "                #user_edit_count = int(np.median(user_group.user_edit_count))\n",
    "        else:\n",
    "            # rev id just plain missing\n",
    "            missing_rev_ids.add(rev_id)\n",
    "            if len(missing_rev_ids) == 1:\n",
    "                print(f\"Identified first completely missing score. {rev_id}\")\n",
    "            continue\n",
    "        # get page data\n",
    "        page_info = page_info_dict[page_id]\n",
    "        page_rev_count, page_namespace, is_page_redirect = page_info\n",
    "            \n",
    "        new_line = line.strip() + f\"\\t{damaging_pred}\\t{goodfaith_pred}\\t{model_version}\\t{user_is_bot}\\t{user_is_trusted}\\t{user_edit_count}\\t{page_rev_count}\\t{page_namespace}\\t{is_page_redirect}\\n\"\n",
    "        outfile.write(new_line)\n",
    "len(missing_rev_ids), processed_count, len(missing_rev_ids) / processed_count"
   ]
  },
  {
   "cell_type": "code",
   "execution_count": 21,
   "id": "informational-pierce",
   "metadata": {},
   "outputs": [
    {
     "data": {
      "text/plain": [
       "(2277346, 2082589, 0.9144807157103049)"
      ]
     },
     "execution_count": 21,
     "metadata": {},
     "output_type": "execute_result"
    }
   ],
   "source": [
    "missing_score_count, existing_user_available_count, existing_user_available_count / missing_score_count"
   ]
  },
  {
   "cell_type": "code",
   "execution_count": 22,
   "id": "appropriate-certificate",
   "metadata": {},
   "outputs": [
    {
     "data": {
      "text/plain": [
       "'In 194757 cases, we had no user info so we assumed the user was not a bot, not trusted, and had no edits.'"
      ]
     },
     "execution_count": 22,
     "metadata": {},
     "output_type": "execute_result"
    }
   ],
   "source": [
    "f\"In {missing_score_count - existing_user_available_count} cases, we had no user info so we assumed the user was not a bot, not trusted, and had no edits.\""
   ]
  },
  {
   "cell_type": "code",
   "execution_count": 20,
   "id": "quiet-event",
   "metadata": {},
   "outputs": [
    {
     "data": {
      "text/plain": [
       "[917635072, 898236417, 911736835, 916324356, 923533315]"
      ]
     },
     "execution_count": 20,
     "metadata": {},
     "output_type": "execute_result"
    }
   ],
   "source": [
    "list(missing_rev_ids)[:5]"
   ]
  },
  {
   "cell_type": "code",
   "execution_count": null,
   "id": "hourly-efficiency",
   "metadata": {},
   "outputs": [],
   "source": []
  },
  {
   "cell_type": "code",
   "execution_count": null,
   "id": "clear-empire",
   "metadata": {},
   "outputs": [],
   "source": []
  },
  {
   "cell_type": "markdown",
   "id": "jewish-metabolism",
   "metadata": {},
   "source": [
    "### Earlier investigation of data quality\n",
    "\n",
    "Includes code to identify rev_ids without ORES predictions."
   ]
  },
  {
   "cell_type": "code",
   "execution_count": 8,
   "id": "scientific-devil",
   "metadata": {
    "tags": []
   },
   "outputs": [
    {
     "name": "stderr",
     "output_type": "stream",
     "text": [
      "100%|██████████| 54683129/54683129 [00:29<00:00, 1877645.94it/s]\n"
     ]
    },
    {
     "data": {
      "text/plain": [
       "54681789"
      ]
     },
     "execution_count": 8,
     "metadata": {},
     "output_type": "execute_result"
    }
   ],
   "source": [
    "rev_id_pred_timestamp_dict = {\n",
    "    rev_id: pred_timestamp\n",
    "    for rev_id, pred_timestamp in tqdm(zip(ores_df.rev_id, ores_df.pred_timestamp), total=len(ores_df))\n",
    "}\n",
    "len(rev_id_pred_timestamp_dict)"
   ]
  },
  {
   "cell_type": "code",
   "execution_count": 10,
   "id": "thorough-dominant",
   "metadata": {
    "tags": []
   },
   "outputs": [
    {
     "name": "stderr",
     "output_type": "stream",
     "text": [
      "Reading revision data: 117579242it [07:15, 270151.42it/s]                               \n"
     ]
    },
    {
     "data": {
      "text/plain": [
       "(64785418, 117579242)"
      ]
     },
     "execution_count": 10,
     "metadata": {},
     "output_type": "execute_result"
    }
   ],
   "source": [
    "start_date = datetime.fromisoformat('2019-01-01').replace(tzinfo=pytz.UTC)  # start of 2019\n",
    "start_timestamp = int(start_date.timestamp())\n",
    "midpoint_date = datetime.fromisoformat('2020-01-01').replace(tzinfo=pytz.UTC)\n",
    "midpoint_timestamp = int(midpoint_date.timestamp())\n",
    "end_date = datetime.fromisoformat('2021-01-01').replace(tzinfo=pytz.UTC)\n",
    "end_timestamp = int(end_date.timestamp())\n",
    "with open(os.path.join(oidb_dir, 'revs.tsv'), 'r') as infile:\n",
    "    processed_count = 0\n",
    "    missing_rev_count = 0\n",
    "    missing_in_2019_count = 0\n",
    "    missing_rev_ids = set()\n",
    "    pred_delay_list = []\n",
    "    for line in tqdm(infile, total=117569278, desc='Reading revision data'):\n",
    "        processed_count += 1\n",
    "        tokens = line.strip().split('\\t')\n",
    "        assert len(tokens) == 20\n",
    "        rev_timestamp, page_id, rev_id, prev_rev_id, is_minor, user_text, user_id, seconds_to_prev, curr_bytes, delta_bytes, has_edit_summary, is_reverted, is_revert, is_reverted_to_by_other, is_self_reverted, is_self_revert, revert_target_id, revert_set_size, revert_id, seconds_to_revert = tokens\n",
    "        rev_id = int(rev_id)\n",
    "        rev_timestamp = int(rev_timestamp)\n",
    "        if rev_id not in rev_id_pred_timestamp_dict:\n",
    "            missing_rev_count += 1\n",
    "            if rev_timestamp >= start_timestamp and rev_timestamp <= midpoint_timestamp:\n",
    "                missing_in_2019_count += 1\n",
    "                missing_rev_ids.add(rev_id)\n",
    "        else:\n",
    "            pred_timestamp = rev_id_pred_timestamp_dict[rev_id]\n",
    "            pred_delay_list.append(pred_timestamp - int(rev_timestamp))\n",
    "missing_rev_count, processed_count"
   ]
  },
  {
   "cell_type": "code",
   "execution_count": 11,
   "id": "median-spirit",
   "metadata": {},
   "outputs": [
    {
     "data": {
      "text/plain": [
       "0.5509936694437952"
      ]
     },
     "execution_count": 11,
     "metadata": {},
     "output_type": "execute_result"
    }
   ],
   "source": [
    "missing_rev_count / processed_count"
   ]
  },
  {
   "cell_type": "code",
   "execution_count": 14,
   "id": "worth-illustration",
   "metadata": {},
   "outputs": [
    {
     "data": {
      "text/plain": [
       "(2336608, 0.019872623434670552)"
      ]
     },
     "execution_count": 14,
     "metadata": {},
     "output_type": "execute_result"
    }
   ],
   "source": [
    "# 2% of the missing revisions are from 2019.\n",
    "missing_in_2019_count, missing_in_2019_count / processed_count"
   ]
  },
  {
   "cell_type": "code",
   "execution_count": 17,
   "id": "respiratory-membership",
   "metadata": {},
   "outputs": [
    {
     "name": "stdout",
     "output_type": "stream",
     "text": [
      "Finished.\n"
     ]
    }
   ],
   "source": [
    "# save the missing revisions\n",
    "oidb_dir = \"/export/scratch2/levon003/repos/wiki-ores-feedback/data/derived/stub-history-all-revisions/oidb\"\n",
    "missing_rev_id_list = sorted(list(missing_rev_ids))\n",
    "with open(os.path.join(oidb_dir, 'rev_ids_missing_scores.txt'), 'w') as outfile:\n",
    "    for rev_id in missing_rev_id_list:\n",
    "        outfile.write(str(rev_id) + \"\\n\")\n",
    "print(\"Finished.\")"
   ]
  },
  {
   "cell_type": "code",
   "execution_count": 20,
   "id": "adult-douglas",
   "metadata": {},
   "outputs": [
    {
     "data": {
      "text/plain": [
       "933439940"
      ]
     },
     "execution_count": 20,
     "metadata": {},
     "output_type": "execute_result"
    }
   ],
   "source": [
    "list(rev_id_pred_timestamp_dict)[-1]"
   ]
  },
  {
   "cell_type": "code",
   "execution_count": 25,
   "id": "exterior-working",
   "metadata": {},
   "outputs": [
    {
     "data": {
      "text/plain": [
       "52793834"
      ]
     },
     "execution_count": 25,
     "metadata": {},
     "output_type": "execute_result"
    }
   ],
   "source": [
    "pred_delay_list = np.array(pred_delay_list)\n",
    "len(pred_delay_list)"
   ]
  },
  {
   "cell_type": "code",
   "execution_count": 33,
   "id": "popular-timothy",
   "metadata": {},
   "outputs": [],
   "source": [
    "pred_delay_list += 18000"
   ]
  },
  {
   "cell_type": "code",
   "execution_count": 34,
   "id": "talented-baltimore",
   "metadata": {},
   "outputs": [
    {
     "data": {
      "text/plain": [
       "(-3599.4960000514984,\n",
       " -3598.4749999046326,\n",
       " 2.4809999465942383,\n",
       " 80.54600992441713,\n",
       " 486387.1930000782)"
      ]
     },
     "execution_count": 34,
     "metadata": {},
     "output_type": "execute_result"
    }
   ],
   "source": [
    "np.min(pred_delay_list), \\\n",
    "np.quantile(pred_delay_list, 0.01), \\\n",
    "np.quantile(pred_delay_list, 0.5), \\\n",
    "np.quantile(pred_delay_list, 0.99),\\\n",
    "np.max(pred_delay_list)"
   ]
  },
  {
   "cell_type": "code",
   "execution_count": 35,
   "id": "continental-convertible",
   "metadata": {},
   "outputs": [
    {
     "data": {
      "image/png": "[encoded data removed]",
      "text/plain": [
       "<Figure size 432x288 with 1 Axes>"
      ]
     },
     "metadata": {
      "needs_background": "light"
     },
     "output_type": "display_data"
    }
   ],
   "source": [
    "fig, ax = plt.subplots()\n",
    "\n",
    "bins= np.linspace(np.quantile(pred_delay_list, 0.01), np.quantile(pred_delay_list, 0.99), num=20)\n",
    "ax.hist(pred_delay_list, bins=bins, log=True)\n",
    "\n",
    "plt.show()"
   ]
  },
  {
   "cell_type": "code",
   "execution_count": null,
   "id": "surface-secondary",
   "metadata": {},
   "outputs": [],
   "source": []
  },
  {
   "cell_type": "code",
   "execution_count": null,
   "id": "approved-packet",
   "metadata": {},
   "outputs": [],
   "source": []
  }
 ],
 "metadata": {
  "kernelspec": {
   "display_name": "Flagon Python3",
   "language": "python",
   "name": "flagon-conda-env"
  },
  "language_info": {
   "codemirror_mode": {
    "name": "ipython",
    "version": 3
   },
   "file_extension": ".py",
   "mimetype": "text/x-python",
   "name": "python",
   "nbconvert_exporter": "python",
   "pygments_lexer": "ipython3",
   "version": "3.7.10"
  }
 },
 "nbformat": 4,
 "nbformat_minor": 5
}
