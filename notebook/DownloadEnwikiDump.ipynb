{
 "cells": [
  {
   "cell_type": "markdown",
   "metadata": {},
   "source": [
    "Download Files\n",
    "===\n",
    "\n"
   ]
  },
  {
   "cell_type": "code",
   "execution_count": 22,
   "metadata": {},
   "outputs": [],
   "source": [
    "import requests\n",
    "import json\n",
    "import os"
   ]
  },
  {
   "cell_type": "code",
   "execution_count": 23,
   "metadata": {},
   "outputs": [
    {
     "data": {
      "text/plain": [
       "'/export/scratch2/levon003/repos/wiki-ores-feedback'"
      ]
     },
     "execution_count": 23,
     "metadata": {},
     "output_type": "execute_result"
    }
   ],
   "source": [
    "git_root_dir = !git rev-parse --show-toplevel\n",
    "git_root_dir = git_root_dir[0]\n",
    "git_root_dir"
   ]
  },
  {
   "cell_type": "code",
   "execution_count": 24,
   "metadata": {},
   "outputs": [],
   "source": [
    "res = requests.get(\"https://dumps.wikimedia.org/enwiki/20200101/dumpstatus.json\")\n",
    "dump_status = json.loads(res.text)"
   ]
  },
  {
   "cell_type": "code",
   "execution_count": 25,
   "metadata": {},
   "outputs": [
    {
     "data": {
      "text/plain": [
       "dict_keys(['metacurrentdump', 'pagelinkstable', 'imagetable', 'metahistory7zdump', 'sitestable', 'imagelinkstable', 'redirecttable', 'namespaces', 'articlesdump', 'pagetitlesdump', 'metacurrentdumprecombine', 'xmlpagelogsdumprecombine', 'langlinkstable', 'usergroupstable', 'protectedtitlestable', 'abstractsdump', 'changetagstable', 'xmlstubsdumprecombine', 'iwlinkstable', 'articlesmultistreamdumprecombine', 'metahistorybz2dump', 'pagerestrictionstable', 'geotagstable', 'pagepropstable', 'templatelinkstable', 'categorytable', 'userformergroupstable', 'xmlstubsdump', 'categorylinkstable', 'articlesmultistreamdump', 'wbcentityusagetable', 'sitestatstable', 'xmlpagelogsdump', 'abstractsdumprecombine', 'flaggedrevstable', 'pagetable', 'changetagdeftable', 'allpagetitlesdump', 'externallinkstable', 'babeltable', 'flaggedpagestable', 'articlesdumprecombine'])"
      ]
     },
     "execution_count": 25,
     "metadata": {},
     "output_type": "execute_result"
    }
   ],
   "source": [
    "dump_status['jobs'].keys()"
   ]
  },
  {
   "cell_type": "code",
   "execution_count": 6,
   "metadata": {},
   "outputs": [
    {
     "data": {
      "text/plain": [
       "dict_keys(['metacurrentdump', 'pagelinkstable', 'imagetable', 'metahistory7zdump', 'sitestable', 'imagelinkstable', 'redirecttable', 'namespaces', 'articlesdump', 'pagetitlesdump', 'metacurrentdumprecombine', 'xmlpagelogsdumprecombine', 'langlinkstable', 'usergroupstable', 'protectedtitlestable', 'abstractsdump', 'changetagstable', 'xmlstubsdumprecombine', 'iwlinkstable', 'articlesmultistreamdumprecombine', 'metahistorybz2dump', 'pagerestrictionstable', 'geotagstable', 'pagepropstable', 'templatelinkstable', 'categorytable', 'userformergroupstable', 'xmlstubsdump', 'categorylinkstable', 'articlesmultistreamdump', 'wbcentityusagetable', 'sitestatstable', 'xmlpagelogsdump', 'abstractsdumprecombine', 'flaggedrevstable', 'pagetable', 'changetagdeftable', 'allpagetitlesdump', 'externallinkstable', 'babeltable', 'flaggedpagestable', 'articlesdumprecombine'])"
      ]
     },
     "execution_count": 6,
     "metadata": {},
     "output_type": "execute_result"
    }
   ],
   "source": [
    "jobs = dump_status['jobs']\n",
    "jobs.keys()"
   ]
  },
  {
   "cell_type": "code",
   "execution_count": 7,
   "metadata": {},
   "outputs": [
    {
     "data": {
      "text/plain": [
       "dict_keys(['files', 'updated', 'status'])"
      ]
     },
     "execution_count": 7,
     "metadata": {},
     "output_type": "execute_result"
    }
   ],
   "source": [
    "metahistorybz2dump = jobs['metahistorybz2dump']\n",
    "metahistorybz2dump.keys()"
   ]
  },
  {
   "cell_type": "code",
   "execution_count": 8,
   "metadata": {},
   "outputs": [
    {
     "data": {
      "text/plain": [
       "671"
      ]
     },
     "execution_count": 8,
     "metadata": {},
     "output_type": "execute_result"
    }
   ],
   "source": [
    "len(metahistorybz2dump['files'])"
   ]
  },
  {
   "cell_type": "code",
   "execution_count": 9,
   "metadata": {},
   "outputs": [
    {
     "data": {
      "text/plain": [
       "16.30902777777778"
      ]
     },
     "execution_count": 9,
     "metadata": {},
     "output_type": "execute_result"
    }
   ],
   "source": [
    "(35*60)*671 / 60 / 60 / 24"
   ]
  },
  {
   "cell_type": "code",
   "execution_count": 10,
   "metadata": {},
   "outputs": [
    {
     "data": {
      "text/plain": [
       "'2020-01-07 09:47:45'"
      ]
     },
     "execution_count": 10,
     "metadata": {},
     "output_type": "execute_result"
    }
   ],
   "source": [
    "metahistorybz2dump['updated']"
   ]
  },
  {
   "cell_type": "code",
   "execution_count": 11,
   "metadata": {},
   "outputs": [
    {
     "data": {
      "text/plain": [
       "'done'"
      ]
     },
     "execution_count": 11,
     "metadata": {},
     "output_type": "execute_result"
    }
   ],
   "source": [
    "metahistorybz2dump['status']"
   ]
  },
  {
   "cell_type": "code",
   "execution_count": 12,
   "metadata": {},
   "outputs": [
    {
     "data": {
      "text/plain": [
       "37"
      ]
     },
     "execution_count": 12,
     "metadata": {},
     "output_type": "execute_result"
    }
   ],
   "source": [
    "history1_files = []\n",
    "for file in metahistorybz2dump['files']:\n",
    "    if \"history1.xml\" in file:\n",
    "        file_url = metahistorybz2dump['files'][file]['url']\n",
    "        history1_files.append(file_url)\n",
    "len(history1_files)"
   ]
  },
  {
   "cell_type": "code",
   "execution_count": 13,
   "metadata": {},
   "outputs": [
    {
     "data": {
      "text/plain": [
       "['/enwiki/20200101/enwiki-20200101-pages-meta-history1.xml-p10376p11222.bz2',\n",
       " '/enwiki/20200101/enwiki-20200101-pages-meta-history1.xml-p3981p4646.bz2',\n",
       " '/enwiki/20200101/enwiki-20200101-pages-meta-history1.xml-p6085p7026.bz2',\n",
       " '/enwiki/20200101/enwiki-20200101-pages-meta-history1.xml-p23761p24800.bz2',\n",
       " '/enwiki/20200101/enwiki-20200101-pages-meta-history1.xml-p9513p10375.bz2',\n",
       " '/enwiki/20200101/enwiki-20200101-pages-meta-history1.xml-p11223p11989.bz2',\n",
       " '/enwiki/20200101/enwiki-20200101-pages-meta-history1.xml-p26391p26859.bz2',\n",
       " '/enwiki/20200101/enwiki-20200101-pages-meta-history1.xml-p3222p3980.bz2',\n",
       " '/enwiki/20200101/enwiki-20200101-pages-meta-history1.xml-p8067p8767.bz2',\n",
       " '/enwiki/20200101/enwiki-20200101-pages-meta-history1.xml-p27626p28451.bz2',\n",
       " '/enwiki/20200101/enwiki-20200101-pages-meta-history1.xml-p8768p9512.bz2',\n",
       " '/enwiki/20200101/enwiki-20200101-pages-meta-history1.xml-p24801p25562.bz2',\n",
       " '/enwiki/20200101/enwiki-20200101-pages-meta-history1.xml-p20656p21363.bz2',\n",
       " '/enwiki/20200101/enwiki-20200101-pages-meta-history1.xml-p12979p13765.bz2',\n",
       " '/enwiki/20200101/enwiki-20200101-pages-meta-history1.xml-p16332p17304.bz2',\n",
       " '/enwiki/20200101/enwiki-20200101-pages-meta-history1.xml-p15044p15793.bz2',\n",
       " '/enwiki/20200101/enwiki-20200101-pages-meta-history1.xml-p23024p23760.bz2',\n",
       " '/enwiki/20200101/enwiki-20200101-pages-meta-history1.xml-p11990p12978.bz2',\n",
       " '/enwiki/20200101/enwiki-20200101-pages-meta-history1.xml-p15794p16331.bz2',\n",
       " '/enwiki/20200101/enwiki-20200101-pages-meta-history1.xml-p28452p29559.bz2',\n",
       " '/enwiki/20200101/enwiki-20200101-pages-meta-history1.xml-p21364p22236.bz2',\n",
       " '/enwiki/20200101/enwiki-20200101-pages-meta-history1.xml-p4647p5404.bz2',\n",
       " '/enwiki/20200101/enwiki-20200101-pages-meta-history1.xml-p19721p20655.bz2',\n",
       " '/enwiki/20200101/enwiki-20200101-pages-meta-history1.xml-p13766p14364.bz2',\n",
       " '/enwiki/20200101/enwiki-20200101-pages-meta-history1.xml-p18113p19014.bz2',\n",
       " '/enwiki/20200101/enwiki-20200101-pages-meta-history1.xml-p19015p19720.bz2',\n",
       " '/enwiki/20200101/enwiki-20200101-pages-meta-history1.xml-p25563p26390.bz2',\n",
       " '/enwiki/20200101/enwiki-20200101-pages-meta-history1.xml-p22237p23023.bz2',\n",
       " '/enwiki/20200101/enwiki-20200101-pages-meta-history1.xml-p17305p18112.bz2',\n",
       " '/enwiki/20200101/enwiki-20200101-pages-meta-history1.xml-p26860p27625.bz2',\n",
       " '/enwiki/20200101/enwiki-20200101-pages-meta-history1.xml-p1037p2031.bz2',\n",
       " '/enwiki/20200101/enwiki-20200101-pages-meta-history1.xml-p5405p6084.bz2',\n",
       " '/enwiki/20200101/enwiki-20200101-pages-meta-history1.xml-p14365p15043.bz2',\n",
       " '/enwiki/20200101/enwiki-20200101-pages-meta-history1.xml-p10p1036.bz2',\n",
       " '/enwiki/20200101/enwiki-20200101-pages-meta-history1.xml-p2032p3221.bz2',\n",
       " '/enwiki/20200101/enwiki-20200101-pages-meta-history1.xml-p29560p30303.bz2',\n",
       " '/enwiki/20200101/enwiki-20200101-pages-meta-history1.xml-p7027p8066.bz2']"
      ]
     },
     "execution_count": 13,
     "metadata": {},
     "output_type": "execute_result"
    }
   ],
   "source": [
    "history1_files"
   ]
  },
  {
   "cell_type": "code",
   "execution_count": 14,
   "metadata": {},
   "outputs": [],
   "source": [
    "\n",
    "def generate_download_script(file_list, output_filepath, url_base = \"https://dumps.wikimedia.org\"):\n",
    "    target_dir = \"/export/scratch2/wiki_data/enwiki-20200101-pages-meta-history-bz2\"\n",
    "    with open(output_filepath, 'w') as outfile:\n",
    "        outfile.write(\"#!/bin/bash\\n\")\n",
    "        outfile.write(\"# This script autogenerated by DownloadEnwikiDump.ipynb\\n\\n\")\n",
    "        outfile.write('echo \"Starting download.\" && \\\\\\n')\n",
    "        for file_url in file_list:\n",
    "            full_url = url_base + file_url\n",
    "            outfile.write(f'echo \"Downloading \\'{file_url}\\'.\" && \\\\\\n')\n",
    "            outfile.write(f'wget --no-check-certificate -nc -O {target_dir}/{os.path.basename(file_url)} \"{full_url}\" && \\\\\\n')\n",
    "        outfile.write('echo \"Successful.\" && exit 0\\n')\n",
    "        outfile.write('echo \"Error downloading.\" && exit 1\\n\\n')\n"
   ]
  },
  {
   "cell_type": "code",
   "execution_count": 35,
   "metadata": {},
   "outputs": [],
   "source": [
    "output_filepath = os.path.join(git_root_dir, \"scripts\", \"history1_20200101_download.sh\")\n",
    "generate_download_script(history1_files, output_filepath)"
   ]
  },
  {
   "cell_type": "code",
   "execution_count": 20,
   "metadata": {},
   "outputs": [
    {
     "data": {
      "text/plain": [
       "['/enwiki/20200101/enwiki-20200101-pages-meta-history1.xml-p10p1036.bz2']"
      ]
     },
     "execution_count": 20,
     "metadata": {},
     "output_type": "execute_result"
    }
   ],
   "source": [
    "[history1_files[-4]]"
   ]
  },
  {
   "cell_type": "code",
   "execution_count": 26,
   "metadata": {},
   "outputs": [
    {
     "data": {
      "text/plain": [
       "'enwiki-20200101-pages-meta-history1.xml-p10p1036.bz2'"
      ]
     },
     "execution_count": 26,
     "metadata": {},
     "output_type": "execute_result"
    }
   ],
   "source": [
    "os.path.basename(history1_files[-4])"
   ]
  },
  {
   "cell_type": "code",
   "execution_count": 45,
   "metadata": {},
   "outputs": [
    {
     "data": {
      "text/plain": [
       "35"
      ]
     },
     "execution_count": 45,
     "metadata": {},
     "output_type": "execute_result"
    }
   ],
   "source": [
    "history2_files = []\n",
    "for file in metahistorybz2dump['files']:\n",
    "    if \"history2.xml\" in file:\n",
    "        file_url = metahistorybz2dump['files'][file]['url']\n",
    "        history2_files.append(file_url)\n",
    "len(history2_files)"
   ]
  },
  {
   "cell_type": "code",
   "execution_count": 51,
   "metadata": {},
   "outputs": [],
   "source": [
    "output_filepath = os.path.join(git_root_dir, \"scripts\", \"history2_20200101_download.sh\")\n",
    "generate_download_script(history2_files, output_filepath)"
   ]
  },
  {
   "cell_type": "code",
   "execution_count": 47,
   "metadata": {},
   "outputs": [
    {
     "data": {
      "text/plain": [
       "26"
      ]
     },
     "execution_count": 47,
     "metadata": {},
     "output_type": "execute_result"
    }
   ],
   "source": [
    "history3_files = []\n",
    "for file in metahistorybz2dump['files']:\n",
    "    if \"history3.xml\" in file:\n",
    "        file_url = metahistorybz2dump['files'][file]['url']\n",
    "        history3_files.append(file_url)\n",
    "len(history3_files)"
   ]
  },
  {
   "cell_type": "code",
   "execution_count": 50,
   "metadata": {},
   "outputs": [],
   "source": [
    "output_filepath = os.path.join(git_root_dir, \"scripts\", \"history3_20200101_download.sh\")\n",
    "generate_download_script(history3_files, output_filepath)"
   ]
  },
  {
   "cell_type": "code",
   "execution_count": 57,
   "metadata": {},
   "outputs": [
    {
     "name": "stdout",
     "output_type": "stream",
     "text": [
      "25\n"
     ]
    }
   ],
   "source": [
    "history_num = 4\n",
    "history_files = []\n",
    "for file in metahistorybz2dump['files']:\n",
    "    if f\"history{history_num}.xml\" in file:\n",
    "        file_url = metahistorybz2dump['files'][file]['url']\n",
    "        history_files.append(file_url)\n",
    "print(len(history_files))\n",
    "output_filepath = os.path.join(git_root_dir, \"scripts\", f\"history{history_num}_20200101_download.sh\")\n",
    "generate_download_script(history_files, output_filepath)"
   ]
  },
  {
   "cell_type": "code",
   "execution_count": 15,
   "metadata": {},
   "outputs": [
    {
     "name": "stdout",
     "output_type": "stream",
     "text": [
      "111\n"
     ]
    }
   ],
   "source": [
    "history_nums = [6, 7, 8, 9, 10]\n",
    "history_files = []\n",
    "for file in metahistorybz2dump['files']:\n",
    "    for history_num in history_nums:\n",
    "        if f\"history{history_num}.xml\" in file:\n",
    "            file_url = metahistorybz2dump['files'][file]['url']\n",
    "            history_files.append(file_url)\n",
    "print(len(history_files))\n",
    "output_filepath = os.path.join(git_root_dir, \"scripts\", f\"history6to10_20200101_download.sh\")\n",
    "generate_download_script(history_files, output_filepath)"
   ]
  },
  {
   "cell_type": "code",
   "execution_count": 20,
   "metadata": {},
   "outputs": [
    {
     "name": "stdout",
     "output_type": "stream",
     "text": [
      "[11, 12, 13, 14, 15, 16, 17, 18, 19, 20]\n",
      "212\n"
     ]
    }
   ],
   "source": [
    "history_nums = list(range(11, 21))\n",
    "print(history_nums)\n",
    "history_files = []\n",
    "for file in metahistorybz2dump['files']:\n",
    "    for history_num in history_nums:\n",
    "        if f\"history{history_num}.xml\" in file:\n",
    "            file_url = metahistorybz2dump['files'][file]['url']\n",
    "            history_files.append(file_url)\n",
    "print(len(history_files))\n",
    "output_filepath = os.path.join(git_root_dir, \"scripts\", f\"history11to20_20200101_download.sh\")\n",
    "generate_download_script(history_files, output_filepath)"
   ]
  },
  {
   "cell_type": "code",
   "execution_count": 21,
   "metadata": {},
   "outputs": [
    {
     "name": "stdout",
     "output_type": "stream",
     "text": [
      "[21, 22, 23, 24, 25, 26, 27]\n",
      "202\n"
     ]
    }
   ],
   "source": [
    "history_nums = list(range(21, 28))\n",
    "print(history_nums)\n",
    "history_files = []\n",
    "for file in metahistorybz2dump['files']:\n",
    "    for history_num in history_nums:\n",
    "        if f\"history{history_num}.xml\" in file:\n",
    "            file_url = metahistorybz2dump['files'][file]['url']\n",
    "            history_files.append(file_url)\n",
    "print(len(history_files))\n",
    "output_filepath = os.path.join(git_root_dir, \"scripts\", f\"history21to27_20200101_download.sh\")\n",
    "generate_download_script(history_files, output_filepath)"
   ]
  },
  {
   "cell_type": "code",
   "execution_count": 30,
   "metadata": {},
   "outputs": [],
   "source": [
    "xmlstubsdump = jobs['xmlstubsdump']"
   ]
  },
  {
   "cell_type": "code",
   "execution_count": 27,
   "metadata": {},
   "outputs": [
    {
     "name": "stdout",
     "output_type": "stream",
     "text": [
      "27\n"
     ]
    }
   ],
   "source": [
    "history_files = []\n",
    "for file in xmlstubsdump['files']:\n",
    "        if \"stub-meta-history\" in file:\n",
    "            file_url = xmlstubsdump['files'][file]['url']\n",
    "            history_files.append(file_url)\n",
    "print(len(history_files))"
   ]
  },
  {
   "cell_type": "code",
   "execution_count": 28,
   "metadata": {},
   "outputs": [],
   "source": [
    "\n",
    "def generate_stub_download_script(file_list, output_filepath, url_base = \"https://dumps.wikimedia.org\"):\n",
    "    target_dir = \"/export/scratch2/wiki_data/enwiki-2020101-stub-meta-history-gz\"\n",
    "    with open(output_filepath, 'w') as outfile:\n",
    "        outfile.write(\"#!/bin/bash\\n\")\n",
    "        outfile.write(\"# This script autogenerated by DownloadEnwikiDump.ipynb\\n\\n\")\n",
    "        outfile.write('echo \"Starting download.\" && \\\\\\n')\n",
    "        for file_url in file_list:\n",
    "            full_url = url_base + file_url\n",
    "            outfile.write(f'echo \"Downloading \\'{file_url}\\'.\" && \\\\\\n')\n",
    "            outfile.write(f'wget --no-check-certificate -nc -O {target_dir}/{os.path.basename(file_url)} \"{full_url}\" && \\\\\\n')\n",
    "        outfile.write('echo \"Successful.\" && exit 0\\n')\n",
    "        outfile.write('echo \"Error downloading.\" && exit 1\\n\\n')\n"
   ]
  },
  {
   "cell_type": "code",
   "execution_count": 29,
   "metadata": {},
   "outputs": [],
   "source": [
    "output_filepath = os.path.join(git_root_dir, \"scripts\", f\"stub_history_20200101_download.sh\")\n",
    "generate_stub_download_script(history_files, output_filepath)"
   ]
  },
  {
   "cell_type": "code",
   "execution_count": null,
   "metadata": {},
   "outputs": [],
   "source": []
  }
 ],
 "metadata": {
  "kernelspec": {
   "display_name": "Flagon Python3",
   "language": "python",
   "name": "flagon-conda-env"
  },
  "language_info": {
   "codemirror_mode": {
    "name": "ipython",
    "version": 3
   },
   "file_extension": ".py",
   "mimetype": "text/x-python",
   "name": "python",
   "nbconvert_exporter": "python",
   "pygments_lexer": "ipython3",
   "version": "3.7.6"
  }
 },
 "nbformat": 4,
 "nbformat_minor": 4
}
