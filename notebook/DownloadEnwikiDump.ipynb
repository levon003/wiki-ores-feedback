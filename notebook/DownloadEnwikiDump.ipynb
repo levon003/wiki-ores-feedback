{
 "cells": [
  {
   "cell_type": "markdown",
   "metadata": {},
   "source": [
    "Download Files\n",
    "===\n",
    "\n"
   ]
  },
  {
   "cell_type": "code",
   "execution_count": 1,
   "metadata": {},
   "outputs": [],
   "source": [
    "import requests\n",
    "import json\n",
    "import os"
   ]
  },
  {
   "cell_type": "code",
   "execution_count": 2,
   "metadata": {},
   "outputs": [
    {
     "data": {
      "text/plain": [
       "'/export/scratch2/levon003/repos/wiki-ores-feedback'"
      ]
     },
     "execution_count": 2,
     "metadata": {},
     "output_type": "execute_result"
    }
   ],
   "source": [
    "git_root_dir = !git rev-parse --show-toplevel\n",
    "git_root_dir = git_root_dir[0]\n",
    "git_root_dir"
   ]
  },
  {
   "cell_type": "code",
   "execution_count": 3,
   "metadata": {},
   "outputs": [],
   "source": [
    "res = requests.get(\"https://dumps.wikimedia.org/enwiki/20210101/dumpstatus.json\")\n",
    "dump_status = json.loads(res.text)"
   ]
  },
  {
   "cell_type": "code",
   "execution_count": 4,
   "metadata": {},
   "outputs": [
    {
     "data": {
      "text/plain": [
       "dict_keys(['imagelinkstable', 'categorylinkstable', 'xmlstubsdumprecombine', 'pagetitlesdump', 'sitestatstable', 'pagetable', 'metacurrentdumprecombine', 'metacurrentdump', 'namespaces', 'babeltable', 'articlesdumprecombine', 'wbcentityusagetable', 'abstractsdumprecombine', 'userformergroupstable', 'langlinkstable', 'changetagdeftable', 'usergroupstable', 'flaggedrevspromotetable', 'redirecttable', 'changetagstable', 'iwlinkstable', 'flaggedrevsstatisticstable', 'flaggedrevstable', 'pagepropstable', 'pagerestrictionstable', 'flaggedrevstrackingtable', 'externallinkstable', 'imagetable', 'sitestable', 'flaggedpagependingtable', 'xmlpagelogsdump', 'abstractsdump', 'metahistory7zdump', 'geotagstable', 'xmlpagelogsdumprecombine', 'protectedtitlestable', 'categorytable', 'articlesdump', 'allpagetitlesdump', 'pagelinkstable', 'articlesmultistreamdumprecombine', 'xmlstubsdump', 'flaggedpageconfigtable', 'metahistorybz2dump', 'flaggedimagestable', 'flaggedtemplatestable', 'articlesmultistreamdump', 'flaggedpagestable', 'templatelinkstable'])"
      ]
     },
     "execution_count": 4,
     "metadata": {},
     "output_type": "execute_result"
    }
   ],
   "source": [
    "dump_status['jobs'].keys()"
   ]
  },
  {
   "cell_type": "code",
   "execution_count": 5,
   "metadata": {},
   "outputs": [
    {
     "data": {
      "text/plain": [
       "dict_keys(['imagelinkstable', 'categorylinkstable', 'xmlstubsdumprecombine', 'pagetitlesdump', 'sitestatstable', 'pagetable', 'metacurrentdumprecombine', 'metacurrentdump', 'namespaces', 'babeltable', 'articlesdumprecombine', 'wbcentityusagetable', 'abstractsdumprecombine', 'userformergroupstable', 'langlinkstable', 'changetagdeftable', 'usergroupstable', 'flaggedrevspromotetable', 'redirecttable', 'changetagstable', 'iwlinkstable', 'flaggedrevsstatisticstable', 'flaggedrevstable', 'pagepropstable', 'pagerestrictionstable', 'flaggedrevstrackingtable', 'externallinkstable', 'imagetable', 'sitestable', 'flaggedpagependingtable', 'xmlpagelogsdump', 'abstractsdump', 'metahistory7zdump', 'geotagstable', 'xmlpagelogsdumprecombine', 'protectedtitlestable', 'categorytable', 'articlesdump', 'allpagetitlesdump', 'pagelinkstable', 'articlesmultistreamdumprecombine', 'xmlstubsdump', 'flaggedpageconfigtable', 'metahistorybz2dump', 'flaggedimagestable', 'flaggedtemplatestable', 'articlesmultistreamdump', 'flaggedpagestable', 'templatelinkstable'])"
      ]
     },
     "execution_count": 5,
     "metadata": {},
     "output_type": "execute_result"
    }
   ],
   "source": [
    "jobs = dump_status['jobs']\n",
    "jobs.keys()"
   ]
  },
  {
   "cell_type": "code",
   "execution_count": 6,
   "metadata": {},
   "outputs": [
    {
     "data": {
      "text/plain": [
       "dict_keys(['status', 'files', 'updated'])"
      ]
     },
     "execution_count": 6,
     "metadata": {},
     "output_type": "execute_result"
    }
   ],
   "source": [
    "metahistorybz2dump = jobs['metahistorybz2dump']\n",
    "metahistorybz2dump.keys()"
   ]
  },
  {
   "cell_type": "code",
   "execution_count": 7,
   "metadata": {},
   "outputs": [
    {
     "data": {
      "text/plain": [
       "689"
      ]
     },
     "execution_count": 7,
     "metadata": {},
     "output_type": "execute_result"
    }
   ],
   "source": [
    "len(metahistorybz2dump['files'])"
   ]
  },
  {
   "cell_type": "code",
   "execution_count": 9,
   "metadata": {},
   "outputs": [
    {
     "data": {
      "text/plain": [
       "16.30902777777778"
      ]
     },
     "execution_count": 9,
     "metadata": {},
     "output_type": "execute_result"
    }
   ],
   "source": [
    "(35*60)*671 / 60 / 60 / 24"
   ]
  },
  {
   "cell_type": "code",
   "execution_count": 8,
   "metadata": {},
   "outputs": [
    {
     "data": {
      "text/plain": [
       "'2021-01-09 13:43:30'"
      ]
     },
     "execution_count": 8,
     "metadata": {},
     "output_type": "execute_result"
    }
   ],
   "source": [
    "metahistorybz2dump['updated']"
   ]
  },
  {
   "cell_type": "code",
   "execution_count": 9,
   "metadata": {},
   "outputs": [
    {
     "data": {
      "text/plain": [
       "'done'"
      ]
     },
     "execution_count": 9,
     "metadata": {},
     "output_type": "execute_result"
    }
   ],
   "source": [
    "metahistorybz2dump['status']"
   ]
  },
  {
   "cell_type": "code",
   "execution_count": 10,
   "metadata": {},
   "outputs": [
    {
     "data": {
      "text/plain": [
       "51"
      ]
     },
     "execution_count": 10,
     "metadata": {},
     "output_type": "execute_result"
    }
   ],
   "source": [
    "history1_files = []\n",
    "for file in metahistorybz2dump['files']:\n",
    "    if \"history1.xml\" in file:\n",
    "        file_url = metahistorybz2dump['files'][file]['url']\n",
    "        history1_files.append(file_url)\n",
    "len(history1_files)"
   ]
  },
  {
   "cell_type": "code",
   "execution_count": 11,
   "metadata": {},
   "outputs": [
    {
     "data": {
      "text/plain": [
       "['/enwiki/20210101/enwiki-20210101-pages-meta-history1.xml-p21986p22808.bz2',\n",
       " '/enwiki/20210101/enwiki-20210101-pages-meta-history1.xml-p28842p29913.bz2',\n",
       " '/enwiki/20210101/enwiki-20210101-pages-meta-history1.xml-p11230p11967.bz2',\n",
       " '/enwiki/20210101/enwiki-20210101-pages-meta-history1.xml-p37265p38301.bz2',\n",
       " '/enwiki/20210101/enwiki-20210101-pages-meta-history1.xml-p10504p11229.bz2',\n",
       " '/enwiki/20210101/enwiki-20210101-pages-meta-history1.xml-p5573p6318.bz2',\n",
       " '/enwiki/20210101/enwiki-20210101-pages-meta-history1.xml-p14193p14736.bz2',\n",
       " '/enwiki/20210101/enwiki-20210101-pages-meta-history1.xml-p17638p18320.bz2',\n",
       " '/enwiki/20210101/enwiki-20210101-pages-meta-history1.xml-p15997p16731.bz2',\n",
       " '/enwiki/20210101/enwiki-20210101-pages-meta-history1.xml-p27080p27963.bz2',\n",
       " '/enwiki/20210101/enwiki-20210101-pages-meta-history1.xml-p31926p32588.bz2',\n",
       " '/enwiki/20210101/enwiki-20210101-pages-meta-history1.xml-p4321p4925.bz2',\n",
       " '/enwiki/20210101/enwiki-20210101-pages-meta-history1.xml-p21242p21985.bz2',\n",
       " '/enwiki/20210101/enwiki-20210101-pages-meta-history1.xml-p24150p25390.bz2',\n",
       " '/enwiki/20210101/enwiki-20210101-pages-meta-history1.xml-p27964p28841.bz2',\n",
       " '/enwiki/20210101/enwiki-20210101-pages-meta-history1.xml-p11968p12809.bz2',\n",
       " '/enwiki/20210101/enwiki-20210101-pages-meta-history1.xml-p19038p19687.bz2',\n",
       " '/enwiki/20210101/enwiki-20210101-pages-meta-history1.xml-p26679p27079.bz2',\n",
       " '/enwiki/20210101/enwiki-20210101-pages-meta-history1.xml-p13614p14192.bz2',\n",
       " '/enwiki/20210101/enwiki-20210101-pages-meta-history1.xml-p12810p13613.bz2',\n",
       " '/enwiki/20210101/enwiki-20210101-pages-meta-history1.xml-p33271p34222.bz2',\n",
       " '/enwiki/20210101/enwiki-20210101-pages-meta-history1.xml-p25391p25815.bz2',\n",
       " '/enwiki/20210101/enwiki-20210101-pages-meta-history1.xml-p30512p31479.bz2',\n",
       " '/enwiki/20210101/enwiki-20210101-pages-meta-history1.xml-p34223p34756.bz2',\n",
       " '/enwiki/20210101/enwiki-20210101-pages-meta-history1.xml-p23423p24149.bz2',\n",
       " '/enwiki/20210101/enwiki-20210101-pages-meta-history1.xml-p15417p15996.bz2',\n",
       " '/enwiki/20210101/enwiki-20210101-pages-meta-history1.xml-p16732p17637.bz2',\n",
       " '/enwiki/20210101/enwiki-20210101-pages-meta-history1.xml-p22809p23422.bz2',\n",
       " '/enwiki/20210101/enwiki-20210101-pages-meta-history1.xml-p874p1816.bz2',\n",
       " '/enwiki/20210101/enwiki-20210101-pages-meta-history1.xml-p4926p5572.bz2',\n",
       " '/enwiki/20210101/enwiki-20210101-pages-meta-history1.xml-p20504p21241.bz2',\n",
       " '/enwiki/20210101/enwiki-20210101-pages-meta-history1.xml-p34757p37264.bz2',\n",
       " '/enwiki/20210101/enwiki-20210101-pages-meta-history1.xml-p19688p20503.bz2',\n",
       " '/enwiki/20210101/enwiki-20210101-pages-meta-history1.xml-p31480p31925.bz2',\n",
       " '/enwiki/20210101/enwiki-20210101-pages-meta-history1.xml-p7223p8192.bz2',\n",
       " '/enwiki/20210101/enwiki-20210101-pages-meta-history1.xml-p9591p10503.bz2',\n",
       " '/enwiki/20210101/enwiki-20210101-pages-meta-history1.xml-p14737p15416.bz2',\n",
       " '/enwiki/20210101/enwiki-20210101-pages-meta-history1.xml-p25816p26678.bz2',\n",
       " '/enwiki/20210101/enwiki-20210101-pages-meta-history1.xml-p2754p3454.bz2',\n",
       " '/enwiki/20210101/enwiki-20210101-pages-meta-history1.xml-p18321p19037.bz2',\n",
       " '/enwiki/20210101/enwiki-20210101-pages-meta-history1.xml-p39813p40303.bz2',\n",
       " '/enwiki/20210101/enwiki-20210101-pages-meta-history1.xml-p1817p2753.bz2',\n",
       " '/enwiki/20210101/enwiki-20210101-pages-meta-history1.xml-p8193p8828.bz2',\n",
       " '/enwiki/20210101/enwiki-20210101-pages-meta-history1.xml-p3455p4320.bz2',\n",
       " '/enwiki/20210101/enwiki-20210101-pages-meta-history1.xml-p38302p39812.bz2',\n",
       " '/enwiki/20210101/enwiki-20210101-pages-meta-history1.xml-p29914p30511.bz2',\n",
       " '/enwiki/20210101/enwiki-20210101-pages-meta-history1.xml-p32589p33270.bz2',\n",
       " '/enwiki/20210101/enwiki-20210101-pages-meta-history1.xml-p8829p9590.bz2',\n",
       " '/enwiki/20210101/enwiki-20210101-pages-meta-history1.xml-p40304p41242.bz2',\n",
       " '/enwiki/20210101/enwiki-20210101-pages-meta-history1.xml-p1p873.bz2',\n",
       " '/enwiki/20210101/enwiki-20210101-pages-meta-history1.xml-p6319p7222.bz2']"
      ]
     },
     "execution_count": 11,
     "metadata": {},
     "output_type": "execute_result"
    }
   ],
   "source": [
    "history1_files"
   ]
  },
  {
   "cell_type": "code",
   "execution_count": 19,
   "metadata": {},
   "outputs": [],
   "source": [
    "\n",
    "def generate_download_script(file_list, output_filepath, url_base = \"https://dumps.wikimedia.org\"):\n",
    "    target_dir = \"/export/scratch2/wiki_data/enwiki-20210101-pages-meta-history-bz2\"\n",
    "    with open(output_filepath, 'w') as outfile:\n",
    "        outfile.write(\"#!/bin/bash\\n\")\n",
    "        outfile.write(\"# This script autogenerated by DownloadEnwikiDump.ipynb\\n\\n\")\n",
    "        outfile.write('echo \"Starting download.\" && \\\\\\n')\n",
    "        for file_url in file_list:\n",
    "            full_url = url_base + file_url\n",
    "            outfile.write(f'echo \"Downloading \\'{file_url}\\'.\" && \\\\\\n')\n",
    "            outfile.write(f'wget --no-check-certificate -nc -O {target_dir}/{os.path.basename(file_url)} \"{full_url}\" && \\\\\\n')\n",
    "        outfile.write('echo \"Successful.\" && exit 0\\n')\n",
    "        outfile.write('echo \"Error downloading.\" && exit 1\\n\\n')\n"
   ]
  },
  {
   "cell_type": "code",
   "execution_count": 20,
   "metadata": {},
   "outputs": [],
   "source": [
    "output_filepath = os.path.join(git_root_dir, \"scripts\", \"history1_20210101_download.sh\")\n",
    "generate_download_script(history1_files, output_filepath)"
   ]
  },
  {
   "cell_type": "code",
   "execution_count": 21,
   "metadata": {},
   "outputs": [
    {
     "data": {
      "text/plain": [
       "['/enwiki/20210101/enwiki-20210101-pages-meta-history1.xml-p8829p9590.bz2']"
      ]
     },
     "execution_count": 21,
     "metadata": {},
     "output_type": "execute_result"
    }
   ],
   "source": [
    "[history1_files[-4]]"
   ]
  },
  {
   "cell_type": "code",
   "execution_count": 15,
   "metadata": {},
   "outputs": [
    {
     "data": {
      "text/plain": [
       "'enwiki-20210101-pages-meta-history1.xml-p8829p9590.bz2'"
      ]
     },
     "execution_count": 15,
     "metadata": {},
     "output_type": "execute_result"
    }
   ],
   "source": [
    "os.path.basename(history1_files[-4])"
   ]
  },
  {
   "cell_type": "code",
   "execution_count": 45,
   "metadata": {},
   "outputs": [
    {
     "data": {
      "text/plain": [
       "35"
      ]
     },
     "execution_count": 45,
     "metadata": {},
     "output_type": "execute_result"
    }
   ],
   "source": [
    "history2_files = []\n",
    "for file in metahistorybz2dump['files']:\n",
    "    if \"history2.xml\" in file:\n",
    "        file_url = metahistorybz2dump['files'][file]['url']\n",
    "        history2_files.append(file_url)\n",
    "len(history2_files)"
   ]
  },
  {
   "cell_type": "code",
   "execution_count": 51,
   "metadata": {},
   "outputs": [],
   "source": [
    "output_filepath = os.path.join(git_root_dir, \"scripts\", \"history2_20200101_download.sh\")\n",
    "generate_download_script(history2_files, output_filepath)"
   ]
  },
  {
   "cell_type": "code",
   "execution_count": 47,
   "metadata": {},
   "outputs": [
    {
     "data": {
      "text/plain": [
       "26"
      ]
     },
     "execution_count": 47,
     "metadata": {},
     "output_type": "execute_result"
    }
   ],
   "source": [
    "history3_files = []\n",
    "for file in metahistorybz2dump['files']:\n",
    "    if \"history3.xml\" in file:\n",
    "        file_url = metahistorybz2dump['files'][file]['url']\n",
    "        history3_files.append(file_url)\n",
    "len(history3_files)"
   ]
  },
  {
   "cell_type": "code",
   "execution_count": 50,
   "metadata": {},
   "outputs": [],
   "source": [
    "output_filepath = os.path.join(git_root_dir, \"scripts\", \"history3_20200101_download.sh\")\n",
    "generate_download_script(history3_files, output_filepath)"
   ]
  },
  {
   "cell_type": "code",
   "execution_count": 57,
   "metadata": {},
   "outputs": [
    {
     "name": "stdout",
     "output_type": "stream",
     "text": [
      "25\n"
     ]
    }
   ],
   "source": [
    "history_num = 4\n",
    "history_files = []\n",
    "for file in metahistorybz2dump['files']:\n",
    "    if f\"history{history_num}.xml\" in file:\n",
    "        file_url = metahistorybz2dump['files'][file]['url']\n",
    "        history_files.append(file_url)\n",
    "print(len(history_files))\n",
    "output_filepath = os.path.join(git_root_dir, \"scripts\", f\"history{history_num}_20200101_download.sh\")\n",
    "generate_download_script(history_files, output_filepath)"
   ]
  },
  {
   "cell_type": "code",
   "execution_count": 15,
   "metadata": {},
   "outputs": [
    {
     "name": "stdout",
     "output_type": "stream",
     "text": [
      "111\n"
     ]
    }
   ],
   "source": [
    "history_nums = [6, 7, 8, 9, 10]\n",
    "history_files = []\n",
    "for file in metahistorybz2dump['files']:\n",
    "    for history_num in history_nums:\n",
    "        if f\"history{history_num}.xml\" in file:\n",
    "            file_url = metahistorybz2dump['files'][file]['url']\n",
    "            history_files.append(file_url)\n",
    "print(len(history_files))\n",
    "output_filepath = os.path.join(git_root_dir, \"scripts\", f\"history6to10_20200101_download.sh\")\n",
    "generate_download_script(history_files, output_filepath)"
   ]
  },
  {
   "cell_type": "code",
   "execution_count": 20,
   "metadata": {},
   "outputs": [
    {
     "name": "stdout",
     "output_type": "stream",
     "text": [
      "[11, 12, 13, 14, 15, 16, 17, 18, 19, 20]\n",
      "212\n"
     ]
    }
   ],
   "source": [
    "history_nums = list(range(11, 21))\n",
    "print(history_nums)\n",
    "history_files = []\n",
    "for file in metahistorybz2dump['files']:\n",
    "    for history_num in history_nums:\n",
    "        if f\"history{history_num}.xml\" in file:\n",
    "            file_url = metahistorybz2dump['files'][file]['url']\n",
    "            history_files.append(file_url)\n",
    "print(len(history_files))\n",
    "output_filepath = os.path.join(git_root_dir, \"scripts\", f\"history11to20_20200101_download.sh\")\n",
    "generate_download_script(history_files, output_filepath)"
   ]
  },
  {
   "cell_type": "code",
   "execution_count": 21,
   "metadata": {},
   "outputs": [
    {
     "name": "stdout",
     "output_type": "stream",
     "text": [
      "[21, 22, 23, 24, 25, 26, 27]\n",
      "202\n"
     ]
    }
   ],
   "source": [
    "history_nums = list(range(21, 28))\n",
    "print(history_nums)\n",
    "history_files = []\n",
    "for file in metahistorybz2dump['files']:\n",
    "    for history_num in history_nums:\n",
    "        if f\"history{history_num}.xml\" in file:\n",
    "            file_url = metahistorybz2dump['files'][file]['url']\n",
    "            history_files.append(file_url)\n",
    "print(len(history_files))\n",
    "output_filepath = os.path.join(git_root_dir, \"scripts\", f\"history21to27_20200101_download.sh\")\n",
    "generate_download_script(history_files, output_filepath)"
   ]
  },
  {
   "cell_type": "markdown",
   "metadata": {},
   "source": [
    "## Stub Meta History\n",
    "\n",
    "Generate scripts for downloading stub meta history."
   ]
  },
  {
   "cell_type": "code",
   "execution_count": 16,
   "metadata": {},
   "outputs": [],
   "source": [
    "xmlstubsdump = jobs['xmlstubsdump']"
   ]
  },
  {
   "cell_type": "code",
   "execution_count": 17,
   "metadata": {},
   "outputs": [
    {
     "name": "stdout",
     "output_type": "stream",
     "text": [
      "27\n"
     ]
    }
   ],
   "source": [
    "history_files = []\n",
    "for file in xmlstubsdump['files']:\n",
    "        if \"stub-meta-history\" in file:\n",
    "            file_url = xmlstubsdump['files'][file]['url']\n",
    "            history_files.append(file_url)\n",
    "print(len(history_files))"
   ]
  },
  {
   "cell_type": "code",
   "execution_count": 24,
   "metadata": {},
   "outputs": [],
   "source": [
    "\n",
    "def generate_stub_download_script(file_list, output_filepath, url_base = \"https://dumps.wikimedia.org\"):\n",
    "    target_dir = \"/export/scratch2/wiki_data/enwiki-20210101-stub-meta-history-gz\"\n",
    "    with open(output_filepath, 'w') as outfile:\n",
    "        outfile.write(\"#!/bin/bash\\n\")\n",
    "        outfile.write(\"# This script autogenerated by DownloadEnwikiDump.ipynb\\n\\n\")\n",
    "        outfile.write('echo \"Starting download.\" && \\\\\\n')\n",
    "        for file_url in file_list:\n",
    "            full_url = url_base + file_url\n",
    "            outfile.write(f'echo \"Downloading \\'{file_url}\\'.\" && \\\\\\n')\n",
    "            outfile.write(f'wget --no-check-certificate -nc -O {target_dir}/{os.path.basename(file_url)} \"{full_url}\" && \\\\\\n')\n",
    "        outfile.write('echo \"Successful.\" && exit 0\\n')\n",
    "        outfile.write('echo \"Error downloading.\" && exit 1\\n\\n')\n"
   ]
  },
  {
   "cell_type": "code",
   "execution_count": 25,
   "metadata": {},
   "outputs": [],
   "source": [
    "output_filepath = os.path.join(git_root_dir, \"scripts\", f\"stub_history_20210101_download.sh\")\n",
    "generate_stub_download_script(history_files, output_filepath)"
   ]
  },
  {
   "cell_type": "code",
   "execution_count": null,
   "metadata": {},
   "outputs": [],
   "source": []
  }
 ],
 "metadata": {
  "kernelspec": {
   "display_name": "Flagon Python3",
   "language": "python",
   "name": "flagon-conda-env"
  },
  "language_info": {
   "codemirror_mode": {
    "name": "ipython",
    "version": 3
   },
   "file_extension": ".py",
   "mimetype": "text/x-python",
   "name": "python",
   "nbconvert_exporter": "python",
   "pygments_lexer": "ipython3",
   "version": "3.7.10"
  }
 },
 "nbformat": 4,
 "nbformat_minor": 4
}
