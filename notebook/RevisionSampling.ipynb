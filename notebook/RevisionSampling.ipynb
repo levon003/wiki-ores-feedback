{
 "cells": [
  {
   "cell_type": "markdown",
   "metadata": {},
   "source": [
    "Revision Sampling\n",
    "===\n",
    "\n",
    "Sample revisions that should be investigated further.\n",
    "\n",
    "Notably, the identified revisions will have:\n",
    " - Text of the identified revisions retrieved\n",
    " - ORES scores of the identified revisions retrieved\n",
    " \n",
    "#### Sampling details:\n",
    "\n",
    "What we're really doing is sampling revision _pairs_.\n",
    "\n",
    "We sample a non-revert revision and also the prior revision. Then, we check to see if this revision was reverted.\n",
    "\n",
    "For reverted revisions, we merge in reverts data to establish the time to revert.\n",
    "\n",
    "For now, we're sampling only in 2018 (so that we have all of 2019 to observe reverts)"
   ]
  },
  {
   "cell_type": "code",
   "execution_count": 1,
   "metadata": {},
   "outputs": [],
   "source": [
    "import mwapi\n",
    "import mwxml\n",
    "import mwxml.utilities\n",
    "import mwcli\n",
    "import mwreverts\n",
    "import oresapi\n",
    "import mwparserfromhell"
   ]
  },
  {
   "cell_type": "code",
   "execution_count": 2,
   "metadata": {},
   "outputs": [],
   "source": [
    "import numpy as np\n",
    "import pandas as pd\n",
    "import matplotlib.pyplot as plt\n",
    "import matplotlib"
   ]
  },
  {
   "cell_type": "code",
   "execution_count": 3,
   "metadata": {},
   "outputs": [],
   "source": [
    "import os\n",
    "from tqdm import tqdm\n",
    "import bz2\n",
    "import gzip\n",
    "import json\n",
    "import re\n",
    "import hashlib\n",
    "from datetime import datetime\n",
    "import nltk\n",
    "import scipy.stats\n",
    "import para\n",
    "from itertools import groupby\n",
    "from collections import Counter"
   ]
  },
  {
   "cell_type": "code",
   "execution_count": 4,
   "metadata": {},
   "outputs": [
    {
     "data": {
      "text/plain": [
       "'/export/scratch2/levon003/repos/wiki-ores-feedback'"
      ]
     },
     "execution_count": 4,
     "metadata": {},
     "output_type": "execute_result"
    }
   ],
   "source": [
    "git_root_dir = !git rev-parse --show-toplevel\n",
    "git_root_dir = git_root_dir[0]\n",
    "git_root_dir"
   ]
  },
  {
   "cell_type": "code",
   "execution_count": 5,
   "metadata": {},
   "outputs": [
    {
     "data": {
      "text/plain": [
       "('/export/scratch2/wiki_data',\n",
       " '/export/scratch2/levon003/repos/wiki-ores-feedback/data/derived')"
      ]
     },
     "execution_count": 5,
     "metadata": {},
     "output_type": "execute_result"
    }
   ],
   "source": [
    "raw_data_dir = \"/export/scratch2/wiki_data\"\n",
    "derived_data_dir = os.path.join(git_root_dir, \"data\", \"derived\")\n",
    "raw_data_dir, derived_data_dir"
   ]
  },
  {
   "cell_type": "code",
   "execution_count": 6,
   "metadata": {},
   "outputs": [
    {
     "data": {
      "text/plain": [
       "'/export/scratch2/levon003/repos/wiki-ores-feedback/data/derived/revision_sample'"
      ]
     },
     "execution_count": 6,
     "metadata": {},
     "output_type": "execute_result"
    }
   ],
   "source": [
    "working_dir = os.path.join(derived_data_dir, 'revision_sample')\n",
    "os.makedirs(working_dir, exist_ok=True)\n",
    "working_dir"
   ]
  },
  {
   "cell_type": "code",
   "execution_count": 7,
   "metadata": {},
   "outputs": [
    {
     "data": {
      "text/plain": [
       "(1514786400, 1577858400)"
      ]
     },
     "execution_count": 7,
     "metadata": {},
     "output_type": "execute_result"
    }
   ],
   "source": [
    "start_date = datetime.fromisoformat('2018-01-01')\n",
    "start_timestamp = int(start_date.timestamp())\n",
    "end_date = datetime.fromisoformat('2020-01-01')\n",
    "end_timestamp = int(end_date.timestamp())\n",
    "start_timestamp, end_timestamp"
   ]
  },
  {
   "cell_type": "code",
   "execution_count": 8,
   "metadata": {},
   "outputs": [],
   "source": [
    "sample_start_timestamp = start_timestamp\n",
    "sample_end_date = datetime.fromisoformat('2019-01-01')\n",
    "sample_end_timestamp = int(sample_end_date.timestamp())"
   ]
  },
  {
   "cell_type": "markdown",
   "metadata": {},
   "source": [
    "### Load in all revisions\n",
    "\n",
    "Which excludes revisions outside of 2018-2020 and only for pages in ns0 and non-redirects."
   ]
  },
  {
   "cell_type": "code",
   "execution_count": 9,
   "metadata": {},
   "outputs": [
    {
     "name": "stdout",
     "output_type": "stream",
     "text": [
      "0:00:41.786537\n"
     ]
    },
    {
     "data": {
      "text/plain": [
       "77287697"
      ]
     },
     "execution_count": 9,
     "metadata": {},
     "output_type": "execute_result"
    }
   ],
   "source": [
    "start = datetime.now()\n",
    "stub_history_reverts_dir = os.path.join(derived_data_dir, 'stub-history-reverts')\n",
    "rev_ids_filepath = os.path.join(stub_history_reverts_dir, 'rev_ids_sorted.csv')\n",
    "df = pd.read_csv(rev_ids_filepath,\n",
    "                 header=None, \n",
    "                 names=['page_id', 'rev_id', 'rev_timestamp', 'is_revert_target', 'is_reverted', 'is_reverting']\n",
    ")\n",
    "print(f\"{datetime.now() - start}\")\n",
    "len(df)"
   ]
  },
  {
   "cell_type": "code",
   "execution_count": 10,
   "metadata": {},
   "outputs": [
    {
     "data": {
      "text/html": [
       "<div>\n",
       "<style scoped>\n",
       "    .dataframe tbody tr th:only-of-type {\n",
       "        vertical-align: middle;\n",
       "    }\n",
       "\n",
       "    .dataframe tbody tr th {\n",
       "        vertical-align: top;\n",
       "    }\n",
       "\n",
       "    .dataframe thead th {\n",
       "        text-align: right;\n",
       "    }\n",
       "</style>\n",
       "<table border=\"1\" class=\"dataframe\">\n",
       "  <thead>\n",
       "    <tr style=\"text-align: right;\">\n",
       "      <th></th>\n",
       "      <th>page_id</th>\n",
       "      <th>rev_id</th>\n",
       "      <th>rev_timestamp</th>\n",
       "      <th>is_revert_target</th>\n",
       "      <th>is_reverted</th>\n",
       "      <th>is_reverting</th>\n",
       "    </tr>\n",
       "  </thead>\n",
       "  <tbody>\n",
       "    <tr>\n",
       "      <th>0</th>\n",
       "      <td>12</td>\n",
       "      <td>818611292</td>\n",
       "      <td>1515101356</td>\n",
       "      <td>0</td>\n",
       "      <td>0</td>\n",
       "      <td>0</td>\n",
       "    </tr>\n",
       "    <tr>\n",
       "      <th>1</th>\n",
       "      <td>12</td>\n",
       "      <td>818613649</td>\n",
       "      <td>1515102279</td>\n",
       "      <td>0</td>\n",
       "      <td>0</td>\n",
       "      <td>0</td>\n",
       "    </tr>\n",
       "    <tr>\n",
       "      <th>2</th>\n",
       "      <td>12</td>\n",
       "      <td>818624114</td>\n",
       "      <td>1515106953</td>\n",
       "      <td>1</td>\n",
       "      <td>0</td>\n",
       "      <td>0</td>\n",
       "    </tr>\n",
       "    <tr>\n",
       "      <th>3</th>\n",
       "      <td>12</td>\n",
       "      <td>820024812</td>\n",
       "      <td>1515798752</td>\n",
       "      <td>0</td>\n",
       "      <td>1</td>\n",
       "      <td>0</td>\n",
       "    </tr>\n",
       "    <tr>\n",
       "      <th>4</th>\n",
       "      <td>12</td>\n",
       "      <td>820025687</td>\n",
       "      <td>1515799060</td>\n",
       "      <td>0</td>\n",
       "      <td>0</td>\n",
       "      <td>1</td>\n",
       "    </tr>\n",
       "  </tbody>\n",
       "</table>\n",
       "</div>"
      ],
      "text/plain": [
       "   page_id     rev_id  rev_timestamp  is_revert_target  is_reverted  \\\n",
       "0       12  818611292     1515101356                 0            0   \n",
       "1       12  818613649     1515102279                 0            0   \n",
       "2       12  818624114     1515106953                 1            0   \n",
       "3       12  820024812     1515798752                 0            1   \n",
       "4       12  820025687     1515799060                 0            0   \n",
       "\n",
       "   is_reverting  \n",
       "0             0  \n",
       "1             0  \n",
       "2             0  \n",
       "3             0  \n",
       "4             1  "
      ]
     },
     "execution_count": 10,
     "metadata": {},
     "output_type": "execute_result"
    }
   ],
   "source": [
    "df.head()"
   ]
  },
  {
   "cell_type": "code",
   "execution_count": 11,
   "metadata": {},
   "outputs": [
    {
     "data": {
      "text/plain": [
       "5338582"
      ]
     },
     "execution_count": 11,
     "metadata": {},
     "output_type": "execute_result"
    }
   ],
   "source": [
    "# number of unique pages in this sample\n",
    "page_ids_set = set(df.page_id)\n",
    "len(page_ids_set)"
   ]
  },
  {
   "cell_type": "code",
   "execution_count": 12,
   "metadata": {},
   "outputs": [
    {
     "data": {
      "text/plain": [
       "5992682"
      ]
     },
     "execution_count": 12,
     "metadata": {},
     "output_type": "execute_result"
    }
   ],
   "source": [
    "# Read the revert info\n",
    "stub_history_reverts_dir = os.path.join(derived_data_dir, 'stub-history-reverts')\n",
    "revert_df_filepath = os.path.join(stub_history_reverts_dir, 'revert_df.pkl')\n",
    "revert_df = pd.read_pickle(revert_df_filepath)\n",
    "len(revert_df)"
   ]
  },
  {
   "cell_type": "code",
   "execution_count": 13,
   "metadata": {},
   "outputs": [
    {
     "data": {
      "text/html": [
       "<div>\n",
       "<style scoped>\n",
       "    .dataframe tbody tr th:only-of-type {\n",
       "        vertical-align: middle;\n",
       "    }\n",
       "\n",
       "    .dataframe tbody tr th {\n",
       "        vertical-align: top;\n",
       "    }\n",
       "\n",
       "    .dataframe thead th {\n",
       "        text-align: right;\n",
       "    }\n",
       "</style>\n",
       "<table border=\"1\" class=\"dataframe\">\n",
       "  <thead>\n",
       "    <tr style=\"text-align: right;\">\n",
       "      <th></th>\n",
       "      <th>page_id</th>\n",
       "      <th>reverted_count</th>\n",
       "      <th>reverting_rev_id</th>\n",
       "      <th>reverting_timestamp</th>\n",
       "      <th>reverting_user_text</th>\n",
       "      <th>reverting_user_id</th>\n",
       "      <th>reverted_to_rev_id</th>\n",
       "      <th>reverted_to_timestamp</th>\n",
       "      <th>reverted_to_user_text</th>\n",
       "      <th>reverted_to_user_id</th>\n",
       "      <th>reverted_rev_ids</th>\n",
       "      <th>reverted_timestamps</th>\n",
       "      <th>reverted_user_texts</th>\n",
       "      <th>reverted_user_ids</th>\n",
       "      <th>reverting_user_is_anonymous</th>\n",
       "      <th>reverted_to_user_is_anonymous</th>\n",
       "      <th>reverted_users_is_anonymous</th>\n",
       "    </tr>\n",
       "  </thead>\n",
       "  <tbody>\n",
       "    <tr>\n",
       "      <th>0</th>\n",
       "      <td>18754764</td>\n",
       "      <td>1</td>\n",
       "      <td>902766646</td>\n",
       "      <td>1561105801</td>\n",
       "      <td>Malcolmxl5</td>\n",
       "      <td>4076676.0</td>\n",
       "      <td>874884880</td>\n",
       "      <td>1545481829</td>\n",
       "      <td>Hmains</td>\n",
       "      <td>508734.0</td>\n",
       "      <td>[900328973]</td>\n",
       "      <td>[1559706521]</td>\n",
       "      <td>[2601:199:417F:8EED:A0B0:A6B5:3457:A9B4]</td>\n",
       "      <td>[None]</td>\n",
       "      <td>False</td>\n",
       "      <td>False</td>\n",
       "      <td>[True]</td>\n",
       "    </tr>\n",
       "    <tr>\n",
       "      <th>1</th>\n",
       "      <td>18754831</td>\n",
       "      <td>2</td>\n",
       "      <td>818980415</td>\n",
       "      <td>1515284429</td>\n",
       "      <td>BrownHairedGirl</td>\n",
       "      <td>754619.0</td>\n",
       "      <td>743241620</td>\n",
       "      <td>1475970276</td>\n",
       "      <td>Emir of Wikipedia</td>\n",
       "      <td>28856560.0</td>\n",
       "      <td>[757539852, 775847398]</td>\n",
       "      <td>[1483188655, 1492452285]</td>\n",
       "      <td>[Ser Amantio di Nicolao, Emir of Wikipedia]</td>\n",
       "      <td>[753665, 28856560]</td>\n",
       "      <td>False</td>\n",
       "      <td>False</td>\n",
       "      <td>[False, False]</td>\n",
       "    </tr>\n",
       "    <tr>\n",
       "      <th>2</th>\n",
       "      <td>18754831</td>\n",
       "      <td>1</td>\n",
       "      <td>932235094</td>\n",
       "      <td>1577204938</td>\n",
       "      <td>UA3</td>\n",
       "      <td>25923702.0</td>\n",
       "      <td>918313790</td>\n",
       "      <td>1569654385</td>\n",
       "      <td>Monkbot</td>\n",
       "      <td>20483999.0</td>\n",
       "      <td>[932233860]</td>\n",
       "      <td>[1577204033]</td>\n",
       "      <td>[Qowa]</td>\n",
       "      <td>[37692801]</td>\n",
       "      <td>False</td>\n",
       "      <td>False</td>\n",
       "      <td>[False]</td>\n",
       "    </tr>\n",
       "  </tbody>\n",
       "</table>\n",
       "</div>"
      ],
      "text/plain": [
       "    page_id  reverted_count  reverting_rev_id  reverting_timestamp  \\\n",
       "0  18754764               1         902766646           1561105801   \n",
       "1  18754831               2         818980415           1515284429   \n",
       "2  18754831               1         932235094           1577204938   \n",
       "\n",
       "  reverting_user_text  reverting_user_id  reverted_to_rev_id  \\\n",
       "0          Malcolmxl5          4076676.0           874884880   \n",
       "1     BrownHairedGirl           754619.0           743241620   \n",
       "2                 UA3         25923702.0           918313790   \n",
       "\n",
       "   reverted_to_timestamp reverted_to_user_text  reverted_to_user_id  \\\n",
       "0             1545481829                Hmains             508734.0   \n",
       "1             1475970276     Emir of Wikipedia           28856560.0   \n",
       "2             1569654385               Monkbot           20483999.0   \n",
       "\n",
       "         reverted_rev_ids       reverted_timestamps  \\\n",
       "0             [900328973]              [1559706521]   \n",
       "1  [757539852, 775847398]  [1483188655, 1492452285]   \n",
       "2             [932233860]              [1577204033]   \n",
       "\n",
       "                           reverted_user_texts   reverted_user_ids  \\\n",
       "0     [2601:199:417F:8EED:A0B0:A6B5:3457:A9B4]              [None]   \n",
       "1  [Ser Amantio di Nicolao, Emir of Wikipedia]  [753665, 28856560]   \n",
       "2                                       [Qowa]          [37692801]   \n",
       "\n",
       "   reverting_user_is_anonymous  reverted_to_user_is_anonymous  \\\n",
       "0                        False                          False   \n",
       "1                        False                          False   \n",
       "2                        False                          False   \n",
       "\n",
       "  reverted_users_is_anonymous  \n",
       "0                      [True]  \n",
       "1              [False, False]  \n",
       "2                     [False]  "
      ]
     },
     "execution_count": 13,
     "metadata": {},
     "output_type": "execute_result"
    }
   ],
   "source": [
    "revert_df.head(3)"
   ]
  },
  {
   "cell_type": "code",
   "execution_count": 14,
   "metadata": {},
   "outputs": [
    {
     "name": "stdout",
     "output_type": "stream",
     "text": [
      "0:00:36.421846\n"
     ]
    },
    {
     "data": {
      "text/plain": [
       "5338582"
      ]
     },
     "execution_count": 14,
     "metadata": {},
     "output_type": "execute_result"
    }
   ],
   "source": [
    "start = datetime.now()\n",
    "page_df = df.groupby('page_id').agg({\n",
    "    'rev_id': len,\n",
    "    'is_reverted': np.sum,\n",
    "    'is_reverting': np.sum\n",
    "}).rename(columns={\n",
    "    'rev_id': 'revision_count',\n",
    "    'is_reverted': 'reverted_count',\n",
    "    'is_reverting': 'revert_count'\n",
    "})\n",
    "print(f\"{datetime.now() - start}\")\n",
    "len(page_df)"
   ]
  },
  {
   "cell_type": "code",
   "execution_count": 15,
   "metadata": {},
   "outputs": [
    {
     "data": {
      "text/html": [
       "<div>\n",
       "<style scoped>\n",
       "    .dataframe tbody tr th:only-of-type {\n",
       "        vertical-align: middle;\n",
       "    }\n",
       "\n",
       "    .dataframe tbody tr th {\n",
       "        vertical-align: top;\n",
       "    }\n",
       "\n",
       "    .dataframe thead th {\n",
       "        text-align: right;\n",
       "    }\n",
       "</style>\n",
       "<table border=\"1\" class=\"dataframe\">\n",
       "  <thead>\n",
       "    <tr style=\"text-align: right;\">\n",
       "      <th></th>\n",
       "      <th>revision_count</th>\n",
       "      <th>reverted_count</th>\n",
       "      <th>revert_count</th>\n",
       "    </tr>\n",
       "    <tr>\n",
       "      <th>page_id</th>\n",
       "      <th></th>\n",
       "      <th></th>\n",
       "      <th></th>\n",
       "    </tr>\n",
       "  </thead>\n",
       "  <tbody>\n",
       "    <tr>\n",
       "      <th>56553320</th>\n",
       "      <td>7</td>\n",
       "      <td>0</td>\n",
       "      <td>0</td>\n",
       "    </tr>\n",
       "    <tr>\n",
       "      <th>51009457</th>\n",
       "      <td>5</td>\n",
       "      <td>0</td>\n",
       "      <td>0</td>\n",
       "    </tr>\n",
       "    <tr>\n",
       "      <th>42727563</th>\n",
       "      <td>5</td>\n",
       "      <td>0</td>\n",
       "      <td>0</td>\n",
       "    </tr>\n",
       "  </tbody>\n",
       "</table>\n",
       "</div>"
      ],
      "text/plain": [
       "          revision_count  reverted_count  revert_count\n",
       "page_id                                               \n",
       "56553320               7               0             0\n",
       "51009457               5               0             0\n",
       "42727563               5               0             0"
      ]
     },
     "execution_count": 15,
     "metadata": {},
     "output_type": "execute_result"
    }
   ],
   "source": [
    "page_df.sample(3)"
   ]
  },
  {
   "cell_type": "code",
   "execution_count": 16,
   "metadata": {},
   "outputs": [
    {
     "data": {
      "text/plain": [
       "(28.0, 0.10042273397692496)"
      ]
     },
     "execution_count": 16,
     "metadata": {},
     "output_type": "execute_result"
    }
   ],
   "source": [
    "np.quantile(page_df.revision_count, 0.9), \\\n",
    "np.sum(page_df.revision_count>=28) / len(page_df)"
   ]
  },
  {
   "cell_type": "code",
   "execution_count": 17,
   "metadata": {},
   "outputs": [
    {
     "data": {
      "text/plain": [
       "536115"
      ]
     },
     "execution_count": 17,
     "metadata": {},
     "output_type": "execute_result"
    }
   ],
   "source": [
    "eligible_page_ids = set(page_df[page_df.revision_count>=28].index)\n",
    "len(eligible_page_ids)"
   ]
  },
  {
   "cell_type": "code",
   "execution_count": 18,
   "metadata": {},
   "outputs": [
    {
     "name": "stderr",
     "output_type": "stream",
     "text": [
      "100%|██████████| 77287697/77287697 [02:15<00:00, 568886.66it/s]\n"
     ]
    }
   ],
   "source": [
    "eligible_for_sampling = []\n",
    "curr_page_id = -1\n",
    "for tup in tqdm(df.itertuples(), total=len(df)):\n",
    "    if tup.page_id != curr_page_id:\n",
    "        curr_page_id = tup.page_id\n",
    "        # can never sample the FIRST post-2018 revision\n",
    "        eligible_for_sampling.append(False)\n",
    "    else:\n",
    "        is_eligible = tup.rev_timestamp <= sample_end_timestamp and tup.page_id in eligible_page_ids\n",
    "        eligible_for_sampling.append(is_eligible)"
   ]
  },
  {
   "cell_type": "code",
   "execution_count": 19,
   "metadata": {},
   "outputs": [
    {
     "data": {
      "text/plain": [
       "0.2964584777315851"
      ]
     },
     "execution_count": 19,
     "metadata": {},
     "output_type": "execute_result"
    }
   ],
   "source": [
    "df['is_sample_eligible'] = eligible_for_sampling\n",
    "# after filtering, only 29.6% are actually eligible...\n",
    "np.sum(df.is_sample_eligible) / len(df)"
   ]
  },
  {
   "cell_type": "code",
   "execution_count": 20,
   "metadata": {},
   "outputs": [
    {
     "data": {
      "text/plain": [
       "22912593"
      ]
     },
     "execution_count": 20,
     "metadata": {},
     "output_type": "execute_result"
    }
   ],
   "source": [
    "np.sum(df.is_sample_eligible)"
   ]
  },
  {
   "cell_type": "code",
   "execution_count": 21,
   "metadata": {},
   "outputs": [],
   "source": [
    "df = df.reset_index().rename(columns={'index': 'full_index'})"
   ]
  },
  {
   "cell_type": "markdown",
   "metadata": {},
   "source": [
    "## Sample version 1\n",
    "\n",
    "Uses the same code as Sample version 2; to see original version go look at an old revision of this notebook.\n",
    "\n",
    "The original sample was 60.4% eligible due to the bug described in the cell below."
   ]
  },
  {
   "cell_type": "code",
   "execution_count": null,
   "metadata": {},
   "outputs": [],
   "source": [
    "# Version 1 of the sample included a bug in which sample_end_timestamp was set to 2020-01-01\n",
    "raise ValueError(\"Recreate sample1 from code above, changing eligibility requirements.\")\n",
    "sample_end_date = datetime.fromisoformat('2020-01-01')\n",
    "sample_end_timestamp = int(sample_end_date.timestamp())"
   ]
  },
  {
   "cell_type": "markdown",
   "metadata": {},
   "source": [
    "## Sample version 2"
   ]
  },
  {
   "cell_type": "code",
   "execution_count": 23,
   "metadata": {},
   "outputs": [
    {
     "data": {
      "text/plain": [
       "1000000"
      ]
     },
     "execution_count": 23,
     "metadata": {},
     "output_type": "execute_result"
    }
   ],
   "source": [
    "sample = df[df.is_sample_eligible].sample(n=1000000, random_state=45).copy(deep=True)\n",
    "len(sample)"
   ]
  },
  {
   "cell_type": "code",
   "execution_count": 24,
   "metadata": {},
   "outputs": [
    {
     "data": {
      "text/plain": [
       "0.147456"
      ]
     },
     "execution_count": 24,
     "metadata": {},
     "output_type": "execute_result"
    }
   ],
   "source": [
    "# 14.7% of the sample are reverted\n",
    "np.sum(sample.is_reverted) / len(sample)"
   ]
  },
  {
   "cell_type": "code",
   "execution_count": 26,
   "metadata": {},
   "outputs": [
    {
     "data": {
      "text/plain": [
       "0.106627"
      ]
     },
     "execution_count": 26,
     "metadata": {},
     "output_type": "execute_result"
    }
   ],
   "source": [
    "# 10.7% of the sample are reverts\n",
    "np.sum(sample.is_reverting) / len(sample)"
   ]
  },
  {
   "cell_type": "code",
   "execution_count": 27,
   "metadata": {},
   "outputs": [
    {
     "data": {
      "text/plain": [
       "(332921, 0.06236131616972447)"
      ]
     },
     "execution_count": 27,
     "metadata": {},
     "output_type": "execute_result"
    }
   ],
   "source": [
    "# 6.2% of pages with 1+ revision are included in the sample\n",
    "len(set(sample.page_id)), len(set(sample.page_id)) / len(page_ids_set)"
   ]
  },
  {
   "cell_type": "code",
   "execution_count": 28,
   "metadata": {},
   "outputs": [],
   "source": [
    "matched_sample = df.loc[sample.index - 1] #df[df.full_index.isin(sample.full_index.to_numpy() - 1)]\n",
    "assert len(matched_sample) == len(sample)\n",
    "assert np.all(sample.page_id.reset_index(drop=True) == matched_sample.page_id.reset_index(drop=True))"
   ]
  },
  {
   "cell_type": "code",
   "execution_count": 29,
   "metadata": {},
   "outputs": [
    {
     "data": {
      "text/html": [
       "<div>\n",
       "<style scoped>\n",
       "    .dataframe tbody tr th:only-of-type {\n",
       "        vertical-align: middle;\n",
       "    }\n",
       "\n",
       "    .dataframe tbody tr th {\n",
       "        vertical-align: top;\n",
       "    }\n",
       "\n",
       "    .dataframe thead th {\n",
       "        text-align: right;\n",
       "    }\n",
       "</style>\n",
       "<table border=\"1\" class=\"dataframe\">\n",
       "  <thead>\n",
       "    <tr style=\"text-align: right;\">\n",
       "      <th></th>\n",
       "      <th>full_index</th>\n",
       "      <th>page_id</th>\n",
       "      <th>rev_id</th>\n",
       "      <th>rev_timestamp</th>\n",
       "      <th>is_revert_target</th>\n",
       "      <th>is_reverted</th>\n",
       "      <th>is_reverting</th>\n",
       "      <th>is_sample_eligible</th>\n",
       "      <th>prev_rev_id</th>\n",
       "    </tr>\n",
       "  </thead>\n",
       "  <tbody>\n",
       "    <tr>\n",
       "      <th>61378268</th>\n",
       "      <td>61378268</td>\n",
       "      <td>52232058</td>\n",
       "      <td>831517149</td>\n",
       "      <td>1521608836</td>\n",
       "      <td>0</td>\n",
       "      <td>0</td>\n",
       "      <td>0</td>\n",
       "      <td>True</td>\n",
       "      <td>831516744</td>\n",
       "    </tr>\n",
       "    <tr>\n",
       "      <th>15696379</th>\n",
       "      <td>15696379</td>\n",
       "      <td>1501758</td>\n",
       "      <td>841712258</td>\n",
       "      <td>1526588824</td>\n",
       "      <td>0</td>\n",
       "      <td>0</td>\n",
       "      <td>0</td>\n",
       "      <td>True</td>\n",
       "      <td>841712075</td>\n",
       "    </tr>\n",
       "    <tr>\n",
       "      <th>1452860</th>\n",
       "      <td>1452860</td>\n",
       "      <td>25239</td>\n",
       "      <td>844335926</td>\n",
       "      <td>1528115396</td>\n",
       "      <td>0</td>\n",
       "      <td>0</td>\n",
       "      <td>0</td>\n",
       "      <td>True</td>\n",
       "      <td>844335334</td>\n",
       "    </tr>\n",
       "  </tbody>\n",
       "</table>\n",
       "</div>"
      ],
      "text/plain": [
       "          full_index   page_id     rev_id  rev_timestamp  is_revert_target  \\\n",
       "61378268    61378268  52232058  831517149     1521608836                 0   \n",
       "15696379    15696379   1501758  841712258     1526588824                 0   \n",
       "1452860      1452860     25239  844335926     1528115396                 0   \n",
       "\n",
       "          is_reverted  is_reverting  is_sample_eligible  prev_rev_id  \n",
       "61378268            0             0                True    831516744  \n",
       "15696379            0             0                True    841712075  \n",
       "1452860             0             0                True    844335334  "
      ]
     },
     "execution_count": 29,
     "metadata": {},
     "output_type": "execute_result"
    }
   ],
   "source": [
    "sample = sample.assign(prev_rev_id=matched_sample.rev_id.tolist())\n",
    "sample.head(3)"
   ]
  },
  {
   "cell_type": "code",
   "execution_count": 30,
   "metadata": {},
   "outputs": [
    {
     "name": "stdout",
     "output_type": "stream",
     "text": [
      "999850 / 1000000 sampled revisions have 1+ subsequent revision in 2018 or 2019.\n"
     ]
    }
   ],
   "source": [
    "matched_sample = df.loc[sample.index + 1]\n",
    "assert len(matched_sample) == len(sample)\n",
    "sample['next_rev_id'] = -1\n",
    "idx = np.array(sample.page_id.tolist()) == np.array(matched_sample.page_id.tolist())\n",
    "print(f\"{np.sum(idx)} / {len(sample)} sampled revisions have 1+ subsequent revision in 2018 or 2019.\")\n",
    "sample.loc[idx, 'next_rev_id'] = matched_sample[idx].rev_id.tolist()"
   ]
  },
  {
   "cell_type": "code",
   "execution_count": 31,
   "metadata": {},
   "outputs": [
    {
     "name": "stderr",
     "output_type": "stream",
     "text": [
      "100%|██████████| 77287697/77287697 [02:42<00:00, 474877.87it/s]\n"
     ]
    }
   ],
   "source": [
    "# get the timestamp of the previous and next revisions\n",
    "rev_id_timestamp_dict = {tup.rev_id: tup.rev_timestamp for tup in tqdm(df.itertuples(), total=len(df))}\n",
    "sample['prev_rev_timestamp'] = sample.prev_rev_id.map(lambda prev_rev_id: rev_id_timestamp_dict[prev_rev_id])\n",
    "sample['next_rev_timestamp'] = sample.next_rev_id.map(lambda next_rev_id: rev_id_timestamp_dict[next_rev_id] if next_rev_id != -1 else -1)"
   ]
  },
  {
   "cell_type": "code",
   "execution_count": 32,
   "metadata": {},
   "outputs": [
    {
     "data": {
      "text/html": [
       "<div>\n",
       "<style scoped>\n",
       "    .dataframe tbody tr th:only-of-type {\n",
       "        vertical-align: middle;\n",
       "    }\n",
       "\n",
       "    .dataframe tbody tr th {\n",
       "        vertical-align: top;\n",
       "    }\n",
       "\n",
       "    .dataframe thead th {\n",
       "        text-align: right;\n",
       "    }\n",
       "</style>\n",
       "<table border=\"1\" class=\"dataframe\">\n",
       "  <thead>\n",
       "    <tr style=\"text-align: right;\">\n",
       "      <th></th>\n",
       "      <th>full_index</th>\n",
       "      <th>page_id</th>\n",
       "      <th>rev_id</th>\n",
       "      <th>rev_timestamp</th>\n",
       "      <th>is_revert_target</th>\n",
       "      <th>is_reverted</th>\n",
       "      <th>is_reverting</th>\n",
       "      <th>is_sample_eligible</th>\n",
       "      <th>prev_rev_id</th>\n",
       "      <th>next_rev_id</th>\n",
       "      <th>prev_rev_timestamp</th>\n",
       "      <th>next_rev_timestamp</th>\n",
       "    </tr>\n",
       "  </thead>\n",
       "  <tbody>\n",
       "    <tr>\n",
       "      <th>61378268</th>\n",
       "      <td>61378268</td>\n",
       "      <td>52232058</td>\n",
       "      <td>831517149</td>\n",
       "      <td>1521608836</td>\n",
       "      <td>0</td>\n",
       "      <td>0</td>\n",
       "      <td>0</td>\n",
       "      <td>True</td>\n",
       "      <td>831516744</td>\n",
       "      <td>831528824</td>\n",
       "      <td>1521608698</td>\n",
       "      <td>1521614309</td>\n",
       "    </tr>\n",
       "    <tr>\n",
       "      <th>15696379</th>\n",
       "      <td>15696379</td>\n",
       "      <td>1501758</td>\n",
       "      <td>841712258</td>\n",
       "      <td>1526588824</td>\n",
       "      <td>0</td>\n",
       "      <td>0</td>\n",
       "      <td>0</td>\n",
       "      <td>True</td>\n",
       "      <td>841712075</td>\n",
       "      <td>841712410</td>\n",
       "      <td>1526588726</td>\n",
       "      <td>1526588897</td>\n",
       "    </tr>\n",
       "    <tr>\n",
       "      <th>1452860</th>\n",
       "      <td>1452860</td>\n",
       "      <td>25239</td>\n",
       "      <td>844335926</td>\n",
       "      <td>1528115396</td>\n",
       "      <td>0</td>\n",
       "      <td>0</td>\n",
       "      <td>0</td>\n",
       "      <td>True</td>\n",
       "      <td>844335334</td>\n",
       "      <td>844343345</td>\n",
       "      <td>1528114910</td>\n",
       "      <td>1528120731</td>\n",
       "    </tr>\n",
       "    <tr>\n",
       "      <th>56885037</th>\n",
       "      <td>56885037</td>\n",
       "      <td>46695824</td>\n",
       "      <td>846301278</td>\n",
       "      <td>1529286250</td>\n",
       "      <td>0</td>\n",
       "      <td>0</td>\n",
       "      <td>0</td>\n",
       "      <td>True</td>\n",
       "      <td>845230648</td>\n",
       "      <td>846302881</td>\n",
       "      <td>1528645143</td>\n",
       "      <td>1529287006</td>\n",
       "    </tr>\n",
       "    <tr>\n",
       "      <th>16350465</th>\n",
       "      <td>16350465</td>\n",
       "      <td>1664084</td>\n",
       "      <td>838201915</td>\n",
       "      <td>1524687382</td>\n",
       "      <td>0</td>\n",
       "      <td>0</td>\n",
       "      <td>0</td>\n",
       "      <td>True</td>\n",
       "      <td>838077319</td>\n",
       "      <td>838203213</td>\n",
       "      <td>1524617329</td>\n",
       "      <td>1524687976</td>\n",
       "    </tr>\n",
       "  </tbody>\n",
       "</table>\n",
       "</div>"
      ],
      "text/plain": [
       "          full_index   page_id     rev_id  rev_timestamp  is_revert_target  \\\n",
       "61378268    61378268  52232058  831517149     1521608836                 0   \n",
       "15696379    15696379   1501758  841712258     1526588824                 0   \n",
       "1452860      1452860     25239  844335926     1528115396                 0   \n",
       "56885037    56885037  46695824  846301278     1529286250                 0   \n",
       "16350465    16350465   1664084  838201915     1524687382                 0   \n",
       "\n",
       "          is_reverted  is_reverting  is_sample_eligible  prev_rev_id  \\\n",
       "61378268            0             0                True    831516744   \n",
       "15696379            0             0                True    841712075   \n",
       "1452860             0             0                True    844335334   \n",
       "56885037            0             0                True    845230648   \n",
       "16350465            0             0                True    838077319   \n",
       "\n",
       "          next_rev_id  prev_rev_timestamp  next_rev_timestamp  \n",
       "61378268    831528824          1521608698          1521614309  \n",
       "15696379    841712410          1526588726          1526588897  \n",
       "1452860     844343345          1528114910          1528120731  \n",
       "56885037    846302881          1528645143          1529287006  \n",
       "16350465    838203213          1524617329          1524687976  "
      ]
     },
     "execution_count": 32,
     "metadata": {},
     "output_type": "execute_result"
    }
   ],
   "source": [
    "sample.head()"
   ]
  },
  {
   "cell_type": "code",
   "execution_count": 33,
   "metadata": {},
   "outputs": [
    {
     "name": "stderr",
     "output_type": "stream",
     "text": [
      "100%|██████████| 5992682/5992682 [00:21<00:00, 273317.15it/s]\n"
     ]
    }
   ],
   "source": [
    "sample_reverting_rev_ids = set(sample[sample.is_reverting==1].rev_id)\n",
    "reverting_rev_id_to_reverted_ids_dict = {\n",
    "    row.reverting_rev_id: row.reverted_rev_ids\n",
    "    for row in tqdm(revert_df.itertuples(), total=len(revert_df))\n",
    "    if row.reverting_rev_id in sample_reverting_rev_ids\n",
    "}"
   ]
  },
  {
   "cell_type": "code",
   "execution_count": 34,
   "metadata": {},
   "outputs": [],
   "source": [
    "# for reverting revisions in the sample, merge in the list of reverted_rev_ids\n",
    "# using the dictionary computed in the cell above\n",
    "reverted_rev_ids_list = []\n",
    "for tup in sample.itertuples(): \n",
    "    if tup.is_reverting == 1:\n",
    "        reverted_rev_ids = reverting_rev_id_to_reverted_ids_dict[tup.rev_id]\n",
    "        reverted_rev_ids_list.append(reverted_rev_ids)\n",
    "    else:\n",
    "        reverted_rev_ids_list.append([])\n",
    "sample['reverted_rev_ids'] = reverted_rev_ids_list"
   ]
  },
  {
   "cell_type": "code",
   "execution_count": 35,
   "metadata": {},
   "outputs": [
    {
     "name": "stderr",
     "output_type": "stream",
     "text": [
      "100%|██████████| 5992682/5992682 [00:26<00:00, 230184.25it/s]\n"
     ]
    }
   ],
   "source": [
    "reverted_to_reverting_rev_id_dict = {}\n",
    "for tup in tqdm(revert_df.itertuples(), total=len(revert_df)):\n",
    "    for rev_id in tup.reverted_rev_ids:\n",
    "        reverted_to_reverting_rev_id_dict[rev_id] = tup.reverting_rev_id"
   ]
  },
  {
   "cell_type": "code",
   "execution_count": 36,
   "metadata": {},
   "outputs": [],
   "source": [
    "# grab the reverting id for reverted revisions\n",
    "sample['reverting_rev_id'] = -1\n",
    "sample.loc[sample.is_reverted==1,'reverting_rev_id'] = [\n",
    "    reverted_to_reverting_rev_id_dict[rev_id] for rev_id in sample.loc[sample.is_reverted==1].rev_id\n",
    "]"
   ]
  },
  {
   "cell_type": "code",
   "execution_count": 37,
   "metadata": {},
   "outputs": [],
   "source": [
    "# merge in the time of the reverting revision\n",
    "sample['reverting_rev_timestamp'] = -1\n",
    "reverting_rev_timestamp_dict = {tup.rev_id: tup.rev_timestamp for tup in df[df.is_reverting==1].itertuples()}\n",
    "sample.loc[sample.is_reverted==1,'reverting_rev_timestamp'] = [\n",
    "    reverting_rev_timestamp_dict[rev_id] for rev_id in sample.loc[sample.is_reverted==1].reverting_rev_id\n",
    "]"
   ]
  },
  {
   "cell_type": "code",
   "execution_count": 38,
   "metadata": {},
   "outputs": [
    {
     "data": {
      "text/html": [
       "<div>\n",
       "<style scoped>\n",
       "    .dataframe tbody tr th:only-of-type {\n",
       "        vertical-align: middle;\n",
       "    }\n",
       "\n",
       "    .dataframe tbody tr th {\n",
       "        vertical-align: top;\n",
       "    }\n",
       "\n",
       "    .dataframe thead th {\n",
       "        text-align: right;\n",
       "    }\n",
       "</style>\n",
       "<table border=\"1\" class=\"dataframe\">\n",
       "  <thead>\n",
       "    <tr style=\"text-align: right;\">\n",
       "      <th></th>\n",
       "      <th>full_index</th>\n",
       "      <th>page_id</th>\n",
       "      <th>rev_id</th>\n",
       "      <th>rev_timestamp</th>\n",
       "      <th>is_revert_target</th>\n",
       "      <th>is_reverted</th>\n",
       "      <th>is_reverting</th>\n",
       "      <th>is_sample_eligible</th>\n",
       "      <th>prev_rev_id</th>\n",
       "      <th>next_rev_id</th>\n",
       "      <th>prev_rev_timestamp</th>\n",
       "      <th>next_rev_timestamp</th>\n",
       "      <th>reverted_rev_ids</th>\n",
       "      <th>reverting_rev_id</th>\n",
       "      <th>reverting_rev_timestamp</th>\n",
       "    </tr>\n",
       "  </thead>\n",
       "  <tbody>\n",
       "    <tr>\n",
       "      <th>68891325</th>\n",
       "      <td>68891325</td>\n",
       "      <td>57413215</td>\n",
       "      <td>866893479</td>\n",
       "      <td>1541160459</td>\n",
       "      <td>0</td>\n",
       "      <td>1</td>\n",
       "      <td>0</td>\n",
       "      <td>True</td>\n",
       "      <td>866893418</td>\n",
       "      <td>866967935</td>\n",
       "      <td>1541160394</td>\n",
       "      <td>1541204058</td>\n",
       "      <td>[]</td>\n",
       "      <td>867171652</td>\n",
       "      <td>1541322909</td>\n",
       "    </tr>\n",
       "    <tr>\n",
       "      <th>13792197</th>\n",
       "      <td>13792197</td>\n",
       "      <td>1093068</td>\n",
       "      <td>835843368</td>\n",
       "      <td>1523434577</td>\n",
       "      <td>0</td>\n",
       "      <td>1</td>\n",
       "      <td>0</td>\n",
       "      <td>True</td>\n",
       "      <td>830579779</td>\n",
       "      <td>835843386</td>\n",
       "      <td>1521155767</td>\n",
       "      <td>1523434590</td>\n",
       "      <td>[]</td>\n",
       "      <td>835843386</td>\n",
       "      <td>1523434590</td>\n",
       "    </tr>\n",
       "    <tr>\n",
       "      <th>8733950</th>\n",
       "      <td>8733950</td>\n",
       "      <td>401673</td>\n",
       "      <td>865563402</td>\n",
       "      <td>1540422024</td>\n",
       "      <td>0</td>\n",
       "      <td>1</td>\n",
       "      <td>0</td>\n",
       "      <td>True</td>\n",
       "      <td>864948432</td>\n",
       "      <td>865563810</td>\n",
       "      <td>1540074074</td>\n",
       "      <td>1540422182</td>\n",
       "      <td>[]</td>\n",
       "      <td>865564999</td>\n",
       "      <td>1540422665</td>\n",
       "    </tr>\n",
       "    <tr>\n",
       "      <th>5751463</th>\n",
       "      <td>5751463</td>\n",
       "      <td>187739</td>\n",
       "      <td>825845673</td>\n",
       "      <td>1518744424</td>\n",
       "      <td>0</td>\n",
       "      <td>1</td>\n",
       "      <td>0</td>\n",
       "      <td>True</td>\n",
       "      <td>825379935</td>\n",
       "      <td>825845681</td>\n",
       "      <td>1518508873</td>\n",
       "      <td>1518744427</td>\n",
       "      <td>[]</td>\n",
       "      <td>825845681</td>\n",
       "      <td>1518744427</td>\n",
       "    </tr>\n",
       "    <tr>\n",
       "      <th>50493501</th>\n",
       "      <td>50493501</td>\n",
       "      <td>38042480</td>\n",
       "      <td>858876974</td>\n",
       "      <td>1536578862</td>\n",
       "      <td>0</td>\n",
       "      <td>1</td>\n",
       "      <td>0</td>\n",
       "      <td>True</td>\n",
       "      <td>858694708</td>\n",
       "      <td>858877030</td>\n",
       "      <td>1536473591</td>\n",
       "      <td>1536578922</td>\n",
       "      <td>[]</td>\n",
       "      <td>858877030</td>\n",
       "      <td>1536578922</td>\n",
       "    </tr>\n",
       "  </tbody>\n",
       "</table>\n",
       "</div>"
      ],
      "text/plain": [
       "          full_index   page_id     rev_id  rev_timestamp  is_revert_target  \\\n",
       "68891325    68891325  57413215  866893479     1541160459                 0   \n",
       "13792197    13792197   1093068  835843368     1523434577                 0   \n",
       "8733950      8733950    401673  865563402     1540422024                 0   \n",
       "5751463      5751463    187739  825845673     1518744424                 0   \n",
       "50493501    50493501  38042480  858876974     1536578862                 0   \n",
       "\n",
       "          is_reverted  is_reverting  is_sample_eligible  prev_rev_id  \\\n",
       "68891325            1             0                True    866893418   \n",
       "13792197            1             0                True    830579779   \n",
       "8733950             1             0                True    864948432   \n",
       "5751463             1             0                True    825379935   \n",
       "50493501            1             0                True    858694708   \n",
       "\n",
       "          next_rev_id  prev_rev_timestamp  next_rev_timestamp  \\\n",
       "68891325    866967935          1541160394          1541204058   \n",
       "13792197    835843386          1521155767          1523434590   \n",
       "8733950     865563810          1540074074          1540422182   \n",
       "5751463     825845681          1518508873          1518744427   \n",
       "50493501    858877030          1536473591          1536578922   \n",
       "\n",
       "         reverted_rev_ids  reverting_rev_id  reverting_rev_timestamp  \n",
       "68891325               []         867171652               1541322909  \n",
       "13792197               []         835843386               1523434590  \n",
       "8733950                []         865564999               1540422665  \n",
       "5751463                []         825845681               1518744427  \n",
       "50493501               []         858877030               1536578922  "
      ]
     },
     "execution_count": 38,
     "metadata": {},
     "output_type": "execute_result"
    }
   ],
   "source": [
    "sample[sample.is_reverted==1].head()"
   ]
  },
  {
   "cell_type": "code",
   "execution_count": 39,
   "metadata": {},
   "outputs": [
    {
     "data": {
      "text/html": [
       "<div>\n",
       "<style scoped>\n",
       "    .dataframe tbody tr th:only-of-type {\n",
       "        vertical-align: middle;\n",
       "    }\n",
       "\n",
       "    .dataframe tbody tr th {\n",
       "        vertical-align: top;\n",
       "    }\n",
       "\n",
       "    .dataframe thead th {\n",
       "        text-align: right;\n",
       "    }\n",
       "</style>\n",
       "<table border=\"1\" class=\"dataframe\">\n",
       "  <thead>\n",
       "    <tr style=\"text-align: right;\">\n",
       "      <th></th>\n",
       "      <th>page_id</th>\n",
       "      <th>rev_id</th>\n",
       "      <th>rev_timestamp</th>\n",
       "      <th>is_revert_target</th>\n",
       "      <th>is_reverted</th>\n",
       "      <th>is_reverting</th>\n",
       "      <th>is_sample_eligible</th>\n",
       "      <th>prev_rev_id</th>\n",
       "      <th>next_rev_id</th>\n",
       "      <th>prev_rev_timestamp</th>\n",
       "      <th>next_rev_timestamp</th>\n",
       "      <th>reverted_rev_ids</th>\n",
       "      <th>reverting_rev_id</th>\n",
       "      <th>reverting_rev_timestamp</th>\n",
       "    </tr>\n",
       "  </thead>\n",
       "  <tbody>\n",
       "    <tr>\n",
       "      <th>61378268</th>\n",
       "      <td>52232058</td>\n",
       "      <td>831517149</td>\n",
       "      <td>1521608836</td>\n",
       "      <td>0</td>\n",
       "      <td>0</td>\n",
       "      <td>0</td>\n",
       "      <td>True</td>\n",
       "      <td>831516744</td>\n",
       "      <td>831528824</td>\n",
       "      <td>1521608698</td>\n",
       "      <td>1521614309</td>\n",
       "      <td>[]</td>\n",
       "      <td>-1</td>\n",
       "      <td>-1</td>\n",
       "    </tr>\n",
       "  </tbody>\n",
       "</table>\n",
       "</div>"
      ],
      "text/plain": [
       "           page_id     rev_id  rev_timestamp  is_revert_target  is_reverted  \\\n",
       "61378268  52232058  831517149     1521608836                 0            0   \n",
       "\n",
       "          is_reverting  is_sample_eligible  prev_rev_id  next_rev_id  \\\n",
       "61378268             0                True    831516744    831528824   \n",
       "\n",
       "          prev_rev_timestamp  next_rev_timestamp reverted_rev_ids  \\\n",
       "61378268          1521608698          1521614309               []   \n",
       "\n",
       "          reverting_rev_id  reverting_rev_timestamp  \n",
       "61378268                -1                       -1  "
      ]
     },
     "execution_count": 39,
     "metadata": {},
     "output_type": "execute_result"
    }
   ],
   "source": [
    "sample = sample.drop(columns='full_index')\n",
    "sample.head(1)"
   ]
  },
  {
   "cell_type": "code",
   "execution_count": 40,
   "metadata": {},
   "outputs": [
    {
     "name": "stdout",
     "output_type": "stream",
     "text": [
      "Finished.\n"
     ]
    }
   ],
   "source": [
    "# save the sample\n",
    "sample1_filepath = os.path.join(working_dir, 'sample2_1M.pkl')\n",
    "sample.to_pickle(sample1_filepath)\n",
    "print(\"Finished.\")"
   ]
  },
  {
   "cell_type": "code",
   "execution_count": 41,
   "metadata": {},
   "outputs": [
    {
     "data": {
      "text/plain": [
       "1000000"
      ]
     },
     "execution_count": 41,
     "metadata": {},
     "output_type": "execute_result"
    }
   ],
   "source": [
    "# read in the sample dataframe\n",
    "revision_sample_dir = os.path.join(derived_data_dir, 'revision_sample')\n",
    "sample1_filepath = os.path.join(revision_sample_dir, 'sample2_1M.pkl')\n",
    "rev_df = pd.read_pickle(sample1_filepath)\n",
    "len(rev_df)"
   ]
  },
  {
   "cell_type": "code",
   "execution_count": 42,
   "metadata": {},
   "outputs": [
    {
     "data": {
      "text/html": [
       "<div>\n",
       "<style scoped>\n",
       "    .dataframe tbody tr th:only-of-type {\n",
       "        vertical-align: middle;\n",
       "    }\n",
       "\n",
       "    .dataframe tbody tr th {\n",
       "        vertical-align: top;\n",
       "    }\n",
       "\n",
       "    .dataframe thead th {\n",
       "        text-align: right;\n",
       "    }\n",
       "</style>\n",
       "<table border=\"1\" class=\"dataframe\">\n",
       "  <thead>\n",
       "    <tr style=\"text-align: right;\">\n",
       "      <th></th>\n",
       "      <th>page_id</th>\n",
       "      <th>rev_id</th>\n",
       "      <th>rev_timestamp</th>\n",
       "      <th>is_revert_target</th>\n",
       "      <th>is_reverted</th>\n",
       "      <th>is_reverting</th>\n",
       "      <th>is_sample_eligible</th>\n",
       "      <th>prev_rev_id</th>\n",
       "      <th>next_rev_id</th>\n",
       "      <th>prev_rev_timestamp</th>\n",
       "      <th>next_rev_timestamp</th>\n",
       "      <th>reverted_rev_ids</th>\n",
       "      <th>reverting_rev_id</th>\n",
       "      <th>reverting_rev_timestamp</th>\n",
       "    </tr>\n",
       "  </thead>\n",
       "  <tbody>\n",
       "    <tr>\n",
       "      <th>61378268</th>\n",
       "      <td>52232058</td>\n",
       "      <td>831517149</td>\n",
       "      <td>1521608836</td>\n",
       "      <td>0</td>\n",
       "      <td>0</td>\n",
       "      <td>0</td>\n",
       "      <td>True</td>\n",
       "      <td>831516744</td>\n",
       "      <td>831528824</td>\n",
       "      <td>1521608698</td>\n",
       "      <td>1521614309</td>\n",
       "      <td>[]</td>\n",
       "      <td>-1</td>\n",
       "      <td>-1</td>\n",
       "    </tr>\n",
       "    <tr>\n",
       "      <th>15696379</th>\n",
       "      <td>1501758</td>\n",
       "      <td>841712258</td>\n",
       "      <td>1526588824</td>\n",
       "      <td>0</td>\n",
       "      <td>0</td>\n",
       "      <td>0</td>\n",
       "      <td>True</td>\n",
       "      <td>841712075</td>\n",
       "      <td>841712410</td>\n",
       "      <td>1526588726</td>\n",
       "      <td>1526588897</td>\n",
       "      <td>[]</td>\n",
       "      <td>-1</td>\n",
       "      <td>-1</td>\n",
       "    </tr>\n",
       "    <tr>\n",
       "      <th>1452860</th>\n",
       "      <td>25239</td>\n",
       "      <td>844335926</td>\n",
       "      <td>1528115396</td>\n",
       "      <td>0</td>\n",
       "      <td>0</td>\n",
       "      <td>0</td>\n",
       "      <td>True</td>\n",
       "      <td>844335334</td>\n",
       "      <td>844343345</td>\n",
       "      <td>1528114910</td>\n",
       "      <td>1528120731</td>\n",
       "      <td>[]</td>\n",
       "      <td>-1</td>\n",
       "      <td>-1</td>\n",
       "    </tr>\n",
       "    <tr>\n",
       "      <th>56885037</th>\n",
       "      <td>46695824</td>\n",
       "      <td>846301278</td>\n",
       "      <td>1529286250</td>\n",
       "      <td>0</td>\n",
       "      <td>0</td>\n",
       "      <td>0</td>\n",
       "      <td>True</td>\n",
       "      <td>845230648</td>\n",
       "      <td>846302881</td>\n",
       "      <td>1528645143</td>\n",
       "      <td>1529287006</td>\n",
       "      <td>[]</td>\n",
       "      <td>-1</td>\n",
       "      <td>-1</td>\n",
       "    </tr>\n",
       "    <tr>\n",
       "      <th>16350465</th>\n",
       "      <td>1664084</td>\n",
       "      <td>838201915</td>\n",
       "      <td>1524687382</td>\n",
       "      <td>0</td>\n",
       "      <td>0</td>\n",
       "      <td>0</td>\n",
       "      <td>True</td>\n",
       "      <td>838077319</td>\n",
       "      <td>838203213</td>\n",
       "      <td>1524617329</td>\n",
       "      <td>1524687976</td>\n",
       "      <td>[]</td>\n",
       "      <td>-1</td>\n",
       "      <td>-1</td>\n",
       "    </tr>\n",
       "  </tbody>\n",
       "</table>\n",
       "</div>"
      ],
      "text/plain": [
       "           page_id     rev_id  rev_timestamp  is_revert_target  is_reverted  \\\n",
       "61378268  52232058  831517149     1521608836                 0            0   \n",
       "15696379   1501758  841712258     1526588824                 0            0   \n",
       "1452860      25239  844335926     1528115396                 0            0   \n",
       "56885037  46695824  846301278     1529286250                 0            0   \n",
       "16350465   1664084  838201915     1524687382                 0            0   \n",
       "\n",
       "          is_reverting  is_sample_eligible  prev_rev_id  next_rev_id  \\\n",
       "61378268             0                True    831516744    831528824   \n",
       "15696379             0                True    841712075    841712410   \n",
       "1452860              0                True    844335334    844343345   \n",
       "56885037             0                True    845230648    846302881   \n",
       "16350465             0                True    838077319    838203213   \n",
       "\n",
       "          prev_rev_timestamp  next_rev_timestamp reverted_rev_ids  \\\n",
       "61378268          1521608698          1521614309               []   \n",
       "15696379          1526588726          1526588897               []   \n",
       "1452860           1528114910          1528120731               []   \n",
       "56885037          1528645143          1529287006               []   \n",
       "16350465          1524617329          1524687976               []   \n",
       "\n",
       "          reverting_rev_id  reverting_rev_timestamp  \n",
       "61378268                -1                       -1  \n",
       "15696379                -1                       -1  \n",
       "1452860                 -1                       -1  \n",
       "56885037                -1                       -1  \n",
       "16350465                -1                       -1  "
      ]
     },
     "execution_count": 42,
     "metadata": {},
     "output_type": "execute_result"
    }
   ],
   "source": [
    "rev_df.head()"
   ]
  },
  {
   "cell_type": "code",
   "execution_count": null,
   "metadata": {},
   "outputs": [],
   "source": []
  }
 ],
 "metadata": {
  "kernelspec": {
   "display_name": "Flagon Python3",
   "language": "python",
   "name": "flagon-conda-env"
  },
  "language_info": {
   "codemirror_mode": {
    "name": "ipython",
    "version": 3
   },
   "file_extension": ".py",
   "mimetype": "text/x-python",
   "name": "python",
   "nbconvert_exporter": "python",
   "pygments_lexer": "ipython3",
   "version": "3.7.6"
  }
 },
 "nbformat": 4,
 "nbformat_minor": 4
}
