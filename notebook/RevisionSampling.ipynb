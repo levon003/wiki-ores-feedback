{
 "cells": [
  {
   "cell_type": "markdown",
   "metadata": {},
   "source": [
    "Revision Sampling\n",
    "===\n",
    "\n",
    "Sample revisions that should be investigated further.\n",
    "\n",
    "Notably, the identified revisions will have:\n",
    " - Text of the identified revisions retrieved\n",
    " - ORES scores of the identified revisions retrieved\n",
    " \n",
    "#### Sampling details:\n",
    "\n",
    "What we're really doing is sampling revision _pairs_.\n",
    "\n",
    "We sample a non-revert revision and also the prior revision. Then, we check to see if this revision was reverted.\n",
    "\n",
    "For reverted revisions, we merge in reverts data to establish the time to revert.\n",
    "\n",
    "For now, we're sampling only in 2018 (so that we have all of 2019 to observe reverts)"
   ]
  },
  {
   "cell_type": "code",
   "execution_count": 1,
   "metadata": {},
   "outputs": [],
   "source": [
    "import mwapi\n",
    "import mwxml\n",
    "import mwxml.utilities\n",
    "import mwcli\n",
    "import mwreverts\n",
    "import oresapi\n",
    "import mwparserfromhell"
   ]
  },
  {
   "cell_type": "code",
   "execution_count": 2,
   "metadata": {},
   "outputs": [],
   "source": [
    "import numpy as np\n",
    "import pandas as pd\n",
    "import matplotlib.pyplot as plt\n",
    "import matplotlib"
   ]
  },
  {
   "cell_type": "code",
   "execution_count": 3,
   "metadata": {},
   "outputs": [],
   "source": [
    "import os\n",
    "from tqdm import tqdm\n",
    "import bz2\n",
    "import gzip\n",
    "import json\n",
    "import re\n",
    "import hashlib\n",
    "from datetime import datetime\n",
    "import nltk\n",
    "import scipy.stats\n",
    "import para\n",
    "from itertools import groupby\n",
    "from collections import Counter"
   ]
  },
  {
   "cell_type": "code",
   "execution_count": 4,
   "metadata": {},
   "outputs": [
    {
     "data": {
      "text/plain": [
       "'/export/scratch2/levon003/repos/wiki-ores-feedback'"
      ]
     },
     "execution_count": 4,
     "metadata": {},
     "output_type": "execute_result"
    }
   ],
   "source": [
    "git_root_dir = !git rev-parse --show-toplevel\n",
    "git_root_dir = git_root_dir[0]\n",
    "git_root_dir"
   ]
  },
  {
   "cell_type": "code",
   "execution_count": 5,
   "metadata": {},
   "outputs": [
    {
     "data": {
      "text/plain": [
       "('/export/scratch2/wiki_data',\n",
       " '/export/scratch2/levon003/repos/wiki-ores-feedback/data/derived')"
      ]
     },
     "execution_count": 5,
     "metadata": {},
     "output_type": "execute_result"
    }
   ],
   "source": [
    "raw_data_dir = \"/export/scratch2/wiki_data\"\n",
    "derived_data_dir = os.path.join(git_root_dir, \"data\", \"derived\")\n",
    "raw_data_dir, derived_data_dir"
   ]
  },
  {
   "cell_type": "code",
   "execution_count": 6,
   "metadata": {},
   "outputs": [
    {
     "data": {
      "text/plain": [
       "'/export/scratch2/levon003/repos/wiki-ores-feedback/data/derived/revision_sample'"
      ]
     },
     "execution_count": 6,
     "metadata": {},
     "output_type": "execute_result"
    }
   ],
   "source": [
    "working_dir = os.path.join(derived_data_dir, 'revision_sample')\n",
    "os.makedirs(working_dir, exist_ok=True)\n",
    "working_dir"
   ]
  },
  {
   "cell_type": "code",
   "execution_count": 7,
   "metadata": {},
   "outputs": [
    {
     "data": {
      "text/plain": [
       "(1514786400, 1577858400)"
      ]
     },
     "execution_count": 7,
     "metadata": {},
     "output_type": "execute_result"
    }
   ],
   "source": [
    "start_date = datetime.fromisoformat('2018-01-01')\n",
    "start_timestamp = int(start_date.timestamp())\n",
    "end_date = datetime.fromisoformat('2020-01-01')\n",
    "end_timestamp = int(end_date.timestamp())\n",
    "start_timestamp, end_timestamp"
   ]
  },
  {
   "cell_type": "code",
   "execution_count": 15,
   "metadata": {},
   "outputs": [],
   "source": [
    "sample_start_timestamp = start_timestamp\n",
    "sample_end_date = datetime.fromisoformat('2019-01-01')\n",
    "sample_end_timestamp = int(end_date.timestamp())"
   ]
  },
  {
   "cell_type": "markdown",
   "metadata": {},
   "source": [
    "### Load in all revisions\n",
    "\n",
    "Which excludes revisions outside of 2018-2020 and only for pages in ns0 and non-redirects."
   ]
  },
  {
   "cell_type": "code",
   "execution_count": 10,
   "metadata": {},
   "outputs": [
    {
     "name": "stdout",
     "output_type": "stream",
     "text": [
      "0:00:59.704629\n"
     ]
    },
    {
     "data": {
      "text/plain": [
       "77287697"
      ]
     },
     "execution_count": 10,
     "metadata": {},
     "output_type": "execute_result"
    }
   ],
   "source": [
    "start = datetime.now()\n",
    "stub_history_reverts_dir = os.path.join(derived_data_dir, 'stub-history-reverts')\n",
    "rev_ids_filepath = os.path.join(stub_history_reverts_dir, 'rev_ids_sorted.csv')\n",
    "df = pd.read_csv(rev_ids_filepath,\n",
    "                 header=None, \n",
    "                 names=['page_id', 'rev_id', 'rev_timestamp', 'is_revert_target', 'is_reverted', 'is_reverting']\n",
    ")\n",
    "print(f\"{datetime.now() - start}\")\n",
    "len(df)"
   ]
  },
  {
   "cell_type": "code",
   "execution_count": 11,
   "metadata": {},
   "outputs": [
    {
     "data": {
      "text/html": [
       "<div>\n",
       "<style scoped>\n",
       "    .dataframe tbody tr th:only-of-type {\n",
       "        vertical-align: middle;\n",
       "    }\n",
       "\n",
       "    .dataframe tbody tr th {\n",
       "        vertical-align: top;\n",
       "    }\n",
       "\n",
       "    .dataframe thead th {\n",
       "        text-align: right;\n",
       "    }\n",
       "</style>\n",
       "<table border=\"1\" class=\"dataframe\">\n",
       "  <thead>\n",
       "    <tr style=\"text-align: right;\">\n",
       "      <th></th>\n",
       "      <th>page_id</th>\n",
       "      <th>rev_id</th>\n",
       "      <th>rev_timestamp</th>\n",
       "      <th>is_revert_target</th>\n",
       "      <th>is_reverted</th>\n",
       "      <th>is_reverting</th>\n",
       "    </tr>\n",
       "  </thead>\n",
       "  <tbody>\n",
       "    <tr>\n",
       "      <th>0</th>\n",
       "      <td>12</td>\n",
       "      <td>818611292</td>\n",
       "      <td>1515101356</td>\n",
       "      <td>0</td>\n",
       "      <td>0</td>\n",
       "      <td>0</td>\n",
       "    </tr>\n",
       "    <tr>\n",
       "      <th>1</th>\n",
       "      <td>12</td>\n",
       "      <td>818613649</td>\n",
       "      <td>1515102279</td>\n",
       "      <td>0</td>\n",
       "      <td>0</td>\n",
       "      <td>0</td>\n",
       "    </tr>\n",
       "    <tr>\n",
       "      <th>2</th>\n",
       "      <td>12</td>\n",
       "      <td>818624114</td>\n",
       "      <td>1515106953</td>\n",
       "      <td>1</td>\n",
       "      <td>0</td>\n",
       "      <td>0</td>\n",
       "    </tr>\n",
       "    <tr>\n",
       "      <th>3</th>\n",
       "      <td>12</td>\n",
       "      <td>820024812</td>\n",
       "      <td>1515798752</td>\n",
       "      <td>0</td>\n",
       "      <td>1</td>\n",
       "      <td>0</td>\n",
       "    </tr>\n",
       "    <tr>\n",
       "      <th>4</th>\n",
       "      <td>12</td>\n",
       "      <td>820025687</td>\n",
       "      <td>1515799060</td>\n",
       "      <td>0</td>\n",
       "      <td>0</td>\n",
       "      <td>1</td>\n",
       "    </tr>\n",
       "  </tbody>\n",
       "</table>\n",
       "</div>"
      ],
      "text/plain": [
       "   page_id     rev_id  rev_timestamp  is_revert_target  is_reverted  \\\n",
       "0       12  818611292     1515101356                 0            0   \n",
       "1       12  818613649     1515102279                 0            0   \n",
       "2       12  818624114     1515106953                 1            0   \n",
       "3       12  820024812     1515798752                 0            1   \n",
       "4       12  820025687     1515799060                 0            0   \n",
       "\n",
       "   is_reverting  \n",
       "0             0  \n",
       "1             0  \n",
       "2             0  \n",
       "3             0  \n",
       "4             1  "
      ]
     },
     "execution_count": 11,
     "metadata": {},
     "output_type": "execute_result"
    }
   ],
   "source": [
    "df.head()"
   ]
  },
  {
   "cell_type": "code",
   "execution_count": 12,
   "metadata": {},
   "outputs": [
    {
     "data": {
      "text/plain": [
       "5338582"
      ]
     },
     "execution_count": 12,
     "metadata": {},
     "output_type": "execute_result"
    }
   ],
   "source": [
    "# number of unique pages in this sample\n",
    "page_ids_set = set(df.page_id)\n",
    "len(page_ids_set)"
   ]
  },
  {
   "cell_type": "code",
   "execution_count": 13,
   "metadata": {},
   "outputs": [
    {
     "data": {
      "text/plain": [
       "5992682"
      ]
     },
     "execution_count": 13,
     "metadata": {},
     "output_type": "execute_result"
    }
   ],
   "source": [
    "# Read the revert info\n",
    "stub_history_reverts_dir = os.path.join(derived_data_dir, 'stub-history-reverts')\n",
    "revert_df_filepath = os.path.join(stub_history_reverts_dir, 'revert_df.pkl')\n",
    "revert_df = pd.read_pickle(revert_df_filepath)\n",
    "len(revert_df)"
   ]
  },
  {
   "cell_type": "code",
   "execution_count": 109,
   "metadata": {},
   "outputs": [
    {
     "data": {
      "text/html": [
       "<div>\n",
       "<style scoped>\n",
       "    .dataframe tbody tr th:only-of-type {\n",
       "        vertical-align: middle;\n",
       "    }\n",
       "\n",
       "    .dataframe tbody tr th {\n",
       "        vertical-align: top;\n",
       "    }\n",
       "\n",
       "    .dataframe thead th {\n",
       "        text-align: right;\n",
       "    }\n",
       "</style>\n",
       "<table border=\"1\" class=\"dataframe\">\n",
       "  <thead>\n",
       "    <tr style=\"text-align: right;\">\n",
       "      <th></th>\n",
       "      <th>page_id</th>\n",
       "      <th>reverted_count</th>\n",
       "      <th>reverting_rev_id</th>\n",
       "      <th>reverting_timestamp</th>\n",
       "      <th>reverting_user_text</th>\n",
       "      <th>reverting_user_id</th>\n",
       "      <th>reverted_to_rev_id</th>\n",
       "      <th>reverted_to_timestamp</th>\n",
       "      <th>reverted_to_user_text</th>\n",
       "      <th>reverted_to_user_id</th>\n",
       "      <th>reverted_rev_ids</th>\n",
       "      <th>reverted_timestamps</th>\n",
       "      <th>reverted_user_texts</th>\n",
       "      <th>reverted_user_ids</th>\n",
       "      <th>reverting_user_is_anonymous</th>\n",
       "      <th>reverted_to_user_is_anonymous</th>\n",
       "      <th>reverted_users_is_anonymous</th>\n",
       "    </tr>\n",
       "  </thead>\n",
       "  <tbody>\n",
       "    <tr>\n",
       "      <th>0</th>\n",
       "      <td>18754764</td>\n",
       "      <td>1</td>\n",
       "      <td>902766646</td>\n",
       "      <td>1561105801</td>\n",
       "      <td>Malcolmxl5</td>\n",
       "      <td>4076676.0</td>\n",
       "      <td>874884880</td>\n",
       "      <td>1545481829</td>\n",
       "      <td>Hmains</td>\n",
       "      <td>508734.0</td>\n",
       "      <td>[900328973]</td>\n",
       "      <td>[1559706521]</td>\n",
       "      <td>[2601:199:417F:8EED:A0B0:A6B5:3457:A9B4]</td>\n",
       "      <td>[None]</td>\n",
       "      <td>False</td>\n",
       "      <td>False</td>\n",
       "      <td>[True]</td>\n",
       "    </tr>\n",
       "    <tr>\n",
       "      <th>1</th>\n",
       "      <td>18754831</td>\n",
       "      <td>2</td>\n",
       "      <td>818980415</td>\n",
       "      <td>1515284429</td>\n",
       "      <td>BrownHairedGirl</td>\n",
       "      <td>754619.0</td>\n",
       "      <td>743241620</td>\n",
       "      <td>1475970276</td>\n",
       "      <td>Emir of Wikipedia</td>\n",
       "      <td>28856560.0</td>\n",
       "      <td>[757539852, 775847398]</td>\n",
       "      <td>[1483188655, 1492452285]</td>\n",
       "      <td>[Ser Amantio di Nicolao, Emir of Wikipedia]</td>\n",
       "      <td>[753665, 28856560]</td>\n",
       "      <td>False</td>\n",
       "      <td>False</td>\n",
       "      <td>[False, False]</td>\n",
       "    </tr>\n",
       "    <tr>\n",
       "      <th>2</th>\n",
       "      <td>18754831</td>\n",
       "      <td>1</td>\n",
       "      <td>932235094</td>\n",
       "      <td>1577204938</td>\n",
       "      <td>UA3</td>\n",
       "      <td>25923702.0</td>\n",
       "      <td>918313790</td>\n",
       "      <td>1569654385</td>\n",
       "      <td>Monkbot</td>\n",
       "      <td>20483999.0</td>\n",
       "      <td>[932233860]</td>\n",
       "      <td>[1577204033]</td>\n",
       "      <td>[Qowa]</td>\n",
       "      <td>[37692801]</td>\n",
       "      <td>False</td>\n",
       "      <td>False</td>\n",
       "      <td>[False]</td>\n",
       "    </tr>\n",
       "  </tbody>\n",
       "</table>\n",
       "</div>"
      ],
      "text/plain": [
       "    page_id  reverted_count  reverting_rev_id  reverting_timestamp  \\\n",
       "0  18754764               1         902766646           1561105801   \n",
       "1  18754831               2         818980415           1515284429   \n",
       "2  18754831               1         932235094           1577204938   \n",
       "\n",
       "  reverting_user_text  reverting_user_id  reverted_to_rev_id  \\\n",
       "0          Malcolmxl5          4076676.0           874884880   \n",
       "1     BrownHairedGirl           754619.0           743241620   \n",
       "2                 UA3         25923702.0           918313790   \n",
       "\n",
       "   reverted_to_timestamp reverted_to_user_text  reverted_to_user_id  \\\n",
       "0             1545481829                Hmains             508734.0   \n",
       "1             1475970276     Emir of Wikipedia           28856560.0   \n",
       "2             1569654385               Monkbot           20483999.0   \n",
       "\n",
       "         reverted_rev_ids       reverted_timestamps  \\\n",
       "0             [900328973]              [1559706521]   \n",
       "1  [757539852, 775847398]  [1483188655, 1492452285]   \n",
       "2             [932233860]              [1577204033]   \n",
       "\n",
       "                           reverted_user_texts   reverted_user_ids  \\\n",
       "0     [2601:199:417F:8EED:A0B0:A6B5:3457:A9B4]              [None]   \n",
       "1  [Ser Amantio di Nicolao, Emir of Wikipedia]  [753665, 28856560]   \n",
       "2                                       [Qowa]          [37692801]   \n",
       "\n",
       "   reverting_user_is_anonymous  reverted_to_user_is_anonymous  \\\n",
       "0                        False                          False   \n",
       "1                        False                          False   \n",
       "2                        False                          False   \n",
       "\n",
       "  reverted_users_is_anonymous  \n",
       "0                      [True]  \n",
       "1              [False, False]  \n",
       "2                     [False]  "
      ]
     },
     "execution_count": 109,
     "metadata": {},
     "output_type": "execute_result"
    }
   ],
   "source": [
    "revert_df.head(3)"
   ]
  },
  {
   "cell_type": "code",
   "execution_count": 78,
   "metadata": {},
   "outputs": [
    {
     "data": {
      "text/plain": [
       "5338582"
      ]
     },
     "execution_count": 78,
     "metadata": {},
     "output_type": "execute_result"
    }
   ],
   "source": [
    "page_df = df.groupby('page_id').agg({\n",
    "    'rev_id': len,\n",
    "    'is_reverted': np.sum,\n",
    "    'is_reverting': np.sum\n",
    "}).rename(columns={\n",
    "    'rev_id': 'revision_count',\n",
    "    'is_reverted': 'reverted_count',\n",
    "    'is_reverting': 'revert_count'\n",
    "})\n",
    "len(page_df)"
   ]
  },
  {
   "cell_type": "code",
   "execution_count": 79,
   "metadata": {},
   "outputs": [
    {
     "data": {
      "text/html": [
       "<div>\n",
       "<style scoped>\n",
       "    .dataframe tbody tr th:only-of-type {\n",
       "        vertical-align: middle;\n",
       "    }\n",
       "\n",
       "    .dataframe tbody tr th {\n",
       "        vertical-align: top;\n",
       "    }\n",
       "\n",
       "    .dataframe thead th {\n",
       "        text-align: right;\n",
       "    }\n",
       "</style>\n",
       "<table border=\"1\" class=\"dataframe\">\n",
       "  <thead>\n",
       "    <tr style=\"text-align: right;\">\n",
       "      <th></th>\n",
       "      <th>revision_count</th>\n",
       "      <th>reverted_count</th>\n",
       "      <th>revert_count</th>\n",
       "    </tr>\n",
       "    <tr>\n",
       "      <th>page_id</th>\n",
       "      <th></th>\n",
       "      <th></th>\n",
       "      <th></th>\n",
       "    </tr>\n",
       "  </thead>\n",
       "  <tbody>\n",
       "    <tr>\n",
       "      <th>12074593</th>\n",
       "      <td>12</td>\n",
       "      <td>2</td>\n",
       "      <td>2</td>\n",
       "    </tr>\n",
       "    <tr>\n",
       "      <th>13261080</th>\n",
       "      <td>70</td>\n",
       "      <td>5</td>\n",
       "      <td>3</td>\n",
       "    </tr>\n",
       "    <tr>\n",
       "      <th>25008724</th>\n",
       "      <td>39</td>\n",
       "      <td>8</td>\n",
       "      <td>6</td>\n",
       "    </tr>\n",
       "  </tbody>\n",
       "</table>\n",
       "</div>"
      ],
      "text/plain": [
       "          revision_count  reverted_count  revert_count\n",
       "page_id                                               \n",
       "12074593              12               2             2\n",
       "13261080              70               5             3\n",
       "25008724              39               8             6"
      ]
     },
     "execution_count": 79,
     "metadata": {},
     "output_type": "execute_result"
    }
   ],
   "source": [
    "page_df.sample(3)"
   ]
  },
  {
   "cell_type": "code",
   "execution_count": 93,
   "metadata": {},
   "outputs": [
    {
     "data": {
      "text/plain": [
       "(28.0, 0.10042273397692496)"
      ]
     },
     "execution_count": 93,
     "metadata": {},
     "output_type": "execute_result"
    }
   ],
   "source": [
    "np.quantile(page_df.revision_count, 0.9), \\\n",
    "np.sum(page_df.revision_count>=28) / len(page_df)"
   ]
  },
  {
   "cell_type": "code",
   "execution_count": 95,
   "metadata": {},
   "outputs": [
    {
     "data": {
      "text/plain": [
       "536115"
      ]
     },
     "execution_count": 95,
     "metadata": {},
     "output_type": "execute_result"
    }
   ],
   "source": [
    "eligible_page_ids = set(page_df[page_df.revision_count>=28].index)\n",
    "len(eligible_page_ids)"
   ]
  },
  {
   "cell_type": "code",
   "execution_count": 96,
   "metadata": {},
   "outputs": [
    {
     "name": "stderr",
     "output_type": "stream",
     "text": [
      "100%|██████████| 77287697/77287697 [02:31<00:00, 508588.80it/s]\n"
     ]
    }
   ],
   "source": [
    "eligible_for_sampling = []\n",
    "curr_page_id = -1\n",
    "for tup in tqdm(df.itertuples(), total=len(df)):\n",
    "    if tup.page_id != curr_page_id:\n",
    "        curr_page_id = tup.page_id\n",
    "        # can never sample the FIRST post-2018 revision\n",
    "        eligible_for_sampling.append(False)\n",
    "    else:\n",
    "        is_eligible = tup.rev_timestamp <= sample_end_timestamp and tup.page_id in eligible_page_ids\n",
    "        eligible_for_sampling.append(is_eligible)"
   ]
  },
  {
   "cell_type": "code",
   "execution_count": 97,
   "metadata": {},
   "outputs": [
    {
     "data": {
      "text/plain": [
       "0.6044495801188124"
      ]
     },
     "execution_count": 97,
     "metadata": {},
     "output_type": "execute_result"
    }
   ],
   "source": [
    "df['is_sample_eligible'] = eligible_for_sampling\n",
    "# after filtering, only 60.4% are actually eligible...\n",
    "np.sum(df.is_sample_eligible) / len(df)"
   ]
  },
  {
   "cell_type": "code",
   "execution_count": 108,
   "metadata": {},
   "outputs": [
    {
     "data": {
      "text/plain": [
       "46716516"
      ]
     },
     "execution_count": 108,
     "metadata": {},
     "output_type": "execute_result"
    }
   ],
   "source": [
    "np.sum(df.is_sample_eligible)"
   ]
  },
  {
   "cell_type": "code",
   "execution_count": 163,
   "metadata": {},
   "outputs": [],
   "source": [
    "df = df.reset_index().rename(columns={'index': 'full_index'})"
   ]
  },
  {
   "cell_type": "markdown",
   "metadata": {},
   "source": [
    "## Sample version 1"
   ]
  },
  {
   "cell_type": "code",
   "execution_count": 164,
   "metadata": {},
   "outputs": [
    {
     "data": {
      "text/plain": [
       "1000000"
      ]
     },
     "execution_count": 164,
     "metadata": {},
     "output_type": "execute_result"
    }
   ],
   "source": [
    "sample = df[df.is_sample_eligible].sample(n=1000000, random_state=45).copy(deep=True)\n",
    "len(sample)"
   ]
  },
  {
   "cell_type": "code",
   "execution_count": 165,
   "metadata": {},
   "outputs": [
    {
     "data": {
      "text/plain": [
       "0.144318"
      ]
     },
     "execution_count": 165,
     "metadata": {},
     "output_type": "execute_result"
    }
   ],
   "source": [
    "# 14.4% of the sample are reverted\n",
    "np.sum(sample.is_reverted) / len(sample)"
   ]
  },
  {
   "cell_type": "code",
   "execution_count": 166,
   "metadata": {},
   "outputs": [
    {
     "data": {
      "text/plain": [
       "0.101835"
      ]
     },
     "execution_count": 166,
     "metadata": {},
     "output_type": "execute_result"
    }
   ],
   "source": [
    "# 10.2% of the sample are reverts\n",
    "np.sum(sample.is_reverting) / len(sample)"
   ]
  },
  {
   "cell_type": "code",
   "execution_count": 167,
   "metadata": {},
   "outputs": [
    {
     "data": {
      "text/plain": [
       "(369906, 0.06928918578004421)"
      ]
     },
     "execution_count": 167,
     "metadata": {},
     "output_type": "execute_result"
    }
   ],
   "source": [
    "# 6.9% of pages with 1+ revision are included in the sample\n",
    "len(set(sample.page_id)), len(set(sample.page_id)) / len(page_ids_set)"
   ]
  },
  {
   "cell_type": "code",
   "execution_count": 185,
   "metadata": {},
   "outputs": [],
   "source": [
    "matched_sample = df.loc[sample.index - 1] #df[df.full_index.isin(sample.full_index.to_numpy() - 1)]\n",
    "assert len(matched_sample) == len(sample)\n",
    "assert np.all(sample.page_id.reset_index(drop=True) == matched_sample.page_id.reset_index(drop=True))"
   ]
  },
  {
   "cell_type": "code",
   "execution_count": 186,
   "metadata": {},
   "outputs": [
    {
     "data": {
      "text/html": [
       "<div>\n",
       "<style scoped>\n",
       "    .dataframe tbody tr th:only-of-type {\n",
       "        vertical-align: middle;\n",
       "    }\n",
       "\n",
       "    .dataframe tbody tr th {\n",
       "        vertical-align: top;\n",
       "    }\n",
       "\n",
       "    .dataframe thead th {\n",
       "        text-align: right;\n",
       "    }\n",
       "</style>\n",
       "<table border=\"1\" class=\"dataframe\">\n",
       "  <thead>\n",
       "    <tr style=\"text-align: right;\">\n",
       "      <th></th>\n",
       "      <th>full_index</th>\n",
       "      <th>page_id</th>\n",
       "      <th>rev_id</th>\n",
       "      <th>rev_timestamp</th>\n",
       "      <th>is_revert_target</th>\n",
       "      <th>is_reverted</th>\n",
       "      <th>is_reverting</th>\n",
       "      <th>is_sample_eligible</th>\n",
       "      <th>prev_rev_id</th>\n",
       "    </tr>\n",
       "  </thead>\n",
       "  <tbody>\n",
       "    <tr>\n",
       "      <th>29999548</th>\n",
       "      <td>29999548</td>\n",
       "      <td>9516095</td>\n",
       "      <td>846835190</td>\n",
       "      <td>1529576038</td>\n",
       "      <td>0</td>\n",
       "      <td>0</td>\n",
       "      <td>0</td>\n",
       "      <td>True</td>\n",
       "      <td>846835009</td>\n",
       "    </tr>\n",
       "    <tr>\n",
       "      <th>12474631</th>\n",
       "      <td>12474631</td>\n",
       "      <td>876872</td>\n",
       "      <td>923997118</td>\n",
       "      <td>1572595746</td>\n",
       "      <td>0</td>\n",
       "      <td>0</td>\n",
       "      <td>0</td>\n",
       "      <td>True</td>\n",
       "      <td>923211396</td>\n",
       "    </tr>\n",
       "    <tr>\n",
       "      <th>62536703</th>\n",
       "      <td>62536703</td>\n",
       "      <td>53465104</td>\n",
       "      <td>867368228</td>\n",
       "      <td>1541425108</td>\n",
       "      <td>0</td>\n",
       "      <td>0</td>\n",
       "      <td>0</td>\n",
       "      <td>True</td>\n",
       "      <td>867366487</td>\n",
       "    </tr>\n",
       "  </tbody>\n",
       "</table>\n",
       "</div>"
      ],
      "text/plain": [
       "          full_index   page_id     rev_id  rev_timestamp  is_revert_target  \\\n",
       "29999548    29999548   9516095  846835190     1529576038                 0   \n",
       "12474631    12474631    876872  923997118     1572595746                 0   \n",
       "62536703    62536703  53465104  867368228     1541425108                 0   \n",
       "\n",
       "          is_reverted  is_reverting  is_sample_eligible  prev_rev_id  \n",
       "29999548            0             0                True    846835009  \n",
       "12474631            0             0                True    923211396  \n",
       "62536703            0             0                True    867366487  "
      ]
     },
     "execution_count": 186,
     "metadata": {},
     "output_type": "execute_result"
    }
   ],
   "source": [
    "sample = sample.assign(prev_rev_id=matched_sample.rev_id.tolist())\n",
    "sample.head(3)"
   ]
  },
  {
   "cell_type": "code",
   "execution_count": 192,
   "metadata": {},
   "outputs": [
    {
     "name": "stdout",
     "output_type": "stream",
     "text": [
      "988434 / 1000000 sampled revisions have no subsequent revision in 2018 or 2019.\n"
     ]
    }
   ],
   "source": [
    "matched_sample = df.loc[sample.index + 1]\n",
    "assert len(matched_sample) == len(sample)\n",
    "sample['next_rev_id'] = -1\n",
    "idx = np.array(sample.page_id.tolist()) == np.array(matched_sample.page_id.tolist())\n",
    "print(f\"{np.sum(idx)} / {len(sample)} sampled revisions have no subsequent revision in 2018 or 2019.\")\n",
    "sample.loc[idx, 'next_rev_id'] = matched_sample[idx].rev_id.tolist()"
   ]
  },
  {
   "cell_type": "code",
   "execution_count": 193,
   "metadata": {},
   "outputs": [
    {
     "name": "stderr",
     "output_type": "stream",
     "text": [
      "100%|██████████| 77287697/77287697 [02:43<00:00, 473425.10it/s]\n"
     ]
    }
   ],
   "source": [
    "# get the timestamp of the previous and next revisions\n",
    "rev_id_timestamp_dict = {tup.rev_id: tup.rev_timestamp for tup in tqdm(df.itertuples(), total=len(df))}\n",
    "sample['prev_rev_timestamp'] = sample.prev_rev_id.map(lambda prev_rev_id: rev_id_timestamp_dict[prev_rev_id])\n",
    "sample['next_rev_timestamp'] = sample.next_rev_id.map(lambda next_rev_id: rev_id_timestamp_dict[next_rev_id] if next_rev_id != -1 else -1)"
   ]
  },
  {
   "cell_type": "code",
   "execution_count": 194,
   "metadata": {},
   "outputs": [
    {
     "data": {
      "text/html": [
       "<div>\n",
       "<style scoped>\n",
       "    .dataframe tbody tr th:only-of-type {\n",
       "        vertical-align: middle;\n",
       "    }\n",
       "\n",
       "    .dataframe tbody tr th {\n",
       "        vertical-align: top;\n",
       "    }\n",
       "\n",
       "    .dataframe thead th {\n",
       "        text-align: right;\n",
       "    }\n",
       "</style>\n",
       "<table border=\"1\" class=\"dataframe\">\n",
       "  <thead>\n",
       "    <tr style=\"text-align: right;\">\n",
       "      <th></th>\n",
       "      <th>full_index</th>\n",
       "      <th>page_id</th>\n",
       "      <th>rev_id</th>\n",
       "      <th>rev_timestamp</th>\n",
       "      <th>is_revert_target</th>\n",
       "      <th>is_reverted</th>\n",
       "      <th>is_reverting</th>\n",
       "      <th>is_sample_eligible</th>\n",
       "      <th>prev_rev_id</th>\n",
       "      <th>next_rev_id</th>\n",
       "      <th>prev_rev_timestamp</th>\n",
       "      <th>next_rev_timestamp</th>\n",
       "    </tr>\n",
       "  </thead>\n",
       "  <tbody>\n",
       "    <tr>\n",
       "      <th>29999548</th>\n",
       "      <td>29999548</td>\n",
       "      <td>9516095</td>\n",
       "      <td>846835190</td>\n",
       "      <td>1529576038</td>\n",
       "      <td>0</td>\n",
       "      <td>0</td>\n",
       "      <td>0</td>\n",
       "      <td>True</td>\n",
       "      <td>846835009</td>\n",
       "      <td>850539656</td>\n",
       "      <td>1529575914</td>\n",
       "      <td>1531769146</td>\n",
       "    </tr>\n",
       "    <tr>\n",
       "      <th>12474631</th>\n",
       "      <td>12474631</td>\n",
       "      <td>876872</td>\n",
       "      <td>923997118</td>\n",
       "      <td>1572595746</td>\n",
       "      <td>0</td>\n",
       "      <td>0</td>\n",
       "      <td>0</td>\n",
       "      <td>True</td>\n",
       "      <td>923211396</td>\n",
       "      <td>924618182</td>\n",
       "      <td>1572162918</td>\n",
       "      <td>1572930319</td>\n",
       "    </tr>\n",
       "    <tr>\n",
       "      <th>62536703</th>\n",
       "      <td>62536703</td>\n",
       "      <td>53465104</td>\n",
       "      <td>867368228</td>\n",
       "      <td>1541425108</td>\n",
       "      <td>0</td>\n",
       "      <td>0</td>\n",
       "      <td>0</td>\n",
       "      <td>True</td>\n",
       "      <td>867366487</td>\n",
       "      <td>867663184</td>\n",
       "      <td>1541423455</td>\n",
       "      <td>1541590304</td>\n",
       "    </tr>\n",
       "    <tr>\n",
       "      <th>73902987</th>\n",
       "      <td>73902987</td>\n",
       "      <td>60096152</td>\n",
       "      <td>888337768</td>\n",
       "      <td>1552936050</td>\n",
       "      <td>0</td>\n",
       "      <td>0</td>\n",
       "      <td>0</td>\n",
       "      <td>True</td>\n",
       "      <td>888337457</td>\n",
       "      <td>888338754</td>\n",
       "      <td>1552935890</td>\n",
       "      <td>1552936561</td>\n",
       "    </tr>\n",
       "    <tr>\n",
       "      <th>43843955</th>\n",
       "      <td>43843955</td>\n",
       "      <td>28063274</td>\n",
       "      <td>917010365</td>\n",
       "      <td>1569117229</td>\n",
       "      <td>0</td>\n",
       "      <td>0</td>\n",
       "      <td>0</td>\n",
       "      <td>True</td>\n",
       "      <td>915190631</td>\n",
       "      <td>-1</td>\n",
       "      <td>1568247118</td>\n",
       "      <td>-1</td>\n",
       "    </tr>\n",
       "  </tbody>\n",
       "</table>\n",
       "</div>"
      ],
      "text/plain": [
       "          full_index   page_id     rev_id  rev_timestamp  is_revert_target  \\\n",
       "29999548    29999548   9516095  846835190     1529576038                 0   \n",
       "12474631    12474631    876872  923997118     1572595746                 0   \n",
       "62536703    62536703  53465104  867368228     1541425108                 0   \n",
       "73902987    73902987  60096152  888337768     1552936050                 0   \n",
       "43843955    43843955  28063274  917010365     1569117229                 0   \n",
       "\n",
       "          is_reverted  is_reverting  is_sample_eligible  prev_rev_id  \\\n",
       "29999548            0             0                True    846835009   \n",
       "12474631            0             0                True    923211396   \n",
       "62536703            0             0                True    867366487   \n",
       "73902987            0             0                True    888337457   \n",
       "43843955            0             0                True    915190631   \n",
       "\n",
       "          next_rev_id  prev_rev_timestamp  next_rev_timestamp  \n",
       "29999548    850539656          1529575914          1531769146  \n",
       "12474631    924618182          1572162918          1572930319  \n",
       "62536703    867663184          1541423455          1541590304  \n",
       "73902987    888338754          1552935890          1552936561  \n",
       "43843955           -1          1568247118                  -1  "
      ]
     },
     "execution_count": 194,
     "metadata": {},
     "output_type": "execute_result"
    }
   ],
   "source": [
    "sample.head()"
   ]
  },
  {
   "cell_type": "code",
   "execution_count": 195,
   "metadata": {},
   "outputs": [
    {
     "name": "stderr",
     "output_type": "stream",
     "text": [
      "100%|██████████| 5992682/5992682 [00:24<00:00, 245734.65it/s]\n"
     ]
    }
   ],
   "source": [
    "sample_reverting_rev_ids = set(sample[sample.is_reverting==1].rev_id)\n",
    "reverting_rev_id_to_reverted_ids_dict = {\n",
    "    row.reverting_rev_id: row.reverted_rev_ids\n",
    "    for row in tqdm(revert_df.itertuples(), total=len(revert_df))\n",
    "    if row.reverting_rev_id in sample_reverting_rev_ids\n",
    "}"
   ]
  },
  {
   "cell_type": "code",
   "execution_count": 196,
   "metadata": {},
   "outputs": [],
   "source": [
    "# for reverting revisions in the sample, merge in the list of reverted_rev_ids\n",
    "# using the dictionary computed in the cell above\n",
    "reverted_rev_ids_list = []\n",
    "for tup in sample.itertuples(): \n",
    "    if tup.is_reverting == 1:\n",
    "        reverted_rev_ids = reverting_rev_id_to_reverted_ids_dict[tup.rev_id]\n",
    "        reverted_rev_ids_list.append(reverted_rev_ids)\n",
    "    else:\n",
    "        reverted_rev_ids_list.append([])\n",
    "sample['reverted_rev_ids'] = reverted_rev_ids_list"
   ]
  },
  {
   "cell_type": "code",
   "execution_count": 197,
   "metadata": {},
   "outputs": [
    {
     "name": "stderr",
     "output_type": "stream",
     "text": [
      "100%|██████████| 5992682/5992682 [00:27<00:00, 214421.91it/s]\n"
     ]
    }
   ],
   "source": [
    "reverted_to_reverting_rev_id_dict = {}\n",
    "for tup in tqdm(revert_df.itertuples(), total=len(revert_df)):\n",
    "    for rev_id in tup.reverted_rev_ids:\n",
    "        reverted_to_reverting_rev_id_dict[rev_id] = tup.reverting_rev_id"
   ]
  },
  {
   "cell_type": "code",
   "execution_count": 198,
   "metadata": {},
   "outputs": [],
   "source": [
    "# grab the reverting id for reverted revisions\n",
    "sample['reverting_rev_id'] = -1\n",
    "sample.loc[sample.is_reverted==1,'reverting_rev_id'] = [\n",
    "    reverted_to_reverting_rev_id_dict[rev_id] for rev_id in sample.loc[sample.is_reverted==1].rev_id\n",
    "]"
   ]
  },
  {
   "cell_type": "code",
   "execution_count": 199,
   "metadata": {},
   "outputs": [],
   "source": [
    "# merge in the time of the reverting revision\n",
    "sample['reverting_rev_timestamp'] = -1\n",
    "reverting_rev_timestamp_dict = {tup.rev_id: tup.rev_timestamp for tup in df[df.is_reverting==1].itertuples()}\n",
    "sample.loc[sample.is_reverted==1,'reverting_rev_timestamp'] = [\n",
    "    reverting_rev_timestamp_dict[rev_id] for rev_id in sample.loc[sample.is_reverted==1].reverting_rev_id\n",
    "]"
   ]
  },
  {
   "cell_type": "code",
   "execution_count": 200,
   "metadata": {},
   "outputs": [
    {
     "data": {
      "text/html": [
       "<div>\n",
       "<style scoped>\n",
       "    .dataframe tbody tr th:only-of-type {\n",
       "        vertical-align: middle;\n",
       "    }\n",
       "\n",
       "    .dataframe tbody tr th {\n",
       "        vertical-align: top;\n",
       "    }\n",
       "\n",
       "    .dataframe thead th {\n",
       "        text-align: right;\n",
       "    }\n",
       "</style>\n",
       "<table border=\"1\" class=\"dataframe\">\n",
       "  <thead>\n",
       "    <tr style=\"text-align: right;\">\n",
       "      <th></th>\n",
       "      <th>full_index</th>\n",
       "      <th>page_id</th>\n",
       "      <th>rev_id</th>\n",
       "      <th>rev_timestamp</th>\n",
       "      <th>is_revert_target</th>\n",
       "      <th>is_reverted</th>\n",
       "      <th>is_reverting</th>\n",
       "      <th>is_sample_eligible</th>\n",
       "      <th>prev_rev_id</th>\n",
       "      <th>next_rev_id</th>\n",
       "      <th>prev_rev_timestamp</th>\n",
       "      <th>next_rev_timestamp</th>\n",
       "      <th>reverted_rev_ids</th>\n",
       "      <th>reverting_rev_id</th>\n",
       "      <th>reverting_rev_timestamp</th>\n",
       "    </tr>\n",
       "  </thead>\n",
       "  <tbody>\n",
       "    <tr>\n",
       "      <th>42666032</th>\n",
       "      <td>42666032</td>\n",
       "      <td>26317963</td>\n",
       "      <td>920647883</td>\n",
       "      <td>1570775915</td>\n",
       "      <td>0</td>\n",
       "      <td>1</td>\n",
       "      <td>0</td>\n",
       "      <td>True</td>\n",
       "      <td>917814987</td>\n",
       "      <td>920648257</td>\n",
       "      <td>1569447154</td>\n",
       "      <td>1570776068</td>\n",
       "      <td>[]</td>\n",
       "      <td>920648257</td>\n",
       "      <td>1570776068</td>\n",
       "    </tr>\n",
       "    <tr>\n",
       "      <th>55000305</th>\n",
       "      <td>55000305</td>\n",
       "      <td>43829579</td>\n",
       "      <td>862458099</td>\n",
       "      <td>1538680042</td>\n",
       "      <td>1</td>\n",
       "      <td>1</td>\n",
       "      <td>1</td>\n",
       "      <td>True</td>\n",
       "      <td>862423229</td>\n",
       "      <td>862463700</td>\n",
       "      <td>1538659358</td>\n",
       "      <td>1538682835</td>\n",
       "      <td>[862396649, 862396884, 862397156, 862405790, 8...</td>\n",
       "      <td>862463700</td>\n",
       "      <td>1538682835</td>\n",
       "    </tr>\n",
       "    <tr>\n",
       "      <th>65485187</th>\n",
       "      <td>65485187</td>\n",
       "      <td>55897429</td>\n",
       "      <td>866634222</td>\n",
       "      <td>1541017336</td>\n",
       "      <td>1</td>\n",
       "      <td>1</td>\n",
       "      <td>0</td>\n",
       "      <td>True</td>\n",
       "      <td>866633465</td>\n",
       "      <td>866634565</td>\n",
       "      <td>1541016993</td>\n",
       "      <td>1541017499</td>\n",
       "      <td>[]</td>\n",
       "      <td>866634605</td>\n",
       "      <td>1541017520</td>\n",
       "    </tr>\n",
       "    <tr>\n",
       "      <th>10627255</th>\n",
       "      <td>10627255</td>\n",
       "      <td>594582</td>\n",
       "      <td>862308858</td>\n",
       "      <td>1538596392</td>\n",
       "      <td>0</td>\n",
       "      <td>1</td>\n",
       "      <td>0</td>\n",
       "      <td>True</td>\n",
       "      <td>859059391</td>\n",
       "      <td>862314073</td>\n",
       "      <td>1536688570</td>\n",
       "      <td>1538599081</td>\n",
       "      <td>[]</td>\n",
       "      <td>862314712</td>\n",
       "      <td>1538599407</td>\n",
       "    </tr>\n",
       "    <tr>\n",
       "      <th>2427556</th>\n",
       "      <td>2427556</td>\n",
       "      <td>45400</td>\n",
       "      <td>932799798</td>\n",
       "      <td>1577541584</td>\n",
       "      <td>0</td>\n",
       "      <td>1</td>\n",
       "      <td>0</td>\n",
       "      <td>True</td>\n",
       "      <td>932756057</td>\n",
       "      <td>932799909</td>\n",
       "      <td>1577517415</td>\n",
       "      <td>1577541639</td>\n",
       "      <td>[]</td>\n",
       "      <td>932803739</td>\n",
       "      <td>1577544188</td>\n",
       "    </tr>\n",
       "  </tbody>\n",
       "</table>\n",
       "</div>"
      ],
      "text/plain": [
       "          full_index   page_id     rev_id  rev_timestamp  is_revert_target  \\\n",
       "42666032    42666032  26317963  920647883     1570775915                 0   \n",
       "55000305    55000305  43829579  862458099     1538680042                 1   \n",
       "65485187    65485187  55897429  866634222     1541017336                 1   \n",
       "10627255    10627255    594582  862308858     1538596392                 0   \n",
       "2427556      2427556     45400  932799798     1577541584                 0   \n",
       "\n",
       "          is_reverted  is_reverting  is_sample_eligible  prev_rev_id  \\\n",
       "42666032            1             0                True    917814987   \n",
       "55000305            1             1                True    862423229   \n",
       "65485187            1             0                True    866633465   \n",
       "10627255            1             0                True    859059391   \n",
       "2427556             1             0                True    932756057   \n",
       "\n",
       "          next_rev_id  prev_rev_timestamp  next_rev_timestamp  \\\n",
       "42666032    920648257          1569447154          1570776068   \n",
       "55000305    862463700          1538659358          1538682835   \n",
       "65485187    866634565          1541016993          1541017499   \n",
       "10627255    862314073          1536688570          1538599081   \n",
       "2427556     932799909          1577517415          1577541639   \n",
       "\n",
       "                                           reverted_rev_ids  reverting_rev_id  \\\n",
       "42666032                                                 []         920648257   \n",
       "55000305  [862396649, 862396884, 862397156, 862405790, 8...         862463700   \n",
       "65485187                                                 []         866634605   \n",
       "10627255                                                 []         862314712   \n",
       "2427556                                                  []         932803739   \n",
       "\n",
       "          reverting_rev_timestamp  \n",
       "42666032               1570776068  \n",
       "55000305               1538682835  \n",
       "65485187               1541017520  \n",
       "10627255               1538599407  \n",
       "2427556                1577544188  "
      ]
     },
     "execution_count": 200,
     "metadata": {},
     "output_type": "execute_result"
    }
   ],
   "source": [
    "sample[sample.is_reverted==1].head()"
   ]
  },
  {
   "cell_type": "code",
   "execution_count": 201,
   "metadata": {},
   "outputs": [
    {
     "data": {
      "text/html": [
       "<div>\n",
       "<style scoped>\n",
       "    .dataframe tbody tr th:only-of-type {\n",
       "        vertical-align: middle;\n",
       "    }\n",
       "\n",
       "    .dataframe tbody tr th {\n",
       "        vertical-align: top;\n",
       "    }\n",
       "\n",
       "    .dataframe thead th {\n",
       "        text-align: right;\n",
       "    }\n",
       "</style>\n",
       "<table border=\"1\" class=\"dataframe\">\n",
       "  <thead>\n",
       "    <tr style=\"text-align: right;\">\n",
       "      <th></th>\n",
       "      <th>page_id</th>\n",
       "      <th>rev_id</th>\n",
       "      <th>rev_timestamp</th>\n",
       "      <th>is_revert_target</th>\n",
       "      <th>is_reverted</th>\n",
       "      <th>is_reverting</th>\n",
       "      <th>is_sample_eligible</th>\n",
       "      <th>prev_rev_id</th>\n",
       "      <th>next_rev_id</th>\n",
       "      <th>prev_rev_timestamp</th>\n",
       "      <th>next_rev_timestamp</th>\n",
       "      <th>reverted_rev_ids</th>\n",
       "      <th>reverting_rev_id</th>\n",
       "      <th>reverting_rev_timestamp</th>\n",
       "    </tr>\n",
       "  </thead>\n",
       "  <tbody>\n",
       "    <tr>\n",
       "      <th>29999548</th>\n",
       "      <td>9516095</td>\n",
       "      <td>846835190</td>\n",
       "      <td>1529576038</td>\n",
       "      <td>0</td>\n",
       "      <td>0</td>\n",
       "      <td>0</td>\n",
       "      <td>True</td>\n",
       "      <td>846835009</td>\n",
       "      <td>850539656</td>\n",
       "      <td>1529575914</td>\n",
       "      <td>1531769146</td>\n",
       "      <td>[]</td>\n",
       "      <td>-1</td>\n",
       "      <td>-1</td>\n",
       "    </tr>\n",
       "  </tbody>\n",
       "</table>\n",
       "</div>"
      ],
      "text/plain": [
       "          page_id     rev_id  rev_timestamp  is_revert_target  is_reverted  \\\n",
       "29999548  9516095  846835190     1529576038                 0            0   \n",
       "\n",
       "          is_reverting  is_sample_eligible  prev_rev_id  next_rev_id  \\\n",
       "29999548             0                True    846835009    850539656   \n",
       "\n",
       "          prev_rev_timestamp  next_rev_timestamp reverted_rev_ids  \\\n",
       "29999548          1529575914          1531769146               []   \n",
       "\n",
       "          reverting_rev_id  reverting_rev_timestamp  \n",
       "29999548                -1                       -1  "
      ]
     },
     "execution_count": 201,
     "metadata": {},
     "output_type": "execute_result"
    }
   ],
   "source": [
    "sample = sample.drop(columns='full_index')\n",
    "sample.head(1)"
   ]
  },
  {
   "cell_type": "code",
   "execution_count": 202,
   "metadata": {},
   "outputs": [
    {
     "name": "stdout",
     "output_type": "stream",
     "text": [
      "Finished.\n"
     ]
    }
   ],
   "source": [
    "# save the sample\n",
    "sample1_filepath = os.path.join(working_dir, 'sample1_1M.pkl')\n",
    "sample.to_pickle(sample1_filepath)\n",
    "print(\"Finished.\")"
   ]
  },
  {
   "cell_type": "code",
   "execution_count": 203,
   "metadata": {},
   "outputs": [
    {
     "data": {
      "text/plain": [
       "1000000"
      ]
     },
     "execution_count": 203,
     "metadata": {},
     "output_type": "execute_result"
    }
   ],
   "source": [
    "# read in the sample dataframe\n",
    "revision_sample_dir = os.path.join(derived_data_dir, 'revision_sample')\n",
    "sample1_filepath = os.path.join(revision_sample_dir, 'sample1_1M.pkl')\n",
    "rev_df = pd.read_pickle(sample1_filepath)\n",
    "len(rev_df)"
   ]
  },
  {
   "cell_type": "code",
   "execution_count": 204,
   "metadata": {},
   "outputs": [
    {
     "data": {
      "text/html": [
       "<div>\n",
       "<style scoped>\n",
       "    .dataframe tbody tr th:only-of-type {\n",
       "        vertical-align: middle;\n",
       "    }\n",
       "\n",
       "    .dataframe tbody tr th {\n",
       "        vertical-align: top;\n",
       "    }\n",
       "\n",
       "    .dataframe thead th {\n",
       "        text-align: right;\n",
       "    }\n",
       "</style>\n",
       "<table border=\"1\" class=\"dataframe\">\n",
       "  <thead>\n",
       "    <tr style=\"text-align: right;\">\n",
       "      <th></th>\n",
       "      <th>page_id</th>\n",
       "      <th>rev_id</th>\n",
       "      <th>rev_timestamp</th>\n",
       "      <th>is_revert_target</th>\n",
       "      <th>is_reverted</th>\n",
       "      <th>is_reverting</th>\n",
       "      <th>is_sample_eligible</th>\n",
       "      <th>prev_rev_id</th>\n",
       "      <th>next_rev_id</th>\n",
       "      <th>prev_rev_timestamp</th>\n",
       "      <th>next_rev_timestamp</th>\n",
       "      <th>reverted_rev_ids</th>\n",
       "      <th>reverting_rev_id</th>\n",
       "      <th>reverting_rev_timestamp</th>\n",
       "    </tr>\n",
       "  </thead>\n",
       "  <tbody>\n",
       "    <tr>\n",
       "      <th>29999548</th>\n",
       "      <td>9516095</td>\n",
       "      <td>846835190</td>\n",
       "      <td>1529576038</td>\n",
       "      <td>0</td>\n",
       "      <td>0</td>\n",
       "      <td>0</td>\n",
       "      <td>True</td>\n",
       "      <td>846835009</td>\n",
       "      <td>850539656</td>\n",
       "      <td>1529575914</td>\n",
       "      <td>1531769146</td>\n",
       "      <td>[]</td>\n",
       "      <td>-1</td>\n",
       "      <td>-1</td>\n",
       "    </tr>\n",
       "    <tr>\n",
       "      <th>12474631</th>\n",
       "      <td>876872</td>\n",
       "      <td>923997118</td>\n",
       "      <td>1572595746</td>\n",
       "      <td>0</td>\n",
       "      <td>0</td>\n",
       "      <td>0</td>\n",
       "      <td>True</td>\n",
       "      <td>923211396</td>\n",
       "      <td>924618182</td>\n",
       "      <td>1572162918</td>\n",
       "      <td>1572930319</td>\n",
       "      <td>[]</td>\n",
       "      <td>-1</td>\n",
       "      <td>-1</td>\n",
       "    </tr>\n",
       "    <tr>\n",
       "      <th>62536703</th>\n",
       "      <td>53465104</td>\n",
       "      <td>867368228</td>\n",
       "      <td>1541425108</td>\n",
       "      <td>0</td>\n",
       "      <td>0</td>\n",
       "      <td>0</td>\n",
       "      <td>True</td>\n",
       "      <td>867366487</td>\n",
       "      <td>867663184</td>\n",
       "      <td>1541423455</td>\n",
       "      <td>1541590304</td>\n",
       "      <td>[]</td>\n",
       "      <td>-1</td>\n",
       "      <td>-1</td>\n",
       "    </tr>\n",
       "    <tr>\n",
       "      <th>73902987</th>\n",
       "      <td>60096152</td>\n",
       "      <td>888337768</td>\n",
       "      <td>1552936050</td>\n",
       "      <td>0</td>\n",
       "      <td>0</td>\n",
       "      <td>0</td>\n",
       "      <td>True</td>\n",
       "      <td>888337457</td>\n",
       "      <td>888338754</td>\n",
       "      <td>1552935890</td>\n",
       "      <td>1552936561</td>\n",
       "      <td>[]</td>\n",
       "      <td>-1</td>\n",
       "      <td>-1</td>\n",
       "    </tr>\n",
       "    <tr>\n",
       "      <th>43843955</th>\n",
       "      <td>28063274</td>\n",
       "      <td>917010365</td>\n",
       "      <td>1569117229</td>\n",
       "      <td>0</td>\n",
       "      <td>0</td>\n",
       "      <td>0</td>\n",
       "      <td>True</td>\n",
       "      <td>915190631</td>\n",
       "      <td>-1</td>\n",
       "      <td>1568247118</td>\n",
       "      <td>-1</td>\n",
       "      <td>[]</td>\n",
       "      <td>-1</td>\n",
       "      <td>-1</td>\n",
       "    </tr>\n",
       "  </tbody>\n",
       "</table>\n",
       "</div>"
      ],
      "text/plain": [
       "           page_id     rev_id  rev_timestamp  is_revert_target  is_reverted  \\\n",
       "29999548   9516095  846835190     1529576038                 0            0   \n",
       "12474631    876872  923997118     1572595746                 0            0   \n",
       "62536703  53465104  867368228     1541425108                 0            0   \n",
       "73902987  60096152  888337768     1552936050                 0            0   \n",
       "43843955  28063274  917010365     1569117229                 0            0   \n",
       "\n",
       "          is_reverting  is_sample_eligible  prev_rev_id  next_rev_id  \\\n",
       "29999548             0                True    846835009    850539656   \n",
       "12474631             0                True    923211396    924618182   \n",
       "62536703             0                True    867366487    867663184   \n",
       "73902987             0                True    888337457    888338754   \n",
       "43843955             0                True    915190631           -1   \n",
       "\n",
       "          prev_rev_timestamp  next_rev_timestamp reverted_rev_ids  \\\n",
       "29999548          1529575914          1531769146               []   \n",
       "12474631          1572162918          1572930319               []   \n",
       "62536703          1541423455          1541590304               []   \n",
       "73902987          1552935890          1552936561               []   \n",
       "43843955          1568247118                  -1               []   \n",
       "\n",
       "          reverting_rev_id  reverting_rev_timestamp  \n",
       "29999548                -1                       -1  \n",
       "12474631                -1                       -1  \n",
       "62536703                -1                       -1  \n",
       "73902987                -1                       -1  \n",
       "43843955                -1                       -1  "
      ]
     },
     "execution_count": 204,
     "metadata": {},
     "output_type": "execute_result"
    }
   ],
   "source": [
    "rev_df.head()"
   ]
  },
  {
   "cell_type": "code",
   "execution_count": null,
   "metadata": {},
   "outputs": [],
   "source": []
  }
 ],
 "metadata": {
  "kernelspec": {
   "display_name": "Flagon Python3",
   "language": "python",
   "name": "flagon-conda-env"
  },
  "language_info": {
   "codemirror_mode": {
    "name": "ipython",
    "version": 3
   },
   "file_extension": ".py",
   "mimetype": "text/x-python",
   "name": "python",
   "nbconvert_exporter": "python",
   "pygments_lexer": "ipython3",
   "version": "3.7.6"
  }
 },
 "nbformat": 4,
 "nbformat_minor": 4
}
