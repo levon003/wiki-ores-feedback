{
 "cells": [
  {
   "cell_type": "markdown",
   "metadata": {},
   "source": [
    "Data Shift Exploration - R\n",
    "===\n",
    "\n",
    "R-lang analysis of data shift."
   ]
  },
  {
   "cell_type": "code",
   "execution_count": 28,
   "metadata": {},
   "outputs": [
    {
     "name": "stderr",
     "output_type": "stream",
     "text": [
      "Loading required package: corpcor\n"
     ]
    }
   ],
   "source": [
    "library(kernlab)\n",
    "library(Hotelling)"
   ]
  },
  {
   "cell_type": "code",
   "execution_count": 20,
   "metadata": {},
   "outputs": [
    {
     "ename": "ERROR",
     "evalue": "Error in read.table(file = file, header = header, sep = sep, quote = quote, : duplicate 'row.names' are not allowed\n",
     "output_type": "error",
     "traceback": [
      "Error in read.table(file = file, header = header, sep = sep, quote = quote, : duplicate 'row.names' are not allowed\nTraceback:\n",
      "1. read.csv(\"/export/scratch2/levon003/repos/wiki-ores-feedback/data/derived/data-shifts/sdf.csv\", \n .     sep = \",\", row.names = 1)",
      "2. read.table(file = file, header = header, sep = sep, quote = quote, \n .     dec = dec, fill = fill, comment.char = comment.char, ...)",
      "3. stop(\"duplicate 'row.names' are not allowed\")"
     ]
    }
   ],
   "source": [
    "sdf = read.csv(\"/export/scratch2/levon003/repos/wiki-ores-feedback/data/derived/data-shifts/sdf.csv\", sep=\",\", row.names=1)\n",
    "sdf_mat <- as.matrix(sdf)\n",
    "dim(sdf_mat)"
   ]
  },
  {
   "cell_type": "code",
   "execution_count": 21,
   "metadata": {},
   "outputs": [
    {
     "data": {
      "text/html": [
       "<ol class=list-inline>\n",
       "\t<li>10000</li>\n",
       "\t<li>80</li>\n",
       "</ol>\n"
      ],
      "text/latex": [
       "\\begin{enumerate*}\n",
       "\\item 10000\n",
       "\\item 80\n",
       "\\end{enumerate*}\n"
      ],
      "text/markdown": [
       "1. 10000\n",
       "2. 80\n",
       "\n",
       "\n"
      ],
      "text/plain": [
       "[1] 10000    80"
      ]
     },
     "metadata": {},
     "output_type": "display_data"
    }
   ],
   "source": [
    "sdf = read.table(\"/export/scratch2/levon003/repos/wiki-ores-feedback/data/derived/data-shifts/sdf.csv\", \n",
    "                 header=TRUE, sep=\",\")\n",
    "sdf_mat <- as.matrix(sdf)\n",
    "dim(sdf_mat)"
   ]
  },
  {
   "cell_type": "code",
   "execution_count": 22,
   "metadata": {},
   "outputs": [
    {
     "data": {
      "text/html": [
       "<table>\n",
       "<thead><tr><th scope=col>feature.revision.page.is_articleish</th><th scope=col>feature.revision.page.is_mainspace</th><th scope=col>feature.revision.page.is_draftspace</th><th scope=col>feature.log..wikitext.revision.parent.chars...1..</th><th scope=col>feature.log..len..datasource.tokenized.datasource.revision.parent.text......1..</th><th scope=col>feature.log..len..datasource.wikitext.revision.parent.words.....1..</th><th scope=col>feature.log..len..datasource.wikitext.revision.parent.uppercase_words.....1..</th><th scope=col>feature.log..wikitext.revision.parent.headings...1..</th><th scope=col>feature.log..wikitext.revision.parent.wikilinks...1..</th><th scope=col>feature.log..wikitext.revision.parent.external_links...1..</th><th scope=col>...</th><th scope=col>feature.english.dictionary.revision.diff.dict_word_delta_decrease</th><th scope=col>feature.english.dictionary.revision.diff.dict_word_prop_delta_sum</th><th scope=col>feature.english.dictionary.revision.diff.dict_word_prop_delta_increase</th><th scope=col>feature.english.dictionary.revision.diff.dict_word_prop_delta_decrease</th><th scope=col>feature.english.dictionary.revision.diff.non_dict_word_delta_sum</th><th scope=col>feature.english.dictionary.revision.diff.non_dict_word_delta_increase</th><th scope=col>feature.english.dictionary.revision.diff.non_dict_word_delta_decrease</th><th scope=col>feature.english.dictionary.revision.diff.non_dict_word_prop_delta_sum</th><th scope=col>feature.english.dictionary.revision.diff.non_dict_word_prop_delta_increase</th><th scope=col>feature.english.dictionary.revision.diff.non_dict_word_prop_delta_decrease</th></tr></thead>\n",
       "<tbody>\n",
       "\t<tr><td>1          </td><td>1          </td><td>0          </td><td> 8.655040  </td><td> 7.629976  </td><td>6.617403   </td><td>2.197225   </td><td>1.609438   </td><td>3.951244   </td><td>1.0986123  </td><td>...        </td><td>-5         </td><td>-0.18109668</td><td> 1.24112554</td><td>-1.42222222</td><td> 0         </td><td>0          </td><td> 0         </td><td> 0.0000000 </td><td>0.000000   </td><td> 0.0000000 </td></tr>\n",
       "\t<tr><td>1          </td><td>1          </td><td>0          </td><td>10.002473  </td><td> 9.012133  </td><td>7.916443   </td><td>4.369448   </td><td>3.218876   </td><td>4.948760   </td><td>3.0445224  </td><td>...        </td><td>-2         </td><td>-0.10644258</td><td> 0.00000000</td><td>-0.10644258</td><td>-5         </td><td>0          </td><td>-5         </td><td>-0.7041667 </td><td>0.000000   </td><td>-0.7041667 </td></tr>\n",
       "\t<tr><td>1          </td><td>1          </td><td>0          </td><td>11.329255  </td><td>10.155646  </td><td>9.188401   </td><td>6.184149   </td><td>3.401197   </td><td>6.320768   </td><td>4.9416424  </td><td>...        </td><td>-1         </td><td> 0.01491841</td><td> 0.03030303</td><td>-0.01538462</td><td> 0         </td><td>0          </td><td> 0         </td><td> 0.0000000 </td><td>0.000000   </td><td> 0.0000000 </td></tr>\n",
       "\t<tr><td>1          </td><td>1          </td><td>0          </td><td> 8.611048  </td><td> 7.536364  </td><td>6.418365   </td><td>2.302585   </td><td>2.079442   </td><td>3.583519   </td><td>2.0794415  </td><td>...        </td><td> 0         </td><td> 0.00000000</td><td> 0.00000000</td><td> 0.00000000</td><td> 0         </td><td>0          </td><td> 0         </td><td> 0.0000000 </td><td>0.000000   </td><td> 0.0000000 </td></tr>\n",
       "\t<tr><td>1          </td><td>1          </td><td>0          </td><td> 7.636270  </td><td> 6.586172  </td><td>5.262690   </td><td>0.000000   </td><td>1.098612   </td><td>2.484907   </td><td>0.6931472  </td><td>...        </td><td> 0         </td><td>10.08333333</td><td>10.08333333</td><td> 0.00000000</td><td> 0         </td><td>0          </td><td> 0         </td><td> 0.0000000 </td><td>0.000000   </td><td> 0.0000000 </td></tr>\n",
       "\t<tr><td>1          </td><td>1          </td><td>0          </td><td>10.607402  </td><td> 9.663389  </td><td>8.611230   </td><td>5.602119   </td><td>2.484907   </td><td>5.147494   </td><td>2.5649494  </td><td>...        </td><td> 0         </td><td> 0.12153811</td><td> 0.12153811</td><td> 0.00000000</td><td> 3         </td><td>4          </td><td>-1         </td><td> 1.7222222 </td><td>1.833333   </td><td>-0.1111111 </td></tr>\n",
       "</tbody>\n",
       "</table>\n"
      ],
      "text/latex": [
       "\\begin{tabular}{llllllllllllllllllllllllllllllllllllllllllllllllllllllllllllllllllllllllllllllll}\n",
       " feature.revision.page.is\\_articleish & feature.revision.page.is\\_mainspace & feature.revision.page.is\\_draftspace & feature.log..wikitext.revision.parent.chars...1.. & feature.log..len..datasource.tokenized.datasource.revision.parent.text......1.. & feature.log..len..datasource.wikitext.revision.parent.words.....1.. & feature.log..len..datasource.wikitext.revision.parent.uppercase\\_words.....1.. & feature.log..wikitext.revision.parent.headings...1.. & feature.log..wikitext.revision.parent.wikilinks...1.. & feature.log..wikitext.revision.parent.external\\_links...1.. & ... & feature.english.dictionary.revision.diff.dict\\_word\\_delta\\_decrease & feature.english.dictionary.revision.diff.dict\\_word\\_prop\\_delta\\_sum & feature.english.dictionary.revision.diff.dict\\_word\\_prop\\_delta\\_increase & feature.english.dictionary.revision.diff.dict\\_word\\_prop\\_delta\\_decrease & feature.english.dictionary.revision.diff.non\\_dict\\_word\\_delta\\_sum & feature.english.dictionary.revision.diff.non\\_dict\\_word\\_delta\\_increase & feature.english.dictionary.revision.diff.non\\_dict\\_word\\_delta\\_decrease & feature.english.dictionary.revision.diff.non\\_dict\\_word\\_prop\\_delta\\_sum & feature.english.dictionary.revision.diff.non\\_dict\\_word\\_prop\\_delta\\_increase & feature.english.dictionary.revision.diff.non\\_dict\\_word\\_prop\\_delta\\_decrease\\\\\n",
       "\\hline\n",
       "\t 1           & 1           & 0           &  8.655040   &  7.629976   & 6.617403    & 2.197225    & 1.609438    & 3.951244    & 1.0986123   & ...         & -5          & -0.18109668 &  1.24112554 & -1.42222222 &  0          & 0           &  0          &  0.0000000  & 0.000000    &  0.0000000 \\\\\n",
       "\t 1           & 1           & 0           & 10.002473   &  9.012133   & 7.916443    & 4.369448    & 3.218876    & 4.948760    & 3.0445224   & ...         & -2          & -0.10644258 &  0.00000000 & -0.10644258 & -5          & 0           & -5          & -0.7041667  & 0.000000    & -0.7041667 \\\\\n",
       "\t 1           & 1           & 0           & 11.329255   & 10.155646   & 9.188401    & 6.184149    & 3.401197    & 6.320768    & 4.9416424   & ...         & -1          &  0.01491841 &  0.03030303 & -0.01538462 &  0          & 0           &  0          &  0.0000000  & 0.000000    &  0.0000000 \\\\\n",
       "\t 1           & 1           & 0           &  8.611048   &  7.536364   & 6.418365    & 2.302585    & 2.079442    & 3.583519    & 2.0794415   & ...         &  0          &  0.00000000 &  0.00000000 &  0.00000000 &  0          & 0           &  0          &  0.0000000  & 0.000000    &  0.0000000 \\\\\n",
       "\t 1           & 1           & 0           &  7.636270   &  6.586172   & 5.262690    & 0.000000    & 1.098612    & 2.484907    & 0.6931472   & ...         &  0          & 10.08333333 & 10.08333333 &  0.00000000 &  0          & 0           &  0          &  0.0000000  & 0.000000    &  0.0000000 \\\\\n",
       "\t 1           & 1           & 0           & 10.607402   &  9.663389   & 8.611230    & 5.602119    & 2.484907    & 5.147494    & 2.5649494   & ...         &  0          &  0.12153811 &  0.12153811 &  0.00000000 &  3          & 4           & -1          &  1.7222222  & 1.833333    & -0.1111111 \\\\\n",
       "\\end{tabular}\n"
      ],
      "text/markdown": [
       "\n",
       "| feature.revision.page.is_articleish | feature.revision.page.is_mainspace | feature.revision.page.is_draftspace | feature.log..wikitext.revision.parent.chars...1.. | feature.log..len..datasource.tokenized.datasource.revision.parent.text......1.. | feature.log..len..datasource.wikitext.revision.parent.words.....1.. | feature.log..len..datasource.wikitext.revision.parent.uppercase_words.....1.. | feature.log..wikitext.revision.parent.headings...1.. | feature.log..wikitext.revision.parent.wikilinks...1.. | feature.log..wikitext.revision.parent.external_links...1.. | ... | feature.english.dictionary.revision.diff.dict_word_delta_decrease | feature.english.dictionary.revision.diff.dict_word_prop_delta_sum | feature.english.dictionary.revision.diff.dict_word_prop_delta_increase | feature.english.dictionary.revision.diff.dict_word_prop_delta_decrease | feature.english.dictionary.revision.diff.non_dict_word_delta_sum | feature.english.dictionary.revision.diff.non_dict_word_delta_increase | feature.english.dictionary.revision.diff.non_dict_word_delta_decrease | feature.english.dictionary.revision.diff.non_dict_word_prop_delta_sum | feature.english.dictionary.revision.diff.non_dict_word_prop_delta_increase | feature.english.dictionary.revision.diff.non_dict_word_prop_delta_decrease |\n",
       "|---|---|---|---|---|---|---|---|---|---|---|---|---|---|---|---|---|---|---|---|---|\n",
       "| 1           | 1           | 0           |  8.655040   |  7.629976   | 6.617403    | 2.197225    | 1.609438    | 3.951244    | 1.0986123   | ...         | -5          | -0.18109668 |  1.24112554 | -1.42222222 |  0          | 0           |  0          |  0.0000000  | 0.000000    |  0.0000000  |\n",
       "| 1           | 1           | 0           | 10.002473   |  9.012133   | 7.916443    | 4.369448    | 3.218876    | 4.948760    | 3.0445224   | ...         | -2          | -0.10644258 |  0.00000000 | -0.10644258 | -5          | 0           | -5          | -0.7041667  | 0.000000    | -0.7041667  |\n",
       "| 1           | 1           | 0           | 11.329255   | 10.155646   | 9.188401    | 6.184149    | 3.401197    | 6.320768    | 4.9416424   | ...         | -1          |  0.01491841 |  0.03030303 | -0.01538462 |  0          | 0           |  0          |  0.0000000  | 0.000000    |  0.0000000  |\n",
       "| 1           | 1           | 0           |  8.611048   |  7.536364   | 6.418365    | 2.302585    | 2.079442    | 3.583519    | 2.0794415   | ...         |  0          |  0.00000000 |  0.00000000 |  0.00000000 |  0          | 0           |  0          |  0.0000000  | 0.000000    |  0.0000000  |\n",
       "| 1           | 1           | 0           |  7.636270   |  6.586172   | 5.262690    | 0.000000    | 1.098612    | 2.484907    | 0.6931472   | ...         |  0          | 10.08333333 | 10.08333333 |  0.00000000 |  0          | 0           |  0          |  0.0000000  | 0.000000    |  0.0000000  |\n",
       "| 1           | 1           | 0           | 10.607402   |  9.663389   | 8.611230    | 5.602119    | 2.484907    | 5.147494    | 2.5649494   | ...         |  0          |  0.12153811 |  0.12153811 |  0.00000000 |  3          | 4           | -1          |  1.7222222  | 1.833333    | -0.1111111  |\n",
       "\n"
      ],
      "text/plain": [
       "     feature.revision.page.is_articleish feature.revision.page.is_mainspace\n",
       "[1,] 1                                   1                                 \n",
       "[2,] 1                                   1                                 \n",
       "[3,] 1                                   1                                 \n",
       "[4,] 1                                   1                                 \n",
       "[5,] 1                                   1                                 \n",
       "[6,] 1                                   1                                 \n",
       "     feature.revision.page.is_draftspace\n",
       "[1,] 0                                  \n",
       "[2,] 0                                  \n",
       "[3,] 0                                  \n",
       "[4,] 0                                  \n",
       "[5,] 0                                  \n",
       "[6,] 0                                  \n",
       "     feature.log..wikitext.revision.parent.chars...1..\n",
       "[1,]  8.655040                                        \n",
       "[2,] 10.002473                                        \n",
       "[3,] 11.329255                                        \n",
       "[4,]  8.611048                                        \n",
       "[5,]  7.636270                                        \n",
       "[6,] 10.607402                                        \n",
       "     feature.log..len..datasource.tokenized.datasource.revision.parent.text......1..\n",
       "[1,]  7.629976                                                                      \n",
       "[2,]  9.012133                                                                      \n",
       "[3,] 10.155646                                                                      \n",
       "[4,]  7.536364                                                                      \n",
       "[5,]  6.586172                                                                      \n",
       "[6,]  9.663389                                                                      \n",
       "     feature.log..len..datasource.wikitext.revision.parent.words.....1..\n",
       "[1,] 6.617403                                                           \n",
       "[2,] 7.916443                                                           \n",
       "[3,] 9.188401                                                           \n",
       "[4,] 6.418365                                                           \n",
       "[5,] 5.262690                                                           \n",
       "[6,] 8.611230                                                           \n",
       "     feature.log..len..datasource.wikitext.revision.parent.uppercase_words.....1..\n",
       "[1,] 2.197225                                                                     \n",
       "[2,] 4.369448                                                                     \n",
       "[3,] 6.184149                                                                     \n",
       "[4,] 2.302585                                                                     \n",
       "[5,] 0.000000                                                                     \n",
       "[6,] 5.602119                                                                     \n",
       "     feature.log..wikitext.revision.parent.headings...1..\n",
       "[1,] 1.609438                                            \n",
       "[2,] 3.218876                                            \n",
       "[3,] 3.401197                                            \n",
       "[4,] 2.079442                                            \n",
       "[5,] 1.098612                                            \n",
       "[6,] 2.484907                                            \n",
       "     feature.log..wikitext.revision.parent.wikilinks...1..\n",
       "[1,] 3.951244                                             \n",
       "[2,] 4.948760                                             \n",
       "[3,] 6.320768                                             \n",
       "[4,] 3.583519                                             \n",
       "[5,] 2.484907                                             \n",
       "[6,] 5.147494                                             \n",
       "     feature.log..wikitext.revision.parent.external_links...1.. ...\n",
       "[1,] 1.0986123                                                  ...\n",
       "[2,] 3.0445224                                                  ...\n",
       "[3,] 4.9416424                                                  ...\n",
       "[4,] 2.0794415                                                  ...\n",
       "[5,] 0.6931472                                                  ...\n",
       "[6,] 2.5649494                                                  ...\n",
       "     feature.english.dictionary.revision.diff.dict_word_delta_decrease\n",
       "[1,] -5                                                               \n",
       "[2,] -2                                                               \n",
       "[3,] -1                                                               \n",
       "[4,]  0                                                               \n",
       "[5,]  0                                                               \n",
       "[6,]  0                                                               \n",
       "     feature.english.dictionary.revision.diff.dict_word_prop_delta_sum\n",
       "[1,] -0.18109668                                                      \n",
       "[2,] -0.10644258                                                      \n",
       "[3,]  0.01491841                                                      \n",
       "[4,]  0.00000000                                                      \n",
       "[5,] 10.08333333                                                      \n",
       "[6,]  0.12153811                                                      \n",
       "     feature.english.dictionary.revision.diff.dict_word_prop_delta_increase\n",
       "[1,]  1.24112554                                                           \n",
       "[2,]  0.00000000                                                           \n",
       "[3,]  0.03030303                                                           \n",
       "[4,]  0.00000000                                                           \n",
       "[5,] 10.08333333                                                           \n",
       "[6,]  0.12153811                                                           \n",
       "     feature.english.dictionary.revision.diff.dict_word_prop_delta_decrease\n",
       "[1,] -1.42222222                                                           \n",
       "[2,] -0.10644258                                                           \n",
       "[3,] -0.01538462                                                           \n",
       "[4,]  0.00000000                                                           \n",
       "[5,]  0.00000000                                                           \n",
       "[6,]  0.00000000                                                           \n",
       "     feature.english.dictionary.revision.diff.non_dict_word_delta_sum\n",
       "[1,]  0                                                              \n",
       "[2,] -5                                                              \n",
       "[3,]  0                                                              \n",
       "[4,]  0                                                              \n",
       "[5,]  0                                                              \n",
       "[6,]  3                                                              \n",
       "     feature.english.dictionary.revision.diff.non_dict_word_delta_increase\n",
       "[1,] 0                                                                    \n",
       "[2,] 0                                                                    \n",
       "[3,] 0                                                                    \n",
       "[4,] 0                                                                    \n",
       "[5,] 0                                                                    \n",
       "[6,] 4                                                                    \n",
       "     feature.english.dictionary.revision.diff.non_dict_word_delta_decrease\n",
       "[1,]  0                                                                   \n",
       "[2,] -5                                                                   \n",
       "[3,]  0                                                                   \n",
       "[4,]  0                                                                   \n",
       "[5,]  0                                                                   \n",
       "[6,] -1                                                                   \n",
       "     feature.english.dictionary.revision.diff.non_dict_word_prop_delta_sum\n",
       "[1,]  0.0000000                                                           \n",
       "[2,] -0.7041667                                                           \n",
       "[3,]  0.0000000                                                           \n",
       "[4,]  0.0000000                                                           \n",
       "[5,]  0.0000000                                                           \n",
       "[6,]  1.7222222                                                           \n",
       "     feature.english.dictionary.revision.diff.non_dict_word_prop_delta_increase\n",
       "[1,] 0.000000                                                                  \n",
       "[2,] 0.000000                                                                  \n",
       "[3,] 0.000000                                                                  \n",
       "[4,] 0.000000                                                                  \n",
       "[5,] 0.000000                                                                  \n",
       "[6,] 1.833333                                                                  \n",
       "     feature.english.dictionary.revision.diff.non_dict_word_prop_delta_decrease\n",
       "[1,]  0.0000000                                                                \n",
       "[2,] -0.7041667                                                                \n",
       "[3,]  0.0000000                                                                \n",
       "[4,]  0.0000000                                                                \n",
       "[5,]  0.0000000                                                                \n",
       "[6,] -0.1111111                                                                "
      ]
     },
     "metadata": {},
     "output_type": "display_data"
    }
   ],
   "source": [
    "head(sdf_mat)"
   ]
  },
  {
   "cell_type": "code",
   "execution_count": 23,
   "metadata": {},
   "outputs": [
    {
     "data": {
      "text/html": [
       "<ol class=list-inline>\n",
       "\t<li>10000</li>\n",
       "\t<li>80</li>\n",
       "</ol>\n"
      ],
      "text/latex": [
       "\\begin{enumerate*}\n",
       "\\item 10000\n",
       "\\item 80\n",
       "\\end{enumerate*}\n"
      ],
      "text/markdown": [
       "1. 10000\n",
       "2. 80\n",
       "\n",
       "\n"
      ],
      "text/plain": [
       "[1] 10000    80"
      ]
     },
     "metadata": {},
     "output_type": "display_data"
    }
   ],
   "source": [
    "tdf = read.table(\"/export/scratch2/levon003/repos/wiki-ores-feedback/data/derived/data-shifts/tdf.csv\", \n",
    "                 header=TRUE, sep=\",\")\n",
    "tdf_mat <- as.matrix(tdf)\n",
    "dim(tdf_mat)"
   ]
  },
  {
   "cell_type": "code",
   "execution_count": 43,
   "metadata": {},
   "outputs": [
    {
     "name": "stdout",
     "output_type": "stream",
     "text": [
      "Using automatic sigma estimation (sigest) for RBF or laplace kernel \n"
     ]
    },
    {
     "data": {
      "text/plain": [
       "Kernel Maximum Mean Discrepancy object of class \"kmmd\" \n",
       " \n",
       "Gaussian Radial Basis kernel function. \n",
       " Hyperparameter : sigma =  0.000173307148192154 \n",
       "\n",
       "\n",
       " H0 Hypothesis rejected :  TRUE\n",
       " Rademacher bound :  0.0319444538429777\n",
       "\n",
       " 1st and 3rd order MMD Statistics :  0.0428745119837886 0.00172180816368033"
      ]
     },
     "metadata": {},
     "output_type": "display_data"
    }
   ],
   "source": [
    "kmmd(sdf_mat, tdf_mat, kernel=\"rbfdot\",kpar=\"automatic\", alpha = 0.7,\n",
    "     asymptotic = FALSE, replace = TRUE, ntimes = 200, frac = 1)"
   ]
  },
  {
   "cell_type": "code",
   "execution_count": 41,
   "metadata": {},
   "outputs": [
    {
     "ename": "ERROR",
     "evalue": "Error in solve.default(sPooled): Lapack routine dgesv: system is exactly singular: U[1,1] = 0\n",
     "output_type": "error",
     "traceback": [
      "Error in solve.default(sPooled): Lapack routine dgesv: system is exactly singular: U[1,1] = 0\nTraceback:\n",
      "1. hotelling.test(sdf, tdf, shrinkage = FALSE, perm = FALSE)",
      "2. hotelling.test.default(sdf, tdf, shrinkage = FALSE, perm = FALSE)",
      "3. hotelling.stat(x, y, shrinkage)",
      "4. solve(sPooled)",
      "5. solve.default(sPooled)"
     ]
    }
   ],
   "source": [
    "hotelling.test(sdf, tdf, shrinkage=FALSE, perm=FALSE)"
   ]
  },
  {
   "cell_type": "code",
   "execution_count": null,
   "metadata": {},
   "outputs": [],
   "source": []
  },
  {
   "cell_type": "code",
   "execution_count": null,
   "metadata": {},
   "outputs": [],
   "source": []
  }
 ],
 "metadata": {
  "kernelspec": {
   "display_name": "R",
   "language": "R",
   "name": "ir"
  },
  "language_info": {
   "codemirror_mode": "r",
   "file_extension": ".r",
   "mimetype": "text/x-r-source",
   "name": "R",
   "pygments_lexer": "r",
   "version": "3.6.1"
  }
 },
 "nbformat": 4,
 "nbformat_minor": 4
}
